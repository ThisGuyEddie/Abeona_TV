{
 "cells": [
  {
   "cell_type": "markdown",
   "id": "descending-bunch",
   "metadata": {},
   "source": [
    "# Imports"
   ]
  },
  {
   "cell_type": "code",
   "execution_count": 114,
   "id": "racial-stuff",
   "metadata": {},
   "outputs": [],
   "source": [
    "import pandas as pd\n",
    "import plotly.express as px\n",
    "import numpy as np\n",
    "import datetime as dt\n",
    "from plotly.subplots import make_subplots\n",
    "import plotly.graph_objects as go\n",
    "\n",
    "from sklearn.ensemble import RandomForestClassifier\n",
    "from sklearn.ensemble import RandomForestRegressor\n",
    "from imblearn.over_sampling import SMOTE\n",
    "from sklearn.model_selection import train_test_split\n",
    "from sklearn.metrics import plot_confusion_matrix\n",
    "\n",
    "from matplotlib import pyplot as plt\n",
    "from matplotlib import cm as cmap\n",
    "import matplotlib"
   ]
  },
  {
   "cell_type": "markdown",
   "id": "prerequisite-jurisdiction",
   "metadata": {},
   "source": [
    "# Pull Data"
   ]
  },
  {
   "cell_type": "markdown",
   "id": "textile-bruce",
   "metadata": {},
   "source": [
    "## Get the Facial Expression and Joystick Label Data"
   ]
  },
  {
   "cell_type": "code",
   "execution_count": 115,
   "id": "complicated-undergraduate",
   "metadata": {},
   "outputs": [
    {
     "output_type": "stream",
     "name": "stdout",
     "text": [
      "Bad data for participant 2 and video 1\n",
      "Bad data for participant 4 and video 1\n",
      "Bad data for participant 5 and video 4\n",
      "Bad data for participant 7 and video 2\n"
     ]
    }
   ],
   "source": [
    "participants = ['1', '2', '3', '4', '5', '6', '7', '8', '9', '10']\n",
    "videos = {'1': 'neutral', '2': 'positive', '3': 'neutral', '4': 'negative'}\n",
    "\n",
    "pi_df = pd.DataFrame()\n",
    "for participant in participants:\n",
    "    for video in videos.keys():\n",
    "        try:\n",
    "            tmp = pd.read_fwf(f'ubi_data/p{participant}_v{video}.txt', header=None)\n",
    "            tmp_df = tmp[(tmp.index > 94) &\n",
    "                         (tmp.index < len(tmp.index) - 44)][0].str.split(', ', expand=True)\n",
    "            data_cols = ['timestamp', 'x_joystick', 'y_joystick', 'pred_emotion', 'emotion_confidence']\n",
    "            tmp_df.columns = data_cols\n",
    "            tmp_df['participant_id'] = participant\n",
    "            tmp_df['video_id'] = video\n",
    "            tmp_df['video_type'] = videos[video]\n",
    "            tmp_df = tmp_df[['timestamp','participant_id','video_id','video_type'] + data_cols[1:]]\n",
    "\n",
    "            pi_df = pd.concat([pi_df, tmp_df])\n",
    "        except:\n",
    "            print(f'Bad data for participant {participant} and video {video}')\n",
    "            \n",
    "pi_df = pi_df.reset_index(drop=True)\n",
    "\n",
    "# Remove data that doesn't exist in the vital signs\n",
    "pi_df = pi_df[~((pi_df['participant_id'] == '5') & (pi_df['video_id'] == '3'))]\n",
    "\n",
    "pi_df = pi_df[~((pi_df['timestamp'].str.contains('jpegout')) |\n",
    "                (pi_df['timestamp'].str.contains('Opening')) |\n",
    "                (pi_df['timestamp'].str.contains('Attempting')) |\n",
    "                (pi_df['timestamp'].str.contains('Starting')) |\n",
    "                (pi_df['timestamp'].str.contains('Successfully')))]\n",
    "pi_df['timestamp'] = pd.to_datetime(pi_df['timestamp'].astype(float), unit='s').apply(lambda x: x - dt.timedelta(hours=4))\n",
    "pi_df['rounded_ts'] = pi_df.timestamp.astype(str).apply(lambda x: x.split('.')[0])\n",
    "pi_df['x_joystick'] = (-1 * (pi_df['x_joystick'].astype(int) - 500)) / 500\n",
    "del pi_df['timestamp']\n",
    "del pi_df['y_joystick']"
   ]
  },
  {
   "cell_type": "markdown",
   "id": "reliable-plenty",
   "metadata": {},
   "source": [
    "## Get the Respiration and Movement Data"
   ]
  },
  {
   "cell_type": "code",
   "execution_count": 116,
   "id": "diverse-triangle",
   "metadata": {},
   "outputs": [
    {
     "output_type": "stream",
     "name": "stdout",
     "text": [
      "Bad data for participant 2 and video 1\n",
      "Bad data for participant 4 and video 1\n",
      "Bad data for participant 5 and video 3\n",
      "Bad data for participant 5 and video 4\n",
      "Bad data for participant 7 and video 2\n"
     ]
    }
   ],
   "source": [
    "br_df = pd.DataFrame()\n",
    "for participant in participants:\n",
    "    for video in videos.keys():\n",
    "        try:\n",
    "            tmp = pd.read_fwf(f'vitalsigns/p{participant}_v{video}.csv', header=None)\n",
    "            tmp = tmp[(tmp.index > 13)].reset_index(drop=True)[0].str.split(';', expand=True)\n",
    "            tmp.columns = list(tmp[tmp.index == 0].values)[0]\n",
    "            tmp = tmp[tmp.index > 0].reset_index(drop=True).replace('nan', '-1')\n",
    "            tmp['RPM'] = tmp['RPM'].replace('0', np.nan).astype(float)\n",
    "            tmp['Distance'] = tmp['Distance'].astype(float)\n",
    "            tmp['NormalizedMovementSlow'] = tmp['NormalizedMovementSlow'].astype(float)\n",
    "            tmp['NormalizedMovementFast'] = tmp['NormalizedMovementFast'].astype(float)\n",
    "            tmp['NormalizedMovementStart'] = tmp['NormalizedMovementStart'].astype(float)\n",
    "            tmp['NormalizedMovementEnd'] = tmp['NormalizedMovementEnd'].astype(float)\n",
    "            tmp = tmp[['TimeStamp','RPM','Distance','NormalizedMovementSlow','NormalizedMovementFast','NormalizedMovementStart','NormalizedMovementEnd']]\n",
    "            data_cols = ['timestamp','rpm','distance','norm_slow','norm_fast','norm_start','norm_stop']\n",
    "            tmp.columns = data_cols\n",
    "            tmp['timestamp'] = pd.to_datetime(tmp['timestamp'])\n",
    "\n",
    "            tmp['participant_id'] = participant\n",
    "            tmp['video_id'] = video\n",
    "            tmp['video_type'] = videos[video]\n",
    "\n",
    "            tmp = tmp[['timestamp','participant_id','video_id','video_type'] + data_cols[1:]]\n",
    "\n",
    "            br_df = pd.concat([br_df, tmp])\n",
    "        except:\n",
    "            print(f'Bad data for participant {participant} and video {video}')\n",
    "        \n",
    "br_df = br_df.reset_index(drop=True)\n",
    "br_df['rounded_ts'] = br_df.timestamp.astype(str).apply(lambda x: x.split('.')[0])\n",
    "del br_df['timestamp']"
   ]
  },
  {
   "cell_type": "markdown",
   "id": "faced-brown",
   "metadata": {},
   "source": [
    "# Merge the Data"
   ]
  },
  {
   "cell_type": "code",
   "execution_count": 117,
   "id": "anonymous-bosnia",
   "metadata": {},
   "outputs": [],
   "source": [
    "data_df = pi_df.merge(br_df, how='inner', on=['participant_id','video_id','video_type','rounded_ts'])"
   ]
  },
  {
   "cell_type": "code",
   "execution_count": 118,
   "id": "numerical-launch",
   "metadata": {},
   "outputs": [],
   "source": [
    "starter_cols = ['rounded_ts','participant_id','video_id','video_type']\n",
    "other_cols = [x for x in list(data_df.columns) if x not in starter_cols]\n",
    "data_df = data_df[starter_cols + other_cols]\n",
    "data_df = data_df.dropna()"
   ]
  },
  {
   "cell_type": "markdown",
   "id": "advance-rabbit",
   "metadata": {},
   "source": [
    "# Visualize Distributions"
   ]
  },
  {
   "cell_type": "markdown",
   "id": "agreed-diameter",
   "metadata": {},
   "source": [
    "## Participant Data Representation"
   ]
  },
  {
   "cell_type": "code",
   "execution_count": 119,
   "id": "close-melbourne",
   "metadata": {},
   "outputs": [
    {
     "output_type": "display_data",
     "data": {
      "application/vnd.plotly.v1+json": {
       "config": {
        "plotlyServerURL": "https://plot.ly"
       },
       "data": [
        {
         "alignmentgroup": "True",
         "hovertemplate": "Participant ID=%{x}<br>Number of Data Points=%{y}<extra></extra>",
         "legendgroup": "",
         "marker": {
          "color": "#F8766D"
         },
         "name": "",
         "offsetgroup": "",
         "orientation": "v",
         "showlegend": false,
         "textposition": "auto",
         "type": "bar",
         "x": [
          "1",
          "10",
          "2",
          "3",
          "4",
          "5",
          "6",
          "7",
          "8",
          "9"
         ],
         "xaxis": "x",
         "y": [
          686,
          595,
          1561,
          75,
          1299,
          1063,
          236,
          322,
          2841,
          1071
         ],
         "yaxis": "y"
        }
       ],
       "layout": {
        "barmode": "relative",
        "legend": {
         "tracegroupgap": 0
        },
        "template": {
         "data": {
          "bar": [
           {
            "error_x": {
             "color": "rgb(51,51,51)"
            },
            "error_y": {
             "color": "rgb(51,51,51)"
            },
            "marker": {
             "line": {
              "color": "rgb(237,237,237)",
              "width": 0.5
             }
            },
            "type": "bar"
           }
          ],
          "barpolar": [
           {
            "marker": {
             "line": {
              "color": "rgb(237,237,237)",
              "width": 0.5
             }
            },
            "type": "barpolar"
           }
          ],
          "carpet": [
           {
            "aaxis": {
             "endlinecolor": "rgb(51,51,51)",
             "gridcolor": "white",
             "linecolor": "white",
             "minorgridcolor": "white",
             "startlinecolor": "rgb(51,51,51)"
            },
            "baxis": {
             "endlinecolor": "rgb(51,51,51)",
             "gridcolor": "white",
             "linecolor": "white",
             "minorgridcolor": "white",
             "startlinecolor": "rgb(51,51,51)"
            },
            "type": "carpet"
           }
          ],
          "choropleth": [
           {
            "colorbar": {
             "outlinewidth": 0,
             "tickcolor": "rgb(237,237,237)",
             "ticklen": 6,
             "ticks": "inside"
            },
            "type": "choropleth"
           }
          ],
          "contour": [
           {
            "colorbar": {
             "outlinewidth": 0,
             "tickcolor": "rgb(237,237,237)",
             "ticklen": 6,
             "ticks": "inside"
            },
            "colorscale": [
             [
              0,
              "rgb(20,44,66)"
             ],
             [
              1,
              "rgb(90,179,244)"
             ]
            ],
            "type": "contour"
           }
          ],
          "contourcarpet": [
           {
            "colorbar": {
             "outlinewidth": 0,
             "tickcolor": "rgb(237,237,237)",
             "ticklen": 6,
             "ticks": "inside"
            },
            "type": "contourcarpet"
           }
          ],
          "heatmap": [
           {
            "colorbar": {
             "outlinewidth": 0,
             "tickcolor": "rgb(237,237,237)",
             "ticklen": 6,
             "ticks": "inside"
            },
            "colorscale": [
             [
              0,
              "rgb(20,44,66)"
             ],
             [
              1,
              "rgb(90,179,244)"
             ]
            ],
            "type": "heatmap"
           }
          ],
          "heatmapgl": [
           {
            "colorbar": {
             "outlinewidth": 0,
             "tickcolor": "rgb(237,237,237)",
             "ticklen": 6,
             "ticks": "inside"
            },
            "colorscale": [
             [
              0,
              "rgb(20,44,66)"
             ],
             [
              1,
              "rgb(90,179,244)"
             ]
            ],
            "type": "heatmapgl"
           }
          ],
          "histogram": [
           {
            "marker": {
             "colorbar": {
              "outlinewidth": 0,
              "tickcolor": "rgb(237,237,237)",
              "ticklen": 6,
              "ticks": "inside"
             }
            },
            "type": "histogram"
           }
          ],
          "histogram2d": [
           {
            "colorbar": {
             "outlinewidth": 0,
             "tickcolor": "rgb(237,237,237)",
             "ticklen": 6,
             "ticks": "inside"
            },
            "colorscale": [
             [
              0,
              "rgb(20,44,66)"
             ],
             [
              1,
              "rgb(90,179,244)"
             ]
            ],
            "type": "histogram2d"
           }
          ],
          "histogram2dcontour": [
           {
            "colorbar": {
             "outlinewidth": 0,
             "tickcolor": "rgb(237,237,237)",
             "ticklen": 6,
             "ticks": "inside"
            },
            "colorscale": [
             [
              0,
              "rgb(20,44,66)"
             ],
             [
              1,
              "rgb(90,179,244)"
             ]
            ],
            "type": "histogram2dcontour"
           }
          ],
          "mesh3d": [
           {
            "colorbar": {
             "outlinewidth": 0,
             "tickcolor": "rgb(237,237,237)",
             "ticklen": 6,
             "ticks": "inside"
            },
            "type": "mesh3d"
           }
          ],
          "parcoords": [
           {
            "line": {
             "colorbar": {
              "outlinewidth": 0,
              "tickcolor": "rgb(237,237,237)",
              "ticklen": 6,
              "ticks": "inside"
             }
            },
            "type": "parcoords"
           }
          ],
          "pie": [
           {
            "automargin": true,
            "type": "pie"
           }
          ],
          "scatter": [
           {
            "marker": {
             "colorbar": {
              "outlinewidth": 0,
              "tickcolor": "rgb(237,237,237)",
              "ticklen": 6,
              "ticks": "inside"
             }
            },
            "type": "scatter"
           }
          ],
          "scatter3d": [
           {
            "line": {
             "colorbar": {
              "outlinewidth": 0,
              "tickcolor": "rgb(237,237,237)",
              "ticklen": 6,
              "ticks": "inside"
             }
            },
            "marker": {
             "colorbar": {
              "outlinewidth": 0,
              "tickcolor": "rgb(237,237,237)",
              "ticklen": 6,
              "ticks": "inside"
             }
            },
            "type": "scatter3d"
           }
          ],
          "scattercarpet": [
           {
            "marker": {
             "colorbar": {
              "outlinewidth": 0,
              "tickcolor": "rgb(237,237,237)",
              "ticklen": 6,
              "ticks": "inside"
             }
            },
            "type": "scattercarpet"
           }
          ],
          "scattergeo": [
           {
            "marker": {
             "colorbar": {
              "outlinewidth": 0,
              "tickcolor": "rgb(237,237,237)",
              "ticklen": 6,
              "ticks": "inside"
             }
            },
            "type": "scattergeo"
           }
          ],
          "scattergl": [
           {
            "marker": {
             "colorbar": {
              "outlinewidth": 0,
              "tickcolor": "rgb(237,237,237)",
              "ticklen": 6,
              "ticks": "inside"
             }
            },
            "type": "scattergl"
           }
          ],
          "scattermapbox": [
           {
            "marker": {
             "colorbar": {
              "outlinewidth": 0,
              "tickcolor": "rgb(237,237,237)",
              "ticklen": 6,
              "ticks": "inside"
             }
            },
            "type": "scattermapbox"
           }
          ],
          "scatterpolar": [
           {
            "marker": {
             "colorbar": {
              "outlinewidth": 0,
              "tickcolor": "rgb(237,237,237)",
              "ticklen": 6,
              "ticks": "inside"
             }
            },
            "type": "scatterpolar"
           }
          ],
          "scatterpolargl": [
           {
            "marker": {
             "colorbar": {
              "outlinewidth": 0,
              "tickcolor": "rgb(237,237,237)",
              "ticklen": 6,
              "ticks": "inside"
             }
            },
            "type": "scatterpolargl"
           }
          ],
          "scatterternary": [
           {
            "marker": {
             "colorbar": {
              "outlinewidth": 0,
              "tickcolor": "rgb(237,237,237)",
              "ticklen": 6,
              "ticks": "inside"
             }
            },
            "type": "scatterternary"
           }
          ],
          "surface": [
           {
            "colorbar": {
             "outlinewidth": 0,
             "tickcolor": "rgb(237,237,237)",
             "ticklen": 6,
             "ticks": "inside"
            },
            "colorscale": [
             [
              0,
              "rgb(20,44,66)"
             ],
             [
              1,
              "rgb(90,179,244)"
             ]
            ],
            "type": "surface"
           }
          ],
          "table": [
           {
            "cells": {
             "fill": {
              "color": "rgb(237,237,237)"
             },
             "line": {
              "color": "white"
             }
            },
            "header": {
             "fill": {
              "color": "rgb(217,217,217)"
             },
             "line": {
              "color": "white"
             }
            },
            "type": "table"
           }
          ]
         },
         "layout": {
          "annotationdefaults": {
           "arrowhead": 0,
           "arrowwidth": 1
          },
          "autotypenumbers": "strict",
          "coloraxis": {
           "colorbar": {
            "outlinewidth": 0,
            "tickcolor": "rgb(237,237,237)",
            "ticklen": 6,
            "ticks": "inside"
           }
          },
          "colorscale": {
           "sequential": [
            [
             0,
             "rgb(20,44,66)"
            ],
            [
             1,
             "rgb(90,179,244)"
            ]
           ],
           "sequentialminus": [
            [
             0,
             "rgb(20,44,66)"
            ],
            [
             1,
             "rgb(90,179,244)"
            ]
           ]
          },
          "colorway": [
           "#F8766D",
           "#A3A500",
           "#00BF7D",
           "#00B0F6",
           "#E76BF3"
          ],
          "font": {
           "color": "rgb(51,51,51)"
          },
          "geo": {
           "bgcolor": "white",
           "lakecolor": "white",
           "landcolor": "rgb(237,237,237)",
           "showlakes": true,
           "showland": true,
           "subunitcolor": "white"
          },
          "hoverlabel": {
           "align": "left"
          },
          "hovermode": "closest",
          "paper_bgcolor": "white",
          "plot_bgcolor": "rgb(237,237,237)",
          "polar": {
           "angularaxis": {
            "gridcolor": "white",
            "linecolor": "white",
            "showgrid": true,
            "tickcolor": "rgb(51,51,51)",
            "ticks": "outside"
           },
           "bgcolor": "rgb(237,237,237)",
           "radialaxis": {
            "gridcolor": "white",
            "linecolor": "white",
            "showgrid": true,
            "tickcolor": "rgb(51,51,51)",
            "ticks": "outside"
           }
          },
          "scene": {
           "xaxis": {
            "backgroundcolor": "rgb(237,237,237)",
            "gridcolor": "white",
            "gridwidth": 2,
            "linecolor": "white",
            "showbackground": true,
            "showgrid": true,
            "tickcolor": "rgb(51,51,51)",
            "ticks": "outside",
            "zerolinecolor": "white"
           },
           "yaxis": {
            "backgroundcolor": "rgb(237,237,237)",
            "gridcolor": "white",
            "gridwidth": 2,
            "linecolor": "white",
            "showbackground": true,
            "showgrid": true,
            "tickcolor": "rgb(51,51,51)",
            "ticks": "outside",
            "zerolinecolor": "white"
           },
           "zaxis": {
            "backgroundcolor": "rgb(237,237,237)",
            "gridcolor": "white",
            "gridwidth": 2,
            "linecolor": "white",
            "showbackground": true,
            "showgrid": true,
            "tickcolor": "rgb(51,51,51)",
            "ticks": "outside",
            "zerolinecolor": "white"
           }
          },
          "shapedefaults": {
           "fillcolor": "black",
           "line": {
            "width": 0
           },
           "opacity": 0.3
          },
          "ternary": {
           "aaxis": {
            "gridcolor": "white",
            "linecolor": "white",
            "showgrid": true,
            "tickcolor": "rgb(51,51,51)",
            "ticks": "outside"
           },
           "baxis": {
            "gridcolor": "white",
            "linecolor": "white",
            "showgrid": true,
            "tickcolor": "rgb(51,51,51)",
            "ticks": "outside"
           },
           "bgcolor": "rgb(237,237,237)",
           "caxis": {
            "gridcolor": "white",
            "linecolor": "white",
            "showgrid": true,
            "tickcolor": "rgb(51,51,51)",
            "ticks": "outside"
           }
          },
          "xaxis": {
           "automargin": true,
           "gridcolor": "white",
           "linecolor": "white",
           "showgrid": true,
           "tickcolor": "rgb(51,51,51)",
           "ticks": "outside",
           "title": {
            "standoff": 15
           },
           "zerolinecolor": "white"
          },
          "yaxis": {
           "automargin": true,
           "gridcolor": "white",
           "linecolor": "white",
           "showgrid": true,
           "tickcolor": "rgb(51,51,51)",
           "ticks": "outside",
           "title": {
            "standoff": 15
           },
           "zerolinecolor": "white"
          }
         }
        },
        "title": {
         "text": "Participant Data Distribution"
        },
        "xaxis": {
         "anchor": "y",
         "domain": [
          0,
          1
         ],
         "title": {
          "text": "Participant ID"
         }
        },
        "yaxis": {
         "anchor": "x",
         "domain": [
          0,
          1
         ],
         "title": {
          "text": "Number of Data Points"
         }
        }
       }
      }
     },
     "metadata": {}
    }
   ],
   "source": [
    "count_df = data_df.groupby('participant_id').video_id.count().reset_index().rename(columns={'video_id': 'count'})\n",
    "fig = px.bar(count_df, x='participant_id', y='count',\n",
    "             title='Participant Data Distribution',\n",
    "             labels={'count': 'Number of Data Points',\n",
    "                     'participant_id': 'Participant ID'},\n",
    "             template='ggplot2')\n",
    "fig.show()"
   ]
  },
  {
   "cell_type": "markdown",
   "id": "affiliated-replica",
   "metadata": {},
   "source": [
    "## Distribution of User Reported Emotions"
   ]
  },
  {
   "cell_type": "code",
   "execution_count": 120,
   "id": "productive-china",
   "metadata": {},
   "outputs": [
    {
     "output_type": "stream",
     "name": "stderr",
     "text": [
      "<ipython-input-120-e86b86564502>:10: SettingWithCopyWarning:\n\n\nA value is trying to be set on a copy of a slice from a DataFrame.\nTry using .loc[row_indexer,col_indexer] = value instead\n\nSee the caveats in the documentation: https://pandas.pydata.org/pandas-docs/stable/user_guide/indexing.html#returning-a-view-versus-a-copy\n\n"
     ]
    },
    {
     "output_type": "display_data",
     "data": {
      "application/vnd.plotly.v1+json": {
       "config": {
        "plotlyServerURL": "https://plot.ly"
       },
       "data": [
        {
         "type": "bar",
         "x": [
          -1,
          -0.75,
          -0.5,
          -0.25,
          0,
          0.25,
          0.5,
          0.75,
          1
         ],
         "xaxis": "x",
         "y": [
          0,
          0,
          0,
          0,
          3278,
          20,
          18,
          17,
          136
         ],
         "yaxis": "y"
        },
        {
         "type": "bar",
         "x": [
          -1,
          -0.75,
          -0.5,
          -0.25,
          0,
          0.25,
          0.5,
          0.75,
          1
         ],
         "xaxis": "x2",
         "y": [
          7,
          0,
          0,
          0,
          3838,
          92,
          39,
          59,
          942
         ],
         "yaxis": "y2"
        },
        {
         "type": "bar",
         "x": [
          -1,
          -0.75,
          -0.5,
          -0.25,
          0,
          0.25,
          0.5,
          0.75,
          1
         ],
         "xaxis": "x3",
         "y": [
          161,
          17,
          10,
          2,
          932,
          2,
          2,
          3,
          174
         ],
         "yaxis": "y3"
        }
       ],
       "layout": {
        "annotations": [
         {
          "font": {
           "size": 16
          },
          "showarrow": false,
          "text": "Neutral",
          "x": 0.14444444444444446,
          "xanchor": "center",
          "xref": "paper",
          "y": 1,
          "yanchor": "bottom",
          "yref": "paper"
         },
         {
          "font": {
           "size": 16
          },
          "showarrow": false,
          "text": "Positive",
          "x": 0.5,
          "xanchor": "center",
          "xref": "paper",
          "y": 1,
          "yanchor": "bottom",
          "yref": "paper"
         },
         {
          "font": {
           "size": 16
          },
          "showarrow": false,
          "text": "Negative",
          "x": 0.8555555555555556,
          "xanchor": "center",
          "xref": "paper",
          "y": 1,
          "yanchor": "bottom",
          "yref": "paper"
         }
        ],
        "showlegend": false,
        "template": {
         "data": {
          "bar": [
           {
            "error_x": {
             "color": "#2a3f5f"
            },
            "error_y": {
             "color": "#2a3f5f"
            },
            "marker": {
             "line": {
              "color": "#E5ECF6",
              "width": 0.5
             }
            },
            "type": "bar"
           }
          ],
          "barpolar": [
           {
            "marker": {
             "line": {
              "color": "#E5ECF6",
              "width": 0.5
             }
            },
            "type": "barpolar"
           }
          ],
          "carpet": [
           {
            "aaxis": {
             "endlinecolor": "#2a3f5f",
             "gridcolor": "white",
             "linecolor": "white",
             "minorgridcolor": "white",
             "startlinecolor": "#2a3f5f"
            },
            "baxis": {
             "endlinecolor": "#2a3f5f",
             "gridcolor": "white",
             "linecolor": "white",
             "minorgridcolor": "white",
             "startlinecolor": "#2a3f5f"
            },
            "type": "carpet"
           }
          ],
          "choropleth": [
           {
            "colorbar": {
             "outlinewidth": 0,
             "ticks": ""
            },
            "type": "choropleth"
           }
          ],
          "contour": [
           {
            "colorbar": {
             "outlinewidth": 0,
             "ticks": ""
            },
            "colorscale": [
             [
              0,
              "#0d0887"
             ],
             [
              0.1111111111111111,
              "#46039f"
             ],
             [
              0.2222222222222222,
              "#7201a8"
             ],
             [
              0.3333333333333333,
              "#9c179e"
             ],
             [
              0.4444444444444444,
              "#bd3786"
             ],
             [
              0.5555555555555556,
              "#d8576b"
             ],
             [
              0.6666666666666666,
              "#ed7953"
             ],
             [
              0.7777777777777778,
              "#fb9f3a"
             ],
             [
              0.8888888888888888,
              "#fdca26"
             ],
             [
              1,
              "#f0f921"
             ]
            ],
            "type": "contour"
           }
          ],
          "contourcarpet": [
           {
            "colorbar": {
             "outlinewidth": 0,
             "ticks": ""
            },
            "type": "contourcarpet"
           }
          ],
          "heatmap": [
           {
            "colorbar": {
             "outlinewidth": 0,
             "ticks": ""
            },
            "colorscale": [
             [
              0,
              "#0d0887"
             ],
             [
              0.1111111111111111,
              "#46039f"
             ],
             [
              0.2222222222222222,
              "#7201a8"
             ],
             [
              0.3333333333333333,
              "#9c179e"
             ],
             [
              0.4444444444444444,
              "#bd3786"
             ],
             [
              0.5555555555555556,
              "#d8576b"
             ],
             [
              0.6666666666666666,
              "#ed7953"
             ],
             [
              0.7777777777777778,
              "#fb9f3a"
             ],
             [
              0.8888888888888888,
              "#fdca26"
             ],
             [
              1,
              "#f0f921"
             ]
            ],
            "type": "heatmap"
           }
          ],
          "heatmapgl": [
           {
            "colorbar": {
             "outlinewidth": 0,
             "ticks": ""
            },
            "colorscale": [
             [
              0,
              "#0d0887"
             ],
             [
              0.1111111111111111,
              "#46039f"
             ],
             [
              0.2222222222222222,
              "#7201a8"
             ],
             [
              0.3333333333333333,
              "#9c179e"
             ],
             [
              0.4444444444444444,
              "#bd3786"
             ],
             [
              0.5555555555555556,
              "#d8576b"
             ],
             [
              0.6666666666666666,
              "#ed7953"
             ],
             [
              0.7777777777777778,
              "#fb9f3a"
             ],
             [
              0.8888888888888888,
              "#fdca26"
             ],
             [
              1,
              "#f0f921"
             ]
            ],
            "type": "heatmapgl"
           }
          ],
          "histogram": [
           {
            "marker": {
             "colorbar": {
              "outlinewidth": 0,
              "ticks": ""
             }
            },
            "type": "histogram"
           }
          ],
          "histogram2d": [
           {
            "colorbar": {
             "outlinewidth": 0,
             "ticks": ""
            },
            "colorscale": [
             [
              0,
              "#0d0887"
             ],
             [
              0.1111111111111111,
              "#46039f"
             ],
             [
              0.2222222222222222,
              "#7201a8"
             ],
             [
              0.3333333333333333,
              "#9c179e"
             ],
             [
              0.4444444444444444,
              "#bd3786"
             ],
             [
              0.5555555555555556,
              "#d8576b"
             ],
             [
              0.6666666666666666,
              "#ed7953"
             ],
             [
              0.7777777777777778,
              "#fb9f3a"
             ],
             [
              0.8888888888888888,
              "#fdca26"
             ],
             [
              1,
              "#f0f921"
             ]
            ],
            "type": "histogram2d"
           }
          ],
          "histogram2dcontour": [
           {
            "colorbar": {
             "outlinewidth": 0,
             "ticks": ""
            },
            "colorscale": [
             [
              0,
              "#0d0887"
             ],
             [
              0.1111111111111111,
              "#46039f"
             ],
             [
              0.2222222222222222,
              "#7201a8"
             ],
             [
              0.3333333333333333,
              "#9c179e"
             ],
             [
              0.4444444444444444,
              "#bd3786"
             ],
             [
              0.5555555555555556,
              "#d8576b"
             ],
             [
              0.6666666666666666,
              "#ed7953"
             ],
             [
              0.7777777777777778,
              "#fb9f3a"
             ],
             [
              0.8888888888888888,
              "#fdca26"
             ],
             [
              1,
              "#f0f921"
             ]
            ],
            "type": "histogram2dcontour"
           }
          ],
          "mesh3d": [
           {
            "colorbar": {
             "outlinewidth": 0,
             "ticks": ""
            },
            "type": "mesh3d"
           }
          ],
          "parcoords": [
           {
            "line": {
             "colorbar": {
              "outlinewidth": 0,
              "ticks": ""
             }
            },
            "type": "parcoords"
           }
          ],
          "pie": [
           {
            "automargin": true,
            "type": "pie"
           }
          ],
          "scatter": [
           {
            "marker": {
             "colorbar": {
              "outlinewidth": 0,
              "ticks": ""
             }
            },
            "type": "scatter"
           }
          ],
          "scatter3d": [
           {
            "line": {
             "colorbar": {
              "outlinewidth": 0,
              "ticks": ""
             }
            },
            "marker": {
             "colorbar": {
              "outlinewidth": 0,
              "ticks": ""
             }
            },
            "type": "scatter3d"
           }
          ],
          "scattercarpet": [
           {
            "marker": {
             "colorbar": {
              "outlinewidth": 0,
              "ticks": ""
             }
            },
            "type": "scattercarpet"
           }
          ],
          "scattergeo": [
           {
            "marker": {
             "colorbar": {
              "outlinewidth": 0,
              "ticks": ""
             }
            },
            "type": "scattergeo"
           }
          ],
          "scattergl": [
           {
            "marker": {
             "colorbar": {
              "outlinewidth": 0,
              "ticks": ""
             }
            },
            "type": "scattergl"
           }
          ],
          "scattermapbox": [
           {
            "marker": {
             "colorbar": {
              "outlinewidth": 0,
              "ticks": ""
             }
            },
            "type": "scattermapbox"
           }
          ],
          "scatterpolar": [
           {
            "marker": {
             "colorbar": {
              "outlinewidth": 0,
              "ticks": ""
             }
            },
            "type": "scatterpolar"
           }
          ],
          "scatterpolargl": [
           {
            "marker": {
             "colorbar": {
              "outlinewidth": 0,
              "ticks": ""
             }
            },
            "type": "scatterpolargl"
           }
          ],
          "scatterternary": [
           {
            "marker": {
             "colorbar": {
              "outlinewidth": 0,
              "ticks": ""
             }
            },
            "type": "scatterternary"
           }
          ],
          "surface": [
           {
            "colorbar": {
             "outlinewidth": 0,
             "ticks": ""
            },
            "colorscale": [
             [
              0,
              "#0d0887"
             ],
             [
              0.1111111111111111,
              "#46039f"
             ],
             [
              0.2222222222222222,
              "#7201a8"
             ],
             [
              0.3333333333333333,
              "#9c179e"
             ],
             [
              0.4444444444444444,
              "#bd3786"
             ],
             [
              0.5555555555555556,
              "#d8576b"
             ],
             [
              0.6666666666666666,
              "#ed7953"
             ],
             [
              0.7777777777777778,
              "#fb9f3a"
             ],
             [
              0.8888888888888888,
              "#fdca26"
             ],
             [
              1,
              "#f0f921"
             ]
            ],
            "type": "surface"
           }
          ],
          "table": [
           {
            "cells": {
             "fill": {
              "color": "#EBF0F8"
             },
             "line": {
              "color": "white"
             }
            },
            "header": {
             "fill": {
              "color": "#C8D4E3"
             },
             "line": {
              "color": "white"
             }
            },
            "type": "table"
           }
          ]
         },
         "layout": {
          "annotationdefaults": {
           "arrowcolor": "#2a3f5f",
           "arrowhead": 0,
           "arrowwidth": 1
          },
          "autotypenumbers": "strict",
          "coloraxis": {
           "colorbar": {
            "outlinewidth": 0,
            "ticks": ""
           }
          },
          "colorscale": {
           "diverging": [
            [
             0,
             "#8e0152"
            ],
            [
             0.1,
             "#c51b7d"
            ],
            [
             0.2,
             "#de77ae"
            ],
            [
             0.3,
             "#f1b6da"
            ],
            [
             0.4,
             "#fde0ef"
            ],
            [
             0.5,
             "#f7f7f7"
            ],
            [
             0.6,
             "#e6f5d0"
            ],
            [
             0.7,
             "#b8e186"
            ],
            [
             0.8,
             "#7fbc41"
            ],
            [
             0.9,
             "#4d9221"
            ],
            [
             1,
             "#276419"
            ]
           ],
           "sequential": [
            [
             0,
             "#0d0887"
            ],
            [
             0.1111111111111111,
             "#46039f"
            ],
            [
             0.2222222222222222,
             "#7201a8"
            ],
            [
             0.3333333333333333,
             "#9c179e"
            ],
            [
             0.4444444444444444,
             "#bd3786"
            ],
            [
             0.5555555555555556,
             "#d8576b"
            ],
            [
             0.6666666666666666,
             "#ed7953"
            ],
            [
             0.7777777777777778,
             "#fb9f3a"
            ],
            [
             0.8888888888888888,
             "#fdca26"
            ],
            [
             1,
             "#f0f921"
            ]
           ],
           "sequentialminus": [
            [
             0,
             "#0d0887"
            ],
            [
             0.1111111111111111,
             "#46039f"
            ],
            [
             0.2222222222222222,
             "#7201a8"
            ],
            [
             0.3333333333333333,
             "#9c179e"
            ],
            [
             0.4444444444444444,
             "#bd3786"
            ],
            [
             0.5555555555555556,
             "#d8576b"
            ],
            [
             0.6666666666666666,
             "#ed7953"
            ],
            [
             0.7777777777777778,
             "#fb9f3a"
            ],
            [
             0.8888888888888888,
             "#fdca26"
            ],
            [
             1,
             "#f0f921"
            ]
           ]
          },
          "colorway": [
           "#636efa",
           "#EF553B",
           "#00cc96",
           "#ab63fa",
           "#FFA15A",
           "#19d3f3",
           "#FF6692",
           "#B6E880",
           "#FF97FF",
           "#FECB52"
          ],
          "font": {
           "color": "#2a3f5f"
          },
          "geo": {
           "bgcolor": "white",
           "lakecolor": "white",
           "landcolor": "#E5ECF6",
           "showlakes": true,
           "showland": true,
           "subunitcolor": "white"
          },
          "hoverlabel": {
           "align": "left"
          },
          "hovermode": "closest",
          "mapbox": {
           "style": "light"
          },
          "paper_bgcolor": "white",
          "plot_bgcolor": "#E5ECF6",
          "polar": {
           "angularaxis": {
            "gridcolor": "white",
            "linecolor": "white",
            "ticks": ""
           },
           "bgcolor": "#E5ECF6",
           "radialaxis": {
            "gridcolor": "white",
            "linecolor": "white",
            "ticks": ""
           }
          },
          "scene": {
           "xaxis": {
            "backgroundcolor": "#E5ECF6",
            "gridcolor": "white",
            "gridwidth": 2,
            "linecolor": "white",
            "showbackground": true,
            "ticks": "",
            "zerolinecolor": "white"
           },
           "yaxis": {
            "backgroundcolor": "#E5ECF6",
            "gridcolor": "white",
            "gridwidth": 2,
            "linecolor": "white",
            "showbackground": true,
            "ticks": "",
            "zerolinecolor": "white"
           },
           "zaxis": {
            "backgroundcolor": "#E5ECF6",
            "gridcolor": "white",
            "gridwidth": 2,
            "linecolor": "white",
            "showbackground": true,
            "ticks": "",
            "zerolinecolor": "white"
           }
          },
          "shapedefaults": {
           "line": {
            "color": "#2a3f5f"
           }
          },
          "ternary": {
           "aaxis": {
            "gridcolor": "white",
            "linecolor": "white",
            "ticks": ""
           },
           "baxis": {
            "gridcolor": "white",
            "linecolor": "white",
            "ticks": ""
           },
           "bgcolor": "#E5ECF6",
           "caxis": {
            "gridcolor": "white",
            "linecolor": "white",
            "ticks": ""
           }
          },
          "title": {
           "x": 0.05
          },
          "xaxis": {
           "automargin": true,
           "gridcolor": "white",
           "linecolor": "white",
           "ticks": "",
           "title": {
            "standoff": 15
           },
           "zerolinecolor": "white",
           "zerolinewidth": 2
          },
          "yaxis": {
           "automargin": true,
           "gridcolor": "white",
           "linecolor": "white",
           "ticks": "",
           "title": {
            "standoff": 15
           },
           "zerolinecolor": "white",
           "zerolinewidth": 2
          }
         }
        },
        "title": {
         "text": "User-Reported Emotion by Video Type"
        },
        "xaxis": {
         "anchor": "y",
         "domain": [
          0,
          0.2888888888888889
         ]
        },
        "xaxis2": {
         "anchor": "y2",
         "domain": [
          0.35555555555555557,
          0.6444444444444445
         ],
         "title": {
          "text": "Negative to Positive Reported Emotions"
         }
        },
        "xaxis3": {
         "anchor": "y3",
         "domain": [
          0.7111111111111111,
          1
         ]
        },
        "yaxis": {
         "anchor": "x",
         "domain": [
          0,
          1
         ],
         "title": {
          "text": "Count of Reported Emotions"
         }
        },
        "yaxis2": {
         "anchor": "x2",
         "domain": [
          0,
          1
         ]
        },
        "yaxis3": {
         "anchor": "x3",
         "domain": [
          0,
          1
         ]
        }
       }
      }
     },
     "metadata": {}
    }
   ],
   "source": [
    "bins = [-1.5, -0.75, -0.5, -0.25, -0.1, 0.1,\n",
    "        0.25, 0.5, 0.75, 1.5]\n",
    "labels = [-1.0, -0.75, -0.5, -0.25, 0.0, 0.25, 0.5, 0.75, 1.0]\n",
    "\n",
    "fig = make_subplots(rows=1, cols=3,\n",
    "                    subplot_titles=('Neutral','Positive','Negative'))\n",
    "emotions = ['neutral','positive','negative']\n",
    "for i, emotion in enumerate(emotions):\n",
    "    tmp = data_df[data_df['video_type'] == emotion]\n",
    "    tmp['x_joystick'] = pd.cut(tmp['x_joystick'], bins=bins, labels=labels)\n",
    "    tmp = tmp.groupby('x_joystick').video_id.count().reset_index().rename(columns={'video_id':'count'})\n",
    "    fig.add_trace(go.Bar(x=list(tmp['x_joystick']),\n",
    "                         y=list(tmp['count'])),\n",
    "                  row=1, col=i + 1)\n",
    "\n",
    "fig.update_layout(title_text='User-Reported Emotion by Video Type', showlegend=False)\n",
    "fig.update_yaxes(title_text='Count of Reported Emotions', row=1, col=1)\n",
    "fig.update_xaxes(title_text='Negative to Positive Reported Emotions', row=1, col=2)\n",
    "fig.show()"
   ]
  },
  {
   "cell_type": "markdown",
   "id": "historical-telescope",
   "metadata": {},
   "source": [
    "## RPM Distribution "
   ]
  },
  {
   "cell_type": "code",
   "execution_count": 121,
   "id": "hispanic-penetration",
   "metadata": {},
   "outputs": [
    {
     "output_type": "stream",
     "name": "stderr",
     "text": [
      "<ipython-input-121-a7ce55519c6c>:9: SettingWithCopyWarning:\n\n\nA value is trying to be set on a copy of a slice from a DataFrame.\nTry using .loc[row_indexer,col_indexer] = value instead\n\nSee the caveats in the documentation: https://pandas.pydata.org/pandas-docs/stable/user_guide/indexing.html#returning-a-view-versus-a-copy\n\n"
     ]
    },
    {
     "output_type": "display_data",
     "data": {
      "application/vnd.plotly.v1+json": {
       "config": {
        "plotlyServerURL": "https://plot.ly"
       },
       "data": [
        {
         "type": "bar",
         "x": [
          6,
          9,
          12,
          15,
          18,
          21,
          24,
          27,
          30
         ],
         "xaxis": "x",
         "y": [
          32,
          420,
          1031,
          795,
          569,
          307,
          246,
          41,
          28
         ],
         "yaxis": "y"
        },
        {
         "type": "bar",
         "x": [
          6,
          9,
          12,
          15,
          18,
          21,
          24,
          27,
          30
         ],
         "xaxis": "x2",
         "y": [
          261,
          739,
          407,
          512,
          1120,
          314,
          1273,
          180,
          171
         ],
         "yaxis": "y2"
        },
        {
         "type": "bar",
         "x": [
          6,
          9,
          12,
          15,
          18,
          21,
          24,
          27,
          30
         ],
         "xaxis": "x3",
         "y": [
          0,
          0,
          139,
          37,
          244,
          223,
          330,
          330,
          0
         ],
         "yaxis": "y3"
        }
       ],
       "layout": {
        "annotations": [
         {
          "font": {
           "size": 16
          },
          "showarrow": false,
          "text": "Neutral",
          "x": 0.14444444444444446,
          "xanchor": "center",
          "xref": "paper",
          "y": 1,
          "yanchor": "bottom",
          "yref": "paper"
         },
         {
          "font": {
           "size": 16
          },
          "showarrow": false,
          "text": "Positive",
          "x": 0.5,
          "xanchor": "center",
          "xref": "paper",
          "y": 1,
          "yanchor": "bottom",
          "yref": "paper"
         },
         {
          "font": {
           "size": 16
          },
          "showarrow": false,
          "text": "Negative",
          "x": 0.8555555555555556,
          "xanchor": "center",
          "xref": "paper",
          "y": 1,
          "yanchor": "bottom",
          "yref": "paper"
         }
        ],
        "showlegend": false,
        "template": {
         "data": {
          "bar": [
           {
            "error_x": {
             "color": "#2a3f5f"
            },
            "error_y": {
             "color": "#2a3f5f"
            },
            "marker": {
             "line": {
              "color": "#E5ECF6",
              "width": 0.5
             }
            },
            "type": "bar"
           }
          ],
          "barpolar": [
           {
            "marker": {
             "line": {
              "color": "#E5ECF6",
              "width": 0.5
             }
            },
            "type": "barpolar"
           }
          ],
          "carpet": [
           {
            "aaxis": {
             "endlinecolor": "#2a3f5f",
             "gridcolor": "white",
             "linecolor": "white",
             "minorgridcolor": "white",
             "startlinecolor": "#2a3f5f"
            },
            "baxis": {
             "endlinecolor": "#2a3f5f",
             "gridcolor": "white",
             "linecolor": "white",
             "minorgridcolor": "white",
             "startlinecolor": "#2a3f5f"
            },
            "type": "carpet"
           }
          ],
          "choropleth": [
           {
            "colorbar": {
             "outlinewidth": 0,
             "ticks": ""
            },
            "type": "choropleth"
           }
          ],
          "contour": [
           {
            "colorbar": {
             "outlinewidth": 0,
             "ticks": ""
            },
            "colorscale": [
             [
              0,
              "#0d0887"
             ],
             [
              0.1111111111111111,
              "#46039f"
             ],
             [
              0.2222222222222222,
              "#7201a8"
             ],
             [
              0.3333333333333333,
              "#9c179e"
             ],
             [
              0.4444444444444444,
              "#bd3786"
             ],
             [
              0.5555555555555556,
              "#d8576b"
             ],
             [
              0.6666666666666666,
              "#ed7953"
             ],
             [
              0.7777777777777778,
              "#fb9f3a"
             ],
             [
              0.8888888888888888,
              "#fdca26"
             ],
             [
              1,
              "#f0f921"
             ]
            ],
            "type": "contour"
           }
          ],
          "contourcarpet": [
           {
            "colorbar": {
             "outlinewidth": 0,
             "ticks": ""
            },
            "type": "contourcarpet"
           }
          ],
          "heatmap": [
           {
            "colorbar": {
             "outlinewidth": 0,
             "ticks": ""
            },
            "colorscale": [
             [
              0,
              "#0d0887"
             ],
             [
              0.1111111111111111,
              "#46039f"
             ],
             [
              0.2222222222222222,
              "#7201a8"
             ],
             [
              0.3333333333333333,
              "#9c179e"
             ],
             [
              0.4444444444444444,
              "#bd3786"
             ],
             [
              0.5555555555555556,
              "#d8576b"
             ],
             [
              0.6666666666666666,
              "#ed7953"
             ],
             [
              0.7777777777777778,
              "#fb9f3a"
             ],
             [
              0.8888888888888888,
              "#fdca26"
             ],
             [
              1,
              "#f0f921"
             ]
            ],
            "type": "heatmap"
           }
          ],
          "heatmapgl": [
           {
            "colorbar": {
             "outlinewidth": 0,
             "ticks": ""
            },
            "colorscale": [
             [
              0,
              "#0d0887"
             ],
             [
              0.1111111111111111,
              "#46039f"
             ],
             [
              0.2222222222222222,
              "#7201a8"
             ],
             [
              0.3333333333333333,
              "#9c179e"
             ],
             [
              0.4444444444444444,
              "#bd3786"
             ],
             [
              0.5555555555555556,
              "#d8576b"
             ],
             [
              0.6666666666666666,
              "#ed7953"
             ],
             [
              0.7777777777777778,
              "#fb9f3a"
             ],
             [
              0.8888888888888888,
              "#fdca26"
             ],
             [
              1,
              "#f0f921"
             ]
            ],
            "type": "heatmapgl"
           }
          ],
          "histogram": [
           {
            "marker": {
             "colorbar": {
              "outlinewidth": 0,
              "ticks": ""
             }
            },
            "type": "histogram"
           }
          ],
          "histogram2d": [
           {
            "colorbar": {
             "outlinewidth": 0,
             "ticks": ""
            },
            "colorscale": [
             [
              0,
              "#0d0887"
             ],
             [
              0.1111111111111111,
              "#46039f"
             ],
             [
              0.2222222222222222,
              "#7201a8"
             ],
             [
              0.3333333333333333,
              "#9c179e"
             ],
             [
              0.4444444444444444,
              "#bd3786"
             ],
             [
              0.5555555555555556,
              "#d8576b"
             ],
             [
              0.6666666666666666,
              "#ed7953"
             ],
             [
              0.7777777777777778,
              "#fb9f3a"
             ],
             [
              0.8888888888888888,
              "#fdca26"
             ],
             [
              1,
              "#f0f921"
             ]
            ],
            "type": "histogram2d"
           }
          ],
          "histogram2dcontour": [
           {
            "colorbar": {
             "outlinewidth": 0,
             "ticks": ""
            },
            "colorscale": [
             [
              0,
              "#0d0887"
             ],
             [
              0.1111111111111111,
              "#46039f"
             ],
             [
              0.2222222222222222,
              "#7201a8"
             ],
             [
              0.3333333333333333,
              "#9c179e"
             ],
             [
              0.4444444444444444,
              "#bd3786"
             ],
             [
              0.5555555555555556,
              "#d8576b"
             ],
             [
              0.6666666666666666,
              "#ed7953"
             ],
             [
              0.7777777777777778,
              "#fb9f3a"
             ],
             [
              0.8888888888888888,
              "#fdca26"
             ],
             [
              1,
              "#f0f921"
             ]
            ],
            "type": "histogram2dcontour"
           }
          ],
          "mesh3d": [
           {
            "colorbar": {
             "outlinewidth": 0,
             "ticks": ""
            },
            "type": "mesh3d"
           }
          ],
          "parcoords": [
           {
            "line": {
             "colorbar": {
              "outlinewidth": 0,
              "ticks": ""
             }
            },
            "type": "parcoords"
           }
          ],
          "pie": [
           {
            "automargin": true,
            "type": "pie"
           }
          ],
          "scatter": [
           {
            "marker": {
             "colorbar": {
              "outlinewidth": 0,
              "ticks": ""
             }
            },
            "type": "scatter"
           }
          ],
          "scatter3d": [
           {
            "line": {
             "colorbar": {
              "outlinewidth": 0,
              "ticks": ""
             }
            },
            "marker": {
             "colorbar": {
              "outlinewidth": 0,
              "ticks": ""
             }
            },
            "type": "scatter3d"
           }
          ],
          "scattercarpet": [
           {
            "marker": {
             "colorbar": {
              "outlinewidth": 0,
              "ticks": ""
             }
            },
            "type": "scattercarpet"
           }
          ],
          "scattergeo": [
           {
            "marker": {
             "colorbar": {
              "outlinewidth": 0,
              "ticks": ""
             }
            },
            "type": "scattergeo"
           }
          ],
          "scattergl": [
           {
            "marker": {
             "colorbar": {
              "outlinewidth": 0,
              "ticks": ""
             }
            },
            "type": "scattergl"
           }
          ],
          "scattermapbox": [
           {
            "marker": {
             "colorbar": {
              "outlinewidth": 0,
              "ticks": ""
             }
            },
            "type": "scattermapbox"
           }
          ],
          "scatterpolar": [
           {
            "marker": {
             "colorbar": {
              "outlinewidth": 0,
              "ticks": ""
             }
            },
            "type": "scatterpolar"
           }
          ],
          "scatterpolargl": [
           {
            "marker": {
             "colorbar": {
              "outlinewidth": 0,
              "ticks": ""
             }
            },
            "type": "scatterpolargl"
           }
          ],
          "scatterternary": [
           {
            "marker": {
             "colorbar": {
              "outlinewidth": 0,
              "ticks": ""
             }
            },
            "type": "scatterternary"
           }
          ],
          "surface": [
           {
            "colorbar": {
             "outlinewidth": 0,
             "ticks": ""
            },
            "colorscale": [
             [
              0,
              "#0d0887"
             ],
             [
              0.1111111111111111,
              "#46039f"
             ],
             [
              0.2222222222222222,
              "#7201a8"
             ],
             [
              0.3333333333333333,
              "#9c179e"
             ],
             [
              0.4444444444444444,
              "#bd3786"
             ],
             [
              0.5555555555555556,
              "#d8576b"
             ],
             [
              0.6666666666666666,
              "#ed7953"
             ],
             [
              0.7777777777777778,
              "#fb9f3a"
             ],
             [
              0.8888888888888888,
              "#fdca26"
             ],
             [
              1,
              "#f0f921"
             ]
            ],
            "type": "surface"
           }
          ],
          "table": [
           {
            "cells": {
             "fill": {
              "color": "#EBF0F8"
             },
             "line": {
              "color": "white"
             }
            },
            "header": {
             "fill": {
              "color": "#C8D4E3"
             },
             "line": {
              "color": "white"
             }
            },
            "type": "table"
           }
          ]
         },
         "layout": {
          "annotationdefaults": {
           "arrowcolor": "#2a3f5f",
           "arrowhead": 0,
           "arrowwidth": 1
          },
          "autotypenumbers": "strict",
          "coloraxis": {
           "colorbar": {
            "outlinewidth": 0,
            "ticks": ""
           }
          },
          "colorscale": {
           "diverging": [
            [
             0,
             "#8e0152"
            ],
            [
             0.1,
             "#c51b7d"
            ],
            [
             0.2,
             "#de77ae"
            ],
            [
             0.3,
             "#f1b6da"
            ],
            [
             0.4,
             "#fde0ef"
            ],
            [
             0.5,
             "#f7f7f7"
            ],
            [
             0.6,
             "#e6f5d0"
            ],
            [
             0.7,
             "#b8e186"
            ],
            [
             0.8,
             "#7fbc41"
            ],
            [
             0.9,
             "#4d9221"
            ],
            [
             1,
             "#276419"
            ]
           ],
           "sequential": [
            [
             0,
             "#0d0887"
            ],
            [
             0.1111111111111111,
             "#46039f"
            ],
            [
             0.2222222222222222,
             "#7201a8"
            ],
            [
             0.3333333333333333,
             "#9c179e"
            ],
            [
             0.4444444444444444,
             "#bd3786"
            ],
            [
             0.5555555555555556,
             "#d8576b"
            ],
            [
             0.6666666666666666,
             "#ed7953"
            ],
            [
             0.7777777777777778,
             "#fb9f3a"
            ],
            [
             0.8888888888888888,
             "#fdca26"
            ],
            [
             1,
             "#f0f921"
            ]
           ],
           "sequentialminus": [
            [
             0,
             "#0d0887"
            ],
            [
             0.1111111111111111,
             "#46039f"
            ],
            [
             0.2222222222222222,
             "#7201a8"
            ],
            [
             0.3333333333333333,
             "#9c179e"
            ],
            [
             0.4444444444444444,
             "#bd3786"
            ],
            [
             0.5555555555555556,
             "#d8576b"
            ],
            [
             0.6666666666666666,
             "#ed7953"
            ],
            [
             0.7777777777777778,
             "#fb9f3a"
            ],
            [
             0.8888888888888888,
             "#fdca26"
            ],
            [
             1,
             "#f0f921"
            ]
           ]
          },
          "colorway": [
           "#636efa",
           "#EF553B",
           "#00cc96",
           "#ab63fa",
           "#FFA15A",
           "#19d3f3",
           "#FF6692",
           "#B6E880",
           "#FF97FF",
           "#FECB52"
          ],
          "font": {
           "color": "#2a3f5f"
          },
          "geo": {
           "bgcolor": "white",
           "lakecolor": "white",
           "landcolor": "#E5ECF6",
           "showlakes": true,
           "showland": true,
           "subunitcolor": "white"
          },
          "hoverlabel": {
           "align": "left"
          },
          "hovermode": "closest",
          "mapbox": {
           "style": "light"
          },
          "paper_bgcolor": "white",
          "plot_bgcolor": "#E5ECF6",
          "polar": {
           "angularaxis": {
            "gridcolor": "white",
            "linecolor": "white",
            "ticks": ""
           },
           "bgcolor": "#E5ECF6",
           "radialaxis": {
            "gridcolor": "white",
            "linecolor": "white",
            "ticks": ""
           }
          },
          "scene": {
           "xaxis": {
            "backgroundcolor": "#E5ECF6",
            "gridcolor": "white",
            "gridwidth": 2,
            "linecolor": "white",
            "showbackground": true,
            "ticks": "",
            "zerolinecolor": "white"
           },
           "yaxis": {
            "backgroundcolor": "#E5ECF6",
            "gridcolor": "white",
            "gridwidth": 2,
            "linecolor": "white",
            "showbackground": true,
            "ticks": "",
            "zerolinecolor": "white"
           },
           "zaxis": {
            "backgroundcolor": "#E5ECF6",
            "gridcolor": "white",
            "gridwidth": 2,
            "linecolor": "white",
            "showbackground": true,
            "ticks": "",
            "zerolinecolor": "white"
           }
          },
          "shapedefaults": {
           "line": {
            "color": "#2a3f5f"
           }
          },
          "ternary": {
           "aaxis": {
            "gridcolor": "white",
            "linecolor": "white",
            "ticks": ""
           },
           "baxis": {
            "gridcolor": "white",
            "linecolor": "white",
            "ticks": ""
           },
           "bgcolor": "#E5ECF6",
           "caxis": {
            "gridcolor": "white",
            "linecolor": "white",
            "ticks": ""
           }
          },
          "title": {
           "x": 0.05
          },
          "xaxis": {
           "automargin": true,
           "gridcolor": "white",
           "linecolor": "white",
           "ticks": "",
           "title": {
            "standoff": 15
           },
           "zerolinecolor": "white",
           "zerolinewidth": 2
          },
          "yaxis": {
           "automargin": true,
           "gridcolor": "white",
           "linecolor": "white",
           "ticks": "",
           "title": {
            "standoff": 15
           },
           "zerolinecolor": "white",
           "zerolinewidth": 2
          }
         }
        },
        "title": {
         "text": "RPM by Video Type"
        },
        "xaxis": {
         "anchor": "y",
         "domain": [
          0,
          0.2888888888888889
         ]
        },
        "xaxis2": {
         "anchor": "y2",
         "domain": [
          0.35555555555555557,
          0.6444444444444445
         ],
         "title": {
          "text": "Respiration Rate"
         }
        },
        "xaxis3": {
         "anchor": "y3",
         "domain": [
          0.7111111111111111,
          1
         ]
        },
        "yaxis": {
         "anchor": "x",
         "domain": [
          0,
          1
         ],
         "title": {
          "text": "Count"
         }
        },
        "yaxis2": {
         "anchor": "x2",
         "domain": [
          0,
          1
         ]
        },
        "yaxis3": {
         "anchor": "x3",
         "domain": [
          0,
          1
         ]
        }
       }
      }
     },
     "metadata": {}
    }
   ],
   "source": [
    "bins = [6, 9, 12, 15, 16.5, 19.5, 21, 24, 27, 30]\n",
    "labels = [6, 9, 12, 15, 18, 21, 24, 27, 30]\n",
    "\n",
    "fig = make_subplots(rows=1, cols=3,\n",
    "                    subplot_titles=('Neutral','Positive','Negative'))\n",
    "emotions = ['neutral','positive','negative']\n",
    "for i, emotion in enumerate(emotions):\n",
    "    tmp = data_df[data_df['video_type'] == emotion]\n",
    "    tmp['rpm'] = pd.cut(tmp['rpm'], bins=bins, labels=labels)\n",
    "    tmp = tmp.groupby('rpm').video_id.count().reset_index().rename(columns={'video_id':'count'})\n",
    "    fig.add_trace(go.Bar(x=list(tmp['rpm']),\n",
    "                         y=list(tmp['count'])),\n",
    "                  row=1, col=i + 1)\n",
    "\n",
    "fig.update_layout(title_text='RPM by Video Type', showlegend=False)\n",
    "fig.update_yaxes(title_text='Count', row=1, col=1)\n",
    "fig.update_xaxes(title_text='Respiration Rate', row=1, col=2)\n",
    "fig.show()"
   ]
  },
  {
   "cell_type": "markdown",
   "id": "czech-amber",
   "metadata": {},
   "source": [
    "## Predicted Emotion Distribution"
   ]
  },
  {
   "cell_type": "code",
   "execution_count": 122,
   "id": "consistent-cherry",
   "metadata": {},
   "outputs": [
    {
     "output_type": "display_data",
     "data": {
      "application/vnd.plotly.v1+json": {
       "config": {
        "plotlyServerURL": "https://plot.ly"
       },
       "data": [
        {
         "type": "bar",
         "x": [
          "anger",
          "happy",
          "neutral",
          "sad",
          "surprise"
         ],
         "xaxis": "x",
         "y": [
          23,
          726,
          2118,
          573,
          29
         ],
         "yaxis": "y"
        },
        {
         "type": "bar",
         "x": [
          "anger",
          "happy",
          "neutral",
          "sad"
         ],
         "xaxis": "x2",
         "y": [
          74,
          3749,
          1142,
          12
         ],
         "yaxis": "y2"
        },
        {
         "type": "bar",
         "x": [
          "happy",
          "neutral",
          "sad",
          "surprise"
         ],
         "xaxis": "x3",
         "y": [
          557,
          561,
          59,
          126
         ],
         "yaxis": "y3"
        }
       ],
       "layout": {
        "annotations": [
         {
          "font": {
           "size": 16
          },
          "showarrow": false,
          "text": "Neutral",
          "x": 0.14444444444444446,
          "xanchor": "center",
          "xref": "paper",
          "y": 1,
          "yanchor": "bottom",
          "yref": "paper"
         },
         {
          "font": {
           "size": 16
          },
          "showarrow": false,
          "text": "Positive",
          "x": 0.5,
          "xanchor": "center",
          "xref": "paper",
          "y": 1,
          "yanchor": "bottom",
          "yref": "paper"
         },
         {
          "font": {
           "size": 16
          },
          "showarrow": false,
          "text": "Negative",
          "x": 0.8555555555555556,
          "xanchor": "center",
          "xref": "paper",
          "y": 1,
          "yanchor": "bottom",
          "yref": "paper"
         }
        ],
        "showlegend": false,
        "template": {
         "data": {
          "bar": [
           {
            "error_x": {
             "color": "#2a3f5f"
            },
            "error_y": {
             "color": "#2a3f5f"
            },
            "marker": {
             "line": {
              "color": "#E5ECF6",
              "width": 0.5
             }
            },
            "type": "bar"
           }
          ],
          "barpolar": [
           {
            "marker": {
             "line": {
              "color": "#E5ECF6",
              "width": 0.5
             }
            },
            "type": "barpolar"
           }
          ],
          "carpet": [
           {
            "aaxis": {
             "endlinecolor": "#2a3f5f",
             "gridcolor": "white",
             "linecolor": "white",
             "minorgridcolor": "white",
             "startlinecolor": "#2a3f5f"
            },
            "baxis": {
             "endlinecolor": "#2a3f5f",
             "gridcolor": "white",
             "linecolor": "white",
             "minorgridcolor": "white",
             "startlinecolor": "#2a3f5f"
            },
            "type": "carpet"
           }
          ],
          "choropleth": [
           {
            "colorbar": {
             "outlinewidth": 0,
             "ticks": ""
            },
            "type": "choropleth"
           }
          ],
          "contour": [
           {
            "colorbar": {
             "outlinewidth": 0,
             "ticks": ""
            },
            "colorscale": [
             [
              0,
              "#0d0887"
             ],
             [
              0.1111111111111111,
              "#46039f"
             ],
             [
              0.2222222222222222,
              "#7201a8"
             ],
             [
              0.3333333333333333,
              "#9c179e"
             ],
             [
              0.4444444444444444,
              "#bd3786"
             ],
             [
              0.5555555555555556,
              "#d8576b"
             ],
             [
              0.6666666666666666,
              "#ed7953"
             ],
             [
              0.7777777777777778,
              "#fb9f3a"
             ],
             [
              0.8888888888888888,
              "#fdca26"
             ],
             [
              1,
              "#f0f921"
             ]
            ],
            "type": "contour"
           }
          ],
          "contourcarpet": [
           {
            "colorbar": {
             "outlinewidth": 0,
             "ticks": ""
            },
            "type": "contourcarpet"
           }
          ],
          "heatmap": [
           {
            "colorbar": {
             "outlinewidth": 0,
             "ticks": ""
            },
            "colorscale": [
             [
              0,
              "#0d0887"
             ],
             [
              0.1111111111111111,
              "#46039f"
             ],
             [
              0.2222222222222222,
              "#7201a8"
             ],
             [
              0.3333333333333333,
              "#9c179e"
             ],
             [
              0.4444444444444444,
              "#bd3786"
             ],
             [
              0.5555555555555556,
              "#d8576b"
             ],
             [
              0.6666666666666666,
              "#ed7953"
             ],
             [
              0.7777777777777778,
              "#fb9f3a"
             ],
             [
              0.8888888888888888,
              "#fdca26"
             ],
             [
              1,
              "#f0f921"
             ]
            ],
            "type": "heatmap"
           }
          ],
          "heatmapgl": [
           {
            "colorbar": {
             "outlinewidth": 0,
             "ticks": ""
            },
            "colorscale": [
             [
              0,
              "#0d0887"
             ],
             [
              0.1111111111111111,
              "#46039f"
             ],
             [
              0.2222222222222222,
              "#7201a8"
             ],
             [
              0.3333333333333333,
              "#9c179e"
             ],
             [
              0.4444444444444444,
              "#bd3786"
             ],
             [
              0.5555555555555556,
              "#d8576b"
             ],
             [
              0.6666666666666666,
              "#ed7953"
             ],
             [
              0.7777777777777778,
              "#fb9f3a"
             ],
             [
              0.8888888888888888,
              "#fdca26"
             ],
             [
              1,
              "#f0f921"
             ]
            ],
            "type": "heatmapgl"
           }
          ],
          "histogram": [
           {
            "marker": {
             "colorbar": {
              "outlinewidth": 0,
              "ticks": ""
             }
            },
            "type": "histogram"
           }
          ],
          "histogram2d": [
           {
            "colorbar": {
             "outlinewidth": 0,
             "ticks": ""
            },
            "colorscale": [
             [
              0,
              "#0d0887"
             ],
             [
              0.1111111111111111,
              "#46039f"
             ],
             [
              0.2222222222222222,
              "#7201a8"
             ],
             [
              0.3333333333333333,
              "#9c179e"
             ],
             [
              0.4444444444444444,
              "#bd3786"
             ],
             [
              0.5555555555555556,
              "#d8576b"
             ],
             [
              0.6666666666666666,
              "#ed7953"
             ],
             [
              0.7777777777777778,
              "#fb9f3a"
             ],
             [
              0.8888888888888888,
              "#fdca26"
             ],
             [
              1,
              "#f0f921"
             ]
            ],
            "type": "histogram2d"
           }
          ],
          "histogram2dcontour": [
           {
            "colorbar": {
             "outlinewidth": 0,
             "ticks": ""
            },
            "colorscale": [
             [
              0,
              "#0d0887"
             ],
             [
              0.1111111111111111,
              "#46039f"
             ],
             [
              0.2222222222222222,
              "#7201a8"
             ],
             [
              0.3333333333333333,
              "#9c179e"
             ],
             [
              0.4444444444444444,
              "#bd3786"
             ],
             [
              0.5555555555555556,
              "#d8576b"
             ],
             [
              0.6666666666666666,
              "#ed7953"
             ],
             [
              0.7777777777777778,
              "#fb9f3a"
             ],
             [
              0.8888888888888888,
              "#fdca26"
             ],
             [
              1,
              "#f0f921"
             ]
            ],
            "type": "histogram2dcontour"
           }
          ],
          "mesh3d": [
           {
            "colorbar": {
             "outlinewidth": 0,
             "ticks": ""
            },
            "type": "mesh3d"
           }
          ],
          "parcoords": [
           {
            "line": {
             "colorbar": {
              "outlinewidth": 0,
              "ticks": ""
             }
            },
            "type": "parcoords"
           }
          ],
          "pie": [
           {
            "automargin": true,
            "type": "pie"
           }
          ],
          "scatter": [
           {
            "marker": {
             "colorbar": {
              "outlinewidth": 0,
              "ticks": ""
             }
            },
            "type": "scatter"
           }
          ],
          "scatter3d": [
           {
            "line": {
             "colorbar": {
              "outlinewidth": 0,
              "ticks": ""
             }
            },
            "marker": {
             "colorbar": {
              "outlinewidth": 0,
              "ticks": ""
             }
            },
            "type": "scatter3d"
           }
          ],
          "scattercarpet": [
           {
            "marker": {
             "colorbar": {
              "outlinewidth": 0,
              "ticks": ""
             }
            },
            "type": "scattercarpet"
           }
          ],
          "scattergeo": [
           {
            "marker": {
             "colorbar": {
              "outlinewidth": 0,
              "ticks": ""
             }
            },
            "type": "scattergeo"
           }
          ],
          "scattergl": [
           {
            "marker": {
             "colorbar": {
              "outlinewidth": 0,
              "ticks": ""
             }
            },
            "type": "scattergl"
           }
          ],
          "scattermapbox": [
           {
            "marker": {
             "colorbar": {
              "outlinewidth": 0,
              "ticks": ""
             }
            },
            "type": "scattermapbox"
           }
          ],
          "scatterpolar": [
           {
            "marker": {
             "colorbar": {
              "outlinewidth": 0,
              "ticks": ""
             }
            },
            "type": "scatterpolar"
           }
          ],
          "scatterpolargl": [
           {
            "marker": {
             "colorbar": {
              "outlinewidth": 0,
              "ticks": ""
             }
            },
            "type": "scatterpolargl"
           }
          ],
          "scatterternary": [
           {
            "marker": {
             "colorbar": {
              "outlinewidth": 0,
              "ticks": ""
             }
            },
            "type": "scatterternary"
           }
          ],
          "surface": [
           {
            "colorbar": {
             "outlinewidth": 0,
             "ticks": ""
            },
            "colorscale": [
             [
              0,
              "#0d0887"
             ],
             [
              0.1111111111111111,
              "#46039f"
             ],
             [
              0.2222222222222222,
              "#7201a8"
             ],
             [
              0.3333333333333333,
              "#9c179e"
             ],
             [
              0.4444444444444444,
              "#bd3786"
             ],
             [
              0.5555555555555556,
              "#d8576b"
             ],
             [
              0.6666666666666666,
              "#ed7953"
             ],
             [
              0.7777777777777778,
              "#fb9f3a"
             ],
             [
              0.8888888888888888,
              "#fdca26"
             ],
             [
              1,
              "#f0f921"
             ]
            ],
            "type": "surface"
           }
          ],
          "table": [
           {
            "cells": {
             "fill": {
              "color": "#EBF0F8"
             },
             "line": {
              "color": "white"
             }
            },
            "header": {
             "fill": {
              "color": "#C8D4E3"
             },
             "line": {
              "color": "white"
             }
            },
            "type": "table"
           }
          ]
         },
         "layout": {
          "annotationdefaults": {
           "arrowcolor": "#2a3f5f",
           "arrowhead": 0,
           "arrowwidth": 1
          },
          "autotypenumbers": "strict",
          "coloraxis": {
           "colorbar": {
            "outlinewidth": 0,
            "ticks": ""
           }
          },
          "colorscale": {
           "diverging": [
            [
             0,
             "#8e0152"
            ],
            [
             0.1,
             "#c51b7d"
            ],
            [
             0.2,
             "#de77ae"
            ],
            [
             0.3,
             "#f1b6da"
            ],
            [
             0.4,
             "#fde0ef"
            ],
            [
             0.5,
             "#f7f7f7"
            ],
            [
             0.6,
             "#e6f5d0"
            ],
            [
             0.7,
             "#b8e186"
            ],
            [
             0.8,
             "#7fbc41"
            ],
            [
             0.9,
             "#4d9221"
            ],
            [
             1,
             "#276419"
            ]
           ],
           "sequential": [
            [
             0,
             "#0d0887"
            ],
            [
             0.1111111111111111,
             "#46039f"
            ],
            [
             0.2222222222222222,
             "#7201a8"
            ],
            [
             0.3333333333333333,
             "#9c179e"
            ],
            [
             0.4444444444444444,
             "#bd3786"
            ],
            [
             0.5555555555555556,
             "#d8576b"
            ],
            [
             0.6666666666666666,
             "#ed7953"
            ],
            [
             0.7777777777777778,
             "#fb9f3a"
            ],
            [
             0.8888888888888888,
             "#fdca26"
            ],
            [
             1,
             "#f0f921"
            ]
           ],
           "sequentialminus": [
            [
             0,
             "#0d0887"
            ],
            [
             0.1111111111111111,
             "#46039f"
            ],
            [
             0.2222222222222222,
             "#7201a8"
            ],
            [
             0.3333333333333333,
             "#9c179e"
            ],
            [
             0.4444444444444444,
             "#bd3786"
            ],
            [
             0.5555555555555556,
             "#d8576b"
            ],
            [
             0.6666666666666666,
             "#ed7953"
            ],
            [
             0.7777777777777778,
             "#fb9f3a"
            ],
            [
             0.8888888888888888,
             "#fdca26"
            ],
            [
             1,
             "#f0f921"
            ]
           ]
          },
          "colorway": [
           "#636efa",
           "#EF553B",
           "#00cc96",
           "#ab63fa",
           "#FFA15A",
           "#19d3f3",
           "#FF6692",
           "#B6E880",
           "#FF97FF",
           "#FECB52"
          ],
          "font": {
           "color": "#2a3f5f"
          },
          "geo": {
           "bgcolor": "white",
           "lakecolor": "white",
           "landcolor": "#E5ECF6",
           "showlakes": true,
           "showland": true,
           "subunitcolor": "white"
          },
          "hoverlabel": {
           "align": "left"
          },
          "hovermode": "closest",
          "mapbox": {
           "style": "light"
          },
          "paper_bgcolor": "white",
          "plot_bgcolor": "#E5ECF6",
          "polar": {
           "angularaxis": {
            "gridcolor": "white",
            "linecolor": "white",
            "ticks": ""
           },
           "bgcolor": "#E5ECF6",
           "radialaxis": {
            "gridcolor": "white",
            "linecolor": "white",
            "ticks": ""
           }
          },
          "scene": {
           "xaxis": {
            "backgroundcolor": "#E5ECF6",
            "gridcolor": "white",
            "gridwidth": 2,
            "linecolor": "white",
            "showbackground": true,
            "ticks": "",
            "zerolinecolor": "white"
           },
           "yaxis": {
            "backgroundcolor": "#E5ECF6",
            "gridcolor": "white",
            "gridwidth": 2,
            "linecolor": "white",
            "showbackground": true,
            "ticks": "",
            "zerolinecolor": "white"
           },
           "zaxis": {
            "backgroundcolor": "#E5ECF6",
            "gridcolor": "white",
            "gridwidth": 2,
            "linecolor": "white",
            "showbackground": true,
            "ticks": "",
            "zerolinecolor": "white"
           }
          },
          "shapedefaults": {
           "line": {
            "color": "#2a3f5f"
           }
          },
          "ternary": {
           "aaxis": {
            "gridcolor": "white",
            "linecolor": "white",
            "ticks": ""
           },
           "baxis": {
            "gridcolor": "white",
            "linecolor": "white",
            "ticks": ""
           },
           "bgcolor": "#E5ECF6",
           "caxis": {
            "gridcolor": "white",
            "linecolor": "white",
            "ticks": ""
           }
          },
          "title": {
           "x": 0.05
          },
          "xaxis": {
           "automargin": true,
           "gridcolor": "white",
           "linecolor": "white",
           "ticks": "",
           "title": {
            "standoff": 15
           },
           "zerolinecolor": "white",
           "zerolinewidth": 2
          },
          "yaxis": {
           "automargin": true,
           "gridcolor": "white",
           "linecolor": "white",
           "ticks": "",
           "title": {
            "standoff": 15
           },
           "zerolinecolor": "white",
           "zerolinewidth": 2
          }
         }
        },
        "title": {
         "text": "Predicted Emotion by Video Type"
        },
        "xaxis": {
         "anchor": "y",
         "domain": [
          0,
          0.2888888888888889
         ]
        },
        "xaxis2": {
         "anchor": "y2",
         "domain": [
          0.35555555555555557,
          0.6444444444444445
         ],
         "title": {
          "text": "Predicted Emotion"
         }
        },
        "xaxis3": {
         "anchor": "y3",
         "domain": [
          0.7111111111111111,
          1
         ]
        },
        "yaxis": {
         "anchor": "x",
         "domain": [
          0,
          1
         ],
         "title": {
          "text": "Count"
         }
        },
        "yaxis2": {
         "anchor": "x2",
         "domain": [
          0,
          1
         ]
        },
        "yaxis3": {
         "anchor": "x3",
         "domain": [
          0,
          1
         ]
        }
       }
      }
     },
     "metadata": {}
    }
   ],
   "source": [
    "fig = make_subplots(rows=1, cols=3,\n",
    "                    subplot_titles=('Neutral','Positive','Negative'))\n",
    "emotions = ['neutral','positive','negative']\n",
    "for i, emotion in enumerate(emotions):\n",
    "    tmp = data_df[data_df['video_type'] == emotion]\n",
    "    tmp = tmp.groupby('pred_emotion').video_id.count().reset_index().rename(columns={'video_id':'count'})\n",
    "    fig.add_trace(go.Bar(x=list(tmp['pred_emotion']),\n",
    "                         y=list(tmp['count'])),\n",
    "                  row=1, col=i + 1)\n",
    "\n",
    "fig.update_layout(title_text='Predicted Emotion by Video Type', showlegend=False)\n",
    "fig.update_yaxes(title_text='Count', row=1, col=1)\n",
    "fig.update_xaxes(title_text='Predicted Emotion', row=1, col=2)\n",
    "fig.show()"
   ]
  },
  {
   "cell_type": "markdown",
   "id": "valid-vienna",
   "metadata": {},
   "source": [
    "## Show Emotion Confidence by Predicted Emotion and Video Type"
   ]
  },
  {
   "cell_type": "code",
   "execution_count": 123,
   "id": "recovered-toilet",
   "metadata": {},
   "outputs": [
    {
     "output_type": "stream",
     "name": "stderr",
     "text": [
      "<ipython-input-123-ba9ff5c85489>:14: SettingWithCopyWarning:\n\n\nA value is trying to be set on a copy of a slice from a DataFrame.\nTry using .loc[row_indexer,col_indexer] = value instead\n\nSee the caveats in the documentation: https://pandas.pydata.org/pandas-docs/stable/user_guide/indexing.html#returning-a-view-versus-a-copy\n\n"
     ]
    },
    {
     "output_type": "display_data",
     "data": {
      "application/vnd.plotly.v1+json": {
       "config": {
        "plotlyServerURL": "https://plot.ly"
       },
       "data": [
        {
         "marker": {
          "color": "blue"
         },
         "type": "bar",
         "x": [
          0.7,
          0.75,
          0.8,
          0.85,
          0.9,
          0.95,
          1
         ],
         "xaxis": "x",
         "y": [
          2058,
          60,
          0,
          0,
          0,
          0,
          0
         ],
         "yaxis": "y"
        },
        {
         "marker": {
          "color": "blue"
         },
         "type": "bar",
         "x": [
          0.7,
          0.75,
          0.8,
          0.85,
          0.9,
          0.95,
          1
         ],
         "xaxis": "x4",
         "y": [
          125,
          83,
          43,
          90,
          25,
          104,
          256
         ],
         "yaxis": "y4"
        },
        {
         "marker": {
          "color": "blue"
         },
         "type": "bar",
         "x": [
          0.7,
          0.75,
          0.8,
          0.85,
          0.9,
          0.95,
          1
         ],
         "xaxis": "x7",
         "y": [
          8,
          13,
          2,
          0,
          0,
          0,
          0
         ],
         "yaxis": "y7"
        },
        {
         "marker": {
          "color": "blue"
         },
         "type": "bar",
         "x": [
          0.7,
          0.75,
          0.8,
          0.85,
          0.9,
          0.95,
          1
         ],
         "xaxis": "x10",
         "y": [
          473,
          65,
          15,
          13,
          6,
          1,
          0
         ],
         "yaxis": "y10"
        },
        {
         "marker": {
          "color": "blue"
         },
         "type": "bar",
         "x": [
          0.7,
          0.75,
          0.8,
          0.85,
          0.9,
          0.95,
          1
         ],
         "xaxis": "x13",
         "y": [
          19,
          10,
          0,
          0,
          0,
          0,
          0
         ],
         "yaxis": "y13"
        },
        {
         "marker": {
          "color": "green"
         },
         "type": "bar",
         "x": [
          0.7,
          0.75,
          0.8,
          0.85,
          0.9,
          0.95,
          1
         ],
         "xaxis": "x2",
         "y": [
          1010,
          132,
          0,
          0,
          0,
          0,
          0
         ],
         "yaxis": "y2"
        },
        {
         "marker": {
          "color": "green"
         },
         "type": "bar",
         "x": [
          0.7,
          0.75,
          0.8,
          0.85,
          0.9,
          0.95,
          1
         ],
         "xaxis": "x5",
         "y": [
          320,
          471,
          343,
          714,
          233,
          398,
          1270
         ],
         "yaxis": "y5"
        },
        {
         "marker": {
          "color": "green"
         },
         "type": "bar",
         "x": [
          0.7,
          0.75,
          0.8,
          0.85,
          0.9,
          0.95,
          1
         ],
         "xaxis": "x8",
         "y": [
          18,
          40,
          8,
          8,
          0,
          0,
          0
         ],
         "yaxis": "y8"
        },
        {
         "marker": {
          "color": "green"
         },
         "type": "bar",
         "x": [
          0.7,
          0.75,
          0.8,
          0.85,
          0.9,
          0.95,
          1
         ],
         "xaxis": "x11",
         "y": [
          10,
          1,
          1,
          0,
          0,
          0,
          0
         ],
         "yaxis": "y11"
        },
        {
         "marker": {
          "color": "green"
         },
         "type": "bar",
         "x": [
          0.7,
          0.75,
          0.8,
          0.85,
          0.9,
          0.95,
          1
         ],
         "xaxis": "x14",
         "y": [
          0,
          0,
          0,
          0,
          0,
          0,
          0
         ],
         "yaxis": "y14"
        },
        {
         "marker": {
          "color": "red"
         },
         "type": "bar",
         "x": [
          0.7,
          0.75,
          0.8,
          0.85,
          0.9,
          0.95,
          1
         ],
         "xaxis": "x3",
         "y": [
          558,
          3,
          0,
          0,
          0,
          0,
          0
         ],
         "yaxis": "y3"
        },
        {
         "marker": {
          "color": "red"
         },
         "type": "bar",
         "x": [
          0.7,
          0.75,
          0.8,
          0.85,
          0.9,
          0.95,
          1
         ],
         "xaxis": "x6",
         "y": [
          59,
          43,
          30,
          95,
          70,
          151,
          109
         ],
         "yaxis": "y6"
        },
        {
         "marker": {
          "color": "red"
         },
         "type": "bar",
         "x": [
          0.7,
          0.75,
          0.8,
          0.85,
          0.9,
          0.95,
          1
         ],
         "xaxis": "x9",
         "y": [
          0,
          0,
          0,
          0,
          0,
          0,
          0
         ],
         "yaxis": "y9"
        },
        {
         "marker": {
          "color": "red"
         },
         "type": "bar",
         "x": [
          0.7,
          0.75,
          0.8,
          0.85,
          0.9,
          0.95,
          1
         ],
         "xaxis": "x12",
         "y": [
          46,
          10,
          1,
          0,
          1,
          1,
          0
         ],
         "yaxis": "y12"
        },
        {
         "marker": {
          "color": "red"
         },
         "type": "bar",
         "x": [
          0.7,
          0.75,
          0.8,
          0.85,
          0.9,
          0.95,
          1
         ],
         "xaxis": "x15",
         "y": [
          18,
          17,
          8,
          58,
          21,
          4,
          0
         ],
         "yaxis": "y15"
        }
       ],
       "layout": {
        "annotations": [
         {
          "font": {
           "size": 16
          },
          "showarrow": false,
          "text": "Neutral",
          "x": 0.14444444444444446,
          "xanchor": "center",
          "xref": "paper",
          "y": 1,
          "yanchor": "bottom",
          "yref": "paper"
         },
         {
          "font": {
           "size": 16
          },
          "showarrow": false,
          "text": "Positive",
          "x": 0.5,
          "xanchor": "center",
          "xref": "paper",
          "y": 1,
          "yanchor": "bottom",
          "yref": "paper"
         },
         {
          "font": {
           "size": 16
          },
          "showarrow": false,
          "text": "Negative",
          "x": 0.8555555555555556,
          "xanchor": "center",
          "xref": "paper",
          "y": 1,
          "yanchor": "bottom",
          "yref": "paper"
         }
        ],
        "height": 1000,
        "showlegend": false,
        "template": {
         "data": {
          "bar": [
           {
            "error_x": {
             "color": "#2a3f5f"
            },
            "error_y": {
             "color": "#2a3f5f"
            },
            "marker": {
             "line": {
              "color": "#E5ECF6",
              "width": 0.5
             }
            },
            "type": "bar"
           }
          ],
          "barpolar": [
           {
            "marker": {
             "line": {
              "color": "#E5ECF6",
              "width": 0.5
             }
            },
            "type": "barpolar"
           }
          ],
          "carpet": [
           {
            "aaxis": {
             "endlinecolor": "#2a3f5f",
             "gridcolor": "white",
             "linecolor": "white",
             "minorgridcolor": "white",
             "startlinecolor": "#2a3f5f"
            },
            "baxis": {
             "endlinecolor": "#2a3f5f",
             "gridcolor": "white",
             "linecolor": "white",
             "minorgridcolor": "white",
             "startlinecolor": "#2a3f5f"
            },
            "type": "carpet"
           }
          ],
          "choropleth": [
           {
            "colorbar": {
             "outlinewidth": 0,
             "ticks": ""
            },
            "type": "choropleth"
           }
          ],
          "contour": [
           {
            "colorbar": {
             "outlinewidth": 0,
             "ticks": ""
            },
            "colorscale": [
             [
              0,
              "#0d0887"
             ],
             [
              0.1111111111111111,
              "#46039f"
             ],
             [
              0.2222222222222222,
              "#7201a8"
             ],
             [
              0.3333333333333333,
              "#9c179e"
             ],
             [
              0.4444444444444444,
              "#bd3786"
             ],
             [
              0.5555555555555556,
              "#d8576b"
             ],
             [
              0.6666666666666666,
              "#ed7953"
             ],
             [
              0.7777777777777778,
              "#fb9f3a"
             ],
             [
              0.8888888888888888,
              "#fdca26"
             ],
             [
              1,
              "#f0f921"
             ]
            ],
            "type": "contour"
           }
          ],
          "contourcarpet": [
           {
            "colorbar": {
             "outlinewidth": 0,
             "ticks": ""
            },
            "type": "contourcarpet"
           }
          ],
          "heatmap": [
           {
            "colorbar": {
             "outlinewidth": 0,
             "ticks": ""
            },
            "colorscale": [
             [
              0,
              "#0d0887"
             ],
             [
              0.1111111111111111,
              "#46039f"
             ],
             [
              0.2222222222222222,
              "#7201a8"
             ],
             [
              0.3333333333333333,
              "#9c179e"
             ],
             [
              0.4444444444444444,
              "#bd3786"
             ],
             [
              0.5555555555555556,
              "#d8576b"
             ],
             [
              0.6666666666666666,
              "#ed7953"
             ],
             [
              0.7777777777777778,
              "#fb9f3a"
             ],
             [
              0.8888888888888888,
              "#fdca26"
             ],
             [
              1,
              "#f0f921"
             ]
            ],
            "type": "heatmap"
           }
          ],
          "heatmapgl": [
           {
            "colorbar": {
             "outlinewidth": 0,
             "ticks": ""
            },
            "colorscale": [
             [
              0,
              "#0d0887"
             ],
             [
              0.1111111111111111,
              "#46039f"
             ],
             [
              0.2222222222222222,
              "#7201a8"
             ],
             [
              0.3333333333333333,
              "#9c179e"
             ],
             [
              0.4444444444444444,
              "#bd3786"
             ],
             [
              0.5555555555555556,
              "#d8576b"
             ],
             [
              0.6666666666666666,
              "#ed7953"
             ],
             [
              0.7777777777777778,
              "#fb9f3a"
             ],
             [
              0.8888888888888888,
              "#fdca26"
             ],
             [
              1,
              "#f0f921"
             ]
            ],
            "type": "heatmapgl"
           }
          ],
          "histogram": [
           {
            "marker": {
             "colorbar": {
              "outlinewidth": 0,
              "ticks": ""
             }
            },
            "type": "histogram"
           }
          ],
          "histogram2d": [
           {
            "colorbar": {
             "outlinewidth": 0,
             "ticks": ""
            },
            "colorscale": [
             [
              0,
              "#0d0887"
             ],
             [
              0.1111111111111111,
              "#46039f"
             ],
             [
              0.2222222222222222,
              "#7201a8"
             ],
             [
              0.3333333333333333,
              "#9c179e"
             ],
             [
              0.4444444444444444,
              "#bd3786"
             ],
             [
              0.5555555555555556,
              "#d8576b"
             ],
             [
              0.6666666666666666,
              "#ed7953"
             ],
             [
              0.7777777777777778,
              "#fb9f3a"
             ],
             [
              0.8888888888888888,
              "#fdca26"
             ],
             [
              1,
              "#f0f921"
             ]
            ],
            "type": "histogram2d"
           }
          ],
          "histogram2dcontour": [
           {
            "colorbar": {
             "outlinewidth": 0,
             "ticks": ""
            },
            "colorscale": [
             [
              0,
              "#0d0887"
             ],
             [
              0.1111111111111111,
              "#46039f"
             ],
             [
              0.2222222222222222,
              "#7201a8"
             ],
             [
              0.3333333333333333,
              "#9c179e"
             ],
             [
              0.4444444444444444,
              "#bd3786"
             ],
             [
              0.5555555555555556,
              "#d8576b"
             ],
             [
              0.6666666666666666,
              "#ed7953"
             ],
             [
              0.7777777777777778,
              "#fb9f3a"
             ],
             [
              0.8888888888888888,
              "#fdca26"
             ],
             [
              1,
              "#f0f921"
             ]
            ],
            "type": "histogram2dcontour"
           }
          ],
          "mesh3d": [
           {
            "colorbar": {
             "outlinewidth": 0,
             "ticks": ""
            },
            "type": "mesh3d"
           }
          ],
          "parcoords": [
           {
            "line": {
             "colorbar": {
              "outlinewidth": 0,
              "ticks": ""
             }
            },
            "type": "parcoords"
           }
          ],
          "pie": [
           {
            "automargin": true,
            "type": "pie"
           }
          ],
          "scatter": [
           {
            "marker": {
             "colorbar": {
              "outlinewidth": 0,
              "ticks": ""
             }
            },
            "type": "scatter"
           }
          ],
          "scatter3d": [
           {
            "line": {
             "colorbar": {
              "outlinewidth": 0,
              "ticks": ""
             }
            },
            "marker": {
             "colorbar": {
              "outlinewidth": 0,
              "ticks": ""
             }
            },
            "type": "scatter3d"
           }
          ],
          "scattercarpet": [
           {
            "marker": {
             "colorbar": {
              "outlinewidth": 0,
              "ticks": ""
             }
            },
            "type": "scattercarpet"
           }
          ],
          "scattergeo": [
           {
            "marker": {
             "colorbar": {
              "outlinewidth": 0,
              "ticks": ""
             }
            },
            "type": "scattergeo"
           }
          ],
          "scattergl": [
           {
            "marker": {
             "colorbar": {
              "outlinewidth": 0,
              "ticks": ""
             }
            },
            "type": "scattergl"
           }
          ],
          "scattermapbox": [
           {
            "marker": {
             "colorbar": {
              "outlinewidth": 0,
              "ticks": ""
             }
            },
            "type": "scattermapbox"
           }
          ],
          "scatterpolar": [
           {
            "marker": {
             "colorbar": {
              "outlinewidth": 0,
              "ticks": ""
             }
            },
            "type": "scatterpolar"
           }
          ],
          "scatterpolargl": [
           {
            "marker": {
             "colorbar": {
              "outlinewidth": 0,
              "ticks": ""
             }
            },
            "type": "scatterpolargl"
           }
          ],
          "scatterternary": [
           {
            "marker": {
             "colorbar": {
              "outlinewidth": 0,
              "ticks": ""
             }
            },
            "type": "scatterternary"
           }
          ],
          "surface": [
           {
            "colorbar": {
             "outlinewidth": 0,
             "ticks": ""
            },
            "colorscale": [
             [
              0,
              "#0d0887"
             ],
             [
              0.1111111111111111,
              "#46039f"
             ],
             [
              0.2222222222222222,
              "#7201a8"
             ],
             [
              0.3333333333333333,
              "#9c179e"
             ],
             [
              0.4444444444444444,
              "#bd3786"
             ],
             [
              0.5555555555555556,
              "#d8576b"
             ],
             [
              0.6666666666666666,
              "#ed7953"
             ],
             [
              0.7777777777777778,
              "#fb9f3a"
             ],
             [
              0.8888888888888888,
              "#fdca26"
             ],
             [
              1,
              "#f0f921"
             ]
            ],
            "type": "surface"
           }
          ],
          "table": [
           {
            "cells": {
             "fill": {
              "color": "#EBF0F8"
             },
             "line": {
              "color": "white"
             }
            },
            "header": {
             "fill": {
              "color": "#C8D4E3"
             },
             "line": {
              "color": "white"
             }
            },
            "type": "table"
           }
          ]
         },
         "layout": {
          "annotationdefaults": {
           "arrowcolor": "#2a3f5f",
           "arrowhead": 0,
           "arrowwidth": 1
          },
          "autotypenumbers": "strict",
          "coloraxis": {
           "colorbar": {
            "outlinewidth": 0,
            "ticks": ""
           }
          },
          "colorscale": {
           "diverging": [
            [
             0,
             "#8e0152"
            ],
            [
             0.1,
             "#c51b7d"
            ],
            [
             0.2,
             "#de77ae"
            ],
            [
             0.3,
             "#f1b6da"
            ],
            [
             0.4,
             "#fde0ef"
            ],
            [
             0.5,
             "#f7f7f7"
            ],
            [
             0.6,
             "#e6f5d0"
            ],
            [
             0.7,
             "#b8e186"
            ],
            [
             0.8,
             "#7fbc41"
            ],
            [
             0.9,
             "#4d9221"
            ],
            [
             1,
             "#276419"
            ]
           ],
           "sequential": [
            [
             0,
             "#0d0887"
            ],
            [
             0.1111111111111111,
             "#46039f"
            ],
            [
             0.2222222222222222,
             "#7201a8"
            ],
            [
             0.3333333333333333,
             "#9c179e"
            ],
            [
             0.4444444444444444,
             "#bd3786"
            ],
            [
             0.5555555555555556,
             "#d8576b"
            ],
            [
             0.6666666666666666,
             "#ed7953"
            ],
            [
             0.7777777777777778,
             "#fb9f3a"
            ],
            [
             0.8888888888888888,
             "#fdca26"
            ],
            [
             1,
             "#f0f921"
            ]
           ],
           "sequentialminus": [
            [
             0,
             "#0d0887"
            ],
            [
             0.1111111111111111,
             "#46039f"
            ],
            [
             0.2222222222222222,
             "#7201a8"
            ],
            [
             0.3333333333333333,
             "#9c179e"
            ],
            [
             0.4444444444444444,
             "#bd3786"
            ],
            [
             0.5555555555555556,
             "#d8576b"
            ],
            [
             0.6666666666666666,
             "#ed7953"
            ],
            [
             0.7777777777777778,
             "#fb9f3a"
            ],
            [
             0.8888888888888888,
             "#fdca26"
            ],
            [
             1,
             "#f0f921"
            ]
           ]
          },
          "colorway": [
           "#636efa",
           "#EF553B",
           "#00cc96",
           "#ab63fa",
           "#FFA15A",
           "#19d3f3",
           "#FF6692",
           "#B6E880",
           "#FF97FF",
           "#FECB52"
          ],
          "font": {
           "color": "#2a3f5f"
          },
          "geo": {
           "bgcolor": "white",
           "lakecolor": "white",
           "landcolor": "#E5ECF6",
           "showlakes": true,
           "showland": true,
           "subunitcolor": "white"
          },
          "hoverlabel": {
           "align": "left"
          },
          "hovermode": "closest",
          "mapbox": {
           "style": "light"
          },
          "paper_bgcolor": "white",
          "plot_bgcolor": "#E5ECF6",
          "polar": {
           "angularaxis": {
            "gridcolor": "white",
            "linecolor": "white",
            "ticks": ""
           },
           "bgcolor": "#E5ECF6",
           "radialaxis": {
            "gridcolor": "white",
            "linecolor": "white",
            "ticks": ""
           }
          },
          "scene": {
           "xaxis": {
            "backgroundcolor": "#E5ECF6",
            "gridcolor": "white",
            "gridwidth": 2,
            "linecolor": "white",
            "showbackground": true,
            "ticks": "",
            "zerolinecolor": "white"
           },
           "yaxis": {
            "backgroundcolor": "#E5ECF6",
            "gridcolor": "white",
            "gridwidth": 2,
            "linecolor": "white",
            "showbackground": true,
            "ticks": "",
            "zerolinecolor": "white"
           },
           "zaxis": {
            "backgroundcolor": "#E5ECF6",
            "gridcolor": "white",
            "gridwidth": 2,
            "linecolor": "white",
            "showbackground": true,
            "ticks": "",
            "zerolinecolor": "white"
           }
          },
          "shapedefaults": {
           "line": {
            "color": "#2a3f5f"
           }
          },
          "ternary": {
           "aaxis": {
            "gridcolor": "white",
            "linecolor": "white",
            "ticks": ""
           },
           "baxis": {
            "gridcolor": "white",
            "linecolor": "white",
            "ticks": ""
           },
           "bgcolor": "#E5ECF6",
           "caxis": {
            "gridcolor": "white",
            "linecolor": "white",
            "ticks": ""
           }
          },
          "title": {
           "x": 0.05
          },
          "xaxis": {
           "automargin": true,
           "gridcolor": "white",
           "linecolor": "white",
           "ticks": "",
           "title": {
            "standoff": 15
           },
           "zerolinecolor": "white",
           "zerolinewidth": 2
          },
          "yaxis": {
           "automargin": true,
           "gridcolor": "white",
           "linecolor": "white",
           "ticks": "",
           "title": {
            "standoff": 15
           },
           "zerolinecolor": "white",
           "zerolinewidth": 2
          }
         }
        },
        "title": {
         "text": "Emotion Confidence by Video Type and Predicted Emotion"
        },
        "xaxis": {
         "anchor": "y",
         "domain": [
          0,
          0.2888888888888889
         ]
        },
        "xaxis10": {
         "anchor": "y10",
         "domain": [
          0,
          0.2888888888888889
         ]
        },
        "xaxis11": {
         "anchor": "y11",
         "domain": [
          0.35555555555555557,
          0.6444444444444445
         ]
        },
        "xaxis12": {
         "anchor": "y12",
         "domain": [
          0.7111111111111111,
          1
         ]
        },
        "xaxis13": {
         "anchor": "y13",
         "domain": [
          0,
          0.2888888888888889
         ]
        },
        "xaxis14": {
         "anchor": "y14",
         "domain": [
          0.35555555555555557,
          0.6444444444444445
         ],
         "title": {
          "text": "Emotion Confidence"
         }
        },
        "xaxis15": {
         "anchor": "y15",
         "domain": [
          0.7111111111111111,
          1
         ]
        },
        "xaxis2": {
         "anchor": "y2",
         "domain": [
          0.35555555555555557,
          0.6444444444444445
         ]
        },
        "xaxis3": {
         "anchor": "y3",
         "domain": [
          0.7111111111111111,
          1
         ]
        },
        "xaxis4": {
         "anchor": "y4",
         "domain": [
          0,
          0.2888888888888889
         ]
        },
        "xaxis5": {
         "anchor": "y5",
         "domain": [
          0.35555555555555557,
          0.6444444444444445
         ]
        },
        "xaxis6": {
         "anchor": "y6",
         "domain": [
          0.7111111111111111,
          1
         ]
        },
        "xaxis7": {
         "anchor": "y7",
         "domain": [
          0,
          0.2888888888888889
         ]
        },
        "xaxis8": {
         "anchor": "y8",
         "domain": [
          0.35555555555555557,
          0.6444444444444445
         ]
        },
        "xaxis9": {
         "anchor": "y9",
         "domain": [
          0.7111111111111111,
          1
         ]
        },
        "yaxis": {
         "anchor": "x",
         "domain": [
          0.88,
          1
         ],
         "title": {
          "text": "Neutral"
         }
        },
        "yaxis10": {
         "anchor": "x10",
         "domain": [
          0.22,
          0.33999999999999997
         ],
         "title": {
          "text": "Sad"
         }
        },
        "yaxis11": {
         "anchor": "x11",
         "domain": [
          0.22,
          0.33999999999999997
         ]
        },
        "yaxis12": {
         "anchor": "x12",
         "domain": [
          0.22,
          0.33999999999999997
         ]
        },
        "yaxis13": {
         "anchor": "x13",
         "domain": [
          0,
          0.12
         ],
         "title": {
          "text": "Surprise"
         }
        },
        "yaxis14": {
         "anchor": "x14",
         "domain": [
          0,
          0.12
         ]
        },
        "yaxis15": {
         "anchor": "x15",
         "domain": [
          0,
          0.12
         ]
        },
        "yaxis2": {
         "anchor": "x2",
         "domain": [
          0.88,
          1
         ]
        },
        "yaxis3": {
         "anchor": "x3",
         "domain": [
          0.88,
          1
         ]
        },
        "yaxis4": {
         "anchor": "x4",
         "domain": [
          0.66,
          0.78
         ],
         "title": {
          "text": "Happy"
         }
        },
        "yaxis5": {
         "anchor": "x5",
         "domain": [
          0.66,
          0.78
         ]
        },
        "yaxis6": {
         "anchor": "x6",
         "domain": [
          0.66,
          0.78
         ]
        },
        "yaxis7": {
         "anchor": "x7",
         "domain": [
          0.44,
          0.56
         ],
         "title": {
          "text": "Anger"
         }
        },
        "yaxis8": {
         "anchor": "x8",
         "domain": [
          0.44,
          0.56
         ]
        },
        "yaxis9": {
         "anchor": "x9",
         "domain": [
          0.44,
          0.56
         ]
        }
       }
      }
     },
     "metadata": {}
    }
   ],
   "source": [
    "bins = [0.7, 0.75, 0.8, 0.825, 0.875, 0.9, 0.95, 1.0]\n",
    "labels = [0.7, 0.75, 0.8, 0.85, 0.9, 0.95, 1.0]\n",
    "\n",
    "\n",
    "fig = make_subplots(rows=5, cols=3,\n",
    "                    subplot_titles=('Neutral','Positive','Negative'))\n",
    "emotions = ['neutral','positive','negative']\n",
    "colors = ['blue', 'green', 'red']\n",
    "for i, emotion in enumerate(emotions):\n",
    "    tmp = data_df[data_df['video_type'] == emotion]\n",
    "    for j, pred_emotion in enumerate(data_df['pred_emotion'].unique()):\n",
    "        tmp2 = tmp[tmp['pred_emotion'] == pred_emotion]\n",
    "        \n",
    "        tmp2['emotion_confidence'] = pd.cut(tmp['emotion_confidence'].astype(float), bins=bins, labels=labels)\n",
    "        grp = tmp2.groupby('emotion_confidence').video_id.count().reset_index().rename(columns={'video_id':'count'})\n",
    "        fig.add_trace(go.Bar(x=list(grp['emotion_confidence']),\n",
    "                             y=list(grp['count']),\n",
    "                             marker = {'color' : colors[i]}),\n",
    "                      row=j + 1, col=i + 1)\n",
    "        if i == 0:\n",
    "            fig.update_yaxes(title_text=pred_emotion.title(), row=j + 1, col=1)\n",
    "\n",
    "fig.update_layout(title_text='Emotion Confidence by Video Type and Predicted Emotion', showlegend=False,\n",
    "                 height=1000)\n",
    "fig.update_xaxes(title_text='Emotion Confidence', row=5, col=2)\n",
    "fig.show()"
   ]
  },
  {
   "cell_type": "markdown",
   "id": "simplified-simple",
   "metadata": {},
   "source": [
    "# Classify Video Type"
   ]
  },
  {
   "cell_type": "markdown",
   "id": "occupied-addiction",
   "metadata": {},
   "source": [
    "## Encode Categorical Data"
   ]
  },
  {
   "cell_type": "code",
   "execution_count": 124,
   "id": "drawn-invite",
   "metadata": {},
   "outputs": [],
   "source": [
    "label_encoding = dict(zip(data_df['video_type'].unique(), range(0,3)))\n",
    "data_df['enc_video_type'] = data_df['video_type'].map(label_encoding, na_action='ignore')\n",
    "\n",
    "emotion_encoding = dict(zip(data_df['pred_emotion'].unique(), range(0, len(data_df['pred_emotion'].unique()))))\n",
    "data_df['enc_pred_emotion'] = data_df['pred_emotion'].map(emotion_encoding, na_action='ignore')"
   ]
  },
  {
   "cell_type": "markdown",
   "id": "charitable-fleet",
   "metadata": {},
   "source": [
    "## Prep Data for Features/Labels"
   ]
  },
  {
   "cell_type": "code",
   "execution_count": 125,
   "id": "premier-symbol",
   "metadata": {},
   "outputs": [],
   "source": [
    "features = ['enc_pred_emotion','emotion_confidence','rpm','distance','norm_slow','norm_fast','norm_start','norm_stop']\n",
    "\n",
    "X = data_df[features].astype(float)\n",
    "y = data_df['enc_video_type']"
   ]
  },
  {
   "cell_type": "markdown",
   "id": "round-emission",
   "metadata": {},
   "source": [
    "## Build Classifier"
   ]
  },
  {
   "cell_type": "code",
   "execution_count": 126,
   "id": "brown-butter",
   "metadata": {},
   "outputs": [
    {
     "output_type": "stream",
     "name": "stdout",
     "text": [
      "0.9969230769230769\n"
     ]
    }
   ],
   "source": [
    "X_train, X_test, y_train, y_test = train_test_split(X, y, test_size=0.3)\n",
    "\n",
    "oversample = SMOTE()\n",
    "X_train, y_train = oversample.fit_resample(X_train, y_train)\n",
    "\n",
    "clf = RandomForestClassifier()\n",
    "clf.fit(X_train, y_train)\n",
    "print(clf.score(X_test, y_test))"
   ]
  },
  {
   "cell_type": "markdown",
   "id": "coordinated-herald",
   "metadata": {},
   "source": [
    "## Find Feature Importance"
   ]
  },
  {
   "cell_type": "code",
   "execution_count": 127,
   "id": "common-monday",
   "metadata": {},
   "outputs": [
    {
     "output_type": "display_data",
     "data": {
      "application/vnd.plotly.v1+json": {
       "config": {
        "plotlyServerURL": "https://plot.ly"
       },
       "data": [
        {
         "alignmentgroup": "True",
         "hovertemplate": "Features=%{x}<br>Importances=%{y}<extra></extra>",
         "legendgroup": "",
         "marker": {
          "color": "#F8766D"
         },
         "name": "",
         "offsetgroup": "",
         "orientation": "v",
         "showlegend": false,
         "textposition": "auto",
         "type": "bar",
         "x": [
          "rpm",
          "distance",
          "norm_start",
          "norm_stop",
          "norm_slow",
          "norm_fast",
          "emotion_confidence",
          "enc_pred_emotion"
         ],
         "xaxis": "x",
         "y": [
          0.1962808456104399,
          0.16447924084690393,
          0.1585780374061545,
          0.1491811019219844,
          0.09933894031968524,
          0.08937504936183523,
          0.07630514219813474,
          0.0664616423348622
         ],
         "yaxis": "y"
        }
       ],
       "layout": {
        "barmode": "relative",
        "legend": {
         "tracegroupgap": 0
        },
        "template": {
         "data": {
          "bar": [
           {
            "error_x": {
             "color": "rgb(51,51,51)"
            },
            "error_y": {
             "color": "rgb(51,51,51)"
            },
            "marker": {
             "line": {
              "color": "rgb(237,237,237)",
              "width": 0.5
             }
            },
            "type": "bar"
           }
          ],
          "barpolar": [
           {
            "marker": {
             "line": {
              "color": "rgb(237,237,237)",
              "width": 0.5
             }
            },
            "type": "barpolar"
           }
          ],
          "carpet": [
           {
            "aaxis": {
             "endlinecolor": "rgb(51,51,51)",
             "gridcolor": "white",
             "linecolor": "white",
             "minorgridcolor": "white",
             "startlinecolor": "rgb(51,51,51)"
            },
            "baxis": {
             "endlinecolor": "rgb(51,51,51)",
             "gridcolor": "white",
             "linecolor": "white",
             "minorgridcolor": "white",
             "startlinecolor": "rgb(51,51,51)"
            },
            "type": "carpet"
           }
          ],
          "choropleth": [
           {
            "colorbar": {
             "outlinewidth": 0,
             "tickcolor": "rgb(237,237,237)",
             "ticklen": 6,
             "ticks": "inside"
            },
            "type": "choropleth"
           }
          ],
          "contour": [
           {
            "colorbar": {
             "outlinewidth": 0,
             "tickcolor": "rgb(237,237,237)",
             "ticklen": 6,
             "ticks": "inside"
            },
            "colorscale": [
             [
              0,
              "rgb(20,44,66)"
             ],
             [
              1,
              "rgb(90,179,244)"
             ]
            ],
            "type": "contour"
           }
          ],
          "contourcarpet": [
           {
            "colorbar": {
             "outlinewidth": 0,
             "tickcolor": "rgb(237,237,237)",
             "ticklen": 6,
             "ticks": "inside"
            },
            "type": "contourcarpet"
           }
          ],
          "heatmap": [
           {
            "colorbar": {
             "outlinewidth": 0,
             "tickcolor": "rgb(237,237,237)",
             "ticklen": 6,
             "ticks": "inside"
            },
            "colorscale": [
             [
              0,
              "rgb(20,44,66)"
             ],
             [
              1,
              "rgb(90,179,244)"
             ]
            ],
            "type": "heatmap"
           }
          ],
          "heatmapgl": [
           {
            "colorbar": {
             "outlinewidth": 0,
             "tickcolor": "rgb(237,237,237)",
             "ticklen": 6,
             "ticks": "inside"
            },
            "colorscale": [
             [
              0,
              "rgb(20,44,66)"
             ],
             [
              1,
              "rgb(90,179,244)"
             ]
            ],
            "type": "heatmapgl"
           }
          ],
          "histogram": [
           {
            "marker": {
             "colorbar": {
              "outlinewidth": 0,
              "tickcolor": "rgb(237,237,237)",
              "ticklen": 6,
              "ticks": "inside"
             }
            },
            "type": "histogram"
           }
          ],
          "histogram2d": [
           {
            "colorbar": {
             "outlinewidth": 0,
             "tickcolor": "rgb(237,237,237)",
             "ticklen": 6,
             "ticks": "inside"
            },
            "colorscale": [
             [
              0,
              "rgb(20,44,66)"
             ],
             [
              1,
              "rgb(90,179,244)"
             ]
            ],
            "type": "histogram2d"
           }
          ],
          "histogram2dcontour": [
           {
            "colorbar": {
             "outlinewidth": 0,
             "tickcolor": "rgb(237,237,237)",
             "ticklen": 6,
             "ticks": "inside"
            },
            "colorscale": [
             [
              0,
              "rgb(20,44,66)"
             ],
             [
              1,
              "rgb(90,179,244)"
             ]
            ],
            "type": "histogram2dcontour"
           }
          ],
          "mesh3d": [
           {
            "colorbar": {
             "outlinewidth": 0,
             "tickcolor": "rgb(237,237,237)",
             "ticklen": 6,
             "ticks": "inside"
            },
            "type": "mesh3d"
           }
          ],
          "parcoords": [
           {
            "line": {
             "colorbar": {
              "outlinewidth": 0,
              "tickcolor": "rgb(237,237,237)",
              "ticklen": 6,
              "ticks": "inside"
             }
            },
            "type": "parcoords"
           }
          ],
          "pie": [
           {
            "automargin": true,
            "type": "pie"
           }
          ],
          "scatter": [
           {
            "marker": {
             "colorbar": {
              "outlinewidth": 0,
              "tickcolor": "rgb(237,237,237)",
              "ticklen": 6,
              "ticks": "inside"
             }
            },
            "type": "scatter"
           }
          ],
          "scatter3d": [
           {
            "line": {
             "colorbar": {
              "outlinewidth": 0,
              "tickcolor": "rgb(237,237,237)",
              "ticklen": 6,
              "ticks": "inside"
             }
            },
            "marker": {
             "colorbar": {
              "outlinewidth": 0,
              "tickcolor": "rgb(237,237,237)",
              "ticklen": 6,
              "ticks": "inside"
             }
            },
            "type": "scatter3d"
           }
          ],
          "scattercarpet": [
           {
            "marker": {
             "colorbar": {
              "outlinewidth": 0,
              "tickcolor": "rgb(237,237,237)",
              "ticklen": 6,
              "ticks": "inside"
             }
            },
            "type": "scattercarpet"
           }
          ],
          "scattergeo": [
           {
            "marker": {
             "colorbar": {
              "outlinewidth": 0,
              "tickcolor": "rgb(237,237,237)",
              "ticklen": 6,
              "ticks": "inside"
             }
            },
            "type": "scattergeo"
           }
          ],
          "scattergl": [
           {
            "marker": {
             "colorbar": {
              "outlinewidth": 0,
              "tickcolor": "rgb(237,237,237)",
              "ticklen": 6,
              "ticks": "inside"
             }
            },
            "type": "scattergl"
           }
          ],
          "scattermapbox": [
           {
            "marker": {
             "colorbar": {
              "outlinewidth": 0,
              "tickcolor": "rgb(237,237,237)",
              "ticklen": 6,
              "ticks": "inside"
             }
            },
            "type": "scattermapbox"
           }
          ],
          "scatterpolar": [
           {
            "marker": {
             "colorbar": {
              "outlinewidth": 0,
              "tickcolor": "rgb(237,237,237)",
              "ticklen": 6,
              "ticks": "inside"
             }
            },
            "type": "scatterpolar"
           }
          ],
          "scatterpolargl": [
           {
            "marker": {
             "colorbar": {
              "outlinewidth": 0,
              "tickcolor": "rgb(237,237,237)",
              "ticklen": 6,
              "ticks": "inside"
             }
            },
            "type": "scatterpolargl"
           }
          ],
          "scatterternary": [
           {
            "marker": {
             "colorbar": {
              "outlinewidth": 0,
              "tickcolor": "rgb(237,237,237)",
              "ticklen": 6,
              "ticks": "inside"
             }
            },
            "type": "scatterternary"
           }
          ],
          "surface": [
           {
            "colorbar": {
             "outlinewidth": 0,
             "tickcolor": "rgb(237,237,237)",
             "ticklen": 6,
             "ticks": "inside"
            },
            "colorscale": [
             [
              0,
              "rgb(20,44,66)"
             ],
             [
              1,
              "rgb(90,179,244)"
             ]
            ],
            "type": "surface"
           }
          ],
          "table": [
           {
            "cells": {
             "fill": {
              "color": "rgb(237,237,237)"
             },
             "line": {
              "color": "white"
             }
            },
            "header": {
             "fill": {
              "color": "rgb(217,217,217)"
             },
             "line": {
              "color": "white"
             }
            },
            "type": "table"
           }
          ]
         },
         "layout": {
          "annotationdefaults": {
           "arrowhead": 0,
           "arrowwidth": 1
          },
          "autotypenumbers": "strict",
          "coloraxis": {
           "colorbar": {
            "outlinewidth": 0,
            "tickcolor": "rgb(237,237,237)",
            "ticklen": 6,
            "ticks": "inside"
           }
          },
          "colorscale": {
           "sequential": [
            [
             0,
             "rgb(20,44,66)"
            ],
            [
             1,
             "rgb(90,179,244)"
            ]
           ],
           "sequentialminus": [
            [
             0,
             "rgb(20,44,66)"
            ],
            [
             1,
             "rgb(90,179,244)"
            ]
           ]
          },
          "colorway": [
           "#F8766D",
           "#A3A500",
           "#00BF7D",
           "#00B0F6",
           "#E76BF3"
          ],
          "font": {
           "color": "rgb(51,51,51)"
          },
          "geo": {
           "bgcolor": "white",
           "lakecolor": "white",
           "landcolor": "rgb(237,237,237)",
           "showlakes": true,
           "showland": true,
           "subunitcolor": "white"
          },
          "hoverlabel": {
           "align": "left"
          },
          "hovermode": "closest",
          "paper_bgcolor": "white",
          "plot_bgcolor": "rgb(237,237,237)",
          "polar": {
           "angularaxis": {
            "gridcolor": "white",
            "linecolor": "white",
            "showgrid": true,
            "tickcolor": "rgb(51,51,51)",
            "ticks": "outside"
           },
           "bgcolor": "rgb(237,237,237)",
           "radialaxis": {
            "gridcolor": "white",
            "linecolor": "white",
            "showgrid": true,
            "tickcolor": "rgb(51,51,51)",
            "ticks": "outside"
           }
          },
          "scene": {
           "xaxis": {
            "backgroundcolor": "rgb(237,237,237)",
            "gridcolor": "white",
            "gridwidth": 2,
            "linecolor": "white",
            "showbackground": true,
            "showgrid": true,
            "tickcolor": "rgb(51,51,51)",
            "ticks": "outside",
            "zerolinecolor": "white"
           },
           "yaxis": {
            "backgroundcolor": "rgb(237,237,237)",
            "gridcolor": "white",
            "gridwidth": 2,
            "linecolor": "white",
            "showbackground": true,
            "showgrid": true,
            "tickcolor": "rgb(51,51,51)",
            "ticks": "outside",
            "zerolinecolor": "white"
           },
           "zaxis": {
            "backgroundcolor": "rgb(237,237,237)",
            "gridcolor": "white",
            "gridwidth": 2,
            "linecolor": "white",
            "showbackground": true,
            "showgrid": true,
            "tickcolor": "rgb(51,51,51)",
            "ticks": "outside",
            "zerolinecolor": "white"
           }
          },
          "shapedefaults": {
           "fillcolor": "black",
           "line": {
            "width": 0
           },
           "opacity": 0.3
          },
          "ternary": {
           "aaxis": {
            "gridcolor": "white",
            "linecolor": "white",
            "showgrid": true,
            "tickcolor": "rgb(51,51,51)",
            "ticks": "outside"
           },
           "baxis": {
            "gridcolor": "white",
            "linecolor": "white",
            "showgrid": true,
            "tickcolor": "rgb(51,51,51)",
            "ticks": "outside"
           },
           "bgcolor": "rgb(237,237,237)",
           "caxis": {
            "gridcolor": "white",
            "linecolor": "white",
            "showgrid": true,
            "tickcolor": "rgb(51,51,51)",
            "ticks": "outside"
           }
          },
          "xaxis": {
           "automargin": true,
           "gridcolor": "white",
           "linecolor": "white",
           "showgrid": true,
           "tickcolor": "rgb(51,51,51)",
           "ticks": "outside",
           "title": {
            "standoff": 15
           },
           "zerolinecolor": "white"
          },
          "yaxis": {
           "automargin": true,
           "gridcolor": "white",
           "linecolor": "white",
           "showgrid": true,
           "tickcolor": "rgb(51,51,51)",
           "ticks": "outside",
           "title": {
            "standoff": 15
           },
           "zerolinecolor": "white"
          }
         }
        },
        "title": {
         "text": "Feature Importance"
        },
        "xaxis": {
         "anchor": "y",
         "domain": [
          0,
          1
         ],
         "title": {
          "text": "Features"
         }
        },
        "yaxis": {
         "anchor": "x",
         "domain": [
          0,
          1
         ],
         "title": {
          "text": "Importances"
         }
        }
       }
      }
     },
     "metadata": {}
    }
   ],
   "source": [
    "# See which features were most important\n",
    "imps = pd.DataFrame()\n",
    "imps['Features'] = features\n",
    "imps['Importances'] = clf.feature_importances_\n",
    "imps = imps.sort_values('Importances', ascending=False)\n",
    "px.bar(imps, x='Features', y='Importances', template='ggplot2',\n",
    "       title='Feature Importance')"
   ]
  },
  {
   "cell_type": "markdown",
   "id": "residential-compiler",
   "metadata": {},
   "source": [
    "## Analyze Classification Effectiveness"
   ]
  },
  {
   "cell_type": "code",
   "execution_count": 128,
   "id": "resident-writing",
   "metadata": {},
   "outputs": [
    {
     "output_type": "display_data",
     "data": {
      "text/plain": "<Figure size 936x936 with 2 Axes>",
      "image/svg+xml": "<?xml version=\"1.0\" encoding=\"utf-8\" standalone=\"no\"?>\n<!DOCTYPE svg PUBLIC \"-//W3C//DTD SVG 1.1//EN\"\n  \"http://www.w3.org/Graphics/SVG/1.1/DTD/svg11.dtd\">\n<svg height=\"728.722578pt\" version=\"1.1\" viewBox=\"0 0 725.850875 728.722578\" width=\"725.850875pt\" xmlns=\"http://www.w3.org/2000/svg\" xmlns:xlink=\"http://www.w3.org/1999/xlink\">\n <metadata>\n  <rdf:RDF xmlns:cc=\"http://creativecommons.org/ns#\" xmlns:dc=\"http://purl.org/dc/elements/1.1/\" xmlns:rdf=\"http://www.w3.org/1999/02/22-rdf-syntax-ns#\">\n   <cc:Work>\n    <dc:type rdf:resource=\"http://purl.org/dc/dcmitype/StillImage\"/>\n    <dc:date>2021-05-11T17:38:56.517745</dc:date>\n    <dc:format>image/svg+xml</dc:format>\n    <dc:creator>\n     <cc:Agent>\n      <dc:title>Matplotlib v3.4.2, https://matplotlib.org/</dc:title>\n     </cc:Agent>\n    </dc:creator>\n   </cc:Work>\n  </rdf:RDF>\n </metadata>\n <defs>\n  <style type=\"text/css\">*{stroke-linecap:butt;stroke-linejoin:round;}</style>\n </defs>\n <g id=\"figure_1\">\n  <g id=\"patch_1\">\n   <path d=\"M 0 728.722578 \nL 725.850875 728.722578 \nL 725.850875 0 \nL 0 0 \nz\n\" style=\"fill:none;\"/>\n  </g>\n  <g id=\"axes_1\">\n   <g id=\"patch_2\">\n    <path d=\"M 39.052813 650.7 \nL 619.372813 650.7 \nL 619.372813 70.38 \nL 39.052813 70.38 \nz\n\" style=\"fill:#ffffff;\"/>\n   </g>\n   <g clip-path=\"url(#pcad029bb43)\">\n    <image height=\"581\" id=\"imagebc90d291e2\" transform=\"scale(1 -1)translate(0 -581)\" width=\"581\" x=\"39.052813\" xlink:href=\"data:image/png;base64,\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\" y=\"-69.7\"/>\n   </g>\n   <g id=\"matplotlib.axis_1\">\n    <g id=\"xtick_1\">\n     <g id=\"line2d_1\">\n      <defs>\n       <path d=\"M 0 0 \nL 0 3.5 \n\" id=\"m7077bb7f4b\" style=\"stroke:#000000;stroke-width:0.8;\"/>\n      </defs>\n      <g>\n       <use style=\"stroke:#000000;stroke-width:0.8;\" x=\"135.772812\" xlink:href=\"#m7077bb7f4b\" y=\"650.7\"/>\n      </g>\n     </g>\n     <g id=\"text_1\">\n      <!-- 0 -->\n      <g transform=\"translate(135.385009 670.533436)rotate(-45)scale(0.13 -0.13)\">\n       <defs>\n        <path d=\"M 2034 4250 \nQ 1547 4250 1301 3770 \nQ 1056 3291 1056 2328 \nQ 1056 1369 1301 889 \nQ 1547 409 2034 409 \nQ 2525 409 2770 889 \nQ 3016 1369 3016 2328 \nQ 3016 3291 2770 3770 \nQ 2525 4250 2034 4250 \nz\nM 2034 4750 \nQ 2819 4750 3233 4129 \nQ 3647 3509 3647 2328 \nQ 3647 1150 3233 529 \nQ 2819 -91 2034 -91 \nQ 1250 -91 836 529 \nQ 422 1150 422 2328 \nQ 422 3509 836 4129 \nQ 1250 4750 2034 4750 \nz\n\" id=\"DejaVuSans-30\" transform=\"scale(0.015625)\"/>\n       </defs>\n       <use xlink:href=\"#DejaVuSans-30\"/>\n      </g>\n     </g>\n    </g>\n    <g id=\"xtick_2\">\n     <g id=\"line2d_2\">\n      <g>\n       <use style=\"stroke:#000000;stroke-width:0.8;\" x=\"329.212812\" xlink:href=\"#m7077bb7f4b\" y=\"650.7\"/>\n      </g>\n     </g>\n     <g id=\"text_2\">\n      <!-- 1 -->\n      <g transform=\"translate(328.825009 670.533436)rotate(-45)scale(0.13 -0.13)\">\n       <defs>\n        <path d=\"M 794 531 \nL 1825 531 \nL 1825 4091 \nL 703 3866 \nL 703 4441 \nL 1819 4666 \nL 2450 4666 \nL 2450 531 \nL 3481 531 \nL 3481 0 \nL 794 0 \nL 794 531 \nz\n\" id=\"DejaVuSans-31\" transform=\"scale(0.015625)\"/>\n       </defs>\n       <use xlink:href=\"#DejaVuSans-31\"/>\n      </g>\n     </g>\n    </g>\n    <g id=\"xtick_3\">\n     <g id=\"line2d_3\">\n      <g>\n       <use style=\"stroke:#000000;stroke-width:0.8;\" x=\"522.652812\" xlink:href=\"#m7077bb7f4b\" y=\"650.7\"/>\n      </g>\n     </g>\n     <g id=\"text_3\">\n      <!-- 2 -->\n      <g transform=\"translate(522.265009 670.533436)rotate(-45)scale(0.13 -0.13)\">\n       <defs>\n        <path d=\"M 1228 531 \nL 3431 531 \nL 3431 0 \nL 469 0 \nL 469 531 \nQ 828 903 1448 1529 \nQ 2069 2156 2228 2338 \nQ 2531 2678 2651 2914 \nQ 2772 3150 2772 3378 \nQ 2772 3750 2511 3984 \nQ 2250 4219 1831 4219 \nQ 1534 4219 1204 4116 \nQ 875 4013 500 3803 \nL 500 4441 \nQ 881 4594 1212 4672 \nQ 1544 4750 1819 4750 \nQ 2544 4750 2975 4387 \nQ 3406 4025 3406 3419 \nQ 3406 3131 3298 2873 \nQ 3191 2616 2906 2266 \nQ 2828 2175 2409 1742 \nQ 1991 1309 1228 531 \nz\n\" id=\"DejaVuSans-32\" transform=\"scale(0.015625)\"/>\n       </defs>\n       <use xlink:href=\"#DejaVuSans-32\"/>\n      </g>\n     </g>\n    </g>\n    <g id=\"text_4\">\n     <!-- Predicted label -->\n     <g transform=\"translate(280.914766 686.323134)scale(0.13 -0.13)\">\n      <defs>\n       <path d=\"M 1259 4147 \nL 1259 2394 \nL 2053 2394 \nQ 2494 2394 2734 2622 \nQ 2975 2850 2975 3272 \nQ 2975 3691 2734 3919 \nQ 2494 4147 2053 4147 \nL 1259 4147 \nz\nM 628 4666 \nL 2053 4666 \nQ 2838 4666 3239 4311 \nQ 3641 3956 3641 3272 \nQ 3641 2581 3239 2228 \nQ 2838 1875 2053 1875 \nL 1259 1875 \nL 1259 0 \nL 628 0 \nL 628 4666 \nz\n\" id=\"DejaVuSans-50\" transform=\"scale(0.015625)\"/>\n       <path d=\"M 2631 2963 \nQ 2534 3019 2420 3045 \nQ 2306 3072 2169 3072 \nQ 1681 3072 1420 2755 \nQ 1159 2438 1159 1844 \nL 1159 0 \nL 581 0 \nL 581 3500 \nL 1159 3500 \nL 1159 2956 \nQ 1341 3275 1631 3429 \nQ 1922 3584 2338 3584 \nQ 2397 3584 2469 3576 \nQ 2541 3569 2628 3553 \nL 2631 2963 \nz\n\" id=\"DejaVuSans-72\" transform=\"scale(0.015625)\"/>\n       <path d=\"M 3597 1894 \nL 3597 1613 \nL 953 1613 \nQ 991 1019 1311 708 \nQ 1631 397 2203 397 \nQ 2534 397 2845 478 \nQ 3156 559 3463 722 \nL 3463 178 \nQ 3153 47 2828 -22 \nQ 2503 -91 2169 -91 \nQ 1331 -91 842 396 \nQ 353 884 353 1716 \nQ 353 2575 817 3079 \nQ 1281 3584 2069 3584 \nQ 2775 3584 3186 3129 \nQ 3597 2675 3597 1894 \nz\nM 3022 2063 \nQ 3016 2534 2758 2815 \nQ 2500 3097 2075 3097 \nQ 1594 3097 1305 2825 \nQ 1016 2553 972 2059 \nL 3022 2063 \nz\n\" id=\"DejaVuSans-65\" transform=\"scale(0.015625)\"/>\n       <path d=\"M 2906 2969 \nL 2906 4863 \nL 3481 4863 \nL 3481 0 \nL 2906 0 \nL 2906 525 \nQ 2725 213 2448 61 \nQ 2172 -91 1784 -91 \nQ 1150 -91 751 415 \nQ 353 922 353 1747 \nQ 353 2572 751 3078 \nQ 1150 3584 1784 3584 \nQ 2172 3584 2448 3432 \nQ 2725 3281 2906 2969 \nz\nM 947 1747 \nQ 947 1113 1208 752 \nQ 1469 391 1925 391 \nQ 2381 391 2643 752 \nQ 2906 1113 2906 1747 \nQ 2906 2381 2643 2742 \nQ 2381 3103 1925 3103 \nQ 1469 3103 1208 2742 \nQ 947 2381 947 1747 \nz\n\" id=\"DejaVuSans-64\" transform=\"scale(0.015625)\"/>\n       <path d=\"M 603 3500 \nL 1178 3500 \nL 1178 0 \nL 603 0 \nL 603 3500 \nz\nM 603 4863 \nL 1178 4863 \nL 1178 4134 \nL 603 4134 \nL 603 4863 \nz\n\" id=\"DejaVuSans-69\" transform=\"scale(0.015625)\"/>\n       <path d=\"M 3122 3366 \nL 3122 2828 \nQ 2878 2963 2633 3030 \nQ 2388 3097 2138 3097 \nQ 1578 3097 1268 2742 \nQ 959 2388 959 1747 \nQ 959 1106 1268 751 \nQ 1578 397 2138 397 \nQ 2388 397 2633 464 \nQ 2878 531 3122 666 \nL 3122 134 \nQ 2881 22 2623 -34 \nQ 2366 -91 2075 -91 \nQ 1284 -91 818 406 \nQ 353 903 353 1747 \nQ 353 2603 823 3093 \nQ 1294 3584 2113 3584 \nQ 2378 3584 2631 3529 \nQ 2884 3475 3122 3366 \nz\n\" id=\"DejaVuSans-63\" transform=\"scale(0.015625)\"/>\n       <path d=\"M 1172 4494 \nL 1172 3500 \nL 2356 3500 \nL 2356 3053 \nL 1172 3053 \nL 1172 1153 \nQ 1172 725 1289 603 \nQ 1406 481 1766 481 \nL 2356 481 \nL 2356 0 \nL 1766 0 \nQ 1100 0 847 248 \nQ 594 497 594 1153 \nL 594 3053 \nL 172 3053 \nL 172 3500 \nL 594 3500 \nL 594 4494 \nL 1172 4494 \nz\n\" id=\"DejaVuSans-74\" transform=\"scale(0.015625)\"/>\n       <path id=\"DejaVuSans-20\" transform=\"scale(0.015625)\"/>\n       <path d=\"M 603 4863 \nL 1178 4863 \nL 1178 0 \nL 603 0 \nL 603 4863 \nz\n\" id=\"DejaVuSans-6c\" transform=\"scale(0.015625)\"/>\n       <path d=\"M 2194 1759 \nQ 1497 1759 1228 1600 \nQ 959 1441 959 1056 \nQ 959 750 1161 570 \nQ 1363 391 1709 391 \nQ 2188 391 2477 730 \nQ 2766 1069 2766 1631 \nL 2766 1759 \nL 2194 1759 \nz\nM 3341 1997 \nL 3341 0 \nL 2766 0 \nL 2766 531 \nQ 2569 213 2275 61 \nQ 1981 -91 1556 -91 \nQ 1019 -91 701 211 \nQ 384 513 384 1019 \nQ 384 1609 779 1909 \nQ 1175 2209 1959 2209 \nL 2766 2209 \nL 2766 2266 \nQ 2766 2663 2505 2880 \nQ 2244 3097 1772 3097 \nQ 1472 3097 1187 3025 \nQ 903 2953 641 2809 \nL 641 3341 \nQ 956 3463 1253 3523 \nQ 1550 3584 1831 3584 \nQ 2591 3584 2966 3190 \nQ 3341 2797 3341 1997 \nz\n\" id=\"DejaVuSans-61\" transform=\"scale(0.015625)\"/>\n       <path d=\"M 3116 1747 \nQ 3116 2381 2855 2742 \nQ 2594 3103 2138 3103 \nQ 1681 3103 1420 2742 \nQ 1159 2381 1159 1747 \nQ 1159 1113 1420 752 \nQ 1681 391 2138 391 \nQ 2594 391 2855 752 \nQ 3116 1113 3116 1747 \nz\nM 1159 2969 \nQ 1341 3281 1617 3432 \nQ 1894 3584 2278 3584 \nQ 2916 3584 3314 3078 \nQ 3713 2572 3713 1747 \nQ 3713 922 3314 415 \nQ 2916 -91 2278 -91 \nQ 1894 -91 1617 61 \nQ 1341 213 1159 525 \nL 1159 0 \nL 581 0 \nL 581 4863 \nL 1159 4863 \nL 1159 2969 \nz\n\" id=\"DejaVuSans-62\" transform=\"scale(0.015625)\"/>\n      </defs>\n      <use xlink:href=\"#DejaVuSans-50\"/>\n      <use x=\"58.552734\" xlink:href=\"#DejaVuSans-72\"/>\n      <use x=\"97.416016\" xlink:href=\"#DejaVuSans-65\"/>\n      <use x=\"158.939453\" xlink:href=\"#DejaVuSans-64\"/>\n      <use x=\"222.416016\" xlink:href=\"#DejaVuSans-69\"/>\n      <use x=\"250.199219\" xlink:href=\"#DejaVuSans-63\"/>\n      <use x=\"305.179688\" xlink:href=\"#DejaVuSans-74\"/>\n      <use x=\"344.388672\" xlink:href=\"#DejaVuSans-65\"/>\n      <use x=\"405.912109\" xlink:href=\"#DejaVuSans-64\"/>\n      <use x=\"469.388672\" xlink:href=\"#DejaVuSans-20\"/>\n      <use x=\"501.175781\" xlink:href=\"#DejaVuSans-6c\"/>\n      <use x=\"528.958984\" xlink:href=\"#DejaVuSans-61\"/>\n      <use x=\"590.238281\" xlink:href=\"#DejaVuSans-62\"/>\n      <use x=\"653.714844\" xlink:href=\"#DejaVuSans-65\"/>\n      <use x=\"715.238281\" xlink:href=\"#DejaVuSans-6c\"/>\n     </g>\n    </g>\n   </g>\n   <g id=\"matplotlib.axis_2\">\n    <g id=\"ytick_1\">\n     <g id=\"line2d_4\">\n      <defs>\n       <path d=\"M 0 0 \nL -3.5 0 \n\" id=\"me24c7fd78d\" style=\"stroke:#000000;stroke-width:0.8;\"/>\n      </defs>\n      <g>\n       <use style=\"stroke:#000000;stroke-width:0.8;\" x=\"39.052813\" xlink:href=\"#me24c7fd78d\" y=\"167.1\"/>\n      </g>\n     </g>\n     <g id=\"text_5\">\n      <!-- 0 -->\n      <g transform=\"translate(23.781563 172.038984)scale(0.13 -0.13)\">\n       <use xlink:href=\"#DejaVuSans-30\"/>\n      </g>\n     </g>\n    </g>\n    <g id=\"ytick_2\">\n     <g id=\"line2d_5\">\n      <g>\n       <use style=\"stroke:#000000;stroke-width:0.8;\" x=\"39.052813\" xlink:href=\"#me24c7fd78d\" y=\"360.54\"/>\n      </g>\n     </g>\n     <g id=\"text_6\">\n      <!-- 1 -->\n      <g transform=\"translate(23.781563 365.478984)scale(0.13 -0.13)\">\n       <use xlink:href=\"#DejaVuSans-31\"/>\n      </g>\n     </g>\n    </g>\n    <g id=\"ytick_3\">\n     <g id=\"line2d_6\">\n      <g>\n       <use style=\"stroke:#000000;stroke-width:0.8;\" x=\"39.052813\" xlink:href=\"#me24c7fd78d\" y=\"553.98\"/>\n      </g>\n     </g>\n     <g id=\"text_7\">\n      <!-- 2 -->\n      <g transform=\"translate(23.781563 558.918984)scale(0.13 -0.13)\">\n       <use xlink:href=\"#DejaVuSans-32\"/>\n      </g>\n     </g>\n    </g>\n    <g id=\"text_8\">\n     <!-- True label -->\n     <g transform=\"translate(17.077969 392.128984)rotate(-90)scale(0.13 -0.13)\">\n      <defs>\n       <path d=\"M -19 4666 \nL 3928 4666 \nL 3928 4134 \nL 2272 4134 \nL 2272 0 \nL 1638 0 \nL 1638 4134 \nL -19 4134 \nL -19 4666 \nz\n\" id=\"DejaVuSans-54\" transform=\"scale(0.015625)\"/>\n       <path d=\"M 544 1381 \nL 544 3500 \nL 1119 3500 \nL 1119 1403 \nQ 1119 906 1312 657 \nQ 1506 409 1894 409 \nQ 2359 409 2629 706 \nQ 2900 1003 2900 1516 \nL 2900 3500 \nL 3475 3500 \nL 3475 0 \nL 2900 0 \nL 2900 538 \nQ 2691 219 2414 64 \nQ 2138 -91 1772 -91 \nQ 1169 -91 856 284 \nQ 544 659 544 1381 \nz\nM 1991 3584 \nL 1991 3584 \nz\n\" id=\"DejaVuSans-75\" transform=\"scale(0.015625)\"/>\n      </defs>\n      <use xlink:href=\"#DejaVuSans-54\"/>\n      <use x=\"46.333984\" xlink:href=\"#DejaVuSans-72\"/>\n      <use x=\"87.447266\" xlink:href=\"#DejaVuSans-75\"/>\n      <use x=\"150.826172\" xlink:href=\"#DejaVuSans-65\"/>\n      <use x=\"212.349609\" xlink:href=\"#DejaVuSans-20\"/>\n      <use x=\"244.136719\" xlink:href=\"#DejaVuSans-6c\"/>\n      <use x=\"271.919922\" xlink:href=\"#DejaVuSans-61\"/>\n      <use x=\"333.199219\" xlink:href=\"#DejaVuSans-62\"/>\n      <use x=\"396.675781\" xlink:href=\"#DejaVuSans-65\"/>\n      <use x=\"458.199219\" xlink:href=\"#DejaVuSans-6c\"/>\n     </g>\n    </g>\n   </g>\n   <g id=\"patch_3\">\n    <path d=\"M 39.052813 650.7 \nL 39.052813 70.38 \n\" style=\"fill:none;stroke:#000000;stroke-linecap:square;stroke-linejoin:miter;stroke-width:0.8;\"/>\n   </g>\n   <g id=\"patch_4\">\n    <path d=\"M 619.372813 650.7 \nL 619.372813 70.38 \n\" style=\"fill:none;stroke:#000000;stroke-linecap:square;stroke-linejoin:miter;stroke-width:0.8;\"/>\n   </g>\n   <g id=\"patch_5\">\n    <path d=\"M 39.052813 650.7 \nL 619.372812 650.7 \n\" style=\"fill:none;stroke:#000000;stroke-linecap:square;stroke-linejoin:miter;stroke-width:0.8;\"/>\n   </g>\n   <g id=\"patch_6\">\n    <path d=\"M 39.052813 70.38 \nL 619.372812 70.38 \n\" style=\"fill:none;stroke:#000000;stroke-linecap:square;stroke-linejoin:miter;stroke-width:0.8;\"/>\n   </g>\n   <g id=\"text_9\">\n    <!-- 1 -->\n    <g style=\"fill:#440154;\" transform=\"translate(131.637187 170.687187)scale(0.13 -0.13)\">\n     <use xlink:href=\"#DejaVuSans-31\"/>\n    </g>\n   </g>\n   <g id=\"text_10\">\n    <!-- 0.0038 -->\n    <g style=\"fill:#fde725;\" transform=\"translate(306.468906 170.687187)scale(0.13 -0.13)\">\n     <defs>\n      <path d=\"M 684 794 \nL 1344 794 \nL 1344 0 \nL 684 0 \nL 684 794 \nz\n\" id=\"DejaVuSans-2e\" transform=\"scale(0.015625)\"/>\n      <path d=\"M 2597 2516 \nQ 3050 2419 3304 2112 \nQ 3559 1806 3559 1356 \nQ 3559 666 3084 287 \nQ 2609 -91 1734 -91 \nQ 1441 -91 1130 -33 \nQ 819 25 488 141 \nL 488 750 \nQ 750 597 1062 519 \nQ 1375 441 1716 441 \nQ 2309 441 2620 675 \nQ 2931 909 2931 1356 \nQ 2931 1769 2642 2001 \nQ 2353 2234 1838 2234 \nL 1294 2234 \nL 1294 2753 \nL 1863 2753 \nQ 2328 2753 2575 2939 \nQ 2822 3125 2822 3475 \nQ 2822 3834 2567 4026 \nQ 2313 4219 1838 4219 \nQ 1578 4219 1281 4162 \nQ 984 4106 628 3988 \nL 628 4550 \nQ 988 4650 1302 4700 \nQ 1616 4750 1894 4750 \nQ 2613 4750 3031 4423 \nQ 3450 4097 3450 3541 \nQ 3450 3153 3228 2886 \nQ 3006 2619 2597 2516 \nz\n\" id=\"DejaVuSans-33\" transform=\"scale(0.015625)\"/>\n      <path d=\"M 2034 2216 \nQ 1584 2216 1326 1975 \nQ 1069 1734 1069 1313 \nQ 1069 891 1326 650 \nQ 1584 409 2034 409 \nQ 2484 409 2743 651 \nQ 3003 894 3003 1313 \nQ 3003 1734 2745 1975 \nQ 2488 2216 2034 2216 \nz\nM 1403 2484 \nQ 997 2584 770 2862 \nQ 544 3141 544 3541 \nQ 544 4100 942 4425 \nQ 1341 4750 2034 4750 \nQ 2731 4750 3128 4425 \nQ 3525 4100 3525 3541 \nQ 3525 3141 3298 2862 \nQ 3072 2584 2669 2484 \nQ 3125 2378 3379 2068 \nQ 3634 1759 3634 1313 \nQ 3634 634 3220 271 \nQ 2806 -91 2034 -91 \nQ 1263 -91 848 271 \nQ 434 634 434 1313 \nQ 434 1759 690 2068 \nQ 947 2378 1403 2484 \nz\nM 1172 3481 \nQ 1172 3119 1398 2916 \nQ 1625 2713 2034 2713 \nQ 2441 2713 2670 2916 \nQ 2900 3119 2900 3481 \nQ 2900 3844 2670 4047 \nQ 2441 4250 2034 4250 \nQ 1625 4250 1398 4047 \nQ 1172 3844 1172 3481 \nz\n\" id=\"DejaVuSans-38\" transform=\"scale(0.015625)\"/>\n     </defs>\n     <use xlink:href=\"#DejaVuSans-30\"/>\n     <use x=\"63.623047\" xlink:href=\"#DejaVuSans-2e\"/>\n     <use x=\"95.410156\" xlink:href=\"#DejaVuSans-30\"/>\n     <use x=\"159.033203\" xlink:href=\"#DejaVuSans-30\"/>\n     <use x=\"222.65625\" xlink:href=\"#DejaVuSans-33\"/>\n     <use x=\"286.279297\" xlink:href=\"#DejaVuSans-38\"/>\n    </g>\n   </g>\n   <g id=\"text_11\">\n    <!-- 0.00095 -->\n    <g style=\"fill:#fde725;\" transform=\"translate(495.773281 170.687187)scale(0.13 -0.13)\">\n     <defs>\n      <path d=\"M 703 97 \nL 703 672 \nQ 941 559 1184 500 \nQ 1428 441 1663 441 \nQ 2288 441 2617 861 \nQ 2947 1281 2994 2138 \nQ 2813 1869 2534 1725 \nQ 2256 1581 1919 1581 \nQ 1219 1581 811 2004 \nQ 403 2428 403 3163 \nQ 403 3881 828 4315 \nQ 1253 4750 1959 4750 \nQ 2769 4750 3195 4129 \nQ 3622 3509 3622 2328 \nQ 3622 1225 3098 567 \nQ 2575 -91 1691 -91 \nQ 1453 -91 1209 -44 \nQ 966 3 703 97 \nz\nM 1959 2075 \nQ 2384 2075 2632 2365 \nQ 2881 2656 2881 3163 \nQ 2881 3666 2632 3958 \nQ 2384 4250 1959 4250 \nQ 1534 4250 1286 3958 \nQ 1038 3666 1038 3163 \nQ 1038 2656 1286 2365 \nQ 1534 2075 1959 2075 \nz\n\" id=\"DejaVuSans-39\" transform=\"scale(0.015625)\"/>\n      <path d=\"M 691 4666 \nL 3169 4666 \nL 3169 4134 \nL 1269 4134 \nL 1269 2991 \nQ 1406 3038 1543 3061 \nQ 1681 3084 1819 3084 \nQ 2600 3084 3056 2656 \nQ 3513 2228 3513 1497 \nQ 3513 744 3044 326 \nQ 2575 -91 1722 -91 \nQ 1428 -91 1123 -41 \nQ 819 9 494 109 \nL 494 744 \nQ 775 591 1075 516 \nQ 1375 441 1709 441 \nQ 2250 441 2565 725 \nQ 2881 1009 2881 1497 \nQ 2881 1984 2565 2268 \nQ 2250 2553 1709 2553 \nQ 1456 2553 1204 2497 \nQ 953 2441 691 2322 \nL 691 4666 \nz\n\" id=\"DejaVuSans-35\" transform=\"scale(0.015625)\"/>\n     </defs>\n     <use xlink:href=\"#DejaVuSans-30\"/>\n     <use x=\"63.623047\" xlink:href=\"#DejaVuSans-2e\"/>\n     <use x=\"95.410156\" xlink:href=\"#DejaVuSans-30\"/>\n     <use x=\"159.033203\" xlink:href=\"#DejaVuSans-30\"/>\n     <use x=\"222.65625\" xlink:href=\"#DejaVuSans-30\"/>\n     <use x=\"286.279297\" xlink:href=\"#DejaVuSans-39\"/>\n     <use x=\"349.902344\" xlink:href=\"#DejaVuSans-35\"/>\n    </g>\n   </g>\n   <g id=\"text_12\">\n    <!-- 0.0013 -->\n    <g style=\"fill:#fde725;\" transform=\"translate(113.028906 364.127187)scale(0.13 -0.13)\">\n     <use xlink:href=\"#DejaVuSans-30\"/>\n     <use x=\"63.623047\" xlink:href=\"#DejaVuSans-2e\"/>\n     <use x=\"95.410156\" xlink:href=\"#DejaVuSans-30\"/>\n     <use x=\"159.033203\" xlink:href=\"#DejaVuSans-30\"/>\n     <use x=\"222.65625\" xlink:href=\"#DejaVuSans-31\"/>\n     <use x=\"286.279297\" xlink:href=\"#DejaVuSans-33\"/>\n    </g>\n   </g>\n   <g id=\"text_13\">\n    <!-- 1 -->\n    <g style=\"fill:#440154;\" transform=\"translate(325.077187 364.127187)scale(0.13 -0.13)\">\n     <use xlink:href=\"#DejaVuSans-31\"/>\n    </g>\n   </g>\n   <g id=\"text_14\">\n    <!-- 0 -->\n    <g style=\"fill:#fde725;\" transform=\"translate(518.517187 364.127187)scale(0.13 -0.13)\">\n     <use xlink:href=\"#DejaVuSans-30\"/>\n    </g>\n   </g>\n   <g id=\"text_15\">\n    <!-- 0.0027 -->\n    <g style=\"fill:#fde725;\" transform=\"translate(113.028906 557.567187)scale(0.13 -0.13)\">\n     <defs>\n      <path d=\"M 525 4666 \nL 3525 4666 \nL 3525 4397 \nL 1831 0 \nL 1172 0 \nL 2766 4134 \nL 525 4134 \nL 525 4666 \nz\n\" id=\"DejaVuSans-37\" transform=\"scale(0.015625)\"/>\n     </defs>\n     <use xlink:href=\"#DejaVuSans-30\"/>\n     <use x=\"63.623047\" xlink:href=\"#DejaVuSans-2e\"/>\n     <use x=\"95.410156\" xlink:href=\"#DejaVuSans-30\"/>\n     <use x=\"159.033203\" xlink:href=\"#DejaVuSans-30\"/>\n     <use x=\"222.65625\" xlink:href=\"#DejaVuSans-32\"/>\n     <use x=\"286.279297\" xlink:href=\"#DejaVuSans-37\"/>\n    </g>\n   </g>\n   <g id=\"text_16\">\n    <!-- 0.0027 -->\n    <g style=\"fill:#fde725;\" transform=\"translate(306.468906 557.567187)scale(0.13 -0.13)\">\n     <use xlink:href=\"#DejaVuSans-30\"/>\n     <use x=\"63.623047\" xlink:href=\"#DejaVuSans-2e\"/>\n     <use x=\"95.410156\" xlink:href=\"#DejaVuSans-30\"/>\n     <use x=\"159.033203\" xlink:href=\"#DejaVuSans-30\"/>\n     <use x=\"222.65625\" xlink:href=\"#DejaVuSans-32\"/>\n     <use x=\"286.279297\" xlink:href=\"#DejaVuSans-37\"/>\n    </g>\n   </g>\n   <g id=\"text_17\">\n    <!-- 0.99 -->\n    <g style=\"fill:#440154;\" transform=\"translate(508.180156 557.567187)scale(0.13 -0.13)\">\n     <use xlink:href=\"#DejaVuSans-30\"/>\n     <use x=\"63.623047\" xlink:href=\"#DejaVuSans-2e\"/>\n     <use x=\"95.410156\" xlink:href=\"#DejaVuSans-39\"/>\n     <use x=\"159.033203\" xlink:href=\"#DejaVuSans-39\"/>\n    </g>\n   </g>\n   <g id=\"text_18\">\n    <!-- Confusion Matrix -->\n    <g transform=\"translate(263.378375 64.38)scale(0.156 -0.156)\">\n     <defs>\n      <path d=\"M 4122 4306 \nL 4122 3641 \nQ 3803 3938 3442 4084 \nQ 3081 4231 2675 4231 \nQ 1875 4231 1450 3742 \nQ 1025 3253 1025 2328 \nQ 1025 1406 1450 917 \nQ 1875 428 2675 428 \nQ 3081 428 3442 575 \nQ 3803 722 4122 1019 \nL 4122 359 \nQ 3791 134 3420 21 \nQ 3050 -91 2638 -91 \nQ 1578 -91 968 557 \nQ 359 1206 359 2328 \nQ 359 3453 968 4101 \nQ 1578 4750 2638 4750 \nQ 3056 4750 3426 4639 \nQ 3797 4528 4122 4306 \nz\n\" id=\"DejaVuSans-43\" transform=\"scale(0.015625)\"/>\n      <path d=\"M 1959 3097 \nQ 1497 3097 1228 2736 \nQ 959 2375 959 1747 \nQ 959 1119 1226 758 \nQ 1494 397 1959 397 \nQ 2419 397 2687 759 \nQ 2956 1122 2956 1747 \nQ 2956 2369 2687 2733 \nQ 2419 3097 1959 3097 \nz\nM 1959 3584 \nQ 2709 3584 3137 3096 \nQ 3566 2609 3566 1747 \nQ 3566 888 3137 398 \nQ 2709 -91 1959 -91 \nQ 1206 -91 779 398 \nQ 353 888 353 1747 \nQ 353 2609 779 3096 \nQ 1206 3584 1959 3584 \nz\n\" id=\"DejaVuSans-6f\" transform=\"scale(0.015625)\"/>\n      <path d=\"M 3513 2113 \nL 3513 0 \nL 2938 0 \nL 2938 2094 \nQ 2938 2591 2744 2837 \nQ 2550 3084 2163 3084 \nQ 1697 3084 1428 2787 \nQ 1159 2491 1159 1978 \nL 1159 0 \nL 581 0 \nL 581 3500 \nL 1159 3500 \nL 1159 2956 \nQ 1366 3272 1645 3428 \nQ 1925 3584 2291 3584 \nQ 2894 3584 3203 3211 \nQ 3513 2838 3513 2113 \nz\n\" id=\"DejaVuSans-6e\" transform=\"scale(0.015625)\"/>\n      <path d=\"M 2375 4863 \nL 2375 4384 \nL 1825 4384 \nQ 1516 4384 1395 4259 \nQ 1275 4134 1275 3809 \nL 1275 3500 \nL 2222 3500 \nL 2222 3053 \nL 1275 3053 \nL 1275 0 \nL 697 0 \nL 697 3053 \nL 147 3053 \nL 147 3500 \nL 697 3500 \nL 697 3744 \nQ 697 4328 969 4595 \nQ 1241 4863 1831 4863 \nL 2375 4863 \nz\n\" id=\"DejaVuSans-66\" transform=\"scale(0.015625)\"/>\n      <path d=\"M 2834 3397 \nL 2834 2853 \nQ 2591 2978 2328 3040 \nQ 2066 3103 1784 3103 \nQ 1356 3103 1142 2972 \nQ 928 2841 928 2578 \nQ 928 2378 1081 2264 \nQ 1234 2150 1697 2047 \nL 1894 2003 \nQ 2506 1872 2764 1633 \nQ 3022 1394 3022 966 \nQ 3022 478 2636 193 \nQ 2250 -91 1575 -91 \nQ 1294 -91 989 -36 \nQ 684 19 347 128 \nL 347 722 \nQ 666 556 975 473 \nQ 1284 391 1588 391 \nQ 1994 391 2212 530 \nQ 2431 669 2431 922 \nQ 2431 1156 2273 1281 \nQ 2116 1406 1581 1522 \nL 1381 1569 \nQ 847 1681 609 1914 \nQ 372 2147 372 2553 \nQ 372 3047 722 3315 \nQ 1072 3584 1716 3584 \nQ 2034 3584 2315 3537 \nQ 2597 3491 2834 3397 \nz\n\" id=\"DejaVuSans-73\" transform=\"scale(0.015625)\"/>\n      <path d=\"M 628 4666 \nL 1569 4666 \nL 2759 1491 \nL 3956 4666 \nL 4897 4666 \nL 4897 0 \nL 4281 0 \nL 4281 4097 \nL 3078 897 \nL 2444 897 \nL 1241 4097 \nL 1241 0 \nL 628 0 \nL 628 4666 \nz\n\" id=\"DejaVuSans-4d\" transform=\"scale(0.015625)\"/>\n      <path d=\"M 3513 3500 \nL 2247 1797 \nL 3578 0 \nL 2900 0 \nL 1881 1375 \nL 863 0 \nL 184 0 \nL 1544 1831 \nL 300 3500 \nL 978 3500 \nL 1906 2253 \nL 2834 3500 \nL 3513 3500 \nz\n\" id=\"DejaVuSans-78\" transform=\"scale(0.015625)\"/>\n     </defs>\n     <use xlink:href=\"#DejaVuSans-43\"/>\n     <use x=\"69.824219\" xlink:href=\"#DejaVuSans-6f\"/>\n     <use x=\"131.005859\" xlink:href=\"#DejaVuSans-6e\"/>\n     <use x=\"194.384766\" xlink:href=\"#DejaVuSans-66\"/>\n     <use x=\"229.589844\" xlink:href=\"#DejaVuSans-75\"/>\n     <use x=\"292.96875\" xlink:href=\"#DejaVuSans-73\"/>\n     <use x=\"345.068359\" xlink:href=\"#DejaVuSans-69\"/>\n     <use x=\"372.851562\" xlink:href=\"#DejaVuSans-6f\"/>\n     <use x=\"434.033203\" xlink:href=\"#DejaVuSans-6e\"/>\n     <use x=\"497.412109\" xlink:href=\"#DejaVuSans-20\"/>\n     <use x=\"529.199219\" xlink:href=\"#DejaVuSans-4d\"/>\n     <use x=\"615.478516\" xlink:href=\"#DejaVuSans-61\"/>\n     <use x=\"676.757812\" xlink:href=\"#DejaVuSans-74\"/>\n     <use x=\"715.966797\" xlink:href=\"#DejaVuSans-72\"/>\n     <use x=\"757.080078\" xlink:href=\"#DejaVuSans-69\"/>\n     <use x=\"784.863281\" xlink:href=\"#DejaVuSans-78\"/>\n    </g>\n   </g>\n  </g>\n  <g id=\"axes_2\">\n   <g id=\"patch_7\">\n    <path d=\"M 655.642813 713.88 \nL 690.976813 713.88 \nL 690.976813 7.2 \nL 655.642813 7.2 \nz\n\" style=\"fill:#ffffff;\"/>\n   </g>\n   <g id=\"patch_8\">\n    <path clip-path=\"url(#p05c9a1fd26)\" d=\"M 655.642813 713.88 \nL 655.642813 711.119531 \nL 655.642813 9.960469 \nL 655.642813 7.2 \nL 690.976813 7.2 \nL 690.976813 9.960469 \nL 690.976813 711.119531 \nL 690.976813 713.88 \nL 690.976813 713.88 \nz\n\" style=\"fill:#ffffff;stroke:#ffffff;stroke-linejoin:miter;stroke-width:0.01;\"/>\n   </g>\n   <image height=\"707\" id=\"image9c6ad69a02\" transform=\"scale(1 -1)translate(0 -707)\" width=\"35\" x=\"656\" xlink:href=\"data:image/png;base64,\niVBORw0KGgoAAAANSUhEUgAAACMAAALDCAYAAACfArnyAAAEk0lEQVR4nO2dsXFDMQzFJH2OlhGy/yj56XIphNoogAlwFPko2b5kf+3vd0k4nxb4j0pm1vb4eEzWWrPP/rTDH6rKqGRqYEIl0zQRKpmmiZhVA99RyczaHdMVlczs4/HxmCyZTNNEzKqB76hkamBCJdPlilDJzO51cKcGJlQyrQNCJdMxESqZ7sCESqZpIqoMoZLpmAiVTHdgQiXTNBF9+UWoZMoZQiVTzhAqmY6JqDKESqZ1QKhkmiZCJTNvx3RnTDoiFZlMOUOoZDomQiXTMREtSkIl09YmVDLlDKGS6ZgIlUy7iWgdECqZcoZQyZQzhEpmlueUdJXxlEZVGZXMvCIdkYpMpmkiVDLzek5JVpkaGFDJdJ8hVDK9DgiVTB+JEDUwoZJpHRAqma6dhEqmOzBRAxMqmdYBoZLpZ9uESqbQI8oZQiVTAxMqma6dhEqmaSJUMu0mogYmVDKtA0Il0zQRKpnWAdEviwiVTA1MqGRaB4RKpssVUQMTKpnWAaGSaZoIlUzTRNTAhEqmBiZUMk0ToZJpmoh+D0yoZGpgQiXTOiBUMk0TUWUIlUw5Q6hkmiZCJdM0ESqZpomogQmVTA1MqGQ6JkIlU+gRNTChkpn30wb/UFVGJdM0ESqZjoloURIqmRqYUMk0TYRKpmkiqgyhkilnCJVM00SoZDomopwhVDI1MKGSaZoIlUzTRFQZQiVTzhAqmaaJSIZIhij0iHKGUMl0TIRKppwhVDJNE1EDEyqZGphQyczanl/qqSqjkin0iHKGUMl0TIRKppwhVDJNE1FlCJVM105CJdM6IJIhVDKtA0IlU84QKpm2NqGSKfQIlUzHRFQZQiXTOiBUMk0ToZLpDkyUM4RKppwhVDIj+pvorsqoZAo9opwhVDIdE6GSmbXKmSsqmaaJmN2ivKOSqYEJlUzTRKhkmiai5y2hkul5S6hkWgeESqbQI2pgQiXTfYZQyTRNhEpmRMPkqoxKpmkiqgyhkunaSahk5jRNd1QyhR5RZQiVTOuAUMm0DgiVTKFHzOknK3dUMq0DQiXTOiBUMq0DogYmVDI1MKGSaZoIlUx3YKKcIVQy5QyhkumYCJVMx0RUGUIl032GUMk0TYRKpmMiVDIdE1FlCJVMW5tQyTRNhEpmzv75tMMftsrUwFdUMq0DQiXTNBEqmdYBMU8NfEcl0zogVDLlDKGSaWsT85Qzd1Qy5QyhkilnCJVMd2BizipnrqhkyhlCJTNP03RHJdM0EfN07byjkunDIkIl0zQRKpne2oRKpk+uiBqYUMnUwIRKpmkiVDK9tYmet4RKpgYmVDI94giVTB+JEDUwoZLpmzhCJdNXyYRKpssV0fOWUMnUwIRKpnVAqGS6XBG9DgiVTOuAUMn0KQShkin0CJVMX5gS3WcIlUw5Q6hkyhlCJdP32kSvA0IlU84QKplyhlDJNE1ElSFUMnP6n193VDJNE6GSGZONyWXNU87cUcnMszznpKqMSqacIVQy84j+o6qrMqecuaOSaR0QKpmmiVDJtA6IOSIfj8mSyZQzhEpmnu3x8ZgsmUyhR6hkfgH2NJCI9sNwrgAAAABJRU5ErkJggg==\" y=\"-6\"/>\n   <g id=\"matplotlib.axis_3\"/>\n   <g id=\"matplotlib.axis_4\">\n    <g id=\"ytick_4\">\n     <g id=\"line2d_7\">\n      <defs>\n       <path d=\"M 0 0 \nL 3.5 0 \n\" id=\"m9d76c9c5b1\" style=\"stroke:#000000;stroke-width:0.8;\"/>\n      </defs>\n      <g>\n       <use style=\"stroke:#000000;stroke-width:0.8;\" x=\"690.976813\" xlink:href=\"#m9d76c9c5b1\" y=\"713.88\"/>\n      </g>\n     </g>\n     <g id=\"text_19\">\n      <!-- 0.0 -->\n      <g transform=\"translate(697.976813 718.818984)scale(0.13 -0.13)\">\n       <use xlink:href=\"#DejaVuSans-30\"/>\n       <use x=\"63.623047\" xlink:href=\"#DejaVuSans-2e\"/>\n       <use x=\"95.410156\" xlink:href=\"#DejaVuSans-30\"/>\n      </g>\n     </g>\n    </g>\n    <g id=\"ytick_5\">\n     <g id=\"line2d_8\">\n      <g>\n       <use style=\"stroke:#000000;stroke-width:0.8;\" x=\"690.976813\" xlink:href=\"#m9d76c9c5b1\" y=\"572.35416\"/>\n      </g>\n     </g>\n     <g id=\"text_20\">\n      <!-- 0.2 -->\n      <g transform=\"translate(697.976813 577.293144)scale(0.13 -0.13)\">\n       <use xlink:href=\"#DejaVuSans-30\"/>\n       <use x=\"63.623047\" xlink:href=\"#DejaVuSans-2e\"/>\n       <use x=\"95.410156\" xlink:href=\"#DejaVuSans-32\"/>\n      </g>\n     </g>\n    </g>\n    <g id=\"ytick_6\">\n     <g id=\"line2d_9\">\n      <g>\n       <use style=\"stroke:#000000;stroke-width:0.8;\" x=\"690.976813\" xlink:href=\"#m9d76c9c5b1\" y=\"430.82832\"/>\n      </g>\n     </g>\n     <g id=\"text_21\">\n      <!-- 0.4 -->\n      <g transform=\"translate(697.976813 435.767304)scale(0.13 -0.13)\">\n       <defs>\n        <path d=\"M 2419 4116 \nL 825 1625 \nL 2419 1625 \nL 2419 4116 \nz\nM 2253 4666 \nL 3047 4666 \nL 3047 1625 \nL 3713 1625 \nL 3713 1100 \nL 3047 1100 \nL 3047 0 \nL 2419 0 \nL 2419 1100 \nL 313 1100 \nL 313 1709 \nL 2253 4666 \nz\n\" id=\"DejaVuSans-34\" transform=\"scale(0.015625)\"/>\n       </defs>\n       <use xlink:href=\"#DejaVuSans-30\"/>\n       <use x=\"63.623047\" xlink:href=\"#DejaVuSans-2e\"/>\n       <use x=\"95.410156\" xlink:href=\"#DejaVuSans-34\"/>\n      </g>\n     </g>\n    </g>\n    <g id=\"ytick_7\">\n     <g id=\"line2d_10\">\n      <g>\n       <use style=\"stroke:#000000;stroke-width:0.8;\" x=\"690.976813\" xlink:href=\"#m9d76c9c5b1\" y=\"289.30248\"/>\n      </g>\n     </g>\n     <g id=\"text_22\">\n      <!-- 0.6 -->\n      <g transform=\"translate(697.976813 294.241464)scale(0.13 -0.13)\">\n       <defs>\n        <path d=\"M 2113 2584 \nQ 1688 2584 1439 2293 \nQ 1191 2003 1191 1497 \nQ 1191 994 1439 701 \nQ 1688 409 2113 409 \nQ 2538 409 2786 701 \nQ 3034 994 3034 1497 \nQ 3034 2003 2786 2293 \nQ 2538 2584 2113 2584 \nz\nM 3366 4563 \nL 3366 3988 \nQ 3128 4100 2886 4159 \nQ 2644 4219 2406 4219 \nQ 1781 4219 1451 3797 \nQ 1122 3375 1075 2522 \nQ 1259 2794 1537 2939 \nQ 1816 3084 2150 3084 \nQ 2853 3084 3261 2657 \nQ 3669 2231 3669 1497 \nQ 3669 778 3244 343 \nQ 2819 -91 2113 -91 \nQ 1303 -91 875 529 \nQ 447 1150 447 2328 \nQ 447 3434 972 4092 \nQ 1497 4750 2381 4750 \nQ 2619 4750 2861 4703 \nQ 3103 4656 3366 4563 \nz\n\" id=\"DejaVuSans-36\" transform=\"scale(0.015625)\"/>\n       </defs>\n       <use xlink:href=\"#DejaVuSans-30\"/>\n       <use x=\"63.623047\" xlink:href=\"#DejaVuSans-2e\"/>\n       <use x=\"95.410156\" xlink:href=\"#DejaVuSans-36\"/>\n      </g>\n     </g>\n    </g>\n    <g id=\"ytick_8\">\n     <g id=\"line2d_11\">\n      <g>\n       <use style=\"stroke:#000000;stroke-width:0.8;\" x=\"690.976813\" xlink:href=\"#m9d76c9c5b1\" y=\"147.776639\"/>\n      </g>\n     </g>\n     <g id=\"text_23\">\n      <!-- 0.8 -->\n      <g transform=\"translate(697.976813 152.715624)scale(0.13 -0.13)\">\n       <use xlink:href=\"#DejaVuSans-30\"/>\n       <use x=\"63.623047\" xlink:href=\"#DejaVuSans-2e\"/>\n       <use x=\"95.410156\" xlink:href=\"#DejaVuSans-38\"/>\n      </g>\n     </g>\n    </g>\n   </g>\n   <g id=\"LineCollection_1\"/>\n   <g id=\"patch_9\">\n    <path d=\"M 655.642813 713.88 \nL 655.642813 711.119531 \nL 655.642813 9.960469 \nL 655.642813 7.2 \nL 690.976813 7.2 \nL 690.976813 9.960469 \nL 690.976813 711.119531 \nL 690.976813 713.88 \nz\n\" style=\"fill:none;stroke:#000000;stroke-linecap:square;stroke-linejoin:miter;stroke-width:0.8;\"/>\n   </g>\n  </g>\n </g>\n <defs>\n  <clipPath id=\"pcad029bb43\">\n   <rect height=\"580.32\" width=\"580.32\" x=\"39.052813\" y=\"70.38\"/>\n  </clipPath>\n  <clipPath id=\"p05c9a1fd26\">\n   <rect height=\"706.68\" width=\"35.334\" x=\"655.642813\" y=\"7.2\"/>\n  </clipPath>\n </defs>\n</svg>\n",
      "image/png": "[encoded data removed]"
     },
     "metadata": {
      "needs_background": "light"
     }
    }
   ],
   "source": [
    "# Show the confusion matrix\n",
    "fig, ax = plt.subplots(figsize=(13, 13))\n",
    "disp = plot_confusion_matrix(clf, X_test, y_test,\n",
    "                             cmap=cmap.get_cmap('viridis'),\n",
    "                             normalize='true',\n",
    "                             ax=ax)\n",
    "disp.ax_.set_title('Confusion Matrix')\n",
    "plt.xticks(rotation=45)\n",
    "matplotlib.rcParams.update({'font.size': 13})\n",
    "\n",
    "plt.show()"
   ]
  },
  {
   "cell_type": "code",
   "execution_count": 129,
   "id": "another-hurricane",
   "metadata": {},
   "outputs": [
    {
     "output_type": "stream",
     "name": "stdout",
     "text": [
      "The average precision is: 0.9962 and recall is: 0.9962\n"
     ]
    }
   ],
   "source": [
    "cm = disp.confusion_matrix\n",
    "prec_sum = 0\n",
    "recall_sum = 0\n",
    "\n",
    "for i, label in enumerate(['neutral','positive','negative']):\n",
    "    col_sum = 0\n",
    "    row_sum = 0\n",
    "    for j, _ in enumerate(['neutral','positive','negative']):\n",
    "        col_sum += cm[i][j]\n",
    "        row_sum += cm[j][i]\n",
    "        if i == j:\n",
    "            true_val = cm[i][j]\n",
    "    if col_sum == 0:\n",
    "        col_sum = 1\n",
    "    if row_sum == 0:\n",
    "        row_sum = 1\n",
    "    prec_sum += true_val / col_sum\n",
    "    recall_sum += true_val / row_sum\n",
    "    \n",
    "precision = prec_sum / len(['neutral','positive','negative'])\n",
    "recall = recall_sum / len(['neutral','positive','negative'])\n",
    "\n",
    "print(f'The average precision is: {round(precision, 4)} and recall is: {round(recall, 4)}')"
   ]
  },
  {
   "cell_type": "markdown",
   "id": "brazilian-conclusion",
   "metadata": {},
   "source": [
    "# Regress to Emotion Level"
   ]
  },
  {
   "cell_type": "markdown",
   "id": "natural-homework",
   "metadata": {},
   "source": [
    "## Separate Data for Features/Labels"
   ]
  },
  {
   "cell_type": "code",
   "execution_count": 130,
   "id": "hydraulic-collaboration",
   "metadata": {},
   "outputs": [],
   "source": [
    "features = ['enc_pred_emotion','emotion_confidence','rpm','distance','norm_slow','norm_fast','norm_start','norm_stop']\n",
    "\n",
    "X = data_df[features].astype(float)\n",
    "y = data_df['x_joystick']"
   ]
  },
  {
   "cell_type": "markdown",
   "id": "informational-duration",
   "metadata": {},
   "source": [
    "## Build the Regressor"
   ]
  },
  {
   "cell_type": "code",
   "execution_count": 131,
   "id": "cultural-bundle",
   "metadata": {},
   "outputs": [
    {
     "output_type": "stream",
     "name": "stdout",
     "text": [
      "0.8885951556639178\n"
     ]
    }
   ],
   "source": [
    "X_train, X_test, y_train, y_test = train_test_split(X, y, test_size=0.3)\n",
    "\n",
    "regr = RandomForestRegressor(max_depth=8)\n",
    "regr.fit(X_train, y_train)\n",
    "print(regr.score(X_test, y_test))\n",
    "\n",
    "y_hat = regr.predict(X)"
   ]
  },
  {
   "cell_type": "markdown",
   "id": "metallic-choir",
   "metadata": {},
   "source": [
    "## Show Feature Importance"
   ]
  },
  {
   "cell_type": "code",
   "execution_count": 132,
   "id": "particular-printer",
   "metadata": {},
   "outputs": [
    {
     "output_type": "display_data",
     "data": {
      "application/vnd.plotly.v1+json": {
       "config": {
        "plotlyServerURL": "https://plot.ly"
       },
       "data": [
        {
         "alignmentgroup": "True",
         "hovertemplate": "Features=%{x}<br>Importances=%{y}<extra></extra>",
         "legendgroup": "",
         "marker": {
          "color": "#F8766D"
         },
         "name": "",
         "offsetgroup": "",
         "orientation": "v",
         "showlegend": false,
         "textposition": "auto",
         "type": "bar",
         "x": [
          "rpm",
          "distance",
          "norm_start",
          "norm_stop",
          "norm_slow",
          "norm_fast",
          "emotion_confidence",
          "enc_pred_emotion"
         ],
         "xaxis": "x",
         "y": [
          0.1962808456104399,
          0.16447924084690393,
          0.1585780374061545,
          0.1491811019219844,
          0.09933894031968524,
          0.08937504936183523,
          0.07630514219813474,
          0.0664616423348622
         ],
         "yaxis": "y"
        }
       ],
       "layout": {
        "barmode": "relative",
        "legend": {
         "tracegroupgap": 0
        },
        "template": {
         "data": {
          "bar": [
           {
            "error_x": {
             "color": "rgb(51,51,51)"
            },
            "error_y": {
             "color": "rgb(51,51,51)"
            },
            "marker": {
             "line": {
              "color": "rgb(237,237,237)",
              "width": 0.5
             }
            },
            "type": "bar"
           }
          ],
          "barpolar": [
           {
            "marker": {
             "line": {
              "color": "rgb(237,237,237)",
              "width": 0.5
             }
            },
            "type": "barpolar"
           }
          ],
          "carpet": [
           {
            "aaxis": {
             "endlinecolor": "rgb(51,51,51)",
             "gridcolor": "white",
             "linecolor": "white",
             "minorgridcolor": "white",
             "startlinecolor": "rgb(51,51,51)"
            },
            "baxis": {
             "endlinecolor": "rgb(51,51,51)",
             "gridcolor": "white",
             "linecolor": "white",
             "minorgridcolor": "white",
             "startlinecolor": "rgb(51,51,51)"
            },
            "type": "carpet"
           }
          ],
          "choropleth": [
           {
            "colorbar": {
             "outlinewidth": 0,
             "tickcolor": "rgb(237,237,237)",
             "ticklen": 6,
             "ticks": "inside"
            },
            "type": "choropleth"
           }
          ],
          "contour": [
           {
            "colorbar": {
             "outlinewidth": 0,
             "tickcolor": "rgb(237,237,237)",
             "ticklen": 6,
             "ticks": "inside"
            },
            "colorscale": [
             [
              0,
              "rgb(20,44,66)"
             ],
             [
              1,
              "rgb(90,179,244)"
             ]
            ],
            "type": "contour"
           }
          ],
          "contourcarpet": [
           {
            "colorbar": {
             "outlinewidth": 0,
             "tickcolor": "rgb(237,237,237)",
             "ticklen": 6,
             "ticks": "inside"
            },
            "type": "contourcarpet"
           }
          ],
          "heatmap": [
           {
            "colorbar": {
             "outlinewidth": 0,
             "tickcolor": "rgb(237,237,237)",
             "ticklen": 6,
             "ticks": "inside"
            },
            "colorscale": [
             [
              0,
              "rgb(20,44,66)"
             ],
             [
              1,
              "rgb(90,179,244)"
             ]
            ],
            "type": "heatmap"
           }
          ],
          "heatmapgl": [
           {
            "colorbar": {
             "outlinewidth": 0,
             "tickcolor": "rgb(237,237,237)",
             "ticklen": 6,
             "ticks": "inside"
            },
            "colorscale": [
             [
              0,
              "rgb(20,44,66)"
             ],
             [
              1,
              "rgb(90,179,244)"
             ]
            ],
            "type": "heatmapgl"
           }
          ],
          "histogram": [
           {
            "marker": {
             "colorbar": {
              "outlinewidth": 0,
              "tickcolor": "rgb(237,237,237)",
              "ticklen": 6,
              "ticks": "inside"
             }
            },
            "type": "histogram"
           }
          ],
          "histogram2d": [
           {
            "colorbar": {
             "outlinewidth": 0,
             "tickcolor": "rgb(237,237,237)",
             "ticklen": 6,
             "ticks": "inside"
            },
            "colorscale": [
             [
              0,
              "rgb(20,44,66)"
             ],
             [
              1,
              "rgb(90,179,244)"
             ]
            ],
            "type": "histogram2d"
           }
          ],
          "histogram2dcontour": [
           {
            "colorbar": {
             "outlinewidth": 0,
             "tickcolor": "rgb(237,237,237)",
             "ticklen": 6,
             "ticks": "inside"
            },
            "colorscale": [
             [
              0,
              "rgb(20,44,66)"
             ],
             [
              1,
              "rgb(90,179,244)"
             ]
            ],
            "type": "histogram2dcontour"
           }
          ],
          "mesh3d": [
           {
            "colorbar": {
             "outlinewidth": 0,
             "tickcolor": "rgb(237,237,237)",
             "ticklen": 6,
             "ticks": "inside"
            },
            "type": "mesh3d"
           }
          ],
          "parcoords": [
           {
            "line": {
             "colorbar": {
              "outlinewidth": 0,
              "tickcolor": "rgb(237,237,237)",
              "ticklen": 6,
              "ticks": "inside"
             }
            },
            "type": "parcoords"
           }
          ],
          "pie": [
           {
            "automargin": true,
            "type": "pie"
           }
          ],
          "scatter": [
           {
            "marker": {
             "colorbar": {
              "outlinewidth": 0,
              "tickcolor": "rgb(237,237,237)",
              "ticklen": 6,
              "ticks": "inside"
             }
            },
            "type": "scatter"
           }
          ],
          "scatter3d": [
           {
            "line": {
             "colorbar": {
              "outlinewidth": 0,
              "tickcolor": "rgb(237,237,237)",
              "ticklen": 6,
              "ticks": "inside"
             }
            },
            "marker": {
             "colorbar": {
              "outlinewidth": 0,
              "tickcolor": "rgb(237,237,237)",
              "ticklen": 6,
              "ticks": "inside"
             }
            },
            "type": "scatter3d"
           }
          ],
          "scattercarpet": [
           {
            "marker": {
             "colorbar": {
              "outlinewidth": 0,
              "tickcolor": "rgb(237,237,237)",
              "ticklen": 6,
              "ticks": "inside"
             }
            },
            "type": "scattercarpet"
           }
          ],
          "scattergeo": [
           {
            "marker": {
             "colorbar": {
              "outlinewidth": 0,
              "tickcolor": "rgb(237,237,237)",
              "ticklen": 6,
              "ticks": "inside"
             }
            },
            "type": "scattergeo"
           }
          ],
          "scattergl": [
           {
            "marker": {
             "colorbar": {
              "outlinewidth": 0,
              "tickcolor": "rgb(237,237,237)",
              "ticklen": 6,
              "ticks": "inside"
             }
            },
            "type": "scattergl"
           }
          ],
          "scattermapbox": [
           {
            "marker": {
             "colorbar": {
              "outlinewidth": 0,
              "tickcolor": "rgb(237,237,237)",
              "ticklen": 6,
              "ticks": "inside"
             }
            },
            "type": "scattermapbox"
           }
          ],
          "scatterpolar": [
           {
            "marker": {
             "colorbar": {
              "outlinewidth": 0,
              "tickcolor": "rgb(237,237,237)",
              "ticklen": 6,
              "ticks": "inside"
             }
            },
            "type": "scatterpolar"
           }
          ],
          "scatterpolargl": [
           {
            "marker": {
             "colorbar": {
              "outlinewidth": 0,
              "tickcolor": "rgb(237,237,237)",
              "ticklen": 6,
              "ticks": "inside"
             }
            },
            "type": "scatterpolargl"
           }
          ],
          "scatterternary": [
           {
            "marker": {
             "colorbar": {
              "outlinewidth": 0,
              "tickcolor": "rgb(237,237,237)",
              "ticklen": 6,
              "ticks": "inside"
             }
            },
            "type": "scatterternary"
           }
          ],
          "surface": [
           {
            "colorbar": {
             "outlinewidth": 0,
             "tickcolor": "rgb(237,237,237)",
             "ticklen": 6,
             "ticks": "inside"
            },
            "colorscale": [
             [
              0,
              "rgb(20,44,66)"
             ],
             [
              1,
              "rgb(90,179,244)"
             ]
            ],
            "type": "surface"
           }
          ],
          "table": [
           {
            "cells": {
             "fill": {
              "color": "rgb(237,237,237)"
             },
             "line": {
              "color": "white"
             }
            },
            "header": {
             "fill": {
              "color": "rgb(217,217,217)"
             },
             "line": {
              "color": "white"
             }
            },
            "type": "table"
           }
          ]
         },
         "layout": {
          "annotationdefaults": {
           "arrowhead": 0,
           "arrowwidth": 1
          },
          "autotypenumbers": "strict",
          "coloraxis": {
           "colorbar": {
            "outlinewidth": 0,
            "tickcolor": "rgb(237,237,237)",
            "ticklen": 6,
            "ticks": "inside"
           }
          },
          "colorscale": {
           "sequential": [
            [
             0,
             "rgb(20,44,66)"
            ],
            [
             1,
             "rgb(90,179,244)"
            ]
           ],
           "sequentialminus": [
            [
             0,
             "rgb(20,44,66)"
            ],
            [
             1,
             "rgb(90,179,244)"
            ]
           ]
          },
          "colorway": [
           "#F8766D",
           "#A3A500",
           "#00BF7D",
           "#00B0F6",
           "#E76BF3"
          ],
          "font": {
           "color": "rgb(51,51,51)"
          },
          "geo": {
           "bgcolor": "white",
           "lakecolor": "white",
           "landcolor": "rgb(237,237,237)",
           "showlakes": true,
           "showland": true,
           "subunitcolor": "white"
          },
          "hoverlabel": {
           "align": "left"
          },
          "hovermode": "closest",
          "paper_bgcolor": "white",
          "plot_bgcolor": "rgb(237,237,237)",
          "polar": {
           "angularaxis": {
            "gridcolor": "white",
            "linecolor": "white",
            "showgrid": true,
            "tickcolor": "rgb(51,51,51)",
            "ticks": "outside"
           },
           "bgcolor": "rgb(237,237,237)",
           "radialaxis": {
            "gridcolor": "white",
            "linecolor": "white",
            "showgrid": true,
            "tickcolor": "rgb(51,51,51)",
            "ticks": "outside"
           }
          },
          "scene": {
           "xaxis": {
            "backgroundcolor": "rgb(237,237,237)",
            "gridcolor": "white",
            "gridwidth": 2,
            "linecolor": "white",
            "showbackground": true,
            "showgrid": true,
            "tickcolor": "rgb(51,51,51)",
            "ticks": "outside",
            "zerolinecolor": "white"
           },
           "yaxis": {
            "backgroundcolor": "rgb(237,237,237)",
            "gridcolor": "white",
            "gridwidth": 2,
            "linecolor": "white",
            "showbackground": true,
            "showgrid": true,
            "tickcolor": "rgb(51,51,51)",
            "ticks": "outside",
            "zerolinecolor": "white"
           },
           "zaxis": {
            "backgroundcolor": "rgb(237,237,237)",
            "gridcolor": "white",
            "gridwidth": 2,
            "linecolor": "white",
            "showbackground": true,
            "showgrid": true,
            "tickcolor": "rgb(51,51,51)",
            "ticks": "outside",
            "zerolinecolor": "white"
           }
          },
          "shapedefaults": {
           "fillcolor": "black",
           "line": {
            "width": 0
           },
           "opacity": 0.3
          },
          "ternary": {
           "aaxis": {
            "gridcolor": "white",
            "linecolor": "white",
            "showgrid": true,
            "tickcolor": "rgb(51,51,51)",
            "ticks": "outside"
           },
           "baxis": {
            "gridcolor": "white",
            "linecolor": "white",
            "showgrid": true,
            "tickcolor": "rgb(51,51,51)",
            "ticks": "outside"
           },
           "bgcolor": "rgb(237,237,237)",
           "caxis": {
            "gridcolor": "white",
            "linecolor": "white",
            "showgrid": true,
            "tickcolor": "rgb(51,51,51)",
            "ticks": "outside"
           }
          },
          "xaxis": {
           "automargin": true,
           "gridcolor": "white",
           "linecolor": "white",
           "showgrid": true,
           "tickcolor": "rgb(51,51,51)",
           "ticks": "outside",
           "title": {
            "standoff": 15
           },
           "zerolinecolor": "white"
          },
          "yaxis": {
           "automargin": true,
           "gridcolor": "white",
           "linecolor": "white",
           "showgrid": true,
           "tickcolor": "rgb(51,51,51)",
           "ticks": "outside",
           "title": {
            "standoff": 15
           },
           "zerolinecolor": "white"
          }
         }
        },
        "title": {
         "text": "Feature Importance"
        },
        "xaxis": {
         "anchor": "y",
         "domain": [
          0,
          1
         ],
         "title": {
          "text": "Features"
         }
        },
        "yaxis": {
         "anchor": "x",
         "domain": [
          0,
          1
         ],
         "title": {
          "text": "Importances"
         }
        }
       }
      }
     },
     "metadata": {}
    }
   ],
   "source": [
    "# See which features were most important\n",
    "imps = pd.DataFrame()\n",
    "imps['Features'] = features\n",
    "imps['Importances'] = clf.feature_importances_\n",
    "imps = imps.sort_values('Importances', ascending=False)\n",
    "px.bar(imps, x='Features', y='Importances', template='ggplot2',\n",
    "       title='Feature Importance')"
   ]
  },
  {
   "cell_type": "markdown",
   "id": "trying-merchandise",
   "metadata": {},
   "source": [
    "## Analyze Regressor Effectiveness"
   ]
  },
  {
   "cell_type": "code",
   "execution_count": 133,
   "id": "underlying-google",
   "metadata": {},
   "outputs": [
    {
     "output_type": "stream",
     "name": "stderr",
     "text": [
      "<ipython-input-133-fa71736731f7>:13: SettingWithCopyWarning:\n\n\nA value is trying to be set on a copy of a slice from a DataFrame.\nTry using .loc[row_indexer,col_indexer] = value instead\n\nSee the caveats in the documentation: https://pandas.pydata.org/pandas-docs/stable/user_guide/indexing.html#returning-a-view-versus-a-copy\n\n<ipython-input-133-fa71736731f7>:13: SettingWithCopyWarning:\n\n\nA value is trying to be set on a copy of a slice from a DataFrame.\nTry using .loc[row_indexer,col_indexer] = value instead\n\nSee the caveats in the documentation: https://pandas.pydata.org/pandas-docs/stable/user_guide/indexing.html#returning-a-view-versus-a-copy\n\n<ipython-input-133-fa71736731f7>:13: SettingWithCopyWarning:\n\n\nA value is trying to be set on a copy of a slice from a DataFrame.\nTry using .loc[row_indexer,col_indexer] = value instead\n\nSee the caveats in the documentation: https://pandas.pydata.org/pandas-docs/stable/user_guide/indexing.html#returning-a-view-versus-a-copy\n\n"
     ]
    },
    {
     "output_type": "display_data",
     "data": {
      "application/vnd.plotly.v1+json": {
       "config": {
        "plotlyServerURL": "https://plot.ly"
       },
       "data": [
        {
         "type": "bar",
         "x": [
          -1,
          -0.75,
          -0.5,
          -0.25,
          0,
          0.25,
          0.5,
          0.75,
          1
         ],
         "xaxis": "x",
         "y": [
          0,
          0,
          0,
          0,
          3277,
          47,
          26,
          38,
          81
         ],
         "yaxis": "y"
        },
        {
         "type": "bar",
         "x": [
          -1,
          -0.75,
          -0.5,
          -0.25,
          0,
          0.25,
          0.5,
          0.75,
          1
         ],
         "xaxis": "x2",
         "y": [
          0,
          2,
          9,
          12,
          3701,
          208,
          113,
          110,
          822
         ],
         "yaxis": "y2"
        },
        {
         "type": "bar",
         "x": [
          -1,
          -0.75,
          -0.5,
          -0.25,
          0,
          0.25,
          0.5,
          0.75,
          1
         ],
         "xaxis": "x3",
         "y": [
          132,
          21,
          25,
          33,
          864,
          9,
          39,
          48,
          132
         ],
         "yaxis": "y3"
        }
       ],
       "layout": {
        "annotations": [
         {
          "font": {
           "size": 16
          },
          "showarrow": false,
          "text": "Neutral",
          "x": 0.14444444444444446,
          "xanchor": "center",
          "xref": "paper",
          "y": 1,
          "yanchor": "bottom",
          "yref": "paper"
         },
         {
          "font": {
           "size": 16
          },
          "showarrow": false,
          "text": "Positive",
          "x": 0.5,
          "xanchor": "center",
          "xref": "paper",
          "y": 1,
          "yanchor": "bottom",
          "yref": "paper"
         },
         {
          "font": {
           "size": 16
          },
          "showarrow": false,
          "text": "Negative",
          "x": 0.8555555555555556,
          "xanchor": "center",
          "xref": "paper",
          "y": 1,
          "yanchor": "bottom",
          "yref": "paper"
         }
        ],
        "showlegend": false,
        "template": {
         "data": {
          "bar": [
           {
            "error_x": {
             "color": "#2a3f5f"
            },
            "error_y": {
             "color": "#2a3f5f"
            },
            "marker": {
             "line": {
              "color": "#E5ECF6",
              "width": 0.5
             }
            },
            "type": "bar"
           }
          ],
          "barpolar": [
           {
            "marker": {
             "line": {
              "color": "#E5ECF6",
              "width": 0.5
             }
            },
            "type": "barpolar"
           }
          ],
          "carpet": [
           {
            "aaxis": {
             "endlinecolor": "#2a3f5f",
             "gridcolor": "white",
             "linecolor": "white",
             "minorgridcolor": "white",
             "startlinecolor": "#2a3f5f"
            },
            "baxis": {
             "endlinecolor": "#2a3f5f",
             "gridcolor": "white",
             "linecolor": "white",
             "minorgridcolor": "white",
             "startlinecolor": "#2a3f5f"
            },
            "type": "carpet"
           }
          ],
          "choropleth": [
           {
            "colorbar": {
             "outlinewidth": 0,
             "ticks": ""
            },
            "type": "choropleth"
           }
          ],
          "contour": [
           {
            "colorbar": {
             "outlinewidth": 0,
             "ticks": ""
            },
            "colorscale": [
             [
              0,
              "#0d0887"
             ],
             [
              0.1111111111111111,
              "#46039f"
             ],
             [
              0.2222222222222222,
              "#7201a8"
             ],
             [
              0.3333333333333333,
              "#9c179e"
             ],
             [
              0.4444444444444444,
              "#bd3786"
             ],
             [
              0.5555555555555556,
              "#d8576b"
             ],
             [
              0.6666666666666666,
              "#ed7953"
             ],
             [
              0.7777777777777778,
              "#fb9f3a"
             ],
             [
              0.8888888888888888,
              "#fdca26"
             ],
             [
              1,
              "#f0f921"
             ]
            ],
            "type": "contour"
           }
          ],
          "contourcarpet": [
           {
            "colorbar": {
             "outlinewidth": 0,
             "ticks": ""
            },
            "type": "contourcarpet"
           }
          ],
          "heatmap": [
           {
            "colorbar": {
             "outlinewidth": 0,
             "ticks": ""
            },
            "colorscale": [
             [
              0,
              "#0d0887"
             ],
             [
              0.1111111111111111,
              "#46039f"
             ],
             [
              0.2222222222222222,
              "#7201a8"
             ],
             [
              0.3333333333333333,
              "#9c179e"
             ],
             [
              0.4444444444444444,
              "#bd3786"
             ],
             [
              0.5555555555555556,
              "#d8576b"
             ],
             [
              0.6666666666666666,
              "#ed7953"
             ],
             [
              0.7777777777777778,
              "#fb9f3a"
             ],
             [
              0.8888888888888888,
              "#fdca26"
             ],
             [
              1,
              "#f0f921"
             ]
            ],
            "type": "heatmap"
           }
          ],
          "heatmapgl": [
           {
            "colorbar": {
             "outlinewidth": 0,
             "ticks": ""
            },
            "colorscale": [
             [
              0,
              "#0d0887"
             ],
             [
              0.1111111111111111,
              "#46039f"
             ],
             [
              0.2222222222222222,
              "#7201a8"
             ],
             [
              0.3333333333333333,
              "#9c179e"
             ],
             [
              0.4444444444444444,
              "#bd3786"
             ],
             [
              0.5555555555555556,
              "#d8576b"
             ],
             [
              0.6666666666666666,
              "#ed7953"
             ],
             [
              0.7777777777777778,
              "#fb9f3a"
             ],
             [
              0.8888888888888888,
              "#fdca26"
             ],
             [
              1,
              "#f0f921"
             ]
            ],
            "type": "heatmapgl"
           }
          ],
          "histogram": [
           {
            "marker": {
             "colorbar": {
              "outlinewidth": 0,
              "ticks": ""
             }
            },
            "type": "histogram"
           }
          ],
          "histogram2d": [
           {
            "colorbar": {
             "outlinewidth": 0,
             "ticks": ""
            },
            "colorscale": [
             [
              0,
              "#0d0887"
             ],
             [
              0.1111111111111111,
              "#46039f"
             ],
             [
              0.2222222222222222,
              "#7201a8"
             ],
             [
              0.3333333333333333,
              "#9c179e"
             ],
             [
              0.4444444444444444,
              "#bd3786"
             ],
             [
              0.5555555555555556,
              "#d8576b"
             ],
             [
              0.6666666666666666,
              "#ed7953"
             ],
             [
              0.7777777777777778,
              "#fb9f3a"
             ],
             [
              0.8888888888888888,
              "#fdca26"
             ],
             [
              1,
              "#f0f921"
             ]
            ],
            "type": "histogram2d"
           }
          ],
          "histogram2dcontour": [
           {
            "colorbar": {
             "outlinewidth": 0,
             "ticks": ""
            },
            "colorscale": [
             [
              0,
              "#0d0887"
             ],
             [
              0.1111111111111111,
              "#46039f"
             ],
             [
              0.2222222222222222,
              "#7201a8"
             ],
             [
              0.3333333333333333,
              "#9c179e"
             ],
             [
              0.4444444444444444,
              "#bd3786"
             ],
             [
              0.5555555555555556,
              "#d8576b"
             ],
             [
              0.6666666666666666,
              "#ed7953"
             ],
             [
              0.7777777777777778,
              "#fb9f3a"
             ],
             [
              0.8888888888888888,
              "#fdca26"
             ],
             [
              1,
              "#f0f921"
             ]
            ],
            "type": "histogram2dcontour"
           }
          ],
          "mesh3d": [
           {
            "colorbar": {
             "outlinewidth": 0,
             "ticks": ""
            },
            "type": "mesh3d"
           }
          ],
          "parcoords": [
           {
            "line": {
             "colorbar": {
              "outlinewidth": 0,
              "ticks": ""
             }
            },
            "type": "parcoords"
           }
          ],
          "pie": [
           {
            "automargin": true,
            "type": "pie"
           }
          ],
          "scatter": [
           {
            "marker": {
             "colorbar": {
              "outlinewidth": 0,
              "ticks": ""
             }
            },
            "type": "scatter"
           }
          ],
          "scatter3d": [
           {
            "line": {
             "colorbar": {
              "outlinewidth": 0,
              "ticks": ""
             }
            },
            "marker": {
             "colorbar": {
              "outlinewidth": 0,
              "ticks": ""
             }
            },
            "type": "scatter3d"
           }
          ],
          "scattercarpet": [
           {
            "marker": {
             "colorbar": {
              "outlinewidth": 0,
              "ticks": ""
             }
            },
            "type": "scattercarpet"
           }
          ],
          "scattergeo": [
           {
            "marker": {
             "colorbar": {
              "outlinewidth": 0,
              "ticks": ""
             }
            },
            "type": "scattergeo"
           }
          ],
          "scattergl": [
           {
            "marker": {
             "colorbar": {
              "outlinewidth": 0,
              "ticks": ""
             }
            },
            "type": "scattergl"
           }
          ],
          "scattermapbox": [
           {
            "marker": {
             "colorbar": {
              "outlinewidth": 0,
              "ticks": ""
             }
            },
            "type": "scattermapbox"
           }
          ],
          "scatterpolar": [
           {
            "marker": {
             "colorbar": {
              "outlinewidth": 0,
              "ticks": ""
             }
            },
            "type": "scatterpolar"
           }
          ],
          "scatterpolargl": [
           {
            "marker": {
             "colorbar": {
              "outlinewidth": 0,
              "ticks": ""
             }
            },
            "type": "scatterpolargl"
           }
          ],
          "scatterternary": [
           {
            "marker": {
             "colorbar": {
              "outlinewidth": 0,
              "ticks": ""
             }
            },
            "type": "scatterternary"
           }
          ],
          "surface": [
           {
            "colorbar": {
             "outlinewidth": 0,
             "ticks": ""
            },
            "colorscale": [
             [
              0,
              "#0d0887"
             ],
             [
              0.1111111111111111,
              "#46039f"
             ],
             [
              0.2222222222222222,
              "#7201a8"
             ],
             [
              0.3333333333333333,
              "#9c179e"
             ],
             [
              0.4444444444444444,
              "#bd3786"
             ],
             [
              0.5555555555555556,
              "#d8576b"
             ],
             [
              0.6666666666666666,
              "#ed7953"
             ],
             [
              0.7777777777777778,
              "#fb9f3a"
             ],
             [
              0.8888888888888888,
              "#fdca26"
             ],
             [
              1,
              "#f0f921"
             ]
            ],
            "type": "surface"
           }
          ],
          "table": [
           {
            "cells": {
             "fill": {
              "color": "#EBF0F8"
             },
             "line": {
              "color": "white"
             }
            },
            "header": {
             "fill": {
              "color": "#C8D4E3"
             },
             "line": {
              "color": "white"
             }
            },
            "type": "table"
           }
          ]
         },
         "layout": {
          "annotationdefaults": {
           "arrowcolor": "#2a3f5f",
           "arrowhead": 0,
           "arrowwidth": 1
          },
          "autotypenumbers": "strict",
          "coloraxis": {
           "colorbar": {
            "outlinewidth": 0,
            "ticks": ""
           }
          },
          "colorscale": {
           "diverging": [
            [
             0,
             "#8e0152"
            ],
            [
             0.1,
             "#c51b7d"
            ],
            [
             0.2,
             "#de77ae"
            ],
            [
             0.3,
             "#f1b6da"
            ],
            [
             0.4,
             "#fde0ef"
            ],
            [
             0.5,
             "#f7f7f7"
            ],
            [
             0.6,
             "#e6f5d0"
            ],
            [
             0.7,
             "#b8e186"
            ],
            [
             0.8,
             "#7fbc41"
            ],
            [
             0.9,
             "#4d9221"
            ],
            [
             1,
             "#276419"
            ]
           ],
           "sequential": [
            [
             0,
             "#0d0887"
            ],
            [
             0.1111111111111111,
             "#46039f"
            ],
            [
             0.2222222222222222,
             "#7201a8"
            ],
            [
             0.3333333333333333,
             "#9c179e"
            ],
            [
             0.4444444444444444,
             "#bd3786"
            ],
            [
             0.5555555555555556,
             "#d8576b"
            ],
            [
             0.6666666666666666,
             "#ed7953"
            ],
            [
             0.7777777777777778,
             "#fb9f3a"
            ],
            [
             0.8888888888888888,
             "#fdca26"
            ],
            [
             1,
             "#f0f921"
            ]
           ],
           "sequentialminus": [
            [
             0,
             "#0d0887"
            ],
            [
             0.1111111111111111,
             "#46039f"
            ],
            [
             0.2222222222222222,
             "#7201a8"
            ],
            [
             0.3333333333333333,
             "#9c179e"
            ],
            [
             0.4444444444444444,
             "#bd3786"
            ],
            [
             0.5555555555555556,
             "#d8576b"
            ],
            [
             0.6666666666666666,
             "#ed7953"
            ],
            [
             0.7777777777777778,
             "#fb9f3a"
            ],
            [
             0.8888888888888888,
             "#fdca26"
            ],
            [
             1,
             "#f0f921"
            ]
           ]
          },
          "colorway": [
           "#636efa",
           "#EF553B",
           "#00cc96",
           "#ab63fa",
           "#FFA15A",
           "#19d3f3",
           "#FF6692",
           "#B6E880",
           "#FF97FF",
           "#FECB52"
          ],
          "font": {
           "color": "#2a3f5f"
          },
          "geo": {
           "bgcolor": "white",
           "lakecolor": "white",
           "landcolor": "#E5ECF6",
           "showlakes": true,
           "showland": true,
           "subunitcolor": "white"
          },
          "hoverlabel": {
           "align": "left"
          },
          "hovermode": "closest",
          "mapbox": {
           "style": "light"
          },
          "paper_bgcolor": "white",
          "plot_bgcolor": "#E5ECF6",
          "polar": {
           "angularaxis": {
            "gridcolor": "white",
            "linecolor": "white",
            "ticks": ""
           },
           "bgcolor": "#E5ECF6",
           "radialaxis": {
            "gridcolor": "white",
            "linecolor": "white",
            "ticks": ""
           }
          },
          "scene": {
           "xaxis": {
            "backgroundcolor": "#E5ECF6",
            "gridcolor": "white",
            "gridwidth": 2,
            "linecolor": "white",
            "showbackground": true,
            "ticks": "",
            "zerolinecolor": "white"
           },
           "yaxis": {
            "backgroundcolor": "#E5ECF6",
            "gridcolor": "white",
            "gridwidth": 2,
            "linecolor": "white",
            "showbackground": true,
            "ticks": "",
            "zerolinecolor": "white"
           },
           "zaxis": {
            "backgroundcolor": "#E5ECF6",
            "gridcolor": "white",
            "gridwidth": 2,
            "linecolor": "white",
            "showbackground": true,
            "ticks": "",
            "zerolinecolor": "white"
           }
          },
          "shapedefaults": {
           "line": {
            "color": "#2a3f5f"
           }
          },
          "ternary": {
           "aaxis": {
            "gridcolor": "white",
            "linecolor": "white",
            "ticks": ""
           },
           "baxis": {
            "gridcolor": "white",
            "linecolor": "white",
            "ticks": ""
           },
           "bgcolor": "#E5ECF6",
           "caxis": {
            "gridcolor": "white",
            "linecolor": "white",
            "ticks": ""
           }
          },
          "title": {
           "x": 0.05
          },
          "xaxis": {
           "automargin": true,
           "gridcolor": "white",
           "linecolor": "white",
           "ticks": "",
           "title": {
            "standoff": 15
           },
           "zerolinecolor": "white",
           "zerolinewidth": 2
          },
          "yaxis": {
           "automargin": true,
           "gridcolor": "white",
           "linecolor": "white",
           "ticks": "",
           "title": {
            "standoff": 15
           },
           "zerolinecolor": "white",
           "zerolinewidth": 2
          }
         }
        },
        "title": {
         "text": "Predicted Emotion Level by Video Type"
        },
        "xaxis": {
         "anchor": "y",
         "domain": [
          0,
          0.2888888888888889
         ]
        },
        "xaxis2": {
         "anchor": "y2",
         "domain": [
          0.35555555555555557,
          0.6444444444444445
         ],
         "title": {
          "text": "Negative to Positive Predicted Emotions"
         }
        },
        "xaxis3": {
         "anchor": "y3",
         "domain": [
          0.7111111111111111,
          1
         ]
        },
        "yaxis": {
         "anchor": "x",
         "domain": [
          0,
          1
         ],
         "title": {
          "text": "Count"
         }
        },
        "yaxis2": {
         "anchor": "x2",
         "domain": [
          0,
          1
         ]
        },
        "yaxis3": {
         "anchor": "x3",
         "domain": [
          0,
          1
         ]
        }
       }
      }
     },
     "metadata": {}
    }
   ],
   "source": [
    "# Adding y_hat to data_df\n",
    "data_df['y_hat'] = y_hat.tolist()\n",
    "\n",
    "bins = [-1.5, -0.75, -0.5, -0.25, -0.1, 0.1,\n",
    "        0.25, 0.5, 0.75, 1.5]\n",
    "labels = [-1.0, -0.75, -0.5, -0.25, 0.0, 0.25, 0.5, 0.75, 1.0]\n",
    "\n",
    "fig = make_subplots(rows=1, cols=3,\n",
    "                    subplot_titles=('Neutral','Positive','Negative'))\n",
    "emotions = ['neutral','positive','negative']\n",
    "for i, emotion in enumerate(emotions):\n",
    "    tmp = data_df[data_df['enc_video_type'] == label_encoding[emotion]]\n",
    "    tmp['y_hat'] = pd.cut(tmp['y_hat'], bins=bins, labels=labels)\n",
    "    tmp = tmp.groupby('y_hat').video_id.count().reset_index().rename(columns={'video_id':'count'})\n",
    "    fig.add_trace(go.Bar(x=list(tmp['y_hat']),\n",
    "                         y=list(tmp['count'])),\n",
    "                  row=1, col=i + 1)\n",
    "\n",
    "fig.update_layout(title_text='Predicted Emotion Level by Video Type', showlegend=False)\n",
    "fig.update_yaxes(title_text='Count', row=1, col=1)\n",
    "fig.update_xaxes(title_text='Negative to Positive Predicted Emotions', row=1, col=2)\n",
    "fig.show()"
   ]
  },
  {
   "cell_type": "code",
   "execution_count": 134,
   "id": "aquatic-tomato",
   "metadata": {},
   "outputs": [
    {
     "output_type": "display_data",
     "data": {
      "application/vnd.plotly.v1+json": {
       "config": {
        "plotlyServerURL": "https://plot.ly"
       },
       "data": [
        {
         "alignmentgroup": "True",
         "bingroup": "x",
         "hovertemplate": "Predicted Emotion Strength=%{x}<br>count=%{y}<extra></extra>",
         "legendgroup": "",
         "marker": {
          "color": "#F8766D"
         },
         "name": "",
         "offsetgroup": "",
         "orientation": "v",
         "showlegend": false,
         "type": "histogram",
         "x": [
          -0.01320392490497101,
          -0.044384009625734154,
          -0.016146871747410082,
          0.9791109884888154,
          -0.020000000000000014,
          0.6017607704517703,
          -0.01953395668869051,
          -0.020017765875504582,
          0.007058404975553628,
          -0.016146871747410082,
          -0.020017765875504582,
          -0.014611910593531058,
          -0.8588846899211898,
          1,
          -0.020017765875504582,
          -0.016146871747410082,
          -0.014152631466268453,
          1,
          -0.020017765875504582,
          -0.020017765875504582,
          1,
          -0.008539769293852372,
          -0.016146871747410082,
          -0.015687592620147475,
          -0.01968422442462379,
          0.9791109884888154,
          -0.015687592620147475,
          0.16682716061492056,
          -0.016146871747410082,
          -0.011873576430041577,
          0.02698710055923676,
          -0.020017765875504582,
          -0.010559692570303248,
          -0.01968931448959595,
          -0.014968152616008595,
          -0.014152631466268453,
          0.035610905058296415,
          -0.014611910593531058,
          0.9535991805676879,
          -0.016146871747410082,
          -0.9126656538461533,
          -1.0460000000000023,
          1,
          -0.015687592620147475,
          0.7847407743107815,
          -0.014611910593531058,
          -0.014611910593531058,
          -0.007543753096411206,
          -0.022197156688690507,
          0.2596799141292377,
          0.8036098733539749,
          -0.01923246186029304,
          -0.015687592620147475,
          -0.008539769293852372,
          -0.01320392490497101,
          -0.020017765875504582,
          0.017573606242141004,
          0.7478166390378679,
          -0.014611910593531058,
          -0.01863632154093556,
          -0.01936467625159307,
          0.05375003838356241,
          0.005349815851871276,
          -0.019384695626541496,
          -0.01958602268612226,
          -0.023545391982808157,
          -0.0031706889940738155,
          -0.016146871747410082,
          1,
          -0.3256718642114045,
          0.04569501739813325,
          -0.015687592620147475,
          0.9535991805676879,
          0.6249184703050279,
          -0.015687592620147475,
          -0.020000000000000014,
          0.02693893723715839,
          0.18718075555146638,
          0.0032175706110610268,
          -0.01953395668869051,
          -0.008539769293852372,
          0.657152950177566,
          -0.016146871747410082,
          -0.014152631466268453,
          -0.014152631466268453,
          -0.014611910593531058,
          0.11334419623983298,
          1,
          0.005356765004413649,
          -0.016146871747410082,
          -0.01922010376091172,
          -0.015687592620147475,
          -0.015687592620147475,
          -0.015294775618966836,
          -0.016146871747410082,
          -0.020017765875504582,
          -0.020000000000000014,
          0.07017480871007863,
          -0.015687592620147475,
          0.10012767066398352,
          -0.016146871747410082,
          -0.01958602268612226,
          0.17207821556696884,
          -0.01637105502415227,
          -0.016146871747410082,
          -0.016271954488711583,
          -0.014611910593531058,
          -0.020000000000000014,
          -0.012462202366726453,
          -0.008539769293852372,
          -0.008539769293852372,
          -0.016146871747410082,
          -0.014611910593531058,
          -0.016146871747410082,
          0.12403592948497243,
          -0.019833154634926378,
          -0.023545391982808157,
          0.012058167088817375,
          -0.011971916517318151,
          -0.014611910593531058,
          -0.0193589128663105,
          0.20882970796628025,
          0.6737791907588876,
          0.5499609663493013,
          -0.01545996999979237,
          -0.020017765875504582,
          1,
          0.9589946485314803,
          1,
          -0.016146871747410082,
          -0.01958602268612226,
          0.022157522911882777,
          -0.019997746500556152,
          -0.015687592620147475,
          -0.01922010376091172,
          -0.014611910593531058,
          -0.01958602268612226,
          1,
          1,
          -0.014611910593531058,
          -0.016146871747410082,
          -0.01953395668869051,
          0.9791109884888154,
          -0.01968422442462379,
          -0.014611910593531058,
          -0.020000000000000014,
          -0.015687592620147475,
          0.28930779768523396,
          -0.016146871747410082,
          1,
          0.6517420568152208,
          -0.010559692570303248,
          0.015722745164727096,
          -0.015687592620147475,
          -0.011801443336933417,
          -0.008539769293852372,
          -0.010115865133331025,
          0.1296702401387606,
          1,
          -0.011801443336933417,
          -0.020017765875504582,
          1,
          -0.0030753920050950027,
          -0.007500917119939329,
          -0.016271954488711583,
          -0.019384695626541496,
          0.005356765004413649,
          -0.85841768992119,
          0.05550493179633279,
          -0.015687592620147475,
          -0.020017765875504582,
          -0.01958602268612226,
          -0.01953395668869051,
          -0.020017765875504582,
          -0.01968422442462379,
          -0.015687592620147475,
          -0.015687592620147475,
          -0.27861913229249846,
          -0.014611910593531058,
          -0.019338893491362075,
          -0.011934261605615783,
          -0.020000000000000014,
          -0.014152631466268453,
          0.7847407743107815,
          1,
          -0.020017765875504582,
          -0.014883067372161891,
          1,
          -0.01612345372047068,
          -0.015687592620147475,
          0.16747039927559468,
          -0.018805271126186573,
          -0.015687592620147475,
          -0.020017765875504582,
          -0.016146871747410082,
          -0.019384695626541496,
          -0.011801443336933417,
          -0.014611910593531058,
          -0.1934726621990207,
          -0.015687592620147475,
          -0.4433619158867078,
          -0.014611910593531058,
          -0.020000000000000014,
          -0.015687592620147475,
          -0.011801443336933417,
          -0.019384695626541496,
          0.12403592948497243,
          -0.016146871747410082,
          -0.010834285714285723,
          -0.008539769293852374,
          1,
          0.013580397425783632,
          -0.016146871747410082,
          -0.020000000000000014,
          -0.010559692570303248,
          -0.008539769293852372,
          -0.018805271126186573,
          -0.015687592620147475,
          -0.01320392490497101,
          -0.019997746500556152,
          -0.020000000000000014,
          0.2475598414888303,
          0.030899099155319302,
          -0.013213667283948318,
          -0.013226050524578774,
          0.19271103940279924,
          -0.014883067372161891,
          -1.0460000000000023,
          -0.01603751357327148,
          0.6282656276242538,
          -0.013836788589528765,
          -0.00047291659679271733,
          -0.018949843616867922,
          -0.019997746500556152,
          0.10012767066398352,
          -0.015687592620147475,
          -0.8172151827723342,
          -0.015687592620147475,
          -0.014611910593531058,
          0.008013752825741962,
          -0.01958602268612226,
          -0.014611910593531058,
          1,
          1,
          -0.012418019108124598,
          -0.032457156688690515,
          -0.020017765875504582,
          -0.01953395668869051,
          -0.016146871747410082,
          -0.01968422442462379,
          -0.015687592620147475,
          -0.014152631466268453,
          0.019181082608242358,
          0.012058167088817375,
          -0.020000000000000014,
          -0.016146871747410082,
          -0.020000000000000014,
          -0.014289430698488214,
          -0.0030753920050950027,
          0.9791109884888154,
          -0.010559692570303248,
          -0.018969862991816352,
          -0.020017765875504582,
          -0.014611910593531058,
          -0.016146871747410082,
          -0.012740450930346892,
          1,
          0.03345052485312836,
          -0.015687592620147475,
          -0.1934726621990207,
          -0.015687592620147475,
          0.017294539451264978,
          0.012123322458136408,
          0.012130271610678782,
          -0.010559692570303248,
          0.022090809743464702,
          -0.014883067372161891,
          -0.014611910593531058,
          -0.01968422442462379,
          -0.01421909359235042,
          -0.018652457884474827,
          -0.014152631466268453,
          -0.015687592620147475,
          -0.020000000000000014,
          -0.0030753920050950027,
          -0.020017765875504582,
          -0.01088469017917944,
          0.6912797275744113,
          -0.013836788589528765,
          -0.016146871747410082,
          -0.018969862991816352,
          0.01701938927992856,
          -0.0019294697055917227,
          -0.85841768992119,
          0.5893743106767321,
          -0.020017765875504582,
          -0.014611910593531058,
          -0.016146871747410082,
          -0.020017765875504582,
          -0.014611910593531058,
          -0.015687592620147475,
          -0.0753933019510066,
          -0.008539769293852372,
          -0.015687592620147475,
          -0.020017765875504582,
          -0.015403245780851414,
          -0.016146871747410082,
          0.8235404154782177,
          -0.015687592620147475,
          -0.014741051607763032,
          -0.016146871747410082,
          -0.014152631466268453,
          0.6125929999999997,
          -0.019384695626541496,
          -0.056818668272350686,
          1,
          -0.015427431743271196,
          -0.014611910593531058,
          1,
          -1.0460000000000023,
          -0.015294775618966836,
          -0.014968152616008595,
          -0.014611910593531058,
          -0.014611910593531058,
          -0.015687592620147475,
          0.017573606242141004,
          -0.016146871747410082,
          0.8806302125127003,
          -0.020017765875504582,
          1,
          -0.016146871747410082,
          0.5514202345167228,
          -0.014611910593531058,
          -0.015687592620147475,
          -0.6574433333333337,
          -0.015687592620147475,
          -0.014611910593531058,
          0.25370341944844926,
          0.9535991805676879,
          -0.014152631466268453,
          -0.015687592620147475,
          0.09368597330769193,
          1,
          -0.015427431743271196,
          0.020692231544412572,
          -0.01966420504967536,
          -0.004179535379240293,
          -0.014722655911328004,
          -0.015687592620147475,
          -0.014152631466268453,
          -0.015687592620147475,
          0.015785589922033116,
          -0.014611910593531058,
          -0.015687592620147475,
          -0.016146871747410082,
          -0.016146871747410082,
          0.8806302125127003,
          -0.008211008709080531,
          -0.020017765875504582,
          -0.012281171803084284,
          0.07198044410377143,
          -0.016146871747410082,
          -0.016146871747410082,
          -0.014152631466268453,
          0.09528564077478813,
          -0.015294775618966836,
          -0.020000000000000014,
          -0.015687592620147475,
          -0.020017765875504582,
          -0.01320392490497101,
          -0.020017765875504582,
          0.08371719417441517,
          -0.013359050842013243,
          -0.01968422442462379,
          -0.020017765875504582,
          -0.019997746500556152,
          -0.019997746500556152,
          0.13824929277868178,
          -0.015403245780851414,
          0.8695275735315464,
          -0.019358354920826083,
          0.030769073284691847,
          -0.014611910593531058,
          1,
          1,
          0.017573606242141004,
          -0.016146871747410082,
          -0.014611910593531058,
          -0.015687592620147475,
          -0.015687592620147475,
          -0.011801443336933417,
          -0.015687592620147475,
          -0.015687592620147475,
          -0.013359050842013243,
          -0.020017765875504582,
          0.01798719852322941,
          -0.015687592620147475,
          -0.6982657619047621,
          -0.018949843616867922,
          -0.0193589128663105,
          -0.014611910593531058,
          -0.016146871747410082,
          -0.01320392490497101,
          -0.015687592620147475,
          -0.0036597538736591086,
          1,
          0.9995142857142858,
          -0.015196272462095166,
          -0.01320392490497101,
          0.9933707871541745,
          -0.015687592620147475,
          -0.016146871747410082,
          -0.01637105502415227,
          -0.016146871747410082,
          -0.014152631466268453,
          -0.011801443336933417,
          0.026976529265876844,
          -0.019384695626541496,
          -0.014611910593531058,
          0.1296702401387606,
          -0.008539769293852372,
          -0.011487369233083224,
          -0.015687592620147475,
          -0.020017765875504582,
          -0.019853174009874807,
          -0.0193589128663105,
          -0.0193589128663105,
          -0.01968422442462379,
          -0.016146871747410082,
          -0.012874125280205533,
          1,
          -0.014611910593531058,
          -0.015687592620147475,
          -0.015687592620147475,
          -0.016146871747410082,
          -0.01473699333483256,
          -0.012242655911328011,
          -0.014611910593531058,
          0.9392326631160697,
          0.9911093378788123,
          -0.019384695626541496,
          -0.0019294697055917227,
          -0.01238062417710118,
          -0.016146871747410082,
          -0.015294775618966836,
          -0.01320392490497101,
          -0.016877895743050306,
          -0.015403245780851414,
          1,
          -0.015687592620147475,
          -0.014611910593531058,
          -0.020004317195152676,
          -0.01958602268612226,
          -0.016146871747410082,
          -0.019338893491362075,
          -0.016146871747410082,
          0.8235404154782177,
          1,
          0.03093214605351575,
          1,
          -0.015687592620147475,
          -0.016146871747410082,
          -0.020000000000000014,
          -0.020017765875504582,
          0.9673905306802466,
          -0.015687592620147475,
          -0.019997746500556152,
          0.3161556764200713,
          1,
          0.7419030742620035,
          -0.010559692570303248,
          -0.016146871747410082,
          -0.020004317195152676,
          -0.015687592620147475,
          -0.019384695626541496,
          -0.015294775618966836,
          -0.012320198668100205,
          -0.01968422442462379,
          -0.014281772480500426,
          -0.014611910593531058,
          0.7567318810959673,
          -0.020000000000000014,
          0.3291998247447019,
          0.2686769603138446,
          -0.01953395668869051,
          1,
          1,
          -0.020004317195152676,
          1,
          -0.016146871747410082,
          0.9364825872865462,
          -0.01998429782020425,
          -0.018969862991816352,
          -0.01998429782020425,
          -0.01968422442462379,
          -0.019997746500556152,
          0.5514202345167228,
          -0.015687592620147475,
          -0.015687592620147475,
          -0.014611910593531058,
          0.9663968471659973,
          1,
          -0.007655953096411205,
          0.013580397425783632,
          -0.008539769293852372,
          1,
          -0.020000000000000014,
          -0.015687592620147475,
          -0.01127734140749623,
          0.015785589922033116,
          -0.015687592620147475,
          -0.016271954488711583,
          0.5514202345167228,
          0.09068912528249476,
          -0.016146871747410082,
          -0.0193589128663105,
          -0.014152631466268453,
          -0.012387474075005211,
          -0.014152631466268453,
          -0.019997799685633633,
          -0.014722655911328004,
          -0.015687592620147475,
          -0.01958602268612226,
          0.16380714130789462,
          -0.015687592620147475,
          -0.016146871747410082,
          -0.016146871747410082,
          -0.020017765875504582,
          0.9392326631160697,
          0.9885589108670672,
          -0.010787461163318532,
          -0.008794591320898625,
          0.015785589922033116,
          -0.016146871747410082,
          -0.015687592620147475,
          -0.016906559695254907,
          -0.014611910593531058,
          0.05550493179633279,
          0.09556079094612453,
          -0.014152631466268453,
          -0.016146871747410082,
          -0.015687592620147475,
          -0.015687592620147475,
          0.9783521428571427,
          -0.018814516684551624,
          -0.016146871747410082,
          1,
          -0.019997746500556152,
          -0.015687592620147475,
          -0.014611910593531058,
          0.02701924423162676,
          1,
          -0.011934261605615783,
          0.8806302125127003,
          0.10406388914846124,
          -0.016146871747410082,
          -0.019358354920826083,
          0.03502797256961556,
          -0.01958602268612226,
          -0.015687592620147475,
          -0.015196272462095166,
          -0.01320392490497101,
          1,
          -0.014611910593531058,
          -0.01958602268612226,
          -0.014611910593531058,
          -0.016146871747410082,
          0.023117301092720074,
          -0.016146871747410082,
          -0.01953395668869051,
          -0.020000000000000014,
          -0.014611910593531058,
          0.02698619733343031,
          -0.008539769293852372,
          -0.015687592620147475,
          0.017540559343944558,
          -0.015687592620147475,
          -0.01637105502415227,
          -0.01968422442462379,
          -0.016146871747410082,
          1,
          -0.016893320370904276,
          0.0221019962363988,
          -0.014883067372161891,
          -0.008539769293852372,
          -0.012424612514718,
          0.48014693996564395,
          -0.011971916517318151,
          -0.020017765875504582,
          -0.015687592620147475,
          -0.01320392490497101,
          -0.014611910593531058,
          -0.014152631466268453,
          -0.015687592620147475,
          -0.015687592620147475,
          -0.016146871747410082,
          0.0006751440988142875,
          -0.019384695626541496,
          1,
          -0.01637105502415227,
          -0.015687592620147475,
          -0.018805271126186573,
          -0.015196272462095166,
          -0.019997746500556152,
          -0.01953395668869051,
          -0.015687592620147475,
          -0.018969862991816352,
          0.012123322458136408,
          -0.014611910593531058,
          -0.01958602268612226,
          -0.016146871747410082,
          -0.016146871747410082,
          -0.008539769293852376,
          0.03093214605351575,
          -0.020017765875504582,
          0.9791109884888154,
          -0.008539769293852376,
          -1.0460000000000023,
          -0.019384695626541496,
          1,
          -0.020017765875504582,
          -0.015687592620147475,
          -0.015687592620147475,
          -0.014152631466268453,
          -0.012874125280205533,
          -0.011971916517318151,
          -0.18649532379680683,
          -0.016146871747410082,
          -0.01320392490497101,
          -0.015687592620147475,
          0.01798719852322941,
          -0.016146871747410082,
          -0.014152631466268453,
          0.02380153430901215,
          -0.5672899853175346,
          0.8409661042749679,
          0.026650919262161524,
          -0.014611910593531058,
          0.012123322458136408,
          -0.014611910593531058,
          -0.014281772480500426,
          0.32527521007577853,
          -0.016146871747410082,
          -0.006859268768290977,
          -0.015687592620147475,
          -0.016146871747410082,
          -0.01968422442462379,
          -0.007535633330470053,
          -0.015687592620147475,
          1,
          -0.014152631466268453,
          0.5082936136438885,
          -0.01603751357327148,
          -0.016146871747410082,
          0.32024223582780414,
          -0.015687592620147475,
          1,
          0.08739062535053216,
          1,
          -0.020017765875504582,
          -0.016146871747410082,
          -0.015687592620147475,
          -0.019384695626541496,
          -0.01524901253654367,
          -0.7383859323049172,
          -0.008539769293852372,
          -0.016146871747410082,
          1,
          -0.019074677561427902,
          -0.020004317195152676,
          -0.016146871747410082,
          -0.008539769293852372,
          -0.019997746500556152,
          -0.015687592620147475,
          -0.023545391982808157,
          -0.015687592620147475,
          -0.016146871747410082,
          -0.014611910593531058,
          -0.015687592620147475,
          -0.014611910593531058,
          -0.020000000000000014,
          -0.016146871747410082,
          -0.015687592620147475,
          -0.01376202946737948,
          -0.016146871747410082,
          -0.014152631466268453,
          -0.011144054438867354,
          0.017583193869370285,
          -0.016146871747410082,
          -0.015687592620147475,
          0.9933707871541745,
          -0.008539769293852372,
          1,
          -0.016146871747410082,
          -0.012877298235387205,
          -0.016146871747410082,
          -0.020017765875504582,
          -0.01953395668869051,
          0.022752997647956415,
          -0.008539769293852374,
          -0.014611910593531058,
          -0.010559692570303248,
          0.019181082608242358,
          0.0739787484391893,
          -0.015687592620147475,
          0.023117301092720074,
          0.23759316593537194,
          0.9671869349241873,
          -0.01958602268612226,
          -0.40277030681577114,
          -0.01320392490497101,
          -0.01958602268612226,
          -0.020017765875504582,
          -0.020000000000000014,
          1,
          -0.015687592620147475,
          -0.015687592620147475,
          -0.01524901253654367,
          -0.015687592620147475,
          -0.014611910593531058,
          -0.015687592620147475,
          -0.011934261605615783,
          -0.019997746500556152,
          1,
          -0.014611910593531058,
          -0.014611910593531058,
          -0.010559692570303248,
          -0.01958602268612226,
          -0.016146871747410082,
          -0.011801443336933417,
          1,
          -0.020017765875504582,
          1,
          -0.008539769293852372,
          -0.015687592620147475,
          0.0056796154766367525,
          -0.015687592620147475,
          0.8806302125127003,
          -0.014152631466268453,
          -0.015687592620147475,
          -0.014611910593531058,
          -0.014611910593531058,
          -0.01575405474622944,
          0.012058167088817375,
          -0.019074677561427902,
          -0.020004317195152676,
          0.08714554641499667,
          -0.014611910593531058,
          -0.014611910593531058,
          0.035610905058296415,
          -0.014611910593531058,
          -0.015687592620147475,
          -0.018969862991816352,
          1,
          -0.016146871747410082,
          -0.014611910593531058,
          -0.010559692570303248,
          0.3191838655471954,
          0.8806302125127003,
          -0.018969862991816352,
          -0.019997746500556152,
          -0.014968152616008595,
          0.015785589922033116,
          -0.013175128283090688,
          -0.020017765875504582,
          -0.014152631466268453,
          -0.020000000000000014,
          -0.015687592620147475,
          -0.020004317195152676,
          0.01701938927992856,
          0.015785589922033116,
          1,
          -0.014611910593531058,
          0.26213246702995585,
          -0.003921236519577098,
          -0.020004317195152676,
          1,
          -0.015687592620147475,
          -0.24054010446866914,
          -0.015427431743271196,
          -0.011801443336933417,
          -0.008211008709080531,
          -0.013836788589528765,
          -0.012874125280205533,
          -0.014152631466268453,
          0.4640381720935324,
          -0.01612345372047068,
          -0.01320392490497101,
          -0.013836788589528765,
          0.008013752825741962,
          -0.016146871747410082,
          -0.018969862991816352,
          -0.016146871747410082,
          -0.014152631466268453,
          -0.013359050842013243,
          -0.014611910593531058,
          0.01246007123544426,
          1,
          -0.014611910593531058,
          -0.01958602268612226,
          0.16380714130789462,
          -0.015687592620147475,
          -0.01958602268612226,
          -0.014611910593531058,
          -0.014611910593531058,
          0.9668053265325789,
          -0.020017765875504582,
          -0.014611910593531058,
          -0.015687592620147475,
          -0.01958602268612226,
          -0.015687592620147475,
          -0.01320392490497101,
          -0.015687592620147475,
          0.9529741004113857,
          0.11980695747377691,
          0.020976002260448604,
          0.015785589922033116,
          0.9995142857142858,
          -0.01612345372047068,
          -0.012462202366726453,
          -0.019338893491362075,
          -0.013359050842013243,
          -0.010559692570303248,
          -0.008539769293852372,
          -0.015687592620147475,
          -0.0030753920050950027,
          -0.015687592620147475,
          -0.016146871747410082,
          -0.008539769293852372,
          0.8222932758446722,
          -0.020000000000000014,
          -0.013892470589392178,
          0.10406388914846124,
          0.025463668636854137,
          -0.012463273421678158,
          -0.015687592620147475,
          -0.015687592620147475,
          -0.015687592620147475,
          -0.015687592620147475,
          0.8235404154782177,
          -0.010731998055079453,
          -0.6982657619047621,
          -0.020017765875504582,
          -0.014611910593531058,
          0.02693893723715839,
          -0.01751816539091634,
          -0.014152631466268453,
          -0.015687592620147475,
          -0.015500089859467391,
          0.718432830642014,
          -0.01320392490497101,
          -0.015687592620147475,
          1,
          -0.016146871747410082,
          0.02701924423162676,
          -0.016146871747410082,
          0.8806302125127003,
          -0.016146871747410082,
          -0.013359050842013243,
          1,
          -0.011801443336933417,
          -0.015687592620147475,
          -0.015687592620147475,
          -0.019358354920826083,
          -0.015687592620147475,
          -0.014611910593531058,
          -0.015687592620147475,
          1,
          -0.018969862991816352,
          -0.015687592620147475,
          0.9896821515045154,
          -0.007565036372233237,
          -0.0028142857142857193,
          -0.019384695626541496,
          -0.020017765875504582,
          -0.014152631466268453,
          0.9898653677993358,
          0.028701556437352914,
          -0.016146871747410082,
          -0.01602496811872603,
          -0.014611910593531058,
          -0.020017765875504582,
          -0.01637105502415227,
          0.16380714130789462,
          -0.010787461163318532,
          0.9885589108670672,
          -0.019997746500556152,
          -0.014611910593531058,
          -0.015196272462095166,
          0.08972131603919388,
          0.019181082608242358,
          1,
          0.015785589922033116,
          -0.008539769293852372,
          -0.016146871747410082,
          -0.019997746500556152,
          0.125236055695632,
          0.03093214605351575,
          -0.3256718642114045,
          0.7647855570549702,
          -0.016146871747410082,
          -0.015687592620147475,
          -0.01953395668869051,
          -0.020017765875504582,
          0.9608463654936178,
          0.017540559343944558,
          -0.019074677561427902,
          -0.020000000000000014,
          -0.01972546716637567,
          0.005686564629179125,
          -0.015687592620147475,
          -0.015687592620147475,
          -0.01320392490497101,
          -0.019997746500556152,
          -0.01968422442462379,
          1,
          0.10406388914846124,
          -0.015687592620147475,
          0.2596799141292377,
          0.9137182516222104,
          -0.016146871747410082,
          -0.014152631466268453,
          -0.016146871747410082,
          -0.020017765875504582,
          -0.020000000000000014,
          -0.019997746500556152,
          -0.014611910593531058,
          1,
          0.99932,
          -0.015687592620147475,
          -0.016146871747410082,
          1,
          0.8806302125127003,
          -0.015687592620147475,
          -0.019384695626541496,
          -0.014611910593531058,
          0.012130271610678782,
          1,
          -0.014611910593531058,
          -0.016146871747410082,
          0.12813799833241515,
          -0.016146871747410082,
          0.02701924423162676,
          1,
          0.1824864881633388,
          -0.01545996999979237,
          0.10188329408965854,
          -0.014611910593531058,
          0.02701924423162676,
          -0.014611910593531058,
          0.10406388914846124,
          -0.014152631466268453,
          -0.015427431743271196,
          -0.010559692570303248,
          -0.014883067372161891,
          0.9170094721081138,
          -0.014281772480500426,
          -0.015687592620147475,
          -0.01320392490497101,
          -0.01968422442462379,
          -0.017222700505764403,
          -0.015687592620147475,
          -0.015687592620147475,
          0.9671869349241873,
          0.01701938927992856,
          -0.016146871747410082,
          0.6719515987623542,
          -0.019200084385963295,
          0.010484497581932761,
          -0.016271954488711583,
          0.08739062535053216,
          -0.015687592620147475,
          -0.0753933019510066,
          -0.056818668272350686,
          -0.016146871747410082,
          -0.014611910593531058,
          -0.020000000000000014,
          -0.016146871747410082,
          -0.010990729196816006,
          0.012123322458136408,
          -1.0460000000000023,
          -0.014611910593531058,
          1,
          -0.01855660960632806,
          -0.016146871747410082,
          -0.015687592620147475,
          -0.013175128283090688,
          -0.013634810740107728,
          -0.015687592620147475,
          -0.019423697607341243,
          -0.018571166700630474,
          -0.014611910593531058,
          -0.020000000000000014,
          0.6282656276242538,
          -0.020017765875504582,
          0.03417627127083958,
          -0.008539769293852372,
          -0.01612345372047068,
          -0.015687592620147475,
          -0.020000000000000014,
          -0.010559692570303248,
          -0.020017765875504582,
          -0.015687592620147475,
          0.08473715830701799,
          -0.010559692570303248,
          -0.020017765875504582,
          -0.01922010376091172,
          -0.01603751357327148,
          0.015785589922033116,
          1,
          0.02693893723715839,
          -0.014152631466268453,
          -0.0019294697055917227,
          -0.014152631466268453,
          0.10406388914846124,
          -0.016146871747410082,
          -0.019997746500556152,
          -0.014611910593531058,
          -0.013359050842013243,
          -0.01612345372047068,
          -0.020017765875504582,
          0.007051455823011255,
          -0.029793956688690518,
          -0.016146871747410082,
          -0.01612345372047068,
          -0.016146871747410082,
          -0.011801443336933417,
          0.9535991805676879,
          0.8352054376083012,
          0.08473715830701799,
          -0.014611910593531058,
          -0.011971916517318151,
          -0.013213667283948318,
          -0.015687592620147475,
          -0.023046897864915924,
          -0.016146871747410082,
          -0.020000000000000014,
          -0.014152631466268453,
          -0.010559692570303248,
          0.02698619733343031,
          0.10406388914846124,
          -0.019141139687509866,
          -0.3256718642114045,
          -0.015687592620147475,
          -0.01612345372047068,
          -0.015687592620147475,
          0.013580397425783632,
          -0.015687592620147475,
          -0.014611910593531058,
          0.10475228745193423,
          -0.016146871747410082,
          0.059430291823604195,
          -0.008539769293852372,
          -0.01612345372047068,
          -0.020017765875504582,
          1,
          0.027686251581031645,
          0.047381449112350114,
          -0.019384695626541496,
          -0.012387474075005211,
          -0.019997746500556152,
          -0.014883067372161891,
          -0.012740450930346892,
          -0.014152631466268453,
          -0.020017765875504582,
          -0.014611910593531058,
          -0.01953395668869051,
          0.9885589108670672,
          -0.016146871747410082,
          -0.01292148149398906,
          -0.01603751357327148,
          -0.020017765875504582,
          -0.01953395668869051,
          -0.01637105502415227,
          -0.016146871747410082,
          -0.015687592620147475,
          0.05375003838356241,
          -0.020000000000000014,
          -0.014015036372233235,
          -0.016146871747410082,
          -0.016146871747410082,
          -0.006859268768290977,
          -0.015687592620147475,
          -0.009921492728247484,
          -0.020017765875504582,
          -0.008539769293852374,
          0.8315370258446722,
          1,
          0.957577655155482,
          -0.014426559695254908,
          -0.020017765875504582,
          0.8235404154782177,
          -0.015687592620147475,
          0.2251379648551666,
          -0.014741051607763032,
          0.5514202345167228,
          0.016529124521313145,
          -0.01958602268612226,
          -0.008539769293852374,
          -0.008539769293852372,
          0.6517420568152208,
          -0.0031706889940738155,
          -0.015294775618966836,
          -0.015687592620147475,
          -0.01953395668869051,
          -0.016146871747410082,
          -0.006415959777281236,
          -0.016146871747410082,
          1,
          0.09340375218538256,
          0.02318583713910731,
          -0.02412975385137226,
          0.030899099155319302,
          -0.01320392490497101,
          -0.01958602268612226,
          -0.011801443336933417,
          -0.014152631466268453,
          -0.01968422442462379,
          -0.008539769293852372,
          0.02440506135058814,
          -0.015687592620147475,
          -0.01612345372047068,
          -0.24243010446866914,
          -0.016146871747410082,
          -0.015687592620147475,
          -0.019997288791598816,
          0.012058167088817375,
          -0.018969862991816352,
          0.05375003838356241,
          -0.015687592620147475,
          -0.015687592620147475,
          0.17912669175744506,
          -0.019384695626541496,
          -0.01603751357327148,
          0.9911093378788123,
          -0.020017765875504582,
          0.03502797256961556,
          -0.016146871747410082,
          0.014904426773991316,
          0.9498146485314801,
          -0.015687592620147475,
          1,
          -0.015687592620147475,
          0.5404790151918558,
          -0.008539769293852372,
          -0.016146871747410082,
          -0.6982657619047621,
          -0.014611910593531058,
          -0.015555474075005208,
          -1.0460000000000023,
          -0.008539769293852374,
          0.06832408046740779,
          -0.015687592620147475,
          -0.018969862991816352,
          -0.016146871747410082,
          -0.016146871747410082,
          -0.014152631466268453,
          0.16380714130789462,
          1,
          -0.001727570720820572,
          -0.014611910593531058,
          -0.01968422442462379,
          -0.015687592620147475,
          -0.01922010376091172,
          0.13824929277868178,
          -0.020017765875504582,
          -0.016146871747410082,
          -0.015687592620147475,
          -0.015687592620147475,
          -0.016146871747410082,
          -0.020017765875504582,
          -0.016271954488711583,
          0.005349815851871276,
          0.007388204600319105,
          -0.019997746500556152,
          0.007051455823011255,
          -0.014152631466268453,
          -0.015687592620147475,
          0.23759316593537194,
          -0.020000000000000014,
          -0.020000000000000014,
          1,
          -0.015687592620147475,
          1,
          0.023664974415820484,
          -0.020000000000000014,
          -0.008539769293852372,
          -0.011971916517318151,
          -0.014611910593531058,
          -0.01958602268612226,
          -0.01925248123524147,
          -0.011801443336933417,
          -0.013359050842013243,
          -0.016146871747410082,
          -0.011801443336933417,
          -0.019853174009874807,
          -0.006859268768290977,
          -0.020004317195152676,
          0.09068912528249476,
          -0.016146871747410082,
          0.9896196491228071,
          -0.008539769293852372,
          -0.015687592620147475,
          0.617246666666667,
          -0.016271954488711583,
          0.2892048806459579,
          0.39012826539504614,
          -0.016146871747410082,
          -0.015687592620147475,
          1,
          -0.014611910593531058,
          -0.01968422442462379,
          -0.016146871747410082,
          0.020468842866110427,
          1,
          -0.013359050842013243,
          0.8532816565101955,
          -0.010559692570303248,
          -0.015687592620147475,
          -0.013213667283948318,
          0.02693893723715839,
          -0.020017765875504582,
          -0.015687592620147475,
          0.12431169383932206,
          0.015785589922033116,
          -0.019384695626541496,
          -0.020000000000000014,
          -0.015687592620147475,
          -0.008539769293852372,
          -0.016146871747410082,
          -0.020000000000000014,
          -0.016271954488711583,
          -0.014611910593531058,
          -0.008539769293852372,
          0.0221019962363988,
          0.6517420568152208,
          -0.016146871747410082,
          -0.023545391982808157,
          -0.015687592620147475,
          1,
          -0.014611910593531058,
          0.029895924468652656,
          -0.01320392490497101,
          -0.014722655911328004,
          -0.015687592620147475,
          -0.015687592620147475,
          -0.01922010376091172,
          -0.016146871747410082,
          -0.010270770356801446,
          -0.016110005040118777,
          -0.020017765875504582,
          -0.01612345372047068,
          -0.016146871747410082,
          -0.019384695626541496,
          0.9995142857142858,
          0.05375003838356241,
          -0.018969862991816352,
          -0.014611910593531058,
          0.5439926154691038,
          -0.020000000000000014,
          1,
          -0.015687592620147475,
          -0.014611910593531058,
          -0.01953395668869051,
          -0.019840290986835464,
          0.015785589922033116,
          0.9663968471659973,
          -0.016146871747410082,
          -0.014611910593531058,
          0.6017607704517703,
          -0.01320392490497101,
          -0.015687592620147475,
          1,
          0.12172237210792325,
          0.8806302125127003,
          -0.008539769293852372,
          -0.014152631466268453,
          -0.015687592620147475,
          -0.011801443336933417,
          -0.016146871747410082,
          -0.013175128283090688,
          -0.014152631466268453,
          0.020468842866110427,
          -0.015687592620147475,
          -0.016146871747410082,
          -0.01958602268612226,
          -0.015687592620147475,
          -1.0078801827723354,
          -0.014968152616008595,
          -0.010559692570303248,
          0.02698619733343031,
          -0.015427431743271196,
          -0.016146871747410082,
          -0.01612345372047068,
          0.08972131603919388,
          -0.7658302399822402,
          0.0004605809406509023,
          -0.014611910593531058,
          0.2230336785545155,
          -0.006859268768290977,
          -0.015687592620147475,
          -0.010730049484064053,
          0.8628905614517117,
          0.030899099155319302,
          -0.015687592620147475,
          -0.01968422442462379,
          -0.01936467625159307,
          0.9482533773717249,
          0.361327168792768,
          -0.016731233615974186,
          -0.007500917119939329,
          -0.015687592620147475,
          -0.016731233615974186,
          -0.006859268768290977,
          1,
          0.019181082608242358,
          -1.0460000000000023,
          -0.01958602268612226,
          -0.014611910593531058,
          -0.011971916517318151,
          -0.016146871747410082,
          -0.016146871747410082,
          -0.012556278385882257,
          -0.019074677561427902,
          -0.019857502011215028,
          0.6517420568152208,
          -0.014611910593531058,
          1,
          -0.008539769293852372,
          -0.016146871747410082,
          0.16374258411995335,
          -0.015687592620147475,
          -0.015687592620147475,
          -0.014611910593531058,
          1,
          -0.014611910593531058,
          -0.015687592620147475,
          -0.016271954488711583,
          -0.020004317195152676,
          -0.014611910593531058,
          -0.015687592620147475,
          0.9540594123686178,
          -0.020000000000000014,
          -0.015687592620147475,
          0.12403592948497243,
          -0.015687592620147475,
          -0.014611910593531058,
          -0.016146871747410082,
          0.013580397425783632,
          0.08473715830701799,
          0.01440680042311624,
          -0.014611910593531058,
          -1.0460000000000023,
          1,
          -0.018960216575124627,
          -0.016146871747410082,
          -0.01612345372047068,
          -0.01320392490497101,
          -0.012462202366726453,
          0.005356765004413649,
          -0.9771001827723351,
          0.9995142857142858,
          -0.014611910593531058,
          -0.011934261605615783,
          0.9000896476506699,
          -0.008539769293852372,
          -0.008539769293852372,
          -0.05022643411296233,
          -0.015687592620147475,
          0.7808469605394606,
          -0.01878801813879206,
          -0.015687592620147475,
          -0.012424612514718,
          0.6570286694780332,
          -0.020000000000000014,
          -0.015687592620147475,
          -0.016146871747410082,
          -0.013213667283948318,
          -0.019997288791598816,
          -0.015687592620147475,
          0.0221019962363988,
          0.030899099155319302,
          -0.014152631466268453,
          -0.01958602268612226,
          -0.011801443336933417,
          1,
          -0.016146871747410082,
          -0.015687592620147475,
          0.03345052485312836,
          -0.013359050842013243,
          0.2287943452211822,
          -0.016146871747410082,
          -0.016146871747410082,
          0.32913235293292137,
          -0.014152631466268453,
          0.60233562164278,
          -0.015687592620147475,
          -0.015687592620147475,
          0.023117301092720074,
          -0.015687592620147475,
          -0.016146871747410082,
          -0.015427431743271196,
          -0.014611910593531058,
          -0.015687592620147475,
          0.23396148807832506,
          1,
          -0.01637105502415227,
          0.9812829877788115,
          0.12403592948497243,
          -0.020000000000000014,
          -0.01998429782020425,
          -0.01999816539091634,
          -0.016146871747410082,
          -0.015687592620147475,
          -0.013213667283948318,
          -0.008539769293852372,
          -0.015687592620147475,
          1,
          0.32527521007577853,
          -0.008539769293852372,
          0.029896827694459106,
          0.43545407816840176,
          1,
          -0.019853174009874807,
          -0.016146871747410082,
          0.05375003838356241,
          0.01701938927992856,
          -1.0460000000000023,
          -0.016146871747410082,
          -0.015687592620147475,
          -0.008539769293852372,
          1,
          -0.014968152616008595,
          0.1108543023589616,
          -0.019997746500556152,
          0.030899099155319302,
          -0.020000000000000014,
          -0.020000000000000014,
          -0.015687592620147475,
          0.02440506135058814,
          -0.016146871747410082,
          -0.016146871747410082,
          -0.016146871747410082,
          0.9913228443721585,
          -0.015687592620147475,
          -0.015687592620147475,
          0.9482533773717249,
          1,
          -0.015687592620147475,
          -0.013798029152512426,
          -0.01873000561763651,
          -0.010559692570303248,
          -0.015687592620147475,
          0.02698619733343031,
          -0.015687592620147475,
          0.01132409031383227,
          -0.015687592620147475,
          -0.019853174009874807,
          -0.015687592620147475,
          0.8806302125127003,
          0.08588982746210234,
          -0.008539769293852372,
          0.10188329408965854,
          -0.01953395668869051,
          -0.015687592620147475,
          -0.016146871747410082,
          -0.016146871747410082,
          1,
          -0.015687592620147475,
          -0.020000000000000014,
          -0.013359050842013243,
          -0.014152631466268453,
          -0.013359050842013243,
          -0.01855660960632806,
          -0.019853174009874807,
          -0.016146871747410082,
          -0.014611910593531058,
          -0.015687592620147475,
          -0.015687592620147475,
          0.6831144205064383,
          0.12403592948497243,
          -0.019141139687509866,
          -0.014281772480500426,
          -0.014152631466268453,
          -0.18649532379680683,
          -0.020000000000000014,
          -0.015687592620147475,
          -0.015687592620147475,
          -0.020000000000000014,
          -0.01612345372047068,
          -0.018949843616867922,
          -0.020017765875504582,
          -0.018969862991816352,
          -0.015687592620147475,
          0.035610905058296415,
          -0.016146871747410082,
          -0.014611910593531058,
          -0.015687592620147475,
          -0.01320392490497101,
          -0.01953395668869051,
          -0.014152631466268453,
          0.41065607570115004,
          -0.020017765875504582,
          -0.011801443336933417,
          -0.014611910593531058,
          -0.2352599805546594,
          -0.015687592620147475,
          -0.016146871747410082,
          -0.018969862991816352,
          -0.012387474075005211,
          0.9482533773717249,
          0.9482533773717249,
          -0.015687592620147475,
          -0.011801443336933417,
          -0.01861630216598713,
          -0.015687592620147475,
          0.01798719852322941,
          -0.008539769293852372,
          -0.01603751357327148,
          -0.015687592620147475,
          1,
          -0.012320198668100205,
          -0.019384695626541496,
          -0.01968422442462379,
          -0.020000000000000014,
          1,
          -0.020017765875504582,
          -0.014611910593531058,
          1,
          1,
          -0.014611910593531058,
          -0.008464791696133145,
          -0.012418019108124598,
          0.07017480871007863,
          -0.014883067372161891,
          -0.012281171803084284,
          -0.016146871747410082,
          -0.016146871747410082,
          0.15861943153365918,
          0.1414846118974478,
          -0.016146871747410082,
          -0.020017765875504582,
          -0.011971916517318151,
          0.1740071413078946,
          -0.020000000000000014,
          -0.020017765875504582,
          -0.015687592620147475,
          -0.01873000561763651,
          0.017573606242141004,
          0.012123322458136408,
          -0.014611910593531058,
          -0.020000000000000014,
          -0.015687592620147475,
          1,
          -0.014152631466268453,
          -0.015687592620147475,
          -0.016146871747410082,
          -0.015687592620147475,
          -0.016146871747410082,
          -0.020000000000000014,
          -0.016146871747410082,
          -0.016146871747410082,
          0.0019105186546472868,
          -0.008539769293852372,
          -0.011801443336933417,
          -0.00512251564714952,
          1,
          1,
          0.035610905058296415,
          -0.016146871747410082,
          -0.015687592620147475,
          1,
          -0.01612345372047068,
          -0.018969862991816352,
          -0.011061797679844929,
          -0.016146871747410082,
          -0.015687592620147475,
          -0.044384009625734154,
          -0.019997746500556152,
          -0.015687592620147475,
          0.3291998247447019,
          -0.012839903304363787,
          -0.014968152616008595,
          0.030899099155319302,
          -0.013359050842013243,
          -0.015687592620147475,
          -0.01603751357327148,
          -0.008539769293852372,
          -0.015687592620147475,
          0.01798719852322941,
          0.013580397425783632,
          -0.015687592620147475,
          -0.015687592620147475,
          -0.01612345372047068,
          0.017573606242141004,
          -0.016146871747410082,
          -0.016146871747410082,
          -0.015687592620147475,
          -0.016146871747410082,
          0.04569501739813325,
          0.017540559343944558,
          1,
          0.035610905058296415,
          -0.016146871747410082,
          0.2287943452211822,
          -0.014611910593531058,
          -0.008539769293852374,
          1,
          -0.01958602268612226,
          -0.015687592620147475,
          -0.01968422442462379,
          -0.016146871747410082,
          0.9068094721081138,
          -0.014611910593531058,
          -0.011801443336933417,
          -0.01320392490497101,
          -0.019997746500556152,
          -0.016146871747410082,
          -0.015687592620147475,
          1,
          -0.010115865133331025,
          -0.015687592620147475,
          -0.008539769293852372,
          -0.014611910593531058,
          -0.044384009625734154,
          -0.020017765875504582,
          -0.01575405474622944,
          -0.020000000000000014,
          -0.008539769293852372,
          1,
          1,
          -0.014152631466268453,
          -0.015687592620147475,
          -1.0460000000000023,
          -0.01238062417710118,
          -0.016146871747410082,
          -0.016146871747410082,
          0.9728836670156937,
          -0.014611910593531058,
          -0.016146871747410082,
          -0.019853174009874807,
          0.012058167088817375,
          1,
          0.08739062535053216,
          1,
          -0.015687592620147475,
          -0.016146871747410082,
          -0.013359050842013243,
          -0.014611910593531058,
          -0.016146871747410082,
          -0.015403245780851414,
          -0.01320392490497101,
          -0.015687592620147475,
          -0.020017765875504582,
          -0.020017765875504582,
          0.37992826539504626,
          0.461926909489063,
          -0.015687592620147475,
          0.6573669022140993,
          0.10188329408965854,
          1,
          -0.015687592620147475,
          -0.010559692570303248,
          0.9959946491228071,
          -0.015687592620147475,
          0.005686564629179125,
          -0.014152631466268453,
          -0.044384009625734154,
          -0.020017765875504582,
          -0.01127734140749623,
          -0.016146871747410082,
          0.027856548023311736,
          -0.013359050842013243,
          -0.014152631466268453,
          -0.014152631466268453,
          -0.012462202366726453,
          -0.01603751357327148,
          0.021250758072513892,
          -0.014611910593531058,
          0.9995142857142858,
          -0.016146871747410082,
          -0.015687592620147475,
          -0.020004317195152676,
          -0.015687592620147475,
          -0.015687592620147475,
          -0.015687592620147475,
          -0.016146871747410082,
          0.08739062535053216,
          1,
          0.9896196491228071,
          0.08473715830701799,
          -0.015687592620147475,
          -0.008539769293852372,
          -0.015687592620147475,
          -0.015687592620147475,
          -0.015687592620147475,
          -0.014883067372161891,
          0.9090260175626592,
          0.461926909489063,
          -0.016146871747410082,
          0.13251428571428586,
          1,
          0.019181082608242358,
          -0.014152631466268453,
          -0.014611910593531058,
          -0.014968152616008595,
          0.48014693996564395,
          -0.015687592620147475,
          0.605920119047618,
          -0.008539769293852372,
          -0.016146871747410082,
          -0.020000000000000014,
          -0.019384695626541496,
          -0.019833154634926378,
          -0.016271954488711583,
          -0.011971916517318151,
          0.03446644317133298,
          -0.01968422442462379,
          1,
          -0.011971916517318151,
          0.03345052485312836,
          -0.016146871747410082,
          -0.014611910593531058,
          -0.015687592620147475,
          -0.015687592620147475,
          -0.008539769293852372,
          0.035610905058296415,
          -0.019997746500556152,
          -0.019384695626541496,
          -0.016146871747410082,
          0.19856435431023697,
          -0.011801443336933417,
          -1.0460000000000023,
          -0.010559692570303248,
          0.08473715830701799,
          0.008013752825741962,
          -0.015512863248795123,
          -0.014611910593531058,
          -0.013359050842013243,
          -0.015687592620147475,
          1,
          -0.015687592620147475,
          -0.010559692570303248,
          0.2816847484209246,
          -0.014152631466268453,
          0.019181082608242358,
          -0.01873000561763651,
          -0.016146871747410082,
          0.010484497581932761,
          0.9392326631160697,
          -0.016146871747410082,
          1,
          -0.020017765875504582,
          0.008013752825741962,
          1,
          -0.020017765875504582,
          -0.012281171803084284,
          -0.020000000000000014,
          -0.010559692570303248,
          -0.016146871747410082,
          -0.020017765875504582,
          -0.006859268768290977,
          -0.007500917119939329,
          -0.01612345372047068,
          -0.016146871747410082,
          -0.01958602268612226,
          -0.015687592620147475,
          -0.020017765875504582,
          -1.0460000000000023,
          -0.01320392490497101,
          -0.014152631466268453,
          -0.015687592620147475,
          -0.016146871747410082,
          0.08473715830701799,
          -0.013836788589528765,
          -0.019997746500556152,
          -0.014611910593531058,
          0.013580397425783632,
          -0.015687592620147475,
          -0.020017765875504582,
          0.23396148807832506,
          -0.016146871747410082,
          0.32901796343353173,
          0.0032175706110610268,
          0.481925569283468,
          -0.01427536867313257,
          0.2816847484209246,
          -0.014611910593531058,
          -0.014611910593531058,
          -0.008539769293852372,
          -0.015687592620147475,
          -0.016146871747410082,
          0.10406388914846124,
          -0.016146871747410082,
          0.035610905058296415,
          -0.011352481088858071,
          -0.01855660960632806,
          0.10406388914846124,
          0.005686564629179125,
          -0.014611910593531058,
          -0.004251036144342572,
          -0.014611910593531058,
          -0.014152631466268453,
          1,
          -0.020017765875504582,
          0.02693893723715839,
          0.8235404154782177,
          0.013580397425783632,
          -0.014611910593531058,
          -0.01637105502415227,
          -0.1953626621990207,
          -0.015687592620147475,
          0.12403592948497243,
          -0.01968422442462379,
          -0.019051154175660705,
          -0.016146871747410082,
          0.015785589922033116,
          0.08739062535053216,
          -0.020017765875504582,
          -0.01603751357327148,
          0.12403592948497243,
          -0.016146871747410082,
          -0.01953395668869051,
          -0.014611910593531058,
          -0.020000000000000014,
          -0.020017765875504582,
          -0.0193589128663105,
          -0.016146871747410082,
          0.02693893723715839,
          -0.012555895113689597,
          -0.019384695626541496,
          -0.019853174009874807,
          -0.0030753920050950027,
          0.08739062535053216,
          0.023117301092720074,
          -0.008539769293852372,
          -0.014611910593531058,
          0.05955029182360418,
          -0.015403245780851414,
          0.8235404154782177,
          -0.012387474075005211,
          -0.020017765875504582,
          -0.012839903304363787,
          -0.015687592620147475,
          -0.015687592620147475,
          -0.016146871747410082,
          -1.0168756300366317,
          -0.01320392490497101,
          0.9995142857142858,
          -0.015687592620147475,
          1,
          -0.008539769293852372,
          -0.01953395668869051,
          -0.015687592620147475,
          -0.015294775618966836,
          -0.014611910593531058,
          -0.01855660960632806,
          -0.014611910593531058,
          -0.0193589128663105,
          -0.019997746500556152,
          -0.008539769293852372,
          -0.01953395668869051,
          -0.016146871747410082,
          -0.014152631466268453,
          -0.7640972399822402,
          1,
          -0.014611910593531058,
          0.9482533773717249,
          0.030899099155319302,
          -0.016146871747410082,
          0.012058167088817375,
          -0.014611910593531058,
          -0.014152631466268453,
          -0.016146871747410082,
          0.01701938927992856,
          0.16756130974299205,
          -0.01968422442462379,
          -0.016146871747410082,
          -0.015687592620147475,
          -0.015687592620147475,
          -0.012424612514718,
          -0.01603751357327148,
          -0.007500917119939329,
          -0.015687592620147475,
          0.7720514315455179,
          0.406188956653531,
          -0.016271954488711583,
          0.0221019962363988,
          -0.015687592620147475,
          -0.016146871747410082,
          0.9995142857142858,
          0.8409661042749679,
          1,
          -0.008539769293852372,
          1,
          -0.01968422442462379,
          -0.006859268768290977,
          1,
          -0.044384009625734154,
          -0.020387921922626933,
          0.15496306789729553,
          0.012058167088817375,
          0.7720514315455179,
          -0.023634375761137104,
          -0.9872764633699647,
          -0.015687592620147475,
          -0.016146871747410082,
          -0.014611910593531058,
          -0.014611910593531058,
          -0.013892470589392178,
          -0.01320392490497101,
          -0.015687592620147475,
          -0.020017765875504582,
          0.12431169383932206,
          -0.01922010376091172,
          -0.014611910593531058,
          -0.016146871747410082,
          -0.015687592620147475,
          0.991508298917613,
          1,
          -0.020052739149777832,
          -0.019074677561427902,
          -0.018814516684551624,
          -0.014611910593531058,
          0.7416120709616719,
          -0.011801443336933417,
          -0.012281171803084284,
          -0.01873000561763651,
          -0.015687592620147475,
          -0.015687592620147475,
          -0.008539769293852374,
          -0.008539769293852372,
          0.008013752825741962,
          -0.016146871747410082,
          0.9482533773717249,
          -0.023646921215682556,
          0.8806302125127003,
          -0.01376202946737948,
          -0.014152631466268453,
          0.05184856815996916,
          -0.015687592620147475,
          -0.012874125280205533,
          -0.015687592620147475,
          -0.020017765875504582,
          -0.019853174009874807,
          -0.016146871747410082,
          -0.018969862991816352,
          -0.020017765875504582,
          -0.01972546716637567,
          -0.014152631466268453,
          -0.010559692570303248,
          0.007058404975553628,
          -0.015687592620147475,
          -0.016146871747410082,
          0.406188956653531,
          1,
          -0.020000000000000014,
          -0.016146871747410082,
          -0.008539769293852372,
          -0.020017765875504582,
          0.7746680982121845,
          -0.015687592620147475,
          -0.06380133493901734,
          -0.0030753920050950027,
          -0.008539769293852372,
          -0.01968422442462379,
          0.9791109884888154,
          0.055895017398133275,
          -0.015687592620147475,
          0.0221019962363988,
          -0.010559692570303248,
          -0.02412975385137226,
          -0.020017765875504582,
          -0.016146871747410082,
          0.03345052485312836,
          0.05375003838356241,
          -0.18649532379680683,
          -0.016146871747410082,
          0.461926909489063,
          0.08473715830701799,
          0.9482533773717249,
          -0.016146871747410082,
          -0.015427431743271196,
          -0.01968422442462379,
          -0.01998429782020425,
          0.4577383380604917,
          -0.24228913418126233,
          -0.016146871747410082,
          0.008013752825741962,
          1,
          -0.0198397253295229,
          -0.018785251751238147,
          -0.0030753920050950027,
          -0.015687592620147475,
          -0.016146871747410082,
          -0.01968422442462379,
          0.9810281901901806,
          0.005356765004413649,
          -0.01320392490497101,
          -0.01953395668869051,
          -0.016146871747410082,
          1,
          0.0221019962363988,
          -0.014611910593531058,
          -0.015687592620147475,
          -0.015403245780851414,
          -0.014611910593531058,
          0.16682716061492056,
          -0.016146871747410082,
          -0.01968422442462379,
          1,
          -0.014152631466268453,
          -0.016146871747410082,
          -0.014611910593531058,
          -0.018969862991816352,
          -0.015687592620147475,
          0.9944810901844775,
          -0.014611910593531058,
          0.0221019962363988,
          -0.020000000000000014,
          0.9791109884888154,
          -0.017933245745324775,
          -0.014152631466268453,
          0.1643179509083409,
          -0.019051154175660705,
          -0.019853174009874807,
          -0.015687592620147475,
          -0.01320392490497101,
          -0.014611910593531058,
          -0.008539769293852372,
          0.016115389546798597,
          -0.020000000000000014,
          -0.014611910593531058,
          0.6496120568152207,
          -0.016146871747410082,
          -0.019384695626541496,
          0.48014693996564395,
          -1.0460000000000023,
          -0.014281772480500426,
          -0.015687592620147475,
          -0.015687592620147475,
          -0.016146871747410082,
          0.013580397425783632,
          -0.7768182118437121,
          -0.01953395668869051,
          0.02698710055923676,
          1,
          0.8027901393737895,
          -0.015687592620147475,
          0.9535991805676879,
          0.16380714130789462,
          -0.01953395668869051,
          -0.014611910593531058,
          -0.019997746500556152,
          -0.008539769293852372,
          -1.0460000000000023,
          0.6517420568152208,
          -0.014611910593531058,
          -0.014883067372161891,
          1,
          -0.014611910593531058,
          -0.013359050842013243,
          0.0221019962363988,
          0.08972131603919388,
          1,
          -0.015427431743271196,
          -0.01836112673806854,
          -0.015687592620147475,
          -0.014152631466268453,
          -0.015687592620147475,
          -0.011971916517318151,
          -0.010129218684114578,
          0.032734577632424336,
          0.035610905058296415,
          -0.014611910593531058,
          -0.015687592620147475,
          -0.020000000000000014,
          0.019181082608242358,
          -0.00925634576177708,
          -0.016146871747410082,
          -0.018814516684551624,
          -0.016146871747410082,
          0.9995142857142858,
          0.553735282230932,
          -0.020000000000000014,
          -0.020000000000000014,
          -0.007803066143950962,
          -0.015687592620147475,
          -0.019194321000680727,
          -0.013359050842013243,
          -0.014152631466268453,
          1,
          -0.014281772480500426,
          0.9325735356911444,
          -0.016146871747410082,
          1,
          0.40300910158106723,
          -0.013213667283948318,
          -0.01320392490497101,
          -0.014611910593531058,
          -0.013175128283090688,
          -0.01612345372047068,
          -0.019997746500556152,
          0.031987499210617776,
          -1.0460000000000023,
          -0.016146871747410082,
          0.017540559343944558,
          -0.01612345372047068,
          -0.015687592620147475,
          0.035610905058296415,
          -0.015687592620147475,
          -0.013359050842013243,
          -0.010559692570303248,
          1,
          0.02440506135058814,
          -0.015687592620147475,
          -0.020000000000000014,
          -0.01575405474622944,
          0.08739062535053216,
          -0.016146871747410082,
          -0.01603751357327148,
          -0.016146871747410082,
          -0.016271954488711583,
          -0.01958602268612226,
          -0.014611910593531058,
          -0.014611910593531058,
          -0.014611910593531058,
          -0.0030753920050950027,
          -0.011801443336933417,
          -0.011934261605615783,
          0.19271103940279924,
          -0.01320392490497101,
          -0.014281772480500426,
          1,
          -0.016146871747410082,
          0.16380714130789462,
          -0.011801443336933417,
          0.035610905058296415,
          0.9704089222886381,
          -0.015687592620147475,
          -0.015687592620147475,
          -0.008464791696133145,
          -0.016146871747410082,
          -0.015687592620147475,
          -0.020017765875504582,
          -0.006633741729192847,
          -0.015294775618966836,
          -0.018969862991816352,
          -0.008539769293852372,
          -0.6982657619047621,
          -0.016146871747410082,
          0.039661729161939635,
          -0.019997746500556152,
          -0.015687592620147475,
          -0.014611910593531058,
          1,
          1,
          0.28930779768523396,
          -0.020017765875504582,
          -0.015687592620147475,
          -0.014611910593531058,
          -0.014611910593531058,
          -0.020017765875504582,
          -0.015294775618966836,
          -0.015403245780851414,
          -0.015687592620147475,
          -0.015294775618966836,
          -0.014968152616008595,
          0.03502797256961556,
          -0.0198397253295229,
          -0.014722655911328004,
          -0.01958602268612226,
          -0.010559692570303248,
          -0.01953395668869051,
          -0.019141139687509866,
          -0.015687592620147475,
          -0.015687592620147475,
          -0.018949843616867922,
          0.2605118904594419,
          -0.020017765875504582,
          -0.058647414505119164,
          0.035610905058296415,
          -0.016146871747410082,
          -0.014281772480500426,
          -0.008539769293852376,
          -0.01427536867313257,
          -0.015687592620147475,
          -0.020017765875504582,
          -0.016146871747410082,
          -0.008539769293852372,
          -0.014152631466268453,
          -0.014611910593531058,
          -0.018949843616867922,
          -0.01320392490497101,
          -0.015687592620147475,
          -0.01376202946737948,
          -0.011971916517318151,
          -0.016146871747410082,
          -0.020017765875504582,
          0.0221019962363988,
          -0.015687592620147475,
          -0.015687592620147475,
          -0.01320392490497101,
          -0.020004317195152676,
          -0.014611910593531058,
          0.013580397425783632,
          -0.014611910593531058,
          -0.01863632154093556,
          0.605920119047618,
          -0.016146871747410082,
          0.49392008210398086,
          -0.01958602268612226,
          -0.013359050842013243,
          -0.015687592620147475,
          0.07017480871007863,
          0.48014693996564395,
          0.08739062535053216,
          -0.5848600000000005,
          -0.019853174009874807,
          -0.014611910593531058,
          0.8806302125127003,
          -0.2353777583324372,
          -0.01958602268612226,
          -0.015687592620147475,
          -0.016146871747410082,
          -0.015687592620147475,
          -0.008539769293852372,
          -0.008539769293852376,
          -0.015687592620147475,
          -0.004251036144342572,
          0.900263247679553,
          -0.014611910593531058,
          -0.016146871747410082,
          0.8532816565101955,
          -0.015687592620147475,
          1,
          -0.011801443336933417,
          -0.012424612514718,
          -0.016146871747410082,
          -0.015687592620147475,
          -0.013359050842013243,
          -0.019993895108403426,
          0.24887885208846328,
          0.9202460175626592,
          0.9889692823971271,
          -0.016146871747410082,
          0.02380153430901215,
          0.012123322458136408,
          1,
          -0.019997799685633633,
          -0.015687592620147475,
          -0.013213667283948318,
          -0.01958602268612226,
          -0.016146871747410082,
          -0.011971916517318151,
          1,
          -0.013029251217247769,
          -0.016146871747410082,
          -0.020017765875504582,
          -0.008539769293852372,
          0.9933707871541745,
          -0.0193589128663105,
          -0.016146871747410082,
          1,
          -0.019338893491362075,
          -0.015687592620147475,
          0.9610777533794223,
          -0.015687592620147475,
          -0.020000000000000014,
          -0.015687592620147475,
          0.9713361950159108,
          0.9810281901901806,
          -0.014611910593531058,
          -0.014611910593531058,
          0.641889208009946,
          0.6517420568152208,
          -0.013836788589528765,
          -0.018305954274025097,
          -0.014611910593531058,
          -0.020017765875504582,
          0.06511154939492358,
          -0.01953395668869051,
          -0.016146871747410082,
          -0.008539769293852374,
          -0.013175128283090688,
          -0.015687592620147475,
          0.9535991805676879,
          -0.1934726621990207,
          0.019181082608242358,
          -0.019997746500556152,
          1,
          0.37335409148200277,
          -0.019997746500556152,
          -0.016146871747410082,
          0.10188329408965854,
          -0.01320392490497101,
          1,
          -0.0016901757897971543,
          1,
          -0.015687592620147475,
          0.01701938927992856,
          -0.01612345372047068,
          -0.015687592620147475,
          -0.01968422442462379,
          -0.01873000561763651,
          -0.019997746500556152,
          -0.015687592620147475,
          -0.018969862991816352,
          0.9790321428571428,
          -0.014611910593531058,
          -0.015687592620147475,
          0.007058404975553628,
          -0.016146871747410082,
          0.16047716061492057,
          0.013580397425783632,
          0.09740798487747279,
          -0.015687592620147475,
          -0.011971916517318151,
          -0.015687592620147475,
          -0.015687592620147475,
          -0.013359050842013243,
          -0.014611910593531058,
          -0.006859268768290977,
          -0.014611910593531058,
          0.02693893723715839,
          -0.01320392490497101,
          -0.015687592620147475,
          -0.020017765875504582,
          1,
          0.05550493179633279,
          -0.01637105502415227,
          -0.01936467625159307,
          0.005356765004413649,
          -0.020017765875504582,
          -0.012874125280205533,
          -0.016146871747410082,
          -0.01320392490497101,
          -0.014611910593531058,
          -0.01873000561763651,
          0.6017607704517703,
          1,
          -0.010834285714285723,
          -0.014611910593531058,
          -0.011736620534758834,
          -0.020017765875504582,
          -0.016146871747410082,
          1,
          -0.020000000000000014,
          -0.020017765875504582,
          -0.019997746500556152,
          1,
          -0.014611910593531058,
          0.00898156206904282,
          -0.014177625345971091,
          0.05550493179633279,
          -0.011801443336933417,
          -0.01958602268612226,
          -0.015687592620147475,
          -0.008539769293852372,
          -0.020017765875504582,
          -0.016146871747410082,
          0.6911234276978212,
          -0.015687592620147475,
          -0.015687592620147475,
          -0.015687592620147475,
          -0.011801443336933417,
          -0.015687592620147475,
          -0.015687592620147475,
          -0.015687592620147475,
          -0.2624558393094675,
          -0.023046897864915924,
          0.48014693996564395,
          0.012058167088817375,
          -0.018965979960407192,
          0.02006319386937028,
          -0.01603751357327148,
          -0.016146871747410082,
          0.1740071413078946,
          -0.012281171803084284,
          -0.014611910593531058,
          -0.014883067372161891,
          1,
          -0.015687592620147475,
          1,
          -0.016146871747410082,
          0.9006405614517118,
          0.019181082608242358,
          -0.015687592620147475,
          -0.020017765875504582,
          -0.015687592620147475,
          -0.012839903304363787,
          -0.020017765875504582,
          -0.012424612514718,
          -0.013175128283090688,
          -0.014741051607763032,
          -0.015687592620147475,
          -0.020017765875504582,
          -0.020017765875504582,
          -0.015687592620147475,
          -0.019338893491362075,
          -0.01320392490497101,
          -1.0460000000000023,
          -0.01612345372047068,
          -0.020017765875504582,
          0.5151248979433466,
          -0.006859268768290977,
          -0.014611910593531058,
          0.031987499210617776,
          -0.013175128283090688,
          0.24044581399322518,
          -0.008539769293852372,
          -0.016146871747410082,
          -0.010559692570303248,
          -0.014152631466268453,
          -0.019997746500556152,
          -0.014152631466268453,
          -0.019853174009874807,
          -0.016146871747410082,
          0.8785002125127002,
          -0.015687592620147475,
          1,
          0.05375003838356241,
          -0.01953395668869051,
          -0.016146871747410082,
          -0.020017765875504582,
          0.37862667418556206,
          1,
          -0.012740450930346892,
          0.0056796154766367525,
          -0.015687592620147475,
          -0.013359050842013243,
          -0.015294775618966836,
          -0.015687592620147475,
          -0.020000000000000014,
          -0.016146871747410082,
          -0.015687592620147475,
          -0.020000000000000014,
          -0.016146871747410082,
          -0.008539769293852372,
          0.12403592948497243,
          0.967777655155482,
          -0.020017765875504582,
          1,
          -0.019338893491362075,
          -0.014611910593531058,
          -0.4523275365921009,
          -0.010559692570303248,
          -0.013175128283090688,
          0.0005763550141070662,
          0.0221019962363988,
          0.05375003838356241,
          -0.016146871747410082,
          -1.0460000000000023,
          -0.019997746500556152,
          0.035610905058296415,
          1,
          0.10305674512093972,
          0.7419030742620035,
          1,
          -0.014152631466268453,
          0.8352054376083012,
          -0.011801443336933417,
          -0.008539769293852372,
          -0.013359050842013243,
          -0.01320392490497101,
          -0.012874125280205533,
          -0.020017765875504582,
          0.3931083066410253,
          -0.015687592620147475,
          -0.01320392490497101,
          0.035610905058296415,
          -0.0193589128663105,
          -0.015687592620147475,
          0.10039592576097014,
          -0.008539769293852372,
          -0.014611910593531058,
          0.008013752825741962,
          -0.020000000000000014,
          -0.06774845346615813,
          0.9933707871541745,
          -0.01320392490497101,
          0.08972131603919388,
          -0.014152631466268453,
          -0.014152631466268453,
          0.013580397425783632,
          -0.018768037958019238,
          -0.020017765875504582,
          -0.015687592620147475,
          -0.01958602268612226,
          -0.016146871747410082,
          -0.01953395668869051,
          0.6067094631136449,
          -0.015687592620147475,
          -0.011801443336933417,
          0.0027335536812339097,
          -0.015687592620147475,
          0.3696888428093645,
          1,
          0.4199339308807904,
          -0.018960216575124627,
          -0.29521165433768254,
          -0.022197156688690507,
          -0.022197156688690507,
          -0.01320392490497101,
          0.45868796937191797,
          -0.01320392490497101,
          -0.020017765875504582,
          1,
          -0.019997746500556152,
          -0.015687592620147475,
          -0.016146871747410082,
          -0.016146871747410082,
          -0.020000000000000014,
          -0.015687592620147475,
          -0.02308611285554555,
          -0.01953395668869051,
          0.019181082608242358,
          -0.020017765875504582,
          1,
          -0.015687592620147475,
          -0.015687592620147475,
          1,
          -0.01958602268612226,
          0.023117301092720074,
          -0.019997746500556152,
          -0.019384695626541496,
          -0.007565036372233237,
          0.035610905058296415,
          -0.014152631466268453,
          -0.008539769293852372,
          -0.010559692570303248,
          -0.01427536867313257,
          0.017573606242141004,
          -0.008539769293852372,
          0.17643596595474545,
          1,
          -0.015687592620147475,
          -0.01421909359235042,
          -0.016146871747410082,
          -0.013836788589528765,
          -0.016146871747410082,
          -0.012424612514718,
          -0.007535633330470053,
          -0.0191743016257323,
          -0.015687592620147475,
          -0.010559692570303248,
          -0.015687592620147475,
          -0.015687592620147475,
          -0.007565036372233237,
          0.6517420568152208,
          -0.015687592620147475,
          -0.016146871747410082,
          0.8418778868363006,
          0.08473715830701799,
          -0.016146871747410082,
          -0.011971916517318151,
          -0.014611910593531058,
          -0.011801443336933417,
          -0.015427431743271196,
          -0.016146871747410082,
          -0.010834285714285723,
          -0.01320392490497101,
          1,
          -0.01320392490497101,
          -0.010834285714285723,
          -0.019670775744271885,
          -0.01968422442462379,
          0.019787381356645074,
          -0.020000000000000014,
          -0.015687592620147475,
          0.6456582720135979,
          0.23396148807832506,
          -0.014152631466268453,
          -0.015687592620147475,
          0.6676478294043813,
          -0.015687592620147475,
          -0.015687592620147475,
          -0.015687592620147475,
          -0.020017765875504582,
          0.034994925671419125,
          0.9535991805676879,
          -0.016146871747410082,
          -0.016146871747410082,
          -0.01953395668869051,
          -0.012242655911328011,
          -0.010559692570303248,
          -0.020017765875504582,
          -0.016146871747410082,
          -0.01320392490497101,
          -1.0460000000000023,
          0.03093214605351575,
          -0.011971916517318151,
          -0.016146871747410082,
          -0.015687592620147475,
          -0.014611910593531058,
          -0.014968152616008595,
          0.9913228443721585,
          -0.015687592620147475,
          0.02698619733343031,
          -0.01958602268612226,
          -1.0078801827723354,
          -0.016146871747410082,
          -0.005976935923522555,
          0.019181082608242358,
          0.413111131591129,
          -0.008539769293852372,
          -0.016146871747410082,
          -0.01320392490497101,
          -0.020017765875504582,
          -0.020017765875504582,
          -0.015687592620147475,
          0.07017480871007863,
          0.18250982728158718,
          -0.015687592620147475,
          -0.020000000000000014,
          -0.0030753920050950027,
          -0.01968422442462379,
          1,
          1,
          -0.016146871747410082,
          -0.015687592620147475,
          -0.015687592620147475,
          -0.014611910593531058,
          -0.018969862991816352,
          -0.01238062417710118,
          -0.01320392490497101,
          -0.01637105502415227,
          -0.016146871747410082,
          0.2493699001673003,
          -0.014968152616008595,
          -0.01575405474622944,
          -0.0028142857142857193,
          -0.016146871747410082,
          0.02701924423162676,
          1,
          1,
          -0.015687592620147475,
          0.10116986816373263,
          -0.020004317195152676,
          -0.016146871747410082,
          1,
          0.21691720796628022,
          -0.010559692570303248,
          0.13756762881785017,
          -0.015687592620147475,
          -0.012387474075005211,
          -0.3256718642114045,
          -1.0460000000000023,
          -0.01998429782020425,
          -0.013359050842013243,
          -0.008539769293852374,
          -0.06380133493901734,
          -0.020000000000000014,
          -0.01637105502415227,
          -0.01603751357327148,
          -0.019997746500556152,
          1,
          0.5439926154691038,
          -0.020017765875504582,
          1,
          0.9392326631160697,
          -0.015687592620147475,
          -0.010559692570303248,
          -0.016271954488711583,
          -0.01320392490497101,
          0.406188956653531,
          -0.019997746500556152,
          0.010484497581932761,
          -0.008539769293852372,
          -0.020017765875504582,
          -0.014152631466268453,
          0.16208951336691707,
          -0.014611910593531058,
          -0.01958602268612226,
          -0.019997746500556152,
          -0.016731233615974186,
          -0.011117260788084012,
          -0.015687592620147475,
          0.4615742394161933,
          0.017573606242141004,
          -0.016146871747410082,
          -0.01953395668869051,
          1,
          -0.014968152616008595,
          0.02698619733343031,
          -0.005467776035264129,
          0.2287943452211822,
          -0.24361331388799276,
          1,
          -0.018785251751238147,
          -0.056818668272350686,
          -0.016146871747410082,
          0.8235404154782177,
          -0.0019294697055917227,
          -0.00925634576177708,
          -0.0019294697055917227,
          -0.013175128283090688,
          0.16380714130789462,
          0.02440506135058814,
          -0.01320392490497101,
          -0.015687592620147475,
          0.10406388914846124,
          -0.015687592620147475,
          -0.01637105502415227,
          -0.014611910593531058,
          -0.008539769293852372,
          -0.016146871747410082,
          -0.008539769293852372,
          0.6517420568152208,
          -0.016146871747410082,
          -0.01855660960632806,
          0.017540559343944558,
          -0.008539769293852372,
          -0.015500089859467391,
          -0.014611910593531058,
          -0.016146871747410082,
          0.8532816565101955,
          -0.020017765875504582,
          -0.014611910593531058,
          -0.020017765875504582,
          0.34236476636744007,
          -0.013175128283090688,
          -0.016731233615974186,
          -0.013175128283090688,
          0.3045423024278709,
          -0.015687592620147475,
          -0.011801443336933417,
          0.9535991805676879,
          0.012130271610678782,
          -0.006859268768290977,
          -0.008539769293852376,
          -0.01855660960632806,
          -0.016146871747410082,
          0.00789830819387512,
          -0.015687592620147475,
          0.017540559343944558,
          -0.014611910593531058,
          -0.018969862991816352,
          -0.015403245780851414,
          -0.006859268768290977,
          -0.019623591022193073,
          0.5525743106767321,
          -0.010731998055079453,
          0.2596799141292377,
          -0.01953395668869051,
          -0.014611910593531058,
          -0.015687592620147475,
          -0.0019294697055917227,
          -0.020017765875504582,
          0.08302505131727232,
          -0.016146871747410082,
          -0.014611910593531058,
          -0.015687592620147475,
          -0.016731233615974186,
          -0.24228913418126233,
          0.005356765004413649,
          -0.016146871747410082,
          0.1740071413078946,
          -0.01968422442462379,
          1,
          -0.016146871747410082,
          -0.01421909359235042,
          -0.015687592620147475,
          -0.015687592620147475,
          1,
          -0.016146871747410082,
          -0.016146871747410082,
          0.6048413333333332,
          0.015785589922033116,
          -0.020017765875504582,
          -0.01427536867313257,
          -0.014611910593531058,
          -0.01958602268612226,
          -0.1934726621990207,
          -0.015427431743271196,
          -0.016146871747410082,
          -0.020017765875504582,
          -0.015687592620147475,
          1,
          -0.020017765875504582,
          -0.01603751357327148,
          1,
          -0.01969487377527314,
          -0.010559692570303248,
          0.12520312109114157,
          0.9192260175626593,
          0.01798719852322941,
          -0.016146871747410082,
          0.9998196491228071,
          -0.016146871747410082,
          0.012453122082901886,
          -0.016146871747410082,
          -0.01637105502415227,
          -0.014611910593531058,
          -0.01320392490497101,
          0.03635046161682429,
          1,
          -0.016146871747410082,
          -0.015687592620147475,
          0.030899099155319302,
          -0.01968422442462379,
          -0.015687592620147475,
          -0.015687592620147475,
          0.9995142857142858,
          -0.019853174009874807,
          -0.016146871747410082,
          -0.020017765875504582,
          -0.020017765875504582,
          -0.016146871747410082,
          -0.006859268768290977,
          -0.016146871747410082,
          -0.016731233615974186,
          -0.01320392490497101,
          -0.015687592620147475,
          -0.014611910593531058,
          0.02693893723715839,
          -0.018805271126186573,
          1,
          0.10188329408965854,
          0.9998196491228071,
          -0.014611910593531058,
          0.05326331454660418,
          0.8315370258446722,
          -0.01612345372047068,
          -0.014611910593531058,
          0.059430291823604195,
          -0.016146871747410082,
          -0.01958602268612226,
          -0.014611910593531058,
          0.012058167088817375,
          -0.014611910593531058,
          0.005356765004413649,
          -0.020017765875504582,
          -0.008539769293852374,
          1,
          -0.015687592620147475,
          -0.019997746500556152,
          -0.016146871747410082,
          -0.015687592620147475,
          -0.019650756369323463,
          -0.012839903304363787,
          -0.015687592620147475,
          -0.019853174009874807,
          1,
          1,
          -0.016146871747410082,
          -0.014611910593531058,
          1,
          -0.020000000000000014,
          -0.008539769293852372,
          1,
          -0.014611910593531058,
          -0.008539769293852372,
          -0.016146871747410082,
          -0.008539769293852372,
          0.005686564629179125,
          -0.014611910593531058,
          -0.015687592620147475,
          -0.008539769293852372,
          -0.24054010446866914,
          0.030899099155319302,
          -0.016146871747410082,
          -0.006859268768290977,
          -0.015687592620147475,
          0.029928971366849105,
          0.3577705103262411,
          -0.014611910593531058,
          -0.016146871747410082,
          0.9206298817704035,
          -0.020017765875504582,
          1,
          -0.014152631466268453,
          -1.0460000000000023,
          -0.016146871747410082,
          -0.020017765875504582,
          -0.023545391982808157,
          -0.014611910593531058,
          -0.0191743016257323,
          -0.015687592620147475,
          -0.016271954488711583,
          -0.01167855031645185,
          -0.015687592620147475,
          -0.014611910593531058,
          -0.015687592620147475,
          0.9663968471659973,
          0.16380714130789462,
          -0.016146871747410082,
          -0.020017765875504582,
          0.005686564629179125,
          -0.020017765875504582,
          -0.019194321000680727,
          -0.016146871747410082,
          -0.015687592620147475,
          -0.020000000000000014,
          -0.006859268768290977,
          -0.019853174009874807,
          -0.020017765875504582,
          1,
          -0.014611910593531058,
          0.6517420568152208,
          -0.008539769293852372,
          0.6517420568152208,
          -0.014968152616008595,
          -0.016146871747410082,
          -0.016146871747410082,
          -0.015687592620147475,
          -0.010559692570303248,
          -0.0193589128663105,
          -0.016146871747410082,
          -0.020000000000000014,
          -0.015687592620147475,
          1,
          -0.020000000000000014,
          0.718432830642014,
          -0.014152631466268453,
          -0.014611910593531058,
          -0.6982657619047621,
          0.08972131603919388,
          -0.020000000000000014,
          1,
          -0.015687592620147475,
          -0.01958602268612226,
          -0.019997746500556152,
          -0.020000000000000014,
          -0.015687592620147475
         ],
         "xaxis": "x",
         "yaxis": "y"
        }
       ],
       "layout": {
        "barmode": "relative",
        "legend": {
         "tracegroupgap": 0
        },
        "template": {
         "data": {
          "bar": [
           {
            "error_x": {
             "color": "rgb(51,51,51)"
            },
            "error_y": {
             "color": "rgb(51,51,51)"
            },
            "marker": {
             "line": {
              "color": "rgb(237,237,237)",
              "width": 0.5
             }
            },
            "type": "bar"
           }
          ],
          "barpolar": [
           {
            "marker": {
             "line": {
              "color": "rgb(237,237,237)",
              "width": 0.5
             }
            },
            "type": "barpolar"
           }
          ],
          "carpet": [
           {
            "aaxis": {
             "endlinecolor": "rgb(51,51,51)",
             "gridcolor": "white",
             "linecolor": "white",
             "minorgridcolor": "white",
             "startlinecolor": "rgb(51,51,51)"
            },
            "baxis": {
             "endlinecolor": "rgb(51,51,51)",
             "gridcolor": "white",
             "linecolor": "white",
             "minorgridcolor": "white",
             "startlinecolor": "rgb(51,51,51)"
            },
            "type": "carpet"
           }
          ],
          "choropleth": [
           {
            "colorbar": {
             "outlinewidth": 0,
             "tickcolor": "rgb(237,237,237)",
             "ticklen": 6,
             "ticks": "inside"
            },
            "type": "choropleth"
           }
          ],
          "contour": [
           {
            "colorbar": {
             "outlinewidth": 0,
             "tickcolor": "rgb(237,237,237)",
             "ticklen": 6,
             "ticks": "inside"
            },
            "colorscale": [
             [
              0,
              "rgb(20,44,66)"
             ],
             [
              1,
              "rgb(90,179,244)"
             ]
            ],
            "type": "contour"
           }
          ],
          "contourcarpet": [
           {
            "colorbar": {
             "outlinewidth": 0,
             "tickcolor": "rgb(237,237,237)",
             "ticklen": 6,
             "ticks": "inside"
            },
            "type": "contourcarpet"
           }
          ],
          "heatmap": [
           {
            "colorbar": {
             "outlinewidth": 0,
             "tickcolor": "rgb(237,237,237)",
             "ticklen": 6,
             "ticks": "inside"
            },
            "colorscale": [
             [
              0,
              "rgb(20,44,66)"
             ],
             [
              1,
              "rgb(90,179,244)"
             ]
            ],
            "type": "heatmap"
           }
          ],
          "heatmapgl": [
           {
            "colorbar": {
             "outlinewidth": 0,
             "tickcolor": "rgb(237,237,237)",
             "ticklen": 6,
             "ticks": "inside"
            },
            "colorscale": [
             [
              0,
              "rgb(20,44,66)"
             ],
             [
              1,
              "rgb(90,179,244)"
             ]
            ],
            "type": "heatmapgl"
           }
          ],
          "histogram": [
           {
            "marker": {
             "colorbar": {
              "outlinewidth": 0,
              "tickcolor": "rgb(237,237,237)",
              "ticklen": 6,
              "ticks": "inside"
             }
            },
            "type": "histogram"
           }
          ],
          "histogram2d": [
           {
            "colorbar": {
             "outlinewidth": 0,
             "tickcolor": "rgb(237,237,237)",
             "ticklen": 6,
             "ticks": "inside"
            },
            "colorscale": [
             [
              0,
              "rgb(20,44,66)"
             ],
             [
              1,
              "rgb(90,179,244)"
             ]
            ],
            "type": "histogram2d"
           }
          ],
          "histogram2dcontour": [
           {
            "colorbar": {
             "outlinewidth": 0,
             "tickcolor": "rgb(237,237,237)",
             "ticklen": 6,
             "ticks": "inside"
            },
            "colorscale": [
             [
              0,
              "rgb(20,44,66)"
             ],
             [
              1,
              "rgb(90,179,244)"
             ]
            ],
            "type": "histogram2dcontour"
           }
          ],
          "mesh3d": [
           {
            "colorbar": {
             "outlinewidth": 0,
             "tickcolor": "rgb(237,237,237)",
             "ticklen": 6,
             "ticks": "inside"
            },
            "type": "mesh3d"
           }
          ],
          "parcoords": [
           {
            "line": {
             "colorbar": {
              "outlinewidth": 0,
              "tickcolor": "rgb(237,237,237)",
              "ticklen": 6,
              "ticks": "inside"
             }
            },
            "type": "parcoords"
           }
          ],
          "pie": [
           {
            "automargin": true,
            "type": "pie"
           }
          ],
          "scatter": [
           {
            "marker": {
             "colorbar": {
              "outlinewidth": 0,
              "tickcolor": "rgb(237,237,237)",
              "ticklen": 6,
              "ticks": "inside"
             }
            },
            "type": "scatter"
           }
          ],
          "scatter3d": [
           {
            "line": {
             "colorbar": {
              "outlinewidth": 0,
              "tickcolor": "rgb(237,237,237)",
              "ticklen": 6,
              "ticks": "inside"
             }
            },
            "marker": {
             "colorbar": {
              "outlinewidth": 0,
              "tickcolor": "rgb(237,237,237)",
              "ticklen": 6,
              "ticks": "inside"
             }
            },
            "type": "scatter3d"
           }
          ],
          "scattercarpet": [
           {
            "marker": {
             "colorbar": {
              "outlinewidth": 0,
              "tickcolor": "rgb(237,237,237)",
              "ticklen": 6,
              "ticks": "inside"
             }
            },
            "type": "scattercarpet"
           }
          ],
          "scattergeo": [
           {
            "marker": {
             "colorbar": {
              "outlinewidth": 0,
              "tickcolor": "rgb(237,237,237)",
              "ticklen": 6,
              "ticks": "inside"
             }
            },
            "type": "scattergeo"
           }
          ],
          "scattergl": [
           {
            "marker": {
             "colorbar": {
              "outlinewidth": 0,
              "tickcolor": "rgb(237,237,237)",
              "ticklen": 6,
              "ticks": "inside"
             }
            },
            "type": "scattergl"
           }
          ],
          "scattermapbox": [
           {
            "marker": {
             "colorbar": {
              "outlinewidth": 0,
              "tickcolor": "rgb(237,237,237)",
              "ticklen": 6,
              "ticks": "inside"
             }
            },
            "type": "scattermapbox"
           }
          ],
          "scatterpolar": [
           {
            "marker": {
             "colorbar": {
              "outlinewidth": 0,
              "tickcolor": "rgb(237,237,237)",
              "ticklen": 6,
              "ticks": "inside"
             }
            },
            "type": "scatterpolar"
           }
          ],
          "scatterpolargl": [
           {
            "marker": {
             "colorbar": {
              "outlinewidth": 0,
              "tickcolor": "rgb(237,237,237)",
              "ticklen": 6,
              "ticks": "inside"
             }
            },
            "type": "scatterpolargl"
           }
          ],
          "scatterternary": [
           {
            "marker": {
             "colorbar": {
              "outlinewidth": 0,
              "tickcolor": "rgb(237,237,237)",
              "ticklen": 6,
              "ticks": "inside"
             }
            },
            "type": "scatterternary"
           }
          ],
          "surface": [
           {
            "colorbar": {
             "outlinewidth": 0,
             "tickcolor": "rgb(237,237,237)",
             "ticklen": 6,
             "ticks": "inside"
            },
            "colorscale": [
             [
              0,
              "rgb(20,44,66)"
             ],
             [
              1,
              "rgb(90,179,244)"
             ]
            ],
            "type": "surface"
           }
          ],
          "table": [
           {
            "cells": {
             "fill": {
              "color": "rgb(237,237,237)"
             },
             "line": {
              "color": "white"
             }
            },
            "header": {
             "fill": {
              "color": "rgb(217,217,217)"
             },
             "line": {
              "color": "white"
             }
            },
            "type": "table"
           }
          ]
         },
         "layout": {
          "annotationdefaults": {
           "arrowhead": 0,
           "arrowwidth": 1
          },
          "autotypenumbers": "strict",
          "coloraxis": {
           "colorbar": {
            "outlinewidth": 0,
            "tickcolor": "rgb(237,237,237)",
            "ticklen": 6,
            "ticks": "inside"
           }
          },
          "colorscale": {
           "sequential": [
            [
             0,
             "rgb(20,44,66)"
            ],
            [
             1,
             "rgb(90,179,244)"
            ]
           ],
           "sequentialminus": [
            [
             0,
             "rgb(20,44,66)"
            ],
            [
             1,
             "rgb(90,179,244)"
            ]
           ]
          },
          "colorway": [
           "#F8766D",
           "#A3A500",
           "#00BF7D",
           "#00B0F6",
           "#E76BF3"
          ],
          "font": {
           "color": "rgb(51,51,51)"
          },
          "geo": {
           "bgcolor": "white",
           "lakecolor": "white",
           "landcolor": "rgb(237,237,237)",
           "showlakes": true,
           "showland": true,
           "subunitcolor": "white"
          },
          "hoverlabel": {
           "align": "left"
          },
          "hovermode": "closest",
          "paper_bgcolor": "white",
          "plot_bgcolor": "rgb(237,237,237)",
          "polar": {
           "angularaxis": {
            "gridcolor": "white",
            "linecolor": "white",
            "showgrid": true,
            "tickcolor": "rgb(51,51,51)",
            "ticks": "outside"
           },
           "bgcolor": "rgb(237,237,237)",
           "radialaxis": {
            "gridcolor": "white",
            "linecolor": "white",
            "showgrid": true,
            "tickcolor": "rgb(51,51,51)",
            "ticks": "outside"
           }
          },
          "scene": {
           "xaxis": {
            "backgroundcolor": "rgb(237,237,237)",
            "gridcolor": "white",
            "gridwidth": 2,
            "linecolor": "white",
            "showbackground": true,
            "showgrid": true,
            "tickcolor": "rgb(51,51,51)",
            "ticks": "outside",
            "zerolinecolor": "white"
           },
           "yaxis": {
            "backgroundcolor": "rgb(237,237,237)",
            "gridcolor": "white",
            "gridwidth": 2,
            "linecolor": "white",
            "showbackground": true,
            "showgrid": true,
            "tickcolor": "rgb(51,51,51)",
            "ticks": "outside",
            "zerolinecolor": "white"
           },
           "zaxis": {
            "backgroundcolor": "rgb(237,237,237)",
            "gridcolor": "white",
            "gridwidth": 2,
            "linecolor": "white",
            "showbackground": true,
            "showgrid": true,
            "tickcolor": "rgb(51,51,51)",
            "ticks": "outside",
            "zerolinecolor": "white"
           }
          },
          "shapedefaults": {
           "fillcolor": "black",
           "line": {
            "width": 0
           },
           "opacity": 0.3
          },
          "ternary": {
           "aaxis": {
            "gridcolor": "white",
            "linecolor": "white",
            "showgrid": true,
            "tickcolor": "rgb(51,51,51)",
            "ticks": "outside"
           },
           "baxis": {
            "gridcolor": "white",
            "linecolor": "white",
            "showgrid": true,
            "tickcolor": "rgb(51,51,51)",
            "ticks": "outside"
           },
           "bgcolor": "rgb(237,237,237)",
           "caxis": {
            "gridcolor": "white",
            "linecolor": "white",
            "showgrid": true,
            "tickcolor": "rgb(51,51,51)",
            "ticks": "outside"
           }
          },
          "xaxis": {
           "automargin": true,
           "gridcolor": "white",
           "linecolor": "white",
           "showgrid": true,
           "tickcolor": "rgb(51,51,51)",
           "ticks": "outside",
           "title": {
            "standoff": 15
           },
           "zerolinecolor": "white"
          },
          "yaxis": {
           "automargin": true,
           "gridcolor": "white",
           "linecolor": "white",
           "showgrid": true,
           "tickcolor": "rgb(51,51,51)",
           "ticks": "outside",
           "title": {
            "standoff": 15
           },
           "zerolinecolor": "white"
          }
         }
        },
        "title": {
         "text": "Test Predicted Emotion Range"
        },
        "xaxis": {
         "anchor": "y",
         "domain": [
          0,
          1
         ],
         "title": {
          "text": "Predicted Emotion Strength"
         }
        },
        "yaxis": {
         "anchor": "x",
         "domain": [
          0,
          1
         ],
         "title": {
          "text": "count"
         }
        }
       }
      }
     },
     "metadata": {}
    }
   ],
   "source": [
    "y_hat = regr.predict(X_test)\n",
    "fig = px.histogram(x=y_hat,\n",
    "                   title='Test Predicted Emotion Range',\n",
    "                   labels={'x': 'Predicted Emotion Strength'},\n",
    "                   template='ggplot2')\n",
    "fig.show()"
   ]
  },
  {
   "source": [
    "## Emotion RPM versus Neutral RPM"
   ],
   "cell_type": "markdown",
   "metadata": {}
  },
  {
   "cell_type": "code",
   "execution_count": 189,
   "metadata": {},
   "outputs": [
    {
     "output_type": "stream",
     "name": "stderr",
     "text": [
      "<ipython-input-189-00c71d8ab964>:19: UserWarning:\n\nMatplotlib is currently using module://ipykernel.pylab.backend_inline, which is a non-GUI backend, so cannot show the figure.\n\n"
     ]
    },
    {
     "output_type": "display_data",
     "data": {
      "text/plain": "<Figure size 432x288 with 4 Axes>",
      "image/svg+xml": "<?xml version=\"1.0\" encoding=\"utf-8\" standalone=\"no\"?>\n<!DOCTYPE svg PUBLIC \"-//W3C//DTD SVG 1.1//EN\"\n  \"http://www.w3.org/Graphics/SVG/1.1/DTD/svg11.dtd\">\n<svg height=\"269.275125pt\" version=\"1.1\" viewBox=\"0 0 382.367645 269.275125\" width=\"382.367645pt\" xmlns=\"http://www.w3.org/2000/svg\" xmlns:xlink=\"http://www.w3.org/1999/xlink\">\n <metadata>\n  <rdf:RDF xmlns:cc=\"http://creativecommons.org/ns#\" xmlns:dc=\"http://purl.org/dc/elements/1.1/\" xmlns:rdf=\"http://www.w3.org/1999/02/22-rdf-syntax-ns#\">\n   <cc:Work>\n    <dc:type rdf:resource=\"http://purl.org/dc/dcmitype/StillImage\"/>\n    <dc:date>2021-05-11T18:19:50.709011</dc:date>\n    <dc:format>image/svg+xml</dc:format>\n    <dc:creator>\n     <cc:Agent>\n      <dc:title>Matplotlib v3.4.2, https://matplotlib.org/</dc:title>\n     </cc:Agent>\n    </dc:creator>\n   </cc:Work>\n  </rdf:RDF>\n </metadata>\n <defs>\n  <style type=\"text/css\">*{stroke-linecap:butt;stroke-linejoin:round;}</style>\n </defs>\n <g id=\"figure_1\">\n  <g id=\"patch_1\">\n   <path d=\"M 0 269.275125 \nL 382.367645 269.275125 \nL 382.367645 0 \nL 0 0 \nz\n\" style=\"fill:none;\"/>\n  </g>\n  <g id=\"axes_1\">\n   <g id=\"patch_2\">\n    <path d=\"M 39.01375 123.889926 \nL 191.195568 123.889926 \nL 191.195568 25.053563 \nL 39.01375 25.053563 \nz\n\" style=\"fill:#ffffff;\"/>\n   </g>\n   <g id=\"patch_3\">\n    <path clip-path=\"url(#pb06099690b)\" d=\"M 45.931105 123.889926 \nL 55.813042 123.889926 \nL 55.813042 123.889926 \nL 45.931105 123.889926 \nz\n\" style=\"fill:#1f77b4;opacity:0.5;\"/>\n   </g>\n   <g id=\"patch_4\">\n    <path clip-path=\"url(#pb06099690b)\" d=\"M 55.813042 123.889926 \nL 65.694978 123.889926 \nL 65.694978 123.889926 \nL 55.813042 123.889926 \nz\n\" style=\"fill:#1f77b4;opacity:0.5;\"/>\n   </g>\n   <g id=\"patch_5\">\n    <path clip-path=\"url(#pb06099690b)\" d=\"M 65.694978 123.889926 \nL 75.576914 123.889926 \nL 75.576914 122.811515 \nL 65.694978 122.811515 \nz\n\" style=\"fill:#1f77b4;opacity:0.5;\"/>\n   </g>\n   <g id=\"patch_6\">\n    <path clip-path=\"url(#pb06099690b)\" d=\"M 75.576914 123.889926 \nL 85.45885 123.889926 \nL 85.45885 116.032932 \nL 75.576914 116.032932 \nz\n\" style=\"fill:#1f77b4;opacity:0.5;\"/>\n   </g>\n   <g id=\"patch_7\">\n    <path clip-path=\"url(#pb06099690b)\" d=\"M 85.45885 123.889926 \nL 95.340787 123.889926 \nL 95.340787 115.262639 \nL 85.45885 115.262639 \nz\n\" style=\"fill:#1f77b4;opacity:0.5;\"/>\n   </g>\n   <g id=\"patch_8\">\n    <path clip-path=\"url(#pb06099690b)\" d=\"M 95.340787 123.889926 \nL 105.222723 123.889926 \nL 105.222723 122.19528 \nL 95.340787 122.19528 \nz\n\" style=\"fill:#1f77b4;opacity:0.5;\"/>\n   </g>\n   <g id=\"patch_9\">\n    <path clip-path=\"url(#pb06099690b)\" d=\"M 105.222723 123.889926 \nL 115.104659 123.889926 \nL 115.104659 115.570756 \nL 105.222723 115.570756 \nz\n\" style=\"fill:#1f77b4;opacity:0.5;\"/>\n   </g>\n   <g id=\"patch_10\">\n    <path clip-path=\"url(#pb06099690b)\" d=\"M 115.104659 123.889926 \nL 124.986595 123.889926 \nL 124.986595 115.724815 \nL 115.104659 115.724815 \nz\n\" style=\"fill:#1f77b4;opacity:0.5;\"/>\n   </g>\n   <g id=\"patch_11\">\n    <path clip-path=\"url(#pb06099690b)\" d=\"M 124.986595 123.889926 \nL 134.868532 123.889926 \nL 134.868532 29.760056 \nL 124.986595 29.760056 \nz\n\" style=\"fill:#1f77b4;opacity:0.5;\"/>\n   </g>\n   <g id=\"patch_12\">\n    <path clip-path=\"url(#pb06099690b)\" d=\"M 134.868532 123.889926 \nL 144.750468 123.889926 \nL 144.750468 43.163164 \nL 134.868532 43.163164 \nz\n\" style=\"fill:#1f77b4;opacity:0.5;\"/>\n   </g>\n   <g id=\"patch_13\">\n    <path clip-path=\"url(#pb06099690b)\" d=\"M 144.750468 123.889926 \nL 154.632404 123.889926 \nL 154.632404 49.017394 \nL 144.750468 49.017394 \nz\n\" style=\"fill:#1f77b4;opacity:0.5;\"/>\n   </g>\n   <g id=\"patch_14\">\n    <path clip-path=\"url(#pb06099690b)\" d=\"M 154.632404 123.889926 \nL 164.51434 123.889926 \nL 164.51434 38.541402 \nL 154.632404 38.541402 \nz\n\" style=\"fill:#1f77b4;opacity:0.5;\"/>\n   </g>\n   <g id=\"patch_15\">\n    <path clip-path=\"url(#pb06099690b)\" d=\"M 164.51434 123.889926 \nL 174.396277 123.889926 \nL 174.396277 96.159359 \nL 164.51434 96.159359 \nz\n\" style=\"fill:#1f77b4;opacity:0.5;\"/>\n   </g>\n   <g id=\"patch_16\">\n    <path clip-path=\"url(#pb06099690b)\" d=\"M 174.396277 123.889926 \nL 184.278213 123.889926 \nL 184.278213 67.812557 \nL 174.396277 67.812557 \nz\n\" style=\"fill:#1f77b4;opacity:0.5;\"/>\n   </g>\n   <g id=\"patch_17\">\n    <path clip-path=\"url(#pb06099690b)\" d=\"M 45.931105 123.889926 \nL 55.813042 123.889926 \nL 55.813042 123.889926 \nL 45.931105 123.889926 \nz\n\" style=\"fill:#ff7f0e;opacity:0.5;\"/>\n   </g>\n   <g id=\"patch_18\">\n    <path clip-path=\"url(#pb06099690b)\" d=\"M 55.813042 123.889926 \nL 65.694978 123.889926 \nL 65.694978 123.889926 \nL 55.813042 123.889926 \nz\n\" style=\"fill:#ff7f0e;opacity:0.5;\"/>\n   </g>\n   <g id=\"patch_19\">\n    <path clip-path=\"url(#pb06099690b)\" d=\"M 65.694978 123.889926 \nL 75.576914 123.889926 \nL 75.576914 122.349339 \nL 65.694978 122.349339 \nz\n\" style=\"fill:#ff7f0e;opacity:0.5;\"/>\n   </g>\n   <g id=\"patch_20\">\n    <path clip-path=\"url(#pb06099690b)\" d=\"M 75.576914 123.889926 \nL 85.45885 123.889926 \nL 85.45885 56.72033 \nL 75.576914 56.72033 \nz\n\" style=\"fill:#ff7f0e;opacity:0.5;\"/>\n   </g>\n   <g id=\"patch_21\">\n    <path clip-path=\"url(#pb06099690b)\" d=\"M 85.45885 123.889926 \nL 95.340787 123.889926 \nL 95.340787 89.842952 \nL 85.45885 89.842952 \nz\n\" style=\"fill:#ff7f0e;opacity:0.5;\"/>\n   </g>\n   <g id=\"patch_22\">\n    <path clip-path=\"url(#pb06099690b)\" d=\"M 95.340787 123.889926 \nL 105.222723 123.889926 \nL 105.222723 60.109621 \nL 95.340787 60.109621 \nz\n\" style=\"fill:#ff7f0e;opacity:0.5;\"/>\n   </g>\n   <g id=\"patch_23\">\n    <path clip-path=\"url(#pb06099690b)\" d=\"M 105.222723 123.889926 \nL 115.104659 123.889926 \nL 115.104659 100.473003 \nL 105.222723 100.473003 \nz\n\" style=\"fill:#ff7f0e;opacity:0.5;\"/>\n   </g>\n   <g id=\"patch_24\">\n    <path clip-path=\"url(#pb06099690b)\" d=\"M 115.104659 123.889926 \nL 124.986595 123.889926 \nL 124.986595 101.397355 \nL 115.104659 101.397355 \nz\n\" style=\"fill:#ff7f0e;opacity:0.5;\"/>\n   </g>\n   <g id=\"patch_25\">\n    <path clip-path=\"url(#pb06099690b)\" d=\"M 124.986595 123.889926 \nL 134.868532 123.889926 \nL 134.868532 118.035695 \nL 124.986595 118.035695 \nz\n\" style=\"fill:#ff7f0e;opacity:0.5;\"/>\n   </g>\n   <g id=\"patch_26\">\n    <path clip-path=\"url(#pb06099690b)\" d=\"M 134.868532 123.889926 \nL 144.750468 123.889926 \nL 144.750468 45.628103 \nL 134.868532 45.628103 \nz\n\" style=\"fill:#ff7f0e;opacity:0.5;\"/>\n   </g>\n   <g id=\"patch_27\">\n    <path clip-path=\"url(#pb06099690b)\" d=\"M 144.750468 123.889926 \nL 154.632404 123.889926 \nL 154.632404 102.321707 \nL 144.750468 102.321707 \nz\n\" style=\"fill:#ff7f0e;opacity:0.5;\"/>\n   </g>\n   <g id=\"patch_28\">\n    <path clip-path=\"url(#pb06099690b)\" d=\"M 154.632404 123.889926 \nL 164.51434 123.889926 \nL 164.51434 81.67784 \nL 154.632404 81.67784 \nz\n\" style=\"fill:#ff7f0e;opacity:0.5;\"/>\n   </g>\n   <g id=\"patch_29\">\n    <path clip-path=\"url(#pb06099690b)\" d=\"M 164.51434 123.889926 \nL 174.396277 123.889926 \nL 174.396277 88.764541 \nL 164.51434 88.764541 \nz\n\" style=\"fill:#ff7f0e;opacity:0.5;\"/>\n   </g>\n   <g id=\"patch_30\">\n    <path clip-path=\"url(#pb06099690b)\" d=\"M 174.396277 123.889926 \nL 184.278213 123.889926 \nL 184.278213 68.890968 \nL 174.396277 68.890968 \nz\n\" style=\"fill:#ff7f0e;opacity:0.5;\"/>\n   </g>\n   <g id=\"matplotlib.axis_1\">\n    <g id=\"xtick_1\">\n     <g id=\"line2d_1\">\n      <defs>\n       <path d=\"M 0 0 \nL 0 3.5 \n\" id=\"mc971ceec89\" style=\"stroke:#000000;stroke-width:0.8;\"/>\n      </defs>\n      <g>\n       <use style=\"stroke:#000000;stroke-width:0.8;\" x=\"92.046808\" xlink:href=\"#mc971ceec89\" y=\"123.889926\"/>\n      </g>\n     </g>\n     <g id=\"text_1\">\n      <!-- 10 -->\n      <g transform=\"translate(83.775558 140.767895)scale(0.13 -0.13)\">\n       <defs>\n        <path d=\"M 794 531 \nL 1825 531 \nL 1825 4091 \nL 703 3866 \nL 703 4441 \nL 1819 4666 \nL 2450 4666 \nL 2450 531 \nL 3481 531 \nL 3481 0 \nL 794 0 \nL 794 531 \nz\n\" id=\"DejaVuSans-31\" transform=\"scale(0.015625)\"/>\n        <path d=\"M 2034 4250 \nQ 1547 4250 1301 3770 \nQ 1056 3291 1056 2328 \nQ 1056 1369 1301 889 \nQ 1547 409 2034 409 \nQ 2525 409 2770 889 \nQ 3016 1369 3016 2328 \nQ 3016 3291 2770 3770 \nQ 2525 4250 2034 4250 \nz\nM 2034 4750 \nQ 2819 4750 3233 4129 \nQ 3647 3509 3647 2328 \nQ 3647 1150 3233 529 \nQ 2819 -91 2034 -91 \nQ 1250 -91 836 529 \nQ 422 1150 422 2328 \nQ 422 3509 836 4129 \nQ 1250 4750 2034 4750 \nz\n\" id=\"DejaVuSans-30\" transform=\"scale(0.015625)\"/>\n       </defs>\n       <use xlink:href=\"#DejaVuSans-31\"/>\n       <use x=\"63.623047\" xlink:href=\"#DejaVuSans-30\"/>\n      </g>\n     </g>\n    </g>\n    <g id=\"xtick_2\">\n     <g id=\"line2d_2\">\n      <g>\n       <use style=\"stroke:#000000;stroke-width:0.8;\" x=\"184.278213\" xlink:href=\"#mc971ceec89\" y=\"123.889926\"/>\n      </g>\n     </g>\n     <g id=\"text_2\">\n      <!-- 20 -->\n      <g transform=\"translate(176.006963 140.767895)scale(0.13 -0.13)\">\n       <defs>\n        <path d=\"M 1228 531 \nL 3431 531 \nL 3431 0 \nL 469 0 \nL 469 531 \nQ 828 903 1448 1529 \nQ 2069 2156 2228 2338 \nQ 2531 2678 2651 2914 \nQ 2772 3150 2772 3378 \nQ 2772 3750 2511 3984 \nQ 2250 4219 1831 4219 \nQ 1534 4219 1204 4116 \nQ 875 4013 500 3803 \nL 500 4441 \nQ 881 4594 1212 4672 \nQ 1544 4750 1819 4750 \nQ 2544 4750 2975 4387 \nQ 3406 4025 3406 3419 \nQ 3406 3131 3298 2873 \nQ 3191 2616 2906 2266 \nQ 2828 2175 2409 1742 \nQ 1991 1309 1228 531 \nz\n\" id=\"DejaVuSans-32\" transform=\"scale(0.015625)\"/>\n       </defs>\n       <use xlink:href=\"#DejaVuSans-32\"/>\n       <use x=\"63.623047\" xlink:href=\"#DejaVuSans-30\"/>\n      </g>\n     </g>\n    </g>\n   </g>\n   <g id=\"matplotlib.axis_2\">\n    <g id=\"ytick_1\">\n     <g id=\"line2d_3\">\n      <defs>\n       <path d=\"M 0 0 \nL -3.5 0 \n\" id=\"mb6d9862fba\" style=\"stroke:#000000;stroke-width:0.8;\"/>\n      </defs>\n      <g>\n       <use style=\"stroke:#000000;stroke-width:0.8;\" x=\"39.01375\" xlink:href=\"#mb6d9862fba\" y=\"123.889926\"/>\n      </g>\n     </g>\n     <g id=\"text_3\">\n      <!-- 0 -->\n      <g transform=\"translate(23.7425 128.828911)scale(0.13 -0.13)\">\n       <use xlink:href=\"#DejaVuSans-30\"/>\n      </g>\n     </g>\n    </g>\n    <g id=\"ytick_2\">\n     <g id=\"line2d_4\">\n      <g>\n       <use style=\"stroke:#000000;stroke-width:0.8;\" x=\"39.01375\" xlink:href=\"#mb6d9862fba\" y=\"85.375249\"/>\n      </g>\n     </g>\n     <g id=\"text_4\">\n      <!-- 250 -->\n      <g transform=\"translate(7.2 90.314234)scale(0.13 -0.13)\">\n       <defs>\n        <path d=\"M 691 4666 \nL 3169 4666 \nL 3169 4134 \nL 1269 4134 \nL 1269 2991 \nQ 1406 3038 1543 3061 \nQ 1681 3084 1819 3084 \nQ 2600 3084 3056 2656 \nQ 3513 2228 3513 1497 \nQ 3513 744 3044 326 \nQ 2575 -91 1722 -91 \nQ 1428 -91 1123 -41 \nQ 819 9 494 109 \nL 494 744 \nQ 775 591 1075 516 \nQ 1375 441 1709 441 \nQ 2250 441 2565 725 \nQ 2881 1009 2881 1497 \nQ 2881 1984 2565 2268 \nQ 2250 2553 1709 2553 \nQ 1456 2553 1204 2497 \nQ 953 2441 691 2322 \nL 691 4666 \nz\n\" id=\"DejaVuSans-35\" transform=\"scale(0.015625)\"/>\n       </defs>\n       <use xlink:href=\"#DejaVuSans-32\"/>\n       <use x=\"63.623047\" xlink:href=\"#DejaVuSans-35\"/>\n       <use x=\"127.246094\" xlink:href=\"#DejaVuSans-30\"/>\n      </g>\n     </g>\n    </g>\n    <g id=\"ytick_3\">\n     <g id=\"line2d_5\">\n      <g>\n       <use style=\"stroke:#000000;stroke-width:0.8;\" x=\"39.01375\" xlink:href=\"#mb6d9862fba\" y=\"46.860573\"/>\n      </g>\n     </g>\n     <g id=\"text_5\">\n      <!-- 500 -->\n      <g transform=\"translate(7.2 51.799557)scale(0.13 -0.13)\">\n       <use xlink:href=\"#DejaVuSans-35\"/>\n       <use x=\"63.623047\" xlink:href=\"#DejaVuSans-30\"/>\n       <use x=\"127.246094\" xlink:href=\"#DejaVuSans-30\"/>\n      </g>\n     </g>\n    </g>\n   </g>\n   <g id=\"patch_31\">\n    <path d=\"M 39.01375 123.889926 \nL 39.01375 25.053563 \n\" style=\"fill:none;stroke:#000000;stroke-linecap:square;stroke-linejoin:miter;stroke-width:0.8;\"/>\n   </g>\n   <g id=\"patch_32\">\n    <path d=\"M 191.195568 123.889926 \nL 191.195568 25.053563 \n\" style=\"fill:none;stroke:#000000;stroke-linecap:square;stroke-linejoin:miter;stroke-width:0.8;\"/>\n   </g>\n   <g id=\"patch_33\">\n    <path d=\"M 39.01375 123.889926 \nL 191.195568 123.889926 \n\" style=\"fill:none;stroke:#000000;stroke-linecap:square;stroke-linejoin:miter;stroke-width:0.8;\"/>\n   </g>\n   <g id=\"patch_34\">\n    <path d=\"M 39.01375 25.053563 \nL 191.195568 25.053563 \n\" style=\"fill:none;stroke:#000000;stroke-linecap:square;stroke-linejoin:miter;stroke-width:0.8;\"/>\n   </g>\n   <g id=\"text_6\">\n    <!-- Happy v Neutral -->\n    <g transform=\"translate(51.574878 19.053563)scale(0.156 -0.156)\">\n     <defs>\n      <path d=\"M 628 4666 \nL 1259 4666 \nL 1259 2753 \nL 3553 2753 \nL 3553 4666 \nL 4184 4666 \nL 4184 0 \nL 3553 0 \nL 3553 2222 \nL 1259 2222 \nL 1259 0 \nL 628 0 \nL 628 4666 \nz\n\" id=\"DejaVuSans-48\" transform=\"scale(0.015625)\"/>\n      <path d=\"M 2194 1759 \nQ 1497 1759 1228 1600 \nQ 959 1441 959 1056 \nQ 959 750 1161 570 \nQ 1363 391 1709 391 \nQ 2188 391 2477 730 \nQ 2766 1069 2766 1631 \nL 2766 1759 \nL 2194 1759 \nz\nM 3341 1997 \nL 3341 0 \nL 2766 0 \nL 2766 531 \nQ 2569 213 2275 61 \nQ 1981 -91 1556 -91 \nQ 1019 -91 701 211 \nQ 384 513 384 1019 \nQ 384 1609 779 1909 \nQ 1175 2209 1959 2209 \nL 2766 2209 \nL 2766 2266 \nQ 2766 2663 2505 2880 \nQ 2244 3097 1772 3097 \nQ 1472 3097 1187 3025 \nQ 903 2953 641 2809 \nL 641 3341 \nQ 956 3463 1253 3523 \nQ 1550 3584 1831 3584 \nQ 2591 3584 2966 3190 \nQ 3341 2797 3341 1997 \nz\n\" id=\"DejaVuSans-61\" transform=\"scale(0.015625)\"/>\n      <path d=\"M 1159 525 \nL 1159 -1331 \nL 581 -1331 \nL 581 3500 \nL 1159 3500 \nL 1159 2969 \nQ 1341 3281 1617 3432 \nQ 1894 3584 2278 3584 \nQ 2916 3584 3314 3078 \nQ 3713 2572 3713 1747 \nQ 3713 922 3314 415 \nQ 2916 -91 2278 -91 \nQ 1894 -91 1617 61 \nQ 1341 213 1159 525 \nz\nM 3116 1747 \nQ 3116 2381 2855 2742 \nQ 2594 3103 2138 3103 \nQ 1681 3103 1420 2742 \nQ 1159 2381 1159 1747 \nQ 1159 1113 1420 752 \nQ 1681 391 2138 391 \nQ 2594 391 2855 752 \nQ 3116 1113 3116 1747 \nz\n\" id=\"DejaVuSans-70\" transform=\"scale(0.015625)\"/>\n      <path d=\"M 2059 -325 \nQ 1816 -950 1584 -1140 \nQ 1353 -1331 966 -1331 \nL 506 -1331 \nL 506 -850 \nL 844 -850 \nQ 1081 -850 1212 -737 \nQ 1344 -625 1503 -206 \nL 1606 56 \nL 191 3500 \nL 800 3500 \nL 1894 763 \nL 2988 3500 \nL 3597 3500 \nL 2059 -325 \nz\n\" id=\"DejaVuSans-79\" transform=\"scale(0.015625)\"/>\n      <path id=\"DejaVuSans-20\" transform=\"scale(0.015625)\"/>\n      <path d=\"M 191 3500 \nL 800 3500 \nL 1894 563 \nL 2988 3500 \nL 3597 3500 \nL 2284 0 \nL 1503 0 \nL 191 3500 \nz\n\" id=\"DejaVuSans-76\" transform=\"scale(0.015625)\"/>\n      <path d=\"M 628 4666 \nL 1478 4666 \nL 3547 763 \nL 3547 4666 \nL 4159 4666 \nL 4159 0 \nL 3309 0 \nL 1241 3903 \nL 1241 0 \nL 628 0 \nL 628 4666 \nz\n\" id=\"DejaVuSans-4e\" transform=\"scale(0.015625)\"/>\n      <path d=\"M 3597 1894 \nL 3597 1613 \nL 953 1613 \nQ 991 1019 1311 708 \nQ 1631 397 2203 397 \nQ 2534 397 2845 478 \nQ 3156 559 3463 722 \nL 3463 178 \nQ 3153 47 2828 -22 \nQ 2503 -91 2169 -91 \nQ 1331 -91 842 396 \nQ 353 884 353 1716 \nQ 353 2575 817 3079 \nQ 1281 3584 2069 3584 \nQ 2775 3584 3186 3129 \nQ 3597 2675 3597 1894 \nz\nM 3022 2063 \nQ 3016 2534 2758 2815 \nQ 2500 3097 2075 3097 \nQ 1594 3097 1305 2825 \nQ 1016 2553 972 2059 \nL 3022 2063 \nz\n\" id=\"DejaVuSans-65\" transform=\"scale(0.015625)\"/>\n      <path d=\"M 544 1381 \nL 544 3500 \nL 1119 3500 \nL 1119 1403 \nQ 1119 906 1312 657 \nQ 1506 409 1894 409 \nQ 2359 409 2629 706 \nQ 2900 1003 2900 1516 \nL 2900 3500 \nL 3475 3500 \nL 3475 0 \nL 2900 0 \nL 2900 538 \nQ 2691 219 2414 64 \nQ 2138 -91 1772 -91 \nQ 1169 -91 856 284 \nQ 544 659 544 1381 \nz\nM 1991 3584 \nL 1991 3584 \nz\n\" id=\"DejaVuSans-75\" transform=\"scale(0.015625)\"/>\n      <path d=\"M 1172 4494 \nL 1172 3500 \nL 2356 3500 \nL 2356 3053 \nL 1172 3053 \nL 1172 1153 \nQ 1172 725 1289 603 \nQ 1406 481 1766 481 \nL 2356 481 \nL 2356 0 \nL 1766 0 \nQ 1100 0 847 248 \nQ 594 497 594 1153 \nL 594 3053 \nL 172 3053 \nL 172 3500 \nL 594 3500 \nL 594 4494 \nL 1172 4494 \nz\n\" id=\"DejaVuSans-74\" transform=\"scale(0.015625)\"/>\n      <path d=\"M 2631 2963 \nQ 2534 3019 2420 3045 \nQ 2306 3072 2169 3072 \nQ 1681 3072 1420 2755 \nQ 1159 2438 1159 1844 \nL 1159 0 \nL 581 0 \nL 581 3500 \nL 1159 3500 \nL 1159 2956 \nQ 1341 3275 1631 3429 \nQ 1922 3584 2338 3584 \nQ 2397 3584 2469 3576 \nQ 2541 3569 2628 3553 \nL 2631 2963 \nz\n\" id=\"DejaVuSans-72\" transform=\"scale(0.015625)\"/>\n      <path d=\"M 603 4863 \nL 1178 4863 \nL 1178 0 \nL 603 0 \nL 603 4863 \nz\n\" id=\"DejaVuSans-6c\" transform=\"scale(0.015625)\"/>\n     </defs>\n     <use xlink:href=\"#DejaVuSans-48\"/>\n     <use x=\"75.195312\" xlink:href=\"#DejaVuSans-61\"/>\n     <use x=\"136.474609\" xlink:href=\"#DejaVuSans-70\"/>\n     <use x=\"199.951172\" xlink:href=\"#DejaVuSans-70\"/>\n     <use x=\"263.427734\" xlink:href=\"#DejaVuSans-79\"/>\n     <use x=\"322.607422\" xlink:href=\"#DejaVuSans-20\"/>\n     <use x=\"354.394531\" xlink:href=\"#DejaVuSans-76\"/>\n     <use x=\"413.574219\" xlink:href=\"#DejaVuSans-20\"/>\n     <use x=\"445.361328\" xlink:href=\"#DejaVuSans-4e\"/>\n     <use x=\"520.166016\" xlink:href=\"#DejaVuSans-65\"/>\n     <use x=\"581.689453\" xlink:href=\"#DejaVuSans-75\"/>\n     <use x=\"645.068359\" xlink:href=\"#DejaVuSans-74\"/>\n     <use x=\"684.277344\" xlink:href=\"#DejaVuSans-72\"/>\n     <use x=\"725.390625\" xlink:href=\"#DejaVuSans-61\"/>\n     <use x=\"786.669922\" xlink:href=\"#DejaVuSans-6c\"/>\n    </g>\n   </g>\n  </g>\n  <g id=\"axes_2\">\n   <g id=\"patch_35\">\n    <path d=\"M 221.631932 123.889926 \nL 373.81375 123.889926 \nL 373.81375 25.053563 \nL 221.631932 25.053563 \nz\n\" style=\"fill:#ffffff;\"/>\n   </g>\n   <g id=\"patch_36\">\n    <path clip-path=\"url(#p808d5e494d)\" d=\"M 228.549287 123.889926 \nL 238.431223 123.889926 \nL 238.431223 123.889926 \nL 228.549287 123.889926 \nz\n\" style=\"fill:#1f77b4;opacity:0.5;\"/>\n   </g>\n   <g id=\"patch_37\">\n    <path clip-path=\"url(#p808d5e494d)\" d=\"M 238.431223 123.889926 \nL 248.31316 123.889926 \nL 248.31316 123.889926 \nL 238.431223 123.889926 \nz\n\" style=\"fill:#1f77b4;opacity:0.5;\"/>\n   </g>\n   <g id=\"patch_38\">\n    <path clip-path=\"url(#p808d5e494d)\" d=\"M 248.31316 123.889926 \nL 258.195096 123.889926 \nL 258.195096 122.811515 \nL 248.31316 122.811515 \nz\n\" style=\"fill:#1f77b4;opacity:0.5;\"/>\n   </g>\n   <g id=\"patch_39\">\n    <path clip-path=\"url(#p808d5e494d)\" d=\"M 258.195096 123.889926 \nL 268.077032 123.889926 \nL 268.077032 116.032932 \nL 258.195096 116.032932 \nz\n\" style=\"fill:#1f77b4;opacity:0.5;\"/>\n   </g>\n   <g id=\"patch_40\">\n    <path clip-path=\"url(#p808d5e494d)\" d=\"M 268.077032 123.889926 \nL 277.958968 123.889926 \nL 277.958968 115.262639 \nL 268.077032 115.262639 \nz\n\" style=\"fill:#1f77b4;opacity:0.5;\"/>\n   </g>\n   <g id=\"patch_41\">\n    <path clip-path=\"url(#p808d5e494d)\" d=\"M 277.958968 123.889926 \nL 287.840905 123.889926 \nL 287.840905 122.19528 \nL 277.958968 122.19528 \nz\n\" style=\"fill:#1f77b4;opacity:0.5;\"/>\n   </g>\n   <g id=\"patch_42\">\n    <path clip-path=\"url(#p808d5e494d)\" d=\"M 287.840905 123.889926 \nL 297.722841 123.889926 \nL 297.722841 115.570756 \nL 287.840905 115.570756 \nz\n\" style=\"fill:#1f77b4;opacity:0.5;\"/>\n   </g>\n   <g id=\"patch_43\">\n    <path clip-path=\"url(#p808d5e494d)\" d=\"M 297.722841 123.889926 \nL 307.604777 123.889926 \nL 307.604777 115.724815 \nL 297.722841 115.724815 \nz\n\" style=\"fill:#1f77b4;opacity:0.5;\"/>\n   </g>\n   <g id=\"patch_44\">\n    <path clip-path=\"url(#p808d5e494d)\" d=\"M 307.604777 123.889926 \nL 317.486713 123.889926 \nL 317.486713 29.760056 \nL 307.604777 29.760056 \nz\n\" style=\"fill:#1f77b4;opacity:0.5;\"/>\n   </g>\n   <g id=\"patch_45\">\n    <path clip-path=\"url(#p808d5e494d)\" d=\"M 317.486713 123.889926 \nL 327.36865 123.889926 \nL 327.36865 43.163164 \nL 317.486713 43.163164 \nz\n\" style=\"fill:#1f77b4;opacity:0.5;\"/>\n   </g>\n   <g id=\"patch_46\">\n    <path clip-path=\"url(#p808d5e494d)\" d=\"M 327.36865 123.889926 \nL 337.250586 123.889926 \nL 337.250586 49.017394 \nL 327.36865 49.017394 \nz\n\" style=\"fill:#1f77b4;opacity:0.5;\"/>\n   </g>\n   <g id=\"patch_47\">\n    <path clip-path=\"url(#p808d5e494d)\" d=\"M 337.250586 123.889926 \nL 347.132522 123.889926 \nL 347.132522 38.541402 \nL 337.250586 38.541402 \nz\n\" style=\"fill:#1f77b4;opacity:0.5;\"/>\n   </g>\n   <g id=\"patch_48\">\n    <path clip-path=\"url(#p808d5e494d)\" d=\"M 347.132522 123.889926 \nL 357.014458 123.889926 \nL 357.014458 96.159359 \nL 347.132522 96.159359 \nz\n\" style=\"fill:#1f77b4;opacity:0.5;\"/>\n   </g>\n   <g id=\"patch_49\">\n    <path clip-path=\"url(#p808d5e494d)\" d=\"M 357.014458 123.889926 \nL 366.896395 123.889926 \nL 366.896395 67.812557 \nL 357.014458 67.812557 \nz\n\" style=\"fill:#1f77b4;opacity:0.5;\"/>\n   </g>\n   <g id=\"patch_50\">\n    <path clip-path=\"url(#p808d5e494d)\" d=\"M 228.549287 123.889926 \nL 238.431223 123.889926 \nL 238.431223 123.889926 \nL 228.549287 123.889926 \nz\n\" style=\"fill:#ff7f0e;opacity:0.5;\"/>\n   </g>\n   <g id=\"patch_51\">\n    <path clip-path=\"url(#p808d5e494d)\" d=\"M 238.431223 123.889926 \nL 248.31316 123.889926 \nL 248.31316 123.889926 \nL 238.431223 123.889926 \nz\n\" style=\"fill:#ff7f0e;opacity:0.5;\"/>\n   </g>\n   <g id=\"patch_52\">\n    <path clip-path=\"url(#p808d5e494d)\" d=\"M 248.31316 123.889926 \nL 258.195096 123.889926 \nL 258.195096 123.889926 \nL 248.31316 123.889926 \nz\n\" style=\"fill:#ff7f0e;opacity:0.5;\"/>\n   </g>\n   <g id=\"patch_53\">\n    <path clip-path=\"url(#p808d5e494d)\" d=\"M 258.195096 123.889926 \nL 268.077032 123.889926 \nL 268.077032 123.889926 \nL 258.195096 123.889926 \nz\n\" style=\"fill:#ff7f0e;opacity:0.5;\"/>\n   </g>\n   <g id=\"patch_54\">\n    <path clip-path=\"url(#p808d5e494d)\" d=\"M 268.077032 123.889926 \nL 277.958968 123.889926 \nL 277.958968 123.889926 \nL 268.077032 123.889926 \nz\n\" style=\"fill:#ff7f0e;opacity:0.5;\"/>\n   </g>\n   <g id=\"patch_55\">\n    <path clip-path=\"url(#p808d5e494d)\" d=\"M 277.958968 123.889926 \nL 287.840905 123.889926 \nL 287.840905 112.489582 \nL 277.958968 112.489582 \nz\n\" style=\"fill:#ff7f0e;opacity:0.5;\"/>\n   </g>\n   <g id=\"patch_56\">\n    <path clip-path=\"url(#p808d5e494d)\" d=\"M 287.840905 123.889926 \nL 297.722841 123.889926 \nL 297.722841 123.889926 \nL 287.840905 123.889926 \nz\n\" style=\"fill:#ff7f0e;opacity:0.5;\"/>\n   </g>\n   <g id=\"patch_57\">\n    <path clip-path=\"url(#p808d5e494d)\" d=\"M 297.722841 123.889926 \nL 307.604777 123.889926 \nL 307.604777 123.889926 \nL 297.722841 123.889926 \nz\n\" style=\"fill:#ff7f0e;opacity:0.5;\"/>\n   </g>\n   <g id=\"patch_58\">\n    <path clip-path=\"url(#p808d5e494d)\" d=\"M 307.604777 123.889926 \nL 317.486713 123.889926 \nL 317.486713 123.889926 \nL 307.604777 123.889926 \nz\n\" style=\"fill:#ff7f0e;opacity:0.5;\"/>\n   </g>\n   <g id=\"patch_59\">\n    <path clip-path=\"url(#p808d5e494d)\" d=\"M 317.486713 123.889926 \nL 327.36865 123.889926 \nL 327.36865 123.889926 \nL 317.486713 123.889926 \nz\n\" style=\"fill:#ff7f0e;opacity:0.5;\"/>\n   </g>\n   <g id=\"patch_60\">\n    <path clip-path=\"url(#p808d5e494d)\" d=\"M 327.36865 123.889926 \nL 337.250586 123.889926 \nL 337.250586 123.889926 \nL 327.36865 123.889926 \nz\n\" style=\"fill:#ff7f0e;opacity:0.5;\"/>\n   </g>\n   <g id=\"patch_61\">\n    <path clip-path=\"url(#p808d5e494d)\" d=\"M 337.250586 123.889926 \nL 347.132522 123.889926 \nL 347.132522 123.889926 \nL 337.250586 123.889926 \nz\n\" style=\"fill:#ff7f0e;opacity:0.5;\"/>\n   </g>\n   <g id=\"patch_62\">\n    <path clip-path=\"url(#p808d5e494d)\" d=\"M 347.132522 123.889926 \nL 357.014458 123.889926 \nL 357.014458 123.889926 \nL 347.132522 123.889926 \nz\n\" style=\"fill:#ff7f0e;opacity:0.5;\"/>\n   </g>\n   <g id=\"patch_63\">\n    <path clip-path=\"url(#p808d5e494d)\" d=\"M 357.014458 123.889926 \nL 366.896395 123.889926 \nL 366.896395 123.42775 \nL 357.014458 123.42775 \nz\n\" style=\"fill:#ff7f0e;opacity:0.5;\"/>\n   </g>\n   <g id=\"matplotlib.axis_3\">\n    <g id=\"xtick_3\">\n     <g id=\"line2d_6\">\n      <g>\n       <use style=\"stroke:#000000;stroke-width:0.8;\" x=\"274.66499\" xlink:href=\"#mc971ceec89\" y=\"123.889926\"/>\n      </g>\n     </g>\n     <g id=\"text_7\">\n      <!-- 10 -->\n      <g transform=\"translate(266.39374 140.767895)scale(0.13 -0.13)\">\n       <use xlink:href=\"#DejaVuSans-31\"/>\n       <use x=\"63.623047\" xlink:href=\"#DejaVuSans-30\"/>\n      </g>\n     </g>\n    </g>\n    <g id=\"xtick_4\">\n     <g id=\"line2d_7\">\n      <g>\n       <use style=\"stroke:#000000;stroke-width:0.8;\" x=\"366.896395\" xlink:href=\"#mc971ceec89\" y=\"123.889926\"/>\n      </g>\n     </g>\n     <g id=\"text_8\">\n      <!-- 20 -->\n      <g transform=\"translate(358.625145 140.767895)scale(0.13 -0.13)\">\n       <use xlink:href=\"#DejaVuSans-32\"/>\n       <use x=\"63.623047\" xlink:href=\"#DejaVuSans-30\"/>\n      </g>\n     </g>\n    </g>\n   </g>\n   <g id=\"matplotlib.axis_4\">\n    <g id=\"ytick_4\">\n     <g id=\"line2d_8\">\n      <g>\n       <use style=\"stroke:#000000;stroke-width:0.8;\" x=\"221.631932\" xlink:href=\"#mb6d9862fba\" y=\"123.889926\"/>\n      </g>\n     </g>\n     <g id=\"text_9\">\n      <!-- 0 -->\n      <g transform=\"translate(206.360682 128.828911)scale(0.13 -0.13)\">\n       <use xlink:href=\"#DejaVuSans-30\"/>\n      </g>\n     </g>\n    </g>\n    <g id=\"ytick_5\">\n     <g id=\"line2d_9\">\n      <g>\n       <use style=\"stroke:#000000;stroke-width:0.8;\" x=\"221.631932\" xlink:href=\"#mb6d9862fba\" y=\"85.375249\"/>\n      </g>\n     </g>\n     <g id=\"text_10\">\n      <!-- 250 -->\n      <g transform=\"translate(189.818182 90.314234)scale(0.13 -0.13)\">\n       <use xlink:href=\"#DejaVuSans-32\"/>\n       <use x=\"63.623047\" xlink:href=\"#DejaVuSans-35\"/>\n       <use x=\"127.246094\" xlink:href=\"#DejaVuSans-30\"/>\n      </g>\n     </g>\n    </g>\n    <g id=\"ytick_6\">\n     <g id=\"line2d_10\">\n      <g>\n       <use style=\"stroke:#000000;stroke-width:0.8;\" x=\"221.631932\" xlink:href=\"#mb6d9862fba\" y=\"46.860573\"/>\n      </g>\n     </g>\n     <g id=\"text_11\">\n      <!-- 500 -->\n      <g transform=\"translate(189.818182 51.799557)scale(0.13 -0.13)\">\n       <use xlink:href=\"#DejaVuSans-35\"/>\n       <use x=\"63.623047\" xlink:href=\"#DejaVuSans-30\"/>\n       <use x=\"127.246094\" xlink:href=\"#DejaVuSans-30\"/>\n      </g>\n     </g>\n    </g>\n   </g>\n   <g id=\"patch_64\">\n    <path d=\"M 221.631932 123.889926 \nL 221.631932 25.053563 \n\" style=\"fill:none;stroke:#000000;stroke-linecap:square;stroke-linejoin:miter;stroke-width:0.8;\"/>\n   </g>\n   <g id=\"patch_65\">\n    <path d=\"M 373.81375 123.889926 \nL 373.81375 25.053563 \n\" style=\"fill:none;stroke:#000000;stroke-linecap:square;stroke-linejoin:miter;stroke-width:0.8;\"/>\n   </g>\n   <g id=\"patch_66\">\n    <path d=\"M 221.631932 123.889926 \nL 373.81375 123.889926 \n\" style=\"fill:none;stroke:#000000;stroke-linecap:square;stroke-linejoin:miter;stroke-width:0.8;\"/>\n   </g>\n   <g id=\"patch_67\">\n    <path d=\"M 221.631932 25.053563 \nL 373.81375 25.053563 \n\" style=\"fill:none;stroke:#000000;stroke-linecap:square;stroke-linejoin:miter;stroke-width:0.8;\"/>\n   </g>\n   <g id=\"text_12\">\n    <!-- Anger v Neutral -->\n    <g transform=\"translate(236.122341 19.053563)scale(0.156 -0.156)\">\n     <defs>\n      <path d=\"M 2188 4044 \nL 1331 1722 \nL 3047 1722 \nL 2188 4044 \nz\nM 1831 4666 \nL 2547 4666 \nL 4325 0 \nL 3669 0 \nL 3244 1197 \nL 1141 1197 \nL 716 0 \nL 50 0 \nL 1831 4666 \nz\n\" id=\"DejaVuSans-41\" transform=\"scale(0.015625)\"/>\n      <path d=\"M 3513 2113 \nL 3513 0 \nL 2938 0 \nL 2938 2094 \nQ 2938 2591 2744 2837 \nQ 2550 3084 2163 3084 \nQ 1697 3084 1428 2787 \nQ 1159 2491 1159 1978 \nL 1159 0 \nL 581 0 \nL 581 3500 \nL 1159 3500 \nL 1159 2956 \nQ 1366 3272 1645 3428 \nQ 1925 3584 2291 3584 \nQ 2894 3584 3203 3211 \nQ 3513 2838 3513 2113 \nz\n\" id=\"DejaVuSans-6e\" transform=\"scale(0.015625)\"/>\n      <path d=\"M 2906 1791 \nQ 2906 2416 2648 2759 \nQ 2391 3103 1925 3103 \nQ 1463 3103 1205 2759 \nQ 947 2416 947 1791 \nQ 947 1169 1205 825 \nQ 1463 481 1925 481 \nQ 2391 481 2648 825 \nQ 2906 1169 2906 1791 \nz\nM 3481 434 \nQ 3481 -459 3084 -895 \nQ 2688 -1331 1869 -1331 \nQ 1566 -1331 1297 -1286 \nQ 1028 -1241 775 -1147 \nL 775 -588 \nQ 1028 -725 1275 -790 \nQ 1522 -856 1778 -856 \nQ 2344 -856 2625 -561 \nQ 2906 -266 2906 331 \nL 2906 616 \nQ 2728 306 2450 153 \nQ 2172 0 1784 0 \nQ 1141 0 747 490 \nQ 353 981 353 1791 \nQ 353 2603 747 3093 \nQ 1141 3584 1784 3584 \nQ 2172 3584 2450 3431 \nQ 2728 3278 2906 2969 \nL 2906 3500 \nL 3481 3500 \nL 3481 434 \nz\n\" id=\"DejaVuSans-67\" transform=\"scale(0.015625)\"/>\n     </defs>\n     <use xlink:href=\"#DejaVuSans-41\"/>\n     <use x=\"68.408203\" xlink:href=\"#DejaVuSans-6e\"/>\n     <use x=\"131.787109\" xlink:href=\"#DejaVuSans-67\"/>\n     <use x=\"195.263672\" xlink:href=\"#DejaVuSans-65\"/>\n     <use x=\"256.787109\" xlink:href=\"#DejaVuSans-72\"/>\n     <use x=\"297.900391\" xlink:href=\"#DejaVuSans-20\"/>\n     <use x=\"329.6875\" xlink:href=\"#DejaVuSans-76\"/>\n     <use x=\"388.867188\" xlink:href=\"#DejaVuSans-20\"/>\n     <use x=\"420.654297\" xlink:href=\"#DejaVuSans-4e\"/>\n     <use x=\"495.458984\" xlink:href=\"#DejaVuSans-65\"/>\n     <use x=\"556.982422\" xlink:href=\"#DejaVuSans-75\"/>\n     <use x=\"620.361328\" xlink:href=\"#DejaVuSans-74\"/>\n     <use x=\"659.570312\" xlink:href=\"#DejaVuSans-72\"/>\n     <use x=\"700.683594\" xlink:href=\"#DejaVuSans-61\"/>\n     <use x=\"761.962891\" xlink:href=\"#DejaVuSans-6c\"/>\n    </g>\n   </g>\n  </g>\n  <g id=\"axes_3\">\n   <g id=\"patch_68\">\n    <path d=\"M 39.01375 242.493562 \nL 191.195568 242.493562 \nL 191.195568 143.657199 \nL 39.01375 143.657199 \nz\n\" style=\"fill:#ffffff;\"/>\n   </g>\n   <g id=\"patch_69\">\n    <path clip-path=\"url(#pb204ef48cd)\" d=\"M 45.931105 242.493562 \nL 55.813042 242.493562 \nL 55.813042 242.493562 \nL 45.931105 242.493562 \nz\n\" style=\"fill:#1f77b4;opacity:0.5;\"/>\n   </g>\n   <g id=\"patch_70\">\n    <path clip-path=\"url(#pb204ef48cd)\" d=\"M 55.813042 242.493562 \nL 65.694978 242.493562 \nL 65.694978 242.493562 \nL 55.813042 242.493562 \nz\n\" style=\"fill:#1f77b4;opacity:0.5;\"/>\n   </g>\n   <g id=\"patch_71\">\n    <path clip-path=\"url(#pb204ef48cd)\" d=\"M 65.694978 242.493562 \nL 75.576914 242.493562 \nL 75.576914 241.415152 \nL 65.694978 241.415152 \nz\n\" style=\"fill:#1f77b4;opacity:0.5;\"/>\n   </g>\n   <g id=\"patch_72\">\n    <path clip-path=\"url(#pb204ef48cd)\" d=\"M 75.576914 242.493562 \nL 85.45885 242.493562 \nL 85.45885 234.636568 \nL 75.576914 234.636568 \nz\n\" style=\"fill:#1f77b4;opacity:0.5;\"/>\n   </g>\n   <g id=\"patch_73\">\n    <path clip-path=\"url(#pb204ef48cd)\" d=\"M 85.45885 242.493562 \nL 95.340787 242.493562 \nL 95.340787 233.866275 \nL 85.45885 233.866275 \nz\n\" style=\"fill:#1f77b4;opacity:0.5;\"/>\n   </g>\n   <g id=\"patch_74\">\n    <path clip-path=\"url(#pb204ef48cd)\" d=\"M 95.340787 242.493562 \nL 105.222723 242.493562 \nL 105.222723 240.798917 \nL 95.340787 240.798917 \nz\n\" style=\"fill:#1f77b4;opacity:0.5;\"/>\n   </g>\n   <g id=\"patch_75\">\n    <path clip-path=\"url(#pb204ef48cd)\" d=\"M 105.222723 242.493562 \nL 115.104659 242.493562 \nL 115.104659 234.174392 \nL 105.222723 234.174392 \nz\n\" style=\"fill:#1f77b4;opacity:0.5;\"/>\n   </g>\n   <g id=\"patch_76\">\n    <path clip-path=\"url(#pb204ef48cd)\" d=\"M 115.104659 242.493562 \nL 124.986595 242.493562 \nL 124.986595 234.328451 \nL 115.104659 234.328451 \nz\n\" style=\"fill:#1f77b4;opacity:0.5;\"/>\n   </g>\n   <g id=\"patch_77\">\n    <path clip-path=\"url(#pb204ef48cd)\" d=\"M 124.986595 242.493562 \nL 134.868532 242.493562 \nL 134.868532 148.363692 \nL 124.986595 148.363692 \nz\n\" style=\"fill:#1f77b4;opacity:0.5;\"/>\n   </g>\n   <g id=\"patch_78\">\n    <path clip-path=\"url(#pb204ef48cd)\" d=\"M 134.868532 242.493562 \nL 144.750468 242.493562 \nL 144.750468 161.7668 \nL 134.868532 161.7668 \nz\n\" style=\"fill:#1f77b4;opacity:0.5;\"/>\n   </g>\n   <g id=\"patch_79\">\n    <path clip-path=\"url(#pb204ef48cd)\" d=\"M 144.750468 242.493562 \nL 154.632404 242.493562 \nL 154.632404 167.621031 \nL 144.750468 167.621031 \nz\n\" style=\"fill:#1f77b4;opacity:0.5;\"/>\n   </g>\n   <g id=\"patch_80\">\n    <path clip-path=\"url(#pb204ef48cd)\" d=\"M 154.632404 242.493562 \nL 164.51434 242.493562 \nL 164.51434 157.145039 \nL 154.632404 157.145039 \nz\n\" style=\"fill:#1f77b4;opacity:0.5;\"/>\n   </g>\n   <g id=\"patch_81\">\n    <path clip-path=\"url(#pb204ef48cd)\" d=\"M 164.51434 242.493562 \nL 174.396277 242.493562 \nL 174.396277 214.762995 \nL 164.51434 214.762995 \nz\n\" style=\"fill:#1f77b4;opacity:0.5;\"/>\n   </g>\n   <g id=\"patch_82\">\n    <path clip-path=\"url(#pb204ef48cd)\" d=\"M 174.396277 242.493562 \nL 184.278213 242.493562 \nL 184.278213 186.416193 \nL 174.396277 186.416193 \nz\n\" style=\"fill:#1f77b4;opacity:0.5;\"/>\n   </g>\n   <g id=\"patch_83\">\n    <path clip-path=\"url(#pb204ef48cd)\" d=\"M 45.931105 242.493562 \nL 55.813042 242.493562 \nL 55.813042 242.493562 \nL 45.931105 242.493562 \nz\n\" style=\"fill:#ff7f0e;opacity:0.5;\"/>\n   </g>\n   <g id=\"patch_84\">\n    <path clip-path=\"url(#pb204ef48cd)\" d=\"M 55.813042 242.493562 \nL 65.694978 242.493562 \nL 65.694978 242.493562 \nL 55.813042 242.493562 \nz\n\" style=\"fill:#ff7f0e;opacity:0.5;\"/>\n   </g>\n   <g id=\"patch_85\">\n    <path clip-path=\"url(#pb204ef48cd)\" d=\"M 65.694978 242.493562 \nL 75.576914 242.493562 \nL 75.576914 241.56921 \nL 65.694978 241.56921 \nz\n\" style=\"fill:#ff7f0e;opacity:0.5;\"/>\n   </g>\n   <g id=\"patch_86\">\n    <path clip-path=\"url(#pb204ef48cd)\" d=\"M 75.576914 242.493562 \nL 85.45885 242.493562 \nL 85.45885 239.412388 \nL 75.576914 239.412388 \nz\n\" style=\"fill:#ff7f0e;opacity:0.5;\"/>\n   </g>\n   <g id=\"patch_87\">\n    <path clip-path=\"url(#pb204ef48cd)\" d=\"M 85.45885 242.493562 \nL 95.340787 242.493562 \nL 95.340787 230.322925 \nL 85.45885 230.322925 \nz\n\" style=\"fill:#ff7f0e;opacity:0.5;\"/>\n   </g>\n   <g id=\"patch_88\">\n    <path clip-path=\"url(#pb204ef48cd)\" d=\"M 95.340787 242.493562 \nL 105.222723 242.493562 \nL 105.222723 240.490799 \nL 95.340787 240.490799 \nz\n\" style=\"fill:#ff7f0e;opacity:0.5;\"/>\n   </g>\n   <g id=\"patch_89\">\n    <path clip-path=\"url(#pb204ef48cd)\" d=\"M 105.222723 242.493562 \nL 115.104659 242.493562 \nL 115.104659 239.566447 \nL 105.222723 239.566447 \nz\n\" style=\"fill:#ff7f0e;opacity:0.5;\"/>\n   </g>\n   <g id=\"patch_90\">\n    <path clip-path=\"url(#pb204ef48cd)\" d=\"M 115.104659 242.493562 \nL 124.986595 242.493562 \nL 124.986595 241.56921 \nL 115.104659 241.56921 \nz\n\" style=\"fill:#ff7f0e;opacity:0.5;\"/>\n   </g>\n   <g id=\"patch_91\">\n    <path clip-path=\"url(#pb204ef48cd)\" d=\"M 124.986595 242.493562 \nL 134.868532 242.493562 \nL 134.868532 232.171629 \nL 124.986595 232.171629 \nz\n\" style=\"fill:#ff7f0e;opacity:0.5;\"/>\n   </g>\n   <g id=\"patch_92\">\n    <path clip-path=\"url(#pb204ef48cd)\" d=\"M 134.868532 242.493562 \nL 144.750468 242.493562 \nL 144.750468 227.395809 \nL 134.868532 227.395809 \nz\n\" style=\"fill:#ff7f0e;opacity:0.5;\"/>\n   </g>\n   <g id=\"patch_93\">\n    <path clip-path=\"url(#pb204ef48cd)\" d=\"M 144.750468 242.493562 \nL 154.632404 242.493562 \nL 154.632404 224.314635 \nL 144.750468 224.314635 \nz\n\" style=\"fill:#ff7f0e;opacity:0.5;\"/>\n   </g>\n   <g id=\"patch_94\">\n    <path clip-path=\"url(#pb204ef48cd)\" d=\"M 154.632404 242.493562 \nL 164.51434 242.493562 \nL 164.51434 230.631042 \nL 154.632404 230.631042 \nz\n\" style=\"fill:#ff7f0e;opacity:0.5;\"/>\n   </g>\n   <g id=\"patch_95\">\n    <path clip-path=\"url(#pb204ef48cd)\" d=\"M 164.51434 242.493562 \nL 174.396277 242.493562 \nL 174.396277 233.558157 \nL 164.51434 233.558157 \nz\n\" style=\"fill:#ff7f0e;opacity:0.5;\"/>\n   </g>\n   <g id=\"patch_96\">\n    <path clip-path=\"url(#pb204ef48cd)\" d=\"M 174.396277 242.493562 \nL 184.278213 242.493562 \nL 184.278213 231.709453 \nL 174.396277 231.709453 \nz\n\" style=\"fill:#ff7f0e;opacity:0.5;\"/>\n   </g>\n   <g id=\"matplotlib.axis_5\">\n    <g id=\"xtick_5\">\n     <g id=\"line2d_11\">\n      <g>\n       <use style=\"stroke:#000000;stroke-width:0.8;\" x=\"92.046808\" xlink:href=\"#mc971ceec89\" y=\"242.493562\"/>\n      </g>\n     </g>\n     <g id=\"text_13\">\n      <!-- 10 -->\n      <g transform=\"translate(83.775558 259.371531)scale(0.13 -0.13)\">\n       <use xlink:href=\"#DejaVuSans-31\"/>\n       <use x=\"63.623047\" xlink:href=\"#DejaVuSans-30\"/>\n      </g>\n     </g>\n    </g>\n    <g id=\"xtick_6\">\n     <g id=\"line2d_12\">\n      <g>\n       <use style=\"stroke:#000000;stroke-width:0.8;\" x=\"184.278213\" xlink:href=\"#mc971ceec89\" y=\"242.493562\"/>\n      </g>\n     </g>\n     <g id=\"text_14\">\n      <!-- 20 -->\n      <g transform=\"translate(176.006963 259.371531)scale(0.13 -0.13)\">\n       <use xlink:href=\"#DejaVuSans-32\"/>\n       <use x=\"63.623047\" xlink:href=\"#DejaVuSans-30\"/>\n      </g>\n     </g>\n    </g>\n   </g>\n   <g id=\"matplotlib.axis_6\">\n    <g id=\"ytick_7\">\n     <g id=\"line2d_13\">\n      <g>\n       <use style=\"stroke:#000000;stroke-width:0.8;\" x=\"39.01375\" xlink:href=\"#mb6d9862fba\" y=\"242.493562\"/>\n      </g>\n     </g>\n     <g id=\"text_15\">\n      <!-- 0 -->\n      <g transform=\"translate(23.7425 247.432547)scale(0.13 -0.13)\">\n       <use xlink:href=\"#DejaVuSans-30\"/>\n      </g>\n     </g>\n    </g>\n    <g id=\"ytick_8\">\n     <g id=\"line2d_14\">\n      <g>\n       <use style=\"stroke:#000000;stroke-width:0.8;\" x=\"39.01375\" xlink:href=\"#mb6d9862fba\" y=\"203.978886\"/>\n      </g>\n     </g>\n     <g id=\"text_16\">\n      <!-- 250 -->\n      <g transform=\"translate(7.2 208.91787)scale(0.13 -0.13)\">\n       <use xlink:href=\"#DejaVuSans-32\"/>\n       <use x=\"63.623047\" xlink:href=\"#DejaVuSans-35\"/>\n       <use x=\"127.246094\" xlink:href=\"#DejaVuSans-30\"/>\n      </g>\n     </g>\n    </g>\n    <g id=\"ytick_9\">\n     <g id=\"line2d_15\">\n      <g>\n       <use style=\"stroke:#000000;stroke-width:0.8;\" x=\"39.01375\" xlink:href=\"#mb6d9862fba\" y=\"165.464209\"/>\n      </g>\n     </g>\n     <g id=\"text_17\">\n      <!-- 500 -->\n      <g transform=\"translate(7.2 170.403193)scale(0.13 -0.13)\">\n       <use xlink:href=\"#DejaVuSans-35\"/>\n       <use x=\"63.623047\" xlink:href=\"#DejaVuSans-30\"/>\n       <use x=\"127.246094\" xlink:href=\"#DejaVuSans-30\"/>\n      </g>\n     </g>\n    </g>\n   </g>\n   <g id=\"patch_97\">\n    <path d=\"M 39.01375 242.493562 \nL 39.01375 143.657199 \n\" style=\"fill:none;stroke:#000000;stroke-linecap:square;stroke-linejoin:miter;stroke-width:0.8;\"/>\n   </g>\n   <g id=\"patch_98\">\n    <path d=\"M 191.195568 242.493562 \nL 191.195568 143.657199 \n\" style=\"fill:none;stroke:#000000;stroke-linecap:square;stroke-linejoin:miter;stroke-width:0.8;\"/>\n   </g>\n   <g id=\"patch_99\">\n    <path d=\"M 39.01375 242.493562 \nL 191.195568 242.493562 \n\" style=\"fill:none;stroke:#000000;stroke-linecap:square;stroke-linejoin:miter;stroke-width:0.8;\"/>\n   </g>\n   <g id=\"patch_100\">\n    <path d=\"M 39.01375 143.657199 \nL 191.195568 143.657199 \n\" style=\"fill:none;stroke:#000000;stroke-linecap:square;stroke-linejoin:miter;stroke-width:0.8;\"/>\n   </g>\n   <g id=\"text_18\">\n    <!-- Sad v Neutral -->\n    <g transform=\"translate(62.057347 137.657199)scale(0.156 -0.156)\">\n     <defs>\n      <path d=\"M 3425 4513 \nL 3425 3897 \nQ 3066 4069 2747 4153 \nQ 2428 4238 2131 4238 \nQ 1616 4238 1336 4038 \nQ 1056 3838 1056 3469 \nQ 1056 3159 1242 3001 \nQ 1428 2844 1947 2747 \nL 2328 2669 \nQ 3034 2534 3370 2195 \nQ 3706 1856 3706 1288 \nQ 3706 609 3251 259 \nQ 2797 -91 1919 -91 \nQ 1588 -91 1214 -16 \nQ 841 59 441 206 \nL 441 856 \nQ 825 641 1194 531 \nQ 1563 422 1919 422 \nQ 2459 422 2753 634 \nQ 3047 847 3047 1241 \nQ 3047 1584 2836 1778 \nQ 2625 1972 2144 2069 \nL 1759 2144 \nQ 1053 2284 737 2584 \nQ 422 2884 422 3419 \nQ 422 4038 858 4394 \nQ 1294 4750 2059 4750 \nQ 2388 4750 2728 4690 \nQ 3069 4631 3425 4513 \nz\n\" id=\"DejaVuSans-53\" transform=\"scale(0.015625)\"/>\n      <path d=\"M 2906 2969 \nL 2906 4863 \nL 3481 4863 \nL 3481 0 \nL 2906 0 \nL 2906 525 \nQ 2725 213 2448 61 \nQ 2172 -91 1784 -91 \nQ 1150 -91 751 415 \nQ 353 922 353 1747 \nQ 353 2572 751 3078 \nQ 1150 3584 1784 3584 \nQ 2172 3584 2448 3432 \nQ 2725 3281 2906 2969 \nz\nM 947 1747 \nQ 947 1113 1208 752 \nQ 1469 391 1925 391 \nQ 2381 391 2643 752 \nQ 2906 1113 2906 1747 \nQ 2906 2381 2643 2742 \nQ 2381 3103 1925 3103 \nQ 1469 3103 1208 2742 \nQ 947 2381 947 1747 \nz\n\" id=\"DejaVuSans-64\" transform=\"scale(0.015625)\"/>\n     </defs>\n     <use xlink:href=\"#DejaVuSans-53\"/>\n     <use x=\"63.476562\" xlink:href=\"#DejaVuSans-61\"/>\n     <use x=\"124.755859\" xlink:href=\"#DejaVuSans-64\"/>\n     <use x=\"188.232422\" xlink:href=\"#DejaVuSans-20\"/>\n     <use x=\"220.019531\" xlink:href=\"#DejaVuSans-76\"/>\n     <use x=\"279.199219\" xlink:href=\"#DejaVuSans-20\"/>\n     <use x=\"310.986328\" xlink:href=\"#DejaVuSans-4e\"/>\n     <use x=\"385.791016\" xlink:href=\"#DejaVuSans-65\"/>\n     <use x=\"447.314453\" xlink:href=\"#DejaVuSans-75\"/>\n     <use x=\"510.693359\" xlink:href=\"#DejaVuSans-74\"/>\n     <use x=\"549.902344\" xlink:href=\"#DejaVuSans-72\"/>\n     <use x=\"591.015625\" xlink:href=\"#DejaVuSans-61\"/>\n     <use x=\"652.294922\" xlink:href=\"#DejaVuSans-6c\"/>\n    </g>\n   </g>\n  </g>\n  <g id=\"axes_4\">\n   <g id=\"patch_101\">\n    <path d=\"M 221.631932 242.493562 \nL 373.81375 242.493562 \nL 373.81375 143.657199 \nL 221.631932 143.657199 \nz\n\" style=\"fill:#ffffff;\"/>\n   </g>\n   <g id=\"patch_102\">\n    <path clip-path=\"url(#p3f88c02ec3)\" d=\"M 228.549287 242.493562 \nL 238.431223 242.493562 \nL 238.431223 242.493562 \nL 228.549287 242.493562 \nz\n\" style=\"fill:#1f77b4;opacity:0.5;\"/>\n   </g>\n   <g id=\"patch_103\">\n    <path clip-path=\"url(#p3f88c02ec3)\" d=\"M 238.431223 242.493562 \nL 248.31316 242.493562 \nL 248.31316 242.493562 \nL 238.431223 242.493562 \nz\n\" style=\"fill:#1f77b4;opacity:0.5;\"/>\n   </g>\n   <g id=\"patch_104\">\n    <path clip-path=\"url(#p3f88c02ec3)\" d=\"M 248.31316 242.493562 \nL 258.195096 242.493562 \nL 258.195096 241.415152 \nL 248.31316 241.415152 \nz\n\" style=\"fill:#1f77b4;opacity:0.5;\"/>\n   </g>\n   <g id=\"patch_105\">\n    <path clip-path=\"url(#p3f88c02ec3)\" d=\"M 258.195096 242.493562 \nL 268.077032 242.493562 \nL 268.077032 234.636568 \nL 258.195096 234.636568 \nz\n\" style=\"fill:#1f77b4;opacity:0.5;\"/>\n   </g>\n   <g id=\"patch_106\">\n    <path clip-path=\"url(#p3f88c02ec3)\" d=\"M 268.077032 242.493562 \nL 277.958968 242.493562 \nL 277.958968 233.866275 \nL 268.077032 233.866275 \nz\n\" style=\"fill:#1f77b4;opacity:0.5;\"/>\n   </g>\n   <g id=\"patch_107\">\n    <path clip-path=\"url(#p3f88c02ec3)\" d=\"M 277.958968 242.493562 \nL 287.840905 242.493562 \nL 287.840905 240.798917 \nL 277.958968 240.798917 \nz\n\" style=\"fill:#1f77b4;opacity:0.5;\"/>\n   </g>\n   <g id=\"patch_108\">\n    <path clip-path=\"url(#p3f88c02ec3)\" d=\"M 287.840905 242.493562 \nL 297.722841 242.493562 \nL 297.722841 234.174392 \nL 287.840905 234.174392 \nz\n\" style=\"fill:#1f77b4;opacity:0.5;\"/>\n   </g>\n   <g id=\"patch_109\">\n    <path clip-path=\"url(#p3f88c02ec3)\" d=\"M 297.722841 242.493562 \nL 307.604777 242.493562 \nL 307.604777 234.328451 \nL 297.722841 234.328451 \nz\n\" style=\"fill:#1f77b4;opacity:0.5;\"/>\n   </g>\n   <g id=\"patch_110\">\n    <path clip-path=\"url(#p3f88c02ec3)\" d=\"M 307.604777 242.493562 \nL 317.486713 242.493562 \nL 317.486713 148.363692 \nL 307.604777 148.363692 \nz\n\" style=\"fill:#1f77b4;opacity:0.5;\"/>\n   </g>\n   <g id=\"patch_111\">\n    <path clip-path=\"url(#p3f88c02ec3)\" d=\"M 317.486713 242.493562 \nL 327.36865 242.493562 \nL 327.36865 161.7668 \nL 317.486713 161.7668 \nz\n\" style=\"fill:#1f77b4;opacity:0.5;\"/>\n   </g>\n   <g id=\"patch_112\">\n    <path clip-path=\"url(#p3f88c02ec3)\" d=\"M 327.36865 242.493562 \nL 337.250586 242.493562 \nL 337.250586 167.621031 \nL 327.36865 167.621031 \nz\n\" style=\"fill:#1f77b4;opacity:0.5;\"/>\n   </g>\n   <g id=\"patch_113\">\n    <path clip-path=\"url(#p3f88c02ec3)\" d=\"M 337.250586 242.493562 \nL 347.132522 242.493562 \nL 347.132522 157.145039 \nL 337.250586 157.145039 \nz\n\" style=\"fill:#1f77b4;opacity:0.5;\"/>\n   </g>\n   <g id=\"patch_114\">\n    <path clip-path=\"url(#p3f88c02ec3)\" d=\"M 347.132522 242.493562 \nL 357.014458 242.493562 \nL 357.014458 214.762995 \nL 347.132522 214.762995 \nz\n\" style=\"fill:#1f77b4;opacity:0.5;\"/>\n   </g>\n   <g id=\"patch_115\">\n    <path clip-path=\"url(#p3f88c02ec3)\" d=\"M 357.014458 242.493562 \nL 366.896395 242.493562 \nL 366.896395 186.416193 \nL 357.014458 186.416193 \nz\n\" style=\"fill:#1f77b4;opacity:0.5;\"/>\n   </g>\n   <g id=\"patch_116\">\n    <path clip-path=\"url(#p3f88c02ec3)\" d=\"M 228.549287 242.493562 \nL 238.431223 242.493562 \nL 238.431223 242.493562 \nL 228.549287 242.493562 \nz\n\" style=\"fill:#ff7f0e;opacity:0.5;\"/>\n   </g>\n   <g id=\"patch_117\">\n    <path clip-path=\"url(#p3f88c02ec3)\" d=\"M 238.431223 242.493562 \nL 248.31316 242.493562 \nL 248.31316 242.493562 \nL 238.431223 242.493562 \nz\n\" style=\"fill:#ff7f0e;opacity:0.5;\"/>\n   </g>\n   <g id=\"patch_118\">\n    <path clip-path=\"url(#p3f88c02ec3)\" d=\"M 248.31316 242.493562 \nL 258.195096 242.493562 \nL 258.195096 242.493562 \nL 248.31316 242.493562 \nz\n\" style=\"fill:#ff7f0e;opacity:0.5;\"/>\n   </g>\n   <g id=\"patch_119\">\n    <path clip-path=\"url(#p3f88c02ec3)\" d=\"M 258.195096 242.493562 \nL 268.077032 242.493562 \nL 268.077032 242.493562 \nL 258.195096 242.493562 \nz\n\" style=\"fill:#ff7f0e;opacity:0.5;\"/>\n   </g>\n   <g id=\"patch_120\">\n    <path clip-path=\"url(#p3f88c02ec3)\" d=\"M 268.077032 242.493562 \nL 277.958968 242.493562 \nL 277.958968 242.493562 \nL 268.077032 242.493562 \nz\n\" style=\"fill:#ff7f0e;opacity:0.5;\"/>\n   </g>\n   <g id=\"patch_121\">\n    <path clip-path=\"url(#p3f88c02ec3)\" d=\"M 277.958968 242.493562 \nL 287.840905 242.493562 \nL 287.840905 242.493562 \nL 277.958968 242.493562 \nz\n\" style=\"fill:#ff7f0e;opacity:0.5;\"/>\n   </g>\n   <g id=\"patch_122\">\n    <path clip-path=\"url(#p3f88c02ec3)\" d=\"M 287.840905 242.493562 \nL 297.722841 242.493562 \nL 297.722841 242.493562 \nL 287.840905 242.493562 \nz\n\" style=\"fill:#ff7f0e;opacity:0.5;\"/>\n   </g>\n   <g id=\"patch_123\">\n    <path clip-path=\"url(#p3f88c02ec3)\" d=\"M 297.722841 242.493562 \nL 307.604777 242.493562 \nL 307.604777 242.493562 \nL 297.722841 242.493562 \nz\n\" style=\"fill:#ff7f0e;opacity:0.5;\"/>\n   </g>\n   <g id=\"patch_124\">\n    <path clip-path=\"url(#p3f88c02ec3)\" d=\"M 307.604777 242.493562 \nL 317.486713 242.493562 \nL 317.486713 238.02586 \nL 307.604777 238.02586 \nz\n\" style=\"fill:#ff7f0e;opacity:0.5;\"/>\n   </g>\n   <g id=\"patch_125\">\n    <path clip-path=\"url(#p3f88c02ec3)\" d=\"M 317.486713 242.493562 \nL 327.36865 242.493562 \nL 327.36865 242.493562 \nL 317.486713 242.493562 \nz\n\" style=\"fill:#ff7f0e;opacity:0.5;\"/>\n   </g>\n   <g id=\"patch_126\">\n    <path clip-path=\"url(#p3f88c02ec3)\" d=\"M 327.36865 242.493562 \nL 337.250586 242.493562 \nL 337.250586 242.493562 \nL 327.36865 242.493562 \nz\n\" style=\"fill:#ff7f0e;opacity:0.5;\"/>\n   </g>\n   <g id=\"patch_127\">\n    <path clip-path=\"url(#p3f88c02ec3)\" d=\"M 337.250586 242.493562 \nL 347.132522 242.493562 \nL 347.132522 242.493562 \nL 337.250586 242.493562 \nz\n\" style=\"fill:#ff7f0e;opacity:0.5;\"/>\n   </g>\n   <g id=\"patch_128\">\n    <path clip-path=\"url(#p3f88c02ec3)\" d=\"M 347.132522 242.493562 \nL 357.014458 242.493562 \nL 357.014458 233.25004 \nL 347.132522 233.25004 \nz\n\" style=\"fill:#ff7f0e;opacity:0.5;\"/>\n   </g>\n   <g id=\"patch_129\">\n    <path clip-path=\"url(#p3f88c02ec3)\" d=\"M 357.014458 242.493562 \nL 366.896395 242.493562 \nL 366.896395 232.325688 \nL 357.014458 232.325688 \nz\n\" style=\"fill:#ff7f0e;opacity:0.5;\"/>\n   </g>\n   <g id=\"matplotlib.axis_7\">\n    <g id=\"xtick_7\">\n     <g id=\"line2d_16\">\n      <g>\n       <use style=\"stroke:#000000;stroke-width:0.8;\" x=\"274.66499\" xlink:href=\"#mc971ceec89\" y=\"242.493562\"/>\n      </g>\n     </g>\n     <g id=\"text_19\">\n      <!-- 10 -->\n      <g transform=\"translate(266.39374 259.371531)scale(0.13 -0.13)\">\n       <use xlink:href=\"#DejaVuSans-31\"/>\n       <use x=\"63.623047\" xlink:href=\"#DejaVuSans-30\"/>\n      </g>\n     </g>\n    </g>\n    <g id=\"xtick_8\">\n     <g id=\"line2d_17\">\n      <g>\n       <use style=\"stroke:#000000;stroke-width:0.8;\" x=\"366.896395\" xlink:href=\"#mc971ceec89\" y=\"242.493562\"/>\n      </g>\n     </g>\n     <g id=\"text_20\">\n      <!-- 20 -->\n      <g transform=\"translate(358.625145 259.371531)scale(0.13 -0.13)\">\n       <use xlink:href=\"#DejaVuSans-32\"/>\n       <use x=\"63.623047\" xlink:href=\"#DejaVuSans-30\"/>\n      </g>\n     </g>\n    </g>\n   </g>\n   <g id=\"matplotlib.axis_8\">\n    <g id=\"ytick_10\">\n     <g id=\"line2d_18\">\n      <g>\n       <use style=\"stroke:#000000;stroke-width:0.8;\" x=\"221.631932\" xlink:href=\"#mb6d9862fba\" y=\"242.493562\"/>\n      </g>\n     </g>\n     <g id=\"text_21\">\n      <!-- 0 -->\n      <g transform=\"translate(206.360682 247.432547)scale(0.13 -0.13)\">\n       <use xlink:href=\"#DejaVuSans-30\"/>\n      </g>\n     </g>\n    </g>\n    <g id=\"ytick_11\">\n     <g id=\"line2d_19\">\n      <g>\n       <use style=\"stroke:#000000;stroke-width:0.8;\" x=\"221.631932\" xlink:href=\"#mb6d9862fba\" y=\"203.978886\"/>\n      </g>\n     </g>\n     <g id=\"text_22\">\n      <!-- 250 -->\n      <g transform=\"translate(189.818182 208.91787)scale(0.13 -0.13)\">\n       <use xlink:href=\"#DejaVuSans-32\"/>\n       <use x=\"63.623047\" xlink:href=\"#DejaVuSans-35\"/>\n       <use x=\"127.246094\" xlink:href=\"#DejaVuSans-30\"/>\n      </g>\n     </g>\n    </g>\n    <g id=\"ytick_12\">\n     <g id=\"line2d_20\">\n      <g>\n       <use style=\"stroke:#000000;stroke-width:0.8;\" x=\"221.631932\" xlink:href=\"#mb6d9862fba\" y=\"165.464209\"/>\n      </g>\n     </g>\n     <g id=\"text_23\">\n      <!-- 500 -->\n      <g transform=\"translate(189.818182 170.403193)scale(0.13 -0.13)\">\n       <use xlink:href=\"#DejaVuSans-35\"/>\n       <use x=\"63.623047\" xlink:href=\"#DejaVuSans-30\"/>\n       <use x=\"127.246094\" xlink:href=\"#DejaVuSans-30\"/>\n      </g>\n     </g>\n    </g>\n   </g>\n   <g id=\"patch_130\">\n    <path d=\"M 221.631932 242.493562 \nL 221.631932 143.657199 \n\" style=\"fill:none;stroke:#000000;stroke-linecap:square;stroke-linejoin:miter;stroke-width:0.8;\"/>\n   </g>\n   <g id=\"patch_131\">\n    <path d=\"M 373.81375 242.493562 \nL 373.81375 143.657199 \n\" style=\"fill:none;stroke:#000000;stroke-linecap:square;stroke-linejoin:miter;stroke-width:0.8;\"/>\n   </g>\n   <g id=\"patch_132\">\n    <path d=\"M 221.631932 242.493562 \nL 373.81375 242.493562 \n\" style=\"fill:none;stroke:#000000;stroke-linecap:square;stroke-linejoin:miter;stroke-width:0.8;\"/>\n   </g>\n   <g id=\"patch_133\">\n    <path d=\"M 221.631932 143.657199 \nL 373.81375 143.657199 \n\" style=\"fill:none;stroke:#000000;stroke-linecap:square;stroke-linejoin:miter;stroke-width:0.8;\"/>\n   </g>\n   <g id=\"text_24\">\n    <!-- Surprise v Neutral -->\n    <g transform=\"translate(227.069466 137.657199)scale(0.156 -0.156)\">\n     <defs>\n      <path d=\"M 603 3500 \nL 1178 3500 \nL 1178 0 \nL 603 0 \nL 603 3500 \nz\nM 603 4863 \nL 1178 4863 \nL 1178 4134 \nL 603 4134 \nL 603 4863 \nz\n\" id=\"DejaVuSans-69\" transform=\"scale(0.015625)\"/>\n      <path d=\"M 2834 3397 \nL 2834 2853 \nQ 2591 2978 2328 3040 \nQ 2066 3103 1784 3103 \nQ 1356 3103 1142 2972 \nQ 928 2841 928 2578 \nQ 928 2378 1081 2264 \nQ 1234 2150 1697 2047 \nL 1894 2003 \nQ 2506 1872 2764 1633 \nQ 3022 1394 3022 966 \nQ 3022 478 2636 193 \nQ 2250 -91 1575 -91 \nQ 1294 -91 989 -36 \nQ 684 19 347 128 \nL 347 722 \nQ 666 556 975 473 \nQ 1284 391 1588 391 \nQ 1994 391 2212 530 \nQ 2431 669 2431 922 \nQ 2431 1156 2273 1281 \nQ 2116 1406 1581 1522 \nL 1381 1569 \nQ 847 1681 609 1914 \nQ 372 2147 372 2553 \nQ 372 3047 722 3315 \nQ 1072 3584 1716 3584 \nQ 2034 3584 2315 3537 \nQ 2597 3491 2834 3397 \nz\n\" id=\"DejaVuSans-73\" transform=\"scale(0.015625)\"/>\n     </defs>\n     <use xlink:href=\"#DejaVuSans-53\"/>\n     <use x=\"63.476562\" xlink:href=\"#DejaVuSans-75\"/>\n     <use x=\"126.855469\" xlink:href=\"#DejaVuSans-72\"/>\n     <use x=\"167.96875\" xlink:href=\"#DejaVuSans-70\"/>\n     <use x=\"231.445312\" xlink:href=\"#DejaVuSans-72\"/>\n     <use x=\"272.558594\" xlink:href=\"#DejaVuSans-69\"/>\n     <use x=\"300.341797\" xlink:href=\"#DejaVuSans-73\"/>\n     <use x=\"352.441406\" xlink:href=\"#DejaVuSans-65\"/>\n     <use x=\"413.964844\" xlink:href=\"#DejaVuSans-20\"/>\n     <use x=\"445.751953\" xlink:href=\"#DejaVuSans-76\"/>\n     <use x=\"504.931641\" xlink:href=\"#DejaVuSans-20\"/>\n     <use x=\"536.71875\" xlink:href=\"#DejaVuSans-4e\"/>\n     <use x=\"611.523438\" xlink:href=\"#DejaVuSans-65\"/>\n     <use x=\"673.046875\" xlink:href=\"#DejaVuSans-75\"/>\n     <use x=\"736.425781\" xlink:href=\"#DejaVuSans-74\"/>\n     <use x=\"775.634766\" xlink:href=\"#DejaVuSans-72\"/>\n     <use x=\"816.748047\" xlink:href=\"#DejaVuSans-61\"/>\n     <use x=\"878.027344\" xlink:href=\"#DejaVuSans-6c\"/>\n    </g>\n   </g>\n  </g>\n </g>\n <defs>\n  <clipPath id=\"pb06099690b\">\n   <rect height=\"98.836364\" width=\"152.181818\" x=\"39.01375\" y=\"25.053563\"/>\n  </clipPath>\n  <clipPath id=\"p808d5e494d\">\n   <rect height=\"98.836364\" width=\"152.181818\" x=\"221.631932\" y=\"25.053563\"/>\n  </clipPath>\n  <clipPath id=\"pb204ef48cd\">\n   <rect height=\"98.836364\" width=\"152.181818\" x=\"39.01375\" y=\"143.657199\"/>\n  </clipPath>\n  <clipPath id=\"p3f88c02ec3\">\n   <rect height=\"98.836364\" width=\"152.181818\" x=\"221.631932\" y=\"143.657199\"/>\n  </clipPath>\n </defs>\n</svg>\n",
      "image/png": "[encoded data removed]"
     },
     "metadata": {
      "needs_background": "light"
     }
    }
   ],
   "source": [
    "bins = np.linspace(5,20,15)\n",
    "\n",
    "fig, axs = plt.subplots(2,2)\n",
    "\n",
    "axs[0,0].hist(data_df.loc[data_df['pred_emotion']=='neutral']['rpm'], bins, alpha=0.5)#, label='Neutral RPM')\n",
    "axs[0,1].hist(data_df.loc[data_df['pred_emotion']=='neutral']['rpm'], bins, alpha=0.5)#, label='Neutral RPM')\n",
    "axs[1,0].hist(data_df.loc[data_df['pred_emotion']=='neutral']['rpm'], bins, alpha=0.5)#, label='Neutral RPM')\n",
    "axs[1,1].hist(data_df.loc[data_df['pred_emotion']=='neutral']['rpm'], bins, alpha=0.5)#, label='Neutral RPM')\n",
    "\n",
    "axs[0,0].hist(data_df.loc[data_df['pred_emotion']=='happy']['rpm'], bins, alpha=0.5)#, label='Happy RPM')\n",
    "axs[0,0].set_title('Happy v Neutral')\n",
    "axs[0,1].hist(data_df.loc[data_df['pred_emotion']=='anger']['rpm'], bins, alpha=0.5)#, label='Happy RPM')\n",
    "axs[0,1].set_title('Anger v Neutral')\n",
    "axs[1,0].hist(data_df.loc[data_df['pred_emotion']=='sad']['rpm'], bins, alpha=0.5)#, label='Happy RPM')\n",
    "axs[1,0].set_title('Sad v Neutral')\n",
    "axs[1,1].hist(data_df.loc[data_df['pred_emotion']=='surprise']['rpm'], bins, alpha=0.5)#, label='Happy RPM')\n",
    "axs[1,1].set_title('Surprise v Neutral')\n",
    "# axs[0,0].legend(loc='upper right')\n",
    "fig.show()"
   ]
  },
  {
   "cell_type": "code",
   "execution_count": 111,
   "metadata": {},
   "outputs": [
    {
     "output_type": "execute_result",
     "data": {
      "text/plain": [
       "                rounded_ts participant_id video_id video_type  x_joystick  \\\n",
       "46     2021-04-28 17:24:56              1        1    neutral       -0.02   \n",
       "47     2021-04-28 17:24:56              1        1    neutral       -0.02   \n",
       "48     2021-04-28 17:24:58              1        1    neutral       -0.02   \n",
       "60     2021-04-28 17:26:07              1        1    neutral       -0.02   \n",
       "61     2021-04-28 17:26:07              1        1    neutral       -0.02   \n",
       "...                    ...            ...      ...        ...         ...   \n",
       "23931  2021-04-28 21:55:20             10        3    neutral       -0.02   \n",
       "23932  2021-04-28 21:55:20             10        3    neutral       -0.02   \n",
       "23998  2021-04-28 21:58:01             10        4   negative       -0.02   \n",
       "23999  2021-04-28 21:58:01             10        4   negative       -0.02   \n",
       "24000  2021-04-28 21:58:05             10        4   negative       -0.02   \n",
       "\n",
       "      pred_emotion emotion_confidence       rpm  distance  norm_slow  \\\n",
       "46         neutral       0.7060546875  12.94080  0.581643    13.3241   \n",
       "47         neutral      0.70458984375  12.94080  0.581643    13.3241   \n",
       "48         neutral       0.7001953125  12.94080  0.581643    14.1831   \n",
       "60         neutral      0.70166015625   8.32764  0.574658    21.1948   \n",
       "61         neutral         0.70703125   8.32764  0.574658    21.1948   \n",
       "...            ...                ...       ...       ...        ...   \n",
       "23931          sad       0.8193359375  15.08970  0.484343   431.2530   \n",
       "23932          sad      0.74169921875  15.08970  0.484343   431.2530   \n",
       "23998          sad           0.734375  19.75870  0.477765    32.5169   \n",
       "23999          sad       0.7314453125  19.75870  0.477765    32.5169   \n",
       "24000          sad      0.70166015625  20.52840  0.476535    52.6787   \n",
       "\n",
       "       norm_fast  norm_start  norm_stop  enc_video_type  enc_pred_emotion  \\\n",
       "46      0.000000    0.081643   1.081640               0                 0   \n",
       "47      0.000000    0.081643   1.081640               0                 0   \n",
       "48      0.000000    0.081643   1.081640               0                 0   \n",
       "60      0.398447    0.074658   1.074660               0                 0   \n",
       "61      0.398447    0.074658   1.074660               0                 0   \n",
       "...          ...         ...        ...             ...               ...   \n",
       "23931   8.404010   -0.015658   0.984343               0                 3   \n",
       "23932   8.404010   -0.015658   0.984343               0                 3   \n",
       "23998  11.246000   -0.022235   0.977765               2                 3   \n",
       "23999  11.246000   -0.022235   0.977765               2                 3   \n",
       "24000  28.074900   -0.023465   0.976535               2                 3   \n",
       "\n",
       "          y_hat  \n",
       "46    -0.049367  \n",
       "47    -0.054990  \n",
       "48    -0.054729  \n",
       "60    -0.038642  \n",
       "61    -0.027262  \n",
       "...         ...  \n",
       "23931 -0.012898  \n",
       "23932 -0.012898  \n",
       "23998 -0.016390  \n",
       "23999 -0.016390  \n",
       "24000 -0.016390  \n",
       "\n",
       "[9749 rows x 16 columns]"
      ],
      "text/html": "<div>\n<style scoped>\n    .dataframe tbody tr th:only-of-type {\n        vertical-align: middle;\n    }\n\n    .dataframe tbody tr th {\n        vertical-align: top;\n    }\n\n    .dataframe thead th {\n        text-align: right;\n    }\n</style>\n<table border=\"1\" class=\"dataframe\">\n  <thead>\n    <tr style=\"text-align: right;\">\n      <th></th>\n      <th>rounded_ts</th>\n      <th>participant_id</th>\n      <th>video_id</th>\n      <th>video_type</th>\n      <th>x_joystick</th>\n      <th>pred_emotion</th>\n      <th>emotion_confidence</th>\n      <th>rpm</th>\n      <th>distance</th>\n      <th>norm_slow</th>\n      <th>norm_fast</th>\n      <th>norm_start</th>\n      <th>norm_stop</th>\n      <th>enc_video_type</th>\n      <th>enc_pred_emotion</th>\n      <th>y_hat</th>\n    </tr>\n  </thead>\n  <tbody>\n    <tr>\n      <th>46</th>\n      <td>2021-04-28 17:24:56</td>\n      <td>1</td>\n      <td>1</td>\n      <td>neutral</td>\n      <td>-0.02</td>\n      <td>neutral</td>\n      <td>0.7060546875</td>\n      <td>12.94080</td>\n      <td>0.581643</td>\n      <td>13.3241</td>\n      <td>0.000000</td>\n      <td>0.081643</td>\n      <td>1.081640</td>\n      <td>0</td>\n      <td>0</td>\n      <td>-0.049367</td>\n    </tr>\n    <tr>\n      <th>47</th>\n      <td>2021-04-28 17:24:56</td>\n      <td>1</td>\n      <td>1</td>\n      <td>neutral</td>\n      <td>-0.02</td>\n      <td>neutral</td>\n      <td>0.70458984375</td>\n      <td>12.94080</td>\n      <td>0.581643</td>\n      <td>13.3241</td>\n      <td>0.000000</td>\n      <td>0.081643</td>\n      <td>1.081640</td>\n      <td>0</td>\n      <td>0</td>\n      <td>-0.054990</td>\n    </tr>\n    <tr>\n      <th>48</th>\n      <td>2021-04-28 17:24:58</td>\n      <td>1</td>\n      <td>1</td>\n      <td>neutral</td>\n      <td>-0.02</td>\n      <td>neutral</td>\n      <td>0.7001953125</td>\n      <td>12.94080</td>\n      <td>0.581643</td>\n      <td>14.1831</td>\n      <td>0.000000</td>\n      <td>0.081643</td>\n      <td>1.081640</td>\n      <td>0</td>\n      <td>0</td>\n      <td>-0.054729</td>\n    </tr>\n    <tr>\n      <th>60</th>\n      <td>2021-04-28 17:26:07</td>\n      <td>1</td>\n      <td>1</td>\n      <td>neutral</td>\n      <td>-0.02</td>\n      <td>neutral</td>\n      <td>0.70166015625</td>\n      <td>8.32764</td>\n      <td>0.574658</td>\n      <td>21.1948</td>\n      <td>0.398447</td>\n      <td>0.074658</td>\n      <td>1.074660</td>\n      <td>0</td>\n      <td>0</td>\n      <td>-0.038642</td>\n    </tr>\n    <tr>\n      <th>61</th>\n      <td>2021-04-28 17:26:07</td>\n      <td>1</td>\n      <td>1</td>\n      <td>neutral</td>\n      <td>-0.02</td>\n      <td>neutral</td>\n      <td>0.70703125</td>\n      <td>8.32764</td>\n      <td>0.574658</td>\n      <td>21.1948</td>\n      <td>0.398447</td>\n      <td>0.074658</td>\n      <td>1.074660</td>\n      <td>0</td>\n      <td>0</td>\n      <td>-0.027262</td>\n    </tr>\n    <tr>\n      <th>...</th>\n      <td>...</td>\n      <td>...</td>\n      <td>...</td>\n      <td>...</td>\n      <td>...</td>\n      <td>...</td>\n      <td>...</td>\n      <td>...</td>\n      <td>...</td>\n      <td>...</td>\n      <td>...</td>\n      <td>...</td>\n      <td>...</td>\n      <td>...</td>\n      <td>...</td>\n      <td>...</td>\n    </tr>\n    <tr>\n      <th>23931</th>\n      <td>2021-04-28 21:55:20</td>\n      <td>10</td>\n      <td>3</td>\n      <td>neutral</td>\n      <td>-0.02</td>\n      <td>sad</td>\n      <td>0.8193359375</td>\n      <td>15.08970</td>\n      <td>0.484343</td>\n      <td>431.2530</td>\n      <td>8.404010</td>\n      <td>-0.015658</td>\n      <td>0.984343</td>\n      <td>0</td>\n      <td>3</td>\n      <td>-0.012898</td>\n    </tr>\n    <tr>\n      <th>23932</th>\n      <td>2021-04-28 21:55:20</td>\n      <td>10</td>\n      <td>3</td>\n      <td>neutral</td>\n      <td>-0.02</td>\n      <td>sad</td>\n      <td>0.74169921875</td>\n      <td>15.08970</td>\n      <td>0.484343</td>\n      <td>431.2530</td>\n      <td>8.404010</td>\n      <td>-0.015658</td>\n      <td>0.984343</td>\n      <td>0</td>\n      <td>3</td>\n      <td>-0.012898</td>\n    </tr>\n    <tr>\n      <th>23998</th>\n      <td>2021-04-28 21:58:01</td>\n      <td>10</td>\n      <td>4</td>\n      <td>negative</td>\n      <td>-0.02</td>\n      <td>sad</td>\n      <td>0.734375</td>\n      <td>19.75870</td>\n      <td>0.477765</td>\n      <td>32.5169</td>\n      <td>11.246000</td>\n      <td>-0.022235</td>\n      <td>0.977765</td>\n      <td>2</td>\n      <td>3</td>\n      <td>-0.016390</td>\n    </tr>\n    <tr>\n      <th>23999</th>\n      <td>2021-04-28 21:58:01</td>\n      <td>10</td>\n      <td>4</td>\n      <td>negative</td>\n      <td>-0.02</td>\n      <td>sad</td>\n      <td>0.7314453125</td>\n      <td>19.75870</td>\n      <td>0.477765</td>\n      <td>32.5169</td>\n      <td>11.246000</td>\n      <td>-0.022235</td>\n      <td>0.977765</td>\n      <td>2</td>\n      <td>3</td>\n      <td>-0.016390</td>\n    </tr>\n    <tr>\n      <th>24000</th>\n      <td>2021-04-28 21:58:05</td>\n      <td>10</td>\n      <td>4</td>\n      <td>negative</td>\n      <td>-0.02</td>\n      <td>sad</td>\n      <td>0.70166015625</td>\n      <td>20.52840</td>\n      <td>0.476535</td>\n      <td>52.6787</td>\n      <td>28.074900</td>\n      <td>-0.023465</td>\n      <td>0.976535</td>\n      <td>2</td>\n      <td>3</td>\n      <td>-0.016390</td>\n    </tr>\n  </tbody>\n</table>\n<p>9749 rows × 16 columns</p>\n</div>"
     },
     "metadata": {},
     "execution_count": 111
    }
   ],
   "source": []
  },
  {
   "source": [
    "## Video Type vs Predicted Emotion"
   ],
   "cell_type": "markdown",
   "metadata": {}
  },
  {
   "cell_type": "code",
   "execution_count": 145,
   "metadata": {},
   "outputs": [
    {
     "output_type": "display_data",
     "data": {
      "text/plain": "<Figure size 432x288 with 2 Axes>",
      "image/svg+xml": "<?xml version=\"1.0\" encoding=\"utf-8\" standalone=\"no\"?>\n<!DOCTYPE svg PUBLIC \"-//W3C//DTD SVG 1.1//EN\"\n  \"http://www.w3.org/Graphics/SVG/1.1/DTD/svg11.dtd\">\n<svg height=\"268.364687pt\" version=\"1.1\" viewBox=\"0 0 386.461687 268.364687\" width=\"386.461687pt\" xmlns=\"http://www.w3.org/2000/svg\" xmlns:xlink=\"http://www.w3.org/1999/xlink\">\n <metadata>\n  <rdf:RDF xmlns:cc=\"http://creativecommons.org/ns#\" xmlns:dc=\"http://purl.org/dc/elements/1.1/\" xmlns:rdf=\"http://www.w3.org/1999/02/22-rdf-syntax-ns#\">\n   <cc:Work>\n    <dc:type rdf:resource=\"http://purl.org/dc/dcmitype/StillImage\"/>\n    <dc:date>2021-05-11T17:46:52.741093</dc:date>\n    <dc:format>image/svg+xml</dc:format>\n    <dc:creator>\n     <cc:Agent>\n      <dc:title>Matplotlib v3.4.2, https://matplotlib.org/</dc:title>\n     </cc:Agent>\n    </dc:creator>\n   </cc:Work>\n  </rdf:RDF>\n </metadata>\n <defs>\n  <style type=\"text/css\">*{stroke-linecap:butt;stroke-linejoin:round;}</style>\n </defs>\n <g id=\"figure_1\">\n  <g id=\"patch_1\">\n   <path d=\"M 0 268.364687 \nL 386.461687 268.364687 \nL 386.461687 0 \nL 0 0 \nz\n\" style=\"fill:none;\"/>\n  </g>\n  <g id=\"axes_1\">\n   <g id=\"patch_2\">\n    <path d=\"M 43.724688 224.64 \nL 311.564688 224.64 \nL 311.564688 7.2 \nL 43.724688 7.2 \nz\n\" style=\"fill:#ffffff;\"/>\n   </g>\n   <g id=\"QuadMesh_1\">\n    <path clip-path=\"url(#p5c0dd7c454)\" d=\"M 43.724688 7.2 \nL 97.292688 7.2 \nL 97.292688 79.68 \nL 43.724688 79.68 \nL 43.724688 7.2 \n\" style=\"fill:#03051a;\"/>\n    <path clip-path=\"url(#p5c0dd7c454)\" d=\"M 97.292688 7.2 \nL 150.860688 7.2 \nL 150.860688 79.68 \nL 97.292688 79.68 \nL 97.292688 7.2 \n\" style=\"fill:#381a40;\"/>\n    <path clip-path=\"url(#p5c0dd7c454)\" d=\"M 150.860688 7.2 \nL 204.428688 7.2 \nL 204.428688 79.68 \nL 150.860688 79.68 \nL 150.860688 7.2 \n\" style=\"fill:#381a40;\"/>\n    <path clip-path=\"url(#p5c0dd7c454)\" d=\"M 204.428688 7.2 \nL 257.996688 7.2 \nL 257.996688 79.68 \nL 204.428688 79.68 \nL 204.428688 7.2 \n\" style=\"fill:#07071d;\"/>\n    <path clip-path=\"url(#p5c0dd7c454)\" d=\"M 257.996688 7.2 \nL 311.564688 7.2 \nL 311.564688 79.68 \nL 257.996688 79.68 \nL 257.996688 7.2 \n\" style=\"fill:#0d0a21;\"/>\n    <path clip-path=\"url(#p5c0dd7c454)\" d=\"M 43.724688 79.68 \nL 97.292688 79.68 \nL 97.292688 152.16 \nL 43.724688 152.16 \nL 43.724688 79.68 \n\" style=\"fill:#04051a;\"/>\n    <path clip-path=\"url(#p5c0dd7c454)\" d=\"M 97.292688 79.68 \nL 150.860688 79.68 \nL 150.860688 152.16 \nL 97.292688 152.16 \nL 97.292688 79.68 \n\" style=\"fill:#491d49;\"/>\n    <path clip-path=\"url(#p5c0dd7c454)\" d=\"M 150.860688 79.68 \nL 204.428688 79.68 \nL 204.428688 152.16 \nL 150.860688 152.16 \nL 150.860688 79.68 \n\" style=\"fill:#df2f44;\"/>\n    <path clip-path=\"url(#p5c0dd7c454)\" d=\"M 204.428688 79.68 \nL 257.996688 79.68 \nL 257.996688 152.16 \nL 204.428688 152.16 \nL 204.428688 79.68 \n\" style=\"fill:#3a1a41;\"/>\n    <path clip-path=\"url(#p5c0dd7c454)\" d=\"M 257.996688 79.68 \nL 311.564688 79.68 \nL 311.564688 152.16 \nL 257.996688 152.16 \nL 257.996688 79.68 \n\" style=\"fill:#04051a;\"/>\n    <path clip-path=\"url(#p5c0dd7c454)\" d=\"M 43.724688 152.16 \nL 97.292688 152.16 \nL 97.292688 224.64 \nL 43.724688 224.64 \nL 43.724688 152.16 \n\" style=\"fill:#08081e;\"/>\n    <path clip-path=\"url(#p5c0dd7c454)\" d=\"M 97.292688 152.16 \nL 150.860688 152.16 \nL 150.860688 224.64 \nL 97.292688 224.64 \nL 97.292688 152.16 \n\" style=\"fill:#faebdd;\"/>\n    <path clip-path=\"url(#p5c0dd7c454)\" d=\"M 150.860688 152.16 \nL 204.428688 152.16 \nL 204.428688 224.64 \nL 150.860688 224.64 \nL 150.860688 152.16 \n\" style=\"fill:#761f58;\"/>\n    <path clip-path=\"url(#p5c0dd7c454)\" d=\"M 204.428688 152.16 \nL 257.996688 152.16 \nL 257.996688 224.64 \nL 204.428688 224.64 \nL 204.428688 152.16 \n\" style=\"fill:#03051a;\"/>\n    <path clip-path=\"url(#p5c0dd7c454)\" d=\"M 257.996688 152.16 \nL 311.564688 152.16 \nL 311.564688 224.64 \nL 257.996688 224.64 \nL 257.996688 152.16 \n\" style=\"fill:#03051a;\"/>\n   </g>\n   <g id=\"matplotlib.axis_1\">\n    <g id=\"xtick_1\">\n     <g id=\"line2d_1\">\n      <defs>\n       <path d=\"M 0 0 \nL 0 3.5 \n\" id=\"m2198438a9e\" style=\"stroke:#000000;stroke-width:0.8;\"/>\n      </defs>\n      <g>\n       <use style=\"stroke:#000000;stroke-width:0.8;\" x=\"70.508688\" xlink:href=\"#m2198438a9e\" y=\"224.64\"/>\n      </g>\n     </g>\n     <g id=\"text_1\">\n      <!-- anger -->\n      <g transform=\"translate(51.607906 241.517969)scale(0.13 -0.13)\">\n       <defs>\n        <path d=\"M 2194 1759 \nQ 1497 1759 1228 1600 \nQ 959 1441 959 1056 \nQ 959 750 1161 570 \nQ 1363 391 1709 391 \nQ 2188 391 2477 730 \nQ 2766 1069 2766 1631 \nL 2766 1759 \nL 2194 1759 \nz\nM 3341 1997 \nL 3341 0 \nL 2766 0 \nL 2766 531 \nQ 2569 213 2275 61 \nQ 1981 -91 1556 -91 \nQ 1019 -91 701 211 \nQ 384 513 384 1019 \nQ 384 1609 779 1909 \nQ 1175 2209 1959 2209 \nL 2766 2209 \nL 2766 2266 \nQ 2766 2663 2505 2880 \nQ 2244 3097 1772 3097 \nQ 1472 3097 1187 3025 \nQ 903 2953 641 2809 \nL 641 3341 \nQ 956 3463 1253 3523 \nQ 1550 3584 1831 3584 \nQ 2591 3584 2966 3190 \nQ 3341 2797 3341 1997 \nz\n\" id=\"DejaVuSans-61\" transform=\"scale(0.015625)\"/>\n        <path d=\"M 3513 2113 \nL 3513 0 \nL 2938 0 \nL 2938 2094 \nQ 2938 2591 2744 2837 \nQ 2550 3084 2163 3084 \nQ 1697 3084 1428 2787 \nQ 1159 2491 1159 1978 \nL 1159 0 \nL 581 0 \nL 581 3500 \nL 1159 3500 \nL 1159 2956 \nQ 1366 3272 1645 3428 \nQ 1925 3584 2291 3584 \nQ 2894 3584 3203 3211 \nQ 3513 2838 3513 2113 \nz\n\" id=\"DejaVuSans-6e\" transform=\"scale(0.015625)\"/>\n        <path d=\"M 2906 1791 \nQ 2906 2416 2648 2759 \nQ 2391 3103 1925 3103 \nQ 1463 3103 1205 2759 \nQ 947 2416 947 1791 \nQ 947 1169 1205 825 \nQ 1463 481 1925 481 \nQ 2391 481 2648 825 \nQ 2906 1169 2906 1791 \nz\nM 3481 434 \nQ 3481 -459 3084 -895 \nQ 2688 -1331 1869 -1331 \nQ 1566 -1331 1297 -1286 \nQ 1028 -1241 775 -1147 \nL 775 -588 \nQ 1028 -725 1275 -790 \nQ 1522 -856 1778 -856 \nQ 2344 -856 2625 -561 \nQ 2906 -266 2906 331 \nL 2906 616 \nQ 2728 306 2450 153 \nQ 2172 0 1784 0 \nQ 1141 0 747 490 \nQ 353 981 353 1791 \nQ 353 2603 747 3093 \nQ 1141 3584 1784 3584 \nQ 2172 3584 2450 3431 \nQ 2728 3278 2906 2969 \nL 2906 3500 \nL 3481 3500 \nL 3481 434 \nz\n\" id=\"DejaVuSans-67\" transform=\"scale(0.015625)\"/>\n        <path d=\"M 3597 1894 \nL 3597 1613 \nL 953 1613 \nQ 991 1019 1311 708 \nQ 1631 397 2203 397 \nQ 2534 397 2845 478 \nQ 3156 559 3463 722 \nL 3463 178 \nQ 3153 47 2828 -22 \nQ 2503 -91 2169 -91 \nQ 1331 -91 842 396 \nQ 353 884 353 1716 \nQ 353 2575 817 3079 \nQ 1281 3584 2069 3584 \nQ 2775 3584 3186 3129 \nQ 3597 2675 3597 1894 \nz\nM 3022 2063 \nQ 3016 2534 2758 2815 \nQ 2500 3097 2075 3097 \nQ 1594 3097 1305 2825 \nQ 1016 2553 972 2059 \nL 3022 2063 \nz\n\" id=\"DejaVuSans-65\" transform=\"scale(0.015625)\"/>\n        <path d=\"M 2631 2963 \nQ 2534 3019 2420 3045 \nQ 2306 3072 2169 3072 \nQ 1681 3072 1420 2755 \nQ 1159 2438 1159 1844 \nL 1159 0 \nL 581 0 \nL 581 3500 \nL 1159 3500 \nL 1159 2956 \nQ 1341 3275 1631 3429 \nQ 1922 3584 2338 3584 \nQ 2397 3584 2469 3576 \nQ 2541 3569 2628 3553 \nL 2631 2963 \nz\n\" id=\"DejaVuSans-72\" transform=\"scale(0.015625)\"/>\n       </defs>\n       <use xlink:href=\"#DejaVuSans-61\"/>\n       <use x=\"61.279297\" xlink:href=\"#DejaVuSans-6e\"/>\n       <use x=\"124.658203\" xlink:href=\"#DejaVuSans-67\"/>\n       <use x=\"188.134766\" xlink:href=\"#DejaVuSans-65\"/>\n       <use x=\"249.658203\" xlink:href=\"#DejaVuSans-72\"/>\n      </g>\n     </g>\n    </g>\n    <g id=\"xtick_2\">\n     <g id=\"line2d_2\">\n      <g>\n       <use style=\"stroke:#000000;stroke-width:0.8;\" x=\"124.076688\" xlink:href=\"#m2198438a9e\" y=\"224.64\"/>\n      </g>\n     </g>\n     <g id=\"text_2\">\n      <!-- happy -->\n      <g transform=\"translate(103.873875 241.517969)scale(0.13 -0.13)\">\n       <defs>\n        <path d=\"M 3513 2113 \nL 3513 0 \nL 2938 0 \nL 2938 2094 \nQ 2938 2591 2744 2837 \nQ 2550 3084 2163 3084 \nQ 1697 3084 1428 2787 \nQ 1159 2491 1159 1978 \nL 1159 0 \nL 581 0 \nL 581 4863 \nL 1159 4863 \nL 1159 2956 \nQ 1366 3272 1645 3428 \nQ 1925 3584 2291 3584 \nQ 2894 3584 3203 3211 \nQ 3513 2838 3513 2113 \nz\n\" id=\"DejaVuSans-68\" transform=\"scale(0.015625)\"/>\n        <path d=\"M 1159 525 \nL 1159 -1331 \nL 581 -1331 \nL 581 3500 \nL 1159 3500 \nL 1159 2969 \nQ 1341 3281 1617 3432 \nQ 1894 3584 2278 3584 \nQ 2916 3584 3314 3078 \nQ 3713 2572 3713 1747 \nQ 3713 922 3314 415 \nQ 2916 -91 2278 -91 \nQ 1894 -91 1617 61 \nQ 1341 213 1159 525 \nz\nM 3116 1747 \nQ 3116 2381 2855 2742 \nQ 2594 3103 2138 3103 \nQ 1681 3103 1420 2742 \nQ 1159 2381 1159 1747 \nQ 1159 1113 1420 752 \nQ 1681 391 2138 391 \nQ 2594 391 2855 752 \nQ 3116 1113 3116 1747 \nz\n\" id=\"DejaVuSans-70\" transform=\"scale(0.015625)\"/>\n        <path d=\"M 2059 -325 \nQ 1816 -950 1584 -1140 \nQ 1353 -1331 966 -1331 \nL 506 -1331 \nL 506 -850 \nL 844 -850 \nQ 1081 -850 1212 -737 \nQ 1344 -625 1503 -206 \nL 1606 56 \nL 191 3500 \nL 800 3500 \nL 1894 763 \nL 2988 3500 \nL 3597 3500 \nL 2059 -325 \nz\n\" id=\"DejaVuSans-79\" transform=\"scale(0.015625)\"/>\n       </defs>\n       <use xlink:href=\"#DejaVuSans-68\"/>\n       <use x=\"63.378906\" xlink:href=\"#DejaVuSans-61\"/>\n       <use x=\"124.658203\" xlink:href=\"#DejaVuSans-70\"/>\n       <use x=\"188.134766\" xlink:href=\"#DejaVuSans-70\"/>\n       <use x=\"251.611328\" xlink:href=\"#DejaVuSans-79\"/>\n      </g>\n     </g>\n    </g>\n    <g id=\"xtick_3\">\n     <g id=\"line2d_3\">\n      <g>\n       <use style=\"stroke:#000000;stroke-width:0.8;\" x=\"177.644688\" xlink:href=\"#m2198438a9e\" y=\"224.64\"/>\n      </g>\n     </g>\n     <g id=\"text_3\">\n      <!-- neutral -->\n      <g transform=\"translate(154.397031 241.517969)scale(0.13 -0.13)\">\n       <defs>\n        <path d=\"M 544 1381 \nL 544 3500 \nL 1119 3500 \nL 1119 1403 \nQ 1119 906 1312 657 \nQ 1506 409 1894 409 \nQ 2359 409 2629 706 \nQ 2900 1003 2900 1516 \nL 2900 3500 \nL 3475 3500 \nL 3475 0 \nL 2900 0 \nL 2900 538 \nQ 2691 219 2414 64 \nQ 2138 -91 1772 -91 \nQ 1169 -91 856 284 \nQ 544 659 544 1381 \nz\nM 1991 3584 \nL 1991 3584 \nz\n\" id=\"DejaVuSans-75\" transform=\"scale(0.015625)\"/>\n        <path d=\"M 1172 4494 \nL 1172 3500 \nL 2356 3500 \nL 2356 3053 \nL 1172 3053 \nL 1172 1153 \nQ 1172 725 1289 603 \nQ 1406 481 1766 481 \nL 2356 481 \nL 2356 0 \nL 1766 0 \nQ 1100 0 847 248 \nQ 594 497 594 1153 \nL 594 3053 \nL 172 3053 \nL 172 3500 \nL 594 3500 \nL 594 4494 \nL 1172 4494 \nz\n\" id=\"DejaVuSans-74\" transform=\"scale(0.015625)\"/>\n        <path d=\"M 603 4863 \nL 1178 4863 \nL 1178 0 \nL 603 0 \nL 603 4863 \nz\n\" id=\"DejaVuSans-6c\" transform=\"scale(0.015625)\"/>\n       </defs>\n       <use xlink:href=\"#DejaVuSans-6e\"/>\n       <use x=\"63.378906\" xlink:href=\"#DejaVuSans-65\"/>\n       <use x=\"124.902344\" xlink:href=\"#DejaVuSans-75\"/>\n       <use x=\"188.28125\" xlink:href=\"#DejaVuSans-74\"/>\n       <use x=\"227.490234\" xlink:href=\"#DejaVuSans-72\"/>\n       <use x=\"268.603516\" xlink:href=\"#DejaVuSans-61\"/>\n       <use x=\"329.882812\" xlink:href=\"#DejaVuSans-6c\"/>\n      </g>\n     </g>\n    </g>\n    <g id=\"xtick_4\">\n     <g id=\"line2d_4\">\n      <g>\n       <use style=\"stroke:#000000;stroke-width:0.8;\" x=\"231.212688\" xlink:href=\"#m2198438a9e\" y=\"224.64\"/>\n      </g>\n     </g>\n     <g id=\"text_4\">\n      <!-- sad -->\n      <g transform=\"translate(219.716828 241.517969)scale(0.13 -0.13)\">\n       <defs>\n        <path d=\"M 2834 3397 \nL 2834 2853 \nQ 2591 2978 2328 3040 \nQ 2066 3103 1784 3103 \nQ 1356 3103 1142 2972 \nQ 928 2841 928 2578 \nQ 928 2378 1081 2264 \nQ 1234 2150 1697 2047 \nL 1894 2003 \nQ 2506 1872 2764 1633 \nQ 3022 1394 3022 966 \nQ 3022 478 2636 193 \nQ 2250 -91 1575 -91 \nQ 1294 -91 989 -36 \nQ 684 19 347 128 \nL 347 722 \nQ 666 556 975 473 \nQ 1284 391 1588 391 \nQ 1994 391 2212 530 \nQ 2431 669 2431 922 \nQ 2431 1156 2273 1281 \nQ 2116 1406 1581 1522 \nL 1381 1569 \nQ 847 1681 609 1914 \nQ 372 2147 372 2553 \nQ 372 3047 722 3315 \nQ 1072 3584 1716 3584 \nQ 2034 3584 2315 3537 \nQ 2597 3491 2834 3397 \nz\n\" id=\"DejaVuSans-73\" transform=\"scale(0.015625)\"/>\n        <path d=\"M 2906 2969 \nL 2906 4863 \nL 3481 4863 \nL 3481 0 \nL 2906 0 \nL 2906 525 \nQ 2725 213 2448 61 \nQ 2172 -91 1784 -91 \nQ 1150 -91 751 415 \nQ 353 922 353 1747 \nQ 353 2572 751 3078 \nQ 1150 3584 1784 3584 \nQ 2172 3584 2448 3432 \nQ 2725 3281 2906 2969 \nz\nM 947 1747 \nQ 947 1113 1208 752 \nQ 1469 391 1925 391 \nQ 2381 391 2643 752 \nQ 2906 1113 2906 1747 \nQ 2906 2381 2643 2742 \nQ 2381 3103 1925 3103 \nQ 1469 3103 1208 2742 \nQ 947 2381 947 1747 \nz\n\" id=\"DejaVuSans-64\" transform=\"scale(0.015625)\"/>\n       </defs>\n       <use xlink:href=\"#DejaVuSans-73\"/>\n       <use x=\"52.099609\" xlink:href=\"#DejaVuSans-61\"/>\n       <use x=\"113.378906\" xlink:href=\"#DejaVuSans-64\"/>\n      </g>\n     </g>\n    </g>\n    <g id=\"xtick_5\">\n     <g id=\"line2d_5\">\n      <g>\n       <use style=\"stroke:#000000;stroke-width:0.8;\" x=\"284.780688\" xlink:href=\"#m2198438a9e\" y=\"224.64\"/>\n      </g>\n     </g>\n     <g id=\"text_5\">\n      <!-- surprise -->\n      <g transform=\"translate(258.613109 241.517969)scale(0.13 -0.13)\">\n       <defs>\n        <path d=\"M 603 3500 \nL 1178 3500 \nL 1178 0 \nL 603 0 \nL 603 3500 \nz\nM 603 4863 \nL 1178 4863 \nL 1178 4134 \nL 603 4134 \nL 603 4863 \nz\n\" id=\"DejaVuSans-69\" transform=\"scale(0.015625)\"/>\n       </defs>\n       <use xlink:href=\"#DejaVuSans-73\"/>\n       <use x=\"52.099609\" xlink:href=\"#DejaVuSans-75\"/>\n       <use x=\"115.478516\" xlink:href=\"#DejaVuSans-72\"/>\n       <use x=\"156.591797\" xlink:href=\"#DejaVuSans-70\"/>\n       <use x=\"220.068359\" xlink:href=\"#DejaVuSans-72\"/>\n       <use x=\"261.181641\" xlink:href=\"#DejaVuSans-69\"/>\n       <use x=\"288.964844\" xlink:href=\"#DejaVuSans-73\"/>\n       <use x=\"341.064453\" xlink:href=\"#DejaVuSans-65\"/>\n      </g>\n     </g>\n    </g>\n    <g id=\"text_6\">\n     <!-- pred_emotion -->\n     <g transform=\"translate(132.857656 258.099531)scale(0.13 -0.13)\">\n      <defs>\n       <path d=\"M 3263 -1063 \nL 3263 -1509 \nL -63 -1509 \nL -63 -1063 \nL 3263 -1063 \nz\n\" id=\"DejaVuSans-5f\" transform=\"scale(0.015625)\"/>\n       <path d=\"M 3328 2828 \nQ 3544 3216 3844 3400 \nQ 4144 3584 4550 3584 \nQ 5097 3584 5394 3201 \nQ 5691 2819 5691 2113 \nL 5691 0 \nL 5113 0 \nL 5113 2094 \nQ 5113 2597 4934 2840 \nQ 4756 3084 4391 3084 \nQ 3944 3084 3684 2787 \nQ 3425 2491 3425 1978 \nL 3425 0 \nL 2847 0 \nL 2847 2094 \nQ 2847 2600 2669 2842 \nQ 2491 3084 2119 3084 \nQ 1678 3084 1418 2786 \nQ 1159 2488 1159 1978 \nL 1159 0 \nL 581 0 \nL 581 3500 \nL 1159 3500 \nL 1159 2956 \nQ 1356 3278 1631 3431 \nQ 1906 3584 2284 3584 \nQ 2666 3584 2933 3390 \nQ 3200 3197 3328 2828 \nz\n\" id=\"DejaVuSans-6d\" transform=\"scale(0.015625)\"/>\n       <path d=\"M 1959 3097 \nQ 1497 3097 1228 2736 \nQ 959 2375 959 1747 \nQ 959 1119 1226 758 \nQ 1494 397 1959 397 \nQ 2419 397 2687 759 \nQ 2956 1122 2956 1747 \nQ 2956 2369 2687 2733 \nQ 2419 3097 1959 3097 \nz\nM 1959 3584 \nQ 2709 3584 3137 3096 \nQ 3566 2609 3566 1747 \nQ 3566 888 3137 398 \nQ 2709 -91 1959 -91 \nQ 1206 -91 779 398 \nQ 353 888 353 1747 \nQ 353 2609 779 3096 \nQ 1206 3584 1959 3584 \nz\n\" id=\"DejaVuSans-6f\" transform=\"scale(0.015625)\"/>\n      </defs>\n      <use xlink:href=\"#DejaVuSans-70\"/>\n      <use x=\"63.476562\" xlink:href=\"#DejaVuSans-72\"/>\n      <use x=\"102.339844\" xlink:href=\"#DejaVuSans-65\"/>\n      <use x=\"163.863281\" xlink:href=\"#DejaVuSans-64\"/>\n      <use x=\"227.339844\" xlink:href=\"#DejaVuSans-5f\"/>\n      <use x=\"277.339844\" xlink:href=\"#DejaVuSans-65\"/>\n      <use x=\"338.863281\" xlink:href=\"#DejaVuSans-6d\"/>\n      <use x=\"436.275391\" xlink:href=\"#DejaVuSans-6f\"/>\n      <use x=\"497.457031\" xlink:href=\"#DejaVuSans-74\"/>\n      <use x=\"536.666016\" xlink:href=\"#DejaVuSans-69\"/>\n      <use x=\"564.449219\" xlink:href=\"#DejaVuSans-6f\"/>\n      <use x=\"625.630859\" xlink:href=\"#DejaVuSans-6e\"/>\n     </g>\n    </g>\n   </g>\n   <g id=\"matplotlib.axis_2\">\n    <g id=\"ytick_1\">\n     <g id=\"line2d_6\">\n      <defs>\n       <path d=\"M 0 0 \nL -3.5 0 \n\" id=\"me08b43e47e\" style=\"stroke:#000000;stroke-width:0.8;\"/>\n      </defs>\n      <g>\n       <use style=\"stroke:#000000;stroke-width:0.8;\" x=\"43.724688\" xlink:href=\"#me08b43e47e\" y=\"43.44\"/>\n      </g>\n     </g>\n     <g id=\"text_7\">\n      <!-- negative -->\n      <g transform=\"translate(34.021094 95.359766)rotate(-90)scale(0.13 -0.13)\">\n       <defs>\n        <path d=\"M 191 3500 \nL 800 3500 \nL 1894 563 \nL 2988 3500 \nL 3597 3500 \nL 2284 0 \nL 1503 0 \nL 191 3500 \nz\n\" id=\"DejaVuSans-76\" transform=\"scale(0.015625)\"/>\n       </defs>\n       <use xlink:href=\"#DejaVuSans-6e\"/>\n       <use x=\"63.378906\" xlink:href=\"#DejaVuSans-65\"/>\n       <use x=\"124.902344\" xlink:href=\"#DejaVuSans-67\"/>\n       <use x=\"188.378906\" xlink:href=\"#DejaVuSans-61\"/>\n       <use x=\"249.658203\" xlink:href=\"#DejaVuSans-74\"/>\n       <use x=\"288.867188\" xlink:href=\"#DejaVuSans-69\"/>\n       <use x=\"316.650391\" xlink:href=\"#DejaVuSans-76\"/>\n       <use x=\"375.830078\" xlink:href=\"#DejaVuSans-65\"/>\n      </g>\n     </g>\n    </g>\n    <g id=\"ytick_2\">\n     <g id=\"line2d_7\">\n      <g>\n       <use style=\"stroke:#000000;stroke-width:0.8;\" x=\"43.724688\" xlink:href=\"#me08b43e47e\" y=\"115.92\"/>\n      </g>\n     </g>\n     <g id=\"text_8\">\n      <!-- neutral -->\n      <g transform=\"translate(34.021094 157.476328)rotate(-90)scale(0.13 -0.13)\">\n       <use xlink:href=\"#DejaVuSans-6e\"/>\n       <use x=\"63.378906\" xlink:href=\"#DejaVuSans-65\"/>\n       <use x=\"124.902344\" xlink:href=\"#DejaVuSans-75\"/>\n       <use x=\"188.28125\" xlink:href=\"#DejaVuSans-74\"/>\n       <use x=\"227.490234\" xlink:href=\"#DejaVuSans-72\"/>\n       <use x=\"268.603516\" xlink:href=\"#DejaVuSans-61\"/>\n       <use x=\"329.882812\" xlink:href=\"#DejaVuSans-6c\"/>\n      </g>\n     </g>\n    </g>\n    <g id=\"ytick_3\">\n     <g id=\"line2d_8\">\n      <g>\n       <use style=\"stroke:#000000;stroke-width:0.8;\" x=\"43.724688\" xlink:href=\"#me08b43e47e\" y=\"188.4\"/>\n      </g>\n     </g>\n     <g id=\"text_9\">\n      <!-- positive -->\n      <g transform=\"translate(34.021094 234.453516)rotate(-90)scale(0.13 -0.13)\">\n       <use xlink:href=\"#DejaVuSans-70\"/>\n       <use x=\"63.476562\" xlink:href=\"#DejaVuSans-6f\"/>\n       <use x=\"124.658203\" xlink:href=\"#DejaVuSans-73\"/>\n       <use x=\"176.757812\" xlink:href=\"#DejaVuSans-69\"/>\n       <use x=\"204.541016\" xlink:href=\"#DejaVuSans-74\"/>\n       <use x=\"243.75\" xlink:href=\"#DejaVuSans-69\"/>\n       <use x=\"271.533203\" xlink:href=\"#DejaVuSans-76\"/>\n       <use x=\"330.712891\" xlink:href=\"#DejaVuSans-65\"/>\n      </g>\n     </g>\n    </g>\n    <g id=\"text_10\">\n     <!-- video_type -->\n     <g transform=\"translate(17.077969 151.447578)rotate(-90)scale(0.13 -0.13)\">\n      <use xlink:href=\"#DejaVuSans-76\"/>\n      <use x=\"59.179688\" xlink:href=\"#DejaVuSans-69\"/>\n      <use x=\"86.962891\" xlink:href=\"#DejaVuSans-64\"/>\n      <use x=\"150.439453\" xlink:href=\"#DejaVuSans-65\"/>\n      <use x=\"211.962891\" xlink:href=\"#DejaVuSans-6f\"/>\n      <use x=\"273.144531\" xlink:href=\"#DejaVuSans-5f\"/>\n      <use x=\"323.144531\" xlink:href=\"#DejaVuSans-74\"/>\n      <use x=\"362.353516\" xlink:href=\"#DejaVuSans-79\"/>\n      <use x=\"421.533203\" xlink:href=\"#DejaVuSans-70\"/>\n      <use x=\"485.009766\" xlink:href=\"#DejaVuSans-65\"/>\n     </g>\n    </g>\n   </g>\n   <g id=\"text_11\">\n    <!-- 0 -->\n    <g style=\"fill:#ffffff;\" transform=\"translate(66.373063 47.027187)scale(0.13 -0.13)\">\n     <defs>\n      <path d=\"M 2034 4250 \nQ 1547 4250 1301 3770 \nQ 1056 3291 1056 2328 \nQ 1056 1369 1301 889 \nQ 1547 409 2034 409 \nQ 2525 409 2770 889 \nQ 3016 1369 3016 2328 \nQ 3016 3291 2770 3770 \nQ 2525 4250 2034 4250 \nz\nM 2034 4750 \nQ 2819 4750 3233 4129 \nQ 3647 3509 3647 2328 \nQ 3647 1150 3233 529 \nQ 2819 -91 2034 -91 \nQ 1250 -91 836 529 \nQ 422 1150 422 2328 \nQ 422 3509 836 4129 \nQ 1250 4750 2034 4750 \nz\n\" id=\"DejaVuSans-30\" transform=\"scale(0.015625)\"/>\n     </defs>\n     <use xlink:href=\"#DejaVuSans-30\"/>\n    </g>\n   </g>\n   <g id=\"text_12\">\n    <!-- 5.6e+02 -->\n    <g style=\"fill:#ffffff;\" transform=\"translate(96.022078 47.027187)scale(0.13 -0.13)\">\n     <defs>\n      <path d=\"M 691 4666 \nL 3169 4666 \nL 3169 4134 \nL 1269 4134 \nL 1269 2991 \nQ 1406 3038 1543 3061 \nQ 1681 3084 1819 3084 \nQ 2600 3084 3056 2656 \nQ 3513 2228 3513 1497 \nQ 3513 744 3044 326 \nQ 2575 -91 1722 -91 \nQ 1428 -91 1123 -41 \nQ 819 9 494 109 \nL 494 744 \nQ 775 591 1075 516 \nQ 1375 441 1709 441 \nQ 2250 441 2565 725 \nQ 2881 1009 2881 1497 \nQ 2881 1984 2565 2268 \nQ 2250 2553 1709 2553 \nQ 1456 2553 1204 2497 \nQ 953 2441 691 2322 \nL 691 4666 \nz\n\" id=\"DejaVuSans-35\" transform=\"scale(0.015625)\"/>\n      <path d=\"M 684 794 \nL 1344 794 \nL 1344 0 \nL 684 0 \nL 684 794 \nz\n\" id=\"DejaVuSans-2e\" transform=\"scale(0.015625)\"/>\n      <path d=\"M 2113 2584 \nQ 1688 2584 1439 2293 \nQ 1191 2003 1191 1497 \nQ 1191 994 1439 701 \nQ 1688 409 2113 409 \nQ 2538 409 2786 701 \nQ 3034 994 3034 1497 \nQ 3034 2003 2786 2293 \nQ 2538 2584 2113 2584 \nz\nM 3366 4563 \nL 3366 3988 \nQ 3128 4100 2886 4159 \nQ 2644 4219 2406 4219 \nQ 1781 4219 1451 3797 \nQ 1122 3375 1075 2522 \nQ 1259 2794 1537 2939 \nQ 1816 3084 2150 3084 \nQ 2853 3084 3261 2657 \nQ 3669 2231 3669 1497 \nQ 3669 778 3244 343 \nQ 2819 -91 2113 -91 \nQ 1303 -91 875 529 \nQ 447 1150 447 2328 \nQ 447 3434 972 4092 \nQ 1497 4750 2381 4750 \nQ 2619 4750 2861 4703 \nQ 3103 4656 3366 4563 \nz\n\" id=\"DejaVuSans-36\" transform=\"scale(0.015625)\"/>\n      <path d=\"M 2944 4013 \nL 2944 2272 \nL 4684 2272 \nL 4684 1741 \nL 2944 1741 \nL 2944 0 \nL 2419 0 \nL 2419 1741 \nL 678 1741 \nL 678 2272 \nL 2419 2272 \nL 2419 4013 \nL 2944 4013 \nz\n\" id=\"DejaVuSans-2b\" transform=\"scale(0.015625)\"/>\n      <path d=\"M 1228 531 \nL 3431 531 \nL 3431 0 \nL 469 0 \nL 469 531 \nQ 828 903 1448 1529 \nQ 2069 2156 2228 2338 \nQ 2531 2678 2651 2914 \nQ 2772 3150 2772 3378 \nQ 2772 3750 2511 3984 \nQ 2250 4219 1831 4219 \nQ 1534 4219 1204 4116 \nQ 875 4013 500 3803 \nL 500 4441 \nQ 881 4594 1212 4672 \nQ 1544 4750 1819 4750 \nQ 2544 4750 2975 4387 \nQ 3406 4025 3406 3419 \nQ 3406 3131 3298 2873 \nQ 3191 2616 2906 2266 \nQ 2828 2175 2409 1742 \nQ 1991 1309 1228 531 \nz\n\" id=\"DejaVuSans-32\" transform=\"scale(0.015625)\"/>\n     </defs>\n     <use xlink:href=\"#DejaVuSans-35\"/>\n     <use x=\"63.623047\" xlink:href=\"#DejaVuSans-2e\"/>\n     <use x=\"95.410156\" xlink:href=\"#DejaVuSans-36\"/>\n     <use x=\"159.033203\" xlink:href=\"#DejaVuSans-65\"/>\n     <use x=\"220.556641\" xlink:href=\"#DejaVuSans-2b\"/>\n     <use x=\"304.345703\" xlink:href=\"#DejaVuSans-30\"/>\n     <use x=\"367.96875\" xlink:href=\"#DejaVuSans-32\"/>\n    </g>\n   </g>\n   <g id=\"text_13\">\n    <!-- 5.6e+02 -->\n    <g style=\"fill:#ffffff;\" transform=\"translate(149.590078 47.027187)scale(0.13 -0.13)\">\n     <use xlink:href=\"#DejaVuSans-35\"/>\n     <use x=\"63.623047\" xlink:href=\"#DejaVuSans-2e\"/>\n     <use x=\"95.410156\" xlink:href=\"#DejaVuSans-36\"/>\n     <use x=\"159.033203\" xlink:href=\"#DejaVuSans-65\"/>\n     <use x=\"220.556641\" xlink:href=\"#DejaVuSans-2b\"/>\n     <use x=\"304.345703\" xlink:href=\"#DejaVuSans-30\"/>\n     <use x=\"367.96875\" xlink:href=\"#DejaVuSans-32\"/>\n    </g>\n   </g>\n   <g id=\"text_14\">\n    <!-- 59 -->\n    <g style=\"fill:#ffffff;\" transform=\"translate(222.941438 47.027187)scale(0.13 -0.13)\">\n     <defs>\n      <path d=\"M 703 97 \nL 703 672 \nQ 941 559 1184 500 \nQ 1428 441 1663 441 \nQ 2288 441 2617 861 \nQ 2947 1281 2994 2138 \nQ 2813 1869 2534 1725 \nQ 2256 1581 1919 1581 \nQ 1219 1581 811 2004 \nQ 403 2428 403 3163 \nQ 403 3881 828 4315 \nQ 1253 4750 1959 4750 \nQ 2769 4750 3195 4129 \nQ 3622 3509 3622 2328 \nQ 3622 1225 3098 567 \nQ 2575 -91 1691 -91 \nQ 1453 -91 1209 -44 \nQ 966 3 703 97 \nz\nM 1959 2075 \nQ 2384 2075 2632 2365 \nQ 2881 2656 2881 3163 \nQ 2881 3666 2632 3958 \nQ 2384 4250 1959 4250 \nQ 1534 4250 1286 3958 \nQ 1038 3666 1038 3163 \nQ 1038 2656 1286 2365 \nQ 1534 2075 1959 2075 \nz\n\" id=\"DejaVuSans-39\" transform=\"scale(0.015625)\"/>\n     </defs>\n     <use xlink:href=\"#DejaVuSans-35\"/>\n     <use x=\"63.623047\" xlink:href=\"#DejaVuSans-39\"/>\n    </g>\n   </g>\n   <g id=\"text_15\">\n    <!-- 1.3e+02 -->\n    <g style=\"fill:#ffffff;\" transform=\"translate(256.726078 47.027187)scale(0.13 -0.13)\">\n     <defs>\n      <path d=\"M 794 531 \nL 1825 531 \nL 1825 4091 \nL 703 3866 \nL 703 4441 \nL 1819 4666 \nL 2450 4666 \nL 2450 531 \nL 3481 531 \nL 3481 0 \nL 794 0 \nL 794 531 \nz\n\" id=\"DejaVuSans-31\" transform=\"scale(0.015625)\"/>\n      <path d=\"M 2597 2516 \nQ 3050 2419 3304 2112 \nQ 3559 1806 3559 1356 \nQ 3559 666 3084 287 \nQ 2609 -91 1734 -91 \nQ 1441 -91 1130 -33 \nQ 819 25 488 141 \nL 488 750 \nQ 750 597 1062 519 \nQ 1375 441 1716 441 \nQ 2309 441 2620 675 \nQ 2931 909 2931 1356 \nQ 2931 1769 2642 2001 \nQ 2353 2234 1838 2234 \nL 1294 2234 \nL 1294 2753 \nL 1863 2753 \nQ 2328 2753 2575 2939 \nQ 2822 3125 2822 3475 \nQ 2822 3834 2567 4026 \nQ 2313 4219 1838 4219 \nQ 1578 4219 1281 4162 \nQ 984 4106 628 3988 \nL 628 4550 \nQ 988 4650 1302 4700 \nQ 1616 4750 1894 4750 \nQ 2613 4750 3031 4423 \nQ 3450 4097 3450 3541 \nQ 3450 3153 3228 2886 \nQ 3006 2619 2597 2516 \nz\n\" id=\"DejaVuSans-33\" transform=\"scale(0.015625)\"/>\n     </defs>\n     <use xlink:href=\"#DejaVuSans-31\"/>\n     <use x=\"63.623047\" xlink:href=\"#DejaVuSans-2e\"/>\n     <use x=\"95.410156\" xlink:href=\"#DejaVuSans-33\"/>\n     <use x=\"159.033203\" xlink:href=\"#DejaVuSans-65\"/>\n     <use x=\"220.556641\" xlink:href=\"#DejaVuSans-2b\"/>\n     <use x=\"304.345703\" xlink:href=\"#DejaVuSans-30\"/>\n     <use x=\"367.96875\" xlink:href=\"#DejaVuSans-32\"/>\n    </g>\n   </g>\n   <g id=\"text_16\">\n    <!-- 23 -->\n    <g style=\"fill:#ffffff;\" transform=\"translate(62.237438 119.507187)scale(0.13 -0.13)\">\n     <use xlink:href=\"#DejaVuSans-32\"/>\n     <use x=\"63.623047\" xlink:href=\"#DejaVuSans-33\"/>\n    </g>\n   </g>\n   <g id=\"text_17\">\n    <!-- 7.3e+02 -->\n    <g style=\"fill:#ffffff;\" transform=\"translate(96.022078 119.507187)scale(0.13 -0.13)\">\n     <defs>\n      <path d=\"M 525 4666 \nL 3525 4666 \nL 3525 4397 \nL 1831 0 \nL 1172 0 \nL 2766 4134 \nL 525 4134 \nL 525 4666 \nz\n\" id=\"DejaVuSans-37\" transform=\"scale(0.015625)\"/>\n     </defs>\n     <use xlink:href=\"#DejaVuSans-37\"/>\n     <use x=\"63.623047\" xlink:href=\"#DejaVuSans-2e\"/>\n     <use x=\"95.410156\" xlink:href=\"#DejaVuSans-33\"/>\n     <use x=\"159.033203\" xlink:href=\"#DejaVuSans-65\"/>\n     <use x=\"220.556641\" xlink:href=\"#DejaVuSans-2b\"/>\n     <use x=\"304.345703\" xlink:href=\"#DejaVuSans-30\"/>\n     <use x=\"367.96875\" xlink:href=\"#DejaVuSans-32\"/>\n    </g>\n   </g>\n   <g id=\"text_18\">\n    <!-- 2.1e+03 -->\n    <g style=\"fill:#ffffff;\" transform=\"translate(149.590078 119.507187)scale(0.13 -0.13)\">\n     <use xlink:href=\"#DejaVuSans-32\"/>\n     <use x=\"63.623047\" xlink:href=\"#DejaVuSans-2e\"/>\n     <use x=\"95.410156\" xlink:href=\"#DejaVuSans-31\"/>\n     <use x=\"159.033203\" xlink:href=\"#DejaVuSans-65\"/>\n     <use x=\"220.556641\" xlink:href=\"#DejaVuSans-2b\"/>\n     <use x=\"304.345703\" xlink:href=\"#DejaVuSans-30\"/>\n     <use x=\"367.96875\" xlink:href=\"#DejaVuSans-33\"/>\n    </g>\n   </g>\n   <g id=\"text_19\">\n    <!-- 5.7e+02 -->\n    <g style=\"fill:#ffffff;\" transform=\"translate(203.158078 119.507187)scale(0.13 -0.13)\">\n     <use xlink:href=\"#DejaVuSans-35\"/>\n     <use x=\"63.623047\" xlink:href=\"#DejaVuSans-2e\"/>\n     <use x=\"95.410156\" xlink:href=\"#DejaVuSans-37\"/>\n     <use x=\"159.033203\" xlink:href=\"#DejaVuSans-65\"/>\n     <use x=\"220.556641\" xlink:href=\"#DejaVuSans-2b\"/>\n     <use x=\"304.345703\" xlink:href=\"#DejaVuSans-30\"/>\n     <use x=\"367.96875\" xlink:href=\"#DejaVuSans-32\"/>\n    </g>\n   </g>\n   <g id=\"text_20\">\n    <!-- 29 -->\n    <g style=\"fill:#ffffff;\" transform=\"translate(276.509438 119.507187)scale(0.13 -0.13)\">\n     <use xlink:href=\"#DejaVuSans-32\"/>\n     <use x=\"63.623047\" xlink:href=\"#DejaVuSans-39\"/>\n    </g>\n   </g>\n   <g id=\"text_21\">\n    <!-- 74 -->\n    <g style=\"fill:#ffffff;\" transform=\"translate(62.237438 191.987187)scale(0.13 -0.13)\">\n     <defs>\n      <path d=\"M 2419 4116 \nL 825 1625 \nL 2419 1625 \nL 2419 4116 \nz\nM 2253 4666 \nL 3047 4666 \nL 3047 1625 \nL 3713 1625 \nL 3713 1100 \nL 3047 1100 \nL 3047 0 \nL 2419 0 \nL 2419 1100 \nL 313 1100 \nL 313 1709 \nL 2253 4666 \nz\n\" id=\"DejaVuSans-34\" transform=\"scale(0.015625)\"/>\n     </defs>\n     <use xlink:href=\"#DejaVuSans-37\"/>\n     <use x=\"63.623047\" xlink:href=\"#DejaVuSans-34\"/>\n    </g>\n   </g>\n   <g id=\"text_22\">\n    <!-- 3.7e+03 -->\n    <g style=\"fill:#262626;\" transform=\"translate(96.022078 191.987187)scale(0.13 -0.13)\">\n     <use xlink:href=\"#DejaVuSans-33\"/>\n     <use x=\"63.623047\" xlink:href=\"#DejaVuSans-2e\"/>\n     <use x=\"95.410156\" xlink:href=\"#DejaVuSans-37\"/>\n     <use x=\"159.033203\" xlink:href=\"#DejaVuSans-65\"/>\n     <use x=\"220.556641\" xlink:href=\"#DejaVuSans-2b\"/>\n     <use x=\"304.345703\" xlink:href=\"#DejaVuSans-30\"/>\n     <use x=\"367.96875\" xlink:href=\"#DejaVuSans-33\"/>\n    </g>\n   </g>\n   <g id=\"text_23\">\n    <!-- 1.1e+03 -->\n    <g style=\"fill:#ffffff;\" transform=\"translate(149.590078 191.987187)scale(0.13 -0.13)\">\n     <use xlink:href=\"#DejaVuSans-31\"/>\n     <use x=\"63.623047\" xlink:href=\"#DejaVuSans-2e\"/>\n     <use x=\"95.410156\" xlink:href=\"#DejaVuSans-31\"/>\n     <use x=\"159.033203\" xlink:href=\"#DejaVuSans-65\"/>\n     <use x=\"220.556641\" xlink:href=\"#DejaVuSans-2b\"/>\n     <use x=\"304.345703\" xlink:href=\"#DejaVuSans-30\"/>\n     <use x=\"367.96875\" xlink:href=\"#DejaVuSans-33\"/>\n    </g>\n   </g>\n   <g id=\"text_24\">\n    <!-- 12 -->\n    <g style=\"fill:#ffffff;\" transform=\"translate(222.941438 191.987187)scale(0.13 -0.13)\">\n     <use xlink:href=\"#DejaVuSans-31\"/>\n     <use x=\"63.623047\" xlink:href=\"#DejaVuSans-32\"/>\n    </g>\n   </g>\n   <g id=\"text_25\">\n    <!-- 0 -->\n    <g style=\"fill:#ffffff;\" transform=\"translate(280.645063 191.987187)scale(0.13 -0.13)\">\n     <use xlink:href=\"#DejaVuSans-30\"/>\n    </g>\n   </g>\n  </g>\n  <g id=\"axes_2\">\n   <g id=\"patch_3\">\n    <path d=\"M 328.304688 224.64 \nL 339.176688 224.64 \nL 339.176688 7.2 \nL 328.304688 7.2 \nz\n\" style=\"fill:#ffffff;\"/>\n   </g>\n   <g id=\"patch_4\">\n    <path clip-path=\"url(#pb7b873b8bb)\" d=\"M 328.304688 224.64 \nL 328.304688 223.790625 \nL 328.304688 8.049375 \nL 328.304688 7.2 \nL 339.176688 7.2 \nL 339.176688 8.049375 \nL 339.176688 223.790625 \nL 339.176688 224.64 \nL 339.176688 224.64 \nz\n\" style=\"fill:#ffffff;stroke:#ffffff;stroke-linejoin:miter;stroke-width:0.01;\"/>\n   </g>\n   <image height=\"217\" id=\"image5934b1ec9f\" transform=\"scale(1 -1)translate(0 -217)\" width=\"11\" x=\"328\" xlink:href=\"data:image/png;base64,\niVBORw0KGgoAAAANSUhEUgAAAAsAAADZCAYAAAD2WsoCAAABSElEQVR4nO3aMW4DMQxEUVGUL5H7n9NOmZR6xQBcwKqJwecXpV0vXP36+azLdXbVbe06RcUrlWzMgtF7A8aQBqW4CxokdTnmnOeuhuScjRnJNBvBBoPbHRv+3FUQw+gH7qA1OAMD1d2vR243NZjDIBtJ5lTysREFjDHbDcl0FSAzFCfVQfH5jMAI3nWUfP1jKdygFAuz2ZDiEoxH2gjOxn10tEHBkOQxNnINjkiWQ5hkFoxtzIDR+53CAI6kDcEgGwXnCm1YMhR3p5Kn2JDiTTbgeKs6STYbkpyzIcUrllwnhwEv21OS4XllyUuYscFUcTXZIIxUsqlr+HQf9ByzseRjtbz1JzGGqLPZEAz5bIgnRYpjDdoZtNmYYWMIMw3SuX/SJxsckvy18a+4+pXCGGKDGhyyKfK/ArSRG/4Rt2hRMtn4Nvi3fgEQNSsjcwHpJAAAAABJRU5ErkJggg==\" y=\"-7\"/>\n   <g id=\"matplotlib.axis_3\"/>\n   <g id=\"matplotlib.axis_4\">\n    <g id=\"ytick_4\">\n     <g id=\"line2d_9\">\n      <defs>\n       <path d=\"M 0 0 \nL 3.5 0 \n\" id=\"m3745736a04\" style=\"stroke:#000000;stroke-width:0.8;\"/>\n      </defs>\n      <g>\n       <use style=\"stroke:#000000;stroke-width:0.8;\" x=\"339.176688\" xlink:href=\"#m3745736a04\" y=\"224.64\"/>\n      </g>\n     </g>\n     <g id=\"text_26\">\n      <!-- 0 -->\n      <g transform=\"translate(346.176688 229.578984)scale(0.13 -0.13)\">\n       <use xlink:href=\"#DejaVuSans-30\"/>\n      </g>\n     </g>\n    </g>\n    <g id=\"ytick_5\">\n     <g id=\"line2d_10\">\n      <g>\n       <use style=\"stroke:#000000;stroke-width:0.8;\" x=\"339.176688\" xlink:href=\"#m3745736a04\" y=\"195.640267\"/>\n      </g>\n     </g>\n     <g id=\"text_27\">\n      <!-- 500 -->\n      <g transform=\"translate(346.176688 200.579251)scale(0.13 -0.13)\">\n       <use xlink:href=\"#DejaVuSans-35\"/>\n       <use x=\"63.623047\" xlink:href=\"#DejaVuSans-30\"/>\n       <use x=\"127.246094\" xlink:href=\"#DejaVuSans-30\"/>\n      </g>\n     </g>\n    </g>\n    <g id=\"ytick_6\">\n     <g id=\"line2d_11\">\n      <g>\n       <use style=\"stroke:#000000;stroke-width:0.8;\" x=\"339.176688\" xlink:href=\"#m3745736a04\" y=\"166.640533\"/>\n      </g>\n     </g>\n     <g id=\"text_28\">\n      <!-- 1000 -->\n      <g transform=\"translate(346.176688 171.579518)scale(0.13 -0.13)\">\n       <use xlink:href=\"#DejaVuSans-31\"/>\n       <use x=\"63.623047\" xlink:href=\"#DejaVuSans-30\"/>\n       <use x=\"127.246094\" xlink:href=\"#DejaVuSans-30\"/>\n       <use x=\"190.869141\" xlink:href=\"#DejaVuSans-30\"/>\n      </g>\n     </g>\n    </g>\n    <g id=\"ytick_7\">\n     <g id=\"line2d_12\">\n      <g>\n       <use style=\"stroke:#000000;stroke-width:0.8;\" x=\"339.176688\" xlink:href=\"#m3745736a04\" y=\"137.6408\"/>\n      </g>\n     </g>\n     <g id=\"text_29\">\n      <!-- 1500 -->\n      <g transform=\"translate(346.176688 142.579785)scale(0.13 -0.13)\">\n       <use xlink:href=\"#DejaVuSans-31\"/>\n       <use x=\"63.623047\" xlink:href=\"#DejaVuSans-35\"/>\n       <use x=\"127.246094\" xlink:href=\"#DejaVuSans-30\"/>\n       <use x=\"190.869141\" xlink:href=\"#DejaVuSans-30\"/>\n      </g>\n     </g>\n    </g>\n    <g id=\"ytick_8\">\n     <g id=\"line2d_13\">\n      <g>\n       <use style=\"stroke:#000000;stroke-width:0.8;\" x=\"339.176688\" xlink:href=\"#m3745736a04\" y=\"108.641067\"/>\n      </g>\n     </g>\n     <g id=\"text_30\">\n      <!-- 2000 -->\n      <g transform=\"translate(346.176688 113.580051)scale(0.13 -0.13)\">\n       <use xlink:href=\"#DejaVuSans-32\"/>\n       <use x=\"63.623047\" xlink:href=\"#DejaVuSans-30\"/>\n       <use x=\"127.246094\" xlink:href=\"#DejaVuSans-30\"/>\n       <use x=\"190.869141\" xlink:href=\"#DejaVuSans-30\"/>\n      </g>\n     </g>\n    </g>\n    <g id=\"ytick_9\">\n     <g id=\"line2d_14\">\n      <g>\n       <use style=\"stroke:#000000;stroke-width:0.8;\" x=\"339.176688\" xlink:href=\"#m3745736a04\" y=\"79.641334\"/>\n      </g>\n     </g>\n     <g id=\"text_31\">\n      <!-- 2500 -->\n      <g transform=\"translate(346.176688 84.580318)scale(0.13 -0.13)\">\n       <use xlink:href=\"#DejaVuSans-32\"/>\n       <use x=\"63.623047\" xlink:href=\"#DejaVuSans-35\"/>\n       <use x=\"127.246094\" xlink:href=\"#DejaVuSans-30\"/>\n       <use x=\"190.869141\" xlink:href=\"#DejaVuSans-30\"/>\n      </g>\n     </g>\n    </g>\n    <g id=\"ytick_10\">\n     <g id=\"line2d_15\">\n      <g>\n       <use style=\"stroke:#000000;stroke-width:0.8;\" x=\"339.176688\" xlink:href=\"#m3745736a04\" y=\"50.6416\"/>\n      </g>\n     </g>\n     <g id=\"text_32\">\n      <!-- 3000 -->\n      <g transform=\"translate(346.176688 55.580585)scale(0.13 -0.13)\">\n       <use xlink:href=\"#DejaVuSans-33\"/>\n       <use x=\"63.623047\" xlink:href=\"#DejaVuSans-30\"/>\n       <use x=\"127.246094\" xlink:href=\"#DejaVuSans-30\"/>\n       <use x=\"190.869141\" xlink:href=\"#DejaVuSans-30\"/>\n      </g>\n     </g>\n    </g>\n    <g id=\"ytick_11\">\n     <g id=\"line2d_16\">\n      <g>\n       <use style=\"stroke:#000000;stroke-width:0.8;\" x=\"339.176688\" xlink:href=\"#m3745736a04\" y=\"21.641867\"/>\n      </g>\n     </g>\n     <g id=\"text_33\">\n      <!-- 3500 -->\n      <g transform=\"translate(346.176688 26.580852)scale(0.13 -0.13)\">\n       <use xlink:href=\"#DejaVuSans-33\"/>\n       <use x=\"63.623047\" xlink:href=\"#DejaVuSans-35\"/>\n       <use x=\"127.246094\" xlink:href=\"#DejaVuSans-30\"/>\n       <use x=\"190.869141\" xlink:href=\"#DejaVuSans-30\"/>\n      </g>\n     </g>\n    </g>\n   </g>\n   <g id=\"LineCollection_1\"/>\n   <g id=\"patch_5\">\n    <path d=\"M 328.304688 224.64 \nL 328.304688 223.790625 \nL 328.304688 8.049375 \nL 328.304688 7.2 \nL 339.176688 7.2 \nL 339.176688 8.049375 \nL 339.176688 223.790625 \nL 339.176688 224.64 \nz\n\" style=\"fill:none;\"/>\n   </g>\n  </g>\n </g>\n <defs>\n  <clipPath id=\"p5c0dd7c454\">\n   <rect height=\"217.44\" width=\"267.84\" x=\"43.724688\" y=\"7.2\"/>\n  </clipPath>\n  <clipPath id=\"pb7b873b8bb\">\n   <rect height=\"217.44\" width=\"10.872\" x=\"328.304688\" y=\"7.2\"/>\n  </clipPath>\n </defs>\n</svg>\n",
      "image/png": "[encoded data removed]"
     },
     "metadata": {
      "needs_background": "light"
     }
    }
   ],
   "source": [
    "import seaborn as sn\n",
    "confusion_matrix = pd.crosstab(data_df['video_type'], data_df['pred_emotion'], rownames=['video_type'], colnames=['pred_emotion'])\n",
    "sn.heatmap(confusion_matrix, annot=True)\n",
    "plt.show()"
   ]
  },
  {
   "cell_type": "code",
   "execution_count": null,
   "metadata": {},
   "outputs": [],
   "source": []
  }
 ],
 "metadata": {
  "kernelspec": {
   "name": "python382jvsc74a57bd031f2aee4e71d21fbe5cf8b01ff0e069b9275f58929596ceb00d14d90e3e16cd6",
   "display_name": "Python 3.8.2 64-bit"
  },
  "language_info": {
   "codemirror_mode": {
    "name": "ipython",
    "version": 3
   },
   "file_extension": ".py",
   "mimetype": "text/x-python",
   "name": "python",
   "nbconvert_exporter": "python",
   "pygments_lexer": "ipython3",
   "version": "3.8.2"
  },
  "metadata": {
   "interpreter": {
    "hash": "31f2aee4e71d21fbe5cf8b01ff0e069b9275f58929596ceb00d14d90e3e16cd6"
   }
  }
 },
 "nbformat": 4,
 "nbformat_minor": 5
}