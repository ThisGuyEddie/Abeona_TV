{
 "cells": [
  {
   "cell_type": "markdown",
   "id": "descending-bunch",
   "metadata": {},
   "source": [
    "# Imports"
   ]
  },
  {
   "cell_type": "code",
   "execution_count": 3,
   "id": "racial-stuff",
   "metadata": {},
   "outputs": [],
   "source": [
    "import pandas as pd\n",
    "import plotly.express as px\n",
    "import numpy as np\n",
    "import datetime as dt\n",
    "from plotly.subplots import make_subplots\n",
    "import plotly.graph_objects as go\n",
    "\n",
    "from sklearn.ensemble import RandomForestClassifier\n",
    "from sklearn.ensemble import RandomForestRegressor\n",
    "from imblearn.over_sampling import SMOTE\n",
    "from sklearn.model_selection import train_test_split\n",
    "from sklearn.metrics import plot_confusion_matrix\n",
    "\n",
    "from matplotlib import pyplot as plt\n",
    "from matplotlib import cm as cmap\n",
    "import matplotlib"
   ]
  },
  {
   "cell_type": "markdown",
   "id": "prerequisite-jurisdiction",
   "metadata": {},
   "source": [
    "# Pull Data"
   ]
  },
  {
   "cell_type": "markdown",
   "id": "textile-bruce",
   "metadata": {},
   "source": [
    "## Get the Facial Expression and Joystick Label Data"
   ]
  },
  {
   "cell_type": "code",
   "execution_count": 4,
   "id": "complicated-undergraduate",
   "metadata": {},
   "outputs": [
    {
     "output_type": "stream",
     "name": "stdout",
     "text": [
      "Bad data for participant 2 and video 1\n",
      "Bad data for participant 4 and video 1\n",
      "Bad data for participant 5 and video 4\n",
      "Bad data for participant 7 and video 2\n"
     ]
    }
   ],
   "source": [
    "participants = ['1', '2', '3', '4', '5', '6', '7', '8', '9', '10']\n",
    "videos = {'1': 'neutral', '2': 'positive', '3': 'neutral', '4': 'negative'}\n",
    "\n",
    "pi_df = pd.DataFrame()\n",
    "for participant in participants:\n",
    "    for video in videos.keys():\n",
    "        try:\n",
    "            tmp = pd.read_fwf(f'ubi_data/p{participant}_v{video}.txt', header=None)\n",
    "            tmp_df = tmp[(tmp.index > 94) &\n",
    "                         (tmp.index < len(tmp.index) - 44)][0].str.split(', ', expand=True)\n",
    "            data_cols = ['timestamp', 'x_joystick', 'y_joystick', 'pred_emotion', 'emotion_confidence']\n",
    "            tmp_df.columns = data_cols\n",
    "            tmp_df['participant_id'] = participant\n",
    "            tmp_df['video_id'] = video\n",
    "            tmp_df['video_type'] = videos[video]\n",
    "            tmp_df = tmp_df[['timestamp','participant_id','video_id','video_type'] + data_cols[1:]]\n",
    "\n",
    "            pi_df = pd.concat([pi_df, tmp_df])\n",
    "        except:\n",
    "            print(f'Bad data for participant {participant} and video {video}')\n",
    "            \n",
    "pi_df = pi_df.reset_index(drop=True)\n",
    "\n",
    "# Remove data that doesn't exist in the vital signs\n",
    "pi_df = pi_df[~((pi_df['participant_id'] == '5') & (pi_df['video_id'] == '3'))]\n",
    "\n",
    "pi_df = pi_df[~((pi_df['timestamp'].str.contains('jpegout')) |\n",
    "                (pi_df['timestamp'].str.contains('Opening')) |\n",
    "                (pi_df['timestamp'].str.contains('Attempting')) |\n",
    "                (pi_df['timestamp'].str.contains('Starting')) |\n",
    "                (pi_df['timestamp'].str.contains('Successfully')))]\n",
    "pi_df['timestamp'] = pd.to_datetime(pi_df['timestamp'].astype(float), unit='s').apply(lambda x: x - dt.timedelta(hours=4))\n",
    "pi_df['rounded_ts'] = pi_df.timestamp.astype(str).apply(lambda x: x.split('.')[0])\n",
    "pi_df['x_joystick'] = (-1 * (pi_df['x_joystick'].astype(int) - 500)) / 500\n",
    "del pi_df['timestamp']\n",
    "del pi_df['y_joystick']"
   ]
  },
  {
   "cell_type": "markdown",
   "id": "reliable-plenty",
   "metadata": {},
   "source": [
    "## Get the Respiration and Movement Data"
   ]
  },
  {
   "cell_type": "code",
   "execution_count": 5,
   "id": "diverse-triangle",
   "metadata": {},
   "outputs": [
    {
     "output_type": "stream",
     "name": "stdout",
     "text": [
      "Bad data for participant 2 and video 1\n",
      "Bad data for participant 4 and video 1\n",
      "Bad data for participant 5 and video 3\n",
      "Bad data for participant 5 and video 4\n",
      "Bad data for participant 7 and video 2\n"
     ]
    }
   ],
   "source": [
    "br_df = pd.DataFrame()\n",
    "for participant in participants:\n",
    "    for video in videos.keys():\n",
    "        try:\n",
    "            tmp = pd.read_fwf(f'vitalsigns/p{participant}_v{video}.csv', header=None)\n",
    "            tmp = tmp[(tmp.index > 13)].reset_index(drop=True)[0].str.split(';', expand=True)\n",
    "            tmp.columns = list(tmp[tmp.index == 0].values)[0]\n",
    "            tmp = tmp[tmp.index > 0].reset_index(drop=True).replace('nan', '-1')\n",
    "            tmp['RPM'] = tmp['RPM'].replace('0', np.nan).astype(float)\n",
    "            tmp['Distance'] = tmp['Distance'].astype(float)\n",
    "            tmp['NormalizedMovementSlow'] = tmp['NormalizedMovementSlow'].astype(float)\n",
    "            tmp['NormalizedMovementFast'] = tmp['NormalizedMovementFast'].astype(float)\n",
    "            tmp['NormalizedMovementStart'] = tmp['NormalizedMovementStart'].astype(float)\n",
    "            tmp['NormalizedMovementEnd'] = tmp['NormalizedMovementEnd'].astype(float)\n",
    "            tmp = tmp[['TimeStamp','RPM','Distance','NormalizedMovementSlow','NormalizedMovementFast','NormalizedMovementStart','NormalizedMovementEnd']]\n",
    "            data_cols = ['timestamp','rpm','distance','norm_slow','norm_fast','norm_start','norm_stop']\n",
    "            tmp.columns = data_cols\n",
    "            tmp['timestamp'] = pd.to_datetime(tmp['timestamp'])\n",
    "\n",
    "            tmp['participant_id'] = participant\n",
    "            tmp['video_id'] = video\n",
    "            tmp['video_type'] = videos[video]\n",
    "\n",
    "            tmp = tmp[['timestamp','participant_id','video_id','video_type'] + data_cols[1:]]\n",
    "\n",
    "            br_df = pd.concat([br_df, tmp])\n",
    "        except:\n",
    "            print(f'Bad data for participant {participant} and video {video}')\n",
    "        \n",
    "br_df = br_df.reset_index(drop=True)\n",
    "br_df['rounded_ts'] = br_df.timestamp.astype(str).apply(lambda x: x.split('.')[0])\n",
    "del br_df['timestamp']"
   ]
  },
  {
   "cell_type": "markdown",
   "id": "faced-brown",
   "metadata": {},
   "source": [
    "# Merge the Data"
   ]
  },
  {
   "cell_type": "code",
   "execution_count": 6,
   "id": "anonymous-bosnia",
   "metadata": {},
   "outputs": [],
   "source": [
    "data_df = pi_df.merge(br_df, how='inner', on=['participant_id','video_id','video_type','rounded_ts'])"
   ]
  },
  {
   "cell_type": "code",
   "execution_count": 7,
   "id": "numerical-launch",
   "metadata": {},
   "outputs": [],
   "source": [
    "starter_cols = ['rounded_ts','participant_id','video_id','video_type']\n",
    "other_cols = [x for x in list(data_df.columns) if x not in starter_cols]\n",
    "data_df = data_df[starter_cols + other_cols]\n",
    "data_df = data_df.dropna()"
   ]
  },
  {
   "cell_type": "markdown",
   "id": "advance-rabbit",
   "metadata": {},
   "source": [
    "# Visualize Distributions"
   ]
  },
  {
   "cell_type": "markdown",
   "id": "agreed-diameter",
   "metadata": {},
   "source": [
    "## Participant Data Representation"
   ]
  },
  {
   "cell_type": "code",
   "execution_count": 8,
   "id": "close-melbourne",
   "metadata": {},
   "outputs": [
    {
     "output_type": "display_data",
     "data": {
      "application/vnd.plotly.v1+json": {
       "config": {
        "plotlyServerURL": "https://plot.ly"
       },
       "data": [
        {
         "alignmentgroup": "True",
         "hovertemplate": "Participant ID=%{x}<br>Number of Data Points=%{y}<extra></extra>",
         "legendgroup": "",
         "marker": {
          "color": "#F8766D"
         },
         "name": "",
         "offsetgroup": "",
         "orientation": "v",
         "showlegend": false,
         "textposition": "auto",
         "type": "bar",
         "x": [
          "1",
          "10",
          "2",
          "3",
          "4",
          "5",
          "6",
          "7",
          "8",
          "9"
         ],
         "xaxis": "x",
         "y": [
          686,
          595,
          1561,
          75,
          1299,
          1063,
          236,
          322,
          2841,
          1071
         ],
         "yaxis": "y"
        }
       ],
       "layout": {
        "barmode": "relative",
        "legend": {
         "tracegroupgap": 0
        },
        "template": {
         "data": {
          "bar": [
           {
            "error_x": {
             "color": "rgb(51,51,51)"
            },
            "error_y": {
             "color": "rgb(51,51,51)"
            },
            "marker": {
             "line": {
              "color": "rgb(237,237,237)",
              "width": 0.5
             }
            },
            "type": "bar"
           }
          ],
          "barpolar": [
           {
            "marker": {
             "line": {
              "color": "rgb(237,237,237)",
              "width": 0.5
             }
            },
            "type": "barpolar"
           }
          ],
          "carpet": [
           {
            "aaxis": {
             "endlinecolor": "rgb(51,51,51)",
             "gridcolor": "white",
             "linecolor": "white",
             "minorgridcolor": "white",
             "startlinecolor": "rgb(51,51,51)"
            },
            "baxis": {
             "endlinecolor": "rgb(51,51,51)",
             "gridcolor": "white",
             "linecolor": "white",
             "minorgridcolor": "white",
             "startlinecolor": "rgb(51,51,51)"
            },
            "type": "carpet"
           }
          ],
          "choropleth": [
           {
            "colorbar": {
             "outlinewidth": 0,
             "tickcolor": "rgb(237,237,237)",
             "ticklen": 6,
             "ticks": "inside"
            },
            "type": "choropleth"
           }
          ],
          "contour": [
           {
            "colorbar": {
             "outlinewidth": 0,
             "tickcolor": "rgb(237,237,237)",
             "ticklen": 6,
             "ticks": "inside"
            },
            "colorscale": [
             [
              0,
              "rgb(20,44,66)"
             ],
             [
              1,
              "rgb(90,179,244)"
             ]
            ],
            "type": "contour"
           }
          ],
          "contourcarpet": [
           {
            "colorbar": {
             "outlinewidth": 0,
             "tickcolor": "rgb(237,237,237)",
             "ticklen": 6,
             "ticks": "inside"
            },
            "type": "contourcarpet"
           }
          ],
          "heatmap": [
           {
            "colorbar": {
             "outlinewidth": 0,
             "tickcolor": "rgb(237,237,237)",
             "ticklen": 6,
             "ticks": "inside"
            },
            "colorscale": [
             [
              0,
              "rgb(20,44,66)"
             ],
             [
              1,
              "rgb(90,179,244)"
             ]
            ],
            "type": "heatmap"
           }
          ],
          "heatmapgl": [
           {
            "colorbar": {
             "outlinewidth": 0,
             "tickcolor": "rgb(237,237,237)",
             "ticklen": 6,
             "ticks": "inside"
            },
            "colorscale": [
             [
              0,
              "rgb(20,44,66)"
             ],
             [
              1,
              "rgb(90,179,244)"
             ]
            ],
            "type": "heatmapgl"
           }
          ],
          "histogram": [
           {
            "marker": {
             "colorbar": {
              "outlinewidth": 0,
              "tickcolor": "rgb(237,237,237)",
              "ticklen": 6,
              "ticks": "inside"
             }
            },
            "type": "histogram"
           }
          ],
          "histogram2d": [
           {
            "colorbar": {
             "outlinewidth": 0,
             "tickcolor": "rgb(237,237,237)",
             "ticklen": 6,
             "ticks": "inside"
            },
            "colorscale": [
             [
              0,
              "rgb(20,44,66)"
             ],
             [
              1,
              "rgb(90,179,244)"
             ]
            ],
            "type": "histogram2d"
           }
          ],
          "histogram2dcontour": [
           {
            "colorbar": {
             "outlinewidth": 0,
             "tickcolor": "rgb(237,237,237)",
             "ticklen": 6,
             "ticks": "inside"
            },
            "colorscale": [
             [
              0,
              "rgb(20,44,66)"
             ],
             [
              1,
              "rgb(90,179,244)"
             ]
            ],
            "type": "histogram2dcontour"
           }
          ],
          "mesh3d": [
           {
            "colorbar": {
             "outlinewidth": 0,
             "tickcolor": "rgb(237,237,237)",
             "ticklen": 6,
             "ticks": "inside"
            },
            "type": "mesh3d"
           }
          ],
          "parcoords": [
           {
            "line": {
             "colorbar": {
              "outlinewidth": 0,
              "tickcolor": "rgb(237,237,237)",
              "ticklen": 6,
              "ticks": "inside"
             }
            },
            "type": "parcoords"
           }
          ],
          "pie": [
           {
            "automargin": true,
            "type": "pie"
           }
          ],
          "scatter": [
           {
            "marker": {
             "colorbar": {
              "outlinewidth": 0,
              "tickcolor": "rgb(237,237,237)",
              "ticklen": 6,
              "ticks": "inside"
             }
            },
            "type": "scatter"
           }
          ],
          "scatter3d": [
           {
            "line": {
             "colorbar": {
              "outlinewidth": 0,
              "tickcolor": "rgb(237,237,237)",
              "ticklen": 6,
              "ticks": "inside"
             }
            },
            "marker": {
             "colorbar": {
              "outlinewidth": 0,
              "tickcolor": "rgb(237,237,237)",
              "ticklen": 6,
              "ticks": "inside"
             }
            },
            "type": "scatter3d"
           }
          ],
          "scattercarpet": [
           {
            "marker": {
             "colorbar": {
              "outlinewidth": 0,
              "tickcolor": "rgb(237,237,237)",
              "ticklen": 6,
              "ticks": "inside"
             }
            },
            "type": "scattercarpet"
           }
          ],
          "scattergeo": [
           {
            "marker": {
             "colorbar": {
              "outlinewidth": 0,
              "tickcolor": "rgb(237,237,237)",
              "ticklen": 6,
              "ticks": "inside"
             }
            },
            "type": "scattergeo"
           }
          ],
          "scattergl": [
           {
            "marker": {
             "colorbar": {
              "outlinewidth": 0,
              "tickcolor": "rgb(237,237,237)",
              "ticklen": 6,
              "ticks": "inside"
             }
            },
            "type": "scattergl"
           }
          ],
          "scattermapbox": [
           {
            "marker": {
             "colorbar": {
              "outlinewidth": 0,
              "tickcolor": "rgb(237,237,237)",
              "ticklen": 6,
              "ticks": "inside"
             }
            },
            "type": "scattermapbox"
           }
          ],
          "scatterpolar": [
           {
            "marker": {
             "colorbar": {
              "outlinewidth": 0,
              "tickcolor": "rgb(237,237,237)",
              "ticklen": 6,
              "ticks": "inside"
             }
            },
            "type": "scatterpolar"
           }
          ],
          "scatterpolargl": [
           {
            "marker": {
             "colorbar": {
              "outlinewidth": 0,
              "tickcolor": "rgb(237,237,237)",
              "ticklen": 6,
              "ticks": "inside"
             }
            },
            "type": "scatterpolargl"
           }
          ],
          "scatterternary": [
           {
            "marker": {
             "colorbar": {
              "outlinewidth": 0,
              "tickcolor": "rgb(237,237,237)",
              "ticklen": 6,
              "ticks": "inside"
             }
            },
            "type": "scatterternary"
           }
          ],
          "surface": [
           {
            "colorbar": {
             "outlinewidth": 0,
             "tickcolor": "rgb(237,237,237)",
             "ticklen": 6,
             "ticks": "inside"
            },
            "colorscale": [
             [
              0,
              "rgb(20,44,66)"
             ],
             [
              1,
              "rgb(90,179,244)"
             ]
            ],
            "type": "surface"
           }
          ],
          "table": [
           {
            "cells": {
             "fill": {
              "color": "rgb(237,237,237)"
             },
             "line": {
              "color": "white"
             }
            },
            "header": {
             "fill": {
              "color": "rgb(217,217,217)"
             },
             "line": {
              "color": "white"
             }
            },
            "type": "table"
           }
          ]
         },
         "layout": {
          "annotationdefaults": {
           "arrowhead": 0,
           "arrowwidth": 1
          },
          "autotypenumbers": "strict",
          "coloraxis": {
           "colorbar": {
            "outlinewidth": 0,
            "tickcolor": "rgb(237,237,237)",
            "ticklen": 6,
            "ticks": "inside"
           }
          },
          "colorscale": {
           "sequential": [
            [
             0,
             "rgb(20,44,66)"
            ],
            [
             1,
             "rgb(90,179,244)"
            ]
           ],
           "sequentialminus": [
            [
             0,
             "rgb(20,44,66)"
            ],
            [
             1,
             "rgb(90,179,244)"
            ]
           ]
          },
          "colorway": [
           "#F8766D",
           "#A3A500",
           "#00BF7D",
           "#00B0F6",
           "#E76BF3"
          ],
          "font": {
           "color": "rgb(51,51,51)"
          },
          "geo": {
           "bgcolor": "white",
           "lakecolor": "white",
           "landcolor": "rgb(237,237,237)",
           "showlakes": true,
           "showland": true,
           "subunitcolor": "white"
          },
          "hoverlabel": {
           "align": "left"
          },
          "hovermode": "closest",
          "paper_bgcolor": "white",
          "plot_bgcolor": "rgb(237,237,237)",
          "polar": {
           "angularaxis": {
            "gridcolor": "white",
            "linecolor": "white",
            "showgrid": true,
            "tickcolor": "rgb(51,51,51)",
            "ticks": "outside"
           },
           "bgcolor": "rgb(237,237,237)",
           "radialaxis": {
            "gridcolor": "white",
            "linecolor": "white",
            "showgrid": true,
            "tickcolor": "rgb(51,51,51)",
            "ticks": "outside"
           }
          },
          "scene": {
           "xaxis": {
            "backgroundcolor": "rgb(237,237,237)",
            "gridcolor": "white",
            "gridwidth": 2,
            "linecolor": "white",
            "showbackground": true,
            "showgrid": true,
            "tickcolor": "rgb(51,51,51)",
            "ticks": "outside",
            "zerolinecolor": "white"
           },
           "yaxis": {
            "backgroundcolor": "rgb(237,237,237)",
            "gridcolor": "white",
            "gridwidth": 2,
            "linecolor": "white",
            "showbackground": true,
            "showgrid": true,
            "tickcolor": "rgb(51,51,51)",
            "ticks": "outside",
            "zerolinecolor": "white"
           },
           "zaxis": {
            "backgroundcolor": "rgb(237,237,237)",
            "gridcolor": "white",
            "gridwidth": 2,
            "linecolor": "white",
            "showbackground": true,
            "showgrid": true,
            "tickcolor": "rgb(51,51,51)",
            "ticks": "outside",
            "zerolinecolor": "white"
           }
          },
          "shapedefaults": {
           "fillcolor": "black",
           "line": {
            "width": 0
           },
           "opacity": 0.3
          },
          "ternary": {
           "aaxis": {
            "gridcolor": "white",
            "linecolor": "white",
            "showgrid": true,
            "tickcolor": "rgb(51,51,51)",
            "ticks": "outside"
           },
           "baxis": {
            "gridcolor": "white",
            "linecolor": "white",
            "showgrid": true,
            "tickcolor": "rgb(51,51,51)",
            "ticks": "outside"
           },
           "bgcolor": "rgb(237,237,237)",
           "caxis": {
            "gridcolor": "white",
            "linecolor": "white",
            "showgrid": true,
            "tickcolor": "rgb(51,51,51)",
            "ticks": "outside"
           }
          },
          "xaxis": {
           "automargin": true,
           "gridcolor": "white",
           "linecolor": "white",
           "showgrid": true,
           "tickcolor": "rgb(51,51,51)",
           "ticks": "outside",
           "title": {
            "standoff": 15
           },
           "zerolinecolor": "white"
          },
          "yaxis": {
           "automargin": true,
           "gridcolor": "white",
           "linecolor": "white",
           "showgrid": true,
           "tickcolor": "rgb(51,51,51)",
           "ticks": "outside",
           "title": {
            "standoff": 15
           },
           "zerolinecolor": "white"
          }
         }
        },
        "title": {
         "text": "Participant Data Distribution"
        },
        "xaxis": {
         "anchor": "y",
         "domain": [
          0,
          1
         ],
         "title": {
          "text": "Participant ID"
         }
        },
        "yaxis": {
         "anchor": "x",
         "domain": [
          0,
          1
         ],
         "title": {
          "text": "Number of Data Points"
         }
        }
       }
      }
     },
     "metadata": {}
    }
   ],
   "source": [
    "count_df = data_df.groupby('participant_id').video_id.count().reset_index().rename(columns={'video_id': 'count'})\n",
    "fig = px.bar(count_df, x='participant_id', y='count',\n",
    "             title='Participant Data Distribution',\n",
    "             labels={'count': 'Number of Data Points',\n",
    "                     'participant_id': 'Participant ID'},\n",
    "             template='ggplot2')\n",
    "fig.show()"
   ]
  },
  {
   "cell_type": "markdown",
   "id": "affiliated-replica",
   "metadata": {},
   "source": [
    "## Distribution of User Reported Emotions"
   ]
  },
  {
   "cell_type": "code",
   "execution_count": 9,
   "id": "productive-china",
   "metadata": {},
   "outputs": [
    {
     "output_type": "stream",
     "name": "stderr",
     "text": [
      "<ipython-input-9-e86b86564502>:10: SettingWithCopyWarning:\n\n\nA value is trying to be set on a copy of a slice from a DataFrame.\nTry using .loc[row_indexer,col_indexer] = value instead\n\nSee the caveats in the documentation: https://pandas.pydata.org/pandas-docs/stable/user_guide/indexing.html#returning-a-view-versus-a-copy\n\n"
     ]
    },
    {
     "output_type": "display_data",
     "data": {
      "application/vnd.plotly.v1+json": {
       "config": {
        "plotlyServerURL": "https://plot.ly"
       },
       "data": [
        {
         "type": "bar",
         "x": [
          -1,
          -0.75,
          -0.5,
          -0.25,
          0,
          0.25,
          0.5,
          0.75,
          1
         ],
         "xaxis": "x",
         "y": [
          0,
          0,
          0,
          0,
          3278,
          20,
          18,
          17,
          136
         ],
         "yaxis": "y"
        },
        {
         "type": "bar",
         "x": [
          -1,
          -0.75,
          -0.5,
          -0.25,
          0,
          0.25,
          0.5,
          0.75,
          1
         ],
         "xaxis": "x2",
         "y": [
          7,
          0,
          0,
          0,
          3838,
          92,
          39,
          59,
          942
         ],
         "yaxis": "y2"
        },
        {
         "type": "bar",
         "x": [
          -1,
          -0.75,
          -0.5,
          -0.25,
          0,
          0.25,
          0.5,
          0.75,
          1
         ],
         "xaxis": "x3",
         "y": [
          161,
          17,
          10,
          2,
          932,
          2,
          2,
          3,
          174
         ],
         "yaxis": "y3"
        }
       ],
       "layout": {
        "annotations": [
         {
          "font": {
           "size": 16
          },
          "showarrow": false,
          "text": "Neutral",
          "x": 0.14444444444444446,
          "xanchor": "center",
          "xref": "paper",
          "y": 1,
          "yanchor": "bottom",
          "yref": "paper"
         },
         {
          "font": {
           "size": 16
          },
          "showarrow": false,
          "text": "Positive",
          "x": 0.5,
          "xanchor": "center",
          "xref": "paper",
          "y": 1,
          "yanchor": "bottom",
          "yref": "paper"
         },
         {
          "font": {
           "size": 16
          },
          "showarrow": false,
          "text": "Negative",
          "x": 0.8555555555555556,
          "xanchor": "center",
          "xref": "paper",
          "y": 1,
          "yanchor": "bottom",
          "yref": "paper"
         }
        ],
        "showlegend": false,
        "template": {
         "data": {
          "bar": [
           {
            "error_x": {
             "color": "#2a3f5f"
            },
            "error_y": {
             "color": "#2a3f5f"
            },
            "marker": {
             "line": {
              "color": "#E5ECF6",
              "width": 0.5
             }
            },
            "type": "bar"
           }
          ],
          "barpolar": [
           {
            "marker": {
             "line": {
              "color": "#E5ECF6",
              "width": 0.5
             }
            },
            "type": "barpolar"
           }
          ],
          "carpet": [
           {
            "aaxis": {
             "endlinecolor": "#2a3f5f",
             "gridcolor": "white",
             "linecolor": "white",
             "minorgridcolor": "white",
             "startlinecolor": "#2a3f5f"
            },
            "baxis": {
             "endlinecolor": "#2a3f5f",
             "gridcolor": "white",
             "linecolor": "white",
             "minorgridcolor": "white",
             "startlinecolor": "#2a3f5f"
            },
            "type": "carpet"
           }
          ],
          "choropleth": [
           {
            "colorbar": {
             "outlinewidth": 0,
             "ticks": ""
            },
            "type": "choropleth"
           }
          ],
          "contour": [
           {
            "colorbar": {
             "outlinewidth": 0,
             "ticks": ""
            },
            "colorscale": [
             [
              0,
              "#0d0887"
             ],
             [
              0.1111111111111111,
              "#46039f"
             ],
             [
              0.2222222222222222,
              "#7201a8"
             ],
             [
              0.3333333333333333,
              "#9c179e"
             ],
             [
              0.4444444444444444,
              "#bd3786"
             ],
             [
              0.5555555555555556,
              "#d8576b"
             ],
             [
              0.6666666666666666,
              "#ed7953"
             ],
             [
              0.7777777777777778,
              "#fb9f3a"
             ],
             [
              0.8888888888888888,
              "#fdca26"
             ],
             [
              1,
              "#f0f921"
             ]
            ],
            "type": "contour"
           }
          ],
          "contourcarpet": [
           {
            "colorbar": {
             "outlinewidth": 0,
             "ticks": ""
            },
            "type": "contourcarpet"
           }
          ],
          "heatmap": [
           {
            "colorbar": {
             "outlinewidth": 0,
             "ticks": ""
            },
            "colorscale": [
             [
              0,
              "#0d0887"
             ],
             [
              0.1111111111111111,
              "#46039f"
             ],
             [
              0.2222222222222222,
              "#7201a8"
             ],
             [
              0.3333333333333333,
              "#9c179e"
             ],
             [
              0.4444444444444444,
              "#bd3786"
             ],
             [
              0.5555555555555556,
              "#d8576b"
             ],
             [
              0.6666666666666666,
              "#ed7953"
             ],
             [
              0.7777777777777778,
              "#fb9f3a"
             ],
             [
              0.8888888888888888,
              "#fdca26"
             ],
             [
              1,
              "#f0f921"
             ]
            ],
            "type": "heatmap"
           }
          ],
          "heatmapgl": [
           {
            "colorbar": {
             "outlinewidth": 0,
             "ticks": ""
            },
            "colorscale": [
             [
              0,
              "#0d0887"
             ],
             [
              0.1111111111111111,
              "#46039f"
             ],
             [
              0.2222222222222222,
              "#7201a8"
             ],
             [
              0.3333333333333333,
              "#9c179e"
             ],
             [
              0.4444444444444444,
              "#bd3786"
             ],
             [
              0.5555555555555556,
              "#d8576b"
             ],
             [
              0.6666666666666666,
              "#ed7953"
             ],
             [
              0.7777777777777778,
              "#fb9f3a"
             ],
             [
              0.8888888888888888,
              "#fdca26"
             ],
             [
              1,
              "#f0f921"
             ]
            ],
            "type": "heatmapgl"
           }
          ],
          "histogram": [
           {
            "marker": {
             "colorbar": {
              "outlinewidth": 0,
              "ticks": ""
             }
            },
            "type": "histogram"
           }
          ],
          "histogram2d": [
           {
            "colorbar": {
             "outlinewidth": 0,
             "ticks": ""
            },
            "colorscale": [
             [
              0,
              "#0d0887"
             ],
             [
              0.1111111111111111,
              "#46039f"
             ],
             [
              0.2222222222222222,
              "#7201a8"
             ],
             [
              0.3333333333333333,
              "#9c179e"
             ],
             [
              0.4444444444444444,
              "#bd3786"
             ],
             [
              0.5555555555555556,
              "#d8576b"
             ],
             [
              0.6666666666666666,
              "#ed7953"
             ],
             [
              0.7777777777777778,
              "#fb9f3a"
             ],
             [
              0.8888888888888888,
              "#fdca26"
             ],
             [
              1,
              "#f0f921"
             ]
            ],
            "type": "histogram2d"
           }
          ],
          "histogram2dcontour": [
           {
            "colorbar": {
             "outlinewidth": 0,
             "ticks": ""
            },
            "colorscale": [
             [
              0,
              "#0d0887"
             ],
             [
              0.1111111111111111,
              "#46039f"
             ],
             [
              0.2222222222222222,
              "#7201a8"
             ],
             [
              0.3333333333333333,
              "#9c179e"
             ],
             [
              0.4444444444444444,
              "#bd3786"
             ],
             [
              0.5555555555555556,
              "#d8576b"
             ],
             [
              0.6666666666666666,
              "#ed7953"
             ],
             [
              0.7777777777777778,
              "#fb9f3a"
             ],
             [
              0.8888888888888888,
              "#fdca26"
             ],
             [
              1,
              "#f0f921"
             ]
            ],
            "type": "histogram2dcontour"
           }
          ],
          "mesh3d": [
           {
            "colorbar": {
             "outlinewidth": 0,
             "ticks": ""
            },
            "type": "mesh3d"
           }
          ],
          "parcoords": [
           {
            "line": {
             "colorbar": {
              "outlinewidth": 0,
              "ticks": ""
             }
            },
            "type": "parcoords"
           }
          ],
          "pie": [
           {
            "automargin": true,
            "type": "pie"
           }
          ],
          "scatter": [
           {
            "marker": {
             "colorbar": {
              "outlinewidth": 0,
              "ticks": ""
             }
            },
            "type": "scatter"
           }
          ],
          "scatter3d": [
           {
            "line": {
             "colorbar": {
              "outlinewidth": 0,
              "ticks": ""
             }
            },
            "marker": {
             "colorbar": {
              "outlinewidth": 0,
              "ticks": ""
             }
            },
            "type": "scatter3d"
           }
          ],
          "scattercarpet": [
           {
            "marker": {
             "colorbar": {
              "outlinewidth": 0,
              "ticks": ""
             }
            },
            "type": "scattercarpet"
           }
          ],
          "scattergeo": [
           {
            "marker": {
             "colorbar": {
              "outlinewidth": 0,
              "ticks": ""
             }
            },
            "type": "scattergeo"
           }
          ],
          "scattergl": [
           {
            "marker": {
             "colorbar": {
              "outlinewidth": 0,
              "ticks": ""
             }
            },
            "type": "scattergl"
           }
          ],
          "scattermapbox": [
           {
            "marker": {
             "colorbar": {
              "outlinewidth": 0,
              "ticks": ""
             }
            },
            "type": "scattermapbox"
           }
          ],
          "scatterpolar": [
           {
            "marker": {
             "colorbar": {
              "outlinewidth": 0,
              "ticks": ""
             }
            },
            "type": "scatterpolar"
           }
          ],
          "scatterpolargl": [
           {
            "marker": {
             "colorbar": {
              "outlinewidth": 0,
              "ticks": ""
             }
            },
            "type": "scatterpolargl"
           }
          ],
          "scatterternary": [
           {
            "marker": {
             "colorbar": {
              "outlinewidth": 0,
              "ticks": ""
             }
            },
            "type": "scatterternary"
           }
          ],
          "surface": [
           {
            "colorbar": {
             "outlinewidth": 0,
             "ticks": ""
            },
            "colorscale": [
             [
              0,
              "#0d0887"
             ],
             [
              0.1111111111111111,
              "#46039f"
             ],
             [
              0.2222222222222222,
              "#7201a8"
             ],
             [
              0.3333333333333333,
              "#9c179e"
             ],
             [
              0.4444444444444444,
              "#bd3786"
             ],
             [
              0.5555555555555556,
              "#d8576b"
             ],
             [
              0.6666666666666666,
              "#ed7953"
             ],
             [
              0.7777777777777778,
              "#fb9f3a"
             ],
             [
              0.8888888888888888,
              "#fdca26"
             ],
             [
              1,
              "#f0f921"
             ]
            ],
            "type": "surface"
           }
          ],
          "table": [
           {
            "cells": {
             "fill": {
              "color": "#EBF0F8"
             },
             "line": {
              "color": "white"
             }
            },
            "header": {
             "fill": {
              "color": "#C8D4E3"
             },
             "line": {
              "color": "white"
             }
            },
            "type": "table"
           }
          ]
         },
         "layout": {
          "annotationdefaults": {
           "arrowcolor": "#2a3f5f",
           "arrowhead": 0,
           "arrowwidth": 1
          },
          "autotypenumbers": "strict",
          "coloraxis": {
           "colorbar": {
            "outlinewidth": 0,
            "ticks": ""
           }
          },
          "colorscale": {
           "diverging": [
            [
             0,
             "#8e0152"
            ],
            [
             0.1,
             "#c51b7d"
            ],
            [
             0.2,
             "#de77ae"
            ],
            [
             0.3,
             "#f1b6da"
            ],
            [
             0.4,
             "#fde0ef"
            ],
            [
             0.5,
             "#f7f7f7"
            ],
            [
             0.6,
             "#e6f5d0"
            ],
            [
             0.7,
             "#b8e186"
            ],
            [
             0.8,
             "#7fbc41"
            ],
            [
             0.9,
             "#4d9221"
            ],
            [
             1,
             "#276419"
            ]
           ],
           "sequential": [
            [
             0,
             "#0d0887"
            ],
            [
             0.1111111111111111,
             "#46039f"
            ],
            [
             0.2222222222222222,
             "#7201a8"
            ],
            [
             0.3333333333333333,
             "#9c179e"
            ],
            [
             0.4444444444444444,
             "#bd3786"
            ],
            [
             0.5555555555555556,
             "#d8576b"
            ],
            [
             0.6666666666666666,
             "#ed7953"
            ],
            [
             0.7777777777777778,
             "#fb9f3a"
            ],
            [
             0.8888888888888888,
             "#fdca26"
            ],
            [
             1,
             "#f0f921"
            ]
           ],
           "sequentialminus": [
            [
             0,
             "#0d0887"
            ],
            [
             0.1111111111111111,
             "#46039f"
            ],
            [
             0.2222222222222222,
             "#7201a8"
            ],
            [
             0.3333333333333333,
             "#9c179e"
            ],
            [
             0.4444444444444444,
             "#bd3786"
            ],
            [
             0.5555555555555556,
             "#d8576b"
            ],
            [
             0.6666666666666666,
             "#ed7953"
            ],
            [
             0.7777777777777778,
             "#fb9f3a"
            ],
            [
             0.8888888888888888,
             "#fdca26"
            ],
            [
             1,
             "#f0f921"
            ]
           ]
          },
          "colorway": [
           "#636efa",
           "#EF553B",
           "#00cc96",
           "#ab63fa",
           "#FFA15A",
           "#19d3f3",
           "#FF6692",
           "#B6E880",
           "#FF97FF",
           "#FECB52"
          ],
          "font": {
           "color": "#2a3f5f"
          },
          "geo": {
           "bgcolor": "white",
           "lakecolor": "white",
           "landcolor": "#E5ECF6",
           "showlakes": true,
           "showland": true,
           "subunitcolor": "white"
          },
          "hoverlabel": {
           "align": "left"
          },
          "hovermode": "closest",
          "mapbox": {
           "style": "light"
          },
          "paper_bgcolor": "white",
          "plot_bgcolor": "#E5ECF6",
          "polar": {
           "angularaxis": {
            "gridcolor": "white",
            "linecolor": "white",
            "ticks": ""
           },
           "bgcolor": "#E5ECF6",
           "radialaxis": {
            "gridcolor": "white",
            "linecolor": "white",
            "ticks": ""
           }
          },
          "scene": {
           "xaxis": {
            "backgroundcolor": "#E5ECF6",
            "gridcolor": "white",
            "gridwidth": 2,
            "linecolor": "white",
            "showbackground": true,
            "ticks": "",
            "zerolinecolor": "white"
           },
           "yaxis": {
            "backgroundcolor": "#E5ECF6",
            "gridcolor": "white",
            "gridwidth": 2,
            "linecolor": "white",
            "showbackground": true,
            "ticks": "",
            "zerolinecolor": "white"
           },
           "zaxis": {
            "backgroundcolor": "#E5ECF6",
            "gridcolor": "white",
            "gridwidth": 2,
            "linecolor": "white",
            "showbackground": true,
            "ticks": "",
            "zerolinecolor": "white"
           }
          },
          "shapedefaults": {
           "line": {
            "color": "#2a3f5f"
           }
          },
          "ternary": {
           "aaxis": {
            "gridcolor": "white",
            "linecolor": "white",
            "ticks": ""
           },
           "baxis": {
            "gridcolor": "white",
            "linecolor": "white",
            "ticks": ""
           },
           "bgcolor": "#E5ECF6",
           "caxis": {
            "gridcolor": "white",
            "linecolor": "white",
            "ticks": ""
           }
          },
          "title": {
           "x": 0.05
          },
          "xaxis": {
           "automargin": true,
           "gridcolor": "white",
           "linecolor": "white",
           "ticks": "",
           "title": {
            "standoff": 15
           },
           "zerolinecolor": "white",
           "zerolinewidth": 2
          },
          "yaxis": {
           "automargin": true,
           "gridcolor": "white",
           "linecolor": "white",
           "ticks": "",
           "title": {
            "standoff": 15
           },
           "zerolinecolor": "white",
           "zerolinewidth": 2
          }
         }
        },
        "title": {
         "text": "User-Reported Emotion by Video Type"
        },
        "xaxis": {
         "anchor": "y",
         "domain": [
          0,
          0.2888888888888889
         ]
        },
        "xaxis2": {
         "anchor": "y2",
         "domain": [
          0.35555555555555557,
          0.6444444444444445
         ],
         "title": {
          "text": "Negative to Positive Reported Emotions"
         }
        },
        "xaxis3": {
         "anchor": "y3",
         "domain": [
          0.7111111111111111,
          1
         ]
        },
        "yaxis": {
         "anchor": "x",
         "domain": [
          0,
          1
         ],
         "title": {
          "text": "Count of Reported Emotions"
         }
        },
        "yaxis2": {
         "anchor": "x2",
         "domain": [
          0,
          1
         ]
        },
        "yaxis3": {
         "anchor": "x3",
         "domain": [
          0,
          1
         ]
        }
       }
      }
     },
     "metadata": {}
    }
   ],
   "source": [
    "bins = [-1.5, -0.75, -0.5, -0.25, -0.1, 0.1,\n",
    "        0.25, 0.5, 0.75, 1.5]\n",
    "labels = [-1.0, -0.75, -0.5, -0.25, 0.0, 0.25, 0.5, 0.75, 1.0]\n",
    "\n",
    "fig = make_subplots(rows=1, cols=3,\n",
    "                    subplot_titles=('Neutral','Positive','Negative'))\n",
    "emotions = ['neutral','positive','negative']\n",
    "for i, emotion in enumerate(emotions):\n",
    "    tmp = data_df[data_df['video_type'] == emotion]\n",
    "    tmp['x_joystick'] = pd.cut(tmp['x_joystick'], bins=bins, labels=labels)\n",
    "    tmp = tmp.groupby('x_joystick').video_id.count().reset_index().rename(columns={'video_id':'count'})\n",
    "    fig.add_trace(go.Bar(x=list(tmp['x_joystick']),\n",
    "                         y=list(tmp['count'])),\n",
    "                  row=1, col=i + 1)\n",
    "\n",
    "fig.update_layout(title_text='User-Reported Emotion by Video Type', showlegend=False)\n",
    "fig.update_yaxes(title_text='Count of Reported Emotions', row=1, col=1)\n",
    "fig.update_xaxes(title_text='Negative to Positive Reported Emotions', row=1, col=2)\n",
    "fig.show()"
   ]
  },
  {
   "cell_type": "markdown",
   "id": "historical-telescope",
   "metadata": {},
   "source": [
    "## RPM Distribution "
   ]
  },
  {
   "cell_type": "code",
   "execution_count": 10,
   "id": "hispanic-penetration",
   "metadata": {},
   "outputs": [
    {
     "output_type": "stream",
     "name": "stderr",
     "text": [
      "<ipython-input-10-a7ce55519c6c>:9: SettingWithCopyWarning:\n\n\nA value is trying to be set on a copy of a slice from a DataFrame.\nTry using .loc[row_indexer,col_indexer] = value instead\n\nSee the caveats in the documentation: https://pandas.pydata.org/pandas-docs/stable/user_guide/indexing.html#returning-a-view-versus-a-copy\n\n"
     ]
    },
    {
     "output_type": "display_data",
     "data": {
      "application/vnd.plotly.v1+json": {
       "config": {
        "plotlyServerURL": "https://plot.ly"
       },
       "data": [
        {
         "type": "bar",
         "x": [
          6,
          9,
          12,
          15,
          18,
          21,
          24,
          27,
          30
         ],
         "xaxis": "x",
         "y": [
          32,
          420,
          1031,
          795,
          569,
          307,
          246,
          41,
          28
         ],
         "yaxis": "y"
        },
        {
         "type": "bar",
         "x": [
          6,
          9,
          12,
          15,
          18,
          21,
          24,
          27,
          30
         ],
         "xaxis": "x2",
         "y": [
          261,
          739,
          407,
          512,
          1120,
          314,
          1273,
          180,
          171
         ],
         "yaxis": "y2"
        },
        {
         "type": "bar",
         "x": [
          6,
          9,
          12,
          15,
          18,
          21,
          24,
          27,
          30
         ],
         "xaxis": "x3",
         "y": [
          0,
          0,
          139,
          37,
          244,
          223,
          330,
          330,
          0
         ],
         "yaxis": "y3"
        }
       ],
       "layout": {
        "annotations": [
         {
          "font": {
           "size": 16
          },
          "showarrow": false,
          "text": "Neutral",
          "x": 0.14444444444444446,
          "xanchor": "center",
          "xref": "paper",
          "y": 1,
          "yanchor": "bottom",
          "yref": "paper"
         },
         {
          "font": {
           "size": 16
          },
          "showarrow": false,
          "text": "Positive",
          "x": 0.5,
          "xanchor": "center",
          "xref": "paper",
          "y": 1,
          "yanchor": "bottom",
          "yref": "paper"
         },
         {
          "font": {
           "size": 16
          },
          "showarrow": false,
          "text": "Negative",
          "x": 0.8555555555555556,
          "xanchor": "center",
          "xref": "paper",
          "y": 1,
          "yanchor": "bottom",
          "yref": "paper"
         }
        ],
        "showlegend": false,
        "template": {
         "data": {
          "bar": [
           {
            "error_x": {
             "color": "#2a3f5f"
            },
            "error_y": {
             "color": "#2a3f5f"
            },
            "marker": {
             "line": {
              "color": "#E5ECF6",
              "width": 0.5
             }
            },
            "type": "bar"
           }
          ],
          "barpolar": [
           {
            "marker": {
             "line": {
              "color": "#E5ECF6",
              "width": 0.5
             }
            },
            "type": "barpolar"
           }
          ],
          "carpet": [
           {
            "aaxis": {
             "endlinecolor": "#2a3f5f",
             "gridcolor": "white",
             "linecolor": "white",
             "minorgridcolor": "white",
             "startlinecolor": "#2a3f5f"
            },
            "baxis": {
             "endlinecolor": "#2a3f5f",
             "gridcolor": "white",
             "linecolor": "white",
             "minorgridcolor": "white",
             "startlinecolor": "#2a3f5f"
            },
            "type": "carpet"
           }
          ],
          "choropleth": [
           {
            "colorbar": {
             "outlinewidth": 0,
             "ticks": ""
            },
            "type": "choropleth"
           }
          ],
          "contour": [
           {
            "colorbar": {
             "outlinewidth": 0,
             "ticks": ""
            },
            "colorscale": [
             [
              0,
              "#0d0887"
             ],
             [
              0.1111111111111111,
              "#46039f"
             ],
             [
              0.2222222222222222,
              "#7201a8"
             ],
             [
              0.3333333333333333,
              "#9c179e"
             ],
             [
              0.4444444444444444,
              "#bd3786"
             ],
             [
              0.5555555555555556,
              "#d8576b"
             ],
             [
              0.6666666666666666,
              "#ed7953"
             ],
             [
              0.7777777777777778,
              "#fb9f3a"
             ],
             [
              0.8888888888888888,
              "#fdca26"
             ],
             [
              1,
              "#f0f921"
             ]
            ],
            "type": "contour"
           }
          ],
          "contourcarpet": [
           {
            "colorbar": {
             "outlinewidth": 0,
             "ticks": ""
            },
            "type": "contourcarpet"
           }
          ],
          "heatmap": [
           {
            "colorbar": {
             "outlinewidth": 0,
             "ticks": ""
            },
            "colorscale": [
             [
              0,
              "#0d0887"
             ],
             [
              0.1111111111111111,
              "#46039f"
             ],
             [
              0.2222222222222222,
              "#7201a8"
             ],
             [
              0.3333333333333333,
              "#9c179e"
             ],
             [
              0.4444444444444444,
              "#bd3786"
             ],
             [
              0.5555555555555556,
              "#d8576b"
             ],
             [
              0.6666666666666666,
              "#ed7953"
             ],
             [
              0.7777777777777778,
              "#fb9f3a"
             ],
             [
              0.8888888888888888,
              "#fdca26"
             ],
             [
              1,
              "#f0f921"
             ]
            ],
            "type": "heatmap"
           }
          ],
          "heatmapgl": [
           {
            "colorbar": {
             "outlinewidth": 0,
             "ticks": ""
            },
            "colorscale": [
             [
              0,
              "#0d0887"
             ],
             [
              0.1111111111111111,
              "#46039f"
             ],
             [
              0.2222222222222222,
              "#7201a8"
             ],
             [
              0.3333333333333333,
              "#9c179e"
             ],
             [
              0.4444444444444444,
              "#bd3786"
             ],
             [
              0.5555555555555556,
              "#d8576b"
             ],
             [
              0.6666666666666666,
              "#ed7953"
             ],
             [
              0.7777777777777778,
              "#fb9f3a"
             ],
             [
              0.8888888888888888,
              "#fdca26"
             ],
             [
              1,
              "#f0f921"
             ]
            ],
            "type": "heatmapgl"
           }
          ],
          "histogram": [
           {
            "marker": {
             "colorbar": {
              "outlinewidth": 0,
              "ticks": ""
             }
            },
            "type": "histogram"
           }
          ],
          "histogram2d": [
           {
            "colorbar": {
             "outlinewidth": 0,
             "ticks": ""
            },
            "colorscale": [
             [
              0,
              "#0d0887"
             ],
             [
              0.1111111111111111,
              "#46039f"
             ],
             [
              0.2222222222222222,
              "#7201a8"
             ],
             [
              0.3333333333333333,
              "#9c179e"
             ],
             [
              0.4444444444444444,
              "#bd3786"
             ],
             [
              0.5555555555555556,
              "#d8576b"
             ],
             [
              0.6666666666666666,
              "#ed7953"
             ],
             [
              0.7777777777777778,
              "#fb9f3a"
             ],
             [
              0.8888888888888888,
              "#fdca26"
             ],
             [
              1,
              "#f0f921"
             ]
            ],
            "type": "histogram2d"
           }
          ],
          "histogram2dcontour": [
           {
            "colorbar": {
             "outlinewidth": 0,
             "ticks": ""
            },
            "colorscale": [
             [
              0,
              "#0d0887"
             ],
             [
              0.1111111111111111,
              "#46039f"
             ],
             [
              0.2222222222222222,
              "#7201a8"
             ],
             [
              0.3333333333333333,
              "#9c179e"
             ],
             [
              0.4444444444444444,
              "#bd3786"
             ],
             [
              0.5555555555555556,
              "#d8576b"
             ],
             [
              0.6666666666666666,
              "#ed7953"
             ],
             [
              0.7777777777777778,
              "#fb9f3a"
             ],
             [
              0.8888888888888888,
              "#fdca26"
             ],
             [
              1,
              "#f0f921"
             ]
            ],
            "type": "histogram2dcontour"
           }
          ],
          "mesh3d": [
           {
            "colorbar": {
             "outlinewidth": 0,
             "ticks": ""
            },
            "type": "mesh3d"
           }
          ],
          "parcoords": [
           {
            "line": {
             "colorbar": {
              "outlinewidth": 0,
              "ticks": ""
             }
            },
            "type": "parcoords"
           }
          ],
          "pie": [
           {
            "automargin": true,
            "type": "pie"
           }
          ],
          "scatter": [
           {
            "marker": {
             "colorbar": {
              "outlinewidth": 0,
              "ticks": ""
             }
            },
            "type": "scatter"
           }
          ],
          "scatter3d": [
           {
            "line": {
             "colorbar": {
              "outlinewidth": 0,
              "ticks": ""
             }
            },
            "marker": {
             "colorbar": {
              "outlinewidth": 0,
              "ticks": ""
             }
            },
            "type": "scatter3d"
           }
          ],
          "scattercarpet": [
           {
            "marker": {
             "colorbar": {
              "outlinewidth": 0,
              "ticks": ""
             }
            },
            "type": "scattercarpet"
           }
          ],
          "scattergeo": [
           {
            "marker": {
             "colorbar": {
              "outlinewidth": 0,
              "ticks": ""
             }
            },
            "type": "scattergeo"
           }
          ],
          "scattergl": [
           {
            "marker": {
             "colorbar": {
              "outlinewidth": 0,
              "ticks": ""
             }
            },
            "type": "scattergl"
           }
          ],
          "scattermapbox": [
           {
            "marker": {
             "colorbar": {
              "outlinewidth": 0,
              "ticks": ""
             }
            },
            "type": "scattermapbox"
           }
          ],
          "scatterpolar": [
           {
            "marker": {
             "colorbar": {
              "outlinewidth": 0,
              "ticks": ""
             }
            },
            "type": "scatterpolar"
           }
          ],
          "scatterpolargl": [
           {
            "marker": {
             "colorbar": {
              "outlinewidth": 0,
              "ticks": ""
             }
            },
            "type": "scatterpolargl"
           }
          ],
          "scatterternary": [
           {
            "marker": {
             "colorbar": {
              "outlinewidth": 0,
              "ticks": ""
             }
            },
            "type": "scatterternary"
           }
          ],
          "surface": [
           {
            "colorbar": {
             "outlinewidth": 0,
             "ticks": ""
            },
            "colorscale": [
             [
              0,
              "#0d0887"
             ],
             [
              0.1111111111111111,
              "#46039f"
             ],
             [
              0.2222222222222222,
              "#7201a8"
             ],
             [
              0.3333333333333333,
              "#9c179e"
             ],
             [
              0.4444444444444444,
              "#bd3786"
             ],
             [
              0.5555555555555556,
              "#d8576b"
             ],
             [
              0.6666666666666666,
              "#ed7953"
             ],
             [
              0.7777777777777778,
              "#fb9f3a"
             ],
             [
              0.8888888888888888,
              "#fdca26"
             ],
             [
              1,
              "#f0f921"
             ]
            ],
            "type": "surface"
           }
          ],
          "table": [
           {
            "cells": {
             "fill": {
              "color": "#EBF0F8"
             },
             "line": {
              "color": "white"
             }
            },
            "header": {
             "fill": {
              "color": "#C8D4E3"
             },
             "line": {
              "color": "white"
             }
            },
            "type": "table"
           }
          ]
         },
         "layout": {
          "annotationdefaults": {
           "arrowcolor": "#2a3f5f",
           "arrowhead": 0,
           "arrowwidth": 1
          },
          "autotypenumbers": "strict",
          "coloraxis": {
           "colorbar": {
            "outlinewidth": 0,
            "ticks": ""
           }
          },
          "colorscale": {
           "diverging": [
            [
             0,
             "#8e0152"
            ],
            [
             0.1,
             "#c51b7d"
            ],
            [
             0.2,
             "#de77ae"
            ],
            [
             0.3,
             "#f1b6da"
            ],
            [
             0.4,
             "#fde0ef"
            ],
            [
             0.5,
             "#f7f7f7"
            ],
            [
             0.6,
             "#e6f5d0"
            ],
            [
             0.7,
             "#b8e186"
            ],
            [
             0.8,
             "#7fbc41"
            ],
            [
             0.9,
             "#4d9221"
            ],
            [
             1,
             "#276419"
            ]
           ],
           "sequential": [
            [
             0,
             "#0d0887"
            ],
            [
             0.1111111111111111,
             "#46039f"
            ],
            [
             0.2222222222222222,
             "#7201a8"
            ],
            [
             0.3333333333333333,
             "#9c179e"
            ],
            [
             0.4444444444444444,
             "#bd3786"
            ],
            [
             0.5555555555555556,
             "#d8576b"
            ],
            [
             0.6666666666666666,
             "#ed7953"
            ],
            [
             0.7777777777777778,
             "#fb9f3a"
            ],
            [
             0.8888888888888888,
             "#fdca26"
            ],
            [
             1,
             "#f0f921"
            ]
           ],
           "sequentialminus": [
            [
             0,
             "#0d0887"
            ],
            [
             0.1111111111111111,
             "#46039f"
            ],
            [
             0.2222222222222222,
             "#7201a8"
            ],
            [
             0.3333333333333333,
             "#9c179e"
            ],
            [
             0.4444444444444444,
             "#bd3786"
            ],
            [
             0.5555555555555556,
             "#d8576b"
            ],
            [
             0.6666666666666666,
             "#ed7953"
            ],
            [
             0.7777777777777778,
             "#fb9f3a"
            ],
            [
             0.8888888888888888,
             "#fdca26"
            ],
            [
             1,
             "#f0f921"
            ]
           ]
          },
          "colorway": [
           "#636efa",
           "#EF553B",
           "#00cc96",
           "#ab63fa",
           "#FFA15A",
           "#19d3f3",
           "#FF6692",
           "#B6E880",
           "#FF97FF",
           "#FECB52"
          ],
          "font": {
           "color": "#2a3f5f"
          },
          "geo": {
           "bgcolor": "white",
           "lakecolor": "white",
           "landcolor": "#E5ECF6",
           "showlakes": true,
           "showland": true,
           "subunitcolor": "white"
          },
          "hoverlabel": {
           "align": "left"
          },
          "hovermode": "closest",
          "mapbox": {
           "style": "light"
          },
          "paper_bgcolor": "white",
          "plot_bgcolor": "#E5ECF6",
          "polar": {
           "angularaxis": {
            "gridcolor": "white",
            "linecolor": "white",
            "ticks": ""
           },
           "bgcolor": "#E5ECF6",
           "radialaxis": {
            "gridcolor": "white",
            "linecolor": "white",
            "ticks": ""
           }
          },
          "scene": {
           "xaxis": {
            "backgroundcolor": "#E5ECF6",
            "gridcolor": "white",
            "gridwidth": 2,
            "linecolor": "white",
            "showbackground": true,
            "ticks": "",
            "zerolinecolor": "white"
           },
           "yaxis": {
            "backgroundcolor": "#E5ECF6",
            "gridcolor": "white",
            "gridwidth": 2,
            "linecolor": "white",
            "showbackground": true,
            "ticks": "",
            "zerolinecolor": "white"
           },
           "zaxis": {
            "backgroundcolor": "#E5ECF6",
            "gridcolor": "white",
            "gridwidth": 2,
            "linecolor": "white",
            "showbackground": true,
            "ticks": "",
            "zerolinecolor": "white"
           }
          },
          "shapedefaults": {
           "line": {
            "color": "#2a3f5f"
           }
          },
          "ternary": {
           "aaxis": {
            "gridcolor": "white",
            "linecolor": "white",
            "ticks": ""
           },
           "baxis": {
            "gridcolor": "white",
            "linecolor": "white",
            "ticks": ""
           },
           "bgcolor": "#E5ECF6",
           "caxis": {
            "gridcolor": "white",
            "linecolor": "white",
            "ticks": ""
           }
          },
          "title": {
           "x": 0.05
          },
          "xaxis": {
           "automargin": true,
           "gridcolor": "white",
           "linecolor": "white",
           "ticks": "",
           "title": {
            "standoff": 15
           },
           "zerolinecolor": "white",
           "zerolinewidth": 2
          },
          "yaxis": {
           "automargin": true,
           "gridcolor": "white",
           "linecolor": "white",
           "ticks": "",
           "title": {
            "standoff": 15
           },
           "zerolinecolor": "white",
           "zerolinewidth": 2
          }
         }
        },
        "title": {
         "text": "RPM by Video Type"
        },
        "xaxis": {
         "anchor": "y",
         "domain": [
          0,
          0.2888888888888889
         ]
        },
        "xaxis2": {
         "anchor": "y2",
         "domain": [
          0.35555555555555557,
          0.6444444444444445
         ],
         "title": {
          "text": "Respiration Rate"
         }
        },
        "xaxis3": {
         "anchor": "y3",
         "domain": [
          0.7111111111111111,
          1
         ]
        },
        "yaxis": {
         "anchor": "x",
         "domain": [
          0,
          1
         ],
         "title": {
          "text": "Count"
         }
        },
        "yaxis2": {
         "anchor": "x2",
         "domain": [
          0,
          1
         ]
        },
        "yaxis3": {
         "anchor": "x3",
         "domain": [
          0,
          1
         ]
        }
       }
      }
     },
     "metadata": {}
    }
   ],
   "source": [
    "bins = [6, 9, 12, 15, 16.5, 19.5, 21, 24, 27, 30]\n",
    "labels = [6, 9, 12, 15, 18, 21, 24, 27, 30]\n",
    "\n",
    "fig = make_subplots(rows=1, cols=3,\n",
    "                    subplot_titles=('Neutral','Positive','Negative'))\n",
    "emotions = ['neutral','positive','negative']\n",
    "for i, emotion in enumerate(emotions):\n",
    "    tmp = data_df[data_df['video_type'] == emotion]\n",
    "    tmp['rpm'] = pd.cut(tmp['rpm'], bins=bins, labels=labels)\n",
    "    tmp = tmp.groupby('rpm').video_id.count().reset_index().rename(columns={'video_id':'count'})\n",
    "    fig.add_trace(go.Bar(x=list(tmp['rpm']),\n",
    "                         y=list(tmp['count'])),\n",
    "                  row=1, col=i + 1)\n",
    "\n",
    "fig.update_layout(title_text='RPM by Video Type', showlegend=False)\n",
    "fig.update_yaxes(title_text='Count', row=1, col=1)\n",
    "fig.update_xaxes(title_text='Respiration Rate', row=1, col=2)\n",
    "fig.show()"
   ]
  },
  {
   "cell_type": "markdown",
   "id": "czech-amber",
   "metadata": {},
   "source": [
    "## Predicted Emotion Distribution"
   ]
  },
  {
   "cell_type": "code",
   "execution_count": 11,
   "id": "consistent-cherry",
   "metadata": {},
   "outputs": [
    {
     "output_type": "display_data",
     "data": {
      "application/vnd.plotly.v1+json": {
       "config": {
        "plotlyServerURL": "https://plot.ly"
       },
       "data": [
        {
         "type": "bar",
         "x": [
          "anger",
          "happy",
          "neutral",
          "sad",
          "surprise"
         ],
         "xaxis": "x",
         "y": [
          23,
          726,
          2118,
          573,
          29
         ],
         "yaxis": "y"
        },
        {
         "type": "bar",
         "x": [
          "anger",
          "happy",
          "neutral",
          "sad"
         ],
         "xaxis": "x2",
         "y": [
          74,
          3749,
          1142,
          12
         ],
         "yaxis": "y2"
        },
        {
         "type": "bar",
         "x": [
          "happy",
          "neutral",
          "sad",
          "surprise"
         ],
         "xaxis": "x3",
         "y": [
          557,
          561,
          59,
          126
         ],
         "yaxis": "y3"
        }
       ],
       "layout": {
        "annotations": [
         {
          "font": {
           "size": 16
          },
          "showarrow": false,
          "text": "Neutral",
          "x": 0.14444444444444446,
          "xanchor": "center",
          "xref": "paper",
          "y": 1,
          "yanchor": "bottom",
          "yref": "paper"
         },
         {
          "font": {
           "size": 16
          },
          "showarrow": false,
          "text": "Positive",
          "x": 0.5,
          "xanchor": "center",
          "xref": "paper",
          "y": 1,
          "yanchor": "bottom",
          "yref": "paper"
         },
         {
          "font": {
           "size": 16
          },
          "showarrow": false,
          "text": "Negative",
          "x": 0.8555555555555556,
          "xanchor": "center",
          "xref": "paper",
          "y": 1,
          "yanchor": "bottom",
          "yref": "paper"
         }
        ],
        "showlegend": false,
        "template": {
         "data": {
          "bar": [
           {
            "error_x": {
             "color": "#2a3f5f"
            },
            "error_y": {
             "color": "#2a3f5f"
            },
            "marker": {
             "line": {
              "color": "#E5ECF6",
              "width": 0.5
             }
            },
            "type": "bar"
           }
          ],
          "barpolar": [
           {
            "marker": {
             "line": {
              "color": "#E5ECF6",
              "width": 0.5
             }
            },
            "type": "barpolar"
           }
          ],
          "carpet": [
           {
            "aaxis": {
             "endlinecolor": "#2a3f5f",
             "gridcolor": "white",
             "linecolor": "white",
             "minorgridcolor": "white",
             "startlinecolor": "#2a3f5f"
            },
            "baxis": {
             "endlinecolor": "#2a3f5f",
             "gridcolor": "white",
             "linecolor": "white",
             "minorgridcolor": "white",
             "startlinecolor": "#2a3f5f"
            },
            "type": "carpet"
           }
          ],
          "choropleth": [
           {
            "colorbar": {
             "outlinewidth": 0,
             "ticks": ""
            },
            "type": "choropleth"
           }
          ],
          "contour": [
           {
            "colorbar": {
             "outlinewidth": 0,
             "ticks": ""
            },
            "colorscale": [
             [
              0,
              "#0d0887"
             ],
             [
              0.1111111111111111,
              "#46039f"
             ],
             [
              0.2222222222222222,
              "#7201a8"
             ],
             [
              0.3333333333333333,
              "#9c179e"
             ],
             [
              0.4444444444444444,
              "#bd3786"
             ],
             [
              0.5555555555555556,
              "#d8576b"
             ],
             [
              0.6666666666666666,
              "#ed7953"
             ],
             [
              0.7777777777777778,
              "#fb9f3a"
             ],
             [
              0.8888888888888888,
              "#fdca26"
             ],
             [
              1,
              "#f0f921"
             ]
            ],
            "type": "contour"
           }
          ],
          "contourcarpet": [
           {
            "colorbar": {
             "outlinewidth": 0,
             "ticks": ""
            },
            "type": "contourcarpet"
           }
          ],
          "heatmap": [
           {
            "colorbar": {
             "outlinewidth": 0,
             "ticks": ""
            },
            "colorscale": [
             [
              0,
              "#0d0887"
             ],
             [
              0.1111111111111111,
              "#46039f"
             ],
             [
              0.2222222222222222,
              "#7201a8"
             ],
             [
              0.3333333333333333,
              "#9c179e"
             ],
             [
              0.4444444444444444,
              "#bd3786"
             ],
             [
              0.5555555555555556,
              "#d8576b"
             ],
             [
              0.6666666666666666,
              "#ed7953"
             ],
             [
              0.7777777777777778,
              "#fb9f3a"
             ],
             [
              0.8888888888888888,
              "#fdca26"
             ],
             [
              1,
              "#f0f921"
             ]
            ],
            "type": "heatmap"
           }
          ],
          "heatmapgl": [
           {
            "colorbar": {
             "outlinewidth": 0,
             "ticks": ""
            },
            "colorscale": [
             [
              0,
              "#0d0887"
             ],
             [
              0.1111111111111111,
              "#46039f"
             ],
             [
              0.2222222222222222,
              "#7201a8"
             ],
             [
              0.3333333333333333,
              "#9c179e"
             ],
             [
              0.4444444444444444,
              "#bd3786"
             ],
             [
              0.5555555555555556,
              "#d8576b"
             ],
             [
              0.6666666666666666,
              "#ed7953"
             ],
             [
              0.7777777777777778,
              "#fb9f3a"
             ],
             [
              0.8888888888888888,
              "#fdca26"
             ],
             [
              1,
              "#f0f921"
             ]
            ],
            "type": "heatmapgl"
           }
          ],
          "histogram": [
           {
            "marker": {
             "colorbar": {
              "outlinewidth": 0,
              "ticks": ""
             }
            },
            "type": "histogram"
           }
          ],
          "histogram2d": [
           {
            "colorbar": {
             "outlinewidth": 0,
             "ticks": ""
            },
            "colorscale": [
             [
              0,
              "#0d0887"
             ],
             [
              0.1111111111111111,
              "#46039f"
             ],
             [
              0.2222222222222222,
              "#7201a8"
             ],
             [
              0.3333333333333333,
              "#9c179e"
             ],
             [
              0.4444444444444444,
              "#bd3786"
             ],
             [
              0.5555555555555556,
              "#d8576b"
             ],
             [
              0.6666666666666666,
              "#ed7953"
             ],
             [
              0.7777777777777778,
              "#fb9f3a"
             ],
             [
              0.8888888888888888,
              "#fdca26"
             ],
             [
              1,
              "#f0f921"
             ]
            ],
            "type": "histogram2d"
           }
          ],
          "histogram2dcontour": [
           {
            "colorbar": {
             "outlinewidth": 0,
             "ticks": ""
            },
            "colorscale": [
             [
              0,
              "#0d0887"
             ],
             [
              0.1111111111111111,
              "#46039f"
             ],
             [
              0.2222222222222222,
              "#7201a8"
             ],
             [
              0.3333333333333333,
              "#9c179e"
             ],
             [
              0.4444444444444444,
              "#bd3786"
             ],
             [
              0.5555555555555556,
              "#d8576b"
             ],
             [
              0.6666666666666666,
              "#ed7953"
             ],
             [
              0.7777777777777778,
              "#fb9f3a"
             ],
             [
              0.8888888888888888,
              "#fdca26"
             ],
             [
              1,
              "#f0f921"
             ]
            ],
            "type": "histogram2dcontour"
           }
          ],
          "mesh3d": [
           {
            "colorbar": {
             "outlinewidth": 0,
             "ticks": ""
            },
            "type": "mesh3d"
           }
          ],
          "parcoords": [
           {
            "line": {
             "colorbar": {
              "outlinewidth": 0,
              "ticks": ""
             }
            },
            "type": "parcoords"
           }
          ],
          "pie": [
           {
            "automargin": true,
            "type": "pie"
           }
          ],
          "scatter": [
           {
            "marker": {
             "colorbar": {
              "outlinewidth": 0,
              "ticks": ""
             }
            },
            "type": "scatter"
           }
          ],
          "scatter3d": [
           {
            "line": {
             "colorbar": {
              "outlinewidth": 0,
              "ticks": ""
             }
            },
            "marker": {
             "colorbar": {
              "outlinewidth": 0,
              "ticks": ""
             }
            },
            "type": "scatter3d"
           }
          ],
          "scattercarpet": [
           {
            "marker": {
             "colorbar": {
              "outlinewidth": 0,
              "ticks": ""
             }
            },
            "type": "scattercarpet"
           }
          ],
          "scattergeo": [
           {
            "marker": {
             "colorbar": {
              "outlinewidth": 0,
              "ticks": ""
             }
            },
            "type": "scattergeo"
           }
          ],
          "scattergl": [
           {
            "marker": {
             "colorbar": {
              "outlinewidth": 0,
              "ticks": ""
             }
            },
            "type": "scattergl"
           }
          ],
          "scattermapbox": [
           {
            "marker": {
             "colorbar": {
              "outlinewidth": 0,
              "ticks": ""
             }
            },
            "type": "scattermapbox"
           }
          ],
          "scatterpolar": [
           {
            "marker": {
             "colorbar": {
              "outlinewidth": 0,
              "ticks": ""
             }
            },
            "type": "scatterpolar"
           }
          ],
          "scatterpolargl": [
           {
            "marker": {
             "colorbar": {
              "outlinewidth": 0,
              "ticks": ""
             }
            },
            "type": "scatterpolargl"
           }
          ],
          "scatterternary": [
           {
            "marker": {
             "colorbar": {
              "outlinewidth": 0,
              "ticks": ""
             }
            },
            "type": "scatterternary"
           }
          ],
          "surface": [
           {
            "colorbar": {
             "outlinewidth": 0,
             "ticks": ""
            },
            "colorscale": [
             [
              0,
              "#0d0887"
             ],
             [
              0.1111111111111111,
              "#46039f"
             ],
             [
              0.2222222222222222,
              "#7201a8"
             ],
             [
              0.3333333333333333,
              "#9c179e"
             ],
             [
              0.4444444444444444,
              "#bd3786"
             ],
             [
              0.5555555555555556,
              "#d8576b"
             ],
             [
              0.6666666666666666,
              "#ed7953"
             ],
             [
              0.7777777777777778,
              "#fb9f3a"
             ],
             [
              0.8888888888888888,
              "#fdca26"
             ],
             [
              1,
              "#f0f921"
             ]
            ],
            "type": "surface"
           }
          ],
          "table": [
           {
            "cells": {
             "fill": {
              "color": "#EBF0F8"
             },
             "line": {
              "color": "white"
             }
            },
            "header": {
             "fill": {
              "color": "#C8D4E3"
             },
             "line": {
              "color": "white"
             }
            },
            "type": "table"
           }
          ]
         },
         "layout": {
          "annotationdefaults": {
           "arrowcolor": "#2a3f5f",
           "arrowhead": 0,
           "arrowwidth": 1
          },
          "autotypenumbers": "strict",
          "coloraxis": {
           "colorbar": {
            "outlinewidth": 0,
            "ticks": ""
           }
          },
          "colorscale": {
           "diverging": [
            [
             0,
             "#8e0152"
            ],
            [
             0.1,
             "#c51b7d"
            ],
            [
             0.2,
             "#de77ae"
            ],
            [
             0.3,
             "#f1b6da"
            ],
            [
             0.4,
             "#fde0ef"
            ],
            [
             0.5,
             "#f7f7f7"
            ],
            [
             0.6,
             "#e6f5d0"
            ],
            [
             0.7,
             "#b8e186"
            ],
            [
             0.8,
             "#7fbc41"
            ],
            [
             0.9,
             "#4d9221"
            ],
            [
             1,
             "#276419"
            ]
           ],
           "sequential": [
            [
             0,
             "#0d0887"
            ],
            [
             0.1111111111111111,
             "#46039f"
            ],
            [
             0.2222222222222222,
             "#7201a8"
            ],
            [
             0.3333333333333333,
             "#9c179e"
            ],
            [
             0.4444444444444444,
             "#bd3786"
            ],
            [
             0.5555555555555556,
             "#d8576b"
            ],
            [
             0.6666666666666666,
             "#ed7953"
            ],
            [
             0.7777777777777778,
             "#fb9f3a"
            ],
            [
             0.8888888888888888,
             "#fdca26"
            ],
            [
             1,
             "#f0f921"
            ]
           ],
           "sequentialminus": [
            [
             0,
             "#0d0887"
            ],
            [
             0.1111111111111111,
             "#46039f"
            ],
            [
             0.2222222222222222,
             "#7201a8"
            ],
            [
             0.3333333333333333,
             "#9c179e"
            ],
            [
             0.4444444444444444,
             "#bd3786"
            ],
            [
             0.5555555555555556,
             "#d8576b"
            ],
            [
             0.6666666666666666,
             "#ed7953"
            ],
            [
             0.7777777777777778,
             "#fb9f3a"
            ],
            [
             0.8888888888888888,
             "#fdca26"
            ],
            [
             1,
             "#f0f921"
            ]
           ]
          },
          "colorway": [
           "#636efa",
           "#EF553B",
           "#00cc96",
           "#ab63fa",
           "#FFA15A",
           "#19d3f3",
           "#FF6692",
           "#B6E880",
           "#FF97FF",
           "#FECB52"
          ],
          "font": {
           "color": "#2a3f5f"
          },
          "geo": {
           "bgcolor": "white",
           "lakecolor": "white",
           "landcolor": "#E5ECF6",
           "showlakes": true,
           "showland": true,
           "subunitcolor": "white"
          },
          "hoverlabel": {
           "align": "left"
          },
          "hovermode": "closest",
          "mapbox": {
           "style": "light"
          },
          "paper_bgcolor": "white",
          "plot_bgcolor": "#E5ECF6",
          "polar": {
           "angularaxis": {
            "gridcolor": "white",
            "linecolor": "white",
            "ticks": ""
           },
           "bgcolor": "#E5ECF6",
           "radialaxis": {
            "gridcolor": "white",
            "linecolor": "white",
            "ticks": ""
           }
          },
          "scene": {
           "xaxis": {
            "backgroundcolor": "#E5ECF6",
            "gridcolor": "white",
            "gridwidth": 2,
            "linecolor": "white",
            "showbackground": true,
            "ticks": "",
            "zerolinecolor": "white"
           },
           "yaxis": {
            "backgroundcolor": "#E5ECF6",
            "gridcolor": "white",
            "gridwidth": 2,
            "linecolor": "white",
            "showbackground": true,
            "ticks": "",
            "zerolinecolor": "white"
           },
           "zaxis": {
            "backgroundcolor": "#E5ECF6",
            "gridcolor": "white",
            "gridwidth": 2,
            "linecolor": "white",
            "showbackground": true,
            "ticks": "",
            "zerolinecolor": "white"
           }
          },
          "shapedefaults": {
           "line": {
            "color": "#2a3f5f"
           }
          },
          "ternary": {
           "aaxis": {
            "gridcolor": "white",
            "linecolor": "white",
            "ticks": ""
           },
           "baxis": {
            "gridcolor": "white",
            "linecolor": "white",
            "ticks": ""
           },
           "bgcolor": "#E5ECF6",
           "caxis": {
            "gridcolor": "white",
            "linecolor": "white",
            "ticks": ""
           }
          },
          "title": {
           "x": 0.05
          },
          "xaxis": {
           "automargin": true,
           "gridcolor": "white",
           "linecolor": "white",
           "ticks": "",
           "title": {
            "standoff": 15
           },
           "zerolinecolor": "white",
           "zerolinewidth": 2
          },
          "yaxis": {
           "automargin": true,
           "gridcolor": "white",
           "linecolor": "white",
           "ticks": "",
           "title": {
            "standoff": 15
           },
           "zerolinecolor": "white",
           "zerolinewidth": 2
          }
         }
        },
        "title": {
         "text": "Predicted Emotion by Video Type"
        },
        "xaxis": {
         "anchor": "y",
         "domain": [
          0,
          0.2888888888888889
         ]
        },
        "xaxis2": {
         "anchor": "y2",
         "domain": [
          0.35555555555555557,
          0.6444444444444445
         ],
         "title": {
          "text": "Predicted Emotion"
         }
        },
        "xaxis3": {
         "anchor": "y3",
         "domain": [
          0.7111111111111111,
          1
         ]
        },
        "yaxis": {
         "anchor": "x",
         "domain": [
          0,
          1
         ],
         "title": {
          "text": "Count"
         }
        },
        "yaxis2": {
         "anchor": "x2",
         "domain": [
          0,
          1
         ]
        },
        "yaxis3": {
         "anchor": "x3",
         "domain": [
          0,
          1
         ]
        }
       }
      }
     },
     "metadata": {}
    }
   ],
   "source": [
    "fig = make_subplots(rows=1, cols=3,\n",
    "                    subplot_titles=('Neutral','Positive','Negative'))\n",
    "emotions = ['neutral','positive','negative']\n",
    "for i, emotion in enumerate(emotions):\n",
    "    tmp = data_df[data_df['video_type'] == emotion]\n",
    "    tmp = tmp.groupby('pred_emotion').video_id.count().reset_index().rename(columns={'video_id':'count'})\n",
    "    fig.add_trace(go.Bar(x=list(tmp['pred_emotion']),\n",
    "                         y=list(tmp['count'])),\n",
    "                  row=1, col=i + 1)\n",
    "\n",
    "fig.update_layout(title_text='Predicted Emotion by Video Type', showlegend=False)\n",
    "fig.update_yaxes(title_text='Count', row=1, col=1)\n",
    "fig.update_xaxes(title_text='Predicted Emotion', row=1, col=2)\n",
    "fig.show()"
   ]
  },
  {
   "cell_type": "markdown",
   "id": "valid-vienna",
   "metadata": {},
   "source": [
    "## Show Emotion Confidence by Predicted Emotion and Video Type"
   ]
  },
  {
   "cell_type": "code",
   "execution_count": 12,
   "id": "recovered-toilet",
   "metadata": {},
   "outputs": [
    {
     "output_type": "stream",
     "name": "stderr",
     "text": [
      "<ipython-input-12-ba9ff5c85489>:14: SettingWithCopyWarning:\n\n\nA value is trying to be set on a copy of a slice from a DataFrame.\nTry using .loc[row_indexer,col_indexer] = value instead\n\nSee the caveats in the documentation: https://pandas.pydata.org/pandas-docs/stable/user_guide/indexing.html#returning-a-view-versus-a-copy\n\n"
     ]
    },
    {
     "output_type": "display_data",
     "data": {
      "application/vnd.plotly.v1+json": {
       "config": {
        "plotlyServerURL": "https://plot.ly"
       },
       "data": [
        {
         "marker": {
          "color": "blue"
         },
         "type": "bar",
         "x": [
          0.7,
          0.75,
          0.8,
          0.85,
          0.9,
          0.95,
          1
         ],
         "xaxis": "x",
         "y": [
          2058,
          60,
          0,
          0,
          0,
          0,
          0
         ],
         "yaxis": "y"
        },
        {
         "marker": {
          "color": "blue"
         },
         "type": "bar",
         "x": [
          0.7,
          0.75,
          0.8,
          0.85,
          0.9,
          0.95,
          1
         ],
         "xaxis": "x4",
         "y": [
          125,
          83,
          43,
          90,
          25,
          104,
          256
         ],
         "yaxis": "y4"
        },
        {
         "marker": {
          "color": "blue"
         },
         "type": "bar",
         "x": [
          0.7,
          0.75,
          0.8,
          0.85,
          0.9,
          0.95,
          1
         ],
         "xaxis": "x7",
         "y": [
          8,
          13,
          2,
          0,
          0,
          0,
          0
         ],
         "yaxis": "y7"
        },
        {
         "marker": {
          "color": "blue"
         },
         "type": "bar",
         "x": [
          0.7,
          0.75,
          0.8,
          0.85,
          0.9,
          0.95,
          1
         ],
         "xaxis": "x10",
         "y": [
          473,
          65,
          15,
          13,
          6,
          1,
          0
         ],
         "yaxis": "y10"
        },
        {
         "marker": {
          "color": "blue"
         },
         "type": "bar",
         "x": [
          0.7,
          0.75,
          0.8,
          0.85,
          0.9,
          0.95,
          1
         ],
         "xaxis": "x13",
         "y": [
          19,
          10,
          0,
          0,
          0,
          0,
          0
         ],
         "yaxis": "y13"
        },
        {
         "marker": {
          "color": "green"
         },
         "type": "bar",
         "x": [
          0.7,
          0.75,
          0.8,
          0.85,
          0.9,
          0.95,
          1
         ],
         "xaxis": "x2",
         "y": [
          1010,
          132,
          0,
          0,
          0,
          0,
          0
         ],
         "yaxis": "y2"
        },
        {
         "marker": {
          "color": "green"
         },
         "type": "bar",
         "x": [
          0.7,
          0.75,
          0.8,
          0.85,
          0.9,
          0.95,
          1
         ],
         "xaxis": "x5",
         "y": [
          320,
          471,
          343,
          714,
          233,
          398,
          1270
         ],
         "yaxis": "y5"
        },
        {
         "marker": {
          "color": "green"
         },
         "type": "bar",
         "x": [
          0.7,
          0.75,
          0.8,
          0.85,
          0.9,
          0.95,
          1
         ],
         "xaxis": "x8",
         "y": [
          18,
          40,
          8,
          8,
          0,
          0,
          0
         ],
         "yaxis": "y8"
        },
        {
         "marker": {
          "color": "green"
         },
         "type": "bar",
         "x": [
          0.7,
          0.75,
          0.8,
          0.85,
          0.9,
          0.95,
          1
         ],
         "xaxis": "x11",
         "y": [
          10,
          1,
          1,
          0,
          0,
          0,
          0
         ],
         "yaxis": "y11"
        },
        {
         "marker": {
          "color": "green"
         },
         "type": "bar",
         "x": [
          0.7,
          0.75,
          0.8,
          0.85,
          0.9,
          0.95,
          1
         ],
         "xaxis": "x14",
         "y": [
          0,
          0,
          0,
          0,
          0,
          0,
          0
         ],
         "yaxis": "y14"
        },
        {
         "marker": {
          "color": "red"
         },
         "type": "bar",
         "x": [
          0.7,
          0.75,
          0.8,
          0.85,
          0.9,
          0.95,
          1
         ],
         "xaxis": "x3",
         "y": [
          558,
          3,
          0,
          0,
          0,
          0,
          0
         ],
         "yaxis": "y3"
        },
        {
         "marker": {
          "color": "red"
         },
         "type": "bar",
         "x": [
          0.7,
          0.75,
          0.8,
          0.85,
          0.9,
          0.95,
          1
         ],
         "xaxis": "x6",
         "y": [
          59,
          43,
          30,
          95,
          70,
          151,
          109
         ],
         "yaxis": "y6"
        },
        {
         "marker": {
          "color": "red"
         },
         "type": "bar",
         "x": [
          0.7,
          0.75,
          0.8,
          0.85,
          0.9,
          0.95,
          1
         ],
         "xaxis": "x9",
         "y": [
          0,
          0,
          0,
          0,
          0,
          0,
          0
         ],
         "yaxis": "y9"
        },
        {
         "marker": {
          "color": "red"
         },
         "type": "bar",
         "x": [
          0.7,
          0.75,
          0.8,
          0.85,
          0.9,
          0.95,
          1
         ],
         "xaxis": "x12",
         "y": [
          46,
          10,
          1,
          0,
          1,
          1,
          0
         ],
         "yaxis": "y12"
        },
        {
         "marker": {
          "color": "red"
         },
         "type": "bar",
         "x": [
          0.7,
          0.75,
          0.8,
          0.85,
          0.9,
          0.95,
          1
         ],
         "xaxis": "x15",
         "y": [
          18,
          17,
          8,
          58,
          21,
          4,
          0
         ],
         "yaxis": "y15"
        }
       ],
       "layout": {
        "annotations": [
         {
          "font": {
           "size": 16
          },
          "showarrow": false,
          "text": "Neutral",
          "x": 0.14444444444444446,
          "xanchor": "center",
          "xref": "paper",
          "y": 1,
          "yanchor": "bottom",
          "yref": "paper"
         },
         {
          "font": {
           "size": 16
          },
          "showarrow": false,
          "text": "Positive",
          "x": 0.5,
          "xanchor": "center",
          "xref": "paper",
          "y": 1,
          "yanchor": "bottom",
          "yref": "paper"
         },
         {
          "font": {
           "size": 16
          },
          "showarrow": false,
          "text": "Negative",
          "x": 0.8555555555555556,
          "xanchor": "center",
          "xref": "paper",
          "y": 1,
          "yanchor": "bottom",
          "yref": "paper"
         }
        ],
        "height": 1000,
        "showlegend": false,
        "template": {
         "data": {
          "bar": [
           {
            "error_x": {
             "color": "#2a3f5f"
            },
            "error_y": {
             "color": "#2a3f5f"
            },
            "marker": {
             "line": {
              "color": "#E5ECF6",
              "width": 0.5
             }
            },
            "type": "bar"
           }
          ],
          "barpolar": [
           {
            "marker": {
             "line": {
              "color": "#E5ECF6",
              "width": 0.5
             }
            },
            "type": "barpolar"
           }
          ],
          "carpet": [
           {
            "aaxis": {
             "endlinecolor": "#2a3f5f",
             "gridcolor": "white",
             "linecolor": "white",
             "minorgridcolor": "white",
             "startlinecolor": "#2a3f5f"
            },
            "baxis": {
             "endlinecolor": "#2a3f5f",
             "gridcolor": "white",
             "linecolor": "white",
             "minorgridcolor": "white",
             "startlinecolor": "#2a3f5f"
            },
            "type": "carpet"
           }
          ],
          "choropleth": [
           {
            "colorbar": {
             "outlinewidth": 0,
             "ticks": ""
            },
            "type": "choropleth"
           }
          ],
          "contour": [
           {
            "colorbar": {
             "outlinewidth": 0,
             "ticks": ""
            },
            "colorscale": [
             [
              0,
              "#0d0887"
             ],
             [
              0.1111111111111111,
              "#46039f"
             ],
             [
              0.2222222222222222,
              "#7201a8"
             ],
             [
              0.3333333333333333,
              "#9c179e"
             ],
             [
              0.4444444444444444,
              "#bd3786"
             ],
             [
              0.5555555555555556,
              "#d8576b"
             ],
             [
              0.6666666666666666,
              "#ed7953"
             ],
             [
              0.7777777777777778,
              "#fb9f3a"
             ],
             [
              0.8888888888888888,
              "#fdca26"
             ],
             [
              1,
              "#f0f921"
             ]
            ],
            "type": "contour"
           }
          ],
          "contourcarpet": [
           {
            "colorbar": {
             "outlinewidth": 0,
             "ticks": ""
            },
            "type": "contourcarpet"
           }
          ],
          "heatmap": [
           {
            "colorbar": {
             "outlinewidth": 0,
             "ticks": ""
            },
            "colorscale": [
             [
              0,
              "#0d0887"
             ],
             [
              0.1111111111111111,
              "#46039f"
             ],
             [
              0.2222222222222222,
              "#7201a8"
             ],
             [
              0.3333333333333333,
              "#9c179e"
             ],
             [
              0.4444444444444444,
              "#bd3786"
             ],
             [
              0.5555555555555556,
              "#d8576b"
             ],
             [
              0.6666666666666666,
              "#ed7953"
             ],
             [
              0.7777777777777778,
              "#fb9f3a"
             ],
             [
              0.8888888888888888,
              "#fdca26"
             ],
             [
              1,
              "#f0f921"
             ]
            ],
            "type": "heatmap"
           }
          ],
          "heatmapgl": [
           {
            "colorbar": {
             "outlinewidth": 0,
             "ticks": ""
            },
            "colorscale": [
             [
              0,
              "#0d0887"
             ],
             [
              0.1111111111111111,
              "#46039f"
             ],
             [
              0.2222222222222222,
              "#7201a8"
             ],
             [
              0.3333333333333333,
              "#9c179e"
             ],
             [
              0.4444444444444444,
              "#bd3786"
             ],
             [
              0.5555555555555556,
              "#d8576b"
             ],
             [
              0.6666666666666666,
              "#ed7953"
             ],
             [
              0.7777777777777778,
              "#fb9f3a"
             ],
             [
              0.8888888888888888,
              "#fdca26"
             ],
             [
              1,
              "#f0f921"
             ]
            ],
            "type": "heatmapgl"
           }
          ],
          "histogram": [
           {
            "marker": {
             "colorbar": {
              "outlinewidth": 0,
              "ticks": ""
             }
            },
            "type": "histogram"
           }
          ],
          "histogram2d": [
           {
            "colorbar": {
             "outlinewidth": 0,
             "ticks": ""
            },
            "colorscale": [
             [
              0,
              "#0d0887"
             ],
             [
              0.1111111111111111,
              "#46039f"
             ],
             [
              0.2222222222222222,
              "#7201a8"
             ],
             [
              0.3333333333333333,
              "#9c179e"
             ],
             [
              0.4444444444444444,
              "#bd3786"
             ],
             [
              0.5555555555555556,
              "#d8576b"
             ],
             [
              0.6666666666666666,
              "#ed7953"
             ],
             [
              0.7777777777777778,
              "#fb9f3a"
             ],
             [
              0.8888888888888888,
              "#fdca26"
             ],
             [
              1,
              "#f0f921"
             ]
            ],
            "type": "histogram2d"
           }
          ],
          "histogram2dcontour": [
           {
            "colorbar": {
             "outlinewidth": 0,
             "ticks": ""
            },
            "colorscale": [
             [
              0,
              "#0d0887"
             ],
             [
              0.1111111111111111,
              "#46039f"
             ],
             [
              0.2222222222222222,
              "#7201a8"
             ],
             [
              0.3333333333333333,
              "#9c179e"
             ],
             [
              0.4444444444444444,
              "#bd3786"
             ],
             [
              0.5555555555555556,
              "#d8576b"
             ],
             [
              0.6666666666666666,
              "#ed7953"
             ],
             [
              0.7777777777777778,
              "#fb9f3a"
             ],
             [
              0.8888888888888888,
              "#fdca26"
             ],
             [
              1,
              "#f0f921"
             ]
            ],
            "type": "histogram2dcontour"
           }
          ],
          "mesh3d": [
           {
            "colorbar": {
             "outlinewidth": 0,
             "ticks": ""
            },
            "type": "mesh3d"
           }
          ],
          "parcoords": [
           {
            "line": {
             "colorbar": {
              "outlinewidth": 0,
              "ticks": ""
             }
            },
            "type": "parcoords"
           }
          ],
          "pie": [
           {
            "automargin": true,
            "type": "pie"
           }
          ],
          "scatter": [
           {
            "marker": {
             "colorbar": {
              "outlinewidth": 0,
              "ticks": ""
             }
            },
            "type": "scatter"
           }
          ],
          "scatter3d": [
           {
            "line": {
             "colorbar": {
              "outlinewidth": 0,
              "ticks": ""
             }
            },
            "marker": {
             "colorbar": {
              "outlinewidth": 0,
              "ticks": ""
             }
            },
            "type": "scatter3d"
           }
          ],
          "scattercarpet": [
           {
            "marker": {
             "colorbar": {
              "outlinewidth": 0,
              "ticks": ""
             }
            },
            "type": "scattercarpet"
           }
          ],
          "scattergeo": [
           {
            "marker": {
             "colorbar": {
              "outlinewidth": 0,
              "ticks": ""
             }
            },
            "type": "scattergeo"
           }
          ],
          "scattergl": [
           {
            "marker": {
             "colorbar": {
              "outlinewidth": 0,
              "ticks": ""
             }
            },
            "type": "scattergl"
           }
          ],
          "scattermapbox": [
           {
            "marker": {
             "colorbar": {
              "outlinewidth": 0,
              "ticks": ""
             }
            },
            "type": "scattermapbox"
           }
          ],
          "scatterpolar": [
           {
            "marker": {
             "colorbar": {
              "outlinewidth": 0,
              "ticks": ""
             }
            },
            "type": "scatterpolar"
           }
          ],
          "scatterpolargl": [
           {
            "marker": {
             "colorbar": {
              "outlinewidth": 0,
              "ticks": ""
             }
            },
            "type": "scatterpolargl"
           }
          ],
          "scatterternary": [
           {
            "marker": {
             "colorbar": {
              "outlinewidth": 0,
              "ticks": ""
             }
            },
            "type": "scatterternary"
           }
          ],
          "surface": [
           {
            "colorbar": {
             "outlinewidth": 0,
             "ticks": ""
            },
            "colorscale": [
             [
              0,
              "#0d0887"
             ],
             [
              0.1111111111111111,
              "#46039f"
             ],
             [
              0.2222222222222222,
              "#7201a8"
             ],
             [
              0.3333333333333333,
              "#9c179e"
             ],
             [
              0.4444444444444444,
              "#bd3786"
             ],
             [
              0.5555555555555556,
              "#d8576b"
             ],
             [
              0.6666666666666666,
              "#ed7953"
             ],
             [
              0.7777777777777778,
              "#fb9f3a"
             ],
             [
              0.8888888888888888,
              "#fdca26"
             ],
             [
              1,
              "#f0f921"
             ]
            ],
            "type": "surface"
           }
          ],
          "table": [
           {
            "cells": {
             "fill": {
              "color": "#EBF0F8"
             },
             "line": {
              "color": "white"
             }
            },
            "header": {
             "fill": {
              "color": "#C8D4E3"
             },
             "line": {
              "color": "white"
             }
            },
            "type": "table"
           }
          ]
         },
         "layout": {
          "annotationdefaults": {
           "arrowcolor": "#2a3f5f",
           "arrowhead": 0,
           "arrowwidth": 1
          },
          "autotypenumbers": "strict",
          "coloraxis": {
           "colorbar": {
            "outlinewidth": 0,
            "ticks": ""
           }
          },
          "colorscale": {
           "diverging": [
            [
             0,
             "#8e0152"
            ],
            [
             0.1,
             "#c51b7d"
            ],
            [
             0.2,
             "#de77ae"
            ],
            [
             0.3,
             "#f1b6da"
            ],
            [
             0.4,
             "#fde0ef"
            ],
            [
             0.5,
             "#f7f7f7"
            ],
            [
             0.6,
             "#e6f5d0"
            ],
            [
             0.7,
             "#b8e186"
            ],
            [
             0.8,
             "#7fbc41"
            ],
            [
             0.9,
             "#4d9221"
            ],
            [
             1,
             "#276419"
            ]
           ],
           "sequential": [
            [
             0,
             "#0d0887"
            ],
            [
             0.1111111111111111,
             "#46039f"
            ],
            [
             0.2222222222222222,
             "#7201a8"
            ],
            [
             0.3333333333333333,
             "#9c179e"
            ],
            [
             0.4444444444444444,
             "#bd3786"
            ],
            [
             0.5555555555555556,
             "#d8576b"
            ],
            [
             0.6666666666666666,
             "#ed7953"
            ],
            [
             0.7777777777777778,
             "#fb9f3a"
            ],
            [
             0.8888888888888888,
             "#fdca26"
            ],
            [
             1,
             "#f0f921"
            ]
           ],
           "sequentialminus": [
            [
             0,
             "#0d0887"
            ],
            [
             0.1111111111111111,
             "#46039f"
            ],
            [
             0.2222222222222222,
             "#7201a8"
            ],
            [
             0.3333333333333333,
             "#9c179e"
            ],
            [
             0.4444444444444444,
             "#bd3786"
            ],
            [
             0.5555555555555556,
             "#d8576b"
            ],
            [
             0.6666666666666666,
             "#ed7953"
            ],
            [
             0.7777777777777778,
             "#fb9f3a"
            ],
            [
             0.8888888888888888,
             "#fdca26"
            ],
            [
             1,
             "#f0f921"
            ]
           ]
          },
          "colorway": [
           "#636efa",
           "#EF553B",
           "#00cc96",
           "#ab63fa",
           "#FFA15A",
           "#19d3f3",
           "#FF6692",
           "#B6E880",
           "#FF97FF",
           "#FECB52"
          ],
          "font": {
           "color": "#2a3f5f"
          },
          "geo": {
           "bgcolor": "white",
           "lakecolor": "white",
           "landcolor": "#E5ECF6",
           "showlakes": true,
           "showland": true,
           "subunitcolor": "white"
          },
          "hoverlabel": {
           "align": "left"
          },
          "hovermode": "closest",
          "mapbox": {
           "style": "light"
          },
          "paper_bgcolor": "white",
          "plot_bgcolor": "#E5ECF6",
          "polar": {
           "angularaxis": {
            "gridcolor": "white",
            "linecolor": "white",
            "ticks": ""
           },
           "bgcolor": "#E5ECF6",
           "radialaxis": {
            "gridcolor": "white",
            "linecolor": "white",
            "ticks": ""
           }
          },
          "scene": {
           "xaxis": {
            "backgroundcolor": "#E5ECF6",
            "gridcolor": "white",
            "gridwidth": 2,
            "linecolor": "white",
            "showbackground": true,
            "ticks": "",
            "zerolinecolor": "white"
           },
           "yaxis": {
            "backgroundcolor": "#E5ECF6",
            "gridcolor": "white",
            "gridwidth": 2,
            "linecolor": "white",
            "showbackground": true,
            "ticks": "",
            "zerolinecolor": "white"
           },
           "zaxis": {
            "backgroundcolor": "#E5ECF6",
            "gridcolor": "white",
            "gridwidth": 2,
            "linecolor": "white",
            "showbackground": true,
            "ticks": "",
            "zerolinecolor": "white"
           }
          },
          "shapedefaults": {
           "line": {
            "color": "#2a3f5f"
           }
          },
          "ternary": {
           "aaxis": {
            "gridcolor": "white",
            "linecolor": "white",
            "ticks": ""
           },
           "baxis": {
            "gridcolor": "white",
            "linecolor": "white",
            "ticks": ""
           },
           "bgcolor": "#E5ECF6",
           "caxis": {
            "gridcolor": "white",
            "linecolor": "white",
            "ticks": ""
           }
          },
          "title": {
           "x": 0.05
          },
          "xaxis": {
           "automargin": true,
           "gridcolor": "white",
           "linecolor": "white",
           "ticks": "",
           "title": {
            "standoff": 15
           },
           "zerolinecolor": "white",
           "zerolinewidth": 2
          },
          "yaxis": {
           "automargin": true,
           "gridcolor": "white",
           "linecolor": "white",
           "ticks": "",
           "title": {
            "standoff": 15
           },
           "zerolinecolor": "white",
           "zerolinewidth": 2
          }
         }
        },
        "title": {
         "text": "Emotion Confidence by Video Type and Predicted Emotion"
        },
        "xaxis": {
         "anchor": "y",
         "domain": [
          0,
          0.2888888888888889
         ]
        },
        "xaxis10": {
         "anchor": "y10",
         "domain": [
          0,
          0.2888888888888889
         ]
        },
        "xaxis11": {
         "anchor": "y11",
         "domain": [
          0.35555555555555557,
          0.6444444444444445
         ]
        },
        "xaxis12": {
         "anchor": "y12",
         "domain": [
          0.7111111111111111,
          1
         ]
        },
        "xaxis13": {
         "anchor": "y13",
         "domain": [
          0,
          0.2888888888888889
         ]
        },
        "xaxis14": {
         "anchor": "y14",
         "domain": [
          0.35555555555555557,
          0.6444444444444445
         ],
         "title": {
          "text": "Emotion Confidence"
         }
        },
        "xaxis15": {
         "anchor": "y15",
         "domain": [
          0.7111111111111111,
          1
         ]
        },
        "xaxis2": {
         "anchor": "y2",
         "domain": [
          0.35555555555555557,
          0.6444444444444445
         ]
        },
        "xaxis3": {
         "anchor": "y3",
         "domain": [
          0.7111111111111111,
          1
         ]
        },
        "xaxis4": {
         "anchor": "y4",
         "domain": [
          0,
          0.2888888888888889
         ]
        },
        "xaxis5": {
         "anchor": "y5",
         "domain": [
          0.35555555555555557,
          0.6444444444444445
         ]
        },
        "xaxis6": {
         "anchor": "y6",
         "domain": [
          0.7111111111111111,
          1
         ]
        },
        "xaxis7": {
         "anchor": "y7",
         "domain": [
          0,
          0.2888888888888889
         ]
        },
        "xaxis8": {
         "anchor": "y8",
         "domain": [
          0.35555555555555557,
          0.6444444444444445
         ]
        },
        "xaxis9": {
         "anchor": "y9",
         "domain": [
          0.7111111111111111,
          1
         ]
        },
        "yaxis": {
         "anchor": "x",
         "domain": [
          0.88,
          1
         ],
         "title": {
          "text": "Neutral"
         }
        },
        "yaxis10": {
         "anchor": "x10",
         "domain": [
          0.22,
          0.33999999999999997
         ],
         "title": {
          "text": "Sad"
         }
        },
        "yaxis11": {
         "anchor": "x11",
         "domain": [
          0.22,
          0.33999999999999997
         ]
        },
        "yaxis12": {
         "anchor": "x12",
         "domain": [
          0.22,
          0.33999999999999997
         ]
        },
        "yaxis13": {
         "anchor": "x13",
         "domain": [
          0,
          0.12
         ],
         "title": {
          "text": "Surprise"
         }
        },
        "yaxis14": {
         "anchor": "x14",
         "domain": [
          0,
          0.12
         ]
        },
        "yaxis15": {
         "anchor": "x15",
         "domain": [
          0,
          0.12
         ]
        },
        "yaxis2": {
         "anchor": "x2",
         "domain": [
          0.88,
          1
         ]
        },
        "yaxis3": {
         "anchor": "x3",
         "domain": [
          0.88,
          1
         ]
        },
        "yaxis4": {
         "anchor": "x4",
         "domain": [
          0.66,
          0.78
         ],
         "title": {
          "text": "Happy"
         }
        },
        "yaxis5": {
         "anchor": "x5",
         "domain": [
          0.66,
          0.78
         ]
        },
        "yaxis6": {
         "anchor": "x6",
         "domain": [
          0.66,
          0.78
         ]
        },
        "yaxis7": {
         "anchor": "x7",
         "domain": [
          0.44,
          0.56
         ],
         "title": {
          "text": "Anger"
         }
        },
        "yaxis8": {
         "anchor": "x8",
         "domain": [
          0.44,
          0.56
         ]
        },
        "yaxis9": {
         "anchor": "x9",
         "domain": [
          0.44,
          0.56
         ]
        }
       }
      }
     },
     "metadata": {}
    }
   ],
   "source": [
    "bins = [0.7, 0.75, 0.8, 0.825, 0.875, 0.9, 0.95, 1.0]\n",
    "labels = [0.7, 0.75, 0.8, 0.85, 0.9, 0.95, 1.0]\n",
    "\n",
    "\n",
    "fig = make_subplots(rows=5, cols=3,\n",
    "                    subplot_titles=('Neutral','Positive','Negative'))\n",
    "emotions = ['neutral','positive','negative']\n",
    "colors = ['blue', 'green', 'red']\n",
    "for i, emotion in enumerate(emotions):\n",
    "    tmp = data_df[data_df['video_type'] == emotion]\n",
    "    for j, pred_emotion in enumerate(data_df['pred_emotion'].unique()):\n",
    "        tmp2 = tmp[tmp['pred_emotion'] == pred_emotion]\n",
    "        \n",
    "        tmp2['emotion_confidence'] = pd.cut(tmp['emotion_confidence'].astype(float), bins=bins, labels=labels)\n",
    "        grp = tmp2.groupby('emotion_confidence').video_id.count().reset_index().rename(columns={'video_id':'count'})\n",
    "        fig.add_trace(go.Bar(x=list(grp['emotion_confidence']),\n",
    "                             y=list(grp['count']),\n",
    "                             marker = {'color' : colors[i]}),\n",
    "                      row=j + 1, col=i + 1)\n",
    "        if i == 0:\n",
    "            fig.update_yaxes(title_text=pred_emotion.title(), row=j + 1, col=1)\n",
    "\n",
    "fig.update_layout(title_text='Emotion Confidence by Video Type and Predicted Emotion', showlegend=False,\n",
    "                 height=1000)\n",
    "fig.update_xaxes(title_text='Emotion Confidence', row=5, col=2)\n",
    "fig.show()"
   ]
  },
  {
   "cell_type": "markdown",
   "id": "simplified-simple",
   "metadata": {},
   "source": [
    "# Classify Video Type"
   ]
  },
  {
   "cell_type": "markdown",
   "id": "occupied-addiction",
   "metadata": {},
   "source": [
    "## Encode Categorical Data"
   ]
  },
  {
   "cell_type": "code",
   "execution_count": 13,
   "id": "drawn-invite",
   "metadata": {},
   "outputs": [],
   "source": [
    "label_encoding = dict(zip(data_df['video_type'].unique(), range(0,3)))\n",
    "data_df['enc_video_type'] = data_df['video_type'].map(label_encoding, na_action='ignore')\n",
    "\n",
    "emotion_encoding = dict(zip(data_df['pred_emotion'].unique(), range(0, len(data_df['pred_emotion'].unique()))))\n",
    "data_df['enc_pred_emotion'] = data_df['pred_emotion'].map(emotion_encoding, na_action='ignore')"
   ]
  },
  {
   "cell_type": "markdown",
   "id": "charitable-fleet",
   "metadata": {},
   "source": [
    "## Prep Data for Features/Labels"
   ]
  },
  {
   "cell_type": "code",
   "execution_count": 14,
   "id": "premier-symbol",
   "metadata": {},
   "outputs": [],
   "source": [
    "features = ['enc_pred_emotion','emotion_confidence','rpm','distance','norm_slow','norm_fast','norm_start','norm_stop']\n",
    "\n",
    "X = data_df[features].astype(float)\n",
    "y = data_df['enc_video_type']"
   ]
  },
  {
   "cell_type": "markdown",
   "id": "round-emission",
   "metadata": {},
   "source": [
    "## Build Classifier"
   ]
  },
  {
   "cell_type": "code",
   "execution_count": 15,
   "id": "brown-butter",
   "metadata": {},
   "outputs": [
    {
     "output_type": "stream",
     "name": "stdout",
     "text": [
      "0.9982905982905983\n"
     ]
    }
   ],
   "source": [
    "X_train, X_test, y_train, y_test = train_test_split(X, y, test_size=0.3)\n",
    "\n",
    "oversample = SMOTE()\n",
    "X_train, y_train = oversample.fit_resample(X_train, y_train)\n",
    "\n",
    "clf = RandomForestClassifier()\n",
    "clf.fit(X_train, y_train)\n",
    "print(clf.score(X_test, y_test))"
   ]
  },
  {
   "cell_type": "markdown",
   "id": "coordinated-herald",
   "metadata": {},
   "source": [
    "## Find Feature Importance"
   ]
  },
  {
   "cell_type": "code",
   "execution_count": 16,
   "id": "common-monday",
   "metadata": {},
   "outputs": [
    {
     "output_type": "display_data",
     "data": {
      "application/vnd.plotly.v1+json": {
       "config": {
        "plotlyServerURL": "https://plot.ly"
       },
       "data": [
        {
         "alignmentgroup": "True",
         "hovertemplate": "Features=%{x}<br>Importances=%{y}<extra></extra>",
         "legendgroup": "",
         "marker": {
          "color": "#F8766D"
         },
         "name": "",
         "offsetgroup": "",
         "orientation": "v",
         "showlegend": false,
         "textposition": "auto",
         "type": "bar",
         "x": [
          "rpm",
          "norm_start",
          "distance",
          "norm_stop",
          "norm_slow",
          "norm_fast",
          "enc_pred_emotion",
          "emotion_confidence"
         ],
         "xaxis": "x",
         "y": [
          0.1815985705679529,
          0.17470160283218447,
          0.1654322969310556,
          0.14305436755387935,
          0.10123369963193615,
          0.08633780033153432,
          0.0769586456009455,
          0.07068301655051186
         ],
         "yaxis": "y"
        }
       ],
       "layout": {
        "barmode": "relative",
        "legend": {
         "tracegroupgap": 0
        },
        "template": {
         "data": {
          "bar": [
           {
            "error_x": {
             "color": "rgb(51,51,51)"
            },
            "error_y": {
             "color": "rgb(51,51,51)"
            },
            "marker": {
             "line": {
              "color": "rgb(237,237,237)",
              "width": 0.5
             }
            },
            "type": "bar"
           }
          ],
          "barpolar": [
           {
            "marker": {
             "line": {
              "color": "rgb(237,237,237)",
              "width": 0.5
             }
            },
            "type": "barpolar"
           }
          ],
          "carpet": [
           {
            "aaxis": {
             "endlinecolor": "rgb(51,51,51)",
             "gridcolor": "white",
             "linecolor": "white",
             "minorgridcolor": "white",
             "startlinecolor": "rgb(51,51,51)"
            },
            "baxis": {
             "endlinecolor": "rgb(51,51,51)",
             "gridcolor": "white",
             "linecolor": "white",
             "minorgridcolor": "white",
             "startlinecolor": "rgb(51,51,51)"
            },
            "type": "carpet"
           }
          ],
          "choropleth": [
           {
            "colorbar": {
             "outlinewidth": 0,
             "tickcolor": "rgb(237,237,237)",
             "ticklen": 6,
             "ticks": "inside"
            },
            "type": "choropleth"
           }
          ],
          "contour": [
           {
            "colorbar": {
             "outlinewidth": 0,
             "tickcolor": "rgb(237,237,237)",
             "ticklen": 6,
             "ticks": "inside"
            },
            "colorscale": [
             [
              0,
              "rgb(20,44,66)"
             ],
             [
              1,
              "rgb(90,179,244)"
             ]
            ],
            "type": "contour"
           }
          ],
          "contourcarpet": [
           {
            "colorbar": {
             "outlinewidth": 0,
             "tickcolor": "rgb(237,237,237)",
             "ticklen": 6,
             "ticks": "inside"
            },
            "type": "contourcarpet"
           }
          ],
          "heatmap": [
           {
            "colorbar": {
             "outlinewidth": 0,
             "tickcolor": "rgb(237,237,237)",
             "ticklen": 6,
             "ticks": "inside"
            },
            "colorscale": [
             [
              0,
              "rgb(20,44,66)"
             ],
             [
              1,
              "rgb(90,179,244)"
             ]
            ],
            "type": "heatmap"
           }
          ],
          "heatmapgl": [
           {
            "colorbar": {
             "outlinewidth": 0,
             "tickcolor": "rgb(237,237,237)",
             "ticklen": 6,
             "ticks": "inside"
            },
            "colorscale": [
             [
              0,
              "rgb(20,44,66)"
             ],
             [
              1,
              "rgb(90,179,244)"
             ]
            ],
            "type": "heatmapgl"
           }
          ],
          "histogram": [
           {
            "marker": {
             "colorbar": {
              "outlinewidth": 0,
              "tickcolor": "rgb(237,237,237)",
              "ticklen": 6,
              "ticks": "inside"
             }
            },
            "type": "histogram"
           }
          ],
          "histogram2d": [
           {
            "colorbar": {
             "outlinewidth": 0,
             "tickcolor": "rgb(237,237,237)",
             "ticklen": 6,
             "ticks": "inside"
            },
            "colorscale": [
             [
              0,
              "rgb(20,44,66)"
             ],
             [
              1,
              "rgb(90,179,244)"
             ]
            ],
            "type": "histogram2d"
           }
          ],
          "histogram2dcontour": [
           {
            "colorbar": {
             "outlinewidth": 0,
             "tickcolor": "rgb(237,237,237)",
             "ticklen": 6,
             "ticks": "inside"
            },
            "colorscale": [
             [
              0,
              "rgb(20,44,66)"
             ],
             [
              1,
              "rgb(90,179,244)"
             ]
            ],
            "type": "histogram2dcontour"
           }
          ],
          "mesh3d": [
           {
            "colorbar": {
             "outlinewidth": 0,
             "tickcolor": "rgb(237,237,237)",
             "ticklen": 6,
             "ticks": "inside"
            },
            "type": "mesh3d"
           }
          ],
          "parcoords": [
           {
            "line": {
             "colorbar": {
              "outlinewidth": 0,
              "tickcolor": "rgb(237,237,237)",
              "ticklen": 6,
              "ticks": "inside"
             }
            },
            "type": "parcoords"
           }
          ],
          "pie": [
           {
            "automargin": true,
            "type": "pie"
           }
          ],
          "scatter": [
           {
            "marker": {
             "colorbar": {
              "outlinewidth": 0,
              "tickcolor": "rgb(237,237,237)",
              "ticklen": 6,
              "ticks": "inside"
             }
            },
            "type": "scatter"
           }
          ],
          "scatter3d": [
           {
            "line": {
             "colorbar": {
              "outlinewidth": 0,
              "tickcolor": "rgb(237,237,237)",
              "ticklen": 6,
              "ticks": "inside"
             }
            },
            "marker": {
             "colorbar": {
              "outlinewidth": 0,
              "tickcolor": "rgb(237,237,237)",
              "ticklen": 6,
              "ticks": "inside"
             }
            },
            "type": "scatter3d"
           }
          ],
          "scattercarpet": [
           {
            "marker": {
             "colorbar": {
              "outlinewidth": 0,
              "tickcolor": "rgb(237,237,237)",
              "ticklen": 6,
              "ticks": "inside"
             }
            },
            "type": "scattercarpet"
           }
          ],
          "scattergeo": [
           {
            "marker": {
             "colorbar": {
              "outlinewidth": 0,
              "tickcolor": "rgb(237,237,237)",
              "ticklen": 6,
              "ticks": "inside"
             }
            },
            "type": "scattergeo"
           }
          ],
          "scattergl": [
           {
            "marker": {
             "colorbar": {
              "outlinewidth": 0,
              "tickcolor": "rgb(237,237,237)",
              "ticklen": 6,
              "ticks": "inside"
             }
            },
            "type": "scattergl"
           }
          ],
          "scattermapbox": [
           {
            "marker": {
             "colorbar": {
              "outlinewidth": 0,
              "tickcolor": "rgb(237,237,237)",
              "ticklen": 6,
              "ticks": "inside"
             }
            },
            "type": "scattermapbox"
           }
          ],
          "scatterpolar": [
           {
            "marker": {
             "colorbar": {
              "outlinewidth": 0,
              "tickcolor": "rgb(237,237,237)",
              "ticklen": 6,
              "ticks": "inside"
             }
            },
            "type": "scatterpolar"
           }
          ],
          "scatterpolargl": [
           {
            "marker": {
             "colorbar": {
              "outlinewidth": 0,
              "tickcolor": "rgb(237,237,237)",
              "ticklen": 6,
              "ticks": "inside"
             }
            },
            "type": "scatterpolargl"
           }
          ],
          "scatterternary": [
           {
            "marker": {
             "colorbar": {
              "outlinewidth": 0,
              "tickcolor": "rgb(237,237,237)",
              "ticklen": 6,
              "ticks": "inside"
             }
            },
            "type": "scatterternary"
           }
          ],
          "surface": [
           {
            "colorbar": {
             "outlinewidth": 0,
             "tickcolor": "rgb(237,237,237)",
             "ticklen": 6,
             "ticks": "inside"
            },
            "colorscale": [
             [
              0,
              "rgb(20,44,66)"
             ],
             [
              1,
              "rgb(90,179,244)"
             ]
            ],
            "type": "surface"
           }
          ],
          "table": [
           {
            "cells": {
             "fill": {
              "color": "rgb(237,237,237)"
             },
             "line": {
              "color": "white"
             }
            },
            "header": {
             "fill": {
              "color": "rgb(217,217,217)"
             },
             "line": {
              "color": "white"
             }
            },
            "type": "table"
           }
          ]
         },
         "layout": {
          "annotationdefaults": {
           "arrowhead": 0,
           "arrowwidth": 1
          },
          "autotypenumbers": "strict",
          "coloraxis": {
           "colorbar": {
            "outlinewidth": 0,
            "tickcolor": "rgb(237,237,237)",
            "ticklen": 6,
            "ticks": "inside"
           }
          },
          "colorscale": {
           "sequential": [
            [
             0,
             "rgb(20,44,66)"
            ],
            [
             1,
             "rgb(90,179,244)"
            ]
           ],
           "sequentialminus": [
            [
             0,
             "rgb(20,44,66)"
            ],
            [
             1,
             "rgb(90,179,244)"
            ]
           ]
          },
          "colorway": [
           "#F8766D",
           "#A3A500",
           "#00BF7D",
           "#00B0F6",
           "#E76BF3"
          ],
          "font": {
           "color": "rgb(51,51,51)"
          },
          "geo": {
           "bgcolor": "white",
           "lakecolor": "white",
           "landcolor": "rgb(237,237,237)",
           "showlakes": true,
           "showland": true,
           "subunitcolor": "white"
          },
          "hoverlabel": {
           "align": "left"
          },
          "hovermode": "closest",
          "paper_bgcolor": "white",
          "plot_bgcolor": "rgb(237,237,237)",
          "polar": {
           "angularaxis": {
            "gridcolor": "white",
            "linecolor": "white",
            "showgrid": true,
            "tickcolor": "rgb(51,51,51)",
            "ticks": "outside"
           },
           "bgcolor": "rgb(237,237,237)",
           "radialaxis": {
            "gridcolor": "white",
            "linecolor": "white",
            "showgrid": true,
            "tickcolor": "rgb(51,51,51)",
            "ticks": "outside"
           }
          },
          "scene": {
           "xaxis": {
            "backgroundcolor": "rgb(237,237,237)",
            "gridcolor": "white",
            "gridwidth": 2,
            "linecolor": "white",
            "showbackground": true,
            "showgrid": true,
            "tickcolor": "rgb(51,51,51)",
            "ticks": "outside",
            "zerolinecolor": "white"
           },
           "yaxis": {
            "backgroundcolor": "rgb(237,237,237)",
            "gridcolor": "white",
            "gridwidth": 2,
            "linecolor": "white",
            "showbackground": true,
            "showgrid": true,
            "tickcolor": "rgb(51,51,51)",
            "ticks": "outside",
            "zerolinecolor": "white"
           },
           "zaxis": {
            "backgroundcolor": "rgb(237,237,237)",
            "gridcolor": "white",
            "gridwidth": 2,
            "linecolor": "white",
            "showbackground": true,
            "showgrid": true,
            "tickcolor": "rgb(51,51,51)",
            "ticks": "outside",
            "zerolinecolor": "white"
           }
          },
          "shapedefaults": {
           "fillcolor": "black",
           "line": {
            "width": 0
           },
           "opacity": 0.3
          },
          "ternary": {
           "aaxis": {
            "gridcolor": "white",
            "linecolor": "white",
            "showgrid": true,
            "tickcolor": "rgb(51,51,51)",
            "ticks": "outside"
           },
           "baxis": {
            "gridcolor": "white",
            "linecolor": "white",
            "showgrid": true,
            "tickcolor": "rgb(51,51,51)",
            "ticks": "outside"
           },
           "bgcolor": "rgb(237,237,237)",
           "caxis": {
            "gridcolor": "white",
            "linecolor": "white",
            "showgrid": true,
            "tickcolor": "rgb(51,51,51)",
            "ticks": "outside"
           }
          },
          "xaxis": {
           "automargin": true,
           "gridcolor": "white",
           "linecolor": "white",
           "showgrid": true,
           "tickcolor": "rgb(51,51,51)",
           "ticks": "outside",
           "title": {
            "standoff": 15
           },
           "zerolinecolor": "white"
          },
          "yaxis": {
           "automargin": true,
           "gridcolor": "white",
           "linecolor": "white",
           "showgrid": true,
           "tickcolor": "rgb(51,51,51)",
           "ticks": "outside",
           "title": {
            "standoff": 15
           },
           "zerolinecolor": "white"
          }
         }
        },
        "title": {
         "text": "Feature Importance"
        },
        "xaxis": {
         "anchor": "y",
         "domain": [
          0,
          1
         ],
         "title": {
          "text": "Features"
         }
        },
        "yaxis": {
         "anchor": "x",
         "domain": [
          0,
          1
         ],
         "title": {
          "text": "Importances"
         }
        }
       }
      }
     },
     "metadata": {}
    }
   ],
   "source": [
    "# See which features were most important\n",
    "imps = pd.DataFrame()\n",
    "imps['Features'] = features\n",
    "imps['Importances'] = clf.feature_importances_\n",
    "imps = imps.sort_values('Importances', ascending=False)\n",
    "px.bar(imps, x='Features', y='Importances', template='ggplot2',\n",
    "       title='Feature Importance')"
   ]
  },
  {
   "cell_type": "markdown",
   "id": "residential-compiler",
   "metadata": {},
   "source": [
    "## Analyze Classification Effectiveness"
   ]
  },
  {
   "cell_type": "code",
   "execution_count": 17,
   "id": "resident-writing",
   "metadata": {},
   "outputs": [
    {
     "output_type": "display_data",
     "data": {
      "text/plain": "<Figure size 936x936 with 2 Axes>",
      "image/svg+xml": "<?xml version=\"1.0\" encoding=\"utf-8\" standalone=\"no\"?>\n<!DOCTYPE svg PUBLIC \"-//W3C//DTD SVG 1.1//EN\"\n  \"http://www.w3.org/Graphics/SVG/1.1/DTD/svg11.dtd\">\n<svg height=\"726.958906pt\" version=\"1.1\" viewBox=\"0 0 716.26775 726.958906\" width=\"716.26775pt\" xmlns=\"http://www.w3.org/2000/svg\" xmlns:xlink=\"http://www.w3.org/1999/xlink\">\n <metadata>\n  <rdf:RDF xmlns:cc=\"http://creativecommons.org/ns#\" xmlns:dc=\"http://purl.org/dc/elements/1.1/\" xmlns:rdf=\"http://www.w3.org/1999/02/22-rdf-syntax-ns#\">\n   <cc:Work>\n    <dc:type rdf:resource=\"http://purl.org/dc/dcmitype/StillImage\"/>\n    <dc:date>2021-05-12T19:40:45.450044</dc:date>\n    <dc:format>image/svg+xml</dc:format>\n    <dc:creator>\n     <cc:Agent>\n      <dc:title>Matplotlib v3.4.2, https://matplotlib.org/</dc:title>\n     </cc:Agent>\n    </dc:creator>\n   </cc:Work>\n  </rdf:RDF>\n </metadata>\n <defs>\n  <style type=\"text/css\">*{stroke-linecap:butt;stroke-linejoin:round;}</style>\n </defs>\n <g id=\"figure_1\">\n  <g id=\"patch_1\">\n   <path d=\"M 0 726.958906 \nL 716.26775 726.958906 \nL 716.26775 0 \nL 0 0 \nz\n\" style=\"fill:none;\"/>\n  </g>\n  <g id=\"axes_1\">\n   <g id=\"patch_2\">\n    <path d=\"M 34.240625 650.7 \nL 614.560625 650.7 \nL 614.560625 70.38 \nL 34.240625 70.38 \nz\n\" style=\"fill:#ffffff;\"/>\n   </g>\n   <g clip-path=\"url(#pb354d301fb)\">\n    <image height=\"581\" id=\"imagee8268f7659\" transform=\"scale(1 -1)translate(0 -581)\" width=\"581\" x=\"34.240625\" xlink:href=\"data:image/png;base64,\niVBORw0KGgoAAAANSUhEUgAAAkUAAAJFCAYAAADTfoPBAAAKQ0lEQVR4nO3YUYmCYRRF0f0NpvDZAIMZBAuYVTCETAnFFPIb4wqzVoLzuDnrtC5b8J+tNb0Axl0f9+kJMO5negAAwDcQRQAAiSIAgEoUAQBUoggAoBJFAACVKAIAqEQRAEAligAAKlEEAFCJIgCAShQBAFSiCACgEkUAAJUoAgCoRBEAQCWKAAAqUQQAUIkiAIBKFAEAVKIIAKASRQAAlSgCAKhEEQBAJYoAACpRBABQiSIAgEoUAQBUoggAoBJFAACVKAIAqEQRAEAligAAKlEEAFCJIgCAShQBAFSiCACgEkUAAJUoAgCoRBEAQCWKAAAqUQQAUIkiAIBKFAEAVKIIAKASRQAAlSgCAKhEEQBAJYoAACpRBABQiSIAgEoUAQBUoggAoBJFAACVKAIAqEQRAEAligAAKlEEAFCJIgCAShQBAFSiCACgEkUAAJUoAgCoRBEAQCWKAAAqUQQAUIkiAIBKFAEAVKIIAKASRQAAlSgCAKhEEQBAJYoAACpRBABQiSIAgEoUAQBUoggAoBJFAACVKAIAqEQRAEAligAAKlEEAFCJIgCAShQBAFSiCACgEkUAAJUoAgCoRBEAQCWKAAAqUQQAUIkiAIBKFAEAVKIIAKASRQAAlSgCAKhEEQBAJYoAACpRBABQiSIAgEoUAQBUoggAoBJFAACVKAIAqEQRAEAligAAKlEEAFCJIgCAShQBAFSiCACgEkUAAJUoAgCoRBEAQCWKAAAqUQQAUIkiAIBKFAEAVKIIAKASRQAAlSgCAKhEEQBAJYoAACpRBABQiSIAgEoUAQBUoggAoBJFAACVKAIAqEQRAEAligAAKlEEAFCJIgCAShQBAFSiCACgEkUAAJUoAgCoRBEAQCWKAAAqUQQAUIkiAIBKFAEAVKIIAKASRQAAlSgCAKhEEQBAJYoAACpRBABQiSIAgEoUAQBUoggAoBJFAACVKAIAqEQRAEAligAAKlEEAFCJIgCAShQBAFSiCACgEkUAAJUoAgCoRBEAQCWKAAAqUQQAUIkiAIBKFAEAVKIIAKASRQAAlSgCAKhEEQBAJYoAACpRBABQiSIAgEoUAQBUoggAoBJFAACVKAIAqEQRAEAligAAKlEEAFCJIgCAShQBAFSiCACgEkUAAJUoAgCoRBEAQCWKAAAqUQQAUIkiAIBKFAEAVKIIAKASRQAAlSgCAKhEEQBAJYoAAKraTQ+Aabfn3/QEGHfeH6cnwDhPEQBAoggAoBJFAACVKAIAqEQRAEAligAAKlEEAFCJIgCAShQBAFSiCACgEkUAAJUoAgCoRBEAQCWKAAAqUQQAUIkiAIBKFAEAVKIIAKASRQAAlSgCAKhEEQBAJYoAACpRBABQiSIAgEoUAQBUoggAoBJFAACVKAIAqEQRAEAligAAKlEEAFCJIgCAShQBAFSiCACgEkUAAJUoAgCoRBEAQCWKAAAqUQQAUIkiAIBKFAEAVKIIAKASRQAAlSgCAKhEEQBAJYoAACpRBABQiSIAgEoUAQBUoggAoBJFAACVKAIAqEQRAEAligAAKlEEAFCJIgCAShQBAFSiCACgEkUAAJUoAgCoRBEAQCWKAAAqUQQAUIkiAIBKFAEAVKIIAKASRQAAlSgCAKhEEQBAJYoAACpRBABQiSIAgEoUAQBUoggAoBJFAACVKAIAqEQRAEAligAAKlEEAFCJIgCAShQBAFSiCACgEkUAAJUoAgCoRBEAQCWKAAAqUQQAUIkiAIBKFAEAVKIIAKASRQAAlSgCAKhEEQBAJYoAACpRBABQiSIAgEoUAQBUoggAoBJFAACVKAIAqEQRAEAligAAKlEEAFCJIgCAShQBAFSiCACgEkUAAJUoAgCoRBEAQCWKAAAqUQQAUIkiAIBKFAEAVKIIAKASRQAAlSgCAKhEEQBAJYoAACpRBABQiSIAgEoUAQBUoggAoBJFAACVKAIAqEQRAEAligAAKlEEAFCJIgCAShQBAFSiCACgEkUAAJUoAgCoRBEAQCWKAAAqUQQAUIkiAIBKFAEAVKIIAKASRQAAlSgCAKhEEQBAJYoAACpRBABQiSIAgEoUAQBUoggAoBJFAACVKAIAqEQRAEAligAAKlEEAFCJIgCAShQBAFSiCACgEkUAAJUoAgCoRBEAQCWKAAAqUQQAUIkiAIBKFAEAVKIIAKASRQAAlSgCAKhEEQBAJYoAACpRBABQiSIAgEoUAQBUoggAoBJFAACVKAIAqEQRAEAligAAKlEEAFCJIgCAShQBAFSiCACgEkUAAJUoAgCoRBEAQCWKAAAqUQQAUIkiAIBKFAEAVKIIAKASRQAAlSgCAKhEEQBAJYoAACpRBABQiSIAgEoUAQBUtd6vwzY9Aiad97/TEwD4Ap4iAIBEEQBAJYoAACpRBABQiSIAgEoUAQBUoggAoBJFAACVKAIAqEQRAEAligAAKlEEAFCJIgCAShQBAFSiCACgEkUAAJUoAgCoRBEAQCWKAAAqUQQAUIkiAIBKFAEAVKIIAKASRQAAlSgCAKhEEQBAJYoAACpRBABQiSIAgEoUAQBUoggAoBJFAACVKAIAqEQRAEAligAAKlEEAFCJIgCAShQBAFSiCACgEkUAAJUoAgCoRBEAQCWKAAAqUQQAUIkiAIBKFAEAVKIIAKASRQAAlSgCAKhEEQBAJYoAACpRBABQiSIAgEoUAQBUoggAoBJFAACVKAIAqEQRAEAligAAKlEEAFCJIgCAShQBAFSiCACgEkUAAJUoAgCoRBEAQCWKAAAqUQQAUIkiAIBKFAEAVKIIAKASRQAAlSgCAKhEEQBAJYoAACpRBABQiSIAgEoUAQBUoggAoBJFAACVKAIAqEQRAEAligAAKlEEAFCJIgCAShQBAFSiCACgEkUAAJUoAgCoRBEAQCWKAAAqUQQAUIkiAIBKFAEAVKIIAKASRQAAlSgCAKhEEQBAJYoAACpRBABQiSIAgEoUAQBUoggAoBJFAACVKAIAqEQRAEAligAAKlEEAFCJIgCAShQBAFSiCACgEkUAAJUoAgCoRBEAQCWKAAAqUQQAUIkiAIBKFAEAVKIIAKASRQAAlSgCAKhEEQBAJYoAACpRBABQiSIAgEoUAQBUoggAoBJFAACVKAIAqEQRAEAligAAKlEEAFCJIgCAShQBAFSiCACgEkUAAJUoAgCoRBEAQCWKAAAqUQQAUIkiAIBKFAEAVKIIAKASRQAAlSgCAKhEEQBAJYoAACpRBABQiSIAgEoUAQBUoggAoBJFAACVKAIAqEQRAEAligAAKlEEAFCJIgCAShQBAFSiCACgEkUAAJUoAgCoRBEAQCWKAAAqUQQAUIkiAIBKFAEAVKIIAKASRQAAlSgCAKhEEQBAJYoAACpRBABQiSIAgEoUAQBUoggAoBJFAACVKAIAqEQRAEAligAAKlEEAFCJIgCAShQBAFSiCACgEkUAAJUoAgCoRBEAQCWKAAAqUQQAUIkiAIBKFAEAVKIIAKASRQAAVX0Ay94PJFclN40AAAAASUVORK5CYII=\" y=\"-69.7\"/>\n   </g>\n   <g id=\"matplotlib.axis_1\">\n    <g id=\"xtick_1\">\n     <g id=\"line2d_1\">\n      <defs>\n       <path d=\"M 0 0 \nL 0 3.5 \n\" id=\"mf9e8651b73\" style=\"stroke:#000000;stroke-width:0.8;\"/>\n      </defs>\n      <g>\n       <use style=\"stroke:#000000;stroke-width:0.8;\" x=\"130.960625\" xlink:href=\"#mf9e8651b73\" y=\"650.7\"/>\n      </g>\n     </g>\n     <g id=\"text_1\">\n      <!-- 0 -->\n      <g transform=\"translate(130.662314 667.571874)rotate(-45)scale(0.1 -0.1)\">\n       <defs>\n        <path d=\"M 2034 4250 \nQ 1547 4250 1301 3770 \nQ 1056 3291 1056 2328 \nQ 1056 1369 1301 889 \nQ 1547 409 2034 409 \nQ 2525 409 2770 889 \nQ 3016 1369 3016 2328 \nQ 3016 3291 2770 3770 \nQ 2525 4250 2034 4250 \nz\nM 2034 4750 \nQ 2819 4750 3233 4129 \nQ 3647 3509 3647 2328 \nQ 3647 1150 3233 529 \nQ 2819 -91 2034 -91 \nQ 1250 -91 836 529 \nQ 422 1150 422 2328 \nQ 422 3509 836 4129 \nQ 1250 4750 2034 4750 \nz\n\" id=\"DejaVuSans-30\" transform=\"scale(0.015625)\"/>\n       </defs>\n       <use xlink:href=\"#DejaVuSans-30\"/>\n      </g>\n     </g>\n    </g>\n    <g id=\"xtick_2\">\n     <g id=\"line2d_2\">\n      <g>\n       <use style=\"stroke:#000000;stroke-width:0.8;\" x=\"324.400625\" xlink:href=\"#mf9e8651b73\" y=\"650.7\"/>\n      </g>\n     </g>\n     <g id=\"text_2\">\n      <!-- 1 -->\n      <g transform=\"translate(324.102314 667.571874)rotate(-45)scale(0.1 -0.1)\">\n       <defs>\n        <path d=\"M 794 531 \nL 1825 531 \nL 1825 4091 \nL 703 3866 \nL 703 4441 \nL 1819 4666 \nL 2450 4666 \nL 2450 531 \nL 3481 531 \nL 3481 0 \nL 794 0 \nL 794 531 \nz\n\" id=\"DejaVuSans-31\" transform=\"scale(0.015625)\"/>\n       </defs>\n       <use xlink:href=\"#DejaVuSans-31\"/>\n      </g>\n     </g>\n    </g>\n    <g id=\"xtick_3\">\n     <g id=\"line2d_3\">\n      <g>\n       <use style=\"stroke:#000000;stroke-width:0.8;\" x=\"517.840625\" xlink:href=\"#mf9e8651b73\" y=\"650.7\"/>\n      </g>\n     </g>\n     <g id=\"text_3\">\n      <!-- 2 -->\n      <g transform=\"translate(517.542314 667.571874)rotate(-45)scale(0.1 -0.1)\">\n       <defs>\n        <path d=\"M 1228 531 \nL 3431 531 \nL 3431 0 \nL 469 0 \nL 469 531 \nQ 828 903 1448 1529 \nQ 2069 2156 2228 2338 \nQ 2531 2678 2651 2914 \nQ 2772 3150 2772 3378 \nQ 2772 3750 2511 3984 \nQ 2250 4219 1831 4219 \nQ 1534 4219 1204 4116 \nQ 875 4013 500 3803 \nL 500 4441 \nQ 881 4594 1212 4672 \nQ 1544 4750 1819 4750 \nQ 2544 4750 2975 4387 \nQ 3406 4025 3406 3419 \nQ 3406 3131 3298 2873 \nQ 3191 2616 2906 2266 \nQ 2828 2175 2409 1742 \nQ 1991 1309 1228 531 \nz\n\" id=\"DejaVuSans-32\" transform=\"scale(0.015625)\"/>\n       </defs>\n       <use xlink:href=\"#DejaVuSans-32\"/>\n      </g>\n     </g>\n    </g>\n    <g id=\"text_4\">\n     <!-- Predicted label -->\n     <g transform=\"translate(287.248281 680.640872)scale(0.1 -0.1)\">\n      <defs>\n       <path d=\"M 1259 4147 \nL 1259 2394 \nL 2053 2394 \nQ 2494 2394 2734 2622 \nQ 2975 2850 2975 3272 \nQ 2975 3691 2734 3919 \nQ 2494 4147 2053 4147 \nL 1259 4147 \nz\nM 628 4666 \nL 2053 4666 \nQ 2838 4666 3239 4311 \nQ 3641 3956 3641 3272 \nQ 3641 2581 3239 2228 \nQ 2838 1875 2053 1875 \nL 1259 1875 \nL 1259 0 \nL 628 0 \nL 628 4666 \nz\n\" id=\"DejaVuSans-50\" transform=\"scale(0.015625)\"/>\n       <path d=\"M 2631 2963 \nQ 2534 3019 2420 3045 \nQ 2306 3072 2169 3072 \nQ 1681 3072 1420 2755 \nQ 1159 2438 1159 1844 \nL 1159 0 \nL 581 0 \nL 581 3500 \nL 1159 3500 \nL 1159 2956 \nQ 1341 3275 1631 3429 \nQ 1922 3584 2338 3584 \nQ 2397 3584 2469 3576 \nQ 2541 3569 2628 3553 \nL 2631 2963 \nz\n\" id=\"DejaVuSans-72\" transform=\"scale(0.015625)\"/>\n       <path d=\"M 3597 1894 \nL 3597 1613 \nL 953 1613 \nQ 991 1019 1311 708 \nQ 1631 397 2203 397 \nQ 2534 397 2845 478 \nQ 3156 559 3463 722 \nL 3463 178 \nQ 3153 47 2828 -22 \nQ 2503 -91 2169 -91 \nQ 1331 -91 842 396 \nQ 353 884 353 1716 \nQ 353 2575 817 3079 \nQ 1281 3584 2069 3584 \nQ 2775 3584 3186 3129 \nQ 3597 2675 3597 1894 \nz\nM 3022 2063 \nQ 3016 2534 2758 2815 \nQ 2500 3097 2075 3097 \nQ 1594 3097 1305 2825 \nQ 1016 2553 972 2059 \nL 3022 2063 \nz\n\" id=\"DejaVuSans-65\" transform=\"scale(0.015625)\"/>\n       <path d=\"M 2906 2969 \nL 2906 4863 \nL 3481 4863 \nL 3481 0 \nL 2906 0 \nL 2906 525 \nQ 2725 213 2448 61 \nQ 2172 -91 1784 -91 \nQ 1150 -91 751 415 \nQ 353 922 353 1747 \nQ 353 2572 751 3078 \nQ 1150 3584 1784 3584 \nQ 2172 3584 2448 3432 \nQ 2725 3281 2906 2969 \nz\nM 947 1747 \nQ 947 1113 1208 752 \nQ 1469 391 1925 391 \nQ 2381 391 2643 752 \nQ 2906 1113 2906 1747 \nQ 2906 2381 2643 2742 \nQ 2381 3103 1925 3103 \nQ 1469 3103 1208 2742 \nQ 947 2381 947 1747 \nz\n\" id=\"DejaVuSans-64\" transform=\"scale(0.015625)\"/>\n       <path d=\"M 603 3500 \nL 1178 3500 \nL 1178 0 \nL 603 0 \nL 603 3500 \nz\nM 603 4863 \nL 1178 4863 \nL 1178 4134 \nL 603 4134 \nL 603 4863 \nz\n\" id=\"DejaVuSans-69\" transform=\"scale(0.015625)\"/>\n       <path d=\"M 3122 3366 \nL 3122 2828 \nQ 2878 2963 2633 3030 \nQ 2388 3097 2138 3097 \nQ 1578 3097 1268 2742 \nQ 959 2388 959 1747 \nQ 959 1106 1268 751 \nQ 1578 397 2138 397 \nQ 2388 397 2633 464 \nQ 2878 531 3122 666 \nL 3122 134 \nQ 2881 22 2623 -34 \nQ 2366 -91 2075 -91 \nQ 1284 -91 818 406 \nQ 353 903 353 1747 \nQ 353 2603 823 3093 \nQ 1294 3584 2113 3584 \nQ 2378 3584 2631 3529 \nQ 2884 3475 3122 3366 \nz\n\" id=\"DejaVuSans-63\" transform=\"scale(0.015625)\"/>\n       <path d=\"M 1172 4494 \nL 1172 3500 \nL 2356 3500 \nL 2356 3053 \nL 1172 3053 \nL 1172 1153 \nQ 1172 725 1289 603 \nQ 1406 481 1766 481 \nL 2356 481 \nL 2356 0 \nL 1766 0 \nQ 1100 0 847 248 \nQ 594 497 594 1153 \nL 594 3053 \nL 172 3053 \nL 172 3500 \nL 594 3500 \nL 594 4494 \nL 1172 4494 \nz\n\" id=\"DejaVuSans-74\" transform=\"scale(0.015625)\"/>\n       <path id=\"DejaVuSans-20\" transform=\"scale(0.015625)\"/>\n       <path d=\"M 603 4863 \nL 1178 4863 \nL 1178 0 \nL 603 0 \nL 603 4863 \nz\n\" id=\"DejaVuSans-6c\" transform=\"scale(0.015625)\"/>\n       <path d=\"M 2194 1759 \nQ 1497 1759 1228 1600 \nQ 959 1441 959 1056 \nQ 959 750 1161 570 \nQ 1363 391 1709 391 \nQ 2188 391 2477 730 \nQ 2766 1069 2766 1631 \nL 2766 1759 \nL 2194 1759 \nz\nM 3341 1997 \nL 3341 0 \nL 2766 0 \nL 2766 531 \nQ 2569 213 2275 61 \nQ 1981 -91 1556 -91 \nQ 1019 -91 701 211 \nQ 384 513 384 1019 \nQ 384 1609 779 1909 \nQ 1175 2209 1959 2209 \nL 2766 2209 \nL 2766 2266 \nQ 2766 2663 2505 2880 \nQ 2244 3097 1772 3097 \nQ 1472 3097 1187 3025 \nQ 903 2953 641 2809 \nL 641 3341 \nQ 956 3463 1253 3523 \nQ 1550 3584 1831 3584 \nQ 2591 3584 2966 3190 \nQ 3341 2797 3341 1997 \nz\n\" id=\"DejaVuSans-61\" transform=\"scale(0.015625)\"/>\n       <path d=\"M 3116 1747 \nQ 3116 2381 2855 2742 \nQ 2594 3103 2138 3103 \nQ 1681 3103 1420 2742 \nQ 1159 2381 1159 1747 \nQ 1159 1113 1420 752 \nQ 1681 391 2138 391 \nQ 2594 391 2855 752 \nQ 3116 1113 3116 1747 \nz\nM 1159 2969 \nQ 1341 3281 1617 3432 \nQ 1894 3584 2278 3584 \nQ 2916 3584 3314 3078 \nQ 3713 2572 3713 1747 \nQ 3713 922 3314 415 \nQ 2916 -91 2278 -91 \nQ 1894 -91 1617 61 \nQ 1341 213 1159 525 \nL 1159 0 \nL 581 0 \nL 581 4863 \nL 1159 4863 \nL 1159 2969 \nz\n\" id=\"DejaVuSans-62\" transform=\"scale(0.015625)\"/>\n      </defs>\n      <use xlink:href=\"#DejaVuSans-50\"/>\n      <use x=\"58.552734\" xlink:href=\"#DejaVuSans-72\"/>\n      <use x=\"97.416016\" xlink:href=\"#DejaVuSans-65\"/>\n      <use x=\"158.939453\" xlink:href=\"#DejaVuSans-64\"/>\n      <use x=\"222.416016\" xlink:href=\"#DejaVuSans-69\"/>\n      <use x=\"250.199219\" xlink:href=\"#DejaVuSans-63\"/>\n      <use x=\"305.179688\" xlink:href=\"#DejaVuSans-74\"/>\n      <use x=\"344.388672\" xlink:href=\"#DejaVuSans-65\"/>\n      <use x=\"405.912109\" xlink:href=\"#DejaVuSans-64\"/>\n      <use x=\"469.388672\" xlink:href=\"#DejaVuSans-20\"/>\n      <use x=\"501.175781\" xlink:href=\"#DejaVuSans-6c\"/>\n      <use x=\"528.958984\" xlink:href=\"#DejaVuSans-61\"/>\n      <use x=\"590.238281\" xlink:href=\"#DejaVuSans-62\"/>\n      <use x=\"653.714844\" xlink:href=\"#DejaVuSans-65\"/>\n      <use x=\"715.238281\" xlink:href=\"#DejaVuSans-6c\"/>\n     </g>\n    </g>\n   </g>\n   <g id=\"matplotlib.axis_2\">\n    <g id=\"ytick_1\">\n     <g id=\"line2d_4\">\n      <defs>\n       <path d=\"M 0 0 \nL -3.5 0 \n\" id=\"m977494b142\" style=\"stroke:#000000;stroke-width:0.8;\"/>\n      </defs>\n      <g>\n       <use style=\"stroke:#000000;stroke-width:0.8;\" x=\"34.240625\" xlink:href=\"#m977494b142\" y=\"167.1\"/>\n      </g>\n     </g>\n     <g id=\"text_5\">\n      <!-- 0 -->\n      <g transform=\"translate(20.878125 170.899219)scale(0.1 -0.1)\">\n       <use xlink:href=\"#DejaVuSans-30\"/>\n      </g>\n     </g>\n    </g>\n    <g id=\"ytick_2\">\n     <g id=\"line2d_5\">\n      <g>\n       <use style=\"stroke:#000000;stroke-width:0.8;\" x=\"34.240625\" xlink:href=\"#m977494b142\" y=\"360.54\"/>\n      </g>\n     </g>\n     <g id=\"text_6\">\n      <!-- 1 -->\n      <g transform=\"translate(20.878125 364.339219)scale(0.1 -0.1)\">\n       <use xlink:href=\"#DejaVuSans-31\"/>\n      </g>\n     </g>\n    </g>\n    <g id=\"ytick_3\">\n     <g id=\"line2d_6\">\n      <g>\n       <use style=\"stroke:#000000;stroke-width:0.8;\" x=\"34.240625\" xlink:href=\"#m977494b142\" y=\"553.98\"/>\n      </g>\n     </g>\n     <g id=\"text_7\">\n      <!-- 2 -->\n      <g transform=\"translate(20.878125 557.779219)scale(0.1 -0.1)\">\n       <use xlink:href=\"#DejaVuSans-32\"/>\n      </g>\n     </g>\n    </g>\n    <g id=\"text_8\">\n     <!-- True label -->\n     <g transform=\"translate(14.798438 384.839219)rotate(-90)scale(0.1 -0.1)\">\n      <defs>\n       <path d=\"M -19 4666 \nL 3928 4666 \nL 3928 4134 \nL 2272 4134 \nL 2272 0 \nL 1638 0 \nL 1638 4134 \nL -19 4134 \nL -19 4666 \nz\n\" id=\"DejaVuSans-54\" transform=\"scale(0.015625)\"/>\n       <path d=\"M 544 1381 \nL 544 3500 \nL 1119 3500 \nL 1119 1403 \nQ 1119 906 1312 657 \nQ 1506 409 1894 409 \nQ 2359 409 2629 706 \nQ 2900 1003 2900 1516 \nL 2900 3500 \nL 3475 3500 \nL 3475 0 \nL 2900 0 \nL 2900 538 \nQ 2691 219 2414 64 \nQ 2138 -91 1772 -91 \nQ 1169 -91 856 284 \nQ 544 659 544 1381 \nz\nM 1991 3584 \nL 1991 3584 \nz\n\" id=\"DejaVuSans-75\" transform=\"scale(0.015625)\"/>\n      </defs>\n      <use xlink:href=\"#DejaVuSans-54\"/>\n      <use x=\"46.333984\" xlink:href=\"#DejaVuSans-72\"/>\n      <use x=\"87.447266\" xlink:href=\"#DejaVuSans-75\"/>\n      <use x=\"150.826172\" xlink:href=\"#DejaVuSans-65\"/>\n      <use x=\"212.349609\" xlink:href=\"#DejaVuSans-20\"/>\n      <use x=\"244.136719\" xlink:href=\"#DejaVuSans-6c\"/>\n      <use x=\"271.919922\" xlink:href=\"#DejaVuSans-61\"/>\n      <use x=\"333.199219\" xlink:href=\"#DejaVuSans-62\"/>\n      <use x=\"396.675781\" xlink:href=\"#DejaVuSans-65\"/>\n      <use x=\"458.199219\" xlink:href=\"#DejaVuSans-6c\"/>\n     </g>\n    </g>\n   </g>\n   <g id=\"patch_3\">\n    <path d=\"M 34.240625 650.7 \nL 34.240625 70.38 \n\" style=\"fill:none;stroke:#000000;stroke-linecap:square;stroke-linejoin:miter;stroke-width:0.8;\"/>\n   </g>\n   <g id=\"patch_4\">\n    <path d=\"M 614.560625 650.7 \nL 614.560625 70.38 \n\" style=\"fill:none;stroke:#000000;stroke-linecap:square;stroke-linejoin:miter;stroke-width:0.8;\"/>\n   </g>\n   <g id=\"patch_5\">\n    <path d=\"M 34.240625 650.7 \nL 614.560625 650.7 \n\" style=\"fill:none;stroke:#000000;stroke-linecap:square;stroke-linejoin:miter;stroke-width:0.8;\"/>\n   </g>\n   <g id=\"patch_6\">\n    <path d=\"M 34.240625 70.38 \nL 614.560625 70.38 \n\" style=\"fill:none;stroke:#000000;stroke-linecap:square;stroke-linejoin:miter;stroke-width:0.8;\"/>\n   </g>\n   <g id=\"text_9\">\n    <!-- 1 -->\n    <g style=\"fill:#440154;\" transform=\"translate(127.779375 169.859375)scale(0.1 -0.1)\">\n     <use xlink:href=\"#DejaVuSans-31\"/>\n    </g>\n   </g>\n   <g id=\"text_10\">\n    <!-- 0.00098 -->\n    <g style=\"fill:#fde725;\" transform=\"translate(303.724063 169.859375)scale(0.1 -0.1)\">\n     <defs>\n      <path d=\"M 684 794 \nL 1344 794 \nL 1344 0 \nL 684 0 \nL 684 794 \nz\n\" id=\"DejaVuSans-2e\" transform=\"scale(0.015625)\"/>\n      <path d=\"M 703 97 \nL 703 672 \nQ 941 559 1184 500 \nQ 1428 441 1663 441 \nQ 2288 441 2617 861 \nQ 2947 1281 2994 2138 \nQ 2813 1869 2534 1725 \nQ 2256 1581 1919 1581 \nQ 1219 1581 811 2004 \nQ 403 2428 403 3163 \nQ 403 3881 828 4315 \nQ 1253 4750 1959 4750 \nQ 2769 4750 3195 4129 \nQ 3622 3509 3622 2328 \nQ 3622 1225 3098 567 \nQ 2575 -91 1691 -91 \nQ 1453 -91 1209 -44 \nQ 966 3 703 97 \nz\nM 1959 2075 \nQ 2384 2075 2632 2365 \nQ 2881 2656 2881 3163 \nQ 2881 3666 2632 3958 \nQ 2384 4250 1959 4250 \nQ 1534 4250 1286 3958 \nQ 1038 3666 1038 3163 \nQ 1038 2656 1286 2365 \nQ 1534 2075 1959 2075 \nz\n\" id=\"DejaVuSans-39\" transform=\"scale(0.015625)\"/>\n      <path d=\"M 2034 2216 \nQ 1584 2216 1326 1975 \nQ 1069 1734 1069 1313 \nQ 1069 891 1326 650 \nQ 1584 409 2034 409 \nQ 2484 409 2743 651 \nQ 3003 894 3003 1313 \nQ 3003 1734 2745 1975 \nQ 2488 2216 2034 2216 \nz\nM 1403 2484 \nQ 997 2584 770 2862 \nQ 544 3141 544 3541 \nQ 544 4100 942 4425 \nQ 1341 4750 2034 4750 \nQ 2731 4750 3128 4425 \nQ 3525 4100 3525 3541 \nQ 3525 3141 3298 2862 \nQ 3072 2584 2669 2484 \nQ 3125 2378 3379 2068 \nQ 3634 1759 3634 1313 \nQ 3634 634 3220 271 \nQ 2806 -91 2034 -91 \nQ 1263 -91 848 271 \nQ 434 634 434 1313 \nQ 434 1759 690 2068 \nQ 947 2378 1403 2484 \nz\nM 1172 3481 \nQ 1172 3119 1398 2916 \nQ 1625 2713 2034 2713 \nQ 2441 2713 2670 2916 \nQ 2900 3119 2900 3481 \nQ 2900 3844 2670 4047 \nQ 2441 4250 2034 4250 \nQ 1625 4250 1398 4047 \nQ 1172 3844 1172 3481 \nz\n\" id=\"DejaVuSans-38\" transform=\"scale(0.015625)\"/>\n     </defs>\n     <use xlink:href=\"#DejaVuSans-30\"/>\n     <use x=\"63.623047\" xlink:href=\"#DejaVuSans-2e\"/>\n     <use x=\"95.410156\" xlink:href=\"#DejaVuSans-30\"/>\n     <use x=\"159.033203\" xlink:href=\"#DejaVuSans-30\"/>\n     <use x=\"222.65625\" xlink:href=\"#DejaVuSans-30\"/>\n     <use x=\"286.279297\" xlink:href=\"#DejaVuSans-39\"/>\n     <use x=\"349.902344\" xlink:href=\"#DejaVuSans-38\"/>\n    </g>\n   </g>\n   <g id=\"text_11\">\n    <!-- 0.00098 -->\n    <g style=\"fill:#fde725;\" transform=\"translate(497.164063 169.859375)scale(0.1 -0.1)\">\n     <use xlink:href=\"#DejaVuSans-30\"/>\n     <use x=\"63.623047\" xlink:href=\"#DejaVuSans-2e\"/>\n     <use x=\"95.410156\" xlink:href=\"#DejaVuSans-30\"/>\n     <use x=\"159.033203\" xlink:href=\"#DejaVuSans-30\"/>\n     <use x=\"222.65625\" xlink:href=\"#DejaVuSans-30\"/>\n     <use x=\"286.279297\" xlink:href=\"#DejaVuSans-39\"/>\n     <use x=\"349.902344\" xlink:href=\"#DejaVuSans-38\"/>\n    </g>\n   </g>\n   <g id=\"text_12\">\n    <!-- 0.00067 -->\n    <g style=\"fill:#fde725;\" transform=\"translate(110.284063 363.299375)scale(0.1 -0.1)\">\n     <defs>\n      <path d=\"M 2113 2584 \nQ 1688 2584 1439 2293 \nQ 1191 2003 1191 1497 \nQ 1191 994 1439 701 \nQ 1688 409 2113 409 \nQ 2538 409 2786 701 \nQ 3034 994 3034 1497 \nQ 3034 2003 2786 2293 \nQ 2538 2584 2113 2584 \nz\nM 3366 4563 \nL 3366 3988 \nQ 3128 4100 2886 4159 \nQ 2644 4219 2406 4219 \nQ 1781 4219 1451 3797 \nQ 1122 3375 1075 2522 \nQ 1259 2794 1537 2939 \nQ 1816 3084 2150 3084 \nQ 2853 3084 3261 2657 \nQ 3669 2231 3669 1497 \nQ 3669 778 3244 343 \nQ 2819 -91 2113 -91 \nQ 1303 -91 875 529 \nQ 447 1150 447 2328 \nQ 447 3434 972 4092 \nQ 1497 4750 2381 4750 \nQ 2619 4750 2861 4703 \nQ 3103 4656 3366 4563 \nz\n\" id=\"DejaVuSans-36\" transform=\"scale(0.015625)\"/>\n      <path d=\"M 525 4666 \nL 3525 4666 \nL 3525 4397 \nL 1831 0 \nL 1172 0 \nL 2766 4134 \nL 525 4134 \nL 525 4666 \nz\n\" id=\"DejaVuSans-37\" transform=\"scale(0.015625)\"/>\n     </defs>\n     <use xlink:href=\"#DejaVuSans-30\"/>\n     <use x=\"63.623047\" xlink:href=\"#DejaVuSans-2e\"/>\n     <use x=\"95.410156\" xlink:href=\"#DejaVuSans-30\"/>\n     <use x=\"159.033203\" xlink:href=\"#DejaVuSans-30\"/>\n     <use x=\"222.65625\" xlink:href=\"#DejaVuSans-30\"/>\n     <use x=\"286.279297\" xlink:href=\"#DejaVuSans-36\"/>\n     <use x=\"349.902344\" xlink:href=\"#DejaVuSans-37\"/>\n    </g>\n   </g>\n   <g id=\"text_13\">\n    <!-- 1 -->\n    <g style=\"fill:#440154;\" transform=\"translate(321.219375 363.299375)scale(0.1 -0.1)\">\n     <use xlink:href=\"#DejaVuSans-31\"/>\n    </g>\n   </g>\n   <g id=\"text_14\">\n    <!-- 0 -->\n    <g style=\"fill:#fde725;\" transform=\"translate(514.659375 363.299375)scale(0.1 -0.1)\">\n     <use xlink:href=\"#DejaVuSans-30\"/>\n    </g>\n   </g>\n   <g id=\"text_15\">\n    <!-- 0 -->\n    <g style=\"fill:#fde725;\" transform=\"translate(127.779375 556.739375)scale(0.1 -0.1)\">\n     <use xlink:href=\"#DejaVuSans-30\"/>\n    </g>\n   </g>\n   <g id=\"text_16\">\n    <!-- 0.0049 -->\n    <g style=\"fill:#fde725;\" transform=\"translate(306.905312 556.739375)scale(0.1 -0.1)\">\n     <defs>\n      <path d=\"M 2419 4116 \nL 825 1625 \nL 2419 1625 \nL 2419 4116 \nz\nM 2253 4666 \nL 3047 4666 \nL 3047 1625 \nL 3713 1625 \nL 3713 1100 \nL 3047 1100 \nL 3047 0 \nL 2419 0 \nL 2419 1100 \nL 313 1100 \nL 313 1709 \nL 2253 4666 \nz\n\" id=\"DejaVuSans-34\" transform=\"scale(0.015625)\"/>\n     </defs>\n     <use xlink:href=\"#DejaVuSans-30\"/>\n     <use x=\"63.623047\" xlink:href=\"#DejaVuSans-2e\"/>\n     <use x=\"95.410156\" xlink:href=\"#DejaVuSans-30\"/>\n     <use x=\"159.033203\" xlink:href=\"#DejaVuSans-30\"/>\n     <use x=\"222.65625\" xlink:href=\"#DejaVuSans-34\"/>\n     <use x=\"286.279297\" xlink:href=\"#DejaVuSans-39\"/>\n    </g>\n   </g>\n   <g id=\"text_17\">\n    <!-- 1 -->\n    <g style=\"fill:#440154;\" transform=\"translate(514.659375 556.739375)scale(0.1 -0.1)\">\n     <use xlink:href=\"#DejaVuSans-31\"/>\n    </g>\n   </g>\n   <g id=\"text_18\">\n    <!-- Confusion Matrix -->\n    <g transform=\"translate(273.75875 64.38)scale(0.12 -0.12)\">\n     <defs>\n      <path d=\"M 4122 4306 \nL 4122 3641 \nQ 3803 3938 3442 4084 \nQ 3081 4231 2675 4231 \nQ 1875 4231 1450 3742 \nQ 1025 3253 1025 2328 \nQ 1025 1406 1450 917 \nQ 1875 428 2675 428 \nQ 3081 428 3442 575 \nQ 3803 722 4122 1019 \nL 4122 359 \nQ 3791 134 3420 21 \nQ 3050 -91 2638 -91 \nQ 1578 -91 968 557 \nQ 359 1206 359 2328 \nQ 359 3453 968 4101 \nQ 1578 4750 2638 4750 \nQ 3056 4750 3426 4639 \nQ 3797 4528 4122 4306 \nz\n\" id=\"DejaVuSans-43\" transform=\"scale(0.015625)\"/>\n      <path d=\"M 1959 3097 \nQ 1497 3097 1228 2736 \nQ 959 2375 959 1747 \nQ 959 1119 1226 758 \nQ 1494 397 1959 397 \nQ 2419 397 2687 759 \nQ 2956 1122 2956 1747 \nQ 2956 2369 2687 2733 \nQ 2419 3097 1959 3097 \nz\nM 1959 3584 \nQ 2709 3584 3137 3096 \nQ 3566 2609 3566 1747 \nQ 3566 888 3137 398 \nQ 2709 -91 1959 -91 \nQ 1206 -91 779 398 \nQ 353 888 353 1747 \nQ 353 2609 779 3096 \nQ 1206 3584 1959 3584 \nz\n\" id=\"DejaVuSans-6f\" transform=\"scale(0.015625)\"/>\n      <path d=\"M 3513 2113 \nL 3513 0 \nL 2938 0 \nL 2938 2094 \nQ 2938 2591 2744 2837 \nQ 2550 3084 2163 3084 \nQ 1697 3084 1428 2787 \nQ 1159 2491 1159 1978 \nL 1159 0 \nL 581 0 \nL 581 3500 \nL 1159 3500 \nL 1159 2956 \nQ 1366 3272 1645 3428 \nQ 1925 3584 2291 3584 \nQ 2894 3584 3203 3211 \nQ 3513 2838 3513 2113 \nz\n\" id=\"DejaVuSans-6e\" transform=\"scale(0.015625)\"/>\n      <path d=\"M 2375 4863 \nL 2375 4384 \nL 1825 4384 \nQ 1516 4384 1395 4259 \nQ 1275 4134 1275 3809 \nL 1275 3500 \nL 2222 3500 \nL 2222 3053 \nL 1275 3053 \nL 1275 0 \nL 697 0 \nL 697 3053 \nL 147 3053 \nL 147 3500 \nL 697 3500 \nL 697 3744 \nQ 697 4328 969 4595 \nQ 1241 4863 1831 4863 \nL 2375 4863 \nz\n\" id=\"DejaVuSans-66\" transform=\"scale(0.015625)\"/>\n      <path d=\"M 2834 3397 \nL 2834 2853 \nQ 2591 2978 2328 3040 \nQ 2066 3103 1784 3103 \nQ 1356 3103 1142 2972 \nQ 928 2841 928 2578 \nQ 928 2378 1081 2264 \nQ 1234 2150 1697 2047 \nL 1894 2003 \nQ 2506 1872 2764 1633 \nQ 3022 1394 3022 966 \nQ 3022 478 2636 193 \nQ 2250 -91 1575 -91 \nQ 1294 -91 989 -36 \nQ 684 19 347 128 \nL 347 722 \nQ 666 556 975 473 \nQ 1284 391 1588 391 \nQ 1994 391 2212 530 \nQ 2431 669 2431 922 \nQ 2431 1156 2273 1281 \nQ 2116 1406 1581 1522 \nL 1381 1569 \nQ 847 1681 609 1914 \nQ 372 2147 372 2553 \nQ 372 3047 722 3315 \nQ 1072 3584 1716 3584 \nQ 2034 3584 2315 3537 \nQ 2597 3491 2834 3397 \nz\n\" id=\"DejaVuSans-73\" transform=\"scale(0.015625)\"/>\n      <path d=\"M 628 4666 \nL 1569 4666 \nL 2759 1491 \nL 3956 4666 \nL 4897 4666 \nL 4897 0 \nL 4281 0 \nL 4281 4097 \nL 3078 897 \nL 2444 897 \nL 1241 4097 \nL 1241 0 \nL 628 0 \nL 628 4666 \nz\n\" id=\"DejaVuSans-4d\" transform=\"scale(0.015625)\"/>\n      <path d=\"M 3513 3500 \nL 2247 1797 \nL 3578 0 \nL 2900 0 \nL 1881 1375 \nL 863 0 \nL 184 0 \nL 1544 1831 \nL 300 3500 \nL 978 3500 \nL 1906 2253 \nL 2834 3500 \nL 3513 3500 \nz\n\" id=\"DejaVuSans-78\" transform=\"scale(0.015625)\"/>\n     </defs>\n     <use xlink:href=\"#DejaVuSans-43\"/>\n     <use x=\"69.824219\" xlink:href=\"#DejaVuSans-6f\"/>\n     <use x=\"131.005859\" xlink:href=\"#DejaVuSans-6e\"/>\n     <use x=\"194.384766\" xlink:href=\"#DejaVuSans-66\"/>\n     <use x=\"229.589844\" xlink:href=\"#DejaVuSans-75\"/>\n     <use x=\"292.96875\" xlink:href=\"#DejaVuSans-73\"/>\n     <use x=\"345.068359\" xlink:href=\"#DejaVuSans-69\"/>\n     <use x=\"372.851562\" xlink:href=\"#DejaVuSans-6f\"/>\n     <use x=\"434.033203\" xlink:href=\"#DejaVuSans-6e\"/>\n     <use x=\"497.412109\" xlink:href=\"#DejaVuSans-20\"/>\n     <use x=\"529.199219\" xlink:href=\"#DejaVuSans-4d\"/>\n     <use x=\"615.478516\" xlink:href=\"#DejaVuSans-61\"/>\n     <use x=\"676.757812\" xlink:href=\"#DejaVuSans-74\"/>\n     <use x=\"715.966797\" xlink:href=\"#DejaVuSans-72\"/>\n     <use x=\"757.080078\" xlink:href=\"#DejaVuSans-69\"/>\n     <use x=\"784.863281\" xlink:href=\"#DejaVuSans-78\"/>\n    </g>\n   </g>\n  </g>\n  <g id=\"axes_2\">\n   <g id=\"patch_7\">\n    <path d=\"M 650.830625 713.88 \nL 686.164625 713.88 \nL 686.164625 7.2 \nL 650.830625 7.2 \nz\n\" style=\"fill:#ffffff;\"/>\n   </g>\n   <g id=\"patch_8\">\n    <path clip-path=\"url(#p65da6a88be)\" d=\"M 650.830625 713.88 \nL 650.830625 711.119531 \nL 650.830625 9.960469 \nL 650.830625 7.2 \nL 686.164625 7.2 \nL 686.164625 9.960469 \nL 686.164625 711.119531 \nL 686.164625 713.88 \nL 686.164625 713.88 \nz\n\" style=\"fill:#ffffff;stroke:#ffffff;stroke-linejoin:miter;stroke-width:0.01;\"/>\n   </g>\n   <image height=\"707\" id=\"image2e8f67f39c\" transform=\"scale(1 -1)translate(0 -707)\" width=\"35\" x=\"651\" xlink:href=\"data:image/png;base64,\niVBORw0KGgoAAAANSUhEUgAAACMAAALDCAYAAACfArnyAAAEjElEQVR4nO2dsXFDMQzFJH2OlhGy/yj56XIphNoogAlwIvko2b5kf+3vd0k4nxb4j0pm1vb4eEyWTGb22Z92+MN1MjUwoJKpgQmVTNNEqGRmNU13Zu1O5opKZvbx+HhMlkymaSJUMrOapjs1MKGS6T5DqGRm9zq4o5JpmojWAaGSqUyESqZrJ6GSaZoIlUxlIjoZQiXTtZNQyTRNhEqmb+KIcoZQyZQzhEqmMhEqmcpEtA4IlUwNTKhk5q1Md1QyY9IRqZQzjEqmMhEqmcpEqGTa2kSLklDJlDOESqYyESqZ1gHROiBUMuUMoZIpZwiVzCxPlVwno5Ip9Ih5RToiFZlMDUyoZOb1VMl1MiqZponoPkOoZHodECqZPhIhVDJNE9E6IFQyXTsJlUzXTkIl0zQRrQNCJdPPtgmVTDlDqGQKPaIGJlQyXTsJlUzTRKhkWgeESqZpIloHhEqmBiZUMq0DQiXTz5yIGphQybQOCJVMlytCJdM0Ea0DQiVTAxMqmaaJUMk0TUQNTKhkamBCJdM0ESqZfg9M1MCESqZ1QKhkmiZCJVOZiHKGUMnUwIRKpmkiVDJNE6GSaZqIGphQyVQmQiVTzhAqmaaJmPfTBv9QnYxKpgYmVDKViVDJtLWJGphQydTAhEqmaSJUMpWJKGcIlUwNTKhkKhOhkin0iBqYUMnUwIRKpmkiVDKViShnCJVMDUwkQyRDFHqESqbQIzoZQiVTzhAqmaaJUMk0TUQNTKhkZm3PL/VUJ6OSKWcIlUyhR3QyhEqmnCFUMk0ToZKpTETXTkIl0zogkiGSIVoHRDlDqGTa2oRKppwhVDKViVDJVCaidUCoZGpgQiXTHZhQyRR6RDlDqGRG9GfIXSejkilnCJVMoUd0MoRKZtYqZ66oZJomQiUzu619pwYmVDI1MKGSaZoIlUxvbaLnLaGSaR0QKplyhlDJNE1E9xlCJVMDEyqZEQ2T62RUMk0ToZKpTETXTkIlM6cGvqOSKWcIlUxlIloHhEqmdUCoZMoZQiUzp9/P3GkdECqZ1gGhkmkdECqZpomogQmVTA1MqGS6dhIqmUKPKGcIlUxlIlQylYlQyVQmovsMoZKpgQmVTGUiVDKViVDJVCairU2oZGpgQiUzZ/982uEP1cmoZJomonVAqGRqYEIl0zogVDLzNE13WgeESqacIVQybW1CJTNPoXennCFUMuUMoZLp2kmoZOasQu9KOUOoZOapge+oZJomQiUzT3fgO31YRKhkamBCJdNbm1DJ9GERoZJpmogamFDJ1MCESqa3NqGS6a1N1MCESqZHHKGS6SMRQiXTNBF9+UWoZPoqmVDJdLkiVDK9tYkamFDJtA4IlUyXK0Il0+uAaB0QKpk+hSBUMuUMoZLpC1NCJdPliihnCJVMOUOoZPoqmVDJ9FQhyhlCJVPOECqZpolQyVQmYk7/8+uOSqYGJlQyY7Ixubhk5in07syzPEejOhmVTDlDqGTmEf1HVdXJqGTmFHp3WgeESqYGJlQyrQNCJTNH5OMxWeUMo5KZZ3t8PCZLJlPOECqZXzwUkIirIiENAAAAAElFTkSuQmCC\" y=\"-6\"/>\n   <g id=\"matplotlib.axis_3\"/>\n   <g id=\"matplotlib.axis_4\">\n    <g id=\"ytick_4\">\n     <g id=\"line2d_7\">\n      <defs>\n       <path d=\"M 0 0 \nL 3.5 0 \n\" id=\"m74405e4783\" style=\"stroke:#000000;stroke-width:0.8;\"/>\n      </defs>\n      <g>\n       <use style=\"stroke:#000000;stroke-width:0.8;\" x=\"686.164625\" xlink:href=\"#m74405e4783\" y=\"713.88\"/>\n      </g>\n     </g>\n     <g id=\"text_19\">\n      <!-- 0.0 -->\n      <g transform=\"translate(693.164625 717.679219)scale(0.1 -0.1)\">\n       <use xlink:href=\"#DejaVuSans-30\"/>\n       <use x=\"63.623047\" xlink:href=\"#DejaVuSans-2e\"/>\n       <use x=\"95.410156\" xlink:href=\"#DejaVuSans-30\"/>\n      </g>\n     </g>\n    </g>\n    <g id=\"ytick_5\">\n     <g id=\"line2d_8\">\n      <g>\n       <use style=\"stroke:#000000;stroke-width:0.8;\" x=\"686.164625\" xlink:href=\"#m74405e4783\" y=\"572.449776\"/>\n      </g>\n     </g>\n     <g id=\"text_20\">\n      <!-- 0.2 -->\n      <g transform=\"translate(693.164625 576.248995)scale(0.1 -0.1)\">\n       <use xlink:href=\"#DejaVuSans-30\"/>\n       <use x=\"63.623047\" xlink:href=\"#DejaVuSans-2e\"/>\n       <use x=\"95.410156\" xlink:href=\"#DejaVuSans-32\"/>\n      </g>\n     </g>\n    </g>\n    <g id=\"ytick_6\">\n     <g id=\"line2d_9\">\n      <g>\n       <use style=\"stroke:#000000;stroke-width:0.8;\" x=\"686.164625\" xlink:href=\"#m74405e4783\" y=\"431.019552\"/>\n      </g>\n     </g>\n     <g id=\"text_21\">\n      <!-- 0.4 -->\n      <g transform=\"translate(693.164625 434.818771)scale(0.1 -0.1)\">\n       <use xlink:href=\"#DejaVuSans-30\"/>\n       <use x=\"63.623047\" xlink:href=\"#DejaVuSans-2e\"/>\n       <use x=\"95.410156\" xlink:href=\"#DejaVuSans-34\"/>\n      </g>\n     </g>\n    </g>\n    <g id=\"ytick_7\">\n     <g id=\"line2d_10\">\n      <g>\n       <use style=\"stroke:#000000;stroke-width:0.8;\" x=\"686.164625\" xlink:href=\"#m74405e4783\" y=\"289.589328\"/>\n      </g>\n     </g>\n     <g id=\"text_22\">\n      <!-- 0.6 -->\n      <g transform=\"translate(693.164625 293.388547)scale(0.1 -0.1)\">\n       <use xlink:href=\"#DejaVuSans-30\"/>\n       <use x=\"63.623047\" xlink:href=\"#DejaVuSans-2e\"/>\n       <use x=\"95.410156\" xlink:href=\"#DejaVuSans-36\"/>\n      </g>\n     </g>\n    </g>\n    <g id=\"ytick_8\">\n     <g id=\"line2d_11\">\n      <g>\n       <use style=\"stroke:#000000;stroke-width:0.8;\" x=\"686.164625\" xlink:href=\"#m74405e4783\" y=\"148.159104\"/>\n      </g>\n     </g>\n     <g id=\"text_23\">\n      <!-- 0.8 -->\n      <g transform=\"translate(693.164625 151.958323)scale(0.1 -0.1)\">\n       <use xlink:href=\"#DejaVuSans-30\"/>\n       <use x=\"63.623047\" xlink:href=\"#DejaVuSans-2e\"/>\n       <use x=\"95.410156\" xlink:href=\"#DejaVuSans-38\"/>\n      </g>\n     </g>\n    </g>\n   </g>\n   <g id=\"LineCollection_1\"/>\n   <g id=\"patch_9\">\n    <path d=\"M 650.830625 713.88 \nL 650.830625 711.119531 \nL 650.830625 9.960469 \nL 650.830625 7.2 \nL 686.164625 7.2 \nL 686.164625 9.960469 \nL 686.164625 711.119531 \nL 686.164625 713.88 \nz\n\" style=\"fill:none;stroke:#000000;stroke-linecap:square;stroke-linejoin:miter;stroke-width:0.8;\"/>\n   </g>\n  </g>\n </g>\n <defs>\n  <clipPath id=\"pb354d301fb\">\n   <rect height=\"580.32\" width=\"580.32\" x=\"34.240625\" y=\"70.38\"/>\n  </clipPath>\n  <clipPath id=\"p65da6a88be\">\n   <rect height=\"706.68\" width=\"35.334\" x=\"650.830625\" y=\"7.2\"/>\n  </clipPath>\n </defs>\n</svg>\n",
      "image/png": "[encoded data removed]"
     },
     "metadata": {
      "needs_background": "light"
     }
    }
   ],
   "source": [
    "# Show the confusion matrix\n",
    "fig, ax = plt.subplots(figsize=(13, 13))\n",
    "disp = plot_confusion_matrix(clf, X_test, y_test,\n",
    "                             cmap=cmap.get_cmap('viridis'),\n",
    "                             normalize='true',\n",
    "                             ax=ax)\n",
    "disp.ax_.set_title('Confusion Matrix')\n",
    "plt.xticks(rotation=45)\n",
    "matplotlib.rcParams.update({'font.size': 13})\n",
    "\n",
    "plt.show()"
   ]
  },
  {
   "cell_type": "code",
   "execution_count": 18,
   "id": "another-hurricane",
   "metadata": {},
   "outputs": [
    {
     "output_type": "stream",
     "name": "stdout",
     "text": [
      "The average precision is: 0.9975 and recall is: 0.9975\n"
     ]
    }
   ],
   "source": [
    "cm = disp.confusion_matrix\n",
    "prec_sum = 0\n",
    "recall_sum = 0\n",
    "\n",
    "for i, label in enumerate(['neutral','positive','negative']):\n",
    "    col_sum = 0\n",
    "    row_sum = 0\n",
    "    for j, _ in enumerate(['neutral','positive','negative']):\n",
    "        col_sum += cm[i][j]\n",
    "        row_sum += cm[j][i]\n",
    "        if i == j:\n",
    "            true_val = cm[i][j]\n",
    "    if col_sum == 0:\n",
    "        col_sum = 1\n",
    "    if row_sum == 0:\n",
    "        row_sum = 1\n",
    "    prec_sum += true_val / col_sum\n",
    "    recall_sum += true_val / row_sum\n",
    "    \n",
    "precision = prec_sum / len(['neutral','positive','negative'])\n",
    "recall = recall_sum / len(['neutral','positive','negative'])\n",
    "\n",
    "print(f'The average precision is: {round(precision, 4)} and recall is: {round(recall, 4)}')"
   ]
  },
  {
   "cell_type": "markdown",
   "id": "brazilian-conclusion",
   "metadata": {},
   "source": [
    "# Regress to Emotion Level"
   ]
  },
  {
   "cell_type": "markdown",
   "id": "natural-homework",
   "metadata": {},
   "source": [
    "## Separate Data for Features/Labels"
   ]
  },
  {
   "cell_type": "code",
   "execution_count": 19,
   "id": "hydraulic-collaboration",
   "metadata": {},
   "outputs": [],
   "source": [
    "features = ['enc_pred_emotion','emotion_confidence','rpm','distance','norm_slow','norm_fast','norm_start','norm_stop']\n",
    "\n",
    "X = data_df[features].astype(float)\n",
    "y = data_df['x_joystick']"
   ]
  },
  {
   "cell_type": "markdown",
   "id": "informational-duration",
   "metadata": {},
   "source": [
    "## Build the Regressor"
   ]
  },
  {
   "cell_type": "code",
   "execution_count": 20,
   "id": "cultural-bundle",
   "metadata": {},
   "outputs": [
    {
     "output_type": "stream",
     "name": "stdout",
     "text": [
      "0.8742097315934573\n"
     ]
    }
   ],
   "source": [
    "X_train, X_test, y_train, y_test = train_test_split(X, y, test_size=0.3)\n",
    "\n",
    "regr = RandomForestRegressor(max_depth=8)\n",
    "regr.fit(X_train, y_train)\n",
    "print(regr.score(X_test, y_test))\n",
    "\n",
    "y_hat = regr.predict(X)"
   ]
  },
  {
   "cell_type": "markdown",
   "id": "metallic-choir",
   "metadata": {},
   "source": [
    "## Show Feature Importance"
   ]
  },
  {
   "cell_type": "code",
   "execution_count": 21,
   "id": "particular-printer",
   "metadata": {},
   "outputs": [
    {
     "output_type": "display_data",
     "data": {
      "application/vnd.plotly.v1+json": {
       "config": {
        "plotlyServerURL": "https://plot.ly"
       },
       "data": [
        {
         "alignmentgroup": "True",
         "hovertemplate": "Features=%{x}<br>Importances=%{y}<extra></extra>",
         "legendgroup": "",
         "marker": {
          "color": "#F8766D"
         },
         "name": "",
         "offsetgroup": "",
         "orientation": "v",
         "showlegend": false,
         "textposition": "auto",
         "type": "bar",
         "x": [
          "rpm",
          "norm_start",
          "distance",
          "norm_stop",
          "norm_slow",
          "norm_fast",
          "enc_pred_emotion",
          "emotion_confidence"
         ],
         "xaxis": "x",
         "y": [
          0.1815985705679529,
          0.17470160283218447,
          0.1654322969310556,
          0.14305436755387935,
          0.10123369963193615,
          0.08633780033153432,
          0.0769586456009455,
          0.07068301655051186
         ],
         "yaxis": "y"
        }
       ],
       "layout": {
        "barmode": "relative",
        "legend": {
         "tracegroupgap": 0
        },
        "template": {
         "data": {
          "bar": [
           {
            "error_x": {
             "color": "rgb(51,51,51)"
            },
            "error_y": {
             "color": "rgb(51,51,51)"
            },
            "marker": {
             "line": {
              "color": "rgb(237,237,237)",
              "width": 0.5
             }
            },
            "type": "bar"
           }
          ],
          "barpolar": [
           {
            "marker": {
             "line": {
              "color": "rgb(237,237,237)",
              "width": 0.5
             }
            },
            "type": "barpolar"
           }
          ],
          "carpet": [
           {
            "aaxis": {
             "endlinecolor": "rgb(51,51,51)",
             "gridcolor": "white",
             "linecolor": "white",
             "minorgridcolor": "white",
             "startlinecolor": "rgb(51,51,51)"
            },
            "baxis": {
             "endlinecolor": "rgb(51,51,51)",
             "gridcolor": "white",
             "linecolor": "white",
             "minorgridcolor": "white",
             "startlinecolor": "rgb(51,51,51)"
            },
            "type": "carpet"
           }
          ],
          "choropleth": [
           {
            "colorbar": {
             "outlinewidth": 0,
             "tickcolor": "rgb(237,237,237)",
             "ticklen": 6,
             "ticks": "inside"
            },
            "type": "choropleth"
           }
          ],
          "contour": [
           {
            "colorbar": {
             "outlinewidth": 0,
             "tickcolor": "rgb(237,237,237)",
             "ticklen": 6,
             "ticks": "inside"
            },
            "colorscale": [
             [
              0,
              "rgb(20,44,66)"
             ],
             [
              1,
              "rgb(90,179,244)"
             ]
            ],
            "type": "contour"
           }
          ],
          "contourcarpet": [
           {
            "colorbar": {
             "outlinewidth": 0,
             "tickcolor": "rgb(237,237,237)",
             "ticklen": 6,
             "ticks": "inside"
            },
            "type": "contourcarpet"
           }
          ],
          "heatmap": [
           {
            "colorbar": {
             "outlinewidth": 0,
             "tickcolor": "rgb(237,237,237)",
             "ticklen": 6,
             "ticks": "inside"
            },
            "colorscale": [
             [
              0,
              "rgb(20,44,66)"
             ],
             [
              1,
              "rgb(90,179,244)"
             ]
            ],
            "type": "heatmap"
           }
          ],
          "heatmapgl": [
           {
            "colorbar": {
             "outlinewidth": 0,
             "tickcolor": "rgb(237,237,237)",
             "ticklen": 6,
             "ticks": "inside"
            },
            "colorscale": [
             [
              0,
              "rgb(20,44,66)"
             ],
             [
              1,
              "rgb(90,179,244)"
             ]
            ],
            "type": "heatmapgl"
           }
          ],
          "histogram": [
           {
            "marker": {
             "colorbar": {
              "outlinewidth": 0,
              "tickcolor": "rgb(237,237,237)",
              "ticklen": 6,
              "ticks": "inside"
             }
            },
            "type": "histogram"
           }
          ],
          "histogram2d": [
           {
            "colorbar": {
             "outlinewidth": 0,
             "tickcolor": "rgb(237,237,237)",
             "ticklen": 6,
             "ticks": "inside"
            },
            "colorscale": [
             [
              0,
              "rgb(20,44,66)"
             ],
             [
              1,
              "rgb(90,179,244)"
             ]
            ],
            "type": "histogram2d"
           }
          ],
          "histogram2dcontour": [
           {
            "colorbar": {
             "outlinewidth": 0,
             "tickcolor": "rgb(237,237,237)",
             "ticklen": 6,
             "ticks": "inside"
            },
            "colorscale": [
             [
              0,
              "rgb(20,44,66)"
             ],
             [
              1,
              "rgb(90,179,244)"
             ]
            ],
            "type": "histogram2dcontour"
           }
          ],
          "mesh3d": [
           {
            "colorbar": {
             "outlinewidth": 0,
             "tickcolor": "rgb(237,237,237)",
             "ticklen": 6,
             "ticks": "inside"
            },
            "type": "mesh3d"
           }
          ],
          "parcoords": [
           {
            "line": {
             "colorbar": {
              "outlinewidth": 0,
              "tickcolor": "rgb(237,237,237)",
              "ticklen": 6,
              "ticks": "inside"
             }
            },
            "type": "parcoords"
           }
          ],
          "pie": [
           {
            "automargin": true,
            "type": "pie"
           }
          ],
          "scatter": [
           {
            "marker": {
             "colorbar": {
              "outlinewidth": 0,
              "tickcolor": "rgb(237,237,237)",
              "ticklen": 6,
              "ticks": "inside"
             }
            },
            "type": "scatter"
           }
          ],
          "scatter3d": [
           {
            "line": {
             "colorbar": {
              "outlinewidth": 0,
              "tickcolor": "rgb(237,237,237)",
              "ticklen": 6,
              "ticks": "inside"
             }
            },
            "marker": {
             "colorbar": {
              "outlinewidth": 0,
              "tickcolor": "rgb(237,237,237)",
              "ticklen": 6,
              "ticks": "inside"
             }
            },
            "type": "scatter3d"
           }
          ],
          "scattercarpet": [
           {
            "marker": {
             "colorbar": {
              "outlinewidth": 0,
              "tickcolor": "rgb(237,237,237)",
              "ticklen": 6,
              "ticks": "inside"
             }
            },
            "type": "scattercarpet"
           }
          ],
          "scattergeo": [
           {
            "marker": {
             "colorbar": {
              "outlinewidth": 0,
              "tickcolor": "rgb(237,237,237)",
              "ticklen": 6,
              "ticks": "inside"
             }
            },
            "type": "scattergeo"
           }
          ],
          "scattergl": [
           {
            "marker": {
             "colorbar": {
              "outlinewidth": 0,
              "tickcolor": "rgb(237,237,237)",
              "ticklen": 6,
              "ticks": "inside"
             }
            },
            "type": "scattergl"
           }
          ],
          "scattermapbox": [
           {
            "marker": {
             "colorbar": {
              "outlinewidth": 0,
              "tickcolor": "rgb(237,237,237)",
              "ticklen": 6,
              "ticks": "inside"
             }
            },
            "type": "scattermapbox"
           }
          ],
          "scatterpolar": [
           {
            "marker": {
             "colorbar": {
              "outlinewidth": 0,
              "tickcolor": "rgb(237,237,237)",
              "ticklen": 6,
              "ticks": "inside"
             }
            },
            "type": "scatterpolar"
           }
          ],
          "scatterpolargl": [
           {
            "marker": {
             "colorbar": {
              "outlinewidth": 0,
              "tickcolor": "rgb(237,237,237)",
              "ticklen": 6,
              "ticks": "inside"
             }
            },
            "type": "scatterpolargl"
           }
          ],
          "scatterternary": [
           {
            "marker": {
             "colorbar": {
              "outlinewidth": 0,
              "tickcolor": "rgb(237,237,237)",
              "ticklen": 6,
              "ticks": "inside"
             }
            },
            "type": "scatterternary"
           }
          ],
          "surface": [
           {
            "colorbar": {
             "outlinewidth": 0,
             "tickcolor": "rgb(237,237,237)",
             "ticklen": 6,
             "ticks": "inside"
            },
            "colorscale": [
             [
              0,
              "rgb(20,44,66)"
             ],
             [
              1,
              "rgb(90,179,244)"
             ]
            ],
            "type": "surface"
           }
          ],
          "table": [
           {
            "cells": {
             "fill": {
              "color": "rgb(237,237,237)"
             },
             "line": {
              "color": "white"
             }
            },
            "header": {
             "fill": {
              "color": "rgb(217,217,217)"
             },
             "line": {
              "color": "white"
             }
            },
            "type": "table"
           }
          ]
         },
         "layout": {
          "annotationdefaults": {
           "arrowhead": 0,
           "arrowwidth": 1
          },
          "autotypenumbers": "strict",
          "coloraxis": {
           "colorbar": {
            "outlinewidth": 0,
            "tickcolor": "rgb(237,237,237)",
            "ticklen": 6,
            "ticks": "inside"
           }
          },
          "colorscale": {
           "sequential": [
            [
             0,
             "rgb(20,44,66)"
            ],
            [
             1,
             "rgb(90,179,244)"
            ]
           ],
           "sequentialminus": [
            [
             0,
             "rgb(20,44,66)"
            ],
            [
             1,
             "rgb(90,179,244)"
            ]
           ]
          },
          "colorway": [
           "#F8766D",
           "#A3A500",
           "#00BF7D",
           "#00B0F6",
           "#E76BF3"
          ],
          "font": {
           "color": "rgb(51,51,51)"
          },
          "geo": {
           "bgcolor": "white",
           "lakecolor": "white",
           "landcolor": "rgb(237,237,237)",
           "showlakes": true,
           "showland": true,
           "subunitcolor": "white"
          },
          "hoverlabel": {
           "align": "left"
          },
          "hovermode": "closest",
          "paper_bgcolor": "white",
          "plot_bgcolor": "rgb(237,237,237)",
          "polar": {
           "angularaxis": {
            "gridcolor": "white",
            "linecolor": "white",
            "showgrid": true,
            "tickcolor": "rgb(51,51,51)",
            "ticks": "outside"
           },
           "bgcolor": "rgb(237,237,237)",
           "radialaxis": {
            "gridcolor": "white",
            "linecolor": "white",
            "showgrid": true,
            "tickcolor": "rgb(51,51,51)",
            "ticks": "outside"
           }
          },
          "scene": {
           "xaxis": {
            "backgroundcolor": "rgb(237,237,237)",
            "gridcolor": "white",
            "gridwidth": 2,
            "linecolor": "white",
            "showbackground": true,
            "showgrid": true,
            "tickcolor": "rgb(51,51,51)",
            "ticks": "outside",
            "zerolinecolor": "white"
           },
           "yaxis": {
            "backgroundcolor": "rgb(237,237,237)",
            "gridcolor": "white",
            "gridwidth": 2,
            "linecolor": "white",
            "showbackground": true,
            "showgrid": true,
            "tickcolor": "rgb(51,51,51)",
            "ticks": "outside",
            "zerolinecolor": "white"
           },
           "zaxis": {
            "backgroundcolor": "rgb(237,237,237)",
            "gridcolor": "white",
            "gridwidth": 2,
            "linecolor": "white",
            "showbackground": true,
            "showgrid": true,
            "tickcolor": "rgb(51,51,51)",
            "ticks": "outside",
            "zerolinecolor": "white"
           }
          },
          "shapedefaults": {
           "fillcolor": "black",
           "line": {
            "width": 0
           },
           "opacity": 0.3
          },
          "ternary": {
           "aaxis": {
            "gridcolor": "white",
            "linecolor": "white",
            "showgrid": true,
            "tickcolor": "rgb(51,51,51)",
            "ticks": "outside"
           },
           "baxis": {
            "gridcolor": "white",
            "linecolor": "white",
            "showgrid": true,
            "tickcolor": "rgb(51,51,51)",
            "ticks": "outside"
           },
           "bgcolor": "rgb(237,237,237)",
           "caxis": {
            "gridcolor": "white",
            "linecolor": "white",
            "showgrid": true,
            "tickcolor": "rgb(51,51,51)",
            "ticks": "outside"
           }
          },
          "xaxis": {
           "automargin": true,
           "gridcolor": "white",
           "linecolor": "white",
           "showgrid": true,
           "tickcolor": "rgb(51,51,51)",
           "ticks": "outside",
           "title": {
            "standoff": 15
           },
           "zerolinecolor": "white"
          },
          "yaxis": {
           "automargin": true,
           "gridcolor": "white",
           "linecolor": "white",
           "showgrid": true,
           "tickcolor": "rgb(51,51,51)",
           "ticks": "outside",
           "title": {
            "standoff": 15
           },
           "zerolinecolor": "white"
          }
         }
        },
        "title": {
         "text": "Feature Importance"
        },
        "xaxis": {
         "anchor": "y",
         "domain": [
          0,
          1
         ],
         "title": {
          "text": "Features"
         }
        },
        "yaxis": {
         "anchor": "x",
         "domain": [
          0,
          1
         ],
         "title": {
          "text": "Importances"
         }
        }
       }
      }
     },
     "metadata": {}
    }
   ],
   "source": [
    "# See which features were most important\n",
    "imps = pd.DataFrame()\n",
    "imps['Features'] = features\n",
    "imps['Importances'] = clf.feature_importances_\n",
    "imps = imps.sort_values('Importances', ascending=False)\n",
    "px.bar(imps, x='Features', y='Importances', template='ggplot2',\n",
    "       title='Feature Importance')"
   ]
  },
  {
   "cell_type": "markdown",
   "id": "trying-merchandise",
   "metadata": {},
   "source": [
    "## Analyze Regressor Effectiveness"
   ]
  },
  {
   "cell_type": "code",
   "execution_count": 22,
   "id": "underlying-google",
   "metadata": {},
   "outputs": [
    {
     "output_type": "stream",
     "name": "stderr",
     "text": [
      "<ipython-input-22-fa71736731f7>:13: SettingWithCopyWarning:\n\n\nA value is trying to be set on a copy of a slice from a DataFrame.\nTry using .loc[row_indexer,col_indexer] = value instead\n\nSee the caveats in the documentation: https://pandas.pydata.org/pandas-docs/stable/user_guide/indexing.html#returning-a-view-versus-a-copy\n\n<ipython-input-22-fa71736731f7>:13: SettingWithCopyWarning:\n\n\nA value is trying to be set on a copy of a slice from a DataFrame.\nTry using .loc[row_indexer,col_indexer] = value instead\n\nSee the caveats in the documentation: https://pandas.pydata.org/pandas-docs/stable/user_guide/indexing.html#returning-a-view-versus-a-copy\n\n<ipython-input-22-fa71736731f7>:13: SettingWithCopyWarning:\n\n\nA value is trying to be set on a copy of a slice from a DataFrame.\nTry using .loc[row_indexer,col_indexer] = value instead\n\nSee the caveats in the documentation: https://pandas.pydata.org/pandas-docs/stable/user_guide/indexing.html#returning-a-view-versus-a-copy\n\n"
     ]
    },
    {
     "output_type": "display_data",
     "data": {
      "application/vnd.plotly.v1+json": {
       "config": {
        "plotlyServerURL": "https://plot.ly"
       },
       "data": [
        {
         "type": "bar",
         "x": [
          -1,
          -0.75,
          -0.5,
          -0.25,
          0,
          0.25,
          0.5,
          0.75,
          1
         ],
         "xaxis": "x",
         "y": [
          0,
          0,
          0,
          8,
          3281,
          36,
          25,
          60,
          59
         ],
         "yaxis": "y"
        },
        {
         "type": "bar",
         "x": [
          -1,
          -0.75,
          -0.5,
          -0.25,
          0,
          0.25,
          0.5,
          0.75,
          1
         ],
         "xaxis": "x2",
         "y": [
          1,
          6,
          0,
          0,
          3685,
          260,
          80,
          118,
          827
         ],
         "yaxis": "y2"
        },
        {
         "type": "bar",
         "x": [
          -1,
          -0.75,
          -0.5,
          -0.25,
          0,
          0.25,
          0.5,
          0.75,
          1
         ],
         "xaxis": "x3",
         "y": [
          125,
          23,
          25,
          40,
          862,
          3,
          65,
          25,
          135
         ],
         "yaxis": "y3"
        }
       ],
       "layout": {
        "annotations": [
         {
          "font": {
           "size": 16
          },
          "showarrow": false,
          "text": "Neutral",
          "x": 0.14444444444444446,
          "xanchor": "center",
          "xref": "paper",
          "y": 1,
          "yanchor": "bottom",
          "yref": "paper"
         },
         {
          "font": {
           "size": 16
          },
          "showarrow": false,
          "text": "Positive",
          "x": 0.5,
          "xanchor": "center",
          "xref": "paper",
          "y": 1,
          "yanchor": "bottom",
          "yref": "paper"
         },
         {
          "font": {
           "size": 16
          },
          "showarrow": false,
          "text": "Negative",
          "x": 0.8555555555555556,
          "xanchor": "center",
          "xref": "paper",
          "y": 1,
          "yanchor": "bottom",
          "yref": "paper"
         }
        ],
        "showlegend": false,
        "template": {
         "data": {
          "bar": [
           {
            "error_x": {
             "color": "#2a3f5f"
            },
            "error_y": {
             "color": "#2a3f5f"
            },
            "marker": {
             "line": {
              "color": "#E5ECF6",
              "width": 0.5
             }
            },
            "type": "bar"
           }
          ],
          "barpolar": [
           {
            "marker": {
             "line": {
              "color": "#E5ECF6",
              "width": 0.5
             }
            },
            "type": "barpolar"
           }
          ],
          "carpet": [
           {
            "aaxis": {
             "endlinecolor": "#2a3f5f",
             "gridcolor": "white",
             "linecolor": "white",
             "minorgridcolor": "white",
             "startlinecolor": "#2a3f5f"
            },
            "baxis": {
             "endlinecolor": "#2a3f5f",
             "gridcolor": "white",
             "linecolor": "white",
             "minorgridcolor": "white",
             "startlinecolor": "#2a3f5f"
            },
            "type": "carpet"
           }
          ],
          "choropleth": [
           {
            "colorbar": {
             "outlinewidth": 0,
             "ticks": ""
            },
            "type": "choropleth"
           }
          ],
          "contour": [
           {
            "colorbar": {
             "outlinewidth": 0,
             "ticks": ""
            },
            "colorscale": [
             [
              0,
              "#0d0887"
             ],
             [
              0.1111111111111111,
              "#46039f"
             ],
             [
              0.2222222222222222,
              "#7201a8"
             ],
             [
              0.3333333333333333,
              "#9c179e"
             ],
             [
              0.4444444444444444,
              "#bd3786"
             ],
             [
              0.5555555555555556,
              "#d8576b"
             ],
             [
              0.6666666666666666,
              "#ed7953"
             ],
             [
              0.7777777777777778,
              "#fb9f3a"
             ],
             [
              0.8888888888888888,
              "#fdca26"
             ],
             [
              1,
              "#f0f921"
             ]
            ],
            "type": "contour"
           }
          ],
          "contourcarpet": [
           {
            "colorbar": {
             "outlinewidth": 0,
             "ticks": ""
            },
            "type": "contourcarpet"
           }
          ],
          "heatmap": [
           {
            "colorbar": {
             "outlinewidth": 0,
             "ticks": ""
            },
            "colorscale": [
             [
              0,
              "#0d0887"
             ],
             [
              0.1111111111111111,
              "#46039f"
             ],
             [
              0.2222222222222222,
              "#7201a8"
             ],
             [
              0.3333333333333333,
              "#9c179e"
             ],
             [
              0.4444444444444444,
              "#bd3786"
             ],
             [
              0.5555555555555556,
              "#d8576b"
             ],
             [
              0.6666666666666666,
              "#ed7953"
             ],
             [
              0.7777777777777778,
              "#fb9f3a"
             ],
             [
              0.8888888888888888,
              "#fdca26"
             ],
             [
              1,
              "#f0f921"
             ]
            ],
            "type": "heatmap"
           }
          ],
          "heatmapgl": [
           {
            "colorbar": {
             "outlinewidth": 0,
             "ticks": ""
            },
            "colorscale": [
             [
              0,
              "#0d0887"
             ],
             [
              0.1111111111111111,
              "#46039f"
             ],
             [
              0.2222222222222222,
              "#7201a8"
             ],
             [
              0.3333333333333333,
              "#9c179e"
             ],
             [
              0.4444444444444444,
              "#bd3786"
             ],
             [
              0.5555555555555556,
              "#d8576b"
             ],
             [
              0.6666666666666666,
              "#ed7953"
             ],
             [
              0.7777777777777778,
              "#fb9f3a"
             ],
             [
              0.8888888888888888,
              "#fdca26"
             ],
             [
              1,
              "#f0f921"
             ]
            ],
            "type": "heatmapgl"
           }
          ],
          "histogram": [
           {
            "marker": {
             "colorbar": {
              "outlinewidth": 0,
              "ticks": ""
             }
            },
            "type": "histogram"
           }
          ],
          "histogram2d": [
           {
            "colorbar": {
             "outlinewidth": 0,
             "ticks": ""
            },
            "colorscale": [
             [
              0,
              "#0d0887"
             ],
             [
              0.1111111111111111,
              "#46039f"
             ],
             [
              0.2222222222222222,
              "#7201a8"
             ],
             [
              0.3333333333333333,
              "#9c179e"
             ],
             [
              0.4444444444444444,
              "#bd3786"
             ],
             [
              0.5555555555555556,
              "#d8576b"
             ],
             [
              0.6666666666666666,
              "#ed7953"
             ],
             [
              0.7777777777777778,
              "#fb9f3a"
             ],
             [
              0.8888888888888888,
              "#fdca26"
             ],
             [
              1,
              "#f0f921"
             ]
            ],
            "type": "histogram2d"
           }
          ],
          "histogram2dcontour": [
           {
            "colorbar": {
             "outlinewidth": 0,
             "ticks": ""
            },
            "colorscale": [
             [
              0,
              "#0d0887"
             ],
             [
              0.1111111111111111,
              "#46039f"
             ],
             [
              0.2222222222222222,
              "#7201a8"
             ],
             [
              0.3333333333333333,
              "#9c179e"
             ],
             [
              0.4444444444444444,
              "#bd3786"
             ],
             [
              0.5555555555555556,
              "#d8576b"
             ],
             [
              0.6666666666666666,
              "#ed7953"
             ],
             [
              0.7777777777777778,
              "#fb9f3a"
             ],
             [
              0.8888888888888888,
              "#fdca26"
             ],
             [
              1,
              "#f0f921"
             ]
            ],
            "type": "histogram2dcontour"
           }
          ],
          "mesh3d": [
           {
            "colorbar": {
             "outlinewidth": 0,
             "ticks": ""
            },
            "type": "mesh3d"
           }
          ],
          "parcoords": [
           {
            "line": {
             "colorbar": {
              "outlinewidth": 0,
              "ticks": ""
             }
            },
            "type": "parcoords"
           }
          ],
          "pie": [
           {
            "automargin": true,
            "type": "pie"
           }
          ],
          "scatter": [
           {
            "marker": {
             "colorbar": {
              "outlinewidth": 0,
              "ticks": ""
             }
            },
            "type": "scatter"
           }
          ],
          "scatter3d": [
           {
            "line": {
             "colorbar": {
              "outlinewidth": 0,
              "ticks": ""
             }
            },
            "marker": {
             "colorbar": {
              "outlinewidth": 0,
              "ticks": ""
             }
            },
            "type": "scatter3d"
           }
          ],
          "scattercarpet": [
           {
            "marker": {
             "colorbar": {
              "outlinewidth": 0,
              "ticks": ""
             }
            },
            "type": "scattercarpet"
           }
          ],
          "scattergeo": [
           {
            "marker": {
             "colorbar": {
              "outlinewidth": 0,
              "ticks": ""
             }
            },
            "type": "scattergeo"
           }
          ],
          "scattergl": [
           {
            "marker": {
             "colorbar": {
              "outlinewidth": 0,
              "ticks": ""
             }
            },
            "type": "scattergl"
           }
          ],
          "scattermapbox": [
           {
            "marker": {
             "colorbar": {
              "outlinewidth": 0,
              "ticks": ""
             }
            },
            "type": "scattermapbox"
           }
          ],
          "scatterpolar": [
           {
            "marker": {
             "colorbar": {
              "outlinewidth": 0,
              "ticks": ""
             }
            },
            "type": "scatterpolar"
           }
          ],
          "scatterpolargl": [
           {
            "marker": {
             "colorbar": {
              "outlinewidth": 0,
              "ticks": ""
             }
            },
            "type": "scatterpolargl"
           }
          ],
          "scatterternary": [
           {
            "marker": {
             "colorbar": {
              "outlinewidth": 0,
              "ticks": ""
             }
            },
            "type": "scatterternary"
           }
          ],
          "surface": [
           {
            "colorbar": {
             "outlinewidth": 0,
             "ticks": ""
            },
            "colorscale": [
             [
              0,
              "#0d0887"
             ],
             [
              0.1111111111111111,
              "#46039f"
             ],
             [
              0.2222222222222222,
              "#7201a8"
             ],
             [
              0.3333333333333333,
              "#9c179e"
             ],
             [
              0.4444444444444444,
              "#bd3786"
             ],
             [
              0.5555555555555556,
              "#d8576b"
             ],
             [
              0.6666666666666666,
              "#ed7953"
             ],
             [
              0.7777777777777778,
              "#fb9f3a"
             ],
             [
              0.8888888888888888,
              "#fdca26"
             ],
             [
              1,
              "#f0f921"
             ]
            ],
            "type": "surface"
           }
          ],
          "table": [
           {
            "cells": {
             "fill": {
              "color": "#EBF0F8"
             },
             "line": {
              "color": "white"
             }
            },
            "header": {
             "fill": {
              "color": "#C8D4E3"
             },
             "line": {
              "color": "white"
             }
            },
            "type": "table"
           }
          ]
         },
         "layout": {
          "annotationdefaults": {
           "arrowcolor": "#2a3f5f",
           "arrowhead": 0,
           "arrowwidth": 1
          },
          "autotypenumbers": "strict",
          "coloraxis": {
           "colorbar": {
            "outlinewidth": 0,
            "ticks": ""
           }
          },
          "colorscale": {
           "diverging": [
            [
             0,
             "#8e0152"
            ],
            [
             0.1,
             "#c51b7d"
            ],
            [
             0.2,
             "#de77ae"
            ],
            [
             0.3,
             "#f1b6da"
            ],
            [
             0.4,
             "#fde0ef"
            ],
            [
             0.5,
             "#f7f7f7"
            ],
            [
             0.6,
             "#e6f5d0"
            ],
            [
             0.7,
             "#b8e186"
            ],
            [
             0.8,
             "#7fbc41"
            ],
            [
             0.9,
             "#4d9221"
            ],
            [
             1,
             "#276419"
            ]
           ],
           "sequential": [
            [
             0,
             "#0d0887"
            ],
            [
             0.1111111111111111,
             "#46039f"
            ],
            [
             0.2222222222222222,
             "#7201a8"
            ],
            [
             0.3333333333333333,
             "#9c179e"
            ],
            [
             0.4444444444444444,
             "#bd3786"
            ],
            [
             0.5555555555555556,
             "#d8576b"
            ],
            [
             0.6666666666666666,
             "#ed7953"
            ],
            [
             0.7777777777777778,
             "#fb9f3a"
            ],
            [
             0.8888888888888888,
             "#fdca26"
            ],
            [
             1,
             "#f0f921"
            ]
           ],
           "sequentialminus": [
            [
             0,
             "#0d0887"
            ],
            [
             0.1111111111111111,
             "#46039f"
            ],
            [
             0.2222222222222222,
             "#7201a8"
            ],
            [
             0.3333333333333333,
             "#9c179e"
            ],
            [
             0.4444444444444444,
             "#bd3786"
            ],
            [
             0.5555555555555556,
             "#d8576b"
            ],
            [
             0.6666666666666666,
             "#ed7953"
            ],
            [
             0.7777777777777778,
             "#fb9f3a"
            ],
            [
             0.8888888888888888,
             "#fdca26"
            ],
            [
             1,
             "#f0f921"
            ]
           ]
          },
          "colorway": [
           "#636efa",
           "#EF553B",
           "#00cc96",
           "#ab63fa",
           "#FFA15A",
           "#19d3f3",
           "#FF6692",
           "#B6E880",
           "#FF97FF",
           "#FECB52"
          ],
          "font": {
           "color": "#2a3f5f"
          },
          "geo": {
           "bgcolor": "white",
           "lakecolor": "white",
           "landcolor": "#E5ECF6",
           "showlakes": true,
           "showland": true,
           "subunitcolor": "white"
          },
          "hoverlabel": {
           "align": "left"
          },
          "hovermode": "closest",
          "mapbox": {
           "style": "light"
          },
          "paper_bgcolor": "white",
          "plot_bgcolor": "#E5ECF6",
          "polar": {
           "angularaxis": {
            "gridcolor": "white",
            "linecolor": "white",
            "ticks": ""
           },
           "bgcolor": "#E5ECF6",
           "radialaxis": {
            "gridcolor": "white",
            "linecolor": "white",
            "ticks": ""
           }
          },
          "scene": {
           "xaxis": {
            "backgroundcolor": "#E5ECF6",
            "gridcolor": "white",
            "gridwidth": 2,
            "linecolor": "white",
            "showbackground": true,
            "ticks": "",
            "zerolinecolor": "white"
           },
           "yaxis": {
            "backgroundcolor": "#E5ECF6",
            "gridcolor": "white",
            "gridwidth": 2,
            "linecolor": "white",
            "showbackground": true,
            "ticks": "",
            "zerolinecolor": "white"
           },
           "zaxis": {
            "backgroundcolor": "#E5ECF6",
            "gridcolor": "white",
            "gridwidth": 2,
            "linecolor": "white",
            "showbackground": true,
            "ticks": "",
            "zerolinecolor": "white"
           }
          },
          "shapedefaults": {
           "line": {
            "color": "#2a3f5f"
           }
          },
          "ternary": {
           "aaxis": {
            "gridcolor": "white",
            "linecolor": "white",
            "ticks": ""
           },
           "baxis": {
            "gridcolor": "white",
            "linecolor": "white",
            "ticks": ""
           },
           "bgcolor": "#E5ECF6",
           "caxis": {
            "gridcolor": "white",
            "linecolor": "white",
            "ticks": ""
           }
          },
          "title": {
           "x": 0.05
          },
          "xaxis": {
           "automargin": true,
           "gridcolor": "white",
           "linecolor": "white",
           "ticks": "",
           "title": {
            "standoff": 15
           },
           "zerolinecolor": "white",
           "zerolinewidth": 2
          },
          "yaxis": {
           "automargin": true,
           "gridcolor": "white",
           "linecolor": "white",
           "ticks": "",
           "title": {
            "standoff": 15
           },
           "zerolinecolor": "white",
           "zerolinewidth": 2
          }
         }
        },
        "title": {
         "text": "Predicted Emotion Level by Video Type"
        },
        "xaxis": {
         "anchor": "y",
         "domain": [
          0,
          0.2888888888888889
         ]
        },
        "xaxis2": {
         "anchor": "y2",
         "domain": [
          0.35555555555555557,
          0.6444444444444445
         ],
         "title": {
          "text": "Negative to Positive Predicted Emotions"
         }
        },
        "xaxis3": {
         "anchor": "y3",
         "domain": [
          0.7111111111111111,
          1
         ]
        },
        "yaxis": {
         "anchor": "x",
         "domain": [
          0,
          1
         ],
         "title": {
          "text": "Count"
         }
        },
        "yaxis2": {
         "anchor": "x2",
         "domain": [
          0,
          1
         ]
        },
        "yaxis3": {
         "anchor": "x3",
         "domain": [
          0,
          1
         ]
        }
       }
      }
     },
     "metadata": {}
    }
   ],
   "source": [
    "# Adding y_hat to data_df\n",
    "data_df['y_hat'] = y_hat.tolist()\n",
    "\n",
    "bins = [-1.5, -0.75, -0.5, -0.25, -0.1, 0.1,\n",
    "        0.25, 0.5, 0.75, 1.5]\n",
    "labels = [-1.0, -0.75, -0.5, -0.25, 0.0, 0.25, 0.5, 0.75, 1.0]\n",
    "\n",
    "fig = make_subplots(rows=1, cols=3,\n",
    "                    subplot_titles=('Neutral','Positive','Negative'))\n",
    "emotions = ['neutral','positive','negative']\n",
    "for i, emotion in enumerate(emotions):\n",
    "    tmp = data_df[data_df['enc_video_type'] == label_encoding[emotion]]\n",
    "    tmp['y_hat'] = pd.cut(tmp['y_hat'], bins=bins, labels=labels)\n",
    "    tmp = tmp.groupby('y_hat').video_id.count().reset_index().rename(columns={'video_id':'count'})\n",
    "    fig.add_trace(go.Bar(x=list(tmp['y_hat']),\n",
    "                         y=list(tmp['count'])),\n",
    "                  row=1, col=i + 1)\n",
    "\n",
    "fig.update_layout(title_text='Predicted Emotion Level by Video Type', showlegend=False)\n",
    "fig.update_yaxes(title_text='Count', row=1, col=1)\n",
    "fig.update_xaxes(title_text='Negative to Positive Predicted Emotions', row=1, col=2)\n",
    "fig.show()"
   ]
  },
  {
   "cell_type": "code",
   "execution_count": 23,
   "id": "aquatic-tomato",
   "metadata": {},
   "outputs": [
    {
     "output_type": "display_data",
     "data": {
      "application/vnd.plotly.v1+json": {
       "config": {
        "plotlyServerURL": "https://plot.ly"
       },
       "data": [
        {
         "alignmentgroup": "True",
         "bingroup": "x",
         "hovertemplate": "Predicted Emotion Strength=%{x}<br>count=%{y}<extra></extra>",
         "legendgroup": "",
         "marker": {
          "color": "#F8766D"
         },
         "name": "",
         "offsetgroup": "",
         "orientation": "v",
         "showlegend": false,
         "type": "histogram",
         "x": [
          -0.014747885281224123,
          -0.01717032565060586,
          -0.019771850165345627,
          -0.01705845589011449,
          -0.013371486929666134,
          0.019263896047336748,
          -0.01705845589011449,
          -0.027276595152864222,
          -0.016910530560798134,
          -0.016474733109906492,
          -0.01717032565060586,
          -0.0007925612382577808,
          -0.013371486929666134,
          -0.019771850165345623,
          -0.016910530560798134,
          1,
          -0.020000000000000014,
          -0.0007925612382577808,
          0.4334711680990694,
          -0.013111691839858408,
          -0.020000000000000014,
          -0.013111691839858408,
          -0.019685942814710797,
          0.06824900083099289,
          -0.01939285181072313,
          0.6166220952380952,
          -0.019771850165345623,
          -0.012826262174811276,
          -0.016474733109906492,
          -0.016910530560798134,
          -0.06457695021801092,
          -0.019685942814710797,
          -0.013371486929666134,
          -0.013371486929666134,
          -0.01649331950485483,
          -0.01273463145306696,
          1,
          -0.011292309494425008,
          -0.005824055615157576,
          -0.013500217778227923,
          -0.019771850165345627,
          -0.013111691839858408,
          -0.0005907370844767356,
          -0.013371486929666134,
          -0.012882556782383316,
          -1.0460000000000023,
          -0.016622658439222848,
          -0.012564024628475395,
          0.026658777242301715,
          -0.019523098287292314,
          -0.01717032565060586,
          -0.013135687806414841,
          -0.020000000000000014,
          -0.012124551692794094,
          -0.01717032565060586,
          0.957062536535465,
          -0.016841963108966924,
          -0.016474733109906492,
          0.06824900083099289,
          -0.012711949957791749,
          -0.016474733109906492,
          0.022302693096418347,
          -0.019771850165345623,
          0.25338110379801776,
          -0.016910530560798134,
          1,
          -0.01592339041373382,
          0.10827841230586159,
          0.10827841230586159,
          -0.012711949957791749,
          -0.01717032565060586,
          1,
          1,
          -0.024164189283976917,
          -0.019685942814710797,
          -0.01273463145306696,
          0.08510229371404612,
          0.8804665580820576,
          0.019542946552387253,
          -0.016474733109906492,
          1,
          -0.016474733109906492,
          -0.013371486929666134,
          -0.014747885281224123,
          -0.019506707619132507,
          -0.012882556782383316,
          0.0018363562606951477,
          -0.020000000000000014,
          -0.01717032565060586,
          0.13399765180407283,
          -0.020000000000000014,
          -0.009159524080891485,
          -0.013111691839858408,
          0.9898,
          -0.013259617169174762,
          0.00983258209993796,
          -0.019767902900747928,
          -0.013371486929666134,
          -0.016362863349415117,
          0.24613269520129463,
          -0.7943319235602018,
          -0.012882556782383316,
          0.7321761784368322,
          -0.028855620772483995,
          -0.020000000000000014,
          -0.013371486929666134,
          -0.016910530560798134,
          -0.01717032565060586,
          -0.01649331950485483,
          -0.009159524080891485,
          -0.011780429556732086,
          -0.027536390242671946,
          -0.01717032565060586,
          -0.01717032565060586,
          -0.016910530560798134,
          -0.016910530560798134,
          0.09408059710559616,
          -0.020000000000000014,
          0.1774997734615038,
          -0.01974140421903008,
          -0.016910530560798134,
          -0.012711949957791749,
          -0.01973745695443238,
          -0.01717032565060586,
          -0.0037606513598384323,
          -0.01939285181072313,
          -0.01717032565060586,
          -0.016910530560798134,
          -0.07226403110433771,
          0.24613269520129463,
          -0.013371486929666134,
          -0.016641244834171186,
          -0.01588695734269267,
          -0.016910530560798134,
          -0.019767902900747928,
          1,
          -0.7673582079728596,
          -0.01717032565060586,
          0.0957290124061426,
          -0.016474733109906492,
          -0.019706691336161587,
          -0.019771850165345623,
          -0.009607302610737587,
          -0.01705845589011449,
          -0.01717032565060586,
          -0.012285611371541074,
          -0.028855620772483995,
          -0.0007925612382577808,
          -0.01717032565060586,
          -0.0007925612382577808,
          -0.020000000000000014,
          0.021841272727272713,
          -0.01260217049348031,
          -0.013160447287475532,
          -0.016474733109906492,
          -0.012711949957791749,
          1,
          -0.016474733109906492,
          1,
          -0.01705845589011449,
          -0.016910530560798134,
          -0.01717032565060586,
          -0.020000000000000014,
          -0.01682337671401859,
          1,
          0.01180357248437065,
          -0.016910530560798134,
          0.9016955460125267,
          -0.002683486585765566,
          0.35390463783822007,
          0.036026570475164055,
          0.021322808516414802,
          -0.016474733109906492,
          -0.01939285181072313,
          0.100157936727548,
          -0.028855620772483995,
          -0.01705845589011449,
          -0.019713679748937958,
          1,
          -0.009260353674150316,
          -0.01717032565060586,
          -0.0007925612382577808,
          -0.016474733109906492,
          1,
          -0.012823819718283122,
          -1.0460000000000023,
          -0.016474733109906492,
          -0.011605126278270117,
          -0.01705845589011449,
          0.4157470978668439,
          -0.3625716090810418,
          -0.009260353674150316,
          -0.019231439411228592,
          0.957062536535465,
          -0.016910530560798134,
          0.2837366003015143,
          -0.019771850165345623,
          -0.016622658439222848,
          0.9643,
          -0.016474733109906492,
          -0.0007925612382577808,
          -0.019706691336161587,
          -0.019771850165345623,
          -0.01939285181072313,
          -0.019771850165345623,
          -0.24945999999999968,
          -0.013371486929666134,
          -0.013500217778227923,
          -0.01717032565060586,
          -0.019771850165345623,
          -0.016474733109906492,
          -0.016622658439222848,
          0.1750947677275589,
          -0.020000000000000014,
          -0.016910530560798134,
          0.5837019916365864,
          -0.013371486929666134,
          0.6631536047769566,
          -0.019771850165345623,
          -0.012823819718283122,
          0.03742394034794871,
          -0.0102345326942367,
          -0.01939285181072313,
          -0.019771850165345623,
          -0.013371486929666134,
          0.3434122493605489,
          0.116221929991936,
          -0.011151738435232332,
          -0.012564024628475395,
          1,
          -0.020000000000000014,
          -0.01717032565060586,
          -0.013111691839858408,
          -0.01974140421903008,
          -0.01705845589011449,
          -0.01939285181072313,
          0.010800443455920364,
          -0.01717032565060586,
          -0.23439883130841913,
          -0.01359626695610513,
          0.9948296556325215,
          -0.012934493274097607,
          0.05465372393692035,
          -0.019685942814710797,
          -0.014199886850734233,
          -0.019685942814710797,
          1,
          -0.016474733109906492,
          -0.028855620772483995,
          -0.019685942814710797,
          0.604569623099123,
          -0.012823819718283122,
          -0.009495432850246214,
          -0.01717032565060586,
          0.05387602066038055,
          -0.019771850165345623,
          -0.013111691839858408,
          0.08837900565375607,
          -0.0007925612382577808,
          -0.016910530560798134,
          -0.012823819718283122,
          -0.016474733109906492,
          -0.0005907370844767356,
          -0.019556995550113098,
          -0.013371486929666134,
          1,
          -0.019449392814784965,
          -0.016474733109906492,
          0.999139055847234,
          -0.0007925612382577808,
          -0.011292309494425008,
          -0.019771850165345623,
          0.036026570475164055,
          -0.016405763630816948,
          0.002114026468324313,
          -0.016474733109906492,
          0.11716929224600672,
          -0.013352292448911568,
          -0.012823819718283122,
          0.05345575039387298,
          -0.019771850165345623,
          0.05387602066038055,
          -0.01971367974893796,
          0.9531770653679653,
          0.2789098214302037,
          1,
          0.9857974510414118,
          -0.016405763630816948,
          -0.016405763630816948,
          -0.019767902900747928,
          -0.01705845589011449,
          0.28214856693873736,
          -0.023970795289294532,
          1,
          -0.019771850165345623,
          -0.0007925612382577808,
          -0.003718706557064076,
          -0.01973745695443238,
          -0.016910530560798134,
          -0.016910530560798134,
          -0.01717032565060586,
          -0.009260353674150316,
          1,
          0.35390463783822007,
          -0.019771850165345623,
          -0.013352292448911568,
          1,
          -0.01682337671401859,
          0.1825028256703392,
          -0.012186964241683949,
          0.05620252376187815,
          0.05902365789826824,
          -0.017470807192193284,
          0.603566838103406,
          -0.013371486929666134,
          -0.0007925612382577808,
          0.1750947677275589,
          0.010335937839268837,
          0.05508887968978974,
          -0.009260353674150316,
          -0.019621450652193423,
          -0.019767902900747928,
          1,
          0.9477752194622943,
          -0.0018178599746472214,
          0.9227394451323276,
          -0.028855620772483995,
          -0.023970795289294532,
          -0.019771850165345623,
          -0.016910530560798134,
          -0.01705845589011449,
          -0.016474733109906492,
          -0.019767902900747928,
          0.07035297683590033,
          0.7630465946138671,
          0.5640753415601611,
          -0.013259617169174762,
          -1.0460000000000023,
          0.9588994856880073,
          -0.013259617169174762,
          -0.01939285181072313,
          0.9194305226295492,
          -0.0007426370851370867,
          -0.023970795289294532,
          -0.013977954380011228,
          -0.016362863349415117,
          0.05508887968978974,
          -0.013371486929666134,
          -0.019556995550113098,
          -0.023970795289294532,
          -0.012823819718283122,
          -0.011756789086631782,
          -0.019621450652193423,
          -0.08120536405185756,
          1,
          -0.01692911695574647,
          0.06736849624034798,
          -0.019685942814710797,
          -0.019771850165345623,
          -0.01939285181072313,
          -0.8991119125596633,
          -0.013371486929666134,
          -0.0030746978232293345,
          -0.028855620772483995,
          -1.0460000000000023,
          0.008476548418432223,
          -0.01939285181072313,
          -0.01273463145306696,
          0.08510229371404612,
          -0.013371486929666134,
          -0.013160447287475532,
          -0.009159524080891485,
          -0.016474733109906492,
          -0.014263448620705468,
          0.05387602066038055,
          0.8865289553552465,
          -0.019706691336161587,
          0.0185845071892014,
          -0.016910530560798134,
          -0.016641244834171186,
          0.09824490949912247,
          0.9477752194622943,
          0.0185845071892014,
          0.026675756687461413,
          -0.0007925612382577808,
          -0.012298834002175322,
          1,
          -0.01682337671401859,
          -0.020000000000000014,
          -0.005824055615157576,
          -0.019771850165345623,
          -0.016474733109906492,
          -0.0007925612382577808,
          -0.020000000000000014,
          -0.01682337671401859,
          -0.019767902900747928,
          -0.013111691839858408,
          -0.019767902900747928,
          -0.019778535376235903,
          -0.0007925612382577808,
          -0.01493897038702454,
          -0.019771850165345623,
          -0.01717032565060586,
          -0.020000000000000014,
          -0.019771850165345627,
          1,
          0.09668673809523814,
          -0.016474733109906492,
          0.010335937839268837,
          0.036026570475164055,
          -0.012934493274097607,
          -0.013111691839858408,
          -0.01717032565060586,
          -0.0037606513598384323,
          1,
          -0.01717032565060586,
          -0.012186964241683949,
          0.015733697822661055,
          -0.01717032565060586,
          -0.01692911695574647,
          -0.012826262174811276,
          0.011625287249042047,
          0.10473097685383058,
          -0.019685942814710797,
          -0.013371486929666134,
          -0.019655496868395253,
          -0.015909971950667713,
          -0.01273463145306696,
          -0.01682337671401859,
          0.1225731097423999,
          -0.0007925612382577808,
          1,
          -0.01717032565060586,
          0.1724760260256602,
          0.5838580000000008,
          1,
          -0.016405763630816948,
          -0.011780429556732086,
          -0.016474733109906492,
          0.026675756687461413,
          -0.016622658439222848,
          -0.013352292448911568,
          0.0028779021550410016,
          -0.013371486929666134,
          -0.012711949957791749,
          -0.020000000000000014,
          -0.016910530560798134,
          -0.019685942814710797,
          -0.01939285181072313,
          -0.01973745695443238,
          0.0018377428591033595,
          0.05620252376187815,
          -0.01649331950485483,
          -0.019771850165345623,
          1,
          -0.13400989943761288,
          -0.015663595323926093,
          0.7337593370927642,
          -0.028855620772483995,
          -0.016641244834171186,
          -0.020000000000000014,
          0.8147645688378755,
          -1.0460000000000023,
          -0.012823819718283122,
          -0.01717032565060586,
          -0.016474733109906492,
          -0.012298834002175322,
          -0.007394841831109214,
          -0.013259617169174762,
          -0.020000000000000014,
          -0.019617503387595724,
          -0.013371486929666134,
          -0.04558852524102958,
          0.05722969836155178,
          0.1153860181858847,
          1,
          0.11531914834958298,
          0.9477752194622943,
          -0.016474733109906492,
          -0.013371486929666134,
          -0.016474733109906492,
          -0.016910530560798134,
          -0.01682337671401859,
          1,
          -0.016474733109906492,
          -0.015909971950667713,
          0.10989446866560247,
          -0.020000000000000014,
          -0.01705845589011449,
          1,
          -0.012285611371541074,
          1,
          0.9893946114027895,
          0.12275486601649853,
          0.44213988368641133,
          -0.019771850165345623,
          -0.028855620772483995,
          -0.016474733109906492,
          -0.012823819718283122,
          0.011625287249042047,
          -0.013371486929666134,
          -0.016474733109906492,
          -0.019767902900747928,
          -0.012882556782383316,
          -0.016622658439222848,
          0.036026570475164055,
          0.08776101546668262,
          -0.013371486929666134,
          -0.012186964241683949,
          -0.016622658439222848,
          0.11492017620925075,
          -0.01717032565060586,
          -0.0007925612382577808,
          -0.016910530560798134,
          -0.012934493274097607,
          0.8725,
          -0.019999921060061723,
          0.6047515000000004,
          -0.019771850165345623,
          -0.019771850165345623,
          0.05497079215028071,
          -0.019771850165345623,
          -0.023970795289294532,
          0.7321761784368322,
          0.036026570475164055,
          -0.013371486929666134,
          0.01768400125938611,
          -0.9158064142743223,
          -0.016622658439222848,
          -0.016362863349415117,
          -0.016625100895751005,
          -0.013371486929666134,
          -0.016910530560798134,
          1,
          0.33151126673246994,
          0.1120798846979409,
          0.011625287249042047,
          -0.01717032565060586,
          -0.016910530560798134,
          -0.01592339041373382,
          0.0185845071892014,
          0.8865289553552465,
          0.1724760260256602,
          -0.01705845589011449,
          -0.016910530560798134,
          1,
          -0.01649331950485483,
          -0.016910530560798134,
          -0.013111691839858408,
          -0.011756789086631782,
          -0.020000000000000014,
          -0.016910530560798134,
          -0.013259617169174762,
          0.9588994856880073,
          -0.016910530560798134,
          -0.01717032565060586,
          0.4334711680990694,
          -0.01273463145306696,
          -0.019713679748937958,
          1,
          -0.016474733109906492,
          0.11787833161368927,
          0.04002719812986963,
          1,
          0.7965328626057482,
          -0.016474733109906492,
          -0.01717032565060586,
          -0.019685942814710797,
          -0.01261239497817783,
          -0.7645153333333333,
          -0.019771850165345623,
          0.11098849915577222,
          -0.019771850165345627,
          0.011625287249042047,
          1,
          -0.016405763630816948,
          -0.015775087582201294,
          0.7958323658949954,
          -0.019767902900747928,
          0.019263896047336748,
          -0.019767902900747928,
          1,
          -0.0007925612382577808,
          -0.013111691839858408,
          -0.016474733109906492,
          1,
          -0.019771850165345623,
          -0.019771850165345623,
          1,
          -0.009823032139417993,
          -0.016910530560798134,
          -0.012823819718283122,
          -0.01970669133616159,
          -0.01705845589011449,
          0.0018377428591033595,
          -0.0007925612382577808,
          -0.01717032565060586,
          -0.016910530560798134,
          0.9585583661421091,
          -0.0037606513598384323,
          -0.009823032139417993,
          0.11716929224600672,
          -0.016910530560798134,
          0.6072590107099343,
          1,
          -0.009495432850246214,
          1,
          1,
          -0.016474733109906492,
          -0.01717032565060586,
          0.03235634051788836,
          1,
          0.0018363562606951477,
          0.0028779021550410016,
          -0.009495432850246214,
          -0.013371486929666134,
          -0.012186964241683949,
          1,
          -0.016381449744363456,
          0.9798039899815891,
          -0.012934493274097607,
          -0.019655496868395253,
          -0.01717032565060586,
          0.09053719796938753,
          -0.019771850165345623,
          0.9141402862302068,
          -0.019741404219030083,
          -0.019771850165345623,
          -0.013371486929666134,
          -0.019388904546125428,
          0.019263896047336748,
          -0.019767902900747928,
          -0.016622658439222848,
          -0.0007925612382577808,
          -0.01705845589011449,
          -0.01717032565060586,
          -0.01682337671401859,
          -0.019231439411228592,
          -0.0037606513598384323,
          1,
          0.010335937839268837,
          -0.016474733109906492,
          -0.016641244834171186,
          -0.016362863349415117,
          -0.019685942814710797,
          0.0018377428591033595,
          0.9981864587042375,
          -0.1646235419168627,
          -0.24945999999999968,
          -0.016405763630816948,
          0.7337619199541787,
          -0.019771850165345623,
          -0.016910530560798134,
          0.7965328626057482,
          0.036026570475164055,
          0.03235634051788836,
          -0.016128093423187783,
          -0.016910530560798134,
          -0.016474733109906492,
          -0.019737456954432384,
          -0.01717032565060586,
          -0.008980439733933629,
          -0.00178020473106158,
          0.94747,
          0.3904775721750927,
          -0.01939285181072313,
          0.019263896047336748,
          -0.01200603281601567,
          0.036026570475164055,
          -0.01260217049348031,
          -0.019685942814710797,
          -0.020000000000000014,
          -0.023970795289294532,
          -0.013352292448911568,
          -0.013352292448911568,
          -0.016474733109906492,
          0.026654829977704016,
          0.022302693096418347,
          -0.06457695021801092,
          -0.01682337671401859,
          -0.012711949957791749,
          -0.020000000000000014,
          -0.01717032565060586,
          -0.005824055615157576,
          -0.019767902900747928,
          -0.011278012753486368,
          1,
          -0.012882556782383316,
          -0.009677095577265243,
          -0.016622658439222848,
          1,
          0.019263896047336748,
          -0.682909333333334,
          1,
          -0.012711949957791749,
          -1.0460000000000023,
          1,
          1,
          -1.0460000000000023,
          1,
          0.01118128779141026,
          -0.016362863349415117,
          -0.016910530560798134,
          -0.011756789086631782,
          -0.019771850165345627,
          0.05387602066038055,
          -0.016910530560798134,
          -0.016474733109906492,
          -0.019771850165345623,
          -0.012285932063942209,
          0.11531914834958298,
          -0.013371486929666134,
          -0.019767902900747928,
          -0.012186964241683949,
          -0.020000000000000014,
          -0.012823819718283122,
          0.01118128779141026,
          -0.019771850165345623,
          -0.01717032565060586,
          -0.04606328983149513,
          -0.016405763630816948,
          1,
          -0.016128093423187783,
          -0.01974140421903008,
          -0.013111691839858408,
          -0.013259617169174762,
          0.03235634051788836,
          -0.012882556782383316,
          0.010335937839268837,
          -0.013259617169174762,
          0.036026570475164055,
          -0.01974140421903008,
          -0.01717032565060586,
          -0.01974140421903008,
          0.028316011064184018,
          -0.013259617169174762,
          -0.020767189283976913,
          -0.013371486929666134,
          -0.016474733109906492,
          -0.013259617169174762,
          -0.011292309494425008,
          -0.020000000000000014,
          -0.012386440964799903,
          0.01118128779141026,
          -0.016910530560798134,
          0.008800148880523226,
          -0.013371486929666134,
          -0.016910530560798134,
          -0.01717032565060586,
          -0.01649331950485483,
          -0.7695096666666668,
          -0.016474733109906492,
          -0.016910530560798134,
          -0.016910530560798134,
          0.04001829116165024,
          0.02238538354964882,
          -0.019388904546125428,
          -0.015909971950667713,
          -0.016365305805943274,
          -0.016474733109906492,
          0.026667684210521105,
          -0.028855620772483995,
          -0.013371486929666134,
          -0.0007925612382577808,
          0.21003279849967893,
          0.11838806347987979,
          -0.016622658439222848,
          -0.013371486929666134,
          -0.01682337671401859,
          -0.016641244834171186,
          -0.016474733109906492,
          -0.027276595152864222,
          -0.013111691839858408,
          -0.012386440964799903,
          -0.01692911695574647,
          -0.01682337671401859,
          -0.020000000000000014,
          0.022302693096418347,
          -0.013371486929666134,
          0.2837366003015143,
          -0.01717032565060586,
          0.9802561108124204,
          -0.06768480033510695,
          -0.015663595323926093,
          -0.01939285181072313,
          -1.0460000000000023,
          -0.016910530560798134,
          -0.01970973248434026,
          -0.009260353674150316,
          -0.013371486929666134,
          0.028255295920256773,
          -0.01717032565060586,
          -0.01971367974893796,
          0.7965328626057482,
          -0.016365305805943274,
          0.995389,
          0.25445372284563683,
          -0.013352292448911568,
          0.11716806347987979,
          -0.020000000000000014,
          0.7337593370927642,
          0.11466313503353712,
          -0.0041645900148060706,
          -0.01705845589011449,
          -0.019771850165345623,
          -0.028438353691738652,
          1,
          -0.019771850165345623,
          1,
          -0.013371486929666134,
          0.5770012765339922,
          -0.027276595152864222,
          -0.019771850165345623,
          -0.016474733109906492,
          0.01073574036803438,
          -0.0037606513598384323,
          -0.012882556782383316,
          -0.019767902900747928,
          0.03131288095238095,
          -0.012994426542874688,
          1,
          -0.019771850165345623,
          1,
          -0.01717032565060586,
          0.05497079215028071,
          -0.016910530560798134,
          0.04055870191576728,
          -0.019706691336161587,
          -0.0007925612382577808,
          -1.0460000000000023,
          -0.019771850165345623,
          -0.013111691839858408,
          0.02665488516613975,
          0.017986311161027568,
          0.601015715573698,
          -0.01649331950485483,
          -0.015663595323926093,
          0.27219337415048606,
          0.002114026468324313,
          1,
          0.7681730579525747,
          1,
          -0.013371486929666134,
          -0.016474733109906492,
          -0.013371486929666134,
          -0.012186964241683949,
          0.010335937839268837,
          0.01955914146850235,
          -0.019685942814710797,
          0.06736849624034798,
          1,
          -0.016910530560798134,
          -0.016910530560798134,
          -0.013371486929666134,
          -0.019771850165345623,
          -0.25857019325017033,
          1,
          -0.014747885281224123,
          -0.0037606513598384323,
          -0.019771850165345623,
          -0.019771850165345623,
          -0.019771850165345623,
          0.03235634051788836,
          0.02636946001000123,
          0.1104609472014049,
          -0.020000000000000014,
          0.06482270426035534,
          0.1101848298882792,
          0.26267670084158007,
          -0.020000000000000014,
          -0.013371486929666134,
          -0.005824055615157576,
          0.100157936727548,
          -0.019767902900747928,
          1,
          -0.016474733109906492,
          -0.7423763333333335,
          -0.016474733109906492,
          -0.0018178599746472214,
          -0.011780429556732086,
          -0.019685942814710797,
          -0.013111691839858408,
          -0.016474733109906492,
          -0.015576441477146548,
          1,
          -0.01717032565060586,
          -0.016910530560798134,
          0.003171594915200698,
          0.06824900083099289,
          0.02991990048173313,
          -0.01493897038702454,
          -0.016910530560798134,
          0.01886355769425191,
          1,
          -0.01649331950485483,
          -0.016474733109906492,
          -0.019771850165345623,
          0.11531914834958298,
          0.9588994856880073,
          0.11098849915577222,
          0.010335937839268837,
          0.019263896047336748,
          -0.01705845589011449,
          -0.016910530560798134,
          1,
          -0.0007925612382577808,
          -0.01717032565060586,
          -0.016625100895751005,
          1,
          -0.01023848658576557,
          -0.012711949957791749,
          1,
          0.022302693096418347,
          -0.019771850165345623,
          -0.01939285181072313,
          -0.013259617169174762,
          -0.01965154960379755,
          -0.01705845589011449,
          -0.009823032139417993,
          -0.01705845589011449,
          -0.019621450652193423,
          -0.016910530560798134,
          -0.005741087843752277,
          -0.009495432850246214,
          -0.04558852524102958,
          -0.013371486929666134,
          -0.020000000000000014,
          -0.016474733109906492,
          -0.015663595323926093,
          0.12638754837965152,
          -0.01974140421903008,
          -0.012564024628475395,
          1,
          -0.01939285181072313,
          0.06736849624034798,
          -0.016910530560798134,
          -0.012823819718283122,
          -0.016910530560798134,
          -0.01939285181072313,
          -0.019685942814710797,
          -0.01939285181072313,
          -0.009823032139417993,
          0.9972777906976744,
          -0.01649331950485483,
          0.04001829116165024,
          0.08510229371404612,
          0.01886355769425191,
          0.007911265717660489,
          -0.013111691839858408,
          0.013828241097886728,
          0.100157936727548,
          0.007564599050993822,
          -0.019627772398303128,
          -0.019771850165345623,
          -0.01717032565060586,
          1,
          -0.012446759331491676,
          -0.011928354886048442,
          0.1135632284180861,
          0.05484806179527472,
          -0.012285611371541074,
          -0.019627772398303128,
          -0.012564024628475395,
          -0.2518283575013781,
          0.992881071489591,
          -0.01649331950485483,
          0.48167917959358697,
          -0.019449392814784965,
          -0.012882556782383316,
          0.036026570475164055,
          -0.01717032565060586,
          -0.009495432850246214,
          -0.013259617169174762,
          -0.01717032565060586,
          -0.012823819718283122,
          -0.0007925612382577808,
          -0.01705845589011449,
          -0.015909971950667713,
          -0.019771850165345623,
          -0.019771850165345627,
          -0.01649331950485483,
          -0.014747885281224123,
          -0.0007925612382577808,
          0.7321761784368322,
          -0.005824055615157576,
          -0.019771850165345623,
          -0.01705845589011449,
          -0.016362863349415117,
          -0.019771850165345623,
          -0.016474733109906492,
          -0.013111691839858408,
          -0.019771850165345627,
          -0.01717032565060586,
          -0.013500217778227923,
          -0.011928354886048442,
          0.7337593370927642,
          1,
          -0.0007925612382577808,
          0.0713052518346328,
          -0.019771850165345623,
          -0.016474733109906492,
          -0.016405763630816948,
          -0.01682337671401859,
          -0.01705845589011449,
          -1.0460000000000023,
          -0.016381449744363456,
          -0.020000000000000014,
          -0.019681995550113095,
          -0.013371486929666134,
          -0.016474733109906492,
          -0.019771850165345623,
          0.9772790823727301,
          -0.0007925612382577808,
          0.0009724422822005239,
          -0.019685942814710797,
          0.017986311161027568,
          -0.013371486929666134,
          0.9972777906976744,
          0.22865117967705012,
          0.0018363562606951477,
          -0.01705845589011449,
          -0.01705845589011449,
          -0.016910530560798134,
          0.08007393458035583,
          0.009890109744955508,
          1,
          -0.24945999999999968,
          -0.016910530560798134,
          -0.01717032565060586,
          -0.013111691839858408,
          0.915540286230207,
          -0.013352292448911568,
          -0.01273463145306696,
          -0.020000000000000014,
          -0.01924245229757093,
          -0.01717032565060586,
          -0.019771850165345623,
          -0.01273463145306696,
          -0.019767902900747928,
          0.957062536535465,
          -0.019771850165345623,
          -0.0007925612382577808,
          0.0018363562606951477,
          -0.07226403110433771,
          -0.019685942814710797,
          -0.019771850165345623,
          -0.019767902900747928,
          0.09525096654138844,
          -0.011905203222756842,
          0.021974972610036465,
          -0.016474733109906492,
          -0.01682337671401859,
          0.08510229371404612,
          -0.020000000000000014,
          -0.016381449744363456,
          -0.019771850165345627,
          1,
          -0.013371486929666134,
          -0.01172810694531665,
          0.000011000435058269829,
          -0.016910530560798134,
          0.9807255393838489,
          0.0185845071892014,
          -0.012882556782383316,
          -0.013111691839858408,
          -0.020000000000000014,
          -0.02961173907988125,
          -0.01939285181072313,
          -0.018077169354355445,
          -0.0007925612382577808,
          -0.020000000000000014,
          0.27605762208568874,
          -0.016474733109906492,
          -0.019771850165345623,
          0.010335937839268837,
          -0.019771850165345623,
          0.12275486601649853,
          -0.016474733109906492,
          -0.019771850165345623,
          -0.016622658439222848,
          1,
          -0.01705845589011449,
          -0.012846501213558334,
          -0.01717032565060586,
          -0.019771850165345623,
          -0.01717032565060586,
          -0.019771850165345623,
          -0.016474733109906492,
          -0.013371486929666134,
          -0.013111691839858408,
          -0.013371486929666134,
          -0.019767902900747928,
          0.08510229371404612,
          -0.016474733109906492,
          -0.016474733109906492,
          -0.01717032565060586,
          1,
          0.9972777906976744,
          1,
          0.717366952883049,
          1,
          -0.01717032565060586,
          -0.0037606513598384323,
          0.036026570475164055,
          -0.012711949957791749,
          -0.0037606513598384323,
          -0.01651323113525963,
          -0.015007680371031853,
          -0.01974140421903008,
          -0.013371486929666134,
          0.054657583094107114,
          -0.0007925612382577808,
          1,
          -0.016910530560798134,
          -0.020000000000000014,
          -0.016474733109906492,
          -0.005824055615157576,
          -0.0007925612382577808,
          -0.016474733109906492,
          0.3434122493605489,
          -0.019685942814710797,
          -0.01273463145306696,
          -0.012711949957791749,
          -0.012186964241683949,
          0.9972777906976744,
          -0.01273463145306696,
          -0.009159524080891485,
          -0.013371486929666134,
          -0.009159524080891485,
          -0.01682337671401859,
          -0.019364234187440998,
          -0.009159524080891485,
          -0.016474733109906492,
          -0.013371486929666134,
          1,
          -0.016910530560798134,
          -0.019621450652193423,
          0.04202822899064331,
          -0.04558852524102958,
          -0.016622658439222848,
          -0.0171889120455542,
          0.0018363562606951477,
          -0.016641244834171186,
          -0.012285611371541074,
          -0.01705845589011449,
          0.9477752194622943,
          -0.016474733109906492,
          0.02238538354964882,
          0.7337593370927642,
          1,
          -0.016362863349415117,
          -0.005802099516912883,
          0.026654829977704016,
          0.2492367228456368,
          -0.01939285181072313,
          -0.019771850165345627,
          -0.0007925612382577808,
          0.021322808516414802,
          -0.019767902900747928,
          -0.020000000000000014,
          0.000011000435058269829,
          -0.019767902900747928,
          -0.005824055615157576,
          0.08510229371404612,
          1,
          0.1146723491941655,
          -0.0007925612382577808,
          0.9016955460125267,
          -0.01717032565060586,
          0.0185845071892014,
          -0.7588106666666665,
          -0.019771850165345623,
          -0.013371486929666134,
          -0.013259617169174762,
          -0.012994426542874688,
          -0.0007925612382577808,
          -0.019231439411228592,
          1,
          -0.019685942814710797,
          -0.22650179425071346,
          -0.0037606513598384323,
          -0.013111691839858408,
          0.026654829977704016,
          0.03235634051788836,
          0.05508887968978974,
          -0.01717032565060586,
          -0.01778823384975047,
          0.1303559457312118,
          0.6172418995498652,
          -0.016474733109906492,
          -1.0460000000000023,
          -0.013259617169174762,
          0.01118128779141026,
          -0.01682337671401859,
          0.19839374632702886,
          -0.016474733109906492,
          -0.01692911695574647,
          -0.05755361334543416,
          0.25755548485650775,
          0.5441458170334118,
          -0.016474733109906492,
          -0.013371486929666134,
          -0.01717032565060586,
          1,
          -0.0007925612382577808,
          -0.019771850165345623,
          0.33903756962272125,
          0.9693999999999999,
          -0.0007925612382577808,
          -0.01705845589011449,
          -0.01946420939840342,
          -0.01974140421903008,
          -0.01939285181072313,
          -0.013187888317457598,
          -0.019713679748937958,
          1,
          -0.06457695021801092,
          0.12275486601649853,
          0.10292716749677876,
          -0.013371486929666134,
          -0.013111691839858408,
          -0.019771850165345623,
          0.03235634051788836,
          0.05387602066038055,
          -0.012826262174811276,
          1,
          0.11716929224600672,
          -0.009607302610737587,
          -0.0037606513598384323,
          -0.011780429556732086,
          -0.016910530560798134,
          -0.01970973248434026,
          -0.016474733109906492,
          -0.016474733109906492,
          -0.015775087582201294,
          -0.01434781218005059,
          -0.009159524080891485,
          -0.26073951193898415,
          -0.013371486929666134,
          -0.0007925612382577808,
          0.017986311161027568,
          -0.005802099516912883,
          -0.0007925612382577808,
          -0.027536390242671946,
          -0.019771850165345627,
          -0.005802099516912883,
          -0.01717032565060586,
          -1.0460000000000023,
          -0.01890172560340195,
          -0.017243000000000012,
          -0.009159524080891485,
          -0.013371486929666134,
          -0.016910530560798134,
          -0.019713679748937958,
          -0.014199886850734233,
          1,
          0.06095741982903403,
          1,
          1,
          -0.14244192089513738,
          0.019263896047336748,
          -0.012823819718283122,
          -0.015909971950667713,
          -0.013371486929666134,
          1,
          -0.016474733109906492,
          0.0018377428591033595,
          -0.01717032565060586,
          -0.019771850165345623,
          -0.007676080451268519,
          -0.023970795289294532,
          -0.016910530560798134,
          -0.016910530560798134,
          -0.020000000000000014,
          -0.012186964241683949,
          -0.016622658439222848,
          -0.013259617169174762,
          -0.01717032565060586,
          0.2289820944923323,
          -0.013111691839858408,
          0.022302693096418347,
          -0.019767902900747928,
          -0.013371486929666134,
          0.8800105580820576,
          0.20991830603735692,
          -0.013111691839858408,
          0.6031108381034059,
          -0.16612354191686268,
          -0.020000000000000014,
          -0.0007925612382577808,
          -0.01973745695443238,
          -0.012711949957791749,
          -0.013111691839858408,
          -0.016910530560798134,
          -0.013252295472357765,
          -0.01717032565060586,
          0.0185845071892014,
          -0.013371486929666134,
          -0.013111691839858408,
          -0.015775087582201294,
          -0.016474733109906492,
          -0.012186964241683949,
          -1.0460000000000023,
          -0.013371486929666134,
          -0.01705845589011449,
          -0.020000000000000014,
          -0.01954615255609634,
          -0.01705845589011449,
          0.9016955460125267,
          0.06736849624034798,
          -0.019685942814710797,
          -0.01705845589011449,
          0.018624671806945794,
          -0.01974140421903008,
          -0.016474733109906492,
          -0.019685942814710797,
          0.9864945902503294,
          -0.01682337671401859,
          -0.01705845589011449,
          -0.0007925612382577808,
          -0.009394603256987384,
          -0.020000000000000014,
          -0.009495432850246214,
          -0.0007925612382577808,
          -0.013371486929666134,
          -0.027276595152864222,
          0.597231009691345,
          -0.028855620772483995,
          1,
          -0.016474733109906492,
          -0.019523098287292314,
          -0.0018178599746472214,
          -0.01649331950485483,
          -0.012186964241683949,
          -0.019685942814710797,
          -0.0037606513598384323,
          -1.0460000000000023,
          0.27194062909659733,
          -0.016622658439222848,
          0.04055870191576728,
          -0.019655496868395253,
          0.3434122493605489,
          -0.013259617169174762,
          -0.01939285181072313,
          0.011625287249042047,
          0.40707838227950177,
          0.02797762571262761,
          -0.019771850165345623,
          -0.01717032565060586,
          -0.01717032565060586,
          1,
          -0.013371486929666134,
          0.41780416009710863,
          -0.01682337671401859,
          -0.015663595323926093,
          -0.016474733109906492,
          0.03608759120773458,
          -0.013371486929666134,
          -0.016910530560798134,
          -0.020000000000000014,
          -0.016622658439222848,
          -0.009159524080891485,
          -1.0460000000000023,
          0.5810878095238098,
          0.029601164517074275,
          -0.7295291127347641,
          0.7337593370927642,
          -0.023970795289294532,
          -0.016910530560798134,
          -0.019449392814784965,
          0.9824575762939652,
          -0.0007925612382577808,
          -0.012186964241683949,
          -0.01933752305429359,
          -0.009823032139417993,
          -0.013111691839858408,
          -0.013371486929666134,
          -0.019685942814710797,
          -0.027276595152864222,
          0.05497079215028071,
          -0.013371486929666134,
          -0.013500217778227923,
          -0.01717032565060586,
          -0.01649331950485483,
          -0.018189039114846817,
          -0.019771850165345623,
          -0.0007925612382577808,
          -0.016381449744363456,
          1,
          -0.016910530560798134,
          -0.013111691839858408,
          0.7337593370927642,
          0.9972777906976744,
          0.038691450246439774,
          -0.009260353674150316,
          0.02636946001000123,
          -0.016474733109906492,
          -0.01717032565060586,
          -0.019655496868395253,
          -0.013371486929666134,
          -0.012186964241683949,
          -0.2518283575013781,
          -0.016362863349415117,
          -0.019685942814710797,
          1,
          -0.01971367974893796,
          -0.027536390242671946,
          -0.01939285181072313,
          -0.016128093423187783,
          -0.1646235419168627,
          -0.016910530560798134,
          -0.016910530560798134,
          -0.016910530560798134,
          -0.016641244834171186,
          1,
          -0.02961173907988125,
          0.06824900083099289,
          -0.01705845589011449,
          0.11509706807486152,
          -0.009260353674150316,
          -0.11808989943761286,
          -0.01705845589011449,
          -0.013371486929666134,
          0.01886355769425191,
          0.9477752194622943,
          -0.019685942814710797,
          -0.012446759331491676,
          -0.022344314252904045,
          -0.016405763630816948,
          -0.016405763630816948,
          -1.0460000000000023,
          -0.016474733109906492,
          0.9906871447706678,
          0.9745,
          -0.06457695021801092,
          -0.013371486929666134,
          -0.005824055615157576,
          0.036026570475164055,
          -0.028855620772483995,
          -0.016474733109906492,
          -0.05755361334543416,
          -0.016622658439222848,
          -0.012823819718283122,
          -0.0037606513598384323,
          -0.013371486929666134,
          -0.016622658439222848,
          -0.009495432850246214,
          -0.014747885281224123,
          -0.009823032139417993,
          0.9642163381987272,
          -0.009159524080891485,
          -0.0007925612382577808,
          -0.014199886850734233,
          -0.01717032565060586,
          -0.013259617169174762,
          -0.013259617169174762,
          -0.01939285181072313,
          -0.019741404219030083,
          -0.016474733109906492,
          -0.016128093423187783,
          0.010335937839268837,
          -0.013371486929666134,
          0.7965328626057482,
          -0.0007925612382577808,
          -0.019771850165345623,
          -0.0007925612382577808,
          -0.016474733109906492,
          -0.020000000000000014,
          -0.0007925612382577808,
          -0.013371486929666134,
          -0.019771850165345623,
          0.010335937839268837,
          -0.011699405646615351,
          -0.01717032565060586,
          -0.019737456954432384,
          -0.013259617169174762,
          0.03014890368464767,
          -0.013259617169174762,
          1,
          -0.01933468139431546,
          0.04891575796476748,
          0.2789098214302037,
          -0.016362863349415117,
          -0.019685942814710797,
          0.0185845071892014,
          -0.019771850165345623,
          0.02238538354964882,
          -0.012298834002175322,
          -0.0007925612382577808,
          -0.020000000000000014,
          -0.5529233333333338,
          -0.01974140421903008,
          -0.01717032565060586,
          -0.009495432850246214,
          0.0055065238458373855,
          0.597231009691345,
          0.9496121686148367,
          -0.013111691839858408,
          -0.019655496868395253,
          0.05465372393692035,
          -0.016910530560798134,
          1,
          0.0018377428591033595,
          -0.0007925612382577808,
          0.03235634051788836,
          -0.020000000000000014,
          -0.01273463145306696,
          -0.015663595323926093,
          -0.016362863349415117,
          -0.019771850165345623,
          -0.009159524080891485,
          0.999139055847234,
          -0.005824055615157576,
          -0.01974140421903008,
          0.11098849915577222,
          0.17811900790360344,
          0.017986311161027568,
          -0.013259617169174762,
          -0.01717032565060586,
          -0.016474733109906492,
          -0.01682337671401859,
          1,
          -0.012711949957791749,
          -0.019767902900747928,
          -0.016641244834171186,
          0.8032459116761091,
          -0.016910530560798134,
          0.9693999999999999,
          -0.01939285181072313,
          -0.8991119125596633,
          -0.012994426542874688,
          -0.01273463145306696,
          1,
          -0.019771850165345623,
          1,
          -0.019655496868395253,
          0.8972039470047372,
          -0.016405763630816948,
          -0.016910530560798134,
          0.036026570475164055,
          -0.016474733109906492,
          -1.0460000000000023,
          -0.012711949957791749,
          -1.0460000000000023,
          -0.019767902900747928,
          -0.016474733109906492,
          -0.020000000000000014,
          -0.7673582079728596,
          0.05387602066038055,
          -0.019771850165345623,
          -0.019771850165345623,
          0.9531770653679653,
          -0.01717032565060586,
          -0.01649331950485483,
          -0.019771850165345623,
          -0.009495432850246214,
          1,
          1,
          -0.019685942814710797,
          1,
          -0.0007925612382577808,
          -0.013371486929666134,
          -0.016474733109906492,
          -0.016474733109906492,
          -0.0037606513598384323,
          -0.013111691839858408,
          1,
          1,
          -0.013371486929666134,
          -0.013371486929666134,
          -0.016474733109906492,
          -0.012823819718283122,
          -0.012711949957791749,
          -0.013371486929666134,
          -0.019685942814710797,
          0.05387602066038055,
          0.019263896047336748,
          -0.07226403110433771,
          0.41780416009710863,
          -0.016405763630816948,
          -0.020000000000000014,
          -0.013111691839858408,
          -0.014199886850734233,
          -0.013327688206800858,
          -0.008779884892833876,
          -0.015663595323926093,
          0.017986311161027568,
          0.9640922060505155,
          -0.009260353674150316,
          0.06824900083099289,
          -0.019685942814710797,
          -0.016622658439222848,
          0.05508887968978974,
          -0.01705845589011449,
          -0.019685942814710797,
          0.026658777242301715,
          0.06736849624034798,
          0.9995546114027896,
          -0.019771850165345623,
          -0.1864459273664008,
          -0.0007925612382577808,
          0.22865117967705012,
          0.7337593370927642,
          -0.013259617169174762,
          -0.013352292448911568,
          -0.005824055615157576,
          -0.012882556782383316,
          -0.01705845589011449,
          -0.012186964241683949,
          0.09078779695098568,
          -0.019771850165345623,
          1,
          -0.016910530560798134,
          -0.01939285181072313,
          -0.01717032565060586,
          -0.01717032565060586,
          -0.016910530560798134,
          0.12461049999999994,
          0.27194062909659733,
          0.0028779021550410016,
          0.019263896047336748,
          0.01118128779141026,
          0.8855877740671301,
          -0.016474733109906492,
          -0.016474733109906492,
          -0.009159524080891485,
          1,
          1,
          0.100157936727548,
          1,
          0.012337874232343182,
          0.09643739002631051,
          0.0185845071892014,
          -0.020000000000000014,
          -0.01649331950485483,
          -0.019767902900747928,
          1,
          -0.013371486929666134,
          0.5873860000000011,
          -0.009394603256987384,
          -0.019681995550113095,
          0.1101848298882792,
          -0.013371486929666134,
          -0.0800861997403825,
          -0.013111691839858408,
          1,
          0.100157936727548,
          -0.016362863349415117,
          -0.019621450652193423,
          0.116221929991936,
          -0.019202821787946463,
          0.9688322060505155,
          -0.012846501213558334,
          -0.01971367974893796,
          -0.016474733109906492,
          -0.016405763630816948,
          0.40707838227950177,
          -0.016910530560798134,
          0.0185845071892014,
          -0.012882556782383316,
          0.000011000435058269829,
          -0.0007925612382577808,
          1,
          0.27194062909659733,
          -0.013111691839858408,
          1,
          -0.01971367974893796,
          -0.019713679748937958,
          -0.019771850165345623,
          -0.016910530560798134,
          1,
          -0.013371486929666134,
          -0.013371486929666134,
          -0.01273463145306696,
          0.05508887968978974,
          0.022302693096418347,
          -0.01717032565060586,
          -0.021596743080159096,
          -0.016474733109906492,
          -0.016474733109906492,
          -0.013111691839858408,
          0.34047345231146736,
          -0.019388904546125428,
          -0.01649331950485483,
          0.05387602066038055,
          0.1661058073593076,
          -0.01974140421903008,
          0.02991990048173313,
          -0.019767902900747928,
          -0.013371486929666134,
          -0.019767902900747928,
          -0.019685942814710797,
          0.40707838227950177,
          -0.01273463145306696,
          -0.01717032565060586,
          -0.0018178599746472214,
          0.05387602066038055,
          -0.019706691336161587,
          -0.01717032565060586,
          -0.016128093423187783,
          -0.005824055615157576,
          0.05497079215028071,
          -0.016622658439222848,
          0.05508887968978974,
          -0.01717032565060586,
          0.11682139681321313,
          -0.019767902900747928,
          -0.0007925612382577808,
          -0.012823819718283122,
          -0.015007680371031853,
          0.02354481789741649,
          -0.028855620772483995,
          -0.019706691336161587,
          0.25338110379801776,
          1,
          -0.028855620772483995,
          -0.01717032565060586,
          0.6261997829703536,
          -0.0007925612382577808,
          -0.01939285181072313,
          -0.016474733109906492,
          -0.01717032565060586,
          -0.012711949957791749,
          0.6866990116274164,
          -0.016474733109906492,
          -0.019685942814710797,
          -0.0007925612382577808,
          -0.019771850165345627,
          -0.013259617169174762,
          0.11682139681321313,
          1,
          -0.01261239497817783,
          -0.016910530560798134,
          -0.019771850165345623,
          -0.01310437014304141,
          -0.012826262174811276,
          -0.019358782289816148,
          0.9693999999999999,
          -0.028855620772483995,
          -0.019767902900747928,
          -0.016910530560798134,
          -0.016910530560798134,
          0.9906871447706678,
          -0.018402449146815353,
          -0.016910530560798134,
          1,
          -0.019771850165345623,
          0.4334711680990694,
          0.09229393043892947,
          -0.013371486929666134,
          -0.016474733109906492,
          -0.012564024628475395,
          -0.016405763630816948,
          -0.0007925612382577808,
          -0.016474733109906492,
          0.021322808516414802,
          -0.019685942814710797,
          -0.016405763630816948,
          0.02226150791123316,
          -0.019771850165345623,
          0.010335937839268837,
          -0.01939285181072313,
          -0.016365305805943274,
          -0.016474733109906492,
          -0.030227190194413868,
          0.25338110379801776,
          0.054530993581914364,
          -0.01939285181072313,
          -0.012882556782383316,
          -0.012124551692794094,
          0.12033853767429534,
          -0.012823819718283122,
          -0.01649331950485483,
          -0.019767902900747928,
          -0.019713679748937958,
          -0.009823032139417993,
          -0.027536390242671946,
          -0.019771850165345623,
          -0.016910530560798134,
          -0.019464209398403418,
          -0.016474733109906492,
          1,
          0.7337619199541787,
          -0.013371486929666134,
          -0.013352292448911568,
          -0.020000000000000014,
          -0.019706691336161587,
          -0.019526549603797554,
          -0.020000000000000014,
          -0.020000000000000014,
          -0.020000000000000014,
          -0.019771850165345623,
          -0.020000000000000014,
          -0.016910530560798134,
          -0.013259617169174762,
          0.0185845071892014,
          -0.009159524080891485,
          0.011625287249042047,
          -0.020000000000000014,
          -0.01705845589011449,
          1,
          -0.016381449744363456,
          -1.0460000000000023,
          -0.016474733109906492,
          1,
          -0.019685942814710797,
          -0.020000000000000014,
          -0.019771850165345623,
          0.7630465946138671,
          -0.007654117197082339,
          0.7337593370927642,
          -0.019741404219030083,
          -0.013371486929666134,
          -0.016910530560798134,
          0.24613269520129463,
          -0.020000000000000014,
          -0.015007680371031853,
          1,
          -0.01717032565060586,
          -0.015663595323926093,
          -0.015007680371031853,
          -0.016622658439222848,
          -1.0460000000000023,
          -0.013259617169174762,
          -0.01649331950485483,
          -0.01974140421903008,
          -0.24945999999999968,
          0.0055065238458373855,
          -0.01572706930423552,
          -0.020000000000000014,
          -0.012711949957791749,
          -0.009495432850246214,
          0.01955914146850235,
          -0.01717032565060586,
          0.35390463783822007,
          -0.009159524080891485,
          -0.01682337671401859,
          -0.019685942814710797,
          -0.12268989943761285,
          -0.013371486929666134,
          -0.013371486929666134,
          0.5823229228658402,
          0.9016955460125267,
          -0.020000000000000014,
          -0.016910530560798134,
          -0.01705845589011449,
          -0.008779884892833876,
          0.3434122493605489,
          0.4334711680990694,
          0.05387602066038055,
          -0.01682337671401859,
          -0.016910530560798134,
          -0.013352292448911568,
          -0.01717032565060586,
          -0.016474733109906492,
          -0.016910530560798134,
          0.010800443455920364,
          -0.012386440964799903,
          -0.01705845589011449,
          -0.016910530560798134,
          -0.016910530560798134,
          -0.01705845589011449,
          0.9477752194622943,
          -0.009159524080891485,
          -0.005824055615157576,
          -0.019685942814710797,
          -0.013371486929666134,
          -0.03200360118864067,
          -0.019713679748937958,
          -0.009495432850246214,
          -0.016474733109906492,
          1,
          0.05387602066038055,
          -0.016128093423187783,
          -0.012564024628475395,
          -0.01939285181072313,
          -0.01682337671401859,
          -0.01321713133304656,
          -0.011803041419375167,
          -0.019706691336161587,
          -0.00178020473106158,
          -0.016622658439222848,
          -0.016622658439222848,
          -0.016910530560798134,
          -0.020000000000000014,
          1,
          -0.012186964241683949,
          -0.01273463145306696,
          0.06482270426035534,
          -0.014411520283716693,
          -0.0007925612382577808,
          -0.0030746978232293345,
          0.3434122493605489,
          -0.019362405864407583,
          -0.009677095577265234,
          -0.027536390242671946,
          -0.019771850165345623,
          -0.0007925612382577808,
          -0.013259617169174762,
          0.17811900790360344,
          -0.013371486929666134,
          -0.016474733109906492,
          -0.012711949957791749,
          -0.01705845589011449,
          0.08510229371404612,
          -0.013259617169174762,
          -0.016910530560798134,
          -0.01717032565060586,
          0.0028779021550410016,
          -0.01493897038702454,
          -0.019685942814710797,
          0.026658777242301715,
          -0.016910530560798134,
          0.06095741982903403,
          -0.016362863349415117,
          0.8865289553552465,
          -0.019685942814710797,
          1,
          0.03235634051788836,
          -0.016910530560798134,
          -0.012564024628475395,
          0.036026570475164055,
          -0.019771850165345623,
          0.4334711680990694,
          -0.013259617169174762,
          1,
          0.000011000435058269829,
          -0.016365305805943274,
          1,
          -0.012298834002175322,
          -0.014895810610540478,
          -0.0007925612382577808,
          -0.009607302610737587,
          -0.013371486929666134,
          -0.028855620772483995,
          -0.01682337671401859,
          0.586127009691345,
          -0.019771850165345623,
          -1.0460000000000023,
          0.01955914146850235,
          -0.01717032565060586,
          0.01886355769425191,
          -0.013371486929666134,
          -0.01273463145306696,
          1,
          -0.013259617169174762,
          -0.01581152065324245,
          -0.012186964241683949,
          -0.007676080451268519,
          -0.7221653333333335,
          -0.016910530560798134,
          -0.019767902900747928,
          -0.020000000000000014,
          -0.016474733109906492,
          -0.019685942814710797,
          -0.01273463145306696,
          -0.01717032565060586,
          -0.013259617169174762,
          -0.019771850165345623,
          -0.019771850165345623,
          -0.009159524080891485,
          0.11150854015067203,
          0.08510229371404612,
          0.010335937839268837,
          -0.0037606513598384323,
          0.619168410421334,
          -0.016474733109906492,
          -0.015781402816551115,
          -0.01682337671401859,
          -0.0007925612382577808,
          0.05497079215028071,
          0.026654829977704016,
          -0.01930298099154918,
          0.036026570475164055,
          -0.013371486929666134,
          -0.0007925612382577808,
          -0.019771850165345627,
          0.603566838103406,
          -0.012446759331491676,
          -0.016474733109906492,
          -0.011756789086631782,
          -0.020000000000000014,
          -0.019771850165345623,
          -0.0059574915640736885,
          -0.016474733109906492,
          1,
          0.06142555987447947,
          0.016485861590324523,
          -0.0800861997403825,
          -0.013111691839858408,
          -0.7274385323045923,
          -0.016474733109906492,
          0.603566838103406,
          -0.015007680371031853,
          -0.01717032565060586,
          -0.016474733109906492,
          0.03235634051788836,
          -0.016910530560798134,
          -0.019771850165345627,
          -0.016405763630816948,
          -0.020000000000000014,
          -0.01692911695574647,
          0.35390463783822007,
          -0.238673732563352,
          -0.013371486929666134,
          -0.013352292448911568,
          -0.01592339041373382,
          -0.012823819718283122,
          -0.009159524080891485,
          -0.016474733109906492,
          -0.01717032565060586,
          0.5256362816698043,
          -0.01273463145306696,
          -0.01649331950485483,
          1,
          -0.016625100895751005,
          -0.09457036405185759,
          -0.012882556782383316,
          -0.016474733109906492,
          -0.01973745695443238,
          -0.016474733109906492,
          -0.012186964241683949,
          -0.012186964241683949,
          -0.016474733109906492,
          -0.01962382513370543,
          -0.01939285181072313,
          -0.013371486929666134,
          -0.019771850165345623,
          -0.01717032565060586,
          -0.016910530560798134,
          -0.01717032565060586,
          -0.01717032565060586,
          -0.009394603256987384,
          -0.019771850165345623,
          -0.016622658439222848,
          -0.016622658439222848,
          -0.019685942814710797,
          -0.016362863349415117,
          -0.016910530560798134,
          -0.013371486929666134,
          -0.012511565384919002,
          -0.01974140421903008,
          -0.016474733109906492,
          0.10484339725386377,
          -0.01682337671401859,
          -0.01579810219017634,
          -0.24945999999999968,
          -0.019358782289816148,
          -0.019655496868395253,
          -0.01717032565060586,
          -1.0460000000000023,
          1,
          0.11131155136460757,
          -0.01705845589011449,
          -0.016622658439222848,
          -0.01682337671401859,
          -0.013500217778227923,
          -0.16612354191686268,
          -0.016474733109906492,
          0.036026570475164055,
          -0.013371486929666134,
          -0.012186964241683949,
          -0.01682337671401859,
          0.021322808516414802,
          -0.01310437014304141,
          -0.01717032565060586,
          -0.019713679748937958,
          -0.01649331950485483,
          -0.016474733109906492,
          -0.019771850165345623,
          -0.013371486929666134,
          1,
          1,
          -0.012711949957791749,
          0.05508887968978974,
          1,
          -0.014747885281224123,
          -0.012711949957791749,
          -0.028855620772483995,
          1,
          -0.012711949957791749,
          -0.01939285181072313,
          -0.012934493274097607,
          -0.01717032565060586,
          -0.019771850165345623,
          0.604569623099123,
          1,
          -0.019771850165345623,
          -0.028855620772483995,
          -1.0460000000000023,
          0.002114026468324313,
          -0.01260217049348031,
          -0.016641244834171186,
          0.1774997734615038,
          -0.019771850165345623,
          -0.019771850165345627,
          -0.016910530560798134,
          -0.019771850165345623,
          -0.016910530560798134,
          -0.013371486929666134,
          -0.012564024628475395,
          0.6086880540884783,
          -0.019685942814710797,
          -0.019771850165345623,
          -0.012934493274097607,
          -0.012711949957791749,
          -0.01294774793372533,
          0.7337593370927642,
          -0.01649331950485483,
          -0.027536390242671946,
          -0.016474733109906492,
          -0.013111691839858408,
          -0.01705845589011449,
          -0.016910530560798134,
          -0.01705845589011449,
          -0.0007925612382577808,
          0.44213988368641133,
          1,
          -0.01717032565060586,
          -0.023970795289294532,
          -0.019771850165345623,
          -0.016910530560798134,
          -0.013371486929666134,
          -0.012186964241683949,
          0.8571856746442015,
          -0.009607302610737587,
          0.7337593370927642,
          -0.08120536405185756,
          -0.01273463145306696,
          -0.01974140421903008,
          -0.012823819718283122,
          0.603566838103406,
          -0.01717032565060586,
          -0.013111691839858408,
          -0.01939285181072313,
          -0.013111691839858408,
          -0.16612354191686268,
          1,
          -0.01970973248434026,
          -0.016910530560798134,
          -0.012186964241683949,
          -0.01273463145306696,
          -0.013111691839858408,
          -0.019771850165345623,
          -0.013259617169174762,
          1,
          1,
          -0.01705845589011449,
          0.043157471705424895,
          0.010335937839268837,
          -0.011950966748691522,
          -0.8707328199797284,
          0.03235634051788836,
          -0.01717032565060586,
          -0.023970795289294532,
          -0.013259617169174762,
          -0.009260353674150316,
          -0.012882556782383316,
          -0.020000000000000014,
          0.992881071489591,
          -0.012564024628475395,
          -0.005824055615157576,
          0.019880316695309166,
          -0.016910530560798134,
          1,
          -0.019767902900747928,
          0.010335937839268837,
          0.022302693096418347,
          -0.013352292448911568,
          -0.019771850165345623,
          -0.016474733109906492,
          1,
          0.11098849915577222,
          1,
          -0.013371486929666134,
          -0.005802099516912883,
          -0.0037606513598384323,
          -0.019771850165345623,
          -0.016474733109906492,
          0.01955914146850235,
          -0.01717032565060586,
          -0.013371486929666134,
          -0.009159524080891485,
          -0.016405763630816948,
          0.022302693096418347,
          -0.019771850165345623,
          -0.020000000000000014,
          -0.01717032565060586,
          -0.0005907370844767356,
          -0.016405763630816948,
          -0.013371486929666134,
          -0.016474733109906492,
          -0.009260353674150316,
          -0.019364234187440998,
          -0.006031206279381806,
          -0.016622658439222848,
          -0.016381449744363456,
          -0.0037606513598384323,
          -0.012186964241683949,
          0.6086880540884783,
          -0.016474733109906492,
          -0.016910530560798134,
          -0.01649331950485483,
          0.100157936727548,
          0.0185845071892014,
          -0.01717032565060586,
          -0.019681995550113095,
          0.13547112580083975,
          -0.01717032565060586,
          -0.019771850165345623,
          -0.013371486929666134,
          0.01118128779141026,
          -0.0007925612382577808,
          -0.01649331950485483,
          -0.019685942814710797,
          0.010335937839268837,
          -0.01717032565060586,
          -0.009159524080891485,
          -0.009495432850246214,
          -0.01273463145306696,
          -0.016474733109906492,
          -0.019771850165345623,
          -0.01890172560340195,
          -0.01273463145306696,
          -0.023970795289294532,
          1,
          1,
          -0.01970973248434026,
          1,
          -0.02077181293989089,
          1,
          1,
          -0.01717032565060586,
          -0.016910530560798134,
          0.036026570475164055,
          -0.0007925612382577808,
          -0.0037606513598384323,
          0.05497079215028071,
          -0.028855620772483995,
          0.42771579827568024,
          -0.013111691839858408,
          0.03235634051788836,
          -0.013371486929666134,
          -0.012446759331491676,
          -0.019771850165345623,
          -0.019771850165345623,
          0.028255295920256773,
          -0.011362249524629706,
          -0.016474733109906492,
          -0.013371486929666134,
          -0.0018088223543437118,
          0.4334711680990694,
          -0.01705845589011449,
          -0.023970795289294532,
          -0.012823819718283122,
          0.100157936727548,
          -0.7808291127347641,
          -0.020000000000000014,
          -0.013724684672738826,
          -0.009607302610737587,
          -0.019771850165345623,
          0.9974500000000001,
          -0.013371486929666134,
          -0.0007925612382577808,
          0.013828241097886728,
          -0.013448341626788776,
          1,
          -0.01717032565060586,
          1,
          0.4334711680990694,
          0.11716929224600672,
          -0.019771850165345623,
          -0.023970795289294532,
          1,
          -0.016474733109906492,
          -0.012711949957791749,
          0.05387602066038055,
          -0.01890172560340195,
          0.054530993581914364,
          -0.016910530560798134,
          -0.020000000000000014,
          1,
          -0.013371486929666134,
          -0.01717032565060586,
          0.6328856047769564,
          0.05275130591372025,
          -0.1646235419168627,
          -0.01588695734269267,
          1,
          -0.019771850165345623,
          0.6128728548657785,
          -0.019771850165345623,
          -0.01939285181072313,
          -0.013371486929666134,
          -0.01939285181072313,
          -0.019767902900747928,
          -0.01717032565060586,
          -0.01682337671401859,
          -0.019771850165345623,
          -0.013111691839858408,
          -0.0007925612382577808,
          -0.019771850165345623,
          1,
          0.0713052518346328,
          -0.009159524080891485,
          1,
          -0.01682337671401859,
          -0.012186964241683949,
          1,
          -0.01649331950485483,
          -0.5874300000000003,
          -0.0007925612382577808,
          -0.013259617169174762,
          -0.01939285181072313,
          -0.01705845589011449,
          0.07575572437418171,
          -0.016622658439222848,
          0.06824900083099289,
          -0.013371486929666134,
          1,
          0.01073574036803438,
          -0.0007925612382577808,
          -0.012882556782383316,
          -0.019655496868395253,
          -0.01717032565060586,
          -0.01717032565060586,
          -0.016474733109906492,
          -0.012285611371541074,
          0.017986311161027568,
          -0.01974140421903008,
          -0.01717032565060586,
          -0.019771850165345623,
          -0.019771850165345623,
          0.008476548418432223,
          -0.016622658439222848,
          -0.019627772398303128,
          -0.027276595152864222,
          -0.019655496868395253,
          -0.012298834002175322,
          -0.0007925612382577808,
          -0.012285611371541074,
          -0.016474733109906492,
          -0.01717032565060586,
          -0.01717032565060586,
          -0.020000000000000014,
          -0.016910530560798134,
          -0.009159524080891485,
          -0.016474733109906492,
          0.06689205303982823,
          -0.013371486929666134,
          -0.01717032565060586,
          -0.01939285181072313,
          0.6086880540884783,
          -0.019771850165345623,
          0.1123842282436487,
          -0.01705845589011449,
          -0.016910530560798134,
          -0.01705845589011449,
          -0.036575237769829655,
          1,
          -0.019771850165345623,
          -0.016474733109906492,
          1,
          1,
          0.05508887968978974,
          0.022581743601468852,
          -0.013111691839858408,
          -0.013259617169174762,
          1,
          -0.027536390242671946,
          -0.013371486929666134,
          0.1774997734615038,
          -0.012711949957791749,
          1,
          0.03235634051788836,
          -0.013259617169174762,
          -0.01717032565060586,
          -0.012711949957791749,
          -0.013371486929666134,
          0.0009724422822005239,
          -0.019771850165345623,
          -0.01939285181072313,
          -0.013371486929666134,
          -0.016910530560798134,
          -0.016910530560798134,
          -1.0460000000000023,
          -0.013371486929666134,
          0.11531914834958298,
          0.09632246664225502,
          -0.028855620772483995,
          -0.025133390061167025,
          0.03919780686000491,
          -0.01939285181072313,
          -0.020000000000000014,
          -0.01705845589011449,
          -0.016474733109906492,
          0.25445372284563683,
          -0.0007925612382577808,
          0.05465372393692035,
          0.05387602066038055,
          -0.012675894388966767,
          -0.009159524080891485,
          0.036026570475164055,
          -0.013371486929666134,
          -0.0007925612382577808,
          0.5372842857142853,
          -0.012186964241683949,
          0.010335937839268837,
          -0.016910530560798134,
          -0.013259617169174762,
          1,
          -0.01682337671401859,
          -0.016474733109906492,
          1,
          -0.005824055615157576,
          -0.016405763630816948,
          -0.013371486929666134,
          -0.01717032565060586,
          -0.016365305805943274,
          -0.013371486929666134,
          0.11980896152272649,
          -0.01717032565060586,
          -0.016910530560798134,
          -0.020000000000000014,
          0.026658777242301715,
          -0.011699405646615351,
          -0.019627772398303128,
          1,
          -0.01974140421903008,
          -0.016910530560798134,
          -0.013371486929666134,
          -0.01649331950485483,
          0.05387602066038055,
          -0.016474733109906492,
          -0.013371486929666134,
          -0.012186964241683949,
          0.9016955460125267,
          -0.008779884892833876,
          1,
          -0.019685942814710797,
          -0.013111691839858408,
          0.026654829977704016,
          -0.0006789771386811367,
          -0.01717032565060586,
          -0.019767902900747928,
          -0.019737456954432384,
          1,
          1,
          -0.01717032565060586,
          -0.020000000000000014,
          0.01118128779141026,
          0.009890109744955508,
          -0.016910530560798134,
          0.5441458170334118,
          1,
          -0.013352292448911568,
          -0.025108785819056317,
          -0.01273463145306696,
          0.05508887968978974,
          -0.019231439411228592,
          1,
          1,
          -0.013352292448911568,
          -0.011699405646615351,
          -0.01717032565060586,
          1,
          -0.02265156475948249,
          -0.009495432850246214,
          -0.01957457794768744,
          -0.01939285181072313,
          0.33903756962272125,
          1,
          -0.0037606513598384323,
          -0.013111691839858408,
          -0.008980439733933629,
          -0.013371486929666134,
          1,
          -0.0037606513598384323,
          -0.01970669133616159,
          -0.019771850165345627,
          -0.013111691839858408,
          -0.014747885281224123,
          -0.019771850165345623,
          -0.01939285181072313,
          -0.01717032565060586,
          -0.019767902900747928,
          -0.7665296666666669,
          0.18255282567033923,
          -0.0007925612382577808,
          -0.016474733109906492,
          -0.019767902900747928,
          -0.019627772398303128,
          0.05387602066038055,
          1,
          0.03235634051788836,
          0.05508887968978974,
          -0.01939285181072313,
          -0.013371486929666134,
          -0.009495432850246214,
          -0.019767902900747928,
          -0.016910530560798134,
          -0.01493897038702454,
          -0.5688357794014309,
          0.09668673809523814,
          -0.014199886850734233,
          -0.009495432850246214,
          0.11098849915577222,
          0.018265361666078075,
          -0.012826262174811276,
          -0.020000000000000014,
          -0.01705845589011449,
          -0.016910530560798134,
          0.9194305226295492,
          -0.012298834002175322,
          -0.019685942814710797,
          -0.01717032565060586,
          0.09114050068778722,
          -0.6503294789442527,
          -0.020000000000000014,
          -0.0007925612382577808,
          0.05387602066038055,
          -0.0037606513598384323,
          -0.019771850165345623,
          0.018478105737711522,
          -0.013111691839858408,
          -0.00178020473106158,
          0.9020617148016358,
          -0.019231439411228592,
          0.05387602066038055,
          -0.019771850165345623,
          -0.019767902900747928,
          -0.01260217049348031,
          1,
          -0.019706691336161587,
          -0.019771850165345623,
          0.017986311161027568,
          -0.0063248733969894074,
          0.1264509104593138,
          -0.013259617169174762,
          0.09458278555119858,
          -0.013371486929666134,
          -0.016474733109906492,
          0.9606772878401021,
          -0.027276595152864222,
          -0.01717032565060586,
          -0.020000000000000014,
          -0.01939285181072313,
          -0.019771850165345623,
          -0.028855620772483995,
          -0.014747885281224123,
          0.05387602066038055,
          -0.016622658439222848,
          0.957062536535465,
          0.42771579827568024,
          0.4334711680990694,
          -0.01261239497817783,
          -0.01717032565060586,
          -0.01717032565060586,
          -0.013259617169174762,
          -0.019655496868395253,
          -0.01717032565060586,
          0.8804665580820576,
          -0.01717032565060586,
          -0.01965154960379755,
          -0.019771850165345623,
          -0.016280486585765568,
          1,
          -0.013111691839858408,
          -0.01322356160034978,
          -0.009495432850246214,
          -0.016405763630816948,
          -0.019771850165345623,
          0.6168597829703536,
          -0.013371486929666134,
          0.036026570475164055,
          -0.01627815195916373,
          0.21003279849967893,
          -0.008779884892833876,
          -0.011756789086631782,
          -0.012882556782383316,
          1,
          -0.01649331950485483,
          -0.10204617089513737,
          -0.019706691336161587,
          -0.019771850165345627,
          0.9903111111111111,
          -0.01273463145306696,
          0.9772790823727301,
          -0.01705845589011449,
          -0.0007925612382577808,
          -0.005824055615157576,
          -0.019737456954432384,
          -0.000513510733207276,
          -0.013352292448911568,
          0.13172619206381309,
          0.8855877740671301,
          -0.01717032565060586,
          0.02238538354964882,
          -0.019767902900747928,
          -0.016474733109906492,
          -0.013371486929666134,
          -0.01705845589011449,
          -0.01717032565060586,
          -0.019771850165345623,
          -0.013371486929666134,
          0.05387602066038055,
          1,
          -0.016910530560798134,
          -0.027536390242671946,
          -0.019231439411228592,
          -0.009495432850246214,
          -0.016362863349415117,
          -0.013371486929666134,
          -0.019767902900747928,
          -0.019767902900747928,
          -0.019685942814710797,
          -0.01636219817805697,
          0.4157470978668439,
          0.957062536535465,
          0.6352816075591076,
          -0.01970274407156389,
          -0.01705845589011449,
          -0.0007925612382577808,
          -0.016910530560798134,
          -0.013500217778227923,
          -0.013160447287475532,
          0.017986311161027568,
          -0.019685942814710797,
          -0.016625100895751005,
          0.002570219387396249,
          -0.01692911695574647,
          -0.01682337671401859,
          -0.016474733109906492,
          -0.013371486929666134,
          0.40707838227950177,
          -0.01717032565060586,
          -0.020000000000000014,
          -0.016474733109906492,
          -0.011362249524629706,
          -0.016474733109906492,
          -0.012711949957791749,
          -0.016362863349415117,
          -0.01682337671401859,
          -0.01717032565060586,
          0.7965328626057482,
          1,
          -0.016474733109906492,
          -0.015007680371031853,
          1,
          -0.238673732563352,
          -0.011756789086631782,
          -0.019771850165345623,
          1,
          -0.008779884892833876,
          0.05387602066038055,
          -0.01705845589011449,
          0.3759761552541494,
          -0.01649331950485483,
          0.0028577608823115355,
          -0.01717032565060586,
          -0.019771850165345623,
          -0.012711949957791749,
          -0.019685942814710797,
          -0.019685942814710797,
          0.05508887968978974,
          -0.019767902900747928,
          0.05508887968978974,
          -0.016474733109906492,
          -0.020000000000000014,
          0.06142555987447947,
          -0.012186964241683949,
          -0.016910530560798134,
          0.020782397762297768,
          -0.016910530560798134,
          -0.0037606513598384323,
          -0.019771850165345623,
          -1.0460000000000023,
          0.0007224218234797401,
          -0.020000000000000014,
          0.998939055847234,
          -0.016910530560798134,
          0.0009724422822005239,
          -0.019767902900747928,
          -0.016474733109906492,
          -0.019771850165345623,
          -0.01321713133304656,
          -0.01939285181072313,
          -0.013259617169174762,
          0.05508887968978974,
          -0.01321713133304656,
          0.7337593370927642,
          1,
          0.009065535488084338,
          0.0018377428591033595,
          -0.018617316036201634,
          -0.01649331950485483,
          1,
          -0.013259617169174762,
          0.010448905505649055,
          -0.013259617169174762,
          -0.016474733109906492,
          -0.016405763630816948,
          0.026654829977704016,
          -0.013371486929666134,
          0.03235634051788836,
          -0.016910530560798134,
          -0.019771850165345623,
          -0.0007925612382577808,
          -0.01273463145306696,
          -0.013500217778227923,
          -0.009159524080891485,
          -0.01649331950485483,
          -1.0460000000000023,
          -0.019771850165345623,
          -0.013371486929666134,
          0.02238538354964882,
          -0.01939285181072313,
          -0.011292309494425008,
          0.018265361666078075,
          0.020782397762297768,
          0.11716929224600672,
          -0.01939285181072313,
          1,
          -0.019706691336161587,
          0.0185845071892014,
          -0.012826262174811276,
          -0.009159524080891485,
          0.40707838227950177,
          -0.019706691336161587,
          -0.016474733109906492,
          1,
          0.9801111111111112,
          1,
          -0.013371486929666134,
          -0.011292309494425008,
          0.026667684210521105,
          -0.09457036405185759,
          -0.01717032565060586,
          -0.013259617169174762,
          -0.019767902900747928,
          0.010335937839268837,
          -0.016405763630816948,
          0.13228537692406903,
          -0.0007925612382577808,
          -0.013371486929666134,
          -0.016910530560798134,
          -0.016641244834171186,
          -0.019771850165345623,
          0.9475231818181818,
          -0.01939285181072313,
          -0.016641244834171186,
          1,
          1,
          -0.01717032565060586,
          -0.016474733109906492,
          -0.015909971950667713,
          -0.016622658439222848,
          -0.016362863349415117,
          1,
          -0.006257688438656853,
          0.028443317251391168,
          0.02238538354964882,
          -0.012511565384919002,
          1,
          -0.019737456954432384,
          -0.019771850165345623,
          -0.019771850165345623,
          -0.01682337671401859,
          -0.016474733109906492,
          1,
          0.012337874232343182,
          0.9477752194622943,
          -0.019771850165345623,
          -0.016474733109906492,
          -0.019771850165345623,
          0.8197617596359431,
          -0.0037440245586206717,
          0.35390463783822007,
          0.027122175156170242,
          -0.012564024628475395,
          -0.013259617169174762,
          -0.016474733109906492,
          -0.019767902900747928,
          -0.01717032565060586,
          1,
          -0.0007925612382577808,
          1,
          -0.16612354191686268,
          1,
          -0.016910530560798134,
          -0.0007925612382577808,
          -0.009633389524396494,
          -0.009394603256987384,
          0.11098849915577222,
          -0.01649331950485483,
          1,
          -0.009159524080891485,
          -0.016910530560798134,
          -0.01121156433177692,
          -0.014199886850734233,
          -0.004607502177338943,
          -0.016910530560798134,
          -0.1646235419168627,
          -0.019621450652193423,
          0.0009724422822005239,
          0.8855877740671301,
          -0.01717032565060586,
          -0.01273463145306696,
          -0.01717032565060586,
          -0.01705845589011449,
          -0.019771850165345623,
          -0.020000000000000014,
          -0.24945999999999968,
          0.06824900083099289,
          -0.012882556782383316,
          0.05221389320781282,
          -0.008779884892833876,
          -0.01649331950485483,
          0.04202822899064331,
          -0.016474733109906492,
          -0.016910530560798134,
          0.036026570475164055,
          -0.012186964241683949,
          0.018960945440328517,
          -0.016405763630816948,
          0.020782397762297768,
          0.4334711680990694,
          -0.020000000000000014,
          0.005461029612975467,
          1,
          -0.016910530560798134,
          1,
          -0.016910530560798134,
          -0.019767902900747928,
          -0.01717032565060586,
          -0.013352292448911568,
          -0.012823819718283122,
          -0.01717032565060586,
          -0.01649331950485483,
          -0.008779884892833876,
          -0.0037606513598384323,
          -0.019771850165345623,
          0.11492017620925075,
          -0.01974140421903008,
          -0.019771850165345623,
          -0.0007925612382577808,
          -0.016910530560798134,
          -0.016910530560798134,
          0.03131288095238095,
          -0.016910530560798134,
          -0.1864459273664008,
          -0.016405763630816948,
          -0.016474733109906492,
          -0.01717032565060586,
          -0.019767902900747928,
          -0.019685942814710797,
          0.22865117967705012,
          -0.016622658439222848,
          -0.019771850165345623,
          -0.016474733109906492,
          0.01886355769425191,
          -0.012823819718283122,
          -0.01261239497817783,
          -0.013371486929666134,
          -0.019771850165345627,
          1,
          -0.01717032565060586,
          -0.009607302610737587,
          -0.016910530560798134,
          1,
          -0.009495432850246214,
          -0.016622658439222848,
          -0.016388171917318485,
          -0.019767902900747928,
          -0.01682337671401859,
          -0.012186964241683949,
          -0.05905361334543416,
          0.8804665580820576,
          -0.012564024628475395,
          -0.01717032565060586,
          -0.016474733109906492,
          -0.016622658439222848,
          0.03742394034794871,
          -0.01970973248434026,
          0.05508887968978974,
          -0.006257688438656853,
          -0.016474733109906492,
          0.823374544139575,
          -0.01273463145306696,
          -0.019771850165345623,
          -0.01717032565060586,
          0.04434894035546101,
          -0.01273463145306696,
          -0.020000000000000014,
          1,
          -0.01717032565060586,
          -0.0007925612382577808,
          -0.020000000000000014,
          0.0055065238458373855,
          -0.016474733109906492,
          -0.01717032565060586,
          -0.016474733109906492,
          -0.013111691839858408,
          -0.016910530560798134,
          -0.01717032565060586,
          -0.012711949957791749,
          -0.013371486929666134,
          -0.012823819718283122,
          0.11504147814195381,
          1,
          -0.020000000000000014,
          1,
          -0.016910530560798134,
          -0.013371486929666134,
          0.003938206362715258,
          0.7736400709639484,
          -0.01939285181072313,
          -0.01717032565060586,
          -0.019771850165345623,
          -0.016362863349415117,
          -0.01705845589011449,
          -0.016910530560798134,
          -0.01717032565060586,
          -0.009495432850246214,
          0.2789098214302037
         ],
         "xaxis": "x",
         "yaxis": "y"
        }
       ],
       "layout": {
        "barmode": "relative",
        "legend": {
         "tracegroupgap": 0
        },
        "template": {
         "data": {
          "bar": [
           {
            "error_x": {
             "color": "rgb(51,51,51)"
            },
            "error_y": {
             "color": "rgb(51,51,51)"
            },
            "marker": {
             "line": {
              "color": "rgb(237,237,237)",
              "width": 0.5
             }
            },
            "type": "bar"
           }
          ],
          "barpolar": [
           {
            "marker": {
             "line": {
              "color": "rgb(237,237,237)",
              "width": 0.5
             }
            },
            "type": "barpolar"
           }
          ],
          "carpet": [
           {
            "aaxis": {
             "endlinecolor": "rgb(51,51,51)",
             "gridcolor": "white",
             "linecolor": "white",
             "minorgridcolor": "white",
             "startlinecolor": "rgb(51,51,51)"
            },
            "baxis": {
             "endlinecolor": "rgb(51,51,51)",
             "gridcolor": "white",
             "linecolor": "white",
             "minorgridcolor": "white",
             "startlinecolor": "rgb(51,51,51)"
            },
            "type": "carpet"
           }
          ],
          "choropleth": [
           {
            "colorbar": {
             "outlinewidth": 0,
             "tickcolor": "rgb(237,237,237)",
             "ticklen": 6,
             "ticks": "inside"
            },
            "type": "choropleth"
           }
          ],
          "contour": [
           {
            "colorbar": {
             "outlinewidth": 0,
             "tickcolor": "rgb(237,237,237)",
             "ticklen": 6,
             "ticks": "inside"
            },
            "colorscale": [
             [
              0,
              "rgb(20,44,66)"
             ],
             [
              1,
              "rgb(90,179,244)"
             ]
            ],
            "type": "contour"
           }
          ],
          "contourcarpet": [
           {
            "colorbar": {
             "outlinewidth": 0,
             "tickcolor": "rgb(237,237,237)",
             "ticklen": 6,
             "ticks": "inside"
            },
            "type": "contourcarpet"
           }
          ],
          "heatmap": [
           {
            "colorbar": {
             "outlinewidth": 0,
             "tickcolor": "rgb(237,237,237)",
             "ticklen": 6,
             "ticks": "inside"
            },
            "colorscale": [
             [
              0,
              "rgb(20,44,66)"
             ],
             [
              1,
              "rgb(90,179,244)"
             ]
            ],
            "type": "heatmap"
           }
          ],
          "heatmapgl": [
           {
            "colorbar": {
             "outlinewidth": 0,
             "tickcolor": "rgb(237,237,237)",
             "ticklen": 6,
             "ticks": "inside"
            },
            "colorscale": [
             [
              0,
              "rgb(20,44,66)"
             ],
             [
              1,
              "rgb(90,179,244)"
             ]
            ],
            "type": "heatmapgl"
           }
          ],
          "histogram": [
           {
            "marker": {
             "colorbar": {
              "outlinewidth": 0,
              "tickcolor": "rgb(237,237,237)",
              "ticklen": 6,
              "ticks": "inside"
             }
            },
            "type": "histogram"
           }
          ],
          "histogram2d": [
           {
            "colorbar": {
             "outlinewidth": 0,
             "tickcolor": "rgb(237,237,237)",
             "ticklen": 6,
             "ticks": "inside"
            },
            "colorscale": [
             [
              0,
              "rgb(20,44,66)"
             ],
             [
              1,
              "rgb(90,179,244)"
             ]
            ],
            "type": "histogram2d"
           }
          ],
          "histogram2dcontour": [
           {
            "colorbar": {
             "outlinewidth": 0,
             "tickcolor": "rgb(237,237,237)",
             "ticklen": 6,
             "ticks": "inside"
            },
            "colorscale": [
             [
              0,
              "rgb(20,44,66)"
             ],
             [
              1,
              "rgb(90,179,244)"
             ]
            ],
            "type": "histogram2dcontour"
           }
          ],
          "mesh3d": [
           {
            "colorbar": {
             "outlinewidth": 0,
             "tickcolor": "rgb(237,237,237)",
             "ticklen": 6,
             "ticks": "inside"
            },
            "type": "mesh3d"
           }
          ],
          "parcoords": [
           {
            "line": {
             "colorbar": {
              "outlinewidth": 0,
              "tickcolor": "rgb(237,237,237)",
              "ticklen": 6,
              "ticks": "inside"
             }
            },
            "type": "parcoords"
           }
          ],
          "pie": [
           {
            "automargin": true,
            "type": "pie"
           }
          ],
          "scatter": [
           {
            "marker": {
             "colorbar": {
              "outlinewidth": 0,
              "tickcolor": "rgb(237,237,237)",
              "ticklen": 6,
              "ticks": "inside"
             }
            },
            "type": "scatter"
           }
          ],
          "scatter3d": [
           {
            "line": {
             "colorbar": {
              "outlinewidth": 0,
              "tickcolor": "rgb(237,237,237)",
              "ticklen": 6,
              "ticks": "inside"
             }
            },
            "marker": {
             "colorbar": {
              "outlinewidth": 0,
              "tickcolor": "rgb(237,237,237)",
              "ticklen": 6,
              "ticks": "inside"
             }
            },
            "type": "scatter3d"
           }
          ],
          "scattercarpet": [
           {
            "marker": {
             "colorbar": {
              "outlinewidth": 0,
              "tickcolor": "rgb(237,237,237)",
              "ticklen": 6,
              "ticks": "inside"
             }
            },
            "type": "scattercarpet"
           }
          ],
          "scattergeo": [
           {
            "marker": {
             "colorbar": {
              "outlinewidth": 0,
              "tickcolor": "rgb(237,237,237)",
              "ticklen": 6,
              "ticks": "inside"
             }
            },
            "type": "scattergeo"
           }
          ],
          "scattergl": [
           {
            "marker": {
             "colorbar": {
              "outlinewidth": 0,
              "tickcolor": "rgb(237,237,237)",
              "ticklen": 6,
              "ticks": "inside"
             }
            },
            "type": "scattergl"
           }
          ],
          "scattermapbox": [
           {
            "marker": {
             "colorbar": {
              "outlinewidth": 0,
              "tickcolor": "rgb(237,237,237)",
              "ticklen": 6,
              "ticks": "inside"
             }
            },
            "type": "scattermapbox"
           }
          ],
          "scatterpolar": [
           {
            "marker": {
             "colorbar": {
              "outlinewidth": 0,
              "tickcolor": "rgb(237,237,237)",
              "ticklen": 6,
              "ticks": "inside"
             }
            },
            "type": "scatterpolar"
           }
          ],
          "scatterpolargl": [
           {
            "marker": {
             "colorbar": {
              "outlinewidth": 0,
              "tickcolor": "rgb(237,237,237)",
              "ticklen": 6,
              "ticks": "inside"
             }
            },
            "type": "scatterpolargl"
           }
          ],
          "scatterternary": [
           {
            "marker": {
             "colorbar": {
              "outlinewidth": 0,
              "tickcolor": "rgb(237,237,237)",
              "ticklen": 6,
              "ticks": "inside"
             }
            },
            "type": "scatterternary"
           }
          ],
          "surface": [
           {
            "colorbar": {
             "outlinewidth": 0,
             "tickcolor": "rgb(237,237,237)",
             "ticklen": 6,
             "ticks": "inside"
            },
            "colorscale": [
             [
              0,
              "rgb(20,44,66)"
             ],
             [
              1,
              "rgb(90,179,244)"
             ]
            ],
            "type": "surface"
           }
          ],
          "table": [
           {
            "cells": {
             "fill": {
              "color": "rgb(237,237,237)"
             },
             "line": {
              "color": "white"
             }
            },
            "header": {
             "fill": {
              "color": "rgb(217,217,217)"
             },
             "line": {
              "color": "white"
             }
            },
            "type": "table"
           }
          ]
         },
         "layout": {
          "annotationdefaults": {
           "arrowhead": 0,
           "arrowwidth": 1
          },
          "autotypenumbers": "strict",
          "coloraxis": {
           "colorbar": {
            "outlinewidth": 0,
            "tickcolor": "rgb(237,237,237)",
            "ticklen": 6,
            "ticks": "inside"
           }
          },
          "colorscale": {
           "sequential": [
            [
             0,
             "rgb(20,44,66)"
            ],
            [
             1,
             "rgb(90,179,244)"
            ]
           ],
           "sequentialminus": [
            [
             0,
             "rgb(20,44,66)"
            ],
            [
             1,
             "rgb(90,179,244)"
            ]
           ]
          },
          "colorway": [
           "#F8766D",
           "#A3A500",
           "#00BF7D",
           "#00B0F6",
           "#E76BF3"
          ],
          "font": {
           "color": "rgb(51,51,51)"
          },
          "geo": {
           "bgcolor": "white",
           "lakecolor": "white",
           "landcolor": "rgb(237,237,237)",
           "showlakes": true,
           "showland": true,
           "subunitcolor": "white"
          },
          "hoverlabel": {
           "align": "left"
          },
          "hovermode": "closest",
          "paper_bgcolor": "white",
          "plot_bgcolor": "rgb(237,237,237)",
          "polar": {
           "angularaxis": {
            "gridcolor": "white",
            "linecolor": "white",
            "showgrid": true,
            "tickcolor": "rgb(51,51,51)",
            "ticks": "outside"
           },
           "bgcolor": "rgb(237,237,237)",
           "radialaxis": {
            "gridcolor": "white",
            "linecolor": "white",
            "showgrid": true,
            "tickcolor": "rgb(51,51,51)",
            "ticks": "outside"
           }
          },
          "scene": {
           "xaxis": {
            "backgroundcolor": "rgb(237,237,237)",
            "gridcolor": "white",
            "gridwidth": 2,
            "linecolor": "white",
            "showbackground": true,
            "showgrid": true,
            "tickcolor": "rgb(51,51,51)",
            "ticks": "outside",
            "zerolinecolor": "white"
           },
           "yaxis": {
            "backgroundcolor": "rgb(237,237,237)",
            "gridcolor": "white",
            "gridwidth": 2,
            "linecolor": "white",
            "showbackground": true,
            "showgrid": true,
            "tickcolor": "rgb(51,51,51)",
            "ticks": "outside",
            "zerolinecolor": "white"
           },
           "zaxis": {
            "backgroundcolor": "rgb(237,237,237)",
            "gridcolor": "white",
            "gridwidth": 2,
            "linecolor": "white",
            "showbackground": true,
            "showgrid": true,
            "tickcolor": "rgb(51,51,51)",
            "ticks": "outside",
            "zerolinecolor": "white"
           }
          },
          "shapedefaults": {
           "fillcolor": "black",
           "line": {
            "width": 0
           },
           "opacity": 0.3
          },
          "ternary": {
           "aaxis": {
            "gridcolor": "white",
            "linecolor": "white",
            "showgrid": true,
            "tickcolor": "rgb(51,51,51)",
            "ticks": "outside"
           },
           "baxis": {
            "gridcolor": "white",
            "linecolor": "white",
            "showgrid": true,
            "tickcolor": "rgb(51,51,51)",
            "ticks": "outside"
           },
           "bgcolor": "rgb(237,237,237)",
           "caxis": {
            "gridcolor": "white",
            "linecolor": "white",
            "showgrid": true,
            "tickcolor": "rgb(51,51,51)",
            "ticks": "outside"
           }
          },
          "xaxis": {
           "automargin": true,
           "gridcolor": "white",
           "linecolor": "white",
           "showgrid": true,
           "tickcolor": "rgb(51,51,51)",
           "ticks": "outside",
           "title": {
            "standoff": 15
           },
           "zerolinecolor": "white"
          },
          "yaxis": {
           "automargin": true,
           "gridcolor": "white",
           "linecolor": "white",
           "showgrid": true,
           "tickcolor": "rgb(51,51,51)",
           "ticks": "outside",
           "title": {
            "standoff": 15
           },
           "zerolinecolor": "white"
          }
         }
        },
        "title": {
         "text": "Test Predicted Emotion Range"
        },
        "xaxis": {
         "anchor": "y",
         "domain": [
          0,
          1
         ],
         "title": {
          "text": "Predicted Emotion Strength"
         }
        },
        "yaxis": {
         "anchor": "x",
         "domain": [
          0,
          1
         ],
         "title": {
          "text": "count"
         }
        }
       }
      }
     },
     "metadata": {}
    }
   ],
   "source": [
    "y_hat = regr.predict(X_test)\n",
    "fig = px.histogram(x=y_hat,\n",
    "                   title='Test Predicted Emotion Range',\n",
    "                   labels={'x': 'Predicted Emotion Strength'},\n",
    "                   template='ggplot2')\n",
    "fig.show()"
   ]
  },
  {
   "source": [
    "## Emotion RPM versus Neutral RPM"
   ],
   "cell_type": "markdown",
   "metadata": {}
  },
  {
   "cell_type": "code",
   "execution_count": 24,
   "metadata": {},
   "outputs": [
    {
     "output_type": "stream",
     "name": "stderr",
     "text": [
      "<ipython-input-24-9a9f041dab6e>:19: UserWarning:\n\nMatplotlib is currently using module://ipykernel.pylab.backend_inline, which is a non-GUI backend, so cannot show the figure.\n\n"
     ]
    },
    {
     "output_type": "display_data",
     "data": {
      "text/plain": "<Figure size 432x288 with 4 Axes>",
      "image/svg+xml": "<?xml version=\"1.0\" encoding=\"utf-8\" standalone=\"no\"?>\n<!DOCTYPE svg PUBLIC \"-//W3C//DTD SVG 1.1//EN\"\n  \"http://www.w3.org/Graphics/SVG/1.1/DTD/svg11.dtd\">\n<svg height=\"273.755125pt\" version=\"1.1\" viewBox=\"0 0 417.965203 273.755125\" width=\"417.965203pt\" xmlns=\"http://www.w3.org/2000/svg\" xmlns:xlink=\"http://www.w3.org/1999/xlink\">\n <metadata>\n  <rdf:RDF xmlns:cc=\"http://creativecommons.org/ns#\" xmlns:dc=\"http://purl.org/dc/elements/1.1/\" xmlns:rdf=\"http://www.w3.org/1999/02/22-rdf-syntax-ns#\">\n   <cc:Work>\n    <dc:type rdf:resource=\"http://purl.org/dc/dcmitype/StillImage\"/>\n    <dc:date>2021-05-12T19:40:48.031435</dc:date>\n    <dc:format>image/svg+xml</dc:format>\n    <dc:creator>\n     <cc:Agent>\n      <dc:title>Matplotlib v3.4.2, https://matplotlib.org/</dc:title>\n     </cc:Agent>\n    </dc:creator>\n   </cc:Work>\n  </rdf:RDF>\n </metadata>\n <defs>\n  <style type=\"text/css\">*{stroke-linecap:butt;stroke-linejoin:round;}</style>\n </defs>\n <g id=\"figure_1\">\n  <g id=\"patch_1\">\n   <path d=\"M 0 273.755125 \nL 417.965203 273.755125 \nL 417.965203 0 \nL 0 0 \nz\n\" style=\"fill:none;\"/>\n  </g>\n  <g id=\"axes_1\">\n   <g id=\"patch_2\">\n    <path d=\"M 39.01375 109.993562 \nL 200.871105 109.993562 \nL 200.871105 25.053562 \nL 39.01375 25.053562 \nz\n\" style=\"fill:#ffffff;\"/>\n   </g>\n   <g id=\"patch_3\">\n    <path clip-path=\"url(#pbee47f7bca)\" d=\"M 46.370903 109.993562 \nL 56.88112 109.993562 \nL 56.88112 109.993562 \nL 46.370903 109.993562 \nz\n\" style=\"fill:#1f77b4;opacity:0.5;\"/>\n   </g>\n   <g id=\"patch_4\">\n    <path clip-path=\"url(#pbee47f7bca)\" d=\"M 56.88112 109.993562 \nL 67.391338 109.993562 \nL 67.391338 109.993562 \nL 56.88112 109.993562 \nz\n\" style=\"fill:#1f77b4;opacity:0.5;\"/>\n   </g>\n   <g id=\"patch_5\">\n    <path clip-path=\"url(#pbee47f7bca)\" d=\"M 67.391338 109.993562 \nL 77.901556 109.993562 \nL 77.901556 109.066776 \nL 67.391338 109.066776 \nz\n\" style=\"fill:#1f77b4;opacity:0.5;\"/>\n   </g>\n   <g id=\"patch_6\">\n    <path clip-path=\"url(#pbee47f7bca)\" d=\"M 77.901556 109.993562 \nL 88.411774 109.993562 \nL 88.411774 103.241259 \nL 77.901556 103.241259 \nz\n\" style=\"fill:#1f77b4;opacity:0.5;\"/>\n   </g>\n   <g id=\"patch_7\">\n    <path clip-path=\"url(#pbee47f7bca)\" d=\"M 88.411774 109.993562 \nL 98.921992 109.993562 \nL 98.921992 102.579269 \nL 88.411774 102.579269 \nz\n\" style=\"fill:#1f77b4;opacity:0.5;\"/>\n   </g>\n   <g id=\"patch_8\">\n    <path clip-path=\"url(#pbee47f7bca)\" d=\"M 98.921992 109.993562 \nL 109.43221 109.993562 \nL 109.43221 108.537183 \nL 98.921992 108.537183 \nz\n\" style=\"fill:#1f77b4;opacity:0.5;\"/>\n   </g>\n   <g id=\"patch_9\">\n    <path clip-path=\"url(#pbee47f7bca)\" d=\"M 109.43221 109.993562 \nL 119.942428 109.993562 \nL 119.942428 102.844065 \nL 109.43221 102.844065 \nz\n\" style=\"fill:#1f77b4;opacity:0.5;\"/>\n   </g>\n   <g id=\"patch_10\">\n    <path clip-path=\"url(#pbee47f7bca)\" d=\"M 119.942428 109.993562 \nL 130.452646 109.993562 \nL 130.452646 102.976463 \nL 119.942428 102.976463 \nz\n\" style=\"fill:#1f77b4;opacity:0.5;\"/>\n   </g>\n   <g id=\"patch_11\">\n    <path clip-path=\"url(#pbee47f7bca)\" d=\"M 130.452646 109.993562 \nL 140.962863 109.993562 \nL 140.962863 29.098324 \nL 130.452646 29.098324 \nz\n\" style=\"fill:#1f77b4;opacity:0.5;\"/>\n   </g>\n   <g id=\"patch_12\">\n    <path clip-path=\"url(#pbee47f7bca)\" d=\"M 140.962863 109.993562 \nL 151.473081 109.993562 \nL 151.473081 40.616959 \nL 140.962863 40.616959 \nz\n\" style=\"fill:#1f77b4;opacity:0.5;\"/>\n   </g>\n   <g id=\"patch_13\">\n    <path clip-path=\"url(#pbee47f7bca)\" d=\"M 151.473081 109.993562 \nL 161.983299 109.993562 \nL 161.983299 45.648087 \nL 151.473081 45.648087 \nz\n\" style=\"fill:#1f77b4;opacity:0.5;\"/>\n   </g>\n   <g id=\"patch_14\">\n    <path clip-path=\"url(#pbee47f7bca)\" d=\"M 161.983299 109.993562 \nL 172.493517 109.993562 \nL 172.493517 36.645016 \nL 161.983299 36.645016 \nz\n\" style=\"fill:#1f77b4;opacity:0.5;\"/>\n   </g>\n   <g id=\"patch_15\">\n    <path clip-path=\"url(#pbee47f7bca)\" d=\"M 172.493517 109.993562 \nL 183.003735 109.993562 \nL 183.003735 86.161905 \nL 172.493517 86.161905 \nz\n\" style=\"fill:#1f77b4;opacity:0.5;\"/>\n   </g>\n   <g id=\"patch_16\">\n    <path clip-path=\"url(#pbee47f7bca)\" d=\"M 183.003735 109.993562 \nL 193.513953 109.993562 \nL 193.513953 61.800655 \nL 183.003735 61.800655 \nz\n\" style=\"fill:#1f77b4;opacity:0.5;\"/>\n   </g>\n   <g id=\"patch_17\">\n    <path clip-path=\"url(#pbee47f7bca)\" d=\"M 46.370903 109.993562 \nL 56.88112 109.993562 \nL 56.88112 109.993562 \nL 46.370903 109.993562 \nz\n\" style=\"fill:#ff7f0e;opacity:0.5;\"/>\n   </g>\n   <g id=\"patch_18\">\n    <path clip-path=\"url(#pbee47f7bca)\" d=\"M 56.88112 109.993562 \nL 67.391338 109.993562 \nL 67.391338 109.993562 \nL 56.88112 109.993562 \nz\n\" style=\"fill:#ff7f0e;opacity:0.5;\"/>\n   </g>\n   <g id=\"patch_19\">\n    <path clip-path=\"url(#pbee47f7bca)\" d=\"M 67.391338 109.993562 \nL 77.901556 109.993562 \nL 77.901556 108.669582 \nL 67.391338 108.669582 \nz\n\" style=\"fill:#ff7f0e;opacity:0.5;\"/>\n   </g>\n   <g id=\"patch_20\">\n    <path clip-path=\"url(#pbee47f7bca)\" d=\"M 77.901556 109.993562 \nL 88.411774 109.993562 \nL 88.411774 52.267992 \nL 77.901556 52.267992 \nz\n\" style=\"fill:#ff7f0e;opacity:0.5;\"/>\n   </g>\n   <g id=\"patch_21\">\n    <path clip-path=\"url(#pbee47f7bca)\" d=\"M 88.411774 109.993562 \nL 98.921992 109.993562 \nL 98.921992 80.733583 \nL 88.411774 80.733583 \nz\n\" style=\"fill:#ff7f0e;opacity:0.5;\"/>\n   </g>\n   <g id=\"patch_22\">\n    <path clip-path=\"url(#pbee47f7bca)\" d=\"M 98.921992 109.993562 \nL 109.43221 109.993562 \nL 109.43221 55.18075 \nL 98.921992 55.18075 \nz\n\" style=\"fill:#ff7f0e;opacity:0.5;\"/>\n   </g>\n   <g id=\"patch_23\">\n    <path clip-path=\"url(#pbee47f7bca)\" d=\"M 109.43221 109.993562 \nL 119.942428 109.993562 \nL 119.942428 89.869052 \nL 109.43221 89.869052 \nz\n\" style=\"fill:#ff7f0e;opacity:0.5;\"/>\n   </g>\n   <g id=\"patch_24\">\n    <path clip-path=\"url(#pbee47f7bca)\" d=\"M 119.942428 109.993562 \nL 130.452646 109.993562 \nL 130.452646 90.66344 \nL 119.942428 90.66344 \nz\n\" style=\"fill:#ff7f0e;opacity:0.5;\"/>\n   </g>\n   <g id=\"patch_25\">\n    <path clip-path=\"url(#pbee47f7bca)\" d=\"M 130.452646 109.993562 \nL 140.962863 109.993562 \nL 140.962863 104.962435 \nL 130.452646 104.962435 \nz\n\" style=\"fill:#ff7f0e;opacity:0.5;\"/>\n   </g>\n   <g id=\"patch_26\">\n    <path clip-path=\"url(#pbee47f7bca)\" d=\"M 140.962863 109.993562 \nL 151.473081 109.993562 \nL 151.473081 42.735329 \nL 140.962863 42.735329 \nz\n\" style=\"fill:#ff7f0e;opacity:0.5;\"/>\n   </g>\n   <g id=\"patch_27\">\n    <path clip-path=\"url(#pbee47f7bca)\" d=\"M 151.473081 109.993562 \nL 161.983299 109.993562 \nL 161.983299 91.457829 \nL 151.473081 91.457829 \nz\n\" style=\"fill:#ff7f0e;opacity:0.5;\"/>\n   </g>\n   <g id=\"patch_28\">\n    <path clip-path=\"url(#pbee47f7bca)\" d=\"M 161.983299 109.993562 \nL 172.493517 109.993562 \nL 172.493517 73.716484 \nL 161.983299 73.716484 \nz\n\" style=\"fill:#ff7f0e;opacity:0.5;\"/>\n   </g>\n   <g id=\"patch_29\">\n    <path clip-path=\"url(#pbee47f7bca)\" d=\"M 172.493517 109.993562 \nL 183.003735 109.993562 \nL 183.003735 79.806796 \nL 172.493517 79.806796 \nz\n\" style=\"fill:#ff7f0e;opacity:0.5;\"/>\n   </g>\n   <g id=\"patch_30\">\n    <path clip-path=\"url(#pbee47f7bca)\" d=\"M 183.003735 109.993562 \nL 193.513953 109.993562 \nL 193.513953 62.727441 \nL 183.003735 62.727441 \nz\n\" style=\"fill:#ff7f0e;opacity:0.5;\"/>\n   </g>\n   <g id=\"matplotlib.axis_1\">\n    <g id=\"xtick_1\">\n     <g id=\"line2d_1\">\n      <defs>\n       <path d=\"M 0 0 \nL 0 3.5 \n\" id=\"mdafcd7a6d3\" style=\"stroke:#000000;stroke-width:0.8;\"/>\n      </defs>\n      <g>\n       <use style=\"stroke:#000000;stroke-width:0.8;\" x=\"46.370903\" xlink:href=\"#mdafcd7a6d3\" y=\"109.993562\"/>\n      </g>\n     </g>\n     <g id=\"text_1\">\n      <!-- 5 -->\n      <g transform=\"translate(42.235278 126.871531)scale(0.13 -0.13)\">\n       <defs>\n        <path d=\"M 691 4666 \nL 3169 4666 \nL 3169 4134 \nL 1269 4134 \nL 1269 2991 \nQ 1406 3038 1543 3061 \nQ 1681 3084 1819 3084 \nQ 2600 3084 3056 2656 \nQ 3513 2228 3513 1497 \nQ 3513 744 3044 326 \nQ 2575 -91 1722 -91 \nQ 1428 -91 1123 -41 \nQ 819 9 494 109 \nL 494 744 \nQ 775 591 1075 516 \nQ 1375 441 1709 441 \nQ 2250 441 2565 725 \nQ 2881 1009 2881 1497 \nQ 2881 1984 2565 2268 \nQ 2250 2553 1709 2553 \nQ 1456 2553 1204 2497 \nQ 953 2441 691 2322 \nL 691 4666 \nz\n\" id=\"DejaVuSans-35\" transform=\"scale(0.015625)\"/>\n       </defs>\n       <use xlink:href=\"#DejaVuSans-35\"/>\n      </g>\n     </g>\n    </g>\n    <g id=\"xtick_2\">\n     <g id=\"line2d_2\">\n      <g>\n       <use style=\"stroke:#000000;stroke-width:0.8;\" x=\"95.418586\" xlink:href=\"#mdafcd7a6d3\" y=\"109.993562\"/>\n      </g>\n     </g>\n     <g id=\"text_2\">\n      <!-- 10 -->\n      <g transform=\"translate(87.147336 126.871531)scale(0.13 -0.13)\">\n       <defs>\n        <path d=\"M 794 531 \nL 1825 531 \nL 1825 4091 \nL 703 3866 \nL 703 4441 \nL 1819 4666 \nL 2450 4666 \nL 2450 531 \nL 3481 531 \nL 3481 0 \nL 794 0 \nL 794 531 \nz\n\" id=\"DejaVuSans-31\" transform=\"scale(0.015625)\"/>\n        <path d=\"M 2034 4250 \nQ 1547 4250 1301 3770 \nQ 1056 3291 1056 2328 \nQ 1056 1369 1301 889 \nQ 1547 409 2034 409 \nQ 2525 409 2770 889 \nQ 3016 1369 3016 2328 \nQ 3016 3291 2770 3770 \nQ 2525 4250 2034 4250 \nz\nM 2034 4750 \nQ 2819 4750 3233 4129 \nQ 3647 3509 3647 2328 \nQ 3647 1150 3233 529 \nQ 2819 -91 2034 -91 \nQ 1250 -91 836 529 \nQ 422 1150 422 2328 \nQ 422 3509 836 4129 \nQ 1250 4750 2034 4750 \nz\n\" id=\"DejaVuSans-30\" transform=\"scale(0.015625)\"/>\n       </defs>\n       <use xlink:href=\"#DejaVuSans-31\"/>\n       <use x=\"63.623047\" xlink:href=\"#DejaVuSans-30\"/>\n      </g>\n     </g>\n    </g>\n    <g id=\"xtick_3\">\n     <g id=\"line2d_3\">\n      <g>\n       <use style=\"stroke:#000000;stroke-width:0.8;\" x=\"144.466269\" xlink:href=\"#mdafcd7a6d3\" y=\"109.993562\"/>\n      </g>\n     </g>\n     <g id=\"text_3\">\n      <!-- 15 -->\n      <g transform=\"translate(136.195019 126.871531)scale(0.13 -0.13)\">\n       <use xlink:href=\"#DejaVuSans-31\"/>\n       <use x=\"63.623047\" xlink:href=\"#DejaVuSans-35\"/>\n      </g>\n     </g>\n    </g>\n    <g id=\"xtick_4\">\n     <g id=\"line2d_4\">\n      <g>\n       <use style=\"stroke:#000000;stroke-width:0.8;\" x=\"193.513953\" xlink:href=\"#mdafcd7a6d3\" y=\"109.993562\"/>\n      </g>\n     </g>\n     <g id=\"text_4\">\n      <!-- 20 -->\n      <g transform=\"translate(185.242703 126.871531)scale(0.13 -0.13)\">\n       <defs>\n        <path d=\"M 1228 531 \nL 3431 531 \nL 3431 0 \nL 469 0 \nL 469 531 \nQ 828 903 1448 1529 \nQ 2069 2156 2228 2338 \nQ 2531 2678 2651 2914 \nQ 2772 3150 2772 3378 \nQ 2772 3750 2511 3984 \nQ 2250 4219 1831 4219 \nQ 1534 4219 1204 4116 \nQ 875 4013 500 3803 \nL 500 4441 \nQ 881 4594 1212 4672 \nQ 1544 4750 1819 4750 \nQ 2544 4750 2975 4387 \nQ 3406 4025 3406 3419 \nQ 3406 3131 3298 2873 \nQ 3191 2616 2906 2266 \nQ 2828 2175 2409 1742 \nQ 1991 1309 1228 531 \nz\n\" id=\"DejaVuSans-32\" transform=\"scale(0.015625)\"/>\n       </defs>\n       <use xlink:href=\"#DejaVuSans-32\"/>\n       <use x=\"63.623047\" xlink:href=\"#DejaVuSans-30\"/>\n      </g>\n     </g>\n    </g>\n   </g>\n   <g id=\"matplotlib.axis_2\">\n    <g id=\"ytick_1\">\n     <g id=\"line2d_5\">\n      <defs>\n       <path d=\"M 0 0 \nL -3.5 0 \n\" id=\"m2e1dc62326\" style=\"stroke:#000000;stroke-width:0.8;\"/>\n      </defs>\n      <g>\n       <use style=\"stroke:#000000;stroke-width:0.8;\" x=\"39.01375\" xlink:href=\"#m2e1dc62326\" y=\"109.993562\"/>\n      </g>\n     </g>\n     <g id=\"text_5\">\n      <!-- 0 -->\n      <g transform=\"translate(23.7425 114.932547)scale(0.13 -0.13)\">\n       <use xlink:href=\"#DejaVuSans-30\"/>\n      </g>\n     </g>\n    </g>\n    <g id=\"ytick_2\">\n     <g id=\"line2d_6\">\n      <g>\n       <use style=\"stroke:#000000;stroke-width:0.8;\" x=\"39.01375\" xlink:href=\"#m2e1dc62326\" y=\"76.894038\"/>\n      </g>\n     </g>\n     <g id=\"text_6\">\n      <!-- 250 -->\n      <g transform=\"translate(7.2 81.833022)scale(0.13 -0.13)\">\n       <use xlink:href=\"#DejaVuSans-32\"/>\n       <use x=\"63.623047\" xlink:href=\"#DejaVuSans-35\"/>\n       <use x=\"127.246094\" xlink:href=\"#DejaVuSans-30\"/>\n      </g>\n     </g>\n    </g>\n    <g id=\"ytick_3\">\n     <g id=\"line2d_7\">\n      <g>\n       <use style=\"stroke:#000000;stroke-width:0.8;\" x=\"39.01375\" xlink:href=\"#m2e1dc62326\" y=\"43.794513\"/>\n      </g>\n     </g>\n     <g id=\"text_7\">\n      <!-- 500 -->\n      <g transform=\"translate(7.2 48.733498)scale(0.13 -0.13)\">\n       <use xlink:href=\"#DejaVuSans-35\"/>\n       <use x=\"63.623047\" xlink:href=\"#DejaVuSans-30\"/>\n       <use x=\"127.246094\" xlink:href=\"#DejaVuSans-30\"/>\n      </g>\n     </g>\n    </g>\n   </g>\n   <g id=\"patch_31\">\n    <path d=\"M 39.01375 109.993562 \nL 39.01375 25.053562 \n\" style=\"fill:none;stroke:#000000;stroke-linecap:square;stroke-linejoin:miter;stroke-width:0.8;\"/>\n   </g>\n   <g id=\"patch_32\">\n    <path d=\"M 200.871105 109.993562 \nL 200.871105 25.053562 \n\" style=\"fill:none;stroke:#000000;stroke-linecap:square;stroke-linejoin:miter;stroke-width:0.8;\"/>\n   </g>\n   <g id=\"patch_33\">\n    <path d=\"M 39.01375 109.993562 \nL 200.871105 109.993562 \n\" style=\"fill:none;stroke:#000000;stroke-linecap:square;stroke-linejoin:miter;stroke-width:0.8;\"/>\n   </g>\n   <g id=\"patch_34\">\n    <path d=\"M 39.01375 25.053562 \nL 200.871105 25.053562 \n\" style=\"fill:none;stroke:#000000;stroke-linecap:square;stroke-linejoin:miter;stroke-width:0.8;\"/>\n   </g>\n   <g id=\"text_8\">\n    <!-- Happy vs. Neutral -->\n    <g transform=\"translate(49.870396 19.053562)scale(0.156 -0.156)\">\n     <defs>\n      <path d=\"M 628 4666 \nL 1259 4666 \nL 1259 2753 \nL 3553 2753 \nL 3553 4666 \nL 4184 4666 \nL 4184 0 \nL 3553 0 \nL 3553 2222 \nL 1259 2222 \nL 1259 0 \nL 628 0 \nL 628 4666 \nz\n\" id=\"DejaVuSans-48\" transform=\"scale(0.015625)\"/>\n      <path d=\"M 2194 1759 \nQ 1497 1759 1228 1600 \nQ 959 1441 959 1056 \nQ 959 750 1161 570 \nQ 1363 391 1709 391 \nQ 2188 391 2477 730 \nQ 2766 1069 2766 1631 \nL 2766 1759 \nL 2194 1759 \nz\nM 3341 1997 \nL 3341 0 \nL 2766 0 \nL 2766 531 \nQ 2569 213 2275 61 \nQ 1981 -91 1556 -91 \nQ 1019 -91 701 211 \nQ 384 513 384 1019 \nQ 384 1609 779 1909 \nQ 1175 2209 1959 2209 \nL 2766 2209 \nL 2766 2266 \nQ 2766 2663 2505 2880 \nQ 2244 3097 1772 3097 \nQ 1472 3097 1187 3025 \nQ 903 2953 641 2809 \nL 641 3341 \nQ 956 3463 1253 3523 \nQ 1550 3584 1831 3584 \nQ 2591 3584 2966 3190 \nQ 3341 2797 3341 1997 \nz\n\" id=\"DejaVuSans-61\" transform=\"scale(0.015625)\"/>\n      <path d=\"M 1159 525 \nL 1159 -1331 \nL 581 -1331 \nL 581 3500 \nL 1159 3500 \nL 1159 2969 \nQ 1341 3281 1617 3432 \nQ 1894 3584 2278 3584 \nQ 2916 3584 3314 3078 \nQ 3713 2572 3713 1747 \nQ 3713 922 3314 415 \nQ 2916 -91 2278 -91 \nQ 1894 -91 1617 61 \nQ 1341 213 1159 525 \nz\nM 3116 1747 \nQ 3116 2381 2855 2742 \nQ 2594 3103 2138 3103 \nQ 1681 3103 1420 2742 \nQ 1159 2381 1159 1747 \nQ 1159 1113 1420 752 \nQ 1681 391 2138 391 \nQ 2594 391 2855 752 \nQ 3116 1113 3116 1747 \nz\n\" id=\"DejaVuSans-70\" transform=\"scale(0.015625)\"/>\n      <path d=\"M 2059 -325 \nQ 1816 -950 1584 -1140 \nQ 1353 -1331 966 -1331 \nL 506 -1331 \nL 506 -850 \nL 844 -850 \nQ 1081 -850 1212 -737 \nQ 1344 -625 1503 -206 \nL 1606 56 \nL 191 3500 \nL 800 3500 \nL 1894 763 \nL 2988 3500 \nL 3597 3500 \nL 2059 -325 \nz\n\" id=\"DejaVuSans-79\" transform=\"scale(0.015625)\"/>\n      <path id=\"DejaVuSans-20\" transform=\"scale(0.015625)\"/>\n      <path d=\"M 191 3500 \nL 800 3500 \nL 1894 563 \nL 2988 3500 \nL 3597 3500 \nL 2284 0 \nL 1503 0 \nL 191 3500 \nz\n\" id=\"DejaVuSans-76\" transform=\"scale(0.015625)\"/>\n      <path d=\"M 2834 3397 \nL 2834 2853 \nQ 2591 2978 2328 3040 \nQ 2066 3103 1784 3103 \nQ 1356 3103 1142 2972 \nQ 928 2841 928 2578 \nQ 928 2378 1081 2264 \nQ 1234 2150 1697 2047 \nL 1894 2003 \nQ 2506 1872 2764 1633 \nQ 3022 1394 3022 966 \nQ 3022 478 2636 193 \nQ 2250 -91 1575 -91 \nQ 1294 -91 989 -36 \nQ 684 19 347 128 \nL 347 722 \nQ 666 556 975 473 \nQ 1284 391 1588 391 \nQ 1994 391 2212 530 \nQ 2431 669 2431 922 \nQ 2431 1156 2273 1281 \nQ 2116 1406 1581 1522 \nL 1381 1569 \nQ 847 1681 609 1914 \nQ 372 2147 372 2553 \nQ 372 3047 722 3315 \nQ 1072 3584 1716 3584 \nQ 2034 3584 2315 3537 \nQ 2597 3491 2834 3397 \nz\n\" id=\"DejaVuSans-73\" transform=\"scale(0.015625)\"/>\n      <path d=\"M 684 794 \nL 1344 794 \nL 1344 0 \nL 684 0 \nL 684 794 \nz\n\" id=\"DejaVuSans-2e\" transform=\"scale(0.015625)\"/>\n      <path d=\"M 628 4666 \nL 1478 4666 \nL 3547 763 \nL 3547 4666 \nL 4159 4666 \nL 4159 0 \nL 3309 0 \nL 1241 3903 \nL 1241 0 \nL 628 0 \nL 628 4666 \nz\n\" id=\"DejaVuSans-4e\" transform=\"scale(0.015625)\"/>\n      <path d=\"M 3597 1894 \nL 3597 1613 \nL 953 1613 \nQ 991 1019 1311 708 \nQ 1631 397 2203 397 \nQ 2534 397 2845 478 \nQ 3156 559 3463 722 \nL 3463 178 \nQ 3153 47 2828 -22 \nQ 2503 -91 2169 -91 \nQ 1331 -91 842 396 \nQ 353 884 353 1716 \nQ 353 2575 817 3079 \nQ 1281 3584 2069 3584 \nQ 2775 3584 3186 3129 \nQ 3597 2675 3597 1894 \nz\nM 3022 2063 \nQ 3016 2534 2758 2815 \nQ 2500 3097 2075 3097 \nQ 1594 3097 1305 2825 \nQ 1016 2553 972 2059 \nL 3022 2063 \nz\n\" id=\"DejaVuSans-65\" transform=\"scale(0.015625)\"/>\n      <path d=\"M 544 1381 \nL 544 3500 \nL 1119 3500 \nL 1119 1403 \nQ 1119 906 1312 657 \nQ 1506 409 1894 409 \nQ 2359 409 2629 706 \nQ 2900 1003 2900 1516 \nL 2900 3500 \nL 3475 3500 \nL 3475 0 \nL 2900 0 \nL 2900 538 \nQ 2691 219 2414 64 \nQ 2138 -91 1772 -91 \nQ 1169 -91 856 284 \nQ 544 659 544 1381 \nz\nM 1991 3584 \nL 1991 3584 \nz\n\" id=\"DejaVuSans-75\" transform=\"scale(0.015625)\"/>\n      <path d=\"M 1172 4494 \nL 1172 3500 \nL 2356 3500 \nL 2356 3053 \nL 1172 3053 \nL 1172 1153 \nQ 1172 725 1289 603 \nQ 1406 481 1766 481 \nL 2356 481 \nL 2356 0 \nL 1766 0 \nQ 1100 0 847 248 \nQ 594 497 594 1153 \nL 594 3053 \nL 172 3053 \nL 172 3500 \nL 594 3500 \nL 594 4494 \nL 1172 4494 \nz\n\" id=\"DejaVuSans-74\" transform=\"scale(0.015625)\"/>\n      <path d=\"M 2631 2963 \nQ 2534 3019 2420 3045 \nQ 2306 3072 2169 3072 \nQ 1681 3072 1420 2755 \nQ 1159 2438 1159 1844 \nL 1159 0 \nL 581 0 \nL 581 3500 \nL 1159 3500 \nL 1159 2956 \nQ 1341 3275 1631 3429 \nQ 1922 3584 2338 3584 \nQ 2397 3584 2469 3576 \nQ 2541 3569 2628 3553 \nL 2631 2963 \nz\n\" id=\"DejaVuSans-72\" transform=\"scale(0.015625)\"/>\n      <path d=\"M 603 4863 \nL 1178 4863 \nL 1178 0 \nL 603 0 \nL 603 4863 \nz\n\" id=\"DejaVuSans-6c\" transform=\"scale(0.015625)\"/>\n     </defs>\n     <use xlink:href=\"#DejaVuSans-48\"/>\n     <use x=\"75.195312\" xlink:href=\"#DejaVuSans-61\"/>\n     <use x=\"136.474609\" xlink:href=\"#DejaVuSans-70\"/>\n     <use x=\"199.951172\" xlink:href=\"#DejaVuSans-70\"/>\n     <use x=\"263.427734\" xlink:href=\"#DejaVuSans-79\"/>\n     <use x=\"322.607422\" xlink:href=\"#DejaVuSans-20\"/>\n     <use x=\"354.394531\" xlink:href=\"#DejaVuSans-76\"/>\n     <use x=\"413.574219\" xlink:href=\"#DejaVuSans-73\"/>\n     <use x=\"465.673828\" xlink:href=\"#DejaVuSans-2e\"/>\n     <use x=\"497.460938\" xlink:href=\"#DejaVuSans-20\"/>\n     <use x=\"529.248047\" xlink:href=\"#DejaVuSans-4e\"/>\n     <use x=\"604.052734\" xlink:href=\"#DejaVuSans-65\"/>\n     <use x=\"665.576172\" xlink:href=\"#DejaVuSans-75\"/>\n     <use x=\"728.955078\" xlink:href=\"#DejaVuSans-74\"/>\n     <use x=\"768.164062\" xlink:href=\"#DejaVuSans-72\"/>\n     <use x=\"809.277344\" xlink:href=\"#DejaVuSans-61\"/>\n     <use x=\"870.556641\" xlink:href=\"#DejaVuSans-6c\"/>\n    </g>\n   </g>\n  </g>\n  <g id=\"axes_2\">\n   <g id=\"patch_35\">\n    <path d=\"M 247.99375 109.993562 \nL 409.851105 109.993562 \nL 409.851105 25.053562 \nL 247.99375 25.053562 \nz\n\" style=\"fill:#ffffff;\"/>\n   </g>\n   <g id=\"patch_36\">\n    <path clip-path=\"url(#p949a3723f4)\" d=\"M 255.350903 109.993562 \nL 265.86112 109.993562 \nL 265.86112 109.993562 \nL 255.350903 109.993562 \nz\n\" style=\"fill:#1f77b4;opacity:0.5;\"/>\n   </g>\n   <g id=\"patch_37\">\n    <path clip-path=\"url(#p949a3723f4)\" d=\"M 265.86112 109.993562 \nL 276.371338 109.993562 \nL 276.371338 109.993562 \nL 265.86112 109.993562 \nz\n\" style=\"fill:#1f77b4;opacity:0.5;\"/>\n   </g>\n   <g id=\"patch_38\">\n    <path clip-path=\"url(#p949a3723f4)\" d=\"M 276.371338 109.993562 \nL 286.881556 109.993562 \nL 286.881556 109.066776 \nL 276.371338 109.066776 \nz\n\" style=\"fill:#1f77b4;opacity:0.5;\"/>\n   </g>\n   <g id=\"patch_39\">\n    <path clip-path=\"url(#p949a3723f4)\" d=\"M 286.881556 109.993562 \nL 297.391774 109.993562 \nL 297.391774 103.241259 \nL 286.881556 103.241259 \nz\n\" style=\"fill:#1f77b4;opacity:0.5;\"/>\n   </g>\n   <g id=\"patch_40\">\n    <path clip-path=\"url(#p949a3723f4)\" d=\"M 297.391774 109.993562 \nL 307.901992 109.993562 \nL 307.901992 102.579269 \nL 297.391774 102.579269 \nz\n\" style=\"fill:#1f77b4;opacity:0.5;\"/>\n   </g>\n   <g id=\"patch_41\">\n    <path clip-path=\"url(#p949a3723f4)\" d=\"M 307.901992 109.993562 \nL 318.41221 109.993562 \nL 318.41221 108.537183 \nL 307.901992 108.537183 \nz\n\" style=\"fill:#1f77b4;opacity:0.5;\"/>\n   </g>\n   <g id=\"patch_42\">\n    <path clip-path=\"url(#p949a3723f4)\" d=\"M 318.41221 109.993562 \nL 328.922428 109.993562 \nL 328.922428 102.844065 \nL 318.41221 102.844065 \nz\n\" style=\"fill:#1f77b4;opacity:0.5;\"/>\n   </g>\n   <g id=\"patch_43\">\n    <path clip-path=\"url(#p949a3723f4)\" d=\"M 328.922428 109.993562 \nL 339.432646 109.993562 \nL 339.432646 102.976463 \nL 328.922428 102.976463 \nz\n\" style=\"fill:#1f77b4;opacity:0.5;\"/>\n   </g>\n   <g id=\"patch_44\">\n    <path clip-path=\"url(#p949a3723f4)\" d=\"M 339.432646 109.993562 \nL 349.942863 109.993562 \nL 349.942863 29.098324 \nL 339.432646 29.098324 \nz\n\" style=\"fill:#1f77b4;opacity:0.5;\"/>\n   </g>\n   <g id=\"patch_45\">\n    <path clip-path=\"url(#p949a3723f4)\" d=\"M 349.942863 109.993562 \nL 360.453081 109.993562 \nL 360.453081 40.616959 \nL 349.942863 40.616959 \nz\n\" style=\"fill:#1f77b4;opacity:0.5;\"/>\n   </g>\n   <g id=\"patch_46\">\n    <path clip-path=\"url(#p949a3723f4)\" d=\"M 360.453081 109.993562 \nL 370.963299 109.993562 \nL 370.963299 45.648087 \nL 360.453081 45.648087 \nz\n\" style=\"fill:#1f77b4;opacity:0.5;\"/>\n   </g>\n   <g id=\"patch_47\">\n    <path clip-path=\"url(#p949a3723f4)\" d=\"M 370.963299 109.993562 \nL 381.473517 109.993562 \nL 381.473517 36.645016 \nL 370.963299 36.645016 \nz\n\" style=\"fill:#1f77b4;opacity:0.5;\"/>\n   </g>\n   <g id=\"patch_48\">\n    <path clip-path=\"url(#p949a3723f4)\" d=\"M 381.473517 109.993562 \nL 391.983735 109.993562 \nL 391.983735 86.161905 \nL 381.473517 86.161905 \nz\n\" style=\"fill:#1f77b4;opacity:0.5;\"/>\n   </g>\n   <g id=\"patch_49\">\n    <path clip-path=\"url(#p949a3723f4)\" d=\"M 391.983735 109.993562 \nL 402.493953 109.993562 \nL 402.493953 61.800655 \nL 391.983735 61.800655 \nz\n\" style=\"fill:#1f77b4;opacity:0.5;\"/>\n   </g>\n   <g id=\"patch_50\">\n    <path clip-path=\"url(#p949a3723f4)\" d=\"M 255.350903 109.993562 \nL 265.86112 109.993562 \nL 265.86112 109.993562 \nL 255.350903 109.993562 \nz\n\" style=\"fill:#ff7f0e;opacity:0.5;\"/>\n   </g>\n   <g id=\"patch_51\">\n    <path clip-path=\"url(#p949a3723f4)\" d=\"M 265.86112 109.993562 \nL 276.371338 109.993562 \nL 276.371338 109.993562 \nL 265.86112 109.993562 \nz\n\" style=\"fill:#ff7f0e;opacity:0.5;\"/>\n   </g>\n   <g id=\"patch_52\">\n    <path clip-path=\"url(#p949a3723f4)\" d=\"M 276.371338 109.993562 \nL 286.881556 109.993562 \nL 286.881556 109.993562 \nL 276.371338 109.993562 \nz\n\" style=\"fill:#ff7f0e;opacity:0.5;\"/>\n   </g>\n   <g id=\"patch_53\">\n    <path clip-path=\"url(#p949a3723f4)\" d=\"M 286.881556 109.993562 \nL 297.391774 109.993562 \nL 297.391774 109.993562 \nL 286.881556 109.993562 \nz\n\" style=\"fill:#ff7f0e;opacity:0.5;\"/>\n   </g>\n   <g id=\"patch_54\">\n    <path clip-path=\"url(#p949a3723f4)\" d=\"M 297.391774 109.993562 \nL 307.901992 109.993562 \nL 307.901992 109.993562 \nL 297.391774 109.993562 \nz\n\" style=\"fill:#ff7f0e;opacity:0.5;\"/>\n   </g>\n   <g id=\"patch_55\">\n    <path clip-path=\"url(#p949a3723f4)\" d=\"M 307.901992 109.993562 \nL 318.41221 109.993562 \nL 318.41221 100.196103 \nL 307.901992 100.196103 \nz\n\" style=\"fill:#ff7f0e;opacity:0.5;\"/>\n   </g>\n   <g id=\"patch_56\">\n    <path clip-path=\"url(#p949a3723f4)\" d=\"M 318.41221 109.993562 \nL 328.922428 109.993562 \nL 328.922428 109.993562 \nL 318.41221 109.993562 \nz\n\" style=\"fill:#ff7f0e;opacity:0.5;\"/>\n   </g>\n   <g id=\"patch_57\">\n    <path clip-path=\"url(#p949a3723f4)\" d=\"M 328.922428 109.993562 \nL 339.432646 109.993562 \nL 339.432646 109.993562 \nL 328.922428 109.993562 \nz\n\" style=\"fill:#ff7f0e;opacity:0.5;\"/>\n   </g>\n   <g id=\"patch_58\">\n    <path clip-path=\"url(#p949a3723f4)\" d=\"M 339.432646 109.993562 \nL 349.942863 109.993562 \nL 349.942863 109.993562 \nL 339.432646 109.993562 \nz\n\" style=\"fill:#ff7f0e;opacity:0.5;\"/>\n   </g>\n   <g id=\"patch_59\">\n    <path clip-path=\"url(#p949a3723f4)\" d=\"M 349.942863 109.993562 \nL 360.453081 109.993562 \nL 360.453081 109.993562 \nL 349.942863 109.993562 \nz\n\" style=\"fill:#ff7f0e;opacity:0.5;\"/>\n   </g>\n   <g id=\"patch_60\">\n    <path clip-path=\"url(#p949a3723f4)\" d=\"M 360.453081 109.993562 \nL 370.963299 109.993562 \nL 370.963299 109.993562 \nL 360.453081 109.993562 \nz\n\" style=\"fill:#ff7f0e;opacity:0.5;\"/>\n   </g>\n   <g id=\"patch_61\">\n    <path clip-path=\"url(#p949a3723f4)\" d=\"M 370.963299 109.993562 \nL 381.473517 109.993562 \nL 381.473517 109.993562 \nL 370.963299 109.993562 \nz\n\" style=\"fill:#ff7f0e;opacity:0.5;\"/>\n   </g>\n   <g id=\"patch_62\">\n    <path clip-path=\"url(#p949a3723f4)\" d=\"M 381.473517 109.993562 \nL 391.983735 109.993562 \nL 391.983735 109.993562 \nL 381.473517 109.993562 \nz\n\" style=\"fill:#ff7f0e;opacity:0.5;\"/>\n   </g>\n   <g id=\"patch_63\">\n    <path clip-path=\"url(#p949a3723f4)\" d=\"M 391.983735 109.993562 \nL 402.493953 109.993562 \nL 402.493953 109.596368 \nL 391.983735 109.596368 \nz\n\" style=\"fill:#ff7f0e;opacity:0.5;\"/>\n   </g>\n   <g id=\"matplotlib.axis_3\">\n    <g id=\"xtick_5\">\n     <g id=\"line2d_8\">\n      <g>\n       <use style=\"stroke:#000000;stroke-width:0.8;\" x=\"255.350903\" xlink:href=\"#mdafcd7a6d3\" y=\"109.993562\"/>\n      </g>\n     </g>\n     <g id=\"text_9\">\n      <!-- 5 -->\n      <g transform=\"translate(251.215278 126.871531)scale(0.13 -0.13)\">\n       <use xlink:href=\"#DejaVuSans-35\"/>\n      </g>\n     </g>\n    </g>\n    <g id=\"xtick_6\">\n     <g id=\"line2d_9\">\n      <g>\n       <use style=\"stroke:#000000;stroke-width:0.8;\" x=\"304.398586\" xlink:href=\"#mdafcd7a6d3\" y=\"109.993562\"/>\n      </g>\n     </g>\n     <g id=\"text_10\">\n      <!-- 10 -->\n      <g transform=\"translate(296.127336 126.871531)scale(0.13 -0.13)\">\n       <use xlink:href=\"#DejaVuSans-31\"/>\n       <use x=\"63.623047\" xlink:href=\"#DejaVuSans-30\"/>\n      </g>\n     </g>\n    </g>\n    <g id=\"xtick_7\">\n     <g id=\"line2d_10\">\n      <g>\n       <use style=\"stroke:#000000;stroke-width:0.8;\" x=\"353.446269\" xlink:href=\"#mdafcd7a6d3\" y=\"109.993562\"/>\n      </g>\n     </g>\n     <g id=\"text_11\">\n      <!-- 15 -->\n      <g transform=\"translate(345.175019 126.871531)scale(0.13 -0.13)\">\n       <use xlink:href=\"#DejaVuSans-31\"/>\n       <use x=\"63.623047\" xlink:href=\"#DejaVuSans-35\"/>\n      </g>\n     </g>\n    </g>\n    <g id=\"xtick_8\">\n     <g id=\"line2d_11\">\n      <g>\n       <use style=\"stroke:#000000;stroke-width:0.8;\" x=\"402.493953\" xlink:href=\"#mdafcd7a6d3\" y=\"109.993562\"/>\n      </g>\n     </g>\n     <g id=\"text_12\">\n      <!-- 20 -->\n      <g transform=\"translate(394.222703 126.871531)scale(0.13 -0.13)\">\n       <use xlink:href=\"#DejaVuSans-32\"/>\n       <use x=\"63.623047\" xlink:href=\"#DejaVuSans-30\"/>\n      </g>\n     </g>\n    </g>\n   </g>\n   <g id=\"matplotlib.axis_4\">\n    <g id=\"ytick_4\">\n     <g id=\"line2d_12\">\n      <g>\n       <use style=\"stroke:#000000;stroke-width:0.8;\" x=\"247.99375\" xlink:href=\"#m2e1dc62326\" y=\"109.993562\"/>\n      </g>\n     </g>\n     <g id=\"text_13\">\n      <!-- 0 -->\n      <g transform=\"translate(232.7225 114.932547)scale(0.13 -0.13)\">\n       <use xlink:href=\"#DejaVuSans-30\"/>\n      </g>\n     </g>\n    </g>\n    <g id=\"ytick_5\">\n     <g id=\"line2d_13\">\n      <g>\n       <use style=\"stroke:#000000;stroke-width:0.8;\" x=\"247.99375\" xlink:href=\"#m2e1dc62326\" y=\"76.894038\"/>\n      </g>\n     </g>\n     <g id=\"text_14\">\n      <!-- 250 -->\n      <g transform=\"translate(216.18 81.833022)scale(0.13 -0.13)\">\n       <use xlink:href=\"#DejaVuSans-32\"/>\n       <use x=\"63.623047\" xlink:href=\"#DejaVuSans-35\"/>\n       <use x=\"127.246094\" xlink:href=\"#DejaVuSans-30\"/>\n      </g>\n     </g>\n    </g>\n    <g id=\"ytick_6\">\n     <g id=\"line2d_14\">\n      <g>\n       <use style=\"stroke:#000000;stroke-width:0.8;\" x=\"247.99375\" xlink:href=\"#m2e1dc62326\" y=\"43.794513\"/>\n      </g>\n     </g>\n     <g id=\"text_15\">\n      <!-- 500 -->\n      <g transform=\"translate(216.18 48.733498)scale(0.13 -0.13)\">\n       <use xlink:href=\"#DejaVuSans-35\"/>\n       <use x=\"63.623047\" xlink:href=\"#DejaVuSans-30\"/>\n       <use x=\"127.246094\" xlink:href=\"#DejaVuSans-30\"/>\n      </g>\n     </g>\n    </g>\n   </g>\n   <g id=\"patch_64\">\n    <path d=\"M 247.99375 109.993562 \nL 247.99375 25.053562 \n\" style=\"fill:none;stroke:#000000;stroke-linecap:square;stroke-linejoin:miter;stroke-width:0.8;\"/>\n   </g>\n   <g id=\"patch_65\">\n    <path d=\"M 409.851105 109.993562 \nL 409.851105 25.053562 \n\" style=\"fill:none;stroke:#000000;stroke-linecap:square;stroke-linejoin:miter;stroke-width:0.8;\"/>\n   </g>\n   <g id=\"patch_66\">\n    <path d=\"M 247.99375 109.993562 \nL 409.851105 109.993562 \n\" style=\"fill:none;stroke:#000000;stroke-linecap:square;stroke-linejoin:miter;stroke-width:0.8;\"/>\n   </g>\n   <g id=\"patch_67\">\n    <path d=\"M 247.99375 25.053562 \nL 409.851105 25.053562 \n\" style=\"fill:none;stroke:#000000;stroke-linecap:square;stroke-linejoin:miter;stroke-width:0.8;\"/>\n   </g>\n   <g id=\"text_16\">\n    <!-- Anger vs. Neutral -->\n    <g transform=\"translate(260.779678 19.053562)scale(0.156 -0.156)\">\n     <defs>\n      <path d=\"M 2188 4044 \nL 1331 1722 \nL 3047 1722 \nL 2188 4044 \nz\nM 1831 4666 \nL 2547 4666 \nL 4325 0 \nL 3669 0 \nL 3244 1197 \nL 1141 1197 \nL 716 0 \nL 50 0 \nL 1831 4666 \nz\n\" id=\"DejaVuSans-41\" transform=\"scale(0.015625)\"/>\n      <path d=\"M 3513 2113 \nL 3513 0 \nL 2938 0 \nL 2938 2094 \nQ 2938 2591 2744 2837 \nQ 2550 3084 2163 3084 \nQ 1697 3084 1428 2787 \nQ 1159 2491 1159 1978 \nL 1159 0 \nL 581 0 \nL 581 3500 \nL 1159 3500 \nL 1159 2956 \nQ 1366 3272 1645 3428 \nQ 1925 3584 2291 3584 \nQ 2894 3584 3203 3211 \nQ 3513 2838 3513 2113 \nz\n\" id=\"DejaVuSans-6e\" transform=\"scale(0.015625)\"/>\n      <path d=\"M 2906 1791 \nQ 2906 2416 2648 2759 \nQ 2391 3103 1925 3103 \nQ 1463 3103 1205 2759 \nQ 947 2416 947 1791 \nQ 947 1169 1205 825 \nQ 1463 481 1925 481 \nQ 2391 481 2648 825 \nQ 2906 1169 2906 1791 \nz\nM 3481 434 \nQ 3481 -459 3084 -895 \nQ 2688 -1331 1869 -1331 \nQ 1566 -1331 1297 -1286 \nQ 1028 -1241 775 -1147 \nL 775 -588 \nQ 1028 -725 1275 -790 \nQ 1522 -856 1778 -856 \nQ 2344 -856 2625 -561 \nQ 2906 -266 2906 331 \nL 2906 616 \nQ 2728 306 2450 153 \nQ 2172 0 1784 0 \nQ 1141 0 747 490 \nQ 353 981 353 1791 \nQ 353 2603 747 3093 \nQ 1141 3584 1784 3584 \nQ 2172 3584 2450 3431 \nQ 2728 3278 2906 2969 \nL 2906 3500 \nL 3481 3500 \nL 3481 434 \nz\n\" id=\"DejaVuSans-67\" transform=\"scale(0.015625)\"/>\n     </defs>\n     <use xlink:href=\"#DejaVuSans-41\"/>\n     <use x=\"68.408203\" xlink:href=\"#DejaVuSans-6e\"/>\n     <use x=\"131.787109\" xlink:href=\"#DejaVuSans-67\"/>\n     <use x=\"195.263672\" xlink:href=\"#DejaVuSans-65\"/>\n     <use x=\"256.787109\" xlink:href=\"#DejaVuSans-72\"/>\n     <use x=\"297.900391\" xlink:href=\"#DejaVuSans-20\"/>\n     <use x=\"329.6875\" xlink:href=\"#DejaVuSans-76\"/>\n     <use x=\"388.867188\" xlink:href=\"#DejaVuSans-73\"/>\n     <use x=\"440.966797\" xlink:href=\"#DejaVuSans-2e\"/>\n     <use x=\"472.753906\" xlink:href=\"#DejaVuSans-20\"/>\n     <use x=\"504.541016\" xlink:href=\"#DejaVuSans-4e\"/>\n     <use x=\"579.345703\" xlink:href=\"#DejaVuSans-65\"/>\n     <use x=\"640.869141\" xlink:href=\"#DejaVuSans-75\"/>\n     <use x=\"704.248047\" xlink:href=\"#DejaVuSans-74\"/>\n     <use x=\"743.457031\" xlink:href=\"#DejaVuSans-72\"/>\n     <use x=\"784.570312\" xlink:href=\"#DejaVuSans-61\"/>\n     <use x=\"845.849609\" xlink:href=\"#DejaVuSans-6c\"/>\n    </g>\n   </g>\n  </g>\n  <g id=\"axes_3\">\n   <g id=\"patch_68\">\n    <path d=\"M 39.01375 246.973563 \nL 200.871105 246.973563 \nL 200.871105 162.033562 \nL 39.01375 162.033562 \nz\n\" style=\"fill:#ffffff;\"/>\n   </g>\n   <g id=\"patch_69\">\n    <path clip-path=\"url(#pe1d7868494)\" d=\"M 46.370903 246.973563 \nL 56.88112 246.973563 \nL 56.88112 246.973563 \nL 46.370903 246.973563 \nz\n\" style=\"fill:#1f77b4;opacity:0.5;\"/>\n   </g>\n   <g id=\"patch_70\">\n    <path clip-path=\"url(#pe1d7868494)\" d=\"M 56.88112 246.973563 \nL 67.391338 246.973563 \nL 67.391338 246.973563 \nL 56.88112 246.973563 \nz\n\" style=\"fill:#1f77b4;opacity:0.5;\"/>\n   </g>\n   <g id=\"patch_71\">\n    <path clip-path=\"url(#pe1d7868494)\" d=\"M 67.391338 246.973563 \nL 77.901556 246.973563 \nL 77.901556 246.046776 \nL 67.391338 246.046776 \nz\n\" style=\"fill:#1f77b4;opacity:0.5;\"/>\n   </g>\n   <g id=\"patch_72\">\n    <path clip-path=\"url(#pe1d7868494)\" d=\"M 77.901556 246.973563 \nL 88.411774 246.973563 \nL 88.411774 240.221259 \nL 77.901556 240.221259 \nz\n\" style=\"fill:#1f77b4;opacity:0.5;\"/>\n   </g>\n   <g id=\"patch_73\">\n    <path clip-path=\"url(#pe1d7868494)\" d=\"M 88.411774 246.973563 \nL 98.921992 246.973563 \nL 98.921992 239.559269 \nL 88.411774 239.559269 \nz\n\" style=\"fill:#1f77b4;opacity:0.5;\"/>\n   </g>\n   <g id=\"patch_74\">\n    <path clip-path=\"url(#pe1d7868494)\" d=\"M 98.921992 246.973563 \nL 109.43221 246.973563 \nL 109.43221 245.517183 \nL 98.921992 245.517183 \nz\n\" style=\"fill:#1f77b4;opacity:0.5;\"/>\n   </g>\n   <g id=\"patch_75\">\n    <path clip-path=\"url(#pe1d7868494)\" d=\"M 109.43221 246.973563 \nL 119.942428 246.973563 \nL 119.942428 239.824065 \nL 109.43221 239.824065 \nz\n\" style=\"fill:#1f77b4;opacity:0.5;\"/>\n   </g>\n   <g id=\"patch_76\">\n    <path clip-path=\"url(#pe1d7868494)\" d=\"M 119.942428 246.973563 \nL 130.452646 246.973563 \nL 130.452646 239.956463 \nL 119.942428 239.956463 \nz\n\" style=\"fill:#1f77b4;opacity:0.5;\"/>\n   </g>\n   <g id=\"patch_77\">\n    <path clip-path=\"url(#pe1d7868494)\" d=\"M 130.452646 246.973563 \nL 140.962863 246.973563 \nL 140.962863 166.078324 \nL 130.452646 166.078324 \nz\n\" style=\"fill:#1f77b4;opacity:0.5;\"/>\n   </g>\n   <g id=\"patch_78\">\n    <path clip-path=\"url(#pe1d7868494)\" d=\"M 140.962863 246.973563 \nL 151.473081 246.973563 \nL 151.473081 177.596959 \nL 140.962863 177.596959 \nz\n\" style=\"fill:#1f77b4;opacity:0.5;\"/>\n   </g>\n   <g id=\"patch_79\">\n    <path clip-path=\"url(#pe1d7868494)\" d=\"M 151.473081 246.973563 \nL 161.983299 246.973563 \nL 161.983299 182.628087 \nL 151.473081 182.628087 \nz\n\" style=\"fill:#1f77b4;opacity:0.5;\"/>\n   </g>\n   <g id=\"patch_80\">\n    <path clip-path=\"url(#pe1d7868494)\" d=\"M 161.983299 246.973563 \nL 172.493517 246.973563 \nL 172.493517 173.625016 \nL 161.983299 173.625016 \nz\n\" style=\"fill:#1f77b4;opacity:0.5;\"/>\n   </g>\n   <g id=\"patch_81\">\n    <path clip-path=\"url(#pe1d7868494)\" d=\"M 172.493517 246.973563 \nL 183.003735 246.973563 \nL 183.003735 223.141905 \nL 172.493517 223.141905 \nz\n\" style=\"fill:#1f77b4;opacity:0.5;\"/>\n   </g>\n   <g id=\"patch_82\">\n    <path clip-path=\"url(#pe1d7868494)\" d=\"M 183.003735 246.973563 \nL 193.513953 246.973563 \nL 193.513953 198.780655 \nL 183.003735 198.780655 \nz\n\" style=\"fill:#1f77b4;opacity:0.5;\"/>\n   </g>\n   <g id=\"patch_83\">\n    <path clip-path=\"url(#pe1d7868494)\" d=\"M 46.370903 246.973563 \nL 56.88112 246.973563 \nL 56.88112 246.973563 \nL 46.370903 246.973563 \nz\n\" style=\"fill:#ff7f0e;opacity:0.5;\"/>\n   </g>\n   <g id=\"patch_84\">\n    <path clip-path=\"url(#pe1d7868494)\" d=\"M 56.88112 246.973563 \nL 67.391338 246.973563 \nL 67.391338 246.973563 \nL 56.88112 246.973563 \nz\n\" style=\"fill:#ff7f0e;opacity:0.5;\"/>\n   </g>\n   <g id=\"patch_85\">\n    <path clip-path=\"url(#pe1d7868494)\" d=\"M 67.391338 246.973563 \nL 77.901556 246.973563 \nL 77.901556 246.179174 \nL 67.391338 246.179174 \nz\n\" style=\"fill:#ff7f0e;opacity:0.5;\"/>\n   </g>\n   <g id=\"patch_86\">\n    <path clip-path=\"url(#pe1d7868494)\" d=\"M 77.901556 246.973563 \nL 88.411774 246.973563 \nL 88.411774 244.325601 \nL 77.901556 244.325601 \nz\n\" style=\"fill:#ff7f0e;opacity:0.5;\"/>\n   </g>\n   <g id=\"patch_87\">\n    <path clip-path=\"url(#pe1d7868494)\" d=\"M 88.411774 246.973563 \nL 98.921992 246.973563 \nL 98.921992 236.514113 \nL 88.411774 236.514113 \nz\n\" style=\"fill:#ff7f0e;opacity:0.5;\"/>\n   </g>\n   <g id=\"patch_88\">\n    <path clip-path=\"url(#pe1d7868494)\" d=\"M 98.921992 246.973563 \nL 109.43221 246.973563 \nL 109.43221 245.252387 \nL 98.921992 245.252387 \nz\n\" style=\"fill:#ff7f0e;opacity:0.5;\"/>\n   </g>\n   <g id=\"patch_89\">\n    <path clip-path=\"url(#pe1d7868494)\" d=\"M 109.43221 246.973563 \nL 119.942428 246.973563 \nL 119.942428 244.457999 \nL 109.43221 244.457999 \nz\n\" style=\"fill:#ff7f0e;opacity:0.5;\"/>\n   </g>\n   <g id=\"patch_90\">\n    <path clip-path=\"url(#pe1d7868494)\" d=\"M 119.942428 246.973563 \nL 130.452646 246.973563 \nL 130.452646 246.179174 \nL 119.942428 246.179174 \nz\n\" style=\"fill:#ff7f0e;opacity:0.5;\"/>\n   </g>\n   <g id=\"patch_91\">\n    <path clip-path=\"url(#pe1d7868494)\" d=\"M 130.452646 246.973563 \nL 140.962863 246.973563 \nL 140.962863 238.10289 \nL 130.452646 238.10289 \nz\n\" style=\"fill:#ff7f0e;opacity:0.5;\"/>\n   </g>\n   <g id=\"patch_92\">\n    <path clip-path=\"url(#pe1d7868494)\" d=\"M 140.962863 246.973563 \nL 151.473081 246.973563 \nL 151.473081 233.998549 \nL 140.962863 233.998549 \nz\n\" style=\"fill:#ff7f0e;opacity:0.5;\"/>\n   </g>\n   <g id=\"patch_93\">\n    <path clip-path=\"url(#pe1d7868494)\" d=\"M 151.473081 246.973563 \nL 161.983299 246.973563 \nL 161.983299 231.350587 \nL 151.473081 231.350587 \nz\n\" style=\"fill:#ff7f0e;opacity:0.5;\"/>\n   </g>\n   <g id=\"patch_94\">\n    <path clip-path=\"url(#pe1d7868494)\" d=\"M 161.983299 246.973563 \nL 172.493517 246.973563 \nL 172.493517 236.778909 \nL 161.983299 236.778909 \nz\n\" style=\"fill:#ff7f0e;opacity:0.5;\"/>\n   </g>\n   <g id=\"patch_95\">\n    <path clip-path=\"url(#pe1d7868494)\" d=\"M 172.493517 246.973563 \nL 183.003735 246.973563 \nL 183.003735 239.294473 \nL 172.493517 239.294473 \nz\n\" style=\"fill:#ff7f0e;opacity:0.5;\"/>\n   </g>\n   <g id=\"patch_96\">\n    <path clip-path=\"url(#pe1d7868494)\" d=\"M 183.003735 246.973563 \nL 193.513953 246.973563 \nL 193.513953 237.705696 \nL 183.003735 237.705696 \nz\n\" style=\"fill:#ff7f0e;opacity:0.5;\"/>\n   </g>\n   <g id=\"matplotlib.axis_5\">\n    <g id=\"xtick_9\">\n     <g id=\"line2d_15\">\n      <g>\n       <use style=\"stroke:#000000;stroke-width:0.8;\" x=\"46.370903\" xlink:href=\"#mdafcd7a6d3\" y=\"246.973563\"/>\n      </g>\n     </g>\n     <g id=\"text_17\">\n      <!-- 5 -->\n      <g transform=\"translate(42.235278 263.851531)scale(0.13 -0.13)\">\n       <use xlink:href=\"#DejaVuSans-35\"/>\n      </g>\n     </g>\n    </g>\n    <g id=\"xtick_10\">\n     <g id=\"line2d_16\">\n      <g>\n       <use style=\"stroke:#000000;stroke-width:0.8;\" x=\"95.418586\" xlink:href=\"#mdafcd7a6d3\" y=\"246.973563\"/>\n      </g>\n     </g>\n     <g id=\"text_18\">\n      <!-- 10 -->\n      <g transform=\"translate(87.147336 263.851531)scale(0.13 -0.13)\">\n       <use xlink:href=\"#DejaVuSans-31\"/>\n       <use x=\"63.623047\" xlink:href=\"#DejaVuSans-30\"/>\n      </g>\n     </g>\n    </g>\n    <g id=\"xtick_11\">\n     <g id=\"line2d_17\">\n      <g>\n       <use style=\"stroke:#000000;stroke-width:0.8;\" x=\"144.466269\" xlink:href=\"#mdafcd7a6d3\" y=\"246.973563\"/>\n      </g>\n     </g>\n     <g id=\"text_19\">\n      <!-- 15 -->\n      <g transform=\"translate(136.195019 263.851531)scale(0.13 -0.13)\">\n       <use xlink:href=\"#DejaVuSans-31\"/>\n       <use x=\"63.623047\" xlink:href=\"#DejaVuSans-35\"/>\n      </g>\n     </g>\n    </g>\n    <g id=\"xtick_12\">\n     <g id=\"line2d_18\">\n      <g>\n       <use style=\"stroke:#000000;stroke-width:0.8;\" x=\"193.513953\" xlink:href=\"#mdafcd7a6d3\" y=\"246.973563\"/>\n      </g>\n     </g>\n     <g id=\"text_20\">\n      <!-- 20 -->\n      <g transform=\"translate(185.242703 263.851531)scale(0.13 -0.13)\">\n       <use xlink:href=\"#DejaVuSans-32\"/>\n       <use x=\"63.623047\" xlink:href=\"#DejaVuSans-30\"/>\n      </g>\n     </g>\n    </g>\n   </g>\n   <g id=\"matplotlib.axis_6\">\n    <g id=\"ytick_7\">\n     <g id=\"line2d_19\">\n      <g>\n       <use style=\"stroke:#000000;stroke-width:0.8;\" x=\"39.01375\" xlink:href=\"#m2e1dc62326\" y=\"246.973563\"/>\n      </g>\n     </g>\n     <g id=\"text_21\">\n      <!-- 0 -->\n      <g transform=\"translate(23.7425 251.912547)scale(0.13 -0.13)\">\n       <use xlink:href=\"#DejaVuSans-30\"/>\n      </g>\n     </g>\n    </g>\n    <g id=\"ytick_8\">\n     <g id=\"line2d_20\">\n      <g>\n       <use style=\"stroke:#000000;stroke-width:0.8;\" x=\"39.01375\" xlink:href=\"#m2e1dc62326\" y=\"213.874038\"/>\n      </g>\n     </g>\n     <g id=\"text_22\">\n      <!-- 250 -->\n      <g transform=\"translate(7.2 218.813022)scale(0.13 -0.13)\">\n       <use xlink:href=\"#DejaVuSans-32\"/>\n       <use x=\"63.623047\" xlink:href=\"#DejaVuSans-35\"/>\n       <use x=\"127.246094\" xlink:href=\"#DejaVuSans-30\"/>\n      </g>\n     </g>\n    </g>\n    <g id=\"ytick_9\">\n     <g id=\"line2d_21\">\n      <g>\n       <use style=\"stroke:#000000;stroke-width:0.8;\" x=\"39.01375\" xlink:href=\"#m2e1dc62326\" y=\"180.774513\"/>\n      </g>\n     </g>\n     <g id=\"text_23\">\n      <!-- 500 -->\n      <g transform=\"translate(7.2 185.713498)scale(0.13 -0.13)\">\n       <use xlink:href=\"#DejaVuSans-35\"/>\n       <use x=\"63.623047\" xlink:href=\"#DejaVuSans-30\"/>\n       <use x=\"127.246094\" xlink:href=\"#DejaVuSans-30\"/>\n      </g>\n     </g>\n    </g>\n   </g>\n   <g id=\"patch_97\">\n    <path d=\"M 39.01375 246.973563 \nL 39.01375 162.033563 \n\" style=\"fill:none;stroke:#000000;stroke-linecap:square;stroke-linejoin:miter;stroke-width:0.8;\"/>\n   </g>\n   <g id=\"patch_98\">\n    <path d=\"M 200.871105 246.973563 \nL 200.871105 162.033563 \n\" style=\"fill:none;stroke:#000000;stroke-linecap:square;stroke-linejoin:miter;stroke-width:0.8;\"/>\n   </g>\n   <g id=\"patch_99\">\n    <path d=\"M 39.01375 246.973563 \nL 200.871105 246.973563 \n\" style=\"fill:none;stroke:#000000;stroke-linecap:square;stroke-linejoin:miter;stroke-width:0.8;\"/>\n   </g>\n   <g id=\"patch_100\">\n    <path d=\"M 39.01375 162.033562 \nL 200.871105 162.033562 \n\" style=\"fill:none;stroke:#000000;stroke-linecap:square;stroke-linejoin:miter;stroke-width:0.8;\"/>\n   </g>\n   <g id=\"text_24\">\n    <!-- Sad vs. Neutral -->\n    <g transform=\"translate(60.352865 156.033562)scale(0.156 -0.156)\">\n     <defs>\n      <path d=\"M 3425 4513 \nL 3425 3897 \nQ 3066 4069 2747 4153 \nQ 2428 4238 2131 4238 \nQ 1616 4238 1336 4038 \nQ 1056 3838 1056 3469 \nQ 1056 3159 1242 3001 \nQ 1428 2844 1947 2747 \nL 2328 2669 \nQ 3034 2534 3370 2195 \nQ 3706 1856 3706 1288 \nQ 3706 609 3251 259 \nQ 2797 -91 1919 -91 \nQ 1588 -91 1214 -16 \nQ 841 59 441 206 \nL 441 856 \nQ 825 641 1194 531 \nQ 1563 422 1919 422 \nQ 2459 422 2753 634 \nQ 3047 847 3047 1241 \nQ 3047 1584 2836 1778 \nQ 2625 1972 2144 2069 \nL 1759 2144 \nQ 1053 2284 737 2584 \nQ 422 2884 422 3419 \nQ 422 4038 858 4394 \nQ 1294 4750 2059 4750 \nQ 2388 4750 2728 4690 \nQ 3069 4631 3425 4513 \nz\n\" id=\"DejaVuSans-53\" transform=\"scale(0.015625)\"/>\n      <path d=\"M 2906 2969 \nL 2906 4863 \nL 3481 4863 \nL 3481 0 \nL 2906 0 \nL 2906 525 \nQ 2725 213 2448 61 \nQ 2172 -91 1784 -91 \nQ 1150 -91 751 415 \nQ 353 922 353 1747 \nQ 353 2572 751 3078 \nQ 1150 3584 1784 3584 \nQ 2172 3584 2448 3432 \nQ 2725 3281 2906 2969 \nz\nM 947 1747 \nQ 947 1113 1208 752 \nQ 1469 391 1925 391 \nQ 2381 391 2643 752 \nQ 2906 1113 2906 1747 \nQ 2906 2381 2643 2742 \nQ 2381 3103 1925 3103 \nQ 1469 3103 1208 2742 \nQ 947 2381 947 1747 \nz\n\" id=\"DejaVuSans-64\" transform=\"scale(0.015625)\"/>\n     </defs>\n     <use xlink:href=\"#DejaVuSans-53\"/>\n     <use x=\"63.476562\" xlink:href=\"#DejaVuSans-61\"/>\n     <use x=\"124.755859\" xlink:href=\"#DejaVuSans-64\"/>\n     <use x=\"188.232422\" xlink:href=\"#DejaVuSans-20\"/>\n     <use x=\"220.019531\" xlink:href=\"#DejaVuSans-76\"/>\n     <use x=\"279.199219\" xlink:href=\"#DejaVuSans-73\"/>\n     <use x=\"331.298828\" xlink:href=\"#DejaVuSans-2e\"/>\n     <use x=\"363.085938\" xlink:href=\"#DejaVuSans-20\"/>\n     <use x=\"394.873047\" xlink:href=\"#DejaVuSans-4e\"/>\n     <use x=\"469.677734\" xlink:href=\"#DejaVuSans-65\"/>\n     <use x=\"531.201172\" xlink:href=\"#DejaVuSans-75\"/>\n     <use x=\"594.580078\" xlink:href=\"#DejaVuSans-74\"/>\n     <use x=\"633.789062\" xlink:href=\"#DejaVuSans-72\"/>\n     <use x=\"674.902344\" xlink:href=\"#DejaVuSans-61\"/>\n     <use x=\"736.181641\" xlink:href=\"#DejaVuSans-6c\"/>\n    </g>\n   </g>\n  </g>\n  <g id=\"axes_4\">\n   <g id=\"patch_101\">\n    <path d=\"M 247.99375 246.973563 \nL 409.851105 246.973563 \nL 409.851105 162.033562 \nL 247.99375 162.033562 \nz\n\" style=\"fill:#ffffff;\"/>\n   </g>\n   <g id=\"patch_102\">\n    <path clip-path=\"url(#p52a0409e6a)\" d=\"M 255.350903 246.973563 \nL 265.86112 246.973563 \nL 265.86112 246.973563 \nL 255.350903 246.973563 \nz\n\" style=\"fill:#1f77b4;opacity:0.5;\"/>\n   </g>\n   <g id=\"patch_103\">\n    <path clip-path=\"url(#p52a0409e6a)\" d=\"M 265.86112 246.973563 \nL 276.371338 246.973563 \nL 276.371338 246.973563 \nL 265.86112 246.973563 \nz\n\" style=\"fill:#1f77b4;opacity:0.5;\"/>\n   </g>\n   <g id=\"patch_104\">\n    <path clip-path=\"url(#p52a0409e6a)\" d=\"M 276.371338 246.973563 \nL 286.881556 246.973563 \nL 286.881556 246.046776 \nL 276.371338 246.046776 \nz\n\" style=\"fill:#1f77b4;opacity:0.5;\"/>\n   </g>\n   <g id=\"patch_105\">\n    <path clip-path=\"url(#p52a0409e6a)\" d=\"M 286.881556 246.973563 \nL 297.391774 246.973563 \nL 297.391774 240.221259 \nL 286.881556 240.221259 \nz\n\" style=\"fill:#1f77b4;opacity:0.5;\"/>\n   </g>\n   <g id=\"patch_106\">\n    <path clip-path=\"url(#p52a0409e6a)\" d=\"M 297.391774 246.973563 \nL 307.901992 246.973563 \nL 307.901992 239.559269 \nL 297.391774 239.559269 \nz\n\" style=\"fill:#1f77b4;opacity:0.5;\"/>\n   </g>\n   <g id=\"patch_107\">\n    <path clip-path=\"url(#p52a0409e6a)\" d=\"M 307.901992 246.973563 \nL 318.41221 246.973563 \nL 318.41221 245.517183 \nL 307.901992 245.517183 \nz\n\" style=\"fill:#1f77b4;opacity:0.5;\"/>\n   </g>\n   <g id=\"patch_108\">\n    <path clip-path=\"url(#p52a0409e6a)\" d=\"M 318.41221 246.973563 \nL 328.922428 246.973563 \nL 328.922428 239.824065 \nL 318.41221 239.824065 \nz\n\" style=\"fill:#1f77b4;opacity:0.5;\"/>\n   </g>\n   <g id=\"patch_109\">\n    <path clip-path=\"url(#p52a0409e6a)\" d=\"M 328.922428 246.973563 \nL 339.432646 246.973563 \nL 339.432646 239.956463 \nL 328.922428 239.956463 \nz\n\" style=\"fill:#1f77b4;opacity:0.5;\"/>\n   </g>\n   <g id=\"patch_110\">\n    <path clip-path=\"url(#p52a0409e6a)\" d=\"M 339.432646 246.973563 \nL 349.942863 246.973563 \nL 349.942863 166.078324 \nL 339.432646 166.078324 \nz\n\" style=\"fill:#1f77b4;opacity:0.5;\"/>\n   </g>\n   <g id=\"patch_111\">\n    <path clip-path=\"url(#p52a0409e6a)\" d=\"M 349.942863 246.973563 \nL 360.453081 246.973563 \nL 360.453081 177.596959 \nL 349.942863 177.596959 \nz\n\" style=\"fill:#1f77b4;opacity:0.5;\"/>\n   </g>\n   <g id=\"patch_112\">\n    <path clip-path=\"url(#p52a0409e6a)\" d=\"M 360.453081 246.973563 \nL 370.963299 246.973563 \nL 370.963299 182.628087 \nL 360.453081 182.628087 \nz\n\" style=\"fill:#1f77b4;opacity:0.5;\"/>\n   </g>\n   <g id=\"patch_113\">\n    <path clip-path=\"url(#p52a0409e6a)\" d=\"M 370.963299 246.973563 \nL 381.473517 246.973563 \nL 381.473517 173.625016 \nL 370.963299 173.625016 \nz\n\" style=\"fill:#1f77b4;opacity:0.5;\"/>\n   </g>\n   <g id=\"patch_114\">\n    <path clip-path=\"url(#p52a0409e6a)\" d=\"M 381.473517 246.973563 \nL 391.983735 246.973563 \nL 391.983735 223.141905 \nL 381.473517 223.141905 \nz\n\" style=\"fill:#1f77b4;opacity:0.5;\"/>\n   </g>\n   <g id=\"patch_115\">\n    <path clip-path=\"url(#p52a0409e6a)\" d=\"M 391.983735 246.973563 \nL 402.493953 246.973563 \nL 402.493953 198.780655 \nL 391.983735 198.780655 \nz\n\" style=\"fill:#1f77b4;opacity:0.5;\"/>\n   </g>\n   <g id=\"patch_116\">\n    <path clip-path=\"url(#p52a0409e6a)\" d=\"M 255.350903 246.973563 \nL 265.86112 246.973563 \nL 265.86112 246.973563 \nL 255.350903 246.973563 \nz\n\" style=\"fill:#ff7f0e;opacity:0.5;\"/>\n   </g>\n   <g id=\"patch_117\">\n    <path clip-path=\"url(#p52a0409e6a)\" d=\"M 265.86112 246.973563 \nL 276.371338 246.973563 \nL 276.371338 246.973563 \nL 265.86112 246.973563 \nz\n\" style=\"fill:#ff7f0e;opacity:0.5;\"/>\n   </g>\n   <g id=\"patch_118\">\n    <path clip-path=\"url(#p52a0409e6a)\" d=\"M 276.371338 246.973563 \nL 286.881556 246.973563 \nL 286.881556 246.973563 \nL 276.371338 246.973563 \nz\n\" style=\"fill:#ff7f0e;opacity:0.5;\"/>\n   </g>\n   <g id=\"patch_119\">\n    <path clip-path=\"url(#p52a0409e6a)\" d=\"M 286.881556 246.973563 \nL 297.391774 246.973563 \nL 297.391774 246.973563 \nL 286.881556 246.973563 \nz\n\" style=\"fill:#ff7f0e;opacity:0.5;\"/>\n   </g>\n   <g id=\"patch_120\">\n    <path clip-path=\"url(#p52a0409e6a)\" d=\"M 297.391774 246.973563 \nL 307.901992 246.973563 \nL 307.901992 246.973563 \nL 297.391774 246.973563 \nz\n\" style=\"fill:#ff7f0e;opacity:0.5;\"/>\n   </g>\n   <g id=\"patch_121\">\n    <path clip-path=\"url(#p52a0409e6a)\" d=\"M 307.901992 246.973563 \nL 318.41221 246.973563 \nL 318.41221 246.973563 \nL 307.901992 246.973563 \nz\n\" style=\"fill:#ff7f0e;opacity:0.5;\"/>\n   </g>\n   <g id=\"patch_122\">\n    <path clip-path=\"url(#p52a0409e6a)\" d=\"M 318.41221 246.973563 \nL 328.922428 246.973563 \nL 328.922428 246.973563 \nL 318.41221 246.973563 \nz\n\" style=\"fill:#ff7f0e;opacity:0.5;\"/>\n   </g>\n   <g id=\"patch_123\">\n    <path clip-path=\"url(#p52a0409e6a)\" d=\"M 328.922428 246.973563 \nL 339.432646 246.973563 \nL 339.432646 246.973563 \nL 328.922428 246.973563 \nz\n\" style=\"fill:#ff7f0e;opacity:0.5;\"/>\n   </g>\n   <g id=\"patch_124\">\n    <path clip-path=\"url(#p52a0409e6a)\" d=\"M 339.432646 246.973563 \nL 349.942863 246.973563 \nL 349.942863 243.134018 \nL 339.432646 243.134018 \nz\n\" style=\"fill:#ff7f0e;opacity:0.5;\"/>\n   </g>\n   <g id=\"patch_125\">\n    <path clip-path=\"url(#p52a0409e6a)\" d=\"M 349.942863 246.973563 \nL 360.453081 246.973563 \nL 360.453081 246.973563 \nL 349.942863 246.973563 \nz\n\" style=\"fill:#ff7f0e;opacity:0.5;\"/>\n   </g>\n   <g id=\"patch_126\">\n    <path clip-path=\"url(#p52a0409e6a)\" d=\"M 360.453081 246.973563 \nL 370.963299 246.973563 \nL 370.963299 246.973563 \nL 360.453081 246.973563 \nz\n\" style=\"fill:#ff7f0e;opacity:0.5;\"/>\n   </g>\n   <g id=\"patch_127\">\n    <path clip-path=\"url(#p52a0409e6a)\" d=\"M 370.963299 246.973563 \nL 381.473517 246.973563 \nL 381.473517 246.973563 \nL 370.963299 246.973563 \nz\n\" style=\"fill:#ff7f0e;opacity:0.5;\"/>\n   </g>\n   <g id=\"patch_128\">\n    <path clip-path=\"url(#p52a0409e6a)\" d=\"M 381.473517 246.973563 \nL 391.983735 246.973563 \nL 391.983735 239.029677 \nL 381.473517 239.029677 \nz\n\" style=\"fill:#ff7f0e;opacity:0.5;\"/>\n   </g>\n   <g id=\"patch_129\">\n    <path clip-path=\"url(#p52a0409e6a)\" d=\"M 391.983735 246.973563 \nL 402.493953 246.973563 \nL 402.493953 238.235288 \nL 391.983735 238.235288 \nz\n\" style=\"fill:#ff7f0e;opacity:0.5;\"/>\n   </g>\n   <g id=\"matplotlib.axis_7\">\n    <g id=\"xtick_13\">\n     <g id=\"line2d_22\">\n      <g>\n       <use style=\"stroke:#000000;stroke-width:0.8;\" x=\"255.350903\" xlink:href=\"#mdafcd7a6d3\" y=\"246.973563\"/>\n      </g>\n     </g>\n     <g id=\"text_25\">\n      <!-- 5 -->\n      <g transform=\"translate(251.215278 263.851531)scale(0.13 -0.13)\">\n       <use xlink:href=\"#DejaVuSans-35\"/>\n      </g>\n     </g>\n    </g>\n    <g id=\"xtick_14\">\n     <g id=\"line2d_23\">\n      <g>\n       <use style=\"stroke:#000000;stroke-width:0.8;\" x=\"304.398586\" xlink:href=\"#mdafcd7a6d3\" y=\"246.973563\"/>\n      </g>\n     </g>\n     <g id=\"text_26\">\n      <!-- 10 -->\n      <g transform=\"translate(296.127336 263.851531)scale(0.13 -0.13)\">\n       <use xlink:href=\"#DejaVuSans-31\"/>\n       <use x=\"63.623047\" xlink:href=\"#DejaVuSans-30\"/>\n      </g>\n     </g>\n    </g>\n    <g id=\"xtick_15\">\n     <g id=\"line2d_24\">\n      <g>\n       <use style=\"stroke:#000000;stroke-width:0.8;\" x=\"353.446269\" xlink:href=\"#mdafcd7a6d3\" y=\"246.973563\"/>\n      </g>\n     </g>\n     <g id=\"text_27\">\n      <!-- 15 -->\n      <g transform=\"translate(345.175019 263.851531)scale(0.13 -0.13)\">\n       <use xlink:href=\"#DejaVuSans-31\"/>\n       <use x=\"63.623047\" xlink:href=\"#DejaVuSans-35\"/>\n      </g>\n     </g>\n    </g>\n    <g id=\"xtick_16\">\n     <g id=\"line2d_25\">\n      <g>\n       <use style=\"stroke:#000000;stroke-width:0.8;\" x=\"402.493953\" xlink:href=\"#mdafcd7a6d3\" y=\"246.973563\"/>\n      </g>\n     </g>\n     <g id=\"text_28\">\n      <!-- 20 -->\n      <g transform=\"translate(394.222703 263.851531)scale(0.13 -0.13)\">\n       <use xlink:href=\"#DejaVuSans-32\"/>\n       <use x=\"63.623047\" xlink:href=\"#DejaVuSans-30\"/>\n      </g>\n     </g>\n    </g>\n   </g>\n   <g id=\"matplotlib.axis_8\">\n    <g id=\"ytick_10\">\n     <g id=\"line2d_26\">\n      <g>\n       <use style=\"stroke:#000000;stroke-width:0.8;\" x=\"247.99375\" xlink:href=\"#m2e1dc62326\" y=\"246.973563\"/>\n      </g>\n     </g>\n     <g id=\"text_29\">\n      <!-- 0 -->\n      <g transform=\"translate(232.7225 251.912547)scale(0.13 -0.13)\">\n       <use xlink:href=\"#DejaVuSans-30\"/>\n      </g>\n     </g>\n    </g>\n    <g id=\"ytick_11\">\n     <g id=\"line2d_27\">\n      <g>\n       <use style=\"stroke:#000000;stroke-width:0.8;\" x=\"247.99375\" xlink:href=\"#m2e1dc62326\" y=\"213.874038\"/>\n      </g>\n     </g>\n     <g id=\"text_30\">\n      <!-- 250 -->\n      <g transform=\"translate(216.18 218.813022)scale(0.13 -0.13)\">\n       <use xlink:href=\"#DejaVuSans-32\"/>\n       <use x=\"63.623047\" xlink:href=\"#DejaVuSans-35\"/>\n       <use x=\"127.246094\" xlink:href=\"#DejaVuSans-30\"/>\n      </g>\n     </g>\n    </g>\n    <g id=\"ytick_12\">\n     <g id=\"line2d_28\">\n      <g>\n       <use style=\"stroke:#000000;stroke-width:0.8;\" x=\"247.99375\" xlink:href=\"#m2e1dc62326\" y=\"180.774513\"/>\n      </g>\n     </g>\n     <g id=\"text_31\">\n      <!-- 500 -->\n      <g transform=\"translate(216.18 185.713498)scale(0.13 -0.13)\">\n       <use xlink:href=\"#DejaVuSans-35\"/>\n       <use x=\"63.623047\" xlink:href=\"#DejaVuSans-30\"/>\n       <use x=\"127.246094\" xlink:href=\"#DejaVuSans-30\"/>\n      </g>\n     </g>\n    </g>\n   </g>\n   <g id=\"patch_130\">\n    <path d=\"M 247.99375 246.973563 \nL 247.99375 162.033563 \n\" style=\"fill:none;stroke:#000000;stroke-linecap:square;stroke-linejoin:miter;stroke-width:0.8;\"/>\n   </g>\n   <g id=\"patch_131\">\n    <path d=\"M 409.851105 246.973563 \nL 409.851105 162.033563 \n\" style=\"fill:none;stroke:#000000;stroke-linecap:square;stroke-linejoin:miter;stroke-width:0.8;\"/>\n   </g>\n   <g id=\"patch_132\">\n    <path d=\"M 247.99375 246.973563 \nL 409.851105 246.973563 \n\" style=\"fill:none;stroke:#000000;stroke-linecap:square;stroke-linejoin:miter;stroke-width:0.8;\"/>\n   </g>\n   <g id=\"patch_133\">\n    <path d=\"M 247.99375 162.033562 \nL 409.851105 162.033562 \n\" style=\"fill:none;stroke:#000000;stroke-linecap:square;stroke-linejoin:miter;stroke-width:0.8;\"/>\n   </g>\n   <g id=\"text_32\">\n    <!-- Surprise vs. Neutral -->\n    <g transform=\"translate(251.726803 156.033562)scale(0.156 -0.156)\">\n     <defs>\n      <path d=\"M 603 3500 \nL 1178 3500 \nL 1178 0 \nL 603 0 \nL 603 3500 \nz\nM 603 4863 \nL 1178 4863 \nL 1178 4134 \nL 603 4134 \nL 603 4863 \nz\n\" id=\"DejaVuSans-69\" transform=\"scale(0.015625)\"/>\n     </defs>\n     <use xlink:href=\"#DejaVuSans-53\"/>\n     <use x=\"63.476562\" xlink:href=\"#DejaVuSans-75\"/>\n     <use x=\"126.855469\" xlink:href=\"#DejaVuSans-72\"/>\n     <use x=\"167.96875\" xlink:href=\"#DejaVuSans-70\"/>\n     <use x=\"231.445312\" xlink:href=\"#DejaVuSans-72\"/>\n     <use x=\"272.558594\" xlink:href=\"#DejaVuSans-69\"/>\n     <use x=\"300.341797\" xlink:href=\"#DejaVuSans-73\"/>\n     <use x=\"352.441406\" xlink:href=\"#DejaVuSans-65\"/>\n     <use x=\"413.964844\" xlink:href=\"#DejaVuSans-20\"/>\n     <use x=\"445.751953\" xlink:href=\"#DejaVuSans-76\"/>\n     <use x=\"504.931641\" xlink:href=\"#DejaVuSans-73\"/>\n     <use x=\"557.03125\" xlink:href=\"#DejaVuSans-2e\"/>\n     <use x=\"588.818359\" xlink:href=\"#DejaVuSans-20\"/>\n     <use x=\"620.605469\" xlink:href=\"#DejaVuSans-4e\"/>\n     <use x=\"695.410156\" xlink:href=\"#DejaVuSans-65\"/>\n     <use x=\"756.933594\" xlink:href=\"#DejaVuSans-75\"/>\n     <use x=\"820.3125\" xlink:href=\"#DejaVuSans-74\"/>\n     <use x=\"859.521484\" xlink:href=\"#DejaVuSans-72\"/>\n     <use x=\"900.634766\" xlink:href=\"#DejaVuSans-61\"/>\n     <use x=\"961.914062\" xlink:href=\"#DejaVuSans-6c\"/>\n    </g>\n   </g>\n  </g>\n </g>\n <defs>\n  <clipPath id=\"pbee47f7bca\">\n   <rect height=\"84.94\" width=\"161.857355\" x=\"39.01375\" y=\"25.053562\"/>\n  </clipPath>\n  <clipPath id=\"p949a3723f4\">\n   <rect height=\"84.94\" width=\"161.857355\" x=\"247.99375\" y=\"25.053562\"/>\n  </clipPath>\n  <clipPath id=\"pe1d7868494\">\n   <rect height=\"84.94\" width=\"161.857355\" x=\"39.01375\" y=\"162.033562\"/>\n  </clipPath>\n  <clipPath id=\"p52a0409e6a\">\n   <rect height=\"84.94\" width=\"161.857355\" x=\"247.99375\" y=\"162.033562\"/>\n  </clipPath>\n </defs>\n</svg>\n",
      "image/png": "[encoded data removed]"
     },
     "metadata": {
      "needs_background": "light"
     }
    }
   ],
   "source": [
    "bins = np.linspace(5,20,15)\n",
    "\n",
    "fig, axs = plt.subplots(2,2)\n",
    "\n",
    "axs[0,0].hist(data_df.loc[data_df['pred_emotion']=='neutral']['rpm'], bins, alpha=0.5)#, label='Neutral RPM')\n",
    "axs[0,1].hist(data_df.loc[data_df['pred_emotion']=='neutral']['rpm'], bins, alpha=0.5)#, label='Neutral RPM')\n",
    "axs[1,0].hist(data_df.loc[data_df['pred_emotion']=='neutral']['rpm'], bins, alpha=0.5)#, label='Neutral RPM')\n",
    "axs[1,1].hist(data_df.loc[data_df['pred_emotion']=='neutral']['rpm'], bins, alpha=0.5)#, label='Neutral RPM')\n",
    "\n",
    "axs[0,0].hist(data_df.loc[data_df['pred_emotion']=='happy']['rpm'], bins, alpha=0.5)#, label='Happy RPM')\n",
    "axs[0,0].set_title('Happy vs. Neutral')\n",
    "axs[0,1].hist(data_df.loc[data_df['pred_emotion']=='anger']['rpm'], bins, alpha=0.5)#, label='Happy RPM')\n",
    "axs[0,1].set_title('Anger vs. Neutral')\n",
    "axs[1,0].hist(data_df.loc[data_df['pred_emotion']=='sad']['rpm'], bins, alpha=0.5)#, label='Happy RPM')\n",
    "axs[1,0].set_title('Sad vs. Neutral')\n",
    "axs[1,1].hist(data_df.loc[data_df['pred_emotion']=='surprise']['rpm'], bins, alpha=0.5)#, label='Happy RPM')\n",
    "axs[1,1].set_title('Surprise vs. Neutral')\n",
    "fig.tight_layout()\n",
    "fig.show()"
   ]
  },
  {
   "source": [
    "## Video Type vs Predicted Emotion"
   ],
   "cell_type": "markdown",
   "metadata": {}
  },
  {
   "cell_type": "code",
   "execution_count": 25,
   "metadata": {},
   "outputs": [
    {
     "output_type": "display_data",
     "data": {
      "text/plain": "<Figure size 432x288 with 2 Axes>",
      "image/svg+xml": "<?xml version=\"1.0\" encoding=\"utf-8\" standalone=\"no\"?>\n<!DOCTYPE svg PUBLIC \"-//W3C//DTD SVG 1.1//EN\"\n  \"http://www.w3.org/Graphics/SVG/1.1/DTD/svg11.dtd\">\n<svg height=\"239.635125pt\" version=\"1.1\" viewBox=\"0 0 430.377313 239.635125\" width=\"430.377313pt\" xmlns=\"http://www.w3.org/2000/svg\" xmlns:xlink=\"http://www.w3.org/1999/xlink\">\n <metadata>\n  <rdf:RDF xmlns:cc=\"http://creativecommons.org/ns#\" xmlns:dc=\"http://purl.org/dc/elements/1.1/\" xmlns:rdf=\"http://www.w3.org/1999/02/22-rdf-syntax-ns#\">\n   <cc:Work>\n    <dc:type rdf:resource=\"http://purl.org/dc/dcmitype/StillImage\"/>\n    <dc:date>2021-05-12T19:40:48.693606</dc:date>\n    <dc:format>image/svg+xml</dc:format>\n    <dc:creator>\n     <cc:Agent>\n      <dc:title>Matplotlib v3.4.2, https://matplotlib.org/</dc:title>\n     </cc:Agent>\n    </dc:creator>\n   </cc:Work>\n  </rdf:RDF>\n </metadata>\n <defs>\n  <style type=\"text/css\">*{stroke-linecap:butt;stroke-linejoin:round;}</style>\n </defs>\n <g id=\"figure_1\">\n  <g id=\"patch_1\">\n   <path d=\"M 0 239.635125 \nL 430.377313 239.635125 \nL 430.377313 0 \nL 0 0 \nz\n\" style=\"fill:none;\"/>\n  </g>\n  <g id=\"axes_1\">\n   <g id=\"patch_2\">\n    <path d=\"M 87.640313 196.272 \nL 355.480313 196.272 \nL 355.480313 35.568 \nL 87.640313 35.568 \nz\n\" style=\"fill:#ffffff;\"/>\n   </g>\n   <g id=\"QuadMesh_1\">\n    <path clip-path=\"url(#pa8b4c0b418)\" d=\"M 87.640313 35.568 \nL 141.208313 35.568 \nL 141.208313 89.136 \nL 87.640313 89.136 \nL 87.640313 35.568 \n\" style=\"fill:#03051a;stroke:#ffffff;\"/>\n    <path clip-path=\"url(#pa8b4c0b418)\" d=\"M 141.208313 35.568 \nL 194.776313 35.568 \nL 194.776313 89.136 \nL 141.208313 89.136 \nL 141.208313 35.568 \n\" style=\"fill:#401b44;stroke:#ffffff;\"/>\n    <path clip-path=\"url(#pa8b4c0b418)\" d=\"M 194.776313 35.568 \nL 248.344313 35.568 \nL 248.344313 89.136 \nL 194.776313 89.136 \nL 194.776313 35.568 \n\" style=\"fill:#401b44;stroke:#ffffff;\"/>\n    <path clip-path=\"url(#pa8b4c0b418)\" d=\"M 248.344313 35.568 \nL 301.912313 35.568 \nL 301.912313 89.136 \nL 248.344313 89.136 \nL 248.344313 35.568 \n\" style=\"fill:#07071d;stroke:#ffffff;\"/>\n    <path clip-path=\"url(#pa8b4c0b418)\" d=\"M 301.912313 35.568 \nL 355.480313 35.568 \nL 355.480313 89.136 \nL 301.912313 89.136 \nL 301.912313 35.568 \n\" style=\"fill:#0e0b22;stroke:#ffffff;\"/>\n    <path clip-path=\"url(#pa8b4c0b418)\" d=\"M 87.640313 89.136 \nL 141.208313 89.136 \nL 141.208313 142.704 \nL 87.640313 142.704 \nL 87.640313 89.136 \n\" style=\"fill:#04051a;stroke:#ffffff;\"/>\n    <path clip-path=\"url(#pa8b4c0b418)\" d=\"M 141.208313 89.136 \nL 194.776313 89.136 \nL 194.776313 142.704 \nL 141.208313 142.704 \nL 141.208313 89.136 \n\" style=\"fill:#541e4e;stroke:#ffffff;\"/>\n    <path clip-path=\"url(#pa8b4c0b418)\" d=\"M 194.776313 89.136 \nL 248.344313 89.136 \nL 248.344313 142.704 \nL 194.776313 142.704 \nL 194.776313 89.136 \n\" style=\"fill:#ee543f;stroke:#ffffff;\"/>\n    <path clip-path=\"url(#pa8b4c0b418)\" d=\"M 248.344313 89.136 \nL 301.912313 89.136 \nL 301.912313 142.704 \nL 248.344313 142.704 \nL 248.344313 89.136 \n\" style=\"fill:#421b45;stroke:#ffffff;\"/>\n    <path clip-path=\"url(#pa8b4c0b418)\" d=\"M 301.912313 89.136 \nL 355.480313 89.136 \nL 355.480313 142.704 \nL 301.912313 142.704 \nL 301.912313 89.136 \n\" style=\"fill:#05061b;stroke:#ffffff;\"/>\n    <path clip-path=\"url(#pa8b4c0b418)\" d=\"M 87.640313 142.704 \nL 141.208313 142.704 \nL 141.208313 196.272 \nL 87.640313 196.272 \nL 87.640313 142.704 \n\" style=\"fill:#08081e;stroke:#ffffff;\"/>\n    <path clip-path=\"url(#pa8b4c0b418)\" d=\"M 141.208313 142.704 \nL 194.776313 142.704 \nL 194.776313 196.272 \nL 141.208313 196.272 \nL 141.208313 142.704 \n\" style=\"fill:#faebdd;stroke:#ffffff;\"/>\n    <path clip-path=\"url(#pa8b4c0b418)\" d=\"M 194.776313 142.704 \nL 248.344313 142.704 \nL 248.344313 196.272 \nL 194.776313 196.272 \nL 194.776313 142.704 \n\" style=\"fill:#891e5b;stroke:#ffffff;\"/>\n    <path clip-path=\"url(#pa8b4c0b418)\" d=\"M 248.344313 142.704 \nL 301.912313 142.704 \nL 301.912313 196.272 \nL 248.344313 196.272 \nL 248.344313 142.704 \n\" style=\"fill:#03051a;stroke:#ffffff;\"/>\n    <path clip-path=\"url(#pa8b4c0b418)\" d=\"M 301.912313 142.704 \nL 355.480313 142.704 \nL 355.480313 196.272 \nL 301.912313 196.272 \nL 301.912313 142.704 \n\" style=\"fill:#03051a;stroke:#ffffff;\"/>\n   </g>\n   <g id=\"matplotlib.axis_1\">\n    <g id=\"xtick_1\">\n     <g id=\"line2d_1\">\n      <defs>\n       <path d=\"M 0 0 \nL 0 3.5 \n\" id=\"m8c9ba3ea3c\" style=\"stroke:#000000;stroke-width:0.8;\"/>\n      </defs>\n      <g>\n       <use style=\"stroke:#000000;stroke-width:0.8;\" x=\"114.424313\" xlink:href=\"#m8c9ba3ea3c\" y=\"196.272\"/>\n      </g>\n     </g>\n     <g id=\"text_1\">\n      <!-- anger -->\n      <g transform=\"translate(95.523531 213.149969)scale(0.13 -0.13)\">\n       <defs>\n        <path d=\"M 2194 1759 \nQ 1497 1759 1228 1600 \nQ 959 1441 959 1056 \nQ 959 750 1161 570 \nQ 1363 391 1709 391 \nQ 2188 391 2477 730 \nQ 2766 1069 2766 1631 \nL 2766 1759 \nL 2194 1759 \nz\nM 3341 1997 \nL 3341 0 \nL 2766 0 \nL 2766 531 \nQ 2569 213 2275 61 \nQ 1981 -91 1556 -91 \nQ 1019 -91 701 211 \nQ 384 513 384 1019 \nQ 384 1609 779 1909 \nQ 1175 2209 1959 2209 \nL 2766 2209 \nL 2766 2266 \nQ 2766 2663 2505 2880 \nQ 2244 3097 1772 3097 \nQ 1472 3097 1187 3025 \nQ 903 2953 641 2809 \nL 641 3341 \nQ 956 3463 1253 3523 \nQ 1550 3584 1831 3584 \nQ 2591 3584 2966 3190 \nQ 3341 2797 3341 1997 \nz\n\" id=\"DejaVuSans-61\" transform=\"scale(0.015625)\"/>\n        <path d=\"M 3513 2113 \nL 3513 0 \nL 2938 0 \nL 2938 2094 \nQ 2938 2591 2744 2837 \nQ 2550 3084 2163 3084 \nQ 1697 3084 1428 2787 \nQ 1159 2491 1159 1978 \nL 1159 0 \nL 581 0 \nL 581 3500 \nL 1159 3500 \nL 1159 2956 \nQ 1366 3272 1645 3428 \nQ 1925 3584 2291 3584 \nQ 2894 3584 3203 3211 \nQ 3513 2838 3513 2113 \nz\n\" id=\"DejaVuSans-6e\" transform=\"scale(0.015625)\"/>\n        <path d=\"M 2906 1791 \nQ 2906 2416 2648 2759 \nQ 2391 3103 1925 3103 \nQ 1463 3103 1205 2759 \nQ 947 2416 947 1791 \nQ 947 1169 1205 825 \nQ 1463 481 1925 481 \nQ 2391 481 2648 825 \nQ 2906 1169 2906 1791 \nz\nM 3481 434 \nQ 3481 -459 3084 -895 \nQ 2688 -1331 1869 -1331 \nQ 1566 -1331 1297 -1286 \nQ 1028 -1241 775 -1147 \nL 775 -588 \nQ 1028 -725 1275 -790 \nQ 1522 -856 1778 -856 \nQ 2344 -856 2625 -561 \nQ 2906 -266 2906 331 \nL 2906 616 \nQ 2728 306 2450 153 \nQ 2172 0 1784 0 \nQ 1141 0 747 490 \nQ 353 981 353 1791 \nQ 353 2603 747 3093 \nQ 1141 3584 1784 3584 \nQ 2172 3584 2450 3431 \nQ 2728 3278 2906 2969 \nL 2906 3500 \nL 3481 3500 \nL 3481 434 \nz\n\" id=\"DejaVuSans-67\" transform=\"scale(0.015625)\"/>\n        <path d=\"M 3597 1894 \nL 3597 1613 \nL 953 1613 \nQ 991 1019 1311 708 \nQ 1631 397 2203 397 \nQ 2534 397 2845 478 \nQ 3156 559 3463 722 \nL 3463 178 \nQ 3153 47 2828 -22 \nQ 2503 -91 2169 -91 \nQ 1331 -91 842 396 \nQ 353 884 353 1716 \nQ 353 2575 817 3079 \nQ 1281 3584 2069 3584 \nQ 2775 3584 3186 3129 \nQ 3597 2675 3597 1894 \nz\nM 3022 2063 \nQ 3016 2534 2758 2815 \nQ 2500 3097 2075 3097 \nQ 1594 3097 1305 2825 \nQ 1016 2553 972 2059 \nL 3022 2063 \nz\n\" id=\"DejaVuSans-65\" transform=\"scale(0.015625)\"/>\n        <path d=\"M 2631 2963 \nQ 2534 3019 2420 3045 \nQ 2306 3072 2169 3072 \nQ 1681 3072 1420 2755 \nQ 1159 2438 1159 1844 \nL 1159 0 \nL 581 0 \nL 581 3500 \nL 1159 3500 \nL 1159 2956 \nQ 1341 3275 1631 3429 \nQ 1922 3584 2338 3584 \nQ 2397 3584 2469 3576 \nQ 2541 3569 2628 3553 \nL 2631 2963 \nz\n\" id=\"DejaVuSans-72\" transform=\"scale(0.015625)\"/>\n       </defs>\n       <use xlink:href=\"#DejaVuSans-61\"/>\n       <use x=\"61.279297\" xlink:href=\"#DejaVuSans-6e\"/>\n       <use x=\"124.658203\" xlink:href=\"#DejaVuSans-67\"/>\n       <use x=\"188.134766\" xlink:href=\"#DejaVuSans-65\"/>\n       <use x=\"249.658203\" xlink:href=\"#DejaVuSans-72\"/>\n      </g>\n     </g>\n    </g>\n    <g id=\"xtick_2\">\n     <g id=\"line2d_2\">\n      <g>\n       <use style=\"stroke:#000000;stroke-width:0.8;\" x=\"167.992313\" xlink:href=\"#m8c9ba3ea3c\" y=\"196.272\"/>\n      </g>\n     </g>\n     <g id=\"text_2\">\n      <!-- happy -->\n      <g transform=\"translate(147.7895 213.149969)scale(0.13 -0.13)\">\n       <defs>\n        <path d=\"M 3513 2113 \nL 3513 0 \nL 2938 0 \nL 2938 2094 \nQ 2938 2591 2744 2837 \nQ 2550 3084 2163 3084 \nQ 1697 3084 1428 2787 \nQ 1159 2491 1159 1978 \nL 1159 0 \nL 581 0 \nL 581 4863 \nL 1159 4863 \nL 1159 2956 \nQ 1366 3272 1645 3428 \nQ 1925 3584 2291 3584 \nQ 2894 3584 3203 3211 \nQ 3513 2838 3513 2113 \nz\n\" id=\"DejaVuSans-68\" transform=\"scale(0.015625)\"/>\n        <path d=\"M 1159 525 \nL 1159 -1331 \nL 581 -1331 \nL 581 3500 \nL 1159 3500 \nL 1159 2969 \nQ 1341 3281 1617 3432 \nQ 1894 3584 2278 3584 \nQ 2916 3584 3314 3078 \nQ 3713 2572 3713 1747 \nQ 3713 922 3314 415 \nQ 2916 -91 2278 -91 \nQ 1894 -91 1617 61 \nQ 1341 213 1159 525 \nz\nM 3116 1747 \nQ 3116 2381 2855 2742 \nQ 2594 3103 2138 3103 \nQ 1681 3103 1420 2742 \nQ 1159 2381 1159 1747 \nQ 1159 1113 1420 752 \nQ 1681 391 2138 391 \nQ 2594 391 2855 752 \nQ 3116 1113 3116 1747 \nz\n\" id=\"DejaVuSans-70\" transform=\"scale(0.015625)\"/>\n        <path d=\"M 2059 -325 \nQ 1816 -950 1584 -1140 \nQ 1353 -1331 966 -1331 \nL 506 -1331 \nL 506 -850 \nL 844 -850 \nQ 1081 -850 1212 -737 \nQ 1344 -625 1503 -206 \nL 1606 56 \nL 191 3500 \nL 800 3500 \nL 1894 763 \nL 2988 3500 \nL 3597 3500 \nL 2059 -325 \nz\n\" id=\"DejaVuSans-79\" transform=\"scale(0.015625)\"/>\n       </defs>\n       <use xlink:href=\"#DejaVuSans-68\"/>\n       <use x=\"63.378906\" xlink:href=\"#DejaVuSans-61\"/>\n       <use x=\"124.658203\" xlink:href=\"#DejaVuSans-70\"/>\n       <use x=\"188.134766\" xlink:href=\"#DejaVuSans-70\"/>\n       <use x=\"251.611328\" xlink:href=\"#DejaVuSans-79\"/>\n      </g>\n     </g>\n    </g>\n    <g id=\"xtick_3\">\n     <g id=\"line2d_3\">\n      <g>\n       <use style=\"stroke:#000000;stroke-width:0.8;\" x=\"221.560313\" xlink:href=\"#m8c9ba3ea3c\" y=\"196.272\"/>\n      </g>\n     </g>\n     <g id=\"text_3\">\n      <!-- neutral -->\n      <g transform=\"translate(198.312656 213.149969)scale(0.13 -0.13)\">\n       <defs>\n        <path d=\"M 544 1381 \nL 544 3500 \nL 1119 3500 \nL 1119 1403 \nQ 1119 906 1312 657 \nQ 1506 409 1894 409 \nQ 2359 409 2629 706 \nQ 2900 1003 2900 1516 \nL 2900 3500 \nL 3475 3500 \nL 3475 0 \nL 2900 0 \nL 2900 538 \nQ 2691 219 2414 64 \nQ 2138 -91 1772 -91 \nQ 1169 -91 856 284 \nQ 544 659 544 1381 \nz\nM 1991 3584 \nL 1991 3584 \nz\n\" id=\"DejaVuSans-75\" transform=\"scale(0.015625)\"/>\n        <path d=\"M 1172 4494 \nL 1172 3500 \nL 2356 3500 \nL 2356 3053 \nL 1172 3053 \nL 1172 1153 \nQ 1172 725 1289 603 \nQ 1406 481 1766 481 \nL 2356 481 \nL 2356 0 \nL 1766 0 \nQ 1100 0 847 248 \nQ 594 497 594 1153 \nL 594 3053 \nL 172 3053 \nL 172 3500 \nL 594 3500 \nL 594 4494 \nL 1172 4494 \nz\n\" id=\"DejaVuSans-74\" transform=\"scale(0.015625)\"/>\n        <path d=\"M 603 4863 \nL 1178 4863 \nL 1178 0 \nL 603 0 \nL 603 4863 \nz\n\" id=\"DejaVuSans-6c\" transform=\"scale(0.015625)\"/>\n       </defs>\n       <use xlink:href=\"#DejaVuSans-6e\"/>\n       <use x=\"63.378906\" xlink:href=\"#DejaVuSans-65\"/>\n       <use x=\"124.902344\" xlink:href=\"#DejaVuSans-75\"/>\n       <use x=\"188.28125\" xlink:href=\"#DejaVuSans-74\"/>\n       <use x=\"227.490234\" xlink:href=\"#DejaVuSans-72\"/>\n       <use x=\"268.603516\" xlink:href=\"#DejaVuSans-61\"/>\n       <use x=\"329.882812\" xlink:href=\"#DejaVuSans-6c\"/>\n      </g>\n     </g>\n    </g>\n    <g id=\"xtick_4\">\n     <g id=\"line2d_4\">\n      <g>\n       <use style=\"stroke:#000000;stroke-width:0.8;\" x=\"275.128313\" xlink:href=\"#m8c9ba3ea3c\" y=\"196.272\"/>\n      </g>\n     </g>\n     <g id=\"text_4\">\n      <!-- sad -->\n      <g transform=\"translate(263.632453 213.149969)scale(0.13 -0.13)\">\n       <defs>\n        <path d=\"M 2834 3397 \nL 2834 2853 \nQ 2591 2978 2328 3040 \nQ 2066 3103 1784 3103 \nQ 1356 3103 1142 2972 \nQ 928 2841 928 2578 \nQ 928 2378 1081 2264 \nQ 1234 2150 1697 2047 \nL 1894 2003 \nQ 2506 1872 2764 1633 \nQ 3022 1394 3022 966 \nQ 3022 478 2636 193 \nQ 2250 -91 1575 -91 \nQ 1294 -91 989 -36 \nQ 684 19 347 128 \nL 347 722 \nQ 666 556 975 473 \nQ 1284 391 1588 391 \nQ 1994 391 2212 530 \nQ 2431 669 2431 922 \nQ 2431 1156 2273 1281 \nQ 2116 1406 1581 1522 \nL 1381 1569 \nQ 847 1681 609 1914 \nQ 372 2147 372 2553 \nQ 372 3047 722 3315 \nQ 1072 3584 1716 3584 \nQ 2034 3584 2315 3537 \nQ 2597 3491 2834 3397 \nz\n\" id=\"DejaVuSans-73\" transform=\"scale(0.015625)\"/>\n        <path d=\"M 2906 2969 \nL 2906 4863 \nL 3481 4863 \nL 3481 0 \nL 2906 0 \nL 2906 525 \nQ 2725 213 2448 61 \nQ 2172 -91 1784 -91 \nQ 1150 -91 751 415 \nQ 353 922 353 1747 \nQ 353 2572 751 3078 \nQ 1150 3584 1784 3584 \nQ 2172 3584 2448 3432 \nQ 2725 3281 2906 2969 \nz\nM 947 1747 \nQ 947 1113 1208 752 \nQ 1469 391 1925 391 \nQ 2381 391 2643 752 \nQ 2906 1113 2906 1747 \nQ 2906 2381 2643 2742 \nQ 2381 3103 1925 3103 \nQ 1469 3103 1208 2742 \nQ 947 2381 947 1747 \nz\n\" id=\"DejaVuSans-64\" transform=\"scale(0.015625)\"/>\n       </defs>\n       <use xlink:href=\"#DejaVuSans-73\"/>\n       <use x=\"52.099609\" xlink:href=\"#DejaVuSans-61\"/>\n       <use x=\"113.378906\" xlink:href=\"#DejaVuSans-64\"/>\n      </g>\n     </g>\n    </g>\n    <g id=\"xtick_5\">\n     <g id=\"line2d_5\">\n      <g>\n       <use style=\"stroke:#000000;stroke-width:0.8;\" x=\"328.696313\" xlink:href=\"#m8c9ba3ea3c\" y=\"196.272\"/>\n      </g>\n     </g>\n     <g id=\"text_5\">\n      <!-- surprise -->\n      <g transform=\"translate(302.528734 213.149969)scale(0.13 -0.13)\">\n       <defs>\n        <path d=\"M 603 3500 \nL 1178 3500 \nL 1178 0 \nL 603 0 \nL 603 3500 \nz\nM 603 4863 \nL 1178 4863 \nL 1178 4134 \nL 603 4134 \nL 603 4863 \nz\n\" id=\"DejaVuSans-69\" transform=\"scale(0.015625)\"/>\n       </defs>\n       <use xlink:href=\"#DejaVuSans-73\"/>\n       <use x=\"52.099609\" xlink:href=\"#DejaVuSans-75\"/>\n       <use x=\"115.478516\" xlink:href=\"#DejaVuSans-72\"/>\n       <use x=\"156.591797\" xlink:href=\"#DejaVuSans-70\"/>\n       <use x=\"220.068359\" xlink:href=\"#DejaVuSans-72\"/>\n       <use x=\"261.181641\" xlink:href=\"#DejaVuSans-69\"/>\n       <use x=\"288.964844\" xlink:href=\"#DejaVuSans-73\"/>\n       <use x=\"341.064453\" xlink:href=\"#DejaVuSans-65\"/>\n      </g>\n     </g>\n    </g>\n    <g id=\"text_6\">\n     <!-- Predicted Emotion -->\n     <g transform=\"translate(162.116797 229.731531)scale(0.13 -0.13)\">\n      <defs>\n       <path d=\"M 1259 4147 \nL 1259 2394 \nL 2053 2394 \nQ 2494 2394 2734 2622 \nQ 2975 2850 2975 3272 \nQ 2975 3691 2734 3919 \nQ 2494 4147 2053 4147 \nL 1259 4147 \nz\nM 628 4666 \nL 2053 4666 \nQ 2838 4666 3239 4311 \nQ 3641 3956 3641 3272 \nQ 3641 2581 3239 2228 \nQ 2838 1875 2053 1875 \nL 1259 1875 \nL 1259 0 \nL 628 0 \nL 628 4666 \nz\n\" id=\"DejaVuSans-50\" transform=\"scale(0.015625)\"/>\n       <path d=\"M 3122 3366 \nL 3122 2828 \nQ 2878 2963 2633 3030 \nQ 2388 3097 2138 3097 \nQ 1578 3097 1268 2742 \nQ 959 2388 959 1747 \nQ 959 1106 1268 751 \nQ 1578 397 2138 397 \nQ 2388 397 2633 464 \nQ 2878 531 3122 666 \nL 3122 134 \nQ 2881 22 2623 -34 \nQ 2366 -91 2075 -91 \nQ 1284 -91 818 406 \nQ 353 903 353 1747 \nQ 353 2603 823 3093 \nQ 1294 3584 2113 3584 \nQ 2378 3584 2631 3529 \nQ 2884 3475 3122 3366 \nz\n\" id=\"DejaVuSans-63\" transform=\"scale(0.015625)\"/>\n       <path id=\"DejaVuSans-20\" transform=\"scale(0.015625)\"/>\n       <path d=\"M 628 4666 \nL 3578 4666 \nL 3578 4134 \nL 1259 4134 \nL 1259 2753 \nL 3481 2753 \nL 3481 2222 \nL 1259 2222 \nL 1259 531 \nL 3634 531 \nL 3634 0 \nL 628 0 \nL 628 4666 \nz\n\" id=\"DejaVuSans-45\" transform=\"scale(0.015625)\"/>\n       <path d=\"M 3328 2828 \nQ 3544 3216 3844 3400 \nQ 4144 3584 4550 3584 \nQ 5097 3584 5394 3201 \nQ 5691 2819 5691 2113 \nL 5691 0 \nL 5113 0 \nL 5113 2094 \nQ 5113 2597 4934 2840 \nQ 4756 3084 4391 3084 \nQ 3944 3084 3684 2787 \nQ 3425 2491 3425 1978 \nL 3425 0 \nL 2847 0 \nL 2847 2094 \nQ 2847 2600 2669 2842 \nQ 2491 3084 2119 3084 \nQ 1678 3084 1418 2786 \nQ 1159 2488 1159 1978 \nL 1159 0 \nL 581 0 \nL 581 3500 \nL 1159 3500 \nL 1159 2956 \nQ 1356 3278 1631 3431 \nQ 1906 3584 2284 3584 \nQ 2666 3584 2933 3390 \nQ 3200 3197 3328 2828 \nz\n\" id=\"DejaVuSans-6d\" transform=\"scale(0.015625)\"/>\n       <path d=\"M 1959 3097 \nQ 1497 3097 1228 2736 \nQ 959 2375 959 1747 \nQ 959 1119 1226 758 \nQ 1494 397 1959 397 \nQ 2419 397 2687 759 \nQ 2956 1122 2956 1747 \nQ 2956 2369 2687 2733 \nQ 2419 3097 1959 3097 \nz\nM 1959 3584 \nQ 2709 3584 3137 3096 \nQ 3566 2609 3566 1747 \nQ 3566 888 3137 398 \nQ 2709 -91 1959 -91 \nQ 1206 -91 779 398 \nQ 353 888 353 1747 \nQ 353 2609 779 3096 \nQ 1206 3584 1959 3584 \nz\n\" id=\"DejaVuSans-6f\" transform=\"scale(0.015625)\"/>\n      </defs>\n      <use xlink:href=\"#DejaVuSans-50\"/>\n      <use x=\"58.552734\" xlink:href=\"#DejaVuSans-72\"/>\n      <use x=\"97.416016\" xlink:href=\"#DejaVuSans-65\"/>\n      <use x=\"158.939453\" xlink:href=\"#DejaVuSans-64\"/>\n      <use x=\"222.416016\" xlink:href=\"#DejaVuSans-69\"/>\n      <use x=\"250.199219\" xlink:href=\"#DejaVuSans-63\"/>\n      <use x=\"305.179688\" xlink:href=\"#DejaVuSans-74\"/>\n      <use x=\"344.388672\" xlink:href=\"#DejaVuSans-65\"/>\n      <use x=\"405.912109\" xlink:href=\"#DejaVuSans-64\"/>\n      <use x=\"469.388672\" xlink:href=\"#DejaVuSans-20\"/>\n      <use x=\"501.175781\" xlink:href=\"#DejaVuSans-45\"/>\n      <use x=\"564.359375\" xlink:href=\"#DejaVuSans-6d\"/>\n      <use x=\"661.771484\" xlink:href=\"#DejaVuSans-6f\"/>\n      <use x=\"722.953125\" xlink:href=\"#DejaVuSans-74\"/>\n      <use x=\"762.162109\" xlink:href=\"#DejaVuSans-69\"/>\n      <use x=\"789.945312\" xlink:href=\"#DejaVuSans-6f\"/>\n      <use x=\"851.126953\" xlink:href=\"#DejaVuSans-6e\"/>\n     </g>\n    </g>\n   </g>\n   <g id=\"matplotlib.axis_2\">\n    <g id=\"ytick_1\">\n     <g id=\"line2d_6\">\n      <defs>\n       <path d=\"M 0 0 \nL -3.5 0 \n\" id=\"m82b5e0f2f0\" style=\"stroke:#000000;stroke-width:0.8;\"/>\n      </defs>\n      <g>\n       <use style=\"stroke:#000000;stroke-width:0.8;\" x=\"87.640313\" xlink:href=\"#m82b5e0f2f0\" y=\"62.352\"/>\n      </g>\n     </g>\n     <g id=\"text_7\">\n      <!-- negative -->\n      <g transform=\"translate(23.781563 67.290984)scale(0.13 -0.13)\">\n       <defs>\n        <path d=\"M 191 3500 \nL 800 3500 \nL 1894 563 \nL 2988 3500 \nL 3597 3500 \nL 2284 0 \nL 1503 0 \nL 191 3500 \nz\n\" id=\"DejaVuSans-76\" transform=\"scale(0.015625)\"/>\n       </defs>\n       <use xlink:href=\"#DejaVuSans-6e\"/>\n       <use x=\"63.378906\" xlink:href=\"#DejaVuSans-65\"/>\n       <use x=\"124.902344\" xlink:href=\"#DejaVuSans-67\"/>\n       <use x=\"188.378906\" xlink:href=\"#DejaVuSans-61\"/>\n       <use x=\"249.658203\" xlink:href=\"#DejaVuSans-74\"/>\n       <use x=\"288.867188\" xlink:href=\"#DejaVuSans-69\"/>\n       <use x=\"316.650391\" xlink:href=\"#DejaVuSans-76\"/>\n       <use x=\"375.830078\" xlink:href=\"#DejaVuSans-65\"/>\n      </g>\n     </g>\n    </g>\n    <g id=\"ytick_2\">\n     <g id=\"line2d_7\">\n      <g>\n       <use style=\"stroke:#000000;stroke-width:0.8;\" x=\"87.640313\" xlink:href=\"#m82b5e0f2f0\" y=\"115.92\"/>\n      </g>\n     </g>\n     <g id=\"text_8\">\n      <!-- neutral -->\n      <g transform=\"translate(34.145 120.858984)scale(0.13 -0.13)\">\n       <use xlink:href=\"#DejaVuSans-6e\"/>\n       <use x=\"63.378906\" xlink:href=\"#DejaVuSans-65\"/>\n       <use x=\"124.902344\" xlink:href=\"#DejaVuSans-75\"/>\n       <use x=\"188.28125\" xlink:href=\"#DejaVuSans-74\"/>\n       <use x=\"227.490234\" xlink:href=\"#DejaVuSans-72\"/>\n       <use x=\"268.603516\" xlink:href=\"#DejaVuSans-61\"/>\n       <use x=\"329.882812\" xlink:href=\"#DejaVuSans-6c\"/>\n      </g>\n     </g>\n    </g>\n    <g id=\"ytick_3\">\n     <g id=\"line2d_8\">\n      <g>\n       <use style=\"stroke:#000000;stroke-width:0.8;\" x=\"87.640313\" xlink:href=\"#m82b5e0f2f0\" y=\"169.488\"/>\n      </g>\n     </g>\n     <g id=\"text_9\">\n      <!-- positive -->\n      <g transform=\"translate(29.647813 174.426984)scale(0.13 -0.13)\">\n       <use xlink:href=\"#DejaVuSans-70\"/>\n       <use x=\"63.476562\" xlink:href=\"#DejaVuSans-6f\"/>\n       <use x=\"124.658203\" xlink:href=\"#DejaVuSans-73\"/>\n       <use x=\"176.757812\" xlink:href=\"#DejaVuSans-69\"/>\n       <use x=\"204.541016\" xlink:href=\"#DejaVuSans-74\"/>\n       <use x=\"243.75\" xlink:href=\"#DejaVuSans-69\"/>\n       <use x=\"271.533203\" xlink:href=\"#DejaVuSans-76\"/>\n       <use x=\"330.712891\" xlink:href=\"#DejaVuSans-65\"/>\n      </g>\n     </g>\n    </g>\n    <g id=\"text_10\">\n     <!-- Video Type -->\n     <g transform=\"translate(17.077969 151.122578)rotate(-90)scale(0.13 -0.13)\">\n      <defs>\n       <path d=\"M 1831 0 \nL 50 4666 \nL 709 4666 \nL 2188 738 \nL 3669 4666 \nL 4325 4666 \nL 2547 0 \nL 1831 0 \nz\n\" id=\"DejaVuSans-56\" transform=\"scale(0.015625)\"/>\n       <path d=\"M -19 4666 \nL 3928 4666 \nL 3928 4134 \nL 2272 4134 \nL 2272 0 \nL 1638 0 \nL 1638 4134 \nL -19 4134 \nL -19 4666 \nz\n\" id=\"DejaVuSans-54\" transform=\"scale(0.015625)\"/>\n      </defs>\n      <use xlink:href=\"#DejaVuSans-56\"/>\n      <use x=\"66.158203\" xlink:href=\"#DejaVuSans-69\"/>\n      <use x=\"93.941406\" xlink:href=\"#DejaVuSans-64\"/>\n      <use x=\"157.417969\" xlink:href=\"#DejaVuSans-65\"/>\n      <use x=\"218.941406\" xlink:href=\"#DejaVuSans-6f\"/>\n      <use x=\"280.123047\" xlink:href=\"#DejaVuSans-20\"/>\n      <use x=\"311.910156\" xlink:href=\"#DejaVuSans-54\"/>\n      <use x=\"357.369141\" xlink:href=\"#DejaVuSans-79\"/>\n      <use x=\"416.548828\" xlink:href=\"#DejaVuSans-70\"/>\n      <use x=\"480.025391\" xlink:href=\"#DejaVuSans-65\"/>\n     </g>\n    </g>\n   </g>\n   <g id=\"text_11\">\n    <!-- 0 -->\n    <g style=\"fill:#ffffff;\" transform=\"translate(110.288688 65.939187)scale(0.13 -0.13)\">\n     <defs>\n      <path d=\"M 2034 4250 \nQ 1547 4250 1301 3770 \nQ 1056 3291 1056 2328 \nQ 1056 1369 1301 889 \nQ 1547 409 2034 409 \nQ 2525 409 2770 889 \nQ 3016 1369 3016 2328 \nQ 3016 3291 2770 3770 \nQ 2525 4250 2034 4250 \nz\nM 2034 4750 \nQ 2819 4750 3233 4129 \nQ 3647 3509 3647 2328 \nQ 3647 1150 3233 529 \nQ 2819 -91 2034 -91 \nQ 1250 -91 836 529 \nQ 422 1150 422 2328 \nQ 422 3509 836 4129 \nQ 1250 4750 2034 4750 \nz\n\" id=\"DejaVuSans-30\" transform=\"scale(0.015625)\"/>\n     </defs>\n     <use xlink:href=\"#DejaVuSans-30\"/>\n    </g>\n   </g>\n   <g id=\"text_12\">\n    <!-- 557 -->\n    <g style=\"fill:#ffffff;\" transform=\"translate(155.585438 65.939187)scale(0.13 -0.13)\">\n     <defs>\n      <path d=\"M 691 4666 \nL 3169 4666 \nL 3169 4134 \nL 1269 4134 \nL 1269 2991 \nQ 1406 3038 1543 3061 \nQ 1681 3084 1819 3084 \nQ 2600 3084 3056 2656 \nQ 3513 2228 3513 1497 \nQ 3513 744 3044 326 \nQ 2575 -91 1722 -91 \nQ 1428 -91 1123 -41 \nQ 819 9 494 109 \nL 494 744 \nQ 775 591 1075 516 \nQ 1375 441 1709 441 \nQ 2250 441 2565 725 \nQ 2881 1009 2881 1497 \nQ 2881 1984 2565 2268 \nQ 2250 2553 1709 2553 \nQ 1456 2553 1204 2497 \nQ 953 2441 691 2322 \nL 691 4666 \nz\n\" id=\"DejaVuSans-35\" transform=\"scale(0.015625)\"/>\n      <path d=\"M 525 4666 \nL 3525 4666 \nL 3525 4397 \nL 1831 0 \nL 1172 0 \nL 2766 4134 \nL 525 4134 \nL 525 4666 \nz\n\" id=\"DejaVuSans-37\" transform=\"scale(0.015625)\"/>\n     </defs>\n     <use xlink:href=\"#DejaVuSans-35\"/>\n     <use x=\"63.623047\" xlink:href=\"#DejaVuSans-35\"/>\n     <use x=\"127.246094\" xlink:href=\"#DejaVuSans-37\"/>\n    </g>\n   </g>\n   <g id=\"text_13\">\n    <!-- 561 -->\n    <g style=\"fill:#ffffff;\" transform=\"translate(209.153437 65.939187)scale(0.13 -0.13)\">\n     <defs>\n      <path d=\"M 2113 2584 \nQ 1688 2584 1439 2293 \nQ 1191 2003 1191 1497 \nQ 1191 994 1439 701 \nQ 1688 409 2113 409 \nQ 2538 409 2786 701 \nQ 3034 994 3034 1497 \nQ 3034 2003 2786 2293 \nQ 2538 2584 2113 2584 \nz\nM 3366 4563 \nL 3366 3988 \nQ 3128 4100 2886 4159 \nQ 2644 4219 2406 4219 \nQ 1781 4219 1451 3797 \nQ 1122 3375 1075 2522 \nQ 1259 2794 1537 2939 \nQ 1816 3084 2150 3084 \nQ 2853 3084 3261 2657 \nQ 3669 2231 3669 1497 \nQ 3669 778 3244 343 \nQ 2819 -91 2113 -91 \nQ 1303 -91 875 529 \nQ 447 1150 447 2328 \nQ 447 3434 972 4092 \nQ 1497 4750 2381 4750 \nQ 2619 4750 2861 4703 \nQ 3103 4656 3366 4563 \nz\n\" id=\"DejaVuSans-36\" transform=\"scale(0.015625)\"/>\n      <path d=\"M 794 531 \nL 1825 531 \nL 1825 4091 \nL 703 3866 \nL 703 4441 \nL 1819 4666 \nL 2450 4666 \nL 2450 531 \nL 3481 531 \nL 3481 0 \nL 794 0 \nL 794 531 \nz\n\" id=\"DejaVuSans-31\" transform=\"scale(0.015625)\"/>\n     </defs>\n     <use xlink:href=\"#DejaVuSans-35\"/>\n     <use x=\"63.623047\" xlink:href=\"#DejaVuSans-36\"/>\n     <use x=\"127.246094\" xlink:href=\"#DejaVuSans-31\"/>\n    </g>\n   </g>\n   <g id=\"text_14\">\n    <!-- 59 -->\n    <g style=\"fill:#ffffff;\" transform=\"translate(266.857063 65.939187)scale(0.13 -0.13)\">\n     <defs>\n      <path d=\"M 703 97 \nL 703 672 \nQ 941 559 1184 500 \nQ 1428 441 1663 441 \nQ 2288 441 2617 861 \nQ 2947 1281 2994 2138 \nQ 2813 1869 2534 1725 \nQ 2256 1581 1919 1581 \nQ 1219 1581 811 2004 \nQ 403 2428 403 3163 \nQ 403 3881 828 4315 \nQ 1253 4750 1959 4750 \nQ 2769 4750 3195 4129 \nQ 3622 3509 3622 2328 \nQ 3622 1225 3098 567 \nQ 2575 -91 1691 -91 \nQ 1453 -91 1209 -44 \nQ 966 3 703 97 \nz\nM 1959 2075 \nQ 2384 2075 2632 2365 \nQ 2881 2656 2881 3163 \nQ 2881 3666 2632 3958 \nQ 2384 4250 1959 4250 \nQ 1534 4250 1286 3958 \nQ 1038 3666 1038 3163 \nQ 1038 2656 1286 2365 \nQ 1534 2075 1959 2075 \nz\n\" id=\"DejaVuSans-39\" transform=\"scale(0.015625)\"/>\n     </defs>\n     <use xlink:href=\"#DejaVuSans-35\"/>\n     <use x=\"63.623047\" xlink:href=\"#DejaVuSans-39\"/>\n    </g>\n   </g>\n   <g id=\"text_15\">\n    <!-- 126 -->\n    <g style=\"fill:#ffffff;\" transform=\"translate(316.289438 65.939187)scale(0.13 -0.13)\">\n     <defs>\n      <path d=\"M 1228 531 \nL 3431 531 \nL 3431 0 \nL 469 0 \nL 469 531 \nQ 828 903 1448 1529 \nQ 2069 2156 2228 2338 \nQ 2531 2678 2651 2914 \nQ 2772 3150 2772 3378 \nQ 2772 3750 2511 3984 \nQ 2250 4219 1831 4219 \nQ 1534 4219 1204 4116 \nQ 875 4013 500 3803 \nL 500 4441 \nQ 881 4594 1212 4672 \nQ 1544 4750 1819 4750 \nQ 2544 4750 2975 4387 \nQ 3406 4025 3406 3419 \nQ 3406 3131 3298 2873 \nQ 3191 2616 2906 2266 \nQ 2828 2175 2409 1742 \nQ 1991 1309 1228 531 \nz\n\" id=\"DejaVuSans-32\" transform=\"scale(0.015625)\"/>\n     </defs>\n     <use xlink:href=\"#DejaVuSans-31\"/>\n     <use x=\"63.623047\" xlink:href=\"#DejaVuSans-32\"/>\n     <use x=\"127.246094\" xlink:href=\"#DejaVuSans-36\"/>\n    </g>\n   </g>\n   <g id=\"text_16\">\n    <!-- 23 -->\n    <g style=\"fill:#ffffff;\" transform=\"translate(106.153063 119.507187)scale(0.13 -0.13)\">\n     <defs>\n      <path d=\"M 2597 2516 \nQ 3050 2419 3304 2112 \nQ 3559 1806 3559 1356 \nQ 3559 666 3084 287 \nQ 2609 -91 1734 -91 \nQ 1441 -91 1130 -33 \nQ 819 25 488 141 \nL 488 750 \nQ 750 597 1062 519 \nQ 1375 441 1716 441 \nQ 2309 441 2620 675 \nQ 2931 909 2931 1356 \nQ 2931 1769 2642 2001 \nQ 2353 2234 1838 2234 \nL 1294 2234 \nL 1294 2753 \nL 1863 2753 \nQ 2328 2753 2575 2939 \nQ 2822 3125 2822 3475 \nQ 2822 3834 2567 4026 \nQ 2313 4219 1838 4219 \nQ 1578 4219 1281 4162 \nQ 984 4106 628 3988 \nL 628 4550 \nQ 988 4650 1302 4700 \nQ 1616 4750 1894 4750 \nQ 2613 4750 3031 4423 \nQ 3450 4097 3450 3541 \nQ 3450 3153 3228 2886 \nQ 3006 2619 2597 2516 \nz\n\" id=\"DejaVuSans-33\" transform=\"scale(0.015625)\"/>\n     </defs>\n     <use xlink:href=\"#DejaVuSans-32\"/>\n     <use x=\"63.623047\" xlink:href=\"#DejaVuSans-33\"/>\n    </g>\n   </g>\n   <g id=\"text_17\">\n    <!-- 726 -->\n    <g style=\"fill:#ffffff;\" transform=\"translate(155.585438 119.507187)scale(0.13 -0.13)\">\n     <use xlink:href=\"#DejaVuSans-37\"/>\n     <use x=\"63.623047\" xlink:href=\"#DejaVuSans-32\"/>\n     <use x=\"127.246094\" xlink:href=\"#DejaVuSans-36\"/>\n    </g>\n   </g>\n   <g id=\"text_18\">\n    <!-- 2118 -->\n    <g style=\"fill:#ffffff;\" transform=\"translate(205.017813 119.507187)scale(0.13 -0.13)\">\n     <defs>\n      <path d=\"M 2034 2216 \nQ 1584 2216 1326 1975 \nQ 1069 1734 1069 1313 \nQ 1069 891 1326 650 \nQ 1584 409 2034 409 \nQ 2484 409 2743 651 \nQ 3003 894 3003 1313 \nQ 3003 1734 2745 1975 \nQ 2488 2216 2034 2216 \nz\nM 1403 2484 \nQ 997 2584 770 2862 \nQ 544 3141 544 3541 \nQ 544 4100 942 4425 \nQ 1341 4750 2034 4750 \nQ 2731 4750 3128 4425 \nQ 3525 4100 3525 3541 \nQ 3525 3141 3298 2862 \nQ 3072 2584 2669 2484 \nQ 3125 2378 3379 2068 \nQ 3634 1759 3634 1313 \nQ 3634 634 3220 271 \nQ 2806 -91 2034 -91 \nQ 1263 -91 848 271 \nQ 434 634 434 1313 \nQ 434 1759 690 2068 \nQ 947 2378 1403 2484 \nz\nM 1172 3481 \nQ 1172 3119 1398 2916 \nQ 1625 2713 2034 2713 \nQ 2441 2713 2670 2916 \nQ 2900 3119 2900 3481 \nQ 2900 3844 2670 4047 \nQ 2441 4250 2034 4250 \nQ 1625 4250 1398 4047 \nQ 1172 3844 1172 3481 \nz\n\" id=\"DejaVuSans-38\" transform=\"scale(0.015625)\"/>\n     </defs>\n     <use xlink:href=\"#DejaVuSans-32\"/>\n     <use x=\"63.623047\" xlink:href=\"#DejaVuSans-31\"/>\n     <use x=\"127.246094\" xlink:href=\"#DejaVuSans-31\"/>\n     <use x=\"190.869141\" xlink:href=\"#DejaVuSans-38\"/>\n    </g>\n   </g>\n   <g id=\"text_19\">\n    <!-- 573 -->\n    <g style=\"fill:#ffffff;\" transform=\"translate(262.721438 119.507187)scale(0.13 -0.13)\">\n     <use xlink:href=\"#DejaVuSans-35\"/>\n     <use x=\"63.623047\" xlink:href=\"#DejaVuSans-37\"/>\n     <use x=\"127.246094\" xlink:href=\"#DejaVuSans-33\"/>\n    </g>\n   </g>\n   <g id=\"text_20\">\n    <!-- 29 -->\n    <g style=\"fill:#ffffff;\" transform=\"translate(320.425063 119.507187)scale(0.13 -0.13)\">\n     <use xlink:href=\"#DejaVuSans-32\"/>\n     <use x=\"63.623047\" xlink:href=\"#DejaVuSans-39\"/>\n    </g>\n   </g>\n   <g id=\"text_21\">\n    <!-- 74 -->\n    <g style=\"fill:#ffffff;\" transform=\"translate(106.153063 173.075187)scale(0.13 -0.13)\">\n     <defs>\n      <path d=\"M 2419 4116 \nL 825 1625 \nL 2419 1625 \nL 2419 4116 \nz\nM 2253 4666 \nL 3047 4666 \nL 3047 1625 \nL 3713 1625 \nL 3713 1100 \nL 3047 1100 \nL 3047 0 \nL 2419 0 \nL 2419 1100 \nL 313 1100 \nL 313 1709 \nL 2253 4666 \nz\n\" id=\"DejaVuSans-34\" transform=\"scale(0.015625)\"/>\n     </defs>\n     <use xlink:href=\"#DejaVuSans-37\"/>\n     <use x=\"63.623047\" xlink:href=\"#DejaVuSans-34\"/>\n    </g>\n   </g>\n   <g id=\"text_22\">\n    <!-- 3749 -->\n    <g style=\"fill:#262626;\" transform=\"translate(151.449813 173.075187)scale(0.13 -0.13)\">\n     <use xlink:href=\"#DejaVuSans-33\"/>\n     <use x=\"63.623047\" xlink:href=\"#DejaVuSans-37\"/>\n     <use x=\"127.246094\" xlink:href=\"#DejaVuSans-34\"/>\n     <use x=\"190.869141\" xlink:href=\"#DejaVuSans-39\"/>\n    </g>\n   </g>\n   <g id=\"text_23\">\n    <!-- 1142 -->\n    <g style=\"fill:#ffffff;\" transform=\"translate(205.017813 173.075187)scale(0.13 -0.13)\">\n     <use xlink:href=\"#DejaVuSans-31\"/>\n     <use x=\"63.623047\" xlink:href=\"#DejaVuSans-31\"/>\n     <use x=\"127.246094\" xlink:href=\"#DejaVuSans-34\"/>\n     <use x=\"190.869141\" xlink:href=\"#DejaVuSans-32\"/>\n    </g>\n   </g>\n   <g id=\"text_24\">\n    <!-- 12 -->\n    <g style=\"fill:#ffffff;\" transform=\"translate(266.857063 173.075187)scale(0.13 -0.13)\">\n     <use xlink:href=\"#DejaVuSans-31\"/>\n     <use x=\"63.623047\" xlink:href=\"#DejaVuSans-32\"/>\n    </g>\n   </g>\n   <g id=\"text_25\">\n    <!-- 0 -->\n    <g style=\"fill:#ffffff;\" transform=\"translate(324.560688 173.075187)scale(0.13 -0.13)\">\n     <use xlink:href=\"#DejaVuSans-30\"/>\n    </g>\n   </g>\n  </g>\n  <g id=\"axes_2\">\n   <g id=\"patch_3\">\n    <path d=\"M 372.220313 224.64 \nL 383.092313 224.64 \nL 383.092313 7.2 \nL 372.220313 7.2 \nz\n\" style=\"fill:#ffffff;\"/>\n   </g>\n   <g id=\"patch_4\">\n    <path clip-path=\"url(#pbccd470d38)\" d=\"M 372.220313 224.64 \nL 372.220313 223.790625 \nL 372.220313 8.049375 \nL 372.220313 7.2 \nL 383.092313 7.2 \nL 383.092313 8.049375 \nL 383.092313 223.790625 \nL 383.092313 224.64 \nL 383.092313 224.64 \nz\n\" style=\"fill:#ffffff;stroke:#ffffff;stroke-linejoin:miter;stroke-width:0.01;\"/>\n   </g>\n   <image height=\"217\" id=\"image89fdfc0a8c\" transform=\"scale(1 -1)translate(0 -217)\" width=\"11\" x=\"372\" xlink:href=\"data:image/png;base64,\niVBORw0KGgoAAAANSUhEUgAAAAsAAADZCAYAAAD2WsoCAAABVUlEQVR4nO3aMW4DQQxDUWlHuUTuf844dbp5BQHZyNYCQX5xBuuF+3x9v+rymb6drKrpvh+fp5+YMgx3pZTPkoCkLDRIOUgj5hmVIaDRiFV0S/nJxpZ1C41aUX4LeD3K3dhBA1t3/0TLDzaSJwVs0LpJOXhviA0sf4rzkiK9Y0Bbt9FIKS8JONe/JdwGDcdOtwwfoYEBZXjHUj6eRrL899IWMHdvzAs8L6HRpHwvXHNiyuhZhmErFrCbbMSKRMoyfKB2SRqywZyNB67+6SXo4BDOc35AmZZCNAxdygauO2WDlIuKNKBsNozGCuWGS1dtpJRLlM2G0MCAqWH62iOvJ1MPDe9AJ9/riEbHaJhnQyfK5/4Lh657Bzr4hDNFx8oCrqDRRiMXUIZzSzn3rwVrPOcC5ta9pEifTqNbTve8Iw0JGFu3cd7RjTpfG2zQvyz+A/4ZBuVfYnEsHsHaiiUAAAAASUVORK5CYII=\" y=\"-7\"/>\n   <g id=\"matplotlib.axis_3\"/>\n   <g id=\"matplotlib.axis_4\">\n    <g id=\"ytick_4\">\n     <g id=\"line2d_9\">\n      <defs>\n       <path d=\"M 0 0 \nL 3.5 0 \n\" id=\"m0da0ec9184\" style=\"stroke:#000000;stroke-width:0.8;\"/>\n      </defs>\n      <g>\n       <use style=\"stroke:#000000;stroke-width:0.8;\" x=\"383.092313\" xlink:href=\"#m0da0ec9184\" y=\"224.64\"/>\n      </g>\n     </g>\n     <g id=\"text_26\">\n      <!-- 0 -->\n      <g transform=\"translate(390.092313 229.578984)scale(0.13 -0.13)\">\n       <use xlink:href=\"#DejaVuSans-30\"/>\n      </g>\n     </g>\n    </g>\n    <g id=\"ytick_5\">\n     <g id=\"line2d_10\">\n      <g>\n       <use style=\"stroke:#000000;stroke-width:0.8;\" x=\"383.092313\" xlink:href=\"#m0da0ec9184\" y=\"191.617694\"/>\n      </g>\n     </g>\n     <g id=\"text_27\">\n      <!-- 500 -->\n      <g transform=\"translate(390.092313 196.556678)scale(0.13 -0.13)\">\n       <use xlink:href=\"#DejaVuSans-35\"/>\n       <use x=\"63.623047\" xlink:href=\"#DejaVuSans-30\"/>\n       <use x=\"127.246094\" xlink:href=\"#DejaVuSans-30\"/>\n      </g>\n     </g>\n    </g>\n    <g id=\"ytick_6\">\n     <g id=\"line2d_11\">\n      <g>\n       <use style=\"stroke:#000000;stroke-width:0.8;\" x=\"383.092313\" xlink:href=\"#m0da0ec9184\" y=\"158.595387\"/>\n      </g>\n     </g>\n     <g id=\"text_28\">\n      <!-- 1000 -->\n      <g transform=\"translate(390.092313 163.534371)scale(0.13 -0.13)\">\n       <use xlink:href=\"#DejaVuSans-31\"/>\n       <use x=\"63.623047\" xlink:href=\"#DejaVuSans-30\"/>\n       <use x=\"127.246094\" xlink:href=\"#DejaVuSans-30\"/>\n       <use x=\"190.869141\" xlink:href=\"#DejaVuSans-30\"/>\n      </g>\n     </g>\n    </g>\n    <g id=\"ytick_7\">\n     <g id=\"line2d_12\">\n      <g>\n       <use style=\"stroke:#000000;stroke-width:0.8;\" x=\"383.092313\" xlink:href=\"#m0da0ec9184\" y=\"125.573081\"/>\n      </g>\n     </g>\n     <g id=\"text_29\">\n      <!-- 1500 -->\n      <g transform=\"translate(390.092313 130.512065)scale(0.13 -0.13)\">\n       <use xlink:href=\"#DejaVuSans-31\"/>\n       <use x=\"63.623047\" xlink:href=\"#DejaVuSans-35\"/>\n       <use x=\"127.246094\" xlink:href=\"#DejaVuSans-30\"/>\n       <use x=\"190.869141\" xlink:href=\"#DejaVuSans-30\"/>\n      </g>\n     </g>\n    </g>\n    <g id=\"ytick_8\">\n     <g id=\"line2d_13\">\n      <g>\n       <use style=\"stroke:#000000;stroke-width:0.8;\" x=\"383.092313\" xlink:href=\"#m0da0ec9184\" y=\"92.550774\"/>\n      </g>\n     </g>\n     <g id=\"text_30\">\n      <!-- 2000 -->\n      <g transform=\"translate(390.092313 97.489759)scale(0.13 -0.13)\">\n       <use xlink:href=\"#DejaVuSans-32\"/>\n       <use x=\"63.623047\" xlink:href=\"#DejaVuSans-30\"/>\n       <use x=\"127.246094\" xlink:href=\"#DejaVuSans-30\"/>\n       <use x=\"190.869141\" xlink:href=\"#DejaVuSans-30\"/>\n      </g>\n     </g>\n    </g>\n    <g id=\"ytick_9\">\n     <g id=\"line2d_14\">\n      <g>\n       <use style=\"stroke:#000000;stroke-width:0.8;\" x=\"383.092313\" xlink:href=\"#m0da0ec9184\" y=\"59.528468\"/>\n      </g>\n     </g>\n     <g id=\"text_31\">\n      <!-- 2500 -->\n      <g transform=\"translate(390.092313 64.467452)scale(0.13 -0.13)\">\n       <use xlink:href=\"#DejaVuSans-32\"/>\n       <use x=\"63.623047\" xlink:href=\"#DejaVuSans-35\"/>\n       <use x=\"127.246094\" xlink:href=\"#DejaVuSans-30\"/>\n       <use x=\"190.869141\" xlink:href=\"#DejaVuSans-30\"/>\n      </g>\n     </g>\n    </g>\n    <g id=\"ytick_10\">\n     <g id=\"line2d_15\">\n      <g>\n       <use style=\"stroke:#000000;stroke-width:0.8;\" x=\"383.092313\" xlink:href=\"#m0da0ec9184\" y=\"26.506161\"/>\n      </g>\n     </g>\n     <g id=\"text_32\">\n      <!-- 3000 -->\n      <g transform=\"translate(390.092313 31.445146)scale(0.13 -0.13)\">\n       <use xlink:href=\"#DejaVuSans-33\"/>\n       <use x=\"63.623047\" xlink:href=\"#DejaVuSans-30\"/>\n       <use x=\"127.246094\" xlink:href=\"#DejaVuSans-30\"/>\n       <use x=\"190.869141\" xlink:href=\"#DejaVuSans-30\"/>\n      </g>\n     </g>\n    </g>\n   </g>\n   <g id=\"LineCollection_1\"/>\n   <g id=\"patch_5\">\n    <path d=\"M 372.220313 224.64 \nL 372.220313 223.790625 \nL 372.220313 8.049375 \nL 372.220313 7.2 \nL 383.092313 7.2 \nL 383.092313 8.049375 \nL 383.092313 223.790625 \nL 383.092313 224.64 \nz\n\" style=\"fill:none;\"/>\n   </g>\n  </g>\n </g>\n <defs>\n  <clipPath id=\"pa8b4c0b418\">\n   <rect height=\"160.704\" width=\"267.84\" x=\"87.640313\" y=\"35.568\"/>\n  </clipPath>\n  <clipPath id=\"pbccd470d38\">\n   <rect height=\"217.44\" width=\"10.872\" x=\"372.220313\" y=\"7.2\"/>\n  </clipPath>\n </defs>\n</svg>\n",
      "image/png": "[encoded data removed]"
     },
     "metadata": {
      "needs_background": "light"
     }
    }
   ],
   "source": [
    "import seaborn as sn\n",
    "confusion_matrix = pd.crosstab(data_df['video_type'], data_df['pred_emotion'], rownames=['Video Type'], colnames=['Predicted Emotion'])\n",
    "\n",
    "sn.heatmap(confusion_matrix, annot=True,linewidths=1, robust=True, square=True, fmt='d')\n",
    "# sn.heatmap(confusion_matrix, annot=True,linewidths=1, vmin=0.0, vmax=1000.0)\n",
    "plt.show()"
   ]
  },
  {
   "cell_type": "code",
   "execution_count": 26,
   "metadata": {},
   "outputs": [
    {
     "output_type": "stream",
     "name": "stdout",
     "text": [
      "Mean RPM of Neutral:   17.313429\nMean RPM of Happy:   17.828160\nMean RPM of Anger:   13.217591\nMean RPM of Sad:   15.198951\nMean RPM of Surprise:   18.294783\n"
     ]
    }
   ],
   "source": [
    "for i, emotion in enumerate(data_df['pred_emotion'].unique().tolist()):\n",
    "    print('Mean RPM of '+ emotion.capitalize() + ':   %f' %data_df.loc[data_df['pred_emotion']== emotion]['rpm'].mean())"
   ]
  },
  {
   "cell_type": "code",
   "execution_count": 27,
   "metadata": {},
   "outputs": [
    {
     "output_type": "display_data",
     "data": {
      "application/vnd.plotly.v1+json": {
       "config": {
        "plotlyServerURL": "https://plot.ly"
       },
       "data": [
        {
         "mode": "lines",
         "name": "lines",
         "type": "scatter",
         "x": [
          0,
          1.0116788321167882,
          2.0233576642335764,
          3.0350364963503647,
          4.046715328467153,
          5.058394160583941,
          6.070072992700729,
          7.081751824817518,
          8.093430656934306,
          9.105109489051094,
          10.116788321167881,
          11.12846715328467,
          12.140145985401459,
          13.151824817518246,
          14.163503649635036,
          15.175182481751824,
          16.18686131386861,
          17.1985401459854,
          18.210218978102187,
          19.221897810218977,
          20.233576642335763,
          21.245255474452552,
          22.25693430656934,
          23.268613138686128,
          24.280291970802917,
          25.291970802919707,
          26.303649635036493,
          27.315328467153282,
          28.327007299270072,
          29.338686131386858,
          30.350364963503647,
          31.362043795620433,
          32.37372262773722,
          33.38540145985401,
          34.3970802919708,
          35.40875912408759,
          36.420437956204374,
          37.43211678832117,
          38.44379562043795,
          39.45547445255474,
          40.467153284671525,
          41.47883211678832,
          42.490510948905104,
          43.50218978102189,
          44.51386861313868,
          45.52554744525547,
          46.537226277372255,
          47.54890510948905,
          48.560583941605834,
          49.57226277372262,
          50.583941605839414,
          51.5956204379562,
          52.607299270072986,
          53.61897810218978,
          54.630656934306565,
          55.64233576642335,
          56.654014598540144,
          57.66569343065693,
          58.677372262773716,
          59.6890510948905,
          60.700729927007295,
          61.71240875912408,
          62.72408759124087,
          63.73576642335766,
          64.74744525547445,
          65.75912408759123,
          66.77080291970802,
          67.7824817518248,
          68.7941605839416,
          69.80583941605839,
          70.81751824817518,
          71.82919708029196,
          72.84087591240875,
          73.85255474452553,
          74.86423357664233,
          75.87591240875912,
          76.8875912408759,
          77.89927007299269,
          78.91094890510948,
          79.92262773722626,
          80.93430656934305,
          81.94598540145985,
          82.95766423357664,
          83.96934306569342,
          84.98102189781021,
          85.992700729927,
          87.00437956204378,
          88.01605839416058,
          89.02773722627737,
          90.03941605839415,
          91.05109489051094,
          92.06277372262772,
          93.07445255474451,
          94.08613138686131,
          95.0978102189781,
          96.10948905109488,
          97.12116788321167,
          98.13284671532845,
          99.14452554744524,
          100.15620437956203,
          101.16788321167883,
          102.17956204379561,
          103.1912408759124,
          104.20291970802919,
          105.21459854014597,
          106.22627737226276,
          107.23795620437956,
          108.24963503649634,
          109.26131386861313,
          110.27299270072992,
          111.2846715328467,
          112.29635036496349,
          113.30802919708029,
          114.31970802919707,
          115.33138686131386,
          116.34306569343065,
          117.35474452554743,
          118.36642335766422,
          119.378102189781,
          120.3897810218978,
          121.40145985401459,
          122.41313868613138,
          123.42481751824816,
          124.43649635036495,
          125.44817518248173,
          126.45985401459853,
          127.47153284671532,
          128.4832116788321,
          129.4948905109489,
          130.50656934306568,
          131.51824817518246,
          132.52992700729925,
          133.54160583941604,
          134.55328467153282,
          135.5649635036496,
          136.57664233576642,
          137.5883211678832,
          138.6,
          139.61167883211678,
          140.62335766423357,
          141.63503649635035,
          142.64671532846714,
          143.65839416058392,
          144.6700729927007,
          145.6817518248175,
          146.69343065693428,
          147.70510948905107,
          148.71678832116785,
          149.72846715328467,
          150.74014598540145,
          151.75182481751824,
          152.76350364963503,
          153.7751824817518,
          154.7868613138686,
          155.79854014598538,
          156.81021897810217,
          157.82189781021896,
          158.83357664233574,
          159.84525547445253,
          160.85693430656931,
          161.8686131386861,
          162.88029197080292,
          163.8919708029197,
          164.9036496350365,
          165.91532846715327,
          166.92700729927006,
          167.93868613138685,
          168.95036496350363,
          169.96204379562042,
          170.9737226277372,
          171.985401459854,
          172.99708029197078,
          174.00875912408756,
          175.02043795620438,
          176.03211678832116,
          177.04379562043795,
          178.05547445255473,
          179.06715328467152,
          180.0788321167883,
          181.0905109489051,
          182.10218978102188,
          183.11386861313866,
          184.12554744525545,
          185.13722627737224,
          186.14890510948902,
          187.1605839416058,
          188.17226277372262,
          189.1839416058394,
          190.1956204379562,
          191.20729927007298,
          192.21897810218977,
          193.23065693430655,
          194.24233576642334,
          195.25401459854012,
          196.2656934306569,
          197.2773722627737,
          198.28905109489048,
          199.30072992700727,
          200.31240875912405,
          201.32408759124087,
          202.33576642335765,
          203.34744525547444,
          204.35912408759123,
          205.370802919708,
          206.3824817518248,
          207.39416058394158,
          208.40583941605837,
          209.41751824817516,
          210.42919708029194,
          211.44087591240873,
          212.45255474452551,
          213.4642335766423,
          214.47591240875911,
          215.4875912408759,
          216.4992700729927,
          217.51094890510947,
          218.52262773722626,
          219.53430656934304,
          220.54598540145983,
          221.55766423357662,
          222.5693430656934,
          223.5810218978102,
          224.59270072992697,
          225.60437956204376,
          226.61605839416058,
          227.62773722627736,
          228.63941605839415,
          229.65109489051093,
          230.66277372262772,
          231.6744525547445,
          232.6861313868613,
          233.69781021897808,
          234.70948905109486,
          235.72116788321165,
          236.73284671532844,
          237.74452554744522,
          238.756204379562,
          239.76788321167882,
          240.7795620437956,
          241.7912408759124,
          242.80291970802918,
          243.81459854014597,
          244.82627737226275,
          245.83795620437954,
          246.84963503649632,
          247.8613138686131,
          248.8729927007299,
          249.88467153284668,
          250.89635036496347,
          251.90802919708025,
          252.91970802919707,
          253.93138686131385,
          254.94306569343064,
          255.95474452554743,
          256.9664233576642,
          257.978102189781,
          258.9897810218978,
          260.00145985401457,
          261.01313868613136,
          262.02481751824814,
          263.0364963503649,
          264.0481751824817,
          265.0598540145985,
          266.0715328467153,
          267.0832116788321,
          268.09489051094886,
          269.10656934306564,
          270.11824817518243,
          271.1299270072992,
          272.14160583941606,
          273.15328467153284,
          274.16496350364963,
          275.1766423357664,
          276.1883211678832,
          277.2,
          278.2116788321168,
          279.22335766423356,
          280.23503649635035,
          281.24671532846713,
          282.2583941605839,
          283.2700729927007,
          284.2817518248175,
          285.2934306569343,
          286.30510948905106,
          287.31678832116785,
          288.32846715328463,
          289.3401459854014,
          290.3518248175182,
          291.363503649635,
          292.3751824817518,
          293.38686131386856,
          294.39854014598535,
          295.41021897810214,
          296.4218978102189,
          297.4335766423357,
          298.44525547445255,
          299.45693430656934,
          300.4686131386861,
          301.4802919708029,
          302.4919708029197,
          303.5036496350365,
          304.51532846715327,
          305.52700729927005,
          306.53868613138684,
          307.5503649635036,
          308.5620437956204,
          309.5737226277372,
          310.585401459854,
          311.59708029197077,
          312.60875912408756,
          313.62043795620434,
          314.6321167883211,
          315.6437956204379,
          316.6554744525547,
          317.6671532846715,
          318.67883211678827,
          319.69051094890506,
          320.70218978102184,
          321.71386861313863,
          322.7255474452554,
          323.7372262773722,
          324.74890510948904,
          325.76058394160583,
          326.7722627737226,
          327.7839416058394,
          328.7956204379562,
          329.807299270073,
          330.81897810218976,
          331.83065693430655,
          332.84233576642333,
          333.8540145985401,
          334.8656934306569,
          335.8773722627737,
          336.8890510948905,
          337.90072992700726,
          338.91240875912405,
          339.92408759124083,
          340.9357664233576,
          341.9474452554744,
          342.9591240875912,
          343.970802919708,
          344.98248175182476,
          345.99416058394155,
          347.00583941605834,
          348.0175182481751,
          349.0291970802919,
          350.04087591240875,
          351.05255474452554,
          352.0642335766423,
          353.0759124087591,
          354.0875912408759,
          355.0992700729927,
          356.11094890510947,
          357.12262773722625,
          358.13430656934304,
          359.1459854014598,
          360.1576642335766,
          361.1693430656934,
          362.1810218978102,
          363.19270072992697,
          364.20437956204375,
          365.21605839416054,
          366.2277372262773,
          367.2394160583941,
          368.2510948905109,
          369.2627737226277,
          370.27445255474447,
          371.28613138686126,
          372.29781021897804,
          373.30948905109483,
          374.3211678832116,
          375.3328467153284,
          376.34452554744524,
          377.35620437956203,
          378.3678832116788,
          379.3795620437956,
          380.3912408759124,
          381.4029197080292,
          382.41459854014596,
          383.42627737226275,
          384.43795620437953,
          385.4496350364963,
          386.4613138686131,
          387.4729927007299,
          388.4846715328467,
          389.49635036496346,
          390.50802919708025,
          391.51970802919703,
          392.5313868613138,
          393.5430656934306,
          394.5547445255474,
          395.5664233576642,
          396.57810218978096,
          397.58978102189775,
          398.60145985401454,
          399.6131386861313,
          400.6248175182481,
          401.63649635036495,
          402.64817518248174,
          403.6598540145985,
          404.6715328467153,
          405.6832116788321,
          406.6948905109489,
          407.70656934306567,
          408.71824817518245,
          409.72992700729924,
          410.741605839416,
          411.7532846715328,
          412.7649635036496,
          413.7766423357664,
          414.78832116788317,
          415.79999999999995,
          416.81167883211674,
          417.8233576642335,
          418.8350364963503,
          419.8467153284671,
          420.8583941605839,
          421.87007299270067,
          422.88175182481746,
          423.89343065693424,
          424.90510948905103,
          425.9167883211678,
          426.9284671532846,
          427.94014598540144,
          428.95182481751823,
          429.963503649635,
          430.9751824817518,
          431.9868613138686,
          432.9985401459854,
          434.01021897810216,
          435.02189781021895,
          436.03357664233573,
          437.0452554744525,
          438.0569343065693,
          439.0686131386861,
          440.0802919708029,
          441.09197080291966,
          442.10364963503645,
          443.11532846715323,
          444.12700729927,
          445.1386861313868,
          446.1503649635036,
          447.1620437956204,
          448.17372262773716,
          449.18540145985395,
          450.19708029197074,
          451.2087591240875,
          452.2204379562043,
          453.23211678832115,
          454.24379562043794,
          455.2554744525547,
          456.2671532846715,
          457.2788321167883,
          458.2905109489051,
          459.30218978102187,
          460.31386861313865,
          461.32554744525544,
          462.3372262773722,
          463.348905109489,
          464.3605839416058,
          465.3722627737226,
          466.38394160583937,
          467.39562043795615,
          468.40729927007294,
          469.4189781021897,
          470.4306569343065,
          471.4423357664233,
          472.4540145985401,
          473.46569343065687,
          474.47737226277366,
          475.48905109489044,
          476.5007299270072,
          477.512408759124,
          478.5240875912408,
          479.53576642335764,
          480.54744525547443,
          481.5591240875912,
          482.570802919708,
          483.5824817518248,
          484.5941605839416,
          485.60583941605836,
          486.61751824817514,
          487.62919708029193,
          488.6408759124087,
          489.6525547445255,
          490.6642335766423,
          491.6759124087591,
          492.68759124087586,
          493.69927007299265,
          494.71094890510943,
          495.7226277372262,
          496.734306569343,
          497.7459854014598,
          498.7576642335766,
          499.76934306569336,
          500.78102189781015,
          501.79270072992693,
          502.8043795620437,
          503.8160583941605,
          504.8277372262773,
          505.83941605839414,
          506.8510948905109,
          507.8627737226277,
          508.8744525547445,
          509.8861313868613,
          510.89781021897807,
          511.90948905109485,
          512.9211678832116,
          513.9328467153284,
          514.9445255474452,
          515.956204379562,
          516.9678832116788,
          517.9795620437956,
          518.9912408759124,
          520.0029197080291,
          521.0145985401459,
          522.0262773722627,
          523.0379562043795,
          524.0496350364963,
          525.0613138686131,
          526.0729927007299,
          527.0846715328466,
          528.0963503649634,
          529.1080291970802,
          530.119708029197,
          531.1313868613138,
          532.1430656934306,
          533.1547445255474,
          534.1664233576641,
          535.1781021897809,
          536.1897810218977,
          537.2014598540145,
          538.2131386861313,
          539.2248175182481,
          540.2364963503649,
          541.2481751824816,
          542.2598540145984,
          543.2715328467152,
          544.2832116788321,
          545.2948905109489,
          546.3065693430657,
          547.3182481751825,
          548.3299270072993,
          549.341605839416,
          550.3532846715328,
          551.3649635036496,
          552.3766423357664,
          553.3883211678832,
          554.4,
          555.4116788321168,
          556.4233576642335,
          557.4350364963503,
          558.4467153284671,
          559.4583941605839,
          560.4700729927007,
          561.4817518248175,
          562.4934306569343,
          563.505109489051,
          564.5167883211678,
          565.5284671532846,
          566.5401459854014,
          567.5518248175182,
          568.563503649635,
          569.5751824817518,
          570.5868613138686,
          571.5985401459853,
          572.6102189781021,
          573.6218978102189,
          574.6335766423357,
          575.6452554744525,
          576.6569343065693,
          577.668613138686,
          578.6802919708028,
          579.6919708029196,
          580.7036496350364,
          581.7153284671532,
          582.72700729927,
          583.7386861313868,
          584.7503649635036,
          585.7620437956203,
          586.7737226277371,
          587.7854014598539,
          588.7970802919707,
          589.8087591240875,
          590.8204379562043,
          591.8321167883211,
          592.8437956204378,
          593.8554744525546,
          594.8671532846714,
          595.8788321167883,
          596.8905109489051,
          597.9021897810219,
          598.9138686131387,
          599.9255474452555,
          600.9372262773722,
          601.948905109489,
          602.9605839416058,
          603.9722627737226,
          604.9839416058394,
          605.9956204379562,
          607.007299270073,
          608.0189781021897,
          609.0306569343065,
          610.0423357664233,
          611.0540145985401,
          612.0656934306569,
          613.0773722627737,
          614.0890510948905,
          615.1007299270073,
          616.112408759124,
          617.1240875912408,
          618.1357664233576,
          619.1474452554744,
          620.1591240875912,
          621.170802919708,
          622.1824817518248,
          623.1941605839415,
          624.2058394160583,
          625.2175182481751,
          626.2291970802919,
          627.2408759124087,
          628.2525547445255,
          629.2642335766423,
          630.275912408759,
          631.2875912408758,
          632.2992700729926,
          633.3109489051094,
          634.3226277372262,
          635.334306569343,
          636.3459854014598,
          637.3576642335765,
          638.3693430656933,
          639.3810218978101,
          640.3927007299269,
          641.4043795620437,
          642.4160583941605,
          643.4277372262773,
          644.439416058394,
          645.4510948905108,
          646.4627737226276,
          647.4744525547444,
          648.4861313868613,
          649.4978102189781,
          650.5094890510949,
          651.5211678832117,
          652.5328467153284,
          653.5445255474452,
          654.556204379562,
          655.5678832116788,
          656.5795620437956,
          657.5912408759124,
          658.6029197080292,
          659.614598540146,
          660.6262773722627,
          661.6379562043795,
          662.6496350364963,
          663.6613138686131,
          664.6729927007299,
          665.6846715328467,
          666.6963503649635,
          667.7080291970802,
          668.719708029197,
          669.7313868613138,
          670.7430656934306,
          671.7547445255474,
          672.7664233576642,
          673.778102189781,
          674.7897810218977,
          675.8014598540145,
          676.8131386861313,
          677.8248175182481,
          678.8364963503649,
          679.8481751824817,
          680.8598540145985,
          681.8715328467152,
          682.883211678832,
          683.8948905109488,
          684.9065693430656,
          685.9182481751824,
          686.9299270072992,
          687.941605839416,
          688.9532846715327,
          689.9649635036495,
          690.9766423357663,
          691.9883211678831,
          693
         ],
         "y": [
          12.9408,
          12.9408,
          12.9408,
          8.32764,
          8.32764,
          8.32764,
          10.2192,
          10.2192,
          10.2192,
          10.2192,
          10.2192,
          10.3717,
          10.3717,
          10.3717,
          10.3717,
          10.3717,
          10.3717,
          10.3717,
          10.3717,
          10.3717,
          10.3717,
          10.3717,
          10.3717,
          10.3717,
          10.3717,
          10.3717,
          10.3717,
          10.3717,
          10.3717,
          10.3717,
          10.3717,
          10.3717,
          10.3717,
          10.3717,
          10.5361,
          10.5361,
          10.5361,
          10.5361,
          10.5361,
          10.5361,
          10.5361,
          10.5361,
          10.5361,
          10.5361,
          10.7546,
          10.7546,
          10.7546,
          10.7546,
          10.7546,
          10.7546,
          10.7546,
          10.7546,
          10.7546,
          10.7546,
          10.7546,
          10.7546,
          10.7546,
          10.7546,
          10.7546,
          10.7546,
          10.7546,
          10.7546,
          10.7546,
          10.7546,
          10.7546,
          10.7546,
          10.7546,
          10.7546,
          10.7546,
          10.7546,
          10.7546,
          10.7546,
          10.7546,
          10.7546,
          10.7595,
          10.7595,
          10.7595,
          10.7595,
          10.7595,
          10.7595,
          10.7595,
          10.7595,
          10.7595,
          10.7595,
          10.7595,
          10.7595,
          10.7595,
          10.7595,
          10.7595,
          10.7595,
          10.7595,
          10.7595,
          10.7595,
          10.7595,
          10.7595,
          10.7595,
          10.7595,
          10.7595,
          10.7595,
          10.7595,
          10.7595,
          10.7595,
          10.7595,
          10.7595,
          10.7595,
          10.7595,
          10.7595,
          10.7595,
          10.7595,
          10.7595,
          10.7595,
          10.7595,
          10.7595,
          10.7595,
          10.7595,
          10.7595,
          10.7595,
          10.7595,
          10.7595,
          10.7595,
          10.7595,
          10.7595,
          10.7595,
          10.7595,
          10.7595,
          10.7595,
          10.7595,
          10.7595,
          10.7595,
          10.7595,
          10.7595,
          10.7595,
          10.7595,
          10.7595,
          10.7595,
          10.7595,
          10.7595,
          10.7595,
          10.7595,
          10.7595,
          10.7595,
          10.7595,
          10.7595,
          10.7595,
          10.7595,
          10.7595,
          10.7595,
          10.7595,
          10.7595,
          10.7595,
          10.7595,
          10.7595,
          10.7595,
          10.7595,
          10.7595,
          10.7595,
          10.7595,
          10.7595,
          10.7595,
          10.7595,
          10.7595,
          10.7595,
          10.7595,
          10.7595,
          10.7595,
          10.7595,
          10.7595,
          10.7595,
          10.7595,
          10.7595,
          10.7595,
          10.7595,
          10.7595,
          10.7595,
          10.7595,
          10.7595,
          10.7595,
          10.7595,
          10.7595,
          10.7595,
          10.7595,
          10.2253,
          10.2253,
          10.2253,
          10.2253,
          10.2253,
          10.2253,
          10.2253,
          10.2253,
          10.2253,
          10.2253,
          10.2253,
          10.2253,
          10.2253,
          10.2253,
          10.2253,
          10.2253,
          10.2253,
          10.2253,
          10.2253,
          10.2253,
          10.2253,
          10.2253,
          10.2253,
          10.2253,
          10.2253,
          10.2253,
          10.2253,
          10.2253,
          10.2253,
          10.2253,
          10.2357,
          10.2357,
          10.2357,
          10.2357,
          10.2357,
          10.2357,
          10.2357,
          10.2357,
          10.2357,
          10.2357,
          10.2357,
          10.2357,
          10.2357,
          10.2357,
          10.2357,
          10.2357,
          10.2357,
          10.2357,
          10.2357,
          10.2357,
          10.2357,
          10.2357,
          10.2357,
          10.2357,
          10.0548,
          10.0548,
          10.0548,
          10.0548,
          9.24669,
          9.24669,
          9.24669,
          9.24669,
          9.24669,
          9.24669,
          9.24669,
          8.98402,
          8.98402,
          8.98402,
          8.98402,
          8.98402,
          8.98402,
          8.98402,
          8.98402,
          8.98402,
          8.98402,
          8.98402,
          8.98402,
          8.98402,
          8.98402,
          8.98402,
          8.98402,
          8.98402,
          8.98402,
          8.98402,
          8.98402,
          8.98402,
          8.98402,
          8.98402,
          8.98402,
          8.98402,
          8.98402,
          8.98402,
          8.876,
          8.876,
          8.876,
          8.876,
          8.876,
          8.876,
          8.876,
          8.876,
          8.876,
          8.876,
          8.876,
          8.876,
          8.876,
          8.876,
          8.876,
          8.876,
          8.876,
          8.876,
          8.876,
          8.876,
          8.876,
          8.876,
          8.876,
          8.876,
          8.876,
          8.876,
          8.79222,
          8.79222,
          8.79222,
          8.79222,
          8.79222,
          8.79222,
          8.79222,
          8.79222,
          8.79222,
          8.79222,
          8.79222,
          8.79222,
          8.79222,
          8.79222,
          8.79222,
          8.79222,
          8.79222,
          8.79222,
          8.79222,
          8.79222,
          8.79222,
          8.79222,
          8.79222,
          8.79222,
          8.79222,
          8.79222,
          8.79222,
          8.79222,
          8.79222,
          8.79222,
          8.6258,
          8.6258,
          8.6258,
          8.6258,
          8.6258,
          8.6258,
          8.6258,
          8.6258,
          8.6258,
          8.6258,
          8.6258,
          8.6258,
          8.6258,
          8.6258,
          8.6258,
          8.6258,
          8.6258,
          8.6258,
          8.6258,
          8.6258,
          8.6258,
          8.6258,
          8.6258,
          8.6258,
          8.6258,
          8.6258,
          8.6258,
          8.6258,
          8.6258,
          8.6258,
          8.29818,
          8.29818,
          8.29818,
          8.29818,
          8.29818,
          8.29818,
          8.29818,
          8.29818,
          8.29818,
          8.29818,
          8.29818,
          8.29818,
          8.29818,
          8.29818,
          8.29818,
          8.29818,
          8.29818,
          8.29818,
          8.29818,
          8.29818,
          8.29818,
          8.29818,
          8.29818,
          8.29818,
          8.29818,
          8.29818,
          8.29818,
          8.29818,
          8.29818,
          8.29818,
          8.17451,
          8.17451,
          8.17451,
          8.17451,
          8.17451,
          8.17451,
          8.17451,
          8.17451,
          8.17451,
          8.17451,
          8.47741,
          8.47741,
          8.47741,
          8.47741,
          8.47741,
          8.47741,
          8.47741,
          8.47741,
          8.47741,
          8.47741,
          8.47741,
          8.47741,
          8.47741,
          8.47741,
          8.47741,
          8.54665,
          8.54665,
          8.54665,
          8.54665,
          8.54665,
          8.59293,
          8.59293,
          8.59293,
          8.40537,
          29.067,
          29.067,
          29.067,
          29.067,
          29.067,
          29.067,
          29.067,
          29.067,
          29.067,
          29.067,
          29.067,
          29.067,
          29.067,
          29.067,
          29.067,
          29.067,
          29.067,
          28.8027,
          28.8027,
          28.8027,
          28.8027,
          28.8027,
          28.8027,
          28.8027,
          28.8027,
          28.8027,
          28.8027,
          28.8027,
          28.8027,
          10.6382,
          10.6382,
          11.3181,
          11.3181,
          11.3181,
          11.3181,
          11.3181,
          11.3181,
          11.3181,
          11.3181,
          11.3181,
          11.3181,
          11.3181,
          11.2719,
          11.2719,
          11.2719,
          11.2719,
          11.2719,
          11.2719,
          11.2719,
          11.2719,
          11.2719,
          11.2719,
          11.2719,
          11.2719,
          11.2719,
          11.2719,
          11.2719,
          11.2719,
          11.2719,
          11.2719,
          11.2719,
          11.2719,
          11.2719,
          11.2719,
          11.2719,
          11.2719,
          11.2719,
          11.2719,
          11.2719,
          11.2719,
          11.2719,
          11.2719,
          11.1629,
          11.1629,
          11.1629,
          11.1629,
          11.1629,
          11.1629,
          11.1629,
          11.1629,
          11.1629,
          11.1629,
          11.1629,
          11.1629,
          11.1629,
          11.1629,
          11.1629,
          11.1629,
          11.1629,
          11.1629,
          11.1629,
          11.1629,
          11.1629,
          11.1629,
          11.1629,
          11.1629,
          11.1629,
          11.1629,
          11.1629,
          11.1629,
          11.1629,
          11.1629,
          11.0516,
          11.0516,
          11.0516,
          11.0516,
          11.0516,
          11.0516,
          11.0516,
          11.0516,
          11.0516,
          11.0516,
          11.0516,
          11.0516,
          11.0516,
          11.0516,
          11.0516,
          11.0516,
          11.0516,
          11.0516,
          11.0516,
          11.0516,
          11.0516,
          11.0516,
          11.0516,
          11.0516,
          11.0516,
          11.0516,
          11.0516,
          11.0516,
          11.0516,
          11.0516,
          10.9738,
          10.9738,
          10.9738,
          10.9738,
          10.9738,
          10.9738,
          10.9738,
          10.9738,
          10.9738,
          10.9738,
          10.9738,
          10.9738,
          10.9738,
          10.9738,
          10.9738,
          10.9738,
          10.9738,
          10.9738,
          10.9126,
          10.9126,
          10.9126,
          10.9126,
          10.9126,
          10.9126,
          10.9126,
          10.9126,
          10.9126,
          10.9126,
          10.9126,
          10.9126,
          10.9126,
          10.9126,
          10.9126,
          10.9126,
          10.8646,
          10.8646,
          10.8646,
          10.8646,
          10.8646,
          10.8646,
          10.8646,
          10.8646,
          10.8646,
          10.8646,
          10.8646,
          10.8646,
          10.8646,
          10.8646,
          10.8646,
          10.8646,
          10.8646,
          10.8646,
          10.8646,
          10.8646,
          10.8646,
          10.8646,
          10.8646,
          10.8646,
          10.8646,
          10.8646,
          10.8238,
          10.8238,
          10.8238,
          10.8238,
          10.8238,
          10.8238,
          10.8238,
          10.8238,
          10.8238,
          10.8238,
          10.8238,
          10.8238,
          10.8238,
          10.8238,
          10.8238,
          10.8238,
          10.8238,
          10.8238,
          10.8238,
          10.8238,
          10.8238,
          10.8238,
          10.8238,
          10.8238,
          10.8486,
          10.8486,
          10.8486,
          10.8486,
          10.8486,
          10.4957,
          10.4957,
          10.5332,
          12.6361,
          12.6361,
          12.6361,
          12.6361,
          12.6361,
          13.9277,
          13.9277,
          13.9277,
          13.9277,
          13.9277,
          13.9277,
          13.9277,
          13.9277,
          13.9277,
          13.9277,
          13.9277,
          13.9277,
          13.9277,
          20.9487,
          20.9487,
          20.9487,
          20.9487,
          20.9487,
          20.9487,
          20.9487,
          20.9487,
          20.9487,
          20.9487,
          20.9487,
          20.9487,
          21.0704,
          21.0704,
          21.0704,
          21.0704,
          21.0704,
          21.0704,
          21.0704,
          21.0704,
          12.2461
         ]
        },
        {
         "mode": "lines",
         "name": "lines",
         "type": "scatter",
         "x": [
          0,
          1.0116788321167882,
          2.0233576642335764,
          3.0350364963503647,
          4.046715328467153,
          5.058394160583941,
          6.070072992700729,
          7.081751824817518,
          8.093430656934306,
          9.105109489051094,
          10.116788321167881,
          11.12846715328467,
          12.140145985401459,
          13.151824817518246,
          14.163503649635036,
          15.175182481751824,
          16.18686131386861,
          17.1985401459854,
          18.210218978102187,
          19.221897810218977,
          20.233576642335763,
          21.245255474452552,
          22.25693430656934,
          23.268613138686128,
          24.280291970802917,
          25.291970802919707,
          26.303649635036493,
          27.315328467153282,
          28.327007299270072,
          29.338686131386858,
          30.350364963503647,
          31.362043795620433,
          32.37372262773722,
          33.38540145985401,
          34.3970802919708,
          35.40875912408759,
          36.420437956204374,
          37.43211678832117,
          38.44379562043795,
          39.45547445255474,
          40.467153284671525,
          41.47883211678832,
          42.490510948905104,
          43.50218978102189,
          44.51386861313868,
          45.52554744525547,
          46.537226277372255,
          47.54890510948905,
          48.560583941605834,
          49.57226277372262,
          50.583941605839414,
          51.5956204379562,
          52.607299270072986,
          53.61897810218978,
          54.630656934306565,
          55.64233576642335,
          56.654014598540144,
          57.66569343065693,
          58.677372262773716,
          59.6890510948905,
          60.700729927007295,
          61.71240875912408,
          62.72408759124087,
          63.73576642335766,
          64.74744525547445,
          65.75912408759123,
          66.77080291970802,
          67.7824817518248,
          68.7941605839416,
          69.80583941605839,
          70.81751824817518,
          71.82919708029196,
          72.84087591240875,
          73.85255474452553,
          74.86423357664233,
          75.87591240875912,
          76.8875912408759,
          77.89927007299269,
          78.91094890510948,
          79.92262773722626,
          80.93430656934305,
          81.94598540145985,
          82.95766423357664,
          83.96934306569342,
          84.98102189781021,
          85.992700729927,
          87.00437956204378,
          88.01605839416058,
          89.02773722627737,
          90.03941605839415,
          91.05109489051094,
          92.06277372262772,
          93.07445255474451,
          94.08613138686131,
          95.0978102189781,
          96.10948905109488,
          97.12116788321167,
          98.13284671532845,
          99.14452554744524,
          100.15620437956203,
          101.16788321167883,
          102.17956204379561,
          103.1912408759124,
          104.20291970802919,
          105.21459854014597,
          106.22627737226276,
          107.23795620437956,
          108.24963503649634,
          109.26131386861313,
          110.27299270072992,
          111.2846715328467,
          112.29635036496349,
          113.30802919708029,
          114.31970802919707,
          115.33138686131386,
          116.34306569343065,
          117.35474452554743,
          118.36642335766422,
          119.378102189781,
          120.3897810218978,
          121.40145985401459,
          122.41313868613138,
          123.42481751824816,
          124.43649635036495,
          125.44817518248173,
          126.45985401459853,
          127.47153284671532,
          128.4832116788321,
          129.4948905109489,
          130.50656934306568,
          131.51824817518246,
          132.52992700729925,
          133.54160583941604,
          134.55328467153282,
          135.5649635036496,
          136.57664233576642,
          137.5883211678832,
          138.6,
          139.61167883211678,
          140.62335766423357,
          141.63503649635035,
          142.64671532846714,
          143.65839416058392,
          144.6700729927007,
          145.6817518248175,
          146.69343065693428,
          147.70510948905107,
          148.71678832116785,
          149.72846715328467,
          150.74014598540145,
          151.75182481751824,
          152.76350364963503,
          153.7751824817518,
          154.7868613138686,
          155.79854014598538,
          156.81021897810217,
          157.82189781021896,
          158.83357664233574,
          159.84525547445253,
          160.85693430656931,
          161.8686131386861,
          162.88029197080292,
          163.8919708029197,
          164.9036496350365,
          165.91532846715327,
          166.92700729927006,
          167.93868613138685,
          168.95036496350363,
          169.96204379562042,
          170.9737226277372,
          171.985401459854,
          172.99708029197078,
          174.00875912408756,
          175.02043795620438,
          176.03211678832116,
          177.04379562043795,
          178.05547445255473,
          179.06715328467152,
          180.0788321167883,
          181.0905109489051,
          182.10218978102188,
          183.11386861313866,
          184.12554744525545,
          185.13722627737224,
          186.14890510948902,
          187.1605839416058,
          188.17226277372262,
          189.1839416058394,
          190.1956204379562,
          191.20729927007298,
          192.21897810218977,
          193.23065693430655,
          194.24233576642334,
          195.25401459854012,
          196.2656934306569,
          197.2773722627737,
          198.28905109489048,
          199.30072992700727,
          200.31240875912405,
          201.32408759124087,
          202.33576642335765,
          203.34744525547444,
          204.35912408759123,
          205.370802919708,
          206.3824817518248,
          207.39416058394158,
          208.40583941605837,
          209.41751824817516,
          210.42919708029194,
          211.44087591240873,
          212.45255474452551,
          213.4642335766423,
          214.47591240875911,
          215.4875912408759,
          216.4992700729927,
          217.51094890510947,
          218.52262773722626,
          219.53430656934304,
          220.54598540145983,
          221.55766423357662,
          222.5693430656934,
          223.5810218978102,
          224.59270072992697,
          225.60437956204376,
          226.61605839416058,
          227.62773722627736,
          228.63941605839415,
          229.65109489051093,
          230.66277372262772,
          231.6744525547445,
          232.6861313868613,
          233.69781021897808,
          234.70948905109486,
          235.72116788321165,
          236.73284671532844,
          237.74452554744522,
          238.756204379562,
          239.76788321167882,
          240.7795620437956,
          241.7912408759124,
          242.80291970802918,
          243.81459854014597,
          244.82627737226275,
          245.83795620437954,
          246.84963503649632,
          247.8613138686131,
          248.8729927007299,
          249.88467153284668,
          250.89635036496347,
          251.90802919708025,
          252.91970802919707,
          253.93138686131385,
          254.94306569343064,
          255.95474452554743,
          256.9664233576642,
          257.978102189781,
          258.9897810218978,
          260.00145985401457,
          261.01313868613136,
          262.02481751824814,
          263.0364963503649,
          264.0481751824817,
          265.0598540145985,
          266.0715328467153,
          267.0832116788321,
          268.09489051094886,
          269.10656934306564,
          270.11824817518243,
          271.1299270072992,
          272.14160583941606,
          273.15328467153284,
          274.16496350364963,
          275.1766423357664,
          276.1883211678832,
          277.2,
          278.2116788321168,
          279.22335766423356,
          280.23503649635035,
          281.24671532846713,
          282.2583941605839,
          283.2700729927007,
          284.2817518248175,
          285.2934306569343,
          286.30510948905106,
          287.31678832116785,
          288.32846715328463,
          289.3401459854014,
          290.3518248175182,
          291.363503649635,
          292.3751824817518,
          293.38686131386856,
          294.39854014598535,
          295.41021897810214,
          296.4218978102189,
          297.4335766423357,
          298.44525547445255,
          299.45693430656934,
          300.4686131386861,
          301.4802919708029,
          302.4919708029197,
          303.5036496350365,
          304.51532846715327,
          305.52700729927005,
          306.53868613138684,
          307.5503649635036,
          308.5620437956204,
          309.5737226277372,
          310.585401459854,
          311.59708029197077,
          312.60875912408756,
          313.62043795620434,
          314.6321167883211,
          315.6437956204379,
          316.6554744525547,
          317.6671532846715,
          318.67883211678827,
          319.69051094890506,
          320.70218978102184,
          321.71386861313863,
          322.7255474452554,
          323.7372262773722,
          324.74890510948904,
          325.76058394160583,
          326.7722627737226,
          327.7839416058394,
          328.7956204379562,
          329.807299270073,
          330.81897810218976,
          331.83065693430655,
          332.84233576642333,
          333.8540145985401,
          334.8656934306569,
          335.8773722627737,
          336.8890510948905,
          337.90072992700726,
          338.91240875912405,
          339.92408759124083,
          340.9357664233576,
          341.9474452554744,
          342.9591240875912,
          343.970802919708,
          344.98248175182476,
          345.99416058394155,
          347.00583941605834,
          348.0175182481751,
          349.0291970802919,
          350.04087591240875,
          351.05255474452554,
          352.0642335766423,
          353.0759124087591,
          354.0875912408759,
          355.0992700729927,
          356.11094890510947,
          357.12262773722625,
          358.13430656934304,
          359.1459854014598,
          360.1576642335766,
          361.1693430656934,
          362.1810218978102,
          363.19270072992697,
          364.20437956204375,
          365.21605839416054,
          366.2277372262773,
          367.2394160583941,
          368.2510948905109,
          369.2627737226277,
          370.27445255474447,
          371.28613138686126,
          372.29781021897804,
          373.30948905109483,
          374.3211678832116,
          375.3328467153284,
          376.34452554744524,
          377.35620437956203,
          378.3678832116788,
          379.3795620437956,
          380.3912408759124,
          381.4029197080292,
          382.41459854014596,
          383.42627737226275,
          384.43795620437953,
          385.4496350364963,
          386.4613138686131,
          387.4729927007299,
          388.4846715328467,
          389.49635036496346,
          390.50802919708025,
          391.51970802919703,
          392.5313868613138,
          393.5430656934306,
          394.5547445255474,
          395.5664233576642,
          396.57810218978096,
          397.58978102189775,
          398.60145985401454,
          399.6131386861313,
          400.6248175182481,
          401.63649635036495,
          402.64817518248174,
          403.6598540145985,
          404.6715328467153,
          405.6832116788321,
          406.6948905109489,
          407.70656934306567,
          408.71824817518245,
          409.72992700729924,
          410.741605839416,
          411.7532846715328,
          412.7649635036496,
          413.7766423357664,
          414.78832116788317,
          415.79999999999995,
          416.81167883211674,
          417.8233576642335,
          418.8350364963503,
          419.8467153284671,
          420.8583941605839,
          421.87007299270067,
          422.88175182481746,
          423.89343065693424,
          424.90510948905103,
          425.9167883211678,
          426.9284671532846,
          427.94014598540144,
          428.95182481751823,
          429.963503649635,
          430.9751824817518,
          431.9868613138686,
          432.9985401459854,
          434.01021897810216,
          435.02189781021895,
          436.03357664233573,
          437.0452554744525,
          438.0569343065693,
          439.0686131386861,
          440.0802919708029,
          441.09197080291966,
          442.10364963503645,
          443.11532846715323,
          444.12700729927,
          445.1386861313868,
          446.1503649635036,
          447.1620437956204,
          448.17372262773716,
          449.18540145985395,
          450.19708029197074,
          451.2087591240875,
          452.2204379562043,
          453.23211678832115,
          454.24379562043794,
          455.2554744525547,
          456.2671532846715,
          457.2788321167883,
          458.2905109489051,
          459.30218978102187,
          460.31386861313865,
          461.32554744525544,
          462.3372262773722,
          463.348905109489,
          464.3605839416058,
          465.3722627737226,
          466.38394160583937,
          467.39562043795615,
          468.40729927007294,
          469.4189781021897,
          470.4306569343065,
          471.4423357664233,
          472.4540145985401,
          473.46569343065687,
          474.47737226277366,
          475.48905109489044,
          476.5007299270072,
          477.512408759124,
          478.5240875912408,
          479.53576642335764,
          480.54744525547443,
          481.5591240875912,
          482.570802919708,
          483.5824817518248,
          484.5941605839416,
          485.60583941605836,
          486.61751824817514,
          487.62919708029193,
          488.6408759124087,
          489.6525547445255,
          490.6642335766423,
          491.6759124087591,
          492.68759124087586,
          493.69927007299265,
          494.71094890510943,
          495.7226277372262,
          496.734306569343,
          497.7459854014598,
          498.7576642335766,
          499.76934306569336,
          500.78102189781015,
          501.79270072992693,
          502.8043795620437,
          503.8160583941605,
          504.8277372262773,
          505.83941605839414,
          506.8510948905109,
          507.8627737226277,
          508.8744525547445,
          509.8861313868613,
          510.89781021897807,
          511.90948905109485,
          512.9211678832116,
          513.9328467153284,
          514.9445255474452,
          515.956204379562,
          516.9678832116788,
          517.9795620437956,
          518.9912408759124,
          520.0029197080291,
          521.0145985401459,
          522.0262773722627,
          523.0379562043795,
          524.0496350364963,
          525.0613138686131,
          526.0729927007299,
          527.0846715328466,
          528.0963503649634,
          529.1080291970802,
          530.119708029197,
          531.1313868613138,
          532.1430656934306,
          533.1547445255474,
          534.1664233576641,
          535.1781021897809,
          536.1897810218977,
          537.2014598540145,
          538.2131386861313,
          539.2248175182481,
          540.2364963503649,
          541.2481751824816,
          542.2598540145984,
          543.2715328467152,
          544.2832116788321,
          545.2948905109489,
          546.3065693430657,
          547.3182481751825,
          548.3299270072993,
          549.341605839416,
          550.3532846715328,
          551.3649635036496,
          552.3766423357664,
          553.3883211678832,
          554.4,
          555.4116788321168,
          556.4233576642335,
          557.4350364963503,
          558.4467153284671,
          559.4583941605839,
          560.4700729927007,
          561.4817518248175,
          562.4934306569343,
          563.505109489051,
          564.5167883211678,
          565.5284671532846,
          566.5401459854014,
          567.5518248175182,
          568.563503649635,
          569.5751824817518,
          570.5868613138686,
          571.5985401459853,
          572.6102189781021,
          573.6218978102189,
          574.6335766423357,
          575.6452554744525,
          576.6569343065693,
          577.668613138686,
          578.6802919708028,
          579.6919708029196,
          580.7036496350364,
          581.7153284671532,
          582.72700729927,
          583.7386861313868,
          584.7503649635036,
          585.7620437956203,
          586.7737226277371,
          587.7854014598539,
          588.7970802919707,
          589.8087591240875,
          590.8204379562043,
          591.8321167883211,
          592.8437956204378,
          593.8554744525546,
          594.8671532846714,
          595.8788321167883,
          596.8905109489051,
          597.9021897810219,
          598.9138686131387,
          599.9255474452555,
          600.9372262773722,
          601.948905109489,
          602.9605839416058,
          603.9722627737226,
          604.9839416058394,
          605.9956204379562,
          607.007299270073,
          608.0189781021897,
          609.0306569343065,
          610.0423357664233,
          611.0540145985401,
          612.0656934306569,
          613.0773722627737,
          614.0890510948905,
          615.1007299270073,
          616.112408759124,
          617.1240875912408,
          618.1357664233576,
          619.1474452554744,
          620.1591240875912,
          621.170802919708,
          622.1824817518248,
          623.1941605839415,
          624.2058394160583,
          625.2175182481751,
          626.2291970802919,
          627.2408759124087,
          628.2525547445255,
          629.2642335766423,
          630.275912408759,
          631.2875912408758,
          632.2992700729926,
          633.3109489051094,
          634.3226277372262,
          635.334306569343,
          636.3459854014598,
          637.3576642335765,
          638.3693430656933,
          639.3810218978101,
          640.3927007299269,
          641.4043795620437,
          642.4160583941605,
          643.4277372262773,
          644.439416058394,
          645.4510948905108,
          646.4627737226276,
          647.4744525547444,
          648.4861313868613,
          649.4978102189781,
          650.5094890510949,
          651.5211678832117,
          652.5328467153284,
          653.5445255474452,
          654.556204379562,
          655.5678832116788,
          656.5795620437956,
          657.5912408759124,
          658.6029197080292,
          659.614598540146,
          660.6262773722627,
          661.6379562043795,
          662.6496350364963,
          663.6613138686131,
          664.6729927007299,
          665.6846715328467,
          666.6963503649635,
          667.7080291970802,
          668.719708029197,
          669.7313868613138,
          670.7430656934306,
          671.7547445255474,
          672.7664233576642,
          673.778102189781,
          674.7897810218977,
          675.8014598540145,
          676.8131386861313,
          677.8248175182481,
          678.8364963503649,
          679.8481751824817,
          680.8598540145985,
          681.8715328467152,
          682.883211678832,
          683.8948905109488,
          684.9065693430656,
          685.9182481751824,
          686.9299270072992,
          687.941605839416,
          688.9532846715327,
          689.9649635036495,
          690.9766423357663,
          691.9883211678831,
          693
         ],
         "y": [
          0,
          0,
          -4.613159999999999,
          0,
          0,
          1.8915600000000001,
          0,
          0,
          0,
          0,
          0.15249999999999986,
          0,
          0,
          0,
          0,
          0,
          0,
          0,
          0,
          0,
          0,
          0,
          0,
          0,
          0,
          0,
          0,
          0,
          0,
          0,
          0,
          0,
          0,
          0.16439999999999877,
          0,
          0,
          0,
          0,
          0,
          0,
          0,
          0,
          0,
          0.21850000000000058,
          0,
          0,
          0,
          0,
          0,
          0,
          0,
          0,
          0,
          0,
          0,
          0,
          0,
          0,
          0,
          0,
          0,
          0,
          0,
          0,
          0,
          0,
          0,
          0,
          0,
          0,
          0,
          0,
          0,
          0.004899999999999238,
          0,
          0,
          0,
          0,
          0,
          0,
          0,
          0,
          0,
          0,
          0,
          0,
          0,
          0,
          0,
          0,
          0,
          0,
          0,
          0,
          0,
          0,
          0,
          0,
          0,
          0,
          0,
          0,
          0,
          0,
          0,
          0,
          0,
          0,
          0,
          0,
          0,
          0,
          0,
          0,
          0,
          0,
          0,
          0,
          0,
          0,
          0,
          0,
          0,
          0,
          0,
          0,
          0,
          0,
          0,
          0,
          0,
          0,
          0,
          0,
          0,
          0,
          0,
          0,
          0,
          0,
          0,
          0,
          0,
          0,
          0,
          0,
          0,
          0,
          0,
          0,
          0,
          0,
          0,
          0,
          0,
          0,
          0,
          0,
          0,
          0,
          0,
          0,
          0,
          0,
          0,
          0,
          0,
          0,
          0,
          0,
          0,
          0,
          0,
          0,
          0,
          0,
          0,
          0,
          0,
          0,
          -0.5341999999999985,
          0,
          0,
          0,
          0,
          0,
          0,
          0,
          0,
          0,
          0,
          0,
          0,
          0,
          0,
          0,
          0,
          0,
          0,
          0,
          0,
          0,
          0,
          0,
          0,
          0,
          0,
          0,
          0,
          0,
          0.010399999999998855,
          0,
          0,
          0,
          0,
          0,
          0,
          0,
          0,
          0,
          0,
          0,
          0,
          0,
          0,
          0,
          0,
          0,
          0,
          0,
          0,
          0,
          0,
          0,
          -0.1808999999999994,
          0,
          0,
          0,
          -0.808110000000001,
          0,
          0,
          0,
          0,
          0,
          0,
          -0.26266999999999996,
          0,
          0,
          0,
          0,
          0,
          0,
          0,
          0,
          0,
          0,
          0,
          0,
          0,
          0,
          0,
          0,
          0,
          0,
          0,
          0,
          0,
          0,
          0,
          0,
          0,
          0,
          -0.10801999999999978,
          0,
          0,
          0,
          0,
          0,
          0,
          0,
          0,
          0,
          0,
          0,
          0,
          0,
          0,
          0,
          0,
          0,
          0,
          0,
          0,
          0,
          0,
          0,
          0,
          0,
          -0.08377999999999908,
          0,
          0,
          0,
          0,
          0,
          0,
          0,
          0,
          0,
          0,
          0,
          0,
          0,
          0,
          0,
          0,
          0,
          0,
          0,
          0,
          0,
          0,
          0,
          0,
          0,
          0,
          0,
          0,
          0,
          -0.16642000000000046,
          0,
          0,
          0,
          0,
          0,
          0,
          0,
          0,
          0,
          0,
          0,
          0,
          0,
          0,
          0,
          0,
          0,
          0,
          0,
          0,
          0,
          0,
          0,
          0,
          0,
          0,
          0,
          0,
          0,
          -0.3276199999999996,
          0,
          0,
          0,
          0,
          0,
          0,
          0,
          0,
          0,
          0,
          0,
          0,
          0,
          0,
          0,
          0,
          0,
          0,
          0,
          0,
          0,
          0,
          0,
          0,
          0,
          0,
          0,
          0,
          0,
          -0.12367000000000061,
          0,
          0,
          0,
          0,
          0,
          0,
          0,
          0,
          0,
          0.30290000000000106,
          0,
          0,
          0,
          0,
          0,
          0,
          0,
          0,
          0,
          0,
          0,
          0,
          0,
          0,
          0.06923999999999886,
          0,
          0,
          0,
          0,
          0.04628000000000121,
          0,
          0,
          -0.18756000000000128,
          20.661630000000002,
          0,
          0,
          0,
          0,
          0,
          0,
          0,
          0,
          0,
          0,
          0,
          0,
          0,
          0,
          0,
          0,
          -0.26429999999999865,
          0,
          0,
          0,
          0,
          0,
          0,
          0,
          0,
          0,
          0,
          0,
          -18.164500000000004,
          0,
          0.6799,
          0,
          0,
          0,
          0,
          0,
          0,
          0,
          0,
          0,
          0,
          -0.04619999999999891,
          0,
          0,
          0,
          0,
          0,
          0,
          0,
          0,
          0,
          0,
          0,
          0,
          0,
          0,
          0,
          0,
          0,
          0,
          0,
          0,
          0,
          0,
          0,
          0,
          0,
          0,
          0,
          0,
          0,
          -0.10899999999999999,
          0,
          0,
          0,
          0,
          0,
          0,
          0,
          0,
          0,
          0,
          0,
          0,
          0,
          0,
          0,
          0,
          0,
          0,
          0,
          0,
          0,
          0,
          0,
          0,
          0,
          0,
          0,
          0,
          0,
          -0.11129999999999995,
          0,
          0,
          0,
          0,
          0,
          0,
          0,
          0,
          0,
          0,
          0,
          0,
          0,
          0,
          0,
          0,
          0,
          0,
          0,
          0,
          0,
          0,
          0,
          0,
          0,
          0,
          0,
          0,
          0,
          -0.07779999999999987,
          0,
          0,
          0,
          0,
          0,
          0,
          0,
          0,
          0,
          0,
          0,
          0,
          0,
          0,
          0,
          0,
          0,
          -0.06120000000000125,
          0,
          0,
          0,
          0,
          0,
          0,
          0,
          0,
          0,
          0,
          0,
          0,
          0,
          0,
          0,
          -0.04800000000000004,
          0,
          0,
          0,
          0,
          0,
          0,
          0,
          0,
          0,
          0,
          0,
          0,
          0,
          0,
          0,
          0,
          0,
          0,
          0,
          0,
          0,
          0,
          0,
          0,
          0,
          -0.04079999999999906,
          0,
          0,
          0,
          0,
          0,
          0,
          0,
          0,
          0,
          0,
          0,
          0,
          0,
          0,
          0,
          0,
          0,
          0,
          0,
          0,
          0,
          0,
          0,
          0.024799999999999045,
          0,
          0,
          0,
          0,
          -0.3529,
          0,
          0.03750000000000142,
          2.1029,
          0,
          0,
          0,
          0,
          1.291599999999999,
          0,
          0,
          0,
          0,
          0,
          0,
          0,
          0,
          0,
          0,
          0,
          0,
          7.020999999999999,
          0,
          0,
          0,
          0,
          0,
          0,
          0,
          0,
          0,
          0,
          0,
          0.12170000000000059,
          0,
          0,
          0,
          0,
          0,
          0,
          0,
          -8.8243
         ]
        }
       ],
       "layout": {
        "template": {
         "data": {
          "bar": [
           {
            "error_x": {
             "color": "#2a3f5f"
            },
            "error_y": {
             "color": "#2a3f5f"
            },
            "marker": {
             "line": {
              "color": "#E5ECF6",
              "width": 0.5
             }
            },
            "type": "bar"
           }
          ],
          "barpolar": [
           {
            "marker": {
             "line": {
              "color": "#E5ECF6",
              "width": 0.5
             }
            },
            "type": "barpolar"
           }
          ],
          "carpet": [
           {
            "aaxis": {
             "endlinecolor": "#2a3f5f",
             "gridcolor": "white",
             "linecolor": "white",
             "minorgridcolor": "white",
             "startlinecolor": "#2a3f5f"
            },
            "baxis": {
             "endlinecolor": "#2a3f5f",
             "gridcolor": "white",
             "linecolor": "white",
             "minorgridcolor": "white",
             "startlinecolor": "#2a3f5f"
            },
            "type": "carpet"
           }
          ],
          "choropleth": [
           {
            "colorbar": {
             "outlinewidth": 0,
             "ticks": ""
            },
            "type": "choropleth"
           }
          ],
          "contour": [
           {
            "colorbar": {
             "outlinewidth": 0,
             "ticks": ""
            },
            "colorscale": [
             [
              0,
              "#0d0887"
             ],
             [
              0.1111111111111111,
              "#46039f"
             ],
             [
              0.2222222222222222,
              "#7201a8"
             ],
             [
              0.3333333333333333,
              "#9c179e"
             ],
             [
              0.4444444444444444,
              "#bd3786"
             ],
             [
              0.5555555555555556,
              "#d8576b"
             ],
             [
              0.6666666666666666,
              "#ed7953"
             ],
             [
              0.7777777777777778,
              "#fb9f3a"
             ],
             [
              0.8888888888888888,
              "#fdca26"
             ],
             [
              1,
              "#f0f921"
             ]
            ],
            "type": "contour"
           }
          ],
          "contourcarpet": [
           {
            "colorbar": {
             "outlinewidth": 0,
             "ticks": ""
            },
            "type": "contourcarpet"
           }
          ],
          "heatmap": [
           {
            "colorbar": {
             "outlinewidth": 0,
             "ticks": ""
            },
            "colorscale": [
             [
              0,
              "#0d0887"
             ],
             [
              0.1111111111111111,
              "#46039f"
             ],
             [
              0.2222222222222222,
              "#7201a8"
             ],
             [
              0.3333333333333333,
              "#9c179e"
             ],
             [
              0.4444444444444444,
              "#bd3786"
             ],
             [
              0.5555555555555556,
              "#d8576b"
             ],
             [
              0.6666666666666666,
              "#ed7953"
             ],
             [
              0.7777777777777778,
              "#fb9f3a"
             ],
             [
              0.8888888888888888,
              "#fdca26"
             ],
             [
              1,
              "#f0f921"
             ]
            ],
            "type": "heatmap"
           }
          ],
          "heatmapgl": [
           {
            "colorbar": {
             "outlinewidth": 0,
             "ticks": ""
            },
            "colorscale": [
             [
              0,
              "#0d0887"
             ],
             [
              0.1111111111111111,
              "#46039f"
             ],
             [
              0.2222222222222222,
              "#7201a8"
             ],
             [
              0.3333333333333333,
              "#9c179e"
             ],
             [
              0.4444444444444444,
              "#bd3786"
             ],
             [
              0.5555555555555556,
              "#d8576b"
             ],
             [
              0.6666666666666666,
              "#ed7953"
             ],
             [
              0.7777777777777778,
              "#fb9f3a"
             ],
             [
              0.8888888888888888,
              "#fdca26"
             ],
             [
              1,
              "#f0f921"
             ]
            ],
            "type": "heatmapgl"
           }
          ],
          "histogram": [
           {
            "marker": {
             "colorbar": {
              "outlinewidth": 0,
              "ticks": ""
             }
            },
            "type": "histogram"
           }
          ],
          "histogram2d": [
           {
            "colorbar": {
             "outlinewidth": 0,
             "ticks": ""
            },
            "colorscale": [
             [
              0,
              "#0d0887"
             ],
             [
              0.1111111111111111,
              "#46039f"
             ],
             [
              0.2222222222222222,
              "#7201a8"
             ],
             [
              0.3333333333333333,
              "#9c179e"
             ],
             [
              0.4444444444444444,
              "#bd3786"
             ],
             [
              0.5555555555555556,
              "#d8576b"
             ],
             [
              0.6666666666666666,
              "#ed7953"
             ],
             [
              0.7777777777777778,
              "#fb9f3a"
             ],
             [
              0.8888888888888888,
              "#fdca26"
             ],
             [
              1,
              "#f0f921"
             ]
            ],
            "type": "histogram2d"
           }
          ],
          "histogram2dcontour": [
           {
            "colorbar": {
             "outlinewidth": 0,
             "ticks": ""
            },
            "colorscale": [
             [
              0,
              "#0d0887"
             ],
             [
              0.1111111111111111,
              "#46039f"
             ],
             [
              0.2222222222222222,
              "#7201a8"
             ],
             [
              0.3333333333333333,
              "#9c179e"
             ],
             [
              0.4444444444444444,
              "#bd3786"
             ],
             [
              0.5555555555555556,
              "#d8576b"
             ],
             [
              0.6666666666666666,
              "#ed7953"
             ],
             [
              0.7777777777777778,
              "#fb9f3a"
             ],
             [
              0.8888888888888888,
              "#fdca26"
             ],
             [
              1,
              "#f0f921"
             ]
            ],
            "type": "histogram2dcontour"
           }
          ],
          "mesh3d": [
           {
            "colorbar": {
             "outlinewidth": 0,
             "ticks": ""
            },
            "type": "mesh3d"
           }
          ],
          "parcoords": [
           {
            "line": {
             "colorbar": {
              "outlinewidth": 0,
              "ticks": ""
             }
            },
            "type": "parcoords"
           }
          ],
          "pie": [
           {
            "automargin": true,
            "type": "pie"
           }
          ],
          "scatter": [
           {
            "marker": {
             "colorbar": {
              "outlinewidth": 0,
              "ticks": ""
             }
            },
            "type": "scatter"
           }
          ],
          "scatter3d": [
           {
            "line": {
             "colorbar": {
              "outlinewidth": 0,
              "ticks": ""
             }
            },
            "marker": {
             "colorbar": {
              "outlinewidth": 0,
              "ticks": ""
             }
            },
            "type": "scatter3d"
           }
          ],
          "scattercarpet": [
           {
            "marker": {
             "colorbar": {
              "outlinewidth": 0,
              "ticks": ""
             }
            },
            "type": "scattercarpet"
           }
          ],
          "scattergeo": [
           {
            "marker": {
             "colorbar": {
              "outlinewidth": 0,
              "ticks": ""
             }
            },
            "type": "scattergeo"
           }
          ],
          "scattergl": [
           {
            "marker": {
             "colorbar": {
              "outlinewidth": 0,
              "ticks": ""
             }
            },
            "type": "scattergl"
           }
          ],
          "scattermapbox": [
           {
            "marker": {
             "colorbar": {
              "outlinewidth": 0,
              "ticks": ""
             }
            },
            "type": "scattermapbox"
           }
          ],
          "scatterpolar": [
           {
            "marker": {
             "colorbar": {
              "outlinewidth": 0,
              "ticks": ""
             }
            },
            "type": "scatterpolar"
           }
          ],
          "scatterpolargl": [
           {
            "marker": {
             "colorbar": {
              "outlinewidth": 0,
              "ticks": ""
             }
            },
            "type": "scatterpolargl"
           }
          ],
          "scatterternary": [
           {
            "marker": {
             "colorbar": {
              "outlinewidth": 0,
              "ticks": ""
             }
            },
            "type": "scatterternary"
           }
          ],
          "surface": [
           {
            "colorbar": {
             "outlinewidth": 0,
             "ticks": ""
            },
            "colorscale": [
             [
              0,
              "#0d0887"
             ],
             [
              0.1111111111111111,
              "#46039f"
             ],
             [
              0.2222222222222222,
              "#7201a8"
             ],
             [
              0.3333333333333333,
              "#9c179e"
             ],
             [
              0.4444444444444444,
              "#bd3786"
             ],
             [
              0.5555555555555556,
              "#d8576b"
             ],
             [
              0.6666666666666666,
              "#ed7953"
             ],
             [
              0.7777777777777778,
              "#fb9f3a"
             ],
             [
              0.8888888888888888,
              "#fdca26"
             ],
             [
              1,
              "#f0f921"
             ]
            ],
            "type": "surface"
           }
          ],
          "table": [
           {
            "cells": {
             "fill": {
              "color": "#EBF0F8"
             },
             "line": {
              "color": "white"
             }
            },
            "header": {
             "fill": {
              "color": "#C8D4E3"
             },
             "line": {
              "color": "white"
             }
            },
            "type": "table"
           }
          ]
         },
         "layout": {
          "annotationdefaults": {
           "arrowcolor": "#2a3f5f",
           "arrowhead": 0,
           "arrowwidth": 1
          },
          "autotypenumbers": "strict",
          "coloraxis": {
           "colorbar": {
            "outlinewidth": 0,
            "ticks": ""
           }
          },
          "colorscale": {
           "diverging": [
            [
             0,
             "#8e0152"
            ],
            [
             0.1,
             "#c51b7d"
            ],
            [
             0.2,
             "#de77ae"
            ],
            [
             0.3,
             "#f1b6da"
            ],
            [
             0.4,
             "#fde0ef"
            ],
            [
             0.5,
             "#f7f7f7"
            ],
            [
             0.6,
             "#e6f5d0"
            ],
            [
             0.7,
             "#b8e186"
            ],
            [
             0.8,
             "#7fbc41"
            ],
            [
             0.9,
             "#4d9221"
            ],
            [
             1,
             "#276419"
            ]
           ],
           "sequential": [
            [
             0,
             "#0d0887"
            ],
            [
             0.1111111111111111,
             "#46039f"
            ],
            [
             0.2222222222222222,
             "#7201a8"
            ],
            [
             0.3333333333333333,
             "#9c179e"
            ],
            [
             0.4444444444444444,
             "#bd3786"
            ],
            [
             0.5555555555555556,
             "#d8576b"
            ],
            [
             0.6666666666666666,
             "#ed7953"
            ],
            [
             0.7777777777777778,
             "#fb9f3a"
            ],
            [
             0.8888888888888888,
             "#fdca26"
            ],
            [
             1,
             "#f0f921"
            ]
           ],
           "sequentialminus": [
            [
             0,
             "#0d0887"
            ],
            [
             0.1111111111111111,
             "#46039f"
            ],
            [
             0.2222222222222222,
             "#7201a8"
            ],
            [
             0.3333333333333333,
             "#9c179e"
            ],
            [
             0.4444444444444444,
             "#bd3786"
            ],
            [
             0.5555555555555556,
             "#d8576b"
            ],
            [
             0.6666666666666666,
             "#ed7953"
            ],
            [
             0.7777777777777778,
             "#fb9f3a"
            ],
            [
             0.8888888888888888,
             "#fdca26"
            ],
            [
             1,
             "#f0f921"
            ]
           ]
          },
          "colorway": [
           "#636efa",
           "#EF553B",
           "#00cc96",
           "#ab63fa",
           "#FFA15A",
           "#19d3f3",
           "#FF6692",
           "#B6E880",
           "#FF97FF",
           "#FECB52"
          ],
          "font": {
           "color": "#2a3f5f"
          },
          "geo": {
           "bgcolor": "white",
           "lakecolor": "white",
           "landcolor": "#E5ECF6",
           "showlakes": true,
           "showland": true,
           "subunitcolor": "white"
          },
          "hoverlabel": {
           "align": "left"
          },
          "hovermode": "closest",
          "mapbox": {
           "style": "light"
          },
          "paper_bgcolor": "white",
          "plot_bgcolor": "#E5ECF6",
          "polar": {
           "angularaxis": {
            "gridcolor": "white",
            "linecolor": "white",
            "ticks": ""
           },
           "bgcolor": "#E5ECF6",
           "radialaxis": {
            "gridcolor": "white",
            "linecolor": "white",
            "ticks": ""
           }
          },
          "scene": {
           "xaxis": {
            "backgroundcolor": "#E5ECF6",
            "gridcolor": "white",
            "gridwidth": 2,
            "linecolor": "white",
            "showbackground": true,
            "ticks": "",
            "zerolinecolor": "white"
           },
           "yaxis": {
            "backgroundcolor": "#E5ECF6",
            "gridcolor": "white",
            "gridwidth": 2,
            "linecolor": "white",
            "showbackground": true,
            "ticks": "",
            "zerolinecolor": "white"
           },
           "zaxis": {
            "backgroundcolor": "#E5ECF6",
            "gridcolor": "white",
            "gridwidth": 2,
            "linecolor": "white",
            "showbackground": true,
            "ticks": "",
            "zerolinecolor": "white"
           }
          },
          "shapedefaults": {
           "line": {
            "color": "#2a3f5f"
           }
          },
          "ternary": {
           "aaxis": {
            "gridcolor": "white",
            "linecolor": "white",
            "ticks": ""
           },
           "baxis": {
            "gridcolor": "white",
            "linecolor": "white",
            "ticks": ""
           },
           "bgcolor": "#E5ECF6",
           "caxis": {
            "gridcolor": "white",
            "linecolor": "white",
            "ticks": ""
           }
          },
          "title": {
           "x": 0.05
          },
          "xaxis": {
           "automargin": true,
           "gridcolor": "white",
           "linecolor": "white",
           "ticks": "",
           "title": {
            "standoff": 15
           },
           "zerolinecolor": "white",
           "zerolinewidth": 2
          },
          "yaxis": {
           "automargin": true,
           "gridcolor": "white",
           "linecolor": "white",
           "ticks": "",
           "title": {
            "standoff": 15
           },
           "zerolinecolor": "white",
           "zerolinewidth": 2
          }
         }
        }
       }
      }
     },
     "metadata": {}
    }
   ],
   "source": [
    "from datetime import datetime\n",
    "fmt = '%Y-%m-%d %H:%M:%S'\n",
    "\n",
    "# Getting all video data of participant 1\n",
    "df = data_df.loc[data_df['participant_id'] == str(1)]\n",
    "\n",
    "# Grabbing start and stop times for all videos of the current participant\n",
    "ts_first = datetime.strptime(df['rounded_ts'].iloc[0], fmt)\n",
    "ts_last= datetime.strptime(df['rounded_ts'].iloc[-1], fmt)\n",
    "\n",
    "# Time Delta\n",
    "td = int((ts_last-ts_first).total_seconds())\n",
    "\n",
    "# Creating Time Range\n",
    "time_range = np.linspace(0, td, num=len(df['rpm'].tolist()))\n",
    "\n",
    "# Plot rpm over time series\n",
    "\n",
    "## matplotlib version\n",
    "# plt.plot(time_range, df['rpm'].tolist())      \n",
    "# fig = px.line(, x=\"time\", y=\"rpm\", title='RPM Delta')\n",
    "# fig.show()\n",
    "\n",
    "\n",
    "## Plotly version\n",
    "emote_labels = df['pred_emotion']\n",
    "y = df['rpm'].tolist()\n",
    "dy = np.diff(y)\n",
    "\n",
    "fig = go.Figure()\n",
    "\n",
    "fig.add_trace(go.Scatter(x=time_range, y = y,\n",
    "                    mode='lines',\n",
    "                    # mode='lines+text',\n",
    "                    # text=emote_labels,\n",
    "                    name='lines'))\n",
    "\n",
    "#add labels\n",
    "\n",
    "\n",
    "# fig.add_annotation(x=2, y=5,\n",
    "#             text=\"Text annotation with arrow\",\n",
    "#             showarrow=True,\n",
    "#             arrowhead=1)\n",
    "\n",
    "# emote_labels = df['pred_emotion']\n",
    "\n",
    "# fig.add_trace(go.Scatter(\n",
    "#     x=neut_idx,\n",
    "#     y=neutral_df['rpm'].tolist(),\n",
    "#     mode=\"lines+text\",\n",
    "#     name=\"Lines and Text\",\n",
    "#     text=emote_labels,\n",
    "#     textposition=\"bottom center\"\n",
    "\n",
    "\n",
    "fig.add_trace(go.Scatter(x=time_range, y = dy,\n",
    "                    mode='lines',\n",
    "                    name='lines'))\n",
    "fig.show()\n",
    "\n",
    "\n",
    "# Add markers for pred_emotion labels\n",
    "\n",
    "# Show slope"
   ]
  },
  {
   "cell_type": "code",
   "execution_count": 28,
   "metadata": {},
   "outputs": [
    {
     "output_type": "stream",
     "name": "stdout",
     "text": [
      "693\n693\n691\n622\n622\n622\n"
     ]
    },
    {
     "output_type": "execute_result",
     "data": {
      "text/plain": [
       "[12.9408, 12.9408, 12.9408, 8.32764, 8.32764, 8.32764]"
      ]
     },
     "metadata": {},
     "execution_count": 28
    }
   ],
   "source": [
    "# Get list of all emotions\n",
    "emotion_list = data_df['pred_emotion'].unique().tolist()\n",
    "# Build DF for only emotion\n",
    "neutral_df = df[['rounded_ts','rpm','pred_emotion']].loc[df['pred_emotion'] == 'neutral']\n",
    "\n",
    "neut_idx = []\n",
    "neut_rpm = []\n",
    "for ts in neutral_df['rounded_ts'].tolist():\n",
    "    idx = (ts_last - datetime.strptime(ts,fmt))\n",
    "    idx = int(idx.total_seconds())\n",
    "    print(idx)\n",
    "    neut_idx.append(idx)\n",
    "neutral_df['rpm'].tolist()"
   ]
  },
  {
   "cell_type": "code",
   "execution_count": 216,
   "metadata": {},
   "outputs": [
    {
     "output_type": "execute_result",
     "data": {
      "text/plain": [
       "             rounded_ts       rpm pred_emotion\n",
       "46  2021-04-28 17:24:56  12.94080      neutral\n",
       "47  2021-04-28 17:24:56  12.94080      neutral\n",
       "48  2021-04-28 17:24:58  12.94080      neutral\n",
       "60  2021-04-28 17:26:07   8.32764      neutral\n",
       "61  2021-04-28 17:26:07   8.32764      neutral\n",
       "62  2021-04-28 17:26:07   8.32764      neutral"
      ],
      "text/html": "<div>\n<style scoped>\n    .dataframe tbody tr th:only-of-type {\n        vertical-align: middle;\n    }\n\n    .dataframe tbody tr th {\n        vertical-align: top;\n    }\n\n    .dataframe thead th {\n        text-align: right;\n    }\n</style>\n<table border=\"1\" class=\"dataframe\">\n  <thead>\n    <tr style=\"text-align: right;\">\n      <th></th>\n      <th>rounded_ts</th>\n      <th>rpm</th>\n      <th>pred_emotion</th>\n    </tr>\n  </thead>\n  <tbody>\n    <tr>\n      <th>46</th>\n      <td>2021-04-28 17:24:56</td>\n      <td>12.94080</td>\n      <td>neutral</td>\n    </tr>\n    <tr>\n      <th>47</th>\n      <td>2021-04-28 17:24:56</td>\n      <td>12.94080</td>\n      <td>neutral</td>\n    </tr>\n    <tr>\n      <th>48</th>\n      <td>2021-04-28 17:24:58</td>\n      <td>12.94080</td>\n      <td>neutral</td>\n    </tr>\n    <tr>\n      <th>60</th>\n      <td>2021-04-28 17:26:07</td>\n      <td>8.32764</td>\n      <td>neutral</td>\n    </tr>\n    <tr>\n      <th>61</th>\n      <td>2021-04-28 17:26:07</td>\n      <td>8.32764</td>\n      <td>neutral</td>\n    </tr>\n    <tr>\n      <th>62</th>\n      <td>2021-04-28 17:26:07</td>\n      <td>8.32764</td>\n      <td>neutral</td>\n    </tr>\n  </tbody>\n</table>\n</div>"
     },
     "metadata": {},
     "execution_count": 216
    }
   ],
   "source": []
  },
  {
   "cell_type": "code",
   "execution_count": 29,
   "metadata": {},
   "outputs": [
    {
     "output_type": "stream",
     "name": "stderr",
     "text": [
      "<ipython-input-29-aa710cf0a1b8>:7: DeprecationWarning:\n\nThe default dtype for empty Series will be 'object' instead of 'float64' in a future version. Specify a dtype explicitly to silence this warning.\n\n"
     ]
    },
    {
     "output_type": "execute_result",
     "data": {
      "text/plain": [
       "Series([], dtype: float64)"
      ]
     },
     "metadata": {},
     "execution_count": 29
    }
   ],
   "source": [
    "# df = data_df.loc[data_df['participant_id'] == str(1)]\n",
    "emotion_list = data_df['pred_emotion'].unique().tolist()\n",
    "\n",
    "\n",
    "# df[['rounded_ts','rpm','pred_emotion']].loc[df['pred_emotion'] == 'neutral']\n",
    "index =[]\n",
    "emo_list = pd.Series()\n",
    "for emotion in emotion_list:\n",
    "    tmp_emo_list = df[['rounded_ts','rpm','pred_emotion']].loc[df['pred_emotion'] == emotion]['pred_emotion']\n",
    "    emo_list.append(tmp_emo_list)\n",
    "\n",
    "# for ts in df[['rounded_ts','rpm','pred_emotion']].loc[df['pred_emotion'] == emotion]['rounded_ts'].tolist():\n",
    "#     idx = (ts_last - datetime.strptime(ts,fmt))\n",
    "#     idx = int(idx.total_seconds())\n",
    "#     index.append(idx)\n",
    "    \n",
    "# emotion_list, df[['rounded_ts','rpm','pred_emotion']].loc[df['pred_emotion'] == 'neutral'], index\n",
    "tmp_list = list(zip(tmp_emo_list, index))\n",
    "emo_list"
   ]
  },
  {
   "cell_type": "code",
   "execution_count": 30,
   "metadata": {},
   "outputs": [
    {
     "output_type": "execute_result",
     "data": {
      "text/plain": [
       "Series([], Name: pred_emotion, dtype: object)"
      ]
     },
     "metadata": {},
     "execution_count": 30
    }
   ],
   "source": [
    "df[['rounded_ts','rpm','pred_emotion']].loc[df['pred_emotion'] == emotion]['pred_emotion']\n",
    "\n"
   ]
  }
 ],
 "metadata": {
  "kernelspec": {
   "name": "python382jvsc74a57bd031f2aee4e71d21fbe5cf8b01ff0e069b9275f58929596ceb00d14d90e3e16cd6",
   "display_name": "Python 3.6.8 64-bit"
  },
  "language_info": {
   "codemirror_mode": {
    "name": "ipython",
    "version": 3
   },
   "file_extension": ".py",
   "mimetype": "text/x-python",
   "name": "python",
   "nbconvert_exporter": "python",
   "pygments_lexer": "ipython3",
   "version": "3.8.2"
  },
  "metadata": {
   "interpreter": {
    "hash": "31f2aee4e71d21fbe5cf8b01ff0e069b9275f58929596ceb00d14d90e3e16cd6"
   }
  }
 },
 "nbformat": 4,
 "nbformat_minor": 5
}