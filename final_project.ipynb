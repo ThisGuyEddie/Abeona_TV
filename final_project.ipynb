{
 "cells": [
  {
   "cell_type": "markdown",
   "id": "descending-bunch",
   "metadata": {},
   "source": [
    "# Imports"
   ]
  },
  {
   "cell_type": "code",
   "execution_count": 1,
   "id": "racial-stuff",
   "metadata": {},
   "outputs": [],
   "source": [
    "import pandas as pd\n",
    "import plotly.express as px\n",
    "import numpy as np\n",
    "import datetime as dt\n",
    "from plotly.subplots import make_subplots\n",
    "import plotly.graph_objects as go\n",
    "\n",
    "from sklearn.ensemble import RandomForestClassifier\n",
    "from sklearn.ensemble import RandomForestRegressor\n",
    "from imblearn.over_sampling import SMOTE\n",
    "from sklearn.model_selection import train_test_split\n",
    "from sklearn.metrics import plot_confusion_matrix\n",
    "\n",
    "from matplotlib import pyplot as plt\n",
    "from matplotlib import cm as cmap\n",
    "import matplotlib"
   ]
  },
  {
   "cell_type": "markdown",
   "id": "prerequisite-jurisdiction",
   "metadata": {},
   "source": [
    "# Pull Data"
   ]
  },
  {
   "cell_type": "markdown",
   "id": "textile-bruce",
   "metadata": {},
   "source": [
    "## Get the Facial Expression and Joystick Label Data"
   ]
  },
  {
   "cell_type": "code",
   "execution_count": 2,
   "id": "complicated-undergraduate",
   "metadata": {},
   "outputs": [
    {
     "output_type": "stream",
     "name": "stdout",
     "text": [
      "Bad data for participant 2 and video 1\n",
      "Bad data for participant 4 and video 1\n",
      "Bad data for participant 5 and video 4\n",
      "Bad data for participant 7 and video 2\n"
     ]
    }
   ],
   "source": [
    "participants = ['1', '2', '3', '4', '5', '6', '7', '8', '9', '10']\n",
    "videos = {'1': 'neutral', '2': 'positive', '3': 'neutral', '4': 'negative'}\n",
    "\n",
    "pi_df = pd.DataFrame()\n",
    "for participant in participants:\n",
    "    for video in videos.keys():\n",
    "        try:\n",
    "            tmp = pd.read_fwf(f'ubi_data/p{participant}_v{video}.txt', header=None)\n",
    "            tmp_df = tmp[(tmp.index > 94) &\n",
    "                         (tmp.index < len(tmp.index) - 44)][0].str.split(', ', expand=True)\n",
    "            data_cols = ['timestamp', 'x_joystick', 'y_joystick', 'pred_emotion', 'emotion_confidence']\n",
    "            tmp_df.columns = data_cols\n",
    "            tmp_df['participant_id'] = participant\n",
    "            tmp_df['video_id'] = video\n",
    "            tmp_df['video_type'] = videos[video]\n",
    "            tmp_df = tmp_df[['timestamp','participant_id','video_id','video_type'] + data_cols[1:]]\n",
    "\n",
    "            pi_df = pd.concat([pi_df, tmp_df])\n",
    "        except:\n",
    "            print(f'Bad data for participant {participant} and video {video}')\n",
    "            \n",
    "pi_df = pi_df.reset_index(drop=True)\n",
    "\n",
    "# Remove data that doesn't exist in the vital signs\n",
    "pi_df = pi_df[~((pi_df['participant_id'] == '5') & (pi_df['video_id'] == '3'))]\n",
    "\n",
    "pi_df = pi_df[~((pi_df['timestamp'].str.contains('jpegout')) |\n",
    "                (pi_df['timestamp'].str.contains('Opening')) |\n",
    "                (pi_df['timestamp'].str.contains('Attempting')) |\n",
    "                (pi_df['timestamp'].str.contains('Starting')) |\n",
    "                (pi_df['timestamp'].str.contains('Successfully')))]\n",
    "pi_df['timestamp'] = pd.to_datetime(pi_df['timestamp'].astype(float), unit='s').apply(lambda x: x - dt.timedelta(hours=4))\n",
    "pi_df['rounded_ts'] = pi_df.timestamp.astype(str).apply(lambda x: x.split('.')[0])\n",
    "pi_df['x_joystick'] = (-1 * (pi_df['x_joystick'].astype(int) - 500)) / 500\n",
    "del pi_df['timestamp']\n",
    "del pi_df['y_joystick']"
   ]
  },
  {
   "cell_type": "markdown",
   "id": "reliable-plenty",
   "metadata": {},
   "source": [
    "## Get the Respiration and Movement Data"
   ]
  },
  {
   "cell_type": "code",
   "execution_count": 3,
   "id": "diverse-triangle",
   "metadata": {},
   "outputs": [
    {
     "output_type": "stream",
     "name": "stdout",
     "text": [
      "Bad data for participant 2 and video 1\n",
      "Bad data for participant 4 and video 1\n",
      "Bad data for participant 5 and video 3\n",
      "Bad data for participant 5 and video 4\n",
      "Bad data for participant 7 and video 2\n"
     ]
    }
   ],
   "source": [
    "br_df = pd.DataFrame()\n",
    "for participant in participants:\n",
    "    for video in videos.keys():\n",
    "        try:\n",
    "            tmp = pd.read_fwf(f'vitalsigns/p{participant}_v{video}.csv', header=None)\n",
    "            tmp = tmp[(tmp.index > 13)].reset_index(drop=True)[0].str.split(';', expand=True)\n",
    "            tmp.columns = list(tmp[tmp.index == 0].values)[0]\n",
    "            tmp = tmp[tmp.index > 0].reset_index(drop=True).replace('nan', '-1')\n",
    "            tmp['RPM'] = tmp['RPM'].replace('0', np.nan).astype(float)\n",
    "            tmp['Distance'] = tmp['Distance'].astype(float)\n",
    "            tmp['NormalizedMovementSlow'] = tmp['NormalizedMovementSlow'].astype(float)\n",
    "            tmp['NormalizedMovementFast'] = tmp['NormalizedMovementFast'].astype(float)\n",
    "            tmp['NormalizedMovementStart'] = tmp['NormalizedMovementStart'].astype(float)\n",
    "            tmp['NormalizedMovementEnd'] = tmp['NormalizedMovementEnd'].astype(float)\n",
    "            tmp = tmp[['TimeStamp','RPM','Distance','NormalizedMovementSlow','NormalizedMovementFast','NormalizedMovementStart','NormalizedMovementEnd']]\n",
    "            data_cols = ['timestamp','rpm','distance','norm_slow','norm_fast','norm_start','norm_stop']\n",
    "            tmp.columns = data_cols\n",
    "            tmp['timestamp'] = pd.to_datetime(tmp['timestamp'])\n",
    "\n",
    "            tmp['participant_id'] = participant\n",
    "            tmp['video_id'] = video\n",
    "            tmp['video_type'] = videos[video]\n",
    "\n",
    "            tmp = tmp[['timestamp','participant_id','video_id','video_type'] + data_cols[1:]]\n",
    "\n",
    "            br_df = pd.concat([br_df, tmp])\n",
    "        except:\n",
    "            print(f'Bad data for participant {participant} and video {video}')\n",
    "        \n",
    "br_df = br_df.reset_index(drop=True)\n",
    "br_df['rounded_ts'] = br_df.timestamp.astype(str).apply(lambda x: x.split('.')[0])\n",
    "del br_df['timestamp']"
   ]
  },
  {
   "cell_type": "markdown",
   "id": "faced-brown",
   "metadata": {},
   "source": [
    "# Merge the Data"
   ]
  },
  {
   "cell_type": "code",
   "execution_count": 4,
   "id": "anonymous-bosnia",
   "metadata": {},
   "outputs": [],
   "source": [
    "data_df = pi_df.merge(br_df, how='inner', on=['participant_id','video_id','video_type','rounded_ts'])"
   ]
  },
  {
   "cell_type": "code",
   "execution_count": 5,
   "id": "numerical-launch",
   "metadata": {},
   "outputs": [],
   "source": [
    "starter_cols = ['rounded_ts','participant_id','video_id','video_type']\n",
    "other_cols = [x for x in list(data_df.columns) if x not in starter_cols]\n",
    "data_df = data_df[starter_cols + other_cols]\n",
    "data_df = data_df.dropna()"
   ]
  },
  {
   "cell_type": "markdown",
   "id": "advance-rabbit",
   "metadata": {},
   "source": [
    "# Visualize Distributions"
   ]
  },
  {
   "cell_type": "markdown",
   "id": "agreed-diameter",
   "metadata": {},
   "source": [
    "## Participant Data Representation"
   ]
  },
  {
   "cell_type": "code",
   "execution_count": 6,
   "id": "close-melbourne",
   "metadata": {},
   "outputs": [
    {
     "output_type": "display_data",
     "data": {
      "application/vnd.plotly.v1+json": {
       "config": {
        "plotlyServerURL": "https://plot.ly"
       },
       "data": [
        {
         "alignmentgroup": "True",
         "hovertemplate": "Participant ID=%{x}<br>Number of Data Points=%{y}<extra></extra>",
         "legendgroup": "",
         "marker": {
          "color": "#F8766D"
         },
         "name": "",
         "offsetgroup": "",
         "orientation": "v",
         "showlegend": false,
         "textposition": "auto",
         "type": "bar",
         "x": [
          "1",
          "10",
          "2",
          "3",
          "4",
          "5",
          "6",
          "7",
          "8",
          "9"
         ],
         "xaxis": "x",
         "y": [
          686,
          595,
          1561,
          75,
          1299,
          1063,
          236,
          322,
          2841,
          1071
         ],
         "yaxis": "y"
        }
       ],
       "layout": {
        "barmode": "relative",
        "legend": {
         "tracegroupgap": 0
        },
        "template": {
         "data": {
          "bar": [
           {
            "error_x": {
             "color": "rgb(51,51,51)"
            },
            "error_y": {
             "color": "rgb(51,51,51)"
            },
            "marker": {
             "line": {
              "color": "rgb(237,237,237)",
              "width": 0.5
             }
            },
            "type": "bar"
           }
          ],
          "barpolar": [
           {
            "marker": {
             "line": {
              "color": "rgb(237,237,237)",
              "width": 0.5
             }
            },
            "type": "barpolar"
           }
          ],
          "carpet": [
           {
            "aaxis": {
             "endlinecolor": "rgb(51,51,51)",
             "gridcolor": "white",
             "linecolor": "white",
             "minorgridcolor": "white",
             "startlinecolor": "rgb(51,51,51)"
            },
            "baxis": {
             "endlinecolor": "rgb(51,51,51)",
             "gridcolor": "white",
             "linecolor": "white",
             "minorgridcolor": "white",
             "startlinecolor": "rgb(51,51,51)"
            },
            "type": "carpet"
           }
          ],
          "choropleth": [
           {
            "colorbar": {
             "outlinewidth": 0,
             "tickcolor": "rgb(237,237,237)",
             "ticklen": 6,
             "ticks": "inside"
            },
            "type": "choropleth"
           }
          ],
          "contour": [
           {
            "colorbar": {
             "outlinewidth": 0,
             "tickcolor": "rgb(237,237,237)",
             "ticklen": 6,
             "ticks": "inside"
            },
            "colorscale": [
             [
              0,
              "rgb(20,44,66)"
             ],
             [
              1,
              "rgb(90,179,244)"
             ]
            ],
            "type": "contour"
           }
          ],
          "contourcarpet": [
           {
            "colorbar": {
             "outlinewidth": 0,
             "tickcolor": "rgb(237,237,237)",
             "ticklen": 6,
             "ticks": "inside"
            },
            "type": "contourcarpet"
           }
          ],
          "heatmap": [
           {
            "colorbar": {
             "outlinewidth": 0,
             "tickcolor": "rgb(237,237,237)",
             "ticklen": 6,
             "ticks": "inside"
            },
            "colorscale": [
             [
              0,
              "rgb(20,44,66)"
             ],
             [
              1,
              "rgb(90,179,244)"
             ]
            ],
            "type": "heatmap"
           }
          ],
          "heatmapgl": [
           {
            "colorbar": {
             "outlinewidth": 0,
             "tickcolor": "rgb(237,237,237)",
             "ticklen": 6,
             "ticks": "inside"
            },
            "colorscale": [
             [
              0,
              "rgb(20,44,66)"
             ],
             [
              1,
              "rgb(90,179,244)"
             ]
            ],
            "type": "heatmapgl"
           }
          ],
          "histogram": [
           {
            "marker": {
             "colorbar": {
              "outlinewidth": 0,
              "tickcolor": "rgb(237,237,237)",
              "ticklen": 6,
              "ticks": "inside"
             }
            },
            "type": "histogram"
           }
          ],
          "histogram2d": [
           {
            "colorbar": {
             "outlinewidth": 0,
             "tickcolor": "rgb(237,237,237)",
             "ticklen": 6,
             "ticks": "inside"
            },
            "colorscale": [
             [
              0,
              "rgb(20,44,66)"
             ],
             [
              1,
              "rgb(90,179,244)"
             ]
            ],
            "type": "histogram2d"
           }
          ],
          "histogram2dcontour": [
           {
            "colorbar": {
             "outlinewidth": 0,
             "tickcolor": "rgb(237,237,237)",
             "ticklen": 6,
             "ticks": "inside"
            },
            "colorscale": [
             [
              0,
              "rgb(20,44,66)"
             ],
             [
              1,
              "rgb(90,179,244)"
             ]
            ],
            "type": "histogram2dcontour"
           }
          ],
          "mesh3d": [
           {
            "colorbar": {
             "outlinewidth": 0,
             "tickcolor": "rgb(237,237,237)",
             "ticklen": 6,
             "ticks": "inside"
            },
            "type": "mesh3d"
           }
          ],
          "parcoords": [
           {
            "line": {
             "colorbar": {
              "outlinewidth": 0,
              "tickcolor": "rgb(237,237,237)",
              "ticklen": 6,
              "ticks": "inside"
             }
            },
            "type": "parcoords"
           }
          ],
          "pie": [
           {
            "automargin": true,
            "type": "pie"
           }
          ],
          "scatter": [
           {
            "marker": {
             "colorbar": {
              "outlinewidth": 0,
              "tickcolor": "rgb(237,237,237)",
              "ticklen": 6,
              "ticks": "inside"
             }
            },
            "type": "scatter"
           }
          ],
          "scatter3d": [
           {
            "line": {
             "colorbar": {
              "outlinewidth": 0,
              "tickcolor": "rgb(237,237,237)",
              "ticklen": 6,
              "ticks": "inside"
             }
            },
            "marker": {
             "colorbar": {
              "outlinewidth": 0,
              "tickcolor": "rgb(237,237,237)",
              "ticklen": 6,
              "ticks": "inside"
             }
            },
            "type": "scatter3d"
           }
          ],
          "scattercarpet": [
           {
            "marker": {
             "colorbar": {
              "outlinewidth": 0,
              "tickcolor": "rgb(237,237,237)",
              "ticklen": 6,
              "ticks": "inside"
             }
            },
            "type": "scattercarpet"
           }
          ],
          "scattergeo": [
           {
            "marker": {
             "colorbar": {
              "outlinewidth": 0,
              "tickcolor": "rgb(237,237,237)",
              "ticklen": 6,
              "ticks": "inside"
             }
            },
            "type": "scattergeo"
           }
          ],
          "scattergl": [
           {
            "marker": {
             "colorbar": {
              "outlinewidth": 0,
              "tickcolor": "rgb(237,237,237)",
              "ticklen": 6,
              "ticks": "inside"
             }
            },
            "type": "scattergl"
           }
          ],
          "scattermapbox": [
           {
            "marker": {
             "colorbar": {
              "outlinewidth": 0,
              "tickcolor": "rgb(237,237,237)",
              "ticklen": 6,
              "ticks": "inside"
             }
            },
            "type": "scattermapbox"
           }
          ],
          "scatterpolar": [
           {
            "marker": {
             "colorbar": {
              "outlinewidth": 0,
              "tickcolor": "rgb(237,237,237)",
              "ticklen": 6,
              "ticks": "inside"
             }
            },
            "type": "scatterpolar"
           }
          ],
          "scatterpolargl": [
           {
            "marker": {
             "colorbar": {
              "outlinewidth": 0,
              "tickcolor": "rgb(237,237,237)",
              "ticklen": 6,
              "ticks": "inside"
             }
            },
            "type": "scatterpolargl"
           }
          ],
          "scatterternary": [
           {
            "marker": {
             "colorbar": {
              "outlinewidth": 0,
              "tickcolor": "rgb(237,237,237)",
              "ticklen": 6,
              "ticks": "inside"
             }
            },
            "type": "scatterternary"
           }
          ],
          "surface": [
           {
            "colorbar": {
             "outlinewidth": 0,
             "tickcolor": "rgb(237,237,237)",
             "ticklen": 6,
             "ticks": "inside"
            },
            "colorscale": [
             [
              0,
              "rgb(20,44,66)"
             ],
             [
              1,
              "rgb(90,179,244)"
             ]
            ],
            "type": "surface"
           }
          ],
          "table": [
           {
            "cells": {
             "fill": {
              "color": "rgb(237,237,237)"
             },
             "line": {
              "color": "white"
             }
            },
            "header": {
             "fill": {
              "color": "rgb(217,217,217)"
             },
             "line": {
              "color": "white"
             }
            },
            "type": "table"
           }
          ]
         },
         "layout": {
          "annotationdefaults": {
           "arrowhead": 0,
           "arrowwidth": 1
          },
          "autotypenumbers": "strict",
          "coloraxis": {
           "colorbar": {
            "outlinewidth": 0,
            "tickcolor": "rgb(237,237,237)",
            "ticklen": 6,
            "ticks": "inside"
           }
          },
          "colorscale": {
           "sequential": [
            [
             0,
             "rgb(20,44,66)"
            ],
            [
             1,
             "rgb(90,179,244)"
            ]
           ],
           "sequentialminus": [
            [
             0,
             "rgb(20,44,66)"
            ],
            [
             1,
             "rgb(90,179,244)"
            ]
           ]
          },
          "colorway": [
           "#F8766D",
           "#A3A500",
           "#00BF7D",
           "#00B0F6",
           "#E76BF3"
          ],
          "font": {
           "color": "rgb(51,51,51)"
          },
          "geo": {
           "bgcolor": "white",
           "lakecolor": "white",
           "landcolor": "rgb(237,237,237)",
           "showlakes": true,
           "showland": true,
           "subunitcolor": "white"
          },
          "hoverlabel": {
           "align": "left"
          },
          "hovermode": "closest",
          "paper_bgcolor": "white",
          "plot_bgcolor": "rgb(237,237,237)",
          "polar": {
           "angularaxis": {
            "gridcolor": "white",
            "linecolor": "white",
            "showgrid": true,
            "tickcolor": "rgb(51,51,51)",
            "ticks": "outside"
           },
           "bgcolor": "rgb(237,237,237)",
           "radialaxis": {
            "gridcolor": "white",
            "linecolor": "white",
            "showgrid": true,
            "tickcolor": "rgb(51,51,51)",
            "ticks": "outside"
           }
          },
          "scene": {
           "xaxis": {
            "backgroundcolor": "rgb(237,237,237)",
            "gridcolor": "white",
            "gridwidth": 2,
            "linecolor": "white",
            "showbackground": true,
            "showgrid": true,
            "tickcolor": "rgb(51,51,51)",
            "ticks": "outside",
            "zerolinecolor": "white"
           },
           "yaxis": {
            "backgroundcolor": "rgb(237,237,237)",
            "gridcolor": "white",
            "gridwidth": 2,
            "linecolor": "white",
            "showbackground": true,
            "showgrid": true,
            "tickcolor": "rgb(51,51,51)",
            "ticks": "outside",
            "zerolinecolor": "white"
           },
           "zaxis": {
            "backgroundcolor": "rgb(237,237,237)",
            "gridcolor": "white",
            "gridwidth": 2,
            "linecolor": "white",
            "showbackground": true,
            "showgrid": true,
            "tickcolor": "rgb(51,51,51)",
            "ticks": "outside",
            "zerolinecolor": "white"
           }
          },
          "shapedefaults": {
           "fillcolor": "black",
           "line": {
            "width": 0
           },
           "opacity": 0.3
          },
          "ternary": {
           "aaxis": {
            "gridcolor": "white",
            "linecolor": "white",
            "showgrid": true,
            "tickcolor": "rgb(51,51,51)",
            "ticks": "outside"
           },
           "baxis": {
            "gridcolor": "white",
            "linecolor": "white",
            "showgrid": true,
            "tickcolor": "rgb(51,51,51)",
            "ticks": "outside"
           },
           "bgcolor": "rgb(237,237,237)",
           "caxis": {
            "gridcolor": "white",
            "linecolor": "white",
            "showgrid": true,
            "tickcolor": "rgb(51,51,51)",
            "ticks": "outside"
           }
          },
          "xaxis": {
           "automargin": true,
           "gridcolor": "white",
           "linecolor": "white",
           "showgrid": true,
           "tickcolor": "rgb(51,51,51)",
           "ticks": "outside",
           "title": {
            "standoff": 15
           },
           "zerolinecolor": "white"
          },
          "yaxis": {
           "automargin": true,
           "gridcolor": "white",
           "linecolor": "white",
           "showgrid": true,
           "tickcolor": "rgb(51,51,51)",
           "ticks": "outside",
           "title": {
            "standoff": 15
           },
           "zerolinecolor": "white"
          }
         }
        },
        "title": {
         "text": "Participant Data Distribution"
        },
        "xaxis": {
         "anchor": "y",
         "domain": [
          0,
          1
         ],
         "title": {
          "text": "Participant ID"
         }
        },
        "yaxis": {
         "anchor": "x",
         "domain": [
          0,
          1
         ],
         "title": {
          "text": "Number of Data Points"
         }
        }
       }
      }
     },
     "metadata": {}
    }
   ],
   "source": [
    "count_df = data_df.groupby('participant_id').video_id.count().reset_index().rename(columns={'video_id': 'count'})\n",
    "fig = px.bar(count_df, x='participant_id', y='count',\n",
    "             title='Participant Data Distribution',\n",
    "             labels={'count': 'Number of Data Points',\n",
    "                     'participant_id': 'Participant ID'},\n",
    "             template='ggplot2')\n",
    "fig.show()"
   ]
  },
  {
   "cell_type": "markdown",
   "id": "affiliated-replica",
   "metadata": {},
   "source": [
    "## Distribution of User Reported Emotions"
   ]
  },
  {
   "cell_type": "code",
   "execution_count": 7,
   "id": "productive-china",
   "metadata": {},
   "outputs": [
    {
     "output_type": "stream",
     "name": "stderr",
     "text": [
      "<ipython-input-7-e86b86564502>:10: SettingWithCopyWarning:\n\n\nA value is trying to be set on a copy of a slice from a DataFrame.\nTry using .loc[row_indexer,col_indexer] = value instead\n\nSee the caveats in the documentation: https://pandas.pydata.org/pandas-docs/stable/user_guide/indexing.html#returning-a-view-versus-a-copy\n\n"
     ]
    },
    {
     "output_type": "display_data",
     "data": {
      "application/vnd.plotly.v1+json": {
       "config": {
        "plotlyServerURL": "https://plot.ly"
       },
       "data": [
        {
         "type": "bar",
         "x": [
          -1,
          -0.75,
          -0.5,
          -0.25,
          0,
          0.25,
          0.5,
          0.75,
          1
         ],
         "xaxis": "x",
         "y": [
          0,
          0,
          0,
          0,
          3278,
          20,
          18,
          17,
          136
         ],
         "yaxis": "y"
        },
        {
         "type": "bar",
         "x": [
          -1,
          -0.75,
          -0.5,
          -0.25,
          0,
          0.25,
          0.5,
          0.75,
          1
         ],
         "xaxis": "x2",
         "y": [
          7,
          0,
          0,
          0,
          3838,
          92,
          39,
          59,
          942
         ],
         "yaxis": "y2"
        },
        {
         "type": "bar",
         "x": [
          -1,
          -0.75,
          -0.5,
          -0.25,
          0,
          0.25,
          0.5,
          0.75,
          1
         ],
         "xaxis": "x3",
         "y": [
          161,
          17,
          10,
          2,
          932,
          2,
          2,
          3,
          174
         ],
         "yaxis": "y3"
        }
       ],
       "layout": {
        "annotations": [
         {
          "font": {
           "size": 16
          },
          "showarrow": false,
          "text": "Neutral",
          "x": 0.14444444444444446,
          "xanchor": "center",
          "xref": "paper",
          "y": 1,
          "yanchor": "bottom",
          "yref": "paper"
         },
         {
          "font": {
           "size": 16
          },
          "showarrow": false,
          "text": "Positive",
          "x": 0.5,
          "xanchor": "center",
          "xref": "paper",
          "y": 1,
          "yanchor": "bottom",
          "yref": "paper"
         },
         {
          "font": {
           "size": 16
          },
          "showarrow": false,
          "text": "Negative",
          "x": 0.8555555555555556,
          "xanchor": "center",
          "xref": "paper",
          "y": 1,
          "yanchor": "bottom",
          "yref": "paper"
         }
        ],
        "showlegend": false,
        "template": {
         "data": {
          "bar": [
           {
            "error_x": {
             "color": "#2a3f5f"
            },
            "error_y": {
             "color": "#2a3f5f"
            },
            "marker": {
             "line": {
              "color": "#E5ECF6",
              "width": 0.5
             }
            },
            "type": "bar"
           }
          ],
          "barpolar": [
           {
            "marker": {
             "line": {
              "color": "#E5ECF6",
              "width": 0.5
             }
            },
            "type": "barpolar"
           }
          ],
          "carpet": [
           {
            "aaxis": {
             "endlinecolor": "#2a3f5f",
             "gridcolor": "white",
             "linecolor": "white",
             "minorgridcolor": "white",
             "startlinecolor": "#2a3f5f"
            },
            "baxis": {
             "endlinecolor": "#2a3f5f",
             "gridcolor": "white",
             "linecolor": "white",
             "minorgridcolor": "white",
             "startlinecolor": "#2a3f5f"
            },
            "type": "carpet"
           }
          ],
          "choropleth": [
           {
            "colorbar": {
             "outlinewidth": 0,
             "ticks": ""
            },
            "type": "choropleth"
           }
          ],
          "contour": [
           {
            "colorbar": {
             "outlinewidth": 0,
             "ticks": ""
            },
            "colorscale": [
             [
              0,
              "#0d0887"
             ],
             [
              0.1111111111111111,
              "#46039f"
             ],
             [
              0.2222222222222222,
              "#7201a8"
             ],
             [
              0.3333333333333333,
              "#9c179e"
             ],
             [
              0.4444444444444444,
              "#bd3786"
             ],
             [
              0.5555555555555556,
              "#d8576b"
             ],
             [
              0.6666666666666666,
              "#ed7953"
             ],
             [
              0.7777777777777778,
              "#fb9f3a"
             ],
             [
              0.8888888888888888,
              "#fdca26"
             ],
             [
              1,
              "#f0f921"
             ]
            ],
            "type": "contour"
           }
          ],
          "contourcarpet": [
           {
            "colorbar": {
             "outlinewidth": 0,
             "ticks": ""
            },
            "type": "contourcarpet"
           }
          ],
          "heatmap": [
           {
            "colorbar": {
             "outlinewidth": 0,
             "ticks": ""
            },
            "colorscale": [
             [
              0,
              "#0d0887"
             ],
             [
              0.1111111111111111,
              "#46039f"
             ],
             [
              0.2222222222222222,
              "#7201a8"
             ],
             [
              0.3333333333333333,
              "#9c179e"
             ],
             [
              0.4444444444444444,
              "#bd3786"
             ],
             [
              0.5555555555555556,
              "#d8576b"
             ],
             [
              0.6666666666666666,
              "#ed7953"
             ],
             [
              0.7777777777777778,
              "#fb9f3a"
             ],
             [
              0.8888888888888888,
              "#fdca26"
             ],
             [
              1,
              "#f0f921"
             ]
            ],
            "type": "heatmap"
           }
          ],
          "heatmapgl": [
           {
            "colorbar": {
             "outlinewidth": 0,
             "ticks": ""
            },
            "colorscale": [
             [
              0,
              "#0d0887"
             ],
             [
              0.1111111111111111,
              "#46039f"
             ],
             [
              0.2222222222222222,
              "#7201a8"
             ],
             [
              0.3333333333333333,
              "#9c179e"
             ],
             [
              0.4444444444444444,
              "#bd3786"
             ],
             [
              0.5555555555555556,
              "#d8576b"
             ],
             [
              0.6666666666666666,
              "#ed7953"
             ],
             [
              0.7777777777777778,
              "#fb9f3a"
             ],
             [
              0.8888888888888888,
              "#fdca26"
             ],
             [
              1,
              "#f0f921"
             ]
            ],
            "type": "heatmapgl"
           }
          ],
          "histogram": [
           {
            "marker": {
             "colorbar": {
              "outlinewidth": 0,
              "ticks": ""
             }
            },
            "type": "histogram"
           }
          ],
          "histogram2d": [
           {
            "colorbar": {
             "outlinewidth": 0,
             "ticks": ""
            },
            "colorscale": [
             [
              0,
              "#0d0887"
             ],
             [
              0.1111111111111111,
              "#46039f"
             ],
             [
              0.2222222222222222,
              "#7201a8"
             ],
             [
              0.3333333333333333,
              "#9c179e"
             ],
             [
              0.4444444444444444,
              "#bd3786"
             ],
             [
              0.5555555555555556,
              "#d8576b"
             ],
             [
              0.6666666666666666,
              "#ed7953"
             ],
             [
              0.7777777777777778,
              "#fb9f3a"
             ],
             [
              0.8888888888888888,
              "#fdca26"
             ],
             [
              1,
              "#f0f921"
             ]
            ],
            "type": "histogram2d"
           }
          ],
          "histogram2dcontour": [
           {
            "colorbar": {
             "outlinewidth": 0,
             "ticks": ""
            },
            "colorscale": [
             [
              0,
              "#0d0887"
             ],
             [
              0.1111111111111111,
              "#46039f"
             ],
             [
              0.2222222222222222,
              "#7201a8"
             ],
             [
              0.3333333333333333,
              "#9c179e"
             ],
             [
              0.4444444444444444,
              "#bd3786"
             ],
             [
              0.5555555555555556,
              "#d8576b"
             ],
             [
              0.6666666666666666,
              "#ed7953"
             ],
             [
              0.7777777777777778,
              "#fb9f3a"
             ],
             [
              0.8888888888888888,
              "#fdca26"
             ],
             [
              1,
              "#f0f921"
             ]
            ],
            "type": "histogram2dcontour"
           }
          ],
          "mesh3d": [
           {
            "colorbar": {
             "outlinewidth": 0,
             "ticks": ""
            },
            "type": "mesh3d"
           }
          ],
          "parcoords": [
           {
            "line": {
             "colorbar": {
              "outlinewidth": 0,
              "ticks": ""
             }
            },
            "type": "parcoords"
           }
          ],
          "pie": [
           {
            "automargin": true,
            "type": "pie"
           }
          ],
          "scatter": [
           {
            "marker": {
             "colorbar": {
              "outlinewidth": 0,
              "ticks": ""
             }
            },
            "type": "scatter"
           }
          ],
          "scatter3d": [
           {
            "line": {
             "colorbar": {
              "outlinewidth": 0,
              "ticks": ""
             }
            },
            "marker": {
             "colorbar": {
              "outlinewidth": 0,
              "ticks": ""
             }
            },
            "type": "scatter3d"
           }
          ],
          "scattercarpet": [
           {
            "marker": {
             "colorbar": {
              "outlinewidth": 0,
              "ticks": ""
             }
            },
            "type": "scattercarpet"
           }
          ],
          "scattergeo": [
           {
            "marker": {
             "colorbar": {
              "outlinewidth": 0,
              "ticks": ""
             }
            },
            "type": "scattergeo"
           }
          ],
          "scattergl": [
           {
            "marker": {
             "colorbar": {
              "outlinewidth": 0,
              "ticks": ""
             }
            },
            "type": "scattergl"
           }
          ],
          "scattermapbox": [
           {
            "marker": {
             "colorbar": {
              "outlinewidth": 0,
              "ticks": ""
             }
            },
            "type": "scattermapbox"
           }
          ],
          "scatterpolar": [
           {
            "marker": {
             "colorbar": {
              "outlinewidth": 0,
              "ticks": ""
             }
            },
            "type": "scatterpolar"
           }
          ],
          "scatterpolargl": [
           {
            "marker": {
             "colorbar": {
              "outlinewidth": 0,
              "ticks": ""
             }
            },
            "type": "scatterpolargl"
           }
          ],
          "scatterternary": [
           {
            "marker": {
             "colorbar": {
              "outlinewidth": 0,
              "ticks": ""
             }
            },
            "type": "scatterternary"
           }
          ],
          "surface": [
           {
            "colorbar": {
             "outlinewidth": 0,
             "ticks": ""
            },
            "colorscale": [
             [
              0,
              "#0d0887"
             ],
             [
              0.1111111111111111,
              "#46039f"
             ],
             [
              0.2222222222222222,
              "#7201a8"
             ],
             [
              0.3333333333333333,
              "#9c179e"
             ],
             [
              0.4444444444444444,
              "#bd3786"
             ],
             [
              0.5555555555555556,
              "#d8576b"
             ],
             [
              0.6666666666666666,
              "#ed7953"
             ],
             [
              0.7777777777777778,
              "#fb9f3a"
             ],
             [
              0.8888888888888888,
              "#fdca26"
             ],
             [
              1,
              "#f0f921"
             ]
            ],
            "type": "surface"
           }
          ],
          "table": [
           {
            "cells": {
             "fill": {
              "color": "#EBF0F8"
             },
             "line": {
              "color": "white"
             }
            },
            "header": {
             "fill": {
              "color": "#C8D4E3"
             },
             "line": {
              "color": "white"
             }
            },
            "type": "table"
           }
          ]
         },
         "layout": {
          "annotationdefaults": {
           "arrowcolor": "#2a3f5f",
           "arrowhead": 0,
           "arrowwidth": 1
          },
          "autotypenumbers": "strict",
          "coloraxis": {
           "colorbar": {
            "outlinewidth": 0,
            "ticks": ""
           }
          },
          "colorscale": {
           "diverging": [
            [
             0,
             "#8e0152"
            ],
            [
             0.1,
             "#c51b7d"
            ],
            [
             0.2,
             "#de77ae"
            ],
            [
             0.3,
             "#f1b6da"
            ],
            [
             0.4,
             "#fde0ef"
            ],
            [
             0.5,
             "#f7f7f7"
            ],
            [
             0.6,
             "#e6f5d0"
            ],
            [
             0.7,
             "#b8e186"
            ],
            [
             0.8,
             "#7fbc41"
            ],
            [
             0.9,
             "#4d9221"
            ],
            [
             1,
             "#276419"
            ]
           ],
           "sequential": [
            [
             0,
             "#0d0887"
            ],
            [
             0.1111111111111111,
             "#46039f"
            ],
            [
             0.2222222222222222,
             "#7201a8"
            ],
            [
             0.3333333333333333,
             "#9c179e"
            ],
            [
             0.4444444444444444,
             "#bd3786"
            ],
            [
             0.5555555555555556,
             "#d8576b"
            ],
            [
             0.6666666666666666,
             "#ed7953"
            ],
            [
             0.7777777777777778,
             "#fb9f3a"
            ],
            [
             0.8888888888888888,
             "#fdca26"
            ],
            [
             1,
             "#f0f921"
            ]
           ],
           "sequentialminus": [
            [
             0,
             "#0d0887"
            ],
            [
             0.1111111111111111,
             "#46039f"
            ],
            [
             0.2222222222222222,
             "#7201a8"
            ],
            [
             0.3333333333333333,
             "#9c179e"
            ],
            [
             0.4444444444444444,
             "#bd3786"
            ],
            [
             0.5555555555555556,
             "#d8576b"
            ],
            [
             0.6666666666666666,
             "#ed7953"
            ],
            [
             0.7777777777777778,
             "#fb9f3a"
            ],
            [
             0.8888888888888888,
             "#fdca26"
            ],
            [
             1,
             "#f0f921"
            ]
           ]
          },
          "colorway": [
           "#636efa",
           "#EF553B",
           "#00cc96",
           "#ab63fa",
           "#FFA15A",
           "#19d3f3",
           "#FF6692",
           "#B6E880",
           "#FF97FF",
           "#FECB52"
          ],
          "font": {
           "color": "#2a3f5f"
          },
          "geo": {
           "bgcolor": "white",
           "lakecolor": "white",
           "landcolor": "#E5ECF6",
           "showlakes": true,
           "showland": true,
           "subunitcolor": "white"
          },
          "hoverlabel": {
           "align": "left"
          },
          "hovermode": "closest",
          "mapbox": {
           "style": "light"
          },
          "paper_bgcolor": "white",
          "plot_bgcolor": "#E5ECF6",
          "polar": {
           "angularaxis": {
            "gridcolor": "white",
            "linecolor": "white",
            "ticks": ""
           },
           "bgcolor": "#E5ECF6",
           "radialaxis": {
            "gridcolor": "white",
            "linecolor": "white",
            "ticks": ""
           }
          },
          "scene": {
           "xaxis": {
            "backgroundcolor": "#E5ECF6",
            "gridcolor": "white",
            "gridwidth": 2,
            "linecolor": "white",
            "showbackground": true,
            "ticks": "",
            "zerolinecolor": "white"
           },
           "yaxis": {
            "backgroundcolor": "#E5ECF6",
            "gridcolor": "white",
            "gridwidth": 2,
            "linecolor": "white",
            "showbackground": true,
            "ticks": "",
            "zerolinecolor": "white"
           },
           "zaxis": {
            "backgroundcolor": "#E5ECF6",
            "gridcolor": "white",
            "gridwidth": 2,
            "linecolor": "white",
            "showbackground": true,
            "ticks": "",
            "zerolinecolor": "white"
           }
          },
          "shapedefaults": {
           "line": {
            "color": "#2a3f5f"
           }
          },
          "ternary": {
           "aaxis": {
            "gridcolor": "white",
            "linecolor": "white",
            "ticks": ""
           },
           "baxis": {
            "gridcolor": "white",
            "linecolor": "white",
            "ticks": ""
           },
           "bgcolor": "#E5ECF6",
           "caxis": {
            "gridcolor": "white",
            "linecolor": "white",
            "ticks": ""
           }
          },
          "title": {
           "x": 0.05
          },
          "xaxis": {
           "automargin": true,
           "gridcolor": "white",
           "linecolor": "white",
           "ticks": "",
           "title": {
            "standoff": 15
           },
           "zerolinecolor": "white",
           "zerolinewidth": 2
          },
          "yaxis": {
           "automargin": true,
           "gridcolor": "white",
           "linecolor": "white",
           "ticks": "",
           "title": {
            "standoff": 15
           },
           "zerolinecolor": "white",
           "zerolinewidth": 2
          }
         }
        },
        "title": {
         "text": "User-Reported Emotion by Video Type"
        },
        "xaxis": {
         "anchor": "y",
         "domain": [
          0,
          0.2888888888888889
         ]
        },
        "xaxis2": {
         "anchor": "y2",
         "domain": [
          0.35555555555555557,
          0.6444444444444445
         ],
         "title": {
          "text": "Negative to Positive Reported Emotions"
         }
        },
        "xaxis3": {
         "anchor": "y3",
         "domain": [
          0.7111111111111111,
          1
         ]
        },
        "yaxis": {
         "anchor": "x",
         "domain": [
          0,
          1
         ],
         "title": {
          "text": "Count of Reported Emotions"
         }
        },
        "yaxis2": {
         "anchor": "x2",
         "domain": [
          0,
          1
         ]
        },
        "yaxis3": {
         "anchor": "x3",
         "domain": [
          0,
          1
         ]
        }
       }
      }
     },
     "metadata": {}
    }
   ],
   "source": [
    "bins = [-1.5, -0.75, -0.5, -0.25, -0.1, 0.1,\n",
    "        0.25, 0.5, 0.75, 1.5]\n",
    "labels = [-1.0, -0.75, -0.5, -0.25, 0.0, 0.25, 0.5, 0.75, 1.0]\n",
    "\n",
    "fig = make_subplots(rows=1, cols=3,\n",
    "                    subplot_titles=('Neutral','Positive','Negative'))\n",
    "emotions = ['neutral','positive','negative']\n",
    "for i, emotion in enumerate(emotions):\n",
    "    tmp = data_df[data_df['video_type'] == emotion]\n",
    "    tmp['x_joystick'] = pd.cut(tmp['x_joystick'], bins=bins, labels=labels)\n",
    "    tmp = tmp.groupby('x_joystick').video_id.count().reset_index().rename(columns={'video_id':'count'})\n",
    "    fig.add_trace(go.Bar(x=list(tmp['x_joystick']),\n",
    "                         y=list(tmp['count'])),\n",
    "                  row=1, col=i + 1)\n",
    "\n",
    "fig.update_layout(title_text='User-Reported Emotion by Video Type', showlegend=False)\n",
    "fig.update_yaxes(title_text='Count of Reported Emotions', row=1, col=1)\n",
    "fig.update_xaxes(title_text='Negative to Positive Reported Emotions', row=1, col=2)\n",
    "fig.show()"
   ]
  },
  {
   "cell_type": "markdown",
   "id": "historical-telescope",
   "metadata": {},
   "source": [
    "## RPM Distribution "
   ]
  },
  {
   "cell_type": "code",
   "execution_count": 8,
   "id": "hispanic-penetration",
   "metadata": {},
   "outputs": [
    {
     "output_type": "stream",
     "name": "stderr",
     "text": [
      "<ipython-input-8-a7ce55519c6c>:9: SettingWithCopyWarning:\n\n\nA value is trying to be set on a copy of a slice from a DataFrame.\nTry using .loc[row_indexer,col_indexer] = value instead\n\nSee the caveats in the documentation: https://pandas.pydata.org/pandas-docs/stable/user_guide/indexing.html#returning-a-view-versus-a-copy\n\n"
     ]
    },
    {
     "output_type": "display_data",
     "data": {
      "application/vnd.plotly.v1+json": {
       "config": {
        "plotlyServerURL": "https://plot.ly"
       },
       "data": [
        {
         "type": "bar",
         "x": [
          6,
          9,
          12,
          15,
          18,
          21,
          24,
          27,
          30
         ],
         "xaxis": "x",
         "y": [
          32,
          420,
          1031,
          795,
          569,
          307,
          246,
          41,
          28
         ],
         "yaxis": "y"
        },
        {
         "type": "bar",
         "x": [
          6,
          9,
          12,
          15,
          18,
          21,
          24,
          27,
          30
         ],
         "xaxis": "x2",
         "y": [
          261,
          739,
          407,
          512,
          1120,
          314,
          1273,
          180,
          171
         ],
         "yaxis": "y2"
        },
        {
         "type": "bar",
         "x": [
          6,
          9,
          12,
          15,
          18,
          21,
          24,
          27,
          30
         ],
         "xaxis": "x3",
         "y": [
          0,
          0,
          139,
          37,
          244,
          223,
          330,
          330,
          0
         ],
         "yaxis": "y3"
        }
       ],
       "layout": {
        "annotations": [
         {
          "font": {
           "size": 16
          },
          "showarrow": false,
          "text": "Neutral",
          "x": 0.14444444444444446,
          "xanchor": "center",
          "xref": "paper",
          "y": 1,
          "yanchor": "bottom",
          "yref": "paper"
         },
         {
          "font": {
           "size": 16
          },
          "showarrow": false,
          "text": "Positive",
          "x": 0.5,
          "xanchor": "center",
          "xref": "paper",
          "y": 1,
          "yanchor": "bottom",
          "yref": "paper"
         },
         {
          "font": {
           "size": 16
          },
          "showarrow": false,
          "text": "Negative",
          "x": 0.8555555555555556,
          "xanchor": "center",
          "xref": "paper",
          "y": 1,
          "yanchor": "bottom",
          "yref": "paper"
         }
        ],
        "showlegend": false,
        "template": {
         "data": {
          "bar": [
           {
            "error_x": {
             "color": "#2a3f5f"
            },
            "error_y": {
             "color": "#2a3f5f"
            },
            "marker": {
             "line": {
              "color": "#E5ECF6",
              "width": 0.5
             }
            },
            "type": "bar"
           }
          ],
          "barpolar": [
           {
            "marker": {
             "line": {
              "color": "#E5ECF6",
              "width": 0.5
             }
            },
            "type": "barpolar"
           }
          ],
          "carpet": [
           {
            "aaxis": {
             "endlinecolor": "#2a3f5f",
             "gridcolor": "white",
             "linecolor": "white",
             "minorgridcolor": "white",
             "startlinecolor": "#2a3f5f"
            },
            "baxis": {
             "endlinecolor": "#2a3f5f",
             "gridcolor": "white",
             "linecolor": "white",
             "minorgridcolor": "white",
             "startlinecolor": "#2a3f5f"
            },
            "type": "carpet"
           }
          ],
          "choropleth": [
           {
            "colorbar": {
             "outlinewidth": 0,
             "ticks": ""
            },
            "type": "choropleth"
           }
          ],
          "contour": [
           {
            "colorbar": {
             "outlinewidth": 0,
             "ticks": ""
            },
            "colorscale": [
             [
              0,
              "#0d0887"
             ],
             [
              0.1111111111111111,
              "#46039f"
             ],
             [
              0.2222222222222222,
              "#7201a8"
             ],
             [
              0.3333333333333333,
              "#9c179e"
             ],
             [
              0.4444444444444444,
              "#bd3786"
             ],
             [
              0.5555555555555556,
              "#d8576b"
             ],
             [
              0.6666666666666666,
              "#ed7953"
             ],
             [
              0.7777777777777778,
              "#fb9f3a"
             ],
             [
              0.8888888888888888,
              "#fdca26"
             ],
             [
              1,
              "#f0f921"
             ]
            ],
            "type": "contour"
           }
          ],
          "contourcarpet": [
           {
            "colorbar": {
             "outlinewidth": 0,
             "ticks": ""
            },
            "type": "contourcarpet"
           }
          ],
          "heatmap": [
           {
            "colorbar": {
             "outlinewidth": 0,
             "ticks": ""
            },
            "colorscale": [
             [
              0,
              "#0d0887"
             ],
             [
              0.1111111111111111,
              "#46039f"
             ],
             [
              0.2222222222222222,
              "#7201a8"
             ],
             [
              0.3333333333333333,
              "#9c179e"
             ],
             [
              0.4444444444444444,
              "#bd3786"
             ],
             [
              0.5555555555555556,
              "#d8576b"
             ],
             [
              0.6666666666666666,
              "#ed7953"
             ],
             [
              0.7777777777777778,
              "#fb9f3a"
             ],
             [
              0.8888888888888888,
              "#fdca26"
             ],
             [
              1,
              "#f0f921"
             ]
            ],
            "type": "heatmap"
           }
          ],
          "heatmapgl": [
           {
            "colorbar": {
             "outlinewidth": 0,
             "ticks": ""
            },
            "colorscale": [
             [
              0,
              "#0d0887"
             ],
             [
              0.1111111111111111,
              "#46039f"
             ],
             [
              0.2222222222222222,
              "#7201a8"
             ],
             [
              0.3333333333333333,
              "#9c179e"
             ],
             [
              0.4444444444444444,
              "#bd3786"
             ],
             [
              0.5555555555555556,
              "#d8576b"
             ],
             [
              0.6666666666666666,
              "#ed7953"
             ],
             [
              0.7777777777777778,
              "#fb9f3a"
             ],
             [
              0.8888888888888888,
              "#fdca26"
             ],
             [
              1,
              "#f0f921"
             ]
            ],
            "type": "heatmapgl"
           }
          ],
          "histogram": [
           {
            "marker": {
             "colorbar": {
              "outlinewidth": 0,
              "ticks": ""
             }
            },
            "type": "histogram"
           }
          ],
          "histogram2d": [
           {
            "colorbar": {
             "outlinewidth": 0,
             "ticks": ""
            },
            "colorscale": [
             [
              0,
              "#0d0887"
             ],
             [
              0.1111111111111111,
              "#46039f"
             ],
             [
              0.2222222222222222,
              "#7201a8"
             ],
             [
              0.3333333333333333,
              "#9c179e"
             ],
             [
              0.4444444444444444,
              "#bd3786"
             ],
             [
              0.5555555555555556,
              "#d8576b"
             ],
             [
              0.6666666666666666,
              "#ed7953"
             ],
             [
              0.7777777777777778,
              "#fb9f3a"
             ],
             [
              0.8888888888888888,
              "#fdca26"
             ],
             [
              1,
              "#f0f921"
             ]
            ],
            "type": "histogram2d"
           }
          ],
          "histogram2dcontour": [
           {
            "colorbar": {
             "outlinewidth": 0,
             "ticks": ""
            },
            "colorscale": [
             [
              0,
              "#0d0887"
             ],
             [
              0.1111111111111111,
              "#46039f"
             ],
             [
              0.2222222222222222,
              "#7201a8"
             ],
             [
              0.3333333333333333,
              "#9c179e"
             ],
             [
              0.4444444444444444,
              "#bd3786"
             ],
             [
              0.5555555555555556,
              "#d8576b"
             ],
             [
              0.6666666666666666,
              "#ed7953"
             ],
             [
              0.7777777777777778,
              "#fb9f3a"
             ],
             [
              0.8888888888888888,
              "#fdca26"
             ],
             [
              1,
              "#f0f921"
             ]
            ],
            "type": "histogram2dcontour"
           }
          ],
          "mesh3d": [
           {
            "colorbar": {
             "outlinewidth": 0,
             "ticks": ""
            },
            "type": "mesh3d"
           }
          ],
          "parcoords": [
           {
            "line": {
             "colorbar": {
              "outlinewidth": 0,
              "ticks": ""
             }
            },
            "type": "parcoords"
           }
          ],
          "pie": [
           {
            "automargin": true,
            "type": "pie"
           }
          ],
          "scatter": [
           {
            "marker": {
             "colorbar": {
              "outlinewidth": 0,
              "ticks": ""
             }
            },
            "type": "scatter"
           }
          ],
          "scatter3d": [
           {
            "line": {
             "colorbar": {
              "outlinewidth": 0,
              "ticks": ""
             }
            },
            "marker": {
             "colorbar": {
              "outlinewidth": 0,
              "ticks": ""
             }
            },
            "type": "scatter3d"
           }
          ],
          "scattercarpet": [
           {
            "marker": {
             "colorbar": {
              "outlinewidth": 0,
              "ticks": ""
             }
            },
            "type": "scattercarpet"
           }
          ],
          "scattergeo": [
           {
            "marker": {
             "colorbar": {
              "outlinewidth": 0,
              "ticks": ""
             }
            },
            "type": "scattergeo"
           }
          ],
          "scattergl": [
           {
            "marker": {
             "colorbar": {
              "outlinewidth": 0,
              "ticks": ""
             }
            },
            "type": "scattergl"
           }
          ],
          "scattermapbox": [
           {
            "marker": {
             "colorbar": {
              "outlinewidth": 0,
              "ticks": ""
             }
            },
            "type": "scattermapbox"
           }
          ],
          "scatterpolar": [
           {
            "marker": {
             "colorbar": {
              "outlinewidth": 0,
              "ticks": ""
             }
            },
            "type": "scatterpolar"
           }
          ],
          "scatterpolargl": [
           {
            "marker": {
             "colorbar": {
              "outlinewidth": 0,
              "ticks": ""
             }
            },
            "type": "scatterpolargl"
           }
          ],
          "scatterternary": [
           {
            "marker": {
             "colorbar": {
              "outlinewidth": 0,
              "ticks": ""
             }
            },
            "type": "scatterternary"
           }
          ],
          "surface": [
           {
            "colorbar": {
             "outlinewidth": 0,
             "ticks": ""
            },
            "colorscale": [
             [
              0,
              "#0d0887"
             ],
             [
              0.1111111111111111,
              "#46039f"
             ],
             [
              0.2222222222222222,
              "#7201a8"
             ],
             [
              0.3333333333333333,
              "#9c179e"
             ],
             [
              0.4444444444444444,
              "#bd3786"
             ],
             [
              0.5555555555555556,
              "#d8576b"
             ],
             [
              0.6666666666666666,
              "#ed7953"
             ],
             [
              0.7777777777777778,
              "#fb9f3a"
             ],
             [
              0.8888888888888888,
              "#fdca26"
             ],
             [
              1,
              "#f0f921"
             ]
            ],
            "type": "surface"
           }
          ],
          "table": [
           {
            "cells": {
             "fill": {
              "color": "#EBF0F8"
             },
             "line": {
              "color": "white"
             }
            },
            "header": {
             "fill": {
              "color": "#C8D4E3"
             },
             "line": {
              "color": "white"
             }
            },
            "type": "table"
           }
          ]
         },
         "layout": {
          "annotationdefaults": {
           "arrowcolor": "#2a3f5f",
           "arrowhead": 0,
           "arrowwidth": 1
          },
          "autotypenumbers": "strict",
          "coloraxis": {
           "colorbar": {
            "outlinewidth": 0,
            "ticks": ""
           }
          },
          "colorscale": {
           "diverging": [
            [
             0,
             "#8e0152"
            ],
            [
             0.1,
             "#c51b7d"
            ],
            [
             0.2,
             "#de77ae"
            ],
            [
             0.3,
             "#f1b6da"
            ],
            [
             0.4,
             "#fde0ef"
            ],
            [
             0.5,
             "#f7f7f7"
            ],
            [
             0.6,
             "#e6f5d0"
            ],
            [
             0.7,
             "#b8e186"
            ],
            [
             0.8,
             "#7fbc41"
            ],
            [
             0.9,
             "#4d9221"
            ],
            [
             1,
             "#276419"
            ]
           ],
           "sequential": [
            [
             0,
             "#0d0887"
            ],
            [
             0.1111111111111111,
             "#46039f"
            ],
            [
             0.2222222222222222,
             "#7201a8"
            ],
            [
             0.3333333333333333,
             "#9c179e"
            ],
            [
             0.4444444444444444,
             "#bd3786"
            ],
            [
             0.5555555555555556,
             "#d8576b"
            ],
            [
             0.6666666666666666,
             "#ed7953"
            ],
            [
             0.7777777777777778,
             "#fb9f3a"
            ],
            [
             0.8888888888888888,
             "#fdca26"
            ],
            [
             1,
             "#f0f921"
            ]
           ],
           "sequentialminus": [
            [
             0,
             "#0d0887"
            ],
            [
             0.1111111111111111,
             "#46039f"
            ],
            [
             0.2222222222222222,
             "#7201a8"
            ],
            [
             0.3333333333333333,
             "#9c179e"
            ],
            [
             0.4444444444444444,
             "#bd3786"
            ],
            [
             0.5555555555555556,
             "#d8576b"
            ],
            [
             0.6666666666666666,
             "#ed7953"
            ],
            [
             0.7777777777777778,
             "#fb9f3a"
            ],
            [
             0.8888888888888888,
             "#fdca26"
            ],
            [
             1,
             "#f0f921"
            ]
           ]
          },
          "colorway": [
           "#636efa",
           "#EF553B",
           "#00cc96",
           "#ab63fa",
           "#FFA15A",
           "#19d3f3",
           "#FF6692",
           "#B6E880",
           "#FF97FF",
           "#FECB52"
          ],
          "font": {
           "color": "#2a3f5f"
          },
          "geo": {
           "bgcolor": "white",
           "lakecolor": "white",
           "landcolor": "#E5ECF6",
           "showlakes": true,
           "showland": true,
           "subunitcolor": "white"
          },
          "hoverlabel": {
           "align": "left"
          },
          "hovermode": "closest",
          "mapbox": {
           "style": "light"
          },
          "paper_bgcolor": "white",
          "plot_bgcolor": "#E5ECF6",
          "polar": {
           "angularaxis": {
            "gridcolor": "white",
            "linecolor": "white",
            "ticks": ""
           },
           "bgcolor": "#E5ECF6",
           "radialaxis": {
            "gridcolor": "white",
            "linecolor": "white",
            "ticks": ""
           }
          },
          "scene": {
           "xaxis": {
            "backgroundcolor": "#E5ECF6",
            "gridcolor": "white",
            "gridwidth": 2,
            "linecolor": "white",
            "showbackground": true,
            "ticks": "",
            "zerolinecolor": "white"
           },
           "yaxis": {
            "backgroundcolor": "#E5ECF6",
            "gridcolor": "white",
            "gridwidth": 2,
            "linecolor": "white",
            "showbackground": true,
            "ticks": "",
            "zerolinecolor": "white"
           },
           "zaxis": {
            "backgroundcolor": "#E5ECF6",
            "gridcolor": "white",
            "gridwidth": 2,
            "linecolor": "white",
            "showbackground": true,
            "ticks": "",
            "zerolinecolor": "white"
           }
          },
          "shapedefaults": {
           "line": {
            "color": "#2a3f5f"
           }
          },
          "ternary": {
           "aaxis": {
            "gridcolor": "white",
            "linecolor": "white",
            "ticks": ""
           },
           "baxis": {
            "gridcolor": "white",
            "linecolor": "white",
            "ticks": ""
           },
           "bgcolor": "#E5ECF6",
           "caxis": {
            "gridcolor": "white",
            "linecolor": "white",
            "ticks": ""
           }
          },
          "title": {
           "x": 0.05
          },
          "xaxis": {
           "automargin": true,
           "gridcolor": "white",
           "linecolor": "white",
           "ticks": "",
           "title": {
            "standoff": 15
           },
           "zerolinecolor": "white",
           "zerolinewidth": 2
          },
          "yaxis": {
           "automargin": true,
           "gridcolor": "white",
           "linecolor": "white",
           "ticks": "",
           "title": {
            "standoff": 15
           },
           "zerolinecolor": "white",
           "zerolinewidth": 2
          }
         }
        },
        "title": {
         "text": "RPM by Video Type"
        },
        "xaxis": {
         "anchor": "y",
         "domain": [
          0,
          0.2888888888888889
         ]
        },
        "xaxis2": {
         "anchor": "y2",
         "domain": [
          0.35555555555555557,
          0.6444444444444445
         ],
         "title": {
          "text": "Respiration Rate"
         }
        },
        "xaxis3": {
         "anchor": "y3",
         "domain": [
          0.7111111111111111,
          1
         ]
        },
        "yaxis": {
         "anchor": "x",
         "domain": [
          0,
          1
         ],
         "title": {
          "text": "Count"
         }
        },
        "yaxis2": {
         "anchor": "x2",
         "domain": [
          0,
          1
         ]
        },
        "yaxis3": {
         "anchor": "x3",
         "domain": [
          0,
          1
         ]
        }
       }
      }
     },
     "metadata": {}
    }
   ],
   "source": [
    "bins = [6, 9, 12, 15, 16.5, 19.5, 21, 24, 27, 30]\n",
    "labels = [6, 9, 12, 15, 18, 21, 24, 27, 30]\n",
    "\n",
    "fig = make_subplots(rows=1, cols=3,\n",
    "                    subplot_titles=('Neutral','Positive','Negative'))\n",
    "emotions = ['neutral','positive','negative']\n",
    "for i, emotion in enumerate(emotions):\n",
    "    tmp = data_df[data_df['video_type'] == emotion]\n",
    "    tmp['rpm'] = pd.cut(tmp['rpm'], bins=bins, labels=labels)\n",
    "    tmp = tmp.groupby('rpm').video_id.count().reset_index().rename(columns={'video_id':'count'})\n",
    "    fig.add_trace(go.Bar(x=list(tmp['rpm']),\n",
    "                         y=list(tmp['count'])),\n",
    "                  row=1, col=i + 1)\n",
    "\n",
    "fig.update_layout(title_text='RPM by Video Type', showlegend=False)\n",
    "fig.update_yaxes(title_text='Count', row=1, col=1)\n",
    "fig.update_xaxes(title_text='Respiration Rate', row=1, col=2)\n",
    "fig.show()"
   ]
  },
  {
   "cell_type": "markdown",
   "id": "czech-amber",
   "metadata": {},
   "source": [
    "## Predicted Emotion Distribution"
   ]
  },
  {
   "cell_type": "code",
   "execution_count": 9,
   "id": "consistent-cherry",
   "metadata": {},
   "outputs": [
    {
     "output_type": "display_data",
     "data": {
      "application/vnd.plotly.v1+json": {
       "config": {
        "plotlyServerURL": "https://plot.ly"
       },
       "data": [
        {
         "type": "bar",
         "x": [
          "anger",
          "happy",
          "neutral",
          "sad",
          "surprise"
         ],
         "xaxis": "x",
         "y": [
          23,
          726,
          2118,
          573,
          29
         ],
         "yaxis": "y"
        },
        {
         "type": "bar",
         "x": [
          "anger",
          "happy",
          "neutral",
          "sad"
         ],
         "xaxis": "x2",
         "y": [
          74,
          3749,
          1142,
          12
         ],
         "yaxis": "y2"
        },
        {
         "type": "bar",
         "x": [
          "happy",
          "neutral",
          "sad",
          "surprise"
         ],
         "xaxis": "x3",
         "y": [
          557,
          561,
          59,
          126
         ],
         "yaxis": "y3"
        }
       ],
       "layout": {
        "annotations": [
         {
          "font": {
           "size": 16
          },
          "showarrow": false,
          "text": "Neutral",
          "x": 0.14444444444444446,
          "xanchor": "center",
          "xref": "paper",
          "y": 1,
          "yanchor": "bottom",
          "yref": "paper"
         },
         {
          "font": {
           "size": 16
          },
          "showarrow": false,
          "text": "Positive",
          "x": 0.5,
          "xanchor": "center",
          "xref": "paper",
          "y": 1,
          "yanchor": "bottom",
          "yref": "paper"
         },
         {
          "font": {
           "size": 16
          },
          "showarrow": false,
          "text": "Negative",
          "x": 0.8555555555555556,
          "xanchor": "center",
          "xref": "paper",
          "y": 1,
          "yanchor": "bottom",
          "yref": "paper"
         }
        ],
        "showlegend": false,
        "template": {
         "data": {
          "bar": [
           {
            "error_x": {
             "color": "#2a3f5f"
            },
            "error_y": {
             "color": "#2a3f5f"
            },
            "marker": {
             "line": {
              "color": "#E5ECF6",
              "width": 0.5
             }
            },
            "type": "bar"
           }
          ],
          "barpolar": [
           {
            "marker": {
             "line": {
              "color": "#E5ECF6",
              "width": 0.5
             }
            },
            "type": "barpolar"
           }
          ],
          "carpet": [
           {
            "aaxis": {
             "endlinecolor": "#2a3f5f",
             "gridcolor": "white",
             "linecolor": "white",
             "minorgridcolor": "white",
             "startlinecolor": "#2a3f5f"
            },
            "baxis": {
             "endlinecolor": "#2a3f5f",
             "gridcolor": "white",
             "linecolor": "white",
             "minorgridcolor": "white",
             "startlinecolor": "#2a3f5f"
            },
            "type": "carpet"
           }
          ],
          "choropleth": [
           {
            "colorbar": {
             "outlinewidth": 0,
             "ticks": ""
            },
            "type": "choropleth"
           }
          ],
          "contour": [
           {
            "colorbar": {
             "outlinewidth": 0,
             "ticks": ""
            },
            "colorscale": [
             [
              0,
              "#0d0887"
             ],
             [
              0.1111111111111111,
              "#46039f"
             ],
             [
              0.2222222222222222,
              "#7201a8"
             ],
             [
              0.3333333333333333,
              "#9c179e"
             ],
             [
              0.4444444444444444,
              "#bd3786"
             ],
             [
              0.5555555555555556,
              "#d8576b"
             ],
             [
              0.6666666666666666,
              "#ed7953"
             ],
             [
              0.7777777777777778,
              "#fb9f3a"
             ],
             [
              0.8888888888888888,
              "#fdca26"
             ],
             [
              1,
              "#f0f921"
             ]
            ],
            "type": "contour"
           }
          ],
          "contourcarpet": [
           {
            "colorbar": {
             "outlinewidth": 0,
             "ticks": ""
            },
            "type": "contourcarpet"
           }
          ],
          "heatmap": [
           {
            "colorbar": {
             "outlinewidth": 0,
             "ticks": ""
            },
            "colorscale": [
             [
              0,
              "#0d0887"
             ],
             [
              0.1111111111111111,
              "#46039f"
             ],
             [
              0.2222222222222222,
              "#7201a8"
             ],
             [
              0.3333333333333333,
              "#9c179e"
             ],
             [
              0.4444444444444444,
              "#bd3786"
             ],
             [
              0.5555555555555556,
              "#d8576b"
             ],
             [
              0.6666666666666666,
              "#ed7953"
             ],
             [
              0.7777777777777778,
              "#fb9f3a"
             ],
             [
              0.8888888888888888,
              "#fdca26"
             ],
             [
              1,
              "#f0f921"
             ]
            ],
            "type": "heatmap"
           }
          ],
          "heatmapgl": [
           {
            "colorbar": {
             "outlinewidth": 0,
             "ticks": ""
            },
            "colorscale": [
             [
              0,
              "#0d0887"
             ],
             [
              0.1111111111111111,
              "#46039f"
             ],
             [
              0.2222222222222222,
              "#7201a8"
             ],
             [
              0.3333333333333333,
              "#9c179e"
             ],
             [
              0.4444444444444444,
              "#bd3786"
             ],
             [
              0.5555555555555556,
              "#d8576b"
             ],
             [
              0.6666666666666666,
              "#ed7953"
             ],
             [
              0.7777777777777778,
              "#fb9f3a"
             ],
             [
              0.8888888888888888,
              "#fdca26"
             ],
             [
              1,
              "#f0f921"
             ]
            ],
            "type": "heatmapgl"
           }
          ],
          "histogram": [
           {
            "marker": {
             "colorbar": {
              "outlinewidth": 0,
              "ticks": ""
             }
            },
            "type": "histogram"
           }
          ],
          "histogram2d": [
           {
            "colorbar": {
             "outlinewidth": 0,
             "ticks": ""
            },
            "colorscale": [
             [
              0,
              "#0d0887"
             ],
             [
              0.1111111111111111,
              "#46039f"
             ],
             [
              0.2222222222222222,
              "#7201a8"
             ],
             [
              0.3333333333333333,
              "#9c179e"
             ],
             [
              0.4444444444444444,
              "#bd3786"
             ],
             [
              0.5555555555555556,
              "#d8576b"
             ],
             [
              0.6666666666666666,
              "#ed7953"
             ],
             [
              0.7777777777777778,
              "#fb9f3a"
             ],
             [
              0.8888888888888888,
              "#fdca26"
             ],
             [
              1,
              "#f0f921"
             ]
            ],
            "type": "histogram2d"
           }
          ],
          "histogram2dcontour": [
           {
            "colorbar": {
             "outlinewidth": 0,
             "ticks": ""
            },
            "colorscale": [
             [
              0,
              "#0d0887"
             ],
             [
              0.1111111111111111,
              "#46039f"
             ],
             [
              0.2222222222222222,
              "#7201a8"
             ],
             [
              0.3333333333333333,
              "#9c179e"
             ],
             [
              0.4444444444444444,
              "#bd3786"
             ],
             [
              0.5555555555555556,
              "#d8576b"
             ],
             [
              0.6666666666666666,
              "#ed7953"
             ],
             [
              0.7777777777777778,
              "#fb9f3a"
             ],
             [
              0.8888888888888888,
              "#fdca26"
             ],
             [
              1,
              "#f0f921"
             ]
            ],
            "type": "histogram2dcontour"
           }
          ],
          "mesh3d": [
           {
            "colorbar": {
             "outlinewidth": 0,
             "ticks": ""
            },
            "type": "mesh3d"
           }
          ],
          "parcoords": [
           {
            "line": {
             "colorbar": {
              "outlinewidth": 0,
              "ticks": ""
             }
            },
            "type": "parcoords"
           }
          ],
          "pie": [
           {
            "automargin": true,
            "type": "pie"
           }
          ],
          "scatter": [
           {
            "marker": {
             "colorbar": {
              "outlinewidth": 0,
              "ticks": ""
             }
            },
            "type": "scatter"
           }
          ],
          "scatter3d": [
           {
            "line": {
             "colorbar": {
              "outlinewidth": 0,
              "ticks": ""
             }
            },
            "marker": {
             "colorbar": {
              "outlinewidth": 0,
              "ticks": ""
             }
            },
            "type": "scatter3d"
           }
          ],
          "scattercarpet": [
           {
            "marker": {
             "colorbar": {
              "outlinewidth": 0,
              "ticks": ""
             }
            },
            "type": "scattercarpet"
           }
          ],
          "scattergeo": [
           {
            "marker": {
             "colorbar": {
              "outlinewidth": 0,
              "ticks": ""
             }
            },
            "type": "scattergeo"
           }
          ],
          "scattergl": [
           {
            "marker": {
             "colorbar": {
              "outlinewidth": 0,
              "ticks": ""
             }
            },
            "type": "scattergl"
           }
          ],
          "scattermapbox": [
           {
            "marker": {
             "colorbar": {
              "outlinewidth": 0,
              "ticks": ""
             }
            },
            "type": "scattermapbox"
           }
          ],
          "scatterpolar": [
           {
            "marker": {
             "colorbar": {
              "outlinewidth": 0,
              "ticks": ""
             }
            },
            "type": "scatterpolar"
           }
          ],
          "scatterpolargl": [
           {
            "marker": {
             "colorbar": {
              "outlinewidth": 0,
              "ticks": ""
             }
            },
            "type": "scatterpolargl"
           }
          ],
          "scatterternary": [
           {
            "marker": {
             "colorbar": {
              "outlinewidth": 0,
              "ticks": ""
             }
            },
            "type": "scatterternary"
           }
          ],
          "surface": [
           {
            "colorbar": {
             "outlinewidth": 0,
             "ticks": ""
            },
            "colorscale": [
             [
              0,
              "#0d0887"
             ],
             [
              0.1111111111111111,
              "#46039f"
             ],
             [
              0.2222222222222222,
              "#7201a8"
             ],
             [
              0.3333333333333333,
              "#9c179e"
             ],
             [
              0.4444444444444444,
              "#bd3786"
             ],
             [
              0.5555555555555556,
              "#d8576b"
             ],
             [
              0.6666666666666666,
              "#ed7953"
             ],
             [
              0.7777777777777778,
              "#fb9f3a"
             ],
             [
              0.8888888888888888,
              "#fdca26"
             ],
             [
              1,
              "#f0f921"
             ]
            ],
            "type": "surface"
           }
          ],
          "table": [
           {
            "cells": {
             "fill": {
              "color": "#EBF0F8"
             },
             "line": {
              "color": "white"
             }
            },
            "header": {
             "fill": {
              "color": "#C8D4E3"
             },
             "line": {
              "color": "white"
             }
            },
            "type": "table"
           }
          ]
         },
         "layout": {
          "annotationdefaults": {
           "arrowcolor": "#2a3f5f",
           "arrowhead": 0,
           "arrowwidth": 1
          },
          "autotypenumbers": "strict",
          "coloraxis": {
           "colorbar": {
            "outlinewidth": 0,
            "ticks": ""
           }
          },
          "colorscale": {
           "diverging": [
            [
             0,
             "#8e0152"
            ],
            [
             0.1,
             "#c51b7d"
            ],
            [
             0.2,
             "#de77ae"
            ],
            [
             0.3,
             "#f1b6da"
            ],
            [
             0.4,
             "#fde0ef"
            ],
            [
             0.5,
             "#f7f7f7"
            ],
            [
             0.6,
             "#e6f5d0"
            ],
            [
             0.7,
             "#b8e186"
            ],
            [
             0.8,
             "#7fbc41"
            ],
            [
             0.9,
             "#4d9221"
            ],
            [
             1,
             "#276419"
            ]
           ],
           "sequential": [
            [
             0,
             "#0d0887"
            ],
            [
             0.1111111111111111,
             "#46039f"
            ],
            [
             0.2222222222222222,
             "#7201a8"
            ],
            [
             0.3333333333333333,
             "#9c179e"
            ],
            [
             0.4444444444444444,
             "#bd3786"
            ],
            [
             0.5555555555555556,
             "#d8576b"
            ],
            [
             0.6666666666666666,
             "#ed7953"
            ],
            [
             0.7777777777777778,
             "#fb9f3a"
            ],
            [
             0.8888888888888888,
             "#fdca26"
            ],
            [
             1,
             "#f0f921"
            ]
           ],
           "sequentialminus": [
            [
             0,
             "#0d0887"
            ],
            [
             0.1111111111111111,
             "#46039f"
            ],
            [
             0.2222222222222222,
             "#7201a8"
            ],
            [
             0.3333333333333333,
             "#9c179e"
            ],
            [
             0.4444444444444444,
             "#bd3786"
            ],
            [
             0.5555555555555556,
             "#d8576b"
            ],
            [
             0.6666666666666666,
             "#ed7953"
            ],
            [
             0.7777777777777778,
             "#fb9f3a"
            ],
            [
             0.8888888888888888,
             "#fdca26"
            ],
            [
             1,
             "#f0f921"
            ]
           ]
          },
          "colorway": [
           "#636efa",
           "#EF553B",
           "#00cc96",
           "#ab63fa",
           "#FFA15A",
           "#19d3f3",
           "#FF6692",
           "#B6E880",
           "#FF97FF",
           "#FECB52"
          ],
          "font": {
           "color": "#2a3f5f"
          },
          "geo": {
           "bgcolor": "white",
           "lakecolor": "white",
           "landcolor": "#E5ECF6",
           "showlakes": true,
           "showland": true,
           "subunitcolor": "white"
          },
          "hoverlabel": {
           "align": "left"
          },
          "hovermode": "closest",
          "mapbox": {
           "style": "light"
          },
          "paper_bgcolor": "white",
          "plot_bgcolor": "#E5ECF6",
          "polar": {
           "angularaxis": {
            "gridcolor": "white",
            "linecolor": "white",
            "ticks": ""
           },
           "bgcolor": "#E5ECF6",
           "radialaxis": {
            "gridcolor": "white",
            "linecolor": "white",
            "ticks": ""
           }
          },
          "scene": {
           "xaxis": {
            "backgroundcolor": "#E5ECF6",
            "gridcolor": "white",
            "gridwidth": 2,
            "linecolor": "white",
            "showbackground": true,
            "ticks": "",
            "zerolinecolor": "white"
           },
           "yaxis": {
            "backgroundcolor": "#E5ECF6",
            "gridcolor": "white",
            "gridwidth": 2,
            "linecolor": "white",
            "showbackground": true,
            "ticks": "",
            "zerolinecolor": "white"
           },
           "zaxis": {
            "backgroundcolor": "#E5ECF6",
            "gridcolor": "white",
            "gridwidth": 2,
            "linecolor": "white",
            "showbackground": true,
            "ticks": "",
            "zerolinecolor": "white"
           }
          },
          "shapedefaults": {
           "line": {
            "color": "#2a3f5f"
           }
          },
          "ternary": {
           "aaxis": {
            "gridcolor": "white",
            "linecolor": "white",
            "ticks": ""
           },
           "baxis": {
            "gridcolor": "white",
            "linecolor": "white",
            "ticks": ""
           },
           "bgcolor": "#E5ECF6",
           "caxis": {
            "gridcolor": "white",
            "linecolor": "white",
            "ticks": ""
           }
          },
          "title": {
           "x": 0.05
          },
          "xaxis": {
           "automargin": true,
           "gridcolor": "white",
           "linecolor": "white",
           "ticks": "",
           "title": {
            "standoff": 15
           },
           "zerolinecolor": "white",
           "zerolinewidth": 2
          },
          "yaxis": {
           "automargin": true,
           "gridcolor": "white",
           "linecolor": "white",
           "ticks": "",
           "title": {
            "standoff": 15
           },
           "zerolinecolor": "white",
           "zerolinewidth": 2
          }
         }
        },
        "title": {
         "text": "Predicted Emotion by Video Type"
        },
        "xaxis": {
         "anchor": "y",
         "domain": [
          0,
          0.2888888888888889
         ]
        },
        "xaxis2": {
         "anchor": "y2",
         "domain": [
          0.35555555555555557,
          0.6444444444444445
         ],
         "title": {
          "text": "Predicted Emotion"
         }
        },
        "xaxis3": {
         "anchor": "y3",
         "domain": [
          0.7111111111111111,
          1
         ]
        },
        "yaxis": {
         "anchor": "x",
         "domain": [
          0,
          1
         ],
         "title": {
          "text": "Count"
         }
        },
        "yaxis2": {
         "anchor": "x2",
         "domain": [
          0,
          1
         ]
        },
        "yaxis3": {
         "anchor": "x3",
         "domain": [
          0,
          1
         ]
        }
       }
      }
     },
     "metadata": {}
    }
   ],
   "source": [
    "fig = make_subplots(rows=1, cols=3,\n",
    "                    subplot_titles=('Neutral','Positive','Negative'))\n",
    "emotions = ['neutral','positive','negative']\n",
    "for i, emotion in enumerate(emotions):\n",
    "    tmp = data_df[data_df['video_type'] == emotion]\n",
    "    tmp = tmp.groupby('pred_emotion').video_id.count().reset_index().rename(columns={'video_id':'count'})\n",
    "    fig.add_trace(go.Bar(x=list(tmp['pred_emotion']),\n",
    "                         y=list(tmp['count'])),\n",
    "                  row=1, col=i + 1)\n",
    "\n",
    "fig.update_layout(title_text='Predicted Emotion by Video Type', showlegend=False)\n",
    "fig.update_yaxes(title_text='Count', row=1, col=1)\n",
    "fig.update_xaxes(title_text='Predicted Emotion', row=1, col=2)\n",
    "fig.show()"
   ]
  },
  {
   "cell_type": "markdown",
   "id": "valid-vienna",
   "metadata": {},
   "source": [
    "## Show Emotion Confidence by Predicted Emotion and Video Type"
   ]
  },
  {
   "cell_type": "code",
   "execution_count": 10,
   "id": "recovered-toilet",
   "metadata": {},
   "outputs": [
    {
     "output_type": "stream",
     "name": "stderr",
     "text": [
      "<ipython-input-10-ba9ff5c85489>:14: SettingWithCopyWarning:\n\n\nA value is trying to be set on a copy of a slice from a DataFrame.\nTry using .loc[row_indexer,col_indexer] = value instead\n\nSee the caveats in the documentation: https://pandas.pydata.org/pandas-docs/stable/user_guide/indexing.html#returning-a-view-versus-a-copy\n\n"
     ]
    },
    {
     "output_type": "display_data",
     "data": {
      "application/vnd.plotly.v1+json": {
       "config": {
        "plotlyServerURL": "https://plot.ly"
       },
       "data": [
        {
         "marker": {
          "color": "blue"
         },
         "type": "bar",
         "x": [
          0.7,
          0.75,
          0.8,
          0.85,
          0.9,
          0.95,
          1
         ],
         "xaxis": "x",
         "y": [
          2058,
          60,
          0,
          0,
          0,
          0,
          0
         ],
         "yaxis": "y"
        },
        {
         "marker": {
          "color": "blue"
         },
         "type": "bar",
         "x": [
          0.7,
          0.75,
          0.8,
          0.85,
          0.9,
          0.95,
          1
         ],
         "xaxis": "x4",
         "y": [
          125,
          83,
          43,
          90,
          25,
          104,
          256
         ],
         "yaxis": "y4"
        },
        {
         "marker": {
          "color": "blue"
         },
         "type": "bar",
         "x": [
          0.7,
          0.75,
          0.8,
          0.85,
          0.9,
          0.95,
          1
         ],
         "xaxis": "x7",
         "y": [
          8,
          13,
          2,
          0,
          0,
          0,
          0
         ],
         "yaxis": "y7"
        },
        {
         "marker": {
          "color": "blue"
         },
         "type": "bar",
         "x": [
          0.7,
          0.75,
          0.8,
          0.85,
          0.9,
          0.95,
          1
         ],
         "xaxis": "x10",
         "y": [
          473,
          65,
          15,
          13,
          6,
          1,
          0
         ],
         "yaxis": "y10"
        },
        {
         "marker": {
          "color": "blue"
         },
         "type": "bar",
         "x": [
          0.7,
          0.75,
          0.8,
          0.85,
          0.9,
          0.95,
          1
         ],
         "xaxis": "x13",
         "y": [
          19,
          10,
          0,
          0,
          0,
          0,
          0
         ],
         "yaxis": "y13"
        },
        {
         "marker": {
          "color": "green"
         },
         "type": "bar",
         "x": [
          0.7,
          0.75,
          0.8,
          0.85,
          0.9,
          0.95,
          1
         ],
         "xaxis": "x2",
         "y": [
          1010,
          132,
          0,
          0,
          0,
          0,
          0
         ],
         "yaxis": "y2"
        },
        {
         "marker": {
          "color": "green"
         },
         "type": "bar",
         "x": [
          0.7,
          0.75,
          0.8,
          0.85,
          0.9,
          0.95,
          1
         ],
         "xaxis": "x5",
         "y": [
          320,
          471,
          343,
          714,
          233,
          398,
          1270
         ],
         "yaxis": "y5"
        },
        {
         "marker": {
          "color": "green"
         },
         "type": "bar",
         "x": [
          0.7,
          0.75,
          0.8,
          0.85,
          0.9,
          0.95,
          1
         ],
         "xaxis": "x8",
         "y": [
          18,
          40,
          8,
          8,
          0,
          0,
          0
         ],
         "yaxis": "y8"
        },
        {
         "marker": {
          "color": "green"
         },
         "type": "bar",
         "x": [
          0.7,
          0.75,
          0.8,
          0.85,
          0.9,
          0.95,
          1
         ],
         "xaxis": "x11",
         "y": [
          10,
          1,
          1,
          0,
          0,
          0,
          0
         ],
         "yaxis": "y11"
        },
        {
         "marker": {
          "color": "green"
         },
         "type": "bar",
         "x": [
          0.7,
          0.75,
          0.8,
          0.85,
          0.9,
          0.95,
          1
         ],
         "xaxis": "x14",
         "y": [
          0,
          0,
          0,
          0,
          0,
          0,
          0
         ],
         "yaxis": "y14"
        },
        {
         "marker": {
          "color": "red"
         },
         "type": "bar",
         "x": [
          0.7,
          0.75,
          0.8,
          0.85,
          0.9,
          0.95,
          1
         ],
         "xaxis": "x3",
         "y": [
          558,
          3,
          0,
          0,
          0,
          0,
          0
         ],
         "yaxis": "y3"
        },
        {
         "marker": {
          "color": "red"
         },
         "type": "bar",
         "x": [
          0.7,
          0.75,
          0.8,
          0.85,
          0.9,
          0.95,
          1
         ],
         "xaxis": "x6",
         "y": [
          59,
          43,
          30,
          95,
          70,
          151,
          109
         ],
         "yaxis": "y6"
        },
        {
         "marker": {
          "color": "red"
         },
         "type": "bar",
         "x": [
          0.7,
          0.75,
          0.8,
          0.85,
          0.9,
          0.95,
          1
         ],
         "xaxis": "x9",
         "y": [
          0,
          0,
          0,
          0,
          0,
          0,
          0
         ],
         "yaxis": "y9"
        },
        {
         "marker": {
          "color": "red"
         },
         "type": "bar",
         "x": [
          0.7,
          0.75,
          0.8,
          0.85,
          0.9,
          0.95,
          1
         ],
         "xaxis": "x12",
         "y": [
          46,
          10,
          1,
          0,
          1,
          1,
          0
         ],
         "yaxis": "y12"
        },
        {
         "marker": {
          "color": "red"
         },
         "type": "bar",
         "x": [
          0.7,
          0.75,
          0.8,
          0.85,
          0.9,
          0.95,
          1
         ],
         "xaxis": "x15",
         "y": [
          18,
          17,
          8,
          58,
          21,
          4,
          0
         ],
         "yaxis": "y15"
        }
       ],
       "layout": {
        "annotations": [
         {
          "font": {
           "size": 16
          },
          "showarrow": false,
          "text": "Neutral",
          "x": 0.14444444444444446,
          "xanchor": "center",
          "xref": "paper",
          "y": 1,
          "yanchor": "bottom",
          "yref": "paper"
         },
         {
          "font": {
           "size": 16
          },
          "showarrow": false,
          "text": "Positive",
          "x": 0.5,
          "xanchor": "center",
          "xref": "paper",
          "y": 1,
          "yanchor": "bottom",
          "yref": "paper"
         },
         {
          "font": {
           "size": 16
          },
          "showarrow": false,
          "text": "Negative",
          "x": 0.8555555555555556,
          "xanchor": "center",
          "xref": "paper",
          "y": 1,
          "yanchor": "bottom",
          "yref": "paper"
         }
        ],
        "height": 1000,
        "showlegend": false,
        "template": {
         "data": {
          "bar": [
           {
            "error_x": {
             "color": "#2a3f5f"
            },
            "error_y": {
             "color": "#2a3f5f"
            },
            "marker": {
             "line": {
              "color": "#E5ECF6",
              "width": 0.5
             }
            },
            "type": "bar"
           }
          ],
          "barpolar": [
           {
            "marker": {
             "line": {
              "color": "#E5ECF6",
              "width": 0.5
             }
            },
            "type": "barpolar"
           }
          ],
          "carpet": [
           {
            "aaxis": {
             "endlinecolor": "#2a3f5f",
             "gridcolor": "white",
             "linecolor": "white",
             "minorgridcolor": "white",
             "startlinecolor": "#2a3f5f"
            },
            "baxis": {
             "endlinecolor": "#2a3f5f",
             "gridcolor": "white",
             "linecolor": "white",
             "minorgridcolor": "white",
             "startlinecolor": "#2a3f5f"
            },
            "type": "carpet"
           }
          ],
          "choropleth": [
           {
            "colorbar": {
             "outlinewidth": 0,
             "ticks": ""
            },
            "type": "choropleth"
           }
          ],
          "contour": [
           {
            "colorbar": {
             "outlinewidth": 0,
             "ticks": ""
            },
            "colorscale": [
             [
              0,
              "#0d0887"
             ],
             [
              0.1111111111111111,
              "#46039f"
             ],
             [
              0.2222222222222222,
              "#7201a8"
             ],
             [
              0.3333333333333333,
              "#9c179e"
             ],
             [
              0.4444444444444444,
              "#bd3786"
             ],
             [
              0.5555555555555556,
              "#d8576b"
             ],
             [
              0.6666666666666666,
              "#ed7953"
             ],
             [
              0.7777777777777778,
              "#fb9f3a"
             ],
             [
              0.8888888888888888,
              "#fdca26"
             ],
             [
              1,
              "#f0f921"
             ]
            ],
            "type": "contour"
           }
          ],
          "contourcarpet": [
           {
            "colorbar": {
             "outlinewidth": 0,
             "ticks": ""
            },
            "type": "contourcarpet"
           }
          ],
          "heatmap": [
           {
            "colorbar": {
             "outlinewidth": 0,
             "ticks": ""
            },
            "colorscale": [
             [
              0,
              "#0d0887"
             ],
             [
              0.1111111111111111,
              "#46039f"
             ],
             [
              0.2222222222222222,
              "#7201a8"
             ],
             [
              0.3333333333333333,
              "#9c179e"
             ],
             [
              0.4444444444444444,
              "#bd3786"
             ],
             [
              0.5555555555555556,
              "#d8576b"
             ],
             [
              0.6666666666666666,
              "#ed7953"
             ],
             [
              0.7777777777777778,
              "#fb9f3a"
             ],
             [
              0.8888888888888888,
              "#fdca26"
             ],
             [
              1,
              "#f0f921"
             ]
            ],
            "type": "heatmap"
           }
          ],
          "heatmapgl": [
           {
            "colorbar": {
             "outlinewidth": 0,
             "ticks": ""
            },
            "colorscale": [
             [
              0,
              "#0d0887"
             ],
             [
              0.1111111111111111,
              "#46039f"
             ],
             [
              0.2222222222222222,
              "#7201a8"
             ],
             [
              0.3333333333333333,
              "#9c179e"
             ],
             [
              0.4444444444444444,
              "#bd3786"
             ],
             [
              0.5555555555555556,
              "#d8576b"
             ],
             [
              0.6666666666666666,
              "#ed7953"
             ],
             [
              0.7777777777777778,
              "#fb9f3a"
             ],
             [
              0.8888888888888888,
              "#fdca26"
             ],
             [
              1,
              "#f0f921"
             ]
            ],
            "type": "heatmapgl"
           }
          ],
          "histogram": [
           {
            "marker": {
             "colorbar": {
              "outlinewidth": 0,
              "ticks": ""
             }
            },
            "type": "histogram"
           }
          ],
          "histogram2d": [
           {
            "colorbar": {
             "outlinewidth": 0,
             "ticks": ""
            },
            "colorscale": [
             [
              0,
              "#0d0887"
             ],
             [
              0.1111111111111111,
              "#46039f"
             ],
             [
              0.2222222222222222,
              "#7201a8"
             ],
             [
              0.3333333333333333,
              "#9c179e"
             ],
             [
              0.4444444444444444,
              "#bd3786"
             ],
             [
              0.5555555555555556,
              "#d8576b"
             ],
             [
              0.6666666666666666,
              "#ed7953"
             ],
             [
              0.7777777777777778,
              "#fb9f3a"
             ],
             [
              0.8888888888888888,
              "#fdca26"
             ],
             [
              1,
              "#f0f921"
             ]
            ],
            "type": "histogram2d"
           }
          ],
          "histogram2dcontour": [
           {
            "colorbar": {
             "outlinewidth": 0,
             "ticks": ""
            },
            "colorscale": [
             [
              0,
              "#0d0887"
             ],
             [
              0.1111111111111111,
              "#46039f"
             ],
             [
              0.2222222222222222,
              "#7201a8"
             ],
             [
              0.3333333333333333,
              "#9c179e"
             ],
             [
              0.4444444444444444,
              "#bd3786"
             ],
             [
              0.5555555555555556,
              "#d8576b"
             ],
             [
              0.6666666666666666,
              "#ed7953"
             ],
             [
              0.7777777777777778,
              "#fb9f3a"
             ],
             [
              0.8888888888888888,
              "#fdca26"
             ],
             [
              1,
              "#f0f921"
             ]
            ],
            "type": "histogram2dcontour"
           }
          ],
          "mesh3d": [
           {
            "colorbar": {
             "outlinewidth": 0,
             "ticks": ""
            },
            "type": "mesh3d"
           }
          ],
          "parcoords": [
           {
            "line": {
             "colorbar": {
              "outlinewidth": 0,
              "ticks": ""
             }
            },
            "type": "parcoords"
           }
          ],
          "pie": [
           {
            "automargin": true,
            "type": "pie"
           }
          ],
          "scatter": [
           {
            "marker": {
             "colorbar": {
              "outlinewidth": 0,
              "ticks": ""
             }
            },
            "type": "scatter"
           }
          ],
          "scatter3d": [
           {
            "line": {
             "colorbar": {
              "outlinewidth": 0,
              "ticks": ""
             }
            },
            "marker": {
             "colorbar": {
              "outlinewidth": 0,
              "ticks": ""
             }
            },
            "type": "scatter3d"
           }
          ],
          "scattercarpet": [
           {
            "marker": {
             "colorbar": {
              "outlinewidth": 0,
              "ticks": ""
             }
            },
            "type": "scattercarpet"
           }
          ],
          "scattergeo": [
           {
            "marker": {
             "colorbar": {
              "outlinewidth": 0,
              "ticks": ""
             }
            },
            "type": "scattergeo"
           }
          ],
          "scattergl": [
           {
            "marker": {
             "colorbar": {
              "outlinewidth": 0,
              "ticks": ""
             }
            },
            "type": "scattergl"
           }
          ],
          "scattermapbox": [
           {
            "marker": {
             "colorbar": {
              "outlinewidth": 0,
              "ticks": ""
             }
            },
            "type": "scattermapbox"
           }
          ],
          "scatterpolar": [
           {
            "marker": {
             "colorbar": {
              "outlinewidth": 0,
              "ticks": ""
             }
            },
            "type": "scatterpolar"
           }
          ],
          "scatterpolargl": [
           {
            "marker": {
             "colorbar": {
              "outlinewidth": 0,
              "ticks": ""
             }
            },
            "type": "scatterpolargl"
           }
          ],
          "scatterternary": [
           {
            "marker": {
             "colorbar": {
              "outlinewidth": 0,
              "ticks": ""
             }
            },
            "type": "scatterternary"
           }
          ],
          "surface": [
           {
            "colorbar": {
             "outlinewidth": 0,
             "ticks": ""
            },
            "colorscale": [
             [
              0,
              "#0d0887"
             ],
             [
              0.1111111111111111,
              "#46039f"
             ],
             [
              0.2222222222222222,
              "#7201a8"
             ],
             [
              0.3333333333333333,
              "#9c179e"
             ],
             [
              0.4444444444444444,
              "#bd3786"
             ],
             [
              0.5555555555555556,
              "#d8576b"
             ],
             [
              0.6666666666666666,
              "#ed7953"
             ],
             [
              0.7777777777777778,
              "#fb9f3a"
             ],
             [
              0.8888888888888888,
              "#fdca26"
             ],
             [
              1,
              "#f0f921"
             ]
            ],
            "type": "surface"
           }
          ],
          "table": [
           {
            "cells": {
             "fill": {
              "color": "#EBF0F8"
             },
             "line": {
              "color": "white"
             }
            },
            "header": {
             "fill": {
              "color": "#C8D4E3"
             },
             "line": {
              "color": "white"
             }
            },
            "type": "table"
           }
          ]
         },
         "layout": {
          "annotationdefaults": {
           "arrowcolor": "#2a3f5f",
           "arrowhead": 0,
           "arrowwidth": 1
          },
          "autotypenumbers": "strict",
          "coloraxis": {
           "colorbar": {
            "outlinewidth": 0,
            "ticks": ""
           }
          },
          "colorscale": {
           "diverging": [
            [
             0,
             "#8e0152"
            ],
            [
             0.1,
             "#c51b7d"
            ],
            [
             0.2,
             "#de77ae"
            ],
            [
             0.3,
             "#f1b6da"
            ],
            [
             0.4,
             "#fde0ef"
            ],
            [
             0.5,
             "#f7f7f7"
            ],
            [
             0.6,
             "#e6f5d0"
            ],
            [
             0.7,
             "#b8e186"
            ],
            [
             0.8,
             "#7fbc41"
            ],
            [
             0.9,
             "#4d9221"
            ],
            [
             1,
             "#276419"
            ]
           ],
           "sequential": [
            [
             0,
             "#0d0887"
            ],
            [
             0.1111111111111111,
             "#46039f"
            ],
            [
             0.2222222222222222,
             "#7201a8"
            ],
            [
             0.3333333333333333,
             "#9c179e"
            ],
            [
             0.4444444444444444,
             "#bd3786"
            ],
            [
             0.5555555555555556,
             "#d8576b"
            ],
            [
             0.6666666666666666,
             "#ed7953"
            ],
            [
             0.7777777777777778,
             "#fb9f3a"
            ],
            [
             0.8888888888888888,
             "#fdca26"
            ],
            [
             1,
             "#f0f921"
            ]
           ],
           "sequentialminus": [
            [
             0,
             "#0d0887"
            ],
            [
             0.1111111111111111,
             "#46039f"
            ],
            [
             0.2222222222222222,
             "#7201a8"
            ],
            [
             0.3333333333333333,
             "#9c179e"
            ],
            [
             0.4444444444444444,
             "#bd3786"
            ],
            [
             0.5555555555555556,
             "#d8576b"
            ],
            [
             0.6666666666666666,
             "#ed7953"
            ],
            [
             0.7777777777777778,
             "#fb9f3a"
            ],
            [
             0.8888888888888888,
             "#fdca26"
            ],
            [
             1,
             "#f0f921"
            ]
           ]
          },
          "colorway": [
           "#636efa",
           "#EF553B",
           "#00cc96",
           "#ab63fa",
           "#FFA15A",
           "#19d3f3",
           "#FF6692",
           "#B6E880",
           "#FF97FF",
           "#FECB52"
          ],
          "font": {
           "color": "#2a3f5f"
          },
          "geo": {
           "bgcolor": "white",
           "lakecolor": "white",
           "landcolor": "#E5ECF6",
           "showlakes": true,
           "showland": true,
           "subunitcolor": "white"
          },
          "hoverlabel": {
           "align": "left"
          },
          "hovermode": "closest",
          "mapbox": {
           "style": "light"
          },
          "paper_bgcolor": "white",
          "plot_bgcolor": "#E5ECF6",
          "polar": {
           "angularaxis": {
            "gridcolor": "white",
            "linecolor": "white",
            "ticks": ""
           },
           "bgcolor": "#E5ECF6",
           "radialaxis": {
            "gridcolor": "white",
            "linecolor": "white",
            "ticks": ""
           }
          },
          "scene": {
           "xaxis": {
            "backgroundcolor": "#E5ECF6",
            "gridcolor": "white",
            "gridwidth": 2,
            "linecolor": "white",
            "showbackground": true,
            "ticks": "",
            "zerolinecolor": "white"
           },
           "yaxis": {
            "backgroundcolor": "#E5ECF6",
            "gridcolor": "white",
            "gridwidth": 2,
            "linecolor": "white",
            "showbackground": true,
            "ticks": "",
            "zerolinecolor": "white"
           },
           "zaxis": {
            "backgroundcolor": "#E5ECF6",
            "gridcolor": "white",
            "gridwidth": 2,
            "linecolor": "white",
            "showbackground": true,
            "ticks": "",
            "zerolinecolor": "white"
           }
          },
          "shapedefaults": {
           "line": {
            "color": "#2a3f5f"
           }
          },
          "ternary": {
           "aaxis": {
            "gridcolor": "white",
            "linecolor": "white",
            "ticks": ""
           },
           "baxis": {
            "gridcolor": "white",
            "linecolor": "white",
            "ticks": ""
           },
           "bgcolor": "#E5ECF6",
           "caxis": {
            "gridcolor": "white",
            "linecolor": "white",
            "ticks": ""
           }
          },
          "title": {
           "x": 0.05
          },
          "xaxis": {
           "automargin": true,
           "gridcolor": "white",
           "linecolor": "white",
           "ticks": "",
           "title": {
            "standoff": 15
           },
           "zerolinecolor": "white",
           "zerolinewidth": 2
          },
          "yaxis": {
           "automargin": true,
           "gridcolor": "white",
           "linecolor": "white",
           "ticks": "",
           "title": {
            "standoff": 15
           },
           "zerolinecolor": "white",
           "zerolinewidth": 2
          }
         }
        },
        "title": {
         "text": "Emotion Confidence by Video Type and Predicted Emotion"
        },
        "xaxis": {
         "anchor": "y",
         "domain": [
          0,
          0.2888888888888889
         ]
        },
        "xaxis10": {
         "anchor": "y10",
         "domain": [
          0,
          0.2888888888888889
         ]
        },
        "xaxis11": {
         "anchor": "y11",
         "domain": [
          0.35555555555555557,
          0.6444444444444445
         ]
        },
        "xaxis12": {
         "anchor": "y12",
         "domain": [
          0.7111111111111111,
          1
         ]
        },
        "xaxis13": {
         "anchor": "y13",
         "domain": [
          0,
          0.2888888888888889
         ]
        },
        "xaxis14": {
         "anchor": "y14",
         "domain": [
          0.35555555555555557,
          0.6444444444444445
         ],
         "title": {
          "text": "Emotion Confidence"
         }
        },
        "xaxis15": {
         "anchor": "y15",
         "domain": [
          0.7111111111111111,
          1
         ]
        },
        "xaxis2": {
         "anchor": "y2",
         "domain": [
          0.35555555555555557,
          0.6444444444444445
         ]
        },
        "xaxis3": {
         "anchor": "y3",
         "domain": [
          0.7111111111111111,
          1
         ]
        },
        "xaxis4": {
         "anchor": "y4",
         "domain": [
          0,
          0.2888888888888889
         ]
        },
        "xaxis5": {
         "anchor": "y5",
         "domain": [
          0.35555555555555557,
          0.6444444444444445
         ]
        },
        "xaxis6": {
         "anchor": "y6",
         "domain": [
          0.7111111111111111,
          1
         ]
        },
        "xaxis7": {
         "anchor": "y7",
         "domain": [
          0,
          0.2888888888888889
         ]
        },
        "xaxis8": {
         "anchor": "y8",
         "domain": [
          0.35555555555555557,
          0.6444444444444445
         ]
        },
        "xaxis9": {
         "anchor": "y9",
         "domain": [
          0.7111111111111111,
          1
         ]
        },
        "yaxis": {
         "anchor": "x",
         "domain": [
          0.88,
          1
         ],
         "title": {
          "text": "Neutral"
         }
        },
        "yaxis10": {
         "anchor": "x10",
         "domain": [
          0.22,
          0.33999999999999997
         ],
         "title": {
          "text": "Sad"
         }
        },
        "yaxis11": {
         "anchor": "x11",
         "domain": [
          0.22,
          0.33999999999999997
         ]
        },
        "yaxis12": {
         "anchor": "x12",
         "domain": [
          0.22,
          0.33999999999999997
         ]
        },
        "yaxis13": {
         "anchor": "x13",
         "domain": [
          0,
          0.12
         ],
         "title": {
          "text": "Surprise"
         }
        },
        "yaxis14": {
         "anchor": "x14",
         "domain": [
          0,
          0.12
         ]
        },
        "yaxis15": {
         "anchor": "x15",
         "domain": [
          0,
          0.12
         ]
        },
        "yaxis2": {
         "anchor": "x2",
         "domain": [
          0.88,
          1
         ]
        },
        "yaxis3": {
         "anchor": "x3",
         "domain": [
          0.88,
          1
         ]
        },
        "yaxis4": {
         "anchor": "x4",
         "domain": [
          0.66,
          0.78
         ],
         "title": {
          "text": "Happy"
         }
        },
        "yaxis5": {
         "anchor": "x5",
         "domain": [
          0.66,
          0.78
         ]
        },
        "yaxis6": {
         "anchor": "x6",
         "domain": [
          0.66,
          0.78
         ]
        },
        "yaxis7": {
         "anchor": "x7",
         "domain": [
          0.44,
          0.56
         ],
         "title": {
          "text": "Anger"
         }
        },
        "yaxis8": {
         "anchor": "x8",
         "domain": [
          0.44,
          0.56
         ]
        },
        "yaxis9": {
         "anchor": "x9",
         "domain": [
          0.44,
          0.56
         ]
        }
       }
      }
     },
     "metadata": {}
    }
   ],
   "source": [
    "bins = [0.7, 0.75, 0.8, 0.825, 0.875, 0.9, 0.95, 1.0]\n",
    "labels = [0.7, 0.75, 0.8, 0.85, 0.9, 0.95, 1.0]\n",
    "\n",
    "\n",
    "fig = make_subplots(rows=5, cols=3,\n",
    "                    subplot_titles=('Neutral','Positive','Negative'))\n",
    "emotions = ['neutral','positive','negative']\n",
    "colors = ['blue', 'green', 'red']\n",
    "for i, emotion in enumerate(emotions):\n",
    "    tmp = data_df[data_df['video_type'] == emotion]\n",
    "    for j, pred_emotion in enumerate(data_df['pred_emotion'].unique()):\n",
    "        tmp2 = tmp[tmp['pred_emotion'] == pred_emotion]\n",
    "        \n",
    "        tmp2['emotion_confidence'] = pd.cut(tmp['emotion_confidence'].astype(float), bins=bins, labels=labels)\n",
    "        grp = tmp2.groupby('emotion_confidence').video_id.count().reset_index().rename(columns={'video_id':'count'})\n",
    "        fig.add_trace(go.Bar(x=list(grp['emotion_confidence']),\n",
    "                             y=list(grp['count']),\n",
    "                             marker = {'color' : colors[i]}),\n",
    "                      row=j + 1, col=i + 1)\n",
    "        if i == 0:\n",
    "            fig.update_yaxes(title_text=pred_emotion.title(), row=j + 1, col=1)\n",
    "\n",
    "fig.update_layout(title_text='Emotion Confidence by Video Type and Predicted Emotion', showlegend=False,\n",
    "                 height=1000)\n",
    "fig.update_xaxes(title_text='Emotion Confidence', row=5, col=2)\n",
    "fig.show()"
   ]
  },
  {
   "cell_type": "markdown",
   "id": "simplified-simple",
   "metadata": {},
   "source": [
    "# Classify Video Type"
   ]
  },
  {
   "cell_type": "markdown",
   "id": "occupied-addiction",
   "metadata": {},
   "source": [
    "## Encode Categorical Data"
   ]
  },
  {
   "cell_type": "code",
   "execution_count": 11,
   "id": "drawn-invite",
   "metadata": {},
   "outputs": [],
   "source": [
    "label_encoding = dict(zip(data_df['video_type'].unique(), range(0,3)))\n",
    "data_df['enc_video_type'] = data_df['video_type'].map(label_encoding, na_action='ignore')\n",
    "\n",
    "emotion_encoding = dict(zip(data_df['pred_emotion'].unique(), range(0, len(data_df['pred_emotion'].unique()))))\n",
    "data_df['enc_pred_emotion'] = data_df['pred_emotion'].map(emotion_encoding, na_action='ignore')"
   ]
  },
  {
   "cell_type": "markdown",
   "id": "charitable-fleet",
   "metadata": {},
   "source": [
    "## Prep Data for Features/Labels"
   ]
  },
  {
   "cell_type": "code",
   "execution_count": 12,
   "id": "premier-symbol",
   "metadata": {},
   "outputs": [],
   "source": [
    "features = ['enc_pred_emotion','emotion_confidence','rpm','distance','norm_slow','norm_fast','norm_start','norm_stop']\n",
    "\n",
    "X = data_df[features].astype(float)\n",
    "y = data_df['enc_video_type']"
   ]
  },
  {
   "cell_type": "markdown",
   "id": "round-emission",
   "metadata": {},
   "source": [
    "## Build Classifier"
   ]
  },
  {
   "cell_type": "code",
   "execution_count": 13,
   "id": "brown-butter",
   "metadata": {},
   "outputs": [
    {
     "output_type": "stream",
     "name": "stdout",
     "text": [
      "1.0\n"
     ]
    }
   ],
   "source": [
    "X_train, X_test, y_train, y_test = train_test_split(X, y, test_size=0.3)\n",
    "\n",
    "oversample = SMOTE()\n",
    "X_train, y_train = oversample.fit_resample(X_train, y_train)\n",
    "\n",
    "clf = RandomForestClassifier()\n",
    "clf.fit(X_train, y_train)\n",
    "print(clf.score(X_test, y_test))"
   ]
  },
  {
   "cell_type": "markdown",
   "id": "coordinated-herald",
   "metadata": {},
   "source": [
    "## Find Feature Importance"
   ]
  },
  {
   "cell_type": "code",
   "execution_count": 14,
   "id": "common-monday",
   "metadata": {},
   "outputs": [
    {
     "output_type": "display_data",
     "data": {
      "application/vnd.plotly.v1+json": {
       "config": {
        "plotlyServerURL": "https://plot.ly"
       },
       "data": [
        {
         "alignmentgroup": "True",
         "hovertemplate": "Features=%{x}<br>Importances=%{y}<extra></extra>",
         "legendgroup": "",
         "marker": {
          "color": "#F8766D"
         },
         "name": "",
         "offsetgroup": "",
         "orientation": "v",
         "showlegend": false,
         "textposition": "auto",
         "type": "bar",
         "x": [
          "rpm",
          "distance",
          "norm_start",
          "norm_stop",
          "norm_slow",
          "norm_fast",
          "enc_pred_emotion",
          "emotion_confidence"
         ],
         "xaxis": "x",
         "y": [
          0.19155421178670007,
          0.17039319114136692,
          0.16056123178972834,
          0.15703450222986085,
          0.09980230580359681,
          0.07848918573181711,
          0.07436158834442905,
          0.06780378317250092
         ],
         "yaxis": "y"
        }
       ],
       "layout": {
        "barmode": "relative",
        "legend": {
         "tracegroupgap": 0
        },
        "template": {
         "data": {
          "bar": [
           {
            "error_x": {
             "color": "rgb(51,51,51)"
            },
            "error_y": {
             "color": "rgb(51,51,51)"
            },
            "marker": {
             "line": {
              "color": "rgb(237,237,237)",
              "width": 0.5
             }
            },
            "type": "bar"
           }
          ],
          "barpolar": [
           {
            "marker": {
             "line": {
              "color": "rgb(237,237,237)",
              "width": 0.5
             }
            },
            "type": "barpolar"
           }
          ],
          "carpet": [
           {
            "aaxis": {
             "endlinecolor": "rgb(51,51,51)",
             "gridcolor": "white",
             "linecolor": "white",
             "minorgridcolor": "white",
             "startlinecolor": "rgb(51,51,51)"
            },
            "baxis": {
             "endlinecolor": "rgb(51,51,51)",
             "gridcolor": "white",
             "linecolor": "white",
             "minorgridcolor": "white",
             "startlinecolor": "rgb(51,51,51)"
            },
            "type": "carpet"
           }
          ],
          "choropleth": [
           {
            "colorbar": {
             "outlinewidth": 0,
             "tickcolor": "rgb(237,237,237)",
             "ticklen": 6,
             "ticks": "inside"
            },
            "type": "choropleth"
           }
          ],
          "contour": [
           {
            "colorbar": {
             "outlinewidth": 0,
             "tickcolor": "rgb(237,237,237)",
             "ticklen": 6,
             "ticks": "inside"
            },
            "colorscale": [
             [
              0,
              "rgb(20,44,66)"
             ],
             [
              1,
              "rgb(90,179,244)"
             ]
            ],
            "type": "contour"
           }
          ],
          "contourcarpet": [
           {
            "colorbar": {
             "outlinewidth": 0,
             "tickcolor": "rgb(237,237,237)",
             "ticklen": 6,
             "ticks": "inside"
            },
            "type": "contourcarpet"
           }
          ],
          "heatmap": [
           {
            "colorbar": {
             "outlinewidth": 0,
             "tickcolor": "rgb(237,237,237)",
             "ticklen": 6,
             "ticks": "inside"
            },
            "colorscale": [
             [
              0,
              "rgb(20,44,66)"
             ],
             [
              1,
              "rgb(90,179,244)"
             ]
            ],
            "type": "heatmap"
           }
          ],
          "heatmapgl": [
           {
            "colorbar": {
             "outlinewidth": 0,
             "tickcolor": "rgb(237,237,237)",
             "ticklen": 6,
             "ticks": "inside"
            },
            "colorscale": [
             [
              0,
              "rgb(20,44,66)"
             ],
             [
              1,
              "rgb(90,179,244)"
             ]
            ],
            "type": "heatmapgl"
           }
          ],
          "histogram": [
           {
            "marker": {
             "colorbar": {
              "outlinewidth": 0,
              "tickcolor": "rgb(237,237,237)",
              "ticklen": 6,
              "ticks": "inside"
             }
            },
            "type": "histogram"
           }
          ],
          "histogram2d": [
           {
            "colorbar": {
             "outlinewidth": 0,
             "tickcolor": "rgb(237,237,237)",
             "ticklen": 6,
             "ticks": "inside"
            },
            "colorscale": [
             [
              0,
              "rgb(20,44,66)"
             ],
             [
              1,
              "rgb(90,179,244)"
             ]
            ],
            "type": "histogram2d"
           }
          ],
          "histogram2dcontour": [
           {
            "colorbar": {
             "outlinewidth": 0,
             "tickcolor": "rgb(237,237,237)",
             "ticklen": 6,
             "ticks": "inside"
            },
            "colorscale": [
             [
              0,
              "rgb(20,44,66)"
             ],
             [
              1,
              "rgb(90,179,244)"
             ]
            ],
            "type": "histogram2dcontour"
           }
          ],
          "mesh3d": [
           {
            "colorbar": {
             "outlinewidth": 0,
             "tickcolor": "rgb(237,237,237)",
             "ticklen": 6,
             "ticks": "inside"
            },
            "type": "mesh3d"
           }
          ],
          "parcoords": [
           {
            "line": {
             "colorbar": {
              "outlinewidth": 0,
              "tickcolor": "rgb(237,237,237)",
              "ticklen": 6,
              "ticks": "inside"
             }
            },
            "type": "parcoords"
           }
          ],
          "pie": [
           {
            "automargin": true,
            "type": "pie"
           }
          ],
          "scatter": [
           {
            "marker": {
             "colorbar": {
              "outlinewidth": 0,
              "tickcolor": "rgb(237,237,237)",
              "ticklen": 6,
              "ticks": "inside"
             }
            },
            "type": "scatter"
           }
          ],
          "scatter3d": [
           {
            "line": {
             "colorbar": {
              "outlinewidth": 0,
              "tickcolor": "rgb(237,237,237)",
              "ticklen": 6,
              "ticks": "inside"
             }
            },
            "marker": {
             "colorbar": {
              "outlinewidth": 0,
              "tickcolor": "rgb(237,237,237)",
              "ticklen": 6,
              "ticks": "inside"
             }
            },
            "type": "scatter3d"
           }
          ],
          "scattercarpet": [
           {
            "marker": {
             "colorbar": {
              "outlinewidth": 0,
              "tickcolor": "rgb(237,237,237)",
              "ticklen": 6,
              "ticks": "inside"
             }
            },
            "type": "scattercarpet"
           }
          ],
          "scattergeo": [
           {
            "marker": {
             "colorbar": {
              "outlinewidth": 0,
              "tickcolor": "rgb(237,237,237)",
              "ticklen": 6,
              "ticks": "inside"
             }
            },
            "type": "scattergeo"
           }
          ],
          "scattergl": [
           {
            "marker": {
             "colorbar": {
              "outlinewidth": 0,
              "tickcolor": "rgb(237,237,237)",
              "ticklen": 6,
              "ticks": "inside"
             }
            },
            "type": "scattergl"
           }
          ],
          "scattermapbox": [
           {
            "marker": {
             "colorbar": {
              "outlinewidth": 0,
              "tickcolor": "rgb(237,237,237)",
              "ticklen": 6,
              "ticks": "inside"
             }
            },
            "type": "scattermapbox"
           }
          ],
          "scatterpolar": [
           {
            "marker": {
             "colorbar": {
              "outlinewidth": 0,
              "tickcolor": "rgb(237,237,237)",
              "ticklen": 6,
              "ticks": "inside"
             }
            },
            "type": "scatterpolar"
           }
          ],
          "scatterpolargl": [
           {
            "marker": {
             "colorbar": {
              "outlinewidth": 0,
              "tickcolor": "rgb(237,237,237)",
              "ticklen": 6,
              "ticks": "inside"
             }
            },
            "type": "scatterpolargl"
           }
          ],
          "scatterternary": [
           {
            "marker": {
             "colorbar": {
              "outlinewidth": 0,
              "tickcolor": "rgb(237,237,237)",
              "ticklen": 6,
              "ticks": "inside"
             }
            },
            "type": "scatterternary"
           }
          ],
          "surface": [
           {
            "colorbar": {
             "outlinewidth": 0,
             "tickcolor": "rgb(237,237,237)",
             "ticklen": 6,
             "ticks": "inside"
            },
            "colorscale": [
             [
              0,
              "rgb(20,44,66)"
             ],
             [
              1,
              "rgb(90,179,244)"
             ]
            ],
            "type": "surface"
           }
          ],
          "table": [
           {
            "cells": {
             "fill": {
              "color": "rgb(237,237,237)"
             },
             "line": {
              "color": "white"
             }
            },
            "header": {
             "fill": {
              "color": "rgb(217,217,217)"
             },
             "line": {
              "color": "white"
             }
            },
            "type": "table"
           }
          ]
         },
         "layout": {
          "annotationdefaults": {
           "arrowhead": 0,
           "arrowwidth": 1
          },
          "autotypenumbers": "strict",
          "coloraxis": {
           "colorbar": {
            "outlinewidth": 0,
            "tickcolor": "rgb(237,237,237)",
            "ticklen": 6,
            "ticks": "inside"
           }
          },
          "colorscale": {
           "sequential": [
            [
             0,
             "rgb(20,44,66)"
            ],
            [
             1,
             "rgb(90,179,244)"
            ]
           ],
           "sequentialminus": [
            [
             0,
             "rgb(20,44,66)"
            ],
            [
             1,
             "rgb(90,179,244)"
            ]
           ]
          },
          "colorway": [
           "#F8766D",
           "#A3A500",
           "#00BF7D",
           "#00B0F6",
           "#E76BF3"
          ],
          "font": {
           "color": "rgb(51,51,51)"
          },
          "geo": {
           "bgcolor": "white",
           "lakecolor": "white",
           "landcolor": "rgb(237,237,237)",
           "showlakes": true,
           "showland": true,
           "subunitcolor": "white"
          },
          "hoverlabel": {
           "align": "left"
          },
          "hovermode": "closest",
          "paper_bgcolor": "white",
          "plot_bgcolor": "rgb(237,237,237)",
          "polar": {
           "angularaxis": {
            "gridcolor": "white",
            "linecolor": "white",
            "showgrid": true,
            "tickcolor": "rgb(51,51,51)",
            "ticks": "outside"
           },
           "bgcolor": "rgb(237,237,237)",
           "radialaxis": {
            "gridcolor": "white",
            "linecolor": "white",
            "showgrid": true,
            "tickcolor": "rgb(51,51,51)",
            "ticks": "outside"
           }
          },
          "scene": {
           "xaxis": {
            "backgroundcolor": "rgb(237,237,237)",
            "gridcolor": "white",
            "gridwidth": 2,
            "linecolor": "white",
            "showbackground": true,
            "showgrid": true,
            "tickcolor": "rgb(51,51,51)",
            "ticks": "outside",
            "zerolinecolor": "white"
           },
           "yaxis": {
            "backgroundcolor": "rgb(237,237,237)",
            "gridcolor": "white",
            "gridwidth": 2,
            "linecolor": "white",
            "showbackground": true,
            "showgrid": true,
            "tickcolor": "rgb(51,51,51)",
            "ticks": "outside",
            "zerolinecolor": "white"
           },
           "zaxis": {
            "backgroundcolor": "rgb(237,237,237)",
            "gridcolor": "white",
            "gridwidth": 2,
            "linecolor": "white",
            "showbackground": true,
            "showgrid": true,
            "tickcolor": "rgb(51,51,51)",
            "ticks": "outside",
            "zerolinecolor": "white"
           }
          },
          "shapedefaults": {
           "fillcolor": "black",
           "line": {
            "width": 0
           },
           "opacity": 0.3
          },
          "ternary": {
           "aaxis": {
            "gridcolor": "white",
            "linecolor": "white",
            "showgrid": true,
            "tickcolor": "rgb(51,51,51)",
            "ticks": "outside"
           },
           "baxis": {
            "gridcolor": "white",
            "linecolor": "white",
            "showgrid": true,
            "tickcolor": "rgb(51,51,51)",
            "ticks": "outside"
           },
           "bgcolor": "rgb(237,237,237)",
           "caxis": {
            "gridcolor": "white",
            "linecolor": "white",
            "showgrid": true,
            "tickcolor": "rgb(51,51,51)",
            "ticks": "outside"
           }
          },
          "xaxis": {
           "automargin": true,
           "gridcolor": "white",
           "linecolor": "white",
           "showgrid": true,
           "tickcolor": "rgb(51,51,51)",
           "ticks": "outside",
           "title": {
            "standoff": 15
           },
           "zerolinecolor": "white"
          },
          "yaxis": {
           "automargin": true,
           "gridcolor": "white",
           "linecolor": "white",
           "showgrid": true,
           "tickcolor": "rgb(51,51,51)",
           "ticks": "outside",
           "title": {
            "standoff": 15
           },
           "zerolinecolor": "white"
          }
         }
        },
        "title": {
         "text": "Feature Importance"
        },
        "xaxis": {
         "anchor": "y",
         "domain": [
          0,
          1
         ],
         "title": {
          "text": "Features"
         }
        },
        "yaxis": {
         "anchor": "x",
         "domain": [
          0,
          1
         ],
         "title": {
          "text": "Importances"
         }
        }
       }
      }
     },
     "metadata": {}
    }
   ],
   "source": [
    "# See which features were most important\n",
    "imps = pd.DataFrame()\n",
    "imps['Features'] = features\n",
    "imps['Importances'] = clf.feature_importances_\n",
    "imps = imps.sort_values('Importances', ascending=False)\n",
    "px.bar(imps, x='Features', y='Importances', template='ggplot2',\n",
    "       title='Feature Importance')"
   ]
  },
  {
   "cell_type": "markdown",
   "id": "residential-compiler",
   "metadata": {},
   "source": [
    "## Analyze Classification Effectiveness"
   ]
  },
  {
   "cell_type": "code",
   "execution_count": 15,
   "id": "resident-writing",
   "metadata": {},
   "outputs": [
    {
     "output_type": "display_data",
     "data": {
      "text/plain": "<Figure size 936x936 with 2 Axes>",
      "image/svg+xml": "<?xml version=\"1.0\" encoding=\"utf-8\" standalone=\"no\"?>\n<!DOCTYPE svg PUBLIC \"-//W3C//DTD SVG 1.1//EN\"\n  \"http://www.w3.org/Graphics/SVG/1.1/DTD/svg11.dtd\">\n<svg height=\"730.758125pt\" version=\"1.1\" viewBox=\"0 0 716.26775 730.758125\" width=\"716.26775pt\" xmlns=\"http://www.w3.org/2000/svg\" xmlns:xlink=\"http://www.w3.org/1999/xlink\">\n <metadata>\n  <rdf:RDF xmlns:cc=\"http://creativecommons.org/ns#\" xmlns:dc=\"http://purl.org/dc/elements/1.1/\" xmlns:rdf=\"http://www.w3.org/1999/02/22-rdf-syntax-ns#\">\n   <cc:Work>\n    <dc:type rdf:resource=\"http://purl.org/dc/dcmitype/StillImage\"/>\n    <dc:date>2021-05-12T15:01:05.083148</dc:date>\n    <dc:format>image/svg+xml</dc:format>\n    <dc:creator>\n     <cc:Agent>\n      <dc:title>Matplotlib v3.4.2, https://matplotlib.org/</dc:title>\n     </cc:Agent>\n    </dc:creator>\n   </cc:Work>\n  </rdf:RDF>\n </metadata>\n <defs>\n  <style type=\"text/css\">*{stroke-linecap:butt;stroke-linejoin:round;}</style>\n </defs>\n <g id=\"figure_1\">\n  <g id=\"patch_1\">\n   <path d=\"M 0 730.758125 \nL 716.26775 730.758125 \nL 716.26775 0 \nL 0 0 \nz\n\" style=\"fill:none;\"/>\n  </g>\n  <g id=\"axes_1\">\n   <g id=\"patch_2\">\n    <path d=\"M 34.240625 654.499219 \nL 614.560625 654.499219 \nL 614.560625 74.179219 \nL 34.240625 74.179219 \nz\n\" style=\"fill:#ffffff;\"/>\n   </g>\n   <g clip-path=\"url(#p0ca6820b34)\">\n    <image height=\"581\" id=\"image8d00da49de\" transform=\"scale(1 -1)translate(0 -581)\" width=\"581\" x=\"34.240625\" xlink:href=\"data:image/png;base64,\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\" y=\"-73.499219\"/>\n   </g>\n   <g id=\"matplotlib.axis_1\">\n    <g id=\"xtick_1\">\n     <g id=\"line2d_1\">\n      <defs>\n       <path d=\"M 0 0 \nL 0 3.5 \n\" id=\"m77887351c2\" style=\"stroke:#000000;stroke-width:0.8;\"/>\n      </defs>\n      <g>\n       <use style=\"stroke:#000000;stroke-width:0.8;\" x=\"130.960625\" xlink:href=\"#m77887351c2\" y=\"654.499219\"/>\n      </g>\n     </g>\n     <g id=\"text_1\">\n      <!-- 0 -->\n      <g transform=\"translate(130.662314 671.371092)rotate(-45)scale(0.1 -0.1)\">\n       <defs>\n        <path d=\"M 2034 4250 \nQ 1547 4250 1301 3770 \nQ 1056 3291 1056 2328 \nQ 1056 1369 1301 889 \nQ 1547 409 2034 409 \nQ 2525 409 2770 889 \nQ 3016 1369 3016 2328 \nQ 3016 3291 2770 3770 \nQ 2525 4250 2034 4250 \nz\nM 2034 4750 \nQ 2819 4750 3233 4129 \nQ 3647 3509 3647 2328 \nQ 3647 1150 3233 529 \nQ 2819 -91 2034 -91 \nQ 1250 -91 836 529 \nQ 422 1150 422 2328 \nQ 422 3509 836 4129 \nQ 1250 4750 2034 4750 \nz\n\" id=\"DejaVuSans-30\" transform=\"scale(0.015625)\"/>\n       </defs>\n       <use xlink:href=\"#DejaVuSans-30\"/>\n      </g>\n     </g>\n    </g>\n    <g id=\"xtick_2\">\n     <g id=\"line2d_2\">\n      <g>\n       <use style=\"stroke:#000000;stroke-width:0.8;\" x=\"324.400625\" xlink:href=\"#m77887351c2\" y=\"654.499219\"/>\n      </g>\n     </g>\n     <g id=\"text_2\">\n      <!-- 1 -->\n      <g transform=\"translate(324.102314 671.371092)rotate(-45)scale(0.1 -0.1)\">\n       <defs>\n        <path d=\"M 794 531 \nL 1825 531 \nL 1825 4091 \nL 703 3866 \nL 703 4441 \nL 1819 4666 \nL 2450 4666 \nL 2450 531 \nL 3481 531 \nL 3481 0 \nL 794 0 \nL 794 531 \nz\n\" id=\"DejaVuSans-31\" transform=\"scale(0.015625)\"/>\n       </defs>\n       <use xlink:href=\"#DejaVuSans-31\"/>\n      </g>\n     </g>\n    </g>\n    <g id=\"xtick_3\">\n     <g id=\"line2d_3\">\n      <g>\n       <use style=\"stroke:#000000;stroke-width:0.8;\" x=\"517.840625\" xlink:href=\"#m77887351c2\" y=\"654.499219\"/>\n      </g>\n     </g>\n     <g id=\"text_3\">\n      <!-- 2 -->\n      <g transform=\"translate(517.542314 671.371092)rotate(-45)scale(0.1 -0.1)\">\n       <defs>\n        <path d=\"M 1228 531 \nL 3431 531 \nL 3431 0 \nL 469 0 \nL 469 531 \nQ 828 903 1448 1529 \nQ 2069 2156 2228 2338 \nQ 2531 2678 2651 2914 \nQ 2772 3150 2772 3378 \nQ 2772 3750 2511 3984 \nQ 2250 4219 1831 4219 \nQ 1534 4219 1204 4116 \nQ 875 4013 500 3803 \nL 500 4441 \nQ 881 4594 1212 4672 \nQ 1544 4750 1819 4750 \nQ 2544 4750 2975 4387 \nQ 3406 4025 3406 3419 \nQ 3406 3131 3298 2873 \nQ 3191 2616 2906 2266 \nQ 2828 2175 2409 1742 \nQ 1991 1309 1228 531 \nz\n\" id=\"DejaVuSans-32\" transform=\"scale(0.015625)\"/>\n       </defs>\n       <use xlink:href=\"#DejaVuSans-32\"/>\n      </g>\n     </g>\n    </g>\n    <g id=\"text_4\">\n     <!-- Predicted label -->\n     <g transform=\"translate(287.248281 684.440091)scale(0.1 -0.1)\">\n      <defs>\n       <path d=\"M 1259 4147 \nL 1259 2394 \nL 2053 2394 \nQ 2494 2394 2734 2622 \nQ 2975 2850 2975 3272 \nQ 2975 3691 2734 3919 \nQ 2494 4147 2053 4147 \nL 1259 4147 \nz\nM 628 4666 \nL 2053 4666 \nQ 2838 4666 3239 4311 \nQ 3641 3956 3641 3272 \nQ 3641 2581 3239 2228 \nQ 2838 1875 2053 1875 \nL 1259 1875 \nL 1259 0 \nL 628 0 \nL 628 4666 \nz\n\" id=\"DejaVuSans-50\" transform=\"scale(0.015625)\"/>\n       <path d=\"M 2631 2963 \nQ 2534 3019 2420 3045 \nQ 2306 3072 2169 3072 \nQ 1681 3072 1420 2755 \nQ 1159 2438 1159 1844 \nL 1159 0 \nL 581 0 \nL 581 3500 \nL 1159 3500 \nL 1159 2956 \nQ 1341 3275 1631 3429 \nQ 1922 3584 2338 3584 \nQ 2397 3584 2469 3576 \nQ 2541 3569 2628 3553 \nL 2631 2963 \nz\n\" id=\"DejaVuSans-72\" transform=\"scale(0.015625)\"/>\n       <path d=\"M 3597 1894 \nL 3597 1613 \nL 953 1613 \nQ 991 1019 1311 708 \nQ 1631 397 2203 397 \nQ 2534 397 2845 478 \nQ 3156 559 3463 722 \nL 3463 178 \nQ 3153 47 2828 -22 \nQ 2503 -91 2169 -91 \nQ 1331 -91 842 396 \nQ 353 884 353 1716 \nQ 353 2575 817 3079 \nQ 1281 3584 2069 3584 \nQ 2775 3584 3186 3129 \nQ 3597 2675 3597 1894 \nz\nM 3022 2063 \nQ 3016 2534 2758 2815 \nQ 2500 3097 2075 3097 \nQ 1594 3097 1305 2825 \nQ 1016 2553 972 2059 \nL 3022 2063 \nz\n\" id=\"DejaVuSans-65\" transform=\"scale(0.015625)\"/>\n       <path d=\"M 2906 2969 \nL 2906 4863 \nL 3481 4863 \nL 3481 0 \nL 2906 0 \nL 2906 525 \nQ 2725 213 2448 61 \nQ 2172 -91 1784 -91 \nQ 1150 -91 751 415 \nQ 353 922 353 1747 \nQ 353 2572 751 3078 \nQ 1150 3584 1784 3584 \nQ 2172 3584 2448 3432 \nQ 2725 3281 2906 2969 \nz\nM 947 1747 \nQ 947 1113 1208 752 \nQ 1469 391 1925 391 \nQ 2381 391 2643 752 \nQ 2906 1113 2906 1747 \nQ 2906 2381 2643 2742 \nQ 2381 3103 1925 3103 \nQ 1469 3103 1208 2742 \nQ 947 2381 947 1747 \nz\n\" id=\"DejaVuSans-64\" transform=\"scale(0.015625)\"/>\n       <path d=\"M 603 3500 \nL 1178 3500 \nL 1178 0 \nL 603 0 \nL 603 3500 \nz\nM 603 4863 \nL 1178 4863 \nL 1178 4134 \nL 603 4134 \nL 603 4863 \nz\n\" id=\"DejaVuSans-69\" transform=\"scale(0.015625)\"/>\n       <path d=\"M 3122 3366 \nL 3122 2828 \nQ 2878 2963 2633 3030 \nQ 2388 3097 2138 3097 \nQ 1578 3097 1268 2742 \nQ 959 2388 959 1747 \nQ 959 1106 1268 751 \nQ 1578 397 2138 397 \nQ 2388 397 2633 464 \nQ 2878 531 3122 666 \nL 3122 134 \nQ 2881 22 2623 -34 \nQ 2366 -91 2075 -91 \nQ 1284 -91 818 406 \nQ 353 903 353 1747 \nQ 353 2603 823 3093 \nQ 1294 3584 2113 3584 \nQ 2378 3584 2631 3529 \nQ 2884 3475 3122 3366 \nz\n\" id=\"DejaVuSans-63\" transform=\"scale(0.015625)\"/>\n       <path d=\"M 1172 4494 \nL 1172 3500 \nL 2356 3500 \nL 2356 3053 \nL 1172 3053 \nL 1172 1153 \nQ 1172 725 1289 603 \nQ 1406 481 1766 481 \nL 2356 481 \nL 2356 0 \nL 1766 0 \nQ 1100 0 847 248 \nQ 594 497 594 1153 \nL 594 3053 \nL 172 3053 \nL 172 3500 \nL 594 3500 \nL 594 4494 \nL 1172 4494 \nz\n\" id=\"DejaVuSans-74\" transform=\"scale(0.015625)\"/>\n       <path id=\"DejaVuSans-20\" transform=\"scale(0.015625)\"/>\n       <path d=\"M 603 4863 \nL 1178 4863 \nL 1178 0 \nL 603 0 \nL 603 4863 \nz\n\" id=\"DejaVuSans-6c\" transform=\"scale(0.015625)\"/>\n       <path d=\"M 2194 1759 \nQ 1497 1759 1228 1600 \nQ 959 1441 959 1056 \nQ 959 750 1161 570 \nQ 1363 391 1709 391 \nQ 2188 391 2477 730 \nQ 2766 1069 2766 1631 \nL 2766 1759 \nL 2194 1759 \nz\nM 3341 1997 \nL 3341 0 \nL 2766 0 \nL 2766 531 \nQ 2569 213 2275 61 \nQ 1981 -91 1556 -91 \nQ 1019 -91 701 211 \nQ 384 513 384 1019 \nQ 384 1609 779 1909 \nQ 1175 2209 1959 2209 \nL 2766 2209 \nL 2766 2266 \nQ 2766 2663 2505 2880 \nQ 2244 3097 1772 3097 \nQ 1472 3097 1187 3025 \nQ 903 2953 641 2809 \nL 641 3341 \nQ 956 3463 1253 3523 \nQ 1550 3584 1831 3584 \nQ 2591 3584 2966 3190 \nQ 3341 2797 3341 1997 \nz\n\" id=\"DejaVuSans-61\" transform=\"scale(0.015625)\"/>\n       <path d=\"M 3116 1747 \nQ 3116 2381 2855 2742 \nQ 2594 3103 2138 3103 \nQ 1681 3103 1420 2742 \nQ 1159 2381 1159 1747 \nQ 1159 1113 1420 752 \nQ 1681 391 2138 391 \nQ 2594 391 2855 752 \nQ 3116 1113 3116 1747 \nz\nM 1159 2969 \nQ 1341 3281 1617 3432 \nQ 1894 3584 2278 3584 \nQ 2916 3584 3314 3078 \nQ 3713 2572 3713 1747 \nQ 3713 922 3314 415 \nQ 2916 -91 2278 -91 \nQ 1894 -91 1617 61 \nQ 1341 213 1159 525 \nL 1159 0 \nL 581 0 \nL 581 4863 \nL 1159 4863 \nL 1159 2969 \nz\n\" id=\"DejaVuSans-62\" transform=\"scale(0.015625)\"/>\n      </defs>\n      <use xlink:href=\"#DejaVuSans-50\"/>\n      <use x=\"58.552734\" xlink:href=\"#DejaVuSans-72\"/>\n      <use x=\"97.416016\" xlink:href=\"#DejaVuSans-65\"/>\n      <use x=\"158.939453\" xlink:href=\"#DejaVuSans-64\"/>\n      <use x=\"222.416016\" xlink:href=\"#DejaVuSans-69\"/>\n      <use x=\"250.199219\" xlink:href=\"#DejaVuSans-63\"/>\n      <use x=\"305.179688\" xlink:href=\"#DejaVuSans-74\"/>\n      <use x=\"344.388672\" xlink:href=\"#DejaVuSans-65\"/>\n      <use x=\"405.912109\" xlink:href=\"#DejaVuSans-64\"/>\n      <use x=\"469.388672\" xlink:href=\"#DejaVuSans-20\"/>\n      <use x=\"501.175781\" xlink:href=\"#DejaVuSans-6c\"/>\n      <use x=\"528.958984\" xlink:href=\"#DejaVuSans-61\"/>\n      <use x=\"590.238281\" xlink:href=\"#DejaVuSans-62\"/>\n      <use x=\"653.714844\" xlink:href=\"#DejaVuSans-65\"/>\n      <use x=\"715.238281\" xlink:href=\"#DejaVuSans-6c\"/>\n     </g>\n    </g>\n   </g>\n   <g id=\"matplotlib.axis_2\">\n    <g id=\"ytick_1\">\n     <g id=\"line2d_4\">\n      <defs>\n       <path d=\"M 0 0 \nL -3.5 0 \n\" id=\"m1e5009cadb\" style=\"stroke:#000000;stroke-width:0.8;\"/>\n      </defs>\n      <g>\n       <use style=\"stroke:#000000;stroke-width:0.8;\" x=\"34.240625\" xlink:href=\"#m1e5009cadb\" y=\"170.899219\"/>\n      </g>\n     </g>\n     <g id=\"text_5\">\n      <!-- 0 -->\n      <g transform=\"translate(20.878125 174.698437)scale(0.1 -0.1)\">\n       <use xlink:href=\"#DejaVuSans-30\"/>\n      </g>\n     </g>\n    </g>\n    <g id=\"ytick_2\">\n     <g id=\"line2d_5\">\n      <g>\n       <use style=\"stroke:#000000;stroke-width:0.8;\" x=\"34.240625\" xlink:href=\"#m1e5009cadb\" y=\"364.339219\"/>\n      </g>\n     </g>\n     <g id=\"text_6\">\n      <!-- 1 -->\n      <g transform=\"translate(20.878125 368.138437)scale(0.1 -0.1)\">\n       <use xlink:href=\"#DejaVuSans-31\"/>\n      </g>\n     </g>\n    </g>\n    <g id=\"ytick_3\">\n     <g id=\"line2d_6\">\n      <g>\n       <use style=\"stroke:#000000;stroke-width:0.8;\" x=\"34.240625\" xlink:href=\"#m1e5009cadb\" y=\"557.779219\"/>\n      </g>\n     </g>\n     <g id=\"text_7\">\n      <!-- 2 -->\n      <g transform=\"translate(20.878125 561.578437)scale(0.1 -0.1)\">\n       <use xlink:href=\"#DejaVuSans-32\"/>\n      </g>\n     </g>\n    </g>\n    <g id=\"text_8\">\n     <!-- True label -->\n     <g transform=\"translate(14.798438 388.638437)rotate(-90)scale(0.1 -0.1)\">\n      <defs>\n       <path d=\"M -19 4666 \nL 3928 4666 \nL 3928 4134 \nL 2272 4134 \nL 2272 0 \nL 1638 0 \nL 1638 4134 \nL -19 4134 \nL -19 4666 \nz\n\" id=\"DejaVuSans-54\" transform=\"scale(0.015625)\"/>\n       <path d=\"M 544 1381 \nL 544 3500 \nL 1119 3500 \nL 1119 1403 \nQ 1119 906 1312 657 \nQ 1506 409 1894 409 \nQ 2359 409 2629 706 \nQ 2900 1003 2900 1516 \nL 2900 3500 \nL 3475 3500 \nL 3475 0 \nL 2900 0 \nL 2900 538 \nQ 2691 219 2414 64 \nQ 2138 -91 1772 -91 \nQ 1169 -91 856 284 \nQ 544 659 544 1381 \nz\nM 1991 3584 \nL 1991 3584 \nz\n\" id=\"DejaVuSans-75\" transform=\"scale(0.015625)\"/>\n      </defs>\n      <use xlink:href=\"#DejaVuSans-54\"/>\n      <use x=\"46.333984\" xlink:href=\"#DejaVuSans-72\"/>\n      <use x=\"87.447266\" xlink:href=\"#DejaVuSans-75\"/>\n      <use x=\"150.826172\" xlink:href=\"#DejaVuSans-65\"/>\n      <use x=\"212.349609\" xlink:href=\"#DejaVuSans-20\"/>\n      <use x=\"244.136719\" xlink:href=\"#DejaVuSans-6c\"/>\n      <use x=\"271.919922\" xlink:href=\"#DejaVuSans-61\"/>\n      <use x=\"333.199219\" xlink:href=\"#DejaVuSans-62\"/>\n      <use x=\"396.675781\" xlink:href=\"#DejaVuSans-65\"/>\n      <use x=\"458.199219\" xlink:href=\"#DejaVuSans-6c\"/>\n     </g>\n    </g>\n   </g>\n   <g id=\"patch_3\">\n    <path d=\"M 34.240625 654.499219 \nL 34.240625 74.179219 \n\" style=\"fill:none;stroke:#000000;stroke-linecap:square;stroke-linejoin:miter;stroke-width:0.8;\"/>\n   </g>\n   <g id=\"patch_4\">\n    <path d=\"M 614.560625 654.499219 \nL 614.560625 74.179219 \n\" style=\"fill:none;stroke:#000000;stroke-linecap:square;stroke-linejoin:miter;stroke-width:0.8;\"/>\n   </g>\n   <g id=\"patch_5\">\n    <path d=\"M 34.240625 654.499219 \nL 614.560625 654.499219 \n\" style=\"fill:none;stroke:#000000;stroke-linecap:square;stroke-linejoin:miter;stroke-width:0.8;\"/>\n   </g>\n   <g id=\"patch_6\">\n    <path d=\"M 34.240625 74.179219 \nL 614.560625 74.179219 \n\" style=\"fill:none;stroke:#000000;stroke-linecap:square;stroke-linejoin:miter;stroke-width:0.8;\"/>\n   </g>\n   <g id=\"text_9\">\n    <!-- 1 -->\n    <g style=\"fill:#440154;\" transform=\"translate(127.779375 173.658594)scale(0.1 -0.1)\">\n     <use xlink:href=\"#DejaVuSans-31\"/>\n    </g>\n   </g>\n   <g id=\"text_10\">\n    <!-- 0 -->\n    <g style=\"fill:#fde725;\" transform=\"translate(321.219375 173.658594)scale(0.1 -0.1)\">\n     <use xlink:href=\"#DejaVuSans-30\"/>\n    </g>\n   </g>\n   <g id=\"text_11\">\n    <!-- 0 -->\n    <g style=\"fill:#fde725;\" transform=\"translate(514.659375 173.658594)scale(0.1 -0.1)\">\n     <use xlink:href=\"#DejaVuSans-30\"/>\n    </g>\n   </g>\n   <g id=\"text_12\">\n    <!-- 0 -->\n    <g style=\"fill:#fde725;\" transform=\"translate(127.779375 367.098594)scale(0.1 -0.1)\">\n     <use xlink:href=\"#DejaVuSans-30\"/>\n    </g>\n   </g>\n   <g id=\"text_13\">\n    <!-- 1 -->\n    <g style=\"fill:#440154;\" transform=\"translate(321.219375 367.098594)scale(0.1 -0.1)\">\n     <use xlink:href=\"#DejaVuSans-31\"/>\n    </g>\n   </g>\n   <g id=\"text_14\">\n    <!-- 0 -->\n    <g style=\"fill:#fde725;\" transform=\"translate(514.659375 367.098594)scale(0.1 -0.1)\">\n     <use xlink:href=\"#DejaVuSans-30\"/>\n    </g>\n   </g>\n   <g id=\"text_15\">\n    <!-- 0 -->\n    <g style=\"fill:#fde725;\" transform=\"translate(127.779375 560.538594)scale(0.1 -0.1)\">\n     <use xlink:href=\"#DejaVuSans-30\"/>\n    </g>\n   </g>\n   <g id=\"text_16\">\n    <!-- 0 -->\n    <g style=\"fill:#fde725;\" transform=\"translate(321.219375 560.538594)scale(0.1 -0.1)\">\n     <use xlink:href=\"#DejaVuSans-30\"/>\n    </g>\n   </g>\n   <g id=\"text_17\">\n    <!-- 1 -->\n    <g style=\"fill:#440154;\" transform=\"translate(514.659375 560.538594)scale(0.1 -0.1)\">\n     <use xlink:href=\"#DejaVuSans-31\"/>\n    </g>\n   </g>\n   <g id=\"text_18\">\n    <!-- Confusion Matrix -->\n    <g transform=\"translate(273.75875 68.179219)scale(0.12 -0.12)\">\n     <defs>\n      <path d=\"M 4122 4306 \nL 4122 3641 \nQ 3803 3938 3442 4084 \nQ 3081 4231 2675 4231 \nQ 1875 4231 1450 3742 \nQ 1025 3253 1025 2328 \nQ 1025 1406 1450 917 \nQ 1875 428 2675 428 \nQ 3081 428 3442 575 \nQ 3803 722 4122 1019 \nL 4122 359 \nQ 3791 134 3420 21 \nQ 3050 -91 2638 -91 \nQ 1578 -91 968 557 \nQ 359 1206 359 2328 \nQ 359 3453 968 4101 \nQ 1578 4750 2638 4750 \nQ 3056 4750 3426 4639 \nQ 3797 4528 4122 4306 \nz\n\" id=\"DejaVuSans-43\" transform=\"scale(0.015625)\"/>\n      <path d=\"M 1959 3097 \nQ 1497 3097 1228 2736 \nQ 959 2375 959 1747 \nQ 959 1119 1226 758 \nQ 1494 397 1959 397 \nQ 2419 397 2687 759 \nQ 2956 1122 2956 1747 \nQ 2956 2369 2687 2733 \nQ 2419 3097 1959 3097 \nz\nM 1959 3584 \nQ 2709 3584 3137 3096 \nQ 3566 2609 3566 1747 \nQ 3566 888 3137 398 \nQ 2709 -91 1959 -91 \nQ 1206 -91 779 398 \nQ 353 888 353 1747 \nQ 353 2609 779 3096 \nQ 1206 3584 1959 3584 \nz\n\" id=\"DejaVuSans-6f\" transform=\"scale(0.015625)\"/>\n      <path d=\"M 3513 2113 \nL 3513 0 \nL 2938 0 \nL 2938 2094 \nQ 2938 2591 2744 2837 \nQ 2550 3084 2163 3084 \nQ 1697 3084 1428 2787 \nQ 1159 2491 1159 1978 \nL 1159 0 \nL 581 0 \nL 581 3500 \nL 1159 3500 \nL 1159 2956 \nQ 1366 3272 1645 3428 \nQ 1925 3584 2291 3584 \nQ 2894 3584 3203 3211 \nQ 3513 2838 3513 2113 \nz\n\" id=\"DejaVuSans-6e\" transform=\"scale(0.015625)\"/>\n      <path d=\"M 2375 4863 \nL 2375 4384 \nL 1825 4384 \nQ 1516 4384 1395 4259 \nQ 1275 4134 1275 3809 \nL 1275 3500 \nL 2222 3500 \nL 2222 3053 \nL 1275 3053 \nL 1275 0 \nL 697 0 \nL 697 3053 \nL 147 3053 \nL 147 3500 \nL 697 3500 \nL 697 3744 \nQ 697 4328 969 4595 \nQ 1241 4863 1831 4863 \nL 2375 4863 \nz\n\" id=\"DejaVuSans-66\" transform=\"scale(0.015625)\"/>\n      <path d=\"M 2834 3397 \nL 2834 2853 \nQ 2591 2978 2328 3040 \nQ 2066 3103 1784 3103 \nQ 1356 3103 1142 2972 \nQ 928 2841 928 2578 \nQ 928 2378 1081 2264 \nQ 1234 2150 1697 2047 \nL 1894 2003 \nQ 2506 1872 2764 1633 \nQ 3022 1394 3022 966 \nQ 3022 478 2636 193 \nQ 2250 -91 1575 -91 \nQ 1294 -91 989 -36 \nQ 684 19 347 128 \nL 347 722 \nQ 666 556 975 473 \nQ 1284 391 1588 391 \nQ 1994 391 2212 530 \nQ 2431 669 2431 922 \nQ 2431 1156 2273 1281 \nQ 2116 1406 1581 1522 \nL 1381 1569 \nQ 847 1681 609 1914 \nQ 372 2147 372 2553 \nQ 372 3047 722 3315 \nQ 1072 3584 1716 3584 \nQ 2034 3584 2315 3537 \nQ 2597 3491 2834 3397 \nz\n\" id=\"DejaVuSans-73\" transform=\"scale(0.015625)\"/>\n      <path d=\"M 628 4666 \nL 1569 4666 \nL 2759 1491 \nL 3956 4666 \nL 4897 4666 \nL 4897 0 \nL 4281 0 \nL 4281 4097 \nL 3078 897 \nL 2444 897 \nL 1241 4097 \nL 1241 0 \nL 628 0 \nL 628 4666 \nz\n\" id=\"DejaVuSans-4d\" transform=\"scale(0.015625)\"/>\n      <path d=\"M 3513 3500 \nL 2247 1797 \nL 3578 0 \nL 2900 0 \nL 1881 1375 \nL 863 0 \nL 184 0 \nL 1544 1831 \nL 300 3500 \nL 978 3500 \nL 1906 2253 \nL 2834 3500 \nL 3513 3500 \nz\n\" id=\"DejaVuSans-78\" transform=\"scale(0.015625)\"/>\n     </defs>\n     <use xlink:href=\"#DejaVuSans-43\"/>\n     <use x=\"69.824219\" xlink:href=\"#DejaVuSans-6f\"/>\n     <use x=\"131.005859\" xlink:href=\"#DejaVuSans-6e\"/>\n     <use x=\"194.384766\" xlink:href=\"#DejaVuSans-66\"/>\n     <use x=\"229.589844\" xlink:href=\"#DejaVuSans-75\"/>\n     <use x=\"292.96875\" xlink:href=\"#DejaVuSans-73\"/>\n     <use x=\"345.068359\" xlink:href=\"#DejaVuSans-69\"/>\n     <use x=\"372.851562\" xlink:href=\"#DejaVuSans-6f\"/>\n     <use x=\"434.033203\" xlink:href=\"#DejaVuSans-6e\"/>\n     <use x=\"497.412109\" xlink:href=\"#DejaVuSans-20\"/>\n     <use x=\"529.199219\" xlink:href=\"#DejaVuSans-4d\"/>\n     <use x=\"615.478516\" xlink:href=\"#DejaVuSans-61\"/>\n     <use x=\"676.757812\" xlink:href=\"#DejaVuSans-74\"/>\n     <use x=\"715.966797\" xlink:href=\"#DejaVuSans-72\"/>\n     <use x=\"757.080078\" xlink:href=\"#DejaVuSans-69\"/>\n     <use x=\"784.863281\" xlink:href=\"#DejaVuSans-78\"/>\n    </g>\n   </g>\n  </g>\n  <g id=\"axes_2\">\n   <g id=\"patch_7\">\n    <path d=\"M 650.830625 717.679219 \nL 686.164625 717.679219 \nL 686.164625 10.999219 \nL 650.830625 10.999219 \nz\n\" style=\"fill:#ffffff;\"/>\n   </g>\n   <g id=\"patch_8\">\n    <path clip-path=\"url(#p32b34b2935)\" d=\"M 650.830625 717.679219 \nL 650.830625 714.91875 \nL 650.830625 13.759687 \nL 650.830625 10.999219 \nL 686.164625 10.999219 \nL 686.164625 13.759687 \nL 686.164625 714.91875 \nL 686.164625 717.679219 \nL 686.164625 717.679219 \nz\n\" style=\"fill:#ffffff;stroke:#ffffff;stroke-linejoin:miter;stroke-width:0.01;\"/>\n   </g>\n   <image height=\"707\" id=\"image33ebab577a\" transform=\"scale(1 -1)translate(0 -707)\" width=\"35\" x=\"651\" xlink:href=\"data:image/png;base64,\niVBORw0KGgoAAAANSUhEUgAAACMAAALDCAYAAACfArnyAAAEjElEQVR4nO2dsXFDMQzFJH2OlhGy/yj56XIphNoogAlwIvko2b5kf+3vd0k4nxb4j0pm1vb4eEyWTGb22Z92+MN1MjUwoJKpgQmVTNNEqGRmNU13Zu1O5opKZvbx+HhMlkymaSJUMrOapjs1MKGS6T5DqGRm9zq4o5JpmojWAaGSqUyESqZrJ6GSaZoIlUxlIjoZQiXTtZNQyTRNhEqmb+KIcoZQyZQzhEqmMhEqmcpEtA4IlUwNTKhk5q1Md1QyY9IRqZQzjEqmMhEqmcpEqGTa2kSLklDJlDOESqYyESqZ1gHROiBUMuUMoZIpZwiVzCxPlVwno5Ip9Ih5RToiFZlMDUyoZOb1VMl1MiqZponoPkOoZHodECqZPhIhVDJNE9E6IFQyXTsJlUzXTkIl0zQRrQNCJdPPtgmVTDlDqGQKPaIGJlQyXTsJlUzTRKhkWgeESqZpIloHhEqmBiZUMq0DQiXTz5yIGphQybQOCJVMlytCJdM0Ea0DQiVTAxMqmaaJUMk0TUQNTKhkamBCJdM0ESqZfg9M1MCESqZ1QKhkmiZCJVOZiHKGUMnUwIRKpmkiVDJNE6GSaZqIGphQyVQmQiVTzhAqmaaJmPfTBv9QnYxKpgYmVDKViVDJtLWJGphQydTAhEqmaSJUMpWJKGcIlUwNTKhkKhOhkin0iBqYUMnUwIRKpmkiVDKViShnCJVMDUwkQyRDFHqESqbQIzoZQiVTzhAqmaaJUMk0TUQNTKhkZm3PL/VUJ6OSKWcIlUyhR3QyhEqmnCFUMk0ToZKpTETXTkIl0zogkiGSIVoHRDlDqGTa2oRKppwhVDKViVDJVCaidUCoZGpgQiXTHZhQyRR6RDlDqGRG9GfIXSejkilnCJVMoUd0MoRKZtYqZ66oZJomQiUzu619pwYmVDI1MKGSaZoIlUxvbaLnLaGSaR0QKplyhlDJNE1E9xlCJVMDEyqZEQ2T62RUMk0ToZKpTETXTkIlM6cGvqOSKWcIlUxlIloHhEqmdUCoZMoZQiUzp9/P3GkdECqZ1gGhkmkdECqZpomogQmVTA1MqGS6dhIqmUKPKGcIlUxlIlQylYlQyVQmovsMoZKpgQmVTGUiVDKViVDJVCairU2oZGpgQiUzZ/982uEP1cmoZJomonVAqGRqYEIl0zogVDLzNE13WgeESqacIVQybW1CJTNPoXennCFUMuUMoZLp2kmoZOasQu9KOUOoZOapge+oZJomQiUzT3fgO31YRKhkamBCJdNbm1DJ9GERoZJpmogamFDJ1MCESqa3NqGS6a1N1MCESqZHHKGS6SMRQiXTNBF9+UWoZPoqmVDJdLkiVDK9tYkamFDJtA4IlUyXK0Il0+uAaB0QKpk+hSBUMuUMoZLpC1NCJdPliihnCJVMOUOoZPoqmVDJ9FQhyhlCJVPOECqZpolQyVQmYk7/8+uOSqYGJlQyY7Ixubhk5in07syzPEejOhmVTDlDqGTmEf1HVdXJqGTmFHp3WgeESqYGJlQyrQNCJTNH5OMxWeUMo5KZZ3t8PCZLJlPOECqZXzwUkIirIiENAAAAAElFTkSuQmCC\" y=\"-10\"/>\n   <g id=\"matplotlib.axis_3\"/>\n   <g id=\"matplotlib.axis_4\">\n    <g id=\"ytick_4\">\n     <g id=\"line2d_7\">\n      <defs>\n       <path d=\"M 0 0 \nL 3.5 0 \n\" id=\"m3323122474\" style=\"stroke:#000000;stroke-width:0.8;\"/>\n      </defs>\n      <g>\n       <use style=\"stroke:#000000;stroke-width:0.8;\" x=\"686.164625\" xlink:href=\"#m3323122474\" y=\"717.679219\"/>\n      </g>\n     </g>\n     <g id=\"text_19\">\n      <!-- 0.0 -->\n      <g transform=\"translate(693.164625 721.478437)scale(0.1 -0.1)\">\n       <defs>\n        <path d=\"M 684 794 \nL 1344 794 \nL 1344 0 \nL 684 0 \nL 684 794 \nz\n\" id=\"DejaVuSans-2e\" transform=\"scale(0.015625)\"/>\n       </defs>\n       <use xlink:href=\"#DejaVuSans-30\"/>\n       <use x=\"63.623047\" xlink:href=\"#DejaVuSans-2e\"/>\n       <use x=\"95.410156\" xlink:href=\"#DejaVuSans-30\"/>\n      </g>\n     </g>\n    </g>\n    <g id=\"ytick_5\">\n     <g id=\"line2d_8\">\n      <g>\n       <use style=\"stroke:#000000;stroke-width:0.8;\" x=\"686.164625\" xlink:href=\"#m3323122474\" y=\"576.343219\"/>\n      </g>\n     </g>\n     <g id=\"text_20\">\n      <!-- 0.2 -->\n      <g transform=\"translate(693.164625 580.142437)scale(0.1 -0.1)\">\n       <use xlink:href=\"#DejaVuSans-30\"/>\n       <use x=\"63.623047\" xlink:href=\"#DejaVuSans-2e\"/>\n       <use x=\"95.410156\" xlink:href=\"#DejaVuSans-32\"/>\n      </g>\n     </g>\n    </g>\n    <g id=\"ytick_6\">\n     <g id=\"line2d_9\">\n      <g>\n       <use style=\"stroke:#000000;stroke-width:0.8;\" x=\"686.164625\" xlink:href=\"#m3323122474\" y=\"435.007219\"/>\n      </g>\n     </g>\n     <g id=\"text_21\">\n      <!-- 0.4 -->\n      <g transform=\"translate(693.164625 438.806437)scale(0.1 -0.1)\">\n       <defs>\n        <path d=\"M 2419 4116 \nL 825 1625 \nL 2419 1625 \nL 2419 4116 \nz\nM 2253 4666 \nL 3047 4666 \nL 3047 1625 \nL 3713 1625 \nL 3713 1100 \nL 3047 1100 \nL 3047 0 \nL 2419 0 \nL 2419 1100 \nL 313 1100 \nL 313 1709 \nL 2253 4666 \nz\n\" id=\"DejaVuSans-34\" transform=\"scale(0.015625)\"/>\n       </defs>\n       <use xlink:href=\"#DejaVuSans-30\"/>\n       <use x=\"63.623047\" xlink:href=\"#DejaVuSans-2e\"/>\n       <use x=\"95.410156\" xlink:href=\"#DejaVuSans-34\"/>\n      </g>\n     </g>\n    </g>\n    <g id=\"ytick_7\">\n     <g id=\"line2d_10\">\n      <g>\n       <use style=\"stroke:#000000;stroke-width:0.8;\" x=\"686.164625\" xlink:href=\"#m3323122474\" y=\"293.671219\"/>\n      </g>\n     </g>\n     <g id=\"text_22\">\n      <!-- 0.6 -->\n      <g transform=\"translate(693.164625 297.470437)scale(0.1 -0.1)\">\n       <defs>\n        <path d=\"M 2113 2584 \nQ 1688 2584 1439 2293 \nQ 1191 2003 1191 1497 \nQ 1191 994 1439 701 \nQ 1688 409 2113 409 \nQ 2538 409 2786 701 \nQ 3034 994 3034 1497 \nQ 3034 2003 2786 2293 \nQ 2538 2584 2113 2584 \nz\nM 3366 4563 \nL 3366 3988 \nQ 3128 4100 2886 4159 \nQ 2644 4219 2406 4219 \nQ 1781 4219 1451 3797 \nQ 1122 3375 1075 2522 \nQ 1259 2794 1537 2939 \nQ 1816 3084 2150 3084 \nQ 2853 3084 3261 2657 \nQ 3669 2231 3669 1497 \nQ 3669 778 3244 343 \nQ 2819 -91 2113 -91 \nQ 1303 -91 875 529 \nQ 447 1150 447 2328 \nQ 447 3434 972 4092 \nQ 1497 4750 2381 4750 \nQ 2619 4750 2861 4703 \nQ 3103 4656 3366 4563 \nz\n\" id=\"DejaVuSans-36\" transform=\"scale(0.015625)\"/>\n       </defs>\n       <use xlink:href=\"#DejaVuSans-30\"/>\n       <use x=\"63.623047\" xlink:href=\"#DejaVuSans-2e\"/>\n       <use x=\"95.410156\" xlink:href=\"#DejaVuSans-36\"/>\n      </g>\n     </g>\n    </g>\n    <g id=\"ytick_8\">\n     <g id=\"line2d_11\">\n      <g>\n       <use style=\"stroke:#000000;stroke-width:0.8;\" x=\"686.164625\" xlink:href=\"#m3323122474\" y=\"152.335219\"/>\n      </g>\n     </g>\n     <g id=\"text_23\">\n      <!-- 0.8 -->\n      <g transform=\"translate(693.164625 156.134437)scale(0.1 -0.1)\">\n       <defs>\n        <path d=\"M 2034 2216 \nQ 1584 2216 1326 1975 \nQ 1069 1734 1069 1313 \nQ 1069 891 1326 650 \nQ 1584 409 2034 409 \nQ 2484 409 2743 651 \nQ 3003 894 3003 1313 \nQ 3003 1734 2745 1975 \nQ 2488 2216 2034 2216 \nz\nM 1403 2484 \nQ 997 2584 770 2862 \nQ 544 3141 544 3541 \nQ 544 4100 942 4425 \nQ 1341 4750 2034 4750 \nQ 2731 4750 3128 4425 \nQ 3525 4100 3525 3541 \nQ 3525 3141 3298 2862 \nQ 3072 2584 2669 2484 \nQ 3125 2378 3379 2068 \nQ 3634 1759 3634 1313 \nQ 3634 634 3220 271 \nQ 2806 -91 2034 -91 \nQ 1263 -91 848 271 \nQ 434 634 434 1313 \nQ 434 1759 690 2068 \nQ 947 2378 1403 2484 \nz\nM 1172 3481 \nQ 1172 3119 1398 2916 \nQ 1625 2713 2034 2713 \nQ 2441 2713 2670 2916 \nQ 2900 3119 2900 3481 \nQ 2900 3844 2670 4047 \nQ 2441 4250 2034 4250 \nQ 1625 4250 1398 4047 \nQ 1172 3844 1172 3481 \nz\n\" id=\"DejaVuSans-38\" transform=\"scale(0.015625)\"/>\n       </defs>\n       <use xlink:href=\"#DejaVuSans-30\"/>\n       <use x=\"63.623047\" xlink:href=\"#DejaVuSans-2e\"/>\n       <use x=\"95.410156\" xlink:href=\"#DejaVuSans-38\"/>\n      </g>\n     </g>\n    </g>\n    <g id=\"ytick_9\">\n     <g id=\"line2d_12\">\n      <g>\n       <use style=\"stroke:#000000;stroke-width:0.8;\" x=\"686.164625\" xlink:href=\"#m3323122474\" y=\"10.999219\"/>\n      </g>\n     </g>\n     <g id=\"text_24\">\n      <!-- 1.0 -->\n      <g transform=\"translate(693.164625 14.798437)scale(0.1 -0.1)\">\n       <use xlink:href=\"#DejaVuSans-31\"/>\n       <use x=\"63.623047\" xlink:href=\"#DejaVuSans-2e\"/>\n       <use x=\"95.410156\" xlink:href=\"#DejaVuSans-30\"/>\n      </g>\n     </g>\n    </g>\n   </g>\n   <g id=\"LineCollection_1\"/>\n   <g id=\"patch_9\">\n    <path d=\"M 650.830625 717.679219 \nL 650.830625 714.91875 \nL 650.830625 13.759687 \nL 650.830625 10.999219 \nL 686.164625 10.999219 \nL 686.164625 13.759687 \nL 686.164625 714.91875 \nL 686.164625 717.679219 \nz\n\" style=\"fill:none;stroke:#000000;stroke-linecap:square;stroke-linejoin:miter;stroke-width:0.8;\"/>\n   </g>\n  </g>\n </g>\n <defs>\n  <clipPath id=\"p0ca6820b34\">\n   <rect height=\"580.32\" width=\"580.32\" x=\"34.240625\" y=\"74.179219\"/>\n  </clipPath>\n  <clipPath id=\"p32b34b2935\">\n   <rect height=\"706.68\" width=\"35.334\" x=\"650.830625\" y=\"10.999219\"/>\n  </clipPath>\n </defs>\n</svg>\n",
      "image/png": "[encoded data removed]"
     },
     "metadata": {
      "needs_background": "light"
     }
    }
   ],
   "source": [
    "# Show the confusion matrix\n",
    "fig, ax = plt.subplots(figsize=(13, 13))\n",
    "disp = plot_confusion_matrix(clf, X_test, y_test,\n",
    "                             cmap=cmap.get_cmap('viridis'),\n",
    "                             normalize='true',\n",
    "                             ax=ax)\n",
    "disp.ax_.set_title('Confusion Matrix')\n",
    "plt.xticks(rotation=45)\n",
    "matplotlib.rcParams.update({'font.size': 13})\n",
    "\n",
    "plt.show()"
   ]
  },
  {
   "cell_type": "code",
   "execution_count": 16,
   "id": "another-hurricane",
   "metadata": {},
   "outputs": [
    {
     "output_type": "stream",
     "name": "stdout",
     "text": [
      "The average precision is: 1.0 and recall is: 1.0\n"
     ]
    }
   ],
   "source": [
    "cm = disp.confusion_matrix\n",
    "prec_sum = 0\n",
    "recall_sum = 0\n",
    "\n",
    "for i, label in enumerate(['neutral','positive','negative']):\n",
    "    col_sum = 0\n",
    "    row_sum = 0\n",
    "    for j, _ in enumerate(['neutral','positive','negative']):\n",
    "        col_sum += cm[i][j]\n",
    "        row_sum += cm[j][i]\n",
    "        if i == j:\n",
    "            true_val = cm[i][j]\n",
    "    if col_sum == 0:\n",
    "        col_sum = 1\n",
    "    if row_sum == 0:\n",
    "        row_sum = 1\n",
    "    prec_sum += true_val / col_sum\n",
    "    recall_sum += true_val / row_sum\n",
    "    \n",
    "precision = prec_sum / len(['neutral','positive','negative'])\n",
    "recall = recall_sum / len(['neutral','positive','negative'])\n",
    "\n",
    "print(f'The average precision is: {round(precision, 4)} and recall is: {round(recall, 4)}')"
   ]
  },
  {
   "cell_type": "markdown",
   "id": "brazilian-conclusion",
   "metadata": {},
   "source": [
    "# Regress to Emotion Level"
   ]
  },
  {
   "cell_type": "markdown",
   "id": "natural-homework",
   "metadata": {},
   "source": [
    "## Separate Data for Features/Labels"
   ]
  },
  {
   "cell_type": "code",
   "execution_count": 17,
   "id": "hydraulic-collaboration",
   "metadata": {},
   "outputs": [],
   "source": [
    "features = ['enc_pred_emotion','emotion_confidence','rpm','distance','norm_slow','norm_fast','norm_start','norm_stop']\n",
    "\n",
    "X = data_df[features].astype(float)\n",
    "y = data_df['x_joystick']"
   ]
  },
  {
   "cell_type": "markdown",
   "id": "informational-duration",
   "metadata": {},
   "source": [
    "## Build the Regressor"
   ]
  },
  {
   "cell_type": "code",
   "execution_count": 18,
   "id": "cultural-bundle",
   "metadata": {},
   "outputs": [
    {
     "output_type": "stream",
     "name": "stdout",
     "text": [
      "0.8990197080408268\n"
     ]
    }
   ],
   "source": [
    "X_train, X_test, y_train, y_test = train_test_split(X, y, test_size=0.3)\n",
    "\n",
    "regr = RandomForestRegressor(max_depth=8)\n",
    "regr.fit(X_train, y_train)\n",
    "print(regr.score(X_test, y_test))\n",
    "\n",
    "y_hat = regr.predict(X)"
   ]
  },
  {
   "cell_type": "markdown",
   "id": "metallic-choir",
   "metadata": {},
   "source": [
    "## Show Feature Importance"
   ]
  },
  {
   "cell_type": "code",
   "execution_count": 19,
   "id": "particular-printer",
   "metadata": {},
   "outputs": [
    {
     "output_type": "display_data",
     "data": {
      "application/vnd.plotly.v1+json": {
       "config": {
        "plotlyServerURL": "https://plot.ly"
       },
       "data": [
        {
         "alignmentgroup": "True",
         "hovertemplate": "Features=%{x}<br>Importances=%{y}<extra></extra>",
         "legendgroup": "",
         "marker": {
          "color": "#F8766D"
         },
         "name": "",
         "offsetgroup": "",
         "orientation": "v",
         "showlegend": false,
         "textposition": "auto",
         "type": "bar",
         "x": [
          "rpm",
          "distance",
          "norm_start",
          "norm_stop",
          "norm_slow",
          "norm_fast",
          "enc_pred_emotion",
          "emotion_confidence"
         ],
         "xaxis": "x",
         "y": [
          0.19155421178670007,
          0.17039319114136692,
          0.16056123178972834,
          0.15703450222986085,
          0.09980230580359681,
          0.07848918573181711,
          0.07436158834442905,
          0.06780378317250092
         ],
         "yaxis": "y"
        }
       ],
       "layout": {
        "barmode": "relative",
        "legend": {
         "tracegroupgap": 0
        },
        "template": {
         "data": {
          "bar": [
           {
            "error_x": {
             "color": "rgb(51,51,51)"
            },
            "error_y": {
             "color": "rgb(51,51,51)"
            },
            "marker": {
             "line": {
              "color": "rgb(237,237,237)",
              "width": 0.5
             }
            },
            "type": "bar"
           }
          ],
          "barpolar": [
           {
            "marker": {
             "line": {
              "color": "rgb(237,237,237)",
              "width": 0.5
             }
            },
            "type": "barpolar"
           }
          ],
          "carpet": [
           {
            "aaxis": {
             "endlinecolor": "rgb(51,51,51)",
             "gridcolor": "white",
             "linecolor": "white",
             "minorgridcolor": "white",
             "startlinecolor": "rgb(51,51,51)"
            },
            "baxis": {
             "endlinecolor": "rgb(51,51,51)",
             "gridcolor": "white",
             "linecolor": "white",
             "minorgridcolor": "white",
             "startlinecolor": "rgb(51,51,51)"
            },
            "type": "carpet"
           }
          ],
          "choropleth": [
           {
            "colorbar": {
             "outlinewidth": 0,
             "tickcolor": "rgb(237,237,237)",
             "ticklen": 6,
             "ticks": "inside"
            },
            "type": "choropleth"
           }
          ],
          "contour": [
           {
            "colorbar": {
             "outlinewidth": 0,
             "tickcolor": "rgb(237,237,237)",
             "ticklen": 6,
             "ticks": "inside"
            },
            "colorscale": [
             [
              0,
              "rgb(20,44,66)"
             ],
             [
              1,
              "rgb(90,179,244)"
             ]
            ],
            "type": "contour"
           }
          ],
          "contourcarpet": [
           {
            "colorbar": {
             "outlinewidth": 0,
             "tickcolor": "rgb(237,237,237)",
             "ticklen": 6,
             "ticks": "inside"
            },
            "type": "contourcarpet"
           }
          ],
          "heatmap": [
           {
            "colorbar": {
             "outlinewidth": 0,
             "tickcolor": "rgb(237,237,237)",
             "ticklen": 6,
             "ticks": "inside"
            },
            "colorscale": [
             [
              0,
              "rgb(20,44,66)"
             ],
             [
              1,
              "rgb(90,179,244)"
             ]
            ],
            "type": "heatmap"
           }
          ],
          "heatmapgl": [
           {
            "colorbar": {
             "outlinewidth": 0,
             "tickcolor": "rgb(237,237,237)",
             "ticklen": 6,
             "ticks": "inside"
            },
            "colorscale": [
             [
              0,
              "rgb(20,44,66)"
             ],
             [
              1,
              "rgb(90,179,244)"
             ]
            ],
            "type": "heatmapgl"
           }
          ],
          "histogram": [
           {
            "marker": {
             "colorbar": {
              "outlinewidth": 0,
              "tickcolor": "rgb(237,237,237)",
              "ticklen": 6,
              "ticks": "inside"
             }
            },
            "type": "histogram"
           }
          ],
          "histogram2d": [
           {
            "colorbar": {
             "outlinewidth": 0,
             "tickcolor": "rgb(237,237,237)",
             "ticklen": 6,
             "ticks": "inside"
            },
            "colorscale": [
             [
              0,
              "rgb(20,44,66)"
             ],
             [
              1,
              "rgb(90,179,244)"
             ]
            ],
            "type": "histogram2d"
           }
          ],
          "histogram2dcontour": [
           {
            "colorbar": {
             "outlinewidth": 0,
             "tickcolor": "rgb(237,237,237)",
             "ticklen": 6,
             "ticks": "inside"
            },
            "colorscale": [
             [
              0,
              "rgb(20,44,66)"
             ],
             [
              1,
              "rgb(90,179,244)"
             ]
            ],
            "type": "histogram2dcontour"
           }
          ],
          "mesh3d": [
           {
            "colorbar": {
             "outlinewidth": 0,
             "tickcolor": "rgb(237,237,237)",
             "ticklen": 6,
             "ticks": "inside"
            },
            "type": "mesh3d"
           }
          ],
          "parcoords": [
           {
            "line": {
             "colorbar": {
              "outlinewidth": 0,
              "tickcolor": "rgb(237,237,237)",
              "ticklen": 6,
              "ticks": "inside"
             }
            },
            "type": "parcoords"
           }
          ],
          "pie": [
           {
            "automargin": true,
            "type": "pie"
           }
          ],
          "scatter": [
           {
            "marker": {
             "colorbar": {
              "outlinewidth": 0,
              "tickcolor": "rgb(237,237,237)",
              "ticklen": 6,
              "ticks": "inside"
             }
            },
            "type": "scatter"
           }
          ],
          "scatter3d": [
           {
            "line": {
             "colorbar": {
              "outlinewidth": 0,
              "tickcolor": "rgb(237,237,237)",
              "ticklen": 6,
              "ticks": "inside"
             }
            },
            "marker": {
             "colorbar": {
              "outlinewidth": 0,
              "tickcolor": "rgb(237,237,237)",
              "ticklen": 6,
              "ticks": "inside"
             }
            },
            "type": "scatter3d"
           }
          ],
          "scattercarpet": [
           {
            "marker": {
             "colorbar": {
              "outlinewidth": 0,
              "tickcolor": "rgb(237,237,237)",
              "ticklen": 6,
              "ticks": "inside"
             }
            },
            "type": "scattercarpet"
           }
          ],
          "scattergeo": [
           {
            "marker": {
             "colorbar": {
              "outlinewidth": 0,
              "tickcolor": "rgb(237,237,237)",
              "ticklen": 6,
              "ticks": "inside"
             }
            },
            "type": "scattergeo"
           }
          ],
          "scattergl": [
           {
            "marker": {
             "colorbar": {
              "outlinewidth": 0,
              "tickcolor": "rgb(237,237,237)",
              "ticklen": 6,
              "ticks": "inside"
             }
            },
            "type": "scattergl"
           }
          ],
          "scattermapbox": [
           {
            "marker": {
             "colorbar": {
              "outlinewidth": 0,
              "tickcolor": "rgb(237,237,237)",
              "ticklen": 6,
              "ticks": "inside"
             }
            },
            "type": "scattermapbox"
           }
          ],
          "scatterpolar": [
           {
            "marker": {
             "colorbar": {
              "outlinewidth": 0,
              "tickcolor": "rgb(237,237,237)",
              "ticklen": 6,
              "ticks": "inside"
             }
            },
            "type": "scatterpolar"
           }
          ],
          "scatterpolargl": [
           {
            "marker": {
             "colorbar": {
              "outlinewidth": 0,
              "tickcolor": "rgb(237,237,237)",
              "ticklen": 6,
              "ticks": "inside"
             }
            },
            "type": "scatterpolargl"
           }
          ],
          "scatterternary": [
           {
            "marker": {
             "colorbar": {
              "outlinewidth": 0,
              "tickcolor": "rgb(237,237,237)",
              "ticklen": 6,
              "ticks": "inside"
             }
            },
            "type": "scatterternary"
           }
          ],
          "surface": [
           {
            "colorbar": {
             "outlinewidth": 0,
             "tickcolor": "rgb(237,237,237)",
             "ticklen": 6,
             "ticks": "inside"
            },
            "colorscale": [
             [
              0,
              "rgb(20,44,66)"
             ],
             [
              1,
              "rgb(90,179,244)"
             ]
            ],
            "type": "surface"
           }
          ],
          "table": [
           {
            "cells": {
             "fill": {
              "color": "rgb(237,237,237)"
             },
             "line": {
              "color": "white"
             }
            },
            "header": {
             "fill": {
              "color": "rgb(217,217,217)"
             },
             "line": {
              "color": "white"
             }
            },
            "type": "table"
           }
          ]
         },
         "layout": {
          "annotationdefaults": {
           "arrowhead": 0,
           "arrowwidth": 1
          },
          "autotypenumbers": "strict",
          "coloraxis": {
           "colorbar": {
            "outlinewidth": 0,
            "tickcolor": "rgb(237,237,237)",
            "ticklen": 6,
            "ticks": "inside"
           }
          },
          "colorscale": {
           "sequential": [
            [
             0,
             "rgb(20,44,66)"
            ],
            [
             1,
             "rgb(90,179,244)"
            ]
           ],
           "sequentialminus": [
            [
             0,
             "rgb(20,44,66)"
            ],
            [
             1,
             "rgb(90,179,244)"
            ]
           ]
          },
          "colorway": [
           "#F8766D",
           "#A3A500",
           "#00BF7D",
           "#00B0F6",
           "#E76BF3"
          ],
          "font": {
           "color": "rgb(51,51,51)"
          },
          "geo": {
           "bgcolor": "white",
           "lakecolor": "white",
           "landcolor": "rgb(237,237,237)",
           "showlakes": true,
           "showland": true,
           "subunitcolor": "white"
          },
          "hoverlabel": {
           "align": "left"
          },
          "hovermode": "closest",
          "paper_bgcolor": "white",
          "plot_bgcolor": "rgb(237,237,237)",
          "polar": {
           "angularaxis": {
            "gridcolor": "white",
            "linecolor": "white",
            "showgrid": true,
            "tickcolor": "rgb(51,51,51)",
            "ticks": "outside"
           },
           "bgcolor": "rgb(237,237,237)",
           "radialaxis": {
            "gridcolor": "white",
            "linecolor": "white",
            "showgrid": true,
            "tickcolor": "rgb(51,51,51)",
            "ticks": "outside"
           }
          },
          "scene": {
           "xaxis": {
            "backgroundcolor": "rgb(237,237,237)",
            "gridcolor": "white",
            "gridwidth": 2,
            "linecolor": "white",
            "showbackground": true,
            "showgrid": true,
            "tickcolor": "rgb(51,51,51)",
            "ticks": "outside",
            "zerolinecolor": "white"
           },
           "yaxis": {
            "backgroundcolor": "rgb(237,237,237)",
            "gridcolor": "white",
            "gridwidth": 2,
            "linecolor": "white",
            "showbackground": true,
            "showgrid": true,
            "tickcolor": "rgb(51,51,51)",
            "ticks": "outside",
            "zerolinecolor": "white"
           },
           "zaxis": {
            "backgroundcolor": "rgb(237,237,237)",
            "gridcolor": "white",
            "gridwidth": 2,
            "linecolor": "white",
            "showbackground": true,
            "showgrid": true,
            "tickcolor": "rgb(51,51,51)",
            "ticks": "outside",
            "zerolinecolor": "white"
           }
          },
          "shapedefaults": {
           "fillcolor": "black",
           "line": {
            "width": 0
           },
           "opacity": 0.3
          },
          "ternary": {
           "aaxis": {
            "gridcolor": "white",
            "linecolor": "white",
            "showgrid": true,
            "tickcolor": "rgb(51,51,51)",
            "ticks": "outside"
           },
           "baxis": {
            "gridcolor": "white",
            "linecolor": "white",
            "showgrid": true,
            "tickcolor": "rgb(51,51,51)",
            "ticks": "outside"
           },
           "bgcolor": "rgb(237,237,237)",
           "caxis": {
            "gridcolor": "white",
            "linecolor": "white",
            "showgrid": true,
            "tickcolor": "rgb(51,51,51)",
            "ticks": "outside"
           }
          },
          "xaxis": {
           "automargin": true,
           "gridcolor": "white",
           "linecolor": "white",
           "showgrid": true,
           "tickcolor": "rgb(51,51,51)",
           "ticks": "outside",
           "title": {
            "standoff": 15
           },
           "zerolinecolor": "white"
          },
          "yaxis": {
           "automargin": true,
           "gridcolor": "white",
           "linecolor": "white",
           "showgrid": true,
           "tickcolor": "rgb(51,51,51)",
           "ticks": "outside",
           "title": {
            "standoff": 15
           },
           "zerolinecolor": "white"
          }
         }
        },
        "title": {
         "text": "Feature Importance"
        },
        "xaxis": {
         "anchor": "y",
         "domain": [
          0,
          1
         ],
         "title": {
          "text": "Features"
         }
        },
        "yaxis": {
         "anchor": "x",
         "domain": [
          0,
          1
         ],
         "title": {
          "text": "Importances"
         }
        }
       }
      }
     },
     "metadata": {}
    }
   ],
   "source": [
    "# See which features were most important\n",
    "imps = pd.DataFrame()\n",
    "imps['Features'] = features\n",
    "imps['Importances'] = clf.feature_importances_\n",
    "imps = imps.sort_values('Importances', ascending=False)\n",
    "px.bar(imps, x='Features', y='Importances', template='ggplot2',\n",
    "       title='Feature Importance')"
   ]
  },
  {
   "cell_type": "markdown",
   "id": "trying-merchandise",
   "metadata": {},
   "source": [
    "## Analyze Regressor Effectiveness"
   ]
  },
  {
   "cell_type": "code",
   "execution_count": 20,
   "id": "underlying-google",
   "metadata": {},
   "outputs": [
    {
     "output_type": "stream",
     "name": "stderr",
     "text": [
      "<ipython-input-20-fa71736731f7>:13: SettingWithCopyWarning:\n\n\nA value is trying to be set on a copy of a slice from a DataFrame.\nTry using .loc[row_indexer,col_indexer] = value instead\n\nSee the caveats in the documentation: https://pandas.pydata.org/pandas-docs/stable/user_guide/indexing.html#returning-a-view-versus-a-copy\n\n<ipython-input-20-fa71736731f7>:13: SettingWithCopyWarning:\n\n\nA value is trying to be set on a copy of a slice from a DataFrame.\nTry using .loc[row_indexer,col_indexer] = value instead\n\nSee the caveats in the documentation: https://pandas.pydata.org/pandas-docs/stable/user_guide/indexing.html#returning-a-view-versus-a-copy\n\n<ipython-input-20-fa71736731f7>:13: SettingWithCopyWarning:\n\n\nA value is trying to be set on a copy of a slice from a DataFrame.\nTry using .loc[row_indexer,col_indexer] = value instead\n\nSee the caveats in the documentation: https://pandas.pydata.org/pandas-docs/stable/user_guide/indexing.html#returning-a-view-versus-a-copy\n\n"
     ]
    },
    {
     "output_type": "display_data",
     "data": {
      "application/vnd.plotly.v1+json": {
       "config": {
        "plotlyServerURL": "https://plot.ly"
       },
       "data": [
        {
         "type": "bar",
         "x": [
          -1,
          -0.75,
          -0.5,
          -0.25,
          0,
          0.25,
          0.5,
          0.75,
          1
         ],
         "xaxis": "x",
         "y": [
          0,
          0,
          0,
          1,
          3279,
          40,
          23,
          45,
          81
         ],
         "yaxis": "y"
        },
        {
         "type": "bar",
         "x": [
          -1,
          -0.75,
          -0.5,
          -0.25,
          0,
          0.25,
          0.5,
          0.75,
          1
         ],
         "xaxis": "x2",
         "y": [
          0,
          6,
          1,
          15,
          3723,
          206,
          101,
          99,
          826
         ],
         "yaxis": "y2"
        },
        {
         "type": "bar",
         "x": [
          -1,
          -0.75,
          -0.5,
          -0.25,
          0,
          0.25,
          0.5,
          0.75,
          1
         ],
         "xaxis": "x3",
         "y": [
          121,
          33,
          21,
          45,
          857,
          16,
          7,
          46,
          157
         ],
         "yaxis": "y3"
        }
       ],
       "layout": {
        "annotations": [
         {
          "font": {
           "size": 16
          },
          "showarrow": false,
          "text": "Neutral",
          "x": 0.14444444444444446,
          "xanchor": "center",
          "xref": "paper",
          "y": 1,
          "yanchor": "bottom",
          "yref": "paper"
         },
         {
          "font": {
           "size": 16
          },
          "showarrow": false,
          "text": "Positive",
          "x": 0.5,
          "xanchor": "center",
          "xref": "paper",
          "y": 1,
          "yanchor": "bottom",
          "yref": "paper"
         },
         {
          "font": {
           "size": 16
          },
          "showarrow": false,
          "text": "Negative",
          "x": 0.8555555555555556,
          "xanchor": "center",
          "xref": "paper",
          "y": 1,
          "yanchor": "bottom",
          "yref": "paper"
         }
        ],
        "showlegend": false,
        "template": {
         "data": {
          "bar": [
           {
            "error_x": {
             "color": "#2a3f5f"
            },
            "error_y": {
             "color": "#2a3f5f"
            },
            "marker": {
             "line": {
              "color": "#E5ECF6",
              "width": 0.5
             }
            },
            "type": "bar"
           }
          ],
          "barpolar": [
           {
            "marker": {
             "line": {
              "color": "#E5ECF6",
              "width": 0.5
             }
            },
            "type": "barpolar"
           }
          ],
          "carpet": [
           {
            "aaxis": {
             "endlinecolor": "#2a3f5f",
             "gridcolor": "white",
             "linecolor": "white",
             "minorgridcolor": "white",
             "startlinecolor": "#2a3f5f"
            },
            "baxis": {
             "endlinecolor": "#2a3f5f",
             "gridcolor": "white",
             "linecolor": "white",
             "minorgridcolor": "white",
             "startlinecolor": "#2a3f5f"
            },
            "type": "carpet"
           }
          ],
          "choropleth": [
           {
            "colorbar": {
             "outlinewidth": 0,
             "ticks": ""
            },
            "type": "choropleth"
           }
          ],
          "contour": [
           {
            "colorbar": {
             "outlinewidth": 0,
             "ticks": ""
            },
            "colorscale": [
             [
              0,
              "#0d0887"
             ],
             [
              0.1111111111111111,
              "#46039f"
             ],
             [
              0.2222222222222222,
              "#7201a8"
             ],
             [
              0.3333333333333333,
              "#9c179e"
             ],
             [
              0.4444444444444444,
              "#bd3786"
             ],
             [
              0.5555555555555556,
              "#d8576b"
             ],
             [
              0.6666666666666666,
              "#ed7953"
             ],
             [
              0.7777777777777778,
              "#fb9f3a"
             ],
             [
              0.8888888888888888,
              "#fdca26"
             ],
             [
              1,
              "#f0f921"
             ]
            ],
            "type": "contour"
           }
          ],
          "contourcarpet": [
           {
            "colorbar": {
             "outlinewidth": 0,
             "ticks": ""
            },
            "type": "contourcarpet"
           }
          ],
          "heatmap": [
           {
            "colorbar": {
             "outlinewidth": 0,
             "ticks": ""
            },
            "colorscale": [
             [
              0,
              "#0d0887"
             ],
             [
              0.1111111111111111,
              "#46039f"
             ],
             [
              0.2222222222222222,
              "#7201a8"
             ],
             [
              0.3333333333333333,
              "#9c179e"
             ],
             [
              0.4444444444444444,
              "#bd3786"
             ],
             [
              0.5555555555555556,
              "#d8576b"
             ],
             [
              0.6666666666666666,
              "#ed7953"
             ],
             [
              0.7777777777777778,
              "#fb9f3a"
             ],
             [
              0.8888888888888888,
              "#fdca26"
             ],
             [
              1,
              "#f0f921"
             ]
            ],
            "type": "heatmap"
           }
          ],
          "heatmapgl": [
           {
            "colorbar": {
             "outlinewidth": 0,
             "ticks": ""
            },
            "colorscale": [
             [
              0,
              "#0d0887"
             ],
             [
              0.1111111111111111,
              "#46039f"
             ],
             [
              0.2222222222222222,
              "#7201a8"
             ],
             [
              0.3333333333333333,
              "#9c179e"
             ],
             [
              0.4444444444444444,
              "#bd3786"
             ],
             [
              0.5555555555555556,
              "#d8576b"
             ],
             [
              0.6666666666666666,
              "#ed7953"
             ],
             [
              0.7777777777777778,
              "#fb9f3a"
             ],
             [
              0.8888888888888888,
              "#fdca26"
             ],
             [
              1,
              "#f0f921"
             ]
            ],
            "type": "heatmapgl"
           }
          ],
          "histogram": [
           {
            "marker": {
             "colorbar": {
              "outlinewidth": 0,
              "ticks": ""
             }
            },
            "type": "histogram"
           }
          ],
          "histogram2d": [
           {
            "colorbar": {
             "outlinewidth": 0,
             "ticks": ""
            },
            "colorscale": [
             [
              0,
              "#0d0887"
             ],
             [
              0.1111111111111111,
              "#46039f"
             ],
             [
              0.2222222222222222,
              "#7201a8"
             ],
             [
              0.3333333333333333,
              "#9c179e"
             ],
             [
              0.4444444444444444,
              "#bd3786"
             ],
             [
              0.5555555555555556,
              "#d8576b"
             ],
             [
              0.6666666666666666,
              "#ed7953"
             ],
             [
              0.7777777777777778,
              "#fb9f3a"
             ],
             [
              0.8888888888888888,
              "#fdca26"
             ],
             [
              1,
              "#f0f921"
             ]
            ],
            "type": "histogram2d"
           }
          ],
          "histogram2dcontour": [
           {
            "colorbar": {
             "outlinewidth": 0,
             "ticks": ""
            },
            "colorscale": [
             [
              0,
              "#0d0887"
             ],
             [
              0.1111111111111111,
              "#46039f"
             ],
             [
              0.2222222222222222,
              "#7201a8"
             ],
             [
              0.3333333333333333,
              "#9c179e"
             ],
             [
              0.4444444444444444,
              "#bd3786"
             ],
             [
              0.5555555555555556,
              "#d8576b"
             ],
             [
              0.6666666666666666,
              "#ed7953"
             ],
             [
              0.7777777777777778,
              "#fb9f3a"
             ],
             [
              0.8888888888888888,
              "#fdca26"
             ],
             [
              1,
              "#f0f921"
             ]
            ],
            "type": "histogram2dcontour"
           }
          ],
          "mesh3d": [
           {
            "colorbar": {
             "outlinewidth": 0,
             "ticks": ""
            },
            "type": "mesh3d"
           }
          ],
          "parcoords": [
           {
            "line": {
             "colorbar": {
              "outlinewidth": 0,
              "ticks": ""
             }
            },
            "type": "parcoords"
           }
          ],
          "pie": [
           {
            "automargin": true,
            "type": "pie"
           }
          ],
          "scatter": [
           {
            "marker": {
             "colorbar": {
              "outlinewidth": 0,
              "ticks": ""
             }
            },
            "type": "scatter"
           }
          ],
          "scatter3d": [
           {
            "line": {
             "colorbar": {
              "outlinewidth": 0,
              "ticks": ""
             }
            },
            "marker": {
             "colorbar": {
              "outlinewidth": 0,
              "ticks": ""
             }
            },
            "type": "scatter3d"
           }
          ],
          "scattercarpet": [
           {
            "marker": {
             "colorbar": {
              "outlinewidth": 0,
              "ticks": ""
             }
            },
            "type": "scattercarpet"
           }
          ],
          "scattergeo": [
           {
            "marker": {
             "colorbar": {
              "outlinewidth": 0,
              "ticks": ""
             }
            },
            "type": "scattergeo"
           }
          ],
          "scattergl": [
           {
            "marker": {
             "colorbar": {
              "outlinewidth": 0,
              "ticks": ""
             }
            },
            "type": "scattergl"
           }
          ],
          "scattermapbox": [
           {
            "marker": {
             "colorbar": {
              "outlinewidth": 0,
              "ticks": ""
             }
            },
            "type": "scattermapbox"
           }
          ],
          "scatterpolar": [
           {
            "marker": {
             "colorbar": {
              "outlinewidth": 0,
              "ticks": ""
             }
            },
            "type": "scatterpolar"
           }
          ],
          "scatterpolargl": [
           {
            "marker": {
             "colorbar": {
              "outlinewidth": 0,
              "ticks": ""
             }
            },
            "type": "scatterpolargl"
           }
          ],
          "scatterternary": [
           {
            "marker": {
             "colorbar": {
              "outlinewidth": 0,
              "ticks": ""
             }
            },
            "type": "scatterternary"
           }
          ],
          "surface": [
           {
            "colorbar": {
             "outlinewidth": 0,
             "ticks": ""
            },
            "colorscale": [
             [
              0,
              "#0d0887"
             ],
             [
              0.1111111111111111,
              "#46039f"
             ],
             [
              0.2222222222222222,
              "#7201a8"
             ],
             [
              0.3333333333333333,
              "#9c179e"
             ],
             [
              0.4444444444444444,
              "#bd3786"
             ],
             [
              0.5555555555555556,
              "#d8576b"
             ],
             [
              0.6666666666666666,
              "#ed7953"
             ],
             [
              0.7777777777777778,
              "#fb9f3a"
             ],
             [
              0.8888888888888888,
              "#fdca26"
             ],
             [
              1,
              "#f0f921"
             ]
            ],
            "type": "surface"
           }
          ],
          "table": [
           {
            "cells": {
             "fill": {
              "color": "#EBF0F8"
             },
             "line": {
              "color": "white"
             }
            },
            "header": {
             "fill": {
              "color": "#C8D4E3"
             },
             "line": {
              "color": "white"
             }
            },
            "type": "table"
           }
          ]
         },
         "layout": {
          "annotationdefaults": {
           "arrowcolor": "#2a3f5f",
           "arrowhead": 0,
           "arrowwidth": 1
          },
          "autotypenumbers": "strict",
          "coloraxis": {
           "colorbar": {
            "outlinewidth": 0,
            "ticks": ""
           }
          },
          "colorscale": {
           "diverging": [
            [
             0,
             "#8e0152"
            ],
            [
             0.1,
             "#c51b7d"
            ],
            [
             0.2,
             "#de77ae"
            ],
            [
             0.3,
             "#f1b6da"
            ],
            [
             0.4,
             "#fde0ef"
            ],
            [
             0.5,
             "#f7f7f7"
            ],
            [
             0.6,
             "#e6f5d0"
            ],
            [
             0.7,
             "#b8e186"
            ],
            [
             0.8,
             "#7fbc41"
            ],
            [
             0.9,
             "#4d9221"
            ],
            [
             1,
             "#276419"
            ]
           ],
           "sequential": [
            [
             0,
             "#0d0887"
            ],
            [
             0.1111111111111111,
             "#46039f"
            ],
            [
             0.2222222222222222,
             "#7201a8"
            ],
            [
             0.3333333333333333,
             "#9c179e"
            ],
            [
             0.4444444444444444,
             "#bd3786"
            ],
            [
             0.5555555555555556,
             "#d8576b"
            ],
            [
             0.6666666666666666,
             "#ed7953"
            ],
            [
             0.7777777777777778,
             "#fb9f3a"
            ],
            [
             0.8888888888888888,
             "#fdca26"
            ],
            [
             1,
             "#f0f921"
            ]
           ],
           "sequentialminus": [
            [
             0,
             "#0d0887"
            ],
            [
             0.1111111111111111,
             "#46039f"
            ],
            [
             0.2222222222222222,
             "#7201a8"
            ],
            [
             0.3333333333333333,
             "#9c179e"
            ],
            [
             0.4444444444444444,
             "#bd3786"
            ],
            [
             0.5555555555555556,
             "#d8576b"
            ],
            [
             0.6666666666666666,
             "#ed7953"
            ],
            [
             0.7777777777777778,
             "#fb9f3a"
            ],
            [
             0.8888888888888888,
             "#fdca26"
            ],
            [
             1,
             "#f0f921"
            ]
           ]
          },
          "colorway": [
           "#636efa",
           "#EF553B",
           "#00cc96",
           "#ab63fa",
           "#FFA15A",
           "#19d3f3",
           "#FF6692",
           "#B6E880",
           "#FF97FF",
           "#FECB52"
          ],
          "font": {
           "color": "#2a3f5f"
          },
          "geo": {
           "bgcolor": "white",
           "lakecolor": "white",
           "landcolor": "#E5ECF6",
           "showlakes": true,
           "showland": true,
           "subunitcolor": "white"
          },
          "hoverlabel": {
           "align": "left"
          },
          "hovermode": "closest",
          "mapbox": {
           "style": "light"
          },
          "paper_bgcolor": "white",
          "plot_bgcolor": "#E5ECF6",
          "polar": {
           "angularaxis": {
            "gridcolor": "white",
            "linecolor": "white",
            "ticks": ""
           },
           "bgcolor": "#E5ECF6",
           "radialaxis": {
            "gridcolor": "white",
            "linecolor": "white",
            "ticks": ""
           }
          },
          "scene": {
           "xaxis": {
            "backgroundcolor": "#E5ECF6",
            "gridcolor": "white",
            "gridwidth": 2,
            "linecolor": "white",
            "showbackground": true,
            "ticks": "",
            "zerolinecolor": "white"
           },
           "yaxis": {
            "backgroundcolor": "#E5ECF6",
            "gridcolor": "white",
            "gridwidth": 2,
            "linecolor": "white",
            "showbackground": true,
            "ticks": "",
            "zerolinecolor": "white"
           },
           "zaxis": {
            "backgroundcolor": "#E5ECF6",
            "gridcolor": "white",
            "gridwidth": 2,
            "linecolor": "white",
            "showbackground": true,
            "ticks": "",
            "zerolinecolor": "white"
           }
          },
          "shapedefaults": {
           "line": {
            "color": "#2a3f5f"
           }
          },
          "ternary": {
           "aaxis": {
            "gridcolor": "white",
            "linecolor": "white",
            "ticks": ""
           },
           "baxis": {
            "gridcolor": "white",
            "linecolor": "white",
            "ticks": ""
           },
           "bgcolor": "#E5ECF6",
           "caxis": {
            "gridcolor": "white",
            "linecolor": "white",
            "ticks": ""
           }
          },
          "title": {
           "x": 0.05
          },
          "xaxis": {
           "automargin": true,
           "gridcolor": "white",
           "linecolor": "white",
           "ticks": "",
           "title": {
            "standoff": 15
           },
           "zerolinecolor": "white",
           "zerolinewidth": 2
          },
          "yaxis": {
           "automargin": true,
           "gridcolor": "white",
           "linecolor": "white",
           "ticks": "",
           "title": {
            "standoff": 15
           },
           "zerolinecolor": "white",
           "zerolinewidth": 2
          }
         }
        },
        "title": {
         "text": "Predicted Emotion Level by Video Type"
        },
        "xaxis": {
         "anchor": "y",
         "domain": [
          0,
          0.2888888888888889
         ]
        },
        "xaxis2": {
         "anchor": "y2",
         "domain": [
          0.35555555555555557,
          0.6444444444444445
         ],
         "title": {
          "text": "Negative to Positive Predicted Emotions"
         }
        },
        "xaxis3": {
         "anchor": "y3",
         "domain": [
          0.7111111111111111,
          1
         ]
        },
        "yaxis": {
         "anchor": "x",
         "domain": [
          0,
          1
         ],
         "title": {
          "text": "Count"
         }
        },
        "yaxis2": {
         "anchor": "x2",
         "domain": [
          0,
          1
         ]
        },
        "yaxis3": {
         "anchor": "x3",
         "domain": [
          0,
          1
         ]
        }
       }
      }
     },
     "metadata": {}
    }
   ],
   "source": [
    "# Adding y_hat to data_df\n",
    "data_df['y_hat'] = y_hat.tolist()\n",
    "\n",
    "bins = [-1.5, -0.75, -0.5, -0.25, -0.1, 0.1,\n",
    "        0.25, 0.5, 0.75, 1.5]\n",
    "labels = [-1.0, -0.75, -0.5, -0.25, 0.0, 0.25, 0.5, 0.75, 1.0]\n",
    "\n",
    "fig = make_subplots(rows=1, cols=3,\n",
    "                    subplot_titles=('Neutral','Positive','Negative'))\n",
    "emotions = ['neutral','positive','negative']\n",
    "for i, emotion in enumerate(emotions):\n",
    "    tmp = data_df[data_df['enc_video_type'] == label_encoding[emotion]]\n",
    "    tmp['y_hat'] = pd.cut(tmp['y_hat'], bins=bins, labels=labels)\n",
    "    tmp = tmp.groupby('y_hat').video_id.count().reset_index().rename(columns={'video_id':'count'})\n",
    "    fig.add_trace(go.Bar(x=list(tmp['y_hat']),\n",
    "                         y=list(tmp['count'])),\n",
    "                  row=1, col=i + 1)\n",
    "\n",
    "fig.update_layout(title_text='Predicted Emotion Level by Video Type', showlegend=False)\n",
    "fig.update_yaxes(title_text='Count', row=1, col=1)\n",
    "fig.update_xaxes(title_text='Negative to Positive Predicted Emotions', row=1, col=2)\n",
    "fig.show()"
   ]
  },
  {
   "cell_type": "code",
   "execution_count": 21,
   "id": "aquatic-tomato",
   "metadata": {},
   "outputs": [
    {
     "output_type": "display_data",
     "data": {
      "application/vnd.plotly.v1+json": {
       "config": {
        "plotlyServerURL": "https://plot.ly"
       },
       "data": [
        {
         "alignmentgroup": "True",
         "bingroup": "x",
         "hovertemplate": "Predicted Emotion Strength=%{x}<br>count=%{y}<extra></extra>",
         "legendgroup": "",
         "marker": {
          "color": "#F8766D"
         },
         "name": "",
         "offsetgroup": "",
         "orientation": "v",
         "showlegend": false,
         "type": "histogram",
         "x": [
          -0.019615265924158135,
          -0.01940819536142334,
          -0.011126872670570125,
          0.07785283983645357,
          -0.013779395360329166,
          -0.01962837274210591,
          -0.01872574125311459,
          -0.019628372742105906,
          1,
          -0.020000000000000014,
          -0.01962837274210591,
          -0.019262801074326315,
          0.04308316044234561,
          -0.014654600720209285,
          -0.028920652383553392,
          -0.014044764969227543,
          -0.005425656486989066,
          0.02267895992971456,
          0.24431209165563877,
          0.5871282477021521,
          -0.014927360048173393,
          0.036167919898220935,
          -0.019615265924158135,
          1,
          -1.0460000000000023,
          1,
          -0.014202366145066158,
          0.08932673928831235,
          1,
          -0.019183182071752534,
          -0.013062740345926558,
          -0.014812201896047901,
          -0.019628372742105903,
          0.026870343655688918,
          0.0809383585303586,
          -0.022196697550290058,
          -0.01170802897695031,
          -0.020000000000000014,
          -0.019262801074326315,
          0.026510773326476597,
          -0.014812201896047901,
          0.9203836482544046,
          1,
          -0.014044764969227543,
          -0.012284309458251808,
          0.3295204687232628,
          0.0027749263580498155,
          -0.014044764969227543,
          -0.014044764969227543,
          -0.020000000000000014,
          -0.019628372742105903,
          -0.018725741253114582,
          -0.014927360048173393,
          0.0809383585303586,
          0.026870343655688918,
          -0.019628372742105903,
          -0.013054401457221936,
          0.0022782710496706206,
          0.0005212239772379506,
          0.9240045411115473,
          -0.006480185784066721,
          -0.01962837274210591,
          1,
          -0.01962837274210591,
          1,
          -0.019170075253804764,
          0.0027749263580498155,
          0.11799102843789915,
          -0.013779395360329166,
          0.01854786672224267,
          -0.019628372742105903,
          -0.01119029417934821,
          0.004396658259849064,
          1,
          -0.018725741253114582,
          -0.014927360048173393,
          -0.014044764969227543,
          -0.014654600720209285,
          -0.012381984665708714,
          -0.020000000000000014,
          -0.019183182071752534,
          -0.014044764969227543,
          -0.019262801074326315,
          -0.029193411711517493,
          1,
          -0.014202366145066158,
          0.0027749263580498155,
          1,
          -0.019615265924158135,
          -0.011257761608614452,
          -0.019183182071752534,
          -0.01586423342892889,
          -0.020000000000000014,
          -0.014654600720209285,
          -0.014044764969227543,
          0.03546980374081166,
          -0.01443001210789076,
          -0.019183182071752534,
          -0.014044764969227543,
          0.58801832470551,
          -0.01962837274210591,
          0.02267895992971456,
          -0.013454524019849147,
          0.0006363821293634403,
          -0.019615265924158135,
          -0.018805419324250255,
          1,
          -0.01586423342892889,
          -0.013779395360329166,
          -0.005376444953015336,
          0.0025158121162221366,
          0.01854786672224267,
          -0.01962837274210591,
          -0.014044764969227543,
          -0.014927360048173393,
          0.7590386226762103,
          -0.014812201896047901,
          0.04936455105824488,
          0.09608587263147889,
          -0.013779395360329166,
          -0.014044764969227543,
          0.02267895992971456,
          -0.006969620531853885,
          -0.018806996644719128,
          -0.020000000000000014,
          0.0012175384357436265,
          -0.014927360048173393,
          0.0027749263580498155,
          -0.014044764969227543,
          -0.014654600720209285,
          -0.018347978505612303,
          0.024472625211752766,
          -0.019628372742105906,
          -0.012381984665708714,
          -0.014927360048173393,
          -0.014044764969227543,
          -0.019250609994603627,
          1,
          -0.01879011979968025,
          1,
          -0.01925060999460363,
          0.026870343655688918,
          -0.013664237208203676,
          -0.019262801074326315,
          -0.012747077045312806,
          -0.013779395360329166,
          -0.019628372742105903,
          0.026870343655688918,
          -0.014654600720209285,
          -0.014654600720209285,
          -0.019628372742105906,
          1,
          0.02102600896525416,
          -0.019628372742105903,
          -0.013252748605023455,
          0.4659768159920011,
          -0.01341034978086207,
          0.30765755965545194,
          0.036167919898220935,
          -0.01940819536142334,
          -0.018725741253114582,
          -0.014202366145066158,
          0.6162546666666666,
          -0.019237503176655856,
          -0.012939243305096448,
          -0.014927360048173393,
          0.589982190476191,
          -0.019615265924158135,
          -0.020000000000000014,
          -0.005425656486989066,
          0.003067735346813858,
          -0.014202366145066158,
          -0.016642049795267344,
          -0.019170075253804764,
          0.0027749263580498155,
          -0.014927360048173393,
          -0.019628372742105903,
          -0.0036904688606681437,
          0.11883080384642626,
          0.11218844048041361,
          -0.014927360048173393,
          -0.014044764969227543,
          0.16098213067061157,
          -0.012939243305096448,
          -0.014812201896047901,
          -0.013779395360329166,
          -0.014654600720209285,
          -0.011257761608614452,
          0.028934740652916485,
          0.10895743702196366,
          -0.018347978505612303,
          -0.019262801074326315,
          -0.013463608662847357,
          0.0868500000000003,
          -0.014812201896047901,
          1,
          0.11799102843789915,
          -0.014812201896047901,
          -0.014044764969227543,
          0.8626050981553014,
          -0.014654600720209285,
          0.0027749263580498155,
          -0.013054401457221936,
          0.08250157328616323,
          0.002774926358049815,
          -0.23807439806081784,
          1,
          -0.013664237208203676,
          -0.011257761608614452,
          1,
          -0.01873049988334212,
          -0.014654600720209285,
          -0.006051678402781909,
          -0.014044764969227543,
          -1.0460000000000023,
          -0.014927360048173393,
          -0.4668241783885707,
          0.8733940546711788,
          -0.014812201896047901,
          -0.020000000000000014,
          0.0005212239772379506,
          -0.014202366145066158,
          0.0038805391740499096,
          1,
          -0.01119029417934821,
          -0.014044764969227543,
          -0.014654600720209285,
          -0.019628372742105903,
          1,
          -0.013779395360329166,
          0.026361936120190756,
          0.8733940546711788,
          -0.019628372742105906,
          1,
          0.0005212239772379506,
          -0.01473508890970166,
          0.002774926358049815,
          -0.012038890108871547,
          0.5947974831550619,
          -0.01925060999460363,
          0.012752151575602434,
          -0.019628372742105906,
          -0.0645455068456338,
          -0.012325461726764249,
          -0.029998238851931605,
          0.9827472077818135,
          0.27574594457806717,
          -0.014044764969227543,
          -0.020000000000000014,
          -0.019628372742105906,
          -0.014044764969227543,
          0.18553968691894088,
          0.7210081329738448,
          1,
          -0.014927360048173393,
          1,
          0.11799102843789915,
          -0.019615265924158135,
          0.02267895992971456,
          0.12840452640800437,
          -0.011142603456488962,
          -0.014654600720209285,
          0.11592631629813288,
          -0.014654600720209285,
          -0.013779395360329166,
          -0.014044764969227543,
          -0.01170802897695031,
          0.0027749263580498155,
          -0.014044764969227543,
          -0.011601330186128838,
          0.026510773326476597,
          0.9827472077818135,
          -0.01962837274210591,
          -0.019615265924158135,
          -0.01872574125311459,
          -0.014812201896047901,
          -0.029193411711517493,
          -0.014202366145066158,
          -0.019628372742105903,
          -0.014812201896047901,
          -0.014044764969227543,
          -0.019262801074326315,
          -0.013779395360329166,
          -0.019262801074326315,
          -0.013779395360329166,
          1,
          -0.01962837274210591,
          -0.01962837274210591,
          -0.020000000000000014,
          -0.0434495082390075,
          0.9886666666666666,
          -0.014044764969227543,
          -0.014927360048173393,
          -0.014044764969227543,
          -0.013779395360329166,
          0.0027749263580498147,
          1,
          -0.01880322661762802,
          -0.012939243305096448,
          -0.014927360048173393,
          -0.019615265924158135,
          -0.020000000000000014,
          -0.019628372742105903,
          -0.01170802897695031,
          -0.014927360048173393,
          -0.016914521667005314,
          0.03546980374081166,
          -0.011142603456488962,
          0.669748323221871,
          -0.014044764969227543,
          -0.019628372742105903,
          -0.014654600720209285,
          -0.011257761608614452,
          -0.018805419324250255,
          -0.019183182071752534,
          0.10999410201279908,
          -0.029998238851931605,
          -0.014044764969227543,
          -0.014654600720209285,
          -0.019615265924158135,
          -0.019262801074326315,
          -0.019262801074326315,
          -0.014044764969227543,
          -0.013463608662847357,
          -0.013779395360329166,
          0.03056629718791472,
          -0.014654600720209285,
          1,
          -0.01443001210789076,
          -1.0460000000000023,
          0.5555722499241987,
          -0.029725479523967504,
          -0.014927360048173393,
          -0.01177549640621655,
          -0.014927360048173393,
          -0.004022993889056739,
          0.11799102843789915,
          -0.01940819536142334,
          -0.013779395360329166,
          -0.019615265924158135,
          -0.019262801074326315,
          -0.014927360048173393,
          0.0027749263580498147,
          0.02807378527862585,
          -0.019628372742105903,
          -0.018725741253114582,
          -0.014927360048173393,
          -0.014927360048173393,
          0.21631635356028947,
          -0.014044764969227543,
          -0.866129083039256,
          -0.01170802897695031,
          0.002774926358049815,
          -0.014202366145066158,
          0.0809383585303586,
          0.02102600896525416,
          -0.0288357985823838,
          -0.014927360048173393,
          -1.0460000000000023,
          -0.019628372742105906,
          0.08932673928831235,
          -0.014044764969227543,
          -0.014812201896047901,
          0.026361936120190756,
          -0.020000000000000014,
          -0.01962837274210591,
          -0.013779395360329166,
          -0.014927360048173393,
          -0.014927360048173393,
          -0.019628372742105906,
          -0.014812201896047901,
          -0.014654600720209285,
          -0.019615265924158135,
          -0.011257761608614452,
          0.002774926358049815,
          -0.01119029417934821,
          -0.014927360048173393,
          -0.014927360048173393,
          0.9922879903795869,
          0.04146198191048352,
          0.6106556392236676,
          -0.014602488707693375,
          -0.01940819536142334,
          -0.013506636032365063,
          -0.011917555728399056,
          -0.019237503176655856,
          0.024945183591725685,
          -0.014927360048173393,
          -0.013929606817102053,
          -0.01940819536142334,
          -0.014812201896047901,
          -0.011257761608614452,
          -0.01341034978086207,
          -0.013779395360329166,
          -0.019183182071752534,
          -0.014044764969227543,
          1,
          -0.019615265924158135,
          -0.019628372742105903,
          -0.014654600720209285,
          -0.014927360048173393,
          -0.020000000000000014,
          -0.020000000000000014,
          -0.013664237208203676,
          -0.01962837274210591,
          0.03986874262360521,
          -0.018347978505612303,
          -0.020000000000000014,
          0.01854786672224267,
          -0.014044764969227543,
          -0.012939243305096448,
          -0.019628372742105906,
          -0.019628372742105903,
          -0.014654600720209285,
          -0.01940819536142334,
          -0.014927360048173393,
          0.023297125284374064,
          -1.0460000000000023,
          0.026980101474850256,
          -0.01278998101796245,
          -0.019237503176655856,
          -0.019628372742105906,
          -0.011601330186128838,
          -0.014927360048173393,
          -0.014927360048173393,
          -0.014927360048173393,
          -0.014812201896047901,
          -0.014602488707693375,
          -0.014202366145066158,
          -0.020000000000000014,
          -0.014927360048173393,
          0.004396658259849064,
          -0.013929606817102053,
          -0.01107513602722272,
          -0.014927360048173393,
          -0.014044764969227543,
          1,
          -0.014812201896047901,
          -0.01917788326031773,
          -0.019183182071752534,
          0.0038805391740499096,
          -0.019628372742105903,
          -0.020000000000000014,
          -0.01443001210789076,
          -0.01177549640621655,
          -0.014654600720209285,
          -0.013506636032365063,
          -0.01341034978086207,
          -0.013779395360329166,
          -0.013054401457221936,
          -0.014044764969227543,
          -0.014044764969227543,
          1,
          -0.011257761608614452,
          0.021867816302074593,
          -0.013929606817102053,
          0.046023725402477955,
          0.08932673928831235,
          0.9844576151918255,
          -0.011257761608614452,
          -0.014044764969227543,
          0.9694000000000002,
          -0.013664237208203676,
          0.08932673928831235,
          0.089862018411207,
          0.018042195162532026,
          -0.014044764969227543,
          1,
          0.018042195162532026,
          -0.013779395360329166,
          -0.014044764969227543,
          0.31388313106092514,
          0.05401016542983103,
          0.02267895992971456,
          -0.019262801074326315,
          0.9434431565060435,
          1,
          1,
          -0.006480185784066721,
          -0.014202366145066158,
          -0.013621794184490553,
          -0.01341034978086207,
          0.8626050981553014,
          -0.020000000000000014,
          0.8674492092977717,
          -0.019615265924158135,
          -0.014654600720209285,
          -0.019615265924158135,
          -0.014044764969227543,
          -0.013079439097644465,
          -0.013779395360329166,
          0.02807378527862585,
          -0.014927360048173393,
          -0.0295850844895155,
          -0.011835165584537328,
          0.9660285312289152,
          -0.020000000000000014,
          -0.013779395360329166,
          -0.01940819536142334,
          -0.013779395360329166,
          -0.014654600720209285,
          0.12840452640800437,
          -0.014927360048173393,
          -0.01170802897695031,
          0.002774926358049815,
          -0.016642049795267344,
          -0.018360169585334988,
          -0.014202366145066158,
          -0.029193411711517493,
          -0.014654600720209285,
          -0.02906937979152892,
          -0.014044764969227543,
          -0.011835165584537328,
          -0.0288357985823838,
          -0.014927360048173393,
          -0.014044764969227543,
          1,
          0.02267895992971456,
          -0.013054401457221936,
          0.08932673928831235,
          -0.8529741382506388,
          -0.4668241783885707,
          -0.0030611192882278805,
          0.0014955192677525452,
          -0.014927360048173393,
          -0.014202366145066158,
          0.026870343655688918,
          -0.019628372742105906,
          -0.006480185784066721,
          0.15789895105002608,
          0.026980101474850256,
          -0.019628372742105903,
          -0.014654600720209285,
          1,
          -0.020000000000000014,
          0.9782309058876316,
          -0.019262801074326315,
          1,
          0.0027749263580498155,
          0.02267895992971456,
          -0.00634879082001775,
          -0.01940819536142334,
          0.023297125284374064,
          -0.013779395360329166,
          -0.013929606817102053,
          -0.020000000000000014,
          -0.011924320938372304,
          -0.019250609994603627,
          -0.01940819536142334,
          -0.013779395360329166,
          0.0027749263580498155,
          0.023297125284374064,
          -0.014927360048173393,
          -0.01962837274210591,
          -0.013779395360329166,
          -0.01119029417934821,
          -0.029998238851931605,
          0.10895743702196366,
          -0.058845506845633805,
          -0.02581152238167761,
          0.9827472077818135,
          -0.014044764969227543,
          0.024345958545086095,
          -0.16136895650237634,
          -0.014812201896047901,
          -0.01119029417934821,
          -0.011601330186128838,
          0.024345958545086095,
          -0.013506636032365063,
          -0.01915946149455095,
          -0.01940819536142334,
          0.09608587263147889,
          -0.013779395360329166,
          0.05575728827099761,
          -0.02581152238167761,
          0.9940053188626925,
          1,
          -0.014812201896047901,
          -0.019628372742105903,
          -0.019262801074326315,
          -0.013779395360329166,
          0.026510773326476597,
          -0.014044764969227543,
          0.12133812893082407,
          0.8511166312480886,
          1,
          -0.012284309458251808,
          -0.014044764969227543,
          -0.0054733466298004805,
          -0.012611256351944055,
          0.0027749263580498155,
          0.026870343655688918,
          -0.01925060999460363,
          -0.018725741253114582,
          -0.01119029417934821,
          -0.014927360048173393,
          -0.014044764969227543,
          0.026510773326476597,
          -0.019628372742105906,
          -0.016914521667005314,
          -0.012905139170087943,
          -0.44526372891132093,
          -0.014927360048173393,
          -1.0460000000000023,
          -0.014927360048173393,
          0.14063356692767928,
          0.09170197561678484,
          -0.013779395360329166,
          1,
          -0.014654600720209285,
          -0.01170802897695031,
          -0.013779395360329166,
          -0.013506636032365063,
          -0.019628372742105903,
          0.09519355120290747,
          -0.013506636032365063,
          0.02102600896525416,
          0.036167919898220935,
          -0.014927360048173393,
          -0.014044764969227543,
          0.3931414993583152,
          -0.014202366145066158,
          -0.014927360048173393,
          1,
          0.12133812893082407,
          -0.013506636032365063,
          -0.029998238851931605,
          -0.019628372742105906,
          -0.013664237208203676,
          0.0249782967714634,
          0.03616791989822093,
          0.8733940546711788,
          -0.013779395360329166,
          -0.014927360048173393,
          0.026361936120190756,
          -0.01627647812748775,
          -0.0026623919331958236,
          1,
          -0.01940819536142334,
          -0.014927360048173393,
          0.08250157328616323,
          0.0043747120900768065,
          -0.019628372742105903,
          0.02267895992971456,
          1,
          -0.01210175761140731,
          -0.014044764969227543,
          0.02267895992971456,
          -0.020000000000000014,
          -0.014812201896047901,
          0.0038805391740499096,
          0.6043662811781367,
          -0.020000000000000014,
          -0.013779395360329166,
          0.027376015215399563,
          -0.014044764969227543,
          0.05575728827099761,
          -0.01940819536142334,
          -0.014044764969227543,
          -0.01925060999460363,
          0.12443010954960114,
          -0.01917788326031773,
          -0.020000000000000014,
          -0.013348450510721867,
          -0.011835165584537328,
          0.036167919898220935,
          -0.014654600720209285,
          -0.013506636032365063,
          -0.014654600720209285,
          0.02102600896525416,
          0.7210081329738448,
          0.6125002728496419,
          -0.014202366145066158,
          -0.01170802897695031,
          -0.011835165584537328,
          1,
          0.589982190476191,
          -0.01278998101796245,
          0.7602708021462817,
          -0.0645455068456338,
          0.004396658259849064,
          -0.01278164212925783,
          -0.014812201896047901,
          0.06104001554372489,
          0.026361936120190756,
          -0.014702771435854866,
          -0.019628372742105903,
          -0.019628372742105906,
          -0.019183182071752534,
          -0.014044764969227543,
          -0.014654600720209285,
          0.024345958545086095,
          -0.01278998101796245,
          -0.01586423342892889,
          -0.011257761608614452,
          0.962275148908978,
          -0.014654600720209285,
          -0.014812201896047901,
          0.023297125284374064,
          -0.012939243305096448,
          -0.011924320938372304,
          -0.014927360048173393,
          0.03986874262360521,
          0.0027749263580498155,
          -0.018725741253114585,
          -0.01881761040397294,
          -0.013054401457221936,
          -0.020000000000000014,
          -0.011835165584537328,
          0.09608587263147889,
          -0.029998238851931605,
          -0.02581152238167761,
          -0.01872906606129873,
          -0.01627647812748775,
          -0.014927360048173393,
          -0.014927360048173393,
          -0.017600000000000015,
          -0.014927360048173393,
          -0.019615265924158135,
          -0.01443001210789076,
          0.03584119863929649,
          -0.019117885043931304,
          -0.01940819536142334,
          -0.026986205938430555,
          -0.013252748605023455,
          -0.014927360048173393,
          0.0032088286477341198,
          1,
          0.6141446904761907,
          -0.019172568312498722,
          -0.014044764969227543,
          -0.026986205938430555,
          -0.01119029417934821,
          0.5956911904761906,
          -0.014654600720209285,
          0.026980101474850256,
          -0.013779395360329166,
          -0.014654600720209285,
          -0.014812201896047901,
          0.08250157328616323,
          -0.014202366145066158,
          -0.0191809893651303,
          -0.01940819536142334,
          1,
          -0.014044764969227543,
          -0.014044764969227543,
          -0.020219670510994794,
          1,
          -0.019615265924158135,
          -0.013779395360329166,
          0.01039642114597809,
          0.10895743702196366,
          1,
          0.20894961108954907,
          -0.0191809893651303,
          -0.014927360048173393,
          0.7622006227681463,
          -0.01881761040397294,
          -0.013506636032365063,
          -0.014927360048173393,
          -0.019628372742105903,
          0.8203050159246971,
          -0.014202366145066158,
          -0.01177549640621655,
          -0.014927360048173393,
          0.9599249843249571,
          -0.014927360048173393,
          -0.015831287457134375,
          1,
          0.10895743702196366,
          -0.014927360048173393,
          -0.01170802897695031,
          1,
          -0.014044764969227543,
          -0.014927360048173393,
          -0.018725741253114582,
          -0.011142603456488962,
          -0.019615265924158135,
          -0.029193411711517493,
          -0.020000000000000014,
          1,
          -0.01278164212925783,
          -0.020000000000000014,
          0.04146198191048352,
          -0.014927360048173393,
          -0.01962837274210591,
          -0.014927360048173393,
          -0.020000000000000014,
          0.05575728827099761,
          -0.01917007525380476,
          -0.013779395360329166,
          -0.014654600720209285,
          1,
          -0.014044764969227543,
          0.9898,
          0.036167919898220935,
          0.5810082477021521,
          -0.013929606817102053,
          -0.020000000000000014,
          -0.011835165584537328,
          -0.01917007525380476,
          -0.020000000000000014,
          -0.016642049795267344,
          -0.01872906606129873,
          -0.017520000000000015,
          -0.0026623919331958236,
          1,
          -0.013506636032365063,
          -0.01940819536142334,
          -0.019628372742105903,
          -0.014927360048173393,
          0.894584427685206,
          -0.018360169585334988,
          -0.01278164212925783,
          -0.019262801074326315,
          1,
          1,
          -0.013929606817102053,
          -0.019170075253804764,
          -0.014654600720209285,
          0.08250157328616323,
          0.03356252323040236,
          0.3139822311677534,
          -0.013779395360329166,
          -0.014044764969227543,
          1,
          -0.013929606817102053,
          0.9434431565060435,
          -0.014044764969227543,
          -0.0026623919331958236,
          -0.014654600720209285,
          -0.014927360048173393,
          -0.020000000000000014,
          1,
          -0.019628372742105903,
          -0.012381984665708714,
          1,
          0.8733940546711788,
          -0.01962837274210591,
          -0.0645455068456338,
          -0.12950972743813569,
          -0.012038890108871547,
          -0.014044764969227543,
          0.05336343232955617,
          -0.014927360048173393,
          0.9036464631985638,
          -0.019628372742105906,
          -0.013779395360329166,
          -0.013929606817102053,
          0.03986874262360521,
          -0.014927360048173393,
          -0.014734433957516174,
          -0.01940819536142334,
          0.023297125284374064,
          1,
          -0.011257761608614452,
          -0.01119029417934821,
          0.8733940546711788,
          0.6123495238095243,
          -0.013779395360329166,
          0.10895743702196366,
          -0.01210175761140731,
          -0.013664237208203676,
          -0.016642049795267344,
          -0.014654600720209285,
          -0.01107513602722272,
          -0.019250609994603627,
          -0.014044764969227543,
          -0.013779395360329166,
          -0.011257761608614452,
          -0.014927360048173393,
          -0.014812201896047901,
          -0.014927360048173393,
          -0.014927360048173393,
          0.041909329035628114,
          -0.014927360048173393,
          -0.013779395360329166,
          -0.029998238851931605,
          -0.005376444953015336,
          -0.013506636032365063,
          -0.014927360048173393,
          -0.011835165584537328,
          -0.013779395360329166,
          -0.012399467610377296,
          0.0022782710496706206,
          -0.013664237208203676,
          -0.014044764969227543,
          -0.014202366145066158,
          -0.020000000000000014,
          0.6168513333333338,
          -0.014927360048173393,
          -0.014927360048173393,
          -0.014927360048173393,
          -0.014044764969227543,
          -0.0645455068456338,
          1,
          -0.01352550793298756,
          -0.7993697380952385,
          -0.014044764969227543,
          -0.018597433023290377,
          -0.013779395360329166,
          -0.013779395360329166,
          1,
          -0.014927360048173393,
          0.004396658259849064,
          0.9988696428571429,
          -0.014927360048173393,
          0.026506934743799428,
          -0.01107513602722272,
          -0.01586423342892889,
          -0.014654600720209285,
          0.009890749586267445,
          0.08932673928831235,
          -0.02018138733864711,
          -0.014044764969227543,
          -0.027172073885120777,
          0.7622006227681463,
          -0.012501657695932547,
          0.8733940546711788,
          -0.01619685912491397,
          1,
          -0.014927360048173393,
          0.15457679733727825,
          -0.013779395360329166,
          0.9989071428571428,
          -0.014654600720209285,
          1,
          1,
          -0.013054401457221936,
          0.01854786672224267,
          0.9898,
          0.08428000000000009,
          -0.014927360048173393,
          -0.01170802897695031,
          0.026361936120190756,
          -0.018725741253114582,
          0.9525245414156722,
          -0.016642049795267344,
          0.0027749263580498155,
          -0.019615265924158135,
          -0.7565907857142861,
          1,
          -0.014812201896047901,
          -0.018725741253114582,
          -0.014927360048173393,
          0.5983074831550619,
          -0.01119029417934821,
          -0.0434495082390075,
          -0.014044764969227543,
          -0.019262801074326315,
          -0.014812201896047901,
          -0.020000000000000014,
          0.35293164634247537,
          -0.013779395360329166,
          -1.0460000000000023,
          0.9660285312289152,
          0.24742432933977054,
          -0.014654600720209285,
          0.004396658259849064,
          0.11799102843789915,
          -0.01879011979968025,
          -0.014927360048173393,
          -0.014044764969227543,
          -0.014654600720209285,
          -0.014202366145066158,
          -0.013779395360329166,
          -0.027672533408850182,
          0.036167919898220935,
          0.0027749263580498155,
          0.8674492092977717,
          -1.0460000000000023,
          -0.01119029417934821,
          -0.019628372742105906,
          -0.01861681325382419,
          0.0027749263580498155,
          -0.0023766015217304144,
          0.026980101474850256,
          -0.014044764969227543,
          -0.013252748605023455,
          -0.01177549640621655,
          -0.014044764969227543,
          1,
          0.8626050981553014,
          -0.014927360048173393,
          -0.013779395360329166,
          -0.014654600720209285,
          -0.014611112923779798,
          -0.018963004691069967,
          0.02102600896525416,
          -0.014927360048173393,
          0.05575728827099761,
          1,
          0.13412941616630517,
          -0.014044764969227543,
          -0.014654600720209285,
          -0.014654600720209285,
          1,
          -0.020000000000000014,
          -0.02420046716988003,
          0.09881673557712975,
          0.004396658259849064,
          0.24431209165563877,
          -0.013506636032365063,
          -0.013779395360329166,
          -0.014654600720209285,
          0.11799102843789915,
          -0.0434495082390075,
          -0.014654600720209285,
          0.024945183591725685,
          1,
          -0.019628372742105906,
          1,
          1,
          0.03986874262360521,
          -0.017062815320674232,
          1,
          -0.013159446824765364,
          -0.012939243305096448,
          -0.013929606817102053,
          -0.014927360048173393,
          -0.013779395360329166,
          -0.014044764969227543,
          -0.02420046716988003,
          -0.014329729379729268,
          -0.019183182071752534,
          0.028807135019113667,
          0.0032088286477341198,
          -0.019615265924158135,
          -0.020000000000000014,
          -0.02676741164780722,
          -0.013779395360329166,
          1,
          -0.0434495082390075,
          1,
          -0.01962837274210591,
          0.036167919898220935,
          -0.019989878542510137,
          -0.24916191506474283,
          -0.013779395360329166,
          -1.0460000000000023,
          -0.006969620531853885,
          -0.01962837274210591,
          -0.014044764969227543,
          0.026510773326476597,
          -0.014927360048173393,
          0.018042195162532026,
          -0.018334871687664532,
          -0.014044764969227543,
          0.10690134306640704,
          -0.012284309458251808,
          0.09881673557712975,
          0.2210963535602895,
          -0.014927360048173393,
          -0.013779395360329166,
          -0.018725741253114585,
          -0.013779395360329166,
          -0.013506636032365063,
          -0.011257761608614452,
          -0.01962837274210591,
          -0.013664237208203676,
          -0.014044764969227543,
          -0.019615265924158135,
          -0.013779395360329166,
          -0.013779395360329166,
          -0.014654600720209285,
          0.026980101474850256,
          -0.013463608662847357,
          -0.013929606817102053,
          -0.020000000000000014,
          -0.014654600720209285,
          -0.014654600720209285,
          -0.014044764969227543,
          -0.029998238851931605,
          -0.006969620531853885,
          -0.027172073885120777,
          0.0032088286477341198,
          -0.029998238851931605,
          0.7622006227681463,
          1,
          -0.01871263443516681,
          0.05546566666666672,
          -0.01341034978086207,
          -0.006480185784066721,
          -0.6881597180711101,
          0.39742566602498186,
          -0.013506636032365063,
          -0.011463746538582804,
          -0.011788617879062819,
          0.089862018411207,
          -0.01210175761140731,
          -0.006621550147981855,
          -0.014044764969227543,
          -0.013929606817102053,
          -0.014812201896047901,
          -0.019628372742105903,
          -0.014927360048173393,
          -0.014927360048173393,
          0.10895743702196366,
          -0.018725741253114582,
          0.02267895992971456,
          0.089862018411207,
          -0.01925060999460363,
          0.024345958545086095,
          -0.014927360048173393,
          -0.019628372742105906,
          -0.014927360048173393,
          -0.013664237208203676,
          -0.019183182071752534,
          -0.01940819536142334,
          -0.014329729379729268,
          0.002774926358049815,
          -0.019615265924158135,
          -0.014329729379729268,
          -0.014202366145066158,
          -0.019183182071752534,
          -0.014044764969227543,
          -0.029725479523967504,
          -1.0460000000000023,
          -0.014927360048173393,
          -0.014927360048173393,
          -0.016642049795267344,
          -0.014812201896047901,
          0.20289666666666684,
          -0.01170802897695031,
          -0.013779395360329166,
          -0.01119029417934821,
          -0.013779395360329166,
          1,
          -0.019615265924158135,
          -0.014654600720209285,
          1,
          -0.014654600720209285,
          -0.01940819536142334,
          -0.029193411711517493,
          0.12462813706233188,
          1,
          -0.014927360048173393,
          -0.011601330186128838,
          -0.0645455068456338,
          -0.014812201896047901,
          -0.014044764969227543,
          0.004396658259849064,
          -0.014927360048173393,
          -0.019615265924158135,
          0.002774926358049815,
          -0.013779395360329166,
          -0.014202366145066158,
          -0.019262801074326315,
          -0.014654600720209285,
          0.024345958545086095,
          -0.014044764969227543,
          -0.11963731484552366,
          0.0032088286477341198,
          -0.0026623919331958236,
          -0.014927360048173393,
          -0.01210175761140731,
          -0.011142603456488962,
          0.089862018411207,
          0.024345958545086095,
          0.8733940546711788,
          -0.019262801074326315,
          -0.01586423342892889,
          -0.01341034978086207,
          0.04308316044234561,
          -0.013929606817102053,
          -0.24436933854718265,
          -0.011257761608614452,
          0.40224933995242457,
          -0.029193411711517493,
          1,
          -0.014654600720209285,
          -0.014654600720209285,
          -0.0288357985823838,
          -0.01341034978086207,
          -0.01871263443516681,
          -0.01586423342892889,
          0.8161740660742827,
          -0.014927360048173393,
          0.026870343655688918,
          0.5436742538955419,
          -0.014927360048173393,
          -0.013779395360329166,
          -0.011601330186128838,
          -0.013929606817102053,
          0.026980101474850256,
          0.9827472077818135,
          -0.014927360048173393,
          0.9203836482544046,
          -0.014044764969227543,
          -0.020000000000000014,
          0.0903620308983321,
          -0.01210175761140731,
          0.6167597947159948,
          -0.014044764969227543,
          -0.01177549640621655,
          0.028934740652916485,
          -0.011835165584537328,
          -0.014044764969227543,
          -0.013506636032365063,
          -0.014927360048173393,
          -0.014044764969227543,
          -0.013779395360329166,
          0.10999410201279908,
          -0.020000000000000014,
          -0.014654600720209285,
          1,
          -0.01278998101796245,
          -0.019628372742105903,
          0.9857691836860412,
          -0.014044764969227543,
          -0.014202366145066158,
          -0.01940819536142334,
          0.981752123324139,
          0.0032088286477341198,
          -0.013779395360329166,
          -0.01278998101796245,
          -0.014044764969227543,
          -0.01119029417934821,
          -0.012284309458251808,
          -0.006969620531853885,
          -0.013779395360329166,
          -0.016642049795267344,
          0.026510773326476597,
          0.002774926358049815,
          0.7602708021462817,
          -0.014044764969227543,
          -0.020000000000000014,
          -0.019615265924158135,
          -0.01881761040397294,
          -0.019262801074326315,
          -0.013929606817102053,
          1,
          -0.019262801074326315,
          0.023297125284374064,
          1,
          -0.020000000000000014,
          1,
          -0.019615265924158135,
          -0.014044764969227543,
          -0.6554687180711103,
          0.03356252323040236,
          1,
          -0.01923750317665586,
          -0.014927360048173393,
          -0.013506636032365063,
          0.8733940546711788,
          -0.016914521667005314,
          -0.014927360048173393,
          -0.014654600720209285,
          -0.014044764969227543,
          -0.013664237208203676,
          -0.019249694256378545,
          -0.4668241783885707,
          -0.013506636032365063,
          -0.014927360048173393,
          -0.01627647812748775,
          -0.01962837274210591,
          -0.013664237208203676,
          -0.014654600720209285,
          0.35739690387995865,
          1,
          0.026870343655688918,
          0.894584427685206,
          -0.019615265924158135,
          -0.013779395360329166,
          1,
          -0.013664237208203676,
          0.2487164716092657,
          -0.014927360048173393,
          0.5912082477021522,
          -0.01861681325382419,
          -0.014927360048173393,
          -0.014654600720209285,
          -0.01177549640621655,
          -0.014654600720209285,
          0.31388313106092514,
          0.026870343655688918,
          -0.013779395360329166,
          -0.01586423342892889,
          -0.011601330186128838,
          -0.014927360048173393,
          -0.019615265924158135,
          -0.01962837274210591,
          -0.020000000000000014,
          -0.016642049795267344,
          -0.019628372742105903,
          -0.019262801074326315,
          -0.019262801074326315,
          -0.020000000000000014,
          -0.022196697550290058,
          -0.013929606817102053,
          -0.013779395360329166,
          -0.016642049795267344,
          1,
          -0.013506636032365063,
          -0.1795082399282164,
          -0.019628372742105906,
          -0.019628372742105906,
          -0.013506636032365063,
          -0.01443001210789076,
          0.024538817186590914,
          -0.01210175761140731,
          -0.014927360048173393,
          -0.019628372742105903,
          0.7616680409632339,
          -0.013779395360329166,
          -0.014927360048173393,
          -0.020000000000000014,
          -0.019628372742105906,
          0.0027749263580498147,
          -0.019615265924158135,
          -0.016642049795267344,
          1,
          -0.01210175761140731,
          -0.01119029417934821,
          -0.014044764969227543,
          -0.019262801074326315,
          -0.014927360048173393,
          -0.013664237208203676,
          0.002774926358049815,
          0.0021486106152009,
          -0.017680000000000015,
          1,
          0.014585706170577275,
          -0.027672533408850182,
          0.12462813706233188,
          0.2283144353294984,
          1,
          0.15494034205947152,
          0.02267895992971456,
          -0.01586423342892889,
          -0.013302144622718287,
          0.02267895992971456,
          1,
          0.0032088286477341198,
          -0.026986205938430555,
          -0.014044764969227543,
          -0.01961526592415814,
          0.7602708021462817,
          -0.016642049795267344,
          -0.013779395360329166,
          -0.014927360048173393,
          -0.013560000000000016,
          1,
          -0.019262801074326315,
          -0.014927360048173393,
          -0.006969620531853885,
          0.9898,
          -0.014202366145066158,
          -0.014487330555567883,
          -0.012905139170087943,
          -0.01210175761140731,
          0.024945183591725685,
          -0.014654600720209285,
          0.0032088286477341198,
          -0.014044764969227543,
          0.08250157328616323,
          -0.01443001210789076,
          -0.014927360048173393,
          -1.0460000000000023,
          -0.019628372742105906,
          -0.00784517183409317,
          -0.013506636032365063,
          0.9782309058876316,
          0.0043345373116998485,
          -0.019553171583696752,
          0.03056629718791472,
          1,
          -0.014927360048173393,
          0.0868500000000003,
          0.023297125284374064,
          -0.019628372742105906,
          1,
          0.03986874262360521,
          0.5956911904761906,
          -0.014927360048173393,
          -0.019628372742105903,
          -0.019615265924158135,
          0.36248360030853016,
          -0.014044764969227543,
          -0.014927360048173393,
          -0.019628372742105903,
          -0.014044764969227543,
          -0.015419042758575516,
          -0.019628372742105903,
          -0.019628372742105903,
          0.9827472077818135,
          -0.2709982616241057,
          -0.016642049795267344,
          -0.014654600720209285,
          -0.019628372742105906,
          -0.013779395360329166,
          -0.014044764969227543,
          0.6362623069660741,
          -0.020000000000000014,
          -0.014654600720209285,
          -0.013929606817102053,
          0.03986874262360521,
          -0.014927360048173393,
          -0.013664237208203676,
          -0.01925060999460363,
          0.27374216145294306,
          -0.014044764969227543,
          -0.014654600720209285,
          1,
          -0.014927360048173393,
          0.026510773326476597,
          -0.019628372742105903,
          -0.014329729379729268,
          -0.013779395360329166,
          0.9245215481844968,
          0.3223067639850939,
          1,
          -0.01872906606129873,
          -0.014044764969227543,
          -0.014812201896047901,
          -0.029078388053319405,
          -0.013779395360329166,
          0.8844690319566264,
          -0.014927360048173393,
          -0.014927360048173393,
          -0.01962837274210591,
          1,
          -0.014702771435854866,
          -0.013664237208203676,
          0.05401016542983103,
          -0.013062740345926558,
          -0.01925060999460363,
          0.02267895992971456,
          -0.01917788326031773,
          -0.019183182071752534,
          -0.019183182071752534,
          -0.01119029417934821,
          -0.014654600720209285,
          -0.01210175761140731,
          -0.018963004691069967,
          -0.014702771435854866,
          1,
          -0.01962837274210591,
          -0.020000000000000014,
          -0.012939243305096448,
          0.02494902217440285,
          -0.01925060999460363,
          1,
          -0.013779395360329166,
          -0.014044764969227543,
          -0.019615265924158135,
          0.9245215481844968,
          1,
          -0.01278998101796245,
          0.026870343655688918,
          -0.013054401457221936,
          -0.019628372742105906,
          -0.006969620531853885,
          0.03986874262360521,
          1,
          -0.013079439097644465,
          -0.01278998101796245,
          0.10895743702196366,
          0.05575728827099761,
          -0.014927360048173393,
          -0.014927360048173393,
          0.026361936120190756,
          0.9434431565060435,
          -0.014927360048173393,
          1,
          -0.019628372742105903,
          -0.005425656486989066,
          -0.019180989365130307,
          -0.019615265924158135,
          -0.014654600720209285,
          1,
          -0.014927360048173393,
          0.0027749263580498147,
          -0.013665118384476012,
          1,
          -0.014202366145066158,
          1,
          -0.19936332816351052,
          -0.020000000000000014,
          0.11304617949270415,
          -0.018725741253114582,
          -0.020000000000000014,
          -0.014202366145066158,
          -0.01940819536142334,
          -0.014927360048173393,
          0.03986874262360521,
          -0.01278164212925783,
          -0.011257761608614452,
          -0.013664237208203676,
          -0.019628372742105903,
          -0.019628372742105903,
          -0.012000574917505774,
          -0.014044764969227543,
          -0.014927360048173393,
          0.026980101474850256,
          -0.01963169755029005,
          0.0027749263580498155,
          0.133801784101945,
          -0.013252748605023455,
          -0.011126872670570125,
          -0.016914521667005314,
          -0.0434495082390075,
          1,
          0.8626050981553014,
          1,
          -0.014329729379729268,
          1,
          -0.014927360048173393,
          -0.019170075253804764,
          0.0027749263580498155,
          -0.014654600720209285,
          0.0027749263580498155,
          -0.013779395360329166,
          -0.019262801074326315,
          -0.026986205938430555,
          -0.020000000000000014,
          -0.014202366145066158,
          0.036167919898220935,
          0.7279999999999994,
          -0.013779395360329166,
          0.0823211648200062,
          0.5555722499241987,
          -0.019117885043931308,
          -0.013779395360329166,
          -0.014654600720209285,
          -0.019237503176655856,
          1,
          0.12840452640800437,
          -0.01940819536142334,
          0.9187314033564453,
          -0.020000000000000014,
          1,
          0.5233759589102482,
          1,
          -0.014702771435854866,
          0.09817683983645356,
          -0.014044764969227543,
          0.10195738699974957,
          0.02267895992971456,
          -0.013779395360329166,
          -0.019989878542510133,
          -0.013664237208203676,
          -0.006969620531853885,
          0.023297125284374064,
          -1.0460000000000023,
          1,
          -0.02581152238167761,
          -0.01586423342892889,
          -0.016642049795267344,
          -0.019628372742105903,
          0.22328876190476207,
          -0.020000000000000014,
          0.028934740652916485,
          -0.01210175761140731,
          0.8685647133994915,
          -0.01278998101796245,
          -0.020000000000000014,
          -0.013506636032365063,
          1,
          -0.014927360048173393,
          -0.011257761608614452,
          0.07785283983645357,
          0.9827472077818135,
          -0.019628372742105906,
          -0.016914521667005314,
          -0.019628372742105906,
          -0.019628372742105903,
          0.009890749586267445,
          -0.013621209838685972,
          -0.058845506845633805,
          0.003692868487121792,
          -0.01627647812748775,
          0.35119982751259476,
          -0.011257761608614452,
          1,
          0.024345958545086095,
          0.0027749263580498155,
          -0.005477864396297946,
          -0.014812201896047901,
          -0.0645455068456338,
          0.33706493099152013,
          0.016283702509281253,
          1,
          -0.011601330186128838,
          -0.011142603456488962,
          -0.014927360048173393,
          -0.011835165584537328,
          -0.019262801074326315,
          0.7622006227681463,
          -0.01962837274210591,
          -0.014044764969227543,
          0.026510773326476597,
          -0.013621209838685972,
          0.7279999999999994,
          -0.020000000000000014,
          0.0027749263580498155,
          -0.018805419324250255,
          -0.011257761608614452,
          -0.012441910634090423,
          -0.019628372742105903,
          -0.019615265924158135,
          0.002774926358049815,
          -0.013779395360329166,
          -0.0288357985823838,
          -0.01940819536142334,
          -0.013779395360329166,
          -0.01119029417934821,
          -0.012000574917505774,
          -0.013054401457221936,
          -0.5765670689735957,
          -0.01331981898976856,
          -0.014654600720209285,
          -0.012492407651790095,
          0.0868500000000003,
          -0.014927360048173393,
          -0.028920652383553392,
          -0.011788617879062819,
          -0.014812201896047901,
          -0.01923750317665586,
          -0.019615265924158135,
          0.02807378527862585,
          1,
          -0.014044764969227543,
          -0.013664237208203676,
          -0.014202366145066158,
          -0.23807439806081784,
          -0.011924320938372304,
          0.026510773326476597,
          -0.005425656486989066,
          -0.01443001210789076,
          -0.012862235197438295,
          -0.016642049795267344,
          -0.014654600720209285,
          -0.014927360048173393,
          -0.011257761608614452,
          -0.014044764969227543,
          -0.014927360048173393,
          -0.013664237208203676,
          0.0027749263580498147,
          -0.019628372742105906,
          -0.016642049795267344,
          0.04146198191048352,
          1,
          -0.014044764969227543,
          0.7526848721089232,
          -0.017062815320674232,
          -0.013779395360329166,
          0.026980101474850256,
          -0.011835165584537328,
          0.10339721851845385,
          0.026506934743799428,
          -0.013779395360329166,
          0.0548734134484373,
          -0.013506636032365063,
          0.026510773326476597,
          -0.014044764969227543,
          -0.013779395360329166,
          -0.014044764969227543,
          -0.014654600720209285,
          -0.014927360048173393,
          0.0027749263580498155,
          -1.0460000000000023,
          1,
          -0.011601330186128838,
          0.024345958545086095,
          -0.016642049795267344,
          -0.4364354814886405,
          0.4749620536432387,
          1,
          -0.014927360048173393,
          -0.028393890037430567,
          -0.013664237208203676,
          -0.014654600720209285,
          -0.014044764969227543,
          -0.01917007525380476,
          -0.013929606817102053,
          -0.01341034978086207,
          1,
          -0.019615265924158135,
          -0.014927360048173393,
          0.09881673557712975,
          -0.014044764969227543,
          -0.012939243305096448,
          0.026870343655688918,
          -0.013929606817102053,
          0.08932673928831235,
          -0.014654600720209285,
          -0.018505563872432015,
          -0.014044764969227543,
          0.004396658259849064,
          0.0038805391740499096,
          -0.015373846638496426,
          -0.014044764969227543,
          -0.014654600720209285,
          -0.01210175761140731,
          -0.013929606817102053,
          0.023297125284374064,
          -0.01917007525380476,
          0.0032088286477341198,
          -0.014812201896047901,
          -0.014044764969227543,
          1,
          0.016283702509281253,
          -0.014927360048173393,
          -0.029998238851931605,
          0.16174469818791504,
          -0.020000000000000014,
          -0.019628372742105903,
          0.10999410201279908,
          0.040989142004138016,
          -0.014654600720209285,
          1,
          -0.014812201896047901,
          0.026870343655688918,
          -0.9737042458750406,
          0.08932673928831235,
          -0.014927360048173393,
          -0.013252748605023455,
          -0.17392472045433538,
          -0.0645455068456338,
          -0.014202366145066158,
          0.721825562514958,
          -0.029998238851931605,
          -0.014202366145066158,
          0.0032088286477341198,
          -0.014927360048173393,
          1,
          -0.15170895650237637,
          -0.013664237208203676,
          -0.019628372742105903,
          -0.019615265924158135,
          -0.014927360048173393,
          -0.01881761040397294,
          1,
          0.024945183591725685,
          1,
          -0.011257761608614452,
          -0.014812201896047901,
          -0.014044764969227543,
          -0.013664237208203676,
          0.024945183591725685,
          0.595585394623515,
          -0.005425656486989066,
          -0.018505563872432015,
          -0.005425656486989066,
          -0.019249694256378548,
          -0.01119029417934821,
          0.5956911904761906,
          -0.013348450510721867,
          -0.014927360048173393,
          -0.019628372742105903,
          -0.013348450510721867,
          -0.013779395360329166,
          -0.020000000000000014,
          0.0027749263580498155,
          -0.013779395360329166,
          1,
          -0.014654600720209285,
          -0.01341034978086207,
          0.026361936120190756,
          -0.014654600720209285,
          0.35293164634247537,
          -0.01119029417934821,
          -0.01925060999460363,
          0.9756809058876316,
          -0.014044764969227543,
          -0.020000000000000014,
          0.023297125284374064,
          0.34942922850016844,
          1,
          -1.0460000000000023,
          -0.013664237208203676,
          1,
          -0.014202366145066158,
          0.02494902217440285,
          -0.01119029417934821,
          -0.014044764969227543,
          0.023297125284374064,
          -0.006854462379728396,
          -0.014927360048173393,
          -0.013779395360329166,
          -0.014654600720209285,
          1,
          -0.014927360048173393,
          -0.019628372742105903,
          -0.01940819536142334,
          -0.019628372742105903,
          -0.019250609994603627,
          -0.019615265924158135,
          1,
          0.0027749263580498155,
          0.35119982751259476,
          -0.017067333087171697,
          -0.014927360048173393,
          -0.01443001210789076,
          1,
          1,
          -0.014044764969227543,
          0.046576815918374634,
          -0.014927360048173393,
          -0.013664237208203676,
          -0.02906937979152892,
          -0.011257761608614452,
          -0.013779395360329166,
          -0.014927360048173393,
          -0.19936332816351052,
          -0.019615265924158135,
          -0.014927360048173393,
          -0.011142603456488962,
          0.5555722499241987,
          0.023297125284374064,
          -0.014927360048173393,
          0.024538817186590914,
          -0.018725741253114585,
          0.8626050981553014,
          -0.014654600720209285,
          -0.014044764969227543,
          0.0809383585303586,
          0.089862018411207,
          -0.0038343085370794484,
          0.026870343655688918,
          0.003692868487121792,
          -0.014202366145066158,
          0.591455856137175,
          -0.019262801074326315,
          -0.019989878542510137,
          -0.013779395360329166,
          -0.013779395360329166,
          -0.009012412107890758,
          -0.013779395360329166,
          -0.013252748605023455,
          1,
          -0.014927360048173393,
          -0.016642049795267344,
          0.0005212239772379506,
          0.5555722499241987,
          -0.01962837274210591,
          -0.013779395360329166,
          0.7602708021462817,
          -0.014329729379729268,
          0.0032088286477341198,
          -0.014044764969227543,
          -0.014654600720209285,
          1,
          -0.019408195361423342,
          -0.014654600720209285,
          -0.012027828118715998,
          -0.020000000000000014,
          -0.02581152238167761,
          -0.012905139170087943,
          -0.014927360048173393,
          0.002774926358049815,
          -0.018725741253114585,
          -1.0460000000000023,
          -0.013779395360329166,
          -0.016642049795267344,
          -0.01586423342892889,
          -0.026986205938430555,
          -0.0026623919331958236,
          0.0032088286477341198,
          0.002774926358049815,
          0.0026896107625892837,
          0.024945183591725685,
          -0.014654600720209285,
          -0.028920652383553392,
          -0.016642049795267344,
          -0.014044764969227543,
          -0.013779395360329166,
          -0.015416850051953283,
          1,
          0.04818724741924745,
          -0.01119029417934821,
          -0.019628372742105903,
          -0.014927360048173393,
          0.01039642114597809,
          -0.02676741164780722,
          -0.014202366145066158,
          0.5652555238095246,
          -0.014044764969227543,
          -0.014044764969227543,
          -0.01961526592415814,
          1,
          0.024345958545086095,
          -0.014044764969227543,
          -0.01962837274210591,
          -0.013252748605023455,
          0.0005212239772379506,
          -0.01918650687993668,
          0.5125379509196575,
          -0.01177549640621655,
          -0.014654600720209285,
          -0.011924320938372304,
          0.026510773326476597,
          -0.0038343085370794484,
          0.887937026069151,
          0.9898,
          -0.01278998101796245,
          -0.01443001210789076,
          -0.014927360048173393,
          -0.01119029417934821,
          1,
          0.0032088286477341198,
          -0.014927360048173393,
          1,
          -0.013054401457221936,
          -0.013929606817102053,
          0.12840452640800437,
          -0.014654600720209285,
          0.040989142004138016,
          0.089862018411207,
          -0.018334871687664532,
          0.0038805391740499096,
          -0.014927360048173393,
          -0.9761522364400315,
          -0.011917555728399056,
          -0.005425656486989066,
          -0.012000574917505774,
          -0.013054401457221936,
          -0.019262801074326315,
          -0.020000000000000014,
          -0.015416850051953281,
          -0.019167882547182533,
          -0.014654600720209285,
          -0.01627647812748775,
          -0.013054401457221936,
          -0.014202366145066158,
          -0.01119029417934821,
          -0.029193411711517493,
          -0.012939243305096448,
          -0.018949897873122196,
          -0.014654600720209285,
          -0.01278998101796245,
          -0.013779395360329166,
          -0.019615265924158135,
          -0.013779395360329166,
          -0.013664237208203676,
          -0.01177549640621655,
          -0.012000574917505774,
          -0.018505563872432015,
          -0.019170075253804764,
          -0.014044764969227543,
          0.08250157328616323,
          -0.019262801074326315,
          -0.01917007525380476,
          0.10530812980042052,
          0.089862018411207,
          -0.014044764969227543,
          0.9434431565060435,
          -0.013929606817102053,
          -0.014044764969227543,
          -0.014927360048173393,
          0.9203836482544046,
          -0.013506636032365063,
          -0.0288357985823838,
          -0.014927360048173393,
          -0.007684187883777862,
          -0.014927360048173393,
          -0.005376444953015336,
          0.002774926358049815,
          0.026510773326476597,
          1,
          -0.01962837274210591,
          0.024472625211752766,
          0.4304083535376956,
          0.026870343655688918,
          -0.014044764969227543,
          -0.019615265924158135,
          0.03509204267358072,
          -0.01119029417934821,
          -0.014654600720209285,
          -0.01940819536142334,
          -0.013252748605023455,
          0.1010809161350251,
          -0.012000574917505774,
          -0.013779395360329166,
          -0.01341034978086207,
          0.026361936120190756,
          0.023297125284374064,
          -0.019628372742105903,
          -0.019628372742105906,
          -0.019628372742105903,
          -0.014044764969227543,
          0.5794135810354855,
          0.04146198191048352,
          0.12840452640800437,
          -0.013779395360329166,
          -0.014927360048173393,
          0.002774926358049815,
          0.39742566602498186,
          0.39742566602498186,
          -0.013779395360329166,
          -0.01301983637327691,
          -0.014812201896047901,
          -0.013054401457221936,
          -0.013779395360329166,
          0.018692714276397217,
          -0.013506636032365063,
          -0.019628372742105903,
          0.089862018411207,
          -0.8815493943833949,
          0.12840452640800437,
          -0.019262801074326315,
          -0.018805419324250255,
          0.1562696508437632,
          -0.014044764969227543,
          -0.014927360048173393,
          0.9227782955100081,
          0.58801832470551,
          -0.013664237208203676,
          -0.013506636032365063,
          -0.026986205938430555,
          -0.014654600720209285,
          0.7622006227681463,
          -0.003027196125118881,
          -1.0460000000000023,
          0.0022782710496706206,
          -0.020000000000000014,
          -0.01962837274210591,
          0.05527793934287451,
          -0.641241996076837,
          -0.014927360048173393,
          -0.011835165584537328,
          0.2712701112447338,
          -0.24873014553702813,
          -0.013929606817102053,
          -0.012284309458251808,
          0.003194402013480523,
          -0.019170075253804764,
          -0.019628372742105906,
          -0.018725741253114585,
          -0.014927360048173393,
          -0.01278998101796245,
          -0.018794805564996443,
          0.002774926358049815,
          -0.014654600720209285,
          0.023297125284374064,
          -0.01278998101796245,
          -0.014044764969227543,
          -0.014654600720209285,
          -0.01170802897695031,
          -0.01586423342892889,
          1,
          -0.012939243305096448,
          0.01197784252843663,
          -0.013506636032365063,
          0.7616680409632339,
          -0.018347978505612303,
          -0.01962837274210591,
          -0.013779395360329166,
          0.02807378527862585,
          -0.019628372742105913,
          0.026506934743799428,
          -0.016642049795267344,
          -0.013506636032365063,
          0.024345958545086095,
          0.8844690319566264,
          0.7587108021462816,
          -0.011788617879062819,
          1,
          -0.014044764969227543,
          -0.019262801074326315,
          0.9609361369313111,
          -0.014927360048173393,
          0.018042195162532026,
          0.026980101474850256,
          -0.014044764969227543,
          -0.014927360048173393,
          -0.01940819536142334,
          -0.01443001210789076,
          -0.019628372742105903,
          -0.014654600720209285,
          -0.014654600720209285,
          -0.013252748605023455,
          -0.013929606817102053,
          0.6123495238095243,
          -0.17830395650237635,
          -0.01586423342892889,
          -1.0460000000000023,
          0.0027749263580498155,
          -0.014927360048173393,
          -0.019628372742105906,
          0.003067735346813858,
          -0.014927360048173393,
          -0.014654600720209285,
          -0.014927360048173393,
          -0.020000000000000014,
          -0.012939243305096448,
          -0.01871263443516681,
          -0.019628372742105903,
          -0.01881761040397294,
          0.028934740652916485,
          -0.019262801074326315,
          -0.013779395360329166,
          -0.014654600720209285,
          1,
          0.07785283983645357,
          0.026870343655688918,
          -0.013779395360329166,
          -0.0645455068456338,
          0.05834876397032268,
          -0.011257761608614452,
          -0.01170802897695031,
          -0.006480185784066721,
          -0.014044764969227543,
          0.02267895992971456,
          -0.012939243305096448,
          -0.016642049795267344,
          1,
          -0.014044764969227543,
          -0.013779395360329166,
          0.02630880885241417,
          -0.014927360048173393,
          0.002774926358049815,
          0.8626050981553014,
          -0.01871263443516681,
          -0.01962837274210591,
          1,
          -0.014044764969227543,
          -0.014044764969227543,
          -0.013054401457221936,
          -0.014202366145066158,
          -0.01119029417934821,
          -0.019615265924158135,
          -0.017062815320674232,
          -0.013054401457221936,
          -0.014812201896047901,
          -0.01341034978086207,
          -0.013779395360329166,
          -0.013506636032365063,
          -0.029193411711517493,
          -0.014044764969227543,
          -0.011257761608614452,
          -0.006854462379728396,
          -0.019628372742105906,
          -0.019183182071752534,
          -0.01940819536142334,
          1,
          -0.020000000000000014,
          -0.014654600720209285,
          -0.02906937979152892,
          0.02267895992971456,
          -0.01468731770544333,
          -0.009012412107890758,
          1,
          0.5912082477021522,
          0.9172326466934689,
          0.07033897776465432,
          -0.029998238851931605,
          -0.014202366145066158,
          -0.013664237208203676,
          0.7622006227681463,
          -0.013779395360329166,
          -0.013664237208203676,
          1,
          0.10895743702196366,
          -0.014927360048173393,
          -0.019628372742105903,
          -0.014927360048173393,
          1,
          -0.019628372742105906,
          -0.01940819536142334,
          -0.008695222222222236,
          0.9940053188626925,
          0.026980101474850256,
          0.9434431565060435,
          0.981752123324139,
          -0.013506636032365063,
          -0.013506636032365063,
          -0.013779395360329166,
          -0.014927360048173393,
          -0.013079439097644465,
          -0.019628372742105906,
          -0.014044764969227543,
          -0.014812201896047901,
          -0.019628372742105903,
          -0.11963731484552366,
          -0.018725741253114582,
          -0.014654600720209285,
          -0.013664237208203676,
          0.8733940546711788,
          -0.014654600720209285,
          -0.011142603456488962,
          -0.014654600720209285,
          -0.01962837274210591,
          0.8626050981553014,
          -0.019615265924158135,
          -0.014927360048173393,
          -0.013664237208203676,
          -0.014044764969227543,
          -0.014044764969227543,
          -0.019262801074326315,
          -0.013664237208203676,
          0.0027749263580498155,
          0.002774926358049815,
          0.0027749263580498155,
          0.026506934743799428,
          0.02638273834510548,
          -0.011648376701286392,
          0.11799102843789915,
          -0.014044764969227543,
          -0.013054401457221936,
          -0.01278998101796245,
          -0.014044764969227543,
          0.5871282477021521,
          -0.012399467610377296,
          1,
          -0.005425656486989066,
          -0.014927360048173393,
          -0.01210175761140731,
          0.7279999999999994,
          -0.01278998101796245,
          -0.013779395360329166,
          0.9245215481844968,
          -0.014927360048173393,
          0.05575728827099761,
          -0.014044764969227543,
          0.30765755965545194,
          0.026980101474850256,
          -0.013779395360329166,
          -0.012939243305096448,
          0.02267895992971456,
          -0.019262801074326315,
          1,
          -0.01278998101796245,
          -0.013779395360329166,
          0.09536855120290745,
          -0.019615265924158135,
          1,
          -0.013779395360329166,
          0.04308316044234561,
          -0.01881761040397294,
          -0.014044764969227543,
          -0.013252748605023455,
          -0.01341034978086207,
          -0.014044764969227543,
          0.8626050981553014,
          -0.013929606817102053,
          -0.019615265924158135,
          -0.017600000000000015,
          -0.014654600720209285,
          -0.019628372742105906,
          -0.019183182071752534,
          -0.01940819536142334,
          -0.013506636032365063,
          -0.01586423342892889,
          0.11304617949270415,
          -0.014927360048173393,
          -0.014927360048173393,
          1,
          0.002232875622326271,
          -0.014927360048173393,
          -0.016914521667005314,
          -0.014927360048173393,
          -0.014044764969227543,
          -0.014654600720209285,
          0.5838690362355237,
          -0.013664237208203676,
          -0.020000000000000014,
          0.026510773326476597,
          -0.014812201896047901,
          -0.014812201896047901,
          -0.013664237208203676,
          -0.020000000000000014,
          -0.014702771435854866,
          -0.014812201896047901,
          -0.013664237208203676,
          -0.01940819536142334,
          -0.014654600720209285,
          -0.020000000000000014,
          -0.019628372742105903,
          -0.020000000000000014,
          -0.019183182071752534,
          0.018042195162532026,
          -0.013664237208203676,
          0.09348663387620412,
          -0.012939243305096448,
          -0.014927360048173393,
          0.08250157328616323,
          -0.05588114061183927,
          -0.018725741253114582,
          -0.014044764969227543,
          -0.01278998101796245,
          -0.16136895650237634,
          -0.01278998101796245,
          -0.012939243305096448,
          -0.020000000000000014,
          -0.013779395360329166,
          -0.01119029417934821,
          -0.01443001210789076,
          -0.019262801074326315,
          0.34196410248282627,
          -0.01962837274210591,
          0.14063356692767928,
          -0.01940819536142334,
          -0.019628372742105903,
          0.018042195162532026,
          -0.016642049795267344,
          -0.058845506845633805,
          0.01197784252843663,
          -0.019183182071752534,
          -0.0191809893651303,
          -0.01352550793298756,
          -0.014927360048173393,
          -0.019628372742105906,
          -0.020000000000000014,
          -0.020000000000000014,
          -0.020000000000000014,
          -0.014812201896047901,
          0.04146198191048352,
          -0.01119029417934821,
          0.125502860246435,
          -0.013054401457221936,
          0.125502860246435,
          1,
          -0.01119029417934821,
          -0.014927360048173393,
          -0.014044764969227543,
          -0.0288357985823838,
          -0.013779395360329166,
          0.02630880885241417,
          -0.014927360048173393,
          -0.014044764969227543,
          -0.013506636032365063,
          0.11799102843789915,
          0.5555722499241987,
          -0.01341034978086207,
          0.02494902217440285,
          -0.013929606817102053,
          -0.020000000000000014,
          -0.014927360048173393,
          -0.029998238851931605,
          -0.014654600720209285,
          -0.01627647812748775,
          -0.014812201896047901,
          -1.0460000000000023,
          1,
          -0.011917555728399056,
          -0.013929606817102053,
          0.13382471428571427,
          -0.013506636032365063,
          -0.01119029417934821,
          0.10281350160511056,
          0.08250157328616323,
          -0.012939243305096448,
          1,
          -0.01962837274210591,
          -0.01586423342892889,
          -0.014044764969227543,
          -0.029998238851931605,
          -1.0460000000000023,
          -0.19820889994350882,
          -0.013506636032365063,
          -0.01586423342892889,
          -0.014702771435854866,
          -0.013779395360329166,
          0.026980101474850256,
          -0.018320000000000017,
          -0.012939243305096448,
          -0.012939243305096448,
          1,
          -0.013929606817102053,
          -0.014927360048173393,
          -0.014654600720209285,
          -0.020000000000000014,
          -0.019628372742105906,
          -0.01586423342892889,
          -0.027608372737148404,
          -0.018334871687664532,
          0.0027749263580498155,
          0.08932673928831235,
          -0.014654600720209285,
          0.0949624205574567,
          -0.019328143429641464,
          -0.013664237208203676,
          -0.013779395360329166,
          0.02494902217440285,
          -0.0295850844895155,
          -0.014927360048173393,
          0.3681889735517675,
          -0.0054733466298004805,
          -0.014927360048173393,
          -0.014654600720209285,
          -0.019628372742105903,
          -0.014654600720209285,
          1,
          1,
          1,
          -0.029998238851931605,
          -0.012611256351944055,
          -0.014044764969227543,
          0.05575728827099761,
          1,
          0.5223309333757977,
          0.7622006227681463,
          -0.018805419324250255,
          -0.014654600720209285,
          0.8844690319566264,
          -0.01443001210789076,
          0.01854786672224267,
          -0.019250609994603627,
          0.9827472077818135,
          1,
          -0.014044764969227543,
          -0.01962837274210591,
          -0.019262801074326315,
          1,
          -0.014812201896047901,
          -0.012634136721847574,
          -0.014812201896047901,
          -0.014202366145066158,
          0.02494902217440285,
          -0.014927360048173393,
          -0.019262801074326315,
          1,
          -0.014044764969227543,
          0.023297125284374064,
          -0.5028273633762045,
          -0.013054401457221936,
          -0.014654600720209285,
          -0.014812201896047901,
          -0.019628372742105903,
          -0.014812201896047901,
          -0.01278998101796245,
          -0.013664237208203676,
          -0.014044764969227543,
          0.9979600000000001,
          0.6091547619047625,
          -0.014044764969227543,
          -0.019615265924158135,
          -0.014927360048173393,
          -0.019628372742105906,
          -0.01940819536142334,
          1,
          -0.01940819536142334,
          -0.014202366145066158,
          -0.014654600720209285,
          0.0027749263580498155,
          -0.020000000000000014,
          -0.01341034978086207,
          -0.01210175761140731,
          1,
          -0.01586423342892889,
          -0.014927360048173393,
          -0.014654600720209285,
          0.01854786672224267,
          -0.01627647812748775,
          1,
          -0.014044764969227543,
          1,
          -0.013506636032365063,
          0.0027749263580498155,
          -0.15170895650237637,
          0.0027749263580498155,
          0.0027749263580498155,
          0.9119763187247975,
          -0.014654600720209285,
          -0.014044764969227543,
          -0.014044764969227543,
          0.11799102843789915,
          -0.029193411711517493,
          -0.01962837274210591,
          0.0949624205574567,
          -0.011835165584537328,
          1,
          -0.014654600720209285,
          -0.018725741253114582,
          -0.014812201896047901,
          1,
          0.02102600896525416,
          -0.020000000000000014,
          -0.012939243305096448,
          -0.01586423342892889,
          -0.026986205938430555,
          -0.014202366145066158,
          0.0005212239772379506,
          -0.01940819536142334,
          -0.5124873633762045,
          -0.014654600720209285,
          1,
          -0.014044764969227543,
          -0.014654600720209285,
          -0.011924320938372304,
          0.6123495238095243,
          -0.014044764969227543,
          0.018042195162532026,
          -0.019183182071752534,
          -0.01962837274210591,
          -0.019262801074326315,
          -0.013506636032365063,
          -0.014329729379729268,
          -0.006136394525890898,
          1,
          1,
          -0.014654600720209285,
          0.026980101474850256,
          -0.014927360048173393,
          -0.01586423342892889,
          -0.01210175761140731,
          -0.014654600720209285,
          -0.014927360048173393,
          -0.014044764969227543,
          0.023297125284374064,
          -0.011788617879062819,
          -0.013779395360329166,
          -0.026986205938430555,
          0.0027749263580498155,
          0.02267895992971456,
          -0.014202366145066158,
          -0.014044764969227543,
          -0.014927360048173393,
          -0.020000000000000014,
          0.5794135810354855,
          -0.014654600720209285,
          -0.014927360048173393,
          -0.012905139170087943,
          -0.013779395360329166,
          -0.01119029417934821,
          -0.014654600720209285,
          -0.019262801074326315,
          -0.013506636032365063,
          -0.0038343085370794484,
          -0.018805419324250255,
          1,
          0.009890749586267445,
          -0.020000000000000014,
          -0.011257761608614452,
          -0.019615265924158135,
          0.10895743702196366,
          0.024345958545086095,
          -0.01962837274210591,
          0.026980101474850256,
          -0.013664237208203676,
          0.9245215481844968,
          -0.020000000000000014,
          -0.014044764969227543,
          -0.019250609994603627,
          1,
          0.026506934743799424,
          1,
          -0.013093333333333351,
          1,
          -0.019615265924158135,
          0.9897999999999999,
          -0.029998238851931605,
          -0.014202366145066158,
          -0.01962837274210591,
          0.02651077332647659,
          -0.01917788326031773,
          0.10895743702196366,
          -0.014927360048173393,
          -0.013779395360329166,
          -0.014654600720209285,
          0.002774926358049815,
          -0.01962837274210591,
          -1.0460000000000023,
          0.7590386226762103,
          -0.014927360048173393,
          -0.019628372742105906,
          0.7210081329738448,
          -0.01586423342892889,
          -0.014654600720209285,
          -0.014044764969227543,
          -0.012939243305096448,
          -0.01940819536142334,
          0.026980101474850256,
          0.02267895992971456,
          1,
          -0.019628372742105903,
          0.2712701112447338,
          0.14020726009890466,
          0.0027749263580498155,
          -0.013506636032365063,
          -0.019628372742105906,
          -0.014044764969227543,
          0.11304617949270415,
          -0.019628372742105906,
          0.09086461160861906,
          -0.01509015356877897,
          -0.014602488707693375,
          -0.014202366145066158,
          0.040989142004138016,
          1,
          -0.020000000000000014,
          0.004396658259849064,
          0.9896273061198378,
          -0.011257761608614452,
          -0.019172568312498722,
          0.0043747120900768065,
          1,
          -0.49734632874416973,
          -0.014044764969227543,
          -0.013348450510721867,
          -0.014044764969227543,
          -0.01278998101796245,
          0.026870343655688918,
          0.0027749263580498155,
          -0.014812201896047901,
          0.0027749263580498155,
          0.12840452640800437,
          -0.020000000000000014,
          -0.0069872156041372755,
          0.0027749263580498155,
          -0.014044764969227543,
          0.3931414993583152,
          0.5956911904761906,
          0.00828745397836652,
          0.0043747120900768065,
          0.0027749263580498155,
          -0.01962837274210591,
          -0.17392472045433538,
          -0.019262801074326315,
          -0.014044764969227543,
          -0.018805419324250255,
          -0.014927360048173393,
          -0.011898652069569464,
          -0.014654600720209285,
          -0.014927360048173393,
          -0.013454524019849147,
          -0.01352550793298756,
          0.0026896107625892845,
          -0.014044764969227543,
          -0.014044764969227543,
          -0.013664237208203676,
          -0.012399467610377296,
          0.5947974831550619,
          -0.019628372742105906,
          -0.06572892733339658,
          0.026870343655688918,
          -0.014202366145066158,
          -0.012501657695932547,
          -1.0460000000000023,
          0.9245215481844968,
          0.9434431565060435,
          0.08932673928831235,
          0.002774926358049815,
          0.002774926358049815,
          -0.018805419324250255,
          -0.019615265924158135,
          0.9660285312289152,
          0.8626050981553014,
          -0.019628372742105903,
          0.004396658259849064,
          0.0038805391740499096,
          -0.013054401457221936,
          -0.5124873633762045,
          -0.014812201896047901,
          -0.014927360048173393,
          -0.019628372742105906,
          -0.01940819536142334,
          -0.014812201896047901,
          -0.011601330186128838,
          -0.01119029417934821,
          -0.014202366145066158,
          0.9245215481844968,
          1,
          -0.014927360048173393,
          -0.019628372742105903,
          1,
          -0.761982928571429,
          -0.014812201896047901,
          -0.014654600720209285,
          -0.014654600720209285,
          -0.027493818292863015,
          0.9765309058876316,
          -0.014927360048173393,
          -0.019170075253804764,
          -0.01917788326031773,
          -0.01962837274210591,
          0.7602708021462817,
          -0.013664237208203676,
          0.08932673928831235,
          -0.011835165584537328,
          -0.005425656486989066,
          -0.23807439806081784,
          -0.013779395360329166,
          0.6293955842769986,
          -0.019615265924158135,
          0.004396658259849064,
          -0.014044764969227543,
          -0.01940819536142334,
          -0.013506636032365063,
          0.5125379509196575,
          -0.01210175761140731,
          -0.0038343085370794484,
          -0.014654600720209285,
          -0.014044764969227543,
          1,
          -0.01627647812748775,
          -0.014044764969227543,
          -0.014044764969227543,
          1,
          -0.01443001210789076,
          0.9434431565060435,
          -0.014927360048173393,
          0.9940053188626925,
          0.06479482356938229,
          0.6859601411064143,
          1,
          -0.013506636032365063,
          -0.011771004912835554,
          0.09576181374643435,
          0.5555722499241987,
          -0.013664237208203676,
          0.8511166312480886,
          1,
          -0.011835165584537328,
          0.03616791989822093,
          1,
          0.763074937514958,
          -0.017062815320674232,
          -0.013506636032365063,
          -0.013506636032365063,
          -0.014927360048173393,
          0.02102600896525416,
          0.9434431565060435,
          -0.013779395360329166,
          -0.019262801074326315,
          -0.014927360048173393,
          1,
          -0.016642049795267344,
          -1.0460000000000023,
          0.9897296210297581,
          -0.011835165584537328,
          -0.013929606817102053,
          1,
          -0.014044764969227543,
          0.026870343655688918,
          -1.0460000000000023,
          0.004396658259849064,
          0.35119982751259476,
          -0.013506636032365063,
          -0.014602488707693375,
          0.4749620536432387,
          0.12462813706233188,
          -0.01962837274210591,
          -0.01483619625481862,
          0.09348663387620412,
          -0.6554687180711103,
          1,
          0.03788277740135656,
          -0.029193411711517493,
          0.3350228244854613,
          -0.013779395360329166,
          -0.019615265924158135,
          -0.013779395360329166,
          -0.003532867684829527,
          0.020717799636357087,
          1,
          -0.014812201896047901,
          -0.052708188226574325,
          0.03902368172301041,
          -0.01881761040397294,
          -0.01940819536142334,
          0.024345958545086095,
          -0.014927360048173393,
          0.03356252323040236,
          -0.014927360048173393,
          0.002774926358049815,
          -0.019628372742105903,
          -0.0036904688606681437,
          -0.013779395360329166,
          -0.020000000000000014,
          1,
          -0.014202366145066158,
          -0.014927360048173393,
          -0.014654600720209285,
          -0.014044764969227543,
          1,
          -0.014044764969227543,
          -0.014927360048173393,
          -0.01119029417934821,
          0.9882882585007904,
          -0.014044764969227543,
          0.9245215481844968,
          0.026506934743799428,
          1,
          0.125502860246435,
          -0.019262801074326315,
          -0.014654600720209285,
          0.10895743702196366,
          -0.014812201896047901,
          -0.012896800281383318,
          -0.016642049795267344,
          -0.014044764969227543,
          -0.019628372742105906,
          -0.019615265924158135,
          -0.015829094750512144,
          -0.013506636032365063,
          0.026870343655688918,
          -0.014044764969227543,
          -0.014654600720209285,
          -0.019615265924158135,
          -0.013929606817102053,
          -0.014044764969227543,
          -0.014927360048173393,
          -0.01586423342892889,
          -0.014044764969227543,
          -0.019628372742105906,
          1,
          -0.019262801074326315,
          -0.016642049795267344,
          -0.01586423342892889,
          0.006727843024716481,
          0.9765309058876316,
          -0.014044764969227543,
          -0.014927360048173393,
          -0.019628372742105903,
          -0.014654600720209285,
          -0.019262801074326315,
          0.8733940546711788,
          -1.0460000000000023,
          0.0630400793650794,
          -0.014202366145066158,
          0.39742566602498186,
          1,
          -0.011601330186128838,
          -0.011257761608614452,
          1,
          -0.012381984665708714,
          0.7602708021462817,
          1,
          -0.014044764969227543,
          -0.01278998101796245,
          -0.01834706276738722,
          0.02494902217440285,
          0.07785283983645357,
          -0.013779395360329166,
          -0.014654600720209285,
          0.20289666666666684,
          -0.01119029417934821,
          0.02267895992971456,
          0.7622006227681463,
          -0.014044764969227543,
          -0.019117885043931304,
          -0.014044764969227543,
          -0.019628372742105906,
          -0.01119029417934821,
          -0.020000000000000014,
          -0.016390057039569653,
          -0.014202366145066158,
          -0.018360169585334988,
          1,
          -0.019628372742105903,
          -0.014044764969227543,
          -0.019628372742105903,
          -0.0434495082390075,
          -0.019628372742105903,
          0.089862018411207,
          -0.011533218549160902,
          -0.014812201896047901,
          -0.013506636032365063,
          0.12840452640800437,
          -0.014927360048173393,
          -0.014202366145066158,
          0.5794135810354855,
          -0.014329729379729268,
          -0.013779395360329166,
          -0.01210175761140731,
          -0.019183182071752534,
          -0.014044764969227543,
          1,
          -0.013779395360329166,
          0.026870343655688918,
          -0.014329729379729268,
          -0.013779395360329166,
          -0.012939243305096448,
          -0.020000000000000014,
          0.023297125284374064,
          -0.013506636032365063,
          -0.012904678221151423,
          -0.012038890108871547,
          -0.00316402666080005,
          -0.11963731484552366,
          -0.013779395360329166,
          -0.01962837274210591,
          -0.01962837274210591,
          1,
          -0.01962837274210591,
          -0.019631697550290053,
          -0.014654600720209285,
          -0.01940819536142334,
          -0.012939243305096448,
          -0.013054401457221936,
          -0.029998238851931605,
          -0.01872574125311459,
          -0.02018138733864711,
          -0.020000000000000014,
          0.026506934743799428,
          -0.014812201896047901,
          -0.027139603333075447,
          0.08932673928831235,
          -0.013779395360329166,
          -0.013779395360329166,
          0.0025158121162221366,
          -0.014927360048173393,
          -0.012501657695932547,
          -0.019628372742105906,
          -0.4668241783885707,
          -0.014812201896047901,
          -0.006621550147981855,
          -0.013506636032365063,
          -0.016642049795267344,
          -0.02581152238167761,
          -0.014654600720209285,
          0.011185279732896274,
          0.0043747120900768065,
          0.39742566602498186,
          -0.014654600720209285,
          -0.01917007525380476,
          -0.013506636032365063,
          0.0027749263580498155,
          -0.019262801074326315,
          -0.014044764969227543,
          -0.019628372742105903,
          -0.01119029417934821,
          0.023297125284374064,
          -0.014654600720209285,
          -0.014812201896047901,
          1,
          -0.014044764969227543,
          -0.013252748605023455,
          -0.01962837274210591,
          0.16489000000000018,
          -0.029998238851931605
         ],
         "xaxis": "x",
         "yaxis": "y"
        }
       ],
       "layout": {
        "barmode": "relative",
        "legend": {
         "tracegroupgap": 0
        },
        "template": {
         "data": {
          "bar": [
           {
            "error_x": {
             "color": "rgb(51,51,51)"
            },
            "error_y": {
             "color": "rgb(51,51,51)"
            },
            "marker": {
             "line": {
              "color": "rgb(237,237,237)",
              "width": 0.5
             }
            },
            "type": "bar"
           }
          ],
          "barpolar": [
           {
            "marker": {
             "line": {
              "color": "rgb(237,237,237)",
              "width": 0.5
             }
            },
            "type": "barpolar"
           }
          ],
          "carpet": [
           {
            "aaxis": {
             "endlinecolor": "rgb(51,51,51)",
             "gridcolor": "white",
             "linecolor": "white",
             "minorgridcolor": "white",
             "startlinecolor": "rgb(51,51,51)"
            },
            "baxis": {
             "endlinecolor": "rgb(51,51,51)",
             "gridcolor": "white",
             "linecolor": "white",
             "minorgridcolor": "white",
             "startlinecolor": "rgb(51,51,51)"
            },
            "type": "carpet"
           }
          ],
          "choropleth": [
           {
            "colorbar": {
             "outlinewidth": 0,
             "tickcolor": "rgb(237,237,237)",
             "ticklen": 6,
             "ticks": "inside"
            },
            "type": "choropleth"
           }
          ],
          "contour": [
           {
            "colorbar": {
             "outlinewidth": 0,
             "tickcolor": "rgb(237,237,237)",
             "ticklen": 6,
             "ticks": "inside"
            },
            "colorscale": [
             [
              0,
              "rgb(20,44,66)"
             ],
             [
              1,
              "rgb(90,179,244)"
             ]
            ],
            "type": "contour"
           }
          ],
          "contourcarpet": [
           {
            "colorbar": {
             "outlinewidth": 0,
             "tickcolor": "rgb(237,237,237)",
             "ticklen": 6,
             "ticks": "inside"
            },
            "type": "contourcarpet"
           }
          ],
          "heatmap": [
           {
            "colorbar": {
             "outlinewidth": 0,
             "tickcolor": "rgb(237,237,237)",
             "ticklen": 6,
             "ticks": "inside"
            },
            "colorscale": [
             [
              0,
              "rgb(20,44,66)"
             ],
             [
              1,
              "rgb(90,179,244)"
             ]
            ],
            "type": "heatmap"
           }
          ],
          "heatmapgl": [
           {
            "colorbar": {
             "outlinewidth": 0,
             "tickcolor": "rgb(237,237,237)",
             "ticklen": 6,
             "ticks": "inside"
            },
            "colorscale": [
             [
              0,
              "rgb(20,44,66)"
             ],
             [
              1,
              "rgb(90,179,244)"
             ]
            ],
            "type": "heatmapgl"
           }
          ],
          "histogram": [
           {
            "marker": {
             "colorbar": {
              "outlinewidth": 0,
              "tickcolor": "rgb(237,237,237)",
              "ticklen": 6,
              "ticks": "inside"
             }
            },
            "type": "histogram"
           }
          ],
          "histogram2d": [
           {
            "colorbar": {
             "outlinewidth": 0,
             "tickcolor": "rgb(237,237,237)",
             "ticklen": 6,
             "ticks": "inside"
            },
            "colorscale": [
             [
              0,
              "rgb(20,44,66)"
             ],
             [
              1,
              "rgb(90,179,244)"
             ]
            ],
            "type": "histogram2d"
           }
          ],
          "histogram2dcontour": [
           {
            "colorbar": {
             "outlinewidth": 0,
             "tickcolor": "rgb(237,237,237)",
             "ticklen": 6,
             "ticks": "inside"
            },
            "colorscale": [
             [
              0,
              "rgb(20,44,66)"
             ],
             [
              1,
              "rgb(90,179,244)"
             ]
            ],
            "type": "histogram2dcontour"
           }
          ],
          "mesh3d": [
           {
            "colorbar": {
             "outlinewidth": 0,
             "tickcolor": "rgb(237,237,237)",
             "ticklen": 6,
             "ticks": "inside"
            },
            "type": "mesh3d"
           }
          ],
          "parcoords": [
           {
            "line": {
             "colorbar": {
              "outlinewidth": 0,
              "tickcolor": "rgb(237,237,237)",
              "ticklen": 6,
              "ticks": "inside"
             }
            },
            "type": "parcoords"
           }
          ],
          "pie": [
           {
            "automargin": true,
            "type": "pie"
           }
          ],
          "scatter": [
           {
            "marker": {
             "colorbar": {
              "outlinewidth": 0,
              "tickcolor": "rgb(237,237,237)",
              "ticklen": 6,
              "ticks": "inside"
             }
            },
            "type": "scatter"
           }
          ],
          "scatter3d": [
           {
            "line": {
             "colorbar": {
              "outlinewidth": 0,
              "tickcolor": "rgb(237,237,237)",
              "ticklen": 6,
              "ticks": "inside"
             }
            },
            "marker": {
             "colorbar": {
              "outlinewidth": 0,
              "tickcolor": "rgb(237,237,237)",
              "ticklen": 6,
              "ticks": "inside"
             }
            },
            "type": "scatter3d"
           }
          ],
          "scattercarpet": [
           {
            "marker": {
             "colorbar": {
              "outlinewidth": 0,
              "tickcolor": "rgb(237,237,237)",
              "ticklen": 6,
              "ticks": "inside"
             }
            },
            "type": "scattercarpet"
           }
          ],
          "scattergeo": [
           {
            "marker": {
             "colorbar": {
              "outlinewidth": 0,
              "tickcolor": "rgb(237,237,237)",
              "ticklen": 6,
              "ticks": "inside"
             }
            },
            "type": "scattergeo"
           }
          ],
          "scattergl": [
           {
            "marker": {
             "colorbar": {
              "outlinewidth": 0,
              "tickcolor": "rgb(237,237,237)",
              "ticklen": 6,
              "ticks": "inside"
             }
            },
            "type": "scattergl"
           }
          ],
          "scattermapbox": [
           {
            "marker": {
             "colorbar": {
              "outlinewidth": 0,
              "tickcolor": "rgb(237,237,237)",
              "ticklen": 6,
              "ticks": "inside"
             }
            },
            "type": "scattermapbox"
           }
          ],
          "scatterpolar": [
           {
            "marker": {
             "colorbar": {
              "outlinewidth": 0,
              "tickcolor": "rgb(237,237,237)",
              "ticklen": 6,
              "ticks": "inside"
             }
            },
            "type": "scatterpolar"
           }
          ],
          "scatterpolargl": [
           {
            "marker": {
             "colorbar": {
              "outlinewidth": 0,
              "tickcolor": "rgb(237,237,237)",
              "ticklen": 6,
              "ticks": "inside"
             }
            },
            "type": "scatterpolargl"
           }
          ],
          "scatterternary": [
           {
            "marker": {
             "colorbar": {
              "outlinewidth": 0,
              "tickcolor": "rgb(237,237,237)",
              "ticklen": 6,
              "ticks": "inside"
             }
            },
            "type": "scatterternary"
           }
          ],
          "surface": [
           {
            "colorbar": {
             "outlinewidth": 0,
             "tickcolor": "rgb(237,237,237)",
             "ticklen": 6,
             "ticks": "inside"
            },
            "colorscale": [
             [
              0,
              "rgb(20,44,66)"
             ],
             [
              1,
              "rgb(90,179,244)"
             ]
            ],
            "type": "surface"
           }
          ],
          "table": [
           {
            "cells": {
             "fill": {
              "color": "rgb(237,237,237)"
             },
             "line": {
              "color": "white"
             }
            },
            "header": {
             "fill": {
              "color": "rgb(217,217,217)"
             },
             "line": {
              "color": "white"
             }
            },
            "type": "table"
           }
          ]
         },
         "layout": {
          "annotationdefaults": {
           "arrowhead": 0,
           "arrowwidth": 1
          },
          "autotypenumbers": "strict",
          "coloraxis": {
           "colorbar": {
            "outlinewidth": 0,
            "tickcolor": "rgb(237,237,237)",
            "ticklen": 6,
            "ticks": "inside"
           }
          },
          "colorscale": {
           "sequential": [
            [
             0,
             "rgb(20,44,66)"
            ],
            [
             1,
             "rgb(90,179,244)"
            ]
           ],
           "sequentialminus": [
            [
             0,
             "rgb(20,44,66)"
            ],
            [
             1,
             "rgb(90,179,244)"
            ]
           ]
          },
          "colorway": [
           "#F8766D",
           "#A3A500",
           "#00BF7D",
           "#00B0F6",
           "#E76BF3"
          ],
          "font": {
           "color": "rgb(51,51,51)"
          },
          "geo": {
           "bgcolor": "white",
           "lakecolor": "white",
           "landcolor": "rgb(237,237,237)",
           "showlakes": true,
           "showland": true,
           "subunitcolor": "white"
          },
          "hoverlabel": {
           "align": "left"
          },
          "hovermode": "closest",
          "paper_bgcolor": "white",
          "plot_bgcolor": "rgb(237,237,237)",
          "polar": {
           "angularaxis": {
            "gridcolor": "white",
            "linecolor": "white",
            "showgrid": true,
            "tickcolor": "rgb(51,51,51)",
            "ticks": "outside"
           },
           "bgcolor": "rgb(237,237,237)",
           "radialaxis": {
            "gridcolor": "white",
            "linecolor": "white",
            "showgrid": true,
            "tickcolor": "rgb(51,51,51)",
            "ticks": "outside"
           }
          },
          "scene": {
           "xaxis": {
            "backgroundcolor": "rgb(237,237,237)",
            "gridcolor": "white",
            "gridwidth": 2,
            "linecolor": "white",
            "showbackground": true,
            "showgrid": true,
            "tickcolor": "rgb(51,51,51)",
            "ticks": "outside",
            "zerolinecolor": "white"
           },
           "yaxis": {
            "backgroundcolor": "rgb(237,237,237)",
            "gridcolor": "white",
            "gridwidth": 2,
            "linecolor": "white",
            "showbackground": true,
            "showgrid": true,
            "tickcolor": "rgb(51,51,51)",
            "ticks": "outside",
            "zerolinecolor": "white"
           },
           "zaxis": {
            "backgroundcolor": "rgb(237,237,237)",
            "gridcolor": "white",
            "gridwidth": 2,
            "linecolor": "white",
            "showbackground": true,
            "showgrid": true,
            "tickcolor": "rgb(51,51,51)",
            "ticks": "outside",
            "zerolinecolor": "white"
           }
          },
          "shapedefaults": {
           "fillcolor": "black",
           "line": {
            "width": 0
           },
           "opacity": 0.3
          },
          "ternary": {
           "aaxis": {
            "gridcolor": "white",
            "linecolor": "white",
            "showgrid": true,
            "tickcolor": "rgb(51,51,51)",
            "ticks": "outside"
           },
           "baxis": {
            "gridcolor": "white",
            "linecolor": "white",
            "showgrid": true,
            "tickcolor": "rgb(51,51,51)",
            "ticks": "outside"
           },
           "bgcolor": "rgb(237,237,237)",
           "caxis": {
            "gridcolor": "white",
            "linecolor": "white",
            "showgrid": true,
            "tickcolor": "rgb(51,51,51)",
            "ticks": "outside"
           }
          },
          "xaxis": {
           "automargin": true,
           "gridcolor": "white",
           "linecolor": "white",
           "showgrid": true,
           "tickcolor": "rgb(51,51,51)",
           "ticks": "outside",
           "title": {
            "standoff": 15
           },
           "zerolinecolor": "white"
          },
          "yaxis": {
           "automargin": true,
           "gridcolor": "white",
           "linecolor": "white",
           "showgrid": true,
           "tickcolor": "rgb(51,51,51)",
           "ticks": "outside",
           "title": {
            "standoff": 15
           },
           "zerolinecolor": "white"
          }
         }
        },
        "title": {
         "text": "Test Predicted Emotion Range"
        },
        "xaxis": {
         "anchor": "y",
         "domain": [
          0,
          1
         ],
         "title": {
          "text": "Predicted Emotion Strength"
         }
        },
        "yaxis": {
         "anchor": "x",
         "domain": [
          0,
          1
         ],
         "title": {
          "text": "count"
         }
        }
       }
      }
     },
     "metadata": {}
    }
   ],
   "source": [
    "y_hat = regr.predict(X_test)\n",
    "fig = px.histogram(x=y_hat,\n",
    "                   title='Test Predicted Emotion Range',\n",
    "                   labels={'x': 'Predicted Emotion Strength'},\n",
    "                   template='ggplot2')\n",
    "fig.show()"
   ]
  },
  {
   "source": [
    "## Emotion RPM versus Neutral RPM"
   ],
   "cell_type": "markdown",
   "metadata": {}
  },
  {
   "cell_type": "code",
   "execution_count": 22,
   "metadata": {},
   "outputs": [
    {
     "output_type": "stream",
     "name": "stderr",
     "text": [
      "<ipython-input-22-9a9f041dab6e>:19: UserWarning:\n\nMatplotlib is currently using module://ipykernel.pylab.backend_inline, which is a non-GUI backend, so cannot show the figure.\n\n"
     ]
    },
    {
     "output_type": "display_data",
     "data": {
      "text/plain": "<Figure size 432x288 with 4 Axes>",
      "image/svg+xml": "<?xml version=\"1.0\" encoding=\"utf-8\" standalone=\"no\"?>\n<!DOCTYPE svg PUBLIC \"-//W3C//DTD SVG 1.1//EN\"\n  \"http://www.w3.org/Graphics/SVG/1.1/DTD/svg11.dtd\">\n<svg height=\"273.755125pt\" version=\"1.1\" viewBox=\"0 0 417.965203 273.755125\" width=\"417.965203pt\" xmlns=\"http://www.w3.org/2000/svg\" xmlns:xlink=\"http://www.w3.org/1999/xlink\">\n <metadata>\n  <rdf:RDF xmlns:cc=\"http://creativecommons.org/ns#\" xmlns:dc=\"http://purl.org/dc/elements/1.1/\" xmlns:rdf=\"http://www.w3.org/1999/02/22-rdf-syntax-ns#\">\n   <cc:Work>\n    <dc:type rdf:resource=\"http://purl.org/dc/dcmitype/StillImage\"/>\n    <dc:date>2021-05-12T15:01:07.220569</dc:date>\n    <dc:format>image/svg+xml</dc:format>\n    <dc:creator>\n     <cc:Agent>\n      <dc:title>Matplotlib v3.4.2, https://matplotlib.org/</dc:title>\n     </cc:Agent>\n    </dc:creator>\n   </cc:Work>\n  </rdf:RDF>\n </metadata>\n <defs>\n  <style type=\"text/css\">*{stroke-linecap:butt;stroke-linejoin:round;}</style>\n </defs>\n <g id=\"figure_1\">\n  <g id=\"patch_1\">\n   <path d=\"M 0 273.755125 \nL 417.965203 273.755125 \nL 417.965203 0 \nL 0 0 \nz\n\" style=\"fill:none;\"/>\n  </g>\n  <g id=\"axes_1\">\n   <g id=\"patch_2\">\n    <path d=\"M 39.01375 109.993562 \nL 200.871105 109.993562 \nL 200.871105 25.053562 \nL 39.01375 25.053562 \nz\n\" style=\"fill:#ffffff;\"/>\n   </g>\n   <g id=\"patch_3\">\n    <path clip-path=\"url(#pc6633054f0)\" d=\"M 46.370903 109.993562 \nL 56.88112 109.993562 \nL 56.88112 109.993562 \nL 46.370903 109.993562 \nz\n\" style=\"fill:#1f77b4;opacity:0.5;\"/>\n   </g>\n   <g id=\"patch_4\">\n    <path clip-path=\"url(#pc6633054f0)\" d=\"M 56.88112 109.993562 \nL 67.391338 109.993562 \nL 67.391338 109.993562 \nL 56.88112 109.993562 \nz\n\" style=\"fill:#1f77b4;opacity:0.5;\"/>\n   </g>\n   <g id=\"patch_5\">\n    <path clip-path=\"url(#pc6633054f0)\" d=\"M 67.391338 109.993562 \nL 77.901556 109.993562 \nL 77.901556 109.066776 \nL 67.391338 109.066776 \nz\n\" style=\"fill:#1f77b4;opacity:0.5;\"/>\n   </g>\n   <g id=\"patch_6\">\n    <path clip-path=\"url(#pc6633054f0)\" d=\"M 77.901556 109.993562 \nL 88.411774 109.993562 \nL 88.411774 103.241259 \nL 77.901556 103.241259 \nz\n\" style=\"fill:#1f77b4;opacity:0.5;\"/>\n   </g>\n   <g id=\"patch_7\">\n    <path clip-path=\"url(#pc6633054f0)\" d=\"M 88.411774 109.993562 \nL 98.921992 109.993562 \nL 98.921992 102.579269 \nL 88.411774 102.579269 \nz\n\" style=\"fill:#1f77b4;opacity:0.5;\"/>\n   </g>\n   <g id=\"patch_8\">\n    <path clip-path=\"url(#pc6633054f0)\" d=\"M 98.921992 109.993562 \nL 109.43221 109.993562 \nL 109.43221 108.537183 \nL 98.921992 108.537183 \nz\n\" style=\"fill:#1f77b4;opacity:0.5;\"/>\n   </g>\n   <g id=\"patch_9\">\n    <path clip-path=\"url(#pc6633054f0)\" d=\"M 109.43221 109.993562 \nL 119.942428 109.993562 \nL 119.942428 102.844065 \nL 109.43221 102.844065 \nz\n\" style=\"fill:#1f77b4;opacity:0.5;\"/>\n   </g>\n   <g id=\"patch_10\">\n    <path clip-path=\"url(#pc6633054f0)\" d=\"M 119.942428 109.993562 \nL 130.452646 109.993562 \nL 130.452646 102.976463 \nL 119.942428 102.976463 \nz\n\" style=\"fill:#1f77b4;opacity:0.5;\"/>\n   </g>\n   <g id=\"patch_11\">\n    <path clip-path=\"url(#pc6633054f0)\" d=\"M 130.452646 109.993562 \nL 140.962863 109.993562 \nL 140.962863 29.098324 \nL 130.452646 29.098324 \nz\n\" style=\"fill:#1f77b4;opacity:0.5;\"/>\n   </g>\n   <g id=\"patch_12\">\n    <path clip-path=\"url(#pc6633054f0)\" d=\"M 140.962863 109.993562 \nL 151.473081 109.993562 \nL 151.473081 40.616959 \nL 140.962863 40.616959 \nz\n\" style=\"fill:#1f77b4;opacity:0.5;\"/>\n   </g>\n   <g id=\"patch_13\">\n    <path clip-path=\"url(#pc6633054f0)\" d=\"M 151.473081 109.993562 \nL 161.983299 109.993562 \nL 161.983299 45.648087 \nL 151.473081 45.648087 \nz\n\" style=\"fill:#1f77b4;opacity:0.5;\"/>\n   </g>\n   <g id=\"patch_14\">\n    <path clip-path=\"url(#pc6633054f0)\" d=\"M 161.983299 109.993562 \nL 172.493517 109.993562 \nL 172.493517 36.645016 \nL 161.983299 36.645016 \nz\n\" style=\"fill:#1f77b4;opacity:0.5;\"/>\n   </g>\n   <g id=\"patch_15\">\n    <path clip-path=\"url(#pc6633054f0)\" d=\"M 172.493517 109.993562 \nL 183.003735 109.993562 \nL 183.003735 86.161905 \nL 172.493517 86.161905 \nz\n\" style=\"fill:#1f77b4;opacity:0.5;\"/>\n   </g>\n   <g id=\"patch_16\">\n    <path clip-path=\"url(#pc6633054f0)\" d=\"M 183.003735 109.993562 \nL 193.513953 109.993562 \nL 193.513953 61.800655 \nL 183.003735 61.800655 \nz\n\" style=\"fill:#1f77b4;opacity:0.5;\"/>\n   </g>\n   <g id=\"patch_17\">\n    <path clip-path=\"url(#pc6633054f0)\" d=\"M 46.370903 109.993562 \nL 56.88112 109.993562 \nL 56.88112 109.993562 \nL 46.370903 109.993562 \nz\n\" style=\"fill:#ff7f0e;opacity:0.5;\"/>\n   </g>\n   <g id=\"patch_18\">\n    <path clip-path=\"url(#pc6633054f0)\" d=\"M 56.88112 109.993562 \nL 67.391338 109.993562 \nL 67.391338 109.993562 \nL 56.88112 109.993562 \nz\n\" style=\"fill:#ff7f0e;opacity:0.5;\"/>\n   </g>\n   <g id=\"patch_19\">\n    <path clip-path=\"url(#pc6633054f0)\" d=\"M 67.391338 109.993562 \nL 77.901556 109.993562 \nL 77.901556 108.669582 \nL 67.391338 108.669582 \nz\n\" style=\"fill:#ff7f0e;opacity:0.5;\"/>\n   </g>\n   <g id=\"patch_20\">\n    <path clip-path=\"url(#pc6633054f0)\" d=\"M 77.901556 109.993562 \nL 88.411774 109.993562 \nL 88.411774 52.267992 \nL 77.901556 52.267992 \nz\n\" style=\"fill:#ff7f0e;opacity:0.5;\"/>\n   </g>\n   <g id=\"patch_21\">\n    <path clip-path=\"url(#pc6633054f0)\" d=\"M 88.411774 109.993562 \nL 98.921992 109.993562 \nL 98.921992 80.733583 \nL 88.411774 80.733583 \nz\n\" style=\"fill:#ff7f0e;opacity:0.5;\"/>\n   </g>\n   <g id=\"patch_22\">\n    <path clip-path=\"url(#pc6633054f0)\" d=\"M 98.921992 109.993562 \nL 109.43221 109.993562 \nL 109.43221 55.18075 \nL 98.921992 55.18075 \nz\n\" style=\"fill:#ff7f0e;opacity:0.5;\"/>\n   </g>\n   <g id=\"patch_23\">\n    <path clip-path=\"url(#pc6633054f0)\" d=\"M 109.43221 109.993562 \nL 119.942428 109.993562 \nL 119.942428 89.869052 \nL 109.43221 89.869052 \nz\n\" style=\"fill:#ff7f0e;opacity:0.5;\"/>\n   </g>\n   <g id=\"patch_24\">\n    <path clip-path=\"url(#pc6633054f0)\" d=\"M 119.942428 109.993562 \nL 130.452646 109.993562 \nL 130.452646 90.66344 \nL 119.942428 90.66344 \nz\n\" style=\"fill:#ff7f0e;opacity:0.5;\"/>\n   </g>\n   <g id=\"patch_25\">\n    <path clip-path=\"url(#pc6633054f0)\" d=\"M 130.452646 109.993562 \nL 140.962863 109.993562 \nL 140.962863 104.962435 \nL 130.452646 104.962435 \nz\n\" style=\"fill:#ff7f0e;opacity:0.5;\"/>\n   </g>\n   <g id=\"patch_26\">\n    <path clip-path=\"url(#pc6633054f0)\" d=\"M 140.962863 109.993562 \nL 151.473081 109.993562 \nL 151.473081 42.735329 \nL 140.962863 42.735329 \nz\n\" style=\"fill:#ff7f0e;opacity:0.5;\"/>\n   </g>\n   <g id=\"patch_27\">\n    <path clip-path=\"url(#pc6633054f0)\" d=\"M 151.473081 109.993562 \nL 161.983299 109.993562 \nL 161.983299 91.457829 \nL 151.473081 91.457829 \nz\n\" style=\"fill:#ff7f0e;opacity:0.5;\"/>\n   </g>\n   <g id=\"patch_28\">\n    <path clip-path=\"url(#pc6633054f0)\" d=\"M 161.983299 109.993562 \nL 172.493517 109.993562 \nL 172.493517 73.716484 \nL 161.983299 73.716484 \nz\n\" style=\"fill:#ff7f0e;opacity:0.5;\"/>\n   </g>\n   <g id=\"patch_29\">\n    <path clip-path=\"url(#pc6633054f0)\" d=\"M 172.493517 109.993562 \nL 183.003735 109.993562 \nL 183.003735 79.806796 \nL 172.493517 79.806796 \nz\n\" style=\"fill:#ff7f0e;opacity:0.5;\"/>\n   </g>\n   <g id=\"patch_30\">\n    <path clip-path=\"url(#pc6633054f0)\" d=\"M 183.003735 109.993562 \nL 193.513953 109.993562 \nL 193.513953 62.727441 \nL 183.003735 62.727441 \nz\n\" style=\"fill:#ff7f0e;opacity:0.5;\"/>\n   </g>\n   <g id=\"matplotlib.axis_1\">\n    <g id=\"xtick_1\">\n     <g id=\"line2d_1\">\n      <defs>\n       <path d=\"M 0 0 \nL 0 3.5 \n\" id=\"m675ae7e397\" style=\"stroke:#000000;stroke-width:0.8;\"/>\n      </defs>\n      <g>\n       <use style=\"stroke:#000000;stroke-width:0.8;\" x=\"46.370903\" xlink:href=\"#m675ae7e397\" y=\"109.993562\"/>\n      </g>\n     </g>\n     <g id=\"text_1\">\n      <!-- 5 -->\n      <g transform=\"translate(42.235278 126.871531)scale(0.13 -0.13)\">\n       <defs>\n        <path d=\"M 691 4666 \nL 3169 4666 \nL 3169 4134 \nL 1269 4134 \nL 1269 2991 \nQ 1406 3038 1543 3061 \nQ 1681 3084 1819 3084 \nQ 2600 3084 3056 2656 \nQ 3513 2228 3513 1497 \nQ 3513 744 3044 326 \nQ 2575 -91 1722 -91 \nQ 1428 -91 1123 -41 \nQ 819 9 494 109 \nL 494 744 \nQ 775 591 1075 516 \nQ 1375 441 1709 441 \nQ 2250 441 2565 725 \nQ 2881 1009 2881 1497 \nQ 2881 1984 2565 2268 \nQ 2250 2553 1709 2553 \nQ 1456 2553 1204 2497 \nQ 953 2441 691 2322 \nL 691 4666 \nz\n\" id=\"DejaVuSans-35\" transform=\"scale(0.015625)\"/>\n       </defs>\n       <use xlink:href=\"#DejaVuSans-35\"/>\n      </g>\n     </g>\n    </g>\n    <g id=\"xtick_2\">\n     <g id=\"line2d_2\">\n      <g>\n       <use style=\"stroke:#000000;stroke-width:0.8;\" x=\"95.418586\" xlink:href=\"#m675ae7e397\" y=\"109.993562\"/>\n      </g>\n     </g>\n     <g id=\"text_2\">\n      <!-- 10 -->\n      <g transform=\"translate(87.147336 126.871531)scale(0.13 -0.13)\">\n       <defs>\n        <path d=\"M 794 531 \nL 1825 531 \nL 1825 4091 \nL 703 3866 \nL 703 4441 \nL 1819 4666 \nL 2450 4666 \nL 2450 531 \nL 3481 531 \nL 3481 0 \nL 794 0 \nL 794 531 \nz\n\" id=\"DejaVuSans-31\" transform=\"scale(0.015625)\"/>\n        <path d=\"M 2034 4250 \nQ 1547 4250 1301 3770 \nQ 1056 3291 1056 2328 \nQ 1056 1369 1301 889 \nQ 1547 409 2034 409 \nQ 2525 409 2770 889 \nQ 3016 1369 3016 2328 \nQ 3016 3291 2770 3770 \nQ 2525 4250 2034 4250 \nz\nM 2034 4750 \nQ 2819 4750 3233 4129 \nQ 3647 3509 3647 2328 \nQ 3647 1150 3233 529 \nQ 2819 -91 2034 -91 \nQ 1250 -91 836 529 \nQ 422 1150 422 2328 \nQ 422 3509 836 4129 \nQ 1250 4750 2034 4750 \nz\n\" id=\"DejaVuSans-30\" transform=\"scale(0.015625)\"/>\n       </defs>\n       <use xlink:href=\"#DejaVuSans-31\"/>\n       <use x=\"63.623047\" xlink:href=\"#DejaVuSans-30\"/>\n      </g>\n     </g>\n    </g>\n    <g id=\"xtick_3\">\n     <g id=\"line2d_3\">\n      <g>\n       <use style=\"stroke:#000000;stroke-width:0.8;\" x=\"144.466269\" xlink:href=\"#m675ae7e397\" y=\"109.993562\"/>\n      </g>\n     </g>\n     <g id=\"text_3\">\n      <!-- 15 -->\n      <g transform=\"translate(136.195019 126.871531)scale(0.13 -0.13)\">\n       <use xlink:href=\"#DejaVuSans-31\"/>\n       <use x=\"63.623047\" xlink:href=\"#DejaVuSans-35\"/>\n      </g>\n     </g>\n    </g>\n    <g id=\"xtick_4\">\n     <g id=\"line2d_4\">\n      <g>\n       <use style=\"stroke:#000000;stroke-width:0.8;\" x=\"193.513953\" xlink:href=\"#m675ae7e397\" y=\"109.993562\"/>\n      </g>\n     </g>\n     <g id=\"text_4\">\n      <!-- 20 -->\n      <g transform=\"translate(185.242703 126.871531)scale(0.13 -0.13)\">\n       <defs>\n        <path d=\"M 1228 531 \nL 3431 531 \nL 3431 0 \nL 469 0 \nL 469 531 \nQ 828 903 1448 1529 \nQ 2069 2156 2228 2338 \nQ 2531 2678 2651 2914 \nQ 2772 3150 2772 3378 \nQ 2772 3750 2511 3984 \nQ 2250 4219 1831 4219 \nQ 1534 4219 1204 4116 \nQ 875 4013 500 3803 \nL 500 4441 \nQ 881 4594 1212 4672 \nQ 1544 4750 1819 4750 \nQ 2544 4750 2975 4387 \nQ 3406 4025 3406 3419 \nQ 3406 3131 3298 2873 \nQ 3191 2616 2906 2266 \nQ 2828 2175 2409 1742 \nQ 1991 1309 1228 531 \nz\n\" id=\"DejaVuSans-32\" transform=\"scale(0.015625)\"/>\n       </defs>\n       <use xlink:href=\"#DejaVuSans-32\"/>\n       <use x=\"63.623047\" xlink:href=\"#DejaVuSans-30\"/>\n      </g>\n     </g>\n    </g>\n   </g>\n   <g id=\"matplotlib.axis_2\">\n    <g id=\"ytick_1\">\n     <g id=\"line2d_5\">\n      <defs>\n       <path d=\"M 0 0 \nL -3.5 0 \n\" id=\"m40478fda2f\" style=\"stroke:#000000;stroke-width:0.8;\"/>\n      </defs>\n      <g>\n       <use style=\"stroke:#000000;stroke-width:0.8;\" x=\"39.01375\" xlink:href=\"#m40478fda2f\" y=\"109.993562\"/>\n      </g>\n     </g>\n     <g id=\"text_5\">\n      <!-- 0 -->\n      <g transform=\"translate(23.7425 114.932547)scale(0.13 -0.13)\">\n       <use xlink:href=\"#DejaVuSans-30\"/>\n      </g>\n     </g>\n    </g>\n    <g id=\"ytick_2\">\n     <g id=\"line2d_6\">\n      <g>\n       <use style=\"stroke:#000000;stroke-width:0.8;\" x=\"39.01375\" xlink:href=\"#m40478fda2f\" y=\"76.894038\"/>\n      </g>\n     </g>\n     <g id=\"text_6\">\n      <!-- 250 -->\n      <g transform=\"translate(7.2 81.833022)scale(0.13 -0.13)\">\n       <use xlink:href=\"#DejaVuSans-32\"/>\n       <use x=\"63.623047\" xlink:href=\"#DejaVuSans-35\"/>\n       <use x=\"127.246094\" xlink:href=\"#DejaVuSans-30\"/>\n      </g>\n     </g>\n    </g>\n    <g id=\"ytick_3\">\n     <g id=\"line2d_7\">\n      <g>\n       <use style=\"stroke:#000000;stroke-width:0.8;\" x=\"39.01375\" xlink:href=\"#m40478fda2f\" y=\"43.794513\"/>\n      </g>\n     </g>\n     <g id=\"text_7\">\n      <!-- 500 -->\n      <g transform=\"translate(7.2 48.733498)scale(0.13 -0.13)\">\n       <use xlink:href=\"#DejaVuSans-35\"/>\n       <use x=\"63.623047\" xlink:href=\"#DejaVuSans-30\"/>\n       <use x=\"127.246094\" xlink:href=\"#DejaVuSans-30\"/>\n      </g>\n     </g>\n    </g>\n   </g>\n   <g id=\"patch_31\">\n    <path d=\"M 39.01375 109.993562 \nL 39.01375 25.053562 \n\" style=\"fill:none;stroke:#000000;stroke-linecap:square;stroke-linejoin:miter;stroke-width:0.8;\"/>\n   </g>\n   <g id=\"patch_32\">\n    <path d=\"M 200.871105 109.993562 \nL 200.871105 25.053562 \n\" style=\"fill:none;stroke:#000000;stroke-linecap:square;stroke-linejoin:miter;stroke-width:0.8;\"/>\n   </g>\n   <g id=\"patch_33\">\n    <path d=\"M 39.01375 109.993562 \nL 200.871105 109.993562 \n\" style=\"fill:none;stroke:#000000;stroke-linecap:square;stroke-linejoin:miter;stroke-width:0.8;\"/>\n   </g>\n   <g id=\"patch_34\">\n    <path d=\"M 39.01375 25.053562 \nL 200.871105 25.053562 \n\" style=\"fill:none;stroke:#000000;stroke-linecap:square;stroke-linejoin:miter;stroke-width:0.8;\"/>\n   </g>\n   <g id=\"text_8\">\n    <!-- Happy vs. Neutral -->\n    <g transform=\"translate(49.870396 19.053562)scale(0.156 -0.156)\">\n     <defs>\n      <path d=\"M 628 4666 \nL 1259 4666 \nL 1259 2753 \nL 3553 2753 \nL 3553 4666 \nL 4184 4666 \nL 4184 0 \nL 3553 0 \nL 3553 2222 \nL 1259 2222 \nL 1259 0 \nL 628 0 \nL 628 4666 \nz\n\" id=\"DejaVuSans-48\" transform=\"scale(0.015625)\"/>\n      <path d=\"M 2194 1759 \nQ 1497 1759 1228 1600 \nQ 959 1441 959 1056 \nQ 959 750 1161 570 \nQ 1363 391 1709 391 \nQ 2188 391 2477 730 \nQ 2766 1069 2766 1631 \nL 2766 1759 \nL 2194 1759 \nz\nM 3341 1997 \nL 3341 0 \nL 2766 0 \nL 2766 531 \nQ 2569 213 2275 61 \nQ 1981 -91 1556 -91 \nQ 1019 -91 701 211 \nQ 384 513 384 1019 \nQ 384 1609 779 1909 \nQ 1175 2209 1959 2209 \nL 2766 2209 \nL 2766 2266 \nQ 2766 2663 2505 2880 \nQ 2244 3097 1772 3097 \nQ 1472 3097 1187 3025 \nQ 903 2953 641 2809 \nL 641 3341 \nQ 956 3463 1253 3523 \nQ 1550 3584 1831 3584 \nQ 2591 3584 2966 3190 \nQ 3341 2797 3341 1997 \nz\n\" id=\"DejaVuSans-61\" transform=\"scale(0.015625)\"/>\n      <path d=\"M 1159 525 \nL 1159 -1331 \nL 581 -1331 \nL 581 3500 \nL 1159 3500 \nL 1159 2969 \nQ 1341 3281 1617 3432 \nQ 1894 3584 2278 3584 \nQ 2916 3584 3314 3078 \nQ 3713 2572 3713 1747 \nQ 3713 922 3314 415 \nQ 2916 -91 2278 -91 \nQ 1894 -91 1617 61 \nQ 1341 213 1159 525 \nz\nM 3116 1747 \nQ 3116 2381 2855 2742 \nQ 2594 3103 2138 3103 \nQ 1681 3103 1420 2742 \nQ 1159 2381 1159 1747 \nQ 1159 1113 1420 752 \nQ 1681 391 2138 391 \nQ 2594 391 2855 752 \nQ 3116 1113 3116 1747 \nz\n\" id=\"DejaVuSans-70\" transform=\"scale(0.015625)\"/>\n      <path d=\"M 2059 -325 \nQ 1816 -950 1584 -1140 \nQ 1353 -1331 966 -1331 \nL 506 -1331 \nL 506 -850 \nL 844 -850 \nQ 1081 -850 1212 -737 \nQ 1344 -625 1503 -206 \nL 1606 56 \nL 191 3500 \nL 800 3500 \nL 1894 763 \nL 2988 3500 \nL 3597 3500 \nL 2059 -325 \nz\n\" id=\"DejaVuSans-79\" transform=\"scale(0.015625)\"/>\n      <path id=\"DejaVuSans-20\" transform=\"scale(0.015625)\"/>\n      <path d=\"M 191 3500 \nL 800 3500 \nL 1894 563 \nL 2988 3500 \nL 3597 3500 \nL 2284 0 \nL 1503 0 \nL 191 3500 \nz\n\" id=\"DejaVuSans-76\" transform=\"scale(0.015625)\"/>\n      <path d=\"M 2834 3397 \nL 2834 2853 \nQ 2591 2978 2328 3040 \nQ 2066 3103 1784 3103 \nQ 1356 3103 1142 2972 \nQ 928 2841 928 2578 \nQ 928 2378 1081 2264 \nQ 1234 2150 1697 2047 \nL 1894 2003 \nQ 2506 1872 2764 1633 \nQ 3022 1394 3022 966 \nQ 3022 478 2636 193 \nQ 2250 -91 1575 -91 \nQ 1294 -91 989 -36 \nQ 684 19 347 128 \nL 347 722 \nQ 666 556 975 473 \nQ 1284 391 1588 391 \nQ 1994 391 2212 530 \nQ 2431 669 2431 922 \nQ 2431 1156 2273 1281 \nQ 2116 1406 1581 1522 \nL 1381 1569 \nQ 847 1681 609 1914 \nQ 372 2147 372 2553 \nQ 372 3047 722 3315 \nQ 1072 3584 1716 3584 \nQ 2034 3584 2315 3537 \nQ 2597 3491 2834 3397 \nz\n\" id=\"DejaVuSans-73\" transform=\"scale(0.015625)\"/>\n      <path d=\"M 684 794 \nL 1344 794 \nL 1344 0 \nL 684 0 \nL 684 794 \nz\n\" id=\"DejaVuSans-2e\" transform=\"scale(0.015625)\"/>\n      <path d=\"M 628 4666 \nL 1478 4666 \nL 3547 763 \nL 3547 4666 \nL 4159 4666 \nL 4159 0 \nL 3309 0 \nL 1241 3903 \nL 1241 0 \nL 628 0 \nL 628 4666 \nz\n\" id=\"DejaVuSans-4e\" transform=\"scale(0.015625)\"/>\n      <path d=\"M 3597 1894 \nL 3597 1613 \nL 953 1613 \nQ 991 1019 1311 708 \nQ 1631 397 2203 397 \nQ 2534 397 2845 478 \nQ 3156 559 3463 722 \nL 3463 178 \nQ 3153 47 2828 -22 \nQ 2503 -91 2169 -91 \nQ 1331 -91 842 396 \nQ 353 884 353 1716 \nQ 353 2575 817 3079 \nQ 1281 3584 2069 3584 \nQ 2775 3584 3186 3129 \nQ 3597 2675 3597 1894 \nz\nM 3022 2063 \nQ 3016 2534 2758 2815 \nQ 2500 3097 2075 3097 \nQ 1594 3097 1305 2825 \nQ 1016 2553 972 2059 \nL 3022 2063 \nz\n\" id=\"DejaVuSans-65\" transform=\"scale(0.015625)\"/>\n      <path d=\"M 544 1381 \nL 544 3500 \nL 1119 3500 \nL 1119 1403 \nQ 1119 906 1312 657 \nQ 1506 409 1894 409 \nQ 2359 409 2629 706 \nQ 2900 1003 2900 1516 \nL 2900 3500 \nL 3475 3500 \nL 3475 0 \nL 2900 0 \nL 2900 538 \nQ 2691 219 2414 64 \nQ 2138 -91 1772 -91 \nQ 1169 -91 856 284 \nQ 544 659 544 1381 \nz\nM 1991 3584 \nL 1991 3584 \nz\n\" id=\"DejaVuSans-75\" transform=\"scale(0.015625)\"/>\n      <path d=\"M 1172 4494 \nL 1172 3500 \nL 2356 3500 \nL 2356 3053 \nL 1172 3053 \nL 1172 1153 \nQ 1172 725 1289 603 \nQ 1406 481 1766 481 \nL 2356 481 \nL 2356 0 \nL 1766 0 \nQ 1100 0 847 248 \nQ 594 497 594 1153 \nL 594 3053 \nL 172 3053 \nL 172 3500 \nL 594 3500 \nL 594 4494 \nL 1172 4494 \nz\n\" id=\"DejaVuSans-74\" transform=\"scale(0.015625)\"/>\n      <path d=\"M 2631 2963 \nQ 2534 3019 2420 3045 \nQ 2306 3072 2169 3072 \nQ 1681 3072 1420 2755 \nQ 1159 2438 1159 1844 \nL 1159 0 \nL 581 0 \nL 581 3500 \nL 1159 3500 \nL 1159 2956 \nQ 1341 3275 1631 3429 \nQ 1922 3584 2338 3584 \nQ 2397 3584 2469 3576 \nQ 2541 3569 2628 3553 \nL 2631 2963 \nz\n\" id=\"DejaVuSans-72\" transform=\"scale(0.015625)\"/>\n      <path d=\"M 603 4863 \nL 1178 4863 \nL 1178 0 \nL 603 0 \nL 603 4863 \nz\n\" id=\"DejaVuSans-6c\" transform=\"scale(0.015625)\"/>\n     </defs>\n     <use xlink:href=\"#DejaVuSans-48\"/>\n     <use x=\"75.195312\" xlink:href=\"#DejaVuSans-61\"/>\n     <use x=\"136.474609\" xlink:href=\"#DejaVuSans-70\"/>\n     <use x=\"199.951172\" xlink:href=\"#DejaVuSans-70\"/>\n     <use x=\"263.427734\" xlink:href=\"#DejaVuSans-79\"/>\n     <use x=\"322.607422\" xlink:href=\"#DejaVuSans-20\"/>\n     <use x=\"354.394531\" xlink:href=\"#DejaVuSans-76\"/>\n     <use x=\"413.574219\" xlink:href=\"#DejaVuSans-73\"/>\n     <use x=\"465.673828\" xlink:href=\"#DejaVuSans-2e\"/>\n     <use x=\"497.460938\" xlink:href=\"#DejaVuSans-20\"/>\n     <use x=\"529.248047\" xlink:href=\"#DejaVuSans-4e\"/>\n     <use x=\"604.052734\" xlink:href=\"#DejaVuSans-65\"/>\n     <use x=\"665.576172\" xlink:href=\"#DejaVuSans-75\"/>\n     <use x=\"728.955078\" xlink:href=\"#DejaVuSans-74\"/>\n     <use x=\"768.164062\" xlink:href=\"#DejaVuSans-72\"/>\n     <use x=\"809.277344\" xlink:href=\"#DejaVuSans-61\"/>\n     <use x=\"870.556641\" xlink:href=\"#DejaVuSans-6c\"/>\n    </g>\n   </g>\n  </g>\n  <g id=\"axes_2\">\n   <g id=\"patch_35\">\n    <path d=\"M 247.99375 109.993562 \nL 409.851105 109.993562 \nL 409.851105 25.053562 \nL 247.99375 25.053562 \nz\n\" style=\"fill:#ffffff;\"/>\n   </g>\n   <g id=\"patch_36\">\n    <path clip-path=\"url(#pe16a6ab64d)\" d=\"M 255.350903 109.993562 \nL 265.86112 109.993562 \nL 265.86112 109.993562 \nL 255.350903 109.993562 \nz\n\" style=\"fill:#1f77b4;opacity:0.5;\"/>\n   </g>\n   <g id=\"patch_37\">\n    <path clip-path=\"url(#pe16a6ab64d)\" d=\"M 265.86112 109.993562 \nL 276.371338 109.993562 \nL 276.371338 109.993562 \nL 265.86112 109.993562 \nz\n\" style=\"fill:#1f77b4;opacity:0.5;\"/>\n   </g>\n   <g id=\"patch_38\">\n    <path clip-path=\"url(#pe16a6ab64d)\" d=\"M 276.371338 109.993562 \nL 286.881556 109.993562 \nL 286.881556 109.066776 \nL 276.371338 109.066776 \nz\n\" style=\"fill:#1f77b4;opacity:0.5;\"/>\n   </g>\n   <g id=\"patch_39\">\n    <path clip-path=\"url(#pe16a6ab64d)\" d=\"M 286.881556 109.993562 \nL 297.391774 109.993562 \nL 297.391774 103.241259 \nL 286.881556 103.241259 \nz\n\" style=\"fill:#1f77b4;opacity:0.5;\"/>\n   </g>\n   <g id=\"patch_40\">\n    <path clip-path=\"url(#pe16a6ab64d)\" d=\"M 297.391774 109.993562 \nL 307.901992 109.993562 \nL 307.901992 102.579269 \nL 297.391774 102.579269 \nz\n\" style=\"fill:#1f77b4;opacity:0.5;\"/>\n   </g>\n   <g id=\"patch_41\">\n    <path clip-path=\"url(#pe16a6ab64d)\" d=\"M 307.901992 109.993562 \nL 318.41221 109.993562 \nL 318.41221 108.537183 \nL 307.901992 108.537183 \nz\n\" style=\"fill:#1f77b4;opacity:0.5;\"/>\n   </g>\n   <g id=\"patch_42\">\n    <path clip-path=\"url(#pe16a6ab64d)\" d=\"M 318.41221 109.993562 \nL 328.922428 109.993562 \nL 328.922428 102.844065 \nL 318.41221 102.844065 \nz\n\" style=\"fill:#1f77b4;opacity:0.5;\"/>\n   </g>\n   <g id=\"patch_43\">\n    <path clip-path=\"url(#pe16a6ab64d)\" d=\"M 328.922428 109.993562 \nL 339.432646 109.993562 \nL 339.432646 102.976463 \nL 328.922428 102.976463 \nz\n\" style=\"fill:#1f77b4;opacity:0.5;\"/>\n   </g>\n   <g id=\"patch_44\">\n    <path clip-path=\"url(#pe16a6ab64d)\" d=\"M 339.432646 109.993562 \nL 349.942863 109.993562 \nL 349.942863 29.098324 \nL 339.432646 29.098324 \nz\n\" style=\"fill:#1f77b4;opacity:0.5;\"/>\n   </g>\n   <g id=\"patch_45\">\n    <path clip-path=\"url(#pe16a6ab64d)\" d=\"M 349.942863 109.993562 \nL 360.453081 109.993562 \nL 360.453081 40.616959 \nL 349.942863 40.616959 \nz\n\" style=\"fill:#1f77b4;opacity:0.5;\"/>\n   </g>\n   <g id=\"patch_46\">\n    <path clip-path=\"url(#pe16a6ab64d)\" d=\"M 360.453081 109.993562 \nL 370.963299 109.993562 \nL 370.963299 45.648087 \nL 360.453081 45.648087 \nz\n\" style=\"fill:#1f77b4;opacity:0.5;\"/>\n   </g>\n   <g id=\"patch_47\">\n    <path clip-path=\"url(#pe16a6ab64d)\" d=\"M 370.963299 109.993562 \nL 381.473517 109.993562 \nL 381.473517 36.645016 \nL 370.963299 36.645016 \nz\n\" style=\"fill:#1f77b4;opacity:0.5;\"/>\n   </g>\n   <g id=\"patch_48\">\n    <path clip-path=\"url(#pe16a6ab64d)\" d=\"M 381.473517 109.993562 \nL 391.983735 109.993562 \nL 391.983735 86.161905 \nL 381.473517 86.161905 \nz\n\" style=\"fill:#1f77b4;opacity:0.5;\"/>\n   </g>\n   <g id=\"patch_49\">\n    <path clip-path=\"url(#pe16a6ab64d)\" d=\"M 391.983735 109.993562 \nL 402.493953 109.993562 \nL 402.493953 61.800655 \nL 391.983735 61.800655 \nz\n\" style=\"fill:#1f77b4;opacity:0.5;\"/>\n   </g>\n   <g id=\"patch_50\">\n    <path clip-path=\"url(#pe16a6ab64d)\" d=\"M 255.350903 109.993562 \nL 265.86112 109.993562 \nL 265.86112 109.993562 \nL 255.350903 109.993562 \nz\n\" style=\"fill:#ff7f0e;opacity:0.5;\"/>\n   </g>\n   <g id=\"patch_51\">\n    <path clip-path=\"url(#pe16a6ab64d)\" d=\"M 265.86112 109.993562 \nL 276.371338 109.993562 \nL 276.371338 109.993562 \nL 265.86112 109.993562 \nz\n\" style=\"fill:#ff7f0e;opacity:0.5;\"/>\n   </g>\n   <g id=\"patch_52\">\n    <path clip-path=\"url(#pe16a6ab64d)\" d=\"M 276.371338 109.993562 \nL 286.881556 109.993562 \nL 286.881556 109.993562 \nL 276.371338 109.993562 \nz\n\" style=\"fill:#ff7f0e;opacity:0.5;\"/>\n   </g>\n   <g id=\"patch_53\">\n    <path clip-path=\"url(#pe16a6ab64d)\" d=\"M 286.881556 109.993562 \nL 297.391774 109.993562 \nL 297.391774 109.993562 \nL 286.881556 109.993562 \nz\n\" style=\"fill:#ff7f0e;opacity:0.5;\"/>\n   </g>\n   <g id=\"patch_54\">\n    <path clip-path=\"url(#pe16a6ab64d)\" d=\"M 297.391774 109.993562 \nL 307.901992 109.993562 \nL 307.901992 109.993562 \nL 297.391774 109.993562 \nz\n\" style=\"fill:#ff7f0e;opacity:0.5;\"/>\n   </g>\n   <g id=\"patch_55\">\n    <path clip-path=\"url(#pe16a6ab64d)\" d=\"M 307.901992 109.993562 \nL 318.41221 109.993562 \nL 318.41221 100.196103 \nL 307.901992 100.196103 \nz\n\" style=\"fill:#ff7f0e;opacity:0.5;\"/>\n   </g>\n   <g id=\"patch_56\">\n    <path clip-path=\"url(#pe16a6ab64d)\" d=\"M 318.41221 109.993562 \nL 328.922428 109.993562 \nL 328.922428 109.993562 \nL 318.41221 109.993562 \nz\n\" style=\"fill:#ff7f0e;opacity:0.5;\"/>\n   </g>\n   <g id=\"patch_57\">\n    <path clip-path=\"url(#pe16a6ab64d)\" d=\"M 328.922428 109.993562 \nL 339.432646 109.993562 \nL 339.432646 109.993562 \nL 328.922428 109.993562 \nz\n\" style=\"fill:#ff7f0e;opacity:0.5;\"/>\n   </g>\n   <g id=\"patch_58\">\n    <path clip-path=\"url(#pe16a6ab64d)\" d=\"M 339.432646 109.993562 \nL 349.942863 109.993562 \nL 349.942863 109.993562 \nL 339.432646 109.993562 \nz\n\" style=\"fill:#ff7f0e;opacity:0.5;\"/>\n   </g>\n   <g id=\"patch_59\">\n    <path clip-path=\"url(#pe16a6ab64d)\" d=\"M 349.942863 109.993562 \nL 360.453081 109.993562 \nL 360.453081 109.993562 \nL 349.942863 109.993562 \nz\n\" style=\"fill:#ff7f0e;opacity:0.5;\"/>\n   </g>\n   <g id=\"patch_60\">\n    <path clip-path=\"url(#pe16a6ab64d)\" d=\"M 360.453081 109.993562 \nL 370.963299 109.993562 \nL 370.963299 109.993562 \nL 360.453081 109.993562 \nz\n\" style=\"fill:#ff7f0e;opacity:0.5;\"/>\n   </g>\n   <g id=\"patch_61\">\n    <path clip-path=\"url(#pe16a6ab64d)\" d=\"M 370.963299 109.993562 \nL 381.473517 109.993562 \nL 381.473517 109.993562 \nL 370.963299 109.993562 \nz\n\" style=\"fill:#ff7f0e;opacity:0.5;\"/>\n   </g>\n   <g id=\"patch_62\">\n    <path clip-path=\"url(#pe16a6ab64d)\" d=\"M 381.473517 109.993562 \nL 391.983735 109.993562 \nL 391.983735 109.993562 \nL 381.473517 109.993562 \nz\n\" style=\"fill:#ff7f0e;opacity:0.5;\"/>\n   </g>\n   <g id=\"patch_63\">\n    <path clip-path=\"url(#pe16a6ab64d)\" d=\"M 391.983735 109.993562 \nL 402.493953 109.993562 \nL 402.493953 109.596368 \nL 391.983735 109.596368 \nz\n\" style=\"fill:#ff7f0e;opacity:0.5;\"/>\n   </g>\n   <g id=\"matplotlib.axis_3\">\n    <g id=\"xtick_5\">\n     <g id=\"line2d_8\">\n      <g>\n       <use style=\"stroke:#000000;stroke-width:0.8;\" x=\"255.350903\" xlink:href=\"#m675ae7e397\" y=\"109.993562\"/>\n      </g>\n     </g>\n     <g id=\"text_9\">\n      <!-- 5 -->\n      <g transform=\"translate(251.215278 126.871531)scale(0.13 -0.13)\">\n       <use xlink:href=\"#DejaVuSans-35\"/>\n      </g>\n     </g>\n    </g>\n    <g id=\"xtick_6\">\n     <g id=\"line2d_9\">\n      <g>\n       <use style=\"stroke:#000000;stroke-width:0.8;\" x=\"304.398586\" xlink:href=\"#m675ae7e397\" y=\"109.993562\"/>\n      </g>\n     </g>\n     <g id=\"text_10\">\n      <!-- 10 -->\n      <g transform=\"translate(296.127336 126.871531)scale(0.13 -0.13)\">\n       <use xlink:href=\"#DejaVuSans-31\"/>\n       <use x=\"63.623047\" xlink:href=\"#DejaVuSans-30\"/>\n      </g>\n     </g>\n    </g>\n    <g id=\"xtick_7\">\n     <g id=\"line2d_10\">\n      <g>\n       <use style=\"stroke:#000000;stroke-width:0.8;\" x=\"353.446269\" xlink:href=\"#m675ae7e397\" y=\"109.993562\"/>\n      </g>\n     </g>\n     <g id=\"text_11\">\n      <!-- 15 -->\n      <g transform=\"translate(345.175019 126.871531)scale(0.13 -0.13)\">\n       <use xlink:href=\"#DejaVuSans-31\"/>\n       <use x=\"63.623047\" xlink:href=\"#DejaVuSans-35\"/>\n      </g>\n     </g>\n    </g>\n    <g id=\"xtick_8\">\n     <g id=\"line2d_11\">\n      <g>\n       <use style=\"stroke:#000000;stroke-width:0.8;\" x=\"402.493953\" xlink:href=\"#m675ae7e397\" y=\"109.993562\"/>\n      </g>\n     </g>\n     <g id=\"text_12\">\n      <!-- 20 -->\n      <g transform=\"translate(394.222703 126.871531)scale(0.13 -0.13)\">\n       <use xlink:href=\"#DejaVuSans-32\"/>\n       <use x=\"63.623047\" xlink:href=\"#DejaVuSans-30\"/>\n      </g>\n     </g>\n    </g>\n   </g>\n   <g id=\"matplotlib.axis_4\">\n    <g id=\"ytick_4\">\n     <g id=\"line2d_12\">\n      <g>\n       <use style=\"stroke:#000000;stroke-width:0.8;\" x=\"247.99375\" xlink:href=\"#m40478fda2f\" y=\"109.993562\"/>\n      </g>\n     </g>\n     <g id=\"text_13\">\n      <!-- 0 -->\n      <g transform=\"translate(232.7225 114.932547)scale(0.13 -0.13)\">\n       <use xlink:href=\"#DejaVuSans-30\"/>\n      </g>\n     </g>\n    </g>\n    <g id=\"ytick_5\">\n     <g id=\"line2d_13\">\n      <g>\n       <use style=\"stroke:#000000;stroke-width:0.8;\" x=\"247.99375\" xlink:href=\"#m40478fda2f\" y=\"76.894038\"/>\n      </g>\n     </g>\n     <g id=\"text_14\">\n      <!-- 250 -->\n      <g transform=\"translate(216.18 81.833022)scale(0.13 -0.13)\">\n       <use xlink:href=\"#DejaVuSans-32\"/>\n       <use x=\"63.623047\" xlink:href=\"#DejaVuSans-35\"/>\n       <use x=\"127.246094\" xlink:href=\"#DejaVuSans-30\"/>\n      </g>\n     </g>\n    </g>\n    <g id=\"ytick_6\">\n     <g id=\"line2d_14\">\n      <g>\n       <use style=\"stroke:#000000;stroke-width:0.8;\" x=\"247.99375\" xlink:href=\"#m40478fda2f\" y=\"43.794513\"/>\n      </g>\n     </g>\n     <g id=\"text_15\">\n      <!-- 500 -->\n      <g transform=\"translate(216.18 48.733498)scale(0.13 -0.13)\">\n       <use xlink:href=\"#DejaVuSans-35\"/>\n       <use x=\"63.623047\" xlink:href=\"#DejaVuSans-30\"/>\n       <use x=\"127.246094\" xlink:href=\"#DejaVuSans-30\"/>\n      </g>\n     </g>\n    </g>\n   </g>\n   <g id=\"patch_64\">\n    <path d=\"M 247.99375 109.993562 \nL 247.99375 25.053562 \n\" style=\"fill:none;stroke:#000000;stroke-linecap:square;stroke-linejoin:miter;stroke-width:0.8;\"/>\n   </g>\n   <g id=\"patch_65\">\n    <path d=\"M 409.851105 109.993562 \nL 409.851105 25.053562 \n\" style=\"fill:none;stroke:#000000;stroke-linecap:square;stroke-linejoin:miter;stroke-width:0.8;\"/>\n   </g>\n   <g id=\"patch_66\">\n    <path d=\"M 247.99375 109.993562 \nL 409.851105 109.993562 \n\" style=\"fill:none;stroke:#000000;stroke-linecap:square;stroke-linejoin:miter;stroke-width:0.8;\"/>\n   </g>\n   <g id=\"patch_67\">\n    <path d=\"M 247.99375 25.053562 \nL 409.851105 25.053562 \n\" style=\"fill:none;stroke:#000000;stroke-linecap:square;stroke-linejoin:miter;stroke-width:0.8;\"/>\n   </g>\n   <g id=\"text_16\">\n    <!-- Anger vs. Neutral -->\n    <g transform=\"translate(260.779678 19.053562)scale(0.156 -0.156)\">\n     <defs>\n      <path d=\"M 2188 4044 \nL 1331 1722 \nL 3047 1722 \nL 2188 4044 \nz\nM 1831 4666 \nL 2547 4666 \nL 4325 0 \nL 3669 0 \nL 3244 1197 \nL 1141 1197 \nL 716 0 \nL 50 0 \nL 1831 4666 \nz\n\" id=\"DejaVuSans-41\" transform=\"scale(0.015625)\"/>\n      <path d=\"M 3513 2113 \nL 3513 0 \nL 2938 0 \nL 2938 2094 \nQ 2938 2591 2744 2837 \nQ 2550 3084 2163 3084 \nQ 1697 3084 1428 2787 \nQ 1159 2491 1159 1978 \nL 1159 0 \nL 581 0 \nL 581 3500 \nL 1159 3500 \nL 1159 2956 \nQ 1366 3272 1645 3428 \nQ 1925 3584 2291 3584 \nQ 2894 3584 3203 3211 \nQ 3513 2838 3513 2113 \nz\n\" id=\"DejaVuSans-6e\" transform=\"scale(0.015625)\"/>\n      <path d=\"M 2906 1791 \nQ 2906 2416 2648 2759 \nQ 2391 3103 1925 3103 \nQ 1463 3103 1205 2759 \nQ 947 2416 947 1791 \nQ 947 1169 1205 825 \nQ 1463 481 1925 481 \nQ 2391 481 2648 825 \nQ 2906 1169 2906 1791 \nz\nM 3481 434 \nQ 3481 -459 3084 -895 \nQ 2688 -1331 1869 -1331 \nQ 1566 -1331 1297 -1286 \nQ 1028 -1241 775 -1147 \nL 775 -588 \nQ 1028 -725 1275 -790 \nQ 1522 -856 1778 -856 \nQ 2344 -856 2625 -561 \nQ 2906 -266 2906 331 \nL 2906 616 \nQ 2728 306 2450 153 \nQ 2172 0 1784 0 \nQ 1141 0 747 490 \nQ 353 981 353 1791 \nQ 353 2603 747 3093 \nQ 1141 3584 1784 3584 \nQ 2172 3584 2450 3431 \nQ 2728 3278 2906 2969 \nL 2906 3500 \nL 3481 3500 \nL 3481 434 \nz\n\" id=\"DejaVuSans-67\" transform=\"scale(0.015625)\"/>\n     </defs>\n     <use xlink:href=\"#DejaVuSans-41\"/>\n     <use x=\"68.408203\" xlink:href=\"#DejaVuSans-6e\"/>\n     <use x=\"131.787109\" xlink:href=\"#DejaVuSans-67\"/>\n     <use x=\"195.263672\" xlink:href=\"#DejaVuSans-65\"/>\n     <use x=\"256.787109\" xlink:href=\"#DejaVuSans-72\"/>\n     <use x=\"297.900391\" xlink:href=\"#DejaVuSans-20\"/>\n     <use x=\"329.6875\" xlink:href=\"#DejaVuSans-76\"/>\n     <use x=\"388.867188\" xlink:href=\"#DejaVuSans-73\"/>\n     <use x=\"440.966797\" xlink:href=\"#DejaVuSans-2e\"/>\n     <use x=\"472.753906\" xlink:href=\"#DejaVuSans-20\"/>\n     <use x=\"504.541016\" xlink:href=\"#DejaVuSans-4e\"/>\n     <use x=\"579.345703\" xlink:href=\"#DejaVuSans-65\"/>\n     <use x=\"640.869141\" xlink:href=\"#DejaVuSans-75\"/>\n     <use x=\"704.248047\" xlink:href=\"#DejaVuSans-74\"/>\n     <use x=\"743.457031\" xlink:href=\"#DejaVuSans-72\"/>\n     <use x=\"784.570312\" xlink:href=\"#DejaVuSans-61\"/>\n     <use x=\"845.849609\" xlink:href=\"#DejaVuSans-6c\"/>\n    </g>\n   </g>\n  </g>\n  <g id=\"axes_3\">\n   <g id=\"patch_68\">\n    <path d=\"M 39.01375 246.973563 \nL 200.871105 246.973563 \nL 200.871105 162.033562 \nL 39.01375 162.033562 \nz\n\" style=\"fill:#ffffff;\"/>\n   </g>\n   <g id=\"patch_69\">\n    <path clip-path=\"url(#pdf85e2d1eb)\" d=\"M 46.370903 246.973563 \nL 56.88112 246.973563 \nL 56.88112 246.973563 \nL 46.370903 246.973563 \nz\n\" style=\"fill:#1f77b4;opacity:0.5;\"/>\n   </g>\n   <g id=\"patch_70\">\n    <path clip-path=\"url(#pdf85e2d1eb)\" d=\"M 56.88112 246.973563 \nL 67.391338 246.973563 \nL 67.391338 246.973563 \nL 56.88112 246.973563 \nz\n\" style=\"fill:#1f77b4;opacity:0.5;\"/>\n   </g>\n   <g id=\"patch_71\">\n    <path clip-path=\"url(#pdf85e2d1eb)\" d=\"M 67.391338 246.973563 \nL 77.901556 246.973563 \nL 77.901556 246.046776 \nL 67.391338 246.046776 \nz\n\" style=\"fill:#1f77b4;opacity:0.5;\"/>\n   </g>\n   <g id=\"patch_72\">\n    <path clip-path=\"url(#pdf85e2d1eb)\" d=\"M 77.901556 246.973563 \nL 88.411774 246.973563 \nL 88.411774 240.221259 \nL 77.901556 240.221259 \nz\n\" style=\"fill:#1f77b4;opacity:0.5;\"/>\n   </g>\n   <g id=\"patch_73\">\n    <path clip-path=\"url(#pdf85e2d1eb)\" d=\"M 88.411774 246.973563 \nL 98.921992 246.973563 \nL 98.921992 239.559269 \nL 88.411774 239.559269 \nz\n\" style=\"fill:#1f77b4;opacity:0.5;\"/>\n   </g>\n   <g id=\"patch_74\">\n    <path clip-path=\"url(#pdf85e2d1eb)\" d=\"M 98.921992 246.973563 \nL 109.43221 246.973563 \nL 109.43221 245.517183 \nL 98.921992 245.517183 \nz\n\" style=\"fill:#1f77b4;opacity:0.5;\"/>\n   </g>\n   <g id=\"patch_75\">\n    <path clip-path=\"url(#pdf85e2d1eb)\" d=\"M 109.43221 246.973563 \nL 119.942428 246.973563 \nL 119.942428 239.824065 \nL 109.43221 239.824065 \nz\n\" style=\"fill:#1f77b4;opacity:0.5;\"/>\n   </g>\n   <g id=\"patch_76\">\n    <path clip-path=\"url(#pdf85e2d1eb)\" d=\"M 119.942428 246.973563 \nL 130.452646 246.973563 \nL 130.452646 239.956463 \nL 119.942428 239.956463 \nz\n\" style=\"fill:#1f77b4;opacity:0.5;\"/>\n   </g>\n   <g id=\"patch_77\">\n    <path clip-path=\"url(#pdf85e2d1eb)\" d=\"M 130.452646 246.973563 \nL 140.962863 246.973563 \nL 140.962863 166.078324 \nL 130.452646 166.078324 \nz\n\" style=\"fill:#1f77b4;opacity:0.5;\"/>\n   </g>\n   <g id=\"patch_78\">\n    <path clip-path=\"url(#pdf85e2d1eb)\" d=\"M 140.962863 246.973563 \nL 151.473081 246.973563 \nL 151.473081 177.596959 \nL 140.962863 177.596959 \nz\n\" style=\"fill:#1f77b4;opacity:0.5;\"/>\n   </g>\n   <g id=\"patch_79\">\n    <path clip-path=\"url(#pdf85e2d1eb)\" d=\"M 151.473081 246.973563 \nL 161.983299 246.973563 \nL 161.983299 182.628087 \nL 151.473081 182.628087 \nz\n\" style=\"fill:#1f77b4;opacity:0.5;\"/>\n   </g>\n   <g id=\"patch_80\">\n    <path clip-path=\"url(#pdf85e2d1eb)\" d=\"M 161.983299 246.973563 \nL 172.493517 246.973563 \nL 172.493517 173.625016 \nL 161.983299 173.625016 \nz\n\" style=\"fill:#1f77b4;opacity:0.5;\"/>\n   </g>\n   <g id=\"patch_81\">\n    <path clip-path=\"url(#pdf85e2d1eb)\" d=\"M 172.493517 246.973563 \nL 183.003735 246.973563 \nL 183.003735 223.141905 \nL 172.493517 223.141905 \nz\n\" style=\"fill:#1f77b4;opacity:0.5;\"/>\n   </g>\n   <g id=\"patch_82\">\n    <path clip-path=\"url(#pdf85e2d1eb)\" d=\"M 183.003735 246.973563 \nL 193.513953 246.973563 \nL 193.513953 198.780655 \nL 183.003735 198.780655 \nz\n\" style=\"fill:#1f77b4;opacity:0.5;\"/>\n   </g>\n   <g id=\"patch_83\">\n    <path clip-path=\"url(#pdf85e2d1eb)\" d=\"M 46.370903 246.973563 \nL 56.88112 246.973563 \nL 56.88112 246.973563 \nL 46.370903 246.973563 \nz\n\" style=\"fill:#ff7f0e;opacity:0.5;\"/>\n   </g>\n   <g id=\"patch_84\">\n    <path clip-path=\"url(#pdf85e2d1eb)\" d=\"M 56.88112 246.973563 \nL 67.391338 246.973563 \nL 67.391338 246.973563 \nL 56.88112 246.973563 \nz\n\" style=\"fill:#ff7f0e;opacity:0.5;\"/>\n   </g>\n   <g id=\"patch_85\">\n    <path clip-path=\"url(#pdf85e2d1eb)\" d=\"M 67.391338 246.973563 \nL 77.901556 246.973563 \nL 77.901556 246.179174 \nL 67.391338 246.179174 \nz\n\" style=\"fill:#ff7f0e;opacity:0.5;\"/>\n   </g>\n   <g id=\"patch_86\">\n    <path clip-path=\"url(#pdf85e2d1eb)\" d=\"M 77.901556 246.973563 \nL 88.411774 246.973563 \nL 88.411774 244.325601 \nL 77.901556 244.325601 \nz\n\" style=\"fill:#ff7f0e;opacity:0.5;\"/>\n   </g>\n   <g id=\"patch_87\">\n    <path clip-path=\"url(#pdf85e2d1eb)\" d=\"M 88.411774 246.973563 \nL 98.921992 246.973563 \nL 98.921992 236.514113 \nL 88.411774 236.514113 \nz\n\" style=\"fill:#ff7f0e;opacity:0.5;\"/>\n   </g>\n   <g id=\"patch_88\">\n    <path clip-path=\"url(#pdf85e2d1eb)\" d=\"M 98.921992 246.973563 \nL 109.43221 246.973563 \nL 109.43221 245.252387 \nL 98.921992 245.252387 \nz\n\" style=\"fill:#ff7f0e;opacity:0.5;\"/>\n   </g>\n   <g id=\"patch_89\">\n    <path clip-path=\"url(#pdf85e2d1eb)\" d=\"M 109.43221 246.973563 \nL 119.942428 246.973563 \nL 119.942428 244.457999 \nL 109.43221 244.457999 \nz\n\" style=\"fill:#ff7f0e;opacity:0.5;\"/>\n   </g>\n   <g id=\"patch_90\">\n    <path clip-path=\"url(#pdf85e2d1eb)\" d=\"M 119.942428 246.973563 \nL 130.452646 246.973563 \nL 130.452646 246.179174 \nL 119.942428 246.179174 \nz\n\" style=\"fill:#ff7f0e;opacity:0.5;\"/>\n   </g>\n   <g id=\"patch_91\">\n    <path clip-path=\"url(#pdf85e2d1eb)\" d=\"M 130.452646 246.973563 \nL 140.962863 246.973563 \nL 140.962863 238.10289 \nL 130.452646 238.10289 \nz\n\" style=\"fill:#ff7f0e;opacity:0.5;\"/>\n   </g>\n   <g id=\"patch_92\">\n    <path clip-path=\"url(#pdf85e2d1eb)\" d=\"M 140.962863 246.973563 \nL 151.473081 246.973563 \nL 151.473081 233.998549 \nL 140.962863 233.998549 \nz\n\" style=\"fill:#ff7f0e;opacity:0.5;\"/>\n   </g>\n   <g id=\"patch_93\">\n    <path clip-path=\"url(#pdf85e2d1eb)\" d=\"M 151.473081 246.973563 \nL 161.983299 246.973563 \nL 161.983299 231.350587 \nL 151.473081 231.350587 \nz\n\" style=\"fill:#ff7f0e;opacity:0.5;\"/>\n   </g>\n   <g id=\"patch_94\">\n    <path clip-path=\"url(#pdf85e2d1eb)\" d=\"M 161.983299 246.973563 \nL 172.493517 246.973563 \nL 172.493517 236.778909 \nL 161.983299 236.778909 \nz\n\" style=\"fill:#ff7f0e;opacity:0.5;\"/>\n   </g>\n   <g id=\"patch_95\">\n    <path clip-path=\"url(#pdf85e2d1eb)\" d=\"M 172.493517 246.973563 \nL 183.003735 246.973563 \nL 183.003735 239.294473 \nL 172.493517 239.294473 \nz\n\" style=\"fill:#ff7f0e;opacity:0.5;\"/>\n   </g>\n   <g id=\"patch_96\">\n    <path clip-path=\"url(#pdf85e2d1eb)\" d=\"M 183.003735 246.973563 \nL 193.513953 246.973563 \nL 193.513953 237.705696 \nL 183.003735 237.705696 \nz\n\" style=\"fill:#ff7f0e;opacity:0.5;\"/>\n   </g>\n   <g id=\"matplotlib.axis_5\">\n    <g id=\"xtick_9\">\n     <g id=\"line2d_15\">\n      <g>\n       <use style=\"stroke:#000000;stroke-width:0.8;\" x=\"46.370903\" xlink:href=\"#m675ae7e397\" y=\"246.973563\"/>\n      </g>\n     </g>\n     <g id=\"text_17\">\n      <!-- 5 -->\n      <g transform=\"translate(42.235278 263.851531)scale(0.13 -0.13)\">\n       <use xlink:href=\"#DejaVuSans-35\"/>\n      </g>\n     </g>\n    </g>\n    <g id=\"xtick_10\">\n     <g id=\"line2d_16\">\n      <g>\n       <use style=\"stroke:#000000;stroke-width:0.8;\" x=\"95.418586\" xlink:href=\"#m675ae7e397\" y=\"246.973563\"/>\n      </g>\n     </g>\n     <g id=\"text_18\">\n      <!-- 10 -->\n      <g transform=\"translate(87.147336 263.851531)scale(0.13 -0.13)\">\n       <use xlink:href=\"#DejaVuSans-31\"/>\n       <use x=\"63.623047\" xlink:href=\"#DejaVuSans-30\"/>\n      </g>\n     </g>\n    </g>\n    <g id=\"xtick_11\">\n     <g id=\"line2d_17\">\n      <g>\n       <use style=\"stroke:#000000;stroke-width:0.8;\" x=\"144.466269\" xlink:href=\"#m675ae7e397\" y=\"246.973563\"/>\n      </g>\n     </g>\n     <g id=\"text_19\">\n      <!-- 15 -->\n      <g transform=\"translate(136.195019 263.851531)scale(0.13 -0.13)\">\n       <use xlink:href=\"#DejaVuSans-31\"/>\n       <use x=\"63.623047\" xlink:href=\"#DejaVuSans-35\"/>\n      </g>\n     </g>\n    </g>\n    <g id=\"xtick_12\">\n     <g id=\"line2d_18\">\n      <g>\n       <use style=\"stroke:#000000;stroke-width:0.8;\" x=\"193.513953\" xlink:href=\"#m675ae7e397\" y=\"246.973563\"/>\n      </g>\n     </g>\n     <g id=\"text_20\">\n      <!-- 20 -->\n      <g transform=\"translate(185.242703 263.851531)scale(0.13 -0.13)\">\n       <use xlink:href=\"#DejaVuSans-32\"/>\n       <use x=\"63.623047\" xlink:href=\"#DejaVuSans-30\"/>\n      </g>\n     </g>\n    </g>\n   </g>\n   <g id=\"matplotlib.axis_6\">\n    <g id=\"ytick_7\">\n     <g id=\"line2d_19\">\n      <g>\n       <use style=\"stroke:#000000;stroke-width:0.8;\" x=\"39.01375\" xlink:href=\"#m40478fda2f\" y=\"246.973563\"/>\n      </g>\n     </g>\n     <g id=\"text_21\">\n      <!-- 0 -->\n      <g transform=\"translate(23.7425 251.912547)scale(0.13 -0.13)\">\n       <use xlink:href=\"#DejaVuSans-30\"/>\n      </g>\n     </g>\n    </g>\n    <g id=\"ytick_8\">\n     <g id=\"line2d_20\">\n      <g>\n       <use style=\"stroke:#000000;stroke-width:0.8;\" x=\"39.01375\" xlink:href=\"#m40478fda2f\" y=\"213.874038\"/>\n      </g>\n     </g>\n     <g id=\"text_22\">\n      <!-- 250 -->\n      <g transform=\"translate(7.2 218.813022)scale(0.13 -0.13)\">\n       <use xlink:href=\"#DejaVuSans-32\"/>\n       <use x=\"63.623047\" xlink:href=\"#DejaVuSans-35\"/>\n       <use x=\"127.246094\" xlink:href=\"#DejaVuSans-30\"/>\n      </g>\n     </g>\n    </g>\n    <g id=\"ytick_9\">\n     <g id=\"line2d_21\">\n      <g>\n       <use style=\"stroke:#000000;stroke-width:0.8;\" x=\"39.01375\" xlink:href=\"#m40478fda2f\" y=\"180.774513\"/>\n      </g>\n     </g>\n     <g id=\"text_23\">\n      <!-- 500 -->\n      <g transform=\"translate(7.2 185.713498)scale(0.13 -0.13)\">\n       <use xlink:href=\"#DejaVuSans-35\"/>\n       <use x=\"63.623047\" xlink:href=\"#DejaVuSans-30\"/>\n       <use x=\"127.246094\" xlink:href=\"#DejaVuSans-30\"/>\n      </g>\n     </g>\n    </g>\n   </g>\n   <g id=\"patch_97\">\n    <path d=\"M 39.01375 246.973563 \nL 39.01375 162.033563 \n\" style=\"fill:none;stroke:#000000;stroke-linecap:square;stroke-linejoin:miter;stroke-width:0.8;\"/>\n   </g>\n   <g id=\"patch_98\">\n    <path d=\"M 200.871105 246.973563 \nL 200.871105 162.033563 \n\" style=\"fill:none;stroke:#000000;stroke-linecap:square;stroke-linejoin:miter;stroke-width:0.8;\"/>\n   </g>\n   <g id=\"patch_99\">\n    <path d=\"M 39.01375 246.973563 \nL 200.871105 246.973563 \n\" style=\"fill:none;stroke:#000000;stroke-linecap:square;stroke-linejoin:miter;stroke-width:0.8;\"/>\n   </g>\n   <g id=\"patch_100\">\n    <path d=\"M 39.01375 162.033562 \nL 200.871105 162.033562 \n\" style=\"fill:none;stroke:#000000;stroke-linecap:square;stroke-linejoin:miter;stroke-width:0.8;\"/>\n   </g>\n   <g id=\"text_24\">\n    <!-- Sad vs. Neutral -->\n    <g transform=\"translate(60.352865 156.033562)scale(0.156 -0.156)\">\n     <defs>\n      <path d=\"M 3425 4513 \nL 3425 3897 \nQ 3066 4069 2747 4153 \nQ 2428 4238 2131 4238 \nQ 1616 4238 1336 4038 \nQ 1056 3838 1056 3469 \nQ 1056 3159 1242 3001 \nQ 1428 2844 1947 2747 \nL 2328 2669 \nQ 3034 2534 3370 2195 \nQ 3706 1856 3706 1288 \nQ 3706 609 3251 259 \nQ 2797 -91 1919 -91 \nQ 1588 -91 1214 -16 \nQ 841 59 441 206 \nL 441 856 \nQ 825 641 1194 531 \nQ 1563 422 1919 422 \nQ 2459 422 2753 634 \nQ 3047 847 3047 1241 \nQ 3047 1584 2836 1778 \nQ 2625 1972 2144 2069 \nL 1759 2144 \nQ 1053 2284 737 2584 \nQ 422 2884 422 3419 \nQ 422 4038 858 4394 \nQ 1294 4750 2059 4750 \nQ 2388 4750 2728 4690 \nQ 3069 4631 3425 4513 \nz\n\" id=\"DejaVuSans-53\" transform=\"scale(0.015625)\"/>\n      <path d=\"M 2906 2969 \nL 2906 4863 \nL 3481 4863 \nL 3481 0 \nL 2906 0 \nL 2906 525 \nQ 2725 213 2448 61 \nQ 2172 -91 1784 -91 \nQ 1150 -91 751 415 \nQ 353 922 353 1747 \nQ 353 2572 751 3078 \nQ 1150 3584 1784 3584 \nQ 2172 3584 2448 3432 \nQ 2725 3281 2906 2969 \nz\nM 947 1747 \nQ 947 1113 1208 752 \nQ 1469 391 1925 391 \nQ 2381 391 2643 752 \nQ 2906 1113 2906 1747 \nQ 2906 2381 2643 2742 \nQ 2381 3103 1925 3103 \nQ 1469 3103 1208 2742 \nQ 947 2381 947 1747 \nz\n\" id=\"DejaVuSans-64\" transform=\"scale(0.015625)\"/>\n     </defs>\n     <use xlink:href=\"#DejaVuSans-53\"/>\n     <use x=\"63.476562\" xlink:href=\"#DejaVuSans-61\"/>\n     <use x=\"124.755859\" xlink:href=\"#DejaVuSans-64\"/>\n     <use x=\"188.232422\" xlink:href=\"#DejaVuSans-20\"/>\n     <use x=\"220.019531\" xlink:href=\"#DejaVuSans-76\"/>\n     <use x=\"279.199219\" xlink:href=\"#DejaVuSans-73\"/>\n     <use x=\"331.298828\" xlink:href=\"#DejaVuSans-2e\"/>\n     <use x=\"363.085938\" xlink:href=\"#DejaVuSans-20\"/>\n     <use x=\"394.873047\" xlink:href=\"#DejaVuSans-4e\"/>\n     <use x=\"469.677734\" xlink:href=\"#DejaVuSans-65\"/>\n     <use x=\"531.201172\" xlink:href=\"#DejaVuSans-75\"/>\n     <use x=\"594.580078\" xlink:href=\"#DejaVuSans-74\"/>\n     <use x=\"633.789062\" xlink:href=\"#DejaVuSans-72\"/>\n     <use x=\"674.902344\" xlink:href=\"#DejaVuSans-61\"/>\n     <use x=\"736.181641\" xlink:href=\"#DejaVuSans-6c\"/>\n    </g>\n   </g>\n  </g>\n  <g id=\"axes_4\">\n   <g id=\"patch_101\">\n    <path d=\"M 247.99375 246.973563 \nL 409.851105 246.973563 \nL 409.851105 162.033562 \nL 247.99375 162.033562 \nz\n\" style=\"fill:#ffffff;\"/>\n   </g>\n   <g id=\"patch_102\">\n    <path clip-path=\"url(#p86b43149bb)\" d=\"M 255.350903 246.973563 \nL 265.86112 246.973563 \nL 265.86112 246.973563 \nL 255.350903 246.973563 \nz\n\" style=\"fill:#1f77b4;opacity:0.5;\"/>\n   </g>\n   <g id=\"patch_103\">\n    <path clip-path=\"url(#p86b43149bb)\" d=\"M 265.86112 246.973563 \nL 276.371338 246.973563 \nL 276.371338 246.973563 \nL 265.86112 246.973563 \nz\n\" style=\"fill:#1f77b4;opacity:0.5;\"/>\n   </g>\n   <g id=\"patch_104\">\n    <path clip-path=\"url(#p86b43149bb)\" d=\"M 276.371338 246.973563 \nL 286.881556 246.973563 \nL 286.881556 246.046776 \nL 276.371338 246.046776 \nz\n\" style=\"fill:#1f77b4;opacity:0.5;\"/>\n   </g>\n   <g id=\"patch_105\">\n    <path clip-path=\"url(#p86b43149bb)\" d=\"M 286.881556 246.973563 \nL 297.391774 246.973563 \nL 297.391774 240.221259 \nL 286.881556 240.221259 \nz\n\" style=\"fill:#1f77b4;opacity:0.5;\"/>\n   </g>\n   <g id=\"patch_106\">\n    <path clip-path=\"url(#p86b43149bb)\" d=\"M 297.391774 246.973563 \nL 307.901992 246.973563 \nL 307.901992 239.559269 \nL 297.391774 239.559269 \nz\n\" style=\"fill:#1f77b4;opacity:0.5;\"/>\n   </g>\n   <g id=\"patch_107\">\n    <path clip-path=\"url(#p86b43149bb)\" d=\"M 307.901992 246.973563 \nL 318.41221 246.973563 \nL 318.41221 245.517183 \nL 307.901992 245.517183 \nz\n\" style=\"fill:#1f77b4;opacity:0.5;\"/>\n   </g>\n   <g id=\"patch_108\">\n    <path clip-path=\"url(#p86b43149bb)\" d=\"M 318.41221 246.973563 \nL 328.922428 246.973563 \nL 328.922428 239.824065 \nL 318.41221 239.824065 \nz\n\" style=\"fill:#1f77b4;opacity:0.5;\"/>\n   </g>\n   <g id=\"patch_109\">\n    <path clip-path=\"url(#p86b43149bb)\" d=\"M 328.922428 246.973563 \nL 339.432646 246.973563 \nL 339.432646 239.956463 \nL 328.922428 239.956463 \nz\n\" style=\"fill:#1f77b4;opacity:0.5;\"/>\n   </g>\n   <g id=\"patch_110\">\n    <path clip-path=\"url(#p86b43149bb)\" d=\"M 339.432646 246.973563 \nL 349.942863 246.973563 \nL 349.942863 166.078324 \nL 339.432646 166.078324 \nz\n\" style=\"fill:#1f77b4;opacity:0.5;\"/>\n   </g>\n   <g id=\"patch_111\">\n    <path clip-path=\"url(#p86b43149bb)\" d=\"M 349.942863 246.973563 \nL 360.453081 246.973563 \nL 360.453081 177.596959 \nL 349.942863 177.596959 \nz\n\" style=\"fill:#1f77b4;opacity:0.5;\"/>\n   </g>\n   <g id=\"patch_112\">\n    <path clip-path=\"url(#p86b43149bb)\" d=\"M 360.453081 246.973563 \nL 370.963299 246.973563 \nL 370.963299 182.628087 \nL 360.453081 182.628087 \nz\n\" style=\"fill:#1f77b4;opacity:0.5;\"/>\n   </g>\n   <g id=\"patch_113\">\n    <path clip-path=\"url(#p86b43149bb)\" d=\"M 370.963299 246.973563 \nL 381.473517 246.973563 \nL 381.473517 173.625016 \nL 370.963299 173.625016 \nz\n\" style=\"fill:#1f77b4;opacity:0.5;\"/>\n   </g>\n   <g id=\"patch_114\">\n    <path clip-path=\"url(#p86b43149bb)\" d=\"M 381.473517 246.973563 \nL 391.983735 246.973563 \nL 391.983735 223.141905 \nL 381.473517 223.141905 \nz\n\" style=\"fill:#1f77b4;opacity:0.5;\"/>\n   </g>\n   <g id=\"patch_115\">\n    <path clip-path=\"url(#p86b43149bb)\" d=\"M 391.983735 246.973563 \nL 402.493953 246.973563 \nL 402.493953 198.780655 \nL 391.983735 198.780655 \nz\n\" style=\"fill:#1f77b4;opacity:0.5;\"/>\n   </g>\n   <g id=\"patch_116\">\n    <path clip-path=\"url(#p86b43149bb)\" d=\"M 255.350903 246.973563 \nL 265.86112 246.973563 \nL 265.86112 246.973563 \nL 255.350903 246.973563 \nz\n\" style=\"fill:#ff7f0e;opacity:0.5;\"/>\n   </g>\n   <g id=\"patch_117\">\n    <path clip-path=\"url(#p86b43149bb)\" d=\"M 265.86112 246.973563 \nL 276.371338 246.973563 \nL 276.371338 246.973563 \nL 265.86112 246.973563 \nz\n\" style=\"fill:#ff7f0e;opacity:0.5;\"/>\n   </g>\n   <g id=\"patch_118\">\n    <path clip-path=\"url(#p86b43149bb)\" d=\"M 276.371338 246.973563 \nL 286.881556 246.973563 \nL 286.881556 246.973563 \nL 276.371338 246.973563 \nz\n\" style=\"fill:#ff7f0e;opacity:0.5;\"/>\n   </g>\n   <g id=\"patch_119\">\n    <path clip-path=\"url(#p86b43149bb)\" d=\"M 286.881556 246.973563 \nL 297.391774 246.973563 \nL 297.391774 246.973563 \nL 286.881556 246.973563 \nz\n\" style=\"fill:#ff7f0e;opacity:0.5;\"/>\n   </g>\n   <g id=\"patch_120\">\n    <path clip-path=\"url(#p86b43149bb)\" d=\"M 297.391774 246.973563 \nL 307.901992 246.973563 \nL 307.901992 246.973563 \nL 297.391774 246.973563 \nz\n\" style=\"fill:#ff7f0e;opacity:0.5;\"/>\n   </g>\n   <g id=\"patch_121\">\n    <path clip-path=\"url(#p86b43149bb)\" d=\"M 307.901992 246.973563 \nL 318.41221 246.973563 \nL 318.41221 246.973563 \nL 307.901992 246.973563 \nz\n\" style=\"fill:#ff7f0e;opacity:0.5;\"/>\n   </g>\n   <g id=\"patch_122\">\n    <path clip-path=\"url(#p86b43149bb)\" d=\"M 318.41221 246.973563 \nL 328.922428 246.973563 \nL 328.922428 246.973563 \nL 318.41221 246.973563 \nz\n\" style=\"fill:#ff7f0e;opacity:0.5;\"/>\n   </g>\n   <g id=\"patch_123\">\n    <path clip-path=\"url(#p86b43149bb)\" d=\"M 328.922428 246.973563 \nL 339.432646 246.973563 \nL 339.432646 246.973563 \nL 328.922428 246.973563 \nz\n\" style=\"fill:#ff7f0e;opacity:0.5;\"/>\n   </g>\n   <g id=\"patch_124\">\n    <path clip-path=\"url(#p86b43149bb)\" d=\"M 339.432646 246.973563 \nL 349.942863 246.973563 \nL 349.942863 243.134018 \nL 339.432646 243.134018 \nz\n\" style=\"fill:#ff7f0e;opacity:0.5;\"/>\n   </g>\n   <g id=\"patch_125\">\n    <path clip-path=\"url(#p86b43149bb)\" d=\"M 349.942863 246.973563 \nL 360.453081 246.973563 \nL 360.453081 246.973563 \nL 349.942863 246.973563 \nz\n\" style=\"fill:#ff7f0e;opacity:0.5;\"/>\n   </g>\n   <g id=\"patch_126\">\n    <path clip-path=\"url(#p86b43149bb)\" d=\"M 360.453081 246.973563 \nL 370.963299 246.973563 \nL 370.963299 246.973563 \nL 360.453081 246.973563 \nz\n\" style=\"fill:#ff7f0e;opacity:0.5;\"/>\n   </g>\n   <g id=\"patch_127\">\n    <path clip-path=\"url(#p86b43149bb)\" d=\"M 370.963299 246.973563 \nL 381.473517 246.973563 \nL 381.473517 246.973563 \nL 370.963299 246.973563 \nz\n\" style=\"fill:#ff7f0e;opacity:0.5;\"/>\n   </g>\n   <g id=\"patch_128\">\n    <path clip-path=\"url(#p86b43149bb)\" d=\"M 381.473517 246.973563 \nL 391.983735 246.973563 \nL 391.983735 239.029677 \nL 381.473517 239.029677 \nz\n\" style=\"fill:#ff7f0e;opacity:0.5;\"/>\n   </g>\n   <g id=\"patch_129\">\n    <path clip-path=\"url(#p86b43149bb)\" d=\"M 391.983735 246.973563 \nL 402.493953 246.973563 \nL 402.493953 238.235288 \nL 391.983735 238.235288 \nz\n\" style=\"fill:#ff7f0e;opacity:0.5;\"/>\n   </g>\n   <g id=\"matplotlib.axis_7\">\n    <g id=\"xtick_13\">\n     <g id=\"line2d_22\">\n      <g>\n       <use style=\"stroke:#000000;stroke-width:0.8;\" x=\"255.350903\" xlink:href=\"#m675ae7e397\" y=\"246.973563\"/>\n      </g>\n     </g>\n     <g id=\"text_25\">\n      <!-- 5 -->\n      <g transform=\"translate(251.215278 263.851531)scale(0.13 -0.13)\">\n       <use xlink:href=\"#DejaVuSans-35\"/>\n      </g>\n     </g>\n    </g>\n    <g id=\"xtick_14\">\n     <g id=\"line2d_23\">\n      <g>\n       <use style=\"stroke:#000000;stroke-width:0.8;\" x=\"304.398586\" xlink:href=\"#m675ae7e397\" y=\"246.973563\"/>\n      </g>\n     </g>\n     <g id=\"text_26\">\n      <!-- 10 -->\n      <g transform=\"translate(296.127336 263.851531)scale(0.13 -0.13)\">\n       <use xlink:href=\"#DejaVuSans-31\"/>\n       <use x=\"63.623047\" xlink:href=\"#DejaVuSans-30\"/>\n      </g>\n     </g>\n    </g>\n    <g id=\"xtick_15\">\n     <g id=\"line2d_24\">\n      <g>\n       <use style=\"stroke:#000000;stroke-width:0.8;\" x=\"353.446269\" xlink:href=\"#m675ae7e397\" y=\"246.973563\"/>\n      </g>\n     </g>\n     <g id=\"text_27\">\n      <!-- 15 -->\n      <g transform=\"translate(345.175019 263.851531)scale(0.13 -0.13)\">\n       <use xlink:href=\"#DejaVuSans-31\"/>\n       <use x=\"63.623047\" xlink:href=\"#DejaVuSans-35\"/>\n      </g>\n     </g>\n    </g>\n    <g id=\"xtick_16\">\n     <g id=\"line2d_25\">\n      <g>\n       <use style=\"stroke:#000000;stroke-width:0.8;\" x=\"402.493953\" xlink:href=\"#m675ae7e397\" y=\"246.973563\"/>\n      </g>\n     </g>\n     <g id=\"text_28\">\n      <!-- 20 -->\n      <g transform=\"translate(394.222703 263.851531)scale(0.13 -0.13)\">\n       <use xlink:href=\"#DejaVuSans-32\"/>\n       <use x=\"63.623047\" xlink:href=\"#DejaVuSans-30\"/>\n      </g>\n     </g>\n    </g>\n   </g>\n   <g id=\"matplotlib.axis_8\">\n    <g id=\"ytick_10\">\n     <g id=\"line2d_26\">\n      <g>\n       <use style=\"stroke:#000000;stroke-width:0.8;\" x=\"247.99375\" xlink:href=\"#m40478fda2f\" y=\"246.973563\"/>\n      </g>\n     </g>\n     <g id=\"text_29\">\n      <!-- 0 -->\n      <g transform=\"translate(232.7225 251.912547)scale(0.13 -0.13)\">\n       <use xlink:href=\"#DejaVuSans-30\"/>\n      </g>\n     </g>\n    </g>\n    <g id=\"ytick_11\">\n     <g id=\"line2d_27\">\n      <g>\n       <use style=\"stroke:#000000;stroke-width:0.8;\" x=\"247.99375\" xlink:href=\"#m40478fda2f\" y=\"213.874038\"/>\n      </g>\n     </g>\n     <g id=\"text_30\">\n      <!-- 250 -->\n      <g transform=\"translate(216.18 218.813022)scale(0.13 -0.13)\">\n       <use xlink:href=\"#DejaVuSans-32\"/>\n       <use x=\"63.623047\" xlink:href=\"#DejaVuSans-35\"/>\n       <use x=\"127.246094\" xlink:href=\"#DejaVuSans-30\"/>\n      </g>\n     </g>\n    </g>\n    <g id=\"ytick_12\">\n     <g id=\"line2d_28\">\n      <g>\n       <use style=\"stroke:#000000;stroke-width:0.8;\" x=\"247.99375\" xlink:href=\"#m40478fda2f\" y=\"180.774513\"/>\n      </g>\n     </g>\n     <g id=\"text_31\">\n      <!-- 500 -->\n      <g transform=\"translate(216.18 185.713498)scale(0.13 -0.13)\">\n       <use xlink:href=\"#DejaVuSans-35\"/>\n       <use x=\"63.623047\" xlink:href=\"#DejaVuSans-30\"/>\n       <use x=\"127.246094\" xlink:href=\"#DejaVuSans-30\"/>\n      </g>\n     </g>\n    </g>\n   </g>\n   <g id=\"patch_130\">\n    <path d=\"M 247.99375 246.973563 \nL 247.99375 162.033563 \n\" style=\"fill:none;stroke:#000000;stroke-linecap:square;stroke-linejoin:miter;stroke-width:0.8;\"/>\n   </g>\n   <g id=\"patch_131\">\n    <path d=\"M 409.851105 246.973563 \nL 409.851105 162.033563 \n\" style=\"fill:none;stroke:#000000;stroke-linecap:square;stroke-linejoin:miter;stroke-width:0.8;\"/>\n   </g>\n   <g id=\"patch_132\">\n    <path d=\"M 247.99375 246.973563 \nL 409.851105 246.973563 \n\" style=\"fill:none;stroke:#000000;stroke-linecap:square;stroke-linejoin:miter;stroke-width:0.8;\"/>\n   </g>\n   <g id=\"patch_133\">\n    <path d=\"M 247.99375 162.033562 \nL 409.851105 162.033562 \n\" style=\"fill:none;stroke:#000000;stroke-linecap:square;stroke-linejoin:miter;stroke-width:0.8;\"/>\n   </g>\n   <g id=\"text_32\">\n    <!-- Surprise vs. Neutral -->\n    <g transform=\"translate(251.726803 156.033562)scale(0.156 -0.156)\">\n     <defs>\n      <path d=\"M 603 3500 \nL 1178 3500 \nL 1178 0 \nL 603 0 \nL 603 3500 \nz\nM 603 4863 \nL 1178 4863 \nL 1178 4134 \nL 603 4134 \nL 603 4863 \nz\n\" id=\"DejaVuSans-69\" transform=\"scale(0.015625)\"/>\n     </defs>\n     <use xlink:href=\"#DejaVuSans-53\"/>\n     <use x=\"63.476562\" xlink:href=\"#DejaVuSans-75\"/>\n     <use x=\"126.855469\" xlink:href=\"#DejaVuSans-72\"/>\n     <use x=\"167.96875\" xlink:href=\"#DejaVuSans-70\"/>\n     <use x=\"231.445312\" xlink:href=\"#DejaVuSans-72\"/>\n     <use x=\"272.558594\" xlink:href=\"#DejaVuSans-69\"/>\n     <use x=\"300.341797\" xlink:href=\"#DejaVuSans-73\"/>\n     <use x=\"352.441406\" xlink:href=\"#DejaVuSans-65\"/>\n     <use x=\"413.964844\" xlink:href=\"#DejaVuSans-20\"/>\n     <use x=\"445.751953\" xlink:href=\"#DejaVuSans-76\"/>\n     <use x=\"504.931641\" xlink:href=\"#DejaVuSans-73\"/>\n     <use x=\"557.03125\" xlink:href=\"#DejaVuSans-2e\"/>\n     <use x=\"588.818359\" xlink:href=\"#DejaVuSans-20\"/>\n     <use x=\"620.605469\" xlink:href=\"#DejaVuSans-4e\"/>\n     <use x=\"695.410156\" xlink:href=\"#DejaVuSans-65\"/>\n     <use x=\"756.933594\" xlink:href=\"#DejaVuSans-75\"/>\n     <use x=\"820.3125\" xlink:href=\"#DejaVuSans-74\"/>\n     <use x=\"859.521484\" xlink:href=\"#DejaVuSans-72\"/>\n     <use x=\"900.634766\" xlink:href=\"#DejaVuSans-61\"/>\n     <use x=\"961.914062\" xlink:href=\"#DejaVuSans-6c\"/>\n    </g>\n   </g>\n  </g>\n </g>\n <defs>\n  <clipPath id=\"pc6633054f0\">\n   <rect height=\"84.94\" width=\"161.857355\" x=\"39.01375\" y=\"25.053562\"/>\n  </clipPath>\n  <clipPath id=\"pe16a6ab64d\">\n   <rect height=\"84.94\" width=\"161.857355\" x=\"247.99375\" y=\"25.053562\"/>\n  </clipPath>\n  <clipPath id=\"pdf85e2d1eb\">\n   <rect height=\"84.94\" width=\"161.857355\" x=\"39.01375\" y=\"162.033562\"/>\n  </clipPath>\n  <clipPath id=\"p86b43149bb\">\n   <rect height=\"84.94\" width=\"161.857355\" x=\"247.99375\" y=\"162.033562\"/>\n  </clipPath>\n </defs>\n</svg>\n",
      "image/png": "[encoded data removed]"
     },
     "metadata": {
      "needs_background": "light"
     }
    }
   ],
   "source": [
    "bins = np.linspace(5,20,15)\n",
    "\n",
    "fig, axs = plt.subplots(2,2)\n",
    "\n",
    "axs[0,0].hist(data_df.loc[data_df['pred_emotion']=='neutral']['rpm'], bins, alpha=0.5)#, label='Neutral RPM')\n",
    "axs[0,1].hist(data_df.loc[data_df['pred_emotion']=='neutral']['rpm'], bins, alpha=0.5)#, label='Neutral RPM')\n",
    "axs[1,0].hist(data_df.loc[data_df['pred_emotion']=='neutral']['rpm'], bins, alpha=0.5)#, label='Neutral RPM')\n",
    "axs[1,1].hist(data_df.loc[data_df['pred_emotion']=='neutral']['rpm'], bins, alpha=0.5)#, label='Neutral RPM')\n",
    "\n",
    "axs[0,0].hist(data_df.loc[data_df['pred_emotion']=='happy']['rpm'], bins, alpha=0.5)#, label='Happy RPM')\n",
    "axs[0,0].set_title('Happy vs. Neutral')\n",
    "axs[0,1].hist(data_df.loc[data_df['pred_emotion']=='anger']['rpm'], bins, alpha=0.5)#, label='Happy RPM')\n",
    "axs[0,1].set_title('Anger vs. Neutral')\n",
    "axs[1,0].hist(data_df.loc[data_df['pred_emotion']=='sad']['rpm'], bins, alpha=0.5)#, label='Happy RPM')\n",
    "axs[1,0].set_title('Sad vs. Neutral')\n",
    "axs[1,1].hist(data_df.loc[data_df['pred_emotion']=='surprise']['rpm'], bins, alpha=0.5)#, label='Happy RPM')\n",
    "axs[1,1].set_title('Surprise vs. Neutral')\n",
    "fig.tight_layout()\n",
    "fig.show()"
   ]
  },
  {
   "source": [
    "## Video Type vs Predicted Emotion"
   ],
   "cell_type": "markdown",
   "metadata": {}
  },
  {
   "cell_type": "code",
   "execution_count": 23,
   "metadata": {},
   "outputs": [
    {
     "output_type": "display_data",
     "data": {
      "text/plain": "<Figure size 432x288 with 2 Axes>",
      "image/svg+xml": "<?xml version=\"1.0\" encoding=\"utf-8\" standalone=\"no\"?>\n<!DOCTYPE svg PUBLIC \"-//W3C//DTD SVG 1.1//EN\"\n  \"http://www.w3.org/Graphics/SVG/1.1/DTD/svg11.dtd\">\n<svg height=\"239.635125pt\" version=\"1.1\" viewBox=\"0 0 430.377313 239.635125\" width=\"430.377313pt\" xmlns=\"http://www.w3.org/2000/svg\" xmlns:xlink=\"http://www.w3.org/1999/xlink\">\n <metadata>\n  <rdf:RDF xmlns:cc=\"http://creativecommons.org/ns#\" xmlns:dc=\"http://purl.org/dc/elements/1.1/\" xmlns:rdf=\"http://www.w3.org/1999/02/22-rdf-syntax-ns#\">\n   <cc:Work>\n    <dc:type rdf:resource=\"http://purl.org/dc/dcmitype/StillImage\"/>\n    <dc:date>2021-05-12T15:01:07.816877</dc:date>\n    <dc:format>image/svg+xml</dc:format>\n    <dc:creator>\n     <cc:Agent>\n      <dc:title>Matplotlib v3.4.2, https://matplotlib.org/</dc:title>\n     </cc:Agent>\n    </dc:creator>\n   </cc:Work>\n  </rdf:RDF>\n </metadata>\n <defs>\n  <style type=\"text/css\">*{stroke-linecap:butt;stroke-linejoin:round;}</style>\n </defs>\n <g id=\"figure_1\">\n  <g id=\"patch_1\">\n   <path d=\"M 0 239.635125 \nL 430.377313 239.635125 \nL 430.377313 0 \nL 0 0 \nz\n\" style=\"fill:none;\"/>\n  </g>\n  <g id=\"axes_1\">\n   <g id=\"patch_2\">\n    <path d=\"M 87.640313 196.272 \nL 355.480313 196.272 \nL 355.480313 35.568 \nL 87.640313 35.568 \nz\n\" style=\"fill:#ffffff;\"/>\n   </g>\n   <g id=\"QuadMesh_1\">\n    <path clip-path=\"url(#p9640d3f155)\" d=\"M 87.640313 35.568 \nL 141.208313 35.568 \nL 141.208313 89.136 \nL 87.640313 89.136 \nL 87.640313 35.568 \n\" style=\"fill:#03051a;stroke:#ffffff;\"/>\n    <path clip-path=\"url(#p9640d3f155)\" d=\"M 141.208313 35.568 \nL 194.776313 35.568 \nL 194.776313 89.136 \nL 141.208313 89.136 \nL 141.208313 35.568 \n\" style=\"fill:#401b44;stroke:#ffffff;\"/>\n    <path clip-path=\"url(#p9640d3f155)\" d=\"M 194.776313 35.568 \nL 248.344313 35.568 \nL 248.344313 89.136 \nL 194.776313 89.136 \nL 194.776313 35.568 \n\" style=\"fill:#401b44;stroke:#ffffff;\"/>\n    <path clip-path=\"url(#p9640d3f155)\" d=\"M 248.344313 35.568 \nL 301.912313 35.568 \nL 301.912313 89.136 \nL 248.344313 89.136 \nL 248.344313 35.568 \n\" style=\"fill:#07071d;stroke:#ffffff;\"/>\n    <path clip-path=\"url(#p9640d3f155)\" d=\"M 301.912313 35.568 \nL 355.480313 35.568 \nL 355.480313 89.136 \nL 301.912313 89.136 \nL 301.912313 35.568 \n\" style=\"fill:#0e0b22;stroke:#ffffff;\"/>\n    <path clip-path=\"url(#p9640d3f155)\" d=\"M 87.640313 89.136 \nL 141.208313 89.136 \nL 141.208313 142.704 \nL 87.640313 142.704 \nL 87.640313 89.136 \n\" style=\"fill:#04051a;stroke:#ffffff;\"/>\n    <path clip-path=\"url(#p9640d3f155)\" d=\"M 141.208313 89.136 \nL 194.776313 89.136 \nL 194.776313 142.704 \nL 141.208313 142.704 \nL 141.208313 89.136 \n\" style=\"fill:#541e4e;stroke:#ffffff;\"/>\n    <path clip-path=\"url(#p9640d3f155)\" d=\"M 194.776313 89.136 \nL 248.344313 89.136 \nL 248.344313 142.704 \nL 194.776313 142.704 \nL 194.776313 89.136 \n\" style=\"fill:#ee543f;stroke:#ffffff;\"/>\n    <path clip-path=\"url(#p9640d3f155)\" d=\"M 248.344313 89.136 \nL 301.912313 89.136 \nL 301.912313 142.704 \nL 248.344313 142.704 \nL 248.344313 89.136 \n\" style=\"fill:#421b45;stroke:#ffffff;\"/>\n    <path clip-path=\"url(#p9640d3f155)\" d=\"M 301.912313 89.136 \nL 355.480313 89.136 \nL 355.480313 142.704 \nL 301.912313 142.704 \nL 301.912313 89.136 \n\" style=\"fill:#05061b;stroke:#ffffff;\"/>\n    <path clip-path=\"url(#p9640d3f155)\" d=\"M 87.640313 142.704 \nL 141.208313 142.704 \nL 141.208313 196.272 \nL 87.640313 196.272 \nL 87.640313 142.704 \n\" style=\"fill:#08081e;stroke:#ffffff;\"/>\n    <path clip-path=\"url(#p9640d3f155)\" d=\"M 141.208313 142.704 \nL 194.776313 142.704 \nL 194.776313 196.272 \nL 141.208313 196.272 \nL 141.208313 142.704 \n\" style=\"fill:#faebdd;stroke:#ffffff;\"/>\n    <path clip-path=\"url(#p9640d3f155)\" d=\"M 194.776313 142.704 \nL 248.344313 142.704 \nL 248.344313 196.272 \nL 194.776313 196.272 \nL 194.776313 142.704 \n\" style=\"fill:#891e5b;stroke:#ffffff;\"/>\n    <path clip-path=\"url(#p9640d3f155)\" d=\"M 248.344313 142.704 \nL 301.912313 142.704 \nL 301.912313 196.272 \nL 248.344313 196.272 \nL 248.344313 142.704 \n\" style=\"fill:#03051a;stroke:#ffffff;\"/>\n    <path clip-path=\"url(#p9640d3f155)\" d=\"M 301.912313 142.704 \nL 355.480313 142.704 \nL 355.480313 196.272 \nL 301.912313 196.272 \nL 301.912313 142.704 \n\" style=\"fill:#03051a;stroke:#ffffff;\"/>\n   </g>\n   <g id=\"matplotlib.axis_1\">\n    <g id=\"xtick_1\">\n     <g id=\"line2d_1\">\n      <defs>\n       <path d=\"M 0 0 \nL 0 3.5 \n\" id=\"m2f2bbb6add\" style=\"stroke:#000000;stroke-width:0.8;\"/>\n      </defs>\n      <g>\n       <use style=\"stroke:#000000;stroke-width:0.8;\" x=\"114.424313\" xlink:href=\"#m2f2bbb6add\" y=\"196.272\"/>\n      </g>\n     </g>\n     <g id=\"text_1\">\n      <!-- anger -->\n      <g transform=\"translate(95.523531 213.149969)scale(0.13 -0.13)\">\n       <defs>\n        <path d=\"M 2194 1759 \nQ 1497 1759 1228 1600 \nQ 959 1441 959 1056 \nQ 959 750 1161 570 \nQ 1363 391 1709 391 \nQ 2188 391 2477 730 \nQ 2766 1069 2766 1631 \nL 2766 1759 \nL 2194 1759 \nz\nM 3341 1997 \nL 3341 0 \nL 2766 0 \nL 2766 531 \nQ 2569 213 2275 61 \nQ 1981 -91 1556 -91 \nQ 1019 -91 701 211 \nQ 384 513 384 1019 \nQ 384 1609 779 1909 \nQ 1175 2209 1959 2209 \nL 2766 2209 \nL 2766 2266 \nQ 2766 2663 2505 2880 \nQ 2244 3097 1772 3097 \nQ 1472 3097 1187 3025 \nQ 903 2953 641 2809 \nL 641 3341 \nQ 956 3463 1253 3523 \nQ 1550 3584 1831 3584 \nQ 2591 3584 2966 3190 \nQ 3341 2797 3341 1997 \nz\n\" id=\"DejaVuSans-61\" transform=\"scale(0.015625)\"/>\n        <path d=\"M 3513 2113 \nL 3513 0 \nL 2938 0 \nL 2938 2094 \nQ 2938 2591 2744 2837 \nQ 2550 3084 2163 3084 \nQ 1697 3084 1428 2787 \nQ 1159 2491 1159 1978 \nL 1159 0 \nL 581 0 \nL 581 3500 \nL 1159 3500 \nL 1159 2956 \nQ 1366 3272 1645 3428 \nQ 1925 3584 2291 3584 \nQ 2894 3584 3203 3211 \nQ 3513 2838 3513 2113 \nz\n\" id=\"DejaVuSans-6e\" transform=\"scale(0.015625)\"/>\n        <path d=\"M 2906 1791 \nQ 2906 2416 2648 2759 \nQ 2391 3103 1925 3103 \nQ 1463 3103 1205 2759 \nQ 947 2416 947 1791 \nQ 947 1169 1205 825 \nQ 1463 481 1925 481 \nQ 2391 481 2648 825 \nQ 2906 1169 2906 1791 \nz\nM 3481 434 \nQ 3481 -459 3084 -895 \nQ 2688 -1331 1869 -1331 \nQ 1566 -1331 1297 -1286 \nQ 1028 -1241 775 -1147 \nL 775 -588 \nQ 1028 -725 1275 -790 \nQ 1522 -856 1778 -856 \nQ 2344 -856 2625 -561 \nQ 2906 -266 2906 331 \nL 2906 616 \nQ 2728 306 2450 153 \nQ 2172 0 1784 0 \nQ 1141 0 747 490 \nQ 353 981 353 1791 \nQ 353 2603 747 3093 \nQ 1141 3584 1784 3584 \nQ 2172 3584 2450 3431 \nQ 2728 3278 2906 2969 \nL 2906 3500 \nL 3481 3500 \nL 3481 434 \nz\n\" id=\"DejaVuSans-67\" transform=\"scale(0.015625)\"/>\n        <path d=\"M 3597 1894 \nL 3597 1613 \nL 953 1613 \nQ 991 1019 1311 708 \nQ 1631 397 2203 397 \nQ 2534 397 2845 478 \nQ 3156 559 3463 722 \nL 3463 178 \nQ 3153 47 2828 -22 \nQ 2503 -91 2169 -91 \nQ 1331 -91 842 396 \nQ 353 884 353 1716 \nQ 353 2575 817 3079 \nQ 1281 3584 2069 3584 \nQ 2775 3584 3186 3129 \nQ 3597 2675 3597 1894 \nz\nM 3022 2063 \nQ 3016 2534 2758 2815 \nQ 2500 3097 2075 3097 \nQ 1594 3097 1305 2825 \nQ 1016 2553 972 2059 \nL 3022 2063 \nz\n\" id=\"DejaVuSans-65\" transform=\"scale(0.015625)\"/>\n        <path d=\"M 2631 2963 \nQ 2534 3019 2420 3045 \nQ 2306 3072 2169 3072 \nQ 1681 3072 1420 2755 \nQ 1159 2438 1159 1844 \nL 1159 0 \nL 581 0 \nL 581 3500 \nL 1159 3500 \nL 1159 2956 \nQ 1341 3275 1631 3429 \nQ 1922 3584 2338 3584 \nQ 2397 3584 2469 3576 \nQ 2541 3569 2628 3553 \nL 2631 2963 \nz\n\" id=\"DejaVuSans-72\" transform=\"scale(0.015625)\"/>\n       </defs>\n       <use xlink:href=\"#DejaVuSans-61\"/>\n       <use x=\"61.279297\" xlink:href=\"#DejaVuSans-6e\"/>\n       <use x=\"124.658203\" xlink:href=\"#DejaVuSans-67\"/>\n       <use x=\"188.134766\" xlink:href=\"#DejaVuSans-65\"/>\n       <use x=\"249.658203\" xlink:href=\"#DejaVuSans-72\"/>\n      </g>\n     </g>\n    </g>\n    <g id=\"xtick_2\">\n     <g id=\"line2d_2\">\n      <g>\n       <use style=\"stroke:#000000;stroke-width:0.8;\" x=\"167.992313\" xlink:href=\"#m2f2bbb6add\" y=\"196.272\"/>\n      </g>\n     </g>\n     <g id=\"text_2\">\n      <!-- happy -->\n      <g transform=\"translate(147.7895 213.149969)scale(0.13 -0.13)\">\n       <defs>\n        <path d=\"M 3513 2113 \nL 3513 0 \nL 2938 0 \nL 2938 2094 \nQ 2938 2591 2744 2837 \nQ 2550 3084 2163 3084 \nQ 1697 3084 1428 2787 \nQ 1159 2491 1159 1978 \nL 1159 0 \nL 581 0 \nL 581 4863 \nL 1159 4863 \nL 1159 2956 \nQ 1366 3272 1645 3428 \nQ 1925 3584 2291 3584 \nQ 2894 3584 3203 3211 \nQ 3513 2838 3513 2113 \nz\n\" id=\"DejaVuSans-68\" transform=\"scale(0.015625)\"/>\n        <path d=\"M 1159 525 \nL 1159 -1331 \nL 581 -1331 \nL 581 3500 \nL 1159 3500 \nL 1159 2969 \nQ 1341 3281 1617 3432 \nQ 1894 3584 2278 3584 \nQ 2916 3584 3314 3078 \nQ 3713 2572 3713 1747 \nQ 3713 922 3314 415 \nQ 2916 -91 2278 -91 \nQ 1894 -91 1617 61 \nQ 1341 213 1159 525 \nz\nM 3116 1747 \nQ 3116 2381 2855 2742 \nQ 2594 3103 2138 3103 \nQ 1681 3103 1420 2742 \nQ 1159 2381 1159 1747 \nQ 1159 1113 1420 752 \nQ 1681 391 2138 391 \nQ 2594 391 2855 752 \nQ 3116 1113 3116 1747 \nz\n\" id=\"DejaVuSans-70\" transform=\"scale(0.015625)\"/>\n        <path d=\"M 2059 -325 \nQ 1816 -950 1584 -1140 \nQ 1353 -1331 966 -1331 \nL 506 -1331 \nL 506 -850 \nL 844 -850 \nQ 1081 -850 1212 -737 \nQ 1344 -625 1503 -206 \nL 1606 56 \nL 191 3500 \nL 800 3500 \nL 1894 763 \nL 2988 3500 \nL 3597 3500 \nL 2059 -325 \nz\n\" id=\"DejaVuSans-79\" transform=\"scale(0.015625)\"/>\n       </defs>\n       <use xlink:href=\"#DejaVuSans-68\"/>\n       <use x=\"63.378906\" xlink:href=\"#DejaVuSans-61\"/>\n       <use x=\"124.658203\" xlink:href=\"#DejaVuSans-70\"/>\n       <use x=\"188.134766\" xlink:href=\"#DejaVuSans-70\"/>\n       <use x=\"251.611328\" xlink:href=\"#DejaVuSans-79\"/>\n      </g>\n     </g>\n    </g>\n    <g id=\"xtick_3\">\n     <g id=\"line2d_3\">\n      <g>\n       <use style=\"stroke:#000000;stroke-width:0.8;\" x=\"221.560313\" xlink:href=\"#m2f2bbb6add\" y=\"196.272\"/>\n      </g>\n     </g>\n     <g id=\"text_3\">\n      <!-- neutral -->\n      <g transform=\"translate(198.312656 213.149969)scale(0.13 -0.13)\">\n       <defs>\n        <path d=\"M 544 1381 \nL 544 3500 \nL 1119 3500 \nL 1119 1403 \nQ 1119 906 1312 657 \nQ 1506 409 1894 409 \nQ 2359 409 2629 706 \nQ 2900 1003 2900 1516 \nL 2900 3500 \nL 3475 3500 \nL 3475 0 \nL 2900 0 \nL 2900 538 \nQ 2691 219 2414 64 \nQ 2138 -91 1772 -91 \nQ 1169 -91 856 284 \nQ 544 659 544 1381 \nz\nM 1991 3584 \nL 1991 3584 \nz\n\" id=\"DejaVuSans-75\" transform=\"scale(0.015625)\"/>\n        <path d=\"M 1172 4494 \nL 1172 3500 \nL 2356 3500 \nL 2356 3053 \nL 1172 3053 \nL 1172 1153 \nQ 1172 725 1289 603 \nQ 1406 481 1766 481 \nL 2356 481 \nL 2356 0 \nL 1766 0 \nQ 1100 0 847 248 \nQ 594 497 594 1153 \nL 594 3053 \nL 172 3053 \nL 172 3500 \nL 594 3500 \nL 594 4494 \nL 1172 4494 \nz\n\" id=\"DejaVuSans-74\" transform=\"scale(0.015625)\"/>\n        <path d=\"M 603 4863 \nL 1178 4863 \nL 1178 0 \nL 603 0 \nL 603 4863 \nz\n\" id=\"DejaVuSans-6c\" transform=\"scale(0.015625)\"/>\n       </defs>\n       <use xlink:href=\"#DejaVuSans-6e\"/>\n       <use x=\"63.378906\" xlink:href=\"#DejaVuSans-65\"/>\n       <use x=\"124.902344\" xlink:href=\"#DejaVuSans-75\"/>\n       <use x=\"188.28125\" xlink:href=\"#DejaVuSans-74\"/>\n       <use x=\"227.490234\" xlink:href=\"#DejaVuSans-72\"/>\n       <use x=\"268.603516\" xlink:href=\"#DejaVuSans-61\"/>\n       <use x=\"329.882812\" xlink:href=\"#DejaVuSans-6c\"/>\n      </g>\n     </g>\n    </g>\n    <g id=\"xtick_4\">\n     <g id=\"line2d_4\">\n      <g>\n       <use style=\"stroke:#000000;stroke-width:0.8;\" x=\"275.128313\" xlink:href=\"#m2f2bbb6add\" y=\"196.272\"/>\n      </g>\n     </g>\n     <g id=\"text_4\">\n      <!-- sad -->\n      <g transform=\"translate(263.632453 213.149969)scale(0.13 -0.13)\">\n       <defs>\n        <path d=\"M 2834 3397 \nL 2834 2853 \nQ 2591 2978 2328 3040 \nQ 2066 3103 1784 3103 \nQ 1356 3103 1142 2972 \nQ 928 2841 928 2578 \nQ 928 2378 1081 2264 \nQ 1234 2150 1697 2047 \nL 1894 2003 \nQ 2506 1872 2764 1633 \nQ 3022 1394 3022 966 \nQ 3022 478 2636 193 \nQ 2250 -91 1575 -91 \nQ 1294 -91 989 -36 \nQ 684 19 347 128 \nL 347 722 \nQ 666 556 975 473 \nQ 1284 391 1588 391 \nQ 1994 391 2212 530 \nQ 2431 669 2431 922 \nQ 2431 1156 2273 1281 \nQ 2116 1406 1581 1522 \nL 1381 1569 \nQ 847 1681 609 1914 \nQ 372 2147 372 2553 \nQ 372 3047 722 3315 \nQ 1072 3584 1716 3584 \nQ 2034 3584 2315 3537 \nQ 2597 3491 2834 3397 \nz\n\" id=\"DejaVuSans-73\" transform=\"scale(0.015625)\"/>\n        <path d=\"M 2906 2969 \nL 2906 4863 \nL 3481 4863 \nL 3481 0 \nL 2906 0 \nL 2906 525 \nQ 2725 213 2448 61 \nQ 2172 -91 1784 -91 \nQ 1150 -91 751 415 \nQ 353 922 353 1747 \nQ 353 2572 751 3078 \nQ 1150 3584 1784 3584 \nQ 2172 3584 2448 3432 \nQ 2725 3281 2906 2969 \nz\nM 947 1747 \nQ 947 1113 1208 752 \nQ 1469 391 1925 391 \nQ 2381 391 2643 752 \nQ 2906 1113 2906 1747 \nQ 2906 2381 2643 2742 \nQ 2381 3103 1925 3103 \nQ 1469 3103 1208 2742 \nQ 947 2381 947 1747 \nz\n\" id=\"DejaVuSans-64\" transform=\"scale(0.015625)\"/>\n       </defs>\n       <use xlink:href=\"#DejaVuSans-73\"/>\n       <use x=\"52.099609\" xlink:href=\"#DejaVuSans-61\"/>\n       <use x=\"113.378906\" xlink:href=\"#DejaVuSans-64\"/>\n      </g>\n     </g>\n    </g>\n    <g id=\"xtick_5\">\n     <g id=\"line2d_5\">\n      <g>\n       <use style=\"stroke:#000000;stroke-width:0.8;\" x=\"328.696313\" xlink:href=\"#m2f2bbb6add\" y=\"196.272\"/>\n      </g>\n     </g>\n     <g id=\"text_5\">\n      <!-- surprise -->\n      <g transform=\"translate(302.528734 213.149969)scale(0.13 -0.13)\">\n       <defs>\n        <path d=\"M 603 3500 \nL 1178 3500 \nL 1178 0 \nL 603 0 \nL 603 3500 \nz\nM 603 4863 \nL 1178 4863 \nL 1178 4134 \nL 603 4134 \nL 603 4863 \nz\n\" id=\"DejaVuSans-69\" transform=\"scale(0.015625)\"/>\n       </defs>\n       <use xlink:href=\"#DejaVuSans-73\"/>\n       <use x=\"52.099609\" xlink:href=\"#DejaVuSans-75\"/>\n       <use x=\"115.478516\" xlink:href=\"#DejaVuSans-72\"/>\n       <use x=\"156.591797\" xlink:href=\"#DejaVuSans-70\"/>\n       <use x=\"220.068359\" xlink:href=\"#DejaVuSans-72\"/>\n       <use x=\"261.181641\" xlink:href=\"#DejaVuSans-69\"/>\n       <use x=\"288.964844\" xlink:href=\"#DejaVuSans-73\"/>\n       <use x=\"341.064453\" xlink:href=\"#DejaVuSans-65\"/>\n      </g>\n     </g>\n    </g>\n    <g id=\"text_6\">\n     <!-- Predicted Emotion -->\n     <g transform=\"translate(162.116797 229.731531)scale(0.13 -0.13)\">\n      <defs>\n       <path d=\"M 1259 4147 \nL 1259 2394 \nL 2053 2394 \nQ 2494 2394 2734 2622 \nQ 2975 2850 2975 3272 \nQ 2975 3691 2734 3919 \nQ 2494 4147 2053 4147 \nL 1259 4147 \nz\nM 628 4666 \nL 2053 4666 \nQ 2838 4666 3239 4311 \nQ 3641 3956 3641 3272 \nQ 3641 2581 3239 2228 \nQ 2838 1875 2053 1875 \nL 1259 1875 \nL 1259 0 \nL 628 0 \nL 628 4666 \nz\n\" id=\"DejaVuSans-50\" transform=\"scale(0.015625)\"/>\n       <path d=\"M 3122 3366 \nL 3122 2828 \nQ 2878 2963 2633 3030 \nQ 2388 3097 2138 3097 \nQ 1578 3097 1268 2742 \nQ 959 2388 959 1747 \nQ 959 1106 1268 751 \nQ 1578 397 2138 397 \nQ 2388 397 2633 464 \nQ 2878 531 3122 666 \nL 3122 134 \nQ 2881 22 2623 -34 \nQ 2366 -91 2075 -91 \nQ 1284 -91 818 406 \nQ 353 903 353 1747 \nQ 353 2603 823 3093 \nQ 1294 3584 2113 3584 \nQ 2378 3584 2631 3529 \nQ 2884 3475 3122 3366 \nz\n\" id=\"DejaVuSans-63\" transform=\"scale(0.015625)\"/>\n       <path id=\"DejaVuSans-20\" transform=\"scale(0.015625)\"/>\n       <path d=\"M 628 4666 \nL 3578 4666 \nL 3578 4134 \nL 1259 4134 \nL 1259 2753 \nL 3481 2753 \nL 3481 2222 \nL 1259 2222 \nL 1259 531 \nL 3634 531 \nL 3634 0 \nL 628 0 \nL 628 4666 \nz\n\" id=\"DejaVuSans-45\" transform=\"scale(0.015625)\"/>\n       <path d=\"M 3328 2828 \nQ 3544 3216 3844 3400 \nQ 4144 3584 4550 3584 \nQ 5097 3584 5394 3201 \nQ 5691 2819 5691 2113 \nL 5691 0 \nL 5113 0 \nL 5113 2094 \nQ 5113 2597 4934 2840 \nQ 4756 3084 4391 3084 \nQ 3944 3084 3684 2787 \nQ 3425 2491 3425 1978 \nL 3425 0 \nL 2847 0 \nL 2847 2094 \nQ 2847 2600 2669 2842 \nQ 2491 3084 2119 3084 \nQ 1678 3084 1418 2786 \nQ 1159 2488 1159 1978 \nL 1159 0 \nL 581 0 \nL 581 3500 \nL 1159 3500 \nL 1159 2956 \nQ 1356 3278 1631 3431 \nQ 1906 3584 2284 3584 \nQ 2666 3584 2933 3390 \nQ 3200 3197 3328 2828 \nz\n\" id=\"DejaVuSans-6d\" transform=\"scale(0.015625)\"/>\n       <path d=\"M 1959 3097 \nQ 1497 3097 1228 2736 \nQ 959 2375 959 1747 \nQ 959 1119 1226 758 \nQ 1494 397 1959 397 \nQ 2419 397 2687 759 \nQ 2956 1122 2956 1747 \nQ 2956 2369 2687 2733 \nQ 2419 3097 1959 3097 \nz\nM 1959 3584 \nQ 2709 3584 3137 3096 \nQ 3566 2609 3566 1747 \nQ 3566 888 3137 398 \nQ 2709 -91 1959 -91 \nQ 1206 -91 779 398 \nQ 353 888 353 1747 \nQ 353 2609 779 3096 \nQ 1206 3584 1959 3584 \nz\n\" id=\"DejaVuSans-6f\" transform=\"scale(0.015625)\"/>\n      </defs>\n      <use xlink:href=\"#DejaVuSans-50\"/>\n      <use x=\"58.552734\" xlink:href=\"#DejaVuSans-72\"/>\n      <use x=\"97.416016\" xlink:href=\"#DejaVuSans-65\"/>\n      <use x=\"158.939453\" xlink:href=\"#DejaVuSans-64\"/>\n      <use x=\"222.416016\" xlink:href=\"#DejaVuSans-69\"/>\n      <use x=\"250.199219\" xlink:href=\"#DejaVuSans-63\"/>\n      <use x=\"305.179688\" xlink:href=\"#DejaVuSans-74\"/>\n      <use x=\"344.388672\" xlink:href=\"#DejaVuSans-65\"/>\n      <use x=\"405.912109\" xlink:href=\"#DejaVuSans-64\"/>\n      <use x=\"469.388672\" xlink:href=\"#DejaVuSans-20\"/>\n      <use x=\"501.175781\" xlink:href=\"#DejaVuSans-45\"/>\n      <use x=\"564.359375\" xlink:href=\"#DejaVuSans-6d\"/>\n      <use x=\"661.771484\" xlink:href=\"#DejaVuSans-6f\"/>\n      <use x=\"722.953125\" xlink:href=\"#DejaVuSans-74\"/>\n      <use x=\"762.162109\" xlink:href=\"#DejaVuSans-69\"/>\n      <use x=\"789.945312\" xlink:href=\"#DejaVuSans-6f\"/>\n      <use x=\"851.126953\" xlink:href=\"#DejaVuSans-6e\"/>\n     </g>\n    </g>\n   </g>\n   <g id=\"matplotlib.axis_2\">\n    <g id=\"ytick_1\">\n     <g id=\"line2d_6\">\n      <defs>\n       <path d=\"M 0 0 \nL -3.5 0 \n\" id=\"m878632da1c\" style=\"stroke:#000000;stroke-width:0.8;\"/>\n      </defs>\n      <g>\n       <use style=\"stroke:#000000;stroke-width:0.8;\" x=\"87.640313\" xlink:href=\"#m878632da1c\" y=\"62.352\"/>\n      </g>\n     </g>\n     <g id=\"text_7\">\n      <!-- negative -->\n      <g transform=\"translate(23.781563 67.290984)scale(0.13 -0.13)\">\n       <defs>\n        <path d=\"M 191 3500 \nL 800 3500 \nL 1894 563 \nL 2988 3500 \nL 3597 3500 \nL 2284 0 \nL 1503 0 \nL 191 3500 \nz\n\" id=\"DejaVuSans-76\" transform=\"scale(0.015625)\"/>\n       </defs>\n       <use xlink:href=\"#DejaVuSans-6e\"/>\n       <use x=\"63.378906\" xlink:href=\"#DejaVuSans-65\"/>\n       <use x=\"124.902344\" xlink:href=\"#DejaVuSans-67\"/>\n       <use x=\"188.378906\" xlink:href=\"#DejaVuSans-61\"/>\n       <use x=\"249.658203\" xlink:href=\"#DejaVuSans-74\"/>\n       <use x=\"288.867188\" xlink:href=\"#DejaVuSans-69\"/>\n       <use x=\"316.650391\" xlink:href=\"#DejaVuSans-76\"/>\n       <use x=\"375.830078\" xlink:href=\"#DejaVuSans-65\"/>\n      </g>\n     </g>\n    </g>\n    <g id=\"ytick_2\">\n     <g id=\"line2d_7\">\n      <g>\n       <use style=\"stroke:#000000;stroke-width:0.8;\" x=\"87.640313\" xlink:href=\"#m878632da1c\" y=\"115.92\"/>\n      </g>\n     </g>\n     <g id=\"text_8\">\n      <!-- neutral -->\n      <g transform=\"translate(34.145 120.858984)scale(0.13 -0.13)\">\n       <use xlink:href=\"#DejaVuSans-6e\"/>\n       <use x=\"63.378906\" xlink:href=\"#DejaVuSans-65\"/>\n       <use x=\"124.902344\" xlink:href=\"#DejaVuSans-75\"/>\n       <use x=\"188.28125\" xlink:href=\"#DejaVuSans-74\"/>\n       <use x=\"227.490234\" xlink:href=\"#DejaVuSans-72\"/>\n       <use x=\"268.603516\" xlink:href=\"#DejaVuSans-61\"/>\n       <use x=\"329.882812\" xlink:href=\"#DejaVuSans-6c\"/>\n      </g>\n     </g>\n    </g>\n    <g id=\"ytick_3\">\n     <g id=\"line2d_8\">\n      <g>\n       <use style=\"stroke:#000000;stroke-width:0.8;\" x=\"87.640313\" xlink:href=\"#m878632da1c\" y=\"169.488\"/>\n      </g>\n     </g>\n     <g id=\"text_9\">\n      <!-- positive -->\n      <g transform=\"translate(29.647813 174.426984)scale(0.13 -0.13)\">\n       <use xlink:href=\"#DejaVuSans-70\"/>\n       <use x=\"63.476562\" xlink:href=\"#DejaVuSans-6f\"/>\n       <use x=\"124.658203\" xlink:href=\"#DejaVuSans-73\"/>\n       <use x=\"176.757812\" xlink:href=\"#DejaVuSans-69\"/>\n       <use x=\"204.541016\" xlink:href=\"#DejaVuSans-74\"/>\n       <use x=\"243.75\" xlink:href=\"#DejaVuSans-69\"/>\n       <use x=\"271.533203\" xlink:href=\"#DejaVuSans-76\"/>\n       <use x=\"330.712891\" xlink:href=\"#DejaVuSans-65\"/>\n      </g>\n     </g>\n    </g>\n    <g id=\"text_10\">\n     <!-- Video Type -->\n     <g transform=\"translate(17.077969 151.122578)rotate(-90)scale(0.13 -0.13)\">\n      <defs>\n       <path d=\"M 1831 0 \nL 50 4666 \nL 709 4666 \nL 2188 738 \nL 3669 4666 \nL 4325 4666 \nL 2547 0 \nL 1831 0 \nz\n\" id=\"DejaVuSans-56\" transform=\"scale(0.015625)\"/>\n       <path d=\"M -19 4666 \nL 3928 4666 \nL 3928 4134 \nL 2272 4134 \nL 2272 0 \nL 1638 0 \nL 1638 4134 \nL -19 4134 \nL -19 4666 \nz\n\" id=\"DejaVuSans-54\" transform=\"scale(0.015625)\"/>\n      </defs>\n      <use xlink:href=\"#DejaVuSans-56\"/>\n      <use x=\"66.158203\" xlink:href=\"#DejaVuSans-69\"/>\n      <use x=\"93.941406\" xlink:href=\"#DejaVuSans-64\"/>\n      <use x=\"157.417969\" xlink:href=\"#DejaVuSans-65\"/>\n      <use x=\"218.941406\" xlink:href=\"#DejaVuSans-6f\"/>\n      <use x=\"280.123047\" xlink:href=\"#DejaVuSans-20\"/>\n      <use x=\"311.910156\" xlink:href=\"#DejaVuSans-54\"/>\n      <use x=\"357.369141\" xlink:href=\"#DejaVuSans-79\"/>\n      <use x=\"416.548828\" xlink:href=\"#DejaVuSans-70\"/>\n      <use x=\"480.025391\" xlink:href=\"#DejaVuSans-65\"/>\n     </g>\n    </g>\n   </g>\n   <g id=\"text_11\">\n    <!-- 0 -->\n    <g style=\"fill:#ffffff;\" transform=\"translate(110.288688 65.939187)scale(0.13 -0.13)\">\n     <defs>\n      <path d=\"M 2034 4250 \nQ 1547 4250 1301 3770 \nQ 1056 3291 1056 2328 \nQ 1056 1369 1301 889 \nQ 1547 409 2034 409 \nQ 2525 409 2770 889 \nQ 3016 1369 3016 2328 \nQ 3016 3291 2770 3770 \nQ 2525 4250 2034 4250 \nz\nM 2034 4750 \nQ 2819 4750 3233 4129 \nQ 3647 3509 3647 2328 \nQ 3647 1150 3233 529 \nQ 2819 -91 2034 -91 \nQ 1250 -91 836 529 \nQ 422 1150 422 2328 \nQ 422 3509 836 4129 \nQ 1250 4750 2034 4750 \nz\n\" id=\"DejaVuSans-30\" transform=\"scale(0.015625)\"/>\n     </defs>\n     <use xlink:href=\"#DejaVuSans-30\"/>\n    </g>\n   </g>\n   <g id=\"text_12\">\n    <!-- 557 -->\n    <g style=\"fill:#ffffff;\" transform=\"translate(155.585438 65.939187)scale(0.13 -0.13)\">\n     <defs>\n      <path d=\"M 691 4666 \nL 3169 4666 \nL 3169 4134 \nL 1269 4134 \nL 1269 2991 \nQ 1406 3038 1543 3061 \nQ 1681 3084 1819 3084 \nQ 2600 3084 3056 2656 \nQ 3513 2228 3513 1497 \nQ 3513 744 3044 326 \nQ 2575 -91 1722 -91 \nQ 1428 -91 1123 -41 \nQ 819 9 494 109 \nL 494 744 \nQ 775 591 1075 516 \nQ 1375 441 1709 441 \nQ 2250 441 2565 725 \nQ 2881 1009 2881 1497 \nQ 2881 1984 2565 2268 \nQ 2250 2553 1709 2553 \nQ 1456 2553 1204 2497 \nQ 953 2441 691 2322 \nL 691 4666 \nz\n\" id=\"DejaVuSans-35\" transform=\"scale(0.015625)\"/>\n      <path d=\"M 525 4666 \nL 3525 4666 \nL 3525 4397 \nL 1831 0 \nL 1172 0 \nL 2766 4134 \nL 525 4134 \nL 525 4666 \nz\n\" id=\"DejaVuSans-37\" transform=\"scale(0.015625)\"/>\n     </defs>\n     <use xlink:href=\"#DejaVuSans-35\"/>\n     <use x=\"63.623047\" xlink:href=\"#DejaVuSans-35\"/>\n     <use x=\"127.246094\" xlink:href=\"#DejaVuSans-37\"/>\n    </g>\n   </g>\n   <g id=\"text_13\">\n    <!-- 561 -->\n    <g style=\"fill:#ffffff;\" transform=\"translate(209.153437 65.939187)scale(0.13 -0.13)\">\n     <defs>\n      <path d=\"M 2113 2584 \nQ 1688 2584 1439 2293 \nQ 1191 2003 1191 1497 \nQ 1191 994 1439 701 \nQ 1688 409 2113 409 \nQ 2538 409 2786 701 \nQ 3034 994 3034 1497 \nQ 3034 2003 2786 2293 \nQ 2538 2584 2113 2584 \nz\nM 3366 4563 \nL 3366 3988 \nQ 3128 4100 2886 4159 \nQ 2644 4219 2406 4219 \nQ 1781 4219 1451 3797 \nQ 1122 3375 1075 2522 \nQ 1259 2794 1537 2939 \nQ 1816 3084 2150 3084 \nQ 2853 3084 3261 2657 \nQ 3669 2231 3669 1497 \nQ 3669 778 3244 343 \nQ 2819 -91 2113 -91 \nQ 1303 -91 875 529 \nQ 447 1150 447 2328 \nQ 447 3434 972 4092 \nQ 1497 4750 2381 4750 \nQ 2619 4750 2861 4703 \nQ 3103 4656 3366 4563 \nz\n\" id=\"DejaVuSans-36\" transform=\"scale(0.015625)\"/>\n      <path d=\"M 794 531 \nL 1825 531 \nL 1825 4091 \nL 703 3866 \nL 703 4441 \nL 1819 4666 \nL 2450 4666 \nL 2450 531 \nL 3481 531 \nL 3481 0 \nL 794 0 \nL 794 531 \nz\n\" id=\"DejaVuSans-31\" transform=\"scale(0.015625)\"/>\n     </defs>\n     <use xlink:href=\"#DejaVuSans-35\"/>\n     <use x=\"63.623047\" xlink:href=\"#DejaVuSans-36\"/>\n     <use x=\"127.246094\" xlink:href=\"#DejaVuSans-31\"/>\n    </g>\n   </g>\n   <g id=\"text_14\">\n    <!-- 59 -->\n    <g style=\"fill:#ffffff;\" transform=\"translate(266.857063 65.939187)scale(0.13 -0.13)\">\n     <defs>\n      <path d=\"M 703 97 \nL 703 672 \nQ 941 559 1184 500 \nQ 1428 441 1663 441 \nQ 2288 441 2617 861 \nQ 2947 1281 2994 2138 \nQ 2813 1869 2534 1725 \nQ 2256 1581 1919 1581 \nQ 1219 1581 811 2004 \nQ 403 2428 403 3163 \nQ 403 3881 828 4315 \nQ 1253 4750 1959 4750 \nQ 2769 4750 3195 4129 \nQ 3622 3509 3622 2328 \nQ 3622 1225 3098 567 \nQ 2575 -91 1691 -91 \nQ 1453 -91 1209 -44 \nQ 966 3 703 97 \nz\nM 1959 2075 \nQ 2384 2075 2632 2365 \nQ 2881 2656 2881 3163 \nQ 2881 3666 2632 3958 \nQ 2384 4250 1959 4250 \nQ 1534 4250 1286 3958 \nQ 1038 3666 1038 3163 \nQ 1038 2656 1286 2365 \nQ 1534 2075 1959 2075 \nz\n\" id=\"DejaVuSans-39\" transform=\"scale(0.015625)\"/>\n     </defs>\n     <use xlink:href=\"#DejaVuSans-35\"/>\n     <use x=\"63.623047\" xlink:href=\"#DejaVuSans-39\"/>\n    </g>\n   </g>\n   <g id=\"text_15\">\n    <!-- 126 -->\n    <g style=\"fill:#ffffff;\" transform=\"translate(316.289438 65.939187)scale(0.13 -0.13)\">\n     <defs>\n      <path d=\"M 1228 531 \nL 3431 531 \nL 3431 0 \nL 469 0 \nL 469 531 \nQ 828 903 1448 1529 \nQ 2069 2156 2228 2338 \nQ 2531 2678 2651 2914 \nQ 2772 3150 2772 3378 \nQ 2772 3750 2511 3984 \nQ 2250 4219 1831 4219 \nQ 1534 4219 1204 4116 \nQ 875 4013 500 3803 \nL 500 4441 \nQ 881 4594 1212 4672 \nQ 1544 4750 1819 4750 \nQ 2544 4750 2975 4387 \nQ 3406 4025 3406 3419 \nQ 3406 3131 3298 2873 \nQ 3191 2616 2906 2266 \nQ 2828 2175 2409 1742 \nQ 1991 1309 1228 531 \nz\n\" id=\"DejaVuSans-32\" transform=\"scale(0.015625)\"/>\n     </defs>\n     <use xlink:href=\"#DejaVuSans-31\"/>\n     <use x=\"63.623047\" xlink:href=\"#DejaVuSans-32\"/>\n     <use x=\"127.246094\" xlink:href=\"#DejaVuSans-36\"/>\n    </g>\n   </g>\n   <g id=\"text_16\">\n    <!-- 23 -->\n    <g style=\"fill:#ffffff;\" transform=\"translate(106.153063 119.507187)scale(0.13 -0.13)\">\n     <defs>\n      <path d=\"M 2597 2516 \nQ 3050 2419 3304 2112 \nQ 3559 1806 3559 1356 \nQ 3559 666 3084 287 \nQ 2609 -91 1734 -91 \nQ 1441 -91 1130 -33 \nQ 819 25 488 141 \nL 488 750 \nQ 750 597 1062 519 \nQ 1375 441 1716 441 \nQ 2309 441 2620 675 \nQ 2931 909 2931 1356 \nQ 2931 1769 2642 2001 \nQ 2353 2234 1838 2234 \nL 1294 2234 \nL 1294 2753 \nL 1863 2753 \nQ 2328 2753 2575 2939 \nQ 2822 3125 2822 3475 \nQ 2822 3834 2567 4026 \nQ 2313 4219 1838 4219 \nQ 1578 4219 1281 4162 \nQ 984 4106 628 3988 \nL 628 4550 \nQ 988 4650 1302 4700 \nQ 1616 4750 1894 4750 \nQ 2613 4750 3031 4423 \nQ 3450 4097 3450 3541 \nQ 3450 3153 3228 2886 \nQ 3006 2619 2597 2516 \nz\n\" id=\"DejaVuSans-33\" transform=\"scale(0.015625)\"/>\n     </defs>\n     <use xlink:href=\"#DejaVuSans-32\"/>\n     <use x=\"63.623047\" xlink:href=\"#DejaVuSans-33\"/>\n    </g>\n   </g>\n   <g id=\"text_17\">\n    <!-- 726 -->\n    <g style=\"fill:#ffffff;\" transform=\"translate(155.585438 119.507187)scale(0.13 -0.13)\">\n     <use xlink:href=\"#DejaVuSans-37\"/>\n     <use x=\"63.623047\" xlink:href=\"#DejaVuSans-32\"/>\n     <use x=\"127.246094\" xlink:href=\"#DejaVuSans-36\"/>\n    </g>\n   </g>\n   <g id=\"text_18\">\n    <!-- 2118 -->\n    <g style=\"fill:#ffffff;\" transform=\"translate(205.017813 119.507187)scale(0.13 -0.13)\">\n     <defs>\n      <path d=\"M 2034 2216 \nQ 1584 2216 1326 1975 \nQ 1069 1734 1069 1313 \nQ 1069 891 1326 650 \nQ 1584 409 2034 409 \nQ 2484 409 2743 651 \nQ 3003 894 3003 1313 \nQ 3003 1734 2745 1975 \nQ 2488 2216 2034 2216 \nz\nM 1403 2484 \nQ 997 2584 770 2862 \nQ 544 3141 544 3541 \nQ 544 4100 942 4425 \nQ 1341 4750 2034 4750 \nQ 2731 4750 3128 4425 \nQ 3525 4100 3525 3541 \nQ 3525 3141 3298 2862 \nQ 3072 2584 2669 2484 \nQ 3125 2378 3379 2068 \nQ 3634 1759 3634 1313 \nQ 3634 634 3220 271 \nQ 2806 -91 2034 -91 \nQ 1263 -91 848 271 \nQ 434 634 434 1313 \nQ 434 1759 690 2068 \nQ 947 2378 1403 2484 \nz\nM 1172 3481 \nQ 1172 3119 1398 2916 \nQ 1625 2713 2034 2713 \nQ 2441 2713 2670 2916 \nQ 2900 3119 2900 3481 \nQ 2900 3844 2670 4047 \nQ 2441 4250 2034 4250 \nQ 1625 4250 1398 4047 \nQ 1172 3844 1172 3481 \nz\n\" id=\"DejaVuSans-38\" transform=\"scale(0.015625)\"/>\n     </defs>\n     <use xlink:href=\"#DejaVuSans-32\"/>\n     <use x=\"63.623047\" xlink:href=\"#DejaVuSans-31\"/>\n     <use x=\"127.246094\" xlink:href=\"#DejaVuSans-31\"/>\n     <use x=\"190.869141\" xlink:href=\"#DejaVuSans-38\"/>\n    </g>\n   </g>\n   <g id=\"text_19\">\n    <!-- 573 -->\n    <g style=\"fill:#ffffff;\" transform=\"translate(262.721438 119.507187)scale(0.13 -0.13)\">\n     <use xlink:href=\"#DejaVuSans-35\"/>\n     <use x=\"63.623047\" xlink:href=\"#DejaVuSans-37\"/>\n     <use x=\"127.246094\" xlink:href=\"#DejaVuSans-33\"/>\n    </g>\n   </g>\n   <g id=\"text_20\">\n    <!-- 29 -->\n    <g style=\"fill:#ffffff;\" transform=\"translate(320.425063 119.507187)scale(0.13 -0.13)\">\n     <use xlink:href=\"#DejaVuSans-32\"/>\n     <use x=\"63.623047\" xlink:href=\"#DejaVuSans-39\"/>\n    </g>\n   </g>\n   <g id=\"text_21\">\n    <!-- 74 -->\n    <g style=\"fill:#ffffff;\" transform=\"translate(106.153063 173.075187)scale(0.13 -0.13)\">\n     <defs>\n      <path d=\"M 2419 4116 \nL 825 1625 \nL 2419 1625 \nL 2419 4116 \nz\nM 2253 4666 \nL 3047 4666 \nL 3047 1625 \nL 3713 1625 \nL 3713 1100 \nL 3047 1100 \nL 3047 0 \nL 2419 0 \nL 2419 1100 \nL 313 1100 \nL 313 1709 \nL 2253 4666 \nz\n\" id=\"DejaVuSans-34\" transform=\"scale(0.015625)\"/>\n     </defs>\n     <use xlink:href=\"#DejaVuSans-37\"/>\n     <use x=\"63.623047\" xlink:href=\"#DejaVuSans-34\"/>\n    </g>\n   </g>\n   <g id=\"text_22\">\n    <!-- 3749 -->\n    <g style=\"fill:#262626;\" transform=\"translate(151.449813 173.075187)scale(0.13 -0.13)\">\n     <use xlink:href=\"#DejaVuSans-33\"/>\n     <use x=\"63.623047\" xlink:href=\"#DejaVuSans-37\"/>\n     <use x=\"127.246094\" xlink:href=\"#DejaVuSans-34\"/>\n     <use x=\"190.869141\" xlink:href=\"#DejaVuSans-39\"/>\n    </g>\n   </g>\n   <g id=\"text_23\">\n    <!-- 1142 -->\n    <g style=\"fill:#ffffff;\" transform=\"translate(205.017813 173.075187)scale(0.13 -0.13)\">\n     <use xlink:href=\"#DejaVuSans-31\"/>\n     <use x=\"63.623047\" xlink:href=\"#DejaVuSans-31\"/>\n     <use x=\"127.246094\" xlink:href=\"#DejaVuSans-34\"/>\n     <use x=\"190.869141\" xlink:href=\"#DejaVuSans-32\"/>\n    </g>\n   </g>\n   <g id=\"text_24\">\n    <!-- 12 -->\n    <g style=\"fill:#ffffff;\" transform=\"translate(266.857063 173.075187)scale(0.13 -0.13)\">\n     <use xlink:href=\"#DejaVuSans-31\"/>\n     <use x=\"63.623047\" xlink:href=\"#DejaVuSans-32\"/>\n    </g>\n   </g>\n   <g id=\"text_25\">\n    <!-- 0 -->\n    <g style=\"fill:#ffffff;\" transform=\"translate(324.560688 173.075187)scale(0.13 -0.13)\">\n     <use xlink:href=\"#DejaVuSans-30\"/>\n    </g>\n   </g>\n  </g>\n  <g id=\"axes_2\">\n   <g id=\"patch_3\">\n    <path d=\"M 372.220313 224.64 \nL 383.092313 224.64 \nL 383.092313 7.2 \nL 372.220313 7.2 \nz\n\" style=\"fill:#ffffff;\"/>\n   </g>\n   <g id=\"patch_4\">\n    <path clip-path=\"url(#p1d8860b550)\" d=\"M 372.220313 224.64 \nL 372.220313 223.790625 \nL 372.220313 8.049375 \nL 372.220313 7.2 \nL 383.092313 7.2 \nL 383.092313 8.049375 \nL 383.092313 223.790625 \nL 383.092313 224.64 \nL 383.092313 224.64 \nz\n\" style=\"fill:#ffffff;stroke:#ffffff;stroke-linejoin:miter;stroke-width:0.01;\"/>\n   </g>\n   <image height=\"217\" id=\"image2ced47f7f9\" transform=\"scale(1 -1)translate(0 -217)\" width=\"11\" x=\"372\" xlink:href=\"data:image/png;base64,\niVBORw0KGgoAAAANSUhEUgAAAAsAAADZCAYAAAD2WsoCAAABVUlEQVR4nO3aMW4DQQxDUWlHuUTuf844dbp5BQHZyNYCQX5xBuuF+3x9v+rymb6drKrpvh+fp5+YMgx3pZTPkoCkLDRIOUgj5hmVIaDRiFV0S/nJxpZ1C41aUX4LeD3K3dhBA1t3/0TLDzaSJwVs0LpJOXhviA0sf4rzkiK9Y0Bbt9FIKS8JONe/JdwGDcdOtwwfoYEBZXjHUj6eRrL899IWMHdvzAs8L6HRpHwvXHNiyuhZhmErFrCbbMSKRMoyfKB2SRqywZyNB67+6SXo4BDOc35AmZZCNAxdygauO2WDlIuKNKBsNozGCuWGS1dtpJRLlM2G0MCAqWH62iOvJ1MPDe9AJ9/riEbHaJhnQyfK5/4Lh657Bzr4hDNFx8oCrqDRRiMXUIZzSzn3rwVrPOcC5ta9pEifTqNbTve8Iw0JGFu3cd7RjTpfG2zQvyz+A/4ZBuVfYnEsHsHaiiUAAAAASUVORK5CYII=\" y=\"-7\"/>\n   <g id=\"matplotlib.axis_3\"/>\n   <g id=\"matplotlib.axis_4\">\n    <g id=\"ytick_4\">\n     <g id=\"line2d_9\">\n      <defs>\n       <path d=\"M 0 0 \nL 3.5 0 \n\" id=\"m2049dca43f\" style=\"stroke:#000000;stroke-width:0.8;\"/>\n      </defs>\n      <g>\n       <use style=\"stroke:#000000;stroke-width:0.8;\" x=\"383.092313\" xlink:href=\"#m2049dca43f\" y=\"224.64\"/>\n      </g>\n     </g>\n     <g id=\"text_26\">\n      <!-- 0 -->\n      <g transform=\"translate(390.092313 229.578984)scale(0.13 -0.13)\">\n       <use xlink:href=\"#DejaVuSans-30\"/>\n      </g>\n     </g>\n    </g>\n    <g id=\"ytick_5\">\n     <g id=\"line2d_10\">\n      <g>\n       <use style=\"stroke:#000000;stroke-width:0.8;\" x=\"383.092313\" xlink:href=\"#m2049dca43f\" y=\"191.617694\"/>\n      </g>\n     </g>\n     <g id=\"text_27\">\n      <!-- 500 -->\n      <g transform=\"translate(390.092313 196.556678)scale(0.13 -0.13)\">\n       <use xlink:href=\"#DejaVuSans-35\"/>\n       <use x=\"63.623047\" xlink:href=\"#DejaVuSans-30\"/>\n       <use x=\"127.246094\" xlink:href=\"#DejaVuSans-30\"/>\n      </g>\n     </g>\n    </g>\n    <g id=\"ytick_6\">\n     <g id=\"line2d_11\">\n      <g>\n       <use style=\"stroke:#000000;stroke-width:0.8;\" x=\"383.092313\" xlink:href=\"#m2049dca43f\" y=\"158.595387\"/>\n      </g>\n     </g>\n     <g id=\"text_28\">\n      <!-- 1000 -->\n      <g transform=\"translate(390.092313 163.534371)scale(0.13 -0.13)\">\n       <use xlink:href=\"#DejaVuSans-31\"/>\n       <use x=\"63.623047\" xlink:href=\"#DejaVuSans-30\"/>\n       <use x=\"127.246094\" xlink:href=\"#DejaVuSans-30\"/>\n       <use x=\"190.869141\" xlink:href=\"#DejaVuSans-30\"/>\n      </g>\n     </g>\n    </g>\n    <g id=\"ytick_7\">\n     <g id=\"line2d_12\">\n      <g>\n       <use style=\"stroke:#000000;stroke-width:0.8;\" x=\"383.092313\" xlink:href=\"#m2049dca43f\" y=\"125.573081\"/>\n      </g>\n     </g>\n     <g id=\"text_29\">\n      <!-- 1500 -->\n      <g transform=\"translate(390.092313 130.512065)scale(0.13 -0.13)\">\n       <use xlink:href=\"#DejaVuSans-31\"/>\n       <use x=\"63.623047\" xlink:href=\"#DejaVuSans-35\"/>\n       <use x=\"127.246094\" xlink:href=\"#DejaVuSans-30\"/>\n       <use x=\"190.869141\" xlink:href=\"#DejaVuSans-30\"/>\n      </g>\n     </g>\n    </g>\n    <g id=\"ytick_8\">\n     <g id=\"line2d_13\">\n      <g>\n       <use style=\"stroke:#000000;stroke-width:0.8;\" x=\"383.092313\" xlink:href=\"#m2049dca43f\" y=\"92.550774\"/>\n      </g>\n     </g>\n     <g id=\"text_30\">\n      <!-- 2000 -->\n      <g transform=\"translate(390.092313 97.489759)scale(0.13 -0.13)\">\n       <use xlink:href=\"#DejaVuSans-32\"/>\n       <use x=\"63.623047\" xlink:href=\"#DejaVuSans-30\"/>\n       <use x=\"127.246094\" xlink:href=\"#DejaVuSans-30\"/>\n       <use x=\"190.869141\" xlink:href=\"#DejaVuSans-30\"/>\n      </g>\n     </g>\n    </g>\n    <g id=\"ytick_9\">\n     <g id=\"line2d_14\">\n      <g>\n       <use style=\"stroke:#000000;stroke-width:0.8;\" x=\"383.092313\" xlink:href=\"#m2049dca43f\" y=\"59.528468\"/>\n      </g>\n     </g>\n     <g id=\"text_31\">\n      <!-- 2500 -->\n      <g transform=\"translate(390.092313 64.467452)scale(0.13 -0.13)\">\n       <use xlink:href=\"#DejaVuSans-32\"/>\n       <use x=\"63.623047\" xlink:href=\"#DejaVuSans-35\"/>\n       <use x=\"127.246094\" xlink:href=\"#DejaVuSans-30\"/>\n       <use x=\"190.869141\" xlink:href=\"#DejaVuSans-30\"/>\n      </g>\n     </g>\n    </g>\n    <g id=\"ytick_10\">\n     <g id=\"line2d_15\">\n      <g>\n       <use style=\"stroke:#000000;stroke-width:0.8;\" x=\"383.092313\" xlink:href=\"#m2049dca43f\" y=\"26.506161\"/>\n      </g>\n     </g>\n     <g id=\"text_32\">\n      <!-- 3000 -->\n      <g transform=\"translate(390.092313 31.445146)scale(0.13 -0.13)\">\n       <use xlink:href=\"#DejaVuSans-33\"/>\n       <use x=\"63.623047\" xlink:href=\"#DejaVuSans-30\"/>\n       <use x=\"127.246094\" xlink:href=\"#DejaVuSans-30\"/>\n       <use x=\"190.869141\" xlink:href=\"#DejaVuSans-30\"/>\n      </g>\n     </g>\n    </g>\n   </g>\n   <g id=\"LineCollection_1\"/>\n   <g id=\"patch_5\">\n    <path d=\"M 372.220313 224.64 \nL 372.220313 223.790625 \nL 372.220313 8.049375 \nL 372.220313 7.2 \nL 383.092313 7.2 \nL 383.092313 8.049375 \nL 383.092313 223.790625 \nL 383.092313 224.64 \nz\n\" style=\"fill:none;\"/>\n   </g>\n  </g>\n </g>\n <defs>\n  <clipPath id=\"p9640d3f155\">\n   <rect height=\"160.704\" width=\"267.84\" x=\"87.640313\" y=\"35.568\"/>\n  </clipPath>\n  <clipPath id=\"p1d8860b550\">\n   <rect height=\"217.44\" width=\"10.872\" x=\"372.220313\" y=\"7.2\"/>\n  </clipPath>\n </defs>\n</svg>\n",
      "image/png": "[encoded data removed]"
     },
     "metadata": {
      "needs_background": "light"
     }
    }
   ],
   "source": [
    "import seaborn as sn\n",
    "confusion_matrix = pd.crosstab(data_df['video_type'], data_df['pred_emotion'], rownames=['Video Type'], colnames=['Predicted Emotion'])\n",
    "\n",
    "sn.heatmap(confusion_matrix, annot=True,linewidths=1, robust=True, square=True, fmt='d')\n",
    "# sn.heatmap(confusion_matrix, annot=True,linewidths=1, vmin=0.0, vmax=1000.0)\n",
    "plt.show()"
   ]
  },
  {
   "cell_type": "code",
   "execution_count": 45,
   "metadata": {},
   "outputs": [
    {
     "output_type": "stream",
     "name": "stdout",
     "text": [
      "Mean RPM of Neutral:   17.313429\nMean RPM of Happy:   17.828160\nMean RPM of Anger:   13.217591\nMean RPM of Sad:   15.198951\nMean RPM of Surprise:   18.294783\n"
     ]
    }
   ],
   "source": [
    "for i, emotion in enumerate(data_df['pred_emotion'].unique().tolist()):\n",
    "    print('Mean RPM of '+ emotion.capitalize() + ':   %f' %data_df.loc[data_df['pred_emotion']== emotion]['rpm'].mean())"
   ]
  },
  {
   "cell_type": "code",
   "execution_count": 217,
   "metadata": {},
   "outputs": [
    {
     "output_type": "error",
     "ename": "SyntaxError",
     "evalue": "invalid syntax (<ipython-input-217-c96008252146>, line 57)",
     "traceback": [
      "\u001b[0;36m  File \u001b[0;32m\"<ipython-input-217-c96008252146>\"\u001b[0;36m, line \u001b[0;32m57\u001b[0m\n\u001b[0;31m    fig.add_trace(go.Scatter(x=time_range, y = dy,\u001b[0m\n\u001b[0m    ^\u001b[0m\n\u001b[0;31mSyntaxError\u001b[0m\u001b[0;31m:\u001b[0m invalid syntax\n"
     ]
    }
   ],
   "source": [
    "from datetime import datetime\n",
    "fmt = '%Y-%m-%d %H:%M:%S'\n",
    "\n",
    "# Getting all video data of participant 1\n",
    "df = data_df.loc[data_df['participant_id'] == str(1)]\n",
    "\n",
    "# Grabbing start and stop times for all videos of the current participant\n",
    "ts_first = datetime.strptime(df['rounded_ts'].iloc[0], fmt)\n",
    "ts_last= datetime.strptime(df['rounded_ts'].iloc[-1], fmt)\n",
    "\n",
    "# Time Delta\n",
    "td = int((ts_last-ts_first).total_seconds())\n",
    "\n",
    "# Creating Time Range\n",
    "time_range = np.linspace(0, td, num=len(df['rpm'].tolist()))\n",
    "\n",
    "# Plot rpm over time series\n",
    "\n",
    "## matplotlib version\n",
    "# plt.plot(time_range, df['rpm'].tolist())      \n",
    "# fig = px.line(, x=\"time\", y=\"rpm\", title='RPM Delta')\n",
    "# fig.show()\n",
    "\n",
    "\n",
    "## Plotly version\n",
    "emote_labels = df['pred_emotion']\n",
    "y = df['rpm'].tolist()\n",
    "dy = np.diff(y)\n",
    "\n",
    "fig = go.Figure()\n",
    "\n",
    "fig.add_trace(go.Scatter(x=time_range, y = y,\n",
    "                    mode='lines',\n",
    "                    # mode='lines+text',\n",
    "                    # text=emote_labels,\n",
    "                    name='lines'))\n",
    "\n",
    "#add labels\n",
    "\n",
    "\n",
    "fig.add_annotation(x=2, y=5,\n",
    "            text=\"Text annotation with arrow\",\n",
    "            showarrow=True,\n",
    "            arrowhead=1)\n",
    "\n",
    "emote_labels = df['pred_emotion']\n",
    "\n",
    "fig.add_trace(go.Scatter(\n",
    "    x=neut_idx,\n",
    "    y=neutral_df['rpm'].tolist(),\n",
    "    mode=\"lines+text\",\n",
    "    name=\"Lines and Text\",\n",
    "    text=emote_labels,\n",
    "    textposition=\"bottom center\"\n",
    "\n",
    "\n",
    "fig.add_trace(go.Scatter(x=time_range, y = dy,\n",
    "                    mode='lines',\n",
    "                    name='lines'))\n",
    "fig.show()\n",
    "\n",
    "\n",
    "# Add markers for pred_emotion labels\n",
    "\n",
    "# Show slope"
   ]
  },
  {
   "cell_type": "code",
   "execution_count": 214,
   "metadata": {},
   "outputs": [
    {
     "output_type": "stream",
     "name": "stdout",
     "text": [
      "693\n693\n691\n622\n622\n622\n"
     ]
    },
    {
     "output_type": "execute_result",
     "data": {
      "text/plain": [
       "[12.9408, 12.9408, 12.9408, 8.32764, 8.32764, 8.32764]"
      ]
     },
     "metadata": {},
     "execution_count": 214
    }
   ],
   "source": [
    "# Get list of all emotions\n",
    "emotion_list = data_df['pred_emotion'].unique().tolist()\n",
    "# Build DF for only emotion\n",
    "neutral_df = df[['rounded_ts','rpm','pred_emotion']].loc[df['pred_emotion'] == 'neutral']\n",
    "\n",
    "neut_idx = []\n",
    "neut_rpm = []\n",
    "for ts in neutral_df['rounded_ts'].tolist():\n",
    "    idx = (ts_last - datetime.strptime(ts,fmt))\n",
    "    idx = int(idx.total_seconds())\n",
    "    print(idx)\n",
    "    neut_idx.append(idx)\n",
    "neutral_df['rpm'].tolist()"
   ]
  },
  {
   "cell_type": "code",
   "execution_count": 216,
   "metadata": {},
   "outputs": [
    {
     "output_type": "execute_result",
     "data": {
      "text/plain": [
       "             rounded_ts       rpm pred_emotion\n",
       "46  2021-04-28 17:24:56  12.94080      neutral\n",
       "47  2021-04-28 17:24:56  12.94080      neutral\n",
       "48  2021-04-28 17:24:58  12.94080      neutral\n",
       "60  2021-04-28 17:26:07   8.32764      neutral\n",
       "61  2021-04-28 17:26:07   8.32764      neutral\n",
       "62  2021-04-28 17:26:07   8.32764      neutral"
      ],
      "text/html": "<div>\n<style scoped>\n    .dataframe tbody tr th:only-of-type {\n        vertical-align: middle;\n    }\n\n    .dataframe tbody tr th {\n        vertical-align: top;\n    }\n\n    .dataframe thead th {\n        text-align: right;\n    }\n</style>\n<table border=\"1\" class=\"dataframe\">\n  <thead>\n    <tr style=\"text-align: right;\">\n      <th></th>\n      <th>rounded_ts</th>\n      <th>rpm</th>\n      <th>pred_emotion</th>\n    </tr>\n  </thead>\n  <tbody>\n    <tr>\n      <th>46</th>\n      <td>2021-04-28 17:24:56</td>\n      <td>12.94080</td>\n      <td>neutral</td>\n    </tr>\n    <tr>\n      <th>47</th>\n      <td>2021-04-28 17:24:56</td>\n      <td>12.94080</td>\n      <td>neutral</td>\n    </tr>\n    <tr>\n      <th>48</th>\n      <td>2021-04-28 17:24:58</td>\n      <td>12.94080</td>\n      <td>neutral</td>\n    </tr>\n    <tr>\n      <th>60</th>\n      <td>2021-04-28 17:26:07</td>\n      <td>8.32764</td>\n      <td>neutral</td>\n    </tr>\n    <tr>\n      <th>61</th>\n      <td>2021-04-28 17:26:07</td>\n      <td>8.32764</td>\n      <td>neutral</td>\n    </tr>\n    <tr>\n      <th>62</th>\n      <td>2021-04-28 17:26:07</td>\n      <td>8.32764</td>\n      <td>neutral</td>\n    </tr>\n  </tbody>\n</table>\n</div>"
     },
     "metadata": {},
     "execution_count": 216
    }
   ],
   "source": []
  },
  {
   "cell_type": "code",
   "execution_count": 191,
   "metadata": {},
   "outputs": [
    {
     "output_type": "stream",
     "name": "stderr",
     "text": [
      "<ipython-input-191-aa710cf0a1b8>:7: DeprecationWarning:\n\nThe default dtype for empty Series will be 'object' instead of 'float64' in a future version. Specify a dtype explicitly to silence this warning.\n\n"
     ]
    },
    {
     "output_type": "execute_result",
     "data": {
      "text/plain": [
       "Series([], dtype: float64)"
      ]
     },
     "metadata": {},
     "execution_count": 191
    }
   ],
   "source": [
    "# df = data_df.loc[data_df['participant_id'] == str(1)]\n",
    "emotion_list = data_df['pred_emotion'].unique().tolist()\n",
    "\n",
    "\n",
    "# df[['rounded_ts','rpm','pred_emotion']].loc[df['pred_emotion'] == 'neutral']\n",
    "index =[]\n",
    "emo_list = pd.Series()\n",
    "for emotion in emotion_list:\n",
    "    tmp_emo_list = df[['rounded_ts','rpm','pred_emotion']].loc[df['pred_emotion'] == emotion]['pred_emotion']\n",
    "    emo_list.append(tmp_emo_list)\n",
    "\n",
    "# for ts in df[['rounded_ts','rpm','pred_emotion']].loc[df['pred_emotion'] == emotion]['rounded_ts'].tolist():\n",
    "#     idx = (ts_last - datetime.strptime(ts,fmt))\n",
    "#     idx = int(idx.total_seconds())\n",
    "#     index.append(idx)\n",
    "    \n",
    "# emotion_list, df[['rounded_ts','rpm','pred_emotion']].loc[df['pred_emotion'] == 'neutral'], index\n",
    "tmp_list = list(zip(tmp_emo_list, index))\n",
    "emo_list"
   ]
  },
  {
   "cell_type": "code",
   "execution_count": 192,
   "metadata": {},
   "outputs": [
    {
     "output_type": "execute_result",
     "data": {
      "text/plain": [
       "46      neutral\n",
       "47      neutral\n",
       "48      neutral\n",
       "60      neutral\n",
       "61      neutral\n",
       "         ...   \n",
       "999       anger\n",
       "1000      anger\n",
       "1001      anger\n",
       "1002      anger\n",
       "1574      happy\n",
       "Name: pred_emotion, Length: 686, dtype: object"
      ]
     },
     "metadata": {},
     "execution_count": 192
    }
   ],
   "source": [
    "df[['rounded_ts','rpm','pred_emotion']].loc[df['pred_emotion'] == emotion]['pred_emotion']\n",
    "\n"
   ]
  }
 ],
 "metadata": {
  "kernelspec": {
   "name": "python382jvsc74a57bd031f2aee4e71d21fbe5cf8b01ff0e069b9275f58929596ceb00d14d90e3e16cd6",
   "display_name": "Python 3.8.2 64-bit"
  },
  "language_info": {
   "codemirror_mode": {
    "name": "ipython",
    "version": 3
   },
   "file_extension": ".py",
   "mimetype": "text/x-python",
   "name": "python",
   "nbconvert_exporter": "python",
   "pygments_lexer": "ipython3",
   "version": "3.8.2"
  },
  "metadata": {
   "interpreter": {
    "hash": "31f2aee4e71d21fbe5cf8b01ff0e069b9275f58929596ceb00d14d90e3e16cd6"
   }
  }
 },
 "nbformat": 4,
 "nbformat_minor": 5
}