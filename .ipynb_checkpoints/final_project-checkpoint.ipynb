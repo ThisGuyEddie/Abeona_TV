{
 "cells": [
  {
   "cell_type": "markdown",
   "id": "saving-pension",
   "metadata": {},
   "source": [
    "# Imports"
   ]
  },
  {
   "cell_type": "code",
   "execution_count": 375,
   "id": "coupled-handbook",
   "metadata": {},
   "outputs": [],
   "source": [
    "import pandas as pd\n",
    "import plotly.express as px\n",
    "import numpy as np\n",
    "import datetime as dt\n",
    "from plotly.subplots import make_subplots\n",
    "import plotly.graph_objects as go\n",
    "\n",
    "from sklearn.ensemble import RandomForestClassifier\n",
    "from sklearn.ensemble import RandomForestRegressor\n",
    "from imblearn.over_sampling import SMOTE\n",
    "from sklearn.model_selection import train_test_split\n",
    "from sklearn.metrics import plot_confusion_matrix\n",
    "\n",
    "from matplotlib import pyplot as plt\n",
    "from matplotlib import cm as cmap\n",
    "import matplotlib"
   ]
  },
  {
   "cell_type": "markdown",
   "id": "opposed-kelly",
   "metadata": {},
   "source": [
    "# Pull Data"
   ]
  },
  {
   "cell_type": "markdown",
   "id": "advised-niger",
   "metadata": {},
   "source": [
    "## Get the Facial Expression and Joystick Label Data"
   ]
  },
  {
   "cell_type": "code",
   "execution_count": 351,
   "id": "lucky-processing",
   "metadata": {},
   "outputs": [
    {
     "name": "stdout",
     "output_type": "stream",
     "text": [
      "Bad data for participant 2 and video 1\n",
      "Bad data for participant 4 and video 1\n",
      "Bad data for participant 5 and video 4\n",
      "Bad data for participant 7 and video 2\n"
     ]
    }
   ],
   "source": [
    "participants = ['1', '2', '3', '4', '5', '6', '7', '8', '9', '10']\n",
    "videos = {'1': 'neutral', '2': 'positive', '3': 'neutral', '4': 'negative'}\n",
    "\n",
    "pi_df = pd.DataFrame()\n",
    "for participant in participants:\n",
    "    for video in videos.keys():\n",
    "        try:\n",
    "            tmp = pd.read_fwf(f'ubi_data/p{participant}_v{video}.txt', header=None)\n",
    "            tmp_df = tmp[(tmp.index > 94) &\n",
    "                         (tmp.index < len(tmp.index) - 44)][0].str.split(', ', expand=True)\n",
    "            data_cols = ['timestamp', 'x_joystick', 'y_joystick', 'pred_emotion', 'emotion_confidence']\n",
    "            tmp_df.columns = data_cols\n",
    "            tmp_df['participant_id'] = participant\n",
    "            tmp_df['video_id'] = video\n",
    "            tmp_df['video_type'] = videos[video]\n",
    "            tmp_df = tmp_df[['timestamp','participant_id','video_id','video_type'] + data_cols[1:]]\n",
    "\n",
    "            pi_df = pd.concat([pi_df, tmp_df])\n",
    "        except:\n",
    "            print(f'Bad data for participant {participant} and video {video}')\n",
    "            \n",
    "pi_df = pi_df.reset_index(drop=True)\n",
    "\n",
    "# Remove data that doesn't exist in the vital signs\n",
    "pi_df = pi_df[~((pi_df['participant_id'] == '5') & (pi_df['video_id'] == '3'))]\n",
    "\n",
    "pi_df = pi_df[~((pi_df['timestamp'].str.contains('jpegout')) |\n",
    "                (pi_df['timestamp'].str.contains('Opening')) |\n",
    "                (pi_df['timestamp'].str.contains('Attempting')) |\n",
    "                (pi_df['timestamp'].str.contains('Starting')) |\n",
    "                (pi_df['timestamp'].str.contains('Successfully')))]\n",
    "pi_df['timestamp'] = pd.to_datetime(pi_df['timestamp'].astype(float), unit='s').apply(lambda x: x - dt.timedelta(hours=4))\n",
    "pi_df['rounded_ts'] = pi_df.timestamp.astype(str).apply(lambda x: x.split('.')[0])\n",
    "pi_df['x_joystick'] = (-1 * (pi_df['x_joystick'].astype(int) - 500)) / 500\n",
    "del pi_df['timestamp']\n",
    "del pi_df['y_joystick']"
   ]
  },
  {
   "cell_type": "markdown",
   "id": "fatal-papua",
   "metadata": {},
   "source": [
    "## Get the Respiration and Movement Data"
   ]
  },
  {
   "cell_type": "code",
   "execution_count": 352,
   "id": "comic-vienna",
   "metadata": {},
   "outputs": [
    {
     "name": "stdout",
     "output_type": "stream",
     "text": [
      "Bad data for participant 2 and video 1\n",
      "Bad data for participant 4 and video 1\n",
      "Bad data for participant 5 and video 3\n",
      "Bad data for participant 5 and video 4\n",
      "Bad data for participant 7 and video 2\n"
     ]
    }
   ],
   "source": [
    "br_df = pd.DataFrame()\n",
    "for participant in participants:\n",
    "    for video in videos.keys():\n",
    "        try:\n",
    "            tmp = pd.read_fwf(f'vitalsigns/p{participant}_v{video}.csv', header=None)\n",
    "            tmp = tmp[(tmp.index > 13)].reset_index(drop=True)[0].str.split(';', expand=True)\n",
    "            tmp.columns = list(tmp[tmp.index == 0].values)[0]\n",
    "            tmp = tmp[tmp.index > 0].reset_index(drop=True).replace('nan', '-1')\n",
    "            tmp['RPM'] = tmp['RPM'].replace('0', np.nan).astype(float)\n",
    "            tmp['Distance'] = tmp['Distance'].astype(float)\n",
    "            tmp['NormalizedMovementSlow'] = tmp['NormalizedMovementSlow'].astype(float)\n",
    "            tmp['NormalizedMovementFast'] = tmp['NormalizedMovementFast'].astype(float)\n",
    "            tmp['NormalizedMovementStart'] = tmp['NormalizedMovementStart'].astype(float)\n",
    "            tmp['NormalizedMovementEnd'] = tmp['NormalizedMovementEnd'].astype(float)\n",
    "            tmp = tmp[['TimeStamp','RPM','Distance','NormalizedMovementSlow','NormalizedMovementFast','NormalizedMovementStart','NormalizedMovementEnd']]\n",
    "            data_cols = ['timestamp','rpm','distance','norm_slow','norm_fast','norm_start','norm_stop']\n",
    "            tmp.columns = data_cols\n",
    "            tmp['timestamp'] = pd.to_datetime(tmp['timestamp'])\n",
    "\n",
    "            tmp['participant_id'] = participant\n",
    "            tmp['video_id'] = video\n",
    "            tmp['video_type'] = videos[video]\n",
    "\n",
    "            tmp = tmp[['timestamp','participant_id','video_id','video_type'] + data_cols[1:]]\n",
    "\n",
    "            br_df = pd.concat([br_df, tmp])\n",
    "        except:\n",
    "            print(f'Bad data for participant {participant} and video {video}')\n",
    "        \n",
    "br_df = br_df.reset_index(drop=True)\n",
    "br_df['rounded_ts'] = br_df.timestamp.astype(str).apply(lambda x: x.split('.')[0])\n",
    "del br_df['timestamp']"
   ]
  },
  {
   "cell_type": "markdown",
   "id": "numeric-struggle",
   "metadata": {},
   "source": [
    "# Merge the Data"
   ]
  },
  {
   "cell_type": "code",
   "execution_count": 353,
   "id": "exciting-restoration",
   "metadata": {},
   "outputs": [],
   "source": [
    "data_df = pi_df.merge(br_df, how='inner', on=['participant_id','video_id','video_type','rounded_ts'])"
   ]
  },
  {
   "cell_type": "code",
   "execution_count": 354,
   "id": "banned-research",
   "metadata": {},
   "outputs": [],
   "source": [
    "starter_cols = ['rounded_ts','participant_id','video_id','video_type']\n",
    "other_cols = [x for x in list(data_df.columns) if x not in starter_cols]\n",
    "data_df = data_df[starter_cols + other_cols]\n",
    "data_df = data_df.dropna()"
   ]
  },
  {
   "cell_type": "markdown",
   "id": "generic-welcome",
   "metadata": {},
   "source": [
    "# Visualize Distributions"
   ]
  },
  {
   "cell_type": "markdown",
   "id": "developed-julian",
   "metadata": {},
   "source": [
    "## Participant Data Representation"
   ]
  },
  {
   "cell_type": "code",
   "execution_count": 408,
   "id": "enclosed-karen",
   "metadata": {},
   "outputs": [
    {
     "data": {
      "application/vnd.plotly.v1+json": {
       "config": {
        "plotlyServerURL": "https://plot.ly"
       },
       "data": [
        {
         "alignmentgroup": "True",
         "hovertemplate": "Participant ID=%{x}<br>Number of Data Points=%{y}<extra></extra>",
         "legendgroup": "",
         "marker": {
          "color": "#F8766D"
         },
         "name": "",
         "offsetgroup": "",
         "orientation": "v",
         "showlegend": false,
         "textposition": "auto",
         "type": "bar",
         "x": [
          "1",
          "10",
          "2",
          "3",
          "4",
          "5",
          "6",
          "7",
          "8",
          "9"
         ],
         "xaxis": "x",
         "y": [
          686,
          595,
          1561,
          75,
          1299,
          1063,
          236,
          322,
          2841,
          1071
         ],
         "yaxis": "y"
        }
       ],
       "layout": {
        "barmode": "relative",
        "legend": {
         "tracegroupgap": 0
        },
        "template": {
         "data": {
          "bar": [
           {
            "error_x": {
             "color": "rgb(51,51,51)"
            },
            "error_y": {
             "color": "rgb(51,51,51)"
            },
            "marker": {
             "line": {
              "color": "rgb(237,237,237)",
              "width": 0.5
             }
            },
            "type": "bar"
           }
          ],
          "barpolar": [
           {
            "marker": {
             "line": {
              "color": "rgb(237,237,237)",
              "width": 0.5
             }
            },
            "type": "barpolar"
           }
          ],
          "carpet": [
           {
            "aaxis": {
             "endlinecolor": "rgb(51,51,51)",
             "gridcolor": "white",
             "linecolor": "white",
             "minorgridcolor": "white",
             "startlinecolor": "rgb(51,51,51)"
            },
            "baxis": {
             "endlinecolor": "rgb(51,51,51)",
             "gridcolor": "white",
             "linecolor": "white",
             "minorgridcolor": "white",
             "startlinecolor": "rgb(51,51,51)"
            },
            "type": "carpet"
           }
          ],
          "choropleth": [
           {
            "colorbar": {
             "outlinewidth": 0,
             "tickcolor": "rgb(237,237,237)",
             "ticklen": 6,
             "ticks": "inside"
            },
            "type": "choropleth"
           }
          ],
          "contour": [
           {
            "colorbar": {
             "outlinewidth": 0,
             "tickcolor": "rgb(237,237,237)",
             "ticklen": 6,
             "ticks": "inside"
            },
            "colorscale": [
             [
              0,
              "rgb(20,44,66)"
             ],
             [
              1,
              "rgb(90,179,244)"
             ]
            ],
            "type": "contour"
           }
          ],
          "contourcarpet": [
           {
            "colorbar": {
             "outlinewidth": 0,
             "tickcolor": "rgb(237,237,237)",
             "ticklen": 6,
             "ticks": "inside"
            },
            "type": "contourcarpet"
           }
          ],
          "heatmap": [
           {
            "colorbar": {
             "outlinewidth": 0,
             "tickcolor": "rgb(237,237,237)",
             "ticklen": 6,
             "ticks": "inside"
            },
            "colorscale": [
             [
              0,
              "rgb(20,44,66)"
             ],
             [
              1,
              "rgb(90,179,244)"
             ]
            ],
            "type": "heatmap"
           }
          ],
          "heatmapgl": [
           {
            "colorbar": {
             "outlinewidth": 0,
             "tickcolor": "rgb(237,237,237)",
             "ticklen": 6,
             "ticks": "inside"
            },
            "colorscale": [
             [
              0,
              "rgb(20,44,66)"
             ],
             [
              1,
              "rgb(90,179,244)"
             ]
            ],
            "type": "heatmapgl"
           }
          ],
          "histogram": [
           {
            "marker": {
             "colorbar": {
              "outlinewidth": 0,
              "tickcolor": "rgb(237,237,237)",
              "ticklen": 6,
              "ticks": "inside"
             }
            },
            "type": "histogram"
           }
          ],
          "histogram2d": [
           {
            "colorbar": {
             "outlinewidth": 0,
             "tickcolor": "rgb(237,237,237)",
             "ticklen": 6,
             "ticks": "inside"
            },
            "colorscale": [
             [
              0,
              "rgb(20,44,66)"
             ],
             [
              1,
              "rgb(90,179,244)"
             ]
            ],
            "type": "histogram2d"
           }
          ],
          "histogram2dcontour": [
           {
            "colorbar": {
             "outlinewidth": 0,
             "tickcolor": "rgb(237,237,237)",
             "ticklen": 6,
             "ticks": "inside"
            },
            "colorscale": [
             [
              0,
              "rgb(20,44,66)"
             ],
             [
              1,
              "rgb(90,179,244)"
             ]
            ],
            "type": "histogram2dcontour"
           }
          ],
          "mesh3d": [
           {
            "colorbar": {
             "outlinewidth": 0,
             "tickcolor": "rgb(237,237,237)",
             "ticklen": 6,
             "ticks": "inside"
            },
            "type": "mesh3d"
           }
          ],
          "parcoords": [
           {
            "line": {
             "colorbar": {
              "outlinewidth": 0,
              "tickcolor": "rgb(237,237,237)",
              "ticklen": 6,
              "ticks": "inside"
             }
            },
            "type": "parcoords"
           }
          ],
          "pie": [
           {
            "automargin": true,
            "type": "pie"
           }
          ],
          "scatter": [
           {
            "marker": {
             "colorbar": {
              "outlinewidth": 0,
              "tickcolor": "rgb(237,237,237)",
              "ticklen": 6,
              "ticks": "inside"
             }
            },
            "type": "scatter"
           }
          ],
          "scatter3d": [
           {
            "line": {
             "colorbar": {
              "outlinewidth": 0,
              "tickcolor": "rgb(237,237,237)",
              "ticklen": 6,
              "ticks": "inside"
             }
            },
            "marker": {
             "colorbar": {
              "outlinewidth": 0,
              "tickcolor": "rgb(237,237,237)",
              "ticklen": 6,
              "ticks": "inside"
             }
            },
            "type": "scatter3d"
           }
          ],
          "scattercarpet": [
           {
            "marker": {
             "colorbar": {
              "outlinewidth": 0,
              "tickcolor": "rgb(237,237,237)",
              "ticklen": 6,
              "ticks": "inside"
             }
            },
            "type": "scattercarpet"
           }
          ],
          "scattergeo": [
           {
            "marker": {
             "colorbar": {
              "outlinewidth": 0,
              "tickcolor": "rgb(237,237,237)",
              "ticklen": 6,
              "ticks": "inside"
             }
            },
            "type": "scattergeo"
           }
          ],
          "scattergl": [
           {
            "marker": {
             "colorbar": {
              "outlinewidth": 0,
              "tickcolor": "rgb(237,237,237)",
              "ticklen": 6,
              "ticks": "inside"
             }
            },
            "type": "scattergl"
           }
          ],
          "scattermapbox": [
           {
            "marker": {
             "colorbar": {
              "outlinewidth": 0,
              "tickcolor": "rgb(237,237,237)",
              "ticklen": 6,
              "ticks": "inside"
             }
            },
            "type": "scattermapbox"
           }
          ],
          "scatterpolar": [
           {
            "marker": {
             "colorbar": {
              "outlinewidth": 0,
              "tickcolor": "rgb(237,237,237)",
              "ticklen": 6,
              "ticks": "inside"
             }
            },
            "type": "scatterpolar"
           }
          ],
          "scatterpolargl": [
           {
            "marker": {
             "colorbar": {
              "outlinewidth": 0,
              "tickcolor": "rgb(237,237,237)",
              "ticklen": 6,
              "ticks": "inside"
             }
            },
            "type": "scatterpolargl"
           }
          ],
          "scatterternary": [
           {
            "marker": {
             "colorbar": {
              "outlinewidth": 0,
              "tickcolor": "rgb(237,237,237)",
              "ticklen": 6,
              "ticks": "inside"
             }
            },
            "type": "scatterternary"
           }
          ],
          "surface": [
           {
            "colorbar": {
             "outlinewidth": 0,
             "tickcolor": "rgb(237,237,237)",
             "ticklen": 6,
             "ticks": "inside"
            },
            "colorscale": [
             [
              0,
              "rgb(20,44,66)"
             ],
             [
              1,
              "rgb(90,179,244)"
             ]
            ],
            "type": "surface"
           }
          ],
          "table": [
           {
            "cells": {
             "fill": {
              "color": "rgb(237,237,237)"
             },
             "line": {
              "color": "white"
             }
            },
            "header": {
             "fill": {
              "color": "rgb(217,217,217)"
             },
             "line": {
              "color": "white"
             }
            },
            "type": "table"
           }
          ]
         },
         "layout": {
          "annotationdefaults": {
           "arrowhead": 0,
           "arrowwidth": 1
          },
          "autotypenumbers": "strict",
          "coloraxis": {
           "colorbar": {
            "outlinewidth": 0,
            "tickcolor": "rgb(237,237,237)",
            "ticklen": 6,
            "ticks": "inside"
           }
          },
          "colorscale": {
           "sequential": [
            [
             0,
             "rgb(20,44,66)"
            ],
            [
             1,
             "rgb(90,179,244)"
            ]
           ],
           "sequentialminus": [
            [
             0,
             "rgb(20,44,66)"
            ],
            [
             1,
             "rgb(90,179,244)"
            ]
           ]
          },
          "colorway": [
           "#F8766D",
           "#A3A500",
           "#00BF7D",
           "#00B0F6",
           "#E76BF3"
          ],
          "font": {
           "color": "rgb(51,51,51)"
          },
          "geo": {
           "bgcolor": "white",
           "lakecolor": "white",
           "landcolor": "rgb(237,237,237)",
           "showlakes": true,
           "showland": true,
           "subunitcolor": "white"
          },
          "hoverlabel": {
           "align": "left"
          },
          "hovermode": "closest",
          "paper_bgcolor": "white",
          "plot_bgcolor": "rgb(237,237,237)",
          "polar": {
           "angularaxis": {
            "gridcolor": "white",
            "linecolor": "white",
            "showgrid": true,
            "tickcolor": "rgb(51,51,51)",
            "ticks": "outside"
           },
           "bgcolor": "rgb(237,237,237)",
           "radialaxis": {
            "gridcolor": "white",
            "linecolor": "white",
            "showgrid": true,
            "tickcolor": "rgb(51,51,51)",
            "ticks": "outside"
           }
          },
          "scene": {
           "xaxis": {
            "backgroundcolor": "rgb(237,237,237)",
            "gridcolor": "white",
            "gridwidth": 2,
            "linecolor": "white",
            "showbackground": true,
            "showgrid": true,
            "tickcolor": "rgb(51,51,51)",
            "ticks": "outside",
            "zerolinecolor": "white"
           },
           "yaxis": {
            "backgroundcolor": "rgb(237,237,237)",
            "gridcolor": "white",
            "gridwidth": 2,
            "linecolor": "white",
            "showbackground": true,
            "showgrid": true,
            "tickcolor": "rgb(51,51,51)",
            "ticks": "outside",
            "zerolinecolor": "white"
           },
           "zaxis": {
            "backgroundcolor": "rgb(237,237,237)",
            "gridcolor": "white",
            "gridwidth": 2,
            "linecolor": "white",
            "showbackground": true,
            "showgrid": true,
            "tickcolor": "rgb(51,51,51)",
            "ticks": "outside",
            "zerolinecolor": "white"
           }
          },
          "shapedefaults": {
           "fillcolor": "black",
           "line": {
            "width": 0
           },
           "opacity": 0.3
          },
          "ternary": {
           "aaxis": {
            "gridcolor": "white",
            "linecolor": "white",
            "showgrid": true,
            "tickcolor": "rgb(51,51,51)",
            "ticks": "outside"
           },
           "baxis": {
            "gridcolor": "white",
            "linecolor": "white",
            "showgrid": true,
            "tickcolor": "rgb(51,51,51)",
            "ticks": "outside"
           },
           "bgcolor": "rgb(237,237,237)",
           "caxis": {
            "gridcolor": "white",
            "linecolor": "white",
            "showgrid": true,
            "tickcolor": "rgb(51,51,51)",
            "ticks": "outside"
           }
          },
          "xaxis": {
           "automargin": true,
           "gridcolor": "white",
           "linecolor": "white",
           "showgrid": true,
           "tickcolor": "rgb(51,51,51)",
           "ticks": "outside",
           "title": {
            "standoff": 15
           },
           "zerolinecolor": "white"
          },
          "yaxis": {
           "automargin": true,
           "gridcolor": "white",
           "linecolor": "white",
           "showgrid": true,
           "tickcolor": "rgb(51,51,51)",
           "ticks": "outside",
           "title": {
            "standoff": 15
           },
           "zerolinecolor": "white"
          }
         }
        },
        "title": {
         "text": "Participant Data Distribution"
        },
        "xaxis": {
         "anchor": "y",
         "domain": [
          0,
          1
         ],
         "title": {
          "text": "Participant ID"
         }
        },
        "yaxis": {
         "anchor": "x",
         "domain": [
          0,
          1
         ],
         "title": {
          "text": "Number of Data Points"
         }
        }
       }
      },
      "text/html": [
       "<div>                            <div id=\"13524fdb-912e-4c83-8025-212a9b509081\" class=\"plotly-graph-div\" style=\"height:525px; width:100%;\"></div>            <script type=\"text/javascript\">                require([\"plotly\"], function(Plotly) {                    window.PLOTLYENV=window.PLOTLYENV || {};                                    if (document.getElementById(\"13524fdb-912e-4c83-8025-212a9b509081\")) {                    Plotly.newPlot(                        \"13524fdb-912e-4c83-8025-212a9b509081\",                        [{\"alignmentgroup\": \"True\", \"hovertemplate\": \"Participant ID=%{x}<br>Number of Data Points=%{y}<extra></extra>\", \"legendgroup\": \"\", \"marker\": {\"color\": \"#F8766D\"}, \"name\": \"\", \"offsetgroup\": \"\", \"orientation\": \"v\", \"showlegend\": false, \"textposition\": \"auto\", \"type\": \"bar\", \"x\": [\"1\", \"10\", \"2\", \"3\", \"4\", \"5\", \"6\", \"7\", \"8\", \"9\"], \"xaxis\": \"x\", \"y\": [686, 595, 1561, 75, 1299, 1063, 236, 322, 2841, 1071], \"yaxis\": \"y\"}],                        {\"barmode\": \"relative\", \"legend\": {\"tracegroupgap\": 0}, \"template\": {\"data\": {\"bar\": [{\"error_x\": {\"color\": \"rgb(51,51,51)\"}, \"error_y\": {\"color\": \"rgb(51,51,51)\"}, \"marker\": {\"line\": {\"color\": \"rgb(237,237,237)\", \"width\": 0.5}}, \"type\": \"bar\"}], \"barpolar\": [{\"marker\": {\"line\": {\"color\": \"rgb(237,237,237)\", \"width\": 0.5}}, \"type\": \"barpolar\"}], \"carpet\": [{\"aaxis\": {\"endlinecolor\": \"rgb(51,51,51)\", \"gridcolor\": \"white\", \"linecolor\": \"white\", \"minorgridcolor\": \"white\", \"startlinecolor\": \"rgb(51,51,51)\"}, \"baxis\": {\"endlinecolor\": \"rgb(51,51,51)\", \"gridcolor\": \"white\", \"linecolor\": \"white\", \"minorgridcolor\": \"white\", \"startlinecolor\": \"rgb(51,51,51)\"}, \"type\": \"carpet\"}], \"choropleth\": [{\"colorbar\": {\"outlinewidth\": 0, \"tickcolor\": \"rgb(237,237,237)\", \"ticklen\": 6, \"ticks\": \"inside\"}, \"type\": \"choropleth\"}], \"contour\": [{\"colorbar\": {\"outlinewidth\": 0, \"tickcolor\": \"rgb(237,237,237)\", \"ticklen\": 6, \"ticks\": \"inside\"}, \"colorscale\": [[0, \"rgb(20,44,66)\"], [1, \"rgb(90,179,244)\"]], \"type\": \"contour\"}], \"contourcarpet\": [{\"colorbar\": {\"outlinewidth\": 0, \"tickcolor\": \"rgb(237,237,237)\", \"ticklen\": 6, \"ticks\": \"inside\"}, \"type\": \"contourcarpet\"}], \"heatmap\": [{\"colorbar\": {\"outlinewidth\": 0, \"tickcolor\": \"rgb(237,237,237)\", \"ticklen\": 6, \"ticks\": \"inside\"}, \"colorscale\": [[0, \"rgb(20,44,66)\"], [1, \"rgb(90,179,244)\"]], \"type\": \"heatmap\"}], \"heatmapgl\": [{\"colorbar\": {\"outlinewidth\": 0, \"tickcolor\": \"rgb(237,237,237)\", \"ticklen\": 6, \"ticks\": \"inside\"}, \"colorscale\": [[0, \"rgb(20,44,66)\"], [1, \"rgb(90,179,244)\"]], \"type\": \"heatmapgl\"}], \"histogram\": [{\"marker\": {\"colorbar\": {\"outlinewidth\": 0, \"tickcolor\": \"rgb(237,237,237)\", \"ticklen\": 6, \"ticks\": \"inside\"}}, \"type\": \"histogram\"}], \"histogram2d\": [{\"colorbar\": {\"outlinewidth\": 0, \"tickcolor\": \"rgb(237,237,237)\", \"ticklen\": 6, \"ticks\": \"inside\"}, \"colorscale\": [[0, \"rgb(20,44,66)\"], [1, \"rgb(90,179,244)\"]], \"type\": \"histogram2d\"}], \"histogram2dcontour\": [{\"colorbar\": {\"outlinewidth\": 0, \"tickcolor\": \"rgb(237,237,237)\", \"ticklen\": 6, \"ticks\": \"inside\"}, \"colorscale\": [[0, \"rgb(20,44,66)\"], [1, \"rgb(90,179,244)\"]], \"type\": \"histogram2dcontour\"}], \"mesh3d\": [{\"colorbar\": {\"outlinewidth\": 0, \"tickcolor\": \"rgb(237,237,237)\", \"ticklen\": 6, \"ticks\": \"inside\"}, \"type\": \"mesh3d\"}], \"parcoords\": [{\"line\": {\"colorbar\": {\"outlinewidth\": 0, \"tickcolor\": \"rgb(237,237,237)\", \"ticklen\": 6, \"ticks\": \"inside\"}}, \"type\": \"parcoords\"}], \"pie\": [{\"automargin\": true, \"type\": \"pie\"}], \"scatter\": [{\"marker\": {\"colorbar\": {\"outlinewidth\": 0, \"tickcolor\": \"rgb(237,237,237)\", \"ticklen\": 6, \"ticks\": \"inside\"}}, \"type\": \"scatter\"}], \"scatter3d\": [{\"line\": {\"colorbar\": {\"outlinewidth\": 0, \"tickcolor\": \"rgb(237,237,237)\", \"ticklen\": 6, \"ticks\": \"inside\"}}, \"marker\": {\"colorbar\": {\"outlinewidth\": 0, \"tickcolor\": \"rgb(237,237,237)\", \"ticklen\": 6, \"ticks\": \"inside\"}}, \"type\": \"scatter3d\"}], \"scattercarpet\": [{\"marker\": {\"colorbar\": {\"outlinewidth\": 0, \"tickcolor\": \"rgb(237,237,237)\", \"ticklen\": 6, \"ticks\": \"inside\"}}, \"type\": \"scattercarpet\"}], \"scattergeo\": [{\"marker\": {\"colorbar\": {\"outlinewidth\": 0, \"tickcolor\": \"rgb(237,237,237)\", \"ticklen\": 6, \"ticks\": \"inside\"}}, \"type\": \"scattergeo\"}], \"scattergl\": [{\"marker\": {\"colorbar\": {\"outlinewidth\": 0, \"tickcolor\": \"rgb(237,237,237)\", \"ticklen\": 6, \"ticks\": \"inside\"}}, \"type\": \"scattergl\"}], \"scattermapbox\": [{\"marker\": {\"colorbar\": {\"outlinewidth\": 0, \"tickcolor\": \"rgb(237,237,237)\", \"ticklen\": 6, \"ticks\": \"inside\"}}, \"type\": \"scattermapbox\"}], \"scatterpolar\": [{\"marker\": {\"colorbar\": {\"outlinewidth\": 0, \"tickcolor\": \"rgb(237,237,237)\", \"ticklen\": 6, \"ticks\": \"inside\"}}, \"type\": \"scatterpolar\"}], \"scatterpolargl\": [{\"marker\": {\"colorbar\": {\"outlinewidth\": 0, \"tickcolor\": \"rgb(237,237,237)\", \"ticklen\": 6, \"ticks\": \"inside\"}}, \"type\": \"scatterpolargl\"}], \"scatterternary\": [{\"marker\": {\"colorbar\": {\"outlinewidth\": 0, \"tickcolor\": \"rgb(237,237,237)\", \"ticklen\": 6, \"ticks\": \"inside\"}}, \"type\": \"scatterternary\"}], \"surface\": [{\"colorbar\": {\"outlinewidth\": 0, \"tickcolor\": \"rgb(237,237,237)\", \"ticklen\": 6, \"ticks\": \"inside\"}, \"colorscale\": [[0, \"rgb(20,44,66)\"], [1, \"rgb(90,179,244)\"]], \"type\": \"surface\"}], \"table\": [{\"cells\": {\"fill\": {\"color\": \"rgb(237,237,237)\"}, \"line\": {\"color\": \"white\"}}, \"header\": {\"fill\": {\"color\": \"rgb(217,217,217)\"}, \"line\": {\"color\": \"white\"}}, \"type\": \"table\"}]}, \"layout\": {\"annotationdefaults\": {\"arrowhead\": 0, \"arrowwidth\": 1}, \"autotypenumbers\": \"strict\", \"coloraxis\": {\"colorbar\": {\"outlinewidth\": 0, \"tickcolor\": \"rgb(237,237,237)\", \"ticklen\": 6, \"ticks\": \"inside\"}}, \"colorscale\": {\"sequential\": [[0, \"rgb(20,44,66)\"], [1, \"rgb(90,179,244)\"]], \"sequentialminus\": [[0, \"rgb(20,44,66)\"], [1, \"rgb(90,179,244)\"]]}, \"colorway\": [\"#F8766D\", \"#A3A500\", \"#00BF7D\", \"#00B0F6\", \"#E76BF3\"], \"font\": {\"color\": \"rgb(51,51,51)\"}, \"geo\": {\"bgcolor\": \"white\", \"lakecolor\": \"white\", \"landcolor\": \"rgb(237,237,237)\", \"showlakes\": true, \"showland\": true, \"subunitcolor\": \"white\"}, \"hoverlabel\": {\"align\": \"left\"}, \"hovermode\": \"closest\", \"paper_bgcolor\": \"white\", \"plot_bgcolor\": \"rgb(237,237,237)\", \"polar\": {\"angularaxis\": {\"gridcolor\": \"white\", \"linecolor\": \"white\", \"showgrid\": true, \"tickcolor\": \"rgb(51,51,51)\", \"ticks\": \"outside\"}, \"bgcolor\": \"rgb(237,237,237)\", \"radialaxis\": {\"gridcolor\": \"white\", \"linecolor\": \"white\", \"showgrid\": true, \"tickcolor\": \"rgb(51,51,51)\", \"ticks\": \"outside\"}}, \"scene\": {\"xaxis\": {\"backgroundcolor\": \"rgb(237,237,237)\", \"gridcolor\": \"white\", \"gridwidth\": 2, \"linecolor\": \"white\", \"showbackground\": true, \"showgrid\": true, \"tickcolor\": \"rgb(51,51,51)\", \"ticks\": \"outside\", \"zerolinecolor\": \"white\"}, \"yaxis\": {\"backgroundcolor\": \"rgb(237,237,237)\", \"gridcolor\": \"white\", \"gridwidth\": 2, \"linecolor\": \"white\", \"showbackground\": true, \"showgrid\": true, \"tickcolor\": \"rgb(51,51,51)\", \"ticks\": \"outside\", \"zerolinecolor\": \"white\"}, \"zaxis\": {\"backgroundcolor\": \"rgb(237,237,237)\", \"gridcolor\": \"white\", \"gridwidth\": 2, \"linecolor\": \"white\", \"showbackground\": true, \"showgrid\": true, \"tickcolor\": \"rgb(51,51,51)\", \"ticks\": \"outside\", \"zerolinecolor\": \"white\"}}, \"shapedefaults\": {\"fillcolor\": \"black\", \"line\": {\"width\": 0}, \"opacity\": 0.3}, \"ternary\": {\"aaxis\": {\"gridcolor\": \"white\", \"linecolor\": \"white\", \"showgrid\": true, \"tickcolor\": \"rgb(51,51,51)\", \"ticks\": \"outside\"}, \"baxis\": {\"gridcolor\": \"white\", \"linecolor\": \"white\", \"showgrid\": true, \"tickcolor\": \"rgb(51,51,51)\", \"ticks\": \"outside\"}, \"bgcolor\": \"rgb(237,237,237)\", \"caxis\": {\"gridcolor\": \"white\", \"linecolor\": \"white\", \"showgrid\": true, \"tickcolor\": \"rgb(51,51,51)\", \"ticks\": \"outside\"}}, \"xaxis\": {\"automargin\": true, \"gridcolor\": \"white\", \"linecolor\": \"white\", \"showgrid\": true, \"tickcolor\": \"rgb(51,51,51)\", \"ticks\": \"outside\", \"title\": {\"standoff\": 15}, \"zerolinecolor\": \"white\"}, \"yaxis\": {\"automargin\": true, \"gridcolor\": \"white\", \"linecolor\": \"white\", \"showgrid\": true, \"tickcolor\": \"rgb(51,51,51)\", \"ticks\": \"outside\", \"title\": {\"standoff\": 15}, \"zerolinecolor\": \"white\"}}}, \"title\": {\"text\": \"Participant Data Distribution\"}, \"xaxis\": {\"anchor\": \"y\", \"domain\": [0.0, 1.0], \"title\": {\"text\": \"Participant ID\"}}, \"yaxis\": {\"anchor\": \"x\", \"domain\": [0.0, 1.0], \"title\": {\"text\": \"Number of Data Points\"}}},                        {\"responsive\": true}                    ).then(function(){\n",
       "                            \n",
       "var gd = document.getElementById('13524fdb-912e-4c83-8025-212a9b509081');\n",
       "var x = new MutationObserver(function (mutations, observer) {{\n",
       "        var display = window.getComputedStyle(gd).display;\n",
       "        if (!display || display === 'none') {{\n",
       "            console.log([gd, 'removed!']);\n",
       "            Plotly.purge(gd);\n",
       "            observer.disconnect();\n",
       "        }}\n",
       "}});\n",
       "\n",
       "// Listen for the removal of the full notebook cells\n",
       "var notebookContainer = gd.closest('#notebook-container');\n",
       "if (notebookContainer) {{\n",
       "    x.observe(notebookContainer, {childList: true});\n",
       "}}\n",
       "\n",
       "// Listen for the clearing of the current output cell\n",
       "var outputEl = gd.closest('.output');\n",
       "if (outputEl) {{\n",
       "    x.observe(outputEl, {childList: true});\n",
       "}}\n",
       "\n",
       "                        })                };                });            </script>        </div>"
      ]
     },
     "metadata": {},
     "output_type": "display_data"
    }
   ],
   "source": [
    "count_df = data_df.groupby('participant_id').video_id.count().reset_index().rename(columns={'video_id': 'count'})\n",
    "fig = px.bar(count_df, x='participant_id', y='count',\n",
    "             title='Participant Data Distribution',\n",
    "             labels={'count': 'Number of Data Points',\n",
    "                     'participant_id': 'Participant ID'},\n",
    "             template='ggplot2')\n",
    "fig.show()"
   ]
  },
  {
   "cell_type": "markdown",
   "id": "plain-system",
   "metadata": {},
   "source": [
    "## Distribution of User Reported Emotions"
   ]
  },
  {
   "cell_type": "code",
   "execution_count": 356,
   "id": "apparent-extraction",
   "metadata": {},
   "outputs": [
    {
     "name": "stderr",
     "output_type": "stream",
     "text": [
      "/Users/sam/Documents/CornellTech/Classes/Spring2021/UbiComp/ubienv/lib/python3.7/site-packages/ipykernel_launcher.py:10: SettingWithCopyWarning:\n",
      "\n",
      "\n",
      "A value is trying to be set on a copy of a slice from a DataFrame.\n",
      "Try using .loc[row_indexer,col_indexer] = value instead\n",
      "\n",
      "See the caveats in the documentation: https://pandas.pydata.org/pandas-docs/stable/user_guide/indexing.html#returning-a-view-versus-a-copy\n",
      "\n"
     ]
    },
    {
     "data": {
      "application/vnd.plotly.v1+json": {
       "config": {
        "plotlyServerURL": "https://plot.ly"
       },
       "data": [
        {
         "type": "bar",
         "x": [
          -1,
          -0.75,
          -0.5,
          -0.25,
          0,
          0.25,
          0.5,
          0.75,
          1
         ],
         "xaxis": "x",
         "y": [
          0,
          0,
          0,
          0,
          3278,
          20,
          18,
          17,
          136
         ],
         "yaxis": "y"
        },
        {
         "type": "bar",
         "x": [
          -1,
          -0.75,
          -0.5,
          -0.25,
          0,
          0.25,
          0.5,
          0.75,
          1
         ],
         "xaxis": "x2",
         "y": [
          7,
          0,
          0,
          0,
          3838,
          92,
          39,
          59,
          942
         ],
         "yaxis": "y2"
        },
        {
         "type": "bar",
         "x": [
          -1,
          -0.75,
          -0.5,
          -0.25,
          0,
          0.25,
          0.5,
          0.75,
          1
         ],
         "xaxis": "x3",
         "y": [
          161,
          17,
          10,
          2,
          932,
          2,
          2,
          3,
          174
         ],
         "yaxis": "y3"
        }
       ],
       "layout": {
        "annotations": [
         {
          "font": {
           "size": 16
          },
          "showarrow": false,
          "text": "Neutral",
          "x": 0.14444444444444446,
          "xanchor": "center",
          "xref": "paper",
          "y": 1,
          "yanchor": "bottom",
          "yref": "paper"
         },
         {
          "font": {
           "size": 16
          },
          "showarrow": false,
          "text": "Positive",
          "x": 0.5,
          "xanchor": "center",
          "xref": "paper",
          "y": 1,
          "yanchor": "bottom",
          "yref": "paper"
         },
         {
          "font": {
           "size": 16
          },
          "showarrow": false,
          "text": "Negative",
          "x": 0.8555555555555556,
          "xanchor": "center",
          "xref": "paper",
          "y": 1,
          "yanchor": "bottom",
          "yref": "paper"
         }
        ],
        "showlegend": false,
        "template": {
         "data": {
          "bar": [
           {
            "error_x": {
             "color": "#2a3f5f"
            },
            "error_y": {
             "color": "#2a3f5f"
            },
            "marker": {
             "line": {
              "color": "#E5ECF6",
              "width": 0.5
             }
            },
            "type": "bar"
           }
          ],
          "barpolar": [
           {
            "marker": {
             "line": {
              "color": "#E5ECF6",
              "width": 0.5
             }
            },
            "type": "barpolar"
           }
          ],
          "carpet": [
           {
            "aaxis": {
             "endlinecolor": "#2a3f5f",
             "gridcolor": "white",
             "linecolor": "white",
             "minorgridcolor": "white",
             "startlinecolor": "#2a3f5f"
            },
            "baxis": {
             "endlinecolor": "#2a3f5f",
             "gridcolor": "white",
             "linecolor": "white",
             "minorgridcolor": "white",
             "startlinecolor": "#2a3f5f"
            },
            "type": "carpet"
           }
          ],
          "choropleth": [
           {
            "colorbar": {
             "outlinewidth": 0,
             "ticks": ""
            },
            "type": "choropleth"
           }
          ],
          "contour": [
           {
            "colorbar": {
             "outlinewidth": 0,
             "ticks": ""
            },
            "colorscale": [
             [
              0,
              "#0d0887"
             ],
             [
              0.1111111111111111,
              "#46039f"
             ],
             [
              0.2222222222222222,
              "#7201a8"
             ],
             [
              0.3333333333333333,
              "#9c179e"
             ],
             [
              0.4444444444444444,
              "#bd3786"
             ],
             [
              0.5555555555555556,
              "#d8576b"
             ],
             [
              0.6666666666666666,
              "#ed7953"
             ],
             [
              0.7777777777777778,
              "#fb9f3a"
             ],
             [
              0.8888888888888888,
              "#fdca26"
             ],
             [
              1,
              "#f0f921"
             ]
            ],
            "type": "contour"
           }
          ],
          "contourcarpet": [
           {
            "colorbar": {
             "outlinewidth": 0,
             "ticks": ""
            },
            "type": "contourcarpet"
           }
          ],
          "heatmap": [
           {
            "colorbar": {
             "outlinewidth": 0,
             "ticks": ""
            },
            "colorscale": [
             [
              0,
              "#0d0887"
             ],
             [
              0.1111111111111111,
              "#46039f"
             ],
             [
              0.2222222222222222,
              "#7201a8"
             ],
             [
              0.3333333333333333,
              "#9c179e"
             ],
             [
              0.4444444444444444,
              "#bd3786"
             ],
             [
              0.5555555555555556,
              "#d8576b"
             ],
             [
              0.6666666666666666,
              "#ed7953"
             ],
             [
              0.7777777777777778,
              "#fb9f3a"
             ],
             [
              0.8888888888888888,
              "#fdca26"
             ],
             [
              1,
              "#f0f921"
             ]
            ],
            "type": "heatmap"
           }
          ],
          "heatmapgl": [
           {
            "colorbar": {
             "outlinewidth": 0,
             "ticks": ""
            },
            "colorscale": [
             [
              0,
              "#0d0887"
             ],
             [
              0.1111111111111111,
              "#46039f"
             ],
             [
              0.2222222222222222,
              "#7201a8"
             ],
             [
              0.3333333333333333,
              "#9c179e"
             ],
             [
              0.4444444444444444,
              "#bd3786"
             ],
             [
              0.5555555555555556,
              "#d8576b"
             ],
             [
              0.6666666666666666,
              "#ed7953"
             ],
             [
              0.7777777777777778,
              "#fb9f3a"
             ],
             [
              0.8888888888888888,
              "#fdca26"
             ],
             [
              1,
              "#f0f921"
             ]
            ],
            "type": "heatmapgl"
           }
          ],
          "histogram": [
           {
            "marker": {
             "colorbar": {
              "outlinewidth": 0,
              "ticks": ""
             }
            },
            "type": "histogram"
           }
          ],
          "histogram2d": [
           {
            "colorbar": {
             "outlinewidth": 0,
             "ticks": ""
            },
            "colorscale": [
             [
              0,
              "#0d0887"
             ],
             [
              0.1111111111111111,
              "#46039f"
             ],
             [
              0.2222222222222222,
              "#7201a8"
             ],
             [
              0.3333333333333333,
              "#9c179e"
             ],
             [
              0.4444444444444444,
              "#bd3786"
             ],
             [
              0.5555555555555556,
              "#d8576b"
             ],
             [
              0.6666666666666666,
              "#ed7953"
             ],
             [
              0.7777777777777778,
              "#fb9f3a"
             ],
             [
              0.8888888888888888,
              "#fdca26"
             ],
             [
              1,
              "#f0f921"
             ]
            ],
            "type": "histogram2d"
           }
          ],
          "histogram2dcontour": [
           {
            "colorbar": {
             "outlinewidth": 0,
             "ticks": ""
            },
            "colorscale": [
             [
              0,
              "#0d0887"
             ],
             [
              0.1111111111111111,
              "#46039f"
             ],
             [
              0.2222222222222222,
              "#7201a8"
             ],
             [
              0.3333333333333333,
              "#9c179e"
             ],
             [
              0.4444444444444444,
              "#bd3786"
             ],
             [
              0.5555555555555556,
              "#d8576b"
             ],
             [
              0.6666666666666666,
              "#ed7953"
             ],
             [
              0.7777777777777778,
              "#fb9f3a"
             ],
             [
              0.8888888888888888,
              "#fdca26"
             ],
             [
              1,
              "#f0f921"
             ]
            ],
            "type": "histogram2dcontour"
           }
          ],
          "mesh3d": [
           {
            "colorbar": {
             "outlinewidth": 0,
             "ticks": ""
            },
            "type": "mesh3d"
           }
          ],
          "parcoords": [
           {
            "line": {
             "colorbar": {
              "outlinewidth": 0,
              "ticks": ""
             }
            },
            "type": "parcoords"
           }
          ],
          "pie": [
           {
            "automargin": true,
            "type": "pie"
           }
          ],
          "scatter": [
           {
            "marker": {
             "colorbar": {
              "outlinewidth": 0,
              "ticks": ""
             }
            },
            "type": "scatter"
           }
          ],
          "scatter3d": [
           {
            "line": {
             "colorbar": {
              "outlinewidth": 0,
              "ticks": ""
             }
            },
            "marker": {
             "colorbar": {
              "outlinewidth": 0,
              "ticks": ""
             }
            },
            "type": "scatter3d"
           }
          ],
          "scattercarpet": [
           {
            "marker": {
             "colorbar": {
              "outlinewidth": 0,
              "ticks": ""
             }
            },
            "type": "scattercarpet"
           }
          ],
          "scattergeo": [
           {
            "marker": {
             "colorbar": {
              "outlinewidth": 0,
              "ticks": ""
             }
            },
            "type": "scattergeo"
           }
          ],
          "scattergl": [
           {
            "marker": {
             "colorbar": {
              "outlinewidth": 0,
              "ticks": ""
             }
            },
            "type": "scattergl"
           }
          ],
          "scattermapbox": [
           {
            "marker": {
             "colorbar": {
              "outlinewidth": 0,
              "ticks": ""
             }
            },
            "type": "scattermapbox"
           }
          ],
          "scatterpolar": [
           {
            "marker": {
             "colorbar": {
              "outlinewidth": 0,
              "ticks": ""
             }
            },
            "type": "scatterpolar"
           }
          ],
          "scatterpolargl": [
           {
            "marker": {
             "colorbar": {
              "outlinewidth": 0,
              "ticks": ""
             }
            },
            "type": "scatterpolargl"
           }
          ],
          "scatterternary": [
           {
            "marker": {
             "colorbar": {
              "outlinewidth": 0,
              "ticks": ""
             }
            },
            "type": "scatterternary"
           }
          ],
          "surface": [
           {
            "colorbar": {
             "outlinewidth": 0,
             "ticks": ""
            },
            "colorscale": [
             [
              0,
              "#0d0887"
             ],
             [
              0.1111111111111111,
              "#46039f"
             ],
             [
              0.2222222222222222,
              "#7201a8"
             ],
             [
              0.3333333333333333,
              "#9c179e"
             ],
             [
              0.4444444444444444,
              "#bd3786"
             ],
             [
              0.5555555555555556,
              "#d8576b"
             ],
             [
              0.6666666666666666,
              "#ed7953"
             ],
             [
              0.7777777777777778,
              "#fb9f3a"
             ],
             [
              0.8888888888888888,
              "#fdca26"
             ],
             [
              1,
              "#f0f921"
             ]
            ],
            "type": "surface"
           }
          ],
          "table": [
           {
            "cells": {
             "fill": {
              "color": "#EBF0F8"
             },
             "line": {
              "color": "white"
             }
            },
            "header": {
             "fill": {
              "color": "#C8D4E3"
             },
             "line": {
              "color": "white"
             }
            },
            "type": "table"
           }
          ]
         },
         "layout": {
          "annotationdefaults": {
           "arrowcolor": "#2a3f5f",
           "arrowhead": 0,
           "arrowwidth": 1
          },
          "autotypenumbers": "strict",
          "coloraxis": {
           "colorbar": {
            "outlinewidth": 0,
            "ticks": ""
           }
          },
          "colorscale": {
           "diverging": [
            [
             0,
             "#8e0152"
            ],
            [
             0.1,
             "#c51b7d"
            ],
            [
             0.2,
             "#de77ae"
            ],
            [
             0.3,
             "#f1b6da"
            ],
            [
             0.4,
             "#fde0ef"
            ],
            [
             0.5,
             "#f7f7f7"
            ],
            [
             0.6,
             "#e6f5d0"
            ],
            [
             0.7,
             "#b8e186"
            ],
            [
             0.8,
             "#7fbc41"
            ],
            [
             0.9,
             "#4d9221"
            ],
            [
             1,
             "#276419"
            ]
           ],
           "sequential": [
            [
             0,
             "#0d0887"
            ],
            [
             0.1111111111111111,
             "#46039f"
            ],
            [
             0.2222222222222222,
             "#7201a8"
            ],
            [
             0.3333333333333333,
             "#9c179e"
            ],
            [
             0.4444444444444444,
             "#bd3786"
            ],
            [
             0.5555555555555556,
             "#d8576b"
            ],
            [
             0.6666666666666666,
             "#ed7953"
            ],
            [
             0.7777777777777778,
             "#fb9f3a"
            ],
            [
             0.8888888888888888,
             "#fdca26"
            ],
            [
             1,
             "#f0f921"
            ]
           ],
           "sequentialminus": [
            [
             0,
             "#0d0887"
            ],
            [
             0.1111111111111111,
             "#46039f"
            ],
            [
             0.2222222222222222,
             "#7201a8"
            ],
            [
             0.3333333333333333,
             "#9c179e"
            ],
            [
             0.4444444444444444,
             "#bd3786"
            ],
            [
             0.5555555555555556,
             "#d8576b"
            ],
            [
             0.6666666666666666,
             "#ed7953"
            ],
            [
             0.7777777777777778,
             "#fb9f3a"
            ],
            [
             0.8888888888888888,
             "#fdca26"
            ],
            [
             1,
             "#f0f921"
            ]
           ]
          },
          "colorway": [
           "#636efa",
           "#EF553B",
           "#00cc96",
           "#ab63fa",
           "#FFA15A",
           "#19d3f3",
           "#FF6692",
           "#B6E880",
           "#FF97FF",
           "#FECB52"
          ],
          "font": {
           "color": "#2a3f5f"
          },
          "geo": {
           "bgcolor": "white",
           "lakecolor": "white",
           "landcolor": "#E5ECF6",
           "showlakes": true,
           "showland": true,
           "subunitcolor": "white"
          },
          "hoverlabel": {
           "align": "left"
          },
          "hovermode": "closest",
          "mapbox": {
           "style": "light"
          },
          "paper_bgcolor": "white",
          "plot_bgcolor": "#E5ECF6",
          "polar": {
           "angularaxis": {
            "gridcolor": "white",
            "linecolor": "white",
            "ticks": ""
           },
           "bgcolor": "#E5ECF6",
           "radialaxis": {
            "gridcolor": "white",
            "linecolor": "white",
            "ticks": ""
           }
          },
          "scene": {
           "xaxis": {
            "backgroundcolor": "#E5ECF6",
            "gridcolor": "white",
            "gridwidth": 2,
            "linecolor": "white",
            "showbackground": true,
            "ticks": "",
            "zerolinecolor": "white"
           },
           "yaxis": {
            "backgroundcolor": "#E5ECF6",
            "gridcolor": "white",
            "gridwidth": 2,
            "linecolor": "white",
            "showbackground": true,
            "ticks": "",
            "zerolinecolor": "white"
           },
           "zaxis": {
            "backgroundcolor": "#E5ECF6",
            "gridcolor": "white",
            "gridwidth": 2,
            "linecolor": "white",
            "showbackground": true,
            "ticks": "",
            "zerolinecolor": "white"
           }
          },
          "shapedefaults": {
           "line": {
            "color": "#2a3f5f"
           }
          },
          "ternary": {
           "aaxis": {
            "gridcolor": "white",
            "linecolor": "white",
            "ticks": ""
           },
           "baxis": {
            "gridcolor": "white",
            "linecolor": "white",
            "ticks": ""
           },
           "bgcolor": "#E5ECF6",
           "caxis": {
            "gridcolor": "white",
            "linecolor": "white",
            "ticks": ""
           }
          },
          "title": {
           "x": 0.05
          },
          "xaxis": {
           "automargin": true,
           "gridcolor": "white",
           "linecolor": "white",
           "ticks": "",
           "title": {
            "standoff": 15
           },
           "zerolinecolor": "white",
           "zerolinewidth": 2
          },
          "yaxis": {
           "automargin": true,
           "gridcolor": "white",
           "linecolor": "white",
           "ticks": "",
           "title": {
            "standoff": 15
           },
           "zerolinecolor": "white",
           "zerolinewidth": 2
          }
         }
        },
        "title": {
         "text": "User-Reported Emotion by Video Type"
        },
        "xaxis": {
         "anchor": "y",
         "domain": [
          0,
          0.2888888888888889
         ]
        },
        "xaxis2": {
         "anchor": "y2",
         "domain": [
          0.35555555555555557,
          0.6444444444444445
         ],
         "title": {
          "text": "Negative to Positive Reported Emotions"
         }
        },
        "xaxis3": {
         "anchor": "y3",
         "domain": [
          0.7111111111111111,
          1
         ]
        },
        "yaxis": {
         "anchor": "x",
         "domain": [
          0,
          1
         ],
         "title": {
          "text": "Count of Reported Emotions"
         }
        },
        "yaxis2": {
         "anchor": "x2",
         "domain": [
          0,
          1
         ]
        },
        "yaxis3": {
         "anchor": "x3",
         "domain": [
          0,
          1
         ]
        }
       }
      },
      "text/html": [
       "<div>                            <div id=\"f9fe57d4-3fa6-469d-aefc-bbb0cc138df3\" class=\"plotly-graph-div\" style=\"height:525px; width:100%;\"></div>            <script type=\"text/javascript\">                require([\"plotly\"], function(Plotly) {                    window.PLOTLYENV=window.PLOTLYENV || {};                                    if (document.getElementById(\"f9fe57d4-3fa6-469d-aefc-bbb0cc138df3\")) {                    Plotly.newPlot(                        \"f9fe57d4-3fa6-469d-aefc-bbb0cc138df3\",                        [{\"type\": \"bar\", \"x\": [-1.0, -0.75, -0.5, -0.25, 0.0, 0.25, 0.5, 0.75, 1.0], \"xaxis\": \"x\", \"y\": [0, 0, 0, 0, 3278, 20, 18, 17, 136], \"yaxis\": \"y\"}, {\"type\": \"bar\", \"x\": [-1.0, -0.75, -0.5, -0.25, 0.0, 0.25, 0.5, 0.75, 1.0], \"xaxis\": \"x2\", \"y\": [7, 0, 0, 0, 3838, 92, 39, 59, 942], \"yaxis\": \"y2\"}, {\"type\": \"bar\", \"x\": [-1.0, -0.75, -0.5, -0.25, 0.0, 0.25, 0.5, 0.75, 1.0], \"xaxis\": \"x3\", \"y\": [161, 17, 10, 2, 932, 2, 2, 3, 174], \"yaxis\": \"y3\"}],                        {\"annotations\": [{\"font\": {\"size\": 16}, \"showarrow\": false, \"text\": \"Neutral\", \"x\": 0.14444444444444446, \"xanchor\": \"center\", \"xref\": \"paper\", \"y\": 1.0, \"yanchor\": \"bottom\", \"yref\": \"paper\"}, {\"font\": {\"size\": 16}, \"showarrow\": false, \"text\": \"Positive\", \"x\": 0.5, \"xanchor\": \"center\", \"xref\": \"paper\", \"y\": 1.0, \"yanchor\": \"bottom\", \"yref\": \"paper\"}, {\"font\": {\"size\": 16}, \"showarrow\": false, \"text\": \"Negative\", \"x\": 0.8555555555555556, \"xanchor\": \"center\", \"xref\": \"paper\", \"y\": 1.0, \"yanchor\": \"bottom\", \"yref\": \"paper\"}], \"showlegend\": false, \"template\": {\"data\": {\"bar\": [{\"error_x\": {\"color\": \"#2a3f5f\"}, \"error_y\": {\"color\": \"#2a3f5f\"}, \"marker\": {\"line\": {\"color\": \"#E5ECF6\", \"width\": 0.5}}, \"type\": \"bar\"}], \"barpolar\": [{\"marker\": {\"line\": {\"color\": \"#E5ECF6\", \"width\": 0.5}}, \"type\": \"barpolar\"}], \"carpet\": [{\"aaxis\": {\"endlinecolor\": \"#2a3f5f\", \"gridcolor\": \"white\", \"linecolor\": \"white\", \"minorgridcolor\": \"white\", \"startlinecolor\": \"#2a3f5f\"}, \"baxis\": {\"endlinecolor\": \"#2a3f5f\", \"gridcolor\": \"white\", \"linecolor\": \"white\", \"minorgridcolor\": \"white\", \"startlinecolor\": \"#2a3f5f\"}, \"type\": \"carpet\"}], \"choropleth\": [{\"colorbar\": {\"outlinewidth\": 0, \"ticks\": \"\"}, \"type\": \"choropleth\"}], \"contour\": [{\"colorbar\": {\"outlinewidth\": 0, \"ticks\": \"\"}, \"colorscale\": [[0.0, \"#0d0887\"], [0.1111111111111111, \"#46039f\"], [0.2222222222222222, \"#7201a8\"], [0.3333333333333333, \"#9c179e\"], [0.4444444444444444, \"#bd3786\"], [0.5555555555555556, \"#d8576b\"], [0.6666666666666666, \"#ed7953\"], [0.7777777777777778, \"#fb9f3a\"], [0.8888888888888888, \"#fdca26\"], [1.0, \"#f0f921\"]], \"type\": \"contour\"}], \"contourcarpet\": [{\"colorbar\": {\"outlinewidth\": 0, \"ticks\": \"\"}, \"type\": \"contourcarpet\"}], \"heatmap\": [{\"colorbar\": {\"outlinewidth\": 0, \"ticks\": \"\"}, \"colorscale\": [[0.0, \"#0d0887\"], [0.1111111111111111, \"#46039f\"], [0.2222222222222222, \"#7201a8\"], [0.3333333333333333, \"#9c179e\"], [0.4444444444444444, \"#bd3786\"], [0.5555555555555556, \"#d8576b\"], [0.6666666666666666, \"#ed7953\"], [0.7777777777777778, \"#fb9f3a\"], [0.8888888888888888, \"#fdca26\"], [1.0, \"#f0f921\"]], \"type\": \"heatmap\"}], \"heatmapgl\": [{\"colorbar\": {\"outlinewidth\": 0, \"ticks\": \"\"}, \"colorscale\": [[0.0, \"#0d0887\"], [0.1111111111111111, \"#46039f\"], [0.2222222222222222, \"#7201a8\"], [0.3333333333333333, \"#9c179e\"], [0.4444444444444444, \"#bd3786\"], [0.5555555555555556, \"#d8576b\"], [0.6666666666666666, \"#ed7953\"], [0.7777777777777778, \"#fb9f3a\"], [0.8888888888888888, \"#fdca26\"], [1.0, \"#f0f921\"]], \"type\": \"heatmapgl\"}], \"histogram\": [{\"marker\": {\"colorbar\": {\"outlinewidth\": 0, \"ticks\": \"\"}}, \"type\": \"histogram\"}], \"histogram2d\": [{\"colorbar\": {\"outlinewidth\": 0, \"ticks\": \"\"}, \"colorscale\": [[0.0, \"#0d0887\"], [0.1111111111111111, \"#46039f\"], [0.2222222222222222, \"#7201a8\"], [0.3333333333333333, \"#9c179e\"], [0.4444444444444444, \"#bd3786\"], [0.5555555555555556, \"#d8576b\"], [0.6666666666666666, \"#ed7953\"], [0.7777777777777778, \"#fb9f3a\"], [0.8888888888888888, \"#fdca26\"], [1.0, \"#f0f921\"]], \"type\": \"histogram2d\"}], \"histogram2dcontour\": [{\"colorbar\": {\"outlinewidth\": 0, \"ticks\": \"\"}, \"colorscale\": [[0.0, \"#0d0887\"], [0.1111111111111111, \"#46039f\"], [0.2222222222222222, \"#7201a8\"], [0.3333333333333333, \"#9c179e\"], [0.4444444444444444, \"#bd3786\"], [0.5555555555555556, \"#d8576b\"], [0.6666666666666666, \"#ed7953\"], [0.7777777777777778, \"#fb9f3a\"], [0.8888888888888888, \"#fdca26\"], [1.0, \"#f0f921\"]], \"type\": \"histogram2dcontour\"}], \"mesh3d\": [{\"colorbar\": {\"outlinewidth\": 0, \"ticks\": \"\"}, \"type\": \"mesh3d\"}], \"parcoords\": [{\"line\": {\"colorbar\": {\"outlinewidth\": 0, \"ticks\": \"\"}}, \"type\": \"parcoords\"}], \"pie\": [{\"automargin\": true, \"type\": \"pie\"}], \"scatter\": [{\"marker\": {\"colorbar\": {\"outlinewidth\": 0, \"ticks\": \"\"}}, \"type\": \"scatter\"}], \"scatter3d\": [{\"line\": {\"colorbar\": {\"outlinewidth\": 0, \"ticks\": \"\"}}, \"marker\": {\"colorbar\": {\"outlinewidth\": 0, \"ticks\": \"\"}}, \"type\": \"scatter3d\"}], \"scattercarpet\": [{\"marker\": {\"colorbar\": {\"outlinewidth\": 0, \"ticks\": \"\"}}, \"type\": \"scattercarpet\"}], \"scattergeo\": [{\"marker\": {\"colorbar\": {\"outlinewidth\": 0, \"ticks\": \"\"}}, \"type\": \"scattergeo\"}], \"scattergl\": [{\"marker\": {\"colorbar\": {\"outlinewidth\": 0, \"ticks\": \"\"}}, \"type\": \"scattergl\"}], \"scattermapbox\": [{\"marker\": {\"colorbar\": {\"outlinewidth\": 0, \"ticks\": \"\"}}, \"type\": \"scattermapbox\"}], \"scatterpolar\": [{\"marker\": {\"colorbar\": {\"outlinewidth\": 0, \"ticks\": \"\"}}, \"type\": \"scatterpolar\"}], \"scatterpolargl\": [{\"marker\": {\"colorbar\": {\"outlinewidth\": 0, \"ticks\": \"\"}}, \"type\": \"scatterpolargl\"}], \"scatterternary\": [{\"marker\": {\"colorbar\": {\"outlinewidth\": 0, \"ticks\": \"\"}}, \"type\": \"scatterternary\"}], \"surface\": [{\"colorbar\": {\"outlinewidth\": 0, \"ticks\": \"\"}, \"colorscale\": [[0.0, \"#0d0887\"], [0.1111111111111111, \"#46039f\"], [0.2222222222222222, \"#7201a8\"], [0.3333333333333333, \"#9c179e\"], [0.4444444444444444, \"#bd3786\"], [0.5555555555555556, \"#d8576b\"], [0.6666666666666666, \"#ed7953\"], [0.7777777777777778, \"#fb9f3a\"], [0.8888888888888888, \"#fdca26\"], [1.0, \"#f0f921\"]], \"type\": \"surface\"}], \"table\": [{\"cells\": {\"fill\": {\"color\": \"#EBF0F8\"}, \"line\": {\"color\": \"white\"}}, \"header\": {\"fill\": {\"color\": \"#C8D4E3\"}, \"line\": {\"color\": \"white\"}}, \"type\": \"table\"}]}, \"layout\": {\"annotationdefaults\": {\"arrowcolor\": \"#2a3f5f\", \"arrowhead\": 0, \"arrowwidth\": 1}, \"autotypenumbers\": \"strict\", \"coloraxis\": {\"colorbar\": {\"outlinewidth\": 0, \"ticks\": \"\"}}, \"colorscale\": {\"diverging\": [[0, \"#8e0152\"], [0.1, \"#c51b7d\"], [0.2, \"#de77ae\"], [0.3, \"#f1b6da\"], [0.4, \"#fde0ef\"], [0.5, \"#f7f7f7\"], [0.6, \"#e6f5d0\"], [0.7, \"#b8e186\"], [0.8, \"#7fbc41\"], [0.9, \"#4d9221\"], [1, \"#276419\"]], \"sequential\": [[0.0, \"#0d0887\"], [0.1111111111111111, \"#46039f\"], [0.2222222222222222, \"#7201a8\"], [0.3333333333333333, \"#9c179e\"], [0.4444444444444444, \"#bd3786\"], [0.5555555555555556, \"#d8576b\"], [0.6666666666666666, \"#ed7953\"], [0.7777777777777778, \"#fb9f3a\"], [0.8888888888888888, \"#fdca26\"], [1.0, \"#f0f921\"]], \"sequentialminus\": [[0.0, \"#0d0887\"], [0.1111111111111111, \"#46039f\"], [0.2222222222222222, \"#7201a8\"], [0.3333333333333333, \"#9c179e\"], [0.4444444444444444, \"#bd3786\"], [0.5555555555555556, \"#d8576b\"], [0.6666666666666666, \"#ed7953\"], [0.7777777777777778, \"#fb9f3a\"], [0.8888888888888888, \"#fdca26\"], [1.0, \"#f0f921\"]]}, \"colorway\": [\"#636efa\", \"#EF553B\", \"#00cc96\", \"#ab63fa\", \"#FFA15A\", \"#19d3f3\", \"#FF6692\", \"#B6E880\", \"#FF97FF\", \"#FECB52\"], \"font\": {\"color\": \"#2a3f5f\"}, \"geo\": {\"bgcolor\": \"white\", \"lakecolor\": \"white\", \"landcolor\": \"#E5ECF6\", \"showlakes\": true, \"showland\": true, \"subunitcolor\": \"white\"}, \"hoverlabel\": {\"align\": \"left\"}, \"hovermode\": \"closest\", \"mapbox\": {\"style\": \"light\"}, \"paper_bgcolor\": \"white\", \"plot_bgcolor\": \"#E5ECF6\", \"polar\": {\"angularaxis\": {\"gridcolor\": \"white\", \"linecolor\": \"white\", \"ticks\": \"\"}, \"bgcolor\": \"#E5ECF6\", \"radialaxis\": {\"gridcolor\": \"white\", \"linecolor\": \"white\", \"ticks\": \"\"}}, \"scene\": {\"xaxis\": {\"backgroundcolor\": \"#E5ECF6\", \"gridcolor\": \"white\", \"gridwidth\": 2, \"linecolor\": \"white\", \"showbackground\": true, \"ticks\": \"\", \"zerolinecolor\": \"white\"}, \"yaxis\": {\"backgroundcolor\": \"#E5ECF6\", \"gridcolor\": \"white\", \"gridwidth\": 2, \"linecolor\": \"white\", \"showbackground\": true, \"ticks\": \"\", \"zerolinecolor\": \"white\"}, \"zaxis\": {\"backgroundcolor\": \"#E5ECF6\", \"gridcolor\": \"white\", \"gridwidth\": 2, \"linecolor\": \"white\", \"showbackground\": true, \"ticks\": \"\", \"zerolinecolor\": \"white\"}}, \"shapedefaults\": {\"line\": {\"color\": \"#2a3f5f\"}}, \"ternary\": {\"aaxis\": {\"gridcolor\": \"white\", \"linecolor\": \"white\", \"ticks\": \"\"}, \"baxis\": {\"gridcolor\": \"white\", \"linecolor\": \"white\", \"ticks\": \"\"}, \"bgcolor\": \"#E5ECF6\", \"caxis\": {\"gridcolor\": \"white\", \"linecolor\": \"white\", \"ticks\": \"\"}}, \"title\": {\"x\": 0.05}, \"xaxis\": {\"automargin\": true, \"gridcolor\": \"white\", \"linecolor\": \"white\", \"ticks\": \"\", \"title\": {\"standoff\": 15}, \"zerolinecolor\": \"white\", \"zerolinewidth\": 2}, \"yaxis\": {\"automargin\": true, \"gridcolor\": \"white\", \"linecolor\": \"white\", \"ticks\": \"\", \"title\": {\"standoff\": 15}, \"zerolinecolor\": \"white\", \"zerolinewidth\": 2}}}, \"title\": {\"text\": \"User-Reported Emotion by Video Type\"}, \"xaxis\": {\"anchor\": \"y\", \"domain\": [0.0, 0.2888888888888889]}, \"xaxis2\": {\"anchor\": \"y2\", \"domain\": [0.35555555555555557, 0.6444444444444445], \"title\": {\"text\": \"Negative to Positive Reported Emotions\"}}, \"xaxis3\": {\"anchor\": \"y3\", \"domain\": [0.7111111111111111, 1.0]}, \"yaxis\": {\"anchor\": \"x\", \"domain\": [0.0, 1.0], \"title\": {\"text\": \"Count of Reported Emotions\"}}, \"yaxis2\": {\"anchor\": \"x2\", \"domain\": [0.0, 1.0]}, \"yaxis3\": {\"anchor\": \"x3\", \"domain\": [0.0, 1.0]}},                        {\"responsive\": true}                    ).then(function(){\n",
       "                            \n",
       "var gd = document.getElementById('f9fe57d4-3fa6-469d-aefc-bbb0cc138df3');\n",
       "var x = new MutationObserver(function (mutations, observer) {{\n",
       "        var display = window.getComputedStyle(gd).display;\n",
       "        if (!display || display === 'none') {{\n",
       "            console.log([gd, 'removed!']);\n",
       "            Plotly.purge(gd);\n",
       "            observer.disconnect();\n",
       "        }}\n",
       "}});\n",
       "\n",
       "// Listen for the removal of the full notebook cells\n",
       "var notebookContainer = gd.closest('#notebook-container');\n",
       "if (notebookContainer) {{\n",
       "    x.observe(notebookContainer, {childList: true});\n",
       "}}\n",
       "\n",
       "// Listen for the clearing of the current output cell\n",
       "var outputEl = gd.closest('.output');\n",
       "if (outputEl) {{\n",
       "    x.observe(outputEl, {childList: true});\n",
       "}}\n",
       "\n",
       "                        })                };                });            </script>        </div>"
      ]
     },
     "metadata": {},
     "output_type": "display_data"
    }
   ],
   "source": [
    "bins = [-1.5, -0.75, -0.5, -0.25, -0.1, 0.1,\n",
    "        0.25, 0.5, 0.75, 1.5]\n",
    "labels = [-1.0, -0.75, -0.5, -0.25, 0.0, 0.25, 0.5, 0.75, 1.0]\n",
    "\n",
    "fig = make_subplots(rows=1, cols=3,\n",
    "                    subplot_titles=('Neutral','Positive','Negative'))\n",
    "emotions = ['neutral','positive','negative']\n",
    "for i, emotion in enumerate(emotions):\n",
    "    tmp = data_df[data_df['video_type'] == emotion]\n",
    "    tmp['x_joystick'] = pd.cut(tmp['x_joystick'], bins=bins, labels=labels)\n",
    "    tmp = tmp.groupby('x_joystick').video_id.count().reset_index().rename(columns={'video_id':'count'})\n",
    "    fig.add_trace(go.Bar(x=list(tmp['x_joystick']),\n",
    "                         y=list(tmp['count'])),\n",
    "                  row=1, col=i + 1)\n",
    "\n",
    "fig.update_layout(title_text='User-Reported Emotion by Video Type', showlegend=False)\n",
    "fig.update_yaxes(title_text='Count of Reported Emotions', row=1, col=1)\n",
    "fig.update_xaxes(title_text='Negative to Positive Reported Emotions', row=1, col=2)\n",
    "fig.show()"
   ]
  },
  {
   "cell_type": "markdown",
   "id": "comic-station",
   "metadata": {},
   "source": [
    "## RPM Distribution "
   ]
  },
  {
   "cell_type": "code",
   "execution_count": 357,
   "id": "everyday-nightmare",
   "metadata": {},
   "outputs": [
    {
     "name": "stderr",
     "output_type": "stream",
     "text": [
      "/Users/sam/Documents/CornellTech/Classes/Spring2021/UbiComp/ubienv/lib/python3.7/site-packages/ipykernel_launcher.py:9: SettingWithCopyWarning:\n",
      "\n",
      "\n",
      "A value is trying to be set on a copy of a slice from a DataFrame.\n",
      "Try using .loc[row_indexer,col_indexer] = value instead\n",
      "\n",
      "See the caveats in the documentation: https://pandas.pydata.org/pandas-docs/stable/user_guide/indexing.html#returning-a-view-versus-a-copy\n",
      "\n"
     ]
    },
    {
     "data": {
      "application/vnd.plotly.v1+json": {
       "config": {
        "plotlyServerURL": "https://plot.ly"
       },
       "data": [
        {
         "type": "bar",
         "x": [
          6,
          9,
          12,
          15,
          18,
          21,
          24,
          27,
          30
         ],
         "xaxis": "x",
         "y": [
          32,
          420,
          1031,
          795,
          569,
          307,
          246,
          41,
          28
         ],
         "yaxis": "y"
        },
        {
         "type": "bar",
         "x": [
          6,
          9,
          12,
          15,
          18,
          21,
          24,
          27,
          30
         ],
         "xaxis": "x2",
         "y": [
          261,
          739,
          407,
          512,
          1120,
          314,
          1273,
          180,
          171
         ],
         "yaxis": "y2"
        },
        {
         "type": "bar",
         "x": [
          6,
          9,
          12,
          15,
          18,
          21,
          24,
          27,
          30
         ],
         "xaxis": "x3",
         "y": [
          0,
          0,
          139,
          37,
          244,
          223,
          330,
          330,
          0
         ],
         "yaxis": "y3"
        }
       ],
       "layout": {
        "annotations": [
         {
          "font": {
           "size": 16
          },
          "showarrow": false,
          "text": "Neutral",
          "x": 0.14444444444444446,
          "xanchor": "center",
          "xref": "paper",
          "y": 1,
          "yanchor": "bottom",
          "yref": "paper"
         },
         {
          "font": {
           "size": 16
          },
          "showarrow": false,
          "text": "Positive",
          "x": 0.5,
          "xanchor": "center",
          "xref": "paper",
          "y": 1,
          "yanchor": "bottom",
          "yref": "paper"
         },
         {
          "font": {
           "size": 16
          },
          "showarrow": false,
          "text": "Negative",
          "x": 0.8555555555555556,
          "xanchor": "center",
          "xref": "paper",
          "y": 1,
          "yanchor": "bottom",
          "yref": "paper"
         }
        ],
        "showlegend": false,
        "template": {
         "data": {
          "bar": [
           {
            "error_x": {
             "color": "#2a3f5f"
            },
            "error_y": {
             "color": "#2a3f5f"
            },
            "marker": {
             "line": {
              "color": "#E5ECF6",
              "width": 0.5
             }
            },
            "type": "bar"
           }
          ],
          "barpolar": [
           {
            "marker": {
             "line": {
              "color": "#E5ECF6",
              "width": 0.5
             }
            },
            "type": "barpolar"
           }
          ],
          "carpet": [
           {
            "aaxis": {
             "endlinecolor": "#2a3f5f",
             "gridcolor": "white",
             "linecolor": "white",
             "minorgridcolor": "white",
             "startlinecolor": "#2a3f5f"
            },
            "baxis": {
             "endlinecolor": "#2a3f5f",
             "gridcolor": "white",
             "linecolor": "white",
             "minorgridcolor": "white",
             "startlinecolor": "#2a3f5f"
            },
            "type": "carpet"
           }
          ],
          "choropleth": [
           {
            "colorbar": {
             "outlinewidth": 0,
             "ticks": ""
            },
            "type": "choropleth"
           }
          ],
          "contour": [
           {
            "colorbar": {
             "outlinewidth": 0,
             "ticks": ""
            },
            "colorscale": [
             [
              0,
              "#0d0887"
             ],
             [
              0.1111111111111111,
              "#46039f"
             ],
             [
              0.2222222222222222,
              "#7201a8"
             ],
             [
              0.3333333333333333,
              "#9c179e"
             ],
             [
              0.4444444444444444,
              "#bd3786"
             ],
             [
              0.5555555555555556,
              "#d8576b"
             ],
             [
              0.6666666666666666,
              "#ed7953"
             ],
             [
              0.7777777777777778,
              "#fb9f3a"
             ],
             [
              0.8888888888888888,
              "#fdca26"
             ],
             [
              1,
              "#f0f921"
             ]
            ],
            "type": "contour"
           }
          ],
          "contourcarpet": [
           {
            "colorbar": {
             "outlinewidth": 0,
             "ticks": ""
            },
            "type": "contourcarpet"
           }
          ],
          "heatmap": [
           {
            "colorbar": {
             "outlinewidth": 0,
             "ticks": ""
            },
            "colorscale": [
             [
              0,
              "#0d0887"
             ],
             [
              0.1111111111111111,
              "#46039f"
             ],
             [
              0.2222222222222222,
              "#7201a8"
             ],
             [
              0.3333333333333333,
              "#9c179e"
             ],
             [
              0.4444444444444444,
              "#bd3786"
             ],
             [
              0.5555555555555556,
              "#d8576b"
             ],
             [
              0.6666666666666666,
              "#ed7953"
             ],
             [
              0.7777777777777778,
              "#fb9f3a"
             ],
             [
              0.8888888888888888,
              "#fdca26"
             ],
             [
              1,
              "#f0f921"
             ]
            ],
            "type": "heatmap"
           }
          ],
          "heatmapgl": [
           {
            "colorbar": {
             "outlinewidth": 0,
             "ticks": ""
            },
            "colorscale": [
             [
              0,
              "#0d0887"
             ],
             [
              0.1111111111111111,
              "#46039f"
             ],
             [
              0.2222222222222222,
              "#7201a8"
             ],
             [
              0.3333333333333333,
              "#9c179e"
             ],
             [
              0.4444444444444444,
              "#bd3786"
             ],
             [
              0.5555555555555556,
              "#d8576b"
             ],
             [
              0.6666666666666666,
              "#ed7953"
             ],
             [
              0.7777777777777778,
              "#fb9f3a"
             ],
             [
              0.8888888888888888,
              "#fdca26"
             ],
             [
              1,
              "#f0f921"
             ]
            ],
            "type": "heatmapgl"
           }
          ],
          "histogram": [
           {
            "marker": {
             "colorbar": {
              "outlinewidth": 0,
              "ticks": ""
             }
            },
            "type": "histogram"
           }
          ],
          "histogram2d": [
           {
            "colorbar": {
             "outlinewidth": 0,
             "ticks": ""
            },
            "colorscale": [
             [
              0,
              "#0d0887"
             ],
             [
              0.1111111111111111,
              "#46039f"
             ],
             [
              0.2222222222222222,
              "#7201a8"
             ],
             [
              0.3333333333333333,
              "#9c179e"
             ],
             [
              0.4444444444444444,
              "#bd3786"
             ],
             [
              0.5555555555555556,
              "#d8576b"
             ],
             [
              0.6666666666666666,
              "#ed7953"
             ],
             [
              0.7777777777777778,
              "#fb9f3a"
             ],
             [
              0.8888888888888888,
              "#fdca26"
             ],
             [
              1,
              "#f0f921"
             ]
            ],
            "type": "histogram2d"
           }
          ],
          "histogram2dcontour": [
           {
            "colorbar": {
             "outlinewidth": 0,
             "ticks": ""
            },
            "colorscale": [
             [
              0,
              "#0d0887"
             ],
             [
              0.1111111111111111,
              "#46039f"
             ],
             [
              0.2222222222222222,
              "#7201a8"
             ],
             [
              0.3333333333333333,
              "#9c179e"
             ],
             [
              0.4444444444444444,
              "#bd3786"
             ],
             [
              0.5555555555555556,
              "#d8576b"
             ],
             [
              0.6666666666666666,
              "#ed7953"
             ],
             [
              0.7777777777777778,
              "#fb9f3a"
             ],
             [
              0.8888888888888888,
              "#fdca26"
             ],
             [
              1,
              "#f0f921"
             ]
            ],
            "type": "histogram2dcontour"
           }
          ],
          "mesh3d": [
           {
            "colorbar": {
             "outlinewidth": 0,
             "ticks": ""
            },
            "type": "mesh3d"
           }
          ],
          "parcoords": [
           {
            "line": {
             "colorbar": {
              "outlinewidth": 0,
              "ticks": ""
             }
            },
            "type": "parcoords"
           }
          ],
          "pie": [
           {
            "automargin": true,
            "type": "pie"
           }
          ],
          "scatter": [
           {
            "marker": {
             "colorbar": {
              "outlinewidth": 0,
              "ticks": ""
             }
            },
            "type": "scatter"
           }
          ],
          "scatter3d": [
           {
            "line": {
             "colorbar": {
              "outlinewidth": 0,
              "ticks": ""
             }
            },
            "marker": {
             "colorbar": {
              "outlinewidth": 0,
              "ticks": ""
             }
            },
            "type": "scatter3d"
           }
          ],
          "scattercarpet": [
           {
            "marker": {
             "colorbar": {
              "outlinewidth": 0,
              "ticks": ""
             }
            },
            "type": "scattercarpet"
           }
          ],
          "scattergeo": [
           {
            "marker": {
             "colorbar": {
              "outlinewidth": 0,
              "ticks": ""
             }
            },
            "type": "scattergeo"
           }
          ],
          "scattergl": [
           {
            "marker": {
             "colorbar": {
              "outlinewidth": 0,
              "ticks": ""
             }
            },
            "type": "scattergl"
           }
          ],
          "scattermapbox": [
           {
            "marker": {
             "colorbar": {
              "outlinewidth": 0,
              "ticks": ""
             }
            },
            "type": "scattermapbox"
           }
          ],
          "scatterpolar": [
           {
            "marker": {
             "colorbar": {
              "outlinewidth": 0,
              "ticks": ""
             }
            },
            "type": "scatterpolar"
           }
          ],
          "scatterpolargl": [
           {
            "marker": {
             "colorbar": {
              "outlinewidth": 0,
              "ticks": ""
             }
            },
            "type": "scatterpolargl"
           }
          ],
          "scatterternary": [
           {
            "marker": {
             "colorbar": {
              "outlinewidth": 0,
              "ticks": ""
             }
            },
            "type": "scatterternary"
           }
          ],
          "surface": [
           {
            "colorbar": {
             "outlinewidth": 0,
             "ticks": ""
            },
            "colorscale": [
             [
              0,
              "#0d0887"
             ],
             [
              0.1111111111111111,
              "#46039f"
             ],
             [
              0.2222222222222222,
              "#7201a8"
             ],
             [
              0.3333333333333333,
              "#9c179e"
             ],
             [
              0.4444444444444444,
              "#bd3786"
             ],
             [
              0.5555555555555556,
              "#d8576b"
             ],
             [
              0.6666666666666666,
              "#ed7953"
             ],
             [
              0.7777777777777778,
              "#fb9f3a"
             ],
             [
              0.8888888888888888,
              "#fdca26"
             ],
             [
              1,
              "#f0f921"
             ]
            ],
            "type": "surface"
           }
          ],
          "table": [
           {
            "cells": {
             "fill": {
              "color": "#EBF0F8"
             },
             "line": {
              "color": "white"
             }
            },
            "header": {
             "fill": {
              "color": "#C8D4E3"
             },
             "line": {
              "color": "white"
             }
            },
            "type": "table"
           }
          ]
         },
         "layout": {
          "annotationdefaults": {
           "arrowcolor": "#2a3f5f",
           "arrowhead": 0,
           "arrowwidth": 1
          },
          "autotypenumbers": "strict",
          "coloraxis": {
           "colorbar": {
            "outlinewidth": 0,
            "ticks": ""
           }
          },
          "colorscale": {
           "diverging": [
            [
             0,
             "#8e0152"
            ],
            [
             0.1,
             "#c51b7d"
            ],
            [
             0.2,
             "#de77ae"
            ],
            [
             0.3,
             "#f1b6da"
            ],
            [
             0.4,
             "#fde0ef"
            ],
            [
             0.5,
             "#f7f7f7"
            ],
            [
             0.6,
             "#e6f5d0"
            ],
            [
             0.7,
             "#b8e186"
            ],
            [
             0.8,
             "#7fbc41"
            ],
            [
             0.9,
             "#4d9221"
            ],
            [
             1,
             "#276419"
            ]
           ],
           "sequential": [
            [
             0,
             "#0d0887"
            ],
            [
             0.1111111111111111,
             "#46039f"
            ],
            [
             0.2222222222222222,
             "#7201a8"
            ],
            [
             0.3333333333333333,
             "#9c179e"
            ],
            [
             0.4444444444444444,
             "#bd3786"
            ],
            [
             0.5555555555555556,
             "#d8576b"
            ],
            [
             0.6666666666666666,
             "#ed7953"
            ],
            [
             0.7777777777777778,
             "#fb9f3a"
            ],
            [
             0.8888888888888888,
             "#fdca26"
            ],
            [
             1,
             "#f0f921"
            ]
           ],
           "sequentialminus": [
            [
             0,
             "#0d0887"
            ],
            [
             0.1111111111111111,
             "#46039f"
            ],
            [
             0.2222222222222222,
             "#7201a8"
            ],
            [
             0.3333333333333333,
             "#9c179e"
            ],
            [
             0.4444444444444444,
             "#bd3786"
            ],
            [
             0.5555555555555556,
             "#d8576b"
            ],
            [
             0.6666666666666666,
             "#ed7953"
            ],
            [
             0.7777777777777778,
             "#fb9f3a"
            ],
            [
             0.8888888888888888,
             "#fdca26"
            ],
            [
             1,
             "#f0f921"
            ]
           ]
          },
          "colorway": [
           "#636efa",
           "#EF553B",
           "#00cc96",
           "#ab63fa",
           "#FFA15A",
           "#19d3f3",
           "#FF6692",
           "#B6E880",
           "#FF97FF",
           "#FECB52"
          ],
          "font": {
           "color": "#2a3f5f"
          },
          "geo": {
           "bgcolor": "white",
           "lakecolor": "white",
           "landcolor": "#E5ECF6",
           "showlakes": true,
           "showland": true,
           "subunitcolor": "white"
          },
          "hoverlabel": {
           "align": "left"
          },
          "hovermode": "closest",
          "mapbox": {
           "style": "light"
          },
          "paper_bgcolor": "white",
          "plot_bgcolor": "#E5ECF6",
          "polar": {
           "angularaxis": {
            "gridcolor": "white",
            "linecolor": "white",
            "ticks": ""
           },
           "bgcolor": "#E5ECF6",
           "radialaxis": {
            "gridcolor": "white",
            "linecolor": "white",
            "ticks": ""
           }
          },
          "scene": {
           "xaxis": {
            "backgroundcolor": "#E5ECF6",
            "gridcolor": "white",
            "gridwidth": 2,
            "linecolor": "white",
            "showbackground": true,
            "ticks": "",
            "zerolinecolor": "white"
           },
           "yaxis": {
            "backgroundcolor": "#E5ECF6",
            "gridcolor": "white",
            "gridwidth": 2,
            "linecolor": "white",
            "showbackground": true,
            "ticks": "",
            "zerolinecolor": "white"
           },
           "zaxis": {
            "backgroundcolor": "#E5ECF6",
            "gridcolor": "white",
            "gridwidth": 2,
            "linecolor": "white",
            "showbackground": true,
            "ticks": "",
            "zerolinecolor": "white"
           }
          },
          "shapedefaults": {
           "line": {
            "color": "#2a3f5f"
           }
          },
          "ternary": {
           "aaxis": {
            "gridcolor": "white",
            "linecolor": "white",
            "ticks": ""
           },
           "baxis": {
            "gridcolor": "white",
            "linecolor": "white",
            "ticks": ""
           },
           "bgcolor": "#E5ECF6",
           "caxis": {
            "gridcolor": "white",
            "linecolor": "white",
            "ticks": ""
           }
          },
          "title": {
           "x": 0.05
          },
          "xaxis": {
           "automargin": true,
           "gridcolor": "white",
           "linecolor": "white",
           "ticks": "",
           "title": {
            "standoff": 15
           },
           "zerolinecolor": "white",
           "zerolinewidth": 2
          },
          "yaxis": {
           "automargin": true,
           "gridcolor": "white",
           "linecolor": "white",
           "ticks": "",
           "title": {
            "standoff": 15
           },
           "zerolinecolor": "white",
           "zerolinewidth": 2
          }
         }
        },
        "title": {
         "text": "RPM by Video Type"
        },
        "xaxis": {
         "anchor": "y",
         "domain": [
          0,
          0.2888888888888889
         ]
        },
        "xaxis2": {
         "anchor": "y2",
         "domain": [
          0.35555555555555557,
          0.6444444444444445
         ],
         "title": {
          "text": "Respiration Rate"
         }
        },
        "xaxis3": {
         "anchor": "y3",
         "domain": [
          0.7111111111111111,
          1
         ]
        },
        "yaxis": {
         "anchor": "x",
         "domain": [
          0,
          1
         ],
         "title": {
          "text": "Count"
         }
        },
        "yaxis2": {
         "anchor": "x2",
         "domain": [
          0,
          1
         ]
        },
        "yaxis3": {
         "anchor": "x3",
         "domain": [
          0,
          1
         ]
        }
       }
      },
      "text/html": [
       "<div>                            <div id=\"db7c08c8-ca57-4e06-bcc4-7018df16a66f\" class=\"plotly-graph-div\" style=\"height:525px; width:100%;\"></div>            <script type=\"text/javascript\">                require([\"plotly\"], function(Plotly) {                    window.PLOTLYENV=window.PLOTLYENV || {};                                    if (document.getElementById(\"db7c08c8-ca57-4e06-bcc4-7018df16a66f\")) {                    Plotly.newPlot(                        \"db7c08c8-ca57-4e06-bcc4-7018df16a66f\",                        [{\"type\": \"bar\", \"x\": [6, 9, 12, 15, 18, 21, 24, 27, 30], \"xaxis\": \"x\", \"y\": [32, 420, 1031, 795, 569, 307, 246, 41, 28], \"yaxis\": \"y\"}, {\"type\": \"bar\", \"x\": [6, 9, 12, 15, 18, 21, 24, 27, 30], \"xaxis\": \"x2\", \"y\": [261, 739, 407, 512, 1120, 314, 1273, 180, 171], \"yaxis\": \"y2\"}, {\"type\": \"bar\", \"x\": [6, 9, 12, 15, 18, 21, 24, 27, 30], \"xaxis\": \"x3\", \"y\": [0, 0, 139, 37, 244, 223, 330, 330, 0], \"yaxis\": \"y3\"}],                        {\"annotations\": [{\"font\": {\"size\": 16}, \"showarrow\": false, \"text\": \"Neutral\", \"x\": 0.14444444444444446, \"xanchor\": \"center\", \"xref\": \"paper\", \"y\": 1.0, \"yanchor\": \"bottom\", \"yref\": \"paper\"}, {\"font\": {\"size\": 16}, \"showarrow\": false, \"text\": \"Positive\", \"x\": 0.5, \"xanchor\": \"center\", \"xref\": \"paper\", \"y\": 1.0, \"yanchor\": \"bottom\", \"yref\": \"paper\"}, {\"font\": {\"size\": 16}, \"showarrow\": false, \"text\": \"Negative\", \"x\": 0.8555555555555556, \"xanchor\": \"center\", \"xref\": \"paper\", \"y\": 1.0, \"yanchor\": \"bottom\", \"yref\": \"paper\"}], \"showlegend\": false, \"template\": {\"data\": {\"bar\": [{\"error_x\": {\"color\": \"#2a3f5f\"}, \"error_y\": {\"color\": \"#2a3f5f\"}, \"marker\": {\"line\": {\"color\": \"#E5ECF6\", \"width\": 0.5}}, \"type\": \"bar\"}], \"barpolar\": [{\"marker\": {\"line\": {\"color\": \"#E5ECF6\", \"width\": 0.5}}, \"type\": \"barpolar\"}], \"carpet\": [{\"aaxis\": {\"endlinecolor\": \"#2a3f5f\", \"gridcolor\": \"white\", \"linecolor\": \"white\", \"minorgridcolor\": \"white\", \"startlinecolor\": \"#2a3f5f\"}, \"baxis\": {\"endlinecolor\": \"#2a3f5f\", \"gridcolor\": \"white\", \"linecolor\": \"white\", \"minorgridcolor\": \"white\", \"startlinecolor\": \"#2a3f5f\"}, \"type\": \"carpet\"}], \"choropleth\": [{\"colorbar\": {\"outlinewidth\": 0, \"ticks\": \"\"}, \"type\": \"choropleth\"}], \"contour\": [{\"colorbar\": {\"outlinewidth\": 0, \"ticks\": \"\"}, \"colorscale\": [[0.0, \"#0d0887\"], [0.1111111111111111, \"#46039f\"], [0.2222222222222222, \"#7201a8\"], [0.3333333333333333, \"#9c179e\"], [0.4444444444444444, \"#bd3786\"], [0.5555555555555556, \"#d8576b\"], [0.6666666666666666, \"#ed7953\"], [0.7777777777777778, \"#fb9f3a\"], [0.8888888888888888, \"#fdca26\"], [1.0, \"#f0f921\"]], \"type\": \"contour\"}], \"contourcarpet\": [{\"colorbar\": {\"outlinewidth\": 0, \"ticks\": \"\"}, \"type\": \"contourcarpet\"}], \"heatmap\": [{\"colorbar\": {\"outlinewidth\": 0, \"ticks\": \"\"}, \"colorscale\": [[0.0, \"#0d0887\"], [0.1111111111111111, \"#46039f\"], [0.2222222222222222, \"#7201a8\"], [0.3333333333333333, \"#9c179e\"], [0.4444444444444444, \"#bd3786\"], [0.5555555555555556, \"#d8576b\"], [0.6666666666666666, \"#ed7953\"], [0.7777777777777778, \"#fb9f3a\"], [0.8888888888888888, \"#fdca26\"], [1.0, \"#f0f921\"]], \"type\": \"heatmap\"}], \"heatmapgl\": [{\"colorbar\": {\"outlinewidth\": 0, \"ticks\": \"\"}, \"colorscale\": [[0.0, \"#0d0887\"], [0.1111111111111111, \"#46039f\"], [0.2222222222222222, \"#7201a8\"], [0.3333333333333333, \"#9c179e\"], [0.4444444444444444, \"#bd3786\"], [0.5555555555555556, \"#d8576b\"], [0.6666666666666666, \"#ed7953\"], [0.7777777777777778, \"#fb9f3a\"], [0.8888888888888888, \"#fdca26\"], [1.0, \"#f0f921\"]], \"type\": \"heatmapgl\"}], \"histogram\": [{\"marker\": {\"colorbar\": {\"outlinewidth\": 0, \"ticks\": \"\"}}, \"type\": \"histogram\"}], \"histogram2d\": [{\"colorbar\": {\"outlinewidth\": 0, \"ticks\": \"\"}, \"colorscale\": [[0.0, \"#0d0887\"], [0.1111111111111111, \"#46039f\"], [0.2222222222222222, \"#7201a8\"], [0.3333333333333333, \"#9c179e\"], [0.4444444444444444, \"#bd3786\"], [0.5555555555555556, \"#d8576b\"], [0.6666666666666666, \"#ed7953\"], [0.7777777777777778, \"#fb9f3a\"], [0.8888888888888888, \"#fdca26\"], [1.0, \"#f0f921\"]], \"type\": \"histogram2d\"}], \"histogram2dcontour\": [{\"colorbar\": {\"outlinewidth\": 0, \"ticks\": \"\"}, \"colorscale\": [[0.0, \"#0d0887\"], [0.1111111111111111, \"#46039f\"], [0.2222222222222222, \"#7201a8\"], [0.3333333333333333, \"#9c179e\"], [0.4444444444444444, \"#bd3786\"], [0.5555555555555556, \"#d8576b\"], [0.6666666666666666, \"#ed7953\"], [0.7777777777777778, \"#fb9f3a\"], [0.8888888888888888, \"#fdca26\"], [1.0, \"#f0f921\"]], \"type\": \"histogram2dcontour\"}], \"mesh3d\": [{\"colorbar\": {\"outlinewidth\": 0, \"ticks\": \"\"}, \"type\": \"mesh3d\"}], \"parcoords\": [{\"line\": {\"colorbar\": {\"outlinewidth\": 0, \"ticks\": \"\"}}, \"type\": \"parcoords\"}], \"pie\": [{\"automargin\": true, \"type\": \"pie\"}], \"scatter\": [{\"marker\": {\"colorbar\": {\"outlinewidth\": 0, \"ticks\": \"\"}}, \"type\": \"scatter\"}], \"scatter3d\": [{\"line\": {\"colorbar\": {\"outlinewidth\": 0, \"ticks\": \"\"}}, \"marker\": {\"colorbar\": {\"outlinewidth\": 0, \"ticks\": \"\"}}, \"type\": \"scatter3d\"}], \"scattercarpet\": [{\"marker\": {\"colorbar\": {\"outlinewidth\": 0, \"ticks\": \"\"}}, \"type\": \"scattercarpet\"}], \"scattergeo\": [{\"marker\": {\"colorbar\": {\"outlinewidth\": 0, \"ticks\": \"\"}}, \"type\": \"scattergeo\"}], \"scattergl\": [{\"marker\": {\"colorbar\": {\"outlinewidth\": 0, \"ticks\": \"\"}}, \"type\": \"scattergl\"}], \"scattermapbox\": [{\"marker\": {\"colorbar\": {\"outlinewidth\": 0, \"ticks\": \"\"}}, \"type\": \"scattermapbox\"}], \"scatterpolar\": [{\"marker\": {\"colorbar\": {\"outlinewidth\": 0, \"ticks\": \"\"}}, \"type\": \"scatterpolar\"}], \"scatterpolargl\": [{\"marker\": {\"colorbar\": {\"outlinewidth\": 0, \"ticks\": \"\"}}, \"type\": \"scatterpolargl\"}], \"scatterternary\": [{\"marker\": {\"colorbar\": {\"outlinewidth\": 0, \"ticks\": \"\"}}, \"type\": \"scatterternary\"}], \"surface\": [{\"colorbar\": {\"outlinewidth\": 0, \"ticks\": \"\"}, \"colorscale\": [[0.0, \"#0d0887\"], [0.1111111111111111, \"#46039f\"], [0.2222222222222222, \"#7201a8\"], [0.3333333333333333, \"#9c179e\"], [0.4444444444444444, \"#bd3786\"], [0.5555555555555556, \"#d8576b\"], [0.6666666666666666, \"#ed7953\"], [0.7777777777777778, \"#fb9f3a\"], [0.8888888888888888, \"#fdca26\"], [1.0, \"#f0f921\"]], \"type\": \"surface\"}], \"table\": [{\"cells\": {\"fill\": {\"color\": \"#EBF0F8\"}, \"line\": {\"color\": \"white\"}}, \"header\": {\"fill\": {\"color\": \"#C8D4E3\"}, \"line\": {\"color\": \"white\"}}, \"type\": \"table\"}]}, \"layout\": {\"annotationdefaults\": {\"arrowcolor\": \"#2a3f5f\", \"arrowhead\": 0, \"arrowwidth\": 1}, \"autotypenumbers\": \"strict\", \"coloraxis\": {\"colorbar\": {\"outlinewidth\": 0, \"ticks\": \"\"}}, \"colorscale\": {\"diverging\": [[0, \"#8e0152\"], [0.1, \"#c51b7d\"], [0.2, \"#de77ae\"], [0.3, \"#f1b6da\"], [0.4, \"#fde0ef\"], [0.5, \"#f7f7f7\"], [0.6, \"#e6f5d0\"], [0.7, \"#b8e186\"], [0.8, \"#7fbc41\"], [0.9, \"#4d9221\"], [1, \"#276419\"]], \"sequential\": [[0.0, \"#0d0887\"], [0.1111111111111111, \"#46039f\"], [0.2222222222222222, \"#7201a8\"], [0.3333333333333333, \"#9c179e\"], [0.4444444444444444, \"#bd3786\"], [0.5555555555555556, \"#d8576b\"], [0.6666666666666666, \"#ed7953\"], [0.7777777777777778, \"#fb9f3a\"], [0.8888888888888888, \"#fdca26\"], [1.0, \"#f0f921\"]], \"sequentialminus\": [[0.0, \"#0d0887\"], [0.1111111111111111, \"#46039f\"], [0.2222222222222222, \"#7201a8\"], [0.3333333333333333, \"#9c179e\"], [0.4444444444444444, \"#bd3786\"], [0.5555555555555556, \"#d8576b\"], [0.6666666666666666, \"#ed7953\"], [0.7777777777777778, \"#fb9f3a\"], [0.8888888888888888, \"#fdca26\"], [1.0, \"#f0f921\"]]}, \"colorway\": [\"#636efa\", \"#EF553B\", \"#00cc96\", \"#ab63fa\", \"#FFA15A\", \"#19d3f3\", \"#FF6692\", \"#B6E880\", \"#FF97FF\", \"#FECB52\"], \"font\": {\"color\": \"#2a3f5f\"}, \"geo\": {\"bgcolor\": \"white\", \"lakecolor\": \"white\", \"landcolor\": \"#E5ECF6\", \"showlakes\": true, \"showland\": true, \"subunitcolor\": \"white\"}, \"hoverlabel\": {\"align\": \"left\"}, \"hovermode\": \"closest\", \"mapbox\": {\"style\": \"light\"}, \"paper_bgcolor\": \"white\", \"plot_bgcolor\": \"#E5ECF6\", \"polar\": {\"angularaxis\": {\"gridcolor\": \"white\", \"linecolor\": \"white\", \"ticks\": \"\"}, \"bgcolor\": \"#E5ECF6\", \"radialaxis\": {\"gridcolor\": \"white\", \"linecolor\": \"white\", \"ticks\": \"\"}}, \"scene\": {\"xaxis\": {\"backgroundcolor\": \"#E5ECF6\", \"gridcolor\": \"white\", \"gridwidth\": 2, \"linecolor\": \"white\", \"showbackground\": true, \"ticks\": \"\", \"zerolinecolor\": \"white\"}, \"yaxis\": {\"backgroundcolor\": \"#E5ECF6\", \"gridcolor\": \"white\", \"gridwidth\": 2, \"linecolor\": \"white\", \"showbackground\": true, \"ticks\": \"\", \"zerolinecolor\": \"white\"}, \"zaxis\": {\"backgroundcolor\": \"#E5ECF6\", \"gridcolor\": \"white\", \"gridwidth\": 2, \"linecolor\": \"white\", \"showbackground\": true, \"ticks\": \"\", \"zerolinecolor\": \"white\"}}, \"shapedefaults\": {\"line\": {\"color\": \"#2a3f5f\"}}, \"ternary\": {\"aaxis\": {\"gridcolor\": \"white\", \"linecolor\": \"white\", \"ticks\": \"\"}, \"baxis\": {\"gridcolor\": \"white\", \"linecolor\": \"white\", \"ticks\": \"\"}, \"bgcolor\": \"#E5ECF6\", \"caxis\": {\"gridcolor\": \"white\", \"linecolor\": \"white\", \"ticks\": \"\"}}, \"title\": {\"x\": 0.05}, \"xaxis\": {\"automargin\": true, \"gridcolor\": \"white\", \"linecolor\": \"white\", \"ticks\": \"\", \"title\": {\"standoff\": 15}, \"zerolinecolor\": \"white\", \"zerolinewidth\": 2}, \"yaxis\": {\"automargin\": true, \"gridcolor\": \"white\", \"linecolor\": \"white\", \"ticks\": \"\", \"title\": {\"standoff\": 15}, \"zerolinecolor\": \"white\", \"zerolinewidth\": 2}}}, \"title\": {\"text\": \"RPM by Video Type\"}, \"xaxis\": {\"anchor\": \"y\", \"domain\": [0.0, 0.2888888888888889]}, \"xaxis2\": {\"anchor\": \"y2\", \"domain\": [0.35555555555555557, 0.6444444444444445], \"title\": {\"text\": \"Respiration Rate\"}}, \"xaxis3\": {\"anchor\": \"y3\", \"domain\": [0.7111111111111111, 1.0]}, \"yaxis\": {\"anchor\": \"x\", \"domain\": [0.0, 1.0], \"title\": {\"text\": \"Count\"}}, \"yaxis2\": {\"anchor\": \"x2\", \"domain\": [0.0, 1.0]}, \"yaxis3\": {\"anchor\": \"x3\", \"domain\": [0.0, 1.0]}},                        {\"responsive\": true}                    ).then(function(){\n",
       "                            \n",
       "var gd = document.getElementById('db7c08c8-ca57-4e06-bcc4-7018df16a66f');\n",
       "var x = new MutationObserver(function (mutations, observer) {{\n",
       "        var display = window.getComputedStyle(gd).display;\n",
       "        if (!display || display === 'none') {{\n",
       "            console.log([gd, 'removed!']);\n",
       "            Plotly.purge(gd);\n",
       "            observer.disconnect();\n",
       "        }}\n",
       "}});\n",
       "\n",
       "// Listen for the removal of the full notebook cells\n",
       "var notebookContainer = gd.closest('#notebook-container');\n",
       "if (notebookContainer) {{\n",
       "    x.observe(notebookContainer, {childList: true});\n",
       "}}\n",
       "\n",
       "// Listen for the clearing of the current output cell\n",
       "var outputEl = gd.closest('.output');\n",
       "if (outputEl) {{\n",
       "    x.observe(outputEl, {childList: true});\n",
       "}}\n",
       "\n",
       "                        })                };                });            </script>        </div>"
      ]
     },
     "metadata": {},
     "output_type": "display_data"
    }
   ],
   "source": [
    "bins = [6, 9, 12, 15, 16.5, 19.5, 21, 24, 27, 30]\n",
    "labels = [6, 9, 12, 15, 18, 21, 24, 27, 30]\n",
    "\n",
    "fig = make_subplots(rows=1, cols=3,\n",
    "                    subplot_titles=('Neutral','Positive','Negative'))\n",
    "emotions = ['neutral','positive','negative']\n",
    "for i, emotion in enumerate(emotions):\n",
    "    tmp = data_df[data_df['video_type'] == emotion]\n",
    "    tmp['rpm'] = pd.cut(tmp['rpm'], bins=bins, labels=labels)\n",
    "    tmp = tmp.groupby('rpm').video_id.count().reset_index().rename(columns={'video_id':'count'})\n",
    "    fig.add_trace(go.Bar(x=list(tmp['rpm']),\n",
    "                         y=list(tmp['count'])),\n",
    "                  row=1, col=i + 1)\n",
    "\n",
    "fig.update_layout(title_text='RPM by Video Type', showlegend=False)\n",
    "fig.update_yaxes(title_text='Count', row=1, col=1)\n",
    "fig.update_xaxes(title_text='Respiration Rate', row=1, col=2)\n",
    "fig.show()"
   ]
  },
  {
   "cell_type": "markdown",
   "id": "critical-supervisor",
   "metadata": {},
   "source": [
    "## Predicted Emotion Distribution"
   ]
  },
  {
   "cell_type": "code",
   "execution_count": 358,
   "id": "disturbed-guest",
   "metadata": {},
   "outputs": [
    {
     "data": {
      "application/vnd.plotly.v1+json": {
       "config": {
        "plotlyServerURL": "https://plot.ly"
       },
       "data": [
        {
         "type": "bar",
         "x": [
          "anger",
          "happy",
          "neutral",
          "sad",
          "surprise"
         ],
         "xaxis": "x",
         "y": [
          23,
          726,
          2118,
          573,
          29
         ],
         "yaxis": "y"
        },
        {
         "type": "bar",
         "x": [
          "anger",
          "happy",
          "neutral",
          "sad"
         ],
         "xaxis": "x2",
         "y": [
          74,
          3749,
          1142,
          12
         ],
         "yaxis": "y2"
        },
        {
         "type": "bar",
         "x": [
          "happy",
          "neutral",
          "sad",
          "surprise"
         ],
         "xaxis": "x3",
         "y": [
          557,
          561,
          59,
          126
         ],
         "yaxis": "y3"
        }
       ],
       "layout": {
        "annotations": [
         {
          "font": {
           "size": 16
          },
          "showarrow": false,
          "text": "Neutral",
          "x": 0.14444444444444446,
          "xanchor": "center",
          "xref": "paper",
          "y": 1,
          "yanchor": "bottom",
          "yref": "paper"
         },
         {
          "font": {
           "size": 16
          },
          "showarrow": false,
          "text": "Positive",
          "x": 0.5,
          "xanchor": "center",
          "xref": "paper",
          "y": 1,
          "yanchor": "bottom",
          "yref": "paper"
         },
         {
          "font": {
           "size": 16
          },
          "showarrow": false,
          "text": "Negative",
          "x": 0.8555555555555556,
          "xanchor": "center",
          "xref": "paper",
          "y": 1,
          "yanchor": "bottom",
          "yref": "paper"
         }
        ],
        "showlegend": false,
        "template": {
         "data": {
          "bar": [
           {
            "error_x": {
             "color": "#2a3f5f"
            },
            "error_y": {
             "color": "#2a3f5f"
            },
            "marker": {
             "line": {
              "color": "#E5ECF6",
              "width": 0.5
             }
            },
            "type": "bar"
           }
          ],
          "barpolar": [
           {
            "marker": {
             "line": {
              "color": "#E5ECF6",
              "width": 0.5
             }
            },
            "type": "barpolar"
           }
          ],
          "carpet": [
           {
            "aaxis": {
             "endlinecolor": "#2a3f5f",
             "gridcolor": "white",
             "linecolor": "white",
             "minorgridcolor": "white",
             "startlinecolor": "#2a3f5f"
            },
            "baxis": {
             "endlinecolor": "#2a3f5f",
             "gridcolor": "white",
             "linecolor": "white",
             "minorgridcolor": "white",
             "startlinecolor": "#2a3f5f"
            },
            "type": "carpet"
           }
          ],
          "choropleth": [
           {
            "colorbar": {
             "outlinewidth": 0,
             "ticks": ""
            },
            "type": "choropleth"
           }
          ],
          "contour": [
           {
            "colorbar": {
             "outlinewidth": 0,
             "ticks": ""
            },
            "colorscale": [
             [
              0,
              "#0d0887"
             ],
             [
              0.1111111111111111,
              "#46039f"
             ],
             [
              0.2222222222222222,
              "#7201a8"
             ],
             [
              0.3333333333333333,
              "#9c179e"
             ],
             [
              0.4444444444444444,
              "#bd3786"
             ],
             [
              0.5555555555555556,
              "#d8576b"
             ],
             [
              0.6666666666666666,
              "#ed7953"
             ],
             [
              0.7777777777777778,
              "#fb9f3a"
             ],
             [
              0.8888888888888888,
              "#fdca26"
             ],
             [
              1,
              "#f0f921"
             ]
            ],
            "type": "contour"
           }
          ],
          "contourcarpet": [
           {
            "colorbar": {
             "outlinewidth": 0,
             "ticks": ""
            },
            "type": "contourcarpet"
           }
          ],
          "heatmap": [
           {
            "colorbar": {
             "outlinewidth": 0,
             "ticks": ""
            },
            "colorscale": [
             [
              0,
              "#0d0887"
             ],
             [
              0.1111111111111111,
              "#46039f"
             ],
             [
              0.2222222222222222,
              "#7201a8"
             ],
             [
              0.3333333333333333,
              "#9c179e"
             ],
             [
              0.4444444444444444,
              "#bd3786"
             ],
             [
              0.5555555555555556,
              "#d8576b"
             ],
             [
              0.6666666666666666,
              "#ed7953"
             ],
             [
              0.7777777777777778,
              "#fb9f3a"
             ],
             [
              0.8888888888888888,
              "#fdca26"
             ],
             [
              1,
              "#f0f921"
             ]
            ],
            "type": "heatmap"
           }
          ],
          "heatmapgl": [
           {
            "colorbar": {
             "outlinewidth": 0,
             "ticks": ""
            },
            "colorscale": [
             [
              0,
              "#0d0887"
             ],
             [
              0.1111111111111111,
              "#46039f"
             ],
             [
              0.2222222222222222,
              "#7201a8"
             ],
             [
              0.3333333333333333,
              "#9c179e"
             ],
             [
              0.4444444444444444,
              "#bd3786"
             ],
             [
              0.5555555555555556,
              "#d8576b"
             ],
             [
              0.6666666666666666,
              "#ed7953"
             ],
             [
              0.7777777777777778,
              "#fb9f3a"
             ],
             [
              0.8888888888888888,
              "#fdca26"
             ],
             [
              1,
              "#f0f921"
             ]
            ],
            "type": "heatmapgl"
           }
          ],
          "histogram": [
           {
            "marker": {
             "colorbar": {
              "outlinewidth": 0,
              "ticks": ""
             }
            },
            "type": "histogram"
           }
          ],
          "histogram2d": [
           {
            "colorbar": {
             "outlinewidth": 0,
             "ticks": ""
            },
            "colorscale": [
             [
              0,
              "#0d0887"
             ],
             [
              0.1111111111111111,
              "#46039f"
             ],
             [
              0.2222222222222222,
              "#7201a8"
             ],
             [
              0.3333333333333333,
              "#9c179e"
             ],
             [
              0.4444444444444444,
              "#bd3786"
             ],
             [
              0.5555555555555556,
              "#d8576b"
             ],
             [
              0.6666666666666666,
              "#ed7953"
             ],
             [
              0.7777777777777778,
              "#fb9f3a"
             ],
             [
              0.8888888888888888,
              "#fdca26"
             ],
             [
              1,
              "#f0f921"
             ]
            ],
            "type": "histogram2d"
           }
          ],
          "histogram2dcontour": [
           {
            "colorbar": {
             "outlinewidth": 0,
             "ticks": ""
            },
            "colorscale": [
             [
              0,
              "#0d0887"
             ],
             [
              0.1111111111111111,
              "#46039f"
             ],
             [
              0.2222222222222222,
              "#7201a8"
             ],
             [
              0.3333333333333333,
              "#9c179e"
             ],
             [
              0.4444444444444444,
              "#bd3786"
             ],
             [
              0.5555555555555556,
              "#d8576b"
             ],
             [
              0.6666666666666666,
              "#ed7953"
             ],
             [
              0.7777777777777778,
              "#fb9f3a"
             ],
             [
              0.8888888888888888,
              "#fdca26"
             ],
             [
              1,
              "#f0f921"
             ]
            ],
            "type": "histogram2dcontour"
           }
          ],
          "mesh3d": [
           {
            "colorbar": {
             "outlinewidth": 0,
             "ticks": ""
            },
            "type": "mesh3d"
           }
          ],
          "parcoords": [
           {
            "line": {
             "colorbar": {
              "outlinewidth": 0,
              "ticks": ""
             }
            },
            "type": "parcoords"
           }
          ],
          "pie": [
           {
            "automargin": true,
            "type": "pie"
           }
          ],
          "scatter": [
           {
            "marker": {
             "colorbar": {
              "outlinewidth": 0,
              "ticks": ""
             }
            },
            "type": "scatter"
           }
          ],
          "scatter3d": [
           {
            "line": {
             "colorbar": {
              "outlinewidth": 0,
              "ticks": ""
             }
            },
            "marker": {
             "colorbar": {
              "outlinewidth": 0,
              "ticks": ""
             }
            },
            "type": "scatter3d"
           }
          ],
          "scattercarpet": [
           {
            "marker": {
             "colorbar": {
              "outlinewidth": 0,
              "ticks": ""
             }
            },
            "type": "scattercarpet"
           }
          ],
          "scattergeo": [
           {
            "marker": {
             "colorbar": {
              "outlinewidth": 0,
              "ticks": ""
             }
            },
            "type": "scattergeo"
           }
          ],
          "scattergl": [
           {
            "marker": {
             "colorbar": {
              "outlinewidth": 0,
              "ticks": ""
             }
            },
            "type": "scattergl"
           }
          ],
          "scattermapbox": [
           {
            "marker": {
             "colorbar": {
              "outlinewidth": 0,
              "ticks": ""
             }
            },
            "type": "scattermapbox"
           }
          ],
          "scatterpolar": [
           {
            "marker": {
             "colorbar": {
              "outlinewidth": 0,
              "ticks": ""
             }
            },
            "type": "scatterpolar"
           }
          ],
          "scatterpolargl": [
           {
            "marker": {
             "colorbar": {
              "outlinewidth": 0,
              "ticks": ""
             }
            },
            "type": "scatterpolargl"
           }
          ],
          "scatterternary": [
           {
            "marker": {
             "colorbar": {
              "outlinewidth": 0,
              "ticks": ""
             }
            },
            "type": "scatterternary"
           }
          ],
          "surface": [
           {
            "colorbar": {
             "outlinewidth": 0,
             "ticks": ""
            },
            "colorscale": [
             [
              0,
              "#0d0887"
             ],
             [
              0.1111111111111111,
              "#46039f"
             ],
             [
              0.2222222222222222,
              "#7201a8"
             ],
             [
              0.3333333333333333,
              "#9c179e"
             ],
             [
              0.4444444444444444,
              "#bd3786"
             ],
             [
              0.5555555555555556,
              "#d8576b"
             ],
             [
              0.6666666666666666,
              "#ed7953"
             ],
             [
              0.7777777777777778,
              "#fb9f3a"
             ],
             [
              0.8888888888888888,
              "#fdca26"
             ],
             [
              1,
              "#f0f921"
             ]
            ],
            "type": "surface"
           }
          ],
          "table": [
           {
            "cells": {
             "fill": {
              "color": "#EBF0F8"
             },
             "line": {
              "color": "white"
             }
            },
            "header": {
             "fill": {
              "color": "#C8D4E3"
             },
             "line": {
              "color": "white"
             }
            },
            "type": "table"
           }
          ]
         },
         "layout": {
          "annotationdefaults": {
           "arrowcolor": "#2a3f5f",
           "arrowhead": 0,
           "arrowwidth": 1
          },
          "autotypenumbers": "strict",
          "coloraxis": {
           "colorbar": {
            "outlinewidth": 0,
            "ticks": ""
           }
          },
          "colorscale": {
           "diverging": [
            [
             0,
             "#8e0152"
            ],
            [
             0.1,
             "#c51b7d"
            ],
            [
             0.2,
             "#de77ae"
            ],
            [
             0.3,
             "#f1b6da"
            ],
            [
             0.4,
             "#fde0ef"
            ],
            [
             0.5,
             "#f7f7f7"
            ],
            [
             0.6,
             "#e6f5d0"
            ],
            [
             0.7,
             "#b8e186"
            ],
            [
             0.8,
             "#7fbc41"
            ],
            [
             0.9,
             "#4d9221"
            ],
            [
             1,
             "#276419"
            ]
           ],
           "sequential": [
            [
             0,
             "#0d0887"
            ],
            [
             0.1111111111111111,
             "#46039f"
            ],
            [
             0.2222222222222222,
             "#7201a8"
            ],
            [
             0.3333333333333333,
             "#9c179e"
            ],
            [
             0.4444444444444444,
             "#bd3786"
            ],
            [
             0.5555555555555556,
             "#d8576b"
            ],
            [
             0.6666666666666666,
             "#ed7953"
            ],
            [
             0.7777777777777778,
             "#fb9f3a"
            ],
            [
             0.8888888888888888,
             "#fdca26"
            ],
            [
             1,
             "#f0f921"
            ]
           ],
           "sequentialminus": [
            [
             0,
             "#0d0887"
            ],
            [
             0.1111111111111111,
             "#46039f"
            ],
            [
             0.2222222222222222,
             "#7201a8"
            ],
            [
             0.3333333333333333,
             "#9c179e"
            ],
            [
             0.4444444444444444,
             "#bd3786"
            ],
            [
             0.5555555555555556,
             "#d8576b"
            ],
            [
             0.6666666666666666,
             "#ed7953"
            ],
            [
             0.7777777777777778,
             "#fb9f3a"
            ],
            [
             0.8888888888888888,
             "#fdca26"
            ],
            [
             1,
             "#f0f921"
            ]
           ]
          },
          "colorway": [
           "#636efa",
           "#EF553B",
           "#00cc96",
           "#ab63fa",
           "#FFA15A",
           "#19d3f3",
           "#FF6692",
           "#B6E880",
           "#FF97FF",
           "#FECB52"
          ],
          "font": {
           "color": "#2a3f5f"
          },
          "geo": {
           "bgcolor": "white",
           "lakecolor": "white",
           "landcolor": "#E5ECF6",
           "showlakes": true,
           "showland": true,
           "subunitcolor": "white"
          },
          "hoverlabel": {
           "align": "left"
          },
          "hovermode": "closest",
          "mapbox": {
           "style": "light"
          },
          "paper_bgcolor": "white",
          "plot_bgcolor": "#E5ECF6",
          "polar": {
           "angularaxis": {
            "gridcolor": "white",
            "linecolor": "white",
            "ticks": ""
           },
           "bgcolor": "#E5ECF6",
           "radialaxis": {
            "gridcolor": "white",
            "linecolor": "white",
            "ticks": ""
           }
          },
          "scene": {
           "xaxis": {
            "backgroundcolor": "#E5ECF6",
            "gridcolor": "white",
            "gridwidth": 2,
            "linecolor": "white",
            "showbackground": true,
            "ticks": "",
            "zerolinecolor": "white"
           },
           "yaxis": {
            "backgroundcolor": "#E5ECF6",
            "gridcolor": "white",
            "gridwidth": 2,
            "linecolor": "white",
            "showbackground": true,
            "ticks": "",
            "zerolinecolor": "white"
           },
           "zaxis": {
            "backgroundcolor": "#E5ECF6",
            "gridcolor": "white",
            "gridwidth": 2,
            "linecolor": "white",
            "showbackground": true,
            "ticks": "",
            "zerolinecolor": "white"
           }
          },
          "shapedefaults": {
           "line": {
            "color": "#2a3f5f"
           }
          },
          "ternary": {
           "aaxis": {
            "gridcolor": "white",
            "linecolor": "white",
            "ticks": ""
           },
           "baxis": {
            "gridcolor": "white",
            "linecolor": "white",
            "ticks": ""
           },
           "bgcolor": "#E5ECF6",
           "caxis": {
            "gridcolor": "white",
            "linecolor": "white",
            "ticks": ""
           }
          },
          "title": {
           "x": 0.05
          },
          "xaxis": {
           "automargin": true,
           "gridcolor": "white",
           "linecolor": "white",
           "ticks": "",
           "title": {
            "standoff": 15
           },
           "zerolinecolor": "white",
           "zerolinewidth": 2
          },
          "yaxis": {
           "automargin": true,
           "gridcolor": "white",
           "linecolor": "white",
           "ticks": "",
           "title": {
            "standoff": 15
           },
           "zerolinecolor": "white",
           "zerolinewidth": 2
          }
         }
        },
        "title": {
         "text": "Predicted Emotion by Video Type"
        },
        "xaxis": {
         "anchor": "y",
         "domain": [
          0,
          0.2888888888888889
         ]
        },
        "xaxis2": {
         "anchor": "y2",
         "domain": [
          0.35555555555555557,
          0.6444444444444445
         ],
         "title": {
          "text": "Predicted Emotion"
         }
        },
        "xaxis3": {
         "anchor": "y3",
         "domain": [
          0.7111111111111111,
          1
         ]
        },
        "yaxis": {
         "anchor": "x",
         "domain": [
          0,
          1
         ],
         "title": {
          "text": "Count"
         }
        },
        "yaxis2": {
         "anchor": "x2",
         "domain": [
          0,
          1
         ]
        },
        "yaxis3": {
         "anchor": "x3",
         "domain": [
          0,
          1
         ]
        }
       }
      },
      "text/html": [
       "<div>                            <div id=\"de4f8fc8-be48-428e-bc9d-1c64062054bc\" class=\"plotly-graph-div\" style=\"height:525px; width:100%;\"></div>            <script type=\"text/javascript\">                require([\"plotly\"], function(Plotly) {                    window.PLOTLYENV=window.PLOTLYENV || {};                                    if (document.getElementById(\"de4f8fc8-be48-428e-bc9d-1c64062054bc\")) {                    Plotly.newPlot(                        \"de4f8fc8-be48-428e-bc9d-1c64062054bc\",                        [{\"type\": \"bar\", \"x\": [\"anger\", \"happy\", \"neutral\", \"sad\", \"surprise\"], \"xaxis\": \"x\", \"y\": [23, 726, 2118, 573, 29], \"yaxis\": \"y\"}, {\"type\": \"bar\", \"x\": [\"anger\", \"happy\", \"neutral\", \"sad\"], \"xaxis\": \"x2\", \"y\": [74, 3749, 1142, 12], \"yaxis\": \"y2\"}, {\"type\": \"bar\", \"x\": [\"happy\", \"neutral\", \"sad\", \"surprise\"], \"xaxis\": \"x3\", \"y\": [557, 561, 59, 126], \"yaxis\": \"y3\"}],                        {\"annotations\": [{\"font\": {\"size\": 16}, \"showarrow\": false, \"text\": \"Neutral\", \"x\": 0.14444444444444446, \"xanchor\": \"center\", \"xref\": \"paper\", \"y\": 1.0, \"yanchor\": \"bottom\", \"yref\": \"paper\"}, {\"font\": {\"size\": 16}, \"showarrow\": false, \"text\": \"Positive\", \"x\": 0.5, \"xanchor\": \"center\", \"xref\": \"paper\", \"y\": 1.0, \"yanchor\": \"bottom\", \"yref\": \"paper\"}, {\"font\": {\"size\": 16}, \"showarrow\": false, \"text\": \"Negative\", \"x\": 0.8555555555555556, \"xanchor\": \"center\", \"xref\": \"paper\", \"y\": 1.0, \"yanchor\": \"bottom\", \"yref\": \"paper\"}], \"showlegend\": false, \"template\": {\"data\": {\"bar\": [{\"error_x\": {\"color\": \"#2a3f5f\"}, \"error_y\": {\"color\": \"#2a3f5f\"}, \"marker\": {\"line\": {\"color\": \"#E5ECF6\", \"width\": 0.5}}, \"type\": \"bar\"}], \"barpolar\": [{\"marker\": {\"line\": {\"color\": \"#E5ECF6\", \"width\": 0.5}}, \"type\": \"barpolar\"}], \"carpet\": [{\"aaxis\": {\"endlinecolor\": \"#2a3f5f\", \"gridcolor\": \"white\", \"linecolor\": \"white\", \"minorgridcolor\": \"white\", \"startlinecolor\": \"#2a3f5f\"}, \"baxis\": {\"endlinecolor\": \"#2a3f5f\", \"gridcolor\": \"white\", \"linecolor\": \"white\", \"minorgridcolor\": \"white\", \"startlinecolor\": \"#2a3f5f\"}, \"type\": \"carpet\"}], \"choropleth\": [{\"colorbar\": {\"outlinewidth\": 0, \"ticks\": \"\"}, \"type\": \"choropleth\"}], \"contour\": [{\"colorbar\": {\"outlinewidth\": 0, \"ticks\": \"\"}, \"colorscale\": [[0.0, \"#0d0887\"], [0.1111111111111111, \"#46039f\"], [0.2222222222222222, \"#7201a8\"], [0.3333333333333333, \"#9c179e\"], [0.4444444444444444, \"#bd3786\"], [0.5555555555555556, \"#d8576b\"], [0.6666666666666666, \"#ed7953\"], [0.7777777777777778, \"#fb9f3a\"], [0.8888888888888888, \"#fdca26\"], [1.0, \"#f0f921\"]], \"type\": \"contour\"}], \"contourcarpet\": [{\"colorbar\": {\"outlinewidth\": 0, \"ticks\": \"\"}, \"type\": \"contourcarpet\"}], \"heatmap\": [{\"colorbar\": {\"outlinewidth\": 0, \"ticks\": \"\"}, \"colorscale\": [[0.0, \"#0d0887\"], [0.1111111111111111, \"#46039f\"], [0.2222222222222222, \"#7201a8\"], [0.3333333333333333, \"#9c179e\"], [0.4444444444444444, \"#bd3786\"], [0.5555555555555556, \"#d8576b\"], [0.6666666666666666, \"#ed7953\"], [0.7777777777777778, \"#fb9f3a\"], [0.8888888888888888, \"#fdca26\"], [1.0, \"#f0f921\"]], \"type\": \"heatmap\"}], \"heatmapgl\": [{\"colorbar\": {\"outlinewidth\": 0, \"ticks\": \"\"}, \"colorscale\": [[0.0, \"#0d0887\"], [0.1111111111111111, \"#46039f\"], [0.2222222222222222, \"#7201a8\"], [0.3333333333333333, \"#9c179e\"], [0.4444444444444444, \"#bd3786\"], [0.5555555555555556, \"#d8576b\"], [0.6666666666666666, \"#ed7953\"], [0.7777777777777778, \"#fb9f3a\"], [0.8888888888888888, \"#fdca26\"], [1.0, \"#f0f921\"]], \"type\": \"heatmapgl\"}], \"histogram\": [{\"marker\": {\"colorbar\": {\"outlinewidth\": 0, \"ticks\": \"\"}}, \"type\": \"histogram\"}], \"histogram2d\": [{\"colorbar\": {\"outlinewidth\": 0, \"ticks\": \"\"}, \"colorscale\": [[0.0, \"#0d0887\"], [0.1111111111111111, \"#46039f\"], [0.2222222222222222, \"#7201a8\"], [0.3333333333333333, \"#9c179e\"], [0.4444444444444444, \"#bd3786\"], [0.5555555555555556, \"#d8576b\"], [0.6666666666666666, \"#ed7953\"], [0.7777777777777778, \"#fb9f3a\"], [0.8888888888888888, \"#fdca26\"], [1.0, \"#f0f921\"]], \"type\": \"histogram2d\"}], \"histogram2dcontour\": [{\"colorbar\": {\"outlinewidth\": 0, \"ticks\": \"\"}, \"colorscale\": [[0.0, \"#0d0887\"], [0.1111111111111111, \"#46039f\"], [0.2222222222222222, \"#7201a8\"], [0.3333333333333333, \"#9c179e\"], [0.4444444444444444, \"#bd3786\"], [0.5555555555555556, \"#d8576b\"], [0.6666666666666666, \"#ed7953\"], [0.7777777777777778, \"#fb9f3a\"], [0.8888888888888888, \"#fdca26\"], [1.0, \"#f0f921\"]], \"type\": \"histogram2dcontour\"}], \"mesh3d\": [{\"colorbar\": {\"outlinewidth\": 0, \"ticks\": \"\"}, \"type\": \"mesh3d\"}], \"parcoords\": [{\"line\": {\"colorbar\": {\"outlinewidth\": 0, \"ticks\": \"\"}}, \"type\": \"parcoords\"}], \"pie\": [{\"automargin\": true, \"type\": \"pie\"}], \"scatter\": [{\"marker\": {\"colorbar\": {\"outlinewidth\": 0, \"ticks\": \"\"}}, \"type\": \"scatter\"}], \"scatter3d\": [{\"line\": {\"colorbar\": {\"outlinewidth\": 0, \"ticks\": \"\"}}, \"marker\": {\"colorbar\": {\"outlinewidth\": 0, \"ticks\": \"\"}}, \"type\": \"scatter3d\"}], \"scattercarpet\": [{\"marker\": {\"colorbar\": {\"outlinewidth\": 0, \"ticks\": \"\"}}, \"type\": \"scattercarpet\"}], \"scattergeo\": [{\"marker\": {\"colorbar\": {\"outlinewidth\": 0, \"ticks\": \"\"}}, \"type\": \"scattergeo\"}], \"scattergl\": [{\"marker\": {\"colorbar\": {\"outlinewidth\": 0, \"ticks\": \"\"}}, \"type\": \"scattergl\"}], \"scattermapbox\": [{\"marker\": {\"colorbar\": {\"outlinewidth\": 0, \"ticks\": \"\"}}, \"type\": \"scattermapbox\"}], \"scatterpolar\": [{\"marker\": {\"colorbar\": {\"outlinewidth\": 0, \"ticks\": \"\"}}, \"type\": \"scatterpolar\"}], \"scatterpolargl\": [{\"marker\": {\"colorbar\": {\"outlinewidth\": 0, \"ticks\": \"\"}}, \"type\": \"scatterpolargl\"}], \"scatterternary\": [{\"marker\": {\"colorbar\": {\"outlinewidth\": 0, \"ticks\": \"\"}}, \"type\": \"scatterternary\"}], \"surface\": [{\"colorbar\": {\"outlinewidth\": 0, \"ticks\": \"\"}, \"colorscale\": [[0.0, \"#0d0887\"], [0.1111111111111111, \"#46039f\"], [0.2222222222222222, \"#7201a8\"], [0.3333333333333333, \"#9c179e\"], [0.4444444444444444, \"#bd3786\"], [0.5555555555555556, \"#d8576b\"], [0.6666666666666666, \"#ed7953\"], [0.7777777777777778, \"#fb9f3a\"], [0.8888888888888888, \"#fdca26\"], [1.0, \"#f0f921\"]], \"type\": \"surface\"}], \"table\": [{\"cells\": {\"fill\": {\"color\": \"#EBF0F8\"}, \"line\": {\"color\": \"white\"}}, \"header\": {\"fill\": {\"color\": \"#C8D4E3\"}, \"line\": {\"color\": \"white\"}}, \"type\": \"table\"}]}, \"layout\": {\"annotationdefaults\": {\"arrowcolor\": \"#2a3f5f\", \"arrowhead\": 0, \"arrowwidth\": 1}, \"autotypenumbers\": \"strict\", \"coloraxis\": {\"colorbar\": {\"outlinewidth\": 0, \"ticks\": \"\"}}, \"colorscale\": {\"diverging\": [[0, \"#8e0152\"], [0.1, \"#c51b7d\"], [0.2, \"#de77ae\"], [0.3, \"#f1b6da\"], [0.4, \"#fde0ef\"], [0.5, \"#f7f7f7\"], [0.6, \"#e6f5d0\"], [0.7, \"#b8e186\"], [0.8, \"#7fbc41\"], [0.9, \"#4d9221\"], [1, \"#276419\"]], \"sequential\": [[0.0, \"#0d0887\"], [0.1111111111111111, \"#46039f\"], [0.2222222222222222, \"#7201a8\"], [0.3333333333333333, \"#9c179e\"], [0.4444444444444444, \"#bd3786\"], [0.5555555555555556, \"#d8576b\"], [0.6666666666666666, \"#ed7953\"], [0.7777777777777778, \"#fb9f3a\"], [0.8888888888888888, \"#fdca26\"], [1.0, \"#f0f921\"]], \"sequentialminus\": [[0.0, \"#0d0887\"], [0.1111111111111111, \"#46039f\"], [0.2222222222222222, \"#7201a8\"], [0.3333333333333333, \"#9c179e\"], [0.4444444444444444, \"#bd3786\"], [0.5555555555555556, \"#d8576b\"], [0.6666666666666666, \"#ed7953\"], [0.7777777777777778, \"#fb9f3a\"], [0.8888888888888888, \"#fdca26\"], [1.0, \"#f0f921\"]]}, \"colorway\": [\"#636efa\", \"#EF553B\", \"#00cc96\", \"#ab63fa\", \"#FFA15A\", \"#19d3f3\", \"#FF6692\", \"#B6E880\", \"#FF97FF\", \"#FECB52\"], \"font\": {\"color\": \"#2a3f5f\"}, \"geo\": {\"bgcolor\": \"white\", \"lakecolor\": \"white\", \"landcolor\": \"#E5ECF6\", \"showlakes\": true, \"showland\": true, \"subunitcolor\": \"white\"}, \"hoverlabel\": {\"align\": \"left\"}, \"hovermode\": \"closest\", \"mapbox\": {\"style\": \"light\"}, \"paper_bgcolor\": \"white\", \"plot_bgcolor\": \"#E5ECF6\", \"polar\": {\"angularaxis\": {\"gridcolor\": \"white\", \"linecolor\": \"white\", \"ticks\": \"\"}, \"bgcolor\": \"#E5ECF6\", \"radialaxis\": {\"gridcolor\": \"white\", \"linecolor\": \"white\", \"ticks\": \"\"}}, \"scene\": {\"xaxis\": {\"backgroundcolor\": \"#E5ECF6\", \"gridcolor\": \"white\", \"gridwidth\": 2, \"linecolor\": \"white\", \"showbackground\": true, \"ticks\": \"\", \"zerolinecolor\": \"white\"}, \"yaxis\": {\"backgroundcolor\": \"#E5ECF6\", \"gridcolor\": \"white\", \"gridwidth\": 2, \"linecolor\": \"white\", \"showbackground\": true, \"ticks\": \"\", \"zerolinecolor\": \"white\"}, \"zaxis\": {\"backgroundcolor\": \"#E5ECF6\", \"gridcolor\": \"white\", \"gridwidth\": 2, \"linecolor\": \"white\", \"showbackground\": true, \"ticks\": \"\", \"zerolinecolor\": \"white\"}}, \"shapedefaults\": {\"line\": {\"color\": \"#2a3f5f\"}}, \"ternary\": {\"aaxis\": {\"gridcolor\": \"white\", \"linecolor\": \"white\", \"ticks\": \"\"}, \"baxis\": {\"gridcolor\": \"white\", \"linecolor\": \"white\", \"ticks\": \"\"}, \"bgcolor\": \"#E5ECF6\", \"caxis\": {\"gridcolor\": \"white\", \"linecolor\": \"white\", \"ticks\": \"\"}}, \"title\": {\"x\": 0.05}, \"xaxis\": {\"automargin\": true, \"gridcolor\": \"white\", \"linecolor\": \"white\", \"ticks\": \"\", \"title\": {\"standoff\": 15}, \"zerolinecolor\": \"white\", \"zerolinewidth\": 2}, \"yaxis\": {\"automargin\": true, \"gridcolor\": \"white\", \"linecolor\": \"white\", \"ticks\": \"\", \"title\": {\"standoff\": 15}, \"zerolinecolor\": \"white\", \"zerolinewidth\": 2}}}, \"title\": {\"text\": \"Predicted Emotion by Video Type\"}, \"xaxis\": {\"anchor\": \"y\", \"domain\": [0.0, 0.2888888888888889]}, \"xaxis2\": {\"anchor\": \"y2\", \"domain\": [0.35555555555555557, 0.6444444444444445], \"title\": {\"text\": \"Predicted Emotion\"}}, \"xaxis3\": {\"anchor\": \"y3\", \"domain\": [0.7111111111111111, 1.0]}, \"yaxis\": {\"anchor\": \"x\", \"domain\": [0.0, 1.0], \"title\": {\"text\": \"Count\"}}, \"yaxis2\": {\"anchor\": \"x2\", \"domain\": [0.0, 1.0]}, \"yaxis3\": {\"anchor\": \"x3\", \"domain\": [0.0, 1.0]}},                        {\"responsive\": true}                    ).then(function(){\n",
       "                            \n",
       "var gd = document.getElementById('de4f8fc8-be48-428e-bc9d-1c64062054bc');\n",
       "var x = new MutationObserver(function (mutations, observer) {{\n",
       "        var display = window.getComputedStyle(gd).display;\n",
       "        if (!display || display === 'none') {{\n",
       "            console.log([gd, 'removed!']);\n",
       "            Plotly.purge(gd);\n",
       "            observer.disconnect();\n",
       "        }}\n",
       "}});\n",
       "\n",
       "// Listen for the removal of the full notebook cells\n",
       "var notebookContainer = gd.closest('#notebook-container');\n",
       "if (notebookContainer) {{\n",
       "    x.observe(notebookContainer, {childList: true});\n",
       "}}\n",
       "\n",
       "// Listen for the clearing of the current output cell\n",
       "var outputEl = gd.closest('.output');\n",
       "if (outputEl) {{\n",
       "    x.observe(outputEl, {childList: true});\n",
       "}}\n",
       "\n",
       "                        })                };                });            </script>        </div>"
      ]
     },
     "metadata": {},
     "output_type": "display_data"
    }
   ],
   "source": [
    "fig = make_subplots(rows=1, cols=3,\n",
    "                    subplot_titles=('Neutral','Positive','Negative'))\n",
    "emotions = ['neutral','positive','negative']\n",
    "for i, emotion in enumerate(emotions):\n",
    "    tmp = data_df[data_df['video_type'] == emotion]\n",
    "    tmp = tmp.groupby('pred_emotion').video_id.count().reset_index().rename(columns={'video_id':'count'})\n",
    "    fig.add_trace(go.Bar(x=list(tmp['pred_emotion']),\n",
    "                         y=list(tmp['count'])),\n",
    "                  row=1, col=i + 1)\n",
    "\n",
    "fig.update_layout(title_text='Predicted Emotion by Video Type', showlegend=False)\n",
    "fig.update_yaxes(title_text='Count', row=1, col=1)\n",
    "fig.update_xaxes(title_text='Predicted Emotion', row=1, col=2)\n",
    "fig.show()"
   ]
  },
  {
   "cell_type": "markdown",
   "id": "random-portuguese",
   "metadata": {},
   "source": [
    "## Show Emotion Confidence by Predicted Emotion and Video Type"
   ]
  },
  {
   "cell_type": "code",
   "execution_count": 413,
   "id": "attempted-formation",
   "metadata": {},
   "outputs": [
    {
     "data": {
      "text/plain": [
       "'0.7001953125'"
      ]
     },
     "execution_count": 413,
     "metadata": {},
     "output_type": "execute_result"
    }
   ],
   "source": [
    "data_df['emotion_confidence'].min()"
   ]
  },
  {
   "cell_type": "code",
   "execution_count": 414,
   "id": "hearing-writing",
   "metadata": {},
   "outputs": [
    {
     "data": {
      "text/plain": [
       "'0.9970703125'"
      ]
     },
     "execution_count": 414,
     "metadata": {},
     "output_type": "execute_result"
    }
   ],
   "source": [
    "data_df['emotion_confidence'].max()"
   ]
  },
  {
   "cell_type": "code",
   "execution_count": 432,
   "id": "transsexual-continuity",
   "metadata": {},
   "outputs": [
    {
     "name": "stderr",
     "output_type": "stream",
     "text": [
      "/Users/sam/Documents/CornellTech/Classes/Spring2021/UbiComp/ubienv/lib/python3.7/site-packages/ipykernel_launcher.py:14: SettingWithCopyWarning:\n",
      "\n",
      "\n",
      "A value is trying to be set on a copy of a slice from a DataFrame.\n",
      "Try using .loc[row_indexer,col_indexer] = value instead\n",
      "\n",
      "See the caveats in the documentation: https://pandas.pydata.org/pandas-docs/stable/user_guide/indexing.html#returning-a-view-versus-a-copy\n",
      "\n"
     ]
    },
    {
     "data": {
      "application/vnd.plotly.v1+json": {
       "config": {
        "plotlyServerURL": "https://plot.ly"
       },
       "data": [
        {
         "marker": {
          "color": "blue"
         },
         "type": "bar",
         "x": [
          0.7,
          0.75,
          0.8,
          0.85,
          0.9,
          0.95,
          1
         ],
         "xaxis": "x",
         "y": [
          2058,
          60,
          0,
          0,
          0,
          0,
          0
         ],
         "yaxis": "y"
        },
        {
         "marker": {
          "color": "blue"
         },
         "type": "bar",
         "x": [
          0.7,
          0.75,
          0.8,
          0.85,
          0.9,
          0.95,
          1
         ],
         "xaxis": "x4",
         "y": [
          125,
          83,
          43,
          90,
          25,
          104,
          256
         ],
         "yaxis": "y4"
        },
        {
         "marker": {
          "color": "blue"
         },
         "type": "bar",
         "x": [
          0.7,
          0.75,
          0.8,
          0.85,
          0.9,
          0.95,
          1
         ],
         "xaxis": "x7",
         "y": [
          8,
          13,
          2,
          0,
          0,
          0,
          0
         ],
         "yaxis": "y7"
        },
        {
         "marker": {
          "color": "blue"
         },
         "type": "bar",
         "x": [
          0.7,
          0.75,
          0.8,
          0.85,
          0.9,
          0.95,
          1
         ],
         "xaxis": "x10",
         "y": [
          473,
          65,
          15,
          13,
          6,
          1,
          0
         ],
         "yaxis": "y10"
        },
        {
         "marker": {
          "color": "blue"
         },
         "type": "bar",
         "x": [
          0.7,
          0.75,
          0.8,
          0.85,
          0.9,
          0.95,
          1
         ],
         "xaxis": "x13",
         "y": [
          19,
          10,
          0,
          0,
          0,
          0,
          0
         ],
         "yaxis": "y13"
        },
        {
         "marker": {
          "color": "green"
         },
         "type": "bar",
         "x": [
          0.7,
          0.75,
          0.8,
          0.85,
          0.9,
          0.95,
          1
         ],
         "xaxis": "x2",
         "y": [
          1010,
          132,
          0,
          0,
          0,
          0,
          0
         ],
         "yaxis": "y2"
        },
        {
         "marker": {
          "color": "green"
         },
         "type": "bar",
         "x": [
          0.7,
          0.75,
          0.8,
          0.85,
          0.9,
          0.95,
          1
         ],
         "xaxis": "x5",
         "y": [
          320,
          471,
          343,
          714,
          233,
          398,
          1270
         ],
         "yaxis": "y5"
        },
        {
         "marker": {
          "color": "green"
         },
         "type": "bar",
         "x": [
          0.7,
          0.75,
          0.8,
          0.85,
          0.9,
          0.95,
          1
         ],
         "xaxis": "x8",
         "y": [
          18,
          40,
          8,
          8,
          0,
          0,
          0
         ],
         "yaxis": "y8"
        },
        {
         "marker": {
          "color": "green"
         },
         "type": "bar",
         "x": [
          0.7,
          0.75,
          0.8,
          0.85,
          0.9,
          0.95,
          1
         ],
         "xaxis": "x11",
         "y": [
          10,
          1,
          1,
          0,
          0,
          0,
          0
         ],
         "yaxis": "y11"
        },
        {
         "marker": {
          "color": "green"
         },
         "type": "bar",
         "x": [
          0.7,
          0.75,
          0.8,
          0.85,
          0.9,
          0.95,
          1
         ],
         "xaxis": "x14",
         "y": [
          0,
          0,
          0,
          0,
          0,
          0,
          0
         ],
         "yaxis": "y14"
        },
        {
         "marker": {
          "color": "red"
         },
         "type": "bar",
         "x": [
          0.7,
          0.75,
          0.8,
          0.85,
          0.9,
          0.95,
          1
         ],
         "xaxis": "x3",
         "y": [
          558,
          3,
          0,
          0,
          0,
          0,
          0
         ],
         "yaxis": "y3"
        },
        {
         "marker": {
          "color": "red"
         },
         "type": "bar",
         "x": [
          0.7,
          0.75,
          0.8,
          0.85,
          0.9,
          0.95,
          1
         ],
         "xaxis": "x6",
         "y": [
          59,
          43,
          30,
          95,
          70,
          151,
          109
         ],
         "yaxis": "y6"
        },
        {
         "marker": {
          "color": "red"
         },
         "type": "bar",
         "x": [
          0.7,
          0.75,
          0.8,
          0.85,
          0.9,
          0.95,
          1
         ],
         "xaxis": "x9",
         "y": [
          0,
          0,
          0,
          0,
          0,
          0,
          0
         ],
         "yaxis": "y9"
        },
        {
         "marker": {
          "color": "red"
         },
         "type": "bar",
         "x": [
          0.7,
          0.75,
          0.8,
          0.85,
          0.9,
          0.95,
          1
         ],
         "xaxis": "x12",
         "y": [
          46,
          10,
          1,
          0,
          1,
          1,
          0
         ],
         "yaxis": "y12"
        },
        {
         "marker": {
          "color": "red"
         },
         "type": "bar",
         "x": [
          0.7,
          0.75,
          0.8,
          0.85,
          0.9,
          0.95,
          1
         ],
         "xaxis": "x15",
         "y": [
          18,
          17,
          8,
          58,
          21,
          4,
          0
         ],
         "yaxis": "y15"
        }
       ],
       "layout": {
        "annotations": [
         {
          "font": {
           "size": 16
          },
          "showarrow": false,
          "text": "Neutral",
          "x": 0.14444444444444446,
          "xanchor": "center",
          "xref": "paper",
          "y": 1,
          "yanchor": "bottom",
          "yref": "paper"
         },
         {
          "font": {
           "size": 16
          },
          "showarrow": false,
          "text": "Positive",
          "x": 0.5,
          "xanchor": "center",
          "xref": "paper",
          "y": 1,
          "yanchor": "bottom",
          "yref": "paper"
         },
         {
          "font": {
           "size": 16
          },
          "showarrow": false,
          "text": "Negative",
          "x": 0.8555555555555556,
          "xanchor": "center",
          "xref": "paper",
          "y": 1,
          "yanchor": "bottom",
          "yref": "paper"
         }
        ],
        "height": 1000,
        "showlegend": false,
        "template": {
         "data": {
          "bar": [
           {
            "error_x": {
             "color": "#2a3f5f"
            },
            "error_y": {
             "color": "#2a3f5f"
            },
            "marker": {
             "line": {
              "color": "#E5ECF6",
              "width": 0.5
             }
            },
            "type": "bar"
           }
          ],
          "barpolar": [
           {
            "marker": {
             "line": {
              "color": "#E5ECF6",
              "width": 0.5
             }
            },
            "type": "barpolar"
           }
          ],
          "carpet": [
           {
            "aaxis": {
             "endlinecolor": "#2a3f5f",
             "gridcolor": "white",
             "linecolor": "white",
             "minorgridcolor": "white",
             "startlinecolor": "#2a3f5f"
            },
            "baxis": {
             "endlinecolor": "#2a3f5f",
             "gridcolor": "white",
             "linecolor": "white",
             "minorgridcolor": "white",
             "startlinecolor": "#2a3f5f"
            },
            "type": "carpet"
           }
          ],
          "choropleth": [
           {
            "colorbar": {
             "outlinewidth": 0,
             "ticks": ""
            },
            "type": "choropleth"
           }
          ],
          "contour": [
           {
            "colorbar": {
             "outlinewidth": 0,
             "ticks": ""
            },
            "colorscale": [
             [
              0,
              "#0d0887"
             ],
             [
              0.1111111111111111,
              "#46039f"
             ],
             [
              0.2222222222222222,
              "#7201a8"
             ],
             [
              0.3333333333333333,
              "#9c179e"
             ],
             [
              0.4444444444444444,
              "#bd3786"
             ],
             [
              0.5555555555555556,
              "#d8576b"
             ],
             [
              0.6666666666666666,
              "#ed7953"
             ],
             [
              0.7777777777777778,
              "#fb9f3a"
             ],
             [
              0.8888888888888888,
              "#fdca26"
             ],
             [
              1,
              "#f0f921"
             ]
            ],
            "type": "contour"
           }
          ],
          "contourcarpet": [
           {
            "colorbar": {
             "outlinewidth": 0,
             "ticks": ""
            },
            "type": "contourcarpet"
           }
          ],
          "heatmap": [
           {
            "colorbar": {
             "outlinewidth": 0,
             "ticks": ""
            },
            "colorscale": [
             [
              0,
              "#0d0887"
             ],
             [
              0.1111111111111111,
              "#46039f"
             ],
             [
              0.2222222222222222,
              "#7201a8"
             ],
             [
              0.3333333333333333,
              "#9c179e"
             ],
             [
              0.4444444444444444,
              "#bd3786"
             ],
             [
              0.5555555555555556,
              "#d8576b"
             ],
             [
              0.6666666666666666,
              "#ed7953"
             ],
             [
              0.7777777777777778,
              "#fb9f3a"
             ],
             [
              0.8888888888888888,
              "#fdca26"
             ],
             [
              1,
              "#f0f921"
             ]
            ],
            "type": "heatmap"
           }
          ],
          "heatmapgl": [
           {
            "colorbar": {
             "outlinewidth": 0,
             "ticks": ""
            },
            "colorscale": [
             [
              0,
              "#0d0887"
             ],
             [
              0.1111111111111111,
              "#46039f"
             ],
             [
              0.2222222222222222,
              "#7201a8"
             ],
             [
              0.3333333333333333,
              "#9c179e"
             ],
             [
              0.4444444444444444,
              "#bd3786"
             ],
             [
              0.5555555555555556,
              "#d8576b"
             ],
             [
              0.6666666666666666,
              "#ed7953"
             ],
             [
              0.7777777777777778,
              "#fb9f3a"
             ],
             [
              0.8888888888888888,
              "#fdca26"
             ],
             [
              1,
              "#f0f921"
             ]
            ],
            "type": "heatmapgl"
           }
          ],
          "histogram": [
           {
            "marker": {
             "colorbar": {
              "outlinewidth": 0,
              "ticks": ""
             }
            },
            "type": "histogram"
           }
          ],
          "histogram2d": [
           {
            "colorbar": {
             "outlinewidth": 0,
             "ticks": ""
            },
            "colorscale": [
             [
              0,
              "#0d0887"
             ],
             [
              0.1111111111111111,
              "#46039f"
             ],
             [
              0.2222222222222222,
              "#7201a8"
             ],
             [
              0.3333333333333333,
              "#9c179e"
             ],
             [
              0.4444444444444444,
              "#bd3786"
             ],
             [
              0.5555555555555556,
              "#d8576b"
             ],
             [
              0.6666666666666666,
              "#ed7953"
             ],
             [
              0.7777777777777778,
              "#fb9f3a"
             ],
             [
              0.8888888888888888,
              "#fdca26"
             ],
             [
              1,
              "#f0f921"
             ]
            ],
            "type": "histogram2d"
           }
          ],
          "histogram2dcontour": [
           {
            "colorbar": {
             "outlinewidth": 0,
             "ticks": ""
            },
            "colorscale": [
             [
              0,
              "#0d0887"
             ],
             [
              0.1111111111111111,
              "#46039f"
             ],
             [
              0.2222222222222222,
              "#7201a8"
             ],
             [
              0.3333333333333333,
              "#9c179e"
             ],
             [
              0.4444444444444444,
              "#bd3786"
             ],
             [
              0.5555555555555556,
              "#d8576b"
             ],
             [
              0.6666666666666666,
              "#ed7953"
             ],
             [
              0.7777777777777778,
              "#fb9f3a"
             ],
             [
              0.8888888888888888,
              "#fdca26"
             ],
             [
              1,
              "#f0f921"
             ]
            ],
            "type": "histogram2dcontour"
           }
          ],
          "mesh3d": [
           {
            "colorbar": {
             "outlinewidth": 0,
             "ticks": ""
            },
            "type": "mesh3d"
           }
          ],
          "parcoords": [
           {
            "line": {
             "colorbar": {
              "outlinewidth": 0,
              "ticks": ""
             }
            },
            "type": "parcoords"
           }
          ],
          "pie": [
           {
            "automargin": true,
            "type": "pie"
           }
          ],
          "scatter": [
           {
            "marker": {
             "colorbar": {
              "outlinewidth": 0,
              "ticks": ""
             }
            },
            "type": "scatter"
           }
          ],
          "scatter3d": [
           {
            "line": {
             "colorbar": {
              "outlinewidth": 0,
              "ticks": ""
             }
            },
            "marker": {
             "colorbar": {
              "outlinewidth": 0,
              "ticks": ""
             }
            },
            "type": "scatter3d"
           }
          ],
          "scattercarpet": [
           {
            "marker": {
             "colorbar": {
              "outlinewidth": 0,
              "ticks": ""
             }
            },
            "type": "scattercarpet"
           }
          ],
          "scattergeo": [
           {
            "marker": {
             "colorbar": {
              "outlinewidth": 0,
              "ticks": ""
             }
            },
            "type": "scattergeo"
           }
          ],
          "scattergl": [
           {
            "marker": {
             "colorbar": {
              "outlinewidth": 0,
              "ticks": ""
             }
            },
            "type": "scattergl"
           }
          ],
          "scattermapbox": [
           {
            "marker": {
             "colorbar": {
              "outlinewidth": 0,
              "ticks": ""
             }
            },
            "type": "scattermapbox"
           }
          ],
          "scatterpolar": [
           {
            "marker": {
             "colorbar": {
              "outlinewidth": 0,
              "ticks": ""
             }
            },
            "type": "scatterpolar"
           }
          ],
          "scatterpolargl": [
           {
            "marker": {
             "colorbar": {
              "outlinewidth": 0,
              "ticks": ""
             }
            },
            "type": "scatterpolargl"
           }
          ],
          "scatterternary": [
           {
            "marker": {
             "colorbar": {
              "outlinewidth": 0,
              "ticks": ""
             }
            },
            "type": "scatterternary"
           }
          ],
          "surface": [
           {
            "colorbar": {
             "outlinewidth": 0,
             "ticks": ""
            },
            "colorscale": [
             [
              0,
              "#0d0887"
             ],
             [
              0.1111111111111111,
              "#46039f"
             ],
             [
              0.2222222222222222,
              "#7201a8"
             ],
             [
              0.3333333333333333,
              "#9c179e"
             ],
             [
              0.4444444444444444,
              "#bd3786"
             ],
             [
              0.5555555555555556,
              "#d8576b"
             ],
             [
              0.6666666666666666,
              "#ed7953"
             ],
             [
              0.7777777777777778,
              "#fb9f3a"
             ],
             [
              0.8888888888888888,
              "#fdca26"
             ],
             [
              1,
              "#f0f921"
             ]
            ],
            "type": "surface"
           }
          ],
          "table": [
           {
            "cells": {
             "fill": {
              "color": "#EBF0F8"
             },
             "line": {
              "color": "white"
             }
            },
            "header": {
             "fill": {
              "color": "#C8D4E3"
             },
             "line": {
              "color": "white"
             }
            },
            "type": "table"
           }
          ]
         },
         "layout": {
          "annotationdefaults": {
           "arrowcolor": "#2a3f5f",
           "arrowhead": 0,
           "arrowwidth": 1
          },
          "autotypenumbers": "strict",
          "coloraxis": {
           "colorbar": {
            "outlinewidth": 0,
            "ticks": ""
           }
          },
          "colorscale": {
           "diverging": [
            [
             0,
             "#8e0152"
            ],
            [
             0.1,
             "#c51b7d"
            ],
            [
             0.2,
             "#de77ae"
            ],
            [
             0.3,
             "#f1b6da"
            ],
            [
             0.4,
             "#fde0ef"
            ],
            [
             0.5,
             "#f7f7f7"
            ],
            [
             0.6,
             "#e6f5d0"
            ],
            [
             0.7,
             "#b8e186"
            ],
            [
             0.8,
             "#7fbc41"
            ],
            [
             0.9,
             "#4d9221"
            ],
            [
             1,
             "#276419"
            ]
           ],
           "sequential": [
            [
             0,
             "#0d0887"
            ],
            [
             0.1111111111111111,
             "#46039f"
            ],
            [
             0.2222222222222222,
             "#7201a8"
            ],
            [
             0.3333333333333333,
             "#9c179e"
            ],
            [
             0.4444444444444444,
             "#bd3786"
            ],
            [
             0.5555555555555556,
             "#d8576b"
            ],
            [
             0.6666666666666666,
             "#ed7953"
            ],
            [
             0.7777777777777778,
             "#fb9f3a"
            ],
            [
             0.8888888888888888,
             "#fdca26"
            ],
            [
             1,
             "#f0f921"
            ]
           ],
           "sequentialminus": [
            [
             0,
             "#0d0887"
            ],
            [
             0.1111111111111111,
             "#46039f"
            ],
            [
             0.2222222222222222,
             "#7201a8"
            ],
            [
             0.3333333333333333,
             "#9c179e"
            ],
            [
             0.4444444444444444,
             "#bd3786"
            ],
            [
             0.5555555555555556,
             "#d8576b"
            ],
            [
             0.6666666666666666,
             "#ed7953"
            ],
            [
             0.7777777777777778,
             "#fb9f3a"
            ],
            [
             0.8888888888888888,
             "#fdca26"
            ],
            [
             1,
             "#f0f921"
            ]
           ]
          },
          "colorway": [
           "#636efa",
           "#EF553B",
           "#00cc96",
           "#ab63fa",
           "#FFA15A",
           "#19d3f3",
           "#FF6692",
           "#B6E880",
           "#FF97FF",
           "#FECB52"
          ],
          "font": {
           "color": "#2a3f5f"
          },
          "geo": {
           "bgcolor": "white",
           "lakecolor": "white",
           "landcolor": "#E5ECF6",
           "showlakes": true,
           "showland": true,
           "subunitcolor": "white"
          },
          "hoverlabel": {
           "align": "left"
          },
          "hovermode": "closest",
          "mapbox": {
           "style": "light"
          },
          "paper_bgcolor": "white",
          "plot_bgcolor": "#E5ECF6",
          "polar": {
           "angularaxis": {
            "gridcolor": "white",
            "linecolor": "white",
            "ticks": ""
           },
           "bgcolor": "#E5ECF6",
           "radialaxis": {
            "gridcolor": "white",
            "linecolor": "white",
            "ticks": ""
           }
          },
          "scene": {
           "xaxis": {
            "backgroundcolor": "#E5ECF6",
            "gridcolor": "white",
            "gridwidth": 2,
            "linecolor": "white",
            "showbackground": true,
            "ticks": "",
            "zerolinecolor": "white"
           },
           "yaxis": {
            "backgroundcolor": "#E5ECF6",
            "gridcolor": "white",
            "gridwidth": 2,
            "linecolor": "white",
            "showbackground": true,
            "ticks": "",
            "zerolinecolor": "white"
           },
           "zaxis": {
            "backgroundcolor": "#E5ECF6",
            "gridcolor": "white",
            "gridwidth": 2,
            "linecolor": "white",
            "showbackground": true,
            "ticks": "",
            "zerolinecolor": "white"
           }
          },
          "shapedefaults": {
           "line": {
            "color": "#2a3f5f"
           }
          },
          "ternary": {
           "aaxis": {
            "gridcolor": "white",
            "linecolor": "white",
            "ticks": ""
           },
           "baxis": {
            "gridcolor": "white",
            "linecolor": "white",
            "ticks": ""
           },
           "bgcolor": "#E5ECF6",
           "caxis": {
            "gridcolor": "white",
            "linecolor": "white",
            "ticks": ""
           }
          },
          "title": {
           "x": 0.05
          },
          "xaxis": {
           "automargin": true,
           "gridcolor": "white",
           "linecolor": "white",
           "ticks": "",
           "title": {
            "standoff": 15
           },
           "zerolinecolor": "white",
           "zerolinewidth": 2
          },
          "yaxis": {
           "automargin": true,
           "gridcolor": "white",
           "linecolor": "white",
           "ticks": "",
           "title": {
            "standoff": 15
           },
           "zerolinecolor": "white",
           "zerolinewidth": 2
          }
         }
        },
        "title": {
         "text": "Emotion Confidence by Video Type and Predicted Emotion"
        },
        "xaxis": {
         "anchor": "y",
         "domain": [
          0,
          0.2888888888888889
         ]
        },
        "xaxis10": {
         "anchor": "y10",
         "domain": [
          0,
          0.2888888888888889
         ]
        },
        "xaxis11": {
         "anchor": "y11",
         "domain": [
          0.35555555555555557,
          0.6444444444444445
         ]
        },
        "xaxis12": {
         "anchor": "y12",
         "domain": [
          0.7111111111111111,
          1
         ]
        },
        "xaxis13": {
         "anchor": "y13",
         "domain": [
          0,
          0.2888888888888889
         ]
        },
        "xaxis14": {
         "anchor": "y14",
         "domain": [
          0.35555555555555557,
          0.6444444444444445
         ],
         "title": {
          "text": "Emotion Confidence"
         }
        },
        "xaxis15": {
         "anchor": "y15",
         "domain": [
          0.7111111111111111,
          1
         ]
        },
        "xaxis2": {
         "anchor": "y2",
         "domain": [
          0.35555555555555557,
          0.6444444444444445
         ]
        },
        "xaxis3": {
         "anchor": "y3",
         "domain": [
          0.7111111111111111,
          1
         ]
        },
        "xaxis4": {
         "anchor": "y4",
         "domain": [
          0,
          0.2888888888888889
         ]
        },
        "xaxis5": {
         "anchor": "y5",
         "domain": [
          0.35555555555555557,
          0.6444444444444445
         ]
        },
        "xaxis6": {
         "anchor": "y6",
         "domain": [
          0.7111111111111111,
          1
         ]
        },
        "xaxis7": {
         "anchor": "y7",
         "domain": [
          0,
          0.2888888888888889
         ]
        },
        "xaxis8": {
         "anchor": "y8",
         "domain": [
          0.35555555555555557,
          0.6444444444444445
         ]
        },
        "xaxis9": {
         "anchor": "y9",
         "domain": [
          0.7111111111111111,
          1
         ]
        },
        "yaxis": {
         "anchor": "x",
         "domain": [
          0.88,
          1
         ],
         "title": {
          "text": "Neutral"
         }
        },
        "yaxis10": {
         "anchor": "x10",
         "domain": [
          0.22,
          0.33999999999999997
         ],
         "title": {
          "text": "Sad"
         }
        },
        "yaxis11": {
         "anchor": "x11",
         "domain": [
          0.22,
          0.33999999999999997
         ]
        },
        "yaxis12": {
         "anchor": "x12",
         "domain": [
          0.22,
          0.33999999999999997
         ]
        },
        "yaxis13": {
         "anchor": "x13",
         "domain": [
          0,
          0.12
         ],
         "title": {
          "text": "Surprise"
         }
        },
        "yaxis14": {
         "anchor": "x14",
         "domain": [
          0,
          0.12
         ]
        },
        "yaxis15": {
         "anchor": "x15",
         "domain": [
          0,
          0.12
         ]
        },
        "yaxis2": {
         "anchor": "x2",
         "domain": [
          0.88,
          1
         ]
        },
        "yaxis3": {
         "anchor": "x3",
         "domain": [
          0.88,
          1
         ]
        },
        "yaxis4": {
         "anchor": "x4",
         "domain": [
          0.66,
          0.78
         ],
         "title": {
          "text": "Happy"
         }
        },
        "yaxis5": {
         "anchor": "x5",
         "domain": [
          0.66,
          0.78
         ]
        },
        "yaxis6": {
         "anchor": "x6",
         "domain": [
          0.66,
          0.78
         ]
        },
        "yaxis7": {
         "anchor": "x7",
         "domain": [
          0.44,
          0.56
         ],
         "title": {
          "text": "Anger"
         }
        },
        "yaxis8": {
         "anchor": "x8",
         "domain": [
          0.44,
          0.56
         ]
        },
        "yaxis9": {
         "anchor": "x9",
         "domain": [
          0.44,
          0.56
         ]
        }
       }
      },
      "text/html": [
       "<div>                            <div id=\"0613ba5b-a571-4630-9d43-3df454b86310\" class=\"plotly-graph-div\" style=\"height:1000px; width:100%;\"></div>            <script type=\"text/javascript\">                require([\"plotly\"], function(Plotly) {                    window.PLOTLYENV=window.PLOTLYENV || {};                                    if (document.getElementById(\"0613ba5b-a571-4630-9d43-3df454b86310\")) {                    Plotly.newPlot(                        \"0613ba5b-a571-4630-9d43-3df454b86310\",                        [{\"marker\": {\"color\": \"blue\"}, \"type\": \"bar\", \"x\": [0.7, 0.75, 0.8, 0.85, 0.9, 0.95, 1.0], \"xaxis\": \"x\", \"y\": [2058, 60, 0, 0, 0, 0, 0], \"yaxis\": \"y\"}, {\"marker\": {\"color\": \"blue\"}, \"type\": \"bar\", \"x\": [0.7, 0.75, 0.8, 0.85, 0.9, 0.95, 1.0], \"xaxis\": \"x4\", \"y\": [125, 83, 43, 90, 25, 104, 256], \"yaxis\": \"y4\"}, {\"marker\": {\"color\": \"blue\"}, \"type\": \"bar\", \"x\": [0.7, 0.75, 0.8, 0.85, 0.9, 0.95, 1.0], \"xaxis\": \"x7\", \"y\": [8, 13, 2, 0, 0, 0, 0], \"yaxis\": \"y7\"}, {\"marker\": {\"color\": \"blue\"}, \"type\": \"bar\", \"x\": [0.7, 0.75, 0.8, 0.85, 0.9, 0.95, 1.0], \"xaxis\": \"x10\", \"y\": [473, 65, 15, 13, 6, 1, 0], \"yaxis\": \"y10\"}, {\"marker\": {\"color\": \"blue\"}, \"type\": \"bar\", \"x\": [0.7, 0.75, 0.8, 0.85, 0.9, 0.95, 1.0], \"xaxis\": \"x13\", \"y\": [19, 10, 0, 0, 0, 0, 0], \"yaxis\": \"y13\"}, {\"marker\": {\"color\": \"green\"}, \"type\": \"bar\", \"x\": [0.7, 0.75, 0.8, 0.85, 0.9, 0.95, 1.0], \"xaxis\": \"x2\", \"y\": [1010, 132, 0, 0, 0, 0, 0], \"yaxis\": \"y2\"}, {\"marker\": {\"color\": \"green\"}, \"type\": \"bar\", \"x\": [0.7, 0.75, 0.8, 0.85, 0.9, 0.95, 1.0], \"xaxis\": \"x5\", \"y\": [320, 471, 343, 714, 233, 398, 1270], \"yaxis\": \"y5\"}, {\"marker\": {\"color\": \"green\"}, \"type\": \"bar\", \"x\": [0.7, 0.75, 0.8, 0.85, 0.9, 0.95, 1.0], \"xaxis\": \"x8\", \"y\": [18, 40, 8, 8, 0, 0, 0], \"yaxis\": \"y8\"}, {\"marker\": {\"color\": \"green\"}, \"type\": \"bar\", \"x\": [0.7, 0.75, 0.8, 0.85, 0.9, 0.95, 1.0], \"xaxis\": \"x11\", \"y\": [10, 1, 1, 0, 0, 0, 0], \"yaxis\": \"y11\"}, {\"marker\": {\"color\": \"green\"}, \"type\": \"bar\", \"x\": [0.7, 0.75, 0.8, 0.85, 0.9, 0.95, 1.0], \"xaxis\": \"x14\", \"y\": [0, 0, 0, 0, 0, 0, 0], \"yaxis\": \"y14\"}, {\"marker\": {\"color\": \"red\"}, \"type\": \"bar\", \"x\": [0.7, 0.75, 0.8, 0.85, 0.9, 0.95, 1.0], \"xaxis\": \"x3\", \"y\": [558, 3, 0, 0, 0, 0, 0], \"yaxis\": \"y3\"}, {\"marker\": {\"color\": \"red\"}, \"type\": \"bar\", \"x\": [0.7, 0.75, 0.8, 0.85, 0.9, 0.95, 1.0], \"xaxis\": \"x6\", \"y\": [59, 43, 30, 95, 70, 151, 109], \"yaxis\": \"y6\"}, {\"marker\": {\"color\": \"red\"}, \"type\": \"bar\", \"x\": [0.7, 0.75, 0.8, 0.85, 0.9, 0.95, 1.0], \"xaxis\": \"x9\", \"y\": [0, 0, 0, 0, 0, 0, 0], \"yaxis\": \"y9\"}, {\"marker\": {\"color\": \"red\"}, \"type\": \"bar\", \"x\": [0.7, 0.75, 0.8, 0.85, 0.9, 0.95, 1.0], \"xaxis\": \"x12\", \"y\": [46, 10, 1, 0, 1, 1, 0], \"yaxis\": \"y12\"}, {\"marker\": {\"color\": \"red\"}, \"type\": \"bar\", \"x\": [0.7, 0.75, 0.8, 0.85, 0.9, 0.95, 1.0], \"xaxis\": \"x15\", \"y\": [18, 17, 8, 58, 21, 4, 0], \"yaxis\": \"y15\"}],                        {\"annotations\": [{\"font\": {\"size\": 16}, \"showarrow\": false, \"text\": \"Neutral\", \"x\": 0.14444444444444446, \"xanchor\": \"center\", \"xref\": \"paper\", \"y\": 1.0, \"yanchor\": \"bottom\", \"yref\": \"paper\"}, {\"font\": {\"size\": 16}, \"showarrow\": false, \"text\": \"Positive\", \"x\": 0.5, \"xanchor\": \"center\", \"xref\": \"paper\", \"y\": 1.0, \"yanchor\": \"bottom\", \"yref\": \"paper\"}, {\"font\": {\"size\": 16}, \"showarrow\": false, \"text\": \"Negative\", \"x\": 0.8555555555555556, \"xanchor\": \"center\", \"xref\": \"paper\", \"y\": 1.0, \"yanchor\": \"bottom\", \"yref\": \"paper\"}], \"height\": 1000, \"showlegend\": false, \"template\": {\"data\": {\"bar\": [{\"error_x\": {\"color\": \"#2a3f5f\"}, \"error_y\": {\"color\": \"#2a3f5f\"}, \"marker\": {\"line\": {\"color\": \"#E5ECF6\", \"width\": 0.5}}, \"type\": \"bar\"}], \"barpolar\": [{\"marker\": {\"line\": {\"color\": \"#E5ECF6\", \"width\": 0.5}}, \"type\": \"barpolar\"}], \"carpet\": [{\"aaxis\": {\"endlinecolor\": \"#2a3f5f\", \"gridcolor\": \"white\", \"linecolor\": \"white\", \"minorgridcolor\": \"white\", \"startlinecolor\": \"#2a3f5f\"}, \"baxis\": {\"endlinecolor\": \"#2a3f5f\", \"gridcolor\": \"white\", \"linecolor\": \"white\", \"minorgridcolor\": \"white\", \"startlinecolor\": \"#2a3f5f\"}, \"type\": \"carpet\"}], \"choropleth\": [{\"colorbar\": {\"outlinewidth\": 0, \"ticks\": \"\"}, \"type\": \"choropleth\"}], \"contour\": [{\"colorbar\": {\"outlinewidth\": 0, \"ticks\": \"\"}, \"colorscale\": [[0.0, \"#0d0887\"], [0.1111111111111111, \"#46039f\"], [0.2222222222222222, \"#7201a8\"], [0.3333333333333333, \"#9c179e\"], [0.4444444444444444, \"#bd3786\"], [0.5555555555555556, \"#d8576b\"], [0.6666666666666666, \"#ed7953\"], [0.7777777777777778, \"#fb9f3a\"], [0.8888888888888888, \"#fdca26\"], [1.0, \"#f0f921\"]], \"type\": \"contour\"}], \"contourcarpet\": [{\"colorbar\": {\"outlinewidth\": 0, \"ticks\": \"\"}, \"type\": \"contourcarpet\"}], \"heatmap\": [{\"colorbar\": {\"outlinewidth\": 0, \"ticks\": \"\"}, \"colorscale\": [[0.0, \"#0d0887\"], [0.1111111111111111, \"#46039f\"], [0.2222222222222222, \"#7201a8\"], [0.3333333333333333, \"#9c179e\"], [0.4444444444444444, \"#bd3786\"], [0.5555555555555556, \"#d8576b\"], [0.6666666666666666, \"#ed7953\"], [0.7777777777777778, \"#fb9f3a\"], [0.8888888888888888, \"#fdca26\"], [1.0, \"#f0f921\"]], \"type\": \"heatmap\"}], \"heatmapgl\": [{\"colorbar\": {\"outlinewidth\": 0, \"ticks\": \"\"}, \"colorscale\": [[0.0, \"#0d0887\"], [0.1111111111111111, \"#46039f\"], [0.2222222222222222, \"#7201a8\"], [0.3333333333333333, \"#9c179e\"], [0.4444444444444444, \"#bd3786\"], [0.5555555555555556, \"#d8576b\"], [0.6666666666666666, \"#ed7953\"], [0.7777777777777778, \"#fb9f3a\"], [0.8888888888888888, \"#fdca26\"], [1.0, \"#f0f921\"]], \"type\": \"heatmapgl\"}], \"histogram\": [{\"marker\": {\"colorbar\": {\"outlinewidth\": 0, \"ticks\": \"\"}}, \"type\": \"histogram\"}], \"histogram2d\": [{\"colorbar\": {\"outlinewidth\": 0, \"ticks\": \"\"}, \"colorscale\": [[0.0, \"#0d0887\"], [0.1111111111111111, \"#46039f\"], [0.2222222222222222, \"#7201a8\"], [0.3333333333333333, \"#9c179e\"], [0.4444444444444444, \"#bd3786\"], [0.5555555555555556, \"#d8576b\"], [0.6666666666666666, \"#ed7953\"], [0.7777777777777778, \"#fb9f3a\"], [0.8888888888888888, \"#fdca26\"], [1.0, \"#f0f921\"]], \"type\": \"histogram2d\"}], \"histogram2dcontour\": [{\"colorbar\": {\"outlinewidth\": 0, \"ticks\": \"\"}, \"colorscale\": [[0.0, \"#0d0887\"], [0.1111111111111111, \"#46039f\"], [0.2222222222222222, \"#7201a8\"], [0.3333333333333333, \"#9c179e\"], [0.4444444444444444, \"#bd3786\"], [0.5555555555555556, \"#d8576b\"], [0.6666666666666666, \"#ed7953\"], [0.7777777777777778, \"#fb9f3a\"], [0.8888888888888888, \"#fdca26\"], [1.0, \"#f0f921\"]], \"type\": \"histogram2dcontour\"}], \"mesh3d\": [{\"colorbar\": {\"outlinewidth\": 0, \"ticks\": \"\"}, \"type\": \"mesh3d\"}], \"parcoords\": [{\"line\": {\"colorbar\": {\"outlinewidth\": 0, \"ticks\": \"\"}}, \"type\": \"parcoords\"}], \"pie\": [{\"automargin\": true, \"type\": \"pie\"}], \"scatter\": [{\"marker\": {\"colorbar\": {\"outlinewidth\": 0, \"ticks\": \"\"}}, \"type\": \"scatter\"}], \"scatter3d\": [{\"line\": {\"colorbar\": {\"outlinewidth\": 0, \"ticks\": \"\"}}, \"marker\": {\"colorbar\": {\"outlinewidth\": 0, \"ticks\": \"\"}}, \"type\": \"scatter3d\"}], \"scattercarpet\": [{\"marker\": {\"colorbar\": {\"outlinewidth\": 0, \"ticks\": \"\"}}, \"type\": \"scattercarpet\"}], \"scattergeo\": [{\"marker\": {\"colorbar\": {\"outlinewidth\": 0, \"ticks\": \"\"}}, \"type\": \"scattergeo\"}], \"scattergl\": [{\"marker\": {\"colorbar\": {\"outlinewidth\": 0, \"ticks\": \"\"}}, \"type\": \"scattergl\"}], \"scattermapbox\": [{\"marker\": {\"colorbar\": {\"outlinewidth\": 0, \"ticks\": \"\"}}, \"type\": \"scattermapbox\"}], \"scatterpolar\": [{\"marker\": {\"colorbar\": {\"outlinewidth\": 0, \"ticks\": \"\"}}, \"type\": \"scatterpolar\"}], \"scatterpolargl\": [{\"marker\": {\"colorbar\": {\"outlinewidth\": 0, \"ticks\": \"\"}}, \"type\": \"scatterpolargl\"}], \"scatterternary\": [{\"marker\": {\"colorbar\": {\"outlinewidth\": 0, \"ticks\": \"\"}}, \"type\": \"scatterternary\"}], \"surface\": [{\"colorbar\": {\"outlinewidth\": 0, \"ticks\": \"\"}, \"colorscale\": [[0.0, \"#0d0887\"], [0.1111111111111111, \"#46039f\"], [0.2222222222222222, \"#7201a8\"], [0.3333333333333333, \"#9c179e\"], [0.4444444444444444, \"#bd3786\"], [0.5555555555555556, \"#d8576b\"], [0.6666666666666666, \"#ed7953\"], [0.7777777777777778, \"#fb9f3a\"], [0.8888888888888888, \"#fdca26\"], [1.0, \"#f0f921\"]], \"type\": \"surface\"}], \"table\": [{\"cells\": {\"fill\": {\"color\": \"#EBF0F8\"}, \"line\": {\"color\": \"white\"}}, \"header\": {\"fill\": {\"color\": \"#C8D4E3\"}, \"line\": {\"color\": \"white\"}}, \"type\": \"table\"}]}, \"layout\": {\"annotationdefaults\": {\"arrowcolor\": \"#2a3f5f\", \"arrowhead\": 0, \"arrowwidth\": 1}, \"autotypenumbers\": \"strict\", \"coloraxis\": {\"colorbar\": {\"outlinewidth\": 0, \"ticks\": \"\"}}, \"colorscale\": {\"diverging\": [[0, \"#8e0152\"], [0.1, \"#c51b7d\"], [0.2, \"#de77ae\"], [0.3, \"#f1b6da\"], [0.4, \"#fde0ef\"], [0.5, \"#f7f7f7\"], [0.6, \"#e6f5d0\"], [0.7, \"#b8e186\"], [0.8, \"#7fbc41\"], [0.9, \"#4d9221\"], [1, \"#276419\"]], \"sequential\": [[0.0, \"#0d0887\"], [0.1111111111111111, \"#46039f\"], [0.2222222222222222, \"#7201a8\"], [0.3333333333333333, \"#9c179e\"], [0.4444444444444444, \"#bd3786\"], [0.5555555555555556, \"#d8576b\"], [0.6666666666666666, \"#ed7953\"], [0.7777777777777778, \"#fb9f3a\"], [0.8888888888888888, \"#fdca26\"], [1.0, \"#f0f921\"]], \"sequentialminus\": [[0.0, \"#0d0887\"], [0.1111111111111111, \"#46039f\"], [0.2222222222222222, \"#7201a8\"], [0.3333333333333333, \"#9c179e\"], [0.4444444444444444, \"#bd3786\"], [0.5555555555555556, \"#d8576b\"], [0.6666666666666666, \"#ed7953\"], [0.7777777777777778, \"#fb9f3a\"], [0.8888888888888888, \"#fdca26\"], [1.0, \"#f0f921\"]]}, \"colorway\": [\"#636efa\", \"#EF553B\", \"#00cc96\", \"#ab63fa\", \"#FFA15A\", \"#19d3f3\", \"#FF6692\", \"#B6E880\", \"#FF97FF\", \"#FECB52\"], \"font\": {\"color\": \"#2a3f5f\"}, \"geo\": {\"bgcolor\": \"white\", \"lakecolor\": \"white\", \"landcolor\": \"#E5ECF6\", \"showlakes\": true, \"showland\": true, \"subunitcolor\": \"white\"}, \"hoverlabel\": {\"align\": \"left\"}, \"hovermode\": \"closest\", \"mapbox\": {\"style\": \"light\"}, \"paper_bgcolor\": \"white\", \"plot_bgcolor\": \"#E5ECF6\", \"polar\": {\"angularaxis\": {\"gridcolor\": \"white\", \"linecolor\": \"white\", \"ticks\": \"\"}, \"bgcolor\": \"#E5ECF6\", \"radialaxis\": {\"gridcolor\": \"white\", \"linecolor\": \"white\", \"ticks\": \"\"}}, \"scene\": {\"xaxis\": {\"backgroundcolor\": \"#E5ECF6\", \"gridcolor\": \"white\", \"gridwidth\": 2, \"linecolor\": \"white\", \"showbackground\": true, \"ticks\": \"\", \"zerolinecolor\": \"white\"}, \"yaxis\": {\"backgroundcolor\": \"#E5ECF6\", \"gridcolor\": \"white\", \"gridwidth\": 2, \"linecolor\": \"white\", \"showbackground\": true, \"ticks\": \"\", \"zerolinecolor\": \"white\"}, \"zaxis\": {\"backgroundcolor\": \"#E5ECF6\", \"gridcolor\": \"white\", \"gridwidth\": 2, \"linecolor\": \"white\", \"showbackground\": true, \"ticks\": \"\", \"zerolinecolor\": \"white\"}}, \"shapedefaults\": {\"line\": {\"color\": \"#2a3f5f\"}}, \"ternary\": {\"aaxis\": {\"gridcolor\": \"white\", \"linecolor\": \"white\", \"ticks\": \"\"}, \"baxis\": {\"gridcolor\": \"white\", \"linecolor\": \"white\", \"ticks\": \"\"}, \"bgcolor\": \"#E5ECF6\", \"caxis\": {\"gridcolor\": \"white\", \"linecolor\": \"white\", \"ticks\": \"\"}}, \"title\": {\"x\": 0.05}, \"xaxis\": {\"automargin\": true, \"gridcolor\": \"white\", \"linecolor\": \"white\", \"ticks\": \"\", \"title\": {\"standoff\": 15}, \"zerolinecolor\": \"white\", \"zerolinewidth\": 2}, \"yaxis\": {\"automargin\": true, \"gridcolor\": \"white\", \"linecolor\": \"white\", \"ticks\": \"\", \"title\": {\"standoff\": 15}, \"zerolinecolor\": \"white\", \"zerolinewidth\": 2}}}, \"title\": {\"text\": \"Emotion Confidence by Video Type and Predicted Emotion\"}, \"xaxis\": {\"anchor\": \"y\", \"domain\": [0.0, 0.2888888888888889]}, \"xaxis10\": {\"anchor\": \"y10\", \"domain\": [0.0, 0.2888888888888889]}, \"xaxis11\": {\"anchor\": \"y11\", \"domain\": [0.35555555555555557, 0.6444444444444445]}, \"xaxis12\": {\"anchor\": \"y12\", \"domain\": [0.7111111111111111, 1.0]}, \"xaxis13\": {\"anchor\": \"y13\", \"domain\": [0.0, 0.2888888888888889]}, \"xaxis14\": {\"anchor\": \"y14\", \"domain\": [0.35555555555555557, 0.6444444444444445], \"title\": {\"text\": \"Emotion Confidence\"}}, \"xaxis15\": {\"anchor\": \"y15\", \"domain\": [0.7111111111111111, 1.0]}, \"xaxis2\": {\"anchor\": \"y2\", \"domain\": [0.35555555555555557, 0.6444444444444445]}, \"xaxis3\": {\"anchor\": \"y3\", \"domain\": [0.7111111111111111, 1.0]}, \"xaxis4\": {\"anchor\": \"y4\", \"domain\": [0.0, 0.2888888888888889]}, \"xaxis5\": {\"anchor\": \"y5\", \"domain\": [0.35555555555555557, 0.6444444444444445]}, \"xaxis6\": {\"anchor\": \"y6\", \"domain\": [0.7111111111111111, 1.0]}, \"xaxis7\": {\"anchor\": \"y7\", \"domain\": [0.0, 0.2888888888888889]}, \"xaxis8\": {\"anchor\": \"y8\", \"domain\": [0.35555555555555557, 0.6444444444444445]}, \"xaxis9\": {\"anchor\": \"y9\", \"domain\": [0.7111111111111111, 1.0]}, \"yaxis\": {\"anchor\": \"x\", \"domain\": [0.88, 1.0], \"title\": {\"text\": \"Neutral\"}}, \"yaxis10\": {\"anchor\": \"x10\", \"domain\": [0.22, 0.33999999999999997], \"title\": {\"text\": \"Sad\"}}, \"yaxis11\": {\"anchor\": \"x11\", \"domain\": [0.22, 0.33999999999999997]}, \"yaxis12\": {\"anchor\": \"x12\", \"domain\": [0.22, 0.33999999999999997]}, \"yaxis13\": {\"anchor\": \"x13\", \"domain\": [0.0, 0.12], \"title\": {\"text\": \"Surprise\"}}, \"yaxis14\": {\"anchor\": \"x14\", \"domain\": [0.0, 0.12]}, \"yaxis15\": {\"anchor\": \"x15\", \"domain\": [0.0, 0.12]}, \"yaxis2\": {\"anchor\": \"x2\", \"domain\": [0.88, 1.0]}, \"yaxis3\": {\"anchor\": \"x3\", \"domain\": [0.88, 1.0]}, \"yaxis4\": {\"anchor\": \"x4\", \"domain\": [0.66, 0.78], \"title\": {\"text\": \"Happy\"}}, \"yaxis5\": {\"anchor\": \"x5\", \"domain\": [0.66, 0.78]}, \"yaxis6\": {\"anchor\": \"x6\", \"domain\": [0.66, 0.78]}, \"yaxis7\": {\"anchor\": \"x7\", \"domain\": [0.44, 0.56], \"title\": {\"text\": \"Anger\"}}, \"yaxis8\": {\"anchor\": \"x8\", \"domain\": [0.44, 0.56]}, \"yaxis9\": {\"anchor\": \"x9\", \"domain\": [0.44, 0.56]}},                        {\"responsive\": true}                    ).then(function(){\n",
       "                            \n",
       "var gd = document.getElementById('0613ba5b-a571-4630-9d43-3df454b86310');\n",
       "var x = new MutationObserver(function (mutations, observer) {{\n",
       "        var display = window.getComputedStyle(gd).display;\n",
       "        if (!display || display === 'none') {{\n",
       "            console.log([gd, 'removed!']);\n",
       "            Plotly.purge(gd);\n",
       "            observer.disconnect();\n",
       "        }}\n",
       "}});\n",
       "\n",
       "// Listen for the removal of the full notebook cells\n",
       "var notebookContainer = gd.closest('#notebook-container');\n",
       "if (notebookContainer) {{\n",
       "    x.observe(notebookContainer, {childList: true});\n",
       "}}\n",
       "\n",
       "// Listen for the clearing of the current output cell\n",
       "var outputEl = gd.closest('.output');\n",
       "if (outputEl) {{\n",
       "    x.observe(outputEl, {childList: true});\n",
       "}}\n",
       "\n",
       "                        })                };                });            </script>        </div>"
      ]
     },
     "metadata": {},
     "output_type": "display_data"
    }
   ],
   "source": [
    "bins = [0.7, 0.75, 0.8, 0.825, 0.875, 0.9, 0.95, 1.0]\n",
    "labels = [0.7, 0.75, 0.8, 0.85, 0.9, 0.95, 1.0]\n",
    "\n",
    "\n",
    "fig = make_subplots(rows=5, cols=3,\n",
    "                    subplot_titles=('Neutral','Positive','Negative'))\n",
    "emotions = ['neutral','positive','negative']\n",
    "colors = ['blue', 'green', 'red']\n",
    "for i, emotion in enumerate(emotions):\n",
    "    tmp = data_df[data_df['video_type'] == emotion]\n",
    "    for j, pred_emotion in enumerate(data_df['pred_emotion'].unique()):\n",
    "        tmp2 = tmp[tmp['pred_emotion'] == pred_emotion]\n",
    "        \n",
    "        tmp2['emotion_confidence'] = pd.cut(tmp['emotion_confidence'].astype(float), bins=bins, labels=labels)\n",
    "        grp = tmp2.groupby('emotion_confidence').video_id.count().reset_index().rename(columns={'video_id':'count'})\n",
    "        fig.add_trace(go.Bar(x=list(grp['emotion_confidence']),\n",
    "                             y=list(grp['count']),\n",
    "                             marker = {'color' : colors[i]}),\n",
    "                      row=j + 1, col=i + 1)\n",
    "        if i == 0:\n",
    "            fig.update_yaxes(title_text=pred_emotion.title(), row=j + 1, col=1)\n",
    "\n",
    "fig.update_layout(title_text='Emotion Confidence by Video Type and Predicted Emotion', showlegend=False,\n",
    "                 height=1000)\n",
    "fig.update_xaxes(title_text='Emotion Confidence', row=5, col=2)\n",
    "fig.show()"
   ]
  },
  {
   "cell_type": "markdown",
   "id": "specialized-prize",
   "metadata": {},
   "source": [
    "# Classify Video Type"
   ]
  },
  {
   "cell_type": "markdown",
   "id": "about-lucas",
   "metadata": {},
   "source": [
    "## Encode Categorical Data"
   ]
  },
  {
   "cell_type": "code",
   "execution_count": 359,
   "id": "curious-collectible",
   "metadata": {},
   "outputs": [],
   "source": [
    "label_encoding = dict(zip(data_df['video_type'].unique(), range(0,3)))\n",
    "data_df['enc_video_type'] = data_df['video_type'].map(label_encoding, na_action='ignore')\n",
    "\n",
    "emotion_encoding = dict(zip(data_df['pred_emotion'].unique(), range(0, len(data_df['pred_emotion'].unique()))))\n",
    "data_df['enc_pred_emotion'] = data_df['pred_emotion'].map(emotion_encoding, na_action='ignore')"
   ]
  },
  {
   "cell_type": "markdown",
   "id": "seasonal-rainbow",
   "metadata": {},
   "source": [
    "## Prep Data for Features/Labels"
   ]
  },
  {
   "cell_type": "code",
   "execution_count": 360,
   "id": "broadband-standard",
   "metadata": {},
   "outputs": [],
   "source": [
    "features = ['enc_pred_emotion','emotion_confidence','rpm','distance','norm_slow','norm_fast','norm_start','norm_stop']\n",
    "\n",
    "X = data_df[features].astype(float)\n",
    "y = data_df['enc_video_type']"
   ]
  },
  {
   "cell_type": "markdown",
   "id": "intelligent-archives",
   "metadata": {},
   "source": [
    "## Build Classifier"
   ]
  },
  {
   "cell_type": "code",
   "execution_count": 361,
   "id": "southeast-player",
   "metadata": {},
   "outputs": [
    {
     "name": "stdout",
     "output_type": "stream",
     "text": [
      "0.9993162393162394\n"
     ]
    }
   ],
   "source": [
    "X_train, X_test, y_train, y_test = train_test_split(X, y, test_size=0.3)\n",
    "\n",
    "oversample = SMOTE()\n",
    "X_train, y_train = oversample.fit_resample(X_train, y_train)\n",
    "\n",
    "clf = RandomForestClassifier()\n",
    "clf.fit(X_train, y_train)\n",
    "print(clf.score(X_test, y_test))"
   ]
  },
  {
   "cell_type": "markdown",
   "id": "scheduled-hormone",
   "metadata": {},
   "source": [
    "## Find Feature Importance"
   ]
  },
  {
   "cell_type": "code",
   "execution_count": 362,
   "id": "corrected-gregory",
   "metadata": {},
   "outputs": [
    {
     "data": {
      "application/vnd.plotly.v1+json": {
       "config": {
        "plotlyServerURL": "https://plot.ly"
       },
       "data": [
        {
         "alignmentgroup": "True",
         "hovertemplate": "Features=%{x}<br>Importances=%{y}<extra></extra>",
         "legendgroup": "",
         "marker": {
          "color": "#F8766D"
         },
         "name": "",
         "offsetgroup": "",
         "orientation": "v",
         "showlegend": false,
         "textposition": "auto",
         "type": "bar",
         "x": [
          "rpm",
          "norm_start",
          "distance",
          "norm_stop",
          "norm_slow",
          "norm_fast",
          "emotion_confidence",
          "enc_pred_emotion"
         ],
         "xaxis": "x",
         "y": [
          0.18975867648946754,
          0.1695493624123263,
          0.16470631541335054,
          0.15141172527492897,
          0.1027253035555844,
          0.08610070617430285,
          0.06846291216008034,
          0.06728499851995923
         ],
         "yaxis": "y"
        }
       ],
       "layout": {
        "barmode": "relative",
        "legend": {
         "tracegroupgap": 0
        },
        "template": {
         "data": {
          "bar": [
           {
            "error_x": {
             "color": "rgb(51,51,51)"
            },
            "error_y": {
             "color": "rgb(51,51,51)"
            },
            "marker": {
             "line": {
              "color": "rgb(237,237,237)",
              "width": 0.5
             }
            },
            "type": "bar"
           }
          ],
          "barpolar": [
           {
            "marker": {
             "line": {
              "color": "rgb(237,237,237)",
              "width": 0.5
             }
            },
            "type": "barpolar"
           }
          ],
          "carpet": [
           {
            "aaxis": {
             "endlinecolor": "rgb(51,51,51)",
             "gridcolor": "white",
             "linecolor": "white",
             "minorgridcolor": "white",
             "startlinecolor": "rgb(51,51,51)"
            },
            "baxis": {
             "endlinecolor": "rgb(51,51,51)",
             "gridcolor": "white",
             "linecolor": "white",
             "minorgridcolor": "white",
             "startlinecolor": "rgb(51,51,51)"
            },
            "type": "carpet"
           }
          ],
          "choropleth": [
           {
            "colorbar": {
             "outlinewidth": 0,
             "tickcolor": "rgb(237,237,237)",
             "ticklen": 6,
             "ticks": "inside"
            },
            "type": "choropleth"
           }
          ],
          "contour": [
           {
            "colorbar": {
             "outlinewidth": 0,
             "tickcolor": "rgb(237,237,237)",
             "ticklen": 6,
             "ticks": "inside"
            },
            "colorscale": [
             [
              0,
              "rgb(20,44,66)"
             ],
             [
              1,
              "rgb(90,179,244)"
             ]
            ],
            "type": "contour"
           }
          ],
          "contourcarpet": [
           {
            "colorbar": {
             "outlinewidth": 0,
             "tickcolor": "rgb(237,237,237)",
             "ticklen": 6,
             "ticks": "inside"
            },
            "type": "contourcarpet"
           }
          ],
          "heatmap": [
           {
            "colorbar": {
             "outlinewidth": 0,
             "tickcolor": "rgb(237,237,237)",
             "ticklen": 6,
             "ticks": "inside"
            },
            "colorscale": [
             [
              0,
              "rgb(20,44,66)"
             ],
             [
              1,
              "rgb(90,179,244)"
             ]
            ],
            "type": "heatmap"
           }
          ],
          "heatmapgl": [
           {
            "colorbar": {
             "outlinewidth": 0,
             "tickcolor": "rgb(237,237,237)",
             "ticklen": 6,
             "ticks": "inside"
            },
            "colorscale": [
             [
              0,
              "rgb(20,44,66)"
             ],
             [
              1,
              "rgb(90,179,244)"
             ]
            ],
            "type": "heatmapgl"
           }
          ],
          "histogram": [
           {
            "marker": {
             "colorbar": {
              "outlinewidth": 0,
              "tickcolor": "rgb(237,237,237)",
              "ticklen": 6,
              "ticks": "inside"
             }
            },
            "type": "histogram"
           }
          ],
          "histogram2d": [
           {
            "colorbar": {
             "outlinewidth": 0,
             "tickcolor": "rgb(237,237,237)",
             "ticklen": 6,
             "ticks": "inside"
            },
            "colorscale": [
             [
              0,
              "rgb(20,44,66)"
             ],
             [
              1,
              "rgb(90,179,244)"
             ]
            ],
            "type": "histogram2d"
           }
          ],
          "histogram2dcontour": [
           {
            "colorbar": {
             "outlinewidth": 0,
             "tickcolor": "rgb(237,237,237)",
             "ticklen": 6,
             "ticks": "inside"
            },
            "colorscale": [
             [
              0,
              "rgb(20,44,66)"
             ],
             [
              1,
              "rgb(90,179,244)"
             ]
            ],
            "type": "histogram2dcontour"
           }
          ],
          "mesh3d": [
           {
            "colorbar": {
             "outlinewidth": 0,
             "tickcolor": "rgb(237,237,237)",
             "ticklen": 6,
             "ticks": "inside"
            },
            "type": "mesh3d"
           }
          ],
          "parcoords": [
           {
            "line": {
             "colorbar": {
              "outlinewidth": 0,
              "tickcolor": "rgb(237,237,237)",
              "ticklen": 6,
              "ticks": "inside"
             }
            },
            "type": "parcoords"
           }
          ],
          "pie": [
           {
            "automargin": true,
            "type": "pie"
           }
          ],
          "scatter": [
           {
            "marker": {
             "colorbar": {
              "outlinewidth": 0,
              "tickcolor": "rgb(237,237,237)",
              "ticklen": 6,
              "ticks": "inside"
             }
            },
            "type": "scatter"
           }
          ],
          "scatter3d": [
           {
            "line": {
             "colorbar": {
              "outlinewidth": 0,
              "tickcolor": "rgb(237,237,237)",
              "ticklen": 6,
              "ticks": "inside"
             }
            },
            "marker": {
             "colorbar": {
              "outlinewidth": 0,
              "tickcolor": "rgb(237,237,237)",
              "ticklen": 6,
              "ticks": "inside"
             }
            },
            "type": "scatter3d"
           }
          ],
          "scattercarpet": [
           {
            "marker": {
             "colorbar": {
              "outlinewidth": 0,
              "tickcolor": "rgb(237,237,237)",
              "ticklen": 6,
              "ticks": "inside"
             }
            },
            "type": "scattercarpet"
           }
          ],
          "scattergeo": [
           {
            "marker": {
             "colorbar": {
              "outlinewidth": 0,
              "tickcolor": "rgb(237,237,237)",
              "ticklen": 6,
              "ticks": "inside"
             }
            },
            "type": "scattergeo"
           }
          ],
          "scattergl": [
           {
            "marker": {
             "colorbar": {
              "outlinewidth": 0,
              "tickcolor": "rgb(237,237,237)",
              "ticklen": 6,
              "ticks": "inside"
             }
            },
            "type": "scattergl"
           }
          ],
          "scattermapbox": [
           {
            "marker": {
             "colorbar": {
              "outlinewidth": 0,
              "tickcolor": "rgb(237,237,237)",
              "ticklen": 6,
              "ticks": "inside"
             }
            },
            "type": "scattermapbox"
           }
          ],
          "scatterpolar": [
           {
            "marker": {
             "colorbar": {
              "outlinewidth": 0,
              "tickcolor": "rgb(237,237,237)",
              "ticklen": 6,
              "ticks": "inside"
             }
            },
            "type": "scatterpolar"
           }
          ],
          "scatterpolargl": [
           {
            "marker": {
             "colorbar": {
              "outlinewidth": 0,
              "tickcolor": "rgb(237,237,237)",
              "ticklen": 6,
              "ticks": "inside"
             }
            },
            "type": "scatterpolargl"
           }
          ],
          "scatterternary": [
           {
            "marker": {
             "colorbar": {
              "outlinewidth": 0,
              "tickcolor": "rgb(237,237,237)",
              "ticklen": 6,
              "ticks": "inside"
             }
            },
            "type": "scatterternary"
           }
          ],
          "surface": [
           {
            "colorbar": {
             "outlinewidth": 0,
             "tickcolor": "rgb(237,237,237)",
             "ticklen": 6,
             "ticks": "inside"
            },
            "colorscale": [
             [
              0,
              "rgb(20,44,66)"
             ],
             [
              1,
              "rgb(90,179,244)"
             ]
            ],
            "type": "surface"
           }
          ],
          "table": [
           {
            "cells": {
             "fill": {
              "color": "rgb(237,237,237)"
             },
             "line": {
              "color": "white"
             }
            },
            "header": {
             "fill": {
              "color": "rgb(217,217,217)"
             },
             "line": {
              "color": "white"
             }
            },
            "type": "table"
           }
          ]
         },
         "layout": {
          "annotationdefaults": {
           "arrowhead": 0,
           "arrowwidth": 1
          },
          "autotypenumbers": "strict",
          "coloraxis": {
           "colorbar": {
            "outlinewidth": 0,
            "tickcolor": "rgb(237,237,237)",
            "ticklen": 6,
            "ticks": "inside"
           }
          },
          "colorscale": {
           "sequential": [
            [
             0,
             "rgb(20,44,66)"
            ],
            [
             1,
             "rgb(90,179,244)"
            ]
           ],
           "sequentialminus": [
            [
             0,
             "rgb(20,44,66)"
            ],
            [
             1,
             "rgb(90,179,244)"
            ]
           ]
          },
          "colorway": [
           "#F8766D",
           "#A3A500",
           "#00BF7D",
           "#00B0F6",
           "#E76BF3"
          ],
          "font": {
           "color": "rgb(51,51,51)"
          },
          "geo": {
           "bgcolor": "white",
           "lakecolor": "white",
           "landcolor": "rgb(237,237,237)",
           "showlakes": true,
           "showland": true,
           "subunitcolor": "white"
          },
          "hoverlabel": {
           "align": "left"
          },
          "hovermode": "closest",
          "paper_bgcolor": "white",
          "plot_bgcolor": "rgb(237,237,237)",
          "polar": {
           "angularaxis": {
            "gridcolor": "white",
            "linecolor": "white",
            "showgrid": true,
            "tickcolor": "rgb(51,51,51)",
            "ticks": "outside"
           },
           "bgcolor": "rgb(237,237,237)",
           "radialaxis": {
            "gridcolor": "white",
            "linecolor": "white",
            "showgrid": true,
            "tickcolor": "rgb(51,51,51)",
            "ticks": "outside"
           }
          },
          "scene": {
           "xaxis": {
            "backgroundcolor": "rgb(237,237,237)",
            "gridcolor": "white",
            "gridwidth": 2,
            "linecolor": "white",
            "showbackground": true,
            "showgrid": true,
            "tickcolor": "rgb(51,51,51)",
            "ticks": "outside",
            "zerolinecolor": "white"
           },
           "yaxis": {
            "backgroundcolor": "rgb(237,237,237)",
            "gridcolor": "white",
            "gridwidth": 2,
            "linecolor": "white",
            "showbackground": true,
            "showgrid": true,
            "tickcolor": "rgb(51,51,51)",
            "ticks": "outside",
            "zerolinecolor": "white"
           },
           "zaxis": {
            "backgroundcolor": "rgb(237,237,237)",
            "gridcolor": "white",
            "gridwidth": 2,
            "linecolor": "white",
            "showbackground": true,
            "showgrid": true,
            "tickcolor": "rgb(51,51,51)",
            "ticks": "outside",
            "zerolinecolor": "white"
           }
          },
          "shapedefaults": {
           "fillcolor": "black",
           "line": {
            "width": 0
           },
           "opacity": 0.3
          },
          "ternary": {
           "aaxis": {
            "gridcolor": "white",
            "linecolor": "white",
            "showgrid": true,
            "tickcolor": "rgb(51,51,51)",
            "ticks": "outside"
           },
           "baxis": {
            "gridcolor": "white",
            "linecolor": "white",
            "showgrid": true,
            "tickcolor": "rgb(51,51,51)",
            "ticks": "outside"
           },
           "bgcolor": "rgb(237,237,237)",
           "caxis": {
            "gridcolor": "white",
            "linecolor": "white",
            "showgrid": true,
            "tickcolor": "rgb(51,51,51)",
            "ticks": "outside"
           }
          },
          "xaxis": {
           "automargin": true,
           "gridcolor": "white",
           "linecolor": "white",
           "showgrid": true,
           "tickcolor": "rgb(51,51,51)",
           "ticks": "outside",
           "title": {
            "standoff": 15
           },
           "zerolinecolor": "white"
          },
          "yaxis": {
           "automargin": true,
           "gridcolor": "white",
           "linecolor": "white",
           "showgrid": true,
           "tickcolor": "rgb(51,51,51)",
           "ticks": "outside",
           "title": {
            "standoff": 15
           },
           "zerolinecolor": "white"
          }
         }
        },
        "title": {
         "text": "Feature Importance"
        },
        "xaxis": {
         "anchor": "y",
         "domain": [
          0,
          1
         ],
         "title": {
          "text": "Features"
         }
        },
        "yaxis": {
         "anchor": "x",
         "domain": [
          0,
          1
         ],
         "title": {
          "text": "Importances"
         }
        }
       }
      },
      "text/html": [
       "<div>                            <div id=\"5ff00831-d32a-442c-a93b-d5767a306565\" class=\"plotly-graph-div\" style=\"height:525px; width:100%;\"></div>            <script type=\"text/javascript\">                require([\"plotly\"], function(Plotly) {                    window.PLOTLYENV=window.PLOTLYENV || {};                                    if (document.getElementById(\"5ff00831-d32a-442c-a93b-d5767a306565\")) {                    Plotly.newPlot(                        \"5ff00831-d32a-442c-a93b-d5767a306565\",                        [{\"alignmentgroup\": \"True\", \"hovertemplate\": \"Features=%{x}<br>Importances=%{y}<extra></extra>\", \"legendgroup\": \"\", \"marker\": {\"color\": \"#F8766D\"}, \"name\": \"\", \"offsetgroup\": \"\", \"orientation\": \"v\", \"showlegend\": false, \"textposition\": \"auto\", \"type\": \"bar\", \"x\": [\"rpm\", \"norm_start\", \"distance\", \"norm_stop\", \"norm_slow\", \"norm_fast\", \"emotion_confidence\", \"enc_pred_emotion\"], \"xaxis\": \"x\", \"y\": [0.18975867648946754, 0.1695493624123263, 0.16470631541335054, 0.15141172527492897, 0.1027253035555844, 0.08610070617430285, 0.06846291216008034, 0.06728499851995923], \"yaxis\": \"y\"}],                        {\"barmode\": \"relative\", \"legend\": {\"tracegroupgap\": 0}, \"template\": {\"data\": {\"bar\": [{\"error_x\": {\"color\": \"rgb(51,51,51)\"}, \"error_y\": {\"color\": \"rgb(51,51,51)\"}, \"marker\": {\"line\": {\"color\": \"rgb(237,237,237)\", \"width\": 0.5}}, \"type\": \"bar\"}], \"barpolar\": [{\"marker\": {\"line\": {\"color\": \"rgb(237,237,237)\", \"width\": 0.5}}, \"type\": \"barpolar\"}], \"carpet\": [{\"aaxis\": {\"endlinecolor\": \"rgb(51,51,51)\", \"gridcolor\": \"white\", \"linecolor\": \"white\", \"minorgridcolor\": \"white\", \"startlinecolor\": \"rgb(51,51,51)\"}, \"baxis\": {\"endlinecolor\": \"rgb(51,51,51)\", \"gridcolor\": \"white\", \"linecolor\": \"white\", \"minorgridcolor\": \"white\", \"startlinecolor\": \"rgb(51,51,51)\"}, \"type\": \"carpet\"}], \"choropleth\": [{\"colorbar\": {\"outlinewidth\": 0, \"tickcolor\": \"rgb(237,237,237)\", \"ticklen\": 6, \"ticks\": \"inside\"}, \"type\": \"choropleth\"}], \"contour\": [{\"colorbar\": {\"outlinewidth\": 0, \"tickcolor\": \"rgb(237,237,237)\", \"ticklen\": 6, \"ticks\": \"inside\"}, \"colorscale\": [[0, \"rgb(20,44,66)\"], [1, \"rgb(90,179,244)\"]], \"type\": \"contour\"}], \"contourcarpet\": [{\"colorbar\": {\"outlinewidth\": 0, \"tickcolor\": \"rgb(237,237,237)\", \"ticklen\": 6, \"ticks\": \"inside\"}, \"type\": \"contourcarpet\"}], \"heatmap\": [{\"colorbar\": {\"outlinewidth\": 0, \"tickcolor\": \"rgb(237,237,237)\", \"ticklen\": 6, \"ticks\": \"inside\"}, \"colorscale\": [[0, \"rgb(20,44,66)\"], [1, \"rgb(90,179,244)\"]], \"type\": \"heatmap\"}], \"heatmapgl\": [{\"colorbar\": {\"outlinewidth\": 0, \"tickcolor\": \"rgb(237,237,237)\", \"ticklen\": 6, \"ticks\": \"inside\"}, \"colorscale\": [[0, \"rgb(20,44,66)\"], [1, \"rgb(90,179,244)\"]], \"type\": \"heatmapgl\"}], \"histogram\": [{\"marker\": {\"colorbar\": {\"outlinewidth\": 0, \"tickcolor\": \"rgb(237,237,237)\", \"ticklen\": 6, \"ticks\": \"inside\"}}, \"type\": \"histogram\"}], \"histogram2d\": [{\"colorbar\": {\"outlinewidth\": 0, \"tickcolor\": \"rgb(237,237,237)\", \"ticklen\": 6, \"ticks\": \"inside\"}, \"colorscale\": [[0, \"rgb(20,44,66)\"], [1, \"rgb(90,179,244)\"]], \"type\": \"histogram2d\"}], \"histogram2dcontour\": [{\"colorbar\": {\"outlinewidth\": 0, \"tickcolor\": \"rgb(237,237,237)\", \"ticklen\": 6, \"ticks\": \"inside\"}, \"colorscale\": [[0, \"rgb(20,44,66)\"], [1, \"rgb(90,179,244)\"]], \"type\": \"histogram2dcontour\"}], \"mesh3d\": [{\"colorbar\": {\"outlinewidth\": 0, \"tickcolor\": \"rgb(237,237,237)\", \"ticklen\": 6, \"ticks\": \"inside\"}, \"type\": \"mesh3d\"}], \"parcoords\": [{\"line\": {\"colorbar\": {\"outlinewidth\": 0, \"tickcolor\": \"rgb(237,237,237)\", \"ticklen\": 6, \"ticks\": \"inside\"}}, \"type\": \"parcoords\"}], \"pie\": [{\"automargin\": true, \"type\": \"pie\"}], \"scatter\": [{\"marker\": {\"colorbar\": {\"outlinewidth\": 0, \"tickcolor\": \"rgb(237,237,237)\", \"ticklen\": 6, \"ticks\": \"inside\"}}, \"type\": \"scatter\"}], \"scatter3d\": [{\"line\": {\"colorbar\": {\"outlinewidth\": 0, \"tickcolor\": \"rgb(237,237,237)\", \"ticklen\": 6, \"ticks\": \"inside\"}}, \"marker\": {\"colorbar\": {\"outlinewidth\": 0, \"tickcolor\": \"rgb(237,237,237)\", \"ticklen\": 6, \"ticks\": \"inside\"}}, \"type\": \"scatter3d\"}], \"scattercarpet\": [{\"marker\": {\"colorbar\": {\"outlinewidth\": 0, \"tickcolor\": \"rgb(237,237,237)\", \"ticklen\": 6, \"ticks\": \"inside\"}}, \"type\": \"scattercarpet\"}], \"scattergeo\": [{\"marker\": {\"colorbar\": {\"outlinewidth\": 0, \"tickcolor\": \"rgb(237,237,237)\", \"ticklen\": 6, \"ticks\": \"inside\"}}, \"type\": \"scattergeo\"}], \"scattergl\": [{\"marker\": {\"colorbar\": {\"outlinewidth\": 0, \"tickcolor\": \"rgb(237,237,237)\", \"ticklen\": 6, \"ticks\": \"inside\"}}, \"type\": \"scattergl\"}], \"scattermapbox\": [{\"marker\": {\"colorbar\": {\"outlinewidth\": 0, \"tickcolor\": \"rgb(237,237,237)\", \"ticklen\": 6, \"ticks\": \"inside\"}}, \"type\": \"scattermapbox\"}], \"scatterpolar\": [{\"marker\": {\"colorbar\": {\"outlinewidth\": 0, \"tickcolor\": \"rgb(237,237,237)\", \"ticklen\": 6, \"ticks\": \"inside\"}}, \"type\": \"scatterpolar\"}], \"scatterpolargl\": [{\"marker\": {\"colorbar\": {\"outlinewidth\": 0, \"tickcolor\": \"rgb(237,237,237)\", \"ticklen\": 6, \"ticks\": \"inside\"}}, \"type\": \"scatterpolargl\"}], \"scatterternary\": [{\"marker\": {\"colorbar\": {\"outlinewidth\": 0, \"tickcolor\": \"rgb(237,237,237)\", \"ticklen\": 6, \"ticks\": \"inside\"}}, \"type\": \"scatterternary\"}], \"surface\": [{\"colorbar\": {\"outlinewidth\": 0, \"tickcolor\": \"rgb(237,237,237)\", \"ticklen\": 6, \"ticks\": \"inside\"}, \"colorscale\": [[0, \"rgb(20,44,66)\"], [1, \"rgb(90,179,244)\"]], \"type\": \"surface\"}], \"table\": [{\"cells\": {\"fill\": {\"color\": \"rgb(237,237,237)\"}, \"line\": {\"color\": \"white\"}}, \"header\": {\"fill\": {\"color\": \"rgb(217,217,217)\"}, \"line\": {\"color\": \"white\"}}, \"type\": \"table\"}]}, \"layout\": {\"annotationdefaults\": {\"arrowhead\": 0, \"arrowwidth\": 1}, \"autotypenumbers\": \"strict\", \"coloraxis\": {\"colorbar\": {\"outlinewidth\": 0, \"tickcolor\": \"rgb(237,237,237)\", \"ticklen\": 6, \"ticks\": \"inside\"}}, \"colorscale\": {\"sequential\": [[0, \"rgb(20,44,66)\"], [1, \"rgb(90,179,244)\"]], \"sequentialminus\": [[0, \"rgb(20,44,66)\"], [1, \"rgb(90,179,244)\"]]}, \"colorway\": [\"#F8766D\", \"#A3A500\", \"#00BF7D\", \"#00B0F6\", \"#E76BF3\"], \"font\": {\"color\": \"rgb(51,51,51)\"}, \"geo\": {\"bgcolor\": \"white\", \"lakecolor\": \"white\", \"landcolor\": \"rgb(237,237,237)\", \"showlakes\": true, \"showland\": true, \"subunitcolor\": \"white\"}, \"hoverlabel\": {\"align\": \"left\"}, \"hovermode\": \"closest\", \"paper_bgcolor\": \"white\", \"plot_bgcolor\": \"rgb(237,237,237)\", \"polar\": {\"angularaxis\": {\"gridcolor\": \"white\", \"linecolor\": \"white\", \"showgrid\": true, \"tickcolor\": \"rgb(51,51,51)\", \"ticks\": \"outside\"}, \"bgcolor\": \"rgb(237,237,237)\", \"radialaxis\": {\"gridcolor\": \"white\", \"linecolor\": \"white\", \"showgrid\": true, \"tickcolor\": \"rgb(51,51,51)\", \"ticks\": \"outside\"}}, \"scene\": {\"xaxis\": {\"backgroundcolor\": \"rgb(237,237,237)\", \"gridcolor\": \"white\", \"gridwidth\": 2, \"linecolor\": \"white\", \"showbackground\": true, \"showgrid\": true, \"tickcolor\": \"rgb(51,51,51)\", \"ticks\": \"outside\", \"zerolinecolor\": \"white\"}, \"yaxis\": {\"backgroundcolor\": \"rgb(237,237,237)\", \"gridcolor\": \"white\", \"gridwidth\": 2, \"linecolor\": \"white\", \"showbackground\": true, \"showgrid\": true, \"tickcolor\": \"rgb(51,51,51)\", \"ticks\": \"outside\", \"zerolinecolor\": \"white\"}, \"zaxis\": {\"backgroundcolor\": \"rgb(237,237,237)\", \"gridcolor\": \"white\", \"gridwidth\": 2, \"linecolor\": \"white\", \"showbackground\": true, \"showgrid\": true, \"tickcolor\": \"rgb(51,51,51)\", \"ticks\": \"outside\", \"zerolinecolor\": \"white\"}}, \"shapedefaults\": {\"fillcolor\": \"black\", \"line\": {\"width\": 0}, \"opacity\": 0.3}, \"ternary\": {\"aaxis\": {\"gridcolor\": \"white\", \"linecolor\": \"white\", \"showgrid\": true, \"tickcolor\": \"rgb(51,51,51)\", \"ticks\": \"outside\"}, \"baxis\": {\"gridcolor\": \"white\", \"linecolor\": \"white\", \"showgrid\": true, \"tickcolor\": \"rgb(51,51,51)\", \"ticks\": \"outside\"}, \"bgcolor\": \"rgb(237,237,237)\", \"caxis\": {\"gridcolor\": \"white\", \"linecolor\": \"white\", \"showgrid\": true, \"tickcolor\": \"rgb(51,51,51)\", \"ticks\": \"outside\"}}, \"xaxis\": {\"automargin\": true, \"gridcolor\": \"white\", \"linecolor\": \"white\", \"showgrid\": true, \"tickcolor\": \"rgb(51,51,51)\", \"ticks\": \"outside\", \"title\": {\"standoff\": 15}, \"zerolinecolor\": \"white\"}, \"yaxis\": {\"automargin\": true, \"gridcolor\": \"white\", \"linecolor\": \"white\", \"showgrid\": true, \"tickcolor\": \"rgb(51,51,51)\", \"ticks\": \"outside\", \"title\": {\"standoff\": 15}, \"zerolinecolor\": \"white\"}}}, \"title\": {\"text\": \"Feature Importance\"}, \"xaxis\": {\"anchor\": \"y\", \"domain\": [0.0, 1.0], \"title\": {\"text\": \"Features\"}}, \"yaxis\": {\"anchor\": \"x\", \"domain\": [0.0, 1.0], \"title\": {\"text\": \"Importances\"}}},                        {\"responsive\": true}                    ).then(function(){\n",
       "                            \n",
       "var gd = document.getElementById('5ff00831-d32a-442c-a93b-d5767a306565');\n",
       "var x = new MutationObserver(function (mutations, observer) {{\n",
       "        var display = window.getComputedStyle(gd).display;\n",
       "        if (!display || display === 'none') {{\n",
       "            console.log([gd, 'removed!']);\n",
       "            Plotly.purge(gd);\n",
       "            observer.disconnect();\n",
       "        }}\n",
       "}});\n",
       "\n",
       "// Listen for the removal of the full notebook cells\n",
       "var notebookContainer = gd.closest('#notebook-container');\n",
       "if (notebookContainer) {{\n",
       "    x.observe(notebookContainer, {childList: true});\n",
       "}}\n",
       "\n",
       "// Listen for the clearing of the current output cell\n",
       "var outputEl = gd.closest('.output');\n",
       "if (outputEl) {{\n",
       "    x.observe(outputEl, {childList: true});\n",
       "}}\n",
       "\n",
       "                        })                };                });            </script>        </div>"
      ]
     },
     "metadata": {},
     "output_type": "display_data"
    }
   ],
   "source": [
    "# See which features were most important\n",
    "imps = pd.DataFrame()\n",
    "imps['Features'] = features\n",
    "imps['Importances'] = clf.feature_importances_\n",
    "imps = imps.sort_values('Importances', ascending=False)\n",
    "px.bar(imps, x='Features', y='Importances', template='ggplot2',\n",
    "       title='Feature Importance')"
   ]
  },
  {
   "cell_type": "markdown",
   "id": "published-gender",
   "metadata": {},
   "source": [
    "## Analyze Classification Effectiveness"
   ]
  },
  {
   "cell_type": "code",
   "execution_count": 372,
   "id": "destroyed-cheese",
   "metadata": {},
   "outputs": [
    {
     "data": {
      "image/png": "[encoded data removed]",
      "text/plain": [
       "<Figure size 936x936 with 2 Axes>"
      ]
     },
     "metadata": {
      "needs_background": "light"
     },
     "output_type": "display_data"
    }
   ],
   "source": [
    "# Show the confusion matrix\n",
    "fig, ax = plt.subplots(figsize=(13, 13))\n",
    "disp = plot_confusion_matrix(clf, X_test, y_test,\n",
    "                             cmap=cmap.get_cmap('viridis'),\n",
    "                             normalize='true',\n",
    "                             ax=ax)\n",
    "disp.ax_.set_title('Confusion Matrix')\n",
    "plt.xticks(rotation=45)\n",
    "matplotlib.rcParams.update({'font.size': 13})\n",
    "\n",
    "plt.show()"
   ]
  },
  {
   "cell_type": "code",
   "execution_count": 374,
   "id": "married-building",
   "metadata": {},
   "outputs": [
    {
     "name": "stdout",
     "output_type": "stream",
     "text": [
      "The average precision is: 0.9995 and recall is: 0.9995\n"
     ]
    }
   ],
   "source": [
    "cm = disp.confusion_matrix\n",
    "prec_sum = 0\n",
    "recall_sum = 0\n",
    "\n",
    "for i, label in enumerate(['neutral','positive','negative']):\n",
    "    col_sum = 0\n",
    "    row_sum = 0\n",
    "    for j, _ in enumerate(['neutral','positive','negative']):\n",
    "        col_sum += cm[i][j]\n",
    "        row_sum += cm[j][i]\n",
    "        if i == j:\n",
    "            true_val = cm[i][j]\n",
    "    if col_sum == 0:\n",
    "        col_sum = 1\n",
    "    if row_sum == 0:\n",
    "        row_sum = 1\n",
    "    prec_sum += true_val / col_sum\n",
    "    recall_sum += true_val / row_sum\n",
    "    \n",
    "precision = prec_sum / len(['neutral','positive','negative'])\n",
    "recall = recall_sum / len(['neutral','positive','negative'])\n",
    "\n",
    "print(f'The average precision is: {round(precision, 4)} and recall is: {round(recall, 4)}')"
   ]
  },
  {
   "cell_type": "markdown",
   "id": "sorted-kernel",
   "metadata": {},
   "source": [
    "# Regress to Emotion Level"
   ]
  },
  {
   "cell_type": "markdown",
   "id": "light-commissioner",
   "metadata": {},
   "source": [
    "## Separate Data for Features/Labels"
   ]
  },
  {
   "cell_type": "code",
   "execution_count": 376,
   "id": "welsh-ordinary",
   "metadata": {},
   "outputs": [],
   "source": [
    "features = ['enc_pred_emotion','emotion_confidence','rpm','distance','norm_slow','norm_fast','norm_start','norm_stop']\n",
    "\n",
    "X = data_df[features].astype(float)\n",
    "y = data_df['x_joystick']"
   ]
  },
  {
   "cell_type": "markdown",
   "id": "coastal-coral",
   "metadata": {},
   "source": [
    "## Build the Regressor"
   ]
  },
  {
   "cell_type": "code",
   "execution_count": 409,
   "id": "quick-hazard",
   "metadata": {},
   "outputs": [
    {
     "name": "stdout",
     "output_type": "stream",
     "text": [
      "0.8581332412447116\n"
     ]
    }
   ],
   "source": [
    "X_train, X_test, y_train, y_test = train_test_split(X, y, test_size=0.3)\n",
    "\n",
    "regr = RandomForestRegressor(max_depth=8)\n",
    "regr.fit(X_train, y_train)\n",
    "print(regr.score(X_test, y_test))\n",
    "\n",
    "y_hat = regr.predict(X)"
   ]
  },
  {
   "cell_type": "markdown",
   "id": "communist-tolerance",
   "metadata": {},
   "source": [
    "## Show Feature Importance"
   ]
  },
  {
   "cell_type": "code",
   "execution_count": 410,
   "id": "cosmetic-writing",
   "metadata": {},
   "outputs": [
    {
     "data": {
      "application/vnd.plotly.v1+json": {
       "config": {
        "plotlyServerURL": "https://plot.ly"
       },
       "data": [
        {
         "alignmentgroup": "True",
         "hovertemplate": "Features=%{x}<br>Importances=%{y}<extra></extra>",
         "legendgroup": "",
         "marker": {
          "color": "#F8766D"
         },
         "name": "",
         "offsetgroup": "",
         "orientation": "v",
         "showlegend": false,
         "textposition": "auto",
         "type": "bar",
         "x": [
          "emotion_confidence",
          "norm_slow",
          "rpm",
          "norm_fast",
          "enc_pred_emotion",
          "norm_stop",
          "distance",
          "norm_start"
         ],
         "xaxis": "x",
         "y": [
          0.36254849751919876,
          0.2415522859559467,
          0.11882910145483119,
          0.086848578293309,
          0.07703089853947524,
          0.041474303469707215,
          0.03688724858573512,
          0.03482908618179685
         ],
         "yaxis": "y"
        }
       ],
       "layout": {
        "barmode": "relative",
        "legend": {
         "tracegroupgap": 0
        },
        "template": {
         "data": {
          "bar": [
           {
            "error_x": {
             "color": "rgb(51,51,51)"
            },
            "error_y": {
             "color": "rgb(51,51,51)"
            },
            "marker": {
             "line": {
              "color": "rgb(237,237,237)",
              "width": 0.5
             }
            },
            "type": "bar"
           }
          ],
          "barpolar": [
           {
            "marker": {
             "line": {
              "color": "rgb(237,237,237)",
              "width": 0.5
             }
            },
            "type": "barpolar"
           }
          ],
          "carpet": [
           {
            "aaxis": {
             "endlinecolor": "rgb(51,51,51)",
             "gridcolor": "white",
             "linecolor": "white",
             "minorgridcolor": "white",
             "startlinecolor": "rgb(51,51,51)"
            },
            "baxis": {
             "endlinecolor": "rgb(51,51,51)",
             "gridcolor": "white",
             "linecolor": "white",
             "minorgridcolor": "white",
             "startlinecolor": "rgb(51,51,51)"
            },
            "type": "carpet"
           }
          ],
          "choropleth": [
           {
            "colorbar": {
             "outlinewidth": 0,
             "tickcolor": "rgb(237,237,237)",
             "ticklen": 6,
             "ticks": "inside"
            },
            "type": "choropleth"
           }
          ],
          "contour": [
           {
            "colorbar": {
             "outlinewidth": 0,
             "tickcolor": "rgb(237,237,237)",
             "ticklen": 6,
             "ticks": "inside"
            },
            "colorscale": [
             [
              0,
              "rgb(20,44,66)"
             ],
             [
              1,
              "rgb(90,179,244)"
             ]
            ],
            "type": "contour"
           }
          ],
          "contourcarpet": [
           {
            "colorbar": {
             "outlinewidth": 0,
             "tickcolor": "rgb(237,237,237)",
             "ticklen": 6,
             "ticks": "inside"
            },
            "type": "contourcarpet"
           }
          ],
          "heatmap": [
           {
            "colorbar": {
             "outlinewidth": 0,
             "tickcolor": "rgb(237,237,237)",
             "ticklen": 6,
             "ticks": "inside"
            },
            "colorscale": [
             [
              0,
              "rgb(20,44,66)"
             ],
             [
              1,
              "rgb(90,179,244)"
             ]
            ],
            "type": "heatmap"
           }
          ],
          "heatmapgl": [
           {
            "colorbar": {
             "outlinewidth": 0,
             "tickcolor": "rgb(237,237,237)",
             "ticklen": 6,
             "ticks": "inside"
            },
            "colorscale": [
             [
              0,
              "rgb(20,44,66)"
             ],
             [
              1,
              "rgb(90,179,244)"
             ]
            ],
            "type": "heatmapgl"
           }
          ],
          "histogram": [
           {
            "marker": {
             "colorbar": {
              "outlinewidth": 0,
              "tickcolor": "rgb(237,237,237)",
              "ticklen": 6,
              "ticks": "inside"
             }
            },
            "type": "histogram"
           }
          ],
          "histogram2d": [
           {
            "colorbar": {
             "outlinewidth": 0,
             "tickcolor": "rgb(237,237,237)",
             "ticklen": 6,
             "ticks": "inside"
            },
            "colorscale": [
             [
              0,
              "rgb(20,44,66)"
             ],
             [
              1,
              "rgb(90,179,244)"
             ]
            ],
            "type": "histogram2d"
           }
          ],
          "histogram2dcontour": [
           {
            "colorbar": {
             "outlinewidth": 0,
             "tickcolor": "rgb(237,237,237)",
             "ticklen": 6,
             "ticks": "inside"
            },
            "colorscale": [
             [
              0,
              "rgb(20,44,66)"
             ],
             [
              1,
              "rgb(90,179,244)"
             ]
            ],
            "type": "histogram2dcontour"
           }
          ],
          "mesh3d": [
           {
            "colorbar": {
             "outlinewidth": 0,
             "tickcolor": "rgb(237,237,237)",
             "ticklen": 6,
             "ticks": "inside"
            },
            "type": "mesh3d"
           }
          ],
          "parcoords": [
           {
            "line": {
             "colorbar": {
              "outlinewidth": 0,
              "tickcolor": "rgb(237,237,237)",
              "ticklen": 6,
              "ticks": "inside"
             }
            },
            "type": "parcoords"
           }
          ],
          "pie": [
           {
            "automargin": true,
            "type": "pie"
           }
          ],
          "scatter": [
           {
            "marker": {
             "colorbar": {
              "outlinewidth": 0,
              "tickcolor": "rgb(237,237,237)",
              "ticklen": 6,
              "ticks": "inside"
             }
            },
            "type": "scatter"
           }
          ],
          "scatter3d": [
           {
            "line": {
             "colorbar": {
              "outlinewidth": 0,
              "tickcolor": "rgb(237,237,237)",
              "ticklen": 6,
              "ticks": "inside"
             }
            },
            "marker": {
             "colorbar": {
              "outlinewidth": 0,
              "tickcolor": "rgb(237,237,237)",
              "ticklen": 6,
              "ticks": "inside"
             }
            },
            "type": "scatter3d"
           }
          ],
          "scattercarpet": [
           {
            "marker": {
             "colorbar": {
              "outlinewidth": 0,
              "tickcolor": "rgb(237,237,237)",
              "ticklen": 6,
              "ticks": "inside"
             }
            },
            "type": "scattercarpet"
           }
          ],
          "scattergeo": [
           {
            "marker": {
             "colorbar": {
              "outlinewidth": 0,
              "tickcolor": "rgb(237,237,237)",
              "ticklen": 6,
              "ticks": "inside"
             }
            },
            "type": "scattergeo"
           }
          ],
          "scattergl": [
           {
            "marker": {
             "colorbar": {
              "outlinewidth": 0,
              "tickcolor": "rgb(237,237,237)",
              "ticklen": 6,
              "ticks": "inside"
             }
            },
            "type": "scattergl"
           }
          ],
          "scattermapbox": [
           {
            "marker": {
             "colorbar": {
              "outlinewidth": 0,
              "tickcolor": "rgb(237,237,237)",
              "ticklen": 6,
              "ticks": "inside"
             }
            },
            "type": "scattermapbox"
           }
          ],
          "scatterpolar": [
           {
            "marker": {
             "colorbar": {
              "outlinewidth": 0,
              "tickcolor": "rgb(237,237,237)",
              "ticklen": 6,
              "ticks": "inside"
             }
            },
            "type": "scatterpolar"
           }
          ],
          "scatterpolargl": [
           {
            "marker": {
             "colorbar": {
              "outlinewidth": 0,
              "tickcolor": "rgb(237,237,237)",
              "ticklen": 6,
              "ticks": "inside"
             }
            },
            "type": "scatterpolargl"
           }
          ],
          "scatterternary": [
           {
            "marker": {
             "colorbar": {
              "outlinewidth": 0,
              "tickcolor": "rgb(237,237,237)",
              "ticklen": 6,
              "ticks": "inside"
             }
            },
            "type": "scatterternary"
           }
          ],
          "surface": [
           {
            "colorbar": {
             "outlinewidth": 0,
             "tickcolor": "rgb(237,237,237)",
             "ticklen": 6,
             "ticks": "inside"
            },
            "colorscale": [
             [
              0,
              "rgb(20,44,66)"
             ],
             [
              1,
              "rgb(90,179,244)"
             ]
            ],
            "type": "surface"
           }
          ],
          "table": [
           {
            "cells": {
             "fill": {
              "color": "rgb(237,237,237)"
             },
             "line": {
              "color": "white"
             }
            },
            "header": {
             "fill": {
              "color": "rgb(217,217,217)"
             },
             "line": {
              "color": "white"
             }
            },
            "type": "table"
           }
          ]
         },
         "layout": {
          "annotationdefaults": {
           "arrowhead": 0,
           "arrowwidth": 1
          },
          "autotypenumbers": "strict",
          "coloraxis": {
           "colorbar": {
            "outlinewidth": 0,
            "tickcolor": "rgb(237,237,237)",
            "ticklen": 6,
            "ticks": "inside"
           }
          },
          "colorscale": {
           "sequential": [
            [
             0,
             "rgb(20,44,66)"
            ],
            [
             1,
             "rgb(90,179,244)"
            ]
           ],
           "sequentialminus": [
            [
             0,
             "rgb(20,44,66)"
            ],
            [
             1,
             "rgb(90,179,244)"
            ]
           ]
          },
          "colorway": [
           "#F8766D",
           "#A3A500",
           "#00BF7D",
           "#00B0F6",
           "#E76BF3"
          ],
          "font": {
           "color": "rgb(51,51,51)"
          },
          "geo": {
           "bgcolor": "white",
           "lakecolor": "white",
           "landcolor": "rgb(237,237,237)",
           "showlakes": true,
           "showland": true,
           "subunitcolor": "white"
          },
          "hoverlabel": {
           "align": "left"
          },
          "hovermode": "closest",
          "paper_bgcolor": "white",
          "plot_bgcolor": "rgb(237,237,237)",
          "polar": {
           "angularaxis": {
            "gridcolor": "white",
            "linecolor": "white",
            "showgrid": true,
            "tickcolor": "rgb(51,51,51)",
            "ticks": "outside"
           },
           "bgcolor": "rgb(237,237,237)",
           "radialaxis": {
            "gridcolor": "white",
            "linecolor": "white",
            "showgrid": true,
            "tickcolor": "rgb(51,51,51)",
            "ticks": "outside"
           }
          },
          "scene": {
           "xaxis": {
            "backgroundcolor": "rgb(237,237,237)",
            "gridcolor": "white",
            "gridwidth": 2,
            "linecolor": "white",
            "showbackground": true,
            "showgrid": true,
            "tickcolor": "rgb(51,51,51)",
            "ticks": "outside",
            "zerolinecolor": "white"
           },
           "yaxis": {
            "backgroundcolor": "rgb(237,237,237)",
            "gridcolor": "white",
            "gridwidth": 2,
            "linecolor": "white",
            "showbackground": true,
            "showgrid": true,
            "tickcolor": "rgb(51,51,51)",
            "ticks": "outside",
            "zerolinecolor": "white"
           },
           "zaxis": {
            "backgroundcolor": "rgb(237,237,237)",
            "gridcolor": "white",
            "gridwidth": 2,
            "linecolor": "white",
            "showbackground": true,
            "showgrid": true,
            "tickcolor": "rgb(51,51,51)",
            "ticks": "outside",
            "zerolinecolor": "white"
           }
          },
          "shapedefaults": {
           "fillcolor": "black",
           "line": {
            "width": 0
           },
           "opacity": 0.3
          },
          "ternary": {
           "aaxis": {
            "gridcolor": "white",
            "linecolor": "white",
            "showgrid": true,
            "tickcolor": "rgb(51,51,51)",
            "ticks": "outside"
           },
           "baxis": {
            "gridcolor": "white",
            "linecolor": "white",
            "showgrid": true,
            "tickcolor": "rgb(51,51,51)",
            "ticks": "outside"
           },
           "bgcolor": "rgb(237,237,237)",
           "caxis": {
            "gridcolor": "white",
            "linecolor": "white",
            "showgrid": true,
            "tickcolor": "rgb(51,51,51)",
            "ticks": "outside"
           }
          },
          "xaxis": {
           "automargin": true,
           "gridcolor": "white",
           "linecolor": "white",
           "showgrid": true,
           "tickcolor": "rgb(51,51,51)",
           "ticks": "outside",
           "title": {
            "standoff": 15
           },
           "zerolinecolor": "white"
          },
          "yaxis": {
           "automargin": true,
           "gridcolor": "white",
           "linecolor": "white",
           "showgrid": true,
           "tickcolor": "rgb(51,51,51)",
           "ticks": "outside",
           "title": {
            "standoff": 15
           },
           "zerolinecolor": "white"
          }
         }
        },
        "title": {
         "text": "Feature Importance"
        },
        "xaxis": {
         "anchor": "y",
         "domain": [
          0,
          1
         ],
         "title": {
          "text": "Features"
         }
        },
        "yaxis": {
         "anchor": "x",
         "domain": [
          0,
          1
         ],
         "title": {
          "text": "Importances"
         }
        }
       }
      },
      "text/html": [
       "<div>                            <div id=\"43cc7eb7-e73f-4dfa-bf65-cd070dcad742\" class=\"plotly-graph-div\" style=\"height:525px; width:100%;\"></div>            <script type=\"text/javascript\">                require([\"plotly\"], function(Plotly) {                    window.PLOTLYENV=window.PLOTLYENV || {};                                    if (document.getElementById(\"43cc7eb7-e73f-4dfa-bf65-cd070dcad742\")) {                    Plotly.newPlot(                        \"43cc7eb7-e73f-4dfa-bf65-cd070dcad742\",                        [{\"alignmentgroup\": \"True\", \"hovertemplate\": \"Features=%{x}<br>Importances=%{y}<extra></extra>\", \"legendgroup\": \"\", \"marker\": {\"color\": \"#F8766D\"}, \"name\": \"\", \"offsetgroup\": \"\", \"orientation\": \"v\", \"showlegend\": false, \"textposition\": \"auto\", \"type\": \"bar\", \"x\": [\"emotion_confidence\", \"norm_slow\", \"rpm\", \"norm_fast\", \"enc_pred_emotion\", \"norm_stop\", \"distance\", \"norm_start\"], \"xaxis\": \"x\", \"y\": [0.36254849751919876, 0.2415522859559467, 0.11882910145483119, 0.086848578293309, 0.07703089853947524, 0.041474303469707215, 0.03688724858573512, 0.03482908618179685], \"yaxis\": \"y\"}],                        {\"barmode\": \"relative\", \"legend\": {\"tracegroupgap\": 0}, \"template\": {\"data\": {\"bar\": [{\"error_x\": {\"color\": \"rgb(51,51,51)\"}, \"error_y\": {\"color\": \"rgb(51,51,51)\"}, \"marker\": {\"line\": {\"color\": \"rgb(237,237,237)\", \"width\": 0.5}}, \"type\": \"bar\"}], \"barpolar\": [{\"marker\": {\"line\": {\"color\": \"rgb(237,237,237)\", \"width\": 0.5}}, \"type\": \"barpolar\"}], \"carpet\": [{\"aaxis\": {\"endlinecolor\": \"rgb(51,51,51)\", \"gridcolor\": \"white\", \"linecolor\": \"white\", \"minorgridcolor\": \"white\", \"startlinecolor\": \"rgb(51,51,51)\"}, \"baxis\": {\"endlinecolor\": \"rgb(51,51,51)\", \"gridcolor\": \"white\", \"linecolor\": \"white\", \"minorgridcolor\": \"white\", \"startlinecolor\": \"rgb(51,51,51)\"}, \"type\": \"carpet\"}], \"choropleth\": [{\"colorbar\": {\"outlinewidth\": 0, \"tickcolor\": \"rgb(237,237,237)\", \"ticklen\": 6, \"ticks\": \"inside\"}, \"type\": \"choropleth\"}], \"contour\": [{\"colorbar\": {\"outlinewidth\": 0, \"tickcolor\": \"rgb(237,237,237)\", \"ticklen\": 6, \"ticks\": \"inside\"}, \"colorscale\": [[0, \"rgb(20,44,66)\"], [1, \"rgb(90,179,244)\"]], \"type\": \"contour\"}], \"contourcarpet\": [{\"colorbar\": {\"outlinewidth\": 0, \"tickcolor\": \"rgb(237,237,237)\", \"ticklen\": 6, \"ticks\": \"inside\"}, \"type\": \"contourcarpet\"}], \"heatmap\": [{\"colorbar\": {\"outlinewidth\": 0, \"tickcolor\": \"rgb(237,237,237)\", \"ticklen\": 6, \"ticks\": \"inside\"}, \"colorscale\": [[0, \"rgb(20,44,66)\"], [1, \"rgb(90,179,244)\"]], \"type\": \"heatmap\"}], \"heatmapgl\": [{\"colorbar\": {\"outlinewidth\": 0, \"tickcolor\": \"rgb(237,237,237)\", \"ticklen\": 6, \"ticks\": \"inside\"}, \"colorscale\": [[0, \"rgb(20,44,66)\"], [1, \"rgb(90,179,244)\"]], \"type\": \"heatmapgl\"}], \"histogram\": [{\"marker\": {\"colorbar\": {\"outlinewidth\": 0, \"tickcolor\": \"rgb(237,237,237)\", \"ticklen\": 6, \"ticks\": \"inside\"}}, \"type\": \"histogram\"}], \"histogram2d\": [{\"colorbar\": {\"outlinewidth\": 0, \"tickcolor\": \"rgb(237,237,237)\", \"ticklen\": 6, \"ticks\": \"inside\"}, \"colorscale\": [[0, \"rgb(20,44,66)\"], [1, \"rgb(90,179,244)\"]], \"type\": \"histogram2d\"}], \"histogram2dcontour\": [{\"colorbar\": {\"outlinewidth\": 0, \"tickcolor\": \"rgb(237,237,237)\", \"ticklen\": 6, \"ticks\": \"inside\"}, \"colorscale\": [[0, \"rgb(20,44,66)\"], [1, \"rgb(90,179,244)\"]], \"type\": \"histogram2dcontour\"}], \"mesh3d\": [{\"colorbar\": {\"outlinewidth\": 0, \"tickcolor\": \"rgb(237,237,237)\", \"ticklen\": 6, \"ticks\": \"inside\"}, \"type\": \"mesh3d\"}], \"parcoords\": [{\"line\": {\"colorbar\": {\"outlinewidth\": 0, \"tickcolor\": \"rgb(237,237,237)\", \"ticklen\": 6, \"ticks\": \"inside\"}}, \"type\": \"parcoords\"}], \"pie\": [{\"automargin\": true, \"type\": \"pie\"}], \"scatter\": [{\"marker\": {\"colorbar\": {\"outlinewidth\": 0, \"tickcolor\": \"rgb(237,237,237)\", \"ticklen\": 6, \"ticks\": \"inside\"}}, \"type\": \"scatter\"}], \"scatter3d\": [{\"line\": {\"colorbar\": {\"outlinewidth\": 0, \"tickcolor\": \"rgb(237,237,237)\", \"ticklen\": 6, \"ticks\": \"inside\"}}, \"marker\": {\"colorbar\": {\"outlinewidth\": 0, \"tickcolor\": \"rgb(237,237,237)\", \"ticklen\": 6, \"ticks\": \"inside\"}}, \"type\": \"scatter3d\"}], \"scattercarpet\": [{\"marker\": {\"colorbar\": {\"outlinewidth\": 0, \"tickcolor\": \"rgb(237,237,237)\", \"ticklen\": 6, \"ticks\": \"inside\"}}, \"type\": \"scattercarpet\"}], \"scattergeo\": [{\"marker\": {\"colorbar\": {\"outlinewidth\": 0, \"tickcolor\": \"rgb(237,237,237)\", \"ticklen\": 6, \"ticks\": \"inside\"}}, \"type\": \"scattergeo\"}], \"scattergl\": [{\"marker\": {\"colorbar\": {\"outlinewidth\": 0, \"tickcolor\": \"rgb(237,237,237)\", \"ticklen\": 6, \"ticks\": \"inside\"}}, \"type\": \"scattergl\"}], \"scattermapbox\": [{\"marker\": {\"colorbar\": {\"outlinewidth\": 0, \"tickcolor\": \"rgb(237,237,237)\", \"ticklen\": 6, \"ticks\": \"inside\"}}, \"type\": \"scattermapbox\"}], \"scatterpolar\": [{\"marker\": {\"colorbar\": {\"outlinewidth\": 0, \"tickcolor\": \"rgb(237,237,237)\", \"ticklen\": 6, \"ticks\": \"inside\"}}, \"type\": \"scatterpolar\"}], \"scatterpolargl\": [{\"marker\": {\"colorbar\": {\"outlinewidth\": 0, \"tickcolor\": \"rgb(237,237,237)\", \"ticklen\": 6, \"ticks\": \"inside\"}}, \"type\": \"scatterpolargl\"}], \"scatterternary\": [{\"marker\": {\"colorbar\": {\"outlinewidth\": 0, \"tickcolor\": \"rgb(237,237,237)\", \"ticklen\": 6, \"ticks\": \"inside\"}}, \"type\": \"scatterternary\"}], \"surface\": [{\"colorbar\": {\"outlinewidth\": 0, \"tickcolor\": \"rgb(237,237,237)\", \"ticklen\": 6, \"ticks\": \"inside\"}, \"colorscale\": [[0, \"rgb(20,44,66)\"], [1, \"rgb(90,179,244)\"]], \"type\": \"surface\"}], \"table\": [{\"cells\": {\"fill\": {\"color\": \"rgb(237,237,237)\"}, \"line\": {\"color\": \"white\"}}, \"header\": {\"fill\": {\"color\": \"rgb(217,217,217)\"}, \"line\": {\"color\": \"white\"}}, \"type\": \"table\"}]}, \"layout\": {\"annotationdefaults\": {\"arrowhead\": 0, \"arrowwidth\": 1}, \"autotypenumbers\": \"strict\", \"coloraxis\": {\"colorbar\": {\"outlinewidth\": 0, \"tickcolor\": \"rgb(237,237,237)\", \"ticklen\": 6, \"ticks\": \"inside\"}}, \"colorscale\": {\"sequential\": [[0, \"rgb(20,44,66)\"], [1, \"rgb(90,179,244)\"]], \"sequentialminus\": [[0, \"rgb(20,44,66)\"], [1, \"rgb(90,179,244)\"]]}, \"colorway\": [\"#F8766D\", \"#A3A500\", \"#00BF7D\", \"#00B0F6\", \"#E76BF3\"], \"font\": {\"color\": \"rgb(51,51,51)\"}, \"geo\": {\"bgcolor\": \"white\", \"lakecolor\": \"white\", \"landcolor\": \"rgb(237,237,237)\", \"showlakes\": true, \"showland\": true, \"subunitcolor\": \"white\"}, \"hoverlabel\": {\"align\": \"left\"}, \"hovermode\": \"closest\", \"paper_bgcolor\": \"white\", \"plot_bgcolor\": \"rgb(237,237,237)\", \"polar\": {\"angularaxis\": {\"gridcolor\": \"white\", \"linecolor\": \"white\", \"showgrid\": true, \"tickcolor\": \"rgb(51,51,51)\", \"ticks\": \"outside\"}, \"bgcolor\": \"rgb(237,237,237)\", \"radialaxis\": {\"gridcolor\": \"white\", \"linecolor\": \"white\", \"showgrid\": true, \"tickcolor\": \"rgb(51,51,51)\", \"ticks\": \"outside\"}}, \"scene\": {\"xaxis\": {\"backgroundcolor\": \"rgb(237,237,237)\", \"gridcolor\": \"white\", \"gridwidth\": 2, \"linecolor\": \"white\", \"showbackground\": true, \"showgrid\": true, \"tickcolor\": \"rgb(51,51,51)\", \"ticks\": \"outside\", \"zerolinecolor\": \"white\"}, \"yaxis\": {\"backgroundcolor\": \"rgb(237,237,237)\", \"gridcolor\": \"white\", \"gridwidth\": 2, \"linecolor\": \"white\", \"showbackground\": true, \"showgrid\": true, \"tickcolor\": \"rgb(51,51,51)\", \"ticks\": \"outside\", \"zerolinecolor\": \"white\"}, \"zaxis\": {\"backgroundcolor\": \"rgb(237,237,237)\", \"gridcolor\": \"white\", \"gridwidth\": 2, \"linecolor\": \"white\", \"showbackground\": true, \"showgrid\": true, \"tickcolor\": \"rgb(51,51,51)\", \"ticks\": \"outside\", \"zerolinecolor\": \"white\"}}, \"shapedefaults\": {\"fillcolor\": \"black\", \"line\": {\"width\": 0}, \"opacity\": 0.3}, \"ternary\": {\"aaxis\": {\"gridcolor\": \"white\", \"linecolor\": \"white\", \"showgrid\": true, \"tickcolor\": \"rgb(51,51,51)\", \"ticks\": \"outside\"}, \"baxis\": {\"gridcolor\": \"white\", \"linecolor\": \"white\", \"showgrid\": true, \"tickcolor\": \"rgb(51,51,51)\", \"ticks\": \"outside\"}, \"bgcolor\": \"rgb(237,237,237)\", \"caxis\": {\"gridcolor\": \"white\", \"linecolor\": \"white\", \"showgrid\": true, \"tickcolor\": \"rgb(51,51,51)\", \"ticks\": \"outside\"}}, \"xaxis\": {\"automargin\": true, \"gridcolor\": \"white\", \"linecolor\": \"white\", \"showgrid\": true, \"tickcolor\": \"rgb(51,51,51)\", \"ticks\": \"outside\", \"title\": {\"standoff\": 15}, \"zerolinecolor\": \"white\"}, \"yaxis\": {\"automargin\": true, \"gridcolor\": \"white\", \"linecolor\": \"white\", \"showgrid\": true, \"tickcolor\": \"rgb(51,51,51)\", \"ticks\": \"outside\", \"title\": {\"standoff\": 15}, \"zerolinecolor\": \"white\"}}}, \"title\": {\"text\": \"Feature Importance\"}, \"xaxis\": {\"anchor\": \"y\", \"domain\": [0.0, 1.0], \"title\": {\"text\": \"Features\"}}, \"yaxis\": {\"anchor\": \"x\", \"domain\": [0.0, 1.0], \"title\": {\"text\": \"Importances\"}}},                        {\"responsive\": true}                    ).then(function(){\n",
       "                            \n",
       "var gd = document.getElementById('43cc7eb7-e73f-4dfa-bf65-cd070dcad742');\n",
       "var x = new MutationObserver(function (mutations, observer) {{\n",
       "        var display = window.getComputedStyle(gd).display;\n",
       "        if (!display || display === 'none') {{\n",
       "            console.log([gd, 'removed!']);\n",
       "            Plotly.purge(gd);\n",
       "            observer.disconnect();\n",
       "        }}\n",
       "}});\n",
       "\n",
       "// Listen for the removal of the full notebook cells\n",
       "var notebookContainer = gd.closest('#notebook-container');\n",
       "if (notebookContainer) {{\n",
       "    x.observe(notebookContainer, {childList: true});\n",
       "}}\n",
       "\n",
       "// Listen for the clearing of the current output cell\n",
       "var outputEl = gd.closest('.output');\n",
       "if (outputEl) {{\n",
       "    x.observe(outputEl, {childList: true});\n",
       "}}\n",
       "\n",
       "                        })                };                });            </script>        </div>"
      ]
     },
     "metadata": {},
     "output_type": "display_data"
    }
   ],
   "source": [
    "# See which features were most important\n",
    "imps = pd.DataFrame()\n",
    "imps['Features'] = features\n",
    "imps['Importances'] = clf.feature_importances_\n",
    "imps = imps.sort_values('Importances', ascending=False)\n",
    "px.bar(imps, x='Features', y='Importances', template='ggplot2',\n",
    "       title='Feature Importance')"
   ]
  },
  {
   "cell_type": "markdown",
   "id": "behind-sphere",
   "metadata": {},
   "source": [
    "## Analyze Regressor Effectiveness"
   ]
  },
  {
   "cell_type": "code",
   "execution_count": 411,
   "id": "earlier-spectrum",
   "metadata": {},
   "outputs": [
    {
     "name": "stderr",
     "output_type": "stream",
     "text": [
      "/Users/sam/Documents/CornellTech/Classes/Spring2021/UbiComp/ubienv/lib/python3.7/site-packages/ipykernel_launcher.py:10: SettingWithCopyWarning:\n",
      "\n",
      "\n",
      "A value is trying to be set on a copy of a slice from a DataFrame.\n",
      "Try using .loc[row_indexer,col_indexer] = value instead\n",
      "\n",
      "See the caveats in the documentation: https://pandas.pydata.org/pandas-docs/stable/user_guide/indexing.html#returning-a-view-versus-a-copy\n",
      "\n",
      "/Users/sam/Documents/CornellTech/Classes/Spring2021/UbiComp/ubienv/lib/python3.7/site-packages/ipykernel_launcher.py:10: SettingWithCopyWarning:\n",
      "\n",
      "\n",
      "A value is trying to be set on a copy of a slice from a DataFrame.\n",
      "Try using .loc[row_indexer,col_indexer] = value instead\n",
      "\n",
      "See the caveats in the documentation: https://pandas.pydata.org/pandas-docs/stable/user_guide/indexing.html#returning-a-view-versus-a-copy\n",
      "\n",
      "/Users/sam/Documents/CornellTech/Classes/Spring2021/UbiComp/ubienv/lib/python3.7/site-packages/ipykernel_launcher.py:10: SettingWithCopyWarning:\n",
      "\n",
      "\n",
      "A value is trying to be set on a copy of a slice from a DataFrame.\n",
      "Try using .loc[row_indexer,col_indexer] = value instead\n",
      "\n",
      "See the caveats in the documentation: https://pandas.pydata.org/pandas-docs/stable/user_guide/indexing.html#returning-a-view-versus-a-copy\n",
      "\n"
     ]
    },
    {
     "data": {
      "application/vnd.plotly.v1+json": {
       "config": {
        "plotlyServerURL": "https://plot.ly"
       },
       "data": [
        {
         "type": "bar",
         "x": [
          -1,
          -0.75,
          -0.5,
          -0.25,
          0,
          0.25,
          0.5,
          0.75,
          1
         ],
         "xaxis": "x",
         "y": [
          0,
          0,
          1,
          1,
          3264,
          24,
          26,
          26,
          127
         ],
         "yaxis": "y"
        },
        {
         "type": "bar",
         "x": [
          -1,
          -0.75,
          -0.5,
          -0.25,
          0,
          0.25,
          0.5,
          0.75,
          1
         ],
         "xaxis": "x2",
         "y": [
          0,
          6,
          1,
          3,
          3772,
          136,
          65,
          91,
          903
         ],
         "yaxis": "y2"
        },
        {
         "type": "bar",
         "x": [
          -1,
          -0.75,
          -0.5,
          -0.25,
          0,
          0.25,
          0.5,
          0.75,
          1
         ],
         "xaxis": "x3",
         "y": [
          154,
          21,
          18,
          24,
          889,
          14,
          10,
          7,
          166
         ],
         "yaxis": "y3"
        }
       ],
       "layout": {
        "annotations": [
         {
          "font": {
           "size": 16
          },
          "showarrow": false,
          "text": "Neutral",
          "x": 0.14444444444444446,
          "xanchor": "center",
          "xref": "paper",
          "y": 1,
          "yanchor": "bottom",
          "yref": "paper"
         },
         {
          "font": {
           "size": 16
          },
          "showarrow": false,
          "text": "Positive",
          "x": 0.5,
          "xanchor": "center",
          "xref": "paper",
          "y": 1,
          "yanchor": "bottom",
          "yref": "paper"
         },
         {
          "font": {
           "size": 16
          },
          "showarrow": false,
          "text": "Negative",
          "x": 0.8555555555555556,
          "xanchor": "center",
          "xref": "paper",
          "y": 1,
          "yanchor": "bottom",
          "yref": "paper"
         }
        ],
        "showlegend": false,
        "template": {
         "data": {
          "bar": [
           {
            "error_x": {
             "color": "#2a3f5f"
            },
            "error_y": {
             "color": "#2a3f5f"
            },
            "marker": {
             "line": {
              "color": "#E5ECF6",
              "width": 0.5
             }
            },
            "type": "bar"
           }
          ],
          "barpolar": [
           {
            "marker": {
             "line": {
              "color": "#E5ECF6",
              "width": 0.5
             }
            },
            "type": "barpolar"
           }
          ],
          "carpet": [
           {
            "aaxis": {
             "endlinecolor": "#2a3f5f",
             "gridcolor": "white",
             "linecolor": "white",
             "minorgridcolor": "white",
             "startlinecolor": "#2a3f5f"
            },
            "baxis": {
             "endlinecolor": "#2a3f5f",
             "gridcolor": "white",
             "linecolor": "white",
             "minorgridcolor": "white",
             "startlinecolor": "#2a3f5f"
            },
            "type": "carpet"
           }
          ],
          "choropleth": [
           {
            "colorbar": {
             "outlinewidth": 0,
             "ticks": ""
            },
            "type": "choropleth"
           }
          ],
          "contour": [
           {
            "colorbar": {
             "outlinewidth": 0,
             "ticks": ""
            },
            "colorscale": [
             [
              0,
              "#0d0887"
             ],
             [
              0.1111111111111111,
              "#46039f"
             ],
             [
              0.2222222222222222,
              "#7201a8"
             ],
             [
              0.3333333333333333,
              "#9c179e"
             ],
             [
              0.4444444444444444,
              "#bd3786"
             ],
             [
              0.5555555555555556,
              "#d8576b"
             ],
             [
              0.6666666666666666,
              "#ed7953"
             ],
             [
              0.7777777777777778,
              "#fb9f3a"
             ],
             [
              0.8888888888888888,
              "#fdca26"
             ],
             [
              1,
              "#f0f921"
             ]
            ],
            "type": "contour"
           }
          ],
          "contourcarpet": [
           {
            "colorbar": {
             "outlinewidth": 0,
             "ticks": ""
            },
            "type": "contourcarpet"
           }
          ],
          "heatmap": [
           {
            "colorbar": {
             "outlinewidth": 0,
             "ticks": ""
            },
            "colorscale": [
             [
              0,
              "#0d0887"
             ],
             [
              0.1111111111111111,
              "#46039f"
             ],
             [
              0.2222222222222222,
              "#7201a8"
             ],
             [
              0.3333333333333333,
              "#9c179e"
             ],
             [
              0.4444444444444444,
              "#bd3786"
             ],
             [
              0.5555555555555556,
              "#d8576b"
             ],
             [
              0.6666666666666666,
              "#ed7953"
             ],
             [
              0.7777777777777778,
              "#fb9f3a"
             ],
             [
              0.8888888888888888,
              "#fdca26"
             ],
             [
              1,
              "#f0f921"
             ]
            ],
            "type": "heatmap"
           }
          ],
          "heatmapgl": [
           {
            "colorbar": {
             "outlinewidth": 0,
             "ticks": ""
            },
            "colorscale": [
             [
              0,
              "#0d0887"
             ],
             [
              0.1111111111111111,
              "#46039f"
             ],
             [
              0.2222222222222222,
              "#7201a8"
             ],
             [
              0.3333333333333333,
              "#9c179e"
             ],
             [
              0.4444444444444444,
              "#bd3786"
             ],
             [
              0.5555555555555556,
              "#d8576b"
             ],
             [
              0.6666666666666666,
              "#ed7953"
             ],
             [
              0.7777777777777778,
              "#fb9f3a"
             ],
             [
              0.8888888888888888,
              "#fdca26"
             ],
             [
              1,
              "#f0f921"
             ]
            ],
            "type": "heatmapgl"
           }
          ],
          "histogram": [
           {
            "marker": {
             "colorbar": {
              "outlinewidth": 0,
              "ticks": ""
             }
            },
            "type": "histogram"
           }
          ],
          "histogram2d": [
           {
            "colorbar": {
             "outlinewidth": 0,
             "ticks": ""
            },
            "colorscale": [
             [
              0,
              "#0d0887"
             ],
             [
              0.1111111111111111,
              "#46039f"
             ],
             [
              0.2222222222222222,
              "#7201a8"
             ],
             [
              0.3333333333333333,
              "#9c179e"
             ],
             [
              0.4444444444444444,
              "#bd3786"
             ],
             [
              0.5555555555555556,
              "#d8576b"
             ],
             [
              0.6666666666666666,
              "#ed7953"
             ],
             [
              0.7777777777777778,
              "#fb9f3a"
             ],
             [
              0.8888888888888888,
              "#fdca26"
             ],
             [
              1,
              "#f0f921"
             ]
            ],
            "type": "histogram2d"
           }
          ],
          "histogram2dcontour": [
           {
            "colorbar": {
             "outlinewidth": 0,
             "ticks": ""
            },
            "colorscale": [
             [
              0,
              "#0d0887"
             ],
             [
              0.1111111111111111,
              "#46039f"
             ],
             [
              0.2222222222222222,
              "#7201a8"
             ],
             [
              0.3333333333333333,
              "#9c179e"
             ],
             [
              0.4444444444444444,
              "#bd3786"
             ],
             [
              0.5555555555555556,
              "#d8576b"
             ],
             [
              0.6666666666666666,
              "#ed7953"
             ],
             [
              0.7777777777777778,
              "#fb9f3a"
             ],
             [
              0.8888888888888888,
              "#fdca26"
             ],
             [
              1,
              "#f0f921"
             ]
            ],
            "type": "histogram2dcontour"
           }
          ],
          "mesh3d": [
           {
            "colorbar": {
             "outlinewidth": 0,
             "ticks": ""
            },
            "type": "mesh3d"
           }
          ],
          "parcoords": [
           {
            "line": {
             "colorbar": {
              "outlinewidth": 0,
              "ticks": ""
             }
            },
            "type": "parcoords"
           }
          ],
          "pie": [
           {
            "automargin": true,
            "type": "pie"
           }
          ],
          "scatter": [
           {
            "marker": {
             "colorbar": {
              "outlinewidth": 0,
              "ticks": ""
             }
            },
            "type": "scatter"
           }
          ],
          "scatter3d": [
           {
            "line": {
             "colorbar": {
              "outlinewidth": 0,
              "ticks": ""
             }
            },
            "marker": {
             "colorbar": {
              "outlinewidth": 0,
              "ticks": ""
             }
            },
            "type": "scatter3d"
           }
          ],
          "scattercarpet": [
           {
            "marker": {
             "colorbar": {
              "outlinewidth": 0,
              "ticks": ""
             }
            },
            "type": "scattercarpet"
           }
          ],
          "scattergeo": [
           {
            "marker": {
             "colorbar": {
              "outlinewidth": 0,
              "ticks": ""
             }
            },
            "type": "scattergeo"
           }
          ],
          "scattergl": [
           {
            "marker": {
             "colorbar": {
              "outlinewidth": 0,
              "ticks": ""
             }
            },
            "type": "scattergl"
           }
          ],
          "scattermapbox": [
           {
            "marker": {
             "colorbar": {
              "outlinewidth": 0,
              "ticks": ""
             }
            },
            "type": "scattermapbox"
           }
          ],
          "scatterpolar": [
           {
            "marker": {
             "colorbar": {
              "outlinewidth": 0,
              "ticks": ""
             }
            },
            "type": "scatterpolar"
           }
          ],
          "scatterpolargl": [
           {
            "marker": {
             "colorbar": {
              "outlinewidth": 0,
              "ticks": ""
             }
            },
            "type": "scatterpolargl"
           }
          ],
          "scatterternary": [
           {
            "marker": {
             "colorbar": {
              "outlinewidth": 0,
              "ticks": ""
             }
            },
            "type": "scatterternary"
           }
          ],
          "surface": [
           {
            "colorbar": {
             "outlinewidth": 0,
             "ticks": ""
            },
            "colorscale": [
             [
              0,
              "#0d0887"
             ],
             [
              0.1111111111111111,
              "#46039f"
             ],
             [
              0.2222222222222222,
              "#7201a8"
             ],
             [
              0.3333333333333333,
              "#9c179e"
             ],
             [
              0.4444444444444444,
              "#bd3786"
             ],
             [
              0.5555555555555556,
              "#d8576b"
             ],
             [
              0.6666666666666666,
              "#ed7953"
             ],
             [
              0.7777777777777778,
              "#fb9f3a"
             ],
             [
              0.8888888888888888,
              "#fdca26"
             ],
             [
              1,
              "#f0f921"
             ]
            ],
            "type": "surface"
           }
          ],
          "table": [
           {
            "cells": {
             "fill": {
              "color": "#EBF0F8"
             },
             "line": {
              "color": "white"
             }
            },
            "header": {
             "fill": {
              "color": "#C8D4E3"
             },
             "line": {
              "color": "white"
             }
            },
            "type": "table"
           }
          ]
         },
         "layout": {
          "annotationdefaults": {
           "arrowcolor": "#2a3f5f",
           "arrowhead": 0,
           "arrowwidth": 1
          },
          "autotypenumbers": "strict",
          "coloraxis": {
           "colorbar": {
            "outlinewidth": 0,
            "ticks": ""
           }
          },
          "colorscale": {
           "diverging": [
            [
             0,
             "#8e0152"
            ],
            [
             0.1,
             "#c51b7d"
            ],
            [
             0.2,
             "#de77ae"
            ],
            [
             0.3,
             "#f1b6da"
            ],
            [
             0.4,
             "#fde0ef"
            ],
            [
             0.5,
             "#f7f7f7"
            ],
            [
             0.6,
             "#e6f5d0"
            ],
            [
             0.7,
             "#b8e186"
            ],
            [
             0.8,
             "#7fbc41"
            ],
            [
             0.9,
             "#4d9221"
            ],
            [
             1,
             "#276419"
            ]
           ],
           "sequential": [
            [
             0,
             "#0d0887"
            ],
            [
             0.1111111111111111,
             "#46039f"
            ],
            [
             0.2222222222222222,
             "#7201a8"
            ],
            [
             0.3333333333333333,
             "#9c179e"
            ],
            [
             0.4444444444444444,
             "#bd3786"
            ],
            [
             0.5555555555555556,
             "#d8576b"
            ],
            [
             0.6666666666666666,
             "#ed7953"
            ],
            [
             0.7777777777777778,
             "#fb9f3a"
            ],
            [
             0.8888888888888888,
             "#fdca26"
            ],
            [
             1,
             "#f0f921"
            ]
           ],
           "sequentialminus": [
            [
             0,
             "#0d0887"
            ],
            [
             0.1111111111111111,
             "#46039f"
            ],
            [
             0.2222222222222222,
             "#7201a8"
            ],
            [
             0.3333333333333333,
             "#9c179e"
            ],
            [
             0.4444444444444444,
             "#bd3786"
            ],
            [
             0.5555555555555556,
             "#d8576b"
            ],
            [
             0.6666666666666666,
             "#ed7953"
            ],
            [
             0.7777777777777778,
             "#fb9f3a"
            ],
            [
             0.8888888888888888,
             "#fdca26"
            ],
            [
             1,
             "#f0f921"
            ]
           ]
          },
          "colorway": [
           "#636efa",
           "#EF553B",
           "#00cc96",
           "#ab63fa",
           "#FFA15A",
           "#19d3f3",
           "#FF6692",
           "#B6E880",
           "#FF97FF",
           "#FECB52"
          ],
          "font": {
           "color": "#2a3f5f"
          },
          "geo": {
           "bgcolor": "white",
           "lakecolor": "white",
           "landcolor": "#E5ECF6",
           "showlakes": true,
           "showland": true,
           "subunitcolor": "white"
          },
          "hoverlabel": {
           "align": "left"
          },
          "hovermode": "closest",
          "mapbox": {
           "style": "light"
          },
          "paper_bgcolor": "white",
          "plot_bgcolor": "#E5ECF6",
          "polar": {
           "angularaxis": {
            "gridcolor": "white",
            "linecolor": "white",
            "ticks": ""
           },
           "bgcolor": "#E5ECF6",
           "radialaxis": {
            "gridcolor": "white",
            "linecolor": "white",
            "ticks": ""
           }
          },
          "scene": {
           "xaxis": {
            "backgroundcolor": "#E5ECF6",
            "gridcolor": "white",
            "gridwidth": 2,
            "linecolor": "white",
            "showbackground": true,
            "ticks": "",
            "zerolinecolor": "white"
           },
           "yaxis": {
            "backgroundcolor": "#E5ECF6",
            "gridcolor": "white",
            "gridwidth": 2,
            "linecolor": "white",
            "showbackground": true,
            "ticks": "",
            "zerolinecolor": "white"
           },
           "zaxis": {
            "backgroundcolor": "#E5ECF6",
            "gridcolor": "white",
            "gridwidth": 2,
            "linecolor": "white",
            "showbackground": true,
            "ticks": "",
            "zerolinecolor": "white"
           }
          },
          "shapedefaults": {
           "line": {
            "color": "#2a3f5f"
           }
          },
          "ternary": {
           "aaxis": {
            "gridcolor": "white",
            "linecolor": "white",
            "ticks": ""
           },
           "baxis": {
            "gridcolor": "white",
            "linecolor": "white",
            "ticks": ""
           },
           "bgcolor": "#E5ECF6",
           "caxis": {
            "gridcolor": "white",
            "linecolor": "white",
            "ticks": ""
           }
          },
          "title": {
           "x": 0.05
          },
          "xaxis": {
           "automargin": true,
           "gridcolor": "white",
           "linecolor": "white",
           "ticks": "",
           "title": {
            "standoff": 15
           },
           "zerolinecolor": "white",
           "zerolinewidth": 2
          },
          "yaxis": {
           "automargin": true,
           "gridcolor": "white",
           "linecolor": "white",
           "ticks": "",
           "title": {
            "standoff": 15
           },
           "zerolinecolor": "white",
           "zerolinewidth": 2
          }
         }
        },
        "title": {
         "text": "Predicted Emotion Level by Video Type"
        },
        "xaxis": {
         "anchor": "y",
         "domain": [
          0,
          0.2888888888888889
         ]
        },
        "xaxis2": {
         "anchor": "y2",
         "domain": [
          0.35555555555555557,
          0.6444444444444445
         ],
         "title": {
          "text": "Negative to Positive Predicted Emotions"
         }
        },
        "xaxis3": {
         "anchor": "y3",
         "domain": [
          0.7111111111111111,
          1
         ]
        },
        "yaxis": {
         "anchor": "x",
         "domain": [
          0,
          1
         ],
         "title": {
          "text": "Count"
         }
        },
        "yaxis2": {
         "anchor": "x2",
         "domain": [
          0,
          1
         ]
        },
        "yaxis3": {
         "anchor": "x3",
         "domain": [
          0,
          1
         ]
        }
       }
      },
      "text/html": [
       "<div>                            <div id=\"bef3c66f-a6fc-4462-84a2-c4199149bc17\" class=\"plotly-graph-div\" style=\"height:525px; width:100%;\"></div>            <script type=\"text/javascript\">                require([\"plotly\"], function(Plotly) {                    window.PLOTLYENV=window.PLOTLYENV || {};                                    if (document.getElementById(\"bef3c66f-a6fc-4462-84a2-c4199149bc17\")) {                    Plotly.newPlot(                        \"bef3c66f-a6fc-4462-84a2-c4199149bc17\",                        [{\"type\": \"bar\", \"x\": [-1.0, -0.75, -0.5, -0.25, 0.0, 0.25, 0.5, 0.75, 1.0], \"xaxis\": \"x\", \"y\": [0, 0, 1, 1, 3264, 24, 26, 26, 127], \"yaxis\": \"y\"}, {\"type\": \"bar\", \"x\": [-1.0, -0.75, -0.5, -0.25, 0.0, 0.25, 0.5, 0.75, 1.0], \"xaxis\": \"x2\", \"y\": [0, 6, 1, 3, 3772, 136, 65, 91, 903], \"yaxis\": \"y2\"}, {\"type\": \"bar\", \"x\": [-1.0, -0.75, -0.5, -0.25, 0.0, 0.25, 0.5, 0.75, 1.0], \"xaxis\": \"x3\", \"y\": [154, 21, 18, 24, 889, 14, 10, 7, 166], \"yaxis\": \"y3\"}],                        {\"annotations\": [{\"font\": {\"size\": 16}, \"showarrow\": false, \"text\": \"Neutral\", \"x\": 0.14444444444444446, \"xanchor\": \"center\", \"xref\": \"paper\", \"y\": 1.0, \"yanchor\": \"bottom\", \"yref\": \"paper\"}, {\"font\": {\"size\": 16}, \"showarrow\": false, \"text\": \"Positive\", \"x\": 0.5, \"xanchor\": \"center\", \"xref\": \"paper\", \"y\": 1.0, \"yanchor\": \"bottom\", \"yref\": \"paper\"}, {\"font\": {\"size\": 16}, \"showarrow\": false, \"text\": \"Negative\", \"x\": 0.8555555555555556, \"xanchor\": \"center\", \"xref\": \"paper\", \"y\": 1.0, \"yanchor\": \"bottom\", \"yref\": \"paper\"}], \"showlegend\": false, \"template\": {\"data\": {\"bar\": [{\"error_x\": {\"color\": \"#2a3f5f\"}, \"error_y\": {\"color\": \"#2a3f5f\"}, \"marker\": {\"line\": {\"color\": \"#E5ECF6\", \"width\": 0.5}}, \"type\": \"bar\"}], \"barpolar\": [{\"marker\": {\"line\": {\"color\": \"#E5ECF6\", \"width\": 0.5}}, \"type\": \"barpolar\"}], \"carpet\": [{\"aaxis\": {\"endlinecolor\": \"#2a3f5f\", \"gridcolor\": \"white\", \"linecolor\": \"white\", \"minorgridcolor\": \"white\", \"startlinecolor\": \"#2a3f5f\"}, \"baxis\": {\"endlinecolor\": \"#2a3f5f\", \"gridcolor\": \"white\", \"linecolor\": \"white\", \"minorgridcolor\": \"white\", \"startlinecolor\": \"#2a3f5f\"}, \"type\": \"carpet\"}], \"choropleth\": [{\"colorbar\": {\"outlinewidth\": 0, \"ticks\": \"\"}, \"type\": \"choropleth\"}], \"contour\": [{\"colorbar\": {\"outlinewidth\": 0, \"ticks\": \"\"}, \"colorscale\": [[0.0, \"#0d0887\"], [0.1111111111111111, \"#46039f\"], [0.2222222222222222, \"#7201a8\"], [0.3333333333333333, \"#9c179e\"], [0.4444444444444444, \"#bd3786\"], [0.5555555555555556, \"#d8576b\"], [0.6666666666666666, \"#ed7953\"], [0.7777777777777778, \"#fb9f3a\"], [0.8888888888888888, \"#fdca26\"], [1.0, \"#f0f921\"]], \"type\": \"contour\"}], \"contourcarpet\": [{\"colorbar\": {\"outlinewidth\": 0, \"ticks\": \"\"}, \"type\": \"contourcarpet\"}], \"heatmap\": [{\"colorbar\": {\"outlinewidth\": 0, \"ticks\": \"\"}, \"colorscale\": [[0.0, \"#0d0887\"], [0.1111111111111111, \"#46039f\"], [0.2222222222222222, \"#7201a8\"], [0.3333333333333333, \"#9c179e\"], [0.4444444444444444, \"#bd3786\"], [0.5555555555555556, \"#d8576b\"], [0.6666666666666666, \"#ed7953\"], [0.7777777777777778, \"#fb9f3a\"], [0.8888888888888888, \"#fdca26\"], [1.0, \"#f0f921\"]], \"type\": \"heatmap\"}], \"heatmapgl\": [{\"colorbar\": {\"outlinewidth\": 0, \"ticks\": \"\"}, \"colorscale\": [[0.0, \"#0d0887\"], [0.1111111111111111, \"#46039f\"], [0.2222222222222222, \"#7201a8\"], [0.3333333333333333, \"#9c179e\"], [0.4444444444444444, \"#bd3786\"], [0.5555555555555556, \"#d8576b\"], [0.6666666666666666, \"#ed7953\"], [0.7777777777777778, \"#fb9f3a\"], [0.8888888888888888, \"#fdca26\"], [1.0, \"#f0f921\"]], \"type\": \"heatmapgl\"}], \"histogram\": [{\"marker\": {\"colorbar\": {\"outlinewidth\": 0, \"ticks\": \"\"}}, \"type\": \"histogram\"}], \"histogram2d\": [{\"colorbar\": {\"outlinewidth\": 0, \"ticks\": \"\"}, \"colorscale\": [[0.0, \"#0d0887\"], [0.1111111111111111, \"#46039f\"], [0.2222222222222222, \"#7201a8\"], [0.3333333333333333, \"#9c179e\"], [0.4444444444444444, \"#bd3786\"], [0.5555555555555556, \"#d8576b\"], [0.6666666666666666, \"#ed7953\"], [0.7777777777777778, \"#fb9f3a\"], [0.8888888888888888, \"#fdca26\"], [1.0, \"#f0f921\"]], \"type\": \"histogram2d\"}], \"histogram2dcontour\": [{\"colorbar\": {\"outlinewidth\": 0, \"ticks\": \"\"}, \"colorscale\": [[0.0, \"#0d0887\"], [0.1111111111111111, \"#46039f\"], [0.2222222222222222, \"#7201a8\"], [0.3333333333333333, \"#9c179e\"], [0.4444444444444444, \"#bd3786\"], [0.5555555555555556, \"#d8576b\"], [0.6666666666666666, \"#ed7953\"], [0.7777777777777778, \"#fb9f3a\"], [0.8888888888888888, \"#fdca26\"], [1.0, \"#f0f921\"]], \"type\": \"histogram2dcontour\"}], \"mesh3d\": [{\"colorbar\": {\"outlinewidth\": 0, \"ticks\": \"\"}, \"type\": \"mesh3d\"}], \"parcoords\": [{\"line\": {\"colorbar\": {\"outlinewidth\": 0, \"ticks\": \"\"}}, \"type\": \"parcoords\"}], \"pie\": [{\"automargin\": true, \"type\": \"pie\"}], \"scatter\": [{\"marker\": {\"colorbar\": {\"outlinewidth\": 0, \"ticks\": \"\"}}, \"type\": \"scatter\"}], \"scatter3d\": [{\"line\": {\"colorbar\": {\"outlinewidth\": 0, \"ticks\": \"\"}}, \"marker\": {\"colorbar\": {\"outlinewidth\": 0, \"ticks\": \"\"}}, \"type\": \"scatter3d\"}], \"scattercarpet\": [{\"marker\": {\"colorbar\": {\"outlinewidth\": 0, \"ticks\": \"\"}}, \"type\": \"scattercarpet\"}], \"scattergeo\": [{\"marker\": {\"colorbar\": {\"outlinewidth\": 0, \"ticks\": \"\"}}, \"type\": \"scattergeo\"}], \"scattergl\": [{\"marker\": {\"colorbar\": {\"outlinewidth\": 0, \"ticks\": \"\"}}, \"type\": \"scattergl\"}], \"scattermapbox\": [{\"marker\": {\"colorbar\": {\"outlinewidth\": 0, \"ticks\": \"\"}}, \"type\": \"scattermapbox\"}], \"scatterpolar\": [{\"marker\": {\"colorbar\": {\"outlinewidth\": 0, \"ticks\": \"\"}}, \"type\": \"scatterpolar\"}], \"scatterpolargl\": [{\"marker\": {\"colorbar\": {\"outlinewidth\": 0, \"ticks\": \"\"}}, \"type\": \"scatterpolargl\"}], \"scatterternary\": [{\"marker\": {\"colorbar\": {\"outlinewidth\": 0, \"ticks\": \"\"}}, \"type\": \"scatterternary\"}], \"surface\": [{\"colorbar\": {\"outlinewidth\": 0, \"ticks\": \"\"}, \"colorscale\": [[0.0, \"#0d0887\"], [0.1111111111111111, \"#46039f\"], [0.2222222222222222, \"#7201a8\"], [0.3333333333333333, \"#9c179e\"], [0.4444444444444444, \"#bd3786\"], [0.5555555555555556, \"#d8576b\"], [0.6666666666666666, \"#ed7953\"], [0.7777777777777778, \"#fb9f3a\"], [0.8888888888888888, \"#fdca26\"], [1.0, \"#f0f921\"]], \"type\": \"surface\"}], \"table\": [{\"cells\": {\"fill\": {\"color\": \"#EBF0F8\"}, \"line\": {\"color\": \"white\"}}, \"header\": {\"fill\": {\"color\": \"#C8D4E3\"}, \"line\": {\"color\": \"white\"}}, \"type\": \"table\"}]}, \"layout\": {\"annotationdefaults\": {\"arrowcolor\": \"#2a3f5f\", \"arrowhead\": 0, \"arrowwidth\": 1}, \"autotypenumbers\": \"strict\", \"coloraxis\": {\"colorbar\": {\"outlinewidth\": 0, \"ticks\": \"\"}}, \"colorscale\": {\"diverging\": [[0, \"#8e0152\"], [0.1, \"#c51b7d\"], [0.2, \"#de77ae\"], [0.3, \"#f1b6da\"], [0.4, \"#fde0ef\"], [0.5, \"#f7f7f7\"], [0.6, \"#e6f5d0\"], [0.7, \"#b8e186\"], [0.8, \"#7fbc41\"], [0.9, \"#4d9221\"], [1, \"#276419\"]], \"sequential\": [[0.0, \"#0d0887\"], [0.1111111111111111, \"#46039f\"], [0.2222222222222222, \"#7201a8\"], [0.3333333333333333, \"#9c179e\"], [0.4444444444444444, \"#bd3786\"], [0.5555555555555556, \"#d8576b\"], [0.6666666666666666, \"#ed7953\"], [0.7777777777777778, \"#fb9f3a\"], [0.8888888888888888, \"#fdca26\"], [1.0, \"#f0f921\"]], \"sequentialminus\": [[0.0, \"#0d0887\"], [0.1111111111111111, \"#46039f\"], [0.2222222222222222, \"#7201a8\"], [0.3333333333333333, \"#9c179e\"], [0.4444444444444444, \"#bd3786\"], [0.5555555555555556, \"#d8576b\"], [0.6666666666666666, \"#ed7953\"], [0.7777777777777778, \"#fb9f3a\"], [0.8888888888888888, \"#fdca26\"], [1.0, \"#f0f921\"]]}, \"colorway\": [\"#636efa\", \"#EF553B\", \"#00cc96\", \"#ab63fa\", \"#FFA15A\", \"#19d3f3\", \"#FF6692\", \"#B6E880\", \"#FF97FF\", \"#FECB52\"], \"font\": {\"color\": \"#2a3f5f\"}, \"geo\": {\"bgcolor\": \"white\", \"lakecolor\": \"white\", \"landcolor\": \"#E5ECF6\", \"showlakes\": true, \"showland\": true, \"subunitcolor\": \"white\"}, \"hoverlabel\": {\"align\": \"left\"}, \"hovermode\": \"closest\", \"mapbox\": {\"style\": \"light\"}, \"paper_bgcolor\": \"white\", \"plot_bgcolor\": \"#E5ECF6\", \"polar\": {\"angularaxis\": {\"gridcolor\": \"white\", \"linecolor\": \"white\", \"ticks\": \"\"}, \"bgcolor\": \"#E5ECF6\", \"radialaxis\": {\"gridcolor\": \"white\", \"linecolor\": \"white\", \"ticks\": \"\"}}, \"scene\": {\"xaxis\": {\"backgroundcolor\": \"#E5ECF6\", \"gridcolor\": \"white\", \"gridwidth\": 2, \"linecolor\": \"white\", \"showbackground\": true, \"ticks\": \"\", \"zerolinecolor\": \"white\"}, \"yaxis\": {\"backgroundcolor\": \"#E5ECF6\", \"gridcolor\": \"white\", \"gridwidth\": 2, \"linecolor\": \"white\", \"showbackground\": true, \"ticks\": \"\", \"zerolinecolor\": \"white\"}, \"zaxis\": {\"backgroundcolor\": \"#E5ECF6\", \"gridcolor\": \"white\", \"gridwidth\": 2, \"linecolor\": \"white\", \"showbackground\": true, \"ticks\": \"\", \"zerolinecolor\": \"white\"}}, \"shapedefaults\": {\"line\": {\"color\": \"#2a3f5f\"}}, \"ternary\": {\"aaxis\": {\"gridcolor\": \"white\", \"linecolor\": \"white\", \"ticks\": \"\"}, \"baxis\": {\"gridcolor\": \"white\", \"linecolor\": \"white\", \"ticks\": \"\"}, \"bgcolor\": \"#E5ECF6\", \"caxis\": {\"gridcolor\": \"white\", \"linecolor\": \"white\", \"ticks\": \"\"}}, \"title\": {\"x\": 0.05}, \"xaxis\": {\"automargin\": true, \"gridcolor\": \"white\", \"linecolor\": \"white\", \"ticks\": \"\", \"title\": {\"standoff\": 15}, \"zerolinecolor\": \"white\", \"zerolinewidth\": 2}, \"yaxis\": {\"automargin\": true, \"gridcolor\": \"white\", \"linecolor\": \"white\", \"ticks\": \"\", \"title\": {\"standoff\": 15}, \"zerolinecolor\": \"white\", \"zerolinewidth\": 2}}}, \"title\": {\"text\": \"Predicted Emotion Level by Video Type\"}, \"xaxis\": {\"anchor\": \"y\", \"domain\": [0.0, 0.2888888888888889]}, \"xaxis2\": {\"anchor\": \"y2\", \"domain\": [0.35555555555555557, 0.6444444444444445], \"title\": {\"text\": \"Negative to Positive Predicted Emotions\"}}, \"xaxis3\": {\"anchor\": \"y3\", \"domain\": [0.7111111111111111, 1.0]}, \"yaxis\": {\"anchor\": \"x\", \"domain\": [0.0, 1.0], \"title\": {\"text\": \"Count\"}}, \"yaxis2\": {\"anchor\": \"x2\", \"domain\": [0.0, 1.0]}, \"yaxis3\": {\"anchor\": \"x3\", \"domain\": [0.0, 1.0]}},                        {\"responsive\": true}                    ).then(function(){\n",
       "                            \n",
       "var gd = document.getElementById('bef3c66f-a6fc-4462-84a2-c4199149bc17');\n",
       "var x = new MutationObserver(function (mutations, observer) {{\n",
       "        var display = window.getComputedStyle(gd).display;\n",
       "        if (!display || display === 'none') {{\n",
       "            console.log([gd, 'removed!']);\n",
       "            Plotly.purge(gd);\n",
       "            observer.disconnect();\n",
       "        }}\n",
       "}});\n",
       "\n",
       "// Listen for the removal of the full notebook cells\n",
       "var notebookContainer = gd.closest('#notebook-container');\n",
       "if (notebookContainer) {{\n",
       "    x.observe(notebookContainer, {childList: true});\n",
       "}}\n",
       "\n",
       "// Listen for the clearing of the current output cell\n",
       "var outputEl = gd.closest('.output');\n",
       "if (outputEl) {{\n",
       "    x.observe(outputEl, {childList: true});\n",
       "}}\n",
       "\n",
       "                        })                };                });            </script>        </div>"
      ]
     },
     "metadata": {},
     "output_type": "display_data"
    }
   ],
   "source": [
    "bins = [-1.5, -0.75, -0.5, -0.25, -0.1, 0.1,\n",
    "        0.25, 0.5, 0.75, 1.5]\n",
    "labels = [-1.0, -0.75, -0.5, -0.25, 0.0, 0.25, 0.5, 0.75, 1.0]\n",
    "\n",
    "fig = make_subplots(rows=1, cols=3,\n",
    "                    subplot_titles=('Neutral','Positive','Negative'))\n",
    "emotions = ['neutral','positive','negative']\n",
    "for i, emotion in enumerate(emotions):\n",
    "    tmp = data_df[data_df['enc_video_type'] == label_encoding[emotion]]\n",
    "    tmp['y_hat'] = pd.cut(tmp['y_hat'], bins=bins, labels=labels)\n",
    "    tmp = tmp.groupby('y_hat').video_id.count().reset_index().rename(columns={'video_id':'count'})\n",
    "    fig.add_trace(go.Bar(x=list(tmp['y_hat']),\n",
    "                         y=list(tmp['count'])),\n",
    "                  row=1, col=i + 1)\n",
    "\n",
    "fig.update_layout(title_text='Predicted Emotion Level by Video Type', showlegend=False)\n",
    "fig.update_yaxes(title_text='Count', row=1, col=1)\n",
    "fig.update_xaxes(title_text='Negative to Positive Predicted Emotions', row=1, col=2)\n",
    "fig.show()"
   ]
  },
  {
   "cell_type": "code",
   "execution_count": 412,
   "id": "adequate-influence",
   "metadata": {},
   "outputs": [
    {
     "data": {
      "application/vnd.plotly.v1+json": {
       "config": {
        "plotlyServerURL": "https://plot.ly"
       },
       "data": [
        {
         "alignmentgroup": "True",
         "bingroup": "x",
         "hovertemplate": "Predicted Emotion Strength=%{x}<br>count=%{y}<extra></extra>",
         "legendgroup": "",
         "marker": {
          "color": "#F8766D"
         },
         "name": "",
         "offsetgroup": "",
         "orientation": "v",
         "showlegend": false,
         "type": "histogram",
         "x": [
          1,
          1,
          -0.014067532815286913,
          -0.014067532815286913,
          -0.014067532815286913,
          -0.19900631482340295,
          0.11693689833306661,
          -0.018019953385906663,
          -0.0193475850162842,
          -0.014628511585006925,
          1,
          0.7351770470921274,
          -0.01297353205120675,
          0.4205275231871412,
          0.016443975851941194,
          -0.0193475850162842,
          -0.018019953385906663,
          -0.018988576713345928,
          -0.019355208357849336,
          -0.014067532815286913,
          0.351549800312511,
          0.08754462473949397,
          -0.014269914357064355,
          -0.018019953385906663,
          -0.03498983948347511,
          0.03384400079474466,
          -0.01932463932641455,
          -0.006568445268512594,
          -0.019373445252759285,
          -0.018019953385906663,
          -0.01304724946180262,
          0.06753587628841284,
          -0.018019953385906663,
          0.10203760445281213,
          -0.01280873031293471,
          0.7012465786148968,
          -0.24474642369516,
          0.10794227398583367,
          -0.019057508807719573,
          -0.00815746034207971,
          -0.018019953385906663,
          0.02994403872661837,
          -0.01959818894397657,
          0.9661933503466449,
          0.7012465786148968,
          -0.018019953385906663,
          -0.03869731801846235,
          -0.017206436213960976,
          0.1655906454542661,
          0.07152893739957089,
          -0.019057508807719573,
          -0.013907694491315405,
          -0.014269914357064355,
          -0.017598474857867086,
          -0.01959818894397657,
          -0.013907694491315405,
          -0.018019953385906663,
          0.09898105527525686,
          -0.00028055399892284934,
          -0.014067532815286913,
          -0.01959818894397657,
          -0.01959818894397657,
          -0.014067532815286913,
          0.3129798940261806,
          -0.013907694491315405,
          0.08492472256345124,
          -0.019373445252759285,
          -0.0181408121946472,
          -0.01375746781304138,
          0.1109105387398419,
          -0.018019953385906663,
          0.07152893739957089,
          -0.019593723317516843,
          -0.018019953385906663,
          -0.018019953385906663,
          0.8700731256729157,
          1,
          -0.9738330714285727,
          -0.01959818894397657,
          -0.06896900173990615,
          0.014431176062230922,
          -0.018988576713345928,
          -0.018019953385906663,
          -0.014067532815286913,
          -0.014067532815286913,
          -0.013907694491315405,
          0.05227544965035208,
          0.10093054803347362,
          -0.01959818894397657,
          -0.018019953385906663,
          1,
          -0.020000000000000014,
          -0.01152830633655083,
          0.036188995187893,
          -0.00815746034207971,
          -0.03835726211878133,
          -0.01959818894397657,
          -0.018019953385906663,
          -0.018019953385906663,
          0.9774634588975957,
          -0.014096629339292567,
          -0.0004657005549029717,
          -0.01959818894397657,
          1,
          -0.014067532815286913,
          -0.000926822633710276,
          -0.018019953385906663,
          0.21284907746407736,
          0.1114508469796788,
          -0.01959818894397657,
          -0.0393259112458414,
          -0.014067532815286913,
          -0.018019953385906663,
          -0.018019953385906663,
          -0.019593723317516843,
          -0.018852646527571907,
          -0.029602644500494303,
          -0.23739929215592462,
          0.03076383387619337,
          -0.018019953385906663,
          -0.03388649893254309,
          -0.01375746781304138,
          -0.0393259112458414,
          -0.00828501711144397,
          -0.018019953385906663,
          -0.018019953385906663,
          0.19024678092728078,
          -0.016841320462898202,
          -0.018988576713345928,
          -0.019593723317516843,
          0.11238364917728552,
          -0.018019953385906663,
          -0.018019953385906663,
          -0.01959818894397657,
          -0.018019953385906663,
          -0.4914314671117118,
          -0.019057508807719573,
          -0.018019953385906663,
          -0.014067532815286917,
          -0.01959818894397657,
          1,
          0.036069448434376865,
          -0.01959818894397657,
          -0.01959818894397657,
          -0.0193475850162842,
          -0.018019953385906663,
          -0.014067532815286913,
          -0.018019953385906663,
          -0.014067532815286917,
          -0.019053043181259843,
          -0.01959818894397657,
          -0.014254414038997097,
          0.10789719541707717,
          0.7919149672636976,
          -0.013907694491315405,
          -0.011524284293812881,
          -1.0460000000000023,
          -0.018988576713345928,
          -0.020000000000000014,
          -0.014067532815286913,
          -0.018852646527571907,
          -0.018019953385906663,
          -0.014067532815286913,
          -0.00828501711144397,
          -0.018019953385906663,
          1,
          -0.003055303332228395,
          -0.014067532815286917,
          -0.020000000000000014,
          0.02122348591524838,
          -0.20855864815673622,
          -0.003935520818091814,
          0.029831714659883563,
          -0.013907694491315405,
          0.9806788637372061,
          -0.018019953385906663,
          -0.019373445252759285,
          0.1009672327176989,
          -0.01152830633655083,
          -0.0010654855863565156,
          0.09265943680544962,
          -0.014067532815286913,
          -0.01959818894397657,
          0.07220643739957089,
          0.07152893739957089,
          0.43107838383470076,
          -0.011524284293812881,
          -1.0460000000000023,
          -0.019373445252759285,
          -0.018019953385906663,
          -0.013111924786388705,
          -0.018869449800727574,
          -0.018019953385906663,
          0.07152893739957089,
          -0.018019953385906663,
          0.594095193640154,
          -0.018019953385906663,
          -0.029602644500494303,
          0.05235761486891825,
          0.7351770470921274,
          0.9940408355925492,
          -0.019373445252759285,
          -0.00828501711144397,
          -0.019373445252759285,
          0.04207582007185309,
          -0.03388649893254309,
          -0.016973575524765264,
          -0.018019953385906663,
          -0.0193475850162842,
          -1.0460000000000023,
          -0.018019953385906663,
          -0.01297353205120675,
          -0.019340809003840453,
          1,
          -0.018019953385906663,
          -0.018019953385906663,
          -0.00815746034207971,
          -0.018019953385906663,
          -0.029602644500494303,
          1,
          0.13587256568918965,
          -0.014067532815286913,
          0.002119173671285828,
          -0.018019953385906663,
          0.18013888994563526,
          -0.018019953385906663,
          -0.01959818894397657,
          0.1655906454542661,
          1,
          -0.00828501711144397,
          0.9671325337057567,
          -0.018019953385906663,
          -0.019057508807719573,
          -0.011024881228050776,
          -0.01959818894397657,
          -0.01959818894397657,
          -0.0193475850162842,
          -0.018019953385906663,
          -0.0193475850162842,
          -0.00828501711144397,
          0.2175513481371184,
          -0.018019953385906663,
          -0.018019953385906663,
          -0.011024881228050776,
          -0.01932463932641455,
          -0.00828501711144397,
          -0.018019953385906663,
          0.45396228727807736,
          1,
          -0.01959818894397657,
          -0.018019953385906663,
          -0.014096629339292567,
          -0.013111924786388705,
          -0.013907694491315405,
          -0.014067532815286913,
          0.351549800312511,
          -0.004293014901284151,
          -1.0460000000000023,
          -0.00028055399892284934,
          -0.034519674675957734,
          -0.014067532815286913,
          -0.018019953385906663,
          -0.019373445252759285,
          -0.018019953385906663,
          -0.009938675930981028,
          -0.014067532815286913,
          0.09390883712984807,
          -0.011524284293812881,
          0.8521682995873064,
          -0.018019953385906663,
          -0.019355208357849336,
          -0.01870675537557822,
          -0.018019953385906663,
          -0.018019953385906663,
          0.0412305910330343,
          -0.013907694491315405,
          0.9940408355925492,
          -0.020000000000000014,
          0.002119173671285828,
          -0.014067532815286913,
          -0.018019953385906663,
          -0.015712400428631913,
          -0.018019953385906663,
          -0.018019953385906663,
          0.28074032246297653,
          -0.011524284293812881,
          -0.018019953385906663,
          -0.018019953385906663,
          -0.013713333333333346,
          -0.017598474857867086,
          -0.0193475850162842,
          -0.020000000000000014,
          0.07152893739957089,
          -1.0460000000000023,
          0.025967325827224986,
          -0.0193475850162842,
          0.021001464693890023,
          -0.018019953385906663,
          0.036188995187893,
          0.0009730483516788625,
          0.025967325827224986,
          0.9947325337057566,
          -0.018019953385906663,
          0.02424815130428234,
          0.8403945715625586,
          -0.014269914357064355,
          0.09390883712984807,
          1,
          -0.01665279402272243,
          1,
          -0.01297353205120675,
          -0.018019953385906663,
          -0.018019953385906663,
          -0.017206436213960976,
          -0.01905240718769012,
          -0.011024881228050776,
          -0.01674582373332753,
          -0.016973575524765264,
          0.07494262361073996,
          -0.014067532815286913,
          -0.020000000000000014,
          -0.019593723317516843,
          -0.014067532815286913,
          0.02341985811222069,
          -0.014067532815286913,
          -0.016399064732008216,
          0.0412305910330343,
          -0.014067532815286913,
          -0.018019953385906663,
          -0.017206436213960976,
          0.11015648610993736,
          1,
          0.9968234540994761,
          0.29620463229285793,
          -0.005150731501929779,
          -0.000426327194799138,
          -0.020000000000000014,
          -0.019057508807719573,
          -0.019373445252759285,
          -0.0193475850162842,
          0.013844752060592443,
          0.11304894065250033,
          0.1136487781337003,
          -0.018019953385906663,
          -0.014067532815286913,
          -0.014067532815286913,
          0.0059957306606529944,
          -0.018019953385906663,
          -0.019593723317516843,
          -0.018019953385906663,
          -0.014269914357064355,
          -0.017206436213960976,
          0.036188995187893,
          -0.018019953385906663,
          -0.014096629339292567,
          0.016443975851941194,
          1,
          0.07442837939505631,
          -0.018019953385906663,
          -0.009714270340385394,
          -0.01959818894397657,
          -0.018019953385906663,
          0.7012465786148968,
          -0.01152830633655083,
          -0.0181408121946472,
          -0.014067532815286913,
          -0.013907694491315405,
          -0.013646054287247338,
          -0.016399064732008216,
          -0.018019953385906663,
          1,
          -0.013907694491315405,
          0.8145398995843703,
          -0.018019953385906663,
          -0.00828501711144397,
          -0.018019953385906663,
          -0.018019953385906663,
          0.4381762971873524,
          -0.0193475850162842,
          -0.0010654855863565156,
          -0.018019953385906663,
          -0.018852646527571907,
          -0.018019953385906663,
          0.8518495495873064,
          -0.019057508807719573,
          -0.018019953385906663,
          -0.01959818894397657,
          -0.014067532815286913,
          -0.017852194266627302,
          -0.019053043181259843,
          -0.018019953385906663,
          1,
          0.02994403872661837,
          -0.004293014901284151,
          -0.023675233696813063,
          -0.018019953385906663,
          -0.014067532815286913,
          -0.019373445252759285,
          -0.014067532815286913,
          -0.018019953385906663,
          -0.018019953385906663,
          0.00409690721840759,
          -0.018019953385906663,
          1,
          -0.020000000000000014,
          -0.01959818894397657,
          -0.018852646527571907,
          -0.00828501711144397,
          1,
          -0.018019953385906663,
          -0.013907694491315405,
          0.05781652317617038,
          -0.0065129522667177,
          -0.01640359749355482,
          -0.00828501711144397,
          0.28496841807681944,
          -0.018019953385906663,
          -0.018019953385906663,
          -0.014067532815286913,
          -0.019373445252759285,
          0.02424815130428234,
          1,
          -0.019593723317516843,
          0.44537975288932535,
          0.03384400079474466,
          -0.009642510476781423,
          1,
          -0.019660000000000014,
          -0.014096629339292567,
          0.025967325827224986,
          -0.018019953385906663,
          -0.014067532815286913,
          0.016443975851941194,
          -0.015712400428631913,
          0.021001464693890023,
          -0.018019953385906663,
          -0.020000000000000014,
          -0.018019953385906663,
          -0.018019953385906663,
          -0.018019953385906663,
          -0.020000000000000014,
          -0.014067532815286917,
          0.594095193640154,
          -0.014067532815286913,
          -0.00815746034207971,
          -0.011024881228050776,
          -0.018019953385906663,
          -0.014067532815286913,
          -0.018019953385906663,
          0.9661933503466449,
          1,
          -0.016541782905402803,
          0.0059957306606529944,
          -0.01959818894397657,
          -0.028756920737136135,
          0.024400980755603863,
          -0.018019953385906663,
          -0.017598474857867086,
          -0.00828501711144397,
          0.8418559427809816,
          0.04274248673851977,
          0.008501894917735293,
          0.025967325827224986,
          0.029831714659883563,
          0.599891753968254,
          -0.018806904880027207,
          -0.009642510476781423,
          -0.019373445252759285,
          0.7064350012055353,
          -0.018019953385906663,
          1,
          -0.018019953385906663,
          1,
          0.06424641190309405,
          0.009801429226608536,
          -0.019053043181259843,
          -0.014067532815286917,
          -0.018019953385906663,
          -0.0065129522667177,
          0.0027264895697741366,
          -0.018852646527571907,
          1,
          -0.018019953385906663,
          -0.014067532815286913,
          -0.014067532815286913,
          0.016443975851941194,
          -0.003055303332228395,
          -0.018019953385906663,
          -0.01665279402272243,
          0.4381762971873524,
          0.7012465786148968,
          -0.018019953385906663,
          -0.018019953385906663,
          0.11384415705719818,
          0.11658530725193506,
          0.7512237487323303,
          0.9940408355925492,
          -0.018019953385906663,
          -0.018019953385906663,
          0.0004689067018956245,
          0.1124203338615108,
          0.1114508469796788,
          -0.01829573892257036,
          0.4344725234431357,
          0.02424815130428234,
          -0.01959818894397657,
          0.0412305910330343,
          0.009113607962837484,
          -0.03835726211878133,
          0.30608028385381,
          -0.01959818894397657,
          -0.018019953385906663,
          -0.014067532815286913,
          -0.017801823317638292,
          -0.000926822633710276,
          -0.014067532815286913,
          1,
          -0.014067532815286913,
          -0.018019953385906663,
          -0.018019953385906663,
          0.9940990966386555,
          0.8333632356352044,
          0.024838105172881875,
          -0.014067532815286913,
          -0.014127336409999637,
          -0.004293014901284151,
          -0.019593723317516843,
          -0.01389343906556003,
          -0.01958628732394712,
          -0.00815746034207971,
          -0.04537541427407793,
          -0.018019953385906663,
          -0.017206436213960976,
          -0.034519674675957734,
          1,
          -0.00815746034207971,
          -0.013907694491315405,
          0.11814056559215926,
          -0.013907694491315405,
          0.0642437139048347,
          -0.018019953385906663,
          -0.06285209878757882,
          0.06753587628841284,
          -0.018019953385906663,
          -0.018019953385906663,
          0.00909895813551003,
          -0.018019953385906663,
          0.11238364917728552,
          -0.020000000000000014,
          -0.018019953385906663,
          -1.0460000000000023,
          -0.013907694491315405,
          -0.01959818894397657,
          -0.01674582373332753,
          -0.018019953385906663,
          -0.014067532815286913,
          -0.01844789657708893,
          -0.018019953385906663,
          0.09390883712984807,
          -0.014127336409999637,
          -0.01959818894397657,
          -0.018019953385906663,
          -0.018019953385906663,
          -0.023675233696813063,
          0.020873675784709264,
          -0.018019953385906663,
          -0.00828501711144397,
          -0.000426327194799138,
          -0.01959818894397657,
          -0.018848180901112177,
          0.9737556909689389,
          0.9971422040994762,
          -0.014067532815286913,
          1,
          -0.020000000000000014,
          -0.018019953385906663,
          -0.018019953385906663,
          -0.020000000000000014,
          -0.014067532815286913,
          0.09265943680544962,
          -0.01959818894397657,
          0.616956484126984,
          -0.018019953385906663,
          0.9940408355925492,
          0.1124203338615108,
          0.9901400000000001,
          -0.0193475850162842,
          -0.014067532815286913,
          1,
          -0.016399064732008216,
          -0.000426327194799138,
          1,
          -0.018019953385906663,
          -0.01870675537557822,
          -0.018988576713345928,
          -0.0193475850162842,
          -0.018019953385906663,
          1,
          -0.018019953385906663,
          -0.01959818894397657,
          -0.05508114955173261,
          -0.018019953385906663,
          -0.01389343906556003,
          -0.018019953385906663,
          1,
          -0.013878326621781916,
          0.9635689905067912,
          1,
          -0.01959818894397657,
          -0.01959818894397657,
          -0.019373445252759285,
          -0.012834053938320013,
          -0.014067532815286913,
          -0.0065129522667177,
          0.599891753968254,
          1,
          -0.003055303332228395,
          -0.018814528221592342,
          -0.04203288283228377,
          -0.014067532815286913,
          0.9661933503466449,
          -0.004293014901284151,
          0.9635689905067912,
          -0.029602644500494303,
          1,
          0.49814047340522527,
          -0.014067532815286913,
          -0.017206436213960976,
          1,
          0.07026547251662774,
          0.07442837939505631,
          -0.020000000000000014,
          -0.018019953385906663,
          -0.013907694491315405,
          -0.01959818894397657,
          -0.014096629339292567,
          -0.018019953385906663,
          -0.014067532815286913,
          -0.020000000000000014,
          -0.00815746034207971,
          -0.020002565057571853,
          1,
          -0.034134146910126104,
          0.9965933823529411,
          -0.020000000000000014,
          1,
          0.014431176062230922,
          -0.01674582373332753,
          -0.018019953385906663,
          1,
          -0.014067532815286913,
          -0.014067532815286913,
          -0.018019953385906663,
          -0.019870545548340664,
          -0.016417100569209978,
          -0.014067532815286913,
          -0.018019953385906663,
          -0.018019953385906663,
          1,
          -0.018019953385906663,
          -0.014628511585006925,
          1,
          -0.03479125883831382,
          -0.011024881228050776,
          0.07152893739957089,
          1,
          -0.0193475850162842,
          -0.0393259112458414,
          -0.003055303332228395,
          -0.01959818894397657,
          0.008519445371884359,
          -0.014067532815286917,
          -0.018243034296941265,
          0.1009672327176989,
          -0.018019953385906663,
          -0.016399064732008216,
          -0.011524284293812881,
          -0.018019953385906663,
          -0.018019953385906663,
          0.11527951937603875,
          -0.018019953385906663,
          -0.7017436190476194,
          -0.009642510476781423,
          1,
          -0.018019953385906663,
          -0.018019953385906663,
          0.09390883712984807,
          -0.014067532815286913,
          0.9437531304100795,
          -1.0460000000000023,
          0.09951277916597606,
          0.928466348275453,
          -0.020000000000000014,
          -0.014067532815286913,
          0.09390883712984807,
          -0.013646054287247338,
          -0.018019953385906663,
          -0.014067532815286913,
          0.8700731256729157,
          -0.018531361541684135,
          -0.03388649893254309,
          0.05235761486891825,
          0.1075735907755082,
          0.10093054803347362,
          -0.018019953385906663,
          -0.018019953385906663,
          -0.01297353205120675,
          -0.00815746034207971,
          -0.014067532815286913,
          -0.019593723317516843,
          -0.059159766328102055,
          0.2376219732697207,
          -0.014067532815286913,
          -0.018019953385906663,
          -0.018847544907542455,
          -0.00828501711144397,
          -0.014067532815286917,
          -0.01845182725774861,
          1,
          -0.018019953385906663,
          -0.020000000000000014,
          -1.0460000000000023,
          -0.018019953385906663,
          1,
          -0.01665279402272243,
          0.008662686427412932,
          0.5806962214354556,
          -0.014067532815286913,
          0.06753587628841284,
          -0.008550606672677642,
          -0.017206436213960976,
          -0.01959818894397657,
          -0.018019953385906663,
          -0.014127336409999637,
          -0.018019953385906663,
          -0.014067532815286913,
          -0.8717447706182702,
          -0.014067532815286913,
          0.12852543414995427,
          -0.018019953385906663,
          -0.014067532815286913,
          -0.018019953385906663,
          -0.014067532815286917,
          -0.018019953385906663,
          -0.01844789657708893,
          -0.0393259112458414,
          0.10941445712443011,
          1,
          -0.01849682891986314,
          -0.004293014901284151,
          -0.018019953385906663,
          -0.014067532815286913,
          0.2756487653963595,
          -0.019355208357849336,
          0.025967325827224986,
          1,
          -0.00828501711144397,
          -0.08105587965392833,
          -0.9538647380952391,
          -0.01959818894397657,
          -0.019373445252759285,
          -0.014067532815286913,
          -0.01674582373332753,
          -0.018019953385906663,
          1,
          0.04999346100308708,
          -0.020000000000000014,
          -0.018019953385906663,
          -0.018019953385906663,
          1,
          -0.00028055399892284934,
          0.1125441404525409,
          -0.014096629339292567,
          -0.018984111086886198,
          -0.020000000000000014,
          -0.019593723317516843,
          -0.018019953385906663,
          -0.044779674675957726,
          0.10093054803347362,
          0.33770302289537524,
          -0.014067532815286917,
          0.017342650340359034,
          -0.018019953385906663,
          0.7012465786148968,
          -0.00828501711144397,
          -0.01375746781304138,
          1,
          0.010301693024991199,
          -0.020000000000000014,
          -0.017206436213960976,
          -0.003891214465996094,
          -0.009714270340385394,
          0.13587256568918965,
          -0.004293014901284151,
          0.03520585055077898,
          -0.014067532815286913,
          -0.019373445252759285,
          1,
          -0.01959818894397657,
          -0.019593723317516843,
          -0.018019953385906663,
          -0.018019953385906663,
          -0.01959818894397657,
          -0.018019953385906663,
          0.2708685381236323,
          -0.016541782905402803,
          0.7012465786148968,
          0.030694204876377303,
          1,
          0.10093054803347362,
          0.029831714659883563,
          -0.011024881228050776,
          -0.018019953385906663,
          -0.013907694491315405,
          -0.019373445252759285,
          -0.018019953385906663,
          -0.00828501711144397,
          -0.071273456012473,
          -0.01674582373332753,
          -0.018019953385906663,
          0.187181662892663,
          -0.018984111086886198,
          -0.019593723317516843,
          0.0004689067018956245,
          -0.014628511585006925,
          -0.018019953385906663,
          -0.01959818894397657,
          -0.01958628732394712,
          -0.018019953385906663,
          1,
          -0.019373445252759285,
          1,
          0.4961558816764691,
          -0.018019953385906663,
          -0.0065129522667177,
          -0.029492842722951735,
          0.8348325715625589,
          -0.013907694491315405,
          -0.014067532815286913,
          -0.018019953385906663,
          -0.030260000000000013,
          0.021001464693890023,
          0.024838105172881875,
          -0.011024881228050776,
          0.027504909020252214,
          -0.01959818894397657,
          -0.019593723317516843,
          0.021001464693890023,
          0.002119173671285828,
          -0.011024881228050776,
          1,
          -0.00815746034207971,
          -0.018019953385906663,
          -0.018019953385906663,
          -0.018019953385906663,
          -0.018988576713345928,
          0.5522737371443375,
          -0.019593723317516843,
          -0.018019953385906663,
          -0.016417100569209978,
          0.8306534799839715,
          -0.003935520818091814,
          -0.018981900324116986,
          -0.018019953385906663,
          -0.011024881228050776,
          0.07494262361073996,
          -0.018019953385906663,
          0.13707044010320263,
          0.6653378423625423,
          -0.011024881228050776,
          -0.019053043181259843,
          -0.018019953385906663,
          -0.018019953385906663,
          -0.018019953385906663,
          1,
          -0.018806904880027207,
          -0.00828501711144397,
          0.7239215207763379,
          -0.014096629339292567,
          -0.018019953385906663,
          1,
          -0.018019953385906663,
          -0.014067532815286913,
          -0.0181408121946472,
          -0.018019953385906663,
          0.1109105387398419,
          -0.013907694491315405,
          -0.015712400428631913,
          -0.883452699189699,
          -0.014067532815286913,
          -0.011524284293812881,
          -0.01959818894397657,
          0.009801429226608536,
          -0.01959818894397657,
          -0.018019953385906663,
          -0.018019953385906663,
          -0.013907694491315405,
          -0.01674582373332753,
          -0.013907694491315405,
          0.09898105527525686,
          -0.013907694491315405,
          0.010301693024991199,
          -0.019593723317516843,
          0.1872871830436829,
          -0.01665279402272243,
          -0.011026122925078066,
          -0.018019953385906663,
          -0.01866458752057991,
          -0.014067532815286913,
          -0.014067532815286913,
          0.034374306191523776,
          1,
          -0.014067532815286913,
          -0.019660000000000014,
          -0.01959818894397657,
          -0.018019953385906663,
          -0.020000000000000014,
          -0.01959818894397657,
          -0.018019953385906663,
          -0.018019953385906663,
          -0.014067532815286913,
          -0.0006544489928178421,
          -0.018019953385906663,
          1,
          -0.011524284293812881,
          -0.01959818894397657,
          0.9895094929966046,
          -0.01934311938982447,
          -0.018238568670481535,
          -0.019373445252759285,
          -0.014835887790086426,
          0.12914108411607728,
          -0.00828501711144397,
          -0.019997622151918967,
          -0.011524284293812881,
          -0.014835887790086426,
          -0.014067532815286913,
          -0.016444137195776334,
          -0.01959818894397657,
          -0.019057508807719573,
          0.01083494754931424,
          -0.019373445252759285,
          -0.014067532815286913,
          -0.014067532815286913,
          -0.0393259112458414,
          0.009677379782059198,
          0.030694204876377303,
          1,
          -0.018019953385906663,
          -0.016841320462898202,
          -0.018019953385906663,
          -0.020000000000000014,
          0.1114508469796788,
          0.09390883712984807,
          -0.0002626295010394236,
          -0.018019953385906663,
          0.43548533333333306,
          1,
          -0.017801823317638292,
          -0.019593723317516843,
          -0.014067532815286913,
          -0.018019953385906663,
          -0.018019953385906663,
          -0.013907694491315405,
          -0.018019953385906663,
          -0.0012653322231526787,
          -0.014067532815286913,
          -0.018558364651968137,
          -0.01959818894397657,
          -0.034519674675957734,
          0.9895094929966046,
          1,
          -0.019053043181259843,
          -0.01959818894397657,
          -0.018019953385906663,
          -0.014067532815286913,
          0.11304894065250033,
          1,
          -0.018019953385906663,
          -0.019053043181259843,
          -0.018019953385906663,
          0.1009672327176989,
          0.05227544965035208,
          -0.018019953385906663,
          0.7512237487323303,
          -0.00828501711144397,
          -0.018019953385906663,
          -0.018019953385906663,
          -0.013907694491315405,
          0.03384400079474466,
          0.008613344164454821,
          -0.018019953385906663,
          -0.0181408121946472,
          -0.012834053938320013,
          -0.013907694491315405,
          0.10093054803347362,
          -0.01959818894397657,
          -0.018531361541684135,
          -0.0006544489928178421,
          -0.018019953385906663,
          -0.018019953385906663,
          -0.014067532815286913,
          -0.014067532815286913,
          -0.018019953385906663,
          0.0059957306606529944,
          -0.014295879079102852,
          -0.00028055399892284934,
          -0.009455857416342523,
          -0.018019953385906663,
          -0.014067532815286913,
          -0.00828501711144397,
          -0.018019953385906663,
          1,
          -0.018019953385906663,
          1,
          -0.00828501711144397,
          -0.014067532815286913,
          0.0059957306606529944,
          -0.018869449800727574,
          -0.018852646527571907,
          -0.020000000000000014,
          -0.03498983948347511,
          1,
          -0.013148575777561391,
          -0.018019953385906663,
          -0.01939475876269614,
          -0.018019953385906663,
          -0.004293014901284151,
          -0.014067532815286913,
          0.021001464693890023,
          -0.014067532815286913,
          -0.014067532815286917,
          0.10093054803347362,
          -0.018019953385906663,
          -0.018019953385906663,
          0.021663314088937197,
          -0.019057508807719573,
          1,
          0.09898105527525686,
          -0.018019953385906663,
          0.1009672327176989,
          -0.018019953385906663,
          -0.018019953385906663,
          -0.018019953385906663,
          -0.019053043181259843,
          -0.01674582373332753,
          -0.018869449800727574,
          -0.01297353205120675,
          -0.013907694491315405,
          0.9661933503466449,
          -0.014067532815286913,
          -0.00828501711144397,
          -0.018019953385906663,
          0.021001464693890023,
          0.09390883712984807,
          -0.018019953385906663,
          -0.014096629339292567,
          -0.014067532815286913,
          -0.018019953385906663,
          -0.014067532815286913,
          -0.0393259112458414,
          -0.013646054287247338,
          -0.059159766328102055,
          -0.014067532815286913,
          0.5967429230756585,
          -0.011862205478920217,
          -0.01936936723857489,
          -0.0146912822792044,
          -0.016662641714143344,
          -0.011024881228050776,
          0.024838105172881875,
          0.009801429226608536,
          0.4381762971873524,
          -0.014067532815286917,
          -0.01959818894397657,
          0.016443975851941194,
          -0.014067532815286913,
          -0.019593723317516843,
          0.8164,
          -0.018019953385906663,
          -0.018019953385906663,
          -0.018019953385906663,
          -0.018019953385906663,
          -0.01829573892257036,
          0.011732568057388482,
          0.16868154791656081,
          0.020308652528895313,
          -0.018019953385906663,
          1,
          -0.014067532815286913,
          -0.014067532815286913,
          -0.011524284293812881,
          0.025967325827224986,
          -0.014067532815286913,
          0.017342650340359034,
          -0.018019953385906663,
          -0.012789054662427348,
          -0.014067532815286913,
          -0.019660000000000014,
          -0.018019953385906663,
          0.02712721533584762,
          0.020873675784709264,
          -0.000426327194799138,
          0.01985068151440256,
          -0.0006544489928178421,
          -0.018019953385906663,
          -0.01959818894397657,
          -0.018019953385906663,
          -0.018019953385906663,
          -0.8717447706182702,
          0.12914108411607728,
          0.03384400079474466,
          -0.018848180901112177,
          -0.014067532815286913,
          0.05079307139560693,
          1,
          0.09951277916597606,
          -0.015712400428631913,
          -0.20855864815673622,
          0.3414979377472075,
          -0.018019953385906663,
          -0.01959818894397657,
          -0.019057508807719573,
          -0.23739929215592462,
          -0.01959818894397657,
          -0.01959818894397657,
          -0.00828501711144397,
          0.7351770470921274,
          -0.018558364651968137,
          -0.014067532815286913,
          0.011732568057388482,
          0.7012465786148968,
          0.1009672327176989,
          -0.00828501711144397,
          -0.018019953385906663,
          -0.018019953385906663,
          -0.014067532815286913,
          -0.018806904880027207,
          -0.018019953385906663,
          -0.019997622151918967,
          -0.018019953385906663,
          -0.018019953385906663,
          -0.018019953385906663,
          -0.019373445252759285,
          -0.016759432572861974,
          -0.018019953385906663,
          -0.014067532815286913,
          0.07152893739957089,
          -1.0460000000000023,
          -0.006568445268512594,
          -0.01959818894397657,
          -0.018019953385906663,
          0.0004689067018956245,
          1,
          0.7869587046857434,
          0.7919149672636976,
          -0.018019953385906663,
          -0.018019953385906663,
          -0.018019953385906663,
          -0.018019953385906663,
          -0.8763564372849371,
          -0.018019953385906663,
          -0.009642510476781423,
          -0.018019953385906663,
          -0.01959818894397657,
          -0.018852646527571907,
          0.9661933503466449,
          -0.018019953385906663,
          -0.015712400428631913,
          0.07442837939505631,
          0.02039283789846101,
          -0.018019953385906663,
          -0.018019953385906663,
          -0.01959818894397657,
          0.011732568057388482,
          -0.014067532815286913,
          0.09390883712984807,
          -0.00028055399892284934,
          -0.018984111086886198,
          1,
          1,
          -0.017598474857867086,
          -0.0193475850162842,
          -0.01959818894397657,
          -0.018019953385906663,
          -0.018019953385906663,
          -0.018019953385906663,
          -0.014067532815286913,
          -0.018019953385906663,
          -0.018019953385906663,
          -0.01959818894397657,
          -0.013907694491315405,
          -0.01152830633655083,
          -0.01959818894397657,
          -0.01959818894397657,
          -0.01959818894397657,
          0.08567687783832226,
          -0.013907694491315405,
          -0.018019953385906663,
          0.002119173671285828,
          0.12914108411607728,
          -1.0460000000000023,
          -0.03498983948347511,
          1,
          -0.016759432572861974,
          -0.0181408121946472,
          1,
          -0.01674582373332753,
          -0.019373445252759285,
          -0.01959818894397657,
          1,
          -0.018019953385906663,
          0.036188995187893,
          -0.013699995087202176,
          1,
          -0.013907694491315405,
          -0.018988576713345928,
          -0.018243034296941265,
          -0.018019953385906663,
          -0.013646054287247338,
          -0.01958182169748739,
          -0.018019953385906663,
          -0.014067532815286913,
          -0.019053043181259843,
          -0.004293014901284151,
          -0.019057508807719573,
          -0.01665279402272243,
          -0.018988576713345928,
          0.10941445712443011,
          0.029831714659883563,
          -0.019593723317516843,
          0.017342650340359034,
          0.777511166032591,
          -0.00431629022941682,
          -0.027075401527406236,
          0.2708685381236323,
          1,
          -0.018019953385906663,
          -0.018019953385906663,
          -1.0460000000000023,
          -0.01959818894397657,
          -0.018019953385906663,
          0.021001464693890023,
          0.1655906454542661,
          -0.01959818894397657,
          -0.00828501711144397,
          -0.0181408121946472,
          -0.029602644500494303,
          -0.01152830633655083,
          -1.0460000000000023,
          -0.011524284293812881,
          -0.018019953385906663,
          -0.004293014901284151,
          -0.018019953385906663,
          -0.018019953385906663,
          -0.013907694491315405,
          0.07494262361073996,
          0.05178188753403461,
          -0.018019953385906663,
          0.010301693024991199,
          -0.01297353205120675,
          0.019258457829883436,
          -0.014067532815286913,
          -0.011524284293812883,
          -0.018019953385906663,
          -0.018019953385906663,
          -0.009642510476781423,
          0.025967325827224986,
          -0.00828501711144397,
          -0.0193475850162842,
          -0.018019953385906663,
          -0.01844789657708893,
          -0.0193475850162842,
          -0.014067532815286913,
          -0.0393259112458414,
          -0.014067532815286913,
          -0.01958628732394712,
          -0.00828501711144397,
          -0.014269914357064355,
          -0.05508114955173261,
          -0.020000000000000014,
          1,
          -0.020000000000000014,
          0.11203677203148825,
          -0.019057508807719573,
          -0.017206436213960976,
          -0.020000000000000014,
          -0.011524284293812881,
          0.08802198253516741,
          0.9940408355925492,
          -0.00815746034207971,
          -0.014067532815286913,
          -0.016759432572861974,
          -0.017206436213960976,
          -0.020000000000000014,
          0.013486107925341764,
          -0.011024881228050776,
          0.9640657086315475,
          0.7869587046857434,
          -0.014067532815286913,
          -0.014390773165804893,
          -0.01939475876269614,
          -0.24029964815673627,
          -0.00828501711144397,
          -0.01674582373332753,
          -0.013907694491315405,
          -0.020000000000000014,
          -0.01959818894397657,
          -0.014628511585006925,
          -0.014067532815286913,
          -0.019997622151918967,
          -0.018852646527571907,
          0.8253332356352044,
          -0.014067532815286917,
          -0.014067532815286913,
          -0.020000000000000014,
          0.1114508469796788,
          -0.018019953385906663,
          1,
          -0.018019953385906663,
          -0.014067532815286913,
          -0.017206436213960976,
          0.9345982535627887,
          -0.016399064732008216,
          -0.018019953385906663,
          -0.019355208357849336,
          0.0059957306606529944,
          -0.014067532815286913,
          -0.019057508807719573,
          -0.00828501711144397,
          -0.018019953385906663,
          -0.018019953385906663,
          -0.01297353205120675,
          -0.018019953385906663,
          -0.0193475850162842,
          -0.020000000000000014,
          -0.019057508807719573,
          0.008501894917735293,
          -0.018019953385906663,
          0.39505177803866454,
          -0.018019953385906663,
          -0.018019953385906663,
          -0.018019953385906663,
          -0.01152830633655083,
          -0.004293014901284151,
          -0.0393259112458414,
          -0.23739929215592462,
          0.6159915476190474,
          1,
          -0.010626457586157205,
          0.021012509171062333,
          -0.018019953385906663,
          -0.020000000000000014,
          -0.014067532815286913,
          0.9856661836096314,
          0.4205275231871412,
          -0.014067532815286913,
          1,
          -0.013907694491315405,
          -0.011024881228050776,
          -0.019373445252759285,
          0.024838105172881875,
          -0.014067532815286913,
          -0.018019953385906663,
          -0.014067532815286913,
          -0.019660000000000014,
          -0.018019953385906663,
          -0.018019953385906663,
          -0.01674582373332753,
          0.16798395553178552,
          -0.018558364651968137,
          -0.01845182725774861,
          -0.018019953385906663,
          0.2694719350831797,
          -0.0393259112458414,
          -0.018019953385906663,
          0.022685507483216183,
          0.08754462473949397,
          -0.018988576713345928,
          -0.018052376553955925,
          -0.014067532815286913,
          -0.0181408121946472,
          -0.018019953385906663,
          0.1114508469796788,
          -0.01665279402272243,
          -0.018107679915578358,
          -0.000926822633710276,
          -0.01959818894397657,
          -0.018019953385906663,
          -0.013988425373830464,
          -0.018852646527571907,
          -0.009642510476781423,
          -0.004293014901284151,
          -0.014067532815286913,
          -0.034519674675957734,
          -0.01959818894397657,
          -0.017686126691939717,
          -0.018019953385906663,
          -0.01845182725774861,
          -0.01845182725774861,
          -0.6644969999999997,
          1,
          -0.01959818894397657,
          -0.018988576713345928,
          0.5967429230756585,
          -0.018019953385906663,
          0.016443975851941194,
          0.10952227398583365,
          0.07152893739957089,
          1,
          -0.004293014901284151,
          -0.018019953385906663,
          -0.01959818894397657,
          -0.018019953385906663,
          -0.016541782905402803,
          -0.013907694491315405,
          0.8133998995843703,
          -0.019057508807719573,
          -0.03835726211878133,
          -0.01959818894397657,
          -0.019053043181259843,
          -0.018019953385906663,
          -0.020000000000000014,
          -0.014067532815286913,
          -0.019373445252759285,
          0.017342650340359034,
          -0.04941234469070875,
          -0.020000000000000014,
          -0.0193475850162842,
          -0.018019953385906663,
          -0.018019953385906663,
          0.9919955615942029,
          0.07026547251662774,
          1,
          1,
          -0.3733270401839105,
          -0.014067532815286917,
          -0.018609665941444677,
          -0.018019953385906663,
          -0.014067532815286913,
          -0.00747838021974971,
          1,
          -0.01297353205120675,
          -0.019373445252759285,
          -0.018988576713345928,
          -0.011524284293812881,
          -0.018019953385906663,
          -0.018848180901112177,
          -0.01404272367891521,
          -0.004293014901284151,
          -0.018019953385906663,
          -0.0181408121946472,
          -0.013907694491315405,
          -0.018019953385906663,
          -0.0181408121946472,
          -0.020000000000000014,
          -0.011524284293812881,
          0.002119173671285828,
          -0.019355208357849336,
          -0.018019953385906663,
          -0.011524284293812881,
          -0.014067532815286913,
          0.29620463229285793,
          0.052198728030796566,
          0.777511166032591,
          0.021001464693890023,
          -0.018019953385906663,
          0.016443975851941194,
          0.020873675784709264,
          -0.018981900324116986,
          -0.013907694491315405,
          1,
          -0.014067532815286913,
          0.10093054803347362,
          -0.014067532815286917,
          -0.01375746781304138,
          -0.014067532815286917,
          -0.018019953385906663,
          0.002119173671285828,
          0.4381762971873524,
          0.11814056559215926,
          -0.011024881228050776,
          1,
          -0.01829573892257036,
          -0.01959818894397657,
          -0.018019953385906663,
          0.9661933503466449,
          -0.014067532815286913,
          0.00474691115851791,
          -0.018019953385906663,
          1,
          0.06424641190309405,
          -0.0065129522667177,
          -0.018019953385906663,
          -0.018019953385906663,
          -0.014067532815286913,
          -0.01375746781304138,
          -0.014067532815286913,
          -0.0393259112458414,
          0.43107838383470076,
          -0.013988425373830464,
          -0.013907694491315405,
          -0.015712400428631913,
          -0.020000000000000014,
          0.017342650340359034,
          -0.017206436213960976,
          0.9895094929966046,
          -0.014067532815286913,
          1,
          0.25242225141499713,
          1,
          -0.013751998946461431,
          -0.004293014901284151,
          1,
          1,
          0.594095193640154,
          0.0004114281934879622,
          -0.014067532815286913,
          -0.014067532815286913,
          0.1114508469796788,
          -0.01152830633655083,
          -0.020000000000000014,
          -0.00828501711144397,
          -0.01829573892257036,
          -0.013907694491315405,
          -0.018019953385906663,
          -0.014036368426829721,
          -1.0460000000000023,
          -0.018019953385906663,
          0.9940408355925492,
          -0.018019953385906663,
          0.6441876402603016,
          -0.020000000000000014,
          -0.018019953385906663,
          1,
          -0.01959818894397657,
          -0.018019953385906663,
          -0.886879707126207,
          -0.019373445252759285,
          0.5968916984126984,
          0.0824123227866041,
          -0.014067532815286913,
          -0.020000000000000014,
          -0.011524284293812881,
          -0.018852646527571907,
          -0.018019953385906663,
          -0.018019953385906663,
          -0.00828501711144397,
          -0.01932463932641455,
          -0.018019953385906663,
          0.030694204876377303,
          0.5728266808528029,
          -0.0065129522667177,
          -0.0181408121946472,
          -0.015712400428631913,
          -0.011524284293812881,
          -0.013907694491315405,
          0.2694719350831797,
          -0.00828501711144397,
          -0.018019953385906663,
          0.021001464693890023,
          -0.018019953385906663,
          -0.018019953385906663,
          -0.019593723317516843,
          -0.018019953385906663,
          -0.018988576713345928,
          -0.018019953385906663,
          -0.018019953385906663,
          -1.0460000000000023,
          -0.018019953385906663,
          -0.020000000000000014,
          -0.018019953385906663,
          -0.020002565057571853,
          -0.014067532815286913,
          -0.018019953385906663,
          -0.01959818894397657,
          -0.018019953385906663,
          -0.01959818894397657,
          -0.013291535507085332,
          -0.014051480870607834,
          -0.018019953385906663,
          -0.014067532815286913,
          -0.014067532815286917,
          0.1124203338615108,
          -0.014067532815286913,
          -0.00828501711144397,
          -0.019373445252759285,
          -0.019053043181259843,
          -0.018019953385906663,
          -0.014716801700608594,
          4.1693024991199115e-05,
          1,
          -0.01959818894397657,
          -0.019057508807719573,
          -0.018019953385906663,
          -0.01844789657708893,
          -0.0065129522667177,
          0.05712081198977552,
          0.010301693024991199,
          -0.003935520818091814,
          -0.018843079281082725,
          -0.01959818894397657,
          -0.011524284293812881,
          -0.014067532815286913,
          -0.013907694491315405,
          1,
          -0.018019953385906663,
          -0.006568445268512594,
          -0.018019953385906663,
          -0.014036368426829721,
          -0.014067532815286913,
          0.02117702907908425,
          -0.014067532815286913,
          -0.018019953385906663,
          -0.014067532815286913,
          -0.011524284293812881,
          -0.006568445268512594,
          -0.014067532815286913,
          -0.019997622151918967,
          0.6128138809523812,
          -0.014067532815286913,
          -0.004293014901284151,
          -0.018019953385906663,
          -0.018019953385906663,
          -0.01424438150103614,
          -0.006997795312950611,
          1,
          -0.018019953385906663,
          -0.018019953385906663,
          -0.013907694491315405,
          1,
          -0.017206436213960976,
          -0.016654152434150152,
          -0.018019953385906663,
          -0.018558364651968137,
          -0.06285209878757882,
          -0.018852646527571907,
          -0.01808671150668584,
          -0.018019953385906663,
          -0.018019953385906663,
          -0.014662896040231237,
          -0.014067532815286913,
          -0.019373445252759285,
          -0.004293014901284151,
          -0.009642510476781423,
          -0.009778367381401597,
          0.016443975851941194,
          -0.5442025396825401,
          -0.014067532815286913,
          0.11304894065250033,
          -0.014067532815286917,
          -0.00828501711144397,
          -0.01870675537557822,
          0.1109105387398419,
          0.25242225141499713,
          1,
          -0.01959818894397657,
          -0.014103556532289799,
          1,
          0.0642437139048347,
          -0.01959818894397657,
          -0.030260000000000013,
          -0.018019953385906663,
          -0.01845182725774861,
          -0.00828501711144397,
          -0.019373445252759285,
          -0.018019953385906663,
          0.6653378423625423,
          0.1655906454542661,
          -0.017206436213960976,
          -0.01959818894397657,
          -0.059159766328102055,
          -0.01959818894397657,
          -0.018019953385906663,
          -0.014067532815286913,
          -0.018019953385906663,
          1,
          -0.01959818894397657,
          -0.014067532815286913,
          -0.013646054287247338,
          -0.019355208357849336,
          -0.01959818894397657,
          -0.014067532815286913,
          -0.011024881228050776,
          0.0412305910330343,
          0.777511166032591,
          -0.01959818894397657,
          -0.019373445252759285,
          0.01834826208827582,
          0.009677379782059198,
          0.0004114281934879622,
          -0.019355208357849336,
          1,
          -0.003055303332228395,
          -0.018019953385906663,
          -0.014067532815286913,
          0.014431176062230922,
          -0.008453083214881757,
          -0.018019953385906663,
          0.052198728030796566,
          -0.018019953385906663,
          -0.011024881228050776,
          -0.014067532815286913,
          -0.018019953385906663,
          -0.00431629022941682,
          -0.01959818894397657,
          -0.018558364651968137,
          -0.00815746034207971,
          -0.018019953385906663,
          1,
          -0.006568445268512594,
          -0.00828501711144397,
          -0.011024881228050776,
          0.13587256568918965,
          -0.018988576713345928,
          1,
          -0.06034785139025578,
          -0.01935074273138961,
          -0.034519674675957734,
          -0.01882761418431876,
          -0.014067532815286913,
          -0.018019953385906663,
          -0.01882761418431876,
          0.02756339439718971,
          -0.014067532815286917,
          -0.018019953385906663,
          0.8306175715625589,
          -0.014067532815286913,
          -0.019373445252759285,
          -0.00828501711144397,
          -0.04941234469070875,
          -0.019373445252759285,
          -0.019373445252759285,
          0.03076383387619337,
          -0.020000000000000014,
          -0.018019953385906663,
          1,
          -0.009642510476781423,
          -0.019053043181259843,
          -0.01959818894397657,
          -0.01844789657708893,
          0.021001464693890023,
          0.014431176062230922,
          1,
          -0.018019953385906663,
          -0.01424438150103614,
          -0.018019953385906663,
          0.1655906454542661,
          -0.019373445252759285,
          0.030694204876377303,
          -0.018806904880027207,
          -0.0193475850162842,
          -0.020000000000000014,
          -0.009642510476781423,
          -0.01959818894397657,
          0.011732568057388482,
          -0.018019953385906663,
          -0.011024881228050776,
          0.07494262361073996,
          0.1114508469796788,
          1,
          -0.018019953385906663,
          -0.07139866644799088,
          -0.020000000000000014,
          -0.01959818894397657,
          -0.01829127329611063,
          0.4961558816764691,
          -0.018019953385906663,
          1,
          -0.018019953385906663,
          0.11814056559215926,
          -0.011524284293812881,
          -0.019593723317516843,
          0.0059957306606529944,
          -0.018019953385906663,
          -0.013907694491315405,
          0.7462511768464263,
          0.4242458060941616,
          -0.01959818894397657,
          -0.019593723317516843,
          1,
          -0.018019953385906663,
          0.901781541430682,
          -0.014067532815286913,
          -0.013713333333333346,
          0.021001464693890023,
          -0.019355208357849336,
          -0.014067532815286913,
          -0.019830625776864407,
          0.8914826279146953,
          0.024838105172881875,
          1,
          -0.017598474857867086,
          0.07068232314848562,
          -0.017206436213960976,
          -0.00828501711144397,
          -0.018019953385906663,
          0.6005969298737373,
          -0.01375746781304138,
          -0.019593723317516843,
          -0.014067532815286913,
          -0.06143449746848652,
          -0.018019953385906663,
          0.0004689067018956245,
          -0.0393259112458414,
          -0.018019953385906663,
          0.1136487781337003,
          -0.016654152434150152,
          -0.014628511585006925,
          -0.019593723317516843,
          -0.011024881228050776,
          -0.018019953385906663,
          -0.01959818894397657,
          1,
          -0.018019953385906663,
          -0.019373445252759285,
          -0.018019953385906663,
          -0.014067532815286913,
          -0.018019953385906663,
          -0.019373445252759285,
          0.8313806345103049,
          1,
          -0.0193475850162842,
          -0.018019953385906663,
          -0.018019953385906663,
          -0.018019953385906663,
          0.40593023686235485,
          0.9965933823529411,
          -0.018558364651968137,
          0.07442837939505631,
          -0.014067532815286917,
          -0.01959818894397657,
          -0.014067532815286913,
          -0.019355208357849336,
          0.8477130602401851,
          1,
          -0.018019953385906663,
          -0.019057508807719573,
          -0.0065129522667177,
          -0.01234331261966666,
          0.595501661729029,
          -0.014067532815286913,
          -0.01959818894397657,
          -0.011524284293812881,
          -0.014067532815286917,
          -0.018019953385906663,
          0.4611800526721401,
          -0.01959818894397657,
          -0.019593723317516843,
          -0.001056899336359226,
          1,
          -0.018019953385906663,
          0.029831714659883563,
          -0.014067532815286917,
          0.025967325827224986,
          -0.018019953385906663,
          -0.000426327194799138,
          -0.012983124252823875,
          -0.018019953385906663,
          -0.003055303332228395,
          0.020308652528895313,
          -0.8792350087135087,
          -0.020000000000000014,
          -0.018019953385906663,
          -0.018019953385906663,
          -0.018019953385906663,
          -0.014254414038997097,
          -0.03388649893254309,
          0.042157614868918246,
          0.9727057979172617,
          -0.01375746781304138,
          -0.013533403314428278,
          -0.018988576713345928,
          -0.018852646527571907,
          -0.03274706216607379,
          0.021001464693890023,
          -0.32084456174425474,
          -0.019593723317516843,
          -0.018019953385906663,
          -0.01959818894397657,
          -0.017206436213960976,
          1,
          -0.018019953385906663,
          1,
          -0.018019953385906663,
          -0.24978760017955676,
          -0.00828501711144397,
          0.7084772125977861,
          0.015295445822778912,
          -0.011524284293812883,
          1,
          -0.019660000000000014,
          -0.013907694491315405,
          -0.018019953385906663,
          0.029831714659883563,
          -0.00815746034207971,
          -1.0460000000000023,
          0.11356787546358832,
          1,
          -0.01959818894397657,
          0.016443975851941194,
          -1.0460000000000023,
          -0.013533403314428278,
          -0.018019953385906663,
          -0.020002565057571853,
          -0.011024881228050776,
          -0.014067532815286913,
          -0.018019953385906663,
          -0.011524284293812881,
          0.5557366359872548,
          -0.018019953385906663,
          -0.01959818894397657,
          -0.019373445252759285,
          -0.020000000000000014,
          -0.011524284293812881,
          0.021001464693890023,
          0.06424641190309405,
          -0.0006544489928178421,
          -0.013533403314428278,
          1,
          -0.018019953385906663,
          0.12914108411607728,
          -0.018019953385906663,
          -0.018614380246575475,
          -0.018019953385906663,
          0.9965933823529411,
          -0.020000000000000014,
          -0.023675233696813063,
          0.017342650340359034,
          0.11356787546358832,
          1,
          -0.014067532815286913,
          -0.018988576713345928,
          0.016443975851941194,
          -0.018019953385906663,
          0.9965933823529411,
          0.8145398995843703,
          0.9661933503466449,
          -0.01959818894397657,
          0.020873675784709264,
          0.13587256568918965,
          -0.018019953385906663,
          -0.01665279402272243,
          -0.018019953385906663,
          -0.0065129522667177,
          -0.014067532815286913,
          -0.014067532815286913,
          -0.018019953385906663,
          1,
          -0.0181408121946472,
          -0.018019953385906663,
          -0.020000000000000014,
          -0.013907694491315405,
          -0.019593723317516843,
          -1.0460000000000023,
          -0.019053043181259843,
          -0.018019953385906663,
          -0.01958628732394712,
          0.021001464693890023,
          -0.06143449746848652,
          1,
          -0.014067532815286913,
          0.5806962214354556,
          -0.011024881228050776,
          -0.19900631482340295,
          -0.018019953385906663,
          -0.018019953385906663,
          -0.018019953385906663,
          -0.013139413845364266,
          -0.014067532815286913,
          0.4381762971873524,
          -0.7439433333333335,
          0.02424815130428234,
          0.11238364917728552,
          -0.2963620397662328,
          -0.03498983948347511,
          -0.01297353205120675,
          -0.01959818894397657,
          0.05867174497117347,
          0.39505177803866454,
          1,
          0.07145060161727854,
          -0.018019953385906663,
          -0.018852646527571907,
          -0.03498983948347511,
          -0.018019953385906663,
          -0.018019953385906663,
          0.8700731256729157,
          -0.00828501711144397,
          -0.014067532815286913,
          -0.018019953385906663,
          -0.01849682891986314,
          -0.013907694491315405,
          -0.01932463932641455,
          -0.014067532815286913,
          -0.004293014901284151,
          0.02712721533584762,
          -0.018019953385906663,
          -0.018019953385906663,
          -0.0193475850162842,
          -0.018019953385906663,
          -0.00015299722955858895,
          -0.018019953385906663,
          -0.01959818894397657,
          0.002119173671285828,
          -0.018019953385906663,
          0.1009672327176989,
          -0.013907694491315405,
          -0.018019953385906663,
          -0.019593723317516843,
          -0.018019953385906663,
          -0.018019953385906663,
          -0.018019953385906663,
          0.7512237487323303,
          -0.018019953385906663,
          -0.00828501711144397,
          -1.0460000000000023,
          -0.018019953385906663,
          -0.01959818894397657,
          1,
          -0.01660845977370249,
          -0.01959818894397657,
          -0.018019953385906663,
          -0.044779674675957726,
          1,
          0.12433694123485023,
          -0.018019953385906663,
          -0.00828501711144397,
          -0.018019953385906663,
          0.24163980620382847,
          -0.06034785139025578,
          -0.020002565057571853,
          1,
          -0.018019953385906663,
          0.021012509171062333,
          -0.01959818894397657,
          -0.018019953385906663,
          -0.01152830633655083,
          1,
          -0.018019953385906663,
          -0.003935520818091814,
          -0.059159766328102055,
          0.15368553209845628,
          -0.014067532815286913,
          0.007171215524976896,
          -0.014067532815286913,
          0.016443975851941194,
          -0.018019953385906663,
          -0.014067532815286913,
          -0.029181920737136133,
          -0.000426327194799138,
          0.7587086990819549,
          0.0004689067018956245,
          -0.014067532815286913,
          -0.019057508807719573,
          -0.00828501711144397,
          -0.018019953385906663,
          -0.014067532815286913,
          -0.23739929215592462,
          -0.00828501711144397,
          -0.014067532815286913,
          -0.019373445252759285,
          -0.014067532815286913,
          1,
          1,
          -0.018019953385906663,
          -0.004293014901284151,
          -0.018019953385906663,
          -0.020000000000000014,
          -0.009642510476781423,
          -0.018019953385906663,
          -0.014067532815286913,
          0.9133802665412165,
          -0.01665279402272243,
          -0.018019953385906663,
          -0.020000000000000014,
          -0.0193475850162842,
          -0.01959818894397657,
          -0.018019953385906663,
          -0.014067532815286913,
          1,
          -0.003055303332228395,
          0.2323840285712519,
          -0.01870675537557822,
          -0.011524284293812881,
          -0.019593723317516843,
          1,
          -0.014067532815286913,
          -0.018019953385906663,
          -0.014067532815286913,
          0.04118678735205271,
          -0.014067532815286913,
          -0.014067532815286917,
          -0.016759432572861974,
          -0.013907694491315405,
          -0.01959818894397657,
          -0.018019953385906663,
          -0.006860000000000015,
          0.04207582007185309,
          -0.019053043181259843,
          -0.006997795312950611,
          -0.011024881228050776,
          -0.012834053938320013,
          0.0059957306606529944,
          1,
          -0.018019953385906663,
          -0.03388649893254309,
          -0.014067532815286913,
          -0.013907694491315405,
          -0.01959818894397657,
          -0.018019953385906663,
          -0.018019953385906663,
          0.7239215207763379,
          -0.014067532815286913,
          1,
          0.9968234540994761,
          0.07068232314848562,
          -0.014067532815286913,
          0.008501894917735293,
          0.020021514900755627,
          -0.014067532815286913,
          -0.018019953385906663,
          -0.014067532815286913,
          0.010301693024991199,
          1,
          -0.018019953385906663,
          -0.014390773165804893,
          -0.011024881228050776,
          -0.009642510476781423,
          -0.018019953385906663,
          -0.018019953385906663,
          0.7869587046857434,
          -0.01297353205120675,
          0.09390883712984807,
          -0.014067532815286913,
          0.777511166032591,
          -0.019593723317516843,
          -0.01674582373332753,
          0.9661933503466449,
          0.07494262361073996,
          0.01985068151440256,
          -0.018019953385906663,
          -0.0181408121946472,
          0.02424815130428234,
          -0.018019953385906663,
          1,
          0.777511166032591,
          -0.23739929215592462,
          -0.014067532815286913,
          -0.014067532815286917,
          -0.018019953385906663,
          -0.018019953385906663,
          1,
          -0.0002626295010394236,
          0.036188995187893,
          -0.014067532815286913,
          0.021001464693890023,
          -0.00815746034207971,
          -0.01674582373332753,
          0.7012465786148968,
          -0.016759432572861974,
          0.029831714659883563,
          -0.003055303332228395,
          -0.018019953385906663,
          -0.018019953385906663,
          0.0059957306606529944,
          -0.014067532815286913,
          -0.019593723317516843,
          -0.012834053938320013,
          0.11814056559215926,
          -0.014067532815286913,
          -0.01844789657708893,
          -0.020000000000000014,
          -0.018019953385906663,
          -0.013907694491315405,
          -0.0065129522667177,
          0.02424815130428234,
          1,
          -0.011024881228050776,
          -0.014067532815286913,
          -0.06143449746848652,
          0.5228514519276182,
          -1.0460000000000023,
          -0.019373445252759285,
          0.4844642011869776,
          -0.014067532815286913,
          -0.009642510476781423,
          0.07442837939505631,
          0.09898105527525686,
          -0.01959818894397657,
          0.00909895813551003,
          0.9752275498066865,
          -0.019522580460373983,
          -0.018019953385906663,
          0.07152893739957089,
          -0.018019953385906663,
          1,
          0.02756339439718971,
          -0.018019953385906663,
          -0.883452699189699,
          -0.018019953385906663,
          0.05227544965035208,
          0.1109105387398419,
          1,
          1,
          0.9965933823529411,
          -0.01959818894397657,
          -0.018019953385906663,
          1,
          -0.004293014901284151,
          -0.019355208357849336,
          -0.01959818894397657,
          -0.01959818894397657,
          -0.020000000000000014,
          -0.019373445252759285,
          0.12914108411607728,
          -0.014067532815286913,
          0.1109105387398419,
          0.11238364917728552,
          -0.01959818894397657,
          -0.015891678979866673,
          -0.018019953385906663,
          -0.018019953385906663,
          -0.01959818894397657,
          -0.019660000000000014,
          -0.034134146910126104,
          -0.014067532815286913,
          0.09265943680544962,
          -0.019373445252759285,
          -0.009642510476781423,
          -0.014067532815286913,
          1,
          0.017330818809724393,
          -0.018019953385906663,
          0.1114508469796788,
          0.025967325827224986,
          -0.018019953385906663,
          -0.034519674675957734,
          -0.018019953385906663,
          0.0059957306606529944,
          0.1655906454542661,
          -0.01959818894397657,
          -0.01959818894397657,
          -0.01674582373332753,
          -0.014067532815286913,
          -0.014269914357064355,
          -0.013148575777561391,
          -0.014103556532289799,
          -0.018019953385906663,
          -0.059159766328102055,
          -0.016399064732008216,
          -0.003019976511864354,
          -0.018019953385906663,
          -0.016973575524765264,
          -0.0065129522667177,
          -0.01152830633655083,
          0.4844642011869776,
          0.6048899126984127,
          -0.0393259112458414,
          -0.01870675537557822,
          1,
          0.2756487653963595,
          -0.018019953385906663,
          -0.020000000000000014,
          -0.00815746034207971,
          -0.014067532815286913,
          -1.0460000000000023,
          -0.018290637302540907,
          1,
          -0.018019953385906663,
          0.0033846107626049034,
          1,
          -0.014127336409999637,
          0.09800919862371132,
          -0.018019953385906663,
          -0.014067532815286913,
          -0.019593723317516843,
          0.07589952336998895,
          0.0059957306606529944,
          -0.018984111086886198,
          -0.019340809003840453,
          -0.0193475850162842,
          0.2756335065117511,
          0.016443975851941194,
          1,
          0.5034266345598704,
          0.21284907746407736,
          -0.018019953385906663,
          -0.0181408121946472,
          -0.014067532815286913,
          0.9940990966386555,
          -0.0181408121946472,
          0.0412305910330343,
          -0.00828501711144397,
          -0.018019953385906663,
          -0.003891214465996094,
          -0.014067532815286913,
          -0.018019953385906663,
          0.8145398995843703,
          -0.013907694491315405,
          -0.014067532815286917,
          0.8252213026432095,
          0.0469333688995746,
          0.03622567987211829,
          -0.019057508807719573,
          -0.014628511585006925,
          -0.019373445252759285,
          -0.020000000000000014,
          -0.020000000000000014,
          -0.01959818894397657,
          0.9746442623975103,
          -0.01866458752057991,
          -0.004293014901284151,
          -0.018019953385906663,
          0.8299844679232148,
          -0.017598474857867086,
          0.7012465786148968,
          1,
          0.032004006581653616,
          -0.01377258025681949,
          -0.000426327194799138,
          -0.0181408121946472,
          0.04298413090098758,
          -0.0181408121946472,
          -0.011024881228050776,
          -0.013907694491315405,
          -0.01152830633655083,
          0.24211885922796783,
          -0.013907694491315405,
          -0.0065129522667177,
          -0.014067532815286913,
          -0.01674582373332753,
          0.8947557603997707,
          -0.01844789657708893,
          -0.019373445252759285,
          -0.00828501711144397,
          1,
          -0.018019953385906663,
          -0.01959818894397657,
          0.9675196016814919,
          -0.018019953385906663,
          1,
          -0.01959818894397657,
          -0.01958182169748739,
          -0.018019953385906663,
          0.19024678092728078,
          -0.0393259112458414,
          0.5228514519276182,
          -0.018019953385906663,
          0.9661933503466449,
          -0.018019953385906663,
          1,
          -0.00828501711144397,
          0.011732568057388482,
          0.9893306666666666,
          0.1114508469796788,
          0.5806962214354556,
          0.025967325827224986,
          -0.00828501711144397,
          0.03520585055077898,
          -0.020000000000000014,
          -0.00828501711144397,
          -0.016541782905402803,
          -0.01860204259987954,
          -0.018019953385906663,
          -0.018019953385906663,
          -0.03388649893254309,
          -0.014067532815286917,
          -0.019373445252759285,
          -0.018019953385906663,
          0.9968234540994761,
          -0.01959818894397657,
          -0.014067532815286913,
          0.0059957306606529944,
          -0.018019953385906663,
          -0.014067532815286913,
          -0.019340809003840456,
          -0.004293014901284151,
          0.008501894917735293,
          -0.01959818894397657,
          -0.011024881228050776,
          -0.011524284293812881,
          -0.018019953385906663,
          0.042150971402090606,
          0.052198728030796566,
          -0.018019953385906663,
          -0.017801823317638292,
          -0.01829573892257036,
          -0.001984172063631952,
          0.029831714659883563,
          -0.014067532815286913,
          -0.020000000000000014,
          -0.018019953385906663,
          -0.7017436190476194,
          0.8145398995843703,
          -0.018019953385906663,
          -0.019373445252759285,
          0.43107838383470076,
          -0.015712400428631913,
          0.8546990519032092,
          -0.004495731501929772,
          -0.013533403314428278,
          0.19320835545511073,
          -0.01860204259987954,
          -0.018019953385906663,
          -0.017206436213960976,
          -0.019373445252759285,
          0.09898105527525686,
          -0.017206436213960976,
          -0.020819432572861975,
          0.008501894917735293,
          -0.014067532815286913,
          -0.003935520818091814,
          -0.004293014901284151,
          -0.018984111086886198,
          -0.019373445252759285,
          -0.01959818894397657,
          0.1136487781337003,
          0.4420690050889197,
          -0.0006544489928178421,
          0.8464256515984799,
          -0.004293014901284151,
          0.9965933823529411,
          -0.071273456012473,
          0.006765905503931083,
          0.03622567987211829,
          1,
          1,
          -0.018019953385906663,
          -0.011524284293812881,
          -0.0065129522667177,
          0.0004689067018956245,
          0.7351770470921274,
          -0.01829573892257036,
          -0.018019953385906663,
          -0.019373445252759285,
          0.7351770470921274,
          -0.00815746034207971,
          0.08692001802215468,
          -0.018019953385906663,
          -0.004293014901284151,
          0.014431176062230922,
          -0.013907694491315405,
          -0.014067532815286917,
          -0.014067532815286913,
          -0.018019953385906663,
          -0.24029964815673627,
          -0.019593723317516843,
          0.029831714659883563,
          -0.018019953385906663,
          -0.018019953385906663,
          0.09265943680544962,
          -0.013907694491315405,
          0.9984438634809952,
          1,
          0.020873675784709264,
          -0.01152830633655083,
          -0.018019953385906663,
          -0.014067532815286913,
          0.16868154791656081,
          -0.018558364651968137,
          -0.013907694491315405,
          0.11238364917728552,
          -0.018019953385906663,
          -0.019053043181259843,
          -0.018019953385906663,
          -0.018019953385906663,
          1,
          -0.018019953385906663,
          0.9796,
          0.006765905503931083,
          -0.06285209878757882,
          0.027504909020252214,
          -0.01959818894397657,
          -0.018019953385906663,
          -0.01959818894397657,
          -0.0181408121946472,
          -0.018019953385906663,
          -0.014067532815286913,
          -0.018019953385906663,
          -0.014628511585006925,
          -0.020000000000000014,
          -0.013047249461802619,
          -0.018019953385906663,
          1,
          -0.016759432572861974,
          -0.014067532815286913,
          -0.017206436213960976,
          -0.01959818894397657,
          -0.014067532815286913,
          0.0412305910330343,
          -0.011024881228050776,
          -0.018019953385906663,
          -0.034134146910126104,
          0.021001464693890023,
          0.009677379782059198,
          -0.01959818894397657,
          -0.018019953385906663,
          -0.018019953385906663,
          -0.017206436213960976,
          -0.020000000000000014,
          -0.016399064732008216,
          -0.014269914357064355,
          -0.014628511585006925,
          0.7950086389188857,
          -0.014096629339292567,
          -0.014103556532289799,
          -0.019320173699954823,
          -0.014067532815286913,
          -0.01935074273138961,
          -0.8803550087135088,
          0.32221527552180923,
          -0.014067532815286913,
          -0.011024881228050776,
          -0.0181408121946472,
          0.0059957306606529944,
          -0.0181408121946472,
          -0.018852646527571907,
          1,
          -0.23739929215592462,
          -0.019373445252759285,
          -0.018019953385906663,
          1,
          0.036188995187893,
          -0.014067532815286913,
          -0.018019953385906663,
          -0.018848180901112177,
          -0.00828501711144397,
          -0.018019953385906663,
          -0.018019953385906663,
          -0.013907694491315405,
          -0.01959818894397657,
          -0.01959818894397657,
          -0.01959818894397657,
          0.07494262361073996,
          -0.018019953385906663,
          -0.014067532815286913,
          -0.3376507553504575,
          0.02039283789846101,
          -0.013907694491315405,
          1,
          -0.018019953385906663,
          -0.0393259112458414,
          -0.018019953385906663,
          -0.018019953385906663,
          -0.014269914357064355,
          -0.044779674675957726,
          -0.018019953385906663,
          0.9184184699371741,
          -0.018019953385906663,
          -0.018019953385906663,
          -0.018019953385906663,
          -0.018019953385906663,
          -0.018019953385906663,
          -0.01959818894397657,
          -0.014067532815286913,
          1,
          -0.018019953385906663,
          -0.01959818894397657,
          -0.017801823317638292,
          -0.014310991522880963,
          0.5226986085930712,
          0.5967429230756585,
          -0.014628511585006925,
          0.9940408355925492,
          0.5694406951196662,
          0.16868154791656081,
          -0.0181408121946472,
          -0.00828501711144397,
          -0.01959818894397657,
          -0.020000000000000014,
          -0.018019953385906663,
          -0.01958628732394712,
          -0.01665279402272243,
          -0.01959818894397657,
          -0.018019953385906663,
          -0.018019953385906663,
          -0.014067532815286913,
          -0.014067532815286917,
          -1.0460000000000023,
          1,
          -0.014067532815286913,
          0.9727057979172617,
          0.01834826208827582,
          -0.018019953385906663,
          -0.0193475850162842,
          -0.9805552380952389,
          -0.018019953385906663,
          1,
          -0.019997622151918967,
          -0.014067532815286913,
          -0.01844789657708893,
          -0.014067532815286917,
          0.0004114281934879622,
          0.5806962214354556,
          -0.003055303332228395,
          -0.016444137195776334,
          0.003174151213344031,
          -0.017206436213960976,
          0.10093054803347362,
          -0.01959818894397657,
          -0.0181408121946472,
          -0.018019953385906663,
          -0.020002565057571853,
          -0.020000000000000014,
          -0.018848180901112177,
          -0.018019953385906663,
          -0.018019953385906663,
          -1.0460000000000023,
          -0.029602644500494303,
          -0.008988387835891629,
          -0.020000000000000014,
          1,
          0.01834826208827582,
          -0.014127336409999637,
          -0.017206436213960976,
          -0.01424438150103614,
          0.11238364917728552,
          -0.7647726031746038,
          0.09004705962870936,
          -0.018852646527571907,
          -0.014067532815286913,
          -0.006568445268512594,
          -0.01959818894397657,
          -0.02615167897986667,
          -0.014067532815286913,
          -0.005220106971518026,
          -0.014067532815286913,
          -0.018988576713345928,
          0.08988581249080854,
          -0.019057508807719573,
          0.011522126829922439,
          0.09390883712984807,
          0.8332853333333332,
          0.1436138775146115,
          1,
          -0.014254414038997097,
          -0.0072400000000000155,
          -0.018558364651968137,
          -0.01959818894397657,
          0.0275272365415107,
          -0.016541782905402803,
          0.00409690721840759,
          -0.7579353174603176,
          -0.017598474857867086,
          -0.018019953385906663,
          0.017342650340359034,
          -0.014067532815286913,
          1,
          0.013486107925341764,
          0.4381762971873524,
          -0.00815746034207971,
          0.9640657086315475,
          -0.014067532815286913,
          -0.018019953385906663,
          -0.020002565057571853,
          0.0275272365415107,
          0.9940408355925492,
          -0.004293014901284151,
          -0.019373445252759285,
          -0.018019953385906663,
          0.2323840285712519,
          -0.020002565057571853,
          0.07152893739957089,
          -0.013907694491315405,
          -0.013907694491315405,
          -0.018019953385906663,
          1,
          -0.017206436213960976,
          -0.020000000000000014,
          0.0412305910330343,
          -0.018019953385906663,
          -0.018019953385906663,
          -0.019373445252759285,
          -0.01959818894397657,
          -0.018019953385906663,
          -0.018019953385906663,
          -0.01375746781304138,
          -0.01959818894397657,
          -0.01959818894397657,
          -0.018019953385906663,
          -0.014067532815286913,
          -0.018019953385906663,
          -0.003055303332228395,
          0.9796,
          0.07152893739957089,
          0.2631036544738363,
          -0.015712400428631913,
          -0.018019953385906663,
          -0.020000000000000014,
          -0.019593723317516843,
          -0.018019953385906663,
          0.10093054803347362,
          -0.0181408121946472,
          -0.01959818894397657,
          -0.014067532815286913,
          0.009677379782059198,
          -0.018019953385906663,
          -0.018019953385906663,
          -0.016654152434150152,
          -0.018243034296941265,
          -0.018019953385906663,
          0.0004689067018956245,
          -0.0193475850162842,
          -0.018019953385906663,
          -0.00828501711144397,
          -0.013907694491315405,
          -0.0169811988663304,
          -0.020000000000000014,
          -0.008550606672677642,
          -0.014067532815286913,
          1,
          -0.018019953385906663,
          -0.018019953385906663,
          0.06753587628841284,
          0.5868698310027913,
          1,
          -0.018019953385906663,
          -0.014067532815286913,
          -0.009642510476781423,
          -0.014067532815286913,
          -0.018019953385906663,
          0.1114508469796788,
          -0.014067532815286913,
          -0.01959818894397657,
          0.0004114281934879622,
          0.021001464693890023,
          -0.01674582373332753,
          -0.029602644500494303,
          -0.018019953385906663,
          -0.018019953385906663,
          -0.01870675537557822,
          -0.018019953385906663,
          0.13707044010320263,
          -0.011024881228050776,
          -0.014628511585006925,
          -0.018019953385906663,
          -0.018019953385906663,
          -0.003891214465996094,
          -0.018019953385906663,
          -0.0193475850162842,
          0.057340592542322495,
          -0.01959818894397657,
          1,
          -0.018019953385906663,
          -0.004293014901284151,
          -0.018848180901112177,
          0.1109105387398419,
          -0.018019953385906663,
          -0.017206436213960976,
          -0.018019953385906663,
          2.931108667576305e-05,
          -0.014067532815286913,
          -0.01959818894397657,
          -0.06285209878757882,
          0.41465105579224565,
          0.599891753968254,
          -0.019053043181259843,
          -0.014067532815286913,
          -0.014067532815286913,
          -0.014067532815286917,
          -0.017206436213960976,
          -0.01870675537557822,
          -0.018019953385906663,
          -0.01297353205120675,
          -0.01297353205120675,
          -0.014067532815286913,
          0.9995306666666667,
          -0.018019953385906663,
          -0.014067532815286913,
          -0.01674582373332753,
          0.016443975851941194,
          -0.018019953385906663,
          1,
          -0.018019953385906663,
          0.1114508469796788,
          -0.018019953385906663,
          -0.014067532815286913,
          -0.018019953385906663,
          -0.01959818894397657,
          0.029831714659883563,
          -0.01959818894397657,
          -0.018019953385906663,
          -0.01959818894397657,
          -0.014067532815286913,
          -0.018019953385906663,
          -0.014067532815286913,
          0.021001464693890023,
          -0.014067532815286913,
          0.2756487653963595,
          -0.018988576713345928,
          -0.01959818894397657,
          -0.014067532815286913,
          -0.0012653322231526787,
          -0.019373445252759285,
          -0.014067532815286913,
          1,
          0.9661933503466449,
          -0.01959818894397657,
          -0.01958628732394712,
          0.21603607473890615,
          -0.014067532815286913,
          -0.01958628732394712,
          -0.03230190889470167,
          -0.018558364651968137,
          0.02117702907908425,
          -0.018019953385906663,
          1,
          -0.01152830633655083,
          -0.014628511585006925,
          0.029831714659883563,
          -0.00028055399892284934,
          0.187181662892663,
          -0.019053043181259843,
          -0.03704364455437052,
          -0.014067532815286913,
          0.010301693024991199,
          -0.020000000000000014,
          0.11693689833306661,
          1,
          -0.014067532815286913,
          0.7351770470921274,
          1,
          -0.03388649893254309,
          -0.020000000000000014,
          -0.014067532815286917,
          -0.018019953385906663,
          -0.018019953385906663,
          -0.018019953385906663,
          -0.018019953385906663,
          -0.059159766328102055,
          -0.014067532815286913,
          -1.0460000000000023,
          -0.43866820393677,
          -0.014067532815286913,
          -0.014269914357064355,
          -0.2822602295187577,
          -0.06143449746848652,
          -0.011024881228050776,
          -0.014067532815286913,
          -0.020000000000000014,
          -0.00828501711144397,
          -0.014127336409999637,
          0.9806788637372061,
          -0.018019953385906663,
          0.1655906454542661,
          0.016443975851941194,
          0.2084252935940627,
          -0.019057508807719573,
          -0.01959818894397657,
          -0.018019953385906663,
          1,
          -0.020000000000000014,
          -0.013751998946461431,
          -0.018019953385906663,
          0.5798800714285719,
          -1.0460000000000023,
          -0.01297353205120675,
          -0.018019953385906663,
          -0.013751998946461431,
          0.002119173671285828,
          -0.018019953385906663,
          0.03622567987211829,
          -0.00815746034207971,
          -0.0193475850162842,
          -0.016444137195776334,
          -0.014067532815286913,
          -0.018019953385906663,
          1,
          -0.013907694491315405,
          -0.018019953385906663,
          -0.018019953385906663,
          -0.018019953385906663,
          -0.019373445252759285,
          0.10093054803347362,
          -0.018019953385906663,
          -0.018019953385906663,
          1,
          0.8577510091050171,
          -0.018019953385906663,
          -0.26081964815673636,
          -0.018019953385906663,
          -0.9738330714285727,
          -0.018019953385906663,
          -0.018019953385906663,
          -0.018019953385906663,
          -0.013646054287247338,
          0.8145398995843703,
          -0.0193475850162842,
          -0.0193475850162842,
          -0.003935520818091814,
          -0.01844789657708893,
          0.006159415102746464,
          -0.011024881228050776,
          0.9167184699371741,
          1,
          -0.018988576713345928,
          -0.016862235735657965,
          -0.018019953385906663,
          -0.018019953385906663,
          0.18408597420770917,
          -0.018019953385906663,
          -0.013907694491315405,
          -0.018019953385906663,
          -0.04630361957917471,
          -0.059159766328102055,
          1,
          -0.014067532815286913,
          0.7525167064788092,
          -0.018558364651968137,
          -0.020000000000000014,
          -0.01297353205120675,
          -0.004293014901284151,
          -0.018019953385906663,
          -0.018019953385906663,
          -0.020000000000000014,
          0.7587086990819549,
          -0.018019953385906663,
          -1.0460000000000023,
          0.13281581434625878,
          -0.013646054287247338,
          -0.018019953385906663,
          -0.014067532815286917,
          -0.01959818894397657,
          -0.01959818894397657
         ],
         "xaxis": "x",
         "yaxis": "y"
        }
       ],
       "layout": {
        "barmode": "relative",
        "legend": {
         "tracegroupgap": 0
        },
        "template": {
         "data": {
          "bar": [
           {
            "error_x": {
             "color": "rgb(51,51,51)"
            },
            "error_y": {
             "color": "rgb(51,51,51)"
            },
            "marker": {
             "line": {
              "color": "rgb(237,237,237)",
              "width": 0.5
             }
            },
            "type": "bar"
           }
          ],
          "barpolar": [
           {
            "marker": {
             "line": {
              "color": "rgb(237,237,237)",
              "width": 0.5
             }
            },
            "type": "barpolar"
           }
          ],
          "carpet": [
           {
            "aaxis": {
             "endlinecolor": "rgb(51,51,51)",
             "gridcolor": "white",
             "linecolor": "white",
             "minorgridcolor": "white",
             "startlinecolor": "rgb(51,51,51)"
            },
            "baxis": {
             "endlinecolor": "rgb(51,51,51)",
             "gridcolor": "white",
             "linecolor": "white",
             "minorgridcolor": "white",
             "startlinecolor": "rgb(51,51,51)"
            },
            "type": "carpet"
           }
          ],
          "choropleth": [
           {
            "colorbar": {
             "outlinewidth": 0,
             "tickcolor": "rgb(237,237,237)",
             "ticklen": 6,
             "ticks": "inside"
            },
            "type": "choropleth"
           }
          ],
          "contour": [
           {
            "colorbar": {
             "outlinewidth": 0,
             "tickcolor": "rgb(237,237,237)",
             "ticklen": 6,
             "ticks": "inside"
            },
            "colorscale": [
             [
              0,
              "rgb(20,44,66)"
             ],
             [
              1,
              "rgb(90,179,244)"
             ]
            ],
            "type": "contour"
           }
          ],
          "contourcarpet": [
           {
            "colorbar": {
             "outlinewidth": 0,
             "tickcolor": "rgb(237,237,237)",
             "ticklen": 6,
             "ticks": "inside"
            },
            "type": "contourcarpet"
           }
          ],
          "heatmap": [
           {
            "colorbar": {
             "outlinewidth": 0,
             "tickcolor": "rgb(237,237,237)",
             "ticklen": 6,
             "ticks": "inside"
            },
            "colorscale": [
             [
              0,
              "rgb(20,44,66)"
             ],
             [
              1,
              "rgb(90,179,244)"
             ]
            ],
            "type": "heatmap"
           }
          ],
          "heatmapgl": [
           {
            "colorbar": {
             "outlinewidth": 0,
             "tickcolor": "rgb(237,237,237)",
             "ticklen": 6,
             "ticks": "inside"
            },
            "colorscale": [
             [
              0,
              "rgb(20,44,66)"
             ],
             [
              1,
              "rgb(90,179,244)"
             ]
            ],
            "type": "heatmapgl"
           }
          ],
          "histogram": [
           {
            "marker": {
             "colorbar": {
              "outlinewidth": 0,
              "tickcolor": "rgb(237,237,237)",
              "ticklen": 6,
              "ticks": "inside"
             }
            },
            "type": "histogram"
           }
          ],
          "histogram2d": [
           {
            "colorbar": {
             "outlinewidth": 0,
             "tickcolor": "rgb(237,237,237)",
             "ticklen": 6,
             "ticks": "inside"
            },
            "colorscale": [
             [
              0,
              "rgb(20,44,66)"
             ],
             [
              1,
              "rgb(90,179,244)"
             ]
            ],
            "type": "histogram2d"
           }
          ],
          "histogram2dcontour": [
           {
            "colorbar": {
             "outlinewidth": 0,
             "tickcolor": "rgb(237,237,237)",
             "ticklen": 6,
             "ticks": "inside"
            },
            "colorscale": [
             [
              0,
              "rgb(20,44,66)"
             ],
             [
              1,
              "rgb(90,179,244)"
             ]
            ],
            "type": "histogram2dcontour"
           }
          ],
          "mesh3d": [
           {
            "colorbar": {
             "outlinewidth": 0,
             "tickcolor": "rgb(237,237,237)",
             "ticklen": 6,
             "ticks": "inside"
            },
            "type": "mesh3d"
           }
          ],
          "parcoords": [
           {
            "line": {
             "colorbar": {
              "outlinewidth": 0,
              "tickcolor": "rgb(237,237,237)",
              "ticklen": 6,
              "ticks": "inside"
             }
            },
            "type": "parcoords"
           }
          ],
          "pie": [
           {
            "automargin": true,
            "type": "pie"
           }
          ],
          "scatter": [
           {
            "marker": {
             "colorbar": {
              "outlinewidth": 0,
              "tickcolor": "rgb(237,237,237)",
              "ticklen": 6,
              "ticks": "inside"
             }
            },
            "type": "scatter"
           }
          ],
          "scatter3d": [
           {
            "line": {
             "colorbar": {
              "outlinewidth": 0,
              "tickcolor": "rgb(237,237,237)",
              "ticklen": 6,
              "ticks": "inside"
             }
            },
            "marker": {
             "colorbar": {
              "outlinewidth": 0,
              "tickcolor": "rgb(237,237,237)",
              "ticklen": 6,
              "ticks": "inside"
             }
            },
            "type": "scatter3d"
           }
          ],
          "scattercarpet": [
           {
            "marker": {
             "colorbar": {
              "outlinewidth": 0,
              "tickcolor": "rgb(237,237,237)",
              "ticklen": 6,
              "ticks": "inside"
             }
            },
            "type": "scattercarpet"
           }
          ],
          "scattergeo": [
           {
            "marker": {
             "colorbar": {
              "outlinewidth": 0,
              "tickcolor": "rgb(237,237,237)",
              "ticklen": 6,
              "ticks": "inside"
             }
            },
            "type": "scattergeo"
           }
          ],
          "scattergl": [
           {
            "marker": {
             "colorbar": {
              "outlinewidth": 0,
              "tickcolor": "rgb(237,237,237)",
              "ticklen": 6,
              "ticks": "inside"
             }
            },
            "type": "scattergl"
           }
          ],
          "scattermapbox": [
           {
            "marker": {
             "colorbar": {
              "outlinewidth": 0,
              "tickcolor": "rgb(237,237,237)",
              "ticklen": 6,
              "ticks": "inside"
             }
            },
            "type": "scattermapbox"
           }
          ],
          "scatterpolar": [
           {
            "marker": {
             "colorbar": {
              "outlinewidth": 0,
              "tickcolor": "rgb(237,237,237)",
              "ticklen": 6,
              "ticks": "inside"
             }
            },
            "type": "scatterpolar"
           }
          ],
          "scatterpolargl": [
           {
            "marker": {
             "colorbar": {
              "outlinewidth": 0,
              "tickcolor": "rgb(237,237,237)",
              "ticklen": 6,
              "ticks": "inside"
             }
            },
            "type": "scatterpolargl"
           }
          ],
          "scatterternary": [
           {
            "marker": {
             "colorbar": {
              "outlinewidth": 0,
              "tickcolor": "rgb(237,237,237)",
              "ticklen": 6,
              "ticks": "inside"
             }
            },
            "type": "scatterternary"
           }
          ],
          "surface": [
           {
            "colorbar": {
             "outlinewidth": 0,
             "tickcolor": "rgb(237,237,237)",
             "ticklen": 6,
             "ticks": "inside"
            },
            "colorscale": [
             [
              0,
              "rgb(20,44,66)"
             ],
             [
              1,
              "rgb(90,179,244)"
             ]
            ],
            "type": "surface"
           }
          ],
          "table": [
           {
            "cells": {
             "fill": {
              "color": "rgb(237,237,237)"
             },
             "line": {
              "color": "white"
             }
            },
            "header": {
             "fill": {
              "color": "rgb(217,217,217)"
             },
             "line": {
              "color": "white"
             }
            },
            "type": "table"
           }
          ]
         },
         "layout": {
          "annotationdefaults": {
           "arrowhead": 0,
           "arrowwidth": 1
          },
          "autotypenumbers": "strict",
          "coloraxis": {
           "colorbar": {
            "outlinewidth": 0,
            "tickcolor": "rgb(237,237,237)",
            "ticklen": 6,
            "ticks": "inside"
           }
          },
          "colorscale": {
           "sequential": [
            [
             0,
             "rgb(20,44,66)"
            ],
            [
             1,
             "rgb(90,179,244)"
            ]
           ],
           "sequentialminus": [
            [
             0,
             "rgb(20,44,66)"
            ],
            [
             1,
             "rgb(90,179,244)"
            ]
           ]
          },
          "colorway": [
           "#F8766D",
           "#A3A500",
           "#00BF7D",
           "#00B0F6",
           "#E76BF3"
          ],
          "font": {
           "color": "rgb(51,51,51)"
          },
          "geo": {
           "bgcolor": "white",
           "lakecolor": "white",
           "landcolor": "rgb(237,237,237)",
           "showlakes": true,
           "showland": true,
           "subunitcolor": "white"
          },
          "hoverlabel": {
           "align": "left"
          },
          "hovermode": "closest",
          "paper_bgcolor": "white",
          "plot_bgcolor": "rgb(237,237,237)",
          "polar": {
           "angularaxis": {
            "gridcolor": "white",
            "linecolor": "white",
            "showgrid": true,
            "tickcolor": "rgb(51,51,51)",
            "ticks": "outside"
           },
           "bgcolor": "rgb(237,237,237)",
           "radialaxis": {
            "gridcolor": "white",
            "linecolor": "white",
            "showgrid": true,
            "tickcolor": "rgb(51,51,51)",
            "ticks": "outside"
           }
          },
          "scene": {
           "xaxis": {
            "backgroundcolor": "rgb(237,237,237)",
            "gridcolor": "white",
            "gridwidth": 2,
            "linecolor": "white",
            "showbackground": true,
            "showgrid": true,
            "tickcolor": "rgb(51,51,51)",
            "ticks": "outside",
            "zerolinecolor": "white"
           },
           "yaxis": {
            "backgroundcolor": "rgb(237,237,237)",
            "gridcolor": "white",
            "gridwidth": 2,
            "linecolor": "white",
            "showbackground": true,
            "showgrid": true,
            "tickcolor": "rgb(51,51,51)",
            "ticks": "outside",
            "zerolinecolor": "white"
           },
           "zaxis": {
            "backgroundcolor": "rgb(237,237,237)",
            "gridcolor": "white",
            "gridwidth": 2,
            "linecolor": "white",
            "showbackground": true,
            "showgrid": true,
            "tickcolor": "rgb(51,51,51)",
            "ticks": "outside",
            "zerolinecolor": "white"
           }
          },
          "shapedefaults": {
           "fillcolor": "black",
           "line": {
            "width": 0
           },
           "opacity": 0.3
          },
          "ternary": {
           "aaxis": {
            "gridcolor": "white",
            "linecolor": "white",
            "showgrid": true,
            "tickcolor": "rgb(51,51,51)",
            "ticks": "outside"
           },
           "baxis": {
            "gridcolor": "white",
            "linecolor": "white",
            "showgrid": true,
            "tickcolor": "rgb(51,51,51)",
            "ticks": "outside"
           },
           "bgcolor": "rgb(237,237,237)",
           "caxis": {
            "gridcolor": "white",
            "linecolor": "white",
            "showgrid": true,
            "tickcolor": "rgb(51,51,51)",
            "ticks": "outside"
           }
          },
          "xaxis": {
           "automargin": true,
           "gridcolor": "white",
           "linecolor": "white",
           "showgrid": true,
           "tickcolor": "rgb(51,51,51)",
           "ticks": "outside",
           "title": {
            "standoff": 15
           },
           "zerolinecolor": "white"
          },
          "yaxis": {
           "automargin": true,
           "gridcolor": "white",
           "linecolor": "white",
           "showgrid": true,
           "tickcolor": "rgb(51,51,51)",
           "ticks": "outside",
           "title": {
            "standoff": 15
           },
           "zerolinecolor": "white"
          }
         }
        },
        "title": {
         "text": "Test Predicted Emotion Range"
        },
        "xaxis": {
         "anchor": "y",
         "domain": [
          0,
          1
         ],
         "title": {
          "text": "Predicted Emotion Strength"
         }
        },
        "yaxis": {
         "anchor": "x",
         "domain": [
          0,
          1
         ],
         "title": {
          "text": "count"
         }
        }
       }
      },
      "text/html": [
       "<div>                            <div id=\"77f54e06-e075-4372-8d45-891af5f428ba\" class=\"plotly-graph-div\" style=\"height:525px; width:100%;\"></div>            <script type=\"text/javascript\">                require([\"plotly\"], function(Plotly) {                    window.PLOTLYENV=window.PLOTLYENV || {};                                    if (document.getElementById(\"77f54e06-e075-4372-8d45-891af5f428ba\")) {                    Plotly.newPlot(                        \"77f54e06-e075-4372-8d45-891af5f428ba\",                        [{\"alignmentgroup\": \"True\", \"bingroup\": \"x\", \"hovertemplate\": \"Predicted Emotion Strength=%{x}<br>count=%{y}<extra></extra>\", \"legendgroup\": \"\", \"marker\": {\"color\": \"#F8766D\"}, \"name\": \"\", \"offsetgroup\": \"\", \"orientation\": \"v\", \"showlegend\": false, \"type\": \"histogram\", \"x\": [1.0, 1.0, -0.014067532815286913, -0.014067532815286913, -0.014067532815286913, -0.19900631482340295, 0.11693689833306661, -0.018019953385906663, -0.0193475850162842, -0.014628511585006925, 1.0, 0.7351770470921274, -0.01297353205120675, 0.4205275231871412, 0.016443975851941194, -0.0193475850162842, -0.018019953385906663, -0.018988576713345928, -0.019355208357849336, -0.014067532815286913, 0.351549800312511, 0.08754462473949397, -0.014269914357064355, -0.018019953385906663, -0.03498983948347511, 0.03384400079474466, -0.01932463932641455, -0.006568445268512594, -0.019373445252759285, -0.018019953385906663, -0.01304724946180262, 0.06753587628841284, -0.018019953385906663, 0.10203760445281213, -0.01280873031293471, 0.7012465786148968, -0.24474642369516, 0.10794227398583367, -0.019057508807719573, -0.00815746034207971, -0.018019953385906663, 0.02994403872661837, -0.01959818894397657, 0.9661933503466449, 0.7012465786148968, -0.018019953385906663, -0.03869731801846235, -0.017206436213960976, 0.1655906454542661, 0.07152893739957089, -0.019057508807719573, -0.013907694491315405, -0.014269914357064355, -0.017598474857867086, -0.01959818894397657, -0.013907694491315405, -0.018019953385906663, 0.09898105527525686, -0.00028055399892284934, -0.014067532815286913, -0.01959818894397657, -0.01959818894397657, -0.014067532815286913, 0.3129798940261806, -0.013907694491315405, 0.08492472256345124, -0.019373445252759285, -0.0181408121946472, -0.01375746781304138, 0.1109105387398419, -0.018019953385906663, 0.07152893739957089, -0.019593723317516843, -0.018019953385906663, -0.018019953385906663, 0.8700731256729157, 1.0, -0.9738330714285727, -0.01959818894397657, -0.06896900173990615, 0.014431176062230922, -0.018988576713345928, -0.018019953385906663, -0.014067532815286913, -0.014067532815286913, -0.013907694491315405, 0.05227544965035208, 0.10093054803347362, -0.01959818894397657, -0.018019953385906663, 1.0, -0.020000000000000014, -0.01152830633655083, 0.036188995187893, -0.00815746034207971, -0.03835726211878133, -0.01959818894397657, -0.018019953385906663, -0.018019953385906663, 0.9774634588975957, -0.014096629339292567, -0.0004657005549029717, -0.01959818894397657, 1.0, -0.014067532815286913, -0.000926822633710276, -0.018019953385906663, 0.21284907746407736, 0.1114508469796788, -0.01959818894397657, -0.0393259112458414, -0.014067532815286913, -0.018019953385906663, -0.018019953385906663, -0.019593723317516843, -0.018852646527571907, -0.029602644500494303, -0.23739929215592462, 0.03076383387619337, -0.018019953385906663, -0.03388649893254309, -0.01375746781304138, -0.0393259112458414, -0.00828501711144397, -0.018019953385906663, -0.018019953385906663, 0.19024678092728078, -0.016841320462898202, -0.018988576713345928, -0.019593723317516843, 0.11238364917728552, -0.018019953385906663, -0.018019953385906663, -0.01959818894397657, -0.018019953385906663, -0.4914314671117118, -0.019057508807719573, -0.018019953385906663, -0.014067532815286917, -0.01959818894397657, 1.0, 0.036069448434376865, -0.01959818894397657, -0.01959818894397657, -0.0193475850162842, -0.018019953385906663, -0.014067532815286913, -0.018019953385906663, -0.014067532815286917, -0.019053043181259843, -0.01959818894397657, -0.014254414038997097, 0.10789719541707717, 0.7919149672636976, -0.013907694491315405, -0.011524284293812881, -1.0460000000000023, -0.018988576713345928, -0.020000000000000014, -0.014067532815286913, -0.018852646527571907, -0.018019953385906663, -0.014067532815286913, -0.00828501711144397, -0.018019953385906663, 1.0, -0.003055303332228395, -0.014067532815286917, -0.020000000000000014, 0.02122348591524838, -0.20855864815673622, -0.003935520818091814, 0.029831714659883563, -0.013907694491315405, 0.9806788637372061, -0.018019953385906663, -0.019373445252759285, 0.1009672327176989, -0.01152830633655083, -0.0010654855863565156, 0.09265943680544962, -0.014067532815286913, -0.01959818894397657, 0.07220643739957089, 0.07152893739957089, 0.43107838383470076, -0.011524284293812881, -1.0460000000000023, -0.019373445252759285, -0.018019953385906663, -0.013111924786388705, -0.018869449800727574, -0.018019953385906663, 0.07152893739957089, -0.018019953385906663, 0.594095193640154, -0.018019953385906663, -0.029602644500494303, 0.05235761486891825, 0.7351770470921274, 0.9940408355925492, -0.019373445252759285, -0.00828501711144397, -0.019373445252759285, 0.04207582007185309, -0.03388649893254309, -0.016973575524765264, -0.018019953385906663, -0.0193475850162842, -1.0460000000000023, -0.018019953385906663, -0.01297353205120675, -0.019340809003840453, 1.0, -0.018019953385906663, -0.018019953385906663, -0.00815746034207971, -0.018019953385906663, -0.029602644500494303, 1.0, 0.13587256568918965, -0.014067532815286913, 0.002119173671285828, -0.018019953385906663, 0.18013888994563526, -0.018019953385906663, -0.01959818894397657, 0.1655906454542661, 1.0, -0.00828501711144397, 0.9671325337057567, -0.018019953385906663, -0.019057508807719573, -0.011024881228050776, -0.01959818894397657, -0.01959818894397657, -0.0193475850162842, -0.018019953385906663, -0.0193475850162842, -0.00828501711144397, 0.2175513481371184, -0.018019953385906663, -0.018019953385906663, -0.011024881228050776, -0.01932463932641455, -0.00828501711144397, -0.018019953385906663, 0.45396228727807736, 1.0, -0.01959818894397657, -0.018019953385906663, -0.014096629339292567, -0.013111924786388705, -0.013907694491315405, -0.014067532815286913, 0.351549800312511, -0.004293014901284151, -1.0460000000000023, -0.00028055399892284934, -0.034519674675957734, -0.014067532815286913, -0.018019953385906663, -0.019373445252759285, -0.018019953385906663, -0.009938675930981028, -0.014067532815286913, 0.09390883712984807, -0.011524284293812881, 0.8521682995873064, -0.018019953385906663, -0.019355208357849336, -0.01870675537557822, -0.018019953385906663, -0.018019953385906663, 0.0412305910330343, -0.013907694491315405, 0.9940408355925492, -0.020000000000000014, 0.002119173671285828, -0.014067532815286913, -0.018019953385906663, -0.015712400428631913, -0.018019953385906663, -0.018019953385906663, 0.28074032246297653, -0.011524284293812881, -0.018019953385906663, -0.018019953385906663, -0.013713333333333346, -0.017598474857867086, -0.0193475850162842, -0.020000000000000014, 0.07152893739957089, -1.0460000000000023, 0.025967325827224986, -0.0193475850162842, 0.021001464693890023, -0.018019953385906663, 0.036188995187893, 0.0009730483516788625, 0.025967325827224986, 0.9947325337057566, -0.018019953385906663, 0.02424815130428234, 0.8403945715625586, -0.014269914357064355, 0.09390883712984807, 1.0, -0.01665279402272243, 1.0, -0.01297353205120675, -0.018019953385906663, -0.018019953385906663, -0.017206436213960976, -0.01905240718769012, -0.011024881228050776, -0.01674582373332753, -0.016973575524765264, 0.07494262361073996, -0.014067532815286913, -0.020000000000000014, -0.019593723317516843, -0.014067532815286913, 0.02341985811222069, -0.014067532815286913, -0.016399064732008216, 0.0412305910330343, -0.014067532815286913, -0.018019953385906663, -0.017206436213960976, 0.11015648610993736, 1.0, 0.9968234540994761, 0.29620463229285793, -0.005150731501929779, -0.000426327194799138, -0.020000000000000014, -0.019057508807719573, -0.019373445252759285, -0.0193475850162842, 0.013844752060592443, 0.11304894065250033, 0.1136487781337003, -0.018019953385906663, -0.014067532815286913, -0.014067532815286913, 0.0059957306606529944, -0.018019953385906663, -0.019593723317516843, -0.018019953385906663, -0.014269914357064355, -0.017206436213960976, 0.036188995187893, -0.018019953385906663, -0.014096629339292567, 0.016443975851941194, 1.0, 0.07442837939505631, -0.018019953385906663, -0.009714270340385394, -0.01959818894397657, -0.018019953385906663, 0.7012465786148968, -0.01152830633655083, -0.0181408121946472, -0.014067532815286913, -0.013907694491315405, -0.013646054287247338, -0.016399064732008216, -0.018019953385906663, 1.0, -0.013907694491315405, 0.8145398995843703, -0.018019953385906663, -0.00828501711144397, -0.018019953385906663, -0.018019953385906663, 0.4381762971873524, -0.0193475850162842, -0.0010654855863565156, -0.018019953385906663, -0.018852646527571907, -0.018019953385906663, 0.8518495495873064, -0.019057508807719573, -0.018019953385906663, -0.01959818894397657, -0.014067532815286913, -0.017852194266627302, -0.019053043181259843, -0.018019953385906663, 1.0, 0.02994403872661837, -0.004293014901284151, -0.023675233696813063, -0.018019953385906663, -0.014067532815286913, -0.019373445252759285, -0.014067532815286913, -0.018019953385906663, -0.018019953385906663, 0.00409690721840759, -0.018019953385906663, 1.0, -0.020000000000000014, -0.01959818894397657, -0.018852646527571907, -0.00828501711144397, 1.0, -0.018019953385906663, -0.013907694491315405, 0.05781652317617038, -0.0065129522667177, -0.01640359749355482, -0.00828501711144397, 0.28496841807681944, -0.018019953385906663, -0.018019953385906663, -0.014067532815286913, -0.019373445252759285, 0.02424815130428234, 1.0, -0.019593723317516843, 0.44537975288932535, 0.03384400079474466, -0.009642510476781423, 1.0, -0.019660000000000014, -0.014096629339292567, 0.025967325827224986, -0.018019953385906663, -0.014067532815286913, 0.016443975851941194, -0.015712400428631913, 0.021001464693890023, -0.018019953385906663, -0.020000000000000014, -0.018019953385906663, -0.018019953385906663, -0.018019953385906663, -0.020000000000000014, -0.014067532815286917, 0.594095193640154, -0.014067532815286913, -0.00815746034207971, -0.011024881228050776, -0.018019953385906663, -0.014067532815286913, -0.018019953385906663, 0.9661933503466449, 1.0, -0.016541782905402803, 0.0059957306606529944, -0.01959818894397657, -0.028756920737136135, 0.024400980755603863, -0.018019953385906663, -0.017598474857867086, -0.00828501711144397, 0.8418559427809816, 0.04274248673851977, 0.008501894917735293, 0.025967325827224986, 0.029831714659883563, 0.599891753968254, -0.018806904880027207, -0.009642510476781423, -0.019373445252759285, 0.7064350012055353, -0.018019953385906663, 1.0, -0.018019953385906663, 1.0, 0.06424641190309405, 0.009801429226608536, -0.019053043181259843, -0.014067532815286917, -0.018019953385906663, -0.0065129522667177, 0.0027264895697741366, -0.018852646527571907, 1.0, -0.018019953385906663, -0.014067532815286913, -0.014067532815286913, 0.016443975851941194, -0.003055303332228395, -0.018019953385906663, -0.01665279402272243, 0.4381762971873524, 0.7012465786148968, -0.018019953385906663, -0.018019953385906663, 0.11384415705719818, 0.11658530725193506, 0.7512237487323303, 0.9940408355925492, -0.018019953385906663, -0.018019953385906663, 0.0004689067018956245, 0.1124203338615108, 0.1114508469796788, -0.01829573892257036, 0.4344725234431357, 0.02424815130428234, -0.01959818894397657, 0.0412305910330343, 0.009113607962837484, -0.03835726211878133, 0.30608028385381, -0.01959818894397657, -0.018019953385906663, -0.014067532815286913, -0.017801823317638292, -0.000926822633710276, -0.014067532815286913, 1.0, -0.014067532815286913, -0.018019953385906663, -0.018019953385906663, 0.9940990966386555, 0.8333632356352044, 0.024838105172881875, -0.014067532815286913, -0.014127336409999637, -0.004293014901284151, -0.019593723317516843, -0.01389343906556003, -0.01958628732394712, -0.00815746034207971, -0.04537541427407793, -0.018019953385906663, -0.017206436213960976, -0.034519674675957734, 1.0, -0.00815746034207971, -0.013907694491315405, 0.11814056559215926, -0.013907694491315405, 0.0642437139048347, -0.018019953385906663, -0.06285209878757882, 0.06753587628841284, -0.018019953385906663, -0.018019953385906663, 0.00909895813551003, -0.018019953385906663, 0.11238364917728552, -0.020000000000000014, -0.018019953385906663, -1.0460000000000023, -0.013907694491315405, -0.01959818894397657, -0.01674582373332753, -0.018019953385906663, -0.014067532815286913, -0.01844789657708893, -0.018019953385906663, 0.09390883712984807, -0.014127336409999637, -0.01959818894397657, -0.018019953385906663, -0.018019953385906663, -0.023675233696813063, 0.020873675784709264, -0.018019953385906663, -0.00828501711144397, -0.000426327194799138, -0.01959818894397657, -0.018848180901112177, 0.9737556909689389, 0.9971422040994762, -0.014067532815286913, 1.0, -0.020000000000000014, -0.018019953385906663, -0.018019953385906663, -0.020000000000000014, -0.014067532815286913, 0.09265943680544962, -0.01959818894397657, 0.616956484126984, -0.018019953385906663, 0.9940408355925492, 0.1124203338615108, 0.9901400000000001, -0.0193475850162842, -0.014067532815286913, 1.0, -0.016399064732008216, -0.000426327194799138, 1.0, -0.018019953385906663, -0.01870675537557822, -0.018988576713345928, -0.0193475850162842, -0.018019953385906663, 1.0, -0.018019953385906663, -0.01959818894397657, -0.05508114955173261, -0.018019953385906663, -0.01389343906556003, -0.018019953385906663, 1.0, -0.013878326621781916, 0.9635689905067912, 1.0, -0.01959818894397657, -0.01959818894397657, -0.019373445252759285, -0.012834053938320013, -0.014067532815286913, -0.0065129522667177, 0.599891753968254, 1.0, -0.003055303332228395, -0.018814528221592342, -0.04203288283228377, -0.014067532815286913, 0.9661933503466449, -0.004293014901284151, 0.9635689905067912, -0.029602644500494303, 1.0, 0.49814047340522527, -0.014067532815286913, -0.017206436213960976, 1.0, 0.07026547251662774, 0.07442837939505631, -0.020000000000000014, -0.018019953385906663, -0.013907694491315405, -0.01959818894397657, -0.014096629339292567, -0.018019953385906663, -0.014067532815286913, -0.020000000000000014, -0.00815746034207971, -0.020002565057571853, 1.0, -0.034134146910126104, 0.9965933823529411, -0.020000000000000014, 1.0, 0.014431176062230922, -0.01674582373332753, -0.018019953385906663, 1.0, -0.014067532815286913, -0.014067532815286913, -0.018019953385906663, -0.019870545548340664, -0.016417100569209978, -0.014067532815286913, -0.018019953385906663, -0.018019953385906663, 1.0, -0.018019953385906663, -0.014628511585006925, 1.0, -0.03479125883831382, -0.011024881228050776, 0.07152893739957089, 1.0, -0.0193475850162842, -0.0393259112458414, -0.003055303332228395, -0.01959818894397657, 0.008519445371884359, -0.014067532815286917, -0.018243034296941265, 0.1009672327176989, -0.018019953385906663, -0.016399064732008216, -0.011524284293812881, -0.018019953385906663, -0.018019953385906663, 0.11527951937603875, -0.018019953385906663, -0.7017436190476194, -0.009642510476781423, 1.0, -0.018019953385906663, -0.018019953385906663, 0.09390883712984807, -0.014067532815286913, 0.9437531304100795, -1.0460000000000023, 0.09951277916597606, 0.928466348275453, -0.020000000000000014, -0.014067532815286913, 0.09390883712984807, -0.013646054287247338, -0.018019953385906663, -0.014067532815286913, 0.8700731256729157, -0.018531361541684135, -0.03388649893254309, 0.05235761486891825, 0.1075735907755082, 0.10093054803347362, -0.018019953385906663, -0.018019953385906663, -0.01297353205120675, -0.00815746034207971, -0.014067532815286913, -0.019593723317516843, -0.059159766328102055, 0.2376219732697207, -0.014067532815286913, -0.018019953385906663, -0.018847544907542455, -0.00828501711144397, -0.014067532815286917, -0.01845182725774861, 1.0, -0.018019953385906663, -0.020000000000000014, -1.0460000000000023, -0.018019953385906663, 1.0, -0.01665279402272243, 0.008662686427412932, 0.5806962214354556, -0.014067532815286913, 0.06753587628841284, -0.008550606672677642, -0.017206436213960976, -0.01959818894397657, -0.018019953385906663, -0.014127336409999637, -0.018019953385906663, -0.014067532815286913, -0.8717447706182702, -0.014067532815286913, 0.12852543414995427, -0.018019953385906663, -0.014067532815286913, -0.018019953385906663, -0.014067532815286917, -0.018019953385906663, -0.01844789657708893, -0.0393259112458414, 0.10941445712443011, 1.0, -0.01849682891986314, -0.004293014901284151, -0.018019953385906663, -0.014067532815286913, 0.2756487653963595, -0.019355208357849336, 0.025967325827224986, 1.0, -0.00828501711144397, -0.08105587965392833, -0.9538647380952391, -0.01959818894397657, -0.019373445252759285, -0.014067532815286913, -0.01674582373332753, -0.018019953385906663, 1.0, 0.04999346100308708, -0.020000000000000014, -0.018019953385906663, -0.018019953385906663, 1.0, -0.00028055399892284934, 0.1125441404525409, -0.014096629339292567, -0.018984111086886198, -0.020000000000000014, -0.019593723317516843, -0.018019953385906663, -0.044779674675957726, 0.10093054803347362, 0.33770302289537524, -0.014067532815286917, 0.017342650340359034, -0.018019953385906663, 0.7012465786148968, -0.00828501711144397, -0.01375746781304138, 1.0, 0.010301693024991199, -0.020000000000000014, -0.017206436213960976, -0.003891214465996094, -0.009714270340385394, 0.13587256568918965, -0.004293014901284151, 0.03520585055077898, -0.014067532815286913, -0.019373445252759285, 1.0, -0.01959818894397657, -0.019593723317516843, -0.018019953385906663, -0.018019953385906663, -0.01959818894397657, -0.018019953385906663, 0.2708685381236323, -0.016541782905402803, 0.7012465786148968, 0.030694204876377303, 1.0, 0.10093054803347362, 0.029831714659883563, -0.011024881228050776, -0.018019953385906663, -0.013907694491315405, -0.019373445252759285, -0.018019953385906663, -0.00828501711144397, -0.071273456012473, -0.01674582373332753, -0.018019953385906663, 0.187181662892663, -0.018984111086886198, -0.019593723317516843, 0.0004689067018956245, -0.014628511585006925, -0.018019953385906663, -0.01959818894397657, -0.01958628732394712, -0.018019953385906663, 1.0, -0.019373445252759285, 1.0, 0.4961558816764691, -0.018019953385906663, -0.0065129522667177, -0.029492842722951735, 0.8348325715625589, -0.013907694491315405, -0.014067532815286913, -0.018019953385906663, -0.030260000000000013, 0.021001464693890023, 0.024838105172881875, -0.011024881228050776, 0.027504909020252214, -0.01959818894397657, -0.019593723317516843, 0.021001464693890023, 0.002119173671285828, -0.011024881228050776, 1.0, -0.00815746034207971, -0.018019953385906663, -0.018019953385906663, -0.018019953385906663, -0.018988576713345928, 0.5522737371443375, -0.019593723317516843, -0.018019953385906663, -0.016417100569209978, 0.8306534799839715, -0.003935520818091814, -0.018981900324116986, -0.018019953385906663, -0.011024881228050776, 0.07494262361073996, -0.018019953385906663, 0.13707044010320263, 0.6653378423625423, -0.011024881228050776, -0.019053043181259843, -0.018019953385906663, -0.018019953385906663, -0.018019953385906663, 1.0, -0.018806904880027207, -0.00828501711144397, 0.7239215207763379, -0.014096629339292567, -0.018019953385906663, 1.0, -0.018019953385906663, -0.014067532815286913, -0.0181408121946472, -0.018019953385906663, 0.1109105387398419, -0.013907694491315405, -0.015712400428631913, -0.883452699189699, -0.014067532815286913, -0.011524284293812881, -0.01959818894397657, 0.009801429226608536, -0.01959818894397657, -0.018019953385906663, -0.018019953385906663, -0.013907694491315405, -0.01674582373332753, -0.013907694491315405, 0.09898105527525686, -0.013907694491315405, 0.010301693024991199, -0.019593723317516843, 0.1872871830436829, -0.01665279402272243, -0.011026122925078066, -0.018019953385906663, -0.01866458752057991, -0.014067532815286913, -0.014067532815286913, 0.034374306191523776, 1.0, -0.014067532815286913, -0.019660000000000014, -0.01959818894397657, -0.018019953385906663, -0.020000000000000014, -0.01959818894397657, -0.018019953385906663, -0.018019953385906663, -0.014067532815286913, -0.0006544489928178421, -0.018019953385906663, 1.0, -0.011524284293812881, -0.01959818894397657, 0.9895094929966046, -0.01934311938982447, -0.018238568670481535, -0.019373445252759285, -0.014835887790086426, 0.12914108411607728, -0.00828501711144397, -0.019997622151918967, -0.011524284293812881, -0.014835887790086426, -0.014067532815286913, -0.016444137195776334, -0.01959818894397657, -0.019057508807719573, 0.01083494754931424, -0.019373445252759285, -0.014067532815286913, -0.014067532815286913, -0.0393259112458414, 0.009677379782059198, 0.030694204876377303, 1.0, -0.018019953385906663, -0.016841320462898202, -0.018019953385906663, -0.020000000000000014, 0.1114508469796788, 0.09390883712984807, -0.0002626295010394236, -0.018019953385906663, 0.43548533333333306, 1.0, -0.017801823317638292, -0.019593723317516843, -0.014067532815286913, -0.018019953385906663, -0.018019953385906663, -0.013907694491315405, -0.018019953385906663, -0.0012653322231526787, -0.014067532815286913, -0.018558364651968137, -0.01959818894397657, -0.034519674675957734, 0.9895094929966046, 1.0, -0.019053043181259843, -0.01959818894397657, -0.018019953385906663, -0.014067532815286913, 0.11304894065250033, 1.0, -0.018019953385906663, -0.019053043181259843, -0.018019953385906663, 0.1009672327176989, 0.05227544965035208, -0.018019953385906663, 0.7512237487323303, -0.00828501711144397, -0.018019953385906663, -0.018019953385906663, -0.013907694491315405, 0.03384400079474466, 0.008613344164454821, -0.018019953385906663, -0.0181408121946472, -0.012834053938320013, -0.013907694491315405, 0.10093054803347362, -0.01959818894397657, -0.018531361541684135, -0.0006544489928178421, -0.018019953385906663, -0.018019953385906663, -0.014067532815286913, -0.014067532815286913, -0.018019953385906663, 0.0059957306606529944, -0.014295879079102852, -0.00028055399892284934, -0.009455857416342523, -0.018019953385906663, -0.014067532815286913, -0.00828501711144397, -0.018019953385906663, 1.0, -0.018019953385906663, 1.0, -0.00828501711144397, -0.014067532815286913, 0.0059957306606529944, -0.018869449800727574, -0.018852646527571907, -0.020000000000000014, -0.03498983948347511, 1.0, -0.013148575777561391, -0.018019953385906663, -0.01939475876269614, -0.018019953385906663, -0.004293014901284151, -0.014067532815286913, 0.021001464693890023, -0.014067532815286913, -0.014067532815286917, 0.10093054803347362, -0.018019953385906663, -0.018019953385906663, 0.021663314088937197, -0.019057508807719573, 1.0, 0.09898105527525686, -0.018019953385906663, 0.1009672327176989, -0.018019953385906663, -0.018019953385906663, -0.018019953385906663, -0.019053043181259843, -0.01674582373332753, -0.018869449800727574, -0.01297353205120675, -0.013907694491315405, 0.9661933503466449, -0.014067532815286913, -0.00828501711144397, -0.018019953385906663, 0.021001464693890023, 0.09390883712984807, -0.018019953385906663, -0.014096629339292567, -0.014067532815286913, -0.018019953385906663, -0.014067532815286913, -0.0393259112458414, -0.013646054287247338, -0.059159766328102055, -0.014067532815286913, 0.5967429230756585, -0.011862205478920217, -0.01936936723857489, -0.0146912822792044, -0.016662641714143344, -0.011024881228050776, 0.024838105172881875, 0.009801429226608536, 0.4381762971873524, -0.014067532815286917, -0.01959818894397657, 0.016443975851941194, -0.014067532815286913, -0.019593723317516843, 0.8164, -0.018019953385906663, -0.018019953385906663, -0.018019953385906663, -0.018019953385906663, -0.01829573892257036, 0.011732568057388482, 0.16868154791656081, 0.020308652528895313, -0.018019953385906663, 1.0, -0.014067532815286913, -0.014067532815286913, -0.011524284293812881, 0.025967325827224986, -0.014067532815286913, 0.017342650340359034, -0.018019953385906663, -0.012789054662427348, -0.014067532815286913, -0.019660000000000014, -0.018019953385906663, 0.02712721533584762, 0.020873675784709264, -0.000426327194799138, 0.01985068151440256, -0.0006544489928178421, -0.018019953385906663, -0.01959818894397657, -0.018019953385906663, -0.018019953385906663, -0.8717447706182702, 0.12914108411607728, 0.03384400079474466, -0.018848180901112177, -0.014067532815286913, 0.05079307139560693, 1.0, 0.09951277916597606, -0.015712400428631913, -0.20855864815673622, 0.3414979377472075, -0.018019953385906663, -0.01959818894397657, -0.019057508807719573, -0.23739929215592462, -0.01959818894397657, -0.01959818894397657, -0.00828501711144397, 0.7351770470921274, -0.018558364651968137, -0.014067532815286913, 0.011732568057388482, 0.7012465786148968, 0.1009672327176989, -0.00828501711144397, -0.018019953385906663, -0.018019953385906663, -0.014067532815286913, -0.018806904880027207, -0.018019953385906663, -0.019997622151918967, -0.018019953385906663, -0.018019953385906663, -0.018019953385906663, -0.019373445252759285, -0.016759432572861974, -0.018019953385906663, -0.014067532815286913, 0.07152893739957089, -1.0460000000000023, -0.006568445268512594, -0.01959818894397657, -0.018019953385906663, 0.0004689067018956245, 1.0, 0.7869587046857434, 0.7919149672636976, -0.018019953385906663, -0.018019953385906663, -0.018019953385906663, -0.018019953385906663, -0.8763564372849371, -0.018019953385906663, -0.009642510476781423, -0.018019953385906663, -0.01959818894397657, -0.018852646527571907, 0.9661933503466449, -0.018019953385906663, -0.015712400428631913, 0.07442837939505631, 0.02039283789846101, -0.018019953385906663, -0.018019953385906663, -0.01959818894397657, 0.011732568057388482, -0.014067532815286913, 0.09390883712984807, -0.00028055399892284934, -0.018984111086886198, 1.0, 1.0, -0.017598474857867086, -0.0193475850162842, -0.01959818894397657, -0.018019953385906663, -0.018019953385906663, -0.018019953385906663, -0.014067532815286913, -0.018019953385906663, -0.018019953385906663, -0.01959818894397657, -0.013907694491315405, -0.01152830633655083, -0.01959818894397657, -0.01959818894397657, -0.01959818894397657, 0.08567687783832226, -0.013907694491315405, -0.018019953385906663, 0.002119173671285828, 0.12914108411607728, -1.0460000000000023, -0.03498983948347511, 1.0, -0.016759432572861974, -0.0181408121946472, 1.0, -0.01674582373332753, -0.019373445252759285, -0.01959818894397657, 1.0, -0.018019953385906663, 0.036188995187893, -0.013699995087202176, 1.0, -0.013907694491315405, -0.018988576713345928, -0.018243034296941265, -0.018019953385906663, -0.013646054287247338, -0.01958182169748739, -0.018019953385906663, -0.014067532815286913, -0.019053043181259843, -0.004293014901284151, -0.019057508807719573, -0.01665279402272243, -0.018988576713345928, 0.10941445712443011, 0.029831714659883563, -0.019593723317516843, 0.017342650340359034, 0.777511166032591, -0.00431629022941682, -0.027075401527406236, 0.2708685381236323, 1.0, -0.018019953385906663, -0.018019953385906663, -1.0460000000000023, -0.01959818894397657, -0.018019953385906663, 0.021001464693890023, 0.1655906454542661, -0.01959818894397657, -0.00828501711144397, -0.0181408121946472, -0.029602644500494303, -0.01152830633655083, -1.0460000000000023, -0.011524284293812881, -0.018019953385906663, -0.004293014901284151, -0.018019953385906663, -0.018019953385906663, -0.013907694491315405, 0.07494262361073996, 0.05178188753403461, -0.018019953385906663, 0.010301693024991199, -0.01297353205120675, 0.019258457829883436, -0.014067532815286913, -0.011524284293812883, -0.018019953385906663, -0.018019953385906663, -0.009642510476781423, 0.025967325827224986, -0.00828501711144397, -0.0193475850162842, -0.018019953385906663, -0.01844789657708893, -0.0193475850162842, -0.014067532815286913, -0.0393259112458414, -0.014067532815286913, -0.01958628732394712, -0.00828501711144397, -0.014269914357064355, -0.05508114955173261, -0.020000000000000014, 1.0, -0.020000000000000014, 0.11203677203148825, -0.019057508807719573, -0.017206436213960976, -0.020000000000000014, -0.011524284293812881, 0.08802198253516741, 0.9940408355925492, -0.00815746034207971, -0.014067532815286913, -0.016759432572861974, -0.017206436213960976, -0.020000000000000014, 0.013486107925341764, -0.011024881228050776, 0.9640657086315475, 0.7869587046857434, -0.014067532815286913, -0.014390773165804893, -0.01939475876269614, -0.24029964815673627, -0.00828501711144397, -0.01674582373332753, -0.013907694491315405, -0.020000000000000014, -0.01959818894397657, -0.014628511585006925, -0.014067532815286913, -0.019997622151918967, -0.018852646527571907, 0.8253332356352044, -0.014067532815286917, -0.014067532815286913, -0.020000000000000014, 0.1114508469796788, -0.018019953385906663, 1.0, -0.018019953385906663, -0.014067532815286913, -0.017206436213960976, 0.9345982535627887, -0.016399064732008216, -0.018019953385906663, -0.019355208357849336, 0.0059957306606529944, -0.014067532815286913, -0.019057508807719573, -0.00828501711144397, -0.018019953385906663, -0.018019953385906663, -0.01297353205120675, -0.018019953385906663, -0.0193475850162842, -0.020000000000000014, -0.019057508807719573, 0.008501894917735293, -0.018019953385906663, 0.39505177803866454, -0.018019953385906663, -0.018019953385906663, -0.018019953385906663, -0.01152830633655083, -0.004293014901284151, -0.0393259112458414, -0.23739929215592462, 0.6159915476190474, 1.0, -0.010626457586157205, 0.021012509171062333, -0.018019953385906663, -0.020000000000000014, -0.014067532815286913, 0.9856661836096314, 0.4205275231871412, -0.014067532815286913, 1.0, -0.013907694491315405, -0.011024881228050776, -0.019373445252759285, 0.024838105172881875, -0.014067532815286913, -0.018019953385906663, -0.014067532815286913, -0.019660000000000014, -0.018019953385906663, -0.018019953385906663, -0.01674582373332753, 0.16798395553178552, -0.018558364651968137, -0.01845182725774861, -0.018019953385906663, 0.2694719350831797, -0.0393259112458414, -0.018019953385906663, 0.022685507483216183, 0.08754462473949397, -0.018988576713345928, -0.018052376553955925, -0.014067532815286913, -0.0181408121946472, -0.018019953385906663, 0.1114508469796788, -0.01665279402272243, -0.018107679915578358, -0.000926822633710276, -0.01959818894397657, -0.018019953385906663, -0.013988425373830464, -0.018852646527571907, -0.009642510476781423, -0.004293014901284151, -0.014067532815286913, -0.034519674675957734, -0.01959818894397657, -0.017686126691939717, -0.018019953385906663, -0.01845182725774861, -0.01845182725774861, -0.6644969999999997, 1.0, -0.01959818894397657, -0.018988576713345928, 0.5967429230756585, -0.018019953385906663, 0.016443975851941194, 0.10952227398583365, 0.07152893739957089, 1.0, -0.004293014901284151, -0.018019953385906663, -0.01959818894397657, -0.018019953385906663, -0.016541782905402803, -0.013907694491315405, 0.8133998995843703, -0.019057508807719573, -0.03835726211878133, -0.01959818894397657, -0.019053043181259843, -0.018019953385906663, -0.020000000000000014, -0.014067532815286913, -0.019373445252759285, 0.017342650340359034, -0.04941234469070875, -0.020000000000000014, -0.0193475850162842, -0.018019953385906663, -0.018019953385906663, 0.9919955615942029, 0.07026547251662774, 1.0, 1.0, -0.3733270401839105, -0.014067532815286917, -0.018609665941444677, -0.018019953385906663, -0.014067532815286913, -0.00747838021974971, 1.0, -0.01297353205120675, -0.019373445252759285, -0.018988576713345928, -0.011524284293812881, -0.018019953385906663, -0.018848180901112177, -0.01404272367891521, -0.004293014901284151, -0.018019953385906663, -0.0181408121946472, -0.013907694491315405, -0.018019953385906663, -0.0181408121946472, -0.020000000000000014, -0.011524284293812881, 0.002119173671285828, -0.019355208357849336, -0.018019953385906663, -0.011524284293812881, -0.014067532815286913, 0.29620463229285793, 0.052198728030796566, 0.777511166032591, 0.021001464693890023, -0.018019953385906663, 0.016443975851941194, 0.020873675784709264, -0.018981900324116986, -0.013907694491315405, 1.0, -0.014067532815286913, 0.10093054803347362, -0.014067532815286917, -0.01375746781304138, -0.014067532815286917, -0.018019953385906663, 0.002119173671285828, 0.4381762971873524, 0.11814056559215926, -0.011024881228050776, 1.0, -0.01829573892257036, -0.01959818894397657, -0.018019953385906663, 0.9661933503466449, -0.014067532815286913, 0.00474691115851791, -0.018019953385906663, 1.0, 0.06424641190309405, -0.0065129522667177, -0.018019953385906663, -0.018019953385906663, -0.014067532815286913, -0.01375746781304138, -0.014067532815286913, -0.0393259112458414, 0.43107838383470076, -0.013988425373830464, -0.013907694491315405, -0.015712400428631913, -0.020000000000000014, 0.017342650340359034, -0.017206436213960976, 0.9895094929966046, -0.014067532815286913, 1.0, 0.25242225141499713, 1.0, -0.013751998946461431, -0.004293014901284151, 1.0, 1.0, 0.594095193640154, 0.0004114281934879622, -0.014067532815286913, -0.014067532815286913, 0.1114508469796788, -0.01152830633655083, -0.020000000000000014, -0.00828501711144397, -0.01829573892257036, -0.013907694491315405, -0.018019953385906663, -0.014036368426829721, -1.0460000000000023, -0.018019953385906663, 0.9940408355925492, -0.018019953385906663, 0.6441876402603016, -0.020000000000000014, -0.018019953385906663, 1.0, -0.01959818894397657, -0.018019953385906663, -0.886879707126207, -0.019373445252759285, 0.5968916984126984, 0.0824123227866041, -0.014067532815286913, -0.020000000000000014, -0.011524284293812881, -0.018852646527571907, -0.018019953385906663, -0.018019953385906663, -0.00828501711144397, -0.01932463932641455, -0.018019953385906663, 0.030694204876377303, 0.5728266808528029, -0.0065129522667177, -0.0181408121946472, -0.015712400428631913, -0.011524284293812881, -0.013907694491315405, 0.2694719350831797, -0.00828501711144397, -0.018019953385906663, 0.021001464693890023, -0.018019953385906663, -0.018019953385906663, -0.019593723317516843, -0.018019953385906663, -0.018988576713345928, -0.018019953385906663, -0.018019953385906663, -1.0460000000000023, -0.018019953385906663, -0.020000000000000014, -0.018019953385906663, -0.020002565057571853, -0.014067532815286913, -0.018019953385906663, -0.01959818894397657, -0.018019953385906663, -0.01959818894397657, -0.013291535507085332, -0.014051480870607834, -0.018019953385906663, -0.014067532815286913, -0.014067532815286917, 0.1124203338615108, -0.014067532815286913, -0.00828501711144397, -0.019373445252759285, -0.019053043181259843, -0.018019953385906663, -0.014716801700608594, 4.1693024991199115e-05, 1.0, -0.01959818894397657, -0.019057508807719573, -0.018019953385906663, -0.01844789657708893, -0.0065129522667177, 0.05712081198977552, 0.010301693024991199, -0.003935520818091814, -0.018843079281082725, -0.01959818894397657, -0.011524284293812881, -0.014067532815286913, -0.013907694491315405, 1.0, -0.018019953385906663, -0.006568445268512594, -0.018019953385906663, -0.014036368426829721, -0.014067532815286913, 0.02117702907908425, -0.014067532815286913, -0.018019953385906663, -0.014067532815286913, -0.011524284293812881, -0.006568445268512594, -0.014067532815286913, -0.019997622151918967, 0.6128138809523812, -0.014067532815286913, -0.004293014901284151, -0.018019953385906663, -0.018019953385906663, -0.01424438150103614, -0.006997795312950611, 1.0, -0.018019953385906663, -0.018019953385906663, -0.013907694491315405, 1.0, -0.017206436213960976, -0.016654152434150152, -0.018019953385906663, -0.018558364651968137, -0.06285209878757882, -0.018852646527571907, -0.01808671150668584, -0.018019953385906663, -0.018019953385906663, -0.014662896040231237, -0.014067532815286913, -0.019373445252759285, -0.004293014901284151, -0.009642510476781423, -0.009778367381401597, 0.016443975851941194, -0.5442025396825401, -0.014067532815286913, 0.11304894065250033, -0.014067532815286917, -0.00828501711144397, -0.01870675537557822, 0.1109105387398419, 0.25242225141499713, 1.0, -0.01959818894397657, -0.014103556532289799, 1.0, 0.0642437139048347, -0.01959818894397657, -0.030260000000000013, -0.018019953385906663, -0.01845182725774861, -0.00828501711144397, -0.019373445252759285, -0.018019953385906663, 0.6653378423625423, 0.1655906454542661, -0.017206436213960976, -0.01959818894397657, -0.059159766328102055, -0.01959818894397657, -0.018019953385906663, -0.014067532815286913, -0.018019953385906663, 1.0, -0.01959818894397657, -0.014067532815286913, -0.013646054287247338, -0.019355208357849336, -0.01959818894397657, -0.014067532815286913, -0.011024881228050776, 0.0412305910330343, 0.777511166032591, -0.01959818894397657, -0.019373445252759285, 0.01834826208827582, 0.009677379782059198, 0.0004114281934879622, -0.019355208357849336, 1.0, -0.003055303332228395, -0.018019953385906663, -0.014067532815286913, 0.014431176062230922, -0.008453083214881757, -0.018019953385906663, 0.052198728030796566, -0.018019953385906663, -0.011024881228050776, -0.014067532815286913, -0.018019953385906663, -0.00431629022941682, -0.01959818894397657, -0.018558364651968137, -0.00815746034207971, -0.018019953385906663, 1.0, -0.006568445268512594, -0.00828501711144397, -0.011024881228050776, 0.13587256568918965, -0.018988576713345928, 1.0, -0.06034785139025578, -0.01935074273138961, -0.034519674675957734, -0.01882761418431876, -0.014067532815286913, -0.018019953385906663, -0.01882761418431876, 0.02756339439718971, -0.014067532815286917, -0.018019953385906663, 0.8306175715625589, -0.014067532815286913, -0.019373445252759285, -0.00828501711144397, -0.04941234469070875, -0.019373445252759285, -0.019373445252759285, 0.03076383387619337, -0.020000000000000014, -0.018019953385906663, 1.0, -0.009642510476781423, -0.019053043181259843, -0.01959818894397657, -0.01844789657708893, 0.021001464693890023, 0.014431176062230922, 1.0, -0.018019953385906663, -0.01424438150103614, -0.018019953385906663, 0.1655906454542661, -0.019373445252759285, 0.030694204876377303, -0.018806904880027207, -0.0193475850162842, -0.020000000000000014, -0.009642510476781423, -0.01959818894397657, 0.011732568057388482, -0.018019953385906663, -0.011024881228050776, 0.07494262361073996, 0.1114508469796788, 1.0, -0.018019953385906663, -0.07139866644799088, -0.020000000000000014, -0.01959818894397657, -0.01829127329611063, 0.4961558816764691, -0.018019953385906663, 1.0, -0.018019953385906663, 0.11814056559215926, -0.011524284293812881, -0.019593723317516843, 0.0059957306606529944, -0.018019953385906663, -0.013907694491315405, 0.7462511768464263, 0.4242458060941616, -0.01959818894397657, -0.019593723317516843, 1.0, -0.018019953385906663, 0.901781541430682, -0.014067532815286913, -0.013713333333333346, 0.021001464693890023, -0.019355208357849336, -0.014067532815286913, -0.019830625776864407, 0.8914826279146953, 0.024838105172881875, 1.0, -0.017598474857867086, 0.07068232314848562, -0.017206436213960976, -0.00828501711144397, -0.018019953385906663, 0.6005969298737373, -0.01375746781304138, -0.019593723317516843, -0.014067532815286913, -0.06143449746848652, -0.018019953385906663, 0.0004689067018956245, -0.0393259112458414, -0.018019953385906663, 0.1136487781337003, -0.016654152434150152, -0.014628511585006925, -0.019593723317516843, -0.011024881228050776, -0.018019953385906663, -0.01959818894397657, 1.0, -0.018019953385906663, -0.019373445252759285, -0.018019953385906663, -0.014067532815286913, -0.018019953385906663, -0.019373445252759285, 0.8313806345103049, 1.0, -0.0193475850162842, -0.018019953385906663, -0.018019953385906663, -0.018019953385906663, 0.40593023686235485, 0.9965933823529411, -0.018558364651968137, 0.07442837939505631, -0.014067532815286917, -0.01959818894397657, -0.014067532815286913, -0.019355208357849336, 0.8477130602401851, 1.0, -0.018019953385906663, -0.019057508807719573, -0.0065129522667177, -0.01234331261966666, 0.595501661729029, -0.014067532815286913, -0.01959818894397657, -0.011524284293812881, -0.014067532815286917, -0.018019953385906663, 0.4611800526721401, -0.01959818894397657, -0.019593723317516843, -0.001056899336359226, 1.0, -0.018019953385906663, 0.029831714659883563, -0.014067532815286917, 0.025967325827224986, -0.018019953385906663, -0.000426327194799138, -0.012983124252823875, -0.018019953385906663, -0.003055303332228395, 0.020308652528895313, -0.8792350087135087, -0.020000000000000014, -0.018019953385906663, -0.018019953385906663, -0.018019953385906663, -0.014254414038997097, -0.03388649893254309, 0.042157614868918246, 0.9727057979172617, -0.01375746781304138, -0.013533403314428278, -0.018988576713345928, -0.018852646527571907, -0.03274706216607379, 0.021001464693890023, -0.32084456174425474, -0.019593723317516843, -0.018019953385906663, -0.01959818894397657, -0.017206436213960976, 1.0, -0.018019953385906663, 1.0, -0.018019953385906663, -0.24978760017955676, -0.00828501711144397, 0.7084772125977861, 0.015295445822778912, -0.011524284293812883, 1.0, -0.019660000000000014, -0.013907694491315405, -0.018019953385906663, 0.029831714659883563, -0.00815746034207971, -1.0460000000000023, 0.11356787546358832, 1.0, -0.01959818894397657, 0.016443975851941194, -1.0460000000000023, -0.013533403314428278, -0.018019953385906663, -0.020002565057571853, -0.011024881228050776, -0.014067532815286913, -0.018019953385906663, -0.011524284293812881, 0.5557366359872548, -0.018019953385906663, -0.01959818894397657, -0.019373445252759285, -0.020000000000000014, -0.011524284293812881, 0.021001464693890023, 0.06424641190309405, -0.0006544489928178421, -0.013533403314428278, 1.0, -0.018019953385906663, 0.12914108411607728, -0.018019953385906663, -0.018614380246575475, -0.018019953385906663, 0.9965933823529411, -0.020000000000000014, -0.023675233696813063, 0.017342650340359034, 0.11356787546358832, 1.0, -0.014067532815286913, -0.018988576713345928, 0.016443975851941194, -0.018019953385906663, 0.9965933823529411, 0.8145398995843703, 0.9661933503466449, -0.01959818894397657, 0.020873675784709264, 0.13587256568918965, -0.018019953385906663, -0.01665279402272243, -0.018019953385906663, -0.0065129522667177, -0.014067532815286913, -0.014067532815286913, -0.018019953385906663, 1.0, -0.0181408121946472, -0.018019953385906663, -0.020000000000000014, -0.013907694491315405, -0.019593723317516843, -1.0460000000000023, -0.019053043181259843, -0.018019953385906663, -0.01958628732394712, 0.021001464693890023, -0.06143449746848652, 1.0, -0.014067532815286913, 0.5806962214354556, -0.011024881228050776, -0.19900631482340295, -0.018019953385906663, -0.018019953385906663, -0.018019953385906663, -0.013139413845364266, -0.014067532815286913, 0.4381762971873524, -0.7439433333333335, 0.02424815130428234, 0.11238364917728552, -0.2963620397662328, -0.03498983948347511, -0.01297353205120675, -0.01959818894397657, 0.05867174497117347, 0.39505177803866454, 1.0, 0.07145060161727854, -0.018019953385906663, -0.018852646527571907, -0.03498983948347511, -0.018019953385906663, -0.018019953385906663, 0.8700731256729157, -0.00828501711144397, -0.014067532815286913, -0.018019953385906663, -0.01849682891986314, -0.013907694491315405, -0.01932463932641455, -0.014067532815286913, -0.004293014901284151, 0.02712721533584762, -0.018019953385906663, -0.018019953385906663, -0.0193475850162842, -0.018019953385906663, -0.00015299722955858895, -0.018019953385906663, -0.01959818894397657, 0.002119173671285828, -0.018019953385906663, 0.1009672327176989, -0.013907694491315405, -0.018019953385906663, -0.019593723317516843, -0.018019953385906663, -0.018019953385906663, -0.018019953385906663, 0.7512237487323303, -0.018019953385906663, -0.00828501711144397, -1.0460000000000023, -0.018019953385906663, -0.01959818894397657, 1.0, -0.01660845977370249, -0.01959818894397657, -0.018019953385906663, -0.044779674675957726, 1.0, 0.12433694123485023, -0.018019953385906663, -0.00828501711144397, -0.018019953385906663, 0.24163980620382847, -0.06034785139025578, -0.020002565057571853, 1.0, -0.018019953385906663, 0.021012509171062333, -0.01959818894397657, -0.018019953385906663, -0.01152830633655083, 1.0, -0.018019953385906663, -0.003935520818091814, -0.059159766328102055, 0.15368553209845628, -0.014067532815286913, 0.007171215524976896, -0.014067532815286913, 0.016443975851941194, -0.018019953385906663, -0.014067532815286913, -0.029181920737136133, -0.000426327194799138, 0.7587086990819549, 0.0004689067018956245, -0.014067532815286913, -0.019057508807719573, -0.00828501711144397, -0.018019953385906663, -0.014067532815286913, -0.23739929215592462, -0.00828501711144397, -0.014067532815286913, -0.019373445252759285, -0.014067532815286913, 1.0, 1.0, -0.018019953385906663, -0.004293014901284151, -0.018019953385906663, -0.020000000000000014, -0.009642510476781423, -0.018019953385906663, -0.014067532815286913, 0.9133802665412165, -0.01665279402272243, -0.018019953385906663, -0.020000000000000014, -0.0193475850162842, -0.01959818894397657, -0.018019953385906663, -0.014067532815286913, 1.0, -0.003055303332228395, 0.2323840285712519, -0.01870675537557822, -0.011524284293812881, -0.019593723317516843, 1.0, -0.014067532815286913, -0.018019953385906663, -0.014067532815286913, 0.04118678735205271, -0.014067532815286913, -0.014067532815286917, -0.016759432572861974, -0.013907694491315405, -0.01959818894397657, -0.018019953385906663, -0.006860000000000015, 0.04207582007185309, -0.019053043181259843, -0.006997795312950611, -0.011024881228050776, -0.012834053938320013, 0.0059957306606529944, 1.0, -0.018019953385906663, -0.03388649893254309, -0.014067532815286913, -0.013907694491315405, -0.01959818894397657, -0.018019953385906663, -0.018019953385906663, 0.7239215207763379, -0.014067532815286913, 1.0, 0.9968234540994761, 0.07068232314848562, -0.014067532815286913, 0.008501894917735293, 0.020021514900755627, -0.014067532815286913, -0.018019953385906663, -0.014067532815286913, 0.010301693024991199, 1.0, -0.018019953385906663, -0.014390773165804893, -0.011024881228050776, -0.009642510476781423, -0.018019953385906663, -0.018019953385906663, 0.7869587046857434, -0.01297353205120675, 0.09390883712984807, -0.014067532815286913, 0.777511166032591, -0.019593723317516843, -0.01674582373332753, 0.9661933503466449, 0.07494262361073996, 0.01985068151440256, -0.018019953385906663, -0.0181408121946472, 0.02424815130428234, -0.018019953385906663, 1.0, 0.777511166032591, -0.23739929215592462, -0.014067532815286913, -0.014067532815286917, -0.018019953385906663, -0.018019953385906663, 1.0, -0.0002626295010394236, 0.036188995187893, -0.014067532815286913, 0.021001464693890023, -0.00815746034207971, -0.01674582373332753, 0.7012465786148968, -0.016759432572861974, 0.029831714659883563, -0.003055303332228395, -0.018019953385906663, -0.018019953385906663, 0.0059957306606529944, -0.014067532815286913, -0.019593723317516843, -0.012834053938320013, 0.11814056559215926, -0.014067532815286913, -0.01844789657708893, -0.020000000000000014, -0.018019953385906663, -0.013907694491315405, -0.0065129522667177, 0.02424815130428234, 1.0, -0.011024881228050776, -0.014067532815286913, -0.06143449746848652, 0.5228514519276182, -1.0460000000000023, -0.019373445252759285, 0.4844642011869776, -0.014067532815286913, -0.009642510476781423, 0.07442837939505631, 0.09898105527525686, -0.01959818894397657, 0.00909895813551003, 0.9752275498066865, -0.019522580460373983, -0.018019953385906663, 0.07152893739957089, -0.018019953385906663, 1.0, 0.02756339439718971, -0.018019953385906663, -0.883452699189699, -0.018019953385906663, 0.05227544965035208, 0.1109105387398419, 1.0, 1.0, 0.9965933823529411, -0.01959818894397657, -0.018019953385906663, 1.0, -0.004293014901284151, -0.019355208357849336, -0.01959818894397657, -0.01959818894397657, -0.020000000000000014, -0.019373445252759285, 0.12914108411607728, -0.014067532815286913, 0.1109105387398419, 0.11238364917728552, -0.01959818894397657, -0.015891678979866673, -0.018019953385906663, -0.018019953385906663, -0.01959818894397657, -0.019660000000000014, -0.034134146910126104, -0.014067532815286913, 0.09265943680544962, -0.019373445252759285, -0.009642510476781423, -0.014067532815286913, 1.0, 0.017330818809724393, -0.018019953385906663, 0.1114508469796788, 0.025967325827224986, -0.018019953385906663, -0.034519674675957734, -0.018019953385906663, 0.0059957306606529944, 0.1655906454542661, -0.01959818894397657, -0.01959818894397657, -0.01674582373332753, -0.014067532815286913, -0.014269914357064355, -0.013148575777561391, -0.014103556532289799, -0.018019953385906663, -0.059159766328102055, -0.016399064732008216, -0.003019976511864354, -0.018019953385906663, -0.016973575524765264, -0.0065129522667177, -0.01152830633655083, 0.4844642011869776, 0.6048899126984127, -0.0393259112458414, -0.01870675537557822, 1.0, 0.2756487653963595, -0.018019953385906663, -0.020000000000000014, -0.00815746034207971, -0.014067532815286913, -1.0460000000000023, -0.018290637302540907, 1.0, -0.018019953385906663, 0.0033846107626049034, 1.0, -0.014127336409999637, 0.09800919862371132, -0.018019953385906663, -0.014067532815286913, -0.019593723317516843, 0.07589952336998895, 0.0059957306606529944, -0.018984111086886198, -0.019340809003840453, -0.0193475850162842, 0.2756335065117511, 0.016443975851941194, 1.0, 0.5034266345598704, 0.21284907746407736, -0.018019953385906663, -0.0181408121946472, -0.014067532815286913, 0.9940990966386555, -0.0181408121946472, 0.0412305910330343, -0.00828501711144397, -0.018019953385906663, -0.003891214465996094, -0.014067532815286913, -0.018019953385906663, 0.8145398995843703, -0.013907694491315405, -0.014067532815286917, 0.8252213026432095, 0.0469333688995746, 0.03622567987211829, -0.019057508807719573, -0.014628511585006925, -0.019373445252759285, -0.020000000000000014, -0.020000000000000014, -0.01959818894397657, 0.9746442623975103, -0.01866458752057991, -0.004293014901284151, -0.018019953385906663, 0.8299844679232148, -0.017598474857867086, 0.7012465786148968, 1.0, 0.032004006581653616, -0.01377258025681949, -0.000426327194799138, -0.0181408121946472, 0.04298413090098758, -0.0181408121946472, -0.011024881228050776, -0.013907694491315405, -0.01152830633655083, 0.24211885922796783, -0.013907694491315405, -0.0065129522667177, -0.014067532815286913, -0.01674582373332753, 0.8947557603997707, -0.01844789657708893, -0.019373445252759285, -0.00828501711144397, 1.0, -0.018019953385906663, -0.01959818894397657, 0.9675196016814919, -0.018019953385906663, 1.0, -0.01959818894397657, -0.01958182169748739, -0.018019953385906663, 0.19024678092728078, -0.0393259112458414, 0.5228514519276182, -0.018019953385906663, 0.9661933503466449, -0.018019953385906663, 1.0, -0.00828501711144397, 0.011732568057388482, 0.9893306666666666, 0.1114508469796788, 0.5806962214354556, 0.025967325827224986, -0.00828501711144397, 0.03520585055077898, -0.020000000000000014, -0.00828501711144397, -0.016541782905402803, -0.01860204259987954, -0.018019953385906663, -0.018019953385906663, -0.03388649893254309, -0.014067532815286917, -0.019373445252759285, -0.018019953385906663, 0.9968234540994761, -0.01959818894397657, -0.014067532815286913, 0.0059957306606529944, -0.018019953385906663, -0.014067532815286913, -0.019340809003840456, -0.004293014901284151, 0.008501894917735293, -0.01959818894397657, -0.011024881228050776, -0.011524284293812881, -0.018019953385906663, 0.042150971402090606, 0.052198728030796566, -0.018019953385906663, -0.017801823317638292, -0.01829573892257036, -0.001984172063631952, 0.029831714659883563, -0.014067532815286913, -0.020000000000000014, -0.018019953385906663, -0.7017436190476194, 0.8145398995843703, -0.018019953385906663, -0.019373445252759285, 0.43107838383470076, -0.015712400428631913, 0.8546990519032092, -0.004495731501929772, -0.013533403314428278, 0.19320835545511073, -0.01860204259987954, -0.018019953385906663, -0.017206436213960976, -0.019373445252759285, 0.09898105527525686, -0.017206436213960976, -0.020819432572861975, 0.008501894917735293, -0.014067532815286913, -0.003935520818091814, -0.004293014901284151, -0.018984111086886198, -0.019373445252759285, -0.01959818894397657, 0.1136487781337003, 0.4420690050889197, -0.0006544489928178421, 0.8464256515984799, -0.004293014901284151, 0.9965933823529411, -0.071273456012473, 0.006765905503931083, 0.03622567987211829, 1.0, 1.0, -0.018019953385906663, -0.011524284293812881, -0.0065129522667177, 0.0004689067018956245, 0.7351770470921274, -0.01829573892257036, -0.018019953385906663, -0.019373445252759285, 0.7351770470921274, -0.00815746034207971, 0.08692001802215468, -0.018019953385906663, -0.004293014901284151, 0.014431176062230922, -0.013907694491315405, -0.014067532815286917, -0.014067532815286913, -0.018019953385906663, -0.24029964815673627, -0.019593723317516843, 0.029831714659883563, -0.018019953385906663, -0.018019953385906663, 0.09265943680544962, -0.013907694491315405, 0.9984438634809952, 1.0, 0.020873675784709264, -0.01152830633655083, -0.018019953385906663, -0.014067532815286913, 0.16868154791656081, -0.018558364651968137, -0.013907694491315405, 0.11238364917728552, -0.018019953385906663, -0.019053043181259843, -0.018019953385906663, -0.018019953385906663, 1.0, -0.018019953385906663, 0.9796, 0.006765905503931083, -0.06285209878757882, 0.027504909020252214, -0.01959818894397657, -0.018019953385906663, -0.01959818894397657, -0.0181408121946472, -0.018019953385906663, -0.014067532815286913, -0.018019953385906663, -0.014628511585006925, -0.020000000000000014, -0.013047249461802619, -0.018019953385906663, 1.0, -0.016759432572861974, -0.014067532815286913, -0.017206436213960976, -0.01959818894397657, -0.014067532815286913, 0.0412305910330343, -0.011024881228050776, -0.018019953385906663, -0.034134146910126104, 0.021001464693890023, 0.009677379782059198, -0.01959818894397657, -0.018019953385906663, -0.018019953385906663, -0.017206436213960976, -0.020000000000000014, -0.016399064732008216, -0.014269914357064355, -0.014628511585006925, 0.7950086389188857, -0.014096629339292567, -0.014103556532289799, -0.019320173699954823, -0.014067532815286913, -0.01935074273138961, -0.8803550087135088, 0.32221527552180923, -0.014067532815286913, -0.011024881228050776, -0.0181408121946472, 0.0059957306606529944, -0.0181408121946472, -0.018852646527571907, 1.0, -0.23739929215592462, -0.019373445252759285, -0.018019953385906663, 1.0, 0.036188995187893, -0.014067532815286913, -0.018019953385906663, -0.018848180901112177, -0.00828501711144397, -0.018019953385906663, -0.018019953385906663, -0.013907694491315405, -0.01959818894397657, -0.01959818894397657, -0.01959818894397657, 0.07494262361073996, -0.018019953385906663, -0.014067532815286913, -0.3376507553504575, 0.02039283789846101, -0.013907694491315405, 1.0, -0.018019953385906663, -0.0393259112458414, -0.018019953385906663, -0.018019953385906663, -0.014269914357064355, -0.044779674675957726, -0.018019953385906663, 0.9184184699371741, -0.018019953385906663, -0.018019953385906663, -0.018019953385906663, -0.018019953385906663, -0.018019953385906663, -0.01959818894397657, -0.014067532815286913, 1.0, -0.018019953385906663, -0.01959818894397657, -0.017801823317638292, -0.014310991522880963, 0.5226986085930712, 0.5967429230756585, -0.014628511585006925, 0.9940408355925492, 0.5694406951196662, 0.16868154791656081, -0.0181408121946472, -0.00828501711144397, -0.01959818894397657, -0.020000000000000014, -0.018019953385906663, -0.01958628732394712, -0.01665279402272243, -0.01959818894397657, -0.018019953385906663, -0.018019953385906663, -0.014067532815286913, -0.014067532815286917, -1.0460000000000023, 1.0, -0.014067532815286913, 0.9727057979172617, 0.01834826208827582, -0.018019953385906663, -0.0193475850162842, -0.9805552380952389, -0.018019953385906663, 1.0, -0.019997622151918967, -0.014067532815286913, -0.01844789657708893, -0.014067532815286917, 0.0004114281934879622, 0.5806962214354556, -0.003055303332228395, -0.016444137195776334, 0.003174151213344031, -0.017206436213960976, 0.10093054803347362, -0.01959818894397657, -0.0181408121946472, -0.018019953385906663, -0.020002565057571853, -0.020000000000000014, -0.018848180901112177, -0.018019953385906663, -0.018019953385906663, -1.0460000000000023, -0.029602644500494303, -0.008988387835891629, -0.020000000000000014, 1.0, 0.01834826208827582, -0.014127336409999637, -0.017206436213960976, -0.01424438150103614, 0.11238364917728552, -0.7647726031746038, 0.09004705962870936, -0.018852646527571907, -0.014067532815286913, -0.006568445268512594, -0.01959818894397657, -0.02615167897986667, -0.014067532815286913, -0.005220106971518026, -0.014067532815286913, -0.018988576713345928, 0.08988581249080854, -0.019057508807719573, 0.011522126829922439, 0.09390883712984807, 0.8332853333333332, 0.1436138775146115, 1.0, -0.014254414038997097, -0.0072400000000000155, -0.018558364651968137, -0.01959818894397657, 0.0275272365415107, -0.016541782905402803, 0.00409690721840759, -0.7579353174603176, -0.017598474857867086, -0.018019953385906663, 0.017342650340359034, -0.014067532815286913, 1.0, 0.013486107925341764, 0.4381762971873524, -0.00815746034207971, 0.9640657086315475, -0.014067532815286913, -0.018019953385906663, -0.020002565057571853, 0.0275272365415107, 0.9940408355925492, -0.004293014901284151, -0.019373445252759285, -0.018019953385906663, 0.2323840285712519, -0.020002565057571853, 0.07152893739957089, -0.013907694491315405, -0.013907694491315405, -0.018019953385906663, 1.0, -0.017206436213960976, -0.020000000000000014, 0.0412305910330343, -0.018019953385906663, -0.018019953385906663, -0.019373445252759285, -0.01959818894397657, -0.018019953385906663, -0.018019953385906663, -0.01375746781304138, -0.01959818894397657, -0.01959818894397657, -0.018019953385906663, -0.014067532815286913, -0.018019953385906663, -0.003055303332228395, 0.9796, 0.07152893739957089, 0.2631036544738363, -0.015712400428631913, -0.018019953385906663, -0.020000000000000014, -0.019593723317516843, -0.018019953385906663, 0.10093054803347362, -0.0181408121946472, -0.01959818894397657, -0.014067532815286913, 0.009677379782059198, -0.018019953385906663, -0.018019953385906663, -0.016654152434150152, -0.018243034296941265, -0.018019953385906663, 0.0004689067018956245, -0.0193475850162842, -0.018019953385906663, -0.00828501711144397, -0.013907694491315405, -0.0169811988663304, -0.020000000000000014, -0.008550606672677642, -0.014067532815286913, 1.0, -0.018019953385906663, -0.018019953385906663, 0.06753587628841284, 0.5868698310027913, 1.0, -0.018019953385906663, -0.014067532815286913, -0.009642510476781423, -0.014067532815286913, -0.018019953385906663, 0.1114508469796788, -0.014067532815286913, -0.01959818894397657, 0.0004114281934879622, 0.021001464693890023, -0.01674582373332753, -0.029602644500494303, -0.018019953385906663, -0.018019953385906663, -0.01870675537557822, -0.018019953385906663, 0.13707044010320263, -0.011024881228050776, -0.014628511585006925, -0.018019953385906663, -0.018019953385906663, -0.003891214465996094, -0.018019953385906663, -0.0193475850162842, 0.057340592542322495, -0.01959818894397657, 1.0, -0.018019953385906663, -0.004293014901284151, -0.018848180901112177, 0.1109105387398419, -0.018019953385906663, -0.017206436213960976, -0.018019953385906663, 2.931108667576305e-05, -0.014067532815286913, -0.01959818894397657, -0.06285209878757882, 0.41465105579224565, 0.599891753968254, -0.019053043181259843, -0.014067532815286913, -0.014067532815286913, -0.014067532815286917, -0.017206436213960976, -0.01870675537557822, -0.018019953385906663, -0.01297353205120675, -0.01297353205120675, -0.014067532815286913, 0.9995306666666667, -0.018019953385906663, -0.014067532815286913, -0.01674582373332753, 0.016443975851941194, -0.018019953385906663, 1.0, -0.018019953385906663, 0.1114508469796788, -0.018019953385906663, -0.014067532815286913, -0.018019953385906663, -0.01959818894397657, 0.029831714659883563, -0.01959818894397657, -0.018019953385906663, -0.01959818894397657, -0.014067532815286913, -0.018019953385906663, -0.014067532815286913, 0.021001464693890023, -0.014067532815286913, 0.2756487653963595, -0.018988576713345928, -0.01959818894397657, -0.014067532815286913, -0.0012653322231526787, -0.019373445252759285, -0.014067532815286913, 1.0, 0.9661933503466449, -0.01959818894397657, -0.01958628732394712, 0.21603607473890615, -0.014067532815286913, -0.01958628732394712, -0.03230190889470167, -0.018558364651968137, 0.02117702907908425, -0.018019953385906663, 1.0, -0.01152830633655083, -0.014628511585006925, 0.029831714659883563, -0.00028055399892284934, 0.187181662892663, -0.019053043181259843, -0.03704364455437052, -0.014067532815286913, 0.010301693024991199, -0.020000000000000014, 0.11693689833306661, 1.0, -0.014067532815286913, 0.7351770470921274, 1.0, -0.03388649893254309, -0.020000000000000014, -0.014067532815286917, -0.018019953385906663, -0.018019953385906663, -0.018019953385906663, -0.018019953385906663, -0.059159766328102055, -0.014067532815286913, -1.0460000000000023, -0.43866820393677, -0.014067532815286913, -0.014269914357064355, -0.2822602295187577, -0.06143449746848652, -0.011024881228050776, -0.014067532815286913, -0.020000000000000014, -0.00828501711144397, -0.014127336409999637, 0.9806788637372061, -0.018019953385906663, 0.1655906454542661, 0.016443975851941194, 0.2084252935940627, -0.019057508807719573, -0.01959818894397657, -0.018019953385906663, 1.0, -0.020000000000000014, -0.013751998946461431, -0.018019953385906663, 0.5798800714285719, -1.0460000000000023, -0.01297353205120675, -0.018019953385906663, -0.013751998946461431, 0.002119173671285828, -0.018019953385906663, 0.03622567987211829, -0.00815746034207971, -0.0193475850162842, -0.016444137195776334, -0.014067532815286913, -0.018019953385906663, 1.0, -0.013907694491315405, -0.018019953385906663, -0.018019953385906663, -0.018019953385906663, -0.019373445252759285, 0.10093054803347362, -0.018019953385906663, -0.018019953385906663, 1.0, 0.8577510091050171, -0.018019953385906663, -0.26081964815673636, -0.018019953385906663, -0.9738330714285727, -0.018019953385906663, -0.018019953385906663, -0.018019953385906663, -0.013646054287247338, 0.8145398995843703, -0.0193475850162842, -0.0193475850162842, -0.003935520818091814, -0.01844789657708893, 0.006159415102746464, -0.011024881228050776, 0.9167184699371741, 1.0, -0.018988576713345928, -0.016862235735657965, -0.018019953385906663, -0.018019953385906663, 0.18408597420770917, -0.018019953385906663, -0.013907694491315405, -0.018019953385906663, -0.04630361957917471, -0.059159766328102055, 1.0, -0.014067532815286913, 0.7525167064788092, -0.018558364651968137, -0.020000000000000014, -0.01297353205120675, -0.004293014901284151, -0.018019953385906663, -0.018019953385906663, -0.020000000000000014, 0.7587086990819549, -0.018019953385906663, -1.0460000000000023, 0.13281581434625878, -0.013646054287247338, -0.018019953385906663, -0.014067532815286917, -0.01959818894397657, -0.01959818894397657], \"xaxis\": \"x\", \"yaxis\": \"y\"}],                        {\"barmode\": \"relative\", \"legend\": {\"tracegroupgap\": 0}, \"template\": {\"data\": {\"bar\": [{\"error_x\": {\"color\": \"rgb(51,51,51)\"}, \"error_y\": {\"color\": \"rgb(51,51,51)\"}, \"marker\": {\"line\": {\"color\": \"rgb(237,237,237)\", \"width\": 0.5}}, \"type\": \"bar\"}], \"barpolar\": [{\"marker\": {\"line\": {\"color\": \"rgb(237,237,237)\", \"width\": 0.5}}, \"type\": \"barpolar\"}], \"carpet\": [{\"aaxis\": {\"endlinecolor\": \"rgb(51,51,51)\", \"gridcolor\": \"white\", \"linecolor\": \"white\", \"minorgridcolor\": \"white\", \"startlinecolor\": \"rgb(51,51,51)\"}, \"baxis\": {\"endlinecolor\": \"rgb(51,51,51)\", \"gridcolor\": \"white\", \"linecolor\": \"white\", \"minorgridcolor\": \"white\", \"startlinecolor\": \"rgb(51,51,51)\"}, \"type\": \"carpet\"}], \"choropleth\": [{\"colorbar\": {\"outlinewidth\": 0, \"tickcolor\": \"rgb(237,237,237)\", \"ticklen\": 6, \"ticks\": \"inside\"}, \"type\": \"choropleth\"}], \"contour\": [{\"colorbar\": {\"outlinewidth\": 0, \"tickcolor\": \"rgb(237,237,237)\", \"ticklen\": 6, \"ticks\": \"inside\"}, \"colorscale\": [[0, \"rgb(20,44,66)\"], [1, \"rgb(90,179,244)\"]], \"type\": \"contour\"}], \"contourcarpet\": [{\"colorbar\": {\"outlinewidth\": 0, \"tickcolor\": \"rgb(237,237,237)\", \"ticklen\": 6, \"ticks\": \"inside\"}, \"type\": \"contourcarpet\"}], \"heatmap\": [{\"colorbar\": {\"outlinewidth\": 0, \"tickcolor\": \"rgb(237,237,237)\", \"ticklen\": 6, \"ticks\": \"inside\"}, \"colorscale\": [[0, \"rgb(20,44,66)\"], [1, \"rgb(90,179,244)\"]], \"type\": \"heatmap\"}], \"heatmapgl\": [{\"colorbar\": {\"outlinewidth\": 0, \"tickcolor\": \"rgb(237,237,237)\", \"ticklen\": 6, \"ticks\": \"inside\"}, \"colorscale\": [[0, \"rgb(20,44,66)\"], [1, \"rgb(90,179,244)\"]], \"type\": \"heatmapgl\"}], \"histogram\": [{\"marker\": {\"colorbar\": {\"outlinewidth\": 0, \"tickcolor\": \"rgb(237,237,237)\", \"ticklen\": 6, \"ticks\": \"inside\"}}, \"type\": \"histogram\"}], \"histogram2d\": [{\"colorbar\": {\"outlinewidth\": 0, \"tickcolor\": \"rgb(237,237,237)\", \"ticklen\": 6, \"ticks\": \"inside\"}, \"colorscale\": [[0, \"rgb(20,44,66)\"], [1, \"rgb(90,179,244)\"]], \"type\": \"histogram2d\"}], \"histogram2dcontour\": [{\"colorbar\": {\"outlinewidth\": 0, \"tickcolor\": \"rgb(237,237,237)\", \"ticklen\": 6, \"ticks\": \"inside\"}, \"colorscale\": [[0, \"rgb(20,44,66)\"], [1, \"rgb(90,179,244)\"]], \"type\": \"histogram2dcontour\"}], \"mesh3d\": [{\"colorbar\": {\"outlinewidth\": 0, \"tickcolor\": \"rgb(237,237,237)\", \"ticklen\": 6, \"ticks\": \"inside\"}, \"type\": \"mesh3d\"}], \"parcoords\": [{\"line\": {\"colorbar\": {\"outlinewidth\": 0, \"tickcolor\": \"rgb(237,237,237)\", \"ticklen\": 6, \"ticks\": \"inside\"}}, \"type\": \"parcoords\"}], \"pie\": [{\"automargin\": true, \"type\": \"pie\"}], \"scatter\": [{\"marker\": {\"colorbar\": {\"outlinewidth\": 0, \"tickcolor\": \"rgb(237,237,237)\", \"ticklen\": 6, \"ticks\": \"inside\"}}, \"type\": \"scatter\"}], \"scatter3d\": [{\"line\": {\"colorbar\": {\"outlinewidth\": 0, \"tickcolor\": \"rgb(237,237,237)\", \"ticklen\": 6, \"ticks\": \"inside\"}}, \"marker\": {\"colorbar\": {\"outlinewidth\": 0, \"tickcolor\": \"rgb(237,237,237)\", \"ticklen\": 6, \"ticks\": \"inside\"}}, \"type\": \"scatter3d\"}], \"scattercarpet\": [{\"marker\": {\"colorbar\": {\"outlinewidth\": 0, \"tickcolor\": \"rgb(237,237,237)\", \"ticklen\": 6, \"ticks\": \"inside\"}}, \"type\": \"scattercarpet\"}], \"scattergeo\": [{\"marker\": {\"colorbar\": {\"outlinewidth\": 0, \"tickcolor\": \"rgb(237,237,237)\", \"ticklen\": 6, \"ticks\": \"inside\"}}, \"type\": \"scattergeo\"}], \"scattergl\": [{\"marker\": {\"colorbar\": {\"outlinewidth\": 0, \"tickcolor\": \"rgb(237,237,237)\", \"ticklen\": 6, \"ticks\": \"inside\"}}, \"type\": \"scattergl\"}], \"scattermapbox\": [{\"marker\": {\"colorbar\": {\"outlinewidth\": 0, \"tickcolor\": \"rgb(237,237,237)\", \"ticklen\": 6, \"ticks\": \"inside\"}}, \"type\": \"scattermapbox\"}], \"scatterpolar\": [{\"marker\": {\"colorbar\": {\"outlinewidth\": 0, \"tickcolor\": \"rgb(237,237,237)\", \"ticklen\": 6, \"ticks\": \"inside\"}}, \"type\": \"scatterpolar\"}], \"scatterpolargl\": [{\"marker\": {\"colorbar\": {\"outlinewidth\": 0, \"tickcolor\": \"rgb(237,237,237)\", \"ticklen\": 6, \"ticks\": \"inside\"}}, \"type\": \"scatterpolargl\"}], \"scatterternary\": [{\"marker\": {\"colorbar\": {\"outlinewidth\": 0, \"tickcolor\": \"rgb(237,237,237)\", \"ticklen\": 6, \"ticks\": \"inside\"}}, \"type\": \"scatterternary\"}], \"surface\": [{\"colorbar\": {\"outlinewidth\": 0, \"tickcolor\": \"rgb(237,237,237)\", \"ticklen\": 6, \"ticks\": \"inside\"}, \"colorscale\": [[0, \"rgb(20,44,66)\"], [1, \"rgb(90,179,244)\"]], \"type\": \"surface\"}], \"table\": [{\"cells\": {\"fill\": {\"color\": \"rgb(237,237,237)\"}, \"line\": {\"color\": \"white\"}}, \"header\": {\"fill\": {\"color\": \"rgb(217,217,217)\"}, \"line\": {\"color\": \"white\"}}, \"type\": \"table\"}]}, \"layout\": {\"annotationdefaults\": {\"arrowhead\": 0, \"arrowwidth\": 1}, \"autotypenumbers\": \"strict\", \"coloraxis\": {\"colorbar\": {\"outlinewidth\": 0, \"tickcolor\": \"rgb(237,237,237)\", \"ticklen\": 6, \"ticks\": \"inside\"}}, \"colorscale\": {\"sequential\": [[0, \"rgb(20,44,66)\"], [1, \"rgb(90,179,244)\"]], \"sequentialminus\": [[0, \"rgb(20,44,66)\"], [1, \"rgb(90,179,244)\"]]}, \"colorway\": [\"#F8766D\", \"#A3A500\", \"#00BF7D\", \"#00B0F6\", \"#E76BF3\"], \"font\": {\"color\": \"rgb(51,51,51)\"}, \"geo\": {\"bgcolor\": \"white\", \"lakecolor\": \"white\", \"landcolor\": \"rgb(237,237,237)\", \"showlakes\": true, \"showland\": true, \"subunitcolor\": \"white\"}, \"hoverlabel\": {\"align\": \"left\"}, \"hovermode\": \"closest\", \"paper_bgcolor\": \"white\", \"plot_bgcolor\": \"rgb(237,237,237)\", \"polar\": {\"angularaxis\": {\"gridcolor\": \"white\", \"linecolor\": \"white\", \"showgrid\": true, \"tickcolor\": \"rgb(51,51,51)\", \"ticks\": \"outside\"}, \"bgcolor\": \"rgb(237,237,237)\", \"radialaxis\": {\"gridcolor\": \"white\", \"linecolor\": \"white\", \"showgrid\": true, \"tickcolor\": \"rgb(51,51,51)\", \"ticks\": \"outside\"}}, \"scene\": {\"xaxis\": {\"backgroundcolor\": \"rgb(237,237,237)\", \"gridcolor\": \"white\", \"gridwidth\": 2, \"linecolor\": \"white\", \"showbackground\": true, \"showgrid\": true, \"tickcolor\": \"rgb(51,51,51)\", \"ticks\": \"outside\", \"zerolinecolor\": \"white\"}, \"yaxis\": {\"backgroundcolor\": \"rgb(237,237,237)\", \"gridcolor\": \"white\", \"gridwidth\": 2, \"linecolor\": \"white\", \"showbackground\": true, \"showgrid\": true, \"tickcolor\": \"rgb(51,51,51)\", \"ticks\": \"outside\", \"zerolinecolor\": \"white\"}, \"zaxis\": {\"backgroundcolor\": \"rgb(237,237,237)\", \"gridcolor\": \"white\", \"gridwidth\": 2, \"linecolor\": \"white\", \"showbackground\": true, \"showgrid\": true, \"tickcolor\": \"rgb(51,51,51)\", \"ticks\": \"outside\", \"zerolinecolor\": \"white\"}}, \"shapedefaults\": {\"fillcolor\": \"black\", \"line\": {\"width\": 0}, \"opacity\": 0.3}, \"ternary\": {\"aaxis\": {\"gridcolor\": \"white\", \"linecolor\": \"white\", \"showgrid\": true, \"tickcolor\": \"rgb(51,51,51)\", \"ticks\": \"outside\"}, \"baxis\": {\"gridcolor\": \"white\", \"linecolor\": \"white\", \"showgrid\": true, \"tickcolor\": \"rgb(51,51,51)\", \"ticks\": \"outside\"}, \"bgcolor\": \"rgb(237,237,237)\", \"caxis\": {\"gridcolor\": \"white\", \"linecolor\": \"white\", \"showgrid\": true, \"tickcolor\": \"rgb(51,51,51)\", \"ticks\": \"outside\"}}, \"xaxis\": {\"automargin\": true, \"gridcolor\": \"white\", \"linecolor\": \"white\", \"showgrid\": true, \"tickcolor\": \"rgb(51,51,51)\", \"ticks\": \"outside\", \"title\": {\"standoff\": 15}, \"zerolinecolor\": \"white\"}, \"yaxis\": {\"automargin\": true, \"gridcolor\": \"white\", \"linecolor\": \"white\", \"showgrid\": true, \"tickcolor\": \"rgb(51,51,51)\", \"ticks\": \"outside\", \"title\": {\"standoff\": 15}, \"zerolinecolor\": \"white\"}}}, \"title\": {\"text\": \"Test Predicted Emotion Range\"}, \"xaxis\": {\"anchor\": \"y\", \"domain\": [0.0, 1.0], \"title\": {\"text\": \"Predicted Emotion Strength\"}}, \"yaxis\": {\"anchor\": \"x\", \"domain\": [0.0, 1.0], \"title\": {\"text\": \"count\"}}},                        {\"responsive\": true}                    ).then(function(){\n",
       "                            \n",
       "var gd = document.getElementById('77f54e06-e075-4372-8d45-891af5f428ba');\n",
       "var x = new MutationObserver(function (mutations, observer) {{\n",
       "        var display = window.getComputedStyle(gd).display;\n",
       "        if (!display || display === 'none') {{\n",
       "            console.log([gd, 'removed!']);\n",
       "            Plotly.purge(gd);\n",
       "            observer.disconnect();\n",
       "        }}\n",
       "}});\n",
       "\n",
       "// Listen for the removal of the full notebook cells\n",
       "var notebookContainer = gd.closest('#notebook-container');\n",
       "if (notebookContainer) {{\n",
       "    x.observe(notebookContainer, {childList: true});\n",
       "}}\n",
       "\n",
       "// Listen for the clearing of the current output cell\n",
       "var outputEl = gd.closest('.output');\n",
       "if (outputEl) {{\n",
       "    x.observe(outputEl, {childList: true});\n",
       "}}\n",
       "\n",
       "                        })                };                });            </script>        </div>"
      ]
     },
     "metadata": {},
     "output_type": "display_data"
    }
   ],
   "source": [
    "y_hat = regr.predict(X_test)\n",
    "fig = px.histogram(x=y_hat,\n",
    "                   title='Test Predicted Emotion Range',\n",
    "                   labels={'x': 'Predicted Emotion Strength'},\n",
    "                   template='ggplot2')\n",
    "fig.show()"
   ]
  },
  {
   "cell_type": "code",
   "execution_count": null,
   "id": "attached-telephone",
   "metadata": {},
   "outputs": [],
   "source": []
  }
 ],
 "metadata": {
  "kernelspec": {
   "display_name": "ubienv",
   "language": "python",
   "name": "ubienv"
  },
  "language_info": {
   "codemirror_mode": {
    "name": "ipython",
    "version": 3
   },
   "file_extension": ".py",
   "mimetype": "text/x-python",
   "name": "python",
   "nbconvert_exporter": "python",
   "pygments_lexer": "ipython3",
   "version": "3.7.3"
  }
 },
 "nbformat": 4,
 "nbformat_minor": 5
}
